{
  "nbformat": 4,
  "nbformat_minor": 0,
  "metadata": {
    "colab": {
      "name": "212_guided-project-notes.ipynb",
      "provenance": []
    },
    "kernelspec": {
      "name": "python3",
      "display_name": "Python 3"
    },
    "widgets": {
      "application/vnd.jupyter.widget-state+json": {
        "a5a2e2f391064289a2c960edfa4bc17f": {
          "model_module": "@jupyter-widgets/controls",
          "model_name": "VBoxModel",
          "model_module_version": "1.5.0",
          "state": {
            "_view_name": "VBoxView",
            "_dom_classes": [
              "widget-interact"
            ],
            "_model_name": "VBoxModel",
            "_view_module": "@jupyter-widgets/controls",
            "_model_module_version": "1.5.0",
            "_view_count": null,
            "_view_module_version": "1.5.0",
            "box_style": "",
            "layout": "IPY_MODEL_1d9cd8837e384b24865a49f4bca9bd09",
            "_model_module": "@jupyter-widgets/controls",
            "children": [
              "IPY_MODEL_7b46b8d48b1b4d34a2edf15f260cb329",
              "IPY_MODEL_eb954db1606c410e9890f3272599432e",
              "IPY_MODEL_c2821535a66e4979a6ddfcc11b425f5d"
            ]
          }
        },
        "1d9cd8837e384b24865a49f4bca9bd09": {
          "model_module": "@jupyter-widgets/base",
          "model_name": "LayoutModel",
          "model_module_version": "1.2.0",
          "state": {
            "_view_name": "LayoutView",
            "grid_template_rows": null,
            "right": null,
            "justify_content": null,
            "_view_module": "@jupyter-widgets/base",
            "overflow": null,
            "_model_module_version": "1.2.0",
            "_view_count": null,
            "flex_flow": null,
            "width": null,
            "min_width": null,
            "border": null,
            "align_items": null,
            "bottom": null,
            "_model_module": "@jupyter-widgets/base",
            "top": null,
            "grid_column": null,
            "overflow_y": null,
            "overflow_x": null,
            "grid_auto_flow": null,
            "grid_area": null,
            "grid_template_columns": null,
            "flex": null,
            "_model_name": "LayoutModel",
            "justify_items": null,
            "grid_row": null,
            "max_height": null,
            "align_content": null,
            "visibility": null,
            "align_self": null,
            "height": null,
            "min_height": null,
            "padding": null,
            "grid_auto_rows": null,
            "grid_gap": null,
            "max_width": null,
            "order": null,
            "_view_module_version": "1.2.0",
            "grid_template_areas": null,
            "object_position": null,
            "object_fit": null,
            "grid_auto_columns": null,
            "margin": null,
            "display": null,
            "left": null
          }
        },
        "7b46b8d48b1b4d34a2edf15f260cb329": {
          "model_module": "@jupyter-widgets/controls",
          "model_name": "FloatSliderModel",
          "model_module_version": "1.5.0",
          "state": {
            "_view_name": "FloatSliderView",
            "style": "IPY_MODEL_4acd985661924cea9b703c2cdb3bbc8e",
            "_dom_classes": [],
            "description": "slope",
            "step": 0.5,
            "_model_name": "FloatSliderModel",
            "orientation": "horizontal",
            "max": 5,
            "_view_module": "@jupyter-widgets/controls",
            "_model_module_version": "1.5.0",
            "value": 2,
            "_view_count": null,
            "disabled": false,
            "_view_module_version": "1.5.0",
            "min": -5,
            "continuous_update": true,
            "readout_format": ".2f",
            "description_tooltip": null,
            "readout": true,
            "_model_module": "@jupyter-widgets/controls",
            "layout": "IPY_MODEL_6c4fe18126694dcea8c7e3f97473a773"
          }
        },
        "eb954db1606c410e9890f3272599432e": {
          "model_module": "@jupyter-widgets/controls",
          "model_name": "FloatSliderModel",
          "model_module_version": "1.5.0",
          "state": {
            "_view_name": "FloatSliderView",
            "style": "IPY_MODEL_e8557be347e6468dbbe4117e7a333503",
            "_dom_classes": [],
            "description": "intercept",
            "step": 2,
            "_model_name": "FloatSliderModel",
            "orientation": "horizontal",
            "max": 61.79,
            "_view_module": "@jupyter-widgets/controls",
            "_model_module_version": "1.5.0",
            "value": 46,
            "_view_count": null,
            "disabled": false,
            "_view_module_version": "1.5.0",
            "min": 44,
            "continuous_update": true,
            "readout_format": ".2f",
            "description_tooltip": null,
            "readout": true,
            "_model_module": "@jupyter-widgets/controls",
            "layout": "IPY_MODEL_5208a3f93d9042fd80d535fa5a997925"
          }
        },
        "c2821535a66e4979a6ddfcc11b425f5d": {
          "model_module": "@jupyter-widgets/output",
          "model_name": "OutputModel",
          "model_module_version": "1.0.0",
          "state": {
            "_view_name": "OutputView",
            "msg_id": "",
            "_dom_classes": [],
            "_model_name": "OutputModel",
            "outputs": [
              {
                "output_type": "display_data",
                "data": {
                  "image/png": "iVBORw0KGgoAAAANSUhEUgAABI8AAAGDCAYAAACiDzDeAAAABHNCSVQICAgIfAhkiAAAAAlwSFlzAAALEgAACxIB0t1+/AAAADh0RVh0U29mdHdhcmUAbWF0cGxvdGxpYiB2ZXJzaW9uMy4yLjIsIGh0dHA6Ly9tYXRwbG90bGliLm9yZy+WH4yJAAAgAElEQVR4nOzdfZzVdZ3//8dLQblQwSssBhQSHQwhIZiJNdLUhK5cbLvcLjS3slor98I2++62buZmS9dt9V27UL/bxa+2jCxbNVQSW2JEcCETzAsEBgUUwRwZYPD9++OcGQecM3OYOZ85V4/77cYN5nPOeZ/XmVHOk9d5X0RKCUmSJEmSJKknB5W7AEmSJEmSJFUum0eSJEmSJEkqyOaRJEmSJEmSCrJ5JEmSJEmSpIJsHkmSJEmSJKkgm0eSJEmSJEkqyOaRpH1ERGNE3BsRf4qIj5a7HkmSpHpgBpNUyWweSWUSEa+MiP+JiB0RsS0ifhsRs8pdF/Bx4I6U0uEppa/uf2NETImIW/M1b4+IeyLidWWoM3MR8Z6ISBHxvm7XDo2I/xsRm/Pfg19EREO32xdHRHtEPJP/tbaX8fsa65SIuD3/38iDEXF+dq9WkqT6YAarTBFxTP5n8WT+9S2NiNO73X5qRNwSEU9ERCowxtsj4v6IaIuIhyJiToH7RUR8JiJa8/8dLI6IKd1uvy4idnfLc89ExMGlf9VS9bB5JJVBRBwB/BL4GnAU0AD8C7CrnHXlnQDc18vtvwB+DbwIGAN8FHh6EOraR0QMyXj8I4FP8sLvxceA2cA0YCzwFLmfY3eXpJQOy/9q7OVpCo6Vf30/J/ffyVHAB4DvRcTJA3ldkiTVMzPYwGWYwZ4BLgKOBY4EPgf8otvz7QF+DPxVgbpek3/Me4HDgVcBDxd4rrfkn2sOuf8OlgL/ud99/q1bnjsspbS3vy9MqgU2j6TyOBkgpfTDlNLelNLOlNKtKaVVABFxRUR8r/POETEhPwNmSP7rxflPS/4n/0nILyLi6Ij4fkQ8HRF3R8SEQk8eEedFxH35T3UWR8Qp+eu3A68G/j0/7sn7Pe4YYCLwrZTS7vyv36aU7up2n8si4rGI2BQRF+XrntSt7u6zeC6MiO6P/UpEbMi/hnu6f1qU/578JCK+FxFPAxdGxKiI+E7++Vrz35OD8/efFBG/yX+a9ERE/OgAf0afBb4KPLHf9YnALSmlzSmlduBHwJT9H1yk3saaTK6h9KX8fyO3A78F3t3P55IkSWawzvtWXAZLKbWnlNamlJ4DAthLrol0VP72tSml71C4wfYvwKdTSr9LKT2XUmpNKbUWuO9E4K6U0sP5ptD3gJcWU6dUr2weSeXxALA3Iq6PiNfmZ7kcqLeTayQ0ACeS+8TkWnJvsPcD/9zTg/Jh5IfApeQ+2fkVuU91DkkpnQUs4fmZMw/s9/AngQfJzYCZHxHH7Tf2PODvgdcAJwHnHOBruhs4Lf8afgD8V0QM63b7nwM/AUYD3weuAzqAScB04FygMxhdCdxKLnSMo9vsoIj4ZUR8olAREdEEzAT+bw83fwc4PSLGRsQI4J3Af+93n8/mw9JvI+LMXl5vMWPtUxpwai+3S5Kk3pnBelYRGSx/n1VAO3Aj8O2U0pa+is83rmYCx0Zuqf/GiPj3iBhe4CH/H3BiRJwcEUOBC4Cb97vPhyO3RPCeiPiLvmqQap3NI6kMUkpPA68EEvAtYGtE3Lh/EOjDtSmlh1JKO8g1HB5KKS1KKXUA/0XujbwnbwNuSin9OqW0B/g8MBz4syLqTuQ+FVsHfAF4LCLujIiT8nd5a76u36eU2oArDuD1kFL6XkrpyZRSR0rpC8ChQPdlX0tTSgvzn0gdAbwOuDSl1JYPFl8iF+ggN7X5BGBs/pOsu7o9zxtSSlf3VEM+fHyDXHh7roe7/BHYALSSmyp+CvDpbrf/A/AScoHyGnKh8MQCL7m3sdYCW4DLImJoRJwLnAGMKDCWJEnqgxms4Phlz2Dd7jMt/xx/CdzV2327OQ4YCryZ3FK008j9HP6xwP0fy4+9FthJbhnb33S7/avkmnBjgH8Crotu+y9J9cjmkVQmKaX7U0oXppTGkZtNMhb48gEMsbnbn3f28PVhBR43Fni0Wx3PkWtgNBS4//51b0wpXZJSOpFcMGgD/l+3sTd0u/uj+z++NxHx95Hb5HBHRGwHRgHHdLtL97FPIBcSHstP/d4O/Ae5N3nIbToZQEt+evhFRZbxYWBVSul3BW7/OrlAdTQwEriBbrOFUkrLUkp/SintSildT26pWaHNLAuOlQ+V84HXA48Df0dunf/GIl+HJEnqgRnshSokg3XJN51+CHwiIl5WxEN25n//WkrpsZTSE8AXKZzBPgXMAsYDw8gtebs9PxOclNKKbs20X5GbbfWmA30dUi2xeSRVgJTSGnLTfzuXJLWx7wyTF5Xw6TaRe9MHcqdNkHvjLLQmvKCU0gZyDZDOuh/Lj9Xp+P0eUvB15dfWf5zcJ2dHppRGAzvIhY+up+z25w3kNrc8JqU0Ov/riJTSlHxtj6eU3p9SGgtcDHyjc91/H84Gzo+IxyPicXKfBn4hIv49f/tpwHUppW0ppV3kpmI35fci6Ena7zV01+tYKaVVKaUzUkpHp5TmkpvR1FLEa5AkSUUwg1VUBuvJUHL5p1cppafIfcDWvc4eT2TLOw34Ub4h15FSuo7cMrtC+x71luekumDzSCqDiJgcEX8XEePyX48H3gF0zna5F3hVRBwfEaOAy0v49D8GXh8RZ+fXeP8duQDwP0XUfWRE/Et+I8SD8k2Oi7rV/WNymyi+NP/Jzf5r/u8F3hQRI/IhovtpGYeTWzu/FRgSEZ8iN2W5Rymlx8itp/9CRByRr+fEiDgjX+tbOr+/5E4xS0BPy9D2dyG55WOn5X8tJ/dp1P/J33438J78RpFDyc1U2pRSeiIiRkfE3IgYFhFDIuKd5E762H8NPX2NlX8N0/JjjYiIvwdeTC7gSpKkfjCDVW4Gi4hXRMQrI+KQiBgeEf9AbjnasvztEbl9mA7Jfz0sIg7tNsS1wEciYkzk9rL6G3In6/XkbuAtEXFcvv53k2tUPZgf+80RcVj+tnOBd5Hbg0mqWzaPpPL4E9AMLIuINnJv/L8nFyJIKf2a3Mlbq4B7KPzGd8BSSmvJvQF+jdxJYm8E3phS2l3Ew3cDE4BF5Pbo+T250HNhfuz/Jjft+3Zyb7637/f4L+XH2AxcT24KcKdbyDVZHiA31bqdfadI9+Q95ALEH8iFk5+Qa7BAbirysoh4htyb/cdSSg8DRMR/R8QnexowpbQ9/4nZ4ymlx/P1Pp3f1wBym1G2k9uvaCu56dDn528bCnwmf/0J4CPA/JTf9DIi5uTroYixILcZ52Pk9j46G3hNfoaSJEnqHzNYhWYwckv5v05uc/BWcrno9SmlTfnbTyC3PK3ztLWd5PYs6nQluabQA+Q2Ll8JXJV/3uMjd4pd54yszwH/S66ptp1co+kvUkrb87d/LF/DdmAB8P6U0uI+vidSTYvc3muSlI2ISMBJKaUHy12LJElSvTCDSSolZx5JkiRJkiSpIJtHkiRJkiRJKshla5IkSZIkSSrImUeSJEmSJEkqyOaRJEmSJEmSChpS7gKKccwxx6QJEyaUuwxJkpSRe+6554mU0rHlrkP7MoNJklTbis1gVdE8mjBhAsuXLy93GZIkKSMR8Wi5a9ALmcEkSaptxWYwl61JkiRJkiSpIJtHkiRJkiRJKsjmkSRJkiRJkgrKbM+jiGgEftTt0kuATwH/L399ArAOeGtK6ams6pAk1Z49e/awceNG2tvby12KDtCwYcMYN24cQ4cOLXcpNcsMJkmqZua8bAw0g2XWPEoprQVOA4iIg4FW4GfAJ4DbUkpXR8Qn8l//Q1Z1SJJqz8aNGzn88MOZMGECEVHuclSklBJPPvkkGzduZOLEieUup2aZwSRJ1cycV3qlyGCDtWztbOChlNKjwJ8D1+evXw/MH6QaJEk1or29naOPPtpAUWUigqOPPtpPEgeXGUySVFXMeaVXigw2WM2jtwM/zP/5uJTSY/k/Pw4cN0g1SJJqiIGiOvlzG3RmMElS1TEvlN5Av6eZN48i4hDgPOC/9r8tpZSAVOBxH4iI5RGxfOvWrRlXKUlS8datW8epp56a2fiLFy/mDW94AwA33ngjV199dWbP1V9nnnkmy5cvH/B9lB0zmCRJtaV7RhzIffpjMGYevRZYkVLanP96c0S8GCD/+5aeHpRSuialNDOlNPPYY48dhDIlSao85513Hp/4xCfKXYaqkxlMkqRB1tHRUe4SMjEYzaN38Px0aYAbgQvyf74A+Pkg1CBJUkl1dHTwzne+k1NOOYU3v/nNPPvsswB8+tOfZtasWZx66ql84AMfIDfBA7761a/y0pe+lGnTpvH2t78dgLa2Ni666CKampqYPn06P//5C98Sr7vuOi655BIALrzwQj760Y/yZ3/2Z7zkJS/hJz/5Sdf9FixYwKxZs5g2bRr//M//3GPNhx12GJdddhlTpkzhnHPOoaWlhTPPPJOXvOQl3HjjjUBun4H3vve9TJ06lenTp3PHHXcAsHPnTt7+9rdzyimncP7557Nz586ucW+99VZmz57NjBkzeMtb3sIzzzwz0G+vSsMMJklSP3zxi1/k1FNP5dRTT+XLX/4y8MKZ55///Oe54oorgNxs60svvZSZM2fyla98ZZ+xrrjiCi644ALmzJnDCSecwA033MDHP/5xpk6dyrx589izZw8At912G9OnT2fq1KlcdNFF7Nq1C4Cbb76ZyZMnM2PGDG644YaucYvJkaWU2WlrABExEngNcHG3y1cDP46IvwIeBd6aZQ2SpBp3z6Xw1L2lHfPI0+DlX+71LmvXruU73/kOp59+OhdddBHf+MY3+Pu//3suueQSPvWpTwHw7ne/m1/+8pe88Y1v5Oqrr+aRRx7h0EMPZfv27QBcddVVnHXWWXz3u99l+/btNDU1cc455/T6vI899hh33XUXa9as4bzzzuPNb34zt956K3/84x9paWkhpcR5553HnXfeyate9ap9HtvW1sZZZ53FggULOP/88/nHf/xHfv3rX/OHP/yBCy64gPPOO4+vf/3rRASrV69mzZo1nHvuuTzwwAN885vfZMSIEdx///2sWrWKGTNmAPDEE0/wmc98hkWLFjFy5Eg+97nP8cUvfrHre6DyMINJkmrBpTdfyr2Plzbnnfai0/jyvMI575577uHaa69l2bJlpJRobm7mjDPO4Mgjj+x13N27dxdcrv/QQw9xxx138Ic//IHZs2fz05/+lH/7t3/j/PPP56abbmLevHlceOGF3HbbbZx88sm85z3v4Zvf/CYf/OAHef/738/tt9/OpEmTeNvb3tY1Zn9y5EBkOvMopdSWUjo6pbSj27UnU0pnp5ROSimdk1LalmUNkiRlYfz48Zx++ukAvOtd7+Kuu+4C4I477qC5uZmpU6dy++23c9999wEwbdo03vnOd/K9732PIUNyn93ceuutXH311Zx22mmceeaZtLe3s379+l6fd/78+Rx00EG89KUvZfPmzV3j3HrrrUyfPp0ZM2awZs0a/vjHP77gsYcccgjz5s0DYOrUqZxxxhkMHTqUqVOnsm7dOgDuuusu3vWudwEwefJkTjjhBB544AHuvPPOruvTpk1j2rRpAPzud7/jD3/4A6effjqnnXYa119/PY8++mi/v68qDTOYJEn9c9ddd3H++eczcuRIDjvsMN70pjexZMmSPh/XvbGzv9e+9rVdmWvv3r375LF169axdu1aJk6cyMknnwzABRdcwJ133smaNWuYOHEiJ510EhHRlcWgfzlyIDKdeSRJUub6mCGUlf1PrIgI2tvb+fCHP8zy5csZP348V1xxRdeRqDfddBN33nknv/jFL7jqqqtYvXo1KSV++tOf0tjYuM9YnU2hnhx66KFdf+5cEpdS4vLLL+fiiy8u9DAAhg4d2lX3QQcd1DXWQQcd1O/1+SklXvOa1/DDH/6w7ztLkiQdgN5mCA22IUOG8Nxzz3V9vf+x9yNHjiz42O6Za/88NpAMdqA5ciAGY88jSZJqzvr161m6dCkAP/jBD3jlK1/ZFSKOOeYYnnnmma49iZ577jk2bNjAq1/9aj73uc+xY8cOnnnmGebOncvXvva1ribQypUr+1XL3Llz+e53v9u111BraytbtvS4F3Kf5syZw/e//30AHnjgAdavX09jYyOvetWr+MEPfgDA73//e1atWgXAK17xCn7729/y4IMPArmlcQ888EC/nluSJKnc5syZw8KFC3n22Wdpa2vjZz/7GXPmzOG4445jy5YtPPnkk+zatYtf/vKXJXvOxsZG1q1b15Wn/vM//5MzzjiDyZMns27dOh566CGAfT6sK1WOLJYzjyRJ6ofGxka+/vWvc9FFF/HSl76UD33oQ4wYMYL3v//9nHrqqbzoRS9i1qxZAOzdu5d3vetd7Nixg5QSH/3oRxk9ejT/9E//xKWXXsq0adN47rnnmDhxYr+CyLnnnsv999/P7NmzgdzG2N/73vcYM2bMAY/14Q9/mA996ENMnTqVIUOGcN1113HooYfyoQ99iPe+972ccsopnHLKKbz85S8H4Nhjj+W6667jHe94R9fGjp/5zGe6pl1LkiRVkxkzZnDhhRfS1NQEwPve9z6mT58OwKc+9SmamppoaGhg8uTJJXvOYcOGce211/KWt7yFjo4OZs2axQc/+EEOPfRQrrnmGl7/+tczYsQI5syZw5/+9CeAkuXIYkVnl6qSzZw5MxXaeEqSVH/uv/9+TjnllHKXoX7q6ecXEfeklGaWqSQVYAaTJA02c152BpLBXLYmSZIkSZKkgmweSZIkSZIkqSCbR5IkSZIkSSrI5pEkqSpVw559eiF/bpIkqS/mhdIb6PfU5pEkqeoMGzaMJ5980mBRZVJKPPnkkwwbNqzcpUiSpAplziu9UmSwISWsR5KkQTFu3Dg2btzI1q1by12KDtCwYcMYN25cucuQJEkVypyXjYFmMJtHkqSqM3ToUCZOnFjuMiRJklRi5rzK5LI1SZIkSZIkFWTzSJIkSZIkSQXZPJIkSZIkSVJBNo8kSZIkSZJUkM0jSZIkSZIkFWTzSJIkSZIkSQXZPJIkSZIkSVJBNo8kSZIkSZJUkM0jSZIkSZIkFWTzSJIkSZIkSQXZPJIkSZIkSVJBNo8kSZIkSZJUkM0jSZIkSZIkFWTzSJIkSZIkSQXZPJIkSZIkSVJBNo8kSZIkSZJUkM0jSZIkSZIkFWTzSJIkSZIkSQXZPJIkSZIkSVJBNo8kSZIkSZJUkM0jSZIkSZIkFWTzSJIkSZIkSQXZPJIkSZIkSVJBNo8kSZIkSZJUkM0jSZIkSZIkFWTzSJIkSZIkSQVl2jyKiNER8ZOIWBMR90fE7Ii4IiJaI+Le/K/XZVmDJElSvTGDSZKkUhqS8fhfAW5OKb05Ig4BRgBzgS+llD6f8XNLkiTVKzOYJEkqmcyaRxExCngVcCFASmk3sDsisnpKSZKkumcGkyRJpZblsrWJwFbg2ohYGRHfjoiR+dsuiYhVEfHdiDiypwdHxAciYnlELN+6dWuGZUqSJNUUM5gkSSqpLJtHQ4AZwDdTStOBNuATwDeBE4HTgMeAL/T04JTSNSmlmSmlmccee2yGZUqSJNUUM5gkSSqpLJtHG4GNKaVl+a9/AsxIKW1OKe1NKT0HfAtoyrAGSZKkemMGkyRJJZVZ8yil9DiwISIa85fOBv4QES/udrfzgd9nVYMkSVK9MYNJkqRSy/q0tY8A38+f8vEw8F7gqxFxGpCAdcDFGdcgSZJUb8xgkiSpZDJtHqWU7gVm7nf53Vk+pyRJUr0zg0mSpFLKcs8jSZIkSZIkVTmbR5IkSZIkSSrI5pEkSZIkSZIKsnkkSZIkSZKkgmweSZIkSZIkqSCbR5IkSZIkSSrI5pEkSZIkSZIKsnkkSZIkSZKkgmweSZIkSZIkqSCbR5IkSZIkSSrI5pEkSZIkSZIKsnkkSZIkSZKkgmweSZIkSZIkqSCbR5IkSZIkSSrI5pEkSZIkSZIKsnkkSZIkSZKkgmweSZIkSZIkqSCbR5IkSZIkSSrI5pEkSZIkSZIKsnkkSZIkSZKkgoaUuwBJkg7EwpWtLLhlLZu272Ts6OFcNreR+dMbyl2WJElSzTJ/yeaRJKlqLFzZyuU3rGbnnr0AtG7fyeU3rAYwwEiSJGXA/CVw2ZokqYosuGVtV3DptHPPXhbcsrZMFUmSJNU285fA5pEkqYps2r4TgKah62kauv4F1yVJklRa5i+By9YkSVVk7OjhtPYQVMaOHl6GavrPfQMkSVK1qJX8BWawgSjYPIqIG4t4/LaU0oWlK0eSpMIum9vYtca+0/ChB3PZ3MYyVXTg3DdAfTGDSZIqSS3kLzCDDVRvM49OAd7Xy+0BfL205UiSVFjnG/uNN22gbVcHDVX4iVFv+wZU0+tQpsxgkqSKUQv5C8xgA9Vb8+j/pJR+09uDI+JfSlyPJEm9mj+9gWGbxwMwb95ZZa7mwHXfNwCgZc/x+1yXMINJkipMtecvMIMNVMHmUUrpx/tfi4hhwCEppacL3UeSpKxNmDCh3CX0Wy3tG6BsmMEkSZWomvMXmMEGqujT1iLifcBC4KcR8dnsSpIkqXeTJ09m8uTJ5S6jXy6b28jwoQfvc60a9w3Q4DGDSZIqQTXnLzCDDVTB5lFEnLffpXNSSvNSSq8BXpdtWZIkFdbR0UFHR0e5y+iX+dMb+OybpnLYoUMIoGH0cD77pqmutVcXM5gkqRJVc/4CM9hA9bbn0dSI+Cvgn1NK9wKrIuLbQALuG5TqJEnqwaJFiwCYN29emSvpn1rYN0CZMoNJkipOtecvMIMNRG97Hl0VES8CPh0RAfwTcDgwPKW0arAKlCSpFlX7vgHKjhlMkqTsmMH6p7eZRwBtwKXAScA1wHLg37IuSpKkWlfNewZoUJjBJEnKgBmsf3rb8+gzwE+BXwKvTimdB9wL/Coi3jNI9UmSVJOqfd8AZccMJklSdsxg/dPbaWtvSCmdC5wNvAcgpXQjcC5w5CDUJklSzVq0aFHX3gHSfsxgkiRlxAzWP70tW/t9RFwDDAd+03kxpdQBfKWYwSNiNPBt4FRymzxeBKwFfgRMANYBb00pPdWP2iVJdWrSpEnlLkHKkhlMklRxzF/1rbcNs98VEVOBPSmlNf0c/yvAzSmlN0fEIcAI4JPAbSmlqyPiE8AngH/o5/iSpDpkeFEtM4NJkiqR+au+9bbn0YyU0ureQktEzOjltlHAq4DvAKSUdqeUtgN/Dlyfv9v1wPz+FC5Jql/t7e20t7eXuwwpE2YwSVIlMn/Vt972PLo2Io6MiKMK/SIfSgqYCGzNj7MyIr4dESOB41JKj+Xv8zhwXE8PjogPRMTyiFi+devW/rw2SVKNWrx4MYsXLy53GVJWzGCSpIpj/qpvve15NAq4B4he7tNbohgCzAA+klJaFhFfITc9uktKKUVE6unBKaVryB1Ny8yZM3u8jyRJ1cqp3+qFGUySpIyYwfqntz2PJgxw7I3AxpTSsvzXPyEXXDZHxItTSo9FxIuBLQN8HkmSqo7BRYWYwSRJyo4ZrH96W7Y2ICmlx4ENEdGYv3Q28AfgRuCC/LULgJ9nVYMkSZXKfQOUFTOYJEmFmcH6p7dla6XwEeD7+VM+HgbeS65h9eOI+CvgUeCtGdcgSVLF6dwzYN68eeUtRLXKDCZJUg/MYP2TafMopXQvMLOHm87O8nklSbWtsbGx7zsVaeHKVhbcspZN23cydvRwLpvbyPzpDSUbXyoHM5gkqdRKmb/ADFZt+mweRUQA7wReklL6dEQcD7wopdSSeXWSJPVg4sSJJRln4cpWLr9hNTv37AWgdftOLr9hNYDhRWVnBpMkVZJS5S8wg1WjYvY8+gYwG3hH/us/AV/PrCJJkvrQ1tZGW1vbgMdZcMvartDSaeeevSy4Ze2Ax5ZKwAwmSaoYpcpfYAarRsU0j5pTSn8NtAOklJ4CDsm0KkmSerFkyRKWLFky4HE2bd8JQNPQ9TQNXf+C61KZmcEkSRWjVPkLzGDVqJg9j/ZExMFAAoiIY4HnMq1KkqRBMHb0cFp7CCljRw/P/LlLvW+AapIZTJJUk8xg1aeYmUdfBX4GjImIq4C7gH/NtCpJkgbBZXMbGT704H2uDR96MJfNzT5UTJw4saR7B6gmmcEkSTXJDFZ9ep15FBEHAY8AHyd3OkcA81NK9w9CbZIkZapzQ8Ybb9pA264OGgbxpI/OPQNGjhyZ+XOp+pjBJEm1zAxWfXptHqWUnouIr6eUpgNrBqkmSZIGzfzpDQzbPB6AefPOGrTn7dwzYN68eYP2nKoeZjBJUq0zg1WXYvY8ui0i/gK4IaWUsi5IkqS+TJkypaTjTZgwoaTjSSViBpMkVYxS5y8wg1WTYppHFwN/C3RERDu5adMppXREppVJklTA+PHjSzre5MmTSzqeVCJmMElSxSh1/gIzWDXps3mUUjp8MAqRJKlYO3bsAGDUqFElGa+jowOAIUOK+UxFGhxmMElSJSl1/gIzWDUp6icUEUcCJwHDOq+llO7MqihJknqzdOlSoHRr1RctWlTS8aRSMYNJkipFqfMXmMGqSZ/No4h4H/AxYBxwL/AKYCkweDtaSZJUY7LYN0C1xQwmSVLpmcH6p5iZRx8DZgG/Sym9OiImA/+abVmSpL4sXNnKglvWsmn7TsYO4vGmKo0s9g1QzTGDSVIFMoNVNzNY/xTTPGpPKbVHBBFxaEppTUQ0Zl6ZJKmghStbufyG1ezcsxeA1u07ufyG1QCGlyqRxb4BqjlmMEmqMGaw6mcG65+DirjPxogYDSwEfh0RPwcezbYsSVJvFtyytiu0dNq5Zy8Lbllbpop0oJYuXdq1d4BUgBlMkiqMGaz6mcH6p5jT1s7P//GKiLgDGAXcnGlVkqRebdq+E4CmoesBaNlz/D7Xa920adNKOt6kSZNKOp5UCmYwSao89ZzBSp2/wAxWTYo9be1g4DjgkfylFwHrs8r4QmcAACAASURBVCpKktS7saOH09pDSBk7engZqhl8Y8eOLel4BhdVKjOYJFWWes5gpc5fYAarJn0uW4uIjwCbgV8DN+V//TLjuiRJvbhsbiPDhx68z7XhQw/msrn1sR3Ktm3b2LZtW8nGa29vp729vWTjSaVgBpOkylPPGazU+QvMYNWk2NPWGlNKT2ZdjCSpOJ0bMt540wbadnXQUGcnfbS0tAAwb968koy3ePHiko4nlYgZTJIqTD1nsFLnLzCDVZNimkcbgB1ZFyJJOjDzpzcwbHPuqNF5884qczU6UFnsG6CaYwaTpApkBqtuZrD+Kdg8ioi/zf/xYWBxRNwE7Oq8PaX0xYxrkyT1YcKECeUuQf2Uxb4Bqg1mMEmqfGaw6mUG65/eZh4dnv99ff7XIflfkqQKMXny5HKXoH7q3DPgqKOOKnMlqkBmMEmqcGaw6mUG65+CzaOU0r/sfy0ijgS2p5RSplVJkorS0dEBwJAhRR2eqQqSxb4Bqg1mMEmqfGaw6mUG65/elq19CvhxSmlNRBwK/DdwGtAREX+ZUlo0WEVKknq2aFHur+J6e/ObMWNGScdrbKz9E1JUPcxgklT56jGDlTp/gRmsmvTWJn0bcGX+zxcABwHHAicD1wMGF0lSWYwZM6ak402cOLGk40kDZAaTJFWcUucvMINVk4N6uW13t6nRc4EfppT2ppTup7hT2iRJysSWLVvYsmVLycZra2ujra2tZONJA2QGkyRVnFLnLzCDVZPemke7IuLUiDgWeDVwa7fbRmRbliRJha1YsYIVK1aUbLwlS5awZMmSko0nDZAZTJJUcUqdv8AMVk16+/TqY8BPyE2T/lJK6RGAiHgdsHIQapMkqWZlsW+AaoYZTJKkjJjB+qe309aWAS84fzCl9CvgV1kWJUkqzqRJk8pdgvopi30DVBvMYJJU+cxg1csM1j+um5ekKmZwqV6dewYYYCRJqj5msOplBstJKfHI9keKvr/NI0mqYu3t7QAMGzaszJXoQHXuGVBPR/xKklQrzGDVq14z2FM7n6KltYVlrctY1rqMltYWnnj2iaIfb/NIkqrY4sWLgfp782tqairpeFOmTCnpeJIkqbbVYwYrdf4CM1hWdu/dzf8+/r9dTaJlrct44MkHAAiCU449hTee/EaaG5r54BUfLGrMPptHETEC+Dvg+JTS+yPiJKAxpfTLAbwWSZL67aijjirpeOPHjy/peFIpmMEkSZWk1PkLzGCl0Ln8bNnGZV2zilY+tpJde3cB8KLDXkRzQzMXvOwCmhuamdUwiyMOPaLr8R+kRM0j4FrgHmB2/utW4L8Ag4skqSw2bdoEwNixY0sy3o4dOwAYNWpUScaTSsQMJkmqGKXOX2AG64/elp8NHzKcl499OZc0XUJzQzPN45oZf8R4ImLAz1tM8+jElNLbIuIdACmlZ6MUzyxJUj+tWrUKKF14Wbp0KVBfU89VFcxgkqSKUer8BWawvhzI8rPmcc2cOuZUhhyUze5ExYy6OyKGAwkgIk4EdmVSjSRJdSKLfQNUc8xgkiSVWKVmsIEuP8taMc2jK4CbgfER8X3gdOC9xQweEeuAPwF7gY6U0syIuAJ4P7A1f7dPppR+dWBlS5IAGhsby12C+imLfQNUc67ADCZJFckMVr0qJYN1X37W+ftgLD/rrz6bRymlWyPiHuAVQAAfSykVf54bvLqH+38ppfT5AxhDktSDiRMnlrsE9VMW+waotpjBJKlymcGqVzky2O69u1m1edU+s4rKtfysv4o5be22lNLZwE09XJMklVFbWxsAI0eOLHMlOlBZ7Bug2mIGk6TKZQarXllnsGKXn134sgtpamga9OVn/VWweRQRw4ARwDERcSS5T7wAjgAaihw/AbdGRAL+I6V0Tf76JRHxHmA58Hcppaf6Vb1UQRaubGXBLWvZtH0nY0cP57K5jcyfXuz/KlL/LFmyBKi/TQZnz57d950OwLRp00o6njQQZjDpwJjBVA71mMFKnb+gNjJYtS0/66/eZh5dDFwKjAVWdLv+NPDvRY7/ypRSa0SMAX4dEWuAbwJXkgs1VwJfAC7a/4ER8QHgAwDHH398kU8nlcfCla1cfsNqdu7ZC0Dr9p1cfsNqAMOLlIFSH+fq7B9VGDOYVCQzmDR4Sp2/oPoyWC0sP+uvgq8ipfQV4CsR8ZGU0tf6M3hKqTX/+5aI+BnQlFK6s/P2iPgW8MsCj70GuAZg5syZqT/PLw2WBbes7QotnXbu2cuCW9YaXKQMbNiwAYDx48eXZLxt27YBlbOBouqbGUwqnhlMGjylzl9Q2Rls/+VnLa0trHhsRdUvP+uvYlpg/xERHwVelf96Mbnpz3t6e1BEjAQOSin9Kf/nc4FPR8SLU0qP5e92PvD7/pUuVY5N23cC0DR0PQAte47f57qk0rrvvvuA0oWXlpYWoL6mnqsqmMGkPpjBpMFT6vwFlZXBntr5FHdvunufZtHWZ3MHlNbS8rP+KqZ59A1gaP53gHeTm/b8vj4edxzws/w3cwjwg5TSzRHxnxFxGrkp0+vITc2WqtrY0cNp7SGkjB09vAzVSKoGWewboJpjBpP6YAaTdKBmz57Nnr17WL5pea/Lz95w8hu6GkVTjp3C0IOHlrny8iqmeTQrpfSybl/fHhH/29eDUkoPAy/r4fq7D6A+qSpcNrexa319p+FDD+ayuY1lqkj1YsqUKeUuQf2Uxb4BqjlmMKkPZjCVixmsehS7/OyCl11Ac0NzzS8/669imkd7I+LElNJDABHxEmBvH4+R6krnmvobb9pA264OGjzpQ4OklNOGNbiy2DdANccMJvXBDKZy8f27crn8LBvFNI8uA+6IiIfJHRV7AvDeTKuSqtD86Q0M25x7E5k376wyV6P91eoxvjt27ACcxVKNstg3QDXHDCYVwQxW2cxgylIxp591Lj9ramji1DGn1v3ys/4q2DyKiF8BPwAWAicBnXM/16aUdg1CbVLVmTBhQrlLUA9q+RjfpUuXApWxyeBgmjNnTknHmzFjRknHkwbCDCYdODNYZTKD1ZZS5y84sAzW1/Kz40YeR/O455efzRw7k1HDbO6VSm8zj/4DeDvwRXKne/wQuCmltHsQ6pKq0uTJk8tdgnrgMb61Z+TIkSUdb8yYMSUdTxogM5h0gMxglckMVltKnb+g9wzm8rPKUrB5lFL6OfDziBgBvBF4D/DNiPhvcqd2/HqQapSqRkdHBwBDhhSzIlSDxWN8a88jjzwCwMSJE0sy3pYtWwCbSKoMZjDpwJnBKpMZrLaUOn/B8xls9NGj+1x+9vqTX59rFDU0u/ysDPr82zWl9CzwI+BHETENuJ5ciDk449qkqrNo0SKgvqavVgOP8a09a9euBUoXXlasWAH4/64qixlMKp4ZrDKZwWpLqfJX9+Vnq/5nFZuf2cwPdv7A5WcVrs/mUUQcB7yV3PTpFwM/Bi7MtixJKh2P8VUlymLfANUWM5ikamcGExS5/Kzhkq5NrY8fdbzLzypQbxtmvx94B7lNGn8KXJZS+p/BKkySSqWWj/GdNm1auUtQP2Wxb4BqgxlMUq0wg9Wfvk4/m3zMZJefVaneZh7NBj4L3JZSem6Q6pGkTNTqMb5jx44tdwnqpyz2DVDNMINJqhlmsNrl6Wf1pbcNsy8azEIkKWu1eIzvtm3bADjqqKPKXIkOVKn3bVLtMINJqjVmsNqwq2MXj7c9zpW/ufIFy8+GDRnGy1/8cv561l/TPC43q8jlZ7XF4wikEpo0aVK5S1AvavEY35aWFqD+Ngg988wzSzpeU1NTSceTJA0uM1hlM4NVn56Wnz365KMA7Fqzi1OO8fSzemPzSCohg0tl8xjf2jFs2LCSjldPnxpKUi0yg1U2M1hl61x+1tLa0tUsKrT8rKmhiVljZ7n8rA4Vc9raF4DvppTuG4R6pKrW3t4OlP4ftioNj/GtHQ8++CBQun8sbNq0CXD/AlUWM5hUPDNYZTODVZbt7dv3aRS5/EzFKKb1ez9wTUQMAa4FfphS2pFtWVJ1Wrx4MeAbo5S1UjePVq1aBdg8UsUxg0lFMoNJPeu+/KxlU65htPbJtV23u/xMxeqzeZRS+jbw7YhoBN4LrIqI3wLfSindkXWBkiTVolLv26TaYwaTJB2IlBLrtq/L7VHUy/Kz97zsPS4/0wEratFpRBwMTM7/egL4X+BvI+LilNLbM6xPktSLGTNmlLsE9ZNLK1QMM5gkVaZKyGAuP9NgKmbPoy8BbwBuB/41pdSSv+lzEbG28CMlSVkbM2ZMuUtQP5V66Z1qjxlMkirXYGew3Xt3s3rz6q6Tz1x+psFWzMyjVcA/ppTaerjNs40lVY1a/Ef6li1bAJtI1cjmkYpgBpNUE2rxvS7LDObyM1WiYppH70opXdv9QkTcllI6200bpX01NjaWuwT1ohaDy4oVK4D62yD0nHPOKel4s2fPLul4UomYwaQimcEqmxmsd53Lz1paW7oaRi4/U6Up2DyKiGHACOCYiDgS6Pyv8wigYRBqkyrOwpWtLLhlLZu272Ts6OFcNreR+dOf/99h4sSJZaxOffEY39oxZEhRW/YVbdQoP61T5TCDSS9kBqtuZrDn7dm7J3f6mcvPVGV6S98XA5cCY4F7eD64PA38e8Z1SRVn4cpWLr9hNTv37AWgdftOLr9hNUBXeGlry60sGDlyZHmKVK88xrd2rFmzBoDJkyeXZLwNGzYAMH78+JKMJw2QGUzqxgxW/eo1g+2//KxlUwsrHltBe0eumebyM1WTgs2jlNJXIuLfgU+mlK4cxJqkirTglrVdoaXTzj17WXDL2q7gsmTJEqD+3hilwbZu3TqgdM2j++67D7B5pMpgBpP2ZQZTtdjevp27W+/umlXU0trClrbc3kidy88+PPPDLj9TVep13n9KaW9EvAkob3B5ei0sOrOsJUhfOOpJOAru3/EyAE4Z9b/P37jo6Nzv6/PruRddPcjVqSi1+POpxddUjFK/7jJ8H885KAb9OVU9KiaDSRVg0/adADQNXQ9Ay57j97kulcNz6TmeePYJvnH3NwouP3vdSa+juaGZE+NEJoyewEknnlTGiqWBKWbTiNsi4i+AG1JKKeuCat3ND+f+gTLvJQ+WuZLC/mPlTAAunr48k/G3PDsCgDEjns1k/IHo7edzyJCD2d2xd9+mUf56p/0fVw0/7/5Y8+QxAEw++okyV3Jg+vo5PPjUUQBMOnJb1fzsDqS+anlNxSj1ayjH92TIQb6lqk9mMAkYO3o4rT00isaOHl6GalSPui8/69zU+uFND7N77262/X5b1/Kzd097N83jml+w/Ozmm2/moa0P2TxSVSumeXQx8LdAR0S0k1t3n1JKR2RaWXdHNMI5iwft6bI0Jb+vBhW8NOJFbT/P/eGcz2cyfkUfKH7zzbnfz3nhlOf1+623Bxg+9GA++6apzJheYP/SXsarZuvyr2tyjb2uB/Ova9I582rzZ1eLr0k1xGn7PSh/BpMqwGVzG7v2OOo0fOjBXDbXE9aUjWKWn/3lrL90+ZnqSp/No5TS4YNRSL2ohv00sj6yesuW3F+8Y8ZUXhvpzDPPLHhb55r63k762N+cOXNKXaIGyZQpU8pdgqQ6ZwaTcjqz1o03baBtVwcNRWQwVZbGxspt9BVz+tnrTnodTWObaB7XzNQxUz39THWpqLOO88fEngR0na2YUrozq6Jq2Y4dO4DKPhZ6165dmY6/YsUKoDI3NOzr+ND50xsOKKjU4okfC1e2cuPyXHi78t7baza8VUOjV1LtM4NJOfOnNzBsc+69ed68s15wez186LNwZesBfYhZSSZOnFjuEoCel591P/1szMgxNDcUXn4m1bM+m0cR8T7gY8A44F7gFcBS4IV/a6tPS5cuBSqzcdLp7rvvBurzH88PPpjb92TSpEklGe+RRx4BKucNc6A6j8qdSgfQ81G5taIaGr2SapsZTNrXhAkTCt5W67l14X7bJ1RbBmtrawMG/4NVTz+TSqeYmUcfA2YBv0spvToiJgP/mm1ZKqetW7eWu4SyKXXzaO3a3JTXWmkedR2V222m7v5H5daKamj0HqjelmVKqkhmMKmbyZMnF7yt1j/06cpg3VRTBluyZAmQba7qa/nZ5GMm89pJr6W5oXnQl5+ZwVQLimketaeU2iOCiDg0pbQmIip30aqkzHQeidt5RO7+16vdOeecU+4SMtXXskxJFccMJnXT0ZGb+TxkyAv/CVOLH/p015m1moauB57PYrWSwQ5UtS0/M4OpFhTTPNoYEaOBhcCvI+Ip4NFsy5JUiWr9qNyewmgtKfXMOkmZM4NJ3SxatAio3QZRb2o9g/WlmOVnH5r5oa5ZRSeMOqGilp+ZwVQLivmX0vtTStuBKyLiDmAUcHO2ZamWNTU1lbsE9VPnUbndp03X0lG5a9asAXqfFl/NDC5S1TGDSQKez2Dd1VIG666Sl5/1lxlMtaBg8ygi3gh8F9gTEc8Bb00p/WbQKqtR06ZNK3cJfRo7dmym4x911FGZjq/sdK6pr9aTPvqybt06oHabR5KqgxlM0v46s9aNN+VOvG2okQx2IMvPmhqamNUwi9HDRpe5aqk+9Tbz6CpgTn59fTPwb8AZg1NW7cq6MVMKp59+eqbjb9q0CajM70Wp97ypxc3x5k9vqPqgUoxqaPRKqllmMEkvMH96A8M2506Vmzevug5dnDJlClB4+dk85nFwHAzj4K8n/zVTx0zljKlnVNzyM6me9dY86kgprQFIKS2LiMMHqaaatm3bNqCyZ990nlaRVY2rVq0CKrN5VOo9b9wcr3osXNnKjctzn+Zdee/tNfFpnqSqZQaTDlC9fOgzYcKEcpdQtP2Xn7W0trDmiTVdt3cuPxv2XCNt9w1h1+4RPLXlFF453QwmVaLe/qU8JiL+ttDXKaUvZldW7WppaQEqe6O/FStWALVzvPyBKPWeN65vrg4LV7Zy+Q2rmUruFJfW7Tu56oa72fXMDt4256Vlrk5SHTKDST3oLU9V4oeSWajUpfUpJR7d8SjLNi7rahZ1X3527IhjaR7XzDunvpPmhuau5WfPZ7BHADOYVMl6ax59Czi8l6/7FBHrgD8Be8l9ijYzIo4CfgRMANaRW8f/1IGMq2w98cQT5S6hbEq9543No+qw4Ja1uU3Au+21OJHHuOU3W2squJR6WaakzJjBpB70lqeqYXZ/KXR05D7oKvcJsX2dfjbjxTOKOv3MDCZVj4J/66SU/qVEz/HqlFL3bsQngNtSSldHxCfyX/9DiZ5Lkg7YpvzRty17jt/netuujnKUk5lyB01JxTGDST1rb8/NYulpW4BqmN1fCosWLQIG93Xu2buH1VtW7zOrqKflZ/05/cwMJlWPcvxX/OfAmfk/Xw8sxuCiCuCeN/Vr7OjhtObDS3cjD62tN/pSL8uUVHXMYKpIC1e2FnWS6+LFi4HabxCVU3+Xn/WXGUyqHln/X5mAWyMiAf+RUroGOC6l9Fj+9seB4zKuQRVm9uzZ5S7hBXra8+byG1YD2ECqA5fNbeTyG1bnpk3nDTnoIF5+wpFlrKr0Sr0sU1JFM4OpKnRmsM73YDPY4Oq+/KyltYVlrcv6tfysv8xgUvXos3kUERNTSo/0da2AV6aUWiNiDPDriFjT/caUUsqHmp6e9wPABwCOP/74nu5SlWbMmFHuEvrU0JDtG/WoUaMyHb8/elpvvXPPXhbcstbgUgc6f8bdP/U8veFoTjz2sDJXJqmemcFUD7oyWDdmsGxkufysv8xgUvUoZubRT4H9Ox4/AV7e1wNTSq3537dExM+AJmBzRLw4pfRYRLwY2FLgsdcA1wDMnDmzx3BTjcaMGVPuEvo0Z86cTMffsGEDAOPHj8/0eQ5EofXWm3qYRnsg3Byvesyf3rBPSN2ypce/mqqWyzKlqmQGU83rzFpNQ9cDz2exgWawerf/8rOW1hbueeyezJafDYQZTKoOBZtHETEZmAKMiog3dbvpCOCFu9S98PEjgYNSSn/K//lc4NPAjcAFwNX533/e//KrT+dfhpXcRNq6dSuQ3Qyh++67D6is5lGh9dZjRw8f0Lhujle9Kvn/0QPlskypupjBVE9KlcGqYXZ/KRQ6cW5H+w7u3nT3PrOKBnP5WSmZwaTK1Nu/bBuBNwCjgTd2u/4n4P1FjH0c8LP8X0pDgB+klG6OiLuBH0fEXwGPAm/tT+HVasWKFUBlb/S3cuVKoL6Ol+9pvfXwoQdz2dzGAY3r5njVqxoavcVyWaZUdcxgqhudGay7QhmssbFwLquF9+tiTJo0iT1797DisRUVtfyslMxgUmUq2DxKKf0c+HlEzE4pLT3QgVNKDwMv6+H6k8DZBzqeBs+2bdvKXcKg62m9dSmmlLo5XvWqhkZvsbJalikpG2Yw1ZPOrHXjTbllPQ29ZLCJEycWHKeWGg7ddS4/a2ltYdnGZdyz4R7uffxeduzdAVTW8rNSMYNJlamYNTUPRsQngQnd759SuiiroqRy2H+9tVQrslqWKSlzZjDVhfnTGxi2Obedwbx5ZxW8X1tbGwAjR458wW210nDYf/lZS2sLm9s2A88vP7to1kVVsfxMZjDVlmKaRz8HlgCLgL193FdSnpvjqVJktSxTUubMYKobEyZM6PM+S5YsAfpuEC1c2Vry2eRZKOb0s3mT5tHc0ExTQxPTjptWVcvPZAZTbSmmeTQipfQPmVeiupH1aW6VwM3xVEmyWpYpKXNmMNWNUi3x78xgnf9Yr5QMtv/ys2Wtyyr29DOVjhlMtaSY5tEvI+J1KaVfZV5NHWhqaip3CX3K+hS0nqYa1xo3x1OlcVmmVJXMYKobHR25D9wGelJtVwbrphwZrJjlZ9Vy+pkGxgymWlHM384fAz4ZEbuB3UAAKaV0RKaV1aijjjqq3CX06Ywzzsh0/EceeQTofdPDaufmeNWvGhq9kmqeGUx1Y9GiRcDA9yzqzFpNQ9cDz2exLDNYMcvP5k6am2sUNTS7/KwPZjCpMvXZPEopHT4YhdSLTZs2ATB27NgyV1LYhg0bgOxOCFu7di1Q280jN8erftXQ6JVU28xgUvE6Gw5j77030wzm8rPsmcGkytRn8yhy8yffCUxMKV0ZEeOBF6eUWjKvrgatWrUKqOzmUWeNHi/ff26OV/2qodErqbaZwaR9TZkypeBtnQ2HzgzW3UAyWLHLz5oammhuaGbC6AkuPxsgM5hUmYpZtvYN4DngLOBK4Bng68CsDOtSGT311FPlLqHquTle9auGRq+kmmcGk7rpbV/OzoZDZ9a68abcibcNB5DB+lp+1nh0o8vPBoEZTKpMxTSPmlNKMyJiJUBK6amIOCTjulQmC1e28sDmP7Fn73OcfrXHyw+Em+NJkgbIDFZHquV4+XLasWMHAKNGjXrBbd0bDvOnNzBsc67RNG/eWT2O1bn8bNnG3GyivpafzRw7kyOHH5nFy5KkqlBM82hPRBwMJICIOJbcp2CqMZ1Hm77moNyPt1KONpUkqU6ZwepEpR4vP5gmTZrU532WLl0KFLep9oQJE/b5ev/lZ8tal7GlbQsAhx58KDNePIMPvvyDNI9rdvmZJPWgmObRV4GfAcdFxFXAm4F/zLQqlUXX0aaHPn8ti6NNzzzzzJKNJUlSDTOD1YlKOV6+nIppHhVrz949PDvqWZZtXMbVC6/ucfnZvEnzupafTT1uKocc7KQ+SepNMaetfT8i7gHOzl+an1K6P9uyatfs2bPLXUJBnUeYPv7c4T1eL5Vhw4aVdDxJkmqRGax+lON4+UrT3p5bLnagObFz+dkDTz7A4888zme++xnueewe9nTsAeCoEUfRPK6Zvzz1L2ke18yssbNcfiZJ/VDMzCOAEUDntGnPGh+AntZoV4rO4+VX7hn7guul9OCDDwKl/YRJKrVKbvRKqitmsDrQmcF6ul4vFi9eDPS9JG1Xxy4WPbzI5Wc1zAwmVaY+m0cR8SngLcBPgQCujYj/Sil9JuviatGGDRuA3k+LKJfnj5d//loWx8vbPFI1qORGr6T6YAarH6U+Xr5W7H/62Z61e9jWvo2b77kZeH75WdPYJprH5U4/c/lZ9TODSZWpmJlH7wRellJqB4iIq4F7AYNLP9x3331AZTaPOtfUf/e/l7Ltmd2kI17kSR+qW5Xc6JVUN8xgdWIgx8vXkqd3Pc2P7/txV7NoxWMr2NmRm5F1zIhjaB7fzJ81/Bl/M+5vXH5Ww8xgUmUqpnm0CRgGtOe/PhRozawilVXuaNPDgMJHm0r1oJIbvZLqhhmsjhRzvHwt2f/0s6EPD+XZjme5+d6bu5afXfzyi11+VofMYFJlKtg8ioivkVtfvwO4LyJ+nf/6NUDL4JQnSZJUX8xg9Wv/4+VrRfflZy2bWli2MXf6WSIBueVnzVOaOWvsWVw57kqXn0lSBept5tHy/O/3kDsmttPizKqRJEmSGaxOTZ48udwlDFhKifU71uc2sy60/KyhmXec+g5PP5OkKlKweZRSun4wC1H9OOecc8pdgiRJFcsMVr86OjoAGDKk2AORy6/78rPOWUWb2zYDuPxMkmpIMaetvQG4Ejghf/8AUkrpiIxrq0lz5swpdwllV02BSJKkcjGD1Z9FixYBfR9XXy579u7h91t+n5tVlJ9ZtP/ys7mT5nr6mSTVoGL+Ff9l4E3A6pRSyriemjdy5Mhyl9CnrGcGrVmzBqiNqdmqXTZ6JVUAM5jKxuVnKhczmFSZimkebQB+b2gpjUceeQSAiRMnlrmSwrKeGbRu3TrA5pEqWzU0eiXVPDOYBs2O9h0s37R8n1lFLj9TOZjBpMpUTJfg48CvIuI3wK7OiymlL2ZWVQ1bu3YtUNnNI2cGSdXR6JVU88xgykTHcx2s3rza5WeqSGYwqTIV0zy6CngGGAb4rlEHspwZtHBlKzcu30Dbrg6uvPd2LF3VWwAAFvZJREFULpvbyPzpDSV/HmmgqqHRK6nmmcE0YCklvvU/LXxh8U08vnM16ZAH2XXQg+ze2w64/EyVxwwmVaZimkdjU0qnZl6Jat7Cla1cfsNqppI7SaR1+04uv2E1gA0kSZJeyAxWZyZNmjTgMZ7e9TR3t97dNavoznVL2b5rK/OYx0uGHMQdHR2MjHlcMus1XHL6a11+JkkqSjHNo19FxLkppVszr0Zll+XMoAW3rGXnnr0w9PlrO/fsZcEta20eSZL0QmawOrJwZSsLblnPpu07GTt6fVEZbP/lZy2tLdy/9f59lp8N3XMaR+0+kREHHc//3979B1lWl3cef38YBqeJ4JQwERig+CFC0MiAw4wGiYQdhSCymNWCLcnGWnenTLlB44LKuuWiW1ZpkY1mU+5uscb1F4smBtDSGCABRF1lmIGBkV+7BEnBAAvRsDKI4wDP/nHPSDv0mb7dfW7fe7vfr6quuffcc899zndmuj/9nPM9Zwn7csCOwwD4/g8m+E9nemaHJKk//TSPfh+4IMl2YAfeJnbBGvSZQQ893rs7x4Ydh065XJIk/RIz2CKxM4M9vWM7ezJ1Bpt897MNWzdw09ab2PTQpufd/ezcl5/7S9PPDv/ANyhg0zO//JnmL0nSTEzbPKqqfeajkMXilFNOGXYJrQZ9ZtBByyfYOkVQOWj5xJy3LUnSQmMGWzx2ZrA1Sx8CegfantzxBB/85uXcue3n0979bM3KNRy+/PApp5+ZvyRJXZi2eZTkN6daXlU3dl/Owrds2bJhl9Bq0GcGXXja0Vx0xZZeg6oxsXQJF552dCfbl7o0yo1eSYuDGWzx2Pr4Nn6e+1mxx6NUtvPQHh9jRx6AHcUHr+tNP3vDkW9g7cq1M777mflL48YMJo2mfqatXTjp8TJgDbAJOHUgFS1w9957L9DNBRG7NugjUzvPXrrk6nua+fwT3m1NI2uUG72SFg0z2AI01fSzByZu5lm281+APWpfXlBHs/czJ7Ny71fynT/813O6+5n5S+PGDCaNpn6mrb1p8vMkhwCfHFhFC9woN4/m48jU2cevNKxoLIzy/1VJi4MZbGHY9e5nU00/O+OI87jl/+wPO45iz3oJIUwsXcJHf/vX59Q42sn8pXFiBpNGUz9nHu3qQeDXui5Ew+eRKek5BhdJI8gMNuKmu/vZy/Z7Wev0s97d1sxgkhlMGk39XPPoT6H5iQd7AKuAWwZZlIbHI1OSJI0GM9hom+3dz9qYwSRJo6yfM482Tnr8NHB5VX13QPVIkiSpxww2Qqabfnb8gcez/lXrf3FWUdvdzyRJGkf9NI++Avysqp4BSLIkyd5V9dPBliZJkrSomcGGZC7TzyRJWoj6aR79LbAO2NY8nwCuAX5jUEUtZOvWrRt2CZIkaTyYweZBP9PP1qxcwzkvP4e1K9dy4soTefHEi4dctSRJ86uf5tGyqtoZWqiqbUn2HmBNC9qee87mGuWS5puNXkkjwAw2AE4/k0abGUwaTf10Mp5MckJV3QKQ5FXAU/1+QJIl9Obsb62qM5N8Fngd8P+aVd5eVZtnVvb4uvvuuwE45phjhlyJpN2x0StpBMw6g5m/eqabfnbUi4/i9Ue+vtcoWrmW4w44zuln0pCZwaTR1M//zPcAf5HkISDAAcA5M/iMdwN3AftOWnZhVX1lBttYMO6//37A5pE06mz0ShoBc8lgiy5/7Zx+tnPq2eTpZ6dzOsuWLOOwIw5z+pk04sxg0miatnlUVTcnOQY4ull0T1Xt6GfjSQ4G3gh8FHjvrKuUpHlmo1fSsM02gy2W/DWT6Wd73LcHL3rBizj99NOHXLWk6ZjBpNHU7zmBJwKHNeufkISq+nwf7/sk8D5gn12WfzTJh+hdCPIDVbV91zcmWQ+sBzj00EP7LHO0XXXrVr628QGe3P40/3HzdVx42tGcffzKYZclSZJG12wy2KzzF4xmBuvn7mdt08+uunUrX9vyVzy5/cfmL0mSZmna5lGSLwBHApuBZ5rFBew2uCQ5E3i0qjYlOWXSSxcBjwB7AZcC7wc+suv7q+rS5nVWr15d09U56q66dSsXXbGFX+dpALY+/hQXXbEFwAAjjRgbvZJGwWwy2FzzFww/g1UVD/zkAW568KbnTT8D2G9iP9YevLav6WfmL2m8mMGk0dXPmUergWOraqbh4STgrCRnAMuAfZN8sarOa17fnuR/ABfMcLtj6ZKr7+GpHc/A0ueWPbXjGS65+h6/IUojxF80JI2Q2WSwsctfg7z7mflLGh9mMGm09dM8+gG9CzQ+PJMNV9VF9I5y0Rz5uqCqzktyYFU9nN5P/bOb7S94Dz3eO1q2YcehUy6XNBr8RUPSCJlxBhv1/DV5+tnOC1v3O/1sNsxf0vgwg0mjrZ/m0f7AnUk2AL+YG19VZ83yMy9LsoLeXUM2A++c5XbGykHLJ9g6RVA5aPnEEKqR1MZfNCSNkC4z2Lznry6nn82W+UsaH2YwabT10zy6eK4fUlU3ADc0j0+d6/bG0YWnHc1FV2zpddMbE0uXcOFpR+/mXZLmm79oSBohF8/lzfOdv3adfrZh6wYe2fYIMPfpZ7Nl/pLGhxlMGm3TNo+q6lvzUchCt/NUy0uuvoeHHn+Kg5ZPeAE4aQT5i4akUTHKGWzn9LOdU8+mmn627oh1nU0/my3zlzQ+zGDSaGttHiV5ApjqAo0Bqqr2HVhVC9TZx680rEgjzl80JA3bqGWwUZh+NhfmL2k8mMGk0ZaZ30Rt/q1evbo2btw47DIkSdKAJNlUVauHXYd+2fIjltfEuyaeN/1s5xlF8zX9TJIkDUa/Gayfax5JkiRpEfrZ0z/jTUe8aejTzyRJ0nDZPJIkSdKUXvGrr+ALb/7CsMuQJElDtsewC5AkSZIkSdLosnkkSZIkSZKkVjaPJEmSJEmS1MrmkSRJkiRJklrZPJIkSZIkSVIrm0eSJEmSJElqZfNIkiRJkiRJrWweSZIkSZIkqZXNI0mSJEmSJLWyeSRJkiRJkqRWNo8kSZIkSZLUyuaRJEmSJEmSWtk8kiRJkiRJUiubR5IkSZIkSWpl80iSJEmSJEmtbB5JkiRJkiSplc0jSZIkSZIktbJ5JEmSJEmSpFY2jyRJkiRJktTK5pEkSZIkSZJa2TySJEmSJElSK5tHkiRJkiRJamXzSJIkSZIkSa1sHkmSJEmSJKmVzSNJkiRJkiS1snkkSZIkSZKkVjaPJEmSJEmS1MrmkSRJkiRJklrZPJIkSZIkSVIrm0eSJEmSJElqZfNIkiRJkiRJrQbePEqyJMmtSb7ePD88yU1J7k3y5SR7DboGSZKkxcYMJkmSujIfZx69G7hr0vOPA5+oqpcC/wi8Yx5qkCRJWmzMYJIkqRMDbR4lORh4I/Dp5nmAU4GvNKt8Djh7kDVIkiQtNmYwSZLUpUGfefRJ4H3As83z/YDHq+rp5vmDwMoB1yBJkrTYmMEkSVJnBtY8SnIm8GhVbZrl+9cn2Zhk42OPPdZxdZIkSQuTGUySJHVtkGcenQScleR+4Ev0TpX+E2B5kj2bdQ4Gtk715qq6tKpWV9XqFStWDLBMSZKkBcUMJkmSOjWw5lFVXVRVB1fVYcC5wHVV9TbgeuAtzWq/B3x1UDVIkiQtNmYwSZLUtfm429qu3g+8N8m99Obf/9kQapAkSVpszGCSJGlW9px+lbmrqhuAG5rH9wFr5uNzJUmSFjMzmCRJ6sIwzjySJEmSJEnSmLB5JEmSJEmSpFY2jyRJkiRJktTK5pEkSZIkSZJa2TySJEmSJElSK5tHkiRJkiRJamXzSJIkSZIkSa1sHkmSJEmSJKmVzSNJkiRJkiS1snkkSZIkSZKkVjaPJEmSJEmS1MrmkSRJkiRJklrZPJIkSZIkSVIrm0eSJEmSJElqZfNIkiRJkiRJrWweSZIkSZIkqZXNI0mSJEmSJLWyeSRJkiRJkqRWNo8kSZIkSZLUyuaRJEmSJEmSWtk8kiRJkiRJUiubR5IkSZIkSWpl80iSJEmSJEmtbB5JkiRJkiSplc0jSZIkSZIktbJ5JEmSJEmSpFY2jyRJkiRJktTK5pEkSZIkSZJa2TySJEmSJElSK5tHkiRJkiRJamXzSJIkSZIkSa1sHkmSJEmSJKmVzSNJkiRJkiS1snkkSZIkSZKkVjaPJEmSJEmS1MrmkSRJkiRJkloNrHmUZFmSDUluS3JHkg83yz+b5IdJNjdfqwZVgyRJ0mJjBpMkSV3bc4Db3g6cWlXbkiwFvpPkm81rF1bVVwb42ZIkSYuVGUySJHVqYM2jqipgW/N0afNVg/o8SZIkmcEkSVL3BnrNoyRLkmwGHgWuraqbmpc+muT2JJ9I8oJB1iBJkrTYmMEkSVKX0js4NeAPSZYDVwJ/APwIeATYC7gU+Luq+sgU71kPrG+evgL4wcALXTz2B/5h2EUsMI5p9xzTbjme3XNMu3V0Ve0z7CIWGjPYyPH7Rvcc0245nt1zTLvleHavrww2L80jgCQfAn5aVX80adkpwAVVdeY0791YVasHXOKi4Xh2zzHtnmPaLceze45ptxzPwTGDjQ7Hs3uOabccz+45pt1yPLvX75gO8m5rK5qjXSSZAF4P3J3kwGZZgLPxaJYkSVJnzGCSJKlrg7zb2oHA55Isodek+vOq+nqS65KsAAJsBt45wBokSZIWGzOYJEnq1CDvtnY7cPwUy0+dxeYunXtFmsTx7J5j2j3HtFuOZ/cc0245nh0xg400x7N7jmm3HM/uOabdcjy719eYzts1jyRJkiRJkjR+BnbNI0mSJEmSJI2/sWkeJXlrkjuSPJvEq6vPUpLTk9yT5N4kHxh2PeMuyWeSPJrEi452IMkhSa5Pcmfz//3dw65p3CVZlmRDktuaMf3wsGtaCJIsSXJrkq8Pu5aFIMn9SbYk2Zxk47Dr0XPMX90xg3XLDNYtM1i3zF+DYwbr1kwy2Ng0j+jdEeR3gBuHXci4ai6c+Sngt4FjgX+e5NjhVjX2PgucPuwiFpCngX9bVccCrwbe5b/ROdsOnFpVxwGrgNOTvHrINS0E7wbuGnYRC8xvVdUqb787csxfHTCDDcRnMYN1yQzWLfPX4JjButdXBhub5lFV3VVV9wy7jjG3Bri3qu6rqp8DXwL+6ZBrGmtVdSPw42HXsVBU1cNVdUvz+Al6PxhWDreq8VY925qnS5svL3Y3B0kOBt4IfHrYtUiDZv7qjBmsY2awbpnBumX+Ggwz2HCNTfNInVgJPDDp+YP4Q0EjKslh9O4WdNNwKxl/zem9m4FHgWuryjGdm08C7wOeHXYhC0gB1yTZlGT9sIuRBsAMprFhBuuG+WsgzGDd6zuD7TlPBfUlyd8AB0zx0ger6qvzXY+k4UjyQuAvgfdU1U+GXc+4q6pngFVJlgNXJnlFVXmNiFlIcibwaFVtSnLKsOtZQF5bVVuT/CpwbZK7m7MKNA/MX5J2MoN1x/zVLTPYwPSdwUaqeVRV64ZdwwK3FThk0vODm2XSyEiylF5ouayqrhh2PQtJVT2e5Hp614gwvMzOScBZSc4AlgH7JvliVZ035LrGWlVtbf58NMmV9Kb42DyaJ+aveWEG08gzgw2G+aszZrABmEkGc9ra4nIzcFSSw5PsBZwLfG3INUm/kCTAnwF3VdUfD7uehSDJiuaIF0kmgNcDdw+3qvFVVRdV1cFVdRi976HXGVrmJsmvJNln52PgDRiutfCYwTTSzGDdMn91zwzWvZlmsLFpHiV5c5IHgdcA30hy9bBrGjdV9TTwb4Cr6V0E78+r6o7hVjXeklwOfA84OsmDSd4x7JrG3EnA7wKnNreL3NwcXdDsHQhcn+R2er+8XFtV3tpUo+QlwHeS3AZsAL5RVX895JrUMH91wwzWPTNY58xg3TJ/aRzMKIOlyou+S5IkSZIkaWpjc+aRJEmSJEmS5p/NI0mSJEmSJLWyeSRJkiRJkqRWNo8kSZIkSZLUyuaRJEmSJEmSWtk8kkZAkpck+Z9J7kuyKcn3kry5489YNfmWq0kuTnJBH+/7qyTLZ/A5FyfZ2tzi9QdJzpptzYOQ5P4k+/e7XJIkLVxmsPljBpPGm80jaciSBLgKuLGqjqiqVwHnAgdPse6ec/ioVcAZ0661i6o6o6oen+HbPlFVq4C3Ap9J0tf3miRLZlqfJEnSbJjBnmMGkzQdm0fS8J0K/Lyq/tvOBVX191X1pwBJ3p7ka0muA/42yYuTXJXk9iTfT/LKZr0tSZan50dJ/kWz/PNJTgM+ApzTHI06p/moY5Pc0BxtO3+q4nYeDUpyWJK7kvz3JHckuSbJxO52rKruAp4G9k/yhuZo3i1J/iLJCydt/+NJbgHemuT8JHc2+/elZp22fb44yWem2odm/U1Nrev7/cvY3X4meWmSv0lyW7MfRzbjfUlzhG/LzrFNckqSbyX5alPbx5K8LcmGZr0jm/VWJPnLJDc3Xyc1y1/X/F1tTnJrkn363QdJktQXM5gZzAwm9cnmkTR8LwdumWadE4C3VNXrgA8Dt1bVK4F/B3y+Wee7wEnN9u4DTm6Wvwb4DvAh4MtVtaqqvty8dgxwGrAG+A9Jlk5Tx1HAp6rq5cDjwD/b3cpJ1gLPAgX8e2BdVZ0AbATeO2nVH1XVCVX1JeADwPHN/r2zeb1tn3e3D/+yOYK4Gjg/yX7T7Fs/+3lZs/w44DeAh4HfoXdE8ThgHXBJkgOb9Y9r9uHXgN8FXlZVa4BPA3/QrPMn9I4Snth8zqeb5RcA72qOHp4MPDWD+iVJ0vTMYGYwM5jUp7mcfilpAJJ8CngtvSNhJzaLr62qHzePX0vzg7SqrkuyX5J9gW8Dvwn8PfBfgfVJVgL/WFVPJpnq475RVduB7UkeBV4CPLib8n5YVZubx5uAw1rW+8Mk5wFPAOcAa4Fjge82dewFfG/S+l+e9Ph24LIkV9E7lXx3+7y7fTg/z12z4BB6YeRHu9m33e5nc9RpZVVd2dTxM4AkrwUur6pngP+b5FvAicBPgJur6uFmvb8Drmm2uQX4rebxOnpHH3d+9r7NEcHvAn+c5DLgiqra3d+LJEmaIzOYGcwMJrXzzCNp+O6gd1QLgKp6F/BPgBWT1nmyj+3cSO/oyMnADcBjwFvoBZo22yc9fobpG8r9rv+J5ujayVX1bSD0wteq5uvYqnrHpPUn798bgU/RG5ObM/01Bp5XU5JT6AWC1zRHqG4Flk2znd1ucwbvbdvOs5OePztpm3sAr540NiuraltVfQz4V8AEvcB3zCxrkCRJUzODmcHMYFKfbB5Jw3cdsCzJ709atvdu1v828DbozekG/qGqflJVDwD7A0dV1X30TpO+gF6ggd4RqGHN2f4+cFKSlwIk+ZUkL9t1pfQu6nhIVV0PvB94EfBCWvZ5N5/3InpH+37a/MB/9Vx3oKqeAB5McnZTxwuS7N3Udk6SJUlW0DvyuGEGm76G506fJsmq5s8jq2pLVX0cuJneqeGSJKk7ZrCGGcwMJk3H5pE0ZFVVwNnA65L8MMkG4HP0fnBP5WLgVUluBz4G/N6k124C/nfz+NvASnoBBuB6eqfmTr5Y47yoqseAtwOXN3V/j6l/EC8BvphkC70jVf+5ucvIxbTv81T+mt7Rr7ua9b/fxX7QmzN/flPH/wIOAK6kd5r3bfRC6Puq6pEZbPN8YHV6F6K8k+euMfCe5gKQtwM7gG92tA+SJAkz2C7MYGYwabfS+54pSZIkSZIkPZ9nHkmSJEmSJKmVzSNJkiRJkiS1snkkSZIkSZKkVjaPJEmSJEmS1MrmkSRJkiRJklrZPJIkSZIkSVIrm0eSJEmSJElqZfNIkiRJkiRJrf4/3UgMh7loYgcAAAAASUVORK5CYII=\n",
                  "text/plain": "<Figure size 1440x432 with 2 Axes>"
                },
                "metadata": {
                  "needs_background": "light"
                }
              }
            ],
            "_view_module": "@jupyter-widgets/output",
            "_model_module_version": "1.0.0",
            "_view_count": null,
            "_view_module_version": "1.0.0",
            "layout": "IPY_MODEL_bddfbece87aa4270be479b3e3311359b",
            "_model_module": "@jupyter-widgets/output"
          }
        },
        "4acd985661924cea9b703c2cdb3bbc8e": {
          "model_module": "@jupyter-widgets/controls",
          "model_name": "SliderStyleModel",
          "model_module_version": "1.5.0",
          "state": {
            "_view_name": "StyleView",
            "handle_color": null,
            "_model_name": "SliderStyleModel",
            "description_width": "",
            "_view_module": "@jupyter-widgets/base",
            "_model_module_version": "1.5.0",
            "_view_count": null,
            "_view_module_version": "1.2.0",
            "_model_module": "@jupyter-widgets/controls"
          }
        },
        "6c4fe18126694dcea8c7e3f97473a773": {
          "model_module": "@jupyter-widgets/base",
          "model_name": "LayoutModel",
          "model_module_version": "1.2.0",
          "state": {
            "_view_name": "LayoutView",
            "grid_template_rows": null,
            "right": null,
            "justify_content": null,
            "_view_module": "@jupyter-widgets/base",
            "overflow": null,
            "_model_module_version": "1.2.0",
            "_view_count": null,
            "flex_flow": null,
            "width": null,
            "min_width": null,
            "border": null,
            "align_items": null,
            "bottom": null,
            "_model_module": "@jupyter-widgets/base",
            "top": null,
            "grid_column": null,
            "overflow_y": null,
            "overflow_x": null,
            "grid_auto_flow": null,
            "grid_area": null,
            "grid_template_columns": null,
            "flex": null,
            "_model_name": "LayoutModel",
            "justify_items": null,
            "grid_row": null,
            "max_height": null,
            "align_content": null,
            "visibility": null,
            "align_self": null,
            "height": null,
            "min_height": null,
            "padding": null,
            "grid_auto_rows": null,
            "grid_gap": null,
            "max_width": null,
            "order": null,
            "_view_module_version": "1.2.0",
            "grid_template_areas": null,
            "object_position": null,
            "object_fit": null,
            "grid_auto_columns": null,
            "margin": null,
            "display": null,
            "left": null
          }
        },
        "e8557be347e6468dbbe4117e7a333503": {
          "model_module": "@jupyter-widgets/controls",
          "model_name": "SliderStyleModel",
          "model_module_version": "1.5.0",
          "state": {
            "_view_name": "StyleView",
            "handle_color": null,
            "_model_name": "SliderStyleModel",
            "description_width": "",
            "_view_module": "@jupyter-widgets/base",
            "_model_module_version": "1.5.0",
            "_view_count": null,
            "_view_module_version": "1.2.0",
            "_model_module": "@jupyter-widgets/controls"
          }
        },
        "5208a3f93d9042fd80d535fa5a997925": {
          "model_module": "@jupyter-widgets/base",
          "model_name": "LayoutModel",
          "model_module_version": "1.2.0",
          "state": {
            "_view_name": "LayoutView",
            "grid_template_rows": null,
            "right": null,
            "justify_content": null,
            "_view_module": "@jupyter-widgets/base",
            "overflow": null,
            "_model_module_version": "1.2.0",
            "_view_count": null,
            "flex_flow": null,
            "width": null,
            "min_width": null,
            "border": null,
            "align_items": null,
            "bottom": null,
            "_model_module": "@jupyter-widgets/base",
            "top": null,
            "grid_column": null,
            "overflow_y": null,
            "overflow_x": null,
            "grid_auto_flow": null,
            "grid_area": null,
            "grid_template_columns": null,
            "flex": null,
            "_model_name": "LayoutModel",
            "justify_items": null,
            "grid_row": null,
            "max_height": null,
            "align_content": null,
            "visibility": null,
            "align_self": null,
            "height": null,
            "min_height": null,
            "padding": null,
            "grid_auto_rows": null,
            "grid_gap": null,
            "max_width": null,
            "order": null,
            "_view_module_version": "1.2.0",
            "grid_template_areas": null,
            "object_position": null,
            "object_fit": null,
            "grid_auto_columns": null,
            "margin": null,
            "display": null,
            "left": null
          }
        },
        "bddfbece87aa4270be479b3e3311359b": {
          "model_module": "@jupyter-widgets/base",
          "model_name": "LayoutModel",
          "model_module_version": "1.2.0",
          "state": {
            "_view_name": "LayoutView",
            "grid_template_rows": null,
            "right": null,
            "justify_content": null,
            "_view_module": "@jupyter-widgets/base",
            "overflow": null,
            "_model_module_version": "1.2.0",
            "_view_count": null,
            "flex_flow": null,
            "width": null,
            "min_width": null,
            "border": null,
            "align_items": null,
            "bottom": null,
            "_model_module": "@jupyter-widgets/base",
            "top": null,
            "grid_column": null,
            "overflow_y": null,
            "overflow_x": null,
            "grid_auto_flow": null,
            "grid_area": null,
            "grid_template_columns": null,
            "flex": null,
            "_model_name": "LayoutModel",
            "justify_items": null,
            "grid_row": null,
            "max_height": null,
            "align_content": null,
            "visibility": null,
            "align_self": null,
            "height": null,
            "min_height": null,
            "padding": null,
            "grid_auto_rows": null,
            "grid_gap": null,
            "max_width": null,
            "order": null,
            "_view_module_version": "1.2.0",
            "grid_template_areas": null,
            "object_position": null,
            "object_fit": null,
            "grid_auto_columns": null,
            "margin": null,
            "display": null,
            "left": null
          }
        }
      }
    }
  },
  "cells": [
    {
      "cell_type": "code",
      "metadata": {
        "id": "gUcWhX-0r9gl"
      },
      "source": [
        "# Libraries for R^2 visualization\n",
        "from ipywidgets import interactive, IntSlider, FloatSlider\n",
        "from math import floor, ceil\n",
        "from sklearn.base import BaseEstimator, RegressorMixin\n",
        "\n",
        "# Libraries for model building\n",
        "from sklearn.linear_model import LinearRegression\n",
        "from sklearn.metrics import mean_absolute_error, mean_squared_error, r2_score\n",
        "import matplotlib.pyplot as plt\n",
        "import numpy as np\n",
        "import pandas as pd\n",
        "\n",
        "# Library for working locally or Colab\n",
        "import sys"
      ],
      "execution_count": 1,
      "outputs": []
    },
    {
      "cell_type": "code",
      "metadata": {
        "id": "E5WTvJFCWQjx"
      },
      "source": [
        "# If you're on Colab:\n",
        "if 'google.colab' in sys.modules:\n",
        "    DATA_PATH = 'https://raw.githubusercontent.com/bloominstituteoftechnology/DS-Unit-2-Applied-Modeling/master/data/'\n",
        "\n",
        "# If you're working locally:\n",
        "else:\n",
        "    DATA_PATH = '../data/'"
      ],
      "execution_count": 4,
      "outputs": []
    },
    {
      "cell_type": "markdown",
      "metadata": {
        "id": "TGelVAREWyrN"
      },
      "source": [
        "# I. Wrangle Data"
      ]
    },
    {
      "cell_type": "code",
      "metadata": {
        "id": "8cTSdKOIMAfP",
        "colab": {
          "base_uri": "https://localhost:8080/"
        },
        "outputId": "1186aa9f-a9e3-412f-b623-2b3815f0c1db"
      },
      "source": [
        "def wrangle(filepath):\n",
        "  #The Initial Data Read In\n",
        "  df = pd.read_csv(DATA_PATH + 'elections/bread_peace_voting.csv')\n",
        "\n",
        "  #Subjective Wrangling Variables (to be edited)\n",
        "  high_cardinality_percentage_threshold = 0.6 #Very Subjective, Should Shrink as Dataset Gets Larger\n",
        "  #high_cardinality_count_threshold = 10\n",
        "\n",
        "  #Procedural Wrangling Variables\n",
        "  cols_to_drop = [] #More Efficient To Only Call Drop Function Once\n",
        "  identifier_cols = []\n",
        "\n",
        "  #Formatting Column Names\n",
        "  df.columns = df.columns.str.upper().str.replace(' ','_')\n",
        "\n",
        "  #Find Indentifier Variables\n",
        "  for col in df:\n",
        "    if df[col].nunique() == df.shape[0]:\n",
        "      identifier_cols.append(col)\n",
        "  df = df.set_index(identifier_cols[0])\n",
        "  #DEFAULTS TO FIRST IDENTIFIER\n",
        "  #OTHER IDENTIFIERS WILL BE DELETED\n",
        "\n",
        "  #Drop Columns With Only One Value\n",
        "  for col in df:\n",
        "      if df[col].nunique() == 1:\n",
        "        cols_to_drop.append(col)\n",
        "\n",
        "  #Drop Columns With High Cardinality (Too Many Categorical Variable States)\n",
        "  for col in df:\n",
        "    if df[col].dtype == 'object': #Filter For Categorical Variables\n",
        "      if df[col].nunique() / df.shape[0] > high_cardinality_percentage_threshold:\n",
        "        cols_to_drop.append(col)\n",
        "\n",
        "  print('DROPPED COLUMNS:', cols_to_drop)\n",
        "  df = df.drop(cols_to_drop, axis=1)\n",
        "  return df\n",
        "\n",
        "df = wrangle(DATA_PATH + 'elections/bread_peace_voting.csv')"
      ],
      "execution_count": 61,
      "outputs": [
        {
          "output_type": "stream",
          "name": "stdout",
          "text": [
            "DROPPED COLUMNS: ['INCUMBENT_PARTY_CANDIDATE', 'OTHER_CANDIDATE']\n"
          ]
        }
      ]
    },
    {
      "cell_type": "code",
      "metadata": {
        "colab": {
          "base_uri": "https://localhost:8080/"
        },
        "id": "bUbZ90eh1zBN",
        "outputId": "bb6f2835-d0d1-4842-c194-a4f04727ccd8"
      },
      "source": [
        "print(list(df.columns)); print()\n",
        "\n",
        "print(df.nunique()); print()\n",
        "\n",
        "#print(df.head()); print()\n",
        "\n",
        "#print(df.info()); print()"
      ],
      "execution_count": 64,
      "outputs": [
        {
          "output_type": "stream",
          "name": "stdout",
          "text": [
            "['AVERAGE_RECENT_GROWTH_IN_PERSONAL_INCOMES', 'US_MILITARY_FATALITIES_PER_MILLION', 'INCUMBENT_PARTY_VOTE_SHARE']\n",
            "\n",
            "AVERAGE_RECENT_GROWTH_IN_PERSONAL_INCOMES    16\n",
            "US_MILITARY_FATALITIES_PER_MILLION            8\n",
            "INCUMBENT_PARTY_VOTE_SHARE                   17\n",
            "dtype: int64\n",
            "\n"
          ]
        }
      ]
    },
    {
      "cell_type": "markdown",
      "metadata": {
        "id": "I6C3HacLCHTi"
      },
      "source": [
        "If a model performs well on unseen data (the testing set), it is said to be **generalized**\n",
        "\n",
        "**Overfitting** is when a **complex model** is being perfectly matched to the data, giving **low bias** and **high variance**\n",
        "\n",
        "**Underfitting** is when a **simple model** is being roughly approximated to the data, giving **high bias** but **low variance**\n",
        "\n",
        "**BIAS** the degree of matching to the data set\n",
        "\n",
        "**VARIANCE** in how much the model changes when trained on different subsets of your data set"
      ]
    },
    {
      "cell_type": "markdown",
      "metadata": {
        "id": "Dek_MCFyXLq7"
      },
      "source": [
        "# II. Split Data\n",
        "\n",
        "**First** we need to split our **target vector** from our **feature matrix**."
      ]
    },
    {
      "cell_type": "code",
      "metadata": {
        "id": "8m9W00DPo9Vp"
      },
      "source": [
        "#THIS SHORTCUT REQUIRES PROPER WRANGLING\n",
        "target = 'INCUMBENT_PARTY_VOTE_SHARE'\n",
        "y = df[target]\n",
        "X = df.drop(columns=target)\n",
        "#X = df.drop(target,axis=1) #Alternative Method"
      ],
      "execution_count": 57,
      "outputs": []
    },
    {
      "cell_type": "markdown",
      "metadata": {
        "id": "DZkHRqALX2be"
      },
      "source": [
        "**Second** we need to split our dataset into **training** and **test** sets.\n",
        "\n",
        "Two strategies:\n",
        "\n",
        "- Random train-test split using [`train_test_split`](https://scikit-learn.org/stable/modules/generated/sklearn.model_selection.train_test_split.html). Generally we use 80% of the data for training, and 20% of the data for testing.\n",
        "- If you have **timeseries**, then you need to do a \"cutoff\" split.\n",
        "  * We want our train/test splits to preserve temporal order so that the model can demonstrate future prediction"
      ]
    },
    {
      "cell_type": "code",
      "metadata": {
        "id": "RJqL21ur3sDm"
      },
      "source": [
        "from sklearn.model_selection import train_test_split\n",
        "\n",
        "percentage_to_save_for_testing = 0.2\n",
        "\n",
        "#RANDOM SPLIT\n",
        "X_train, X_test, y_train, y_test = train_test_split(X, y,\n",
        "                test_size=percentage_to_save_for_testing,\n",
        "                random_state=42) #This Will Fix The Rank Seed For The Split\n",
        "\n",
        "#CUTOFF SPLIT (used for time series)\n",
        "\n",
        "cutoff = 2004\n",
        "\n",
        "#print(np.percentile(np.array(X.index), 0.2)) \n",
        "\n",
        "mask = X.index < cutoff\n",
        "\n",
        "X_train = X.loc[mask]\n",
        "y_train = y.loc[mask]\n",
        "\n",
        "X_test = X.loc[~mask]\n",
        "y_test = y.loc[~mask]\n",
        "\n",
        "#np.bitwise_not(mask) #equivalent to ~mask"
      ],
      "execution_count": 73,
      "outputs": []
    },
    {
      "cell_type": "markdown",
      "metadata": {
        "id": "7iSEjfzTdJtS"
      },
      "source": [
        "# III. Establish Baseline"
      ]
    },
    {
      "cell_type": "code",
      "metadata": {
        "id": "VlB3cu_l3s1J",
        "colab": {
          "base_uri": "https://localhost:8080/"
        },
        "outputId": "ec7a5b88-3da8-483d-831d-cb11f0e80412"
      },
      "source": [
        "y_pred_baseline = [y_train.mean()] * len(y_train)\n",
        "baseline_mae = mean_absolute_error(y_train, y_pred_baseline)\n",
        "\n",
        "print('Mean Vote Share:', y_train.mean())\n",
        "print('Baseline MAE:', baseline_mae)"
      ],
      "execution_count": 77,
      "outputs": [
        {
          "output_type": "stream",
          "name": "stdout",
          "text": [
            "Mean Vote Share: 52.56307692307692\n",
            "Baseline MAE: 5.132544378698224\n"
          ]
        }
      ]
    },
    {
      "cell_type": "markdown",
      "metadata": {
        "id": "PzZqgSfpd6Z9"
      },
      "source": [
        "# IV. Build Model"
      ]
    },
    {
      "cell_type": "code",
      "metadata": {
        "id": "YK9UgruML0sL",
        "colab": {
          "base_uri": "https://localhost:8080/"
        },
        "outputId": "5e3b769f-3f82-4307-f15d-bdd6044e8b5a"
      },
      "source": [
        "model = LinearRegression()\n",
        "\n",
        "model.fit(X_train, y_train)"
      ],
      "execution_count": 78,
      "outputs": [
        {
          "output_type": "execute_result",
          "data": {
            "text/plain": [
              "LinearRegression()"
            ]
          },
          "metadata": {},
          "execution_count": 78
        }
      ]
    },
    {
      "cell_type": "markdown",
      "metadata": {
        "id": "kKS9OY-0eYyU"
      },
      "source": [
        "# V. Check Metrics\n",
        "\n",
        "## Mean Absolute Error\n",
        "\n",
        "The unit of measurement is the same as the unit of measurment for your target (in this case, vote share [%])."
      ]
    },
    {
      "cell_type": "markdown",
      "metadata": {
        "id": "LejWTnSEX6ZP"
      },
      "source": [
        "$ \\frac{\\sum{ |y-\\hat{y}| } }{n} $"
      ]
    },
    {
      "cell_type": "code",
      "metadata": {
        "id": "jjsNKDYY3wws",
        "colab": {
          "base_uri": "https://localhost:8080/"
        },
        "outputId": "9bc0e3b6-5d06-4273-a3f7-33c1107bec46"
      },
      "source": [
        "mae_train = mean_absolute_error(y_train, model.predict(X_train))\n",
        "mae_test = mean_absolute_error(y_test, model.predict(X_test))\n",
        "print('Training MAE:', mae_train)\n",
        "print('Test MAE:', mae_test)"
      ],
      "execution_count": 93,
      "outputs": [
        {
          "output_type": "stream",
          "name": "stdout",
          "text": [
            "Training MAE: 1.3737002516876717\n",
            "Test MAE: 1.4133453705003944\n"
          ]
        }
      ]
    },
    {
      "cell_type": "code",
      "metadata": {
        "id": "WxinR4r2Yqxc",
        "outputId": "bd07dfc2-4085-437f-dd5d-03bc6c7f6bcf",
        "colab": {
          "base_uri": "https://localhost:8080/"
        }
      },
      "source": [
        "print('Test MAE / Train MAE = ', mae_test / mae_train)"
      ],
      "execution_count": 96,
      "outputs": [
        {
          "output_type": "stream",
          "name": "stdout",
          "text": [
            "Test MAE / Train MAE =  1.028860094306612\n"
          ]
        }
      ]
    },
    {
      "cell_type": "markdown",
      "metadata": {
        "id": "kIONo_fwKumG"
      },
      "source": [
        "**Is it generalizing well?** \n",
        "* The difference is relatively small, so the model is **generalizing well**\n",
        "\n",
        "**Is it overfit or underfit? **\n",
        "* **Slightly overfit** because there is less Mean Absolute Error in the model for the training set"
      ]
    },
    {
      "cell_type": "markdown",
      "metadata": {
        "id": "gbbgj--egYyJ"
      },
      "source": [
        "## Root Mean Squared Error\n",
        "\n",
        "The unit of measurement is the same as the unit of measurment for your target (in this case, vote share [%])."
      ]
    },
    {
      "cell_type": "markdown",
      "metadata": {
        "id": "YYlUb7sqMX7a"
      },
      "source": [
        "$ \\sqrt{\\frac{\\sum{ (y-\\hat{y})^2 } }{n}} $"
      ]
    },
    {
      "cell_type": "code",
      "metadata": {
        "id": "D8RUCk0u3x9L",
        "colab": {
          "base_uri": "https://localhost:8080/"
        },
        "outputId": "5142ac3d-1d30-401a-f0c1-f8064a5c3165"
      },
      "source": [
        "print('Training RMSE:', mean_squared_error(y_train, model.predict(X_train), squared=False))\n",
        "print('Test RMSE:', mean_squared_error(y_test, model.predict(X_test), squared=False))"
      ],
      "execution_count": 83,
      "outputs": [
        {
          "output_type": "stream",
          "name": "stdout",
          "text": [
            "Training RMSE: 2.0376005753896838\n",
            "Test RMSE: 1.623765003537601\n"
          ]
        }
      ]
    },
    {
      "cell_type": "markdown",
      "metadata": {
        "id": "f_Lx7YttPXvC"
      },
      "source": [
        "**What conclusions can we draw from this?**\n",
        "\n",
        "This shows that there are more outliers in the training set?"
      ]
    },
    {
      "cell_type": "markdown",
      "metadata": {
        "id": "JiG46uC-kQGW"
      },
      "source": [
        "## $R^2$ Score\n",
        "\n",
        "TL;DR: Usually ranges between 0 (bad) and 1 (good)."
      ]
    },
    {
      "cell_type": "markdown",
      "metadata": {
        "id": "KQ06xrP3Ne3h"
      },
      "source": [
        "$R^2 = 1 - \\frac{SS_{mod}}{SS_{base}} $\n",
        "\n",
        "where $ SS_{mod} = \\sum{ (y_i - \\hat{y}_i)^2 } $ is the sum of the squared model residuals\n",
        "\n",
        "and $ SS_{base} = \\sum{ (y_i - \\bar{y})^2 } $ is the sum of the squared baseline residuals"
      ]
    },
    {
      "cell_type": "code",
      "metadata": {
        "colab": {
          "base_uri": "https://localhost:8080/"
        },
        "id": "i5eupTWdNU0d",
        "outputId": "3160c1c0-5d62-456d-d57b-356dbb5caad5"
      },
      "source": [
        "print('Training R2:', r2_score(y_train, model.predict(X_train)))\n",
        "print('Test R2:', r2_score(y_test, model.predict(X_test)))"
      ],
      "execution_count": 82,
      "outputs": [
        {
          "output_type": "stream",
          "name": "stdout",
          "text": [
            "Training R2: 0.8759203630180873\n",
            "Test R2: 0.4993519697110995\n"
          ]
        }
      ]
    },
    {
      "cell_type": "code",
      "metadata": {
        "colab": {
          "base_uri": "https://localhost:8080/"
        },
        "id": "Jd8RMizqO2Ni",
        "outputId": "408002fe-d870-4d24-a761-929a57684aad"
      },
      "source": [
        "#BASED ON MODEL, .score WILL FIND THE APPROPRIATE SCORE ASSOCIATED WITH THAT MODEL\n",
        "# For Linear Regressions, It Gives R2\n",
        "print('Training R2:', model.score(X_train, y_train))\n",
        "print('Test R2:', model.score(X_test, y_test))"
      ],
      "execution_count": 84,
      "outputs": [
        {
          "output_type": "stream",
          "name": "stdout",
          "text": [
            "Training R2: 0.8759203630180873\n",
            "Test R2: 0.4993519697110995\n"
          ]
        }
      ]
    },
    {
      "cell_type": "markdown",
      "metadata": {
        "id": "q1yrF-1yONh0"
      },
      "source": [
        "**This looks bad, but we should always look at our mean errors in conjunction with R squared**"
      ]
    },
    {
      "cell_type": "code",
      "metadata": {
        "colab": {
          "base_uri": "https://localhost:8080/"
        },
        "id": "zf_iOHjGP2Aj",
        "outputId": "37d1fceb-3495-45d4-a8c1-d991ff16aa5c"
      },
      "source": [
        "print(list(df.columns))"
      ],
      "execution_count": 89,
      "outputs": [
        {
          "output_type": "stream",
          "name": "stdout",
          "text": [
            "['AVERAGE_RECENT_GROWTH_IN_PERSONAL_INCOMES', 'US_MILITARY_FATALITIES_PER_MILLION', 'INCUMBENT_PARTY_VOTE_SHARE']\n"
          ]
        }
      ]
    },
    {
      "cell_type": "code",
      "metadata": {
        "id": "23FV-p8bh61A",
        "colab": {
          "base_uri": "https://localhost:8080/",
          "height": 468,
          "referenced_widgets": [
            "a5a2e2f391064289a2c960edfa4bc17f",
            "1d9cd8837e384b24865a49f4bca9bd09",
            "7b46b8d48b1b4d34a2edf15f260cb329",
            "eb954db1606c410e9890f3272599432e",
            "c2821535a66e4979a6ddfcc11b425f5d",
            "4acd985661924cea9b703c2cdb3bbc8e",
            "6c4fe18126694dcea8c7e3f97473a773",
            "e8557be347e6468dbbe4117e7a333503",
            "5208a3f93d9042fd80d535fa5a997925",
            "bddfbece87aa4270be479b3e3311359b"
          ]
        },
        "outputId": "6f58f835-fb9a-4b9e-aaa4-95f80ebc93ab"
      },
      "source": [
        "class BruteForceRegressor(BaseEstimator, RegressorMixin):\n",
        "    def __init__(self, m=0, b=0):\n",
        "        self.m = m\n",
        "        self.b = b\n",
        "        self.mean = 0\n",
        "        \n",
        "    def fit(self, X, y):\n",
        "        self.mean = np.mean(y)\n",
        "        return self\n",
        "    \n",
        "    def predict(self, X, return_mean=True):\n",
        "        if return_mean:\n",
        "            return [self.mean] * len(X)\n",
        "        else:\n",
        "            return X * self.m + self.b\n",
        "\n",
        "def plot(slope, intercept):\n",
        "    # Assign data to variables\n",
        "    x = df['AVERAGE_RECENT_GROWTH_IN_PERSONAL_INCOMES']\n",
        "    y = df['INCUMBENT_PARTY_VOTE_SHARE']\n",
        "    \n",
        "    # Create figure\n",
        "    fig, (ax1, ax2) = plt.subplots(1, 2, figsize=(20,6))\n",
        "    \n",
        "    # Set ax limits\n",
        "    mar = 0.2\n",
        "    x_lim = floor(x.min() - x.min()*mar), ceil(x.max() + x.min()*mar)\n",
        "    y_lim = floor(y.min() - y.min()*mar), ceil(y.max() + y.min()*mar)\n",
        "    \n",
        "    # Instantiate and train model\n",
        "    bfr = BruteForceRegressor(slope, intercept)\n",
        "    bfr.fit(x, y)\n",
        "    \n",
        "    # ax1   \n",
        "    ## Plot data\n",
        "    ax1.set_xlim(x_lim)\n",
        "    ax1.set_ylim(y_lim)\n",
        "    ax1.scatter(x, y)\n",
        "    \n",
        "    ## Plot base model\n",
        "    ax1.axhline(bfr.mean, color='orange', label='baseline model')\n",
        "    \n",
        "    ## Plot residual lines\n",
        "    y_base_pred = bfr.predict(x)\n",
        "    ss_base = mean_squared_error(y, y_base_pred) * len(y)\n",
        "    for x_i, y_i, yp_i in zip(x, y, y_base_pred):\n",
        "        ax1.plot([x_i, x_i], [y_i, yp_i], \n",
        "                 color='gray', linestyle='--', alpha=0.75)\n",
        "    \n",
        "    ## Formatting\n",
        "    ax1.legend()\n",
        "    ax1.set_title(f'Sum of Squares: {np.round(ss_base, 2)}')\n",
        "    ax1.set_xlabel('Growth in Personal Incomes')\n",
        "    ax1.set_ylabel('Incumbent Party Vote Share [%]')\n",
        "\n",
        "    # ax2\n",
        "\n",
        "    ax2.set_xlim(x_lim)\n",
        "    ax2.set_ylim(y_lim)\n",
        "    ## Plot data\n",
        "    ax2.scatter(x, y)\n",
        "    \n",
        "    ## Plot model\n",
        "    x_model = np.linspace(*ax2.get_xlim(), 10)\n",
        "    y_model = bfr.predict(x_model, return_mean=False)\n",
        "    ax2.plot(x_model, y_model, color='green', label='our model')\n",
        "    for x_coord, y_coord in zip(x, y):\n",
        "        ax2.plot([x_coord, x_coord], [y_coord, x_coord * slope + intercept], \n",
        "                 color='gray', linestyle='--', alpha=0.75)   \n",
        "    \n",
        "    ss_ours = mean_squared_error(y, bfr.predict(x, return_mean=False)) * len(y)\n",
        "    \n",
        "    ## Formatting\n",
        "    ax2.legend()\n",
        "    ax2.set_title(f'Sum of Squares: {np.round(ss_ours, 2)}')\n",
        "    ax2.set_xlabel('Growth in Personal Incomes')\n",
        "    ax2.set_ylabel('Incumbent Party Vote Share [%]')\n",
        "\n",
        "y = df['INCUMBENT_PARTY_VOTE_SHARE']\n",
        "slope_slider = FloatSlider(min=-5, max=5, step=0.5, value=0)\n",
        "intercept_slider = FloatSlider(min=int(y.min()), max=y.max(), step=2, value=y.mean())\n",
        "    \n",
        "interactive(plot, slope=slope_slider, intercept=intercept_slider)"
      ],
      "execution_count": 90,
      "outputs": [
        {
          "output_type": "display_data",
          "data": {
            "application/vnd.jupyter.widget-view+json": {
              "model_id": "a5a2e2f391064289a2c960edfa4bc17f",
              "version_minor": 0,
              "version_major": 2
            },
            "text/plain": [
              "interactive(children=(FloatSlider(value=0.0, description='slope', max=5.0, min=-5.0, step=0.5), FloatSlider(va…"
            ]
          },
          "metadata": {}
        }
      ]
    },
    {
      "cell_type": "markdown",
      "metadata": {
        "id": "6eHzIsbYqcgo"
      },
      "source": [
        "# VI. Communicate Results\n",
        "\n",
        "**Challenge:** How can we find the coefficients and intercept for our `model`?"
      ]
    },
    {
      "cell_type": "code",
      "metadata": {
        "id": "U9reRJKE7T-6",
        "colab": {
          "base_uri": "https://localhost:8080/"
        },
        "outputId": "28c981fe-3401-4d77-a110-fe86e435ec28"
      },
      "source": [
        "print(\"The Coefficient for Income is: \", model.coef_[0])\n",
        "print(\"The Coefficient for Fatalities is: \", model.coef_[1])\n",
        "print(\"The Model Intercept is: \", model.intercept_)"
      ],
      "execution_count": 91,
      "outputs": [
        {
          "output_type": "stream",
          "name": "stdout",
          "text": [
            "The Coefficient for Income is:  3.5769044691079976\n",
            "The Coefficient for Fatalities is:  -0.05355141496518978\n",
            "The Model Intercept is:  46.36824118234689\n"
          ]
        }
      ]
    },
    {
      "cell_type": "markdown",
      "metadata": {
        "id": "i7_pI2ePQjbu"
      },
      "source": [
        "What is the most important feature?\n",
        "\n",
        "Income because its coefficient has a greater absolute value"
      ]
    },
    {
      "cell_type": "markdown",
      "metadata": {
        "id": "rQdvJmlLQ9Si"
      },
      "source": [
        "**Always use the coefficient magnitude to determine which features are most important**"
      ]
    }
  ]
}