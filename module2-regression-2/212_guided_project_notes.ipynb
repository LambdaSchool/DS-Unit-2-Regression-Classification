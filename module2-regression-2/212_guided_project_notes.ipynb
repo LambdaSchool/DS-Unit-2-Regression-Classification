{
  "nbformat": 4,
  "nbformat_minor": 0,
  "metadata": {
    "colab": {
      "name": "212_guided-project-notes.ipynb",
      "provenance": []
    },
    "kernelspec": {
      "name": "python3",
      "display_name": "Python 3"
    },
    "widgets": {
      "application/vnd.jupyter.widget-state+json": {
        "a5a2e2f391064289a2c960edfa4bc17f": {
          "model_module": "@jupyter-widgets/controls",
          "model_name": "VBoxModel",
          "model_module_version": "1.5.0",
          "state": {
            "_view_name": "VBoxView",
            "_dom_classes": [
              "widget-interact"
            ],
            "_model_name": "VBoxModel",
            "_view_module": "@jupyter-widgets/controls",
            "_model_module_version": "1.5.0",
            "_view_count": null,
            "_view_module_version": "1.5.0",
            "box_style": "",
            "layout": "IPY_MODEL_1d9cd8837e384b24865a49f4bca9bd09",
            "_model_module": "@jupyter-widgets/controls",
            "children": [
              "IPY_MODEL_7b46b8d48b1b4d34a2edf15f260cb329",
              "IPY_MODEL_eb954db1606c410e9890f3272599432e",
              "IPY_MODEL_c2821535a66e4979a6ddfcc11b425f5d"
            ]
          }
        },
        "1d9cd8837e384b24865a49f4bca9bd09": {
          "model_module": "@jupyter-widgets/base",
          "model_name": "LayoutModel",
          "model_module_version": "1.2.0",
          "state": {
            "_view_name": "LayoutView",
            "grid_template_rows": null,
            "right": null,
            "justify_content": null,
            "_view_module": "@jupyter-widgets/base",
            "overflow": null,
            "_model_module_version": "1.2.0",
            "_view_count": null,
            "flex_flow": null,
            "width": null,
            "min_width": null,
            "border": null,
            "align_items": null,
            "bottom": null,
            "_model_module": "@jupyter-widgets/base",
            "top": null,
            "grid_column": null,
            "overflow_y": null,
            "overflow_x": null,
            "grid_auto_flow": null,
            "grid_area": null,
            "grid_template_columns": null,
            "flex": null,
            "_model_name": "LayoutModel",
            "justify_items": null,
            "grid_row": null,
            "max_height": null,
            "align_content": null,
            "visibility": null,
            "align_self": null,
            "height": null,
            "min_height": null,
            "padding": null,
            "grid_auto_rows": null,
            "grid_gap": null,
            "max_width": null,
            "order": null,
            "_view_module_version": "1.2.0",
            "grid_template_areas": null,
            "object_position": null,
            "object_fit": null,
            "grid_auto_columns": null,
            "margin": null,
            "display": null,
            "left": null
          }
        },
        "7b46b8d48b1b4d34a2edf15f260cb329": {
          "model_module": "@jupyter-widgets/controls",
          "model_name": "FloatSliderModel",
          "model_module_version": "1.5.0",
          "state": {
            "_view_name": "FloatSliderView",
            "style": "IPY_MODEL_4acd985661924cea9b703c2cdb3bbc8e",
            "_dom_classes": [],
            "description": "slope",
            "step": 0.5,
            "_model_name": "FloatSliderModel",
            "orientation": "horizontal",
            "max": 5,
            "_view_module": "@jupyter-widgets/controls",
            "_model_module_version": "1.5.0",
            "value": 1,
            "_view_count": null,
            "disabled": false,
            "_view_module_version": "1.5.0",
            "min": -5,
            "continuous_update": true,
            "readout_format": ".2f",
            "description_tooltip": null,
            "readout": true,
            "_model_module": "@jupyter-widgets/controls",
            "layout": "IPY_MODEL_6c4fe18126694dcea8c7e3f97473a773"
          }
        },
        "eb954db1606c410e9890f3272599432e": {
          "model_module": "@jupyter-widgets/controls",
          "model_name": "FloatSliderModel",
          "model_module_version": "1.5.0",
          "state": {
            "_view_name": "FloatSliderView",
            "style": "IPY_MODEL_e8557be347e6468dbbe4117e7a333503",
            "_dom_classes": [],
            "description": "intercept",
            "step": 2,
            "_model_name": "FloatSliderModel",
            "orientation": "horizontal",
            "max": 61.79,
            "_view_module": "@jupyter-widgets/controls",
            "_model_module_version": "1.5.0",
            "value": 52,
            "_view_count": null,
            "disabled": false,
            "_view_module_version": "1.5.0",
            "min": 44,
            "continuous_update": true,
            "readout_format": ".2f",
            "description_tooltip": null,
            "readout": true,
            "_model_module": "@jupyter-widgets/controls",
            "layout": "IPY_MODEL_5208a3f93d9042fd80d535fa5a997925"
          }
        },
        "c2821535a66e4979a6ddfcc11b425f5d": {
          "model_module": "@jupyter-widgets/output",
          "model_name": "OutputModel",
          "model_module_version": "1.0.0",
          "state": {
            "_view_name": "OutputView",
            "msg_id": "",
            "_dom_classes": [],
            "_model_name": "OutputModel",
            "outputs": [
              {
                "output_type": "display_data",
                "data": {
                  "image/png": "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\n",
                  "text/plain": "<Figure size 1440x432 with 2 Axes>"
                },
                "metadata": {
                  "needs_background": "light"
                }
              }
            ],
            "_view_module": "@jupyter-widgets/output",
            "_model_module_version": "1.0.0",
            "_view_count": null,
            "_view_module_version": "1.0.0",
            "layout": "IPY_MODEL_bddfbece87aa4270be479b3e3311359b",
            "_model_module": "@jupyter-widgets/output"
          }
        },
        "4acd985661924cea9b703c2cdb3bbc8e": {
          "model_module": "@jupyter-widgets/controls",
          "model_name": "SliderStyleModel",
          "model_module_version": "1.5.0",
          "state": {
            "_view_name": "StyleView",
            "handle_color": null,
            "_model_name": "SliderStyleModel",
            "description_width": "",
            "_view_module": "@jupyter-widgets/base",
            "_model_module_version": "1.5.0",
            "_view_count": null,
            "_view_module_version": "1.2.0",
            "_model_module": "@jupyter-widgets/controls"
          }
        },
        "6c4fe18126694dcea8c7e3f97473a773": {
          "model_module": "@jupyter-widgets/base",
          "model_name": "LayoutModel",
          "model_module_version": "1.2.0",
          "state": {
            "_view_name": "LayoutView",
            "grid_template_rows": null,
            "right": null,
            "justify_content": null,
            "_view_module": "@jupyter-widgets/base",
            "overflow": null,
            "_model_module_version": "1.2.0",
            "_view_count": null,
            "flex_flow": null,
            "width": null,
            "min_width": null,
            "border": null,
            "align_items": null,
            "bottom": null,
            "_model_module": "@jupyter-widgets/base",
            "top": null,
            "grid_column": null,
            "overflow_y": null,
            "overflow_x": null,
            "grid_auto_flow": null,
            "grid_area": null,
            "grid_template_columns": null,
            "flex": null,
            "_model_name": "LayoutModel",
            "justify_items": null,
            "grid_row": null,
            "max_height": null,
            "align_content": null,
            "visibility": null,
            "align_self": null,
            "height": null,
            "min_height": null,
            "padding": null,
            "grid_auto_rows": null,
            "grid_gap": null,
            "max_width": null,
            "order": null,
            "_view_module_version": "1.2.0",
            "grid_template_areas": null,
            "object_position": null,
            "object_fit": null,
            "grid_auto_columns": null,
            "margin": null,
            "display": null,
            "left": null
          }
        },
        "e8557be347e6468dbbe4117e7a333503": {
          "model_module": "@jupyter-widgets/controls",
          "model_name": "SliderStyleModel",
          "model_module_version": "1.5.0",
          "state": {
            "_view_name": "StyleView",
            "handle_color": null,
            "_model_name": "SliderStyleModel",
            "description_width": "",
            "_view_module": "@jupyter-widgets/base",
            "_model_module_version": "1.5.0",
            "_view_count": null,
            "_view_module_version": "1.2.0",
            "_model_module": "@jupyter-widgets/controls"
          }
        },
        "5208a3f93d9042fd80d535fa5a997925": {
          "model_module": "@jupyter-widgets/base",
          "model_name": "LayoutModel",
          "model_module_version": "1.2.0",
          "state": {
            "_view_name": "LayoutView",
            "grid_template_rows": null,
            "right": null,
            "justify_content": null,
            "_view_module": "@jupyter-widgets/base",
            "overflow": null,
            "_model_module_version": "1.2.0",
            "_view_count": null,
            "flex_flow": null,
            "width": null,
            "min_width": null,
            "border": null,
            "align_items": null,
            "bottom": null,
            "_model_module": "@jupyter-widgets/base",
            "top": null,
            "grid_column": null,
            "overflow_y": null,
            "overflow_x": null,
            "grid_auto_flow": null,
            "grid_area": null,
            "grid_template_columns": null,
            "flex": null,
            "_model_name": "LayoutModel",
            "justify_items": null,
            "grid_row": null,
            "max_height": null,
            "align_content": null,
            "visibility": null,
            "align_self": null,
            "height": null,
            "min_height": null,
            "padding": null,
            "grid_auto_rows": null,
            "grid_gap": null,
            "max_width": null,
            "order": null,
            "_view_module_version": "1.2.0",
            "grid_template_areas": null,
            "object_position": null,
            "object_fit": null,
            "grid_auto_columns": null,
            "margin": null,
            "display": null,
            "left": null
          }
        },
        "bddfbece87aa4270be479b3e3311359b": {
          "model_module": "@jupyter-widgets/base",
          "model_name": "LayoutModel",
          "model_module_version": "1.2.0",
          "state": {
            "_view_name": "LayoutView",
            "grid_template_rows": null,
            "right": null,
            "justify_content": null,
            "_view_module": "@jupyter-widgets/base",
            "overflow": null,
            "_model_module_version": "1.2.0",
            "_view_count": null,
            "flex_flow": null,
            "width": null,
            "min_width": null,
            "border": null,
            "align_items": null,
            "bottom": null,
            "_model_module": "@jupyter-widgets/base",
            "top": null,
            "grid_column": null,
            "overflow_y": null,
            "overflow_x": null,
            "grid_auto_flow": null,
            "grid_area": null,
            "grid_template_columns": null,
            "flex": null,
            "_model_name": "LayoutModel",
            "justify_items": null,
            "grid_row": null,
            "max_height": null,
            "align_content": null,
            "visibility": null,
            "align_self": null,
            "height": null,
            "min_height": null,
            "padding": null,
            "grid_auto_rows": null,
            "grid_gap": null,
            "max_width": null,
            "order": null,
            "_view_module_version": "1.2.0",
            "grid_template_areas": null,
            "object_position": null,
            "object_fit": null,
            "grid_auto_columns": null,
            "margin": null,
            "display": null,
            "left": null
          }
        }
      }
    }
  },
  "cells": [
    {
      "cell_type": "code",
      "metadata": {
        "id": "gUcWhX-0r9gl"
      },
      "source": [
        "# Libraries for R^2 visualization\n",
        "from ipywidgets import interactive, IntSlider, FloatSlider\n",
        "from math import floor, ceil\n",
        "from sklearn.base import BaseEstimator, RegressorMixin\n",
        "\n",
        "# Libraries for model building\n",
        "from sklearn.linear_model import LinearRegression\n",
        "from sklearn.metrics import mean_absolute_error, mean_squared_error, r2_score\n",
        "import matplotlib.pyplot as plt\n",
        "import numpy as np\n",
        "import pandas as pd\n",
        "\n",
        "# Library for working locally or Colab\n",
        "import sys"
      ],
      "execution_count": 1,
      "outputs": []
    },
    {
      "cell_type": "code",
      "metadata": {
        "id": "E5WTvJFCWQjx"
      },
      "source": [
        "# If you're on Colab:\n",
        "if 'google.colab' in sys.modules:\n",
        "    DATA_PATH = 'https://raw.githubusercontent.com/bloominstituteoftechnology/DS-Unit-2-Applied-Modeling/master/data/'\n",
        "\n",
        "# If you're working locally:\n",
        "else:\n",
        "    DATA_PATH = '../data/'"
      ],
      "execution_count": 4,
      "outputs": []
    },
    {
      "cell_type": "markdown",
      "metadata": {
        "id": "TGelVAREWyrN"
      },
      "source": [
        "# I. Wrangle Data"
      ]
    },
    {
      "cell_type": "code",
      "metadata": {
        "id": "8cTSdKOIMAfP",
        "colab": {
          "base_uri": "https://localhost:8080/"
        },
        "outputId": "1186aa9f-a9e3-412f-b623-2b3815f0c1db"
      },
      "source": [
        "def wrangle(filepath):\n",
        "  #The Initial Data Read In\n",
        "  df = pd.read_csv(DATA_PATH + 'elections/bread_peace_voting.csv')\n",
        "\n",
        "  #Subjective Wrangling Variables (to be edited)\n",
        "  high_cardinality_percentage_threshold = 0.6 #Very Subjective, Should Shrink as Dataset Gets Larger\n",
        "  #high_cardinality_count_threshold = 10\n",
        "\n",
        "  #Procedural Wrangling Variables\n",
        "  cols_to_drop = [] #More Efficient To Only Call Drop Function Once\n",
        "  identifier_cols = []\n",
        "\n",
        "  #Formatting Column Names\n",
        "  df.columns = df.columns.str.upper().str.replace(' ','_')\n",
        "\n",
        "  #Find Indentifier Variables\n",
        "  for col in df:\n",
        "    if df[col].nunique() == df.shape[0]:\n",
        "      identifier_cols.append(col)\n",
        "  df = df.set_index(identifier_cols[0])\n",
        "  #DEFAULTS TO FIRST IDENTIFIER\n",
        "  #OTHER IDENTIFIERS WILL BE DELETED\n",
        "\n",
        "  #Drop Columns With Only One Value\n",
        "  for col in df:\n",
        "      if df[col].nunique() == 1:\n",
        "        cols_to_drop.append(col)\n",
        "\n",
        "  #Drop Columns With High Cardinality (Too Many Categorical Variable States)\n",
        "  for col in df:\n",
        "    if df[col].dtype == 'object': #Filter For Categorical Variables\n",
        "      if df[col].nunique() / df.shape[0] > high_cardinality_percentage_threshold:\n",
        "        cols_to_drop.append(col)\n",
        "\n",
        "  print('DROPPED COLUMNS:', cols_to_drop)\n",
        "  df = df.drop(cols_to_drop, axis=1)\n",
        "  return df\n",
        "\n",
        "df = wrangle(DATA_PATH + 'elections/bread_peace_voting.csv')"
      ],
      "execution_count": 61,
      "outputs": [
        {
          "output_type": "stream",
          "name": "stdout",
          "text": [
            "DROPPED COLUMNS: ['INCUMBENT_PARTY_CANDIDATE', 'OTHER_CANDIDATE']\n"
          ]
        }
      ]
    },
    {
      "cell_type": "code",
      "metadata": {
        "colab": {
          "base_uri": "https://localhost:8080/"
        },
        "id": "bUbZ90eh1zBN",
        "outputId": "bb6f2835-d0d1-4842-c194-a4f04727ccd8"
      },
      "source": [
        "print(list(df.columns)); print()\n",
        "\n",
        "print(df.nunique()); print()\n",
        "\n",
        "#print(df.head()); print()\n",
        "\n",
        "#print(df.info()); print()"
      ],
      "execution_count": 64,
      "outputs": [
        {
          "output_type": "stream",
          "name": "stdout",
          "text": [
            "['AVERAGE_RECENT_GROWTH_IN_PERSONAL_INCOMES', 'US_MILITARY_FATALITIES_PER_MILLION', 'INCUMBENT_PARTY_VOTE_SHARE']\n",
            "\n",
            "AVERAGE_RECENT_GROWTH_IN_PERSONAL_INCOMES    16\n",
            "US_MILITARY_FATALITIES_PER_MILLION            8\n",
            "INCUMBENT_PARTY_VOTE_SHARE                   17\n",
            "dtype: int64\n",
            "\n"
          ]
        }
      ]
    },
    {
      "cell_type": "markdown",
      "metadata": {
        "id": "I6C3HacLCHTi"
      },
      "source": [
        "If a model performs well on unseen data (the testing set), it is said to be **generalized**\n",
        "\n",
        "**Overfitting** is when a **complex model** is being perfectly matched to the data, giving **low bias** and **high variance**\n",
        "\n",
        "**Underfitting** is when a **simple model** is being roughly approximated to the data, giving **high bias** but **low variance**\n",
        "\n",
        "**BIAS** the degree of matching to the data set\n",
        "\n",
        "**VARIANCE** in how much the model changes when trained on different subsets of your data set"
      ]
    },
    {
      "cell_type": "markdown",
      "metadata": {
        "id": "Dek_MCFyXLq7"
      },
      "source": [
        "# II. Split Data\n",
        "\n",
        "**First** we need to split our **target vector** from our **feature matrix**."
      ]
    },
    {
      "cell_type": "code",
      "metadata": {
        "id": "8m9W00DPo9Vp"
      },
      "source": [
        "#THIS SHORTCUT REQUIRES PROPER WRANGLING\n",
        "target = 'INCUMBENT_PARTY_VOTE_SHARE'\n",
        "y = df[target]\n",
        "X = df.drop(columns=target)\n",
        "#X = df.drop(target,axis=1) #Alternative Method"
      ],
      "execution_count": 57,
      "outputs": []
    },
    {
      "cell_type": "markdown",
      "metadata": {
        "id": "DZkHRqALX2be"
      },
      "source": [
        "**Second** we need to split our dataset into **training** and **test** sets.\n",
        "\n",
        "Two strategies:\n",
        "\n",
        "- Random train-test split using [`train_test_split`](https://scikit-learn.org/stable/modules/generated/sklearn.model_selection.train_test_split.html). Generally we use 80% of the data for training, and 20% of the data for testing.\n",
        "- If you have **timeseries**, then you need to do a \"cutoff\" split.\n",
        "  * We want our train/test splits to preserve temporal order so that the model can demonstrate future prediction"
      ]
    },
    {
      "cell_type": "code",
      "metadata": {
        "id": "RJqL21ur3sDm"
      },
      "source": [
        "from sklearn.model_selection import train_test_split\n",
        "\n",
        "percentage_to_save_for_testing = 0.2\n",
        "\n",
        "#RANDOM SPLIT\n",
        "X_train, X_test, y_train, y_test = train_test_split(X, y,\n",
        "                test_size=percentage_to_save_for_testing,\n",
        "                random_state=42) #This Will Fix The Rank Seed For The Split\n",
        "\n",
        "#CUTOFF SPLIT (used for time series)\n",
        "\n",
        "cutoff = 2004\n",
        "\n",
        "#print(np.percentile(np.array(X.index), 0.2)) \n",
        "\n",
        "mask = X.index < cutoff\n",
        "\n",
        "X_train = X.loc[mask]\n",
        "y_train = y.loc[mask]\n",
        "\n",
        "X_test = X.loc[~mask]\n",
        "y_test = y.loc[~mask]\n",
        "\n",
        "#np.bitwise_not(mask) #What does this do? I wasn't paying attention."
      ],
      "execution_count": 73,
      "outputs": []
    },
    {
      "cell_type": "markdown",
      "metadata": {
        "id": "7iSEjfzTdJtS"
      },
      "source": [
        "# III. Establish Baseline"
      ]
    },
    {
      "cell_type": "code",
      "metadata": {
        "id": "VlB3cu_l3s1J",
        "colab": {
          "base_uri": "https://localhost:8080/"
        },
        "outputId": "ec7a5b88-3da8-483d-831d-cb11f0e80412"
      },
      "source": [
        "y_pred_baseline = [y_train.mean()] * len(y_train)\n",
        "baseline_mae = mean_absolute_error(y_train, y_pred_baseline)\n",
        "\n",
        "print('Mean Vote Share:', y_train.mean())\n",
        "print('Baseline MAE:', baseline_mae)"
      ],
      "execution_count": 77,
      "outputs": [
        {
          "output_type": "stream",
          "name": "stdout",
          "text": [
            "Mean Vote Share: 52.56307692307692\n",
            "Baseline MAE: 5.132544378698224\n"
          ]
        }
      ]
    },
    {
      "cell_type": "markdown",
      "metadata": {
        "id": "PzZqgSfpd6Z9"
      },
      "source": [
        "# IV. Build Model"
      ]
    },
    {
      "cell_type": "code",
      "metadata": {
        "id": "YK9UgruML0sL",
        "colab": {
          "base_uri": "https://localhost:8080/"
        },
        "outputId": "5e3b769f-3f82-4307-f15d-bdd6044e8b5a"
      },
      "source": [
        "model = LinearRegression()\n",
        "\n",
        "model.fit(X_train, y_train)"
      ],
      "execution_count": 78,
      "outputs": [
        {
          "output_type": "execute_result",
          "data": {
            "text/plain": [
              "LinearRegression()"
            ]
          },
          "metadata": {},
          "execution_count": 78
        }
      ]
    },
    {
      "cell_type": "markdown",
      "metadata": {
        "id": "kKS9OY-0eYyU"
      },
      "source": [
        "# V. Check Metrics\n",
        "\n",
        "## Mean Absolute Error\n",
        "\n",
        "The unit of measurement is the same as the unit of measurment for your target (in this case, vote share [%])."
      ]
    },
    {
      "cell_type": "code",
      "metadata": {
        "id": "jjsNKDYY3wws",
        "colab": {
          "base_uri": "https://localhost:8080/"
        },
        "outputId": "7733c532-5d8d-405c-a25e-af14d0b09a48"
      },
      "source": [
        "print('Training MAE:', mean_absolute_error(y_train, model.predict(X_train)))\n",
        "print('Test MAE:', mean_absolute_error(y_test, model.predict(X_test)))"
      ],
      "execution_count": 79,
      "outputs": [
        {
          "output_type": "stream",
          "name": "stdout",
          "text": [
            "Training MAE: 1.3737002516876717\n",
            "Test MAE: 1.4133453705003944\n"
          ]
        }
      ]
    },
    {
      "cell_type": "markdown",
      "metadata": {
        "id": "kIONo_fwKumG"
      },
      "source": [
        "Is it generalizing well? The difference is relatively small, so the model is **generalizing somehwat well**\n",
        "\n",
        "Is it overfit or underfit? **Slightly overfit** (works better on training set)"
      ]
    },
    {
      "cell_type": "markdown",
      "metadata": {
        "id": "gbbgj--egYyJ"
      },
      "source": [
        "## Root Mean Squared Error\n",
        "\n",
        "The unit of measurement is the same as the unit of measurment for your target (in this case, vote share [%])."
      ]
    },
    {
      "cell_type": "markdown",
      "metadata": {
        "id": "YYlUb7sqMX7a"
      },
      "source": [
        "$ \\sqrt{\\frac{\\sum{ (y-\\hat{y})^2 } }{n}} $"
      ]
    },
    {
      "cell_type": "code",
      "metadata": {
        "id": "D8RUCk0u3x9L",
        "colab": {
          "base_uri": "https://localhost:8080/"
        },
        "outputId": "5142ac3d-1d30-401a-f0c1-f8064a5c3165"
      },
      "source": [
        "print('Training RMSE:', mean_squared_error(y_train, model.predict(X_train), squared=False))\n",
        "print('Test RMSE:', mean_squared_error(y_test, model.predict(X_test), squared=False))"
      ],
      "execution_count": 83,
      "outputs": [
        {
          "output_type": "stream",
          "name": "stdout",
          "text": [
            "Training RMSE: 2.0376005753896838\n",
            "Test RMSE: 1.623765003537601\n"
          ]
        }
      ]
    },
    {
      "cell_type": "markdown",
      "metadata": {
        "id": "f_Lx7YttPXvC"
      },
      "source": [
        "This shows that there are more outliers in the training set?"
      ]
    },
    {
      "cell_type": "markdown",
      "metadata": {
        "id": "JiG46uC-kQGW"
      },
      "source": [
        "## $R^2$ Score\n",
        "\n",
        "TL;DR: Usually ranges between 0 (bad) and 1 (good)."
      ]
    },
    {
      "cell_type": "markdown",
      "metadata": {
        "id": "KQ06xrP3Ne3h"
      },
      "source": [
        "Equation for R2: 1 - (ModelSS)/(Baseline SS)\n",
        "\n",
        "where SS = sum of squares"
      ]
    },
    {
      "cell_type": "code",
      "metadata": {
        "id": "i5eupTWdNU0d",
        "outputId": "3160c1c0-5d62-456d-d57b-356dbb5caad5",
        "colab": {
          "base_uri": "https://localhost:8080/"
        }
      },
      "source": [
        "print('Training R2:', r2_score(y_train, model.predict(X_train)))\n",
        "print('Test R2:', r2_score(y_test, model.predict(X_test)))"
      ],
      "execution_count": 82,
      "outputs": [
        {
          "output_type": "stream",
          "name": "stdout",
          "text": [
            "Training R2: 0.8759203630180873\n",
            "Test R2: 0.4993519697110995\n"
          ]
        }
      ]
    },
    {
      "cell_type": "code",
      "metadata": {
        "id": "Jd8RMizqO2Ni",
        "outputId": "408002fe-d870-4d24-a761-929a57684aad",
        "colab": {
          "base_uri": "https://localhost:8080/"
        }
      },
      "source": [
        "#BASED ON MODEL, .score WILL FIND THE APPROPRIATE SCORE ASSOCIATED WITH THAT MODEL\n",
        "# For Linear Regressions, It Gives R2\n",
        "print('Training R2:', model.score(X_train, y_train))\n",
        "print('Test R2:', model.score(X_test, y_test))"
      ],
      "execution_count": 84,
      "outputs": [
        {
          "output_type": "stream",
          "name": "stdout",
          "text": [
            "Training R2: 0.8759203630180873\n",
            "Test R2: 0.4993519697110995\n"
          ]
        }
      ]
    },
    {
      "cell_type": "markdown",
      "metadata": {
        "id": "q1yrF-1yONh0"
      },
      "source": [
        "**This looks bad, but we should always look at mean square errors in conjunction with R squared**"
      ]
    },
    {
      "cell_type": "code",
      "metadata": {
        "id": "zf_iOHjGP2Aj",
        "outputId": "37d1fceb-3495-45d4-a8c1-d991ff16aa5c",
        "colab": {
          "base_uri": "https://localhost:8080/"
        }
      },
      "source": [
        "print(list(df.columns))"
      ],
      "execution_count": 89,
      "outputs": [
        {
          "output_type": "stream",
          "name": "stdout",
          "text": [
            "['AVERAGE_RECENT_GROWTH_IN_PERSONAL_INCOMES', 'US_MILITARY_FATALITIES_PER_MILLION', 'INCUMBENT_PARTY_VOTE_SHARE']\n"
          ]
        }
      ]
    },
    {
      "cell_type": "code",
      "metadata": {
        "id": "23FV-p8bh61A",
        "colab": {
          "base_uri": "https://localhost:8080/",
          "height": 468,
          "referenced_widgets": [
            "a5a2e2f391064289a2c960edfa4bc17f",
            "1d9cd8837e384b24865a49f4bca9bd09",
            "7b46b8d48b1b4d34a2edf15f260cb329",
            "eb954db1606c410e9890f3272599432e",
            "c2821535a66e4979a6ddfcc11b425f5d",
            "4acd985661924cea9b703c2cdb3bbc8e",
            "6c4fe18126694dcea8c7e3f97473a773",
            "e8557be347e6468dbbe4117e7a333503",
            "5208a3f93d9042fd80d535fa5a997925",
            "bddfbece87aa4270be479b3e3311359b"
          ]
        },
        "outputId": "6f58f835-fb9a-4b9e-aaa4-95f80ebc93ab"
      },
      "source": [
        "class BruteForceRegressor(BaseEstimator, RegressorMixin):\n",
        "    def __init__(self, m=0, b=0):\n",
        "        self.m = m\n",
        "        self.b = b\n",
        "        self.mean = 0\n",
        "        \n",
        "    def fit(self, X, y):\n",
        "        self.mean = np.mean(y)\n",
        "        return self\n",
        "    \n",
        "    def predict(self, X, return_mean=True):\n",
        "        if return_mean:\n",
        "            return [self.mean] * len(X)\n",
        "        else:\n",
        "            return X * self.m + self.b\n",
        "\n",
        "def plot(slope, intercept):\n",
        "    # Assign data to variables\n",
        "    x = df['AVERAGE_RECENT_GROWTH_IN_PERSONAL_INCOMES']\n",
        "    y = df['INCUMBENT_PARTY_VOTE_SHARE']\n",
        "    \n",
        "    # Create figure\n",
        "    fig, (ax1, ax2) = plt.subplots(1, 2, figsize=(20,6))\n",
        "    \n",
        "    # Set ax limits\n",
        "    mar = 0.2\n",
        "    x_lim = floor(x.min() - x.min()*mar), ceil(x.max() + x.min()*mar)\n",
        "    y_lim = floor(y.min() - y.min()*mar), ceil(y.max() + y.min()*mar)\n",
        "    \n",
        "    # Instantiate and train model\n",
        "    bfr = BruteForceRegressor(slope, intercept)\n",
        "    bfr.fit(x, y)\n",
        "    \n",
        "    # ax1   \n",
        "    ## Plot data\n",
        "    ax1.set_xlim(x_lim)\n",
        "    ax1.set_ylim(y_lim)\n",
        "    ax1.scatter(x, y)\n",
        "    \n",
        "    ## Plot base model\n",
        "    ax1.axhline(bfr.mean, color='orange', label='baseline model')\n",
        "    \n",
        "    ## Plot residual lines\n",
        "    y_base_pred = bfr.predict(x)\n",
        "    ss_base = mean_squared_error(y, y_base_pred) * len(y)\n",
        "    for x_i, y_i, yp_i in zip(x, y, y_base_pred):\n",
        "        ax1.plot([x_i, x_i], [y_i, yp_i], \n",
        "                 color='gray', linestyle='--', alpha=0.75)\n",
        "    \n",
        "    ## Formatting\n",
        "    ax1.legend()\n",
        "    ax1.set_title(f'Sum of Squares: {np.round(ss_base, 2)}')\n",
        "    ax1.set_xlabel('Growth in Personal Incomes')\n",
        "    ax1.set_ylabel('Incumbent Party Vote Share [%]')\n",
        "\n",
        "    # ax2\n",
        "\n",
        "    ax2.set_xlim(x_lim)\n",
        "    ax2.set_ylim(y_lim)\n",
        "    ## Plot data\n",
        "    ax2.scatter(x, y)\n",
        "    \n",
        "    ## Plot model\n",
        "    x_model = np.linspace(*ax2.get_xlim(), 10)\n",
        "    y_model = bfr.predict(x_model, return_mean=False)\n",
        "    ax2.plot(x_model, y_model, color='green', label='our model')\n",
        "    for x_coord, y_coord in zip(x, y):\n",
        "        ax2.plot([x_coord, x_coord], [y_coord, x_coord * slope + intercept], \n",
        "                 color='gray', linestyle='--', alpha=0.75)   \n",
        "    \n",
        "    ss_ours = mean_squared_error(y, bfr.predict(x, return_mean=False)) * len(y)\n",
        "    \n",
        "    ## Formatting\n",
        "    ax2.legend()\n",
        "    ax2.set_title(f'Sum of Squares: {np.round(ss_ours, 2)}')\n",
        "    ax2.set_xlabel('Growth in Personal Incomes')\n",
        "    ax2.set_ylabel('Incumbent Party Vote Share [%]')\n",
        "\n",
        "y = df['INCUMBENT_PARTY_VOTE_SHARE']\n",
        "slope_slider = FloatSlider(min=-5, max=5, step=0.5, value=0)\n",
        "intercept_slider = FloatSlider(min=int(y.min()), max=y.max(), step=2, value=y.mean())\n",
        "    \n",
        "interactive(plot, slope=slope_slider, intercept=intercept_slider)"
      ],
      "execution_count": 90,
      "outputs": [
        {
          "output_type": "display_data",
          "data": {
            "application/vnd.jupyter.widget-view+json": {
              "model_id": "a5a2e2f391064289a2c960edfa4bc17f",
              "version_minor": 0,
              "version_major": 2
            },
            "text/plain": [
              "interactive(children=(FloatSlider(value=0.0, description='slope', max=5.0, min=-5.0, step=0.5), FloatSlider(va…"
            ]
          },
          "metadata": {}
        }
      ]
    },
    {
      "cell_type": "markdown",
      "metadata": {
        "id": "6eHzIsbYqcgo"
      },
      "source": [
        "# VI. Communicate Results\n",
        "\n",
        "**Challenge:** How can we find the coefficients and intercept for our `model`?"
      ]
    },
    {
      "cell_type": "code",
      "metadata": {
        "id": "U9reRJKE7T-6",
        "colab": {
          "base_uri": "https://localhost:8080/"
        },
        "outputId": "28c981fe-3401-4d77-a110-fe86e435ec28"
      },
      "source": [
        "print(\"The Coefficient for Income is: \", model.coef_[0])\n",
        "print(\"The Coefficient for Fatalities is: \", model.coef_[1])\n",
        "print(\"The Model Intercept is: \", model.intercept_)"
      ],
      "execution_count": 91,
      "outputs": [
        {
          "output_type": "stream",
          "name": "stdout",
          "text": [
            "The Coefficient for Income is:  3.5769044691079976\n",
            "The Coefficient for Fatalities is:  -0.05355141496518978\n",
            "The Model Intercept is:  46.36824118234689\n"
          ]
        }
      ]
    },
    {
      "cell_type": "markdown",
      "metadata": {
        "id": "i7_pI2ePQjbu"
      },
      "source": [
        "What is the most important feature?\n",
        "\n",
        "Income because its coefficient has a greater absolute value"
      ]
    },
    {
      "cell_type": "markdown",
      "metadata": {
        "id": "rQdvJmlLQ9Si"
      },
      "source": [
        "**Always use the coefficient magnitude to determine which features are most important**"
      ]
    }
  ]
}