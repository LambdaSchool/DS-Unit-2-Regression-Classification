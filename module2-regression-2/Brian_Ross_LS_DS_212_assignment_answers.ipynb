{
  "nbformat": 4,
  "nbformat_minor": 0,
  "metadata": {
    "colab": {
      "name": "assignment_regression_classification_2.ipynb",
      "provenance": [],
      "collapsed_sections": [],
      "include_colab_link": true
    },
    "kernelspec": {
      "display_name": "Python 3",
      "language": "python",
      "name": "python3"
    },
    "language_info": {
      "codemirror_mode": {
        "name": "ipython",
        "version": 3
      },
      "file_extension": ".py",
      "mimetype": "text/x-python",
      "name": "python",
      "nbconvert_exporter": "python",
      "pygments_lexer": "ipython3",
      "version": "3.7.3"
    }
  },
  "cells": [
    {
      "cell_type": "markdown",
      "metadata": {
        "id": "view-in-github",
        "colab_type": "text"
      },
      "source": [
        "<a href=\"https://colab.research.google.com/github/BrianThomasRoss/DS-Unit-2-Linear-Models/blob/master/module2-regression-2/Brian_Ross_LS_DS_212_assignment_answers.ipynb\" target=\"_parent\"><img src=\"https://colab.research.google.com/assets/colab-badge.svg\" alt=\"Open In Colab\"/></a>"
      ]
    },
    {
      "cell_type": "markdown",
      "metadata": {
        "id": "uEX22Q-Exg3Q",
        "colab_type": "text"
      },
      "source": [
        "Lambda School Data Science\n",
        "\n",
        "*Unit 2, Sprint 1, Module 2*\n",
        "\n",
        "---"
      ]
    },
    {
      "cell_type": "markdown",
      "metadata": {
        "colab_type": "text",
        "id": "7IXUfiQ2UKj6"
      },
      "source": [
        "# Regression 2\n",
        "\n",
        "## Assignment\n",
        "\n",
        "You'll continue to **predict how much it costs to rent an apartment in NYC,** using the dataset from renthop.com.\n",
        "\n",
        "- [ ] Do train/test split. Use data from April & May 2016 to train. Use data from June 2016 to test.\n",
        "- [ ] Engineer at least two new features. (See below for explanation & ideas.)\n",
        "- [ ] Fit a linear regression model with at least two features.\n",
        "- [ ] Get the model's coefficients and intercept.\n",
        "- [ ] Get regression metrics RMSE, MAE, and $R^2$, for both the train and test data.\n",
        "- [ ] What's the best test MAE you can get? Share your score and features used with your cohort on Slack!\n",
        "- [ ] As always, commit your notebook to your fork of the GitHub repo.\n",
        "\n",
        "\n",
        "#### [Feature Engineering](https://en.wikipedia.org/wiki/Feature_engineering)\n",
        "\n",
        "> \"Some machine learning projects succeed and some fail. What makes the difference? Easily the most important factor is the features used.\" — Pedro Domingos, [\"A Few Useful Things to Know about Machine Learning\"](https://homes.cs.washington.edu/~pedrod/papers/cacm12.pdf)\n",
        "\n",
        "> \"Coming up with features is difficult, time-consuming, requires expert knowledge. 'Applied machine learning' is basically feature engineering.\" — Andrew Ng, [Machine Learning and AI via Brain simulations](https://forum.stanford.edu/events/2011/2011slides/plenary/2011plenaryNg.pdf) \n",
        "\n",
        "> Feature engineering is the process of using domain knowledge of the data to create features that make machine learning algorithms work. \n",
        "\n",
        "#### Feature Ideas\n",
        "- Does the apartment have a description?\n",
        "- How long is the description?\n",
        "- How many total perks does each apartment have?\n",
        "- Are cats _or_ dogs allowed?\n",
        "- Are cats _and_ dogs allowed?\n",
        "- Total number of rooms (beds + baths)\n",
        "- Ratio of beds to baths\n",
        "- What's the neighborhood, based on address or latitude & longitude?\n",
        "\n",
        "## Stretch Goals\n",
        "- [ ] If you want more math, skim [_An Introduction to Statistical Learning_](http://faculty.marshall.usc.edu/gareth-james/ISL/ISLR%20Seventh%20Printing.pdf),  Chapter 3.1, Simple Linear Regression, & Chapter 3.2, Multiple Linear Regression\n",
        "- [ ] If you want more introduction, watch [Brandon Foltz, Statistics 101: Simple Linear Regression](https://www.youtube.com/watch?v=ZkjP5RJLQF4)\n",
        "(20 minutes, over 1 million views)\n",
        "- [ ] Add your own stretch goal(s) !"
      ]
    },
    {
      "cell_type": "code",
      "metadata": {
        "colab_type": "code",
        "id": "o9eSnDYhUGD7",
        "colab": {}
      },
      "source": [
        "%%capture\n",
        "import sys\n",
        "\n",
        "# If you're on Colab:\n",
        "if 'google.colab' in sys.modules:\n",
        "    DATA_PATH = 'https://raw.githubusercontent.com/LambdaSchool/DS-Unit-2-Applied-Modeling/master/data/'\n",
        "    !pip install category_encoders==2.*\n",
        "\n",
        "# If you're working locally:\n",
        "else:\n",
        "    DATA_PATH = '../data/'\n",
        "    \n",
        "# Ignore this Numpy warning when using Plotly Express:\n",
        "# FutureWarning: Method .ptp is deprecated and will be removed in a future version. Use numpy.ptp instead.\n",
        "import warnings\n",
        "warnings.filterwarnings(action='ignore', category=FutureWarning, module='numpy')"
      ],
      "execution_count": 0,
      "outputs": []
    },
    {
      "cell_type": "code",
      "metadata": {
        "colab_type": "code",
        "id": "cvrw-T3bZOuW",
        "colab": {}
      },
      "source": [
        "import numpy as np\n",
        "import pandas as pd\n",
        "\n",
        "# Read New York City apartment rental listing data\n",
        "df = pd.read_csv(DATA_PATH+'apartments/renthop-nyc.csv')\n",
        "assert df.shape == (49352, 34)\n",
        "\n",
        "# Remove the most extreme 1% prices,\n",
        "# the most extreme .1% latitudes, &\n",
        "# the most extreme .1% longitudes\n",
        "df = df[(df['price'] >= np.percentile(df['price'], 0.5)) & \n",
        "        (df['price'] <= np.percentile(df['price'], 99.5)) & \n",
        "        (df['latitude'] >= np.percentile(df['latitude'], 0.05)) & \n",
        "        (df['latitude'] < np.percentile(df['latitude'], 99.95)) &\n",
        "        (df['longitude'] >= np.percentile(df['longitude'], 0.05)) & \n",
        "        (df['longitude'] <= np.percentile(df['longitude'], 99.95))]"
      ],
      "execution_count": 0,
      "outputs": []
    },
    {
      "cell_type": "markdown",
      "metadata": {
        "id": "_CETwYkoE2kk",
        "colab_type": "text"
      },
      "source": [
        "### Train / Test Split"
      ]
    },
    {
      "cell_type": "code",
      "metadata": {
        "id": "fvlK4RK3y8Yk",
        "colab_type": "code",
        "colab": {
          "base_uri": "https://localhost:8080/",
          "height": 241
        },
        "outputId": "c5f51280-be77-4fa8-e087-56ea382ca8c4"
      },
      "source": [
        "df.description.value_counts()"
      ],
      "execution_count": 191,
      "outputs": [
        {
          "output_type": "execute_result",
          "data": {
            "text/plain": [
              "                                                                                                                                                                                                                                                                                                                                                                                                                                                                                                                                                                                                                                                                                                                                               1627\n",
              "<p><a  website_redacted                                                                                                                                                                                                                                                                                                                                                                                                                                                                                                                                                                                                                                                                                                                         325\n",
              "                                                                                                                                                                                                                                                                                                                                                                                                                                                                                                                                                                                                                                                                                                                                                235\n",
              "A detailed description is coming soon. Please contact your Highline Residential agent with any questions.                                                                                                                                                                                                                                                                                                                                                                                                                                                                                                                                                                                                                                       123\n",
              "These pictures are from a similarlisting.                                                                                                                                                                                                                                                                                                                                                                                                                                                                                                                                                                                                                                                                                                        64\n",
              "                                                                                                                                                                                                                                                                                                                                                                                                                                                                                                                                                                                                                                                                                                                                               ... \n",
              "RENOVATED STUDIO WITH HUGE GARDEN** Brand New Renovation** Great Light**, Between First And Second ..Easy Access To Subway. **GREAT LOCATION! FANTASTIC DEAL!! I LOVE THIS STREET!!Call Or Tex Lucy@ 479-132-2018Bond New York is a real estate broker that supports equal housing opportunity.<p><a  website_redacted                                                                                                                                                                                                                                                                                                                                                                                                                            1\n",
              "New, Modern 2 Bedroom with Awesome finishes, Queen Sized Rooms. Close to Columbia & Morningside Park! This is a Total Steal at this Price --- Make it Yours Today!*** Please feel free to contact me about any listing that you see on the website. I have access to everything and would love to work with you.                                                                                                                                                                                                                                                                                                                                                                                                                                  1\n",
              "True 2 bedroom in the heart of midtown! New floors, cabinets, all Stainless steel appliances, open kitchen and living room with space for all of your furniture! Bring a sofa, an entertainment center, a dining room table, a desk and queen size beds for the bedrooms!<br /><br />Doorman, laundry, elevator and a prime midtown location make this a great deal!<br /><br /><br /><br />Close to absolutely everything our amazing city has to offer! Restaurant galore, night life, shopping, galleries, theater, yoga studios and gyms, parks, museums and all public transportation! Call or e-mail Lyuba to schedule a viewing! Apartments of various sizes available in this and other city neighborhoods!<p><a  website_redacted        1\n",
              "In the heart of the Lower East Side is this GORGEOUS 1 bedroom (flex 2) home. \\r\\rThe apartment features:\\rFloor to ceiling windows, very light and airy with floor to ceiling windows.\\rItalian kitchen, spacious bathroom, bamboo wood flooring,\\rwasher/dryer in apartment.\\r\\rThe building features:\\rFitness Room, Bike room, \\rfully furnished and landscaped roof terrace and 2nd floor patio with BBQ. \\r24 hour doorman/concierge. \\rDuane Reade on first floor - near subways and private shuttle service provided. \\r\\rContact kagglemanager@renthop.com to see this amazing space today! \\r\\r**Rent reflects net effective after 1 months free on a 13 month lease**\\rBase rent is $4100\\r\\r                                          1\n",
              "ELEVATOR - LAUNDRY <br /><br />Bond New York is a real estate broker that supports equal housing opportunity.<p><a  website_redacted                                                                                                                                                                                                                                                                                                                                                                                                                                                                                                                                                                                                              1\n",
              "Name: description, Length: 37853, dtype: int64"
            ]
          },
          "metadata": {
            "tags": []
          },
          "execution_count": 191
        }
      ]
    },
    {
      "cell_type": "code",
      "metadata": {
        "id": "Km-MTw3uxoMh",
        "colab_type": "code",
        "colab": {}
      },
      "source": [
        "def check_month(row):\n",
        "  month_created = row.split(\"-\")[1]\n",
        "  return month_created"
      ],
      "execution_count": 0,
      "outputs": []
    },
    {
      "cell_type": "code",
      "metadata": {
        "id": "VXYmUoaAxtQZ",
        "colab_type": "code",
        "colab": {}
      },
      "source": [
        "train = df.loc[(df['created'].apply(check_month) == \"04\") |                     #  Only the months of April and May\n",
        "               (df['created'].apply(check_month) == \"05\")]                                    \n",
        "test =  df.loc[df['created'].apply(check_month) == \"06\"]                        #  Only the month of June"
      ],
      "execution_count": 0,
      "outputs": []
    },
    {
      "cell_type": "markdown",
      "metadata": {
        "id": "qKebgagRE844",
        "colab_type": "text"
      },
      "source": [
        "## Feature Engineering"
      ]
    },
    {
      "cell_type": "markdown",
      "metadata": {
        "id": "unJ1O5AUba0q",
        "colab_type": "text"
      },
      "source": [
        "### 1"
      ]
    },
    {
      "cell_type": "code",
      "metadata": {
        "id": "lfY1-jvwE8ai",
        "colab_type": "code",
        "colab": {
          "base_uri": "https://localhost:8080/",
          "height": 170
        },
        "outputId": "a868c0d0-5f3a-48f5-9b18-cc692198cba9"
      },
      "source": [
        "df.columns"
      ],
      "execution_count": 194,
      "outputs": [
        {
          "output_type": "execute_result",
          "data": {
            "text/plain": [
              "Index(['bathrooms', 'bedrooms', 'created', 'description', 'display_address',\n",
              "       'latitude', 'longitude', 'price', 'street_address', 'interest_level',\n",
              "       'elevator', 'cats_allowed', 'hardwood_floors', 'dogs_allowed',\n",
              "       'doorman', 'dishwasher', 'no_fee', 'laundry_in_building',\n",
              "       'fitness_center', 'pre-war', 'laundry_in_unit', 'roof_deck',\n",
              "       'outdoor_space', 'dining_room', 'high_speed_internet', 'balcony',\n",
              "       'swimming_pool', 'new_construction', 'terrace', 'exclusive', 'loft',\n",
              "       'garden_patio', 'wheelchair_access', 'common_outdoor_space'],\n",
              "      dtype='object')"
            ]
          },
          "metadata": {
            "tags": []
          },
          "execution_count": 194
        }
      ]
    },
    {
      "cell_type": "code",
      "metadata": {
        "id": "WEv_FaoSFXJg",
        "colab_type": "code",
        "colab": {}
      },
      "source": [
        "def is_premium(df):\n",
        "  \"\"\"\n",
        "  Function to determine if apartment listing can be considered as premium based\n",
        "  on having all of the qualifying amenities listed in the DataFrame\n",
        "  \"\"\" \n",
        "  # Amenities\n",
        "\n",
        "  has_pool = df['swimming_pool']\n",
        "  has_fitness_center = df['fitness_center']\n",
        "  has_laundry_in_unit = df['laundry_in_unit']\n",
        "  has_high_speed_internet = df['high_speed_internet']\n",
        "  has_doorman = df['doorman']\n",
        "  has_elevator = df['elevator']\n",
        "  has_dishwasher = df['dishwasher']\n",
        "\n",
        "  amenities_sum = has_pool + has_fitness_center + has_laundry_in_unit + has_high_speed_internet + has_doorman + has_elevator + has_dishwasher\n",
        "\n",
        "  if amenities_sum == 7: # If apartment has all the amenities, then it is premium\n",
        "    is_premium = 1\n",
        "  else:\n",
        "    is_premium = 0\n",
        "\n",
        "  df['is_premium'] = is_premium\n",
        "\n",
        "  return df\n",
        "\n",
        "\n"
      ],
      "execution_count": 0,
      "outputs": []
    },
    {
      "cell_type": "code",
      "metadata": {
        "id": "sq0jrYIjW5WA",
        "colab_type": "code",
        "colab": {}
      },
      "source": [
        "train = train.apply(is_premium, axis=1)\n",
        "test = test.apply(is_premium, axis=1)       # Apply function"
      ],
      "execution_count": 0,
      "outputs": []
    },
    {
      "cell_type": "code",
      "metadata": {
        "id": "mXhMkpB3W9V3",
        "colab_type": "code",
        "colab": {
          "base_uri": "https://localhost:8080/",
          "height": 68
        },
        "outputId": "d6aac9d7-e5bf-4e90-f3d2-9e86a7e23cc9"
      },
      "source": [
        "train['is_premium'].value_counts()    # Check function worked"
      ],
      "execution_count": 197,
      "outputs": [
        {
          "output_type": "execute_result",
          "data": {
            "text/plain": [
              "0    31513\n",
              "1      331\n",
              "Name: is_premium, dtype: int64"
            ]
          },
          "metadata": {
            "tags": []
          },
          "execution_count": 197
        }
      ]
    },
    {
      "cell_type": "markdown",
      "metadata": {
        "id": "iGyoYjtJbdIX",
        "colab_type": "text"
      },
      "source": [
        "### 2"
      ]
    },
    {
      "cell_type": "code",
      "metadata": {
        "id": "LFbdhAARZdvY",
        "colab_type": "code",
        "colab": {}
      },
      "source": [
        "def bed_to_bath_ratio(df):\n",
        "  try:\n",
        "    df['bed_to_bath_ratio'] = df['bathrooms'] / df['bedrooms']\n",
        "  except ZeroDivisionError:\n",
        "    df['bed_to_bath_ratio'] = 0\n",
        "  return df\n",
        "\n",
        "train = train.apply(bed_to_bath_ratio, axis=1)\n",
        "test = test.apply(bed_to_bath_ratio, axis=1)"
      ],
      "execution_count": 0,
      "outputs": []
    },
    {
      "cell_type": "markdown",
      "metadata": {
        "id": "guTf7AJwpOx5",
        "colab_type": "text"
      },
      "source": [
        "### 3"
      ]
    },
    {
      "cell_type": "code",
      "metadata": {
        "id": "NT6Ngu-bpGyj",
        "colab_type": "code",
        "colab": {}
      },
      "source": [
        "def interest_level_to_numeric(df):\n",
        "\n",
        "  if df['interest_level'] == 'high':\n",
        "    df['interest_level'] = 3\n",
        "  if df['interest_level'] == \"medium\":\n",
        "    df['interest_level'] = 2\n",
        "  if df['interest_level'] == \"low\":\n",
        "    df['interest_level'] = 1\n",
        "\n",
        "  return df"
      ],
      "execution_count": 0,
      "outputs": []
    },
    {
      "cell_type": "code",
      "metadata": {
        "id": "1Yf-GNZwpz3v",
        "colab_type": "code",
        "colab": {}
      },
      "source": [
        "train = train.apply(interest_level_to_numeric, axis=1)\n",
        "test = test.apply(interest_level_to_numeric, axis=1)"
      ],
      "execution_count": 0,
      "outputs": []
    },
    {
      "cell_type": "markdown",
      "metadata": {
        "id": "W9KQZ7UyrxNR",
        "colab_type": "text"
      },
      "source": [
        "### 4"
      ]
    },
    {
      "cell_type": "code",
      "metadata": {
        "id": "EWJLuc9nr0J2",
        "colab_type": "code",
        "colab": {}
      },
      "source": [
        "def is_long_description(df):\n",
        "  description = df['description']\n",
        "  try:\n",
        "    if float(len(description)) > 200:\n",
        "      df['long_description'] = 1\n",
        "    else:\n",
        "      df['long_description'] = 0\n",
        "  except TypeError:\n",
        "    df['long_description'] = 0\n",
        "  return df\n",
        "\n",
        "train = train.apply(is_long_description, axis=1)\n",
        "test = test.apply(is_long_description, axis=1)"
      ],
      "execution_count": 0,
      "outputs": []
    },
    {
      "cell_type": "markdown",
      "metadata": {
        "id": "ZXadnSkWi1_3",
        "colab_type": "text"
      },
      "source": [
        "## Fit Model\n",
        "\n",
        "- Get the model's coefficients and intercept.\n",
        "- Get regression metrics RMSE, MAE, and  R2 , for both the train and test data.\n",
        "- What's the best test MAE you can get? Share your score and features used with your cohort on Slack!\n",
        "- As always, commit your notebook to your fork of the GitHub repo"
      ]
    },
    {
      "cell_type": "code",
      "metadata": {
        "id": "G-krE2Wwg5a_",
        "colab_type": "code",
        "colab": {}
      },
      "source": [
        "from sklearn.linear_model import LinearRegression\n",
        "from sklearn.metrics import mean_absolute_error, mean_squared_error, r2_score"
      ],
      "execution_count": 0,
      "outputs": []
    },
    {
      "cell_type": "code",
      "metadata": {
        "id": "O-Ut-Yeim2qI",
        "colab_type": "code",
        "colab": {
          "base_uri": "https://localhost:8080/",
          "height": 170
        },
        "outputId": "e5b4af36-9fc3-4acf-cfba-2c7087475a64"
      },
      "source": [
        "df.columns"
      ],
      "execution_count": 202,
      "outputs": [
        {
          "output_type": "execute_result",
          "data": {
            "text/plain": [
              "Index(['bathrooms', 'bedrooms', 'created', 'description', 'display_address',\n",
              "       'latitude', 'longitude', 'price', 'street_address', 'interest_level',\n",
              "       'elevator', 'cats_allowed', 'hardwood_floors', 'dogs_allowed',\n",
              "       'doorman', 'dishwasher', 'no_fee', 'laundry_in_building',\n",
              "       'fitness_center', 'pre-war', 'laundry_in_unit', 'roof_deck',\n",
              "       'outdoor_space', 'dining_room', 'high_speed_internet', 'balcony',\n",
              "       'swimming_pool', 'new_construction', 'terrace', 'exclusive', 'loft',\n",
              "       'garden_patio', 'wheelchair_access', 'common_outdoor_space'],\n",
              "      dtype='object')"
            ]
          },
          "metadata": {
            "tags": []
          },
          "execution_count": 202
        }
      ]
    },
    {
      "cell_type": "code",
      "metadata": {
        "id": "UkwXjsjzkeYI",
        "colab_type": "code",
        "colab": {}
      },
      "source": [
        "model = LinearRegression()\n",
        "\n",
        "features = ['bedrooms', \n",
        "            'bathrooms',\n",
        "            'bed_to_bath_ratio', \n",
        "            'doorman',\n",
        "            'fitness_center',\n",
        "            'dishwasher',\n",
        "            'laundry_in_unit',\n",
        "            'high_speed_internet',\n",
        "            # 'swimming_pool',\n",
        "            'elevator',\n",
        "            'is_premium',\n",
        "            'interest_level',\n",
        "            'long_description',\n",
        "            'longitude',\n",
        "            'exclusive'\n",
        "            ]\n",
        "target = 'price'\n",
        "\n",
        "X_train = train[features]\n",
        "X_test = test[features]\n",
        "\n",
        "y_train = train[target]\n",
        "y_test = test[target]\n"
      ],
      "execution_count": 0,
      "outputs": []
    },
    {
      "cell_type": "code",
      "metadata": {
        "id": "JuFwi0-ilSzI",
        "colab_type": "code",
        "colab": {
          "base_uri": "https://localhost:8080/",
          "height": 68
        },
        "outputId": "675be0f7-8f09-4e61-8d8c-541011d4d63d"
      },
      "source": [
        "\n",
        "model.fit(X_train, y_train)\n",
        "y_pred = model.predict(X_train)\n",
        "mae = mean_absolute_error(y_train, y_pred)\n",
        "print(f\"Train Error: ${mae:.2f}\")\n",
        "\n",
        "r2 = r2_score(y_train, y_pred)\n",
        "print(f\"R-Squared Score: {r2*100:.2f}%\")\n",
        "\n",
        "mse = mean_squared_error(y_train, y_pred)\n",
        "rmse = np.sqrt(mse)\n",
        "print(f\"RMSE: {rmse:,.2f}\")\n"
      ],
      "execution_count": 314,
      "outputs": [
        {
          "output_type": "stream",
          "text": [
            "Train Error: $672.73\n",
            "R-Squared Score: 63.05%\n",
            "RMSE: 1,071.09\n"
          ],
          "name": "stdout"
        }
      ]
    },
    {
      "cell_type": "code",
      "metadata": {
        "id": "_xtHwgt2mYX2",
        "colab_type": "code",
        "colab": {
          "base_uri": "https://localhost:8080/",
          "height": 68
        },
        "outputId": "8f32e531-2452-42aa-e076-3ba4bcae57e3"
      },
      "source": [
        "y_pred_test = model.predict(X_test)\n",
        "mae = mean_absolute_error(y_test, y_pred_test)\n",
        "print(f'Test Error: ${mae:,.2f}')\n",
        "\n",
        "r2 = r2_score(y_test, y_pred_test)\n",
        "print(f\"R-Squared Score: {r2*100:.2f}%\")\n",
        "\n",
        "mse = mean_squared_error(y_test, y_pred_test)\n",
        "rmse = np.sqrt(mse)\n",
        "print(f\"RMSE: {rmse:,.2f}\")"
      ],
      "execution_count": 315,
      "outputs": [
        {
          "output_type": "stream",
          "text": [
            "Test Error: $677.97\n",
            "R-Squared Score: 64.02%\n",
            "RMSE: 1,057.47\n"
          ],
          "name": "stdout"
        }
      ]
    },
    {
      "cell_type": "code",
      "metadata": {
        "id": "mOTxKzt3nNcg",
        "colab_type": "code",
        "colab": {}
      },
      "source": [
        "coeff = model.coef_.tolist()"
      ],
      "execution_count": 0,
      "outputs": []
    },
    {
      "cell_type": "code",
      "metadata": {
        "id": "a0QxegNhAeZY",
        "colab_type": "code",
        "colab": {
          "base_uri": "https://localhost:8080/",
          "height": 255
        },
        "outputId": "e18684eb-99b2-47ca-ca01-c63baa0b7ba1"
      },
      "source": [
        "coeff"
      ],
      "execution_count": 317,
      "outputs": [
        {
          "output_type": "execute_result",
          "data": {
            "text/plain": [
              "[482.0804362656699,\n",
              " 1738.15917786561,\n",
              " 58.53178346527551,\n",
              " 440.29708639408113,\n",
              " 38.82238554998939,\n",
              " 9.567181153320348,\n",
              " 452.55750006029643,\n",
              " -365.88887117320166,\n",
              " 132.05164132053324,\n",
              " 137.49447461814316,\n",
              " -427.86606046723773,\n",
              " -132.78809620598145,\n",
              " -12361.841090144035,\n",
              " 132.26200739854943]"
            ]
          },
          "metadata": {
            "tags": []
          },
          "execution_count": 317
        }
      ]
    },
    {
      "cell_type": "code",
      "metadata": {
        "id": "WBIOznYSAfbM",
        "colab_type": "code",
        "colab": {
          "base_uri": "https://localhost:8080/",
          "height": 34
        },
        "outputId": "dc5e780b-0cc8-4304-9e3b-6638c06c647a"
      },
      "source": [
        "intercept = model.intercept_\n",
        "intercept"
      ],
      "execution_count": 318,
      "outputs": [
        {
          "output_type": "execute_result",
          "data": {
            "text/plain": [
              "-913351.5820728872"
            ]
          },
          "metadata": {
            "tags": []
          },
          "execution_count": 318
        }
      ]
    },
    {
      "cell_type": "code",
      "metadata": {
        "id": "9O-prI7jAlwt",
        "colab_type": "code",
        "colab": {}
      },
      "source": [
        ""
      ],
      "execution_count": 0,
      "outputs": []
    }
  ]
}