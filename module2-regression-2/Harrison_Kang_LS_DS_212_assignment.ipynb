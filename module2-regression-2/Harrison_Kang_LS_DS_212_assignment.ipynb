{
  "nbformat": 4,
  "nbformat_minor": 0,
  "metadata": {
    "kernelspec": {
      "display_name": "Python 3",
      "language": "python",
      "name": "python3"
    },
    "language_info": {
      "codemirror_mode": {
        "name": "ipython",
        "version": 3
      },
      "file_extension": ".py",
      "mimetype": "text/x-python",
      "name": "python",
      "nbconvert_exporter": "python",
      "pygments_lexer": "ipython3",
      "version": "3.7.3"
    },
    "colab": {
      "name": "Harrison Kang - LS_DS_212_assignment.ipynb",
      "provenance": [],
      "include_colab_link": true
    }
  },
  "cells": [
    {
      "cell_type": "markdown",
      "metadata": {
        "id": "view-in-github",
        "colab_type": "text"
      },
      "source": [
        "<a href=\"https://colab.research.google.com/github/HKang42/DS-Unit-2-Linear-Models/blob/master/module2-regression-2/Harrison_Kang_LS_DS_212_assignment.ipynb\" target=\"_parent\"><img src=\"https://colab.research.google.com/assets/colab-badge.svg\" alt=\"Open In Colab\"/></a>"
      ]
    },
    {
      "cell_type": "markdown",
      "metadata": {
        "id": "3IJe6Aa1zA5n",
        "colab_type": "text"
      },
      "source": [
        "Lambda School Data Science\n",
        "\n",
        "*Unit 2, Sprint 1, Module 2*\n",
        "\n",
        "---"
      ]
    },
    {
      "cell_type": "markdown",
      "metadata": {
        "colab_type": "text",
        "id": "7IXUfiQ2UKj6"
      },
      "source": [
        "# Regression 2\n",
        "\n",
        "## Assignment\n",
        "\n",
        "You'll continue to **predict how much it costs to rent an apartment in NYC,** using the dataset from renthop.com.\n",
        "\n",
        "- [ ] Do train/test split. Use data from April & May 2016 to train. Use data from June 2016 to test.\n",
        "- [ ] Engineer at least two new features. (See below for explanation & ideas.)\n",
        "- [ ] Fit a linear regression model with at least two features.\n",
        "- [ ] Get the model's coefficients and intercept.\n",
        "- [ ] Get regression metrics RMSE, MAE, and $R^2$, for both the train and test data.\n",
        "- [ ] What's the best test MAE you can get? Share your score and features used with your cohort on Slack!\n",
        "- [ ] As always, commit your notebook to your fork of the GitHub repo.\n",
        "\n",
        "\n",
        "#### [Feature Engineering](https://en.wikipedia.org/wiki/Feature_engineering)\n",
        "\n",
        "> \"Some machine learning projects succeed and some fail. What makes the difference? Easily the most important factor is the features used.\" — Pedro Domingos, [\"A Few Useful Things to Know about Machine Learning\"](https://homes.cs.washington.edu/~pedrod/papers/cacm12.pdf)\n",
        "\n",
        "> \"Coming up with features is difficult, time-consuming, requires expert knowledge. 'Applied machine learning' is basically feature engineering.\" — Andrew Ng, [Machine Learning and AI via Brain simulations](https://forum.stanford.edu/events/2011/2011slides/plenary/2011plenaryNg.pdf) \n",
        "\n",
        "> Feature engineering is the process of using domain knowledge of the data to create features that make machine learning algorithms work. \n",
        "\n",
        "#### Feature Ideas\n",
        "- Does the apartment have a description?\n",
        "- How long is the description?\n",
        "- How many total perks does each apartment have?\n",
        "- Are cats _or_ dogs allowed?\n",
        "- Are cats _and_ dogs allowed?\n",
        "- Total number of rooms (beds + baths)\n",
        "- Ratio of beds to baths\n",
        "- What's the neighborhood, based on address or latitude & longitude?\n",
        "\n",
        "## Stretch Goals\n",
        "- [ ] If you want more math, skim [_An Introduction to Statistical Learning_](http://faculty.marshall.usc.edu/gareth-james/ISL/ISLR%20Seventh%20Printing.pdf),  Chapter 3.1, Simple Linear Regression, & Chapter 3.2, Multiple Linear Regression\n",
        "- [ ] If you want more introduction, watch [Brandon Foltz, Statistics 101: Simple Linear Regression](https://www.youtube.com/watch?v=ZkjP5RJLQF4)\n",
        "(20 minutes, over 1 million views)\n",
        "- [ ] Add your own stretch goal(s) !"
      ]
    },
    {
      "cell_type": "code",
      "metadata": {
        "colab_type": "code",
        "id": "o9eSnDYhUGD7",
        "colab": {}
      },
      "source": [
        "%%capture\n",
        "import sys\n",
        "\n",
        "# If you're on Colab:\n",
        "if 'google.colab' in sys.modules:\n",
        "    DATA_PATH = 'https://raw.githubusercontent.com/LambdaSchool/DS-Unit-2-Applied-Modeling/master/data/'\n",
        "    !pip install category_encoders==2.*\n",
        "\n",
        "# If you're working locally:\n",
        "else:\n",
        "    DATA_PATH = '../data/'\n",
        "    \n",
        "# Ignore this Numpy warning when using Plotly Express:\n",
        "# FutureWarning: Method .ptp is deprecated and will be removed in a future version. Use numpy.ptp instead.\n",
        "import warnings\n",
        "warnings.filterwarnings(action='ignore', category=FutureWarning, module='numpy')"
      ],
      "execution_count": 0,
      "outputs": []
    },
    {
      "cell_type": "code",
      "metadata": {
        "colab_type": "code",
        "id": "cvrw-T3bZOuW",
        "colab": {}
      },
      "source": [
        "import numpy as np\n",
        "import pandas as pd\n",
        "\n",
        "# Read New York City apartment rental listing data\n",
        "df = pd.read_csv(DATA_PATH+'apartments/renthop-nyc.csv')\n",
        "assert df.shape == (49352, 34)\n",
        "\n",
        "# Remove the most extreme 1% prices,\n",
        "# the most extreme .1% latitudes, &\n",
        "# the most extreme .1% longitudes\n",
        "df = df[(df['price'] >= np.percentile(df['price'], 0.5)) & \n",
        "        (df['price'] <= np.percentile(df['price'], 99.5)) & \n",
        "        (df['latitude'] >= np.percentile(df['latitude'], 0.05)) & \n",
        "        (df['latitude'] < np.percentile(df['latitude'], 99.95)) &\n",
        "        (df['longitude'] >= np.percentile(df['longitude'], 0.05)) & \n",
        "        (df['longitude'] <= np.percentile(df['longitude'], 99.95))]"
      ],
      "execution_count": 0,
      "outputs": []
    },
    {
      "cell_type": "markdown",
      "metadata": {
        "id": "U86NC8ID40bO",
        "colab_type": "text"
      },
      "source": [
        "#  Engineer at least two new features.\n",
        "\n",
        " - I don't want to split first. Otherwise the features I engineer won't show up in the split data frames"
      ]
    },
    {
      "cell_type": "code",
      "metadata": {
        "id": "tKKjm96qgbHT",
        "colab_type": "code",
        "colab": {
          "base_uri": "https://localhost:8080/",
          "height": 513
        },
        "outputId": "2104e797-c78b-41e3-9071-f375afe4794b"
      },
      "source": [
        "df.head()"
      ],
      "execution_count": 3,
      "outputs": [
        {
          "output_type": "execute_result",
          "data": {
            "text/html": [
              "<div>\n",
              "<style scoped>\n",
              "    .dataframe tbody tr th:only-of-type {\n",
              "        vertical-align: middle;\n",
              "    }\n",
              "\n",
              "    .dataframe tbody tr th {\n",
              "        vertical-align: top;\n",
              "    }\n",
              "\n",
              "    .dataframe thead th {\n",
              "        text-align: right;\n",
              "    }\n",
              "</style>\n",
              "<table border=\"1\" class=\"dataframe\">\n",
              "  <thead>\n",
              "    <tr style=\"text-align: right;\">\n",
              "      <th></th>\n",
              "      <th>bathrooms</th>\n",
              "      <th>bedrooms</th>\n",
              "      <th>created</th>\n",
              "      <th>description</th>\n",
              "      <th>display_address</th>\n",
              "      <th>latitude</th>\n",
              "      <th>longitude</th>\n",
              "      <th>price</th>\n",
              "      <th>street_address</th>\n",
              "      <th>interest_level</th>\n",
              "      <th>elevator</th>\n",
              "      <th>cats_allowed</th>\n",
              "      <th>hardwood_floors</th>\n",
              "      <th>dogs_allowed</th>\n",
              "      <th>doorman</th>\n",
              "      <th>dishwasher</th>\n",
              "      <th>no_fee</th>\n",
              "      <th>laundry_in_building</th>\n",
              "      <th>fitness_center</th>\n",
              "      <th>pre-war</th>\n",
              "      <th>laundry_in_unit</th>\n",
              "      <th>roof_deck</th>\n",
              "      <th>outdoor_space</th>\n",
              "      <th>dining_room</th>\n",
              "      <th>high_speed_internet</th>\n",
              "      <th>balcony</th>\n",
              "      <th>swimming_pool</th>\n",
              "      <th>new_construction</th>\n",
              "      <th>terrace</th>\n",
              "      <th>exclusive</th>\n",
              "      <th>loft</th>\n",
              "      <th>garden_patio</th>\n",
              "      <th>wheelchair_access</th>\n",
              "      <th>common_outdoor_space</th>\n",
              "    </tr>\n",
              "  </thead>\n",
              "  <tbody>\n",
              "    <tr>\n",
              "      <th>0</th>\n",
              "      <td>1.5</td>\n",
              "      <td>3</td>\n",
              "      <td>2016-06-24 07:54:24</td>\n",
              "      <td>A Brand New 3 Bedroom 1.5 bath ApartmentEnjoy ...</td>\n",
              "      <td>Metropolitan Avenue</td>\n",
              "      <td>40.7145</td>\n",
              "      <td>-73.9425</td>\n",
              "      <td>3000</td>\n",
              "      <td>792 Metropolitan Avenue</td>\n",
              "      <td>medium</td>\n",
              "      <td>0</td>\n",
              "      <td>0</td>\n",
              "      <td>0</td>\n",
              "      <td>0</td>\n",
              "      <td>0</td>\n",
              "      <td>0</td>\n",
              "      <td>0</td>\n",
              "      <td>0</td>\n",
              "      <td>0</td>\n",
              "      <td>0</td>\n",
              "      <td>0</td>\n",
              "      <td>0</td>\n",
              "      <td>0</td>\n",
              "      <td>0</td>\n",
              "      <td>0</td>\n",
              "      <td>0</td>\n",
              "      <td>0</td>\n",
              "      <td>0</td>\n",
              "      <td>0</td>\n",
              "      <td>0</td>\n",
              "      <td>0</td>\n",
              "      <td>0</td>\n",
              "      <td>0</td>\n",
              "      <td>0</td>\n",
              "    </tr>\n",
              "    <tr>\n",
              "      <th>1</th>\n",
              "      <td>1.0</td>\n",
              "      <td>2</td>\n",
              "      <td>2016-06-12 12:19:27</td>\n",
              "      <td></td>\n",
              "      <td>Columbus Avenue</td>\n",
              "      <td>40.7947</td>\n",
              "      <td>-73.9667</td>\n",
              "      <td>5465</td>\n",
              "      <td>808 Columbus Avenue</td>\n",
              "      <td>low</td>\n",
              "      <td>1</td>\n",
              "      <td>1</td>\n",
              "      <td>0</td>\n",
              "      <td>1</td>\n",
              "      <td>1</td>\n",
              "      <td>0</td>\n",
              "      <td>0</td>\n",
              "      <td>0</td>\n",
              "      <td>1</td>\n",
              "      <td>0</td>\n",
              "      <td>0</td>\n",
              "      <td>0</td>\n",
              "      <td>0</td>\n",
              "      <td>0</td>\n",
              "      <td>0</td>\n",
              "      <td>0</td>\n",
              "      <td>0</td>\n",
              "      <td>0</td>\n",
              "      <td>0</td>\n",
              "      <td>0</td>\n",
              "      <td>0</td>\n",
              "      <td>0</td>\n",
              "      <td>0</td>\n",
              "      <td>0</td>\n",
              "    </tr>\n",
              "    <tr>\n",
              "      <th>2</th>\n",
              "      <td>1.0</td>\n",
              "      <td>1</td>\n",
              "      <td>2016-04-17 03:26:41</td>\n",
              "      <td>Top Top West Village location, beautiful Pre-w...</td>\n",
              "      <td>W 13 Street</td>\n",
              "      <td>40.7388</td>\n",
              "      <td>-74.0018</td>\n",
              "      <td>2850</td>\n",
              "      <td>241 W 13 Street</td>\n",
              "      <td>high</td>\n",
              "      <td>0</td>\n",
              "      <td>0</td>\n",
              "      <td>1</td>\n",
              "      <td>0</td>\n",
              "      <td>0</td>\n",
              "      <td>1</td>\n",
              "      <td>0</td>\n",
              "      <td>1</td>\n",
              "      <td>0</td>\n",
              "      <td>0</td>\n",
              "      <td>0</td>\n",
              "      <td>0</td>\n",
              "      <td>0</td>\n",
              "      <td>0</td>\n",
              "      <td>0</td>\n",
              "      <td>0</td>\n",
              "      <td>0</td>\n",
              "      <td>0</td>\n",
              "      <td>0</td>\n",
              "      <td>0</td>\n",
              "      <td>0</td>\n",
              "      <td>0</td>\n",
              "      <td>0</td>\n",
              "      <td>0</td>\n",
              "    </tr>\n",
              "    <tr>\n",
              "      <th>3</th>\n",
              "      <td>1.0</td>\n",
              "      <td>1</td>\n",
              "      <td>2016-04-18 02:22:02</td>\n",
              "      <td>Building Amenities - Garage - Garden - fitness...</td>\n",
              "      <td>East 49th Street</td>\n",
              "      <td>40.7539</td>\n",
              "      <td>-73.9677</td>\n",
              "      <td>3275</td>\n",
              "      <td>333 East 49th Street</td>\n",
              "      <td>low</td>\n",
              "      <td>0</td>\n",
              "      <td>0</td>\n",
              "      <td>1</td>\n",
              "      <td>0</td>\n",
              "      <td>0</td>\n",
              "      <td>0</td>\n",
              "      <td>1</td>\n",
              "      <td>0</td>\n",
              "      <td>0</td>\n",
              "      <td>0</td>\n",
              "      <td>0</td>\n",
              "      <td>0</td>\n",
              "      <td>0</td>\n",
              "      <td>0</td>\n",
              "      <td>0</td>\n",
              "      <td>0</td>\n",
              "      <td>0</td>\n",
              "      <td>0</td>\n",
              "      <td>0</td>\n",
              "      <td>0</td>\n",
              "      <td>0</td>\n",
              "      <td>0</td>\n",
              "      <td>0</td>\n",
              "      <td>0</td>\n",
              "    </tr>\n",
              "    <tr>\n",
              "      <th>4</th>\n",
              "      <td>1.0</td>\n",
              "      <td>4</td>\n",
              "      <td>2016-04-28 01:32:41</td>\n",
              "      <td>Beautifully renovated 3 bedroom flex 4 bedroom...</td>\n",
              "      <td>West 143rd Street</td>\n",
              "      <td>40.8241</td>\n",
              "      <td>-73.9493</td>\n",
              "      <td>3350</td>\n",
              "      <td>500 West 143rd Street</td>\n",
              "      <td>low</td>\n",
              "      <td>0</td>\n",
              "      <td>0</td>\n",
              "      <td>0</td>\n",
              "      <td>0</td>\n",
              "      <td>0</td>\n",
              "      <td>0</td>\n",
              "      <td>0</td>\n",
              "      <td>0</td>\n",
              "      <td>0</td>\n",
              "      <td>1</td>\n",
              "      <td>0</td>\n",
              "      <td>0</td>\n",
              "      <td>0</td>\n",
              "      <td>0</td>\n",
              "      <td>0</td>\n",
              "      <td>0</td>\n",
              "      <td>0</td>\n",
              "      <td>0</td>\n",
              "      <td>0</td>\n",
              "      <td>0</td>\n",
              "      <td>0</td>\n",
              "      <td>0</td>\n",
              "      <td>0</td>\n",
              "      <td>0</td>\n",
              "    </tr>\n",
              "  </tbody>\n",
              "</table>\n",
              "</div>"
            ],
            "text/plain": [
              "   bathrooms  bedrooms  ... wheelchair_access common_outdoor_space\n",
              "0        1.5         3  ...                 0                    0\n",
              "1        1.0         2  ...                 0                    0\n",
              "2        1.0         1  ...                 0                    0\n",
              "3        1.0         1  ...                 0                    0\n",
              "4        1.0         4  ...                 0                    0\n",
              "\n",
              "[5 rows x 34 columns]"
            ]
          },
          "metadata": {
            "tags": []
          },
          "execution_count": 3
        }
      ]
    },
    {
      "cell_type": "code",
      "metadata": {
        "id": "EdsfvTQw4194",
        "colab_type": "code",
        "colab": {}
      },
      "source": [
        "# Let's create a category for any apartment that allows a cat OR a dog\n",
        "\n",
        "df['catordog'] = ((df['cats_allowed'] == 1 ) | (df['dogs_allowed'] == 1) )"
      ],
      "execution_count": 0,
      "outputs": []
    },
    {
      "cell_type": "code",
      "metadata": {
        "id": "0_6clNcENujZ",
        "colab_type": "code",
        "colab": {}
      },
      "source": [
        "# convert catordog to a numerical column\n",
        "df['catordog'] = df['catordog'].replace({True:1, False:0})"
      ],
      "execution_count": 0,
      "outputs": []
    },
    {
      "cell_type": "code",
      "metadata": {
        "id": "aBQC6Rk_O8IT",
        "colab_type": "code",
        "colab": {}
      },
      "source": [
        "# let's make a feature for bathrooms per bedroom\n",
        "# first let's set any 0 values to 0.5\n",
        "\n",
        "df['bath'] = df['bathrooms'].astype(float).replace( { 0 : 0.5 } )\n",
        "df['bed'] = df['bedrooms'].astype(float).replace( { 0 : 0.5 } )\n"
      ],
      "execution_count": 0,
      "outputs": []
    },
    {
      "cell_type": "code",
      "metadata": {
        "id": "HNqbVm1_cV0B",
        "colab_type": "code",
        "colab": {}
      },
      "source": [
        "df[ 'bathperbed' ] = df['bath'] / df['bed']"
      ],
      "execution_count": 0,
      "outputs": []
    },
    {
      "cell_type": "markdown",
      "metadata": {
        "id": "ay30nWua17Mw",
        "colab_type": "text"
      },
      "source": [
        "#  Do train/test split. Use data from April & May 2016 to train. Use data from June 2016 to test."
      ]
    },
    {
      "cell_type": "code",
      "metadata": {
        "id": "apSV9_0O2X_O",
        "colab_type": "code",
        "colab": {}
      },
      "source": [
        "train = df [ (df['created'] > '2016-04-01') & (df['created'] < '2016-06-01') ]\n",
        "test = df [ (df['created'] < '2016-04-01') | (df['created'] > '2016-06-01') ]"
      ],
      "execution_count": 0,
      "outputs": []
    },
    {
      "cell_type": "markdown",
      "metadata": {
        "id": "q-7ZhUGlZfBR",
        "colab_type": "text"
      },
      "source": [
        "#  Fit a linear regression model with at least two features."
      ]
    },
    {
      "cell_type": "code",
      "metadata": {
        "id": "7v8sBW8cZXOA",
        "colab_type": "code",
        "colab": {
          "base_uri": "https://localhost:8080/",
          "height": 34
        },
        "outputId": "4fe1d864-7b47-4b74-e746-41499936ae3c"
      },
      "source": [
        "from sklearn.linear_model import LinearRegression\n",
        "\n",
        "model = LinearRegression()\n",
        "\n",
        "x = ['catordog' , 'bathperbed']\n",
        "\n",
        "y = ['price']\n",
        "\n",
        "model.fit( train[x], train[y] )"
      ],
      "execution_count": 9,
      "outputs": [
        {
          "output_type": "execute_result",
          "data": {
            "text/plain": [
              "LinearRegression(copy_X=True, fit_intercept=True, n_jobs=None, normalize=False)"
            ]
          },
          "metadata": {
            "tags": []
          },
          "execution_count": 9
        }
      ]
    },
    {
      "cell_type": "markdown",
      "metadata": {
        "id": "8NQ2lnP-dt08",
        "colab_type": "text"
      },
      "source": [
        "#  Get the model's coefficients and intercept."
      ]
    },
    {
      "cell_type": "code",
      "metadata": {
        "id": "1P-qunEKdrF3",
        "colab_type": "code",
        "colab": {
          "base_uri": "https://localhost:8080/",
          "height": 68
        },
        "outputId": "6f617e43-1915-40a8-ab17-5730f030365e"
      },
      "source": [
        "catdog_coeff = model.coef_[0][0]\n",
        "bathbed_coeff = model.coef_[0][1]\n",
        "\n",
        "intercept = model.intercept_[0]\n",
        "\n",
        "print('Cat or Dog coefficient is:', catdog_coeff)\n",
        "print('Bath per bed coefficient is:', bathbed_coeff)\n",
        "\n",
        "print('The y intercept is:', intercept)"
      ],
      "execution_count": 10,
      "outputs": [
        {
          "output_type": "stream",
          "text": [
            "Cat or Dog coefficient is: 192.3738354665761\n",
            "Bath per bed coefficient is: -833.3307765906281\n",
            "The y intercept is: 4313.3818749469665\n"
          ],
          "name": "stdout"
        }
      ]
    },
    {
      "cell_type": "markdown",
      "metadata": {
        "id": "gOPf2skTd3_i",
        "colab_type": "text"
      },
      "source": [
        "#  Get regression metrics RMSE, MAE, and  R2 , for both the train and test data."
      ]
    },
    {
      "cell_type": "code",
      "metadata": {
        "id": "irqPIVkCgsl4",
        "colab_type": "code",
        "colab": {}
      },
      "source": [
        "# now let's make our predictions for whatever we set our features equal to\n",
        "\n",
        "predict = model.predict( train[x] )"
      ],
      "execution_count": 0,
      "outputs": []
    },
    {
      "cell_type": "code",
      "metadata": {
        "id": "oEiA3L8QhSMO",
        "colab_type": "code",
        "colab": {
          "base_uri": "https://localhost:8080/",
          "height": 85
        },
        "outputId": "45ee88d6-cff3-4e02-b6ad-656cfeaf21ad"
      },
      "source": [
        "from sklearn.metrics import mean_absolute_error, mean_squared_error,r2_score\n",
        "\n",
        "mae = mean_absolute_error(train['price'], predict)\n",
        "\n",
        "mse = mean_squared_error(train['price'], predict)\n",
        "rmse = np.sqrt(mse)\n",
        "\n",
        "r2 = r2_score(train['price'], predict)\n",
        "\n",
        "print('For our training data:')\n",
        "print('Our mean absolute error is: $' + str(mae.round(2)))\n",
        "print('Our root mean square error is: $' + str(rmse.round(2)))\n",
        "print('Our r^2 value is: ' + str(r2.round(4)))"
      ],
      "execution_count": 12,
      "outputs": [
        {
          "output_type": "stream",
          "text": [
            "For our training data:\n",
            "Our mean absolute error is: $1109.56\n",
            "Our root mean square error is: $1697.37\n",
            "Our r^2 value is: 0.0721\n"
          ],
          "name": "stdout"
        }
      ]
    },
    {
      "cell_type": "code",
      "metadata": {
        "id": "XFVL8sd8jhj_",
        "colab_type": "code",
        "colab": {}
      },
      "source": [
        "# now let's see how our model looks for the test data\n",
        "\n",
        "predict = model.predict( test[x] )"
      ],
      "execution_count": 0,
      "outputs": []
    },
    {
      "cell_type": "code",
      "metadata": {
        "id": "8kgQHp4hjnUa",
        "colab_type": "code",
        "colab": {
          "base_uri": "https://localhost:8080/",
          "height": 85
        },
        "outputId": "165257e8-b565-4995-a361-29476da0e2c1"
      },
      "source": [
        "mae = mean_absolute_error(test['price'], predict)\n",
        "\n",
        "mse = mean_squared_error(test['price'], predict)\n",
        "rmse = np.sqrt(mse)\n",
        "\n",
        "r2 = r2_score(test['price'], predict)\n",
        "\n",
        "print('For our test data:')\n",
        "print('Our mean absolute error is: $' + str(mae.round(2)))\n",
        "print('Our root mean square error is: $' + str(rmse.round(2)))\n",
        "print('Our r^2 value is: ' + str(r2.round(4)))"
      ],
      "execution_count": 14,
      "outputs": [
        {
          "output_type": "stream",
          "text": [
            "For our test data:\n",
            "Our mean absolute error is: $1120.34\n",
            "Our root mean square error is: $1706.34\n",
            "Our r^2 value is: 0.0632\n"
          ],
          "name": "stdout"
        }
      ]
    },
    {
      "cell_type": "markdown",
      "metadata": {
        "id": "R5HGTukioLMp",
        "colab_type": "text"
      },
      "source": [
        "I looks like the training and testing error is roughly the same which is a decent result. Let's get descriptive statistics for the price and see how big the error is."
      ]
    },
    {
      "cell_type": "code",
      "metadata": {
        "id": "ts3-QGSjoUyw",
        "colab_type": "code",
        "colab": {
          "base_uri": "https://localhost:8080/",
          "height": 170
        },
        "outputId": "003af2c6-234f-43dd-f63b-1dfbfe74c985"
      },
      "source": [
        "df['price'].describe()"
      ],
      "execution_count": 15,
      "outputs": [
        {
          "output_type": "execute_result",
          "data": {
            "text/plain": [
              "count    48817.000000\n",
              "mean      3579.585247\n",
              "std       1762.430772\n",
              "min       1375.000000\n",
              "25%       2500.000000\n",
              "50%       3150.000000\n",
              "75%       4095.000000\n",
              "max      15500.000000\n",
              "Name: price, dtype: float64"
            ]
          },
          "metadata": {
            "tags": []
          },
          "execution_count": 15
        }
      ]
    },
    {
      "cell_type": "markdown",
      "metadata": {
        "id": "yk3XIPVRo7Z0",
        "colab_type": "text"
      },
      "source": [
        "Given that the mean price is about $3,600, our errors for both data sets are pretty big. Let's try again but with different features."
      ]
    },
    {
      "cell_type": "code",
      "metadata": {
        "id": "sJYgsnPPqBvv",
        "colab_type": "code",
        "colab": {
          "base_uri": "https://localhost:8080/",
          "height": 34
        },
        "outputId": "522fc173-74a2-4911-ab4e-6ac9c98acf74"
      },
      "source": [
        "from sklearn.linear_model import LinearRegression\n",
        "\n",
        "model = LinearRegression()\n",
        "\n",
        "x = ['bedrooms' , 'balcony']\n",
        "\n",
        "y = ['price']\n",
        "\n",
        "model.fit( train[x], train[y] )"
      ],
      "execution_count": 16,
      "outputs": [
        {
          "output_type": "execute_result",
          "data": {
            "text/plain": [
              "LinearRegression(copy_X=True, fit_intercept=True, n_jobs=None, normalize=False)"
            ]
          },
          "metadata": {
            "tags": []
          },
          "execution_count": 16
        }
      ]
    },
    {
      "cell_type": "code",
      "metadata": {
        "id": "PGUJRX3OsiBC",
        "colab_type": "code",
        "colab": {
          "base_uri": "https://localhost:8080/",
          "height": 68
        },
        "outputId": "9f5fa840-80e1-4075-84b4-f464c96b5afc"
      },
      "source": [
        "bedroom_coeff = model.coef_[0][0]\n",
        "balcony_coeff = model.coef_[0][1]\n",
        "\n",
        "intercept = model.intercept_[0]\n",
        "\n",
        "print('Cat or Dog coefficient is:', bedroom_coeff)\n",
        "print('Bath per bed coefficient is:', balcony_coeff)\n",
        "\n",
        "print('The y intercept is:', intercept)"
      ],
      "execution_count": 17,
      "outputs": [
        {
          "output_type": "stream",
          "text": [
            "Cat or Dog coefficient is: 843.1184113381274\n",
            "Bath per bed coefficient is: 581.6492956973746\n",
            "The y intercept is: 2251.6924475790083\n"
          ],
          "name": "stdout"
        }
      ]
    },
    {
      "cell_type": "code",
      "metadata": {
        "id": "_uxTKWsotsr_",
        "colab_type": "code",
        "colab": {}
      },
      "source": [
        "predict = model.predict( train[x] )"
      ],
      "execution_count": 0,
      "outputs": []
    },
    {
      "cell_type": "code",
      "metadata": {
        "id": "PPOXDeC7sm4Y",
        "colab_type": "code",
        "colab": {
          "base_uri": "https://localhost:8080/",
          "height": 85
        },
        "outputId": "8916a5d3-fd5e-484a-88f0-071dddbdcd20"
      },
      "source": [
        "from sklearn.metrics import mean_absolute_error, mean_squared_error,r2_score\n",
        "\n",
        "mae = mean_absolute_error(train['price'], predict)\n",
        "\n",
        "mse = mean_squared_error(train['price'], predict)\n",
        "rmse = np.sqrt(mse)\n",
        "\n",
        "r2 = r2_score(train['price'], predict)\n",
        "\n",
        "print('For our training data:')\n",
        "print('Our mean absolute error is: $' + str(mae.round(2)))\n",
        "print('Our root mean square error is: $' + str(rmse.round(2)))\n",
        "print('Our r^2 value is: ' + str(r2.round(4)))"
      ],
      "execution_count": 19,
      "outputs": [
        {
          "output_type": "stream",
          "text": [
            "For our training data:\n",
            "Our mean absolute error is: $967.05\n",
            "Our root mean square error is: $1480.6\n",
            "Our r^2 value is: 0.294\n"
          ],
          "name": "stdout"
        }
      ]
    },
    {
      "cell_type": "code",
      "metadata": {
        "id": "9SIZoh38sqjZ",
        "colab_type": "code",
        "colab": {}
      },
      "source": [
        "# now let's see how our model looks for the test data\n",
        "\n",
        "predict = model.predict( test[x] )"
      ],
      "execution_count": 0,
      "outputs": []
    },
    {
      "cell_type": "code",
      "metadata": {
        "id": "yV_uQgP2stDp",
        "colab_type": "code",
        "colab": {
          "base_uri": "https://localhost:8080/",
          "height": 85
        },
        "outputId": "11a23809-feb5-406b-b1b2-611531782f61"
      },
      "source": [
        "mae = mean_absolute_error(test['price'], predict)\n",
        "\n",
        "mse = mean_squared_error(test['price'], predict)\n",
        "rmse = np.sqrt(mse)\n",
        "\n",
        "r2 = r2_score(test['price'], predict)\n",
        "\n",
        "print('For our test data:')\n",
        "print('Our mean absolute error is: $' + str(mae.round(2)))\n",
        "print('Our root mean square error is: $' + str(rmse.round(2)))\n",
        "print('Our r^2 value is: ' + str(r2.round(4)))"
      ],
      "execution_count": 21,
      "outputs": [
        {
          "output_type": "stream",
          "text": [
            "For our test data:\n",
            "Our mean absolute error is: $981.22\n",
            "Our root mean square error is: $1480.45\n",
            "Our r^2 value is: 0.2948\n"
          ],
          "name": "stdout"
        }
      ]
    },
    {
      "cell_type": "markdown",
      "metadata": {
        "id": "HiZvVmsqt5km",
        "colab_type": "text"
      },
      "source": [
        "It looks like bedrooms and balconies are a slightly better pair of features based on the error values."
      ]
    }
  ]
}