{
  "nbformat": 4,
  "nbformat_minor": 0,
  "metadata": {
    "colab": {
      "name": "LS_DS_212_solution.ipynb",
      "provenance": [],
      "collapsed_sections": []
    },
    "kernelspec": {
      "display_name": "Python 3",
      "language": "python",
      "name": "python3"
    },
    "language_info": {
      "codemirror_mode": {
        "name": "ipython",
        "version": 3
      },
      "file_extension": ".py",
      "mimetype": "text/x-python",
      "name": "python",
      "nbconvert_exporter": "python",
      "pygments_lexer": "ipython3",
      "version": "3.8.5"
    }
  },
  "cells": [
    {
      "cell_type": "markdown",
      "metadata": {
        "id": "TOuAFD-KaHUB"
      },
      "source": [
        "BloomTech Data Science\n",
        "\n",
        "*Unit 2, Sprint 1, Module 2*\n",
        "\n",
        "---"
      ]
    },
    {
      "cell_type": "code",
      "metadata": {
        "id": "SPhGM8L2aHUF"
      },
      "source": [
        "%%capture\n",
        "import sys\n",
        "\n",
        "# If you're on Colab:\n",
        "if 'google.colab' in sys.modules:\n",
        "    DATA_PATH = 'https://raw.githubusercontent.com/LambdaSchool/DS-Unit-2-Applied-Modeling/master/data/'\n",
        "\n",
        "# If you're working locally:\n",
        "else:\n",
        "    DATA_PATH = '../data/'"
      ],
      "execution_count": 1,
      "outputs": []
    },
    {
      "cell_type": "markdown",
      "metadata": {
        "id": "cypYn9HaaHUG"
      },
      "source": [
        "# Module Project: Regression II\n",
        "\n",
        "In this project, you'll continue working with the New York City rent dataset you used in the last module project.\n",
        "\n",
        "## Directions\n",
        "\n",
        "The tasks for this project are as follows:\n",
        "\n",
        "- **Task 1:** Import `csv` file using `wrangle` function.\n",
        "- **Task 2:** Conduct exploratory data analysis (EDA), and modify `wrangle` function to engineer two new features.\n",
        "- **Task 3:** Split data into feature matrix `X` and target vector `y`.\n",
        "- **Task 4:** Split feature matrix `X` and target vector `y` into training and test sets.\n",
        "- **Task 5:** Establish the baseline mean absolute error for your dataset.\n",
        "- **Task 6:** Build and train a `Linearregression` model.\n",
        "- **Task 7:** Calculate the training and test mean absolute error for your model.\n",
        "- **Task 8:** Calculate the training and test $R^2$ score for your model.\n",
        "- **Stretch Goal:** Determine the three most important features for your linear regression model.\n",
        "\n",
        "**Note**\n",
        "\n",
        "You should limit yourself to the following libraries for this project:\n",
        "\n",
        "- `matplotlib`\n",
        "- `numpy`\n",
        "- `pandas`\n",
        "- `sklearn`"
      ]
    },
    {
      "cell_type": "code",
      "metadata": {
        "id": "74ZoHwXRbBdc"
      },
      "source": [
        "#Every Library Used In Notebook\n",
        "import matplotlib.pyplot as plt\n",
        "import numpy as np\n",
        "import pandas as pd\n",
        "from sklearn.linear_model import LinearRegression\n",
        "from sklearn.metrics import mean_absolute_error as mae\n",
        "from sklearn.metrics import r2_score as r2"
      ],
      "execution_count": 2,
      "outputs": []
    },
    {
      "cell_type": "markdown",
      "metadata": {
        "id": "h5CzgMQQaHUH"
      },
      "source": [
        "# I. Wrangle Data"
      ]
    },
    {
      "cell_type": "code",
      "metadata": {
        "id": "TMy8YAn1aHUH",
        "outputId": "7f30aa9e-e7a5-4e60-ea53-7c9eaede16d0",
        "colab": {
          "base_uri": "https://localhost:8080/"
        }
      },
      "source": [
        "def wrangle(filepath):\n",
        "\n",
        "    #Reading in the Raw Data\n",
        "    df = pd.read_csv(filepath)\n",
        "\n",
        "    #Formatting Column Names\n",
        "    df.columns = df.columns.str.upper().str.replace(' ','_')\n",
        "\n",
        "    #Declaring Subjective Wrangling Constants\n",
        "    high_cardinality_percentage_threshold = 0.1\n",
        "    max_cat = 5 #Max Unique Count to be Autoclassified as Categorical\n",
        "    ith_identifier_as_index = -1 #0-indexed, set as -1 to not change index\n",
        "\n",
        "    #Column Classification Lists (initialize as needed)\n",
        "    date_cols = ['CREATED']\n",
        "    categorical_cols = [] #Most Will Be Automatically Detected\n",
        "\n",
        "    #Column Classifications (no initialization needed)\n",
        "    numerical_cols = []\n",
        "    high_card_cols = []\n",
        "    single_value_cols = []\n",
        "    identifier_cols = []\n",
        "\n",
        "    for col in df:\n",
        "\n",
        "      #print(col, df[col].dtype, df[col].nunique())\n",
        "\n",
        "      #Find Categorical/Numerical Variables\n",
        "      if (df[col].dtype == 'object' or (df[col].nunique() in range(2,max_cat+1) )):\n",
        "        #print(\"Column: \",col)\n",
        "        if ~(col in categorical_cols):\n",
        "          categorical_cols.append(col)\n",
        "      else:\n",
        "        if ~(col in numerical_cols+categorical_cols):\n",
        "          numerical_cols.append(col)\n",
        "\n",
        "      #Format Dates\n",
        "      if( (col in categorical_cols) and (col in date_cols)):\n",
        "        df[col] = pd.to_datetime(df[col])\n",
        "\n",
        "      #Find Indentifier Variables\n",
        "      if ( (df[col].nunique() == df.shape[0]) and (col in categorical_cols) ):\n",
        "        identifier_cols.append(col)\n",
        "\n",
        "      #Find Columns With Only One Value\n",
        "      if df[col].nunique() == 1:\n",
        "        if ~(col in single_value_cols):\n",
        "          single_value_cols.append(col)\n",
        "\n",
        "      #Find Columns With High Cardinality (Categorical Variables With Too Many Categories)\n",
        "      if ( (col in categorical_cols) and ~(col in identifier_cols) and\n",
        "          (df[col].nunique() / df.shape[0] > high_cardinality_percentage_threshold) ):\n",
        "        high_card_cols.append(col)\n",
        "    \n",
        "    #Set ith Identifier as New Index\n",
        "    if len(identifier_cols) > 0 and ith_identifier_as_index != -1:\n",
        "      df = df.set_index(identifier_cols[ith_identifier_as_index])\n",
        "      print('New Index: ', identifier_cols[ith_identifier_as_index])\n",
        "      identifier_cols.remove(identifier_cols[ith_identifier_as_index])\n",
        "\n",
        "    #Output Column Classifications\n",
        "    # print('Numerical Cols:', numerical_cols)\n",
        "    # print('Categorical Cols:', categorical_cols)\n",
        "    # print()\n",
        "    # print('Identifier Cols:', identifier_cols)\n",
        "    # print('Single Valued Cols:', single_value_cols)\n",
        "    # print('High Cardinality Cols:', high_card_cols)\n",
        "   \n",
        "    #Drop All Rows With Null Values\n",
        "    df = df.dropna(axis=0)\n",
        "\n",
        "    #Drop Columns\n",
        "    cols_to_drop = single_value_cols + high_card_cols\n",
        "    #print('Columns To Drop:', cols_to_drop)\n",
        "    #df = df.drop(cols_to_drop, axis=1)\n",
        "\n",
        "    # Remove the most extreme 1% prices,\n",
        "    # the most extreme 1% latitudes, &\n",
        "    # the most extreme 1% longitudes\n",
        "    df = df[(df['PRICE'] >= np.percentile(df['PRICE'], 0.5)) & \n",
        "            (df['PRICE'] <= np.percentile(df['PRICE'], 99.5)) & \n",
        "            (df['LATITUDE'] >= np.percentile(df['LATITUDE'], 0.05)) & \n",
        "            (df['LATITUDE'] < np.percentile(df['LATITUDE'], 99.95)) &\n",
        "            (df['LONGITUDE'] >= np.percentile(df['LONGITUDE'], 0.05)) & \n",
        "            (df['LONGITUDE'] <= np.percentile(df['LONGITUDE'], 99.95))]\n",
        "\n",
        "    return df\n",
        "\n",
        "filepath = DATA_PATH + 'apartments/renthop-nyc.csv'\n",
        "\n",
        "df = df = wrangle(filepath)"
      ],
      "execution_count": 3,
      "outputs": [
        {
          "output_type": "stream",
          "name": "stdout",
          "text": [
            "Columns To Drop: ['CREATED', 'DESCRIPTION', 'DISPLAY_ADDRESS', 'STREET_ADDRESS']\n"
          ]
        }
      ]
    },
    {
      "cell_type": "code",
      "metadata": {
        "id": "e999biKpTxx_",
        "outputId": "e12fe02c-51a3-4e45-f19e-7f297dc7a8c6",
        "colab": {
          "base_uri": "https://localhost:8080/"
        }
      },
      "source": [
        "df['DISPLAY_ADDRESS'].nunique()"
      ],
      "execution_count": 5,
      "outputs": [
        {
          "output_type": "execute_result",
          "data": {
            "text/plain": [
              "8552"
            ]
          },
          "metadata": {},
          "execution_count": 5
        }
      ]
    },
    {
      "cell_type": "code",
      "metadata": {
        "id": "hcFEzWNLUXr7",
        "outputId": "40c3c02a-9b4c-40b3-935a-cf2876ac042e",
        "colab": {
          "base_uri": "https://localhost:8080/"
        }
      },
      "source": [
        "df['STREET_ADDRESS'].nunique()"
      ],
      "execution_count": 6,
      "outputs": [
        {
          "output_type": "execute_result",
          "data": {
            "text/plain": [
              "14635"
            ]
          },
          "metadata": {},
          "execution_count": 6
        }
      ]
    },
    {
      "cell_type": "code",
      "metadata": {
        "id": "6HcB0uM7bffe"
      },
      "source": [
        "#THERE ARE REPEAT DATES\n",
        "#df[ df['CREATED'].duplicated() ]\n",
        "\n",
        "cols_to_drop = ['CREATED', 'DESCRIPTION', 'DISPLAY_ADDRESS', 'STREET_ADDRESS']"
      ],
      "execution_count": 4,
      "outputs": []
    },
    {
      "cell_type": "markdown",
      "metadata": {
        "id": "IShi9_zwaHUI"
      },
      "source": [
        "**Task 1:** Add the following functionality to the above `wrangle` function.\n",
        "\n",
        "- The `'created'` column will parsed as a `DateTime` object and set as the `index` of the DataFrame. \n",
        "- Rows with `NaN` values will be dropped.\n",
        "\n",
        "Then use your modified function to import the `renthop-nyc.csv` file into a DataFrame named `df`."
      ]
    },
    {
      "cell_type": "markdown",
      "metadata": {
        "id": "t_pWv58eaHUJ"
      },
      "source": [
        "**Task 2:** Using your `pandas` and dataviz skills decide on two features that you want to engineer for your dataset. Next, modify your `wrangle` function to add those features. \n",
        "\n",
        "**Note:** You can learn more about feature engineering [here](https://en.wikipedia.org/wiki/Feature_engineering). Here are some ideas for new features:\n",
        "\n",
        "- Does the apartment have a description?\n",
        "- Length of description.\n",
        "- Total number of perks that apartment has.\n",
        "- Are cats _or_ dogs allowed?\n",
        "- Are cats _and_ dogs allowed?\n",
        "- Total number of rooms (beds + baths)."
      ]
    },
    {
      "cell_type": "code",
      "metadata": {
        "id": "ke5jcBv-9m4o",
        "outputId": "25ce56f8-0b4c-4fa3-897b-1756e0f4bbab",
        "colab": {
          "base_uri": "https://localhost:8080/"
        }
      },
      "source": [
        "print(list(df.columns))"
      ],
      "execution_count": 7,
      "outputs": [
        {
          "output_type": "stream",
          "name": "stdout",
          "text": [
            "['BATHROOMS', 'BEDROOMS', 'CREATED', 'DESCRIPTION', 'DISPLAY_ADDRESS', 'LATITUDE', 'LONGITUDE', 'PRICE', 'STREET_ADDRESS', 'INTEREST_LEVEL', 'ELEVATOR', 'CATS_ALLOWED', 'HARDWOOD_FLOORS', 'DOGS_ALLOWED', 'DOORMAN', 'DISHWASHER', 'NO_FEE', 'LAUNDRY_IN_BUILDING', 'FITNESS_CENTER', 'PRE-WAR', 'LAUNDRY_IN_UNIT', 'ROOF_DECK', 'OUTDOOR_SPACE', 'DINING_ROOM', 'HIGH_SPEED_INTERNET', 'BALCONY', 'SWIMMING_POOL', 'NEW_CONSTRUCTION', 'TERRACE', 'EXCLUSIVE', 'LOFT', 'GARDEN_PATIO', 'WHEELCHAIR_ACCESS', 'COMMON_OUTDOOR_SPACE']\n"
          ]
        }
      ]
    },
    {
      "cell_type": "code",
      "metadata": {
        "id": "1fVQAhbyaHUK",
        "outputId": "d0d4ca20-dad9-4f2d-d04e-25f73cd2a196",
        "colab": {
          "base_uri": "https://localhost:8080/",
          "height": 385
        }
      },
      "source": [
        "# Conduct your exploratory data analysis here, \n",
        "# and then modify the function above.\n",
        "\n",
        "# Feature Formatting\n",
        "df.loc[df['INTEREST_LEVEL'] == 'low', \"INTEREST_LEVEL\"] = 0\n",
        "df.loc[df['INTEREST_LEVEL'] == 'medium', \"INTEREST_LEVEL\"] = 1\n",
        "df.loc[df['INTEREST_LEVEL'] == 'high', \"INTEREST_LEVEL\"] = 2\n",
        "\n",
        "# Additional Feature #1\n",
        "df['BATHROOM_CROWDING'] = df['BEDROOMS'] - df['BATHROOMS']\n",
        "plt.title('BATHROOM CROWDING vs PRICE')\n",
        "plt.scatter(y=df['PRICE'], x=df['BATHROOM_CROWDING']);\n",
        "\n",
        "# Additional Feature #2\n",
        "df['LIVABILITY'] = df['HIGH_SPEED_INTERNET']*(df['DISHWASHER'] + df['LAUNDRY_IN_UNIT'])\n",
        "print(df.groupby(by='LIVABILITY')['PRICE'].mean()); print()\n",
        "#plt.scatter(y=df['PRICE'], x=df['LIVABLE']);\n",
        "\n",
        "# plt.scatter(y=df['PRICE'], x=df['DOGS_ALLOWED']);\n",
        "# print(df.groupby(by='DOGS_ALLOWED')['PRICE'].mean()); print()"
      ],
      "execution_count": 8,
      "outputs": [
        {
          "output_type": "stream",
          "name": "stdout",
          "text": [
            "LIVABILITY\n",
            "0    3524.970891\n",
            "1    3855.860052\n",
            "2    4639.397741\n",
            "Name: PRICE, dtype: float64\n",
            "\n"
          ]
        },
        {
          "output_type": "display_data",
          "data": {
            "image/png": "[encoded data removed]",
            "text/plain": [
              "<Figure size 432x288 with 1 Axes>"
            ]
          },
          "metadata": {
            "needs_background": "light"
          }
        }
      ]
    },
    {
      "cell_type": "markdown",
      "metadata": {
        "id": "0Ld934WzaHUK"
      },
      "source": [
        "# II. Split Data\n",
        "\n",
        "**Task 3:** Split your DataFrame `df` into a feature matrix `X` and the target vector `y`. You want to predict `'price'`.\n",
        "\n",
        "**Note:** In contrast to the last module project, this time you should include _all_ the numerical features in your dataset."
      ]
    },
    {
      "cell_type": "code",
      "metadata": {
        "id": "fOGf78jMaHUL"
      },
      "source": [
        "target = 'PRICE'\n",
        "features = list(df.columns)\n",
        "for col in cols_to_drop:\n",
        "  features.remove(col)\n",
        "features.remove(target)\n",
        "\n",
        "X = df[ features ]\n",
        "y = df[target]"
      ],
      "execution_count": 11,
      "outputs": []
    },
    {
      "cell_type": "markdown",
      "metadata": {
        "id": "gcxikicMaHUL"
      },
      "source": [
        "**Task 4:** Split `X` and `y` into a training set (`X_train`, `y_train`) and a test set (`X_test`, `y_test`).\n",
        "\n",
        "- Your training set should include data from April and May 2016. \n",
        "- Your test set should include data from June 2016."
      ]
    },
    {
      "cell_type": "code",
      "metadata": {
        "id": "tBUOAPjZaHUL"
      },
      "source": [
        "mask = ( (df['CREATED'].dt.month == 4) | (df['CREATED'].dt.month == 5) )\n",
        "\n",
        "X_train, y_train = X.loc[mask], y.loc[mask]\n",
        "X_test, y_test = X.loc[~mask], y.loc[~mask]\n",
        "\n",
        "#print(df[~mask]['CREATED'].dt.month.value_counts()) #To Check That The Split Worked"
      ],
      "execution_count": 12,
      "outputs": []
    },
    {
      "cell_type": "markdown",
      "metadata": {
        "id": "7nVewDmqaHUM"
      },
      "source": [
        "# III. Establish Baseline"
      ]
    },
    {
      "cell_type": "markdown",
      "metadata": {
        "id": "vYZk5iagaHUM"
      },
      "source": [
        "**Task 5:** Since this is a **regression** problem, you need to calculate the baseline mean absolute error for your model. First, calculate the mean of `y_train`. Next, create a list `y_pred` that has the same length as `y_train` and where every item in the list is the mean. Finally, use `mean_absolute_error` to calculate your baseline."
      ]
    },
    {
      "cell_type": "code",
      "metadata": {
        "id": "gkxGqp6qaHUM",
        "outputId": "d38c5d59-5ecb-45f5-fc1a-9d20927cabc0",
        "colab": {
          "base_uri": "https://localhost:8080/"
        }
      },
      "source": [
        "y_pred_baseline = [ y_train.mean() ] * len(y_train)\n",
        "baseline_mae = mae(y_train, y_pred_baseline)\n",
        "print('Baseline MAE:', baseline_mae)"
      ],
      "execution_count": 13,
      "outputs": [
        {
          "output_type": "stream",
          "name": "stdout",
          "text": [
            "Baseline MAE: 1202.398300781848\n"
          ]
        }
      ]
    },
    {
      "cell_type": "markdown",
      "metadata": {
        "id": "DpgQXae5aHUN"
      },
      "source": [
        "# IV. Build Model\n",
        "\n",
        "**Task 6:** Build and train a `LinearRegression` model named `model` using your feature matrix `X_train` and your target vector `y_train`."
      ]
    },
    {
      "cell_type": "code",
      "metadata": {
        "id": "Rae9OxSZaHUN",
        "outputId": "931267cf-ec83-483b-deb5-59c5e09d214d",
        "colab": {
          "base_uri": "https://localhost:8080/"
        }
      },
      "source": [
        "model = LinearRegression()\n",
        "\n",
        "model.fit(X_train, y_train)\n"
      ],
      "execution_count": 14,
      "outputs": [
        {
          "output_type": "execute_result",
          "data": {
            "text/plain": [
              "LinearRegression()"
            ]
          },
          "metadata": {},
          "execution_count": 14
        }
      ]
    },
    {
      "cell_type": "markdown",
      "metadata": {
        "id": "DP66cMuSaHUN"
      },
      "source": [
        "# V. Check Metrics\n",
        "\n",
        "**Task 7:** Calculate the training and test mean absolute error for your model."
      ]
    },
    {
      "cell_type": "code",
      "metadata": {
        "id": "T-8eHIbzaHUO",
        "outputId": "d7dfae14-b1c1-488c-b04d-3d66ab120558",
        "colab": {
          "base_uri": "https://localhost:8080/"
        }
      },
      "source": [
        "training_mae = mae(y_train, model.predict(X_train))\n",
        "test_mae = mae(y_test, model.predict(X_test))\n",
        "\n",
        "print('Training MAE:', training_mae)\n",
        "print('Test MAE:', test_mae)"
      ],
      "execution_count": 15,
      "outputs": [
        {
          "output_type": "stream",
          "name": "stdout",
          "text": [
            "Training MAE: 672.8995195838064\n",
            "Test MAE: 676.3613903051682\n"
          ]
        }
      ]
    },
    {
      "cell_type": "markdown",
      "metadata": {
        "id": "YG0Ds2TDaHUO"
      },
      "source": [
        "**Task 8:** Calculate the training and test $R^2$ score for your model."
      ]
    },
    {
      "cell_type": "code",
      "metadata": {
        "id": "aqK1dTvzaHUO",
        "outputId": "89450695-9703-4b4e-96d9-8df9f8f90e47",
        "colab": {
          "base_uri": "https://localhost:8080/"
        }
      },
      "source": [
        "training_r2 = r2(y_train, model.predict(X_train))\n",
        "test_r2 = r2(y_train, model.predict(X_train))\n",
        "\n",
        "print('Training R2:', training_r2)\n",
        "print('Test R2:', test_r2)"
      ],
      "execution_count": 16,
      "outputs": [
        {
          "output_type": "stream",
          "name": "stdout",
          "text": [
            "Training R2: 0.6360223007864619\n",
            "Test R2: 0.6360223007864619\n"
          ]
        }
      ]
    },
    {
      "cell_type": "markdown",
      "metadata": {
        "id": "5K2ik0QvaHUP"
      },
      "source": [
        "# VI. Communicate Results\n",
        "\n",
        "**Stretch Goal:** What are the three most influential coefficients in your linear model? You should consider the _absolute value_ of each coefficient, so that it doesn't matter if it's positive or negative."
      ]
    },
    {
      "cell_type": "code",
      "metadata": {
        "id": "BYLw7elqaHUP",
        "outputId": "0277fc96-e985-4de8-df0d-50f0ea643c76",
        "colab": {
          "base_uri": "https://localhost:8080/"
        }
      },
      "source": [
        "var = 'ABS COEF'\n",
        "coef_df = pd.DataFrame(model.coef_, index=features, columns=[var])\n",
        "print(coef_df.abs().sort_values(by=var, ascending=False))"
      ],
      "execution_count": 24,
      "outputs": [
        {
          "output_type": "stream",
          "name": "stdout",
          "text": [
            "                          ABS COEF\n",
            "BATHROOMS             1.172889e+15\n",
            "BATHROOM_CROWDING     1.172889e+15\n",
            "BEDROOMS              1.172889e+15\n",
            "LONGITUDE             1.306342e+04\n",
            "LATITUDE              1.222697e+03\n",
            "LAUNDRY_IN_UNIT       4.851853e+02\n",
            "DOORMAN               4.226043e+02\n",
            "INTEREST_LEVEL        4.115810e+02\n",
            "HIGH_SPEED_INTERNET   2.678594e+02\n",
            "DINING_ROOM           2.657656e+02\n",
            "EXCLUSIVE             2.127041e+02\n",
            "WHEELCHAIR_ACCESS     1.820430e+02\n",
            "TERRACE               1.810938e+02\n",
            "ROOF_DECK             1.608666e+02\n",
            "HARDWOOD_FLOORS       1.454537e+02\n",
            "COMMON_OUTDOOR_SPACE  1.367959e+02\n",
            "ELEVATOR              1.345593e+02\n",
            "LOFT                  1.335400e+02\n",
            "NEW_CONSTRUCTION      1.310117e+02\n",
            "LAUNDRY_IN_BUILDING   1.089525e+02\n",
            "FITNESS_CENTER        1.088985e+02\n",
            "NO_FEE                1.030957e+02\n",
            "PRE-WAR               9.024763e+01\n",
            "OUTDOOR_SPACE         8.050000e+01\n",
            "DOGS_ALLOWED          7.221642e+01\n",
            "SWIMMING_POOL         6.303906e+01\n",
            "DISHWASHER            5.879296e+01\n",
            "BALCONY               4.156250e+01\n",
            "GARDEN_PATIO          4.149219e+01\n",
            "CATS_ALLOWED          3.591626e+01\n",
            "LIVABILITY            1.665625e+01\n"
          ]
        }
      ]
    },
    {
      "cell_type": "code",
      "metadata": {
        "id": "7W2MYYxWXDDT"
      },
      "source": [
        ""
      ],
      "execution_count": null,
      "outputs": []
    }
  ]
}