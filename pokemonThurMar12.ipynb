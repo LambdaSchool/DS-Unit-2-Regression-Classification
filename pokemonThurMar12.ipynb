{
  "nbformat": 4,
  "nbformat_minor": 0,
  "metadata": {
    "kernelspec": {
      "display_name": "Python 3",
      "language": "python",
      "name": "python3"
    },
    "language_info": {
      "codemirror_mode": {
        "name": "ipython",
        "version": 3
      },
      "file_extension": ".py",
      "mimetype": "text/x-python",
      "name": "python",
      "nbconvert_exporter": "python",
      "pygments_lexer": "ipython3",
      "version": "3.7.5"
    },
    "colab": {
      "name": "pokemonThurMar12.ipynb",
      "provenance": [],
      "include_colab_link": true
    }
  },
  "cells": [
    {
      "cell_type": "markdown",
      "metadata": {
        "id": "view-in-github",
        "colab_type": "text"
      },
      "source": [
        "<a href=\"https://colab.research.google.com/github/LambdaTheda/DS-Unit-2-Linear-Models/blob/master/pokemonThurMar12.ipynb\" target=\"_parent\"><img src=\"https://colab.research.google.com/assets/colab-badge.svg\" alt=\"Open In Colab\"/></a>"
      ]
    },
    {
      "cell_type": "code",
      "metadata": {
        "id": "2qOI_jn3dhfC",
        "colab_type": "code",
        "colab": {}
      },
      "source": [
        "import pandas as pd\n",
        "from sklearn.preprocessing import LabelEncoder, OneHotEncoder, OrdinalEncoder, StandardScaler, LabelBinarizer, FunctionTransformer\n",
        "from sklearn.model_selection import train_test_split\n",
        "from sklearn.compose import ColumnTransformer\n",
        "from sklearn.pipeline import make_pipeline, Pipeline\n",
        "from sklearn.decomposition import TruncatedSVD\n",
        "from sklearn.impute import SimpleImputer\n",
        "from sklearn.ensemble import RandomForestClassifier\n",
        "from sklearn.linear_model import LogisticRegression\n",
        "from sklearn.metrics import accuracy_score, roc_auc_score, f1_score, confusion_matrix, classification_report"
      ],
      "execution_count": 0,
      "outputs": []
    },
    {
      "cell_type": "code",
      "metadata": {
        "id": "qSB4yDyqdhfI",
        "colab_type": "code",
        "colab": {}
      },
      "source": [
        "df = pd.read_csv('300k.csv')\n",
        "df_names = pd.read_csv('pokemonNumbers.csv')"
      ],
      "execution_count": 0,
      "outputs": []
    },
    {
      "cell_type": "code",
      "metadata": {
        "id": "F9kG7HSJdhfM",
        "colab_type": "code",
        "colab": {}
      },
      "source": [
        "df = df.merge(df_names, left_on='pokemonId', right_on='1', how='left')"
      ],
      "execution_count": 0,
      "outputs": []
    },
    {
      "cell_type": "code",
      "metadata": {
        "id": "84f1MuY1dhfR",
        "colab_type": "code",
        "colab": {}
      },
      "source": [
        "# target = 'appearedDayOfWeek'\n",
        "# categorical_features = ['class', 'rural', 'closeToWater', 'continent', 'urban', 'suburban', 'city', 'weather']\n",
        "# numeric_features = ['pokestopDistanceKm', 'gymDistanceKm', 'temperature', 'windBearing', 'pressure', 'latitude', 'longitude']\n",
        "\n",
        "target = 'city'\n",
        "categorical_features = ['class', 'terrainType', 'appearedDay', 'weather']\n",
        "numeric_features = ['population_density', 'windSpeed', 'temperature']"
      ],
      "execution_count": 0,
      "outputs": []
    },
    {
      "cell_type": "code",
      "metadata": {
        "id": "SJltXdb_dhfV",
        "colab_type": "code",
        "colab": {}
      },
      "source": [
        "X_train, X_test, y_train, y_test = train_test_split(df[categorical_features + numeric_features], df[target])"
      ],
      "execution_count": 0,
      "outputs": []
    },
    {
      "cell_type": "code",
      "metadata": {
        "id": "wEw2jvNadhfb",
        "colab_type": "code",
        "colab": {}
      },
      "source": [
        "def convert_to_numeric(X):\n",
        "    try:\n",
        "        return X.replace(r'([^\\.\\d])', pd.np.nan, regex=True).astype(float)\n",
        "    except Exception as e:\n",
        "        if X.dtype.name in ['float64', 'int64']:\n",
        "            return X\n",
        "        raise e"
      ],
      "execution_count": 0,
      "outputs": []
    },
    {
      "cell_type": "code",
      "metadata": {
        "id": "eCER7daKdhfj",
        "colab_type": "code",
        "colab": {}
      },
      "source": [
        "categorical_transformer = Pipeline(\n",
        "    steps=(\n",
        "        ('imputer', SimpleImputer(strategy='constant')),\n",
        "        ('encode', OneHotEncoder(handle_unknown='ignore'))\n",
        "    )\n",
        ")\n",
        "\n",
        "numeric_transformer = Pipeline(\n",
        "    steps=(\n",
        "        ('convert', FunctionTransformer(convert_to_numeric)),\n",
        "        ('imputer', SimpleImputer(strategy='median')),\n",
        "        ('scale', StandardScaler())\n",
        "    )\n",
        ")\n",
        "\n",
        "preprocessor = ColumnTransformer(\n",
        "    transformers=(\n",
        "        ('categorical', categorical_transformer, categorical_features),\n",
        "        ('numeric', numeric_transformer, numeric_features)\n",
        "    )\n",
        ")"
      ],
      "execution_count": 0,
      "outputs": []
    },
    {
      "cell_type": "code",
      "metadata": {
        "id": "HHJzNuFWdhfm",
        "colab_type": "code",
        "colab": {}
      },
      "source": [
        "rf_pipeline = Pipeline(\n",
        "    steps=(\n",
        "        ('preprocess', preprocessor),\n",
        "        ('classify', RandomForestClassifier())\n",
        "    )\n",
        ")\n",
        "\n",
        "lr_pipeline = Pipeline(\n",
        "    steps=(\n",
        "        ('preprocess', preprocessor),\n",
        "        ('classify', LogisticRegression())\n",
        "    )\n",
        ")"
      ],
      "execution_count": 0,
      "outputs": []
    },
    {
      "cell_type": "code",
      "metadata": {
        "id": "otteCPENdhfq",
        "colab_type": "code",
        "colab": {
          "base_uri": "https://localhost:8080/",
          "height": 507
        },
        "outputId": "f2d3ff2c-a5fc-4130-a9b0-05ccd9e38ca1"
      },
      "source": [
        "rf_pipeline.fit(X_train, y_train)"
      ],
      "execution_count": 11,
      "outputs": [
        {
          "output_type": "execute_result",
          "data": {
            "text/plain": [
              "Pipeline(memory=None,\n",
              "         steps=[('preprocess',\n",
              "                 ColumnTransformer(n_jobs=None, remainder='drop',\n",
              "                                   sparse_threshold=0.3,\n",
              "                                   transformer_weights=None,\n",
              "                                   transformers=(('categorical',\n",
              "                                                  Pipeline(memory=None,\n",
              "                                                           steps=(('imputer',\n",
              "                                                                   SimpleImputer(add_indicator=False,\n",
              "                                                                                 copy=True,\n",
              "                                                                                 fill_value=None,\n",
              "                                                                                 missing_values=nan,\n",
              "                                                                                 strategy='constant',\n",
              "                                                                                 verbose=0)),\n",
              "                                                                  ('encode',\n",
              "                                                                   OneHotEncoder(categories='...\n",
              "                 RandomForestClassifier(bootstrap=True, ccp_alpha=0.0,\n",
              "                                        class_weight=None, criterion='gini',\n",
              "                                        max_depth=None, max_features='auto',\n",
              "                                        max_leaf_nodes=None, max_samples=None,\n",
              "                                        min_impurity_decrease=0.0,\n",
              "                                        min_impurity_split=None,\n",
              "                                        min_samples_leaf=1, min_samples_split=2,\n",
              "                                        min_weight_fraction_leaf=0.0,\n",
              "                                        n_estimators=100, n_jobs=None,\n",
              "                                        oob_score=False, random_state=None,\n",
              "                                        verbose=0, warm_start=False))],\n",
              "         verbose=False)"
            ]
          },
          "metadata": {
            "tags": []
          },
          "execution_count": 11
        }
      ]
    },
    {
      "cell_type": "code",
      "metadata": {
        "id": "mxgzwFCedhfv",
        "colab_type": "code",
        "colab": {
          "base_uri": "https://localhost:8080/",
          "height": 692
        },
        "outputId": "40b8a66e-12da-4756-abe3-9e476de90980"
      },
      "source": [
        "lr_pipeline.fit(X_train, y_train)"
      ],
      "execution_count": 12,
      "outputs": [
        {
          "output_type": "stream",
          "text": [
            "/usr/local/lib/python3.6/dist-packages/sklearn/linear_model/_logistic.py:940: ConvergenceWarning: lbfgs failed to converge (status=1):\n",
            "STOP: TOTAL NO. of ITERATIONS REACHED LIMIT.\n",
            "\n",
            "Increase the number of iterations (max_iter) or scale the data as shown in:\n",
            "    https://scikit-learn.org/stable/modules/preprocessing.html\n",
            "Please also refer to the documentation for alternative solver options:\n",
            "    https://scikit-learn.org/stable/modules/linear_model.html#logistic-regression\n",
            "  extra_warning_msg=_LOGISTIC_SOLVER_CONVERGENCE_MSG)\n"
          ],
          "name": "stderr"
        },
        {
          "output_type": "execute_result",
          "data": {
            "text/plain": [
              "Pipeline(memory=None,\n",
              "         steps=[('preprocess',\n",
              "                 ColumnTransformer(n_jobs=None, remainder='drop',\n",
              "                                   sparse_threshold=0.3,\n",
              "                                   transformer_weights=None,\n",
              "                                   transformers=(('categorical',\n",
              "                                                  Pipeline(memory=None,\n",
              "                                                           steps=(('imputer',\n",
              "                                                                   SimpleImputer(add_indicator=False,\n",
              "                                                                                 copy=True,\n",
              "                                                                                 fill_value=None,\n",
              "                                                                                 missing_values=nan,\n",
              "                                                                                 strategy='constant',\n",
              "                                                                                 verbose=0)),\n",
              "                                                                  ('encode',\n",
              "                                                                   OneHotEncoder(categories='...\n",
              "                                                                                  with_std=True))),\n",
              "                                                           verbose=False),\n",
              "                                                  ['population_density',\n",
              "                                                   'windSpeed',\n",
              "                                                   'temperature'])),\n",
              "                                   verbose=False)),\n",
              "                ('classify',\n",
              "                 LogisticRegression(C=1.0, class_weight=None, dual=False,\n",
              "                                    fit_intercept=True, intercept_scaling=1,\n",
              "                                    l1_ratio=None, max_iter=100,\n",
              "                                    multi_class='auto', n_jobs=None,\n",
              "                                    penalty='l2', random_state=None,\n",
              "                                    solver='lbfgs', tol=0.0001, verbose=0,\n",
              "                                    warm_start=False))],\n",
              "         verbose=False)"
            ]
          },
          "metadata": {
            "tags": []
          },
          "execution_count": 12
        }
      ]
    },
    {
      "cell_type": "code",
      "metadata": {
        "id": "swwOYT-Idhf1",
        "colab_type": "code",
        "colab": {}
      },
      "source": [
        "y_pred_rf = rf_pipeline.predict(X_test)"
      ],
      "execution_count": 0,
      "outputs": []
    },
    {
      "cell_type": "code",
      "metadata": {
        "id": "cbHAAZIPdhf5",
        "colab_type": "code",
        "colab": {}
      },
      "source": [
        "y_pred_lr = lr_pipeline.predict(X_test)"
      ],
      "execution_count": 0,
      "outputs": []
    },
    {
      "cell_type": "code",
      "metadata": {
        "id": "ynTlFZ5fdhgA",
        "colab_type": "code",
        "colab": {
          "base_uri": "https://localhost:8080/",
          "height": 709
        },
        "outputId": "638aca4c-a7f6-4863-89b5-d19e712e44d5"
      },
      "source": [
        "print(f\"RF Accuracy score: {accuracy_score(y_test, y_pred_rf)}\")\n",
        "print(classification_report(y_test, y_pred_rf))"
      ],
      "execution_count": 15,
      "outputs": [
        {
          "output_type": "stream",
          "text": [
            "RF Accuracy score: 0.994824016563147\n",
            "              precision    recall  f1-score   support\n",
            "\n",
            "      Berlin       1.00      1.00      1.00         5\n",
            "   Bucharest       1.00      1.00      1.00         4\n",
            "Buenos_Aires       1.00      1.00      1.00         6\n",
            "     Chicago       0.98      0.99      0.99       197\n",
            "      Denver       1.00      1.00      1.00        25\n",
            "    Edmonton       1.00      1.00      1.00        40\n",
            "     Halifax       1.00      1.00      1.00        11\n",
            "Indianapolis       1.00      1.00      1.00         5\n",
            "Kuala_Lumpur       1.00      1.00      1.00         1\n",
            "     Kuching       1.00      1.00      1.00         4\n",
            "   Ljubljana       1.00      1.00      1.00         2\n",
            " Los_Angeles       1.00      1.00      1.00        66\n",
            "      Manila       1.00      1.00      1.00         1\n",
            "   Melbourne       0.00      0.00      0.00         1\n",
            " Mexico_City       1.00      0.99      0.99        97\n",
            "   Monterrey       1.00      1.00      1.00        22\n",
            "    New_York       0.99      1.00      0.99       287\n",
            "      Noumea       0.00      0.00      0.00         1\n",
            "       Paris       1.00      1.00      1.00         8\n",
            "       Perth       1.00      1.00      1.00         3\n",
            "     Phoenix       1.00      1.00      1.00        26\n",
            "      Prague       1.00      1.00      1.00        10\n",
            " Puerto_Rico       1.00      1.00      1.00         4\n",
            "        Rome       1.00      1.00      1.00        56\n",
            "   Sao_Paulo       1.00      1.00      1.00        12\n",
            "      Taipei       1.00      1.00      1.00         2\n",
            "     Toronto       1.00      1.00      1.00        25\n",
            "   Vancouver       1.00      1.00      1.00         9\n",
            "      Warsaw       1.00      1.00      1.00         6\n",
            "    Winnipeg       1.00      1.00      1.00        30\n",
            "\n",
            "    accuracy                           0.99       966\n",
            "   macro avg       0.93      0.93      0.93       966\n",
            "weighted avg       0.99      0.99      0.99       966\n",
            "\n"
          ],
          "name": "stdout"
        },
        {
          "output_type": "stream",
          "text": [
            "/usr/local/lib/python3.6/dist-packages/sklearn/metrics/_classification.py:1272: UndefinedMetricWarning: Precision and F-score are ill-defined and being set to 0.0 in labels with no predicted samples. Use `zero_division` parameter to control this behavior.\n",
            "  _warn_prf(average, modifier, msg_start, len(result))\n"
          ],
          "name": "stderr"
        }
      ]
    },
    {
      "cell_type": "code",
      "metadata": {
        "id": "vDReMad1dhgD",
        "colab_type": "code",
        "colab": {
          "base_uri": "https://localhost:8080/",
          "height": 709
        },
        "outputId": "2645df57-1043-4ea0-9fc0-f382572bf216"
      },
      "source": [
        "print(f\"LR Accuracy score: {accuracy_score(y_test, y_pred_lr)}\")\n",
        "print(classification_report(y_test, y_pred_lr))"
      ],
      "execution_count": 16,
      "outputs": [
        {
          "output_type": "stream",
          "text": [
            "LR Accuracy score: 0.8157349896480331\n",
            "              precision    recall  f1-score   support\n",
            "\n",
            "      Berlin       0.00      0.00      0.00         5\n",
            "   Bucharest       1.00      1.00      1.00         4\n",
            "Buenos_Aires       1.00      0.83      0.91         6\n",
            "     Chicago       0.68      0.87      0.76       197\n",
            "      Denver       0.92      0.96      0.94        25\n",
            "    Edmonton       0.97      0.97      0.97        40\n",
            "     Halifax       1.00      1.00      1.00        11\n",
            "Indianapolis       0.00      0.00      0.00         5\n",
            "Kuala_Lumpur       0.00      0.00      0.00         1\n",
            "     Kuching       1.00      0.25      0.40         4\n",
            "   Ljubljana       0.00      0.00      0.00         2\n",
            " Los_Angeles       0.88      0.53      0.66        66\n",
            "      Manila       0.00      0.00      0.00         1\n",
            "   Melbourne       0.00      0.00      0.00         1\n",
            " Mexico_City       0.97      0.80      0.88        97\n",
            "   Monterrey       0.88      0.95      0.91        22\n",
            "    New_York       0.74      0.77      0.75       287\n",
            "      Noumea       0.00      0.00      0.00         1\n",
            "       Paris       1.00      1.00      1.00         8\n",
            "       Perth       0.00      0.00      0.00         3\n",
            "     Phoenix       1.00      0.92      0.96        26\n",
            "      Prague       0.91      1.00      0.95        10\n",
            " Puerto_Rico       1.00      0.50      0.67         4\n",
            "        Rome       0.98      1.00      0.99        56\n",
            "   Sao_Paulo       1.00      1.00      1.00        12\n",
            "      Taipei       0.67      1.00      0.80         2\n",
            "     Toronto       1.00      1.00      1.00        25\n",
            "   Vancouver       0.70      0.78      0.74         9\n",
            "      Warsaw       1.00      0.50      0.67         6\n",
            "    Winnipeg       1.00      1.00      1.00        30\n",
            "\n",
            "    accuracy                           0.82       966\n",
            "   macro avg       0.68      0.62      0.63       966\n",
            "weighted avg       0.82      0.82      0.81       966\n",
            "\n"
          ],
          "name": "stdout"
        },
        {
          "output_type": "stream",
          "text": [
            "/usr/local/lib/python3.6/dist-packages/sklearn/metrics/_classification.py:1272: UndefinedMetricWarning: Precision and F-score are ill-defined and being set to 0.0 in labels with no predicted samples. Use `zero_division` parameter to control this behavior.\n",
            "  _warn_prf(average, modifier, msg_start, len(result))\n"
          ],
          "name": "stderr"
        }
      ]
    },
    {
      "cell_type": "code",
      "metadata": {
        "id": "tLsx8rZ_dhgG",
        "colab_type": "code",
        "colab": {}
      },
      "source": [
        ""
      ],
      "execution_count": 0,
      "outputs": []
    }
  ]
}