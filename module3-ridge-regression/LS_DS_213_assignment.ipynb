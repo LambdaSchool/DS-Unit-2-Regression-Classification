{
  "nbformat": 4,
  "nbformat_minor": 0,
  "metadata": {
    "colab": {
      "name": "LS_DS_213_solution.ipynb",
      "provenance": [],
      "collapsed_sections": []
    },
    "kernelspec": {
      "display_name": "Python 3",
      "language": "python",
      "name": "python3"
    },
    "language_info": {
      "codemirror_mode": {
        "name": "ipython",
        "version": 3
      },
      "file_extension": ".py",
      "mimetype": "text/x-python",
      "name": "python",
      "nbconvert_exporter": "python",
      "pygments_lexer": "ipython3",
      "version": "3.8.5"
    }
  },
  "cells": [
    {
      "cell_type": "markdown",
      "metadata": {
        "id": "zEdrKk1BfniJ"
      },
      "source": [
        "BloomTech Data Science\n",
        "\n",
        "*Unit 2, Sprint 1, Module 3*\n",
        "\n",
        "---"
      ]
    },
    {
      "cell_type": "code",
      "metadata": {
        "id": "Oq-__ovFfniP"
      },
      "source": [
        "%%capture\n",
        "import sys\n",
        "\n",
        "# If you're on Colab:\n",
        "if 'google.colab' in sys.modules:\n",
        "    DATA_PATH = 'https://raw.githubusercontent.com/LambdaSchool/DS-Unit-2-Applied-Modeling/master/data/'\n",
        "    !pip install category_encoders==2.*\n",
        "\n",
        "# If you're working locally:\n",
        "else:\n",
        "    DATA_PATH = '../data/'"
      ],
      "execution_count": 72,
      "outputs": []
    },
    {
      "cell_type": "markdown",
      "metadata": {
        "id": "tA0bhBGafniR"
      },
      "source": [
        "# Module Project: Ridge Regression\n",
        "\n",
        "For this project, you'll return to the Tribecca Condo dataset. But this time, you'll look at the _entire_ dataset and try to predict property sale prices.\n",
        "\n",
        "The [NYC Department of Finance](https://www1.nyc.gov/site/finance/taxes/property-rolling-sales-data.page) has a glossary of property sales terms and NYC Building Class Code Descriptions. The data comes from the [NYC OpenData](https://data.cityofnewyork.us/browse?q=NYC%20calendar%20sales) portal.\n",
        "\n",
        "## Directions\n",
        "\n",
        "The tasks for this project are the following:\n",
        "\n",
        "- **Task 1:** Import `csv` file using `wrangle` function.\n",
        "- **Task 2:** Conduct exploratory data analysis (EDA), and modify `wrangle` function to engineer two subset your dataset to one-family dwellings whose price is between \\\\$100,000 and \\\\$2,000,000.\n",
        "- **Task 3:** Split data into feature matrix `X` and target vector `y`.\n",
        "- **Task 4:** Split feature matrix `X` and target vector `y` into training and test sets.\n",
        "- **Task 5:** Establish the baseline mean absolute error for your dataset.\n",
        "- **Task 6:** Build and train a `OneHotEncoder`, and transform `X_train` and `X_test`.\n",
        "- **Task 7:** Build and train a `LinearRegression` model.\n",
        "- **Task 8:** Build and train a `Ridge` model.\n",
        "- **Task 9:** Calculate the training and test mean absolute error for your `LinearRegression` model.\n",
        "- **Task 10:** Calculate the training and test mean absolute error for your `Ridge` model.\n",
        "- **Task 11:** Create a horizontal bar chart showing the 10 most influencial features for your `Ridge` model. \n",
        "\n",
        "**Note**\n",
        "\n",
        "You should limit yourself to the following libraries for this project:\n",
        "\n",
        "- `category_encoders`\n",
        "- `matplotlib`\n",
        "- `pandas`\n",
        "- `sklearn`"
      ]
    },
    {
      "cell_type": "code",
      "metadata": {
        "id": "cJFugm_Uiu51"
      },
      "source": [
        "import matplotlib.pyplot as plt\n",
        "import pandas as pd"
      ],
      "execution_count": 73,
      "outputs": []
    },
    {
      "cell_type": "markdown",
      "metadata": {
        "id": "iNsx6sQRfniS"
      },
      "source": [
        "# I. Wrangle Data"
      ]
    },
    {
      "cell_type": "code",
      "metadata": {
        "colab": {
          "base_uri": "https://localhost:8080/"
        },
        "id": "QZ9Ae8KwfniT",
        "outputId": "7395f111-df83-433c-da8e-f9e5a08f7ab5"
      },
      "source": [
        "def wrangle(filepath):\n",
        "    # Import csv file\n",
        "    cols = ['BOROUGH', 'NEIGHBORHOOD',\n",
        "            'BUILDING CLASS CATEGORY', 'GROSS SQUARE FEET',  \n",
        "            'YEAR BUILT', 'SALE PRICE', 'SALE DATE']\n",
        "    df = pd.read_csv(filepath, usecols=cols,\n",
        "                     parse_dates=['SALE DATE'],\n",
        "                     index_col = ['SALE DATE']).sort_values(by='SALE DATE')\n",
        "\n",
        "    # Too much wrangling required for full data set\n",
        "    # df = pd.read_csv(filepath, parse_dates=['SALE DATE'],\n",
        "    #                  index_col = ['SALE DATE']).sort_values(by='SALE DATE')\n",
        "\n",
        "    #Wrangling Constants\n",
        "    threshold = 10\n",
        "    too_many_nulls_for_col = 50\n",
        "    \n",
        "    #Format Column Names\n",
        "    df.columns = df.columns.str.replace(' ', '_').str.upper()\n",
        "\n",
        "    #Convert String to Int\n",
        "    df['SALE_PRICE'] = (df['SALE_PRICE'].str.strip().str\n",
        "                        .replace('[$,\" \", \",\"]', '').astype(int) )\n",
        "\n",
        "    #Identify Borough as dtype object\n",
        "    df['BOROUGH'] = df['BOROUGH'].astype(object)\n",
        "\n",
        "    #Boolean Mask Restrictions**************************************************\n",
        "\n",
        "    # In 100k - 2000k Price Range\n",
        "    mask = ( (df.loc[:]['SALE_PRICE'] >= 100000) \n",
        "            & (df.loc[:]['SALE_PRICE'] <= 2000000) )\n",
        "    \n",
        "    # Single Family Dwellings\n",
        "    mask = mask & (df.loc[:]['BUILDING_CLASS_CATEGORY']\n",
        "                   == '01 ONE FAMILY DWELLINGS')\n",
        "    \n",
        "    # Gross Square Feet Not Zero\n",
        "    mask = mask & (df.loc[:]['GROSS_SQUARE_FEET']>0)\n",
        "    \n",
        "    #Apply Restrictions\n",
        "    df = df[mask]\n",
        "    #***************************************************************************\n",
        "\n",
        "    #Remove Single Value, High-Cardinality, and Null Columns\n",
        "    drop = [col for col in df.nunique().index\n",
        "            if (df[col].nunique()==1 or (df[col].dtype=='object' \n",
        "                and df[col].nunique()>threshold) \n",
        "                or (df[col].isnull().sum() > too_many_nulls_for_col) )]\n",
        "    print(\"Columns Dropped: \", drop)\n",
        "    df = df.drop(columns=drop)\n",
        "\n",
        "    #Drop Rows With Null Values\n",
        "    df = df.dropna(axis=0)\n",
        "\n",
        "    return df\n",
        "\n",
        "filepath = DATA_PATH+'condos/NYC_Citywide_Rolling_Calendar_Sales.csv'\n",
        "\n",
        "df = wrangle(filepath)"
      ],
      "execution_count": 74,
      "outputs": [
        {
          "output_type": "stream",
          "name": "stdout",
          "text": [
            "Columns Dropped:  ['NEIGHBORHOOD', 'BUILDING_CLASS_CATEGORY']\n"
          ]
        }
      ]
    },
    {
      "cell_type": "code",
      "metadata": {
        "colab": {
          "base_uri": "https://localhost:8080/"
        },
        "id": "BVa2OlXpii-y",
        "outputId": "acd20d1f-5d2a-48b3-db7f-be7f0848a8cd"
      },
      "source": [
        "print(\"Dataframe Info:\"); print()\n",
        "for col in df:\n",
        "  print(col + \": \" + str(df[col].nunique()) + \" unique \" + str(df[col].dtype) + \"s\")\n",
        "print(); print(\"Shape:\", df.shape); print()\n",
        "print(\"Nulls:\");print(df.isnull().sum())"
      ],
      "execution_count": 94,
      "outputs": [
        {
          "output_type": "stream",
          "name": "stdout",
          "text": [
            "Dataframe Info:\n",
            "\n",
            "BOROUGH: 5 unique objects\n",
            "GROSS_SQUARE_FEET: 1050 unique float64s\n",
            "YEAR_BUILT: 88 unique float64s\n",
            "SALE_PRICE: 991 unique int64s\n",
            "\n",
            "Shape: (3123, 4)\n",
            "\n",
            "Nulls:\n",
            "BOROUGH              0\n",
            "GROSS_SQUARE_FEET    0\n",
            "YEAR_BUILT           0\n",
            "SALE_PRICE           0\n",
            "dtype: int64\n"
          ]
        }
      ]
    },
    {
      "cell_type": "markdown",
      "metadata": {
        "id": "Cb6jmTsefniV"
      },
      "source": [
        "**Task 1:** Use the above `wrangle` function to import the `NYC_Citywide_Rolling_Calendar_Sales.csv` file into a DataFrame named `df`."
      ]
    },
    {
      "cell_type": "markdown",
      "metadata": {
        "id": "3yqNY7ksfniW"
      },
      "source": [
        "**Task 2:** Modify the above `wrangle` function so that:\n",
        "\n",
        "- The column `'SALE DATE'` becomes the `DatetimeIndex`.\n",
        "- The dtype for the `'BOROUGH'` column is `object`, not `int`.\n",
        "- The dtype for the `'SALE PRICE'` column is `int`, not `object`.\n",
        "- The dataset includes only one-family dwellings (`BUILDING CLASS CATEGORY == '01 ONE FAMILY DWELLINGS'`).\n",
        "- The dataset includes only properties whose sale price is between \\\\$100,000 and \\\\$2,000,000."
      ]
    },
    {
      "cell_type": "markdown",
      "metadata": {
        "id": "g5HCBXHvfniY"
      },
      "source": [
        "# II. Split Data\n",
        "\n",
        "**Task 3:** Split your dataset into the feature matrix `X` and the target vector `y`. You want to predict `'SALE_PRICE'`."
      ]
    },
    {
      "cell_type": "code",
      "metadata": {
        "id": "R-TdVUX_fniZ"
      },
      "source": [
        "target = 'SALE_PRICE'\n",
        "y = df[target]\n",
        "X = df.drop(columns=target)"
      ],
      "execution_count": 76,
      "outputs": []
    },
    {
      "cell_type": "markdown",
      "metadata": {
        "id": "w-y_aWS2fniZ"
      },
      "source": [
        "**Task 4:** Split `X` and `y` into a training set (`X_train`, `y_train`) and a test set (`X_test`, `y_test`).\n",
        "\n",
        "- Your training set should include data from January to March 2019. \n",
        "- Your test set should include data from April 2019."
      ]
    },
    {
      "cell_type": "code",
      "metadata": {
        "colab": {
          "base_uri": "https://localhost:8080/"
        },
        "id": "ADy2O-Mafnia",
        "outputId": "1da07508-8a17-4e83-fcae-cac970ef7351"
      },
      "source": [
        "pd.to_datetime('March 2019').month\n",
        "\n",
        "mask = (df.index.month <= 3) & (df.index.year == 2019)\n",
        "\n",
        "\n",
        "X_train, y_train = X[mask], y[mask]\n",
        "X_test, y_test = X[~mask], y[~mask]\n",
        "\n",
        "print(X_train.shape, y_train.shape)\n",
        "print(X_test.shape, y_test.shape)"
      ],
      "execution_count": 77,
      "outputs": [
        {
          "output_type": "stream",
          "name": "stdout",
          "text": [
            "(2486, 3) (2486,)\n",
            "(637, 3) (637,)\n"
          ]
        }
      ]
    },
    {
      "cell_type": "markdown",
      "metadata": {
        "id": "u5O28sk_fnia"
      },
      "source": [
        "# III. Establish Baseline\n",
        "\n",
        "**Task 5:** Since this is a **regression** problem, you need to calculate the baseline mean absolute error for your model."
      ]
    },
    {
      "cell_type": "code",
      "metadata": {
        "colab": {
          "base_uri": "https://localhost:8080/"
        },
        "id": "sRnA47rDfnib",
        "outputId": "4c55a05f-87d0-4cd7-c4d6-d732637ec2a8"
      },
      "source": [
        "from sklearn.metrics import mean_absolute_error\n",
        "baseline_pred = [y_train.mean()] * len(y_train)\n",
        "baseline_mae = mean_absolute_error(y_train, baseline_pred)\n",
        "print('Baseline MAE:', baseline_mae)"
      ],
      "execution_count": 78,
      "outputs": [
        {
          "output_type": "stream",
          "name": "stdout",
          "text": [
            "Baseline MAE: 216725.1356183526\n"
          ]
        }
      ]
    },
    {
      "cell_type": "markdown",
      "metadata": {
        "id": "_Zh4lZ7ffnib"
      },
      "source": [
        "# IV. Build Model \n",
        "\n",
        "**Task 6:** Build and train a `OneHotEncoder` and then use it to transform `X_train` and `X_test`."
      ]
    },
    {
      "cell_type": "code",
      "metadata": {
        "colab": {
          "base_uri": "https://localhost:8080/"
        },
        "id": "eBGGXOzpfnib",
        "outputId": "0e6464f7-510e-430a-e1a3-bb172887f6f5"
      },
      "source": [
        "from category_encoders import OneHotEncoder\n",
        "ohe = OneHotEncoder(use_cat_names=True)\n",
        "ohe.fit(X_train)\n",
        "\n",
        "XT_train = ohe.transform(X_train)\n",
        "XT_test = ohe.transform(X_test)\n",
        "\n",
        "print(list(XT_train.columns))"
      ],
      "execution_count": 79,
      "outputs": [
        {
          "output_type": "stream",
          "name": "stdout",
          "text": [
            "['BOROUGH_3.0', 'BOROUGH_4.0', 'BOROUGH_5.0', 'BOROUGH_2.0', 'BOROUGH_1.0', 'GROSS_SQUARE_FEET', 'YEAR_BUILT']\n"
          ]
        }
      ]
    },
    {
      "cell_type": "markdown",
      "metadata": {
        "id": "WyByriRhfnic"
      },
      "source": [
        "**Task 7:** Build and train a `LinearRegression` model named `model_lr`. Remember to train your model using your _transformed_ feature matrix."
      ]
    },
    {
      "cell_type": "code",
      "metadata": {
        "colab": {
          "base_uri": "https://localhost:8080/"
        },
        "id": "NA3GJpbKfnic",
        "outputId": "64b15cb4-5a48-4682-c9b7-1ab17904fc41"
      },
      "source": [
        "from sklearn.linear_model import LinearRegression, Ridge\n",
        "model_lr = LinearRegression()\n",
        "model_lr.fit(XT_train, y_train)"
      ],
      "execution_count": 80,
      "outputs": [
        {
          "output_type": "execute_result",
          "data": {
            "text/plain": [
              "LinearRegression()"
            ]
          },
          "metadata": {},
          "execution_count": 80
        }
      ]
    },
    {
      "cell_type": "markdown",
      "metadata": {
        "id": "j3yvzwpqfnic"
      },
      "source": [
        "**Task 8:** Build and train a `Ridge` model named `model_r`. Remember to train your model using your _transformed_ feature matrix."
      ]
    },
    {
      "cell_type": "code",
      "metadata": {
        "colab": {
          "base_uri": "https://localhost:8080/"
        },
        "id": "P5lfi_9qfnid",
        "outputId": "bb00aafc-7b88-4086-d06b-12bbc8fca71a"
      },
      "source": [
        "model_r = Ridge(alpha=5.0)\n",
        "model_r.fit(XT_train, y_train)"
      ],
      "execution_count": 81,
      "outputs": [
        {
          "output_type": "execute_result",
          "data": {
            "text/plain": [
              "Ridge(alpha=5.0)"
            ]
          },
          "metadata": {},
          "execution_count": 81
        }
      ]
    },
    {
      "cell_type": "markdown",
      "metadata": {
        "id": "oH6iTHetfnid"
      },
      "source": [
        "# V. Check Metrics\n",
        "\n",
        "**Task 9:** Check the training and test metrics for `model_lr`."
      ]
    },
    {
      "cell_type": "code",
      "metadata": {
        "colab": {
          "base_uri": "https://localhost:8080/"
        },
        "id": "Et-sI5Phfnid",
        "outputId": "40bce25a-655f-4fa8-a6a8-de3e4e222048"
      },
      "source": [
        "training_mae_lr = mean_absolute_error(y_train, model_lr.predict(XT_train))\n",
        "test_mae_lr = mean_absolute_error(y_test, model_lr.predict(XT_test))\n",
        "\n",
        "print('Linear Training MAE:', training_mae_lr)\n",
        "print('Linear Test MAE:', test_mae_lr)"
      ],
      "execution_count": 82,
      "outputs": [
        {
          "output_type": "stream",
          "name": "stdout",
          "text": [
            "Linear Training MAE: 180213.46022236146\n",
            "Linear Test MAE: 185899.4332001807\n"
          ]
        }
      ]
    },
    {
      "cell_type": "markdown",
      "metadata": {
        "id": "JvY_pbhRfnie"
      },
      "source": [
        "**Task 10:** Check the training and test metrics for `model_r`."
      ]
    },
    {
      "cell_type": "code",
      "metadata": {
        "colab": {
          "base_uri": "https://localhost:8080/"
        },
        "id": "ECPe1Od5fnie",
        "outputId": "b1bebe18-a0ae-46e4-9055-587904d2a218"
      },
      "source": [
        "training_mae_r = mean_absolute_error(y_train, model_r.predict(XT_train))\n",
        "test_mae_r = mean_absolute_error(y_test, model_r.predict(XT_test))\n",
        "\n",
        "print('Ridge Training MAE:', training_mae_r)\n",
        "print('Ridge Test MAE:', test_mae_r)"
      ],
      "execution_count": 83,
      "outputs": [
        {
          "output_type": "stream",
          "name": "stdout",
          "text": [
            "Ridge Training MAE: 180208.67646852726\n",
            "Ridge Test MAE: 185738.6004637565\n"
          ]
        }
      ]
    },
    {
      "cell_type": "markdown",
      "metadata": {
        "id": "djdBTEBAfnie"
      },
      "source": [
        "**Stretch Goal:** Calculate the training and test $R^2$ scores `model_r`."
      ]
    },
    {
      "cell_type": "code",
      "metadata": {
        "colab": {
          "base_uri": "https://localhost:8080/"
        },
        "id": "HNmqglWRfnif",
        "outputId": "22060877-ce9f-47be-bdd5-624b0f807c9a"
      },
      "source": [
        "# Caculate R^2 score\n",
        "from sklearn.metrics import r2_score\n",
        "training_r2_lr = r2_score(y_train, model_lr.predict(XT_train))\n",
        "test_r2_lr = r2_score(y_test, model_lr.predict(XT_test))\n",
        "\n",
        "\n",
        "print('Linear Training R2:', training_r2_lr)\n",
        "print('Linear Test R2:', test_r2_lr)"
      ],
      "execution_count": 84,
      "outputs": [
        {
          "output_type": "stream",
          "name": "stdout",
          "text": [
            "Linear Training R2: 0.30384199639253995\n",
            "Linear Test R2: 0.24929110699021395\n"
          ]
        }
      ]
    },
    {
      "cell_type": "markdown",
      "metadata": {
        "id": "coQ50zfjfnif"
      },
      "source": [
        "# IV. Communicate Results\n",
        "\n",
        "**Task 11:** Create a horizontal barchart that plots the 10 most important coefficients for `model_r`, sorted by absolute value. Your figure should look like our example from class:"
      ]
    },
    {
      "cell_type": "code",
      "metadata": {
        "colab": {
          "base_uri": "https://localhost:8080/",
          "height": 556
        },
        "id": "ZISznrq_fnim",
        "outputId": "4231e3ea-18e9-48b1-f8e5-dc3bf47fa582"
      },
      "source": [
        "print(\"LINEAR MODEL ABS COEFFICIENTS\")\n",
        "coef_df = pd.DataFrame(model_lr.coef_, index=list(XT_train.columns), columns=[target])\n",
        "print(coef_df.abs().sort_values(by=target, ascending=False)); print()\n",
        "\n",
        "coef_df.abs().plot(kind='bar', title='LINEAR MODEL COEFFICIENTS');"
      ],
      "execution_count": 85,
      "outputs": [
        {
          "output_type": "stream",
          "name": "stdout",
          "text": [
            "LINEAR MODEL ABS COEFFICIENTS\n",
            "                      SALE_PRICE\n",
            "BOROUGH_2.0        175383.362184\n",
            "BOROUGH_3.0        134151.132274\n",
            "BOROUGH_1.0        121334.633045\n",
            "BOROUGH_5.0        108944.751210\n",
            "BOROUGH_4.0         28842.348075\n",
            "GROSS_SQUARE_FEET     233.693941\n",
            "YEAR_BUILT            204.386855\n",
            "\n"
          ]
        },
        {
          "output_type": "display_data",
          "data": {
            "image/png": "[encoded data removed]",
            "text/plain": [
              "<Figure size 432x288 with 1 Axes>"
            ]
          },
          "metadata": {
            "needs_background": "light"
          }
        }
      ]
    },
    {
      "cell_type": "code",
      "metadata": {
        "colab": {
          "base_uri": "https://localhost:8080/",
          "height": 556
        },
        "id": "Y7EW7V1j-RZp",
        "outputId": "5be5cde4-303a-4eea-ed31-1b8596492a95"
      },
      "source": [
        "print(\"RIDGE MODEL ABS COEFFICIENTS\")\n",
        "coef_df = pd.DataFrame(model_r.coef_, index=list(XT_train.columns), columns=[target])\n",
        "print(coef_df.abs().sort_values(by=target, ascending=False)); print()\n",
        "\n",
        "coef_df.abs().plot(kind='bar', title='RIDGE MODEL COEFFICIENTS');"
      ],
      "execution_count": 86,
      "outputs": [
        {
          "output_type": "stream",
          "name": "stdout",
          "text": [
            "RIDGE MODEL ABS COEFFICIENTS\n",
            "                      SALE_PRICE\n",
            "BOROUGH_3.0        155896.783420\n",
            "BOROUGH_2.0        148389.651092\n",
            "BOROUGH_5.0         84072.882536\n",
            "BOROUGH_4.0         52410.344531\n",
            "BOROUGH_1.0         24155.405676\n",
            "GROSS_SQUARE_FEET     233.693737\n",
            "YEAR_BUILT            189.514373\n",
            "\n"
          ]
        },
        {
          "output_type": "display_data",
          "data": {
            "image/png": "[encoded data removed]",
            "text/plain": [
              "<Figure size 432x288 with 1 Axes>"
            ]
          },
          "metadata": {
            "needs_background": "light"
          }
        }
      ]
    },
    {
      "cell_type": "code",
      "metadata": {
        "id": "fage3hOEDr15"
      },
      "source": [
        ""
      ],
      "execution_count": 86,
      "outputs": []
    }
  ]
}