{
  "nbformat": 4,
  "nbformat_minor": 0,
  "metadata": {
    "colab": {
      "name": "213-guided-project-notes.ipynb",
      "provenance": [],
      "collapsed_sections": []
    },
    "kernelspec": {
      "name": "python3",
      "display_name": "Python 3"
    }
  },
  "cells": [
    {
      "cell_type": "code",
      "metadata": {
        "id": "k0dvbuCzd5qK"
      },
      "source": [
        "# Model Building\n",
        "from sklearn.feature_selection import SelectKBest, f_regression\n",
        "from sklearn.linear_model import LinearRegression, Ridge\n",
        "from sklearn.metrics import mean_absolute_error, mean_squared_error\n",
        "from sklearn.pipeline import make_pipeline\n",
        "import numpy as np\n",
        "import matplotlib.pyplot as plt\n",
        "import pandas as pd\n",
        "\n",
        "# For running this notebook either locally or in colab\n",
        "import sys"
      ],
      "execution_count": 1,
      "outputs": []
    },
    {
      "cell_type": "code",
      "metadata": {
        "id": "wz7tyC22gLEA"
      },
      "source": [
        "#This line below just captures all the output for the cell, so we don't have to look at it\n",
        "%%capture\n",
        "# If you're on Colab:\n",
        "if 'google.colab' in sys.modules:\n",
        "    DATA_PATH = 'https://raw.githubusercontent.com/LambdaSchool/DS-Unit-2-Applied-Modeling/master/data/'\n",
        "    !pip install category_encoders==2.*\n",
        "\n",
        "# If you're working locally:\n",
        "else:\n",
        "    DATA_PATH = '../data/'"
      ],
      "execution_count": 2,
      "outputs": []
    },
    {
      "cell_type": "code",
      "metadata": {
        "id": "eK1JmTLj8wFC",
        "outputId": "1740bad6-2230-47e7-f4e6-bfce0ca0d9f2",
        "colab": {
          "base_uri": "https://localhost:8080/"
        }
      },
      "source": [
        "# For encoding categorical data\n",
        "from category_encoders import OneHotEncoder"
      ],
      "execution_count": 3,
      "outputs": [
        {
          "output_type": "stream",
          "name": "stderr",
          "text": [
            "/usr/local/lib/python3.7/dist-packages/statsmodels/tools/_testing.py:19: FutureWarning: pandas.util.testing is deprecated. Use the functions in the public API at pandas.testing instead.\n",
            "  import pandas.util.testing as tm\n"
          ]
        }
      ]
    },
    {
      "cell_type": "markdown",
      "metadata": {
        "id": "c9XvBGFMguJ1"
      },
      "source": [
        "# NYC Rent\n",
        "\n",
        "**GOAL:** Improve our model for predicting NYC rent prices.\n",
        "\n",
        "**Objectives**\n",
        "\n",
        "- Do one-hot encoding of categorical features\n",
        "- Do univariate feature selection\n",
        "- Use scikit-learn to fit Ridge Regression models"
      ]
    },
    {
      "cell_type": "markdown",
      "metadata": {
        "id": "0kaV7oNahJLj"
      },
      "source": [
        "# I. Wrangle Data"
      ]
    },
    {
      "cell_type": "markdown",
      "metadata": {
        "id": "iOecYDRyx5m-"
      },
      "source": [
        "Create **wrangle function** for **reproducibility**."
      ]
    },
    {
      "cell_type": "code",
      "metadata": {
        "id": "m9Dm3h3Ux5AI"
      },
      "source": [
        "def wrangle(filepath):\n",
        "  df = pd.read_csv(filepath,\n",
        "                   parse_dates=['created'],\n",
        "                   index_col='created').sort_index() #read in already sorted by dates (which are now the index)\n",
        "  \n",
        "  # Remove outlier observations\n",
        "  df = df[(df['price'] >= np.percentile(df['price'], 0.5)) & \n",
        "          (df['price'] <= np.percentile(df['price'], 99.5)) & \n",
        "          (df['latitude'] >= np.percentile(df['latitude'], 0.05)) & \n",
        "          (df['latitude'] < np.percentile(df['latitude'], 99.95)) &\n",
        "          (df['longitude'] >= np.percentile(df['longitude'], 0.05)) & \n",
        "          (df['longitude'] <= np.percentile(df['longitude'], 99.95))]\n",
        "\n",
        "  # Drop High-Cardinality Columns\n",
        "  threshold = 10\n",
        "\n",
        "  #1) WHAT WE DID BEFORE\n",
        "  # cols_to_drop = []\n",
        "  # for col in df:\n",
        "  #   if df[col].dtype == 'object':\n",
        "  #     if df[col].nunique() > threshold:\n",
        "  #       cols_to_drop.append(col)\n",
        "\n",
        "  #2) REWRITTEN VIA LIST COMPREHENSION\n",
        "  drop_cols = [col for col in df.select_dtypes('object').columns\n",
        "               if df[col].nunique() > threshold]\n",
        "\n",
        "  df = df.drop(columns=drop_cols)\n",
        "\n",
        "  #ONE-HOT / DUMMIES\n",
        "  new_columns = pd.get_dummies(df['interest_level'])\n",
        "  new_columns.columns=['High_Interest', 'Low_Interest', 'Med_Interest']\n",
        "  df = df.drop(columns=['interest_level']).join(new_columns, how='outer')\n",
        "\n",
        "  return df\n",
        "\n",
        "df = wrangle(DATA_PATH+'apartments/renthop-nyc.csv')"
      ],
      "execution_count": 4,
      "outputs": []
    },
    {
      "cell_type": "code",
      "metadata": {
        "id": "dvBzKBAh_Yt-"
      },
      "source": [
        "# print(list(df.columns)); print()\n",
        "\n",
        "# print(df.isnull().sum()); print()\n",
        "\n",
        "# print(df.info())"
      ],
      "execution_count": 5,
      "outputs": []
    },
    {
      "cell_type": "markdown",
      "metadata": {
        "id": "Fr-x5LJo0pRc"
      },
      "source": [
        "# II. Split Data\n",
        "\n",
        "Split **target vector** from **feature matrix**."
      ]
    },
    {
      "cell_type": "code",
      "metadata": {
        "id": "r2TXo5xLo662"
      },
      "source": [
        "target = 'price'\n",
        "y = df[target]\n",
        "X = df.drop(columns=target)"
      ],
      "execution_count": 6,
      "outputs": []
    },
    {
      "cell_type": "markdown",
      "metadata": {
        "id": "ZMoRDMuT7A7q"
      },
      "source": [
        "Split data into **training** and **test** sets.\n",
        "\n",
        "(Use data from April & May 2016 to train. Use data from June 2016 to test.)"
      ]
    },
    {
      "cell_type": "code",
      "metadata": {
        "id": "7w92aZ7co9CA"
      },
      "source": [
        "#1) METHOD 1\n",
        "mask = ( (df.index.month == 4) | (df.index.month == 5) )\n",
        "\n",
        "X_train, y_train = X[mask], y[mask]\n",
        "X_test, y_test = X[~mask], y[~mask]"
      ],
      "execution_count": 7,
      "outputs": []
    },
    {
      "cell_type": "code",
      "metadata": {
        "id": "EVbcLLv3EkDp",
        "colab": {
          "base_uri": "https://localhost:8080/"
        },
        "outputId": "19e6ca50-8903-48e6-9797-588184eb707f"
      },
      "source": [
        "print(X_train.shape, y_train.shape)\n",
        "print(X_test.shape, y_test.shape)"
      ],
      "execution_count": 8,
      "outputs": [
        {
          "output_type": "stream",
          "name": "stdout",
          "text": [
            "(32676, 31) (32676,)\n",
            "(17509, 31) (17509,)\n"
          ]
        }
      ]
    },
    {
      "cell_type": "code",
      "metadata": {
        "id": "36u483MVD_Ao"
      },
      "source": [
        "#2) METHOD 2\n",
        "cutoff = '2016-06-01'\n",
        "mask = X.index < cutoff\n",
        "\n",
        "X_train, y_train = X.loc[mask], y.loc[mask]\n",
        "X_test, y_test = X.loc[~mask], y.loc[~mask]"
      ],
      "execution_count": 9,
      "outputs": []
    },
    {
      "cell_type": "code",
      "metadata": {
        "id": "NUqFlV44EaIl",
        "colab": {
          "base_uri": "https://localhost:8080/"
        },
        "outputId": "148bacac-10a6-4b62-9b64-66d43af5aed6"
      },
      "source": [
        "print(X_train.shape, y_train.shape)\n",
        "print(X_test.shape, y_test.shape)"
      ],
      "execution_count": 10,
      "outputs": [
        {
          "output_type": "stream",
          "name": "stdout",
          "text": [
            "(32676, 31) (32676,)\n",
            "(17509, 31) (17509,)\n"
          ]
        }
      ]
    },
    {
      "cell_type": "markdown",
      "metadata": {
        "id": "-x9lFKmupRWk"
      },
      "source": [
        "# III. Establish Baseline"
      ]
    },
    {
      "cell_type": "markdown",
      "metadata": {
        "id": "d1BOKNBc7Jnf"
      },
      "source": [
        "**Note:** This is a **regression** problem because we're predictiong the continuous value `'price'`."
      ]
    },
    {
      "cell_type": "code",
      "metadata": {
        "id": "-XNZHgf-7XQc",
        "colab": {
          "base_uri": "https://localhost:8080/"
        },
        "outputId": "3460c1f5-c2b7-47ec-e1c4-1c38ee1022e0"
      },
      "source": [
        "y_pred = [y_train.mean()] * len(y_train)\n",
        "print('Mean Price:', y_train.mean())\n",
        "print('Baseline MAE:', mean_absolute_error(y_train, y_pred) )"
      ],
      "execution_count": 11,
      "outputs": [
        {
          "output_type": "stream",
          "name": "stdout",
          "text": [
            "Mean Price: 3573.460705104664\n",
            "Baseline MAE: 1201.2534014392165\n"
          ]
        }
      ]
    },
    {
      "cell_type": "markdown",
      "metadata": {
        "id": "Xea7aFidqPoV"
      },
      "source": [
        "# IV. Build Models"
      ]
    },
    {
      "cell_type": "markdown",
      "metadata": {
        "id": "TFc7aAwylBwv"
      },
      "source": [
        "**Question:** How can we represent *categorical* features numerically so that we can use them to train our model?"
      ]
    },
    {
      "cell_type": "markdown",
      "metadata": {
        "id": "lSF0Qj0bLK0z"
      },
      "source": [
        "**ORDINAL ENCODING**: using integers to represent classes (this will approximately work for our model but is in general bad practice because Medium + Medium is being treated as equal to High)\n",
        "\n",
        "**ONE-HOT ENCODING**: create additional binary columns in which only one will be on (=1) in each row"
      ]
    },
    {
      "cell_type": "code",
      "metadata": {
        "id": "Sbmhd2adIQNg"
      },
      "source": [
        "#OHE METHOD 1 (already applied)\n",
        "df[ ['High_Interest', 'Low_Interest', 'Med_Interest'] ].head()\n",
        "\n",
        "#OHE METHOD 2\n",
        "ohe = OneHotEncoder(use_cat_names=True)\n",
        "ohe.fit(X_train) #Just like a model, it looks through and parses features to find out which need to be encoded\n",
        "XT_train = ohe.transform(X_train) #The convention is to name the transformed object XT_train\n",
        "#any other transformations become XT2_train, XT3_train, etc...\n",
        "#note that you also have to transform the X_test independent variables as well!\n",
        "XT_test = ohe.transform(X_test)\n",
        "\n",
        "#No, you don't need to transform the y_train or y_test vectors -- they don't have the categorical variables"
      ],
      "execution_count": 12,
      "outputs": []
    },
    {
      "cell_type": "markdown",
      "metadata": {
        "id": "cgON6_NrIniJ"
      },
      "source": [
        "**To avoid confusing multiple transformations, we create a pipeline**\n",
        "\n",
        "* e.g. input = [X][y] --> T1 (OHE) --> T2 (imputer) --> P (linear regression)\n",
        "\n",
        "* Always put transformers at the beginning, and predictor at the end\n",
        "\n",
        "* Transformations will be done in the order they are provided, left to right\n",
        "\n",
        "* Can have any number of transformers, but only one predictor\n",
        "\n",
        "**Note that pipelines don't allow model.coef_ to get coefficients**\n"
      ]
    },
    {
      "cell_type": "code",
      "metadata": {
        "id": "Oi2a6TVyJxYY",
        "outputId": "28927cdd-cd7a-4029-865e-5f2e5893749e",
        "colab": {
          "base_uri": "https://localhost:8080/"
        }
      },
      "source": [
        "#THIS IS HOW TO MAKE A PIPELINE (replaces most of the code above and below)\n",
        "\n",
        "#LINEAR REGRESSION PIPELINE*****************************************************\n",
        "from sklearn.pipeline import make_pipeline\n",
        "model_lr = make_pipeline(\n",
        "    OneHotEncoder(use_cat_names=True),\n",
        "    LinearRegression()\n",
        ")\n",
        "model_lr.fit(X_train, y_train)\n",
        "#LINEAR REGRESSION PREDICTIONS\n",
        "print(\"Predictions:\", model_lr.predict(X_test))\n",
        "print(\"Coefficients:\", model_lr.named_steps['linearregression'].coef_)\n",
        "print(\"Features:\", model_lr.named_steps['onehotencoder'].get_feature_names())\n",
        "print('LR Training MAE:', mean_absolute_error(y_train, model_lr.predict(X_train)))\n",
        "print('LR Testing MAE:', mean_absolute_error(y_test, model_lr.predict(X_test)))\n",
        "print()\n",
        "\n",
        "#RIDGE REGRESSION PIPELINE******************************************************\n",
        "from sklearn.pipeline import make_pipeline\n",
        "model_r = make_pipeline(\n",
        "    OneHotEncoder(use_cat_names=True),\n",
        "    Ridge(alpha=1.0)\n",
        ")\n",
        "model_r.fit(X_train, y_train)\n",
        "#RIDGE REGRESSION PREDICTIONS\n",
        "print(\"Predictions:\", model_r.predict(X_test))\n",
        "print(\"Coefficients:\", model_r.named_steps['ridge'].coef_)\n",
        "print(\"Features:\", model_r.named_steps['onehotencoder'].get_feature_names())\n",
        "print('LR Training MAE:', mean_absolute_error(y_train, model_r.predict(X_train)))\n",
        "print('LR Testing MAE:', mean_absolute_error(y_test, model_r.predict(X_test)))"
      ],
      "execution_count": 39,
      "outputs": [
        {
          "output_type": "stream",
          "name": "stdout",
          "text": [
            "Predictions: [2394.5669558  2379.36294238 3503.88230155 ... 3228.07644843 3110.62727649\n",
            " 3069.93903583]\n",
            "Coefficients: [  1704.06029868    492.01171868   1192.33509572 -13104.38129289\n",
            "    150.6901404     -28.91727116   -146.01296156     69.60551183\n",
            "    425.33938785     55.15307772   -104.29750212   -111.52249688\n",
            "    124.43970311    -91.95188103    477.14708504   -163.90032511\n",
            "    -84.84903395    259.83249345   -298.07381866    -46.710564\n",
            "     60.61872243   -132.93453999    169.98563519    140.11389659\n",
            "    129.72922157    -36.27501579    156.97227869   -147.04115883\n",
            "   -306.24086751    401.0787163     -94.83784878]\n",
            "Features: ['bathrooms', 'bedrooms', 'latitude', 'longitude', 'elevator', 'cats_allowed', 'hardwood_floors', 'dogs_allowed', 'doorman', 'dishwasher', 'no_fee', 'laundry_in_building', 'fitness_center', 'pre-war', 'laundry_in_unit', 'roof_deck', 'outdoor_space', 'dining_room', 'high_speed_internet', 'balcony', 'swimming_pool', 'new_construction', 'terrace', 'exclusive', 'loft', 'garden_patio', 'wheelchair_access', 'common_outdoor_space', 'High_Interest', 'Low_Interest', 'Med_Interest']\n",
            "LR Training MAE: 674.4866555892306\n",
            "LR Testing MAE: 678.7700861828881\n",
            "\n",
            "Predictions: [2412.20329545 2402.55504028 3494.10459677 ... 3217.52103265 3120.67678896\n",
            " 3078.87924246]\n",
            "Coefficients: [  1703.64887402    491.34026531   1038.18761014 -12521.98481141\n",
            "    151.13272596    -31.06581262   -144.60701501     72.86335911\n",
            "    430.86420789     57.58041872   -104.77926754   -110.51091584\n",
            "    127.42054864    -91.04692389    479.14198677   -163.36977453\n",
            "    -85.569127      256.56200982   -296.88793264    -47.53074178\n",
            "     60.29645661   -132.81116878    171.76413676    137.13377931\n",
            "    133.21977499    -36.42971817    153.20867845   -142.61376313\n",
            "   -307.74069508    402.50484927    -94.7641542 ]\n",
            "Features: ['bathrooms', 'bedrooms', 'latitude', 'longitude', 'elevator', 'cats_allowed', 'hardwood_floors', 'dogs_allowed', 'doorman', 'dishwasher', 'no_fee', 'laundry_in_building', 'fitness_center', 'pre-war', 'laundry_in_unit', 'roof_deck', 'outdoor_space', 'dining_room', 'high_speed_internet', 'balcony', 'swimming_pool', 'new_construction', 'terrace', 'exclusive', 'loft', 'garden_patio', 'wheelchair_access', 'common_outdoor_space', 'High_Interest', 'Low_Interest', 'Med_Interest']\n",
            "LR Training MAE: 674.0157349767211\n",
            "LR Testing MAE: 678.2221039842412\n"
          ]
        }
      ]
    },
    {
      "cell_type": "markdown",
      "metadata": {
        "id": "35SyuZhQQqNu"
      },
      "source": [
        "**Model 1:** Regular ol' linear regression"
      ]
    },
    {
      "cell_type": "code",
      "metadata": {
        "id": "OOsVETc19TXY",
        "colab": {
          "base_uri": "https://localhost:8080/"
        },
        "outputId": "1051aeb0-e4c2-4188-e2d1-c51e8bb8a619"
      },
      "source": [
        "# model_lr = LinearRegression()\n",
        "# model_lr.fit(X_train, y_train)"
      ],
      "execution_count": 13,
      "outputs": [
        {
          "output_type": "execute_result",
          "data": {
            "text/plain": [
              "LinearRegression()"
            ]
          },
          "metadata": {},
          "execution_count": 13
        }
      ]
    },
    {
      "cell_type": "markdown",
      "metadata": {
        "id": "gMjtQqeVQufl"
      },
      "source": [
        "**Model 2:** Ridge regression (regularization)"
      ]
    },
    {
      "cell_type": "markdown",
      "metadata": {
        "id": "SiMvFUmAMOtM"
      },
      "source": [
        "**RIDGE IS USEFUL WHEN YOU HAVE TOO MANY COLUMNS**\n",
        "\n",
        "$RSS = \\sum{(y-\\hat{y})^2} + \\alpha \\sum{\\beta_i^2}$\n",
        "\n",
        "$RSS = \\sum{(y-(\\beta_0 + \\beta_1 x_1 + ... + \\beta_n x_n))^2} + \\alpha \\sum{\\beta_i^2}$\n",
        "\n",
        "We add a new ridge penalty term for the model to minimize\n",
        "\n",
        "This alpha is called a hyper parameter"
      ]
    },
    {
      "cell_type": "code",
      "metadata": {
        "id": "ZRs-fAaeQt1e",
        "colab": {
          "base_uri": "https://localhost:8080/"
        },
        "outputId": "1bd104f9-5b9a-4835-da8d-e30d14594927"
      },
      "source": [
        "# model_r = Ridge(alpha=1.0)\n",
        "# model_r.fit(X_train, y_train)"
      ],
      "execution_count": 14,
      "outputs": [
        {
          "output_type": "execute_result",
          "data": {
            "text/plain": [
              "Ridge()"
            ]
          },
          "metadata": {},
          "execution_count": 14
        }
      ]
    },
    {
      "cell_type": "markdown",
      "metadata": {
        "id": "J2N4D4VFSiks"
      },
      "source": [
        "**Model 3:** `SelectKBest`"
      ]
    },
    {
      "cell_type": "code",
      "metadata": {
        "id": "OiJ7pnJRSh-N"
      },
      "source": [
        "model_lr_skb = ..."
      ],
      "execution_count": 15,
      "outputs": []
    },
    {
      "cell_type": "markdown",
      "metadata": {
        "id": "rHhIH6VE0iRH"
      },
      "source": [
        "# V. Check Metrics"
      ]
    },
    {
      "cell_type": "code",
      "metadata": {
        "id": "hDj8LEUVOdGs",
        "colab": {
          "base_uri": "https://localhost:8080/"
        },
        "outputId": "3039ee45-49f8-4e0b-f311-702cb8216fe0"
      },
      "source": [
        "# print('LR Training MAE:', mean_absolute_error(y_train, model_lr.predict(X_train)))\n",
        "# print('LR Testing MAE:', mean_absolute_error(y_test, model_lr.predict(X_test)))"
      ],
      "execution_count": 16,
      "outputs": [
        {
          "output_type": "stream",
          "name": "stdout",
          "text": [
            "LR Training MAE: 674.4866555892306\n",
            "LR Testing MAE: 678.7700861828881\n"
          ]
        }
      ]
    },
    {
      "cell_type": "code",
      "metadata": {
        "id": "BXrqHj_lHPum",
        "colab": {
          "base_uri": "https://localhost:8080/"
        },
        "outputId": "1db930fb-77db-46d3-963c-dbfb351f61ff"
      },
      "source": [
        "# print('Ridge Training MAE:', mean_absolute_error(y_train, model_r.predict(X_train)))\n",
        "# print('Ridge Testing MAE:', mean_absolute_error(y_test, model_r.predict(X_test)))"
      ],
      "execution_count": 17,
      "outputs": [
        {
          "output_type": "stream",
          "name": "stdout",
          "text": [
            "Ridge Training MAE: 674.0157349767211\n",
            "Ridge Testing MAE: 678.2221039842412\n"
          ]
        }
      ]
    },
    {
      "cell_type": "markdown",
      "metadata": {
        "id": "F64uS7sdQBUB"
      },
      "source": [
        "# VI. Tune Model"
      ]
    },
    {
      "cell_type": "code",
      "metadata": {
        "id": "AHTezXMEQAxa",
        "outputId": "f96afa9d-8ba6-4863-8db3-b9b5a890385f",
        "colab": {
          "base_uri": "https://localhost:8080/",
          "height": 279
        }
      },
      "source": [
        "#RIDGE HYPERPARAMETER LOOP\n",
        "alphas = np.linspace(0.5,25,num=50)\n",
        "train_mae = []\n",
        "test_mae = []\n",
        "\n",
        "for a in alphas:\n",
        "  model_r = make_pipeline(\n",
        "      OneHotEncoder(use_cat_names=True),\n",
        "      Ridge(alpha=a)\n",
        "  )\n",
        "  model_r.fit(X_train, y_train)\n",
        "  test_mae.append(mean_absolute_error(y_train, model_r.predict(X_train)))\n",
        "  train_mae.append(mean_absolute_error(y_test, model_r.predict(X_test)))\n",
        "\n",
        "plt.plot(alphas, train_mae, color='orange', label='training mae')\n",
        "plt.plot(alphas, test_mae, color='blue', label='test mae')\n",
        "plt.xlabel('alpha')\n",
        "plt.ylabel('mean absolute error')\n",
        "plt.legend();\n",
        "\n",
        "#IT IS CHEATING TO LOOK AT THE TEST SET\n",
        "# SO WE USE ANOTHER SPLIT WITH A VALIDATION SET TO TUNE THE HYPERPARAMETERS\n",
        "\n",
        "#Usually ~ 60 20 20 (training should always be largest)\n",
        "# Larger data sets allow for smaller test and validation sets  "
      ],
      "execution_count": 40,
      "outputs": [
        {
          "output_type": "display_data",
          "data": {
            "image/png": "[encoded data removed]",
            "text/plain": [
              "<Figure size 432x288 with 1 Axes>"
            ]
          },
          "metadata": {
            "needs_background": "light"
          }
        }
      ]
    },
    {
      "cell_type": "markdown",
      "metadata": {
        "id": "uI9K2OXDWThQ"
      },
      "source": [
        "# Communicate results"
      ]
    },
    {
      "cell_type": "code",
      "metadata": {
        "id": "84xIPGtUBbsA",
        "colab": {
          "base_uri": "https://localhost:8080/",
          "height": 376
        },
        "outputId": "a872f309-9c5c-4dad-b434-a195d201d38d"
      },
      "source": [
        "coefficients = model_lr.named_steps['linearregression'].coef_\n",
        "#features = list(X.columns) #features = ohe.get_feature_names()\n",
        "features = model_lr.named_steps['onehotencoder'].get_feature_names()\n",
        "important_features = pd.Series(coefficients, index=features).sort_values(key=abs, ascending=False)\n",
        "\n",
        "#When some variables are dominating, the beta coefficients needs to be regularized\n",
        "# to ensure that they are not causing overfitting\n",
        "\n",
        "#It is common with high-dimensionality that overfitting will occur by relying too\n",
        "# heavily on a small subset of your variables\n",
        "\n",
        "important_features.plot(kind='bar');\n",
        "\n",
        "#print(important_features); print()"
      ],
      "execution_count": 41,
      "outputs": [
        {
          "output_type": "display_data",
          "data": {
            "image/png": "[encoded data removed]",
            "text/plain": [
              "<Figure size 432x288 with 1 Axes>"
            ]
          },
          "metadata": {
            "needs_background": "light"
          }
        }
      ]
    },
    {
      "cell_type": "code",
      "metadata": {
        "id": "Nmzxb5BtW1iO",
        "colab": {
          "base_uri": "https://localhost:8080/",
          "height": 378
        },
        "outputId": "1c2efa18-26ae-44cd-9e45-ceab0ebb0e70"
      },
      "source": [
        "coefficients = model_r.named_steps['ridge'].coef_\n",
        "#features = list(X.columns) #features = ohe.get_feature_names()\n",
        "features = model_r.named_steps['onehotencoder'].get_feature_names()\n",
        "important_features = pd.Series(coefficients, index=features).sort_values(key=abs, ascending=False)\n",
        "important_features.plot(kind='bar');"
      ],
      "execution_count": 42,
      "outputs": [
        {
          "output_type": "display_data",
          "data": {
            "image/png": "[encoded data removed]",
            "text/plain": [
              "<Figure size 432x288 with 1 Axes>"
            ]
          },
          "metadata": {
            "needs_background": "light"
          }
        }
      ]
    },
    {
      "cell_type": "code",
      "metadata": {
        "id": "RlAyipCNav1H"
      },
      "source": [
        ""
      ],
      "execution_count": 19,
      "outputs": []
    },
    {
      "cell_type": "code",
      "metadata": {
        "id": "kGaaKSUXaeGo"
      },
      "source": [
        ""
      ],
      "execution_count": 19,
      "outputs": []
    }
  ]
}