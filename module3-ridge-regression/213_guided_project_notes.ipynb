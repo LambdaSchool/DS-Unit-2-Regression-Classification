{
  "nbformat": 4,
  "nbformat_minor": 0,
  "metadata": {
    "colab": {
      "name": "213-guided-project-notes.ipynb",
      "provenance": [],
      "collapsed_sections": []
    },
    "kernelspec": {
      "name": "python3",
      "display_name": "Python 3"
    }
  },
  "cells": [
    {
      "cell_type": "code",
      "metadata": {
        "id": "k0dvbuCzd5qK"
      },
      "source": [
        "# Model Building\n",
        "from sklearn.feature_selection import SelectKBest, f_regression\n",
        "from sklearn.linear_model import LinearRegression, Ridge\n",
        "from sklearn.metrics import mean_absolute_error, mean_squared_error\n",
        "from sklearn.pipeline import make_pipeline\n",
        "import numpy as np\n",
        "import matplotlib.pyplot as plt\n",
        "import pandas as pd\n",
        "\n",
        "# For running this notebook either locally or in colab\n",
        "import sys"
      ],
      "execution_count": 66,
      "outputs": []
    },
    {
      "cell_type": "code",
      "metadata": {
        "id": "wz7tyC22gLEA"
      },
      "source": [
        "#This line below just captures all the output for the cell, so we don't have to look at it\n",
        "%%capture\n",
        "# If you're on Colab:\n",
        "if 'google.colab' in sys.modules:\n",
        "    DATA_PATH = 'https://raw.githubusercontent.com/LambdaSchool/DS-Unit-2-Applied-Modeling/master/data/'\n",
        "    !pip install category_encoders==2.*\n",
        "\n",
        "# If you're working locally:\n",
        "else:\n",
        "    DATA_PATH = '../data/'"
      ],
      "execution_count": 67,
      "outputs": []
    },
    {
      "cell_type": "code",
      "metadata": {
        "id": "eK1JmTLj8wFC"
      },
      "source": [
        "# For encoding categorical data\n",
        "from category_encoders import OneHotEncoder"
      ],
      "execution_count": 68,
      "outputs": []
    },
    {
      "cell_type": "markdown",
      "metadata": {
        "id": "c9XvBGFMguJ1"
      },
      "source": [
        "# NYC Rent\n",
        "\n",
        "**GOAL:** Improve our model for predicting NYC rent prices.\n",
        "\n",
        "**Objectives**\n",
        "\n",
        "- Do one-hot encoding of categorical features\n",
        "- Do univariate feature selection\n",
        "- Use scikit-learn to fit Ridge Regression models"
      ]
    },
    {
      "cell_type": "markdown",
      "metadata": {
        "id": "0kaV7oNahJLj"
      },
      "source": [
        "# I. Wrangle Data"
      ]
    },
    {
      "cell_type": "markdown",
      "metadata": {
        "id": "iOecYDRyx5m-"
      },
      "source": [
        "Create **wrangle function** for **reproducibility**."
      ]
    },
    {
      "cell_type": "code",
      "metadata": {
        "id": "m9Dm3h3Ux5AI"
      },
      "source": [
        "def wrangle(filepath):\n",
        "  df = pd.read_csv(filepath,\n",
        "                   parse_dates=['created'],\n",
        "                   index_col='created').sort_index() #read in already sorted by dates (which are now the index)\n",
        "  \n",
        "  # Remove outlier observations\n",
        "  df = df[(df['price'] >= np.percentile(df['price'], 0.5)) & \n",
        "          (df['price'] <= np.percentile(df['price'], 99.5)) & \n",
        "          (df['latitude'] >= np.percentile(df['latitude'], 0.05)) & \n",
        "          (df['latitude'] < np.percentile(df['latitude'], 99.95)) &\n",
        "          (df['longitude'] >= np.percentile(df['longitude'], 0.05)) & \n",
        "          (df['longitude'] <= np.percentile(df['longitude'], 99.95))]\n",
        "\n",
        "  # Drop High-Cardinality Columns\n",
        "  threshold = 10\n",
        "\n",
        "  #1) WHAT WE DID BEFORE\n",
        "  # cols_to_drop = []\n",
        "  # for col in df:\n",
        "  #   if df[col].dtype == 'object':\n",
        "  #     if df[col].nunique() > threshold:\n",
        "  #       cols_to_drop.append(col)\n",
        "\n",
        "  #2) REWRITTEN VIA LIST COMPREHENSION\n",
        "  drop_cols = [col for col in df.select_dtypes('object').columns\n",
        "               if df[col].nunique() > threshold]\n",
        "\n",
        "  df = df.drop(columns=drop_cols)\n",
        "\n",
        "  #ONE-HOT / DUMMIES\n",
        "  new_columns = pd.get_dummies(df['interest_level'])\n",
        "  new_columns.columns=['High_Interest', 'Low_Interest', 'Med_Interest']\n",
        "  df = df.drop(columns=['interest_level']).join(new_columns, how='outer')\n",
        "\n",
        "  return df\n",
        "\n",
        "df = wrangle(DATA_PATH+'apartments/renthop-nyc.csv')"
      ],
      "execution_count": 69,
      "outputs": []
    },
    {
      "cell_type": "code",
      "metadata": {
        "id": "dvBzKBAh_Yt-"
      },
      "source": [
        "# print(list(df.columns)); print()\n",
        "\n",
        "# print(df.isnull().sum()); print()\n",
        "\n",
        "# print(df.info())"
      ],
      "execution_count": null,
      "outputs": []
    },
    {
      "cell_type": "markdown",
      "metadata": {
        "id": "Fr-x5LJo0pRc"
      },
      "source": [
        "# II. Split Data\n",
        "\n",
        "Split **target vector** from **feature matrix**."
      ]
    },
    {
      "cell_type": "code",
      "metadata": {
        "id": "r2TXo5xLo662"
      },
      "source": [
        "target = 'price'\n",
        "y = df[target]\n",
        "X = df.drop(columns=target)"
      ],
      "execution_count": 71,
      "outputs": []
    },
    {
      "cell_type": "markdown",
      "metadata": {
        "id": "ZMoRDMuT7A7q"
      },
      "source": [
        "Split data into **training** and **test** sets.\n",
        "\n",
        "(Use data from April & May 2016 to train. Use data from June 2016 to test.)"
      ]
    },
    {
      "cell_type": "code",
      "metadata": {
        "id": "7w92aZ7co9CA"
      },
      "source": [
        "#1) METHOD 1\n",
        "mask = ( (df.index.month == 4) | (df.index.month == 5) )\n",
        "\n",
        "X_train, y_train = X[mask], y[mask]\n",
        "X_test, y_test = X[~mask], y[~mask]"
      ],
      "execution_count": 72,
      "outputs": []
    },
    {
      "cell_type": "code",
      "metadata": {
        "id": "EVbcLLv3EkDp",
        "outputId": "e2752976-f865-4186-df87-b6111f9d2c63",
        "colab": {
          "base_uri": "https://localhost:8080/"
        }
      },
      "source": [
        "print(X_train.shape, y_train.shape)\n",
        "print(X_test.shape, y_test.shape)"
      ],
      "execution_count": 73,
      "outputs": [
        {
          "output_type": "stream",
          "name": "stdout",
          "text": [
            "(32676, 31) (32676,)\n",
            "(17509, 31) (17509,)\n"
          ]
        }
      ]
    },
    {
      "cell_type": "code",
      "metadata": {
        "id": "36u483MVD_Ao"
      },
      "source": [
        "#2) METHOD 2\n",
        "cutoff = '2016-06-01'\n",
        "mask = X.index < cutoff\n",
        "\n",
        "X_train, y_train = X.loc[mask], y.loc[mask]\n",
        "X_test, y_test = X.loc[~mask], y.loc[~mask]"
      ],
      "execution_count": 74,
      "outputs": []
    },
    {
      "cell_type": "code",
      "metadata": {
        "id": "NUqFlV44EaIl",
        "outputId": "2280deba-18ec-45da-f3c7-32f6d8acb3f0",
        "colab": {
          "base_uri": "https://localhost:8080/"
        }
      },
      "source": [
        "print(X_train.shape, y_train.shape)\n",
        "print(X_test.shape, y_test.shape)"
      ],
      "execution_count": 75,
      "outputs": [
        {
          "output_type": "stream",
          "name": "stdout",
          "text": [
            "(32676, 31) (32676,)\n",
            "(17509, 31) (17509,)\n"
          ]
        }
      ]
    },
    {
      "cell_type": "markdown",
      "metadata": {
        "id": "-x9lFKmupRWk"
      },
      "source": [
        "# III. Establish Baseline"
      ]
    },
    {
      "cell_type": "markdown",
      "metadata": {
        "id": "d1BOKNBc7Jnf"
      },
      "source": [
        "**Note:** This is a **regression** problem because we're predictiong the continuous value `'price'`."
      ]
    },
    {
      "cell_type": "code",
      "metadata": {
        "id": "-XNZHgf-7XQc",
        "outputId": "d0c70cbc-c37e-43dc-ff2a-fff960be7f5e",
        "colab": {
          "base_uri": "https://localhost:8080/"
        }
      },
      "source": [
        "y_pred = [y_train.mean()] * len(y_train)\n",
        "print('Mean Price:', y_train.mean())\n",
        "print('Baseline MAE:', mean_absolute_error(y_train, y_pred) )"
      ],
      "execution_count": 76,
      "outputs": [
        {
          "output_type": "stream",
          "name": "stdout",
          "text": [
            "Mean Price: 3573.460705104664\n",
            "Baseline MAE: 1201.2534014392165\n"
          ]
        }
      ]
    },
    {
      "cell_type": "markdown",
      "metadata": {
        "id": "Xea7aFidqPoV"
      },
      "source": [
        "# IV. Build Models"
      ]
    },
    {
      "cell_type": "markdown",
      "metadata": {
        "id": "TFc7aAwylBwv"
      },
      "source": [
        "**Question:** How can we represent *categorical* features numerically so that we can use them to train our model?"
      ]
    },
    {
      "cell_type": "markdown",
      "metadata": {
        "id": "lSF0Qj0bLK0z"
      },
      "source": [
        "**ORDINAL ENCODING**: using integers to represent classes (this will approximately work for our model but is in general bad practice because Medium + Medium is being treated as equal to High)\n",
        "\n",
        "**ONE-HOT ENCODING**: create additional binary columns in which only one will be on (=1) in each row"
      ]
    },
    {
      "cell_type": "code",
      "metadata": {
        "id": "Sbmhd2adIQNg"
      },
      "source": [
        "#OHE METHOD 1 (already applied)\n",
        "df[ ['High_Interest', 'Low_Interest', 'Med_Interest'] ].head()\n",
        "\n",
        "#OHE METHOD 2\n",
        "ohe = OneHotEncoder(use_cat_names=True)\n",
        "ohe.fit(X_train) #Just like a model, it looks through and parses features to find out which need to be encoded\n",
        "XT_train = ohe.transform(X_train) #The convention is to name the transformed object XT_train\n",
        "#any other transformations become XT2_train, XT3_train, etc...\n",
        "#note that you also have to transform the X_test independent variables as well!\n",
        "XT_test = ohe.transform(X_test)\n",
        "\n",
        "#No, you don't need to transform the y_train or y_test vectors -- they don't have the categorical variables"
      ],
      "execution_count": 84,
      "outputs": []
    },
    {
      "cell_type": "markdown",
      "metadata": {
        "id": "35SyuZhQQqNu"
      },
      "source": [
        "**Model 1:** Regular ol' linear regression"
      ]
    },
    {
      "cell_type": "code",
      "metadata": {
        "id": "OOsVETc19TXY",
        "outputId": "581ddcc7-364c-4b95-bf7f-4752ca0020e1",
        "colab": {
          "base_uri": "https://localhost:8080/"
        }
      },
      "source": [
        "model_lr = LinearRegression()\n",
        "model_lr.fit(X_train, y_train)"
      ],
      "execution_count": 85,
      "outputs": [
        {
          "output_type": "execute_result",
          "data": {
            "text/plain": [
              "LinearRegression()"
            ]
          },
          "metadata": {},
          "execution_count": 85
        }
      ]
    },
    {
      "cell_type": "markdown",
      "metadata": {
        "id": "gMjtQqeVQufl"
      },
      "source": [
        "**Model 2:** Ridge regression (regularization)"
      ]
    },
    {
      "cell_type": "markdown",
      "metadata": {
        "id": "SiMvFUmAMOtM"
      },
      "source": [
        "**RIDGE IS USEFUL WHEN YOU HAVE TOO MANY COLUMNS**\n",
        "\n",
        "$RSS = \\sum{(y-\\hat{y})^2} + \\alpha \\sum{\\beta_i^2}$\n",
        "\n",
        "$RSS = \\sum{(y-(\\beta_0 + \\beta_1 x_1 + ... + \\beta_n x_n))^2} + \\alpha \\sum{\\beta_i^2}$\n",
        "\n",
        "We add a new ridge penalty term for the model to minimize\n",
        "\n",
        "This alpha is called a hyper parameter"
      ]
    },
    {
      "cell_type": "code",
      "metadata": {
        "id": "ZRs-fAaeQt1e",
        "outputId": "e161bd48-3ad0-4216-f3a9-3afcc1bafd20",
        "colab": {
          "base_uri": "https://localhost:8080/"
        }
      },
      "source": [
        "model_r = Ridge(alpha=1.0)\n",
        "model_r.fit(X_train, y_train)"
      ],
      "execution_count": 120,
      "outputs": [
        {
          "output_type": "execute_result",
          "data": {
            "text/plain": [
              "Ridge()"
            ]
          },
          "metadata": {},
          "execution_count": 120
        }
      ]
    },
    {
      "cell_type": "markdown",
      "metadata": {
        "id": "J2N4D4VFSiks"
      },
      "source": [
        "**Model 3:** `SelectKBest`"
      ]
    },
    {
      "cell_type": "code",
      "metadata": {
        "id": "OiJ7pnJRSh-N"
      },
      "source": [
        "model_lr_skb = ..."
      ],
      "execution_count": null,
      "outputs": []
    },
    {
      "cell_type": "markdown",
      "metadata": {
        "id": "rHhIH6VE0iRH"
      },
      "source": [
        "# V. Check Metrics"
      ]
    },
    {
      "cell_type": "code",
      "metadata": {
        "id": "hDj8LEUVOdGs",
        "outputId": "7b8352f2-820a-4eda-9cbd-3ef0257c16fc",
        "colab": {
          "base_uri": "https://localhost:8080/"
        }
      },
      "source": [
        "print('LR Training MAE:', mean_absolute_error(y_train, model_lr.predict(X_train)))\n",
        "print('LR Testing MAE:', mean_absolute_error(y_test, model_lr.predict(X_test)))"
      ],
      "execution_count": 122,
      "outputs": [
        {
          "output_type": "stream",
          "name": "stdout",
          "text": [
            "LR Training MAE: 674.4866555892306\n",
            "LR Testing MAE: 678.7700861828881\n"
          ]
        }
      ]
    },
    {
      "cell_type": "code",
      "metadata": {
        "id": "BXrqHj_lHPum",
        "outputId": "1e456e93-ef45-43f5-b3cc-56e842579aa9",
        "colab": {
          "base_uri": "https://localhost:8080/"
        }
      },
      "source": [
        "print('Ridge Training MAE:', mean_absolute_error(y_train, model_r.predict(X_train)))\n",
        "print('Ridge Testing MAE:', mean_absolute_error(y_test, model_r.predict(X_test)))"
      ],
      "execution_count": 121,
      "outputs": [
        {
          "output_type": "stream",
          "name": "stdout",
          "text": [
            "Ridge Training MAE: 674.0157349767211\n",
            "Ridge Testing MAE: 678.2221039842412\n"
          ]
        }
      ]
    },
    {
      "cell_type": "code",
      "metadata": {
        "id": "ZJUhiKt7TrW5"
      },
      "source": [
        ""
      ],
      "execution_count": null,
      "outputs": []
    },
    {
      "cell_type": "markdown",
      "metadata": {
        "id": "uI9K2OXDWThQ"
      },
      "source": [
        "# Communicate results"
      ]
    },
    {
      "cell_type": "code",
      "metadata": {
        "id": "84xIPGtUBbsA",
        "outputId": "529d21cb-c7ff-4b19-9d5c-5b382221c2c0",
        "colab": {
          "base_uri": "https://localhost:8080/",
          "height": 376
        }
      },
      "source": [
        "coefficients = model_lr.coef_\n",
        "features = list(X.columns) #ALTERNATIVELY, features = ohe.get_feature_names()\n",
        "important_features = pd.Series(coefficients, index=features).sort_values(key=abs, ascending=False)\n",
        "\n",
        "#When some variables are dominating, the beta coefficients needs to be regularized\n",
        "# to ensure that they are not causing overfitting\n",
        "\n",
        "#It is common with high-dimensionality that overfitting will occur by relying too\n",
        "# heavily on a small subset of your variables\n",
        "\n",
        "important_features.plot(kind='bar');\n",
        "\n",
        "#print(important_features); print()"
      ],
      "execution_count": 117,
      "outputs": [
        {
          "output_type": "display_data",
          "data": {
            "image/png": "[encoded data removed]",
            "text/plain": [
              "<Figure size 432x288 with 1 Axes>"
            ]
          },
          "metadata": {
            "needs_background": "light"
          }
        }
      ]
    },
    {
      "cell_type": "code",
      "metadata": {
        "id": "Nmzxb5BtW1iO",
        "outputId": "49533ae2-6cad-494f-937f-e6114006ce94",
        "colab": {
          "base_uri": "https://localhost:8080/",
          "height": 376
        }
      },
      "source": [
        "coefficients = model_r.coef_\n",
        "features = list(X.columns) #ALTERNATIVELY, features = ohe.get_feature_names()\n",
        "important_features = pd.Series(coefficients, index=features).sort_values(key=abs, ascending=False)\n",
        "important_features.plot(kind='bar');"
      ],
      "execution_count": 119,
      "outputs": [
        {
          "output_type": "display_data",
          "data": {
            "image/png": "[encoded data removed]",
            "text/plain": [
              "<Figure size 432x288 with 1 Axes>"
            ]
          },
          "metadata": {
            "needs_background": "light"
          }
        }
      ]
    },
    {
      "cell_type": "code",
      "metadata": {
        "id": "RlAyipCNav1H"
      },
      "source": [
        ""
      ],
      "execution_count": null,
      "outputs": []
    },
    {
      "cell_type": "code",
      "metadata": {
        "id": "kGaaKSUXaeGo"
      },
      "source": [
        ""
      ],
      "execution_count": null,
      "outputs": []
    }
  ]
}