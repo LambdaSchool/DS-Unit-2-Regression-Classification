{
  "nbformat": 4,
  "nbformat_minor": 0,
  "metadata": {
    "jupytext": {
      "cell_metadata_filter": "-all",
      "main_language": "python",
      "notebook_metadata_filter": "-all"
    },
    "kernelspec": {
      "display_name": "Python 3",
      "language": "python",
      "name": "python3"
    },
    "language_info": {
      "codemirror_mode": {
        "name": "ipython",
        "version": 3
      },
      "file_extension": ".py",
      "mimetype": "text/x-python",
      "name": "python",
      "nbconvert_exporter": "python",
      "pygments_lexer": "ipython3",
      "version": "3.7.3"
    },
    "colab": {
      "name": "Ekram LS_DS_232_assignment.ipynb",
      "provenance": [],
      "include_colab_link": true
    }
  },
  "cells": [
    {
      "cell_type": "markdown",
      "metadata": {
        "id": "view-in-github",
        "colab_type": "text"
      },
      "source": [
        "<a href=\"https://colab.research.google.com/github/Ekram49/DS-Unit-2-Linear-Models/blob/master/Ekram_LS_DS_232_assignment.ipynb\" target=\"_parent\"><img src=\"https://colab.research.google.com/assets/colab-badge.svg\" alt=\"Open In Colab\"/></a>"
      ]
    },
    {
      "cell_type": "markdown",
      "metadata": {
        "id": "2QHXy493Rbf5",
        "colab_type": "text"
      },
      "source": [
        "Lambda School Data Science\n",
        "\n",
        "*Unit 2, Sprint 3, Module 1*\n",
        "\n",
        "---\n",
        "\n",
        "\n",
        "# Wrangle ML datasets\n",
        "\n",
        "- [ ] Continue to clean and explore your data. \n",
        "- [ ] For the evaluation metric you chose, what score would you get just by guessing?\n",
        "- [ ] Can you make a fast, first model that beats guessing?\n",
        "\n",
        "**We recommend that you use your portfolio project dataset for all assignments this sprint.**\n",
        "\n",
        "**But if you aren't ready yet, or you want more practice, then use the New York City property sales dataset for today's assignment.** Follow the instructions below, to just keep a subset for the Tribeca neighborhood, and remove outliers or dirty data. [Here's a video walkthrough](https://youtu.be/pPWFw8UtBVg?t=584) you can refer to if you get stuck or want hints!\n",
        "\n",
        "- Data Source: [NYC OpenData: NYC Citywide Rolling Calendar Sales](https://data.cityofnewyork.us/dataset/NYC-Citywide-Rolling-Calendar-Sales/usep-8jbt)\n",
        "- Glossary: [NYC Department of Finance: Rolling Sales Data](https://www1.nyc.gov/site/finance/taxes/property-rolling-sales-data.page)"
      ]
    },
    {
      "cell_type": "code",
      "metadata": {
        "id": "J2O_Pyc8Rbf7",
        "colab_type": "code",
        "colab": {}
      },
      "source": [
        "%%capture\n",
        "import sys\n",
        "\n",
        "# If you're on Colab:\n",
        "if 'google.colab' in sys.modules:\n",
        "    DATA_PATH = 'https://raw.githubusercontent.com/LambdaSchool/DS-Unit-2-Applied-Modeling/master/data/'\n",
        "    !pip install category_encoders==2.*\n",
        "    !pip install pandas-profiling==2.*\n",
        "\n",
        "# If you're working locally:\n",
        "else:\n",
        "    DATA_PATH = '../data/'"
      ],
      "execution_count": 0,
      "outputs": []
    },
    {
      "cell_type": "code",
      "metadata": {
        "id": "mXLa285hRbf_",
        "colab_type": "code",
        "colab": {}
      },
      "source": [
        "# Read New York City property sales data\n",
        "import pandas as pd\n",
        "df = pd.read_csv(DATA_PATH+'condos/NYC_Citywide_Rolling_Calendar_Sales.csv')"
      ],
      "execution_count": 0,
      "outputs": []
    },
    {
      "cell_type": "markdown",
      "metadata": {
        "id": "Ns9ues72RbgB",
        "colab_type": "text"
      },
      "source": [
        "Your code starts here:"
      ]
    },
    {
      "cell_type": "code",
      "metadata": {
        "id": "6CHx4KGcRbgC",
        "colab_type": "code",
        "colab": {}
      },
      "source": [
        "# Change column names: replace spaces with underscores\n"
      ],
      "execution_count": 0,
      "outputs": []
    },
    {
      "cell_type": "code",
      "metadata": {
        "id": "S8e706pwRbgE",
        "colab_type": "code",
        "colab": {}
      },
      "source": [
        "# Get Pandas Profiling Report\n"
      ],
      "execution_count": 0,
      "outputs": []
    },
    {
      "cell_type": "code",
      "metadata": {
        "id": "2mWk36tlRbgH",
        "colab_type": "code",
        "colab": {}
      },
      "source": [
        "# Keep just the subset of data for the Tribeca neighborhood\n",
        "# Check how many rows you have now. (Should go down from > 20k rows to 146)\n"
      ],
      "execution_count": 0,
      "outputs": []
    },
    {
      "cell_type": "code",
      "metadata": {
        "id": "aI5psOVkRbgJ",
        "colab_type": "code",
        "colab": {}
      },
      "source": [
        "# Q. What's the date range of these property sales in Tribeca?\n"
      ],
      "execution_count": 0,
      "outputs": []
    },
    {
      "cell_type": "code",
      "metadata": {
        "id": "NehWZ-jvRbgN",
        "colab_type": "code",
        "colab": {}
      },
      "source": [
        "# The Pandas Profiling Report showed that SALE_PRICE was read as strings\n",
        "# Convert it to integers\n"
      ],
      "execution_count": 0,
      "outputs": []
    },
    {
      "cell_type": "code",
      "metadata": {
        "id": "oWALNrPgRbgP",
        "colab_type": "code",
        "colab": {}
      },
      "source": [
        "# Q. What is the maximum SALE_PRICE in this dataset?\n"
      ],
      "execution_count": 0,
      "outputs": []
    },
    {
      "cell_type": "code",
      "metadata": {
        "id": "-NLrtjvFRbgR",
        "colab_type": "code",
        "colab": {}
      },
      "source": [
        "# Look at the row with the max SALE_PRICE\n"
      ],
      "execution_count": 0,
      "outputs": []
    },
    {
      "cell_type": "code",
      "metadata": {
        "id": "V_0HcQ2tRbgV",
        "colab_type": "code",
        "colab": {}
      },
      "source": [
        "# Get value counts of TOTAL_UNITS\n",
        "# Q. How many property sales were for multiple units?\n"
      ],
      "execution_count": 0,
      "outputs": []
    },
    {
      "cell_type": "code",
      "metadata": {
        "id": "VQWTfJVMRbgX",
        "colab_type": "code",
        "colab": {}
      },
      "source": [
        "# Keep only the single units\n"
      ],
      "execution_count": 0,
      "outputs": []
    },
    {
      "cell_type": "code",
      "metadata": {
        "id": "lUsiKY1ZRbga",
        "colab_type": "code",
        "colab": {}
      },
      "source": [
        "# Q. Now what is the max sales price? How many square feet does it have?\n"
      ],
      "execution_count": 0,
      "outputs": []
    },
    {
      "cell_type": "code",
      "metadata": {
        "id": "ubhxwDYPRbgc",
        "colab_type": "code",
        "colab": {}
      },
      "source": [
        "# Q. How often did $0 sales occur in this subset of the data?\n",
        "\n",
        "# There's a glossary here: \n",
        "# https://www1.nyc.gov/site/finance/taxes/property-rolling-sales-data.page\n",
        "\n",
        "# It says:\n",
        "# A $0 sale indicates that there was a transfer of ownership without a \n",
        "# cash consideration. There can be a number of reasons for a $0 sale including \n",
        "# transfers of ownership from parents to children. \n",
        "\n"
      ],
      "execution_count": 0,
      "outputs": []
    },
    {
      "cell_type": "code",
      "metadata": {
        "id": "66R05CqmRbge",
        "colab_type": "code",
        "colab": {}
      },
      "source": [
        "# Look at property sales for > 5,000 square feet\n",
        "# Q. What is the highest square footage you see?\n"
      ],
      "execution_count": 0,
      "outputs": []
    },
    {
      "cell_type": "code",
      "metadata": {
        "id": "iG769j-3Rbgh",
        "colab_type": "code",
        "colab": {}
      },
      "source": [
        "# What are the building class categories?\n",
        "# How frequently does each occur?\n"
      ],
      "execution_count": 0,
      "outputs": []
    },
    {
      "cell_type": "code",
      "metadata": {
        "id": "5_N1nK8SRbgj",
        "colab_type": "code",
        "colab": {}
      },
      "source": [
        "# Keep subset of rows:\n",
        "# Sale price more than $0, \n",
        "# Building class category = Condos - Elevator Apartments\n",
        "\n",
        "# Check how many rows you have now. (Should be 106 rows.)\n"
      ],
      "execution_count": 0,
      "outputs": []
    },
    {
      "cell_type": "code",
      "metadata": {
        "id": "OWunwe9YRbgl",
        "colab_type": "code",
        "colab": {}
      },
      "source": [
        "# Make a Plotly Express scatter plot of GROSS_SQUARE_FEET vs SALE_PRICE\n"
      ],
      "execution_count": 0,
      "outputs": []
    },
    {
      "cell_type": "code",
      "metadata": {
        "id": "IvJko2vfRbgn",
        "colab_type": "code",
        "colab": {}
      },
      "source": [
        "# Add an OLS (Ordinary Least Squares) trendline,\n",
        "# to see how the outliers influence the \"line of best fit\"\n"
      ],
      "execution_count": 0,
      "outputs": []
    },
    {
      "cell_type": "code",
      "metadata": {
        "id": "ZxCau-xRRbgp",
        "colab_type": "code",
        "colab": {}
      },
      "source": [
        "# Look at sales for more than $35 million\n",
        "\n",
        "# All are at 70 Vestry Street\n",
        "# All but one have the same SALE_PRICE & SALE_DATE\n",
        "# Was the SALE_PRICE for each? Or in total?\n",
        "# Is this dirty data?\n"
      ],
      "execution_count": 0,
      "outputs": []
    },
    {
      "cell_type": "code",
      "metadata": {
        "id": "Ry3FaYSARbgr",
        "colab_type": "code",
        "colab": {}
      },
      "source": [
        "# Make a judgment call:\n",
        "# Keep rows where sale price was < $35 million\n",
        "\n",
        "# Check how many rows you have now. (Should be down to 90 rows.)\n"
      ],
      "execution_count": 0,
      "outputs": []
    },
    {
      "cell_type": "code",
      "metadata": {
        "id": "vzuUKAusRbgt",
        "colab_type": "code",
        "colab": {}
      },
      "source": [
        "# Now that you've removed outliers,\n",
        "# Look again at a scatter plot with OLS (Ordinary Least Squares) trendline\n"
      ],
      "execution_count": 0,
      "outputs": []
    },
    {
      "cell_type": "code",
      "metadata": {
        "id": "TWDJEu_lRbgw",
        "colab_type": "code",
        "colab": {}
      },
      "source": [
        "# Select these columns, then write to a csv file named tribeca.csv. Don't include the index.\n"
      ],
      "execution_count": 0,
      "outputs": []
    },
    {
      "cell_type": "code",
      "metadata": {
        "id": "9C03aRa7TPXb",
        "colab_type": "code",
        "colab": {}
      },
      "source": [
        "import pandas as pd\n",
        "import numpy as np\n",
        "import matplotlib.pyplot as plt"
      ],
      "execution_count": 0,
      "outputs": []
    },
    {
      "cell_type": "code",
      "metadata": {
        "id": "me7vhBoUTSM1",
        "colab_type": "code",
        "outputId": "98939a01-75b0-49d1-989a-69d065430662",
        "colab": {
          "base_uri": "https://localhost:8080/",
          "height": 195
        }
      },
      "source": [
        "\n",
        "df = pd.read_csv('https://raw.githubusercontent.com/Ekram49/DS-Unit-1-Build/master/ContinousDataset.csv')\n",
        "df.head()"
      ],
      "execution_count": 0,
      "outputs": [
        {
          "output_type": "execute_result",
          "data": {
            "text/html": [
              "<div>\n",
              "<style scoped>\n",
              "    .dataframe tbody tr th:only-of-type {\n",
              "        vertical-align: middle;\n",
              "    }\n",
              "\n",
              "    .dataframe tbody tr th {\n",
              "        vertical-align: top;\n",
              "    }\n",
              "\n",
              "    .dataframe thead th {\n",
              "        text-align: right;\n",
              "    }\n",
              "</style>\n",
              "<table border=\"1\" class=\"dataframe\">\n",
              "  <thead>\n",
              "    <tr style=\"text-align: right;\">\n",
              "      <th></th>\n",
              "      <th>Unnamed: 0</th>\n",
              "      <th>Scorecard</th>\n",
              "      <th>Team 1</th>\n",
              "      <th>Team 2</th>\n",
              "      <th>Margin</th>\n",
              "      <th>Ground</th>\n",
              "      <th>Match Date</th>\n",
              "      <th>Winner</th>\n",
              "      <th>Host_Country</th>\n",
              "      <th>Venue_Team1</th>\n",
              "      <th>Venue_Team2</th>\n",
              "      <th>Innings_Team1</th>\n",
              "      <th>Innings_Team2</th>\n",
              "    </tr>\n",
              "  </thead>\n",
              "  <tbody>\n",
              "    <tr>\n",
              "      <th>0</th>\n",
              "      <td>0</td>\n",
              "      <td>ODI # 1</td>\n",
              "      <td>Australia</td>\n",
              "      <td>England</td>\n",
              "      <td>Winner2ndInning</td>\n",
              "      <td>Melbourne</td>\n",
              "      <td>Jan 5, 1971</td>\n",
              "      <td>Australia</td>\n",
              "      <td>Australia</td>\n",
              "      <td>Home</td>\n",
              "      <td>Away</td>\n",
              "      <td>Second</td>\n",
              "      <td>First</td>\n",
              "    </tr>\n",
              "    <tr>\n",
              "      <th>1</th>\n",
              "      <td>1</td>\n",
              "      <td>ODI # 2</td>\n",
              "      <td>England</td>\n",
              "      <td>Australia</td>\n",
              "      <td>Winner2ndInning</td>\n",
              "      <td>Manchester</td>\n",
              "      <td>Aug 24, 1972</td>\n",
              "      <td>England</td>\n",
              "      <td>England</td>\n",
              "      <td>Home</td>\n",
              "      <td>Away</td>\n",
              "      <td>Second</td>\n",
              "      <td>First</td>\n",
              "    </tr>\n",
              "    <tr>\n",
              "      <th>2</th>\n",
              "      <td>2</td>\n",
              "      <td>ODI # 3</td>\n",
              "      <td>England</td>\n",
              "      <td>Australia</td>\n",
              "      <td>Winner2ndInning</td>\n",
              "      <td>Lord's</td>\n",
              "      <td>Aug 26, 1972</td>\n",
              "      <td>Australia</td>\n",
              "      <td>England</td>\n",
              "      <td>Home</td>\n",
              "      <td>Away</td>\n",
              "      <td>First</td>\n",
              "      <td>Second</td>\n",
              "    </tr>\n",
              "    <tr>\n",
              "      <th>3</th>\n",
              "      <td>3</td>\n",
              "      <td>ODI # 4</td>\n",
              "      <td>England</td>\n",
              "      <td>Australia</td>\n",
              "      <td>Winner2ndInning</td>\n",
              "      <td>Birmingham</td>\n",
              "      <td>Aug 28, 1972</td>\n",
              "      <td>England</td>\n",
              "      <td>England</td>\n",
              "      <td>Home</td>\n",
              "      <td>Away</td>\n",
              "      <td>Second</td>\n",
              "      <td>First</td>\n",
              "    </tr>\n",
              "    <tr>\n",
              "      <th>4</th>\n",
              "      <td>4</td>\n",
              "      <td>ODI # 5</td>\n",
              "      <td>New Zealand</td>\n",
              "      <td>Pakistan</td>\n",
              "      <td>Winner1stInning</td>\n",
              "      <td>Christchurch</td>\n",
              "      <td>Feb 11, 1973</td>\n",
              "      <td>New Zealand</td>\n",
              "      <td>New Zealand</td>\n",
              "      <td>Home</td>\n",
              "      <td>Away</td>\n",
              "      <td>First</td>\n",
              "      <td>Second</td>\n",
              "    </tr>\n",
              "  </tbody>\n",
              "</table>\n",
              "</div>"
            ],
            "text/plain": [
              "   Unnamed: 0 Scorecard       Team 1  ... Venue_Team2 Innings_Team1 Innings_Team2\n",
              "0           0   ODI # 1    Australia  ...        Away        Second         First\n",
              "1           1   ODI # 2      England  ...        Away        Second         First\n",
              "2           2   ODI # 3      England  ...        Away         First        Second\n",
              "3           3   ODI # 4      England  ...        Away        Second         First\n",
              "4           4   ODI # 5  New Zealand  ...        Away         First        Second\n",
              "\n",
              "[5 rows x 13 columns]"
            ]
          },
          "metadata": {
            "tags": []
          },
          "execution_count": 4
        }
      ]
    },
    {
      "cell_type": "code",
      "metadata": {
        "id": "DKeJILCwTUpL",
        "colab_type": "code",
        "outputId": "07d2b76a-520b-4336-910c-245ba81b13d4",
        "colab": {
          "base_uri": "https://localhost:8080/",
          "height": 195
        }
      },
      "source": [
        "df = df.rename(columns={\"Team 1\": \"Team_1\", \"Team 2\": \"Team_2\",\n",
        "                   \"Team 1\": \"Team_1\",\"Match Date\":\"Match_Date\"})\n",
        "df.head()"
      ],
      "execution_count": 0,
      "outputs": [
        {
          "output_type": "execute_result",
          "data": {
            "text/html": [
              "<div>\n",
              "<style scoped>\n",
              "    .dataframe tbody tr th:only-of-type {\n",
              "        vertical-align: middle;\n",
              "    }\n",
              "\n",
              "    .dataframe tbody tr th {\n",
              "        vertical-align: top;\n",
              "    }\n",
              "\n",
              "    .dataframe thead th {\n",
              "        text-align: right;\n",
              "    }\n",
              "</style>\n",
              "<table border=\"1\" class=\"dataframe\">\n",
              "  <thead>\n",
              "    <tr style=\"text-align: right;\">\n",
              "      <th></th>\n",
              "      <th>Unnamed: 0</th>\n",
              "      <th>Scorecard</th>\n",
              "      <th>Team_1</th>\n",
              "      <th>Team_2</th>\n",
              "      <th>Margin</th>\n",
              "      <th>Ground</th>\n",
              "      <th>Match_Date</th>\n",
              "      <th>Winner</th>\n",
              "      <th>Host_Country</th>\n",
              "      <th>Venue_Team1</th>\n",
              "      <th>Venue_Team2</th>\n",
              "      <th>Innings_Team1</th>\n",
              "      <th>Innings_Team2</th>\n",
              "    </tr>\n",
              "  </thead>\n",
              "  <tbody>\n",
              "    <tr>\n",
              "      <th>0</th>\n",
              "      <td>0</td>\n",
              "      <td>ODI # 1</td>\n",
              "      <td>Australia</td>\n",
              "      <td>England</td>\n",
              "      <td>Winner2ndInning</td>\n",
              "      <td>Melbourne</td>\n",
              "      <td>Jan 5, 1971</td>\n",
              "      <td>Australia</td>\n",
              "      <td>Australia</td>\n",
              "      <td>Home</td>\n",
              "      <td>Away</td>\n",
              "      <td>Second</td>\n",
              "      <td>First</td>\n",
              "    </tr>\n",
              "    <tr>\n",
              "      <th>1</th>\n",
              "      <td>1</td>\n",
              "      <td>ODI # 2</td>\n",
              "      <td>England</td>\n",
              "      <td>Australia</td>\n",
              "      <td>Winner2ndInning</td>\n",
              "      <td>Manchester</td>\n",
              "      <td>Aug 24, 1972</td>\n",
              "      <td>England</td>\n",
              "      <td>England</td>\n",
              "      <td>Home</td>\n",
              "      <td>Away</td>\n",
              "      <td>Second</td>\n",
              "      <td>First</td>\n",
              "    </tr>\n",
              "    <tr>\n",
              "      <th>2</th>\n",
              "      <td>2</td>\n",
              "      <td>ODI # 3</td>\n",
              "      <td>England</td>\n",
              "      <td>Australia</td>\n",
              "      <td>Winner2ndInning</td>\n",
              "      <td>Lord's</td>\n",
              "      <td>Aug 26, 1972</td>\n",
              "      <td>Australia</td>\n",
              "      <td>England</td>\n",
              "      <td>Home</td>\n",
              "      <td>Away</td>\n",
              "      <td>First</td>\n",
              "      <td>Second</td>\n",
              "    </tr>\n",
              "    <tr>\n",
              "      <th>3</th>\n",
              "      <td>3</td>\n",
              "      <td>ODI # 4</td>\n",
              "      <td>England</td>\n",
              "      <td>Australia</td>\n",
              "      <td>Winner2ndInning</td>\n",
              "      <td>Birmingham</td>\n",
              "      <td>Aug 28, 1972</td>\n",
              "      <td>England</td>\n",
              "      <td>England</td>\n",
              "      <td>Home</td>\n",
              "      <td>Away</td>\n",
              "      <td>Second</td>\n",
              "      <td>First</td>\n",
              "    </tr>\n",
              "    <tr>\n",
              "      <th>4</th>\n",
              "      <td>4</td>\n",
              "      <td>ODI # 5</td>\n",
              "      <td>New Zealand</td>\n",
              "      <td>Pakistan</td>\n",
              "      <td>Winner1stInning</td>\n",
              "      <td>Christchurch</td>\n",
              "      <td>Feb 11, 1973</td>\n",
              "      <td>New Zealand</td>\n",
              "      <td>New Zealand</td>\n",
              "      <td>Home</td>\n",
              "      <td>Away</td>\n",
              "      <td>First</td>\n",
              "      <td>Second</td>\n",
              "    </tr>\n",
              "  </tbody>\n",
              "</table>\n",
              "</div>"
            ],
            "text/plain": [
              "   Unnamed: 0 Scorecard       Team_1  ... Venue_Team2 Innings_Team1 Innings_Team2\n",
              "0           0   ODI # 1    Australia  ...        Away        Second         First\n",
              "1           1   ODI # 2      England  ...        Away        Second         First\n",
              "2           2   ODI # 3      England  ...        Away         First        Second\n",
              "3           3   ODI # 4      England  ...        Away        Second         First\n",
              "4           4   ODI # 5  New Zealand  ...        Away         First        Second\n",
              "\n",
              "[5 rows x 13 columns]"
            ]
          },
          "metadata": {
            "tags": []
          },
          "execution_count": 5
        }
      ]
    },
    {
      "cell_type": "code",
      "metadata": {
        "id": "t1f4tJ9PTXcU",
        "colab_type": "code",
        "outputId": "b2266bb4-91e1-4ad1-8ef0-e6ba94dada2a",
        "colab": {
          "base_uri": "https://localhost:8080/",
          "height": 195
        }
      },
      "source": [
        "df = df[(((df['Team_1'] == 'India') | (df['Team_2'] == 'India'))) & (((df['Team_1'] == 'Pakistan') | (df['Team_2'] == 'Pakistan'))) ]\n",
        "\n",
        "df.head()"
      ],
      "execution_count": 0,
      "outputs": [
        {
          "output_type": "execute_result",
          "data": {
            "text/html": [
              "<div>\n",
              "<style scoped>\n",
              "    .dataframe tbody tr th:only-of-type {\n",
              "        vertical-align: middle;\n",
              "    }\n",
              "\n",
              "    .dataframe tbody tr th {\n",
              "        vertical-align: top;\n",
              "    }\n",
              "\n",
              "    .dataframe thead th {\n",
              "        text-align: right;\n",
              "    }\n",
              "</style>\n",
              "<table border=\"1\" class=\"dataframe\">\n",
              "  <thead>\n",
              "    <tr style=\"text-align: right;\">\n",
              "      <th></th>\n",
              "      <th>Unnamed: 0</th>\n",
              "      <th>Scorecard</th>\n",
              "      <th>Team_1</th>\n",
              "      <th>Team_2</th>\n",
              "      <th>Margin</th>\n",
              "      <th>Ground</th>\n",
              "      <th>Match_Date</th>\n",
              "      <th>Winner</th>\n",
              "      <th>Host_Country</th>\n",
              "      <th>Venue_Team1</th>\n",
              "      <th>Venue_Team2</th>\n",
              "      <th>Innings_Team1</th>\n",
              "      <th>Innings_Team2</th>\n",
              "    </tr>\n",
              "  </thead>\n",
              "  <tbody>\n",
              "    <tr>\n",
              "      <th>50</th>\n",
              "      <td>50</td>\n",
              "      <td>ODI # 54</td>\n",
              "      <td>Pakistan</td>\n",
              "      <td>India</td>\n",
              "      <td>Winner1stInning</td>\n",
              "      <td>Quetta</td>\n",
              "      <td>Oct 1, 1978</td>\n",
              "      <td>India</td>\n",
              "      <td>Pakistan</td>\n",
              "      <td>Home</td>\n",
              "      <td>Away</td>\n",
              "      <td>Second</td>\n",
              "      <td>First</td>\n",
              "    </tr>\n",
              "    <tr>\n",
              "      <th>51</th>\n",
              "      <td>51</td>\n",
              "      <td>ODI # 55</td>\n",
              "      <td>Pakistan</td>\n",
              "      <td>India</td>\n",
              "      <td>Winner2ndInning</td>\n",
              "      <td>Sialkot</td>\n",
              "      <td>Oct 13, 1978</td>\n",
              "      <td>Pakistan</td>\n",
              "      <td>Pakistan</td>\n",
              "      <td>Home</td>\n",
              "      <td>Away</td>\n",
              "      <td>Second</td>\n",
              "      <td>First</td>\n",
              "    </tr>\n",
              "    <tr>\n",
              "      <th>154</th>\n",
              "      <td>155</td>\n",
              "      <td>ODI # 162</td>\n",
              "      <td>Pakistan</td>\n",
              "      <td>India</td>\n",
              "      <td>Winner1stInning</td>\n",
              "      <td>Gujranwala</td>\n",
              "      <td>Dec 3, 1982</td>\n",
              "      <td>Pakistan</td>\n",
              "      <td>Pakistan</td>\n",
              "      <td>Home</td>\n",
              "      <td>Away</td>\n",
              "      <td>First</td>\n",
              "      <td>Second</td>\n",
              "    </tr>\n",
              "    <tr>\n",
              "      <th>155</th>\n",
              "      <td>156</td>\n",
              "      <td>ODI # 163</td>\n",
              "      <td>Pakistan</td>\n",
              "      <td>India</td>\n",
              "      <td>Winner1stInning</td>\n",
              "      <td>Multan</td>\n",
              "      <td>Dec 17, 1982</td>\n",
              "      <td>Pakistan</td>\n",
              "      <td>Pakistan</td>\n",
              "      <td>Home</td>\n",
              "      <td>Away</td>\n",
              "      <td>First</td>\n",
              "      <td>Second</td>\n",
              "    </tr>\n",
              "    <tr>\n",
              "      <th>156</th>\n",
              "      <td>157</td>\n",
              "      <td>ODI # 164</td>\n",
              "      <td>Pakistan</td>\n",
              "      <td>India</td>\n",
              "      <td>Winner1stInning</td>\n",
              "      <td>Lahore</td>\n",
              "      <td>Dec 31, 1982</td>\n",
              "      <td>India</td>\n",
              "      <td>Pakistan</td>\n",
              "      <td>Home</td>\n",
              "      <td>Away</td>\n",
              "      <td>Second</td>\n",
              "      <td>First</td>\n",
              "    </tr>\n",
              "  </tbody>\n",
              "</table>\n",
              "</div>"
            ],
            "text/plain": [
              "     Unnamed: 0  Scorecard    Team_1  ... Venue_Team2 Innings_Team1 Innings_Team2\n",
              "50           50   ODI # 54  Pakistan  ...        Away        Second         First\n",
              "51           51   ODI # 55  Pakistan  ...        Away        Second         First\n",
              "154         155  ODI # 162  Pakistan  ...        Away         First        Second\n",
              "155         156  ODI # 163  Pakistan  ...        Away         First        Second\n",
              "156         157  ODI # 164  Pakistan  ...        Away        Second         First\n",
              "\n",
              "[5 rows x 13 columns]"
            ]
          },
          "metadata": {
            "tags": []
          },
          "execution_count": 6
        }
      ]
    },
    {
      "cell_type": "code",
      "metadata": {
        "id": "Kb4bbamWTZ5U",
        "colab_type": "code",
        "outputId": "8338d54d-5637-46c0-dd75-84c7dc732dcb",
        "colab": {
          "base_uri": "https://localhost:8080/",
          "height": 195
        }
      },
      "source": [
        "df.tail()"
      ],
      "execution_count": 0,
      "outputs": [
        {
          "output_type": "execute_result",
          "data": {
            "text/html": [
              "<div>\n",
              "<style scoped>\n",
              "    .dataframe tbody tr th:only-of-type {\n",
              "        vertical-align: middle;\n",
              "    }\n",
              "\n",
              "    .dataframe tbody tr th {\n",
              "        vertical-align: top;\n",
              "    }\n",
              "\n",
              "    .dataframe thead th {\n",
              "        text-align: right;\n",
              "    }\n",
              "</style>\n",
              "<table border=\"1\" class=\"dataframe\">\n",
              "  <thead>\n",
              "    <tr style=\"text-align: right;\">\n",
              "      <th></th>\n",
              "      <th>Unnamed: 0</th>\n",
              "      <th>Scorecard</th>\n",
              "      <th>Team_1</th>\n",
              "      <th>Team_2</th>\n",
              "      <th>Margin</th>\n",
              "      <th>Ground</th>\n",
              "      <th>Match_Date</th>\n",
              "      <th>Winner</th>\n",
              "      <th>Host_Country</th>\n",
              "      <th>Venue_Team1</th>\n",
              "      <th>Venue_Team2</th>\n",
              "      <th>Innings_Team1</th>\n",
              "      <th>Innings_Team2</th>\n",
              "    </tr>\n",
              "  </thead>\n",
              "  <tbody>\n",
              "    <tr>\n",
              "      <th>6960</th>\n",
              "      <td>3218</td>\n",
              "      <td>ODI # 3372</td>\n",
              "      <td>Pakistan</td>\n",
              "      <td>India</td>\n",
              "      <td>Winner2ndInning</td>\n",
              "      <td>Birmingham</td>\n",
              "      <td>Jun 15, 2013</td>\n",
              "      <td>India</td>\n",
              "      <td>England</td>\n",
              "      <td>Neutral</td>\n",
              "      <td>Neutral</td>\n",
              "      <td>First</td>\n",
              "      <td>Second</td>\n",
              "    </tr>\n",
              "    <tr>\n",
              "      <th>7059</th>\n",
              "      <td>3317</td>\n",
              "      <td>ODI # 3479</td>\n",
              "      <td>Pakistan</td>\n",
              "      <td>India</td>\n",
              "      <td>Winner2ndInning</td>\n",
              "      <td>Dhaka</td>\n",
              "      <td>Mar 2, 2014</td>\n",
              "      <td>Pakistan</td>\n",
              "      <td>Bangladesh</td>\n",
              "      <td>Neutral</td>\n",
              "      <td>Neutral</td>\n",
              "      <td>Second</td>\n",
              "      <td>First</td>\n",
              "    </tr>\n",
              "    <tr>\n",
              "      <th>7177</th>\n",
              "      <td>3435</td>\n",
              "      <td>ODI # 3602</td>\n",
              "      <td>Pakistan</td>\n",
              "      <td>India</td>\n",
              "      <td>Winner1stInning</td>\n",
              "      <td>Adelaide</td>\n",
              "      <td>Feb 15, 2015</td>\n",
              "      <td>India</td>\n",
              "      <td>Australia</td>\n",
              "      <td>Neutral</td>\n",
              "      <td>Neutral</td>\n",
              "      <td>Second</td>\n",
              "      <td>First</td>\n",
              "    </tr>\n",
              "    <tr>\n",
              "      <th>7440</th>\n",
              "      <td>3698</td>\n",
              "      <td>ODI # 3878</td>\n",
              "      <td>Pakistan</td>\n",
              "      <td>India</td>\n",
              "      <td>Winner1stInning</td>\n",
              "      <td>Birmingham</td>\n",
              "      <td>Jun 4, 2017</td>\n",
              "      <td>India</td>\n",
              "      <td>England</td>\n",
              "      <td>Neutral</td>\n",
              "      <td>Neutral</td>\n",
              "      <td>Second</td>\n",
              "      <td>First</td>\n",
              "    </tr>\n",
              "    <tr>\n",
              "      <th>7454</th>\n",
              "      <td>3712</td>\n",
              "      <td>ODI # 3894</td>\n",
              "      <td>Pakistan</td>\n",
              "      <td>India</td>\n",
              "      <td>Winner1stInning</td>\n",
              "      <td>The Oval</td>\n",
              "      <td>Jun 18, 2017</td>\n",
              "      <td>Pakistan</td>\n",
              "      <td>England</td>\n",
              "      <td>Neutral</td>\n",
              "      <td>Neutral</td>\n",
              "      <td>First</td>\n",
              "      <td>Second</td>\n",
              "    </tr>\n",
              "  </tbody>\n",
              "</table>\n",
              "</div>"
            ],
            "text/plain": [
              "      Unnamed: 0   Scorecard    Team_1  ... Venue_Team2 Innings_Team1 Innings_Team2\n",
              "6960        3218  ODI # 3372  Pakistan  ...     Neutral         First        Second\n",
              "7059        3317  ODI # 3479  Pakistan  ...     Neutral        Second         First\n",
              "7177        3435  ODI # 3602  Pakistan  ...     Neutral        Second         First\n",
              "7440        3698  ODI # 3878  Pakistan  ...     Neutral        Second         First\n",
              "7454        3712  ODI # 3894  Pakistan  ...     Neutral         First        Second\n",
              "\n",
              "[5 rows x 13 columns]"
            ]
          },
          "metadata": {
            "tags": []
          },
          "execution_count": 7
        }
      ]
    },
    {
      "cell_type": "markdown",
      "metadata": {
        "id": "dlWFzmbQTigc",
        "colab_type": "text"
      },
      "source": [
        "# The above data is the record of all the matches between India and Pakistan. I want to predict the 'Winner' column"
      ]
    },
    {
      "cell_type": "markdown",
      "metadata": {
        "id": "_9Zob75-b8er",
        "colab_type": "text"
      },
      "source": [
        "# Baseline"
      ]
    },
    {
      "cell_type": "code",
      "metadata": {
        "id": "iIacWq-eTcB7",
        "colab_type": "code",
        "outputId": "ebf6c29d-ecd9-4d92-8b37-1eacbbccef75",
        "colab": {
          "base_uri": "https://localhost:8080/",
          "height": 67
        }
      },
      "source": [
        "df['Winner'].value_counts(normalize = True)"
      ],
      "execution_count": 0,
      "outputs": [
        {
          "output_type": "execute_result",
          "data": {
            "text/plain": [
              "Pakistan    0.585366\n",
              "India       0.414634\n",
              "Name: Winner, dtype: float64"
            ]
          },
          "metadata": {
            "tags": []
          },
          "execution_count": 8
        }
      ]
    },
    {
      "cell_type": "code",
      "metadata": {
        "id": "pMKwz93VTnEg",
        "colab_type": "code",
        "outputId": "78a90442-694f-4c6f-ca6a-88970965f5c1",
        "colab": {
          "base_uri": "https://localhost:8080/",
          "height": 296
        }
      },
      "source": [
        "import seaborn as sns\n",
        "sns.countplot(df['Winner'])"
      ],
      "execution_count": 0,
      "outputs": [
        {
          "output_type": "execute_result",
          "data": {
            "text/plain": [
              "<matplotlib.axes._subplots.AxesSubplot at 0x7f0d8af1d0f0>"
            ]
          },
          "metadata": {
            "tags": []
          },
          "execution_count": 9
        },
        {
          "output_type": "display_data",
          "data": {
            "image/png": "[encoded data removed]",
            "text/plain": [
              "<Figure size 432x288 with 1 Axes>"
            ]
          },
          "metadata": {
            "tags": []
          }
        }
      ]
    },
    {
      "cell_type": "markdown",
      "metadata": {
        "id": "qcC-BwfsjOLZ",
        "colab_type": "text"
      },
      "source": [
        "# Just by guessing I would get accuracy score of 58.53%"
      ]
    },
    {
      "cell_type": "markdown",
      "metadata": {
        "id": "OTNNItDqUeVq",
        "colab_type": "text"
      },
      "source": [
        "# Exploration and cleaning"
      ]
    },
    {
      "cell_type": "code",
      "metadata": {
        "id": "ZyXqqdFgUA-b",
        "colab_type": "code",
        "outputId": "9bcc3d94-58df-48cb-8921-3ee658d532a6",
        "colab": {
          "base_uri": "https://localhost:8080/",
          "height": 252
        }
      },
      "source": [
        "df.isna().sum().sort_values()"
      ],
      "execution_count": 0,
      "outputs": [
        {
          "output_type": "execute_result",
          "data": {
            "text/plain": [
              "Unnamed: 0       0\n",
              "Scorecard        0\n",
              "Team_1           0\n",
              "Team_2           0\n",
              "Margin           0\n",
              "Ground           0\n",
              "Match_Date       0\n",
              "Winner           0\n",
              "Venue_Team1      0\n",
              "Venue_Team2      0\n",
              "Innings_Team1    0\n",
              "Innings_Team2    0\n",
              "Host_Country     8\n",
              "dtype: int64"
            ]
          },
          "metadata": {
            "tags": []
          },
          "execution_count": 10
        }
      ]
    },
    {
      "cell_type": "code",
      "metadata": {
        "id": "gExT3Qsxbh9P",
        "colab_type": "code",
        "colab": {}
      },
      "source": [
        "df = df.fillna('Missing')\n",
        "# Will come back to this"
      ],
      "execution_count": 0,
      "outputs": []
    },
    {
      "cell_type": "markdown",
      "metadata": {
        "id": "fHup2t6KXQpn",
        "colab_type": "text"
      },
      "source": [
        "# Making new features"
      ]
    },
    {
      "cell_type": "code",
      "metadata": {
        "id": "8VLeiXfmZkZ3",
        "colab_type": "code",
        "outputId": "2cfffbbe-9b40-4d6a-fe6c-c87e5a46328a",
        "colab": {
          "base_uri": "https://localhost:8080/",
          "height": 195
        }
      },
      "source": [
        "df.head()"
      ],
      "execution_count": 0,
      "outputs": [
        {
          "output_type": "execute_result",
          "data": {
            "text/html": [
              "<div>\n",
              "<style scoped>\n",
              "    .dataframe tbody tr th:only-of-type {\n",
              "        vertical-align: middle;\n",
              "    }\n",
              "\n",
              "    .dataframe tbody tr th {\n",
              "        vertical-align: top;\n",
              "    }\n",
              "\n",
              "    .dataframe thead th {\n",
              "        text-align: right;\n",
              "    }\n",
              "</style>\n",
              "<table border=\"1\" class=\"dataframe\">\n",
              "  <thead>\n",
              "    <tr style=\"text-align: right;\">\n",
              "      <th></th>\n",
              "      <th>Unnamed: 0</th>\n",
              "      <th>Scorecard</th>\n",
              "      <th>Team_1</th>\n",
              "      <th>Team_2</th>\n",
              "      <th>Margin</th>\n",
              "      <th>Ground</th>\n",
              "      <th>Match_Date</th>\n",
              "      <th>Winner</th>\n",
              "      <th>Host_Country</th>\n",
              "      <th>Venue_Team1</th>\n",
              "      <th>Venue_Team2</th>\n",
              "      <th>Innings_Team1</th>\n",
              "      <th>Innings_Team2</th>\n",
              "    </tr>\n",
              "  </thead>\n",
              "  <tbody>\n",
              "    <tr>\n",
              "      <th>50</th>\n",
              "      <td>50</td>\n",
              "      <td>ODI # 54</td>\n",
              "      <td>Pakistan</td>\n",
              "      <td>India</td>\n",
              "      <td>Winner1stInning</td>\n",
              "      <td>Quetta</td>\n",
              "      <td>Oct 1, 1978</td>\n",
              "      <td>India</td>\n",
              "      <td>Pakistan</td>\n",
              "      <td>Home</td>\n",
              "      <td>Away</td>\n",
              "      <td>Second</td>\n",
              "      <td>First</td>\n",
              "    </tr>\n",
              "    <tr>\n",
              "      <th>51</th>\n",
              "      <td>51</td>\n",
              "      <td>ODI # 55</td>\n",
              "      <td>Pakistan</td>\n",
              "      <td>India</td>\n",
              "      <td>Winner2ndInning</td>\n",
              "      <td>Sialkot</td>\n",
              "      <td>Oct 13, 1978</td>\n",
              "      <td>Pakistan</td>\n",
              "      <td>Pakistan</td>\n",
              "      <td>Home</td>\n",
              "      <td>Away</td>\n",
              "      <td>Second</td>\n",
              "      <td>First</td>\n",
              "    </tr>\n",
              "    <tr>\n",
              "      <th>154</th>\n",
              "      <td>155</td>\n",
              "      <td>ODI # 162</td>\n",
              "      <td>Pakistan</td>\n",
              "      <td>India</td>\n",
              "      <td>Winner1stInning</td>\n",
              "      <td>Gujranwala</td>\n",
              "      <td>Dec 3, 1982</td>\n",
              "      <td>Pakistan</td>\n",
              "      <td>Pakistan</td>\n",
              "      <td>Home</td>\n",
              "      <td>Away</td>\n",
              "      <td>First</td>\n",
              "      <td>Second</td>\n",
              "    </tr>\n",
              "    <tr>\n",
              "      <th>155</th>\n",
              "      <td>156</td>\n",
              "      <td>ODI # 163</td>\n",
              "      <td>Pakistan</td>\n",
              "      <td>India</td>\n",
              "      <td>Winner1stInning</td>\n",
              "      <td>Multan</td>\n",
              "      <td>Dec 17, 1982</td>\n",
              "      <td>Pakistan</td>\n",
              "      <td>Pakistan</td>\n",
              "      <td>Home</td>\n",
              "      <td>Away</td>\n",
              "      <td>First</td>\n",
              "      <td>Second</td>\n",
              "    </tr>\n",
              "    <tr>\n",
              "      <th>156</th>\n",
              "      <td>157</td>\n",
              "      <td>ODI # 164</td>\n",
              "      <td>Pakistan</td>\n",
              "      <td>India</td>\n",
              "      <td>Winner1stInning</td>\n",
              "      <td>Lahore</td>\n",
              "      <td>Dec 31, 1982</td>\n",
              "      <td>India</td>\n",
              "      <td>Pakistan</td>\n",
              "      <td>Home</td>\n",
              "      <td>Away</td>\n",
              "      <td>Second</td>\n",
              "      <td>First</td>\n",
              "    </tr>\n",
              "  </tbody>\n",
              "</table>\n",
              "</div>"
            ],
            "text/plain": [
              "     Unnamed: 0  Scorecard    Team_1  ... Venue_Team2 Innings_Team1 Innings_Team2\n",
              "50           50   ODI # 54  Pakistan  ...        Away        Second         First\n",
              "51           51   ODI # 55  Pakistan  ...        Away        Second         First\n",
              "154         155  ODI # 162  Pakistan  ...        Away         First        Second\n",
              "155         156  ODI # 163  Pakistan  ...        Away         First        Second\n",
              "156         157  ODI # 164  Pakistan  ...        Away        Second         First\n",
              "\n",
              "[5 rows x 13 columns]"
            ]
          },
          "metadata": {
            "tags": []
          },
          "execution_count": 12
        }
      ]
    },
    {
      "cell_type": "code",
      "metadata": {
        "id": "x3DOX0yDWqaP",
        "colab_type": "code",
        "colab": {}
      },
      "source": [
        "df['played_at_home'] = (df['Host_Country'] == 'India')"
      ],
      "execution_count": 0,
      "outputs": []
    },
    {
      "cell_type": "code",
      "metadata": {
        "id": "76PbzD_FXkpX",
        "colab_type": "code",
        "colab": {}
      },
      "source": [
        "df['played_at_Pakistan'] = (df['Host_Country'] == 'Pakistan')"
      ],
      "execution_count": 0,
      "outputs": []
    },
    {
      "cell_type": "code",
      "metadata": {
        "id": "GR3Z0k-PXvxn",
        "colab_type": "code",
        "colab": {}
      },
      "source": [
        "df['Played_in_neutral'] = (df['Host_Country'] != 'India') & (df['Host_Country'] != 'Pakistan')"
      ],
      "execution_count": 0,
      "outputs": []
    },
    {
      "cell_type": "markdown",
      "metadata": {
        "id": "pImpYMTnbbSR",
        "colab_type": "text"
      },
      "source": [
        ""
      ]
    },
    {
      "cell_type": "code",
      "metadata": {
        "id": "p6oy2TcaTouA",
        "colab_type": "code",
        "colab": {}
      },
      "source": [
        "from sklearn.model_selection import train_test_split"
      ],
      "execution_count": 0,
      "outputs": []
    },
    {
      "cell_type": "code",
      "metadata": {
        "id": "wy3KX9IzT1r-",
        "colab_type": "code",
        "colab": {}
      },
      "source": [
        "train, test = train_test_split(df, train_size = .8, test_size = .2,\n",
        "                               stratify = df['Winner'], random_state =42)"
      ],
      "execution_count": 0,
      "outputs": []
    },
    {
      "cell_type": "code",
      "metadata": {
        "id": "0tFg9WCRT43c",
        "colab_type": "code",
        "colab": {}
      },
      "source": [
        "\n",
        "train, val = train_test_split(train, train_size = .8, test_size = .2,\n",
        "                              stratify = train['Winner'], random_state =42)"
      ],
      "execution_count": 0,
      "outputs": []
    },
    {
      "cell_type": "code",
      "metadata": {
        "id": "QUQp9ex5T68g",
        "colab_type": "code",
        "outputId": "a7dee228-29b6-4d12-dcbd-f0b014d6fb7a",
        "colab": {
          "base_uri": "https://localhost:8080/",
          "height": 299
        }
      },
      "source": [
        "train.head()"
      ],
      "execution_count": 0,
      "outputs": [
        {
          "output_type": "execute_result",
          "data": {
            "text/html": [
              "<div>\n",
              "<style scoped>\n",
              "    .dataframe tbody tr th:only-of-type {\n",
              "        vertical-align: middle;\n",
              "    }\n",
              "\n",
              "    .dataframe tbody tr th {\n",
              "        vertical-align: top;\n",
              "    }\n",
              "\n",
              "    .dataframe thead th {\n",
              "        text-align: right;\n",
              "    }\n",
              "</style>\n",
              "<table border=\"1\" class=\"dataframe\">\n",
              "  <thead>\n",
              "    <tr style=\"text-align: right;\">\n",
              "      <th></th>\n",
              "      <th>Unnamed: 0</th>\n",
              "      <th>Scorecard</th>\n",
              "      <th>Team_1</th>\n",
              "      <th>Team_2</th>\n",
              "      <th>Margin</th>\n",
              "      <th>Ground</th>\n",
              "      <th>Match_Date</th>\n",
              "      <th>Winner</th>\n",
              "      <th>Host_Country</th>\n",
              "      <th>Venue_Team1</th>\n",
              "      <th>Venue_Team2</th>\n",
              "      <th>Innings_Team1</th>\n",
              "      <th>Innings_Team2</th>\n",
              "      <th>played_at_home</th>\n",
              "      <th>played_at_Pakistan</th>\n",
              "      <th>Played_in_neutral</th>\n",
              "    </tr>\n",
              "  </thead>\n",
              "  <tbody>\n",
              "    <tr>\n",
              "      <th>2142</th>\n",
              "      <td>2147</td>\n",
              "      <td>ODI # 2239</td>\n",
              "      <td>India</td>\n",
              "      <td>Pakistan</td>\n",
              "      <td>Winner2ndInning</td>\n",
              "      <td>Kanpur</td>\n",
              "      <td>Apr 15, 2005</td>\n",
              "      <td>Pakistan</td>\n",
              "      <td>India</td>\n",
              "      <td>Home</td>\n",
              "      <td>Away</td>\n",
              "      <td>First</td>\n",
              "      <td>Second</td>\n",
              "      <td>True</td>\n",
              "      <td>False</td>\n",
              "      <td>False</td>\n",
              "    </tr>\n",
              "    <tr>\n",
              "      <th>866</th>\n",
              "      <td>869</td>\n",
              "      <td>ODI # 906</td>\n",
              "      <td>India</td>\n",
              "      <td>Pakistan</td>\n",
              "      <td>Winner2ndInning</td>\n",
              "      <td>Sharjah</td>\n",
              "      <td>Apr 15, 1994</td>\n",
              "      <td>Pakistan</td>\n",
              "      <td>U.A.E.</td>\n",
              "      <td>Neutral</td>\n",
              "      <td>Neutral</td>\n",
              "      <td>First</td>\n",
              "      <td>Second</td>\n",
              "      <td>False</td>\n",
              "      <td>False</td>\n",
              "      <td>True</td>\n",
              "    </tr>\n",
              "    <tr>\n",
              "      <th>405</th>\n",
              "      <td>406</td>\n",
              "      <td>ODI # 426</td>\n",
              "      <td>India</td>\n",
              "      <td>Pakistan</td>\n",
              "      <td>Winner2ndInning</td>\n",
              "      <td>Indore</td>\n",
              "      <td>Jan 27, 1987</td>\n",
              "      <td>Pakistan</td>\n",
              "      <td>India</td>\n",
              "      <td>Home</td>\n",
              "      <td>Away</td>\n",
              "      <td>First</td>\n",
              "      <td>Second</td>\n",
              "      <td>True</td>\n",
              "      <td>False</td>\n",
              "      <td>False</td>\n",
              "    </tr>\n",
              "    <tr>\n",
              "      <th>7177</th>\n",
              "      <td>3435</td>\n",
              "      <td>ODI # 3602</td>\n",
              "      <td>Pakistan</td>\n",
              "      <td>India</td>\n",
              "      <td>Winner1stInning</td>\n",
              "      <td>Adelaide</td>\n",
              "      <td>Feb 15, 2015</td>\n",
              "      <td>India</td>\n",
              "      <td>Australia</td>\n",
              "      <td>Neutral</td>\n",
              "      <td>Neutral</td>\n",
              "      <td>Second</td>\n",
              "      <td>First</td>\n",
              "      <td>False</td>\n",
              "      <td>False</td>\n",
              "      <td>True</td>\n",
              "    </tr>\n",
              "    <tr>\n",
              "      <th>697</th>\n",
              "      <td>700</td>\n",
              "      <td>ODI # 729</td>\n",
              "      <td>India</td>\n",
              "      <td>Pakistan</td>\n",
              "      <td>Winner1stInning</td>\n",
              "      <td>Sydney</td>\n",
              "      <td>Mar 4, 1992</td>\n",
              "      <td>India</td>\n",
              "      <td>Australia</td>\n",
              "      <td>Neutral</td>\n",
              "      <td>Neutral</td>\n",
              "      <td>First</td>\n",
              "      <td>Second</td>\n",
              "      <td>False</td>\n",
              "      <td>False</td>\n",
              "      <td>True</td>\n",
              "    </tr>\n",
              "  </tbody>\n",
              "</table>\n",
              "</div>"
            ],
            "text/plain": [
              "      Unnamed: 0   Scorecard  ... played_at_Pakistan Played_in_neutral\n",
              "2142        2147  ODI # 2239  ...              False             False\n",
              "866          869   ODI # 906  ...              False              True\n",
              "405          406   ODI # 426  ...              False             False\n",
              "7177        3435  ODI # 3602  ...              False              True\n",
              "697          700   ODI # 729  ...              False              True\n",
              "\n",
              "[5 rows x 16 columns]"
            ]
          },
          "metadata": {
            "tags": []
          },
          "execution_count": 19
        }
      ]
    },
    {
      "cell_type": "code",
      "metadata": {
        "id": "boxwqgfGT9XH",
        "colab_type": "code",
        "outputId": "6e7bf495-aae4-434c-b1db-c38542da03ba",
        "colab": {
          "base_uri": "https://localhost:8080/",
          "height": 316
        }
      },
      "source": [
        "val.head()"
      ],
      "execution_count": 0,
      "outputs": [
        {
          "output_type": "execute_result",
          "data": {
            "text/html": [
              "<div>\n",
              "<style scoped>\n",
              "    .dataframe tbody tr th:only-of-type {\n",
              "        vertical-align: middle;\n",
              "    }\n",
              "\n",
              "    .dataframe tbody tr th {\n",
              "        vertical-align: top;\n",
              "    }\n",
              "\n",
              "    .dataframe thead th {\n",
              "        text-align: right;\n",
              "    }\n",
              "</style>\n",
              "<table border=\"1\" class=\"dataframe\">\n",
              "  <thead>\n",
              "    <tr style=\"text-align: right;\">\n",
              "      <th></th>\n",
              "      <th>Unnamed: 0</th>\n",
              "      <th>Scorecard</th>\n",
              "      <th>Team_1</th>\n",
              "      <th>Team_2</th>\n",
              "      <th>Margin</th>\n",
              "      <th>Ground</th>\n",
              "      <th>Match_Date</th>\n",
              "      <th>Winner</th>\n",
              "      <th>Host_Country</th>\n",
              "      <th>Venue_Team1</th>\n",
              "      <th>Venue_Team2</th>\n",
              "      <th>Innings_Team1</th>\n",
              "      <th>Innings_Team2</th>\n",
              "      <th>played_at_home</th>\n",
              "      <th>played_at_Pakistan</th>\n",
              "      <th>Played_in_neutral</th>\n",
              "    </tr>\n",
              "  </thead>\n",
              "  <tbody>\n",
              "    <tr>\n",
              "      <th>4923</th>\n",
              "      <td>1180</td>\n",
              "      <td>ODI # 1231</td>\n",
              "      <td>Pakistan</td>\n",
              "      <td>India</td>\n",
              "      <td>Winner2ndInning</td>\n",
              "      <td>Toronto</td>\n",
              "      <td>Sep 20, 1997</td>\n",
              "      <td>India</td>\n",
              "      <td>Canada</td>\n",
              "      <td>Neutral</td>\n",
              "      <td>Neutral</td>\n",
              "      <td>First</td>\n",
              "      <td>Second</td>\n",
              "      <td>False</td>\n",
              "      <td>False</td>\n",
              "      <td>True</td>\n",
              "    </tr>\n",
              "    <tr>\n",
              "      <th>5113</th>\n",
              "      <td>1370</td>\n",
              "      <td>ODI # 1428</td>\n",
              "      <td>Pakistan</td>\n",
              "      <td>India</td>\n",
              "      <td>Winner1stInning</td>\n",
              "      <td>Bengaluru</td>\n",
              "      <td>Apr 4, 1999</td>\n",
              "      <td>Pakistan</td>\n",
              "      <td>India</td>\n",
              "      <td>Away</td>\n",
              "      <td>Home</td>\n",
              "      <td>First</td>\n",
              "      <td>Second</td>\n",
              "      <td>True</td>\n",
              "      <td>False</td>\n",
              "      <td>False</td>\n",
              "    </tr>\n",
              "    <tr>\n",
              "      <th>4295</th>\n",
              "      <td>551</td>\n",
              "      <td>ODI # 572</td>\n",
              "      <td>Pakistan</td>\n",
              "      <td>India</td>\n",
              "      <td>Winner2ndInning</td>\n",
              "      <td>Sharjah</td>\n",
              "      <td>Oct 15, 1989</td>\n",
              "      <td>Pakistan</td>\n",
              "      <td>U.A.E.</td>\n",
              "      <td>Neutral</td>\n",
              "      <td>Neutral</td>\n",
              "      <td>Second</td>\n",
              "      <td>First</td>\n",
              "      <td>False</td>\n",
              "      <td>False</td>\n",
              "      <td>True</td>\n",
              "    </tr>\n",
              "    <tr>\n",
              "      <th>4404</th>\n",
              "      <td>660</td>\n",
              "      <td>ODI # 684</td>\n",
              "      <td>Pakistan</td>\n",
              "      <td>India</td>\n",
              "      <td>Winner1stInning</td>\n",
              "      <td>Sharjah</td>\n",
              "      <td>Oct 23, 1991</td>\n",
              "      <td>Pakistan</td>\n",
              "      <td>U.A.E.</td>\n",
              "      <td>Neutral</td>\n",
              "      <td>Neutral</td>\n",
              "      <td>First</td>\n",
              "      <td>Second</td>\n",
              "      <td>False</td>\n",
              "      <td>False</td>\n",
              "      <td>True</td>\n",
              "    </tr>\n",
              "    <tr>\n",
              "      <th>2521</th>\n",
              "      <td>2526</td>\n",
              "      <td>ODI # 2643</td>\n",
              "      <td>India</td>\n",
              "      <td>Pakistan</td>\n",
              "      <td>Winner2ndInning</td>\n",
              "      <td>Guwahati</td>\n",
              "      <td>Nov 5, 2007</td>\n",
              "      <td>India</td>\n",
              "      <td>India</td>\n",
              "      <td>Home</td>\n",
              "      <td>Away</td>\n",
              "      <td>Second</td>\n",
              "      <td>First</td>\n",
              "      <td>True</td>\n",
              "      <td>False</td>\n",
              "      <td>False</td>\n",
              "    </tr>\n",
              "  </tbody>\n",
              "</table>\n",
              "</div>"
            ],
            "text/plain": [
              "      Unnamed: 0   Scorecard  ... played_at_Pakistan Played_in_neutral\n",
              "4923        1180  ODI # 1231  ...              False              True\n",
              "5113        1370  ODI # 1428  ...              False             False\n",
              "4295         551   ODI # 572  ...              False              True\n",
              "4404         660   ODI # 684  ...              False              True\n",
              "2521        2526  ODI # 2643  ...              False             False\n",
              "\n",
              "[5 rows x 16 columns]"
            ]
          },
          "metadata": {
            "tags": []
          },
          "execution_count": 20
        }
      ]
    },
    {
      "cell_type": "code",
      "metadata": {
        "id": "stFSvDRST_i8",
        "colab_type": "code",
        "outputId": "82767c15-7ac5-456d-fbb6-4ce7bd4a2d34",
        "colab": {
          "base_uri": "https://localhost:8080/",
          "height": 316
        }
      },
      "source": [
        "test.head()"
      ],
      "execution_count": 0,
      "outputs": [
        {
          "output_type": "execute_result",
          "data": {
            "text/html": [
              "<div>\n",
              "<style scoped>\n",
              "    .dataframe tbody tr th:only-of-type {\n",
              "        vertical-align: middle;\n",
              "    }\n",
              "\n",
              "    .dataframe tbody tr th {\n",
              "        vertical-align: top;\n",
              "    }\n",
              "\n",
              "    .dataframe thead th {\n",
              "        text-align: right;\n",
              "    }\n",
              "</style>\n",
              "<table border=\"1\" class=\"dataframe\">\n",
              "  <thead>\n",
              "    <tr style=\"text-align: right;\">\n",
              "      <th></th>\n",
              "      <th>Unnamed: 0</th>\n",
              "      <th>Scorecard</th>\n",
              "      <th>Team_1</th>\n",
              "      <th>Team_2</th>\n",
              "      <th>Margin</th>\n",
              "      <th>Ground</th>\n",
              "      <th>Match_Date</th>\n",
              "      <th>Winner</th>\n",
              "      <th>Host_Country</th>\n",
              "      <th>Venue_Team1</th>\n",
              "      <th>Venue_Team2</th>\n",
              "      <th>Innings_Team1</th>\n",
              "      <th>Innings_Team2</th>\n",
              "      <th>played_at_home</th>\n",
              "      <th>played_at_Pakistan</th>\n",
              "      <th>Played_in_neutral</th>\n",
              "    </tr>\n",
              "  </thead>\n",
              "  <tbody>\n",
              "    <tr>\n",
              "      <th>2525</th>\n",
              "      <td>2530</td>\n",
              "      <td>ODI # 2647</td>\n",
              "      <td>India</td>\n",
              "      <td>Pakistan</td>\n",
              "      <td>Winner1stInning</td>\n",
              "      <td>Jaipur</td>\n",
              "      <td>Nov 18, 2007</td>\n",
              "      <td>Pakistan</td>\n",
              "      <td>India</td>\n",
              "      <td>Home</td>\n",
              "      <td>Away</td>\n",
              "      <td>Second</td>\n",
              "      <td>First</td>\n",
              "      <td>True</td>\n",
              "      <td>False</td>\n",
              "      <td>False</td>\n",
              "    </tr>\n",
              "    <tr>\n",
              "      <th>156</th>\n",
              "      <td>157</td>\n",
              "      <td>ODI # 164</td>\n",
              "      <td>Pakistan</td>\n",
              "      <td>India</td>\n",
              "      <td>Winner1stInning</td>\n",
              "      <td>Lahore</td>\n",
              "      <td>Dec 31, 1982</td>\n",
              "      <td>India</td>\n",
              "      <td>Pakistan</td>\n",
              "      <td>Home</td>\n",
              "      <td>Away</td>\n",
              "      <td>Second</td>\n",
              "      <td>First</td>\n",
              "      <td>False</td>\n",
              "      <td>True</td>\n",
              "      <td>False</td>\n",
              "    </tr>\n",
              "    <tr>\n",
              "      <th>4400</th>\n",
              "      <td>656</td>\n",
              "      <td>ODI # 680</td>\n",
              "      <td>Pakistan</td>\n",
              "      <td>India</td>\n",
              "      <td>Winner1stInning</td>\n",
              "      <td>Sharjah</td>\n",
              "      <td>Oct 18, 1991</td>\n",
              "      <td>India</td>\n",
              "      <td>U.A.E.</td>\n",
              "      <td>Neutral</td>\n",
              "      <td>Neutral</td>\n",
              "      <td>Second</td>\n",
              "      <td>First</td>\n",
              "      <td>False</td>\n",
              "      <td>False</td>\n",
              "      <td>True</td>\n",
              "    </tr>\n",
              "    <tr>\n",
              "      <th>5972</th>\n",
              "      <td>2230</td>\n",
              "      <td>ODI # 2331</td>\n",
              "      <td>India</td>\n",
              "      <td>Pakistan</td>\n",
              "      <td>Winner2ndInning</td>\n",
              "      <td>Multan</td>\n",
              "      <td>Feb 16, 2006</td>\n",
              "      <td>India</td>\n",
              "      <td>Pakistan</td>\n",
              "      <td>Away</td>\n",
              "      <td>Home</td>\n",
              "      <td>Second</td>\n",
              "      <td>First</td>\n",
              "      <td>False</td>\n",
              "      <td>True</td>\n",
              "      <td>False</td>\n",
              "    </tr>\n",
              "    <tr>\n",
              "      <th>214</th>\n",
              "      <td>215</td>\n",
              "      <td>ODI # 224</td>\n",
              "      <td>India</td>\n",
              "      <td>Pakistan</td>\n",
              "      <td>Winner2ndInning</td>\n",
              "      <td>Hyderabad</td>\n",
              "      <td>Sep 10, 1983</td>\n",
              "      <td>India</td>\n",
              "      <td>India</td>\n",
              "      <td>Home</td>\n",
              "      <td>Away</td>\n",
              "      <td>Second</td>\n",
              "      <td>First</td>\n",
              "      <td>True</td>\n",
              "      <td>False</td>\n",
              "      <td>False</td>\n",
              "    </tr>\n",
              "  </tbody>\n",
              "</table>\n",
              "</div>"
            ],
            "text/plain": [
              "      Unnamed: 0   Scorecard  ... played_at_Pakistan Played_in_neutral\n",
              "2525        2530  ODI # 2647  ...              False             False\n",
              "156          157   ODI # 164  ...               True             False\n",
              "4400         656   ODI # 680  ...              False              True\n",
              "5972        2230  ODI # 2331  ...               True             False\n",
              "214          215   ODI # 224  ...              False             False\n",
              "\n",
              "[5 rows x 16 columns]"
            ]
          },
          "metadata": {
            "tags": []
          },
          "execution_count": 21
        }
      ]
    },
    {
      "cell_type": "markdown",
      "metadata": {
        "id": "AjveQ4NgdGzS",
        "colab_type": "text"
      },
      "source": [
        "# Feature selection"
      ]
    },
    {
      "cell_type": "code",
      "metadata": {
        "id": "QpEI-9LgVM7o",
        "colab_type": "code",
        "colab": {}
      },
      "source": [
        "target = 'Winner'"
      ],
      "execution_count": 0,
      "outputs": []
    },
    {
      "cell_type": "code",
      "metadata": {
        "id": "ghvu0DSudZwN",
        "colab_type": "code",
        "outputId": "9ef73f9b-f963-4406-e09f-d888fa6081da",
        "colab": {
          "base_uri": "https://localhost:8080/",
          "height": 491
        }
      },
      "source": [
        "train.describe(exclude = 'number').T.sort_values(by = 'unique', ascending = False)"
      ],
      "execution_count": 0,
      "outputs": [
        {
          "output_type": "execute_result",
          "data": {
            "text/html": [
              "<div>\n",
              "<style scoped>\n",
              "    .dataframe tbody tr th:only-of-type {\n",
              "        vertical-align: middle;\n",
              "    }\n",
              "\n",
              "    .dataframe tbody tr th {\n",
              "        vertical-align: top;\n",
              "    }\n",
              "\n",
              "    .dataframe thead th {\n",
              "        text-align: right;\n",
              "    }\n",
              "</style>\n",
              "<table border=\"1\" class=\"dataframe\">\n",
              "  <thead>\n",
              "    <tr style=\"text-align: right;\">\n",
              "      <th></th>\n",
              "      <th>count</th>\n",
              "      <th>unique</th>\n",
              "      <th>top</th>\n",
              "      <th>freq</th>\n",
              "    </tr>\n",
              "  </thead>\n",
              "  <tbody>\n",
              "    <tr>\n",
              "      <th>Scorecard</th>\n",
              "      <td>156</td>\n",
              "      <td>109</td>\n",
              "      <td>ODI # 2192</td>\n",
              "      <td>2</td>\n",
              "    </tr>\n",
              "    <tr>\n",
              "      <th>Match_Date</th>\n",
              "      <td>156</td>\n",
              "      <td>109</td>\n",
              "      <td>Sep 28, 1997</td>\n",
              "      <td>2</td>\n",
              "    </tr>\n",
              "    <tr>\n",
              "      <th>Ground</th>\n",
              "      <td>156</td>\n",
              "      <td>41</td>\n",
              "      <td>Sharjah</td>\n",
              "      <td>29</td>\n",
              "    </tr>\n",
              "    <tr>\n",
              "      <th>Host_Country</th>\n",
              "      <td>156</td>\n",
              "      <td>11</td>\n",
              "      <td>India</td>\n",
              "      <td>38</td>\n",
              "    </tr>\n",
              "    <tr>\n",
              "      <th>Venue_Team1</th>\n",
              "      <td>156</td>\n",
              "      <td>3</td>\n",
              "      <td>Neutral</td>\n",
              "      <td>94</td>\n",
              "    </tr>\n",
              "    <tr>\n",
              "      <th>Venue_Team2</th>\n",
              "      <td>156</td>\n",
              "      <td>3</td>\n",
              "      <td>Neutral</td>\n",
              "      <td>94</td>\n",
              "    </tr>\n",
              "    <tr>\n",
              "      <th>Team_1</th>\n",
              "      <td>156</td>\n",
              "      <td>2</td>\n",
              "      <td>India</td>\n",
              "      <td>85</td>\n",
              "    </tr>\n",
              "    <tr>\n",
              "      <th>Team_2</th>\n",
              "      <td>156</td>\n",
              "      <td>2</td>\n",
              "      <td>Pakistan</td>\n",
              "      <td>85</td>\n",
              "    </tr>\n",
              "    <tr>\n",
              "      <th>Margin</th>\n",
              "      <td>156</td>\n",
              "      <td>2</td>\n",
              "      <td>Winner1stInning</td>\n",
              "      <td>84</td>\n",
              "    </tr>\n",
              "    <tr>\n",
              "      <th>Winner</th>\n",
              "      <td>156</td>\n",
              "      <td>2</td>\n",
              "      <td>Pakistan</td>\n",
              "      <td>92</td>\n",
              "    </tr>\n",
              "    <tr>\n",
              "      <th>Innings_Team1</th>\n",
              "      <td>156</td>\n",
              "      <td>2</td>\n",
              "      <td>Second</td>\n",
              "      <td>81</td>\n",
              "    </tr>\n",
              "    <tr>\n",
              "      <th>Innings_Team2</th>\n",
              "      <td>156</td>\n",
              "      <td>2</td>\n",
              "      <td>First</td>\n",
              "      <td>81</td>\n",
              "    </tr>\n",
              "    <tr>\n",
              "      <th>played_at_home</th>\n",
              "      <td>156</td>\n",
              "      <td>2</td>\n",
              "      <td>False</td>\n",
              "      <td>118</td>\n",
              "    </tr>\n",
              "    <tr>\n",
              "      <th>played_at_Pakistan</th>\n",
              "      <td>156</td>\n",
              "      <td>2</td>\n",
              "      <td>False</td>\n",
              "      <td>132</td>\n",
              "    </tr>\n",
              "    <tr>\n",
              "      <th>Played_in_neutral</th>\n",
              "      <td>156</td>\n",
              "      <td>2</td>\n",
              "      <td>True</td>\n",
              "      <td>94</td>\n",
              "    </tr>\n",
              "  </tbody>\n",
              "</table>\n",
              "</div>"
            ],
            "text/plain": [
              "                   count unique              top freq\n",
              "Scorecard            156    109       ODI # 2192    2\n",
              "Match_Date           156    109     Sep 28, 1997    2\n",
              "Ground               156     41          Sharjah   29\n",
              "Host_Country         156     11            India   38\n",
              "Venue_Team1          156      3          Neutral   94\n",
              "Venue_Team2          156      3          Neutral   94\n",
              "Team_1               156      2            India   85\n",
              "Team_2               156      2         Pakistan   85\n",
              "Margin               156      2  Winner1stInning   84\n",
              "Winner               156      2         Pakistan   92\n",
              "Innings_Team1        156      2           Second   81\n",
              "Innings_Team2        156      2            First   81\n",
              "played_at_home       156      2            False  118\n",
              "played_at_Pakistan   156      2            False  132\n",
              "Played_in_neutral    156      2             True   94"
            ]
          },
          "metadata": {
            "tags": []
          },
          "execution_count": 23
        }
      ]
    },
    {
      "cell_type": "code",
      "metadata": {
        "id": "dCr18pHpdmv3",
        "colab_type": "code",
        "colab": {}
      },
      "source": [
        "# Removing columns with high cordinality\n",
        "high_cardinality = 'Scorecard', 'Match_Date'\n",
        "# Margin will cause data leakage\n",
        "features = train.columns.drop(['Unnamed: 0', 'Winner', 'Scorecard', 'Match_Date', 'Margin'])"
      ],
      "execution_count": 0,
      "outputs": []
    },
    {
      "cell_type": "code",
      "metadata": {
        "id": "ZluD9QuweODT",
        "colab_type": "code",
        "outputId": "d705f6e1-4644-42b1-ae77-fae6e8d180ee",
        "colab": {
          "base_uri": "https://localhost:8080/",
          "height": 34
        }
      },
      "source": [
        "target"
      ],
      "execution_count": 0,
      "outputs": [
        {
          "output_type": "execute_result",
          "data": {
            "text/plain": [
              "'Winner'"
            ]
          },
          "metadata": {
            "tags": []
          },
          "execution_count": 25
        }
      ]
    },
    {
      "cell_type": "code",
      "metadata": {
        "id": "361SXV0ae2Cx",
        "colab_type": "code",
        "outputId": "8655339f-bcea-4d21-91b9-8751cd975a65",
        "colab": {
          "base_uri": "https://localhost:8080/",
          "height": 84
        }
      },
      "source": [
        "features"
      ],
      "execution_count": 0,
      "outputs": [
        {
          "output_type": "execute_result",
          "data": {
            "text/plain": [
              "Index(['Team_1', 'Team_2', 'Ground', 'Host_Country', 'Venue_Team1',\n",
              "       'Venue_Team2', 'Innings_Team1', 'Innings_Team2', 'played_at_home',\n",
              "       'played_at_Pakistan', 'Played_in_neutral'],\n",
              "      dtype='object')"
            ]
          },
          "metadata": {
            "tags": []
          },
          "execution_count": 26
        }
      ]
    },
    {
      "cell_type": "code",
      "metadata": {
        "id": "97aHU23Je3bQ",
        "colab_type": "code",
        "colab": {}
      },
      "source": [
        "X_train = train[features]\n",
        "y_train = train[target]\n",
        "X_val = val[features]\n",
        "y_val = val[target]\n",
        "X_test = test[features]\n",
        "y_test = test[target]"
      ],
      "execution_count": 0,
      "outputs": []
    },
    {
      "cell_type": "markdown",
      "metadata": {
        "id": "Wn1F192CffZG",
        "colab_type": "text"
      },
      "source": [
        "# Pipeline"
      ]
    },
    {
      "cell_type": "code",
      "metadata": {
        "id": "HSBga_-dfcdY",
        "colab_type": "code",
        "colab": {}
      },
      "source": [
        "import category_encoders as ce\n",
        "from sklearn.pipeline import make_pipeline\n",
        "from sklearn.ensemble import RandomForestClassifier"
      ],
      "execution_count": 0,
      "outputs": []
    },
    {
      "cell_type": "code",
      "metadata": {
        "id": "FWRNsJuFfjgd",
        "colab_type": "code",
        "outputId": "170c9c4a-e264-480a-d457-b2bc50e39ea8",
        "colab": {
          "base_uri": "https://localhost:8080/",
          "height": 386
        }
      },
      "source": [
        "pipeline = make_pipeline(\n",
        "    ce.OneHotEncoder(use_cat_names= True),\n",
        "    RandomForestClassifier(random_state = 42)\n",
        "\n",
        ")\n",
        "pipeline.fit(X_train, y_train)"
      ],
      "execution_count": 0,
      "outputs": [
        {
          "output_type": "execute_result",
          "data": {
            "text/plain": [
              "Pipeline(memory=None,\n",
              "         steps=[('onehotencoder',\n",
              "                 OneHotEncoder(cols=['Team_1', 'Team_2', 'Ground',\n",
              "                                     'Host_Country', 'Venue_Team1',\n",
              "                                     'Venue_Team2', 'Innings_Team1',\n",
              "                                     'Innings_Team2'],\n",
              "                               drop_invariant=False, handle_missing='value',\n",
              "                               handle_unknown='value', return_df=True,\n",
              "                               use_cat_names=True, verbose=0)),\n",
              "                ('randomforestclassifier',\n",
              "                 RandomForestClassifier(bootstrap=True, ccp_alpha=0.0,\n",
              "                                        class_weight=None, criterion='gini',\n",
              "                                        max_depth=None, max_features='auto',\n",
              "                                        max_leaf_nodes=None, max_samples=None,\n",
              "                                        min_impurity_decrease=0.0,\n",
              "                                        min_impurity_split=None,\n",
              "                                        min_samples_leaf=1, min_samples_split=2,\n",
              "                                        min_weight_fraction_leaf=0.0,\n",
              "                                        n_estimators=100, n_jobs=None,\n",
              "                                        oob_score=False, random_state=42,\n",
              "                                        verbose=0, warm_start=False))],\n",
              "         verbose=False)"
            ]
          },
          "metadata": {
            "tags": []
          },
          "execution_count": 29
        }
      ]
    },
    {
      "cell_type": "markdown",
      "metadata": {
        "id": "ARp0C7Sgfo_N",
        "colab_type": "text"
      },
      "source": [
        "# Validation accuracy"
      ]
    },
    {
      "cell_type": "code",
      "metadata": {
        "id": "ngeVVSkKflgp",
        "colab_type": "code",
        "colab": {}
      },
      "source": [
        "from sklearn.metrics import accuracy_score"
      ],
      "execution_count": 0,
      "outputs": []
    },
    {
      "cell_type": "code",
      "metadata": {
        "id": "sTQlnMjlftin",
        "colab_type": "code",
        "colab": {}
      },
      "source": [
        "y_pred_val = pipeline.predict(X_val)"
      ],
      "execution_count": 0,
      "outputs": []
    },
    {
      "cell_type": "code",
      "metadata": {
        "id": "2Pw6zaRFfvj7",
        "colab_type": "code",
        "outputId": "f85528fa-16c7-4a26-dc8c-09f3077ec7ce",
        "colab": {
          "base_uri": "https://localhost:8080/",
          "height": 34
        }
      },
      "source": [
        "accuracy_score(y_val, y_pred_val)"
      ],
      "execution_count": 0,
      "outputs": [
        {
          "output_type": "execute_result",
          "data": {
            "text/plain": [
              "0.625"
            ]
          },
          "metadata": {
            "tags": []
          },
          "execution_count": 32
        }
      ]
    },
    {
      "cell_type": "markdown",
      "metadata": {
        "id": "rXp-p8Xwf5w_",
        "colab_type": "text"
      },
      "source": [
        "# test accuracy"
      ]
    },
    {
      "cell_type": "code",
      "metadata": {
        "id": "JimjByfSfxFR",
        "colab_type": "code",
        "colab": {}
      },
      "source": [
        "y_pred_test = pipeline.predict(X_test)"
      ],
      "execution_count": 0,
      "outputs": []
    },
    {
      "cell_type": "code",
      "metadata": {
        "id": "55WGVsirf9YE",
        "colab_type": "code",
        "outputId": "42c240df-0b9a-45b1-8213-e9da46203188",
        "colab": {
          "base_uri": "https://localhost:8080/",
          "height": 34
        }
      },
      "source": [
        "accuracy_score(y_test, y_pred_test)"
      ],
      "execution_count": 0,
      "outputs": [
        {
          "output_type": "execute_result",
          "data": {
            "text/plain": [
              "0.5"
            ]
          },
          "metadata": {
            "tags": []
          },
          "execution_count": 34
        }
      ]
    },
    {
      "cell_type": "code",
      "metadata": {
        "id": "9pBreYFff_Ei",
        "colab_type": "code",
        "colab": {}
      },
      "source": [
        "# Prediction is too good, need re-check"
      ],
      "execution_count": 0,
      "outputs": []
    },
    {
      "cell_type": "code",
      "metadata": {
        "id": "RIsoxC-Ol6k-",
        "colab_type": "code",
        "colab": {}
      },
      "source": [
        "# This time prediction is worse than baseline prediction."
      ],
      "execution_count": 0,
      "outputs": []
    }
  ]
}