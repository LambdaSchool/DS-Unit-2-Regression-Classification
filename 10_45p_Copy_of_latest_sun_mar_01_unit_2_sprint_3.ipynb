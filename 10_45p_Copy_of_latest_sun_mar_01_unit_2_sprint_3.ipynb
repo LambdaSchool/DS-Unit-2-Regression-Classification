{
  "nbformat": 4,
  "nbformat_minor": 0,
  "metadata": {
    "kernelspec": {
      "display_name": "Python 3",
      "language": "python",
      "name": "python3"
    },
    "language_info": {
      "codemirror_mode": {
        "name": "ipython",
        "version": 3
      },
      "file_extension": ".py",
      "mimetype": "text/x-python",
      "name": "python",
      "nbconvert_exporter": "python",
      "pygments_lexer": "ipython3",
      "version": "3.7.2"
    },
    "colab": {
      "name": "10:45p Copy of latest_sun_mar_01_unit_2_sprint_3.ipynb",
      "provenance": [],
      "collapsed_sections": [],
      "include_colab_link": true
    }
  },
  "cells": [
    {
      "cell_type": "markdown",
      "metadata": {
        "id": "view-in-github",
        "colab_type": "text"
      },
      "source": [
        "<a href=\"https://colab.research.google.com/github/LambdaTheda/DS-Unit-2-Linear-Models/blob/master/10_45p_Copy_of_latest_sun_mar_01_unit_2_sprint_3.ipynb\" target=\"_parent\"><img src=\"https://colab.research.google.com/assets/colab-badge.svg\" alt=\"Open In Colab\"/></a>"
      ]
    },
    {
      "cell_type": "markdown",
      "metadata": {
        "colab_type": "text",
        "id": "Kz9V5lVFMo86"
      },
      "source": [
        "_Lambda School Data Science, Unit 2_\n",
        "\n",
        "# Applied Modeling Sprint Challenge: Predict Chicago food inspections 🍕"
      ]
    },
    {
      "cell_type": "markdown",
      "metadata": {
        "colab_type": "text",
        "id": "yWOjtM9iMo87"
      },
      "source": [
        "For this Sprint Challenge, you'll use a dataset with information from inspections of restaurants and other food establishments in Chicago from January 2010 to March 2019. \n",
        "\n",
        "[See this PDF](https://data.cityofchicago.org/api/assets/BAD5301B-681A-4202-9D25-51B2CAE672FF) for descriptions of the data elements included in this dataset.\n",
        "\n",
        "According to [Chicago Department of Public Health — Food Protection Services](https://www.chicago.gov/city/en/depts/cdph/provdrs/healthy_restaurants/svcs/food-protection-services.html), \"Chicago is home to 16,000 food establishments like restaurants, grocery stores, bakeries, wholesalers, lunchrooms, mobile food vendors and more. Our business is food safety and sanitation with one goal, to prevent the spread of food-borne disease. We do this by inspecting food businesses, responding to complaints and food recalls.\" "
      ]
    },
    {
      "cell_type": "markdown",
      "metadata": {
        "colab_type": "text",
        "id": "VvBYdx2xMo88"
      },
      "source": [
        "#### Your challenge: Predict whether inspections failed\n",
        "\n",
        "The target is the `Fail` column.\n",
        "\n",
        "- When the food establishment failed the inspection, the target is `1`.\n",
        "- When the establishment passed, the target is `0`."
      ]
    },
    {
      "cell_type": "markdown",
      "metadata": {
        "colab_type": "text",
        "id": "3YMtu4LaF8Jq"
      },
      "source": [
        "#### Run this cell to install packages in Colab:"
      ]
    },
    {
      "cell_type": "code",
      "metadata": {
        "colab_type": "code",
        "id": "vWyiJKQgF6ax",
        "colab": {}
      },
      "source": [
        "%%capture\n",
        "import sys\n",
        "\n",
        "if 'google.colab' in sys.modules:\n",
        "    # Install packages in Colab\n",
        "    !pip install category_encoders==2.*\n",
        "    !pip install eli5\n",
        "    !pip install pandas-profiling==2.*\n",
        "    !pip install pdpbox\n",
        "    !pip install shap"
      ],
      "execution_count": 0,
      "outputs": []
    },
    {
      "cell_type": "markdown",
      "metadata": {
        "colab_type": "text",
        "id": "Na5IvRq1Mo89"
      },
      "source": [
        "#### Run this cell to load the data:"
      ]
    },
    {
      "cell_type": "code",
      "metadata": {
        "colab_type": "code",
        "id": "Yyc7zftTMo89",
        "colab": {}
      },
      "source": [
        "import pandas as pd\n",
        "\n",
        "train_url = 'https://drive.google.com/uc?export=download&id=13_tP9JpLcZHSPVpWcua4t2rY44K_s4H5'\n",
        "test_url  = 'https://drive.google.com/uc?export=download&id=1GkDHjsiGrzOXoF_xcYjdzBTSjOIi3g5a'\n",
        "\n",
        "train = pd.read_csv(train_url)\n",
        "test  = pd.read_csv(test_url)\n",
        "\n",
        "assert train.shape == (51916, 17)\n",
        "assert test.shape  == (17306, 17)"
      ],
      "execution_count": 0,
      "outputs": []
    },
    {
      "cell_type": "markdown",
      "metadata": {
        "colab_type": "text",
        "id": "8EhbzqgfMo9A"
      },
      "source": [
        "### Part 1: Preprocessing\n",
        "\n",
        "You may choose which features you want to use, and whether/how you will preprocess them. If you use categorical features, you may use any tools and techniques for encoding.\n",
        "\n",
        "_To earn a score of 3 for this part, find and explain leakage. The dataset has a feature that will give you an ROC AUC score > 0.90 if you process and use the feature. Find the leakage and explain why the feature shouldn't be used in a real-world model to predict the results of future inspections._\n",
        "\n",
        "### Part 2: Modeling\n",
        "\n",
        "**Fit a model** with the train set. (You may use scikit-learn, xgboost, or any other library.) Use cross-validation or do a three-way split (train/validate/test) and **estimate your ROC AUC** validation score.\n",
        "\n",
        "Use your model to **predict probabilities** for the test set. **Get an ROC AUC test score >= 0.60.**\n",
        "\n",
        "_To earn a score of 3 for this part, get an ROC AUC test score >= 0.70 (without using the feature with leakage)._\n",
        "\n",
        "\n",
        "### Part 3: Visualization\n",
        "\n",
        "Make visualizations for model interpretation. (You may use any libraries.) Choose two of these types:\n",
        "\n",
        "- Confusion Matrix\n",
        "- Permutation Importances\n",
        "- Partial Dependence Plot, 1 feature isolation\n",
        "- Partial Dependence Plot, 2 features interaction\n",
        "- Shapley Values\n",
        "\n",
        "_To earn a score of 3 for this part, make four of these visualization types._"
      ]
    },
    {
      "cell_type": "markdown",
      "metadata": {
        "colab_type": "text",
        "id": "muEIQ4EPGVH_"
      },
      "source": [
        "## Part 1: Preprocessing\n",
        "\n",
        "> You may choose which features you want to use, and whether/how you will preprocess them. If you use categorical features, you may use any tools and techniques for encoding."
      ]
    },
    {
      "cell_type": "code",
      "metadata": {
        "id": "9f6Jf-9klFrI",
        "colab_type": "code",
        "colab": {}
      },
      "source": [
        "# Exploratory Data Analyses"
      ],
      "execution_count": 0,
      "outputs": []
    },
    {
      "cell_type": "code",
      "metadata": {
        "colab_type": "code",
        "id": "Ao1PDJtpIWwp",
        "outputId": "1fdda746-b1ba-4b48-ee89-c58eb0caeec0",
        "colab": {
          "base_uri": "https://localhost:8080/",
          "height": 297
        }
      },
      "source": [
        "train.describe()"
      ],
      "execution_count": 5,
      "outputs": [
        {
          "output_type": "execute_result",
          "data": {
            "text/html": [
              "<div>\n",
              "<style scoped>\n",
              "    .dataframe tbody tr th:only-of-type {\n",
              "        vertical-align: middle;\n",
              "    }\n",
              "\n",
              "    .dataframe tbody tr th {\n",
              "        vertical-align: top;\n",
              "    }\n",
              "\n",
              "    .dataframe thead th {\n",
              "        text-align: right;\n",
              "    }\n",
              "</style>\n",
              "<table border=\"1\" class=\"dataframe\">\n",
              "  <thead>\n",
              "    <tr style=\"text-align: right;\">\n",
              "      <th></th>\n",
              "      <th>Inspection ID</th>\n",
              "      <th>License #</th>\n",
              "      <th>Zip</th>\n",
              "      <th>Latitude</th>\n",
              "      <th>Longitude</th>\n",
              "      <th>Fail</th>\n",
              "    </tr>\n",
              "  </thead>\n",
              "  <tbody>\n",
              "    <tr>\n",
              "      <th>count</th>\n",
              "      <td>5.191600e+04</td>\n",
              "      <td>5.191100e+04</td>\n",
              "      <td>51890.000000</td>\n",
              "      <td>51718.000000</td>\n",
              "      <td>51718.000000</td>\n",
              "      <td>51916.000000</td>\n",
              "    </tr>\n",
              "    <tr>\n",
              "      <th>mean</th>\n",
              "      <td>1.330265e+06</td>\n",
              "      <td>1.549491e+06</td>\n",
              "      <td>60628.834669</td>\n",
              "      <td>41.879568</td>\n",
              "      <td>-87.676663</td>\n",
              "      <td>0.258610</td>\n",
              "    </tr>\n",
              "    <tr>\n",
              "      <th>std</th>\n",
              "      <td>6.202664e+05</td>\n",
              "      <td>9.018283e+05</td>\n",
              "      <td>22.736963</td>\n",
              "      <td>0.081126</td>\n",
              "      <td>0.059509</td>\n",
              "      <td>0.437875</td>\n",
              "    </tr>\n",
              "    <tr>\n",
              "      <th>min</th>\n",
              "      <td>4.425000e+04</td>\n",
              "      <td>0.000000e+00</td>\n",
              "      <td>60007.000000</td>\n",
              "      <td>41.644670</td>\n",
              "      <td>-87.914428</td>\n",
              "      <td>0.000000</td>\n",
              "    </tr>\n",
              "    <tr>\n",
              "      <th>25%</th>\n",
              "      <td>6.796205e+05</td>\n",
              "      <td>1.140745e+06</td>\n",
              "      <td>60614.000000</td>\n",
              "      <td>41.830296</td>\n",
              "      <td>-87.707857</td>\n",
              "      <td>0.000000</td>\n",
              "    </tr>\n",
              "    <tr>\n",
              "      <th>50%</th>\n",
              "      <td>1.424226e+06</td>\n",
              "      <td>1.958619e+06</td>\n",
              "      <td>60625.000000</td>\n",
              "      <td>41.890166</td>\n",
              "      <td>-87.666524</td>\n",
              "      <td>0.000000</td>\n",
              "    </tr>\n",
              "    <tr>\n",
              "      <th>75%</th>\n",
              "      <td>1.946952e+06</td>\n",
              "      <td>2.215507e+06</td>\n",
              "      <td>60643.000000</td>\n",
              "      <td>41.939167</td>\n",
              "      <td>-87.634461</td>\n",
              "      <td>1.000000</td>\n",
              "    </tr>\n",
              "    <tr>\n",
              "      <th>max</th>\n",
              "      <td>2.279709e+06</td>\n",
              "      <td>8.700606e+06</td>\n",
              "      <td>60827.000000</td>\n",
              "      <td>42.021064</td>\n",
              "      <td>-87.525094</td>\n",
              "      <td>1.000000</td>\n",
              "    </tr>\n",
              "  </tbody>\n",
              "</table>\n",
              "</div>"
            ],
            "text/plain": [
              "       Inspection ID     License #  ...     Longitude          Fail\n",
              "count   5.191600e+04  5.191100e+04  ...  51718.000000  51916.000000\n",
              "mean    1.330265e+06  1.549491e+06  ...    -87.676663      0.258610\n",
              "std     6.202664e+05  9.018283e+05  ...      0.059509      0.437875\n",
              "min     4.425000e+04  0.000000e+00  ...    -87.914428      0.000000\n",
              "25%     6.796205e+05  1.140745e+06  ...    -87.707857      0.000000\n",
              "50%     1.424226e+06  1.958619e+06  ...    -87.666524      0.000000\n",
              "75%     1.946952e+06  2.215507e+06  ...    -87.634461      1.000000\n",
              "max     2.279709e+06  8.700606e+06  ...    -87.525094      1.000000\n",
              "\n",
              "[8 rows x 6 columns]"
            ]
          },
          "metadata": {
            "tags": []
          },
          "execution_count": 5
        }
      ]
    },
    {
      "cell_type": "code",
      "metadata": {
        "id": "C_WqAiBt_g4V",
        "colab_type": "code",
        "outputId": "a2a18406-4b45-458f-eeec-9a1ab0d0310c",
        "colab": {
          "base_uri": "https://localhost:8080/",
          "height": 297
        }
      },
      "source": [
        "test.describe()"
      ],
      "execution_count": 6,
      "outputs": [
        {
          "output_type": "execute_result",
          "data": {
            "text/html": [
              "<div>\n",
              "<style scoped>\n",
              "    .dataframe tbody tr th:only-of-type {\n",
              "        vertical-align: middle;\n",
              "    }\n",
              "\n",
              "    .dataframe tbody tr th {\n",
              "        vertical-align: top;\n",
              "    }\n",
              "\n",
              "    .dataframe thead th {\n",
              "        text-align: right;\n",
              "    }\n",
              "</style>\n",
              "<table border=\"1\" class=\"dataframe\">\n",
              "  <thead>\n",
              "    <tr style=\"text-align: right;\">\n",
              "      <th></th>\n",
              "      <th>Inspection ID</th>\n",
              "      <th>License #</th>\n",
              "      <th>Zip</th>\n",
              "      <th>Latitude</th>\n",
              "      <th>Longitude</th>\n",
              "      <th>Fail</th>\n",
              "    </tr>\n",
              "  </thead>\n",
              "  <tbody>\n",
              "    <tr>\n",
              "      <th>count</th>\n",
              "      <td>1.730600e+04</td>\n",
              "      <td>1.730400e+04</td>\n",
              "      <td>17298.000000</td>\n",
              "      <td>17245.000000</td>\n",
              "      <td>17245.000000</td>\n",
              "      <td>17306.000000</td>\n",
              "    </tr>\n",
              "    <tr>\n",
              "      <th>mean</th>\n",
              "      <td>1.323403e+06</td>\n",
              "      <td>1.562543e+06</td>\n",
              "      <td>60628.920338</td>\n",
              "      <td>41.879518</td>\n",
              "      <td>-87.676646</td>\n",
              "      <td>0.258581</td>\n",
              "    </tr>\n",
              "    <tr>\n",
              "      <th>std</th>\n",
              "      <td>6.240521e+05</td>\n",
              "      <td>8.947393e+05</td>\n",
              "      <td>23.462366</td>\n",
              "      <td>0.080895</td>\n",
              "      <td>0.059617</td>\n",
              "      <td>0.437867</td>\n",
              "    </tr>\n",
              "    <tr>\n",
              "      <th>min</th>\n",
              "      <td>4.426100e+04</td>\n",
              "      <td>0.000000e+00</td>\n",
              "      <td>60007.000000</td>\n",
              "      <td>41.644670</td>\n",
              "      <td>-87.914428</td>\n",
              "      <td>0.000000</td>\n",
              "    </tr>\n",
              "    <tr>\n",
              "      <th>25%</th>\n",
              "      <td>6.709562e+05</td>\n",
              "      <td>1.145506e+06</td>\n",
              "      <td>60614.000000</td>\n",
              "      <td>41.830619</td>\n",
              "      <td>-87.708016</td>\n",
              "      <td>0.000000</td>\n",
              "    </tr>\n",
              "    <tr>\n",
              "      <th>50%</th>\n",
              "      <td>1.418794e+06</td>\n",
              "      <td>1.964748e+06</td>\n",
              "      <td>60625.000000</td>\n",
              "      <td>41.890300</td>\n",
              "      <td>-87.666898</td>\n",
              "      <td>0.000000</td>\n",
              "    </tr>\n",
              "    <tr>\n",
              "      <th>75%</th>\n",
              "      <td>1.946488e+06</td>\n",
              "      <td>2.208688e+06</td>\n",
              "      <td>60643.000000</td>\n",
              "      <td>41.938989</td>\n",
              "      <td>-87.634501</td>\n",
              "      <td>1.000000</td>\n",
              "    </tr>\n",
              "    <tr>\n",
              "      <th>max</th>\n",
              "      <td>2.279564e+06</td>\n",
              "      <td>3.759896e+06</td>\n",
              "      <td>60827.000000</td>\n",
              "      <td>42.021064</td>\n",
              "      <td>-87.525872</td>\n",
              "      <td>1.000000</td>\n",
              "    </tr>\n",
              "  </tbody>\n",
              "</table>\n",
              "</div>"
            ],
            "text/plain": [
              "       Inspection ID     License #  ...     Longitude          Fail\n",
              "count   1.730600e+04  1.730400e+04  ...  17245.000000  17306.000000\n",
              "mean    1.323403e+06  1.562543e+06  ...    -87.676646      0.258581\n",
              "std     6.240521e+05  8.947393e+05  ...      0.059617      0.437867\n",
              "min     4.426100e+04  0.000000e+00  ...    -87.914428      0.000000\n",
              "25%     6.709562e+05  1.145506e+06  ...    -87.708016      0.000000\n",
              "50%     1.418794e+06  1.964748e+06  ...    -87.666898      0.000000\n",
              "75%     1.946488e+06  2.208688e+06  ...    -87.634501      1.000000\n",
              "max     2.279564e+06  3.759896e+06  ...    -87.525872      1.000000\n",
              "\n",
              "[8 rows x 6 columns]"
            ]
          },
          "metadata": {
            "tags": []
          },
          "execution_count": 6
        }
      ]
    },
    {
      "cell_type": "code",
      "metadata": {
        "id": "HndYgkx5_qU9",
        "colab_type": "code",
        "outputId": "3a6cbdec-5713-46f4-961c-2937da47ee3b",
        "colab": {
          "base_uri": "https://localhost:8080/",
          "height": 581
        }
      },
      "source": [
        "train.head()"
      ],
      "execution_count": 7,
      "outputs": [
        {
          "output_type": "execute_result",
          "data": {
            "text/html": [
              "<div>\n",
              "<style scoped>\n",
              "    .dataframe tbody tr th:only-of-type {\n",
              "        vertical-align: middle;\n",
              "    }\n",
              "\n",
              "    .dataframe tbody tr th {\n",
              "        vertical-align: top;\n",
              "    }\n",
              "\n",
              "    .dataframe thead th {\n",
              "        text-align: right;\n",
              "    }\n",
              "</style>\n",
              "<table border=\"1\" class=\"dataframe\">\n",
              "  <thead>\n",
              "    <tr style=\"text-align: right;\">\n",
              "      <th></th>\n",
              "      <th>Inspection ID</th>\n",
              "      <th>DBA Name</th>\n",
              "      <th>AKA Name</th>\n",
              "      <th>License #</th>\n",
              "      <th>Facility Type</th>\n",
              "      <th>Risk</th>\n",
              "      <th>Address</th>\n",
              "      <th>City</th>\n",
              "      <th>State</th>\n",
              "      <th>Zip</th>\n",
              "      <th>Inspection Date</th>\n",
              "      <th>Inspection Type</th>\n",
              "      <th>Violations</th>\n",
              "      <th>Latitude</th>\n",
              "      <th>Longitude</th>\n",
              "      <th>Location</th>\n",
              "      <th>Fail</th>\n",
              "    </tr>\n",
              "  </thead>\n",
              "  <tbody>\n",
              "    <tr>\n",
              "      <th>0</th>\n",
              "      <td>2088270</td>\n",
              "      <td>TOM YUM RICE &amp; NOODLE, INC.</td>\n",
              "      <td>TOM YUM CAFE</td>\n",
              "      <td>2354911.0</td>\n",
              "      <td>Restaurant</td>\n",
              "      <td>Risk 1 (High)</td>\n",
              "      <td>608 W BARRY</td>\n",
              "      <td>CHICAGO</td>\n",
              "      <td>IL</td>\n",
              "      <td>60657.0</td>\n",
              "      <td>2017-09-15T00:00:00</td>\n",
              "      <td>Canvass</td>\n",
              "      <td>3. POTENTIALLY HAZARDOUS FOOD MEETS TEMPERATUR...</td>\n",
              "      <td>41.938007</td>\n",
              "      <td>-87.644755</td>\n",
              "      <td>{'longitude': '-87.6447545707008', 'latitude':...</td>\n",
              "      <td>1</td>\n",
              "    </tr>\n",
              "    <tr>\n",
              "      <th>1</th>\n",
              "      <td>555268</td>\n",
              "      <td>FILLING STATION  &amp; CONVENIENCE  STORE</td>\n",
              "      <td>FILLING STATION  &amp; CONVENIENCE  STORE</td>\n",
              "      <td>1044901.0</td>\n",
              "      <td>Grocery Store</td>\n",
              "      <td>Risk 3 (Low)</td>\n",
              "      <td>6646-6658 S WESTERN AVE</td>\n",
              "      <td>CHICAGO</td>\n",
              "      <td>IL</td>\n",
              "      <td>60636.0</td>\n",
              "      <td>2011-10-20T00:00:00</td>\n",
              "      <td>Complaint Re-Inspection</td>\n",
              "      <td>32. FOOD AND NON-FOOD CONTACT SURFACES PROPERL...</td>\n",
              "      <td>41.772402</td>\n",
              "      <td>-87.683603</td>\n",
              "      <td>{'longitude': '-87.68360273081268', 'latitude'...</td>\n",
              "      <td>0</td>\n",
              "    </tr>\n",
              "    <tr>\n",
              "      <th>2</th>\n",
              "      <td>1751394</td>\n",
              "      <td>A P DELI</td>\n",
              "      <td>A P DELI</td>\n",
              "      <td>47405.0</td>\n",
              "      <td>Restaurant</td>\n",
              "      <td>Risk 1 (High)</td>\n",
              "      <td>2025 E 75TH ST</td>\n",
              "      <td>CHICAGO</td>\n",
              "      <td>IL</td>\n",
              "      <td>60649.0</td>\n",
              "      <td>2016-04-05T00:00:00</td>\n",
              "      <td>Canvass Re-Inspection</td>\n",
              "      <td>35. WALLS, CEILINGS, ATTACHED EQUIPMENT CONSTR...</td>\n",
              "      <td>41.758779</td>\n",
              "      <td>-87.575054</td>\n",
              "      <td>{'longitude': '-87.57505446746121', 'latitude'...</td>\n",
              "      <td>0</td>\n",
              "    </tr>\n",
              "    <tr>\n",
              "      <th>3</th>\n",
              "      <td>1763905</td>\n",
              "      <td>FRANK'S CHICAGO SHRIMP HOUSE</td>\n",
              "      <td>FRANK'S CHICAGO SHRIMP HOUSE</td>\n",
              "      <td>6414.0</td>\n",
              "      <td>Restaurant</td>\n",
              "      <td>Risk 2 (Medium)</td>\n",
              "      <td>4459 S ARCHER AVE</td>\n",
              "      <td>CHICAGO</td>\n",
              "      <td>IL</td>\n",
              "      <td>60632.0</td>\n",
              "      <td>2016-04-29T00:00:00</td>\n",
              "      <td>Canvass</td>\n",
              "      <td>38. VENTILATION: ROOMS AND EQUIPMENT VENTED AS...</td>\n",
              "      <td>41.812181</td>\n",
              "      <td>-87.707125</td>\n",
              "      <td>{'longitude': '-87.70712481334274', 'latitude'...</td>\n",
              "      <td>0</td>\n",
              "    </tr>\n",
              "    <tr>\n",
              "      <th>4</th>\n",
              "      <td>453326</td>\n",
              "      <td>MORRILL</td>\n",
              "      <td>MORRILL</td>\n",
              "      <td>24571.0</td>\n",
              "      <td>School</td>\n",
              "      <td>Risk 1 (High)</td>\n",
              "      <td>6011 S Rockwell (2600W) AVE</td>\n",
              "      <td>CHICAGO</td>\n",
              "      <td>IL</td>\n",
              "      <td>60629.0</td>\n",
              "      <td>2011-01-10T00:00:00</td>\n",
              "      <td>Canvass</td>\n",
              "      <td>34. FLOORS: CONSTRUCTED PER CODE, CLEANED, GOO...</td>\n",
              "      <td>NaN</td>\n",
              "      <td>NaN</td>\n",
              "      <td>NaN</td>\n",
              "      <td>0</td>\n",
              "    </tr>\n",
              "  </tbody>\n",
              "</table>\n",
              "</div>"
            ],
            "text/plain": [
              "   Inspection ID  ... Fail\n",
              "0        2088270  ...    1\n",
              "1         555268  ...    0\n",
              "2        1751394  ...    0\n",
              "3        1763905  ...    0\n",
              "4         453326  ...    0\n",
              "\n",
              "[5 rows x 17 columns]"
            ]
          },
          "metadata": {
            "tags": []
          },
          "execution_count": 7
        }
      ]
    },
    {
      "cell_type": "code",
      "metadata": {
        "id": "h4yC9NEw_vof",
        "colab_type": "code",
        "outputId": "ada56bf6-6730-46f4-987d-dbc1758a711a",
        "colab": {
          "base_uri": "https://localhost:8080/",
          "height": 581
        }
      },
      "source": [
        "test.head()"
      ],
      "execution_count": 8,
      "outputs": [
        {
          "output_type": "execute_result",
          "data": {
            "text/html": [
              "<div>\n",
              "<style scoped>\n",
              "    .dataframe tbody tr th:only-of-type {\n",
              "        vertical-align: middle;\n",
              "    }\n",
              "\n",
              "    .dataframe tbody tr th {\n",
              "        vertical-align: top;\n",
              "    }\n",
              "\n",
              "    .dataframe thead th {\n",
              "        text-align: right;\n",
              "    }\n",
              "</style>\n",
              "<table border=\"1\" class=\"dataframe\">\n",
              "  <thead>\n",
              "    <tr style=\"text-align: right;\">\n",
              "      <th></th>\n",
              "      <th>Inspection ID</th>\n",
              "      <th>DBA Name</th>\n",
              "      <th>AKA Name</th>\n",
              "      <th>License #</th>\n",
              "      <th>Facility Type</th>\n",
              "      <th>Risk</th>\n",
              "      <th>Address</th>\n",
              "      <th>City</th>\n",
              "      <th>State</th>\n",
              "      <th>Zip</th>\n",
              "      <th>Inspection Date</th>\n",
              "      <th>Inspection Type</th>\n",
              "      <th>Violations</th>\n",
              "      <th>Latitude</th>\n",
              "      <th>Longitude</th>\n",
              "      <th>Location</th>\n",
              "      <th>Fail</th>\n",
              "    </tr>\n",
              "  </thead>\n",
              "  <tbody>\n",
              "    <tr>\n",
              "      <th>0</th>\n",
              "      <td>114835</td>\n",
              "      <td>7 - ELEVEN</td>\n",
              "      <td>7 - ELEVEN</td>\n",
              "      <td>46907.0</td>\n",
              "      <td>Grocery Store</td>\n",
              "      <td>Risk 2 (Medium)</td>\n",
              "      <td>600 S DEARBORN</td>\n",
              "      <td>CHICAGO</td>\n",
              "      <td>IL</td>\n",
              "      <td>60605.0</td>\n",
              "      <td>2011-03-22T00:00:00</td>\n",
              "      <td>Canvass</td>\n",
              "      <td>33. FOOD AND NON-FOOD CONTACT EQUIPMENT UTENSI...</td>\n",
              "      <td>41.874481</td>\n",
              "      <td>-87.629357</td>\n",
              "      <td>{'longitude': '-87.62935653990546', 'latitude'...</td>\n",
              "      <td>0</td>\n",
              "    </tr>\n",
              "    <tr>\n",
              "      <th>1</th>\n",
              "      <td>1575555</td>\n",
              "      <td>TAQUERIA LOS GALLOS INC</td>\n",
              "      <td>TAQUERIA LOS GALLOS</td>\n",
              "      <td>1044860.0</td>\n",
              "      <td>Restaurant</td>\n",
              "      <td>Risk 1 (High)</td>\n",
              "      <td>4209-4211 W 26TH ST</td>\n",
              "      <td>CHICAGO</td>\n",
              "      <td>IL</td>\n",
              "      <td>60623.0</td>\n",
              "      <td>2015-09-15T00:00:00</td>\n",
              "      <td>Canvass</td>\n",
              "      <td>30. FOOD IN ORIGINAL CONTAINER, PROPERLY LABEL...</td>\n",
              "      <td>41.844070</td>\n",
              "      <td>-87.729807</td>\n",
              "      <td>{'longitude': '-87.72980747367433', 'latitude'...</td>\n",
              "      <td>0</td>\n",
              "    </tr>\n",
              "    <tr>\n",
              "      <th>2</th>\n",
              "      <td>671061</td>\n",
              "      <td>TROTTER'S TO GO</td>\n",
              "      <td>TROTTER'S TO GO</td>\n",
              "      <td>1092634.0</td>\n",
              "      <td>Restaurant</td>\n",
              "      <td>Risk 1 (High)</td>\n",
              "      <td>1337 W FULLERTON AVE</td>\n",
              "      <td>CHICAGO</td>\n",
              "      <td>IL</td>\n",
              "      <td>60614.0</td>\n",
              "      <td>2012-03-02T00:00:00</td>\n",
              "      <td>Canvass</td>\n",
              "      <td>34. FLOORS: CONSTRUCTED PER CODE, CLEANED, GOO...</td>\n",
              "      <td>41.925128</td>\n",
              "      <td>-87.662041</td>\n",
              "      <td>{'longitude': '-87.66204067083224', 'latitude'...</td>\n",
              "      <td>0</td>\n",
              "    </tr>\n",
              "    <tr>\n",
              "      <th>3</th>\n",
              "      <td>1965844</td>\n",
              "      <td>BIG G'S PIZZA</td>\n",
              "      <td>BIG G'S PIZZA</td>\n",
              "      <td>2334691.0</td>\n",
              "      <td>Restaurant</td>\n",
              "      <td>Risk 1 (High)</td>\n",
              "      <td>1132 W TAYLOR ST</td>\n",
              "      <td>CHICAGO</td>\n",
              "      <td>IL</td>\n",
              "      <td>60607.0</td>\n",
              "      <td>2016-10-04T00:00:00</td>\n",
              "      <td>Canvass Re-Inspection</td>\n",
              "      <td>14. PREVIOUS SERIOUS VIOLATION CORRECTED, 7-42...</td>\n",
              "      <td>41.869546</td>\n",
              "      <td>-87.655501</td>\n",
              "      <td>{'longitude': '-87.65550098867566', 'latitude'...</td>\n",
              "      <td>1</td>\n",
              "    </tr>\n",
              "    <tr>\n",
              "      <th>4</th>\n",
              "      <td>1751669</td>\n",
              "      <td>SOUTH CENTRAL COMMUNITY SERVICES ELEMENTARY</td>\n",
              "      <td>SOUTH CENTRAL COMMUNITY SERVICES ELEMENTARY</td>\n",
              "      <td>3491970.0</td>\n",
              "      <td>School</td>\n",
              "      <td>Risk 2 (Medium)</td>\n",
              "      <td>1021 E 83RD</td>\n",
              "      <td>CHICAGO</td>\n",
              "      <td>IL</td>\n",
              "      <td>60619.0</td>\n",
              "      <td>2016-04-08T00:00:00</td>\n",
              "      <td>Canvass</td>\n",
              "      <td>18. NO EVIDENCE OF RODENT OR INSECT OUTER OPEN...</td>\n",
              "      <td>41.743933</td>\n",
              "      <td>-87.599291</td>\n",
              "      <td>{'longitude': '-87.59929083361996', 'latitude'...</td>\n",
              "      <td>1</td>\n",
              "    </tr>\n",
              "  </tbody>\n",
              "</table>\n",
              "</div>"
            ],
            "text/plain": [
              "   Inspection ID  ... Fail\n",
              "0         114835  ...    0\n",
              "1        1575555  ...    0\n",
              "2         671061  ...    0\n",
              "3        1965844  ...    1\n",
              "4        1751669  ...    1\n",
              "\n",
              "[5 rows x 17 columns]"
            ]
          },
          "metadata": {
            "tags": []
          },
          "execution_count": 8
        }
      ]
    },
    {
      "cell_type": "code",
      "metadata": {
        "id": "3FOPqsdaABHT",
        "colab_type": "code",
        "outputId": "7fe56241-92bf-4957-faba-0599ec5d1310",
        "colab": {
          "base_uri": "https://localhost:8080/",
          "height": 323
        }
      },
      "source": [
        "# check Nulls\n",
        "train.isnull().sum()"
      ],
      "execution_count": 9,
      "outputs": [
        {
          "output_type": "execute_result",
          "data": {
            "text/plain": [
              "Inspection ID         0\n",
              "DBA Name              0\n",
              "AKA Name            623\n",
              "License #             5\n",
              "Facility Type       224\n",
              "Risk                 12\n",
              "Address               0\n",
              "City                 53\n",
              "State                10\n",
              "Zip                  26\n",
              "Inspection Date       0\n",
              "Inspection Type       1\n",
              "Violations         9655\n",
              "Latitude            198\n",
              "Longitude           198\n",
              "Location            198\n",
              "Fail                  0\n",
              "dtype: int64"
            ]
          },
          "metadata": {
            "tags": []
          },
          "execution_count": 9
        }
      ]
    },
    {
      "cell_type": "code",
      "metadata": {
        "id": "TwbwbzXcAWe3",
        "colab_type": "code",
        "outputId": "8c1a3057-c505-4d33-a358-6167775dc093",
        "colab": {
          "base_uri": "https://localhost:8080/",
          "height": 323
        }
      },
      "source": [
        "test.isnull().sum()"
      ],
      "execution_count": 10,
      "outputs": [
        {
          "output_type": "execute_result",
          "data": {
            "text/plain": [
              "Inspection ID         0\n",
              "DBA Name              0\n",
              "AKA Name            222\n",
              "License #             2\n",
              "Facility Type        87\n",
              "Risk                  7\n",
              "Address               0\n",
              "City                 18\n",
              "State                 2\n",
              "Zip                   8\n",
              "Inspection Date       0\n",
              "Inspection Type       0\n",
              "Violations         3280\n",
              "Latitude             61\n",
              "Longitude            61\n",
              "Location             61\n",
              "Fail                  0\n",
              "dtype: int64"
            ]
          },
          "metadata": {
            "tags": []
          },
          "execution_count": 10
        }
      ]
    },
    {
      "cell_type": "code",
      "metadata": {
        "id": "ico0KzmzLws2",
        "colab_type": "code",
        "outputId": "674dd8b3-be6a-4695-fc20-cd9569c3e194",
        "colab": {
          "base_uri": "https://localhost:8080/",
          "height": 378
        }
      },
      "source": [
        "# check 'Fail' class imbalance via a Plot: Pass Vs Fail\n",
        "(train['Fail'].map({0: 'Passed', 1: 'Failed'}).value_counts(normalize=True) * 100)\\\n",
        "  .plot.bar(title='Percentages of Inspection Results', figsize=(10, 5))"
      ],
      "execution_count": 11,
      "outputs": [
        {
          "output_type": "execute_result",
          "data": {
            "text/plain": [
              "<matplotlib.axes._subplots.AxesSubplot at 0x7fd07bef5c50>"
            ]
          },
          "metadata": {
            "tags": []
          },
          "execution_count": 11
        },
        {
          "output_type": "display_data",
          "data": {
            "image/png": "[encoded data removed]",
            "text/plain": [
              "<Figure size 720x360 with 1 Axes>"
            ]
          },
          "metadata": {
            "tags": []
          }
        }
      ]
    },
    {
      "cell_type": "code",
      "metadata": {
        "id": "qmaEH4DtEUzz",
        "colab_type": "code",
        "colab": {}
      },
      "source": [
        "# Drop 'AKA Name' column in train set since I will use the \"DBA Name\" column and the former has nulls while the latter does not,\n",
        "# and both serve similar enough functions as a business identifier for my purposes\n",
        "train = train.drop(columns=['AKA Name'])"
      ],
      "execution_count": 0,
      "outputs": []
    },
    {
      "cell_type": "code",
      "metadata": {
        "id": "3TAzd6EivQv3",
        "colab_type": "code",
        "outputId": "66ae5a44-1d08-4cf9-cf0c-3f8aa3d79f52",
        "colab": {
          "base_uri": "https://localhost:8080/",
          "height": 34
        }
      },
      "source": [
        "y = train['Fail']\n",
        "y.unique()"
      ],
      "execution_count": 13,
      "outputs": [
        {
          "output_type": "execute_result",
          "data": {
            "text/plain": [
              "array([1, 0])"
            ]
          },
          "metadata": {
            "tags": []
          },
          "execution_count": 13
        }
      ]
    },
    {
      "cell_type": "code",
      "metadata": {
        "id": "lFQqIdTJBSDb",
        "colab_type": "code",
        "outputId": "aa25e72c-0d4b-43e0-c367-d97844c18598",
        "colab": {
          "base_uri": "https://localhost:8080/",
          "height": 68
        }
      },
      "source": [
        "'''\n",
        "Which evaluation measure is appropriate to use for a classification model with imbalanced classes?\n",
        "Precision metric tells us how many predicted samples are relevant i.e. our mistakes into classifying sample as a correct one if it's not true. this metric is a good choice for the imbalanced classification scenario.May 9, 2019\n",
        "\n",
        "Metrics for Imbalanced Classification - Towards Data Science\n",
        "'''\n",
        "# May use PRECISION METRIC? (instead of Accuracy in ntbk) for validation because our 2 class ratio is about 3:1; ~significant imbalance\n",
        "\n",
        "# TEST INSTRUCTION: estimate your ROC AUC validation score\n",
        "\n",
        "# find how many of Pass and Failed in our train['Fail']\n",
        "y.value_counts(normalize=True)"
      ],
      "execution_count": 14,
      "outputs": [
        {
          "output_type": "execute_result",
          "data": {
            "text/plain": [
              "0    0.74139\n",
              "1    0.25861\n",
              "Name: Fail, dtype: float64"
            ]
          },
          "metadata": {
            "tags": []
          },
          "execution_count": 14
        }
      ]
    },
    {
      "cell_type": "code",
      "metadata": {
        "id": "yaM_C67MHNb2",
        "colab_type": "code",
        "colab": {}
      },
      "source": [
        "import pandas as pd \n",
        "# from LS_DSPT4_231.ipynb (Mod 1)\n",
        "\n",
        "'''\n",
        "Next, do a time-based split:\n",
        "Brief Description: This dataset contains information from inspections of restaurants and other\n",
        "food establishments in Chicago from January 1, 2010 to the present. \n",
        "'''\n",
        "\n",
        "train['Inspection Date'] = pd.to_datetime(train['Inspection Date'])"
      ],
      "execution_count": 0,
      "outputs": []
    },
    {
      "cell_type": "code",
      "metadata": {
        "id": "DbjOKVHbMCZA",
        "colab_type": "code",
        "colab": {}
      },
      "source": [
        "# TRIED to split val from train, but got AttributeError: Can only use .dt accessor with datetimelike values..\n",
        "# may have to feature engineer Inspection Date to parse out only date!\n",
        "\n",
        "# Attempt 2: Parsing out only YEAR from train['Inspection Date'] - works!\n",
        "train['Inspection Date'] = pd.to_datetime(train['Inspection Date'])\n",
        "train['Inspection Year'] = train['Inspection Date'].dt.year\n",
        "\n",
        "test['Inspection Date'] = pd.to_datetime(test['Inspection Date'])\n",
        "test['Inspection Year'] = test['Inspection Date'].dt.year\n"
      ],
      "execution_count": 0,
      "outputs": []
    },
    {
      "cell_type": "code",
      "metadata": {
        "id": "EBKYL3wzS7Eo",
        "colab_type": "code",
        "colab": {}
      },
      "source": [
        "# split_train = train[train['Inspection Date'].dt.year <= 2016]\n",
        "# val = train[train['Inspection Date'].dt.year > 2017]\n",
        "\n",
        "# Check if ~80 % train; 20% val split was chosen\n",
        "#split_train.shape, val.shape"
      ],
      "execution_count": 0,
      "outputs": []
    },
    {
      "cell_type": "code",
      "metadata": {
        "id": "j2RnKnCwP4dH",
        "colab_type": "code",
        "outputId": "5a036d31-63ec-4104-8114-f5b94eb10981",
        "colab": {
          "base_uri": "https://localhost:8080/",
          "height": 54
        }
      },
      "source": [
        "\n",
        "# May fine tune split using months additionally\n",
        "'''\n",
        "val.value_counts(normalize=True) (gives err df obj has no val_cnts attrib..)\n",
        "\n",
        "# check 'Fail' class imbalance via a Plot: Pass Vs Fail\n",
        "# ?!?!\n",
        "# (train_split['Inspection Year'].map({ ('Inspection Year'<= 2016): 'train_split', 1: 'Failed'}).value_counts(normalize=True) * 100)\\\n",
        "# .plot.bar(title='Percentages of Inspection Results', figsize=(10, 5))\n",
        "'''"
      ],
      "execution_count": 18,
      "outputs": [
        {
          "output_type": "execute_result",
          "data": {
            "text/plain": [
              "\"\\nval.value_counts(normalize=True) (gives err df obj has no val_cnts attrib..)\\n\\n# check 'Fail' class imbalance via a Plot: Pass Vs Fail\\n# ?!?!\\n# (train_split['Inspection Year'].map({ ('Inspection Year'<= 2016): 'train_split', 1: 'Failed'}).value_counts(normalize=True) * 100)# .plot.bar(title='Percentages of Inspection Results', figsize=(10, 5))\\n\""
            ]
          },
          "metadata": {
            "tags": []
          },
          "execution_count": 18
        }
      ]
    },
    {
      "cell_type": "code",
      "metadata": {
        "id": "jpKIYoprIZZO",
        "colab_type": "code",
        "colab": {}
      },
      "source": [
        "train['Any Failed'] = train.groupby('Address')['Fail'].transform(lambda x: int((x == 1).any()))\n",
        "test['Any Failed'] = test.groupby('Address')['Fail'].transform(lambda x: int((x == 1).any()))"
      ],
      "execution_count": 0,
      "outputs": []
    },
    {
      "cell_type": "markdown",
      "metadata": {
        "colab_type": "text",
        "id": "nB8CQnExGqzr"
      },
      "source": [
        "## Part 2: Modeling\n",
        "\n",
        "> **Fit a model** with the train set. (You may use scikit-learn, xgboost, or any other library.) Use cross-validation or do a three-way split (train/validate/test) and **estimate your ROC AUC** validation score.\n",
        ">\n",
        "> Use your model to **predict probabilities** for the test set. **Get an ROC AUC test score >= 0.60.**"
      ]
    },
    {
      "cell_type": "code",
      "metadata": {
        "colab_type": "code",
        "id": "YQ3hD2G1IbVH",
        "colab": {}
      },
      "source": [
        "#ATTEMPT 2: getting invalid type promotion err\n",
        "\n",
        "# Try a shallow decision tree as a fast, first model\n",
        "\n",
        "import category_encoders as ce\n",
        "from sklearn.pipeline import make_pipeline\n",
        "from sklearn.impute import SimpleImputer\n",
        "from sklearn.tree import DecisionTreeClassifier\n",
        "from sklearn.ensemble import RandomForestClassifier\n",
        "from sklearn.metrics import roc_auc_score\n",
        "from sklearn.model_selection import train_test_split\n",
        "\n",
        "target = 'Fail'\n",
        "# features = ['Inspection Type', 'Any Failed', 'Facility Type', 'Latitude', 'Longitude']\n",
        "features = ['Inspection Type', 'Zip', 'Any Failed', 'License #', 'Facility Type', 'Latitude', 'Longitude']\n",
        "\n",
        "X_train, X_test, y_train, y_test = train_test_split(train[features], train[target])\n",
        "\n",
        "pipeline = make_pipeline(\n",
        "    ce.OrdinalEncoder(),\n",
        "    SimpleImputer(strategy='most_frequent'),\n",
        "    RandomForestClassifier()\n",
        ")\n",
        "\n",
        "pipeline.fit(X_train, y_train)\n",
        "acc_score = pipeline.score(test[features], test[target])\n",
        "ra_score = roc_auc_score(test[target], pipeline.predict(test[features]))\n",
        "\n",
        "print(f'Test Accuracy: {pipeline.score(X_test, y_test)}')\n",
        "print(f'Test ROC AUC: {roc_auc_score(y_test, pipeline.predict(X_test))}\\n')\n",
        "\n",
        "print(f'Val Accuracy: {acc_score}')\n",
        "print(f'Val ROC AUC: {ra_score}')"
      ],
      "execution_count": 0,
      "outputs": []
    },
    {
      "cell_type": "markdown",
      "metadata": {
        "colab_type": "text",
        "id": "u98nLGBTMo9s"
      },
      "source": [
        "## Part 3: Visualization\n",
        "\n",
        "> Make visualizations for model interpretation. (You may use any libraries.) Choose two of these types:\n",
        ">\n",
        "> - Permutation Importances\n",
        "> - Partial Dependence Plot, 1 feature isolation\n",
        "> - Partial Dependence Plot, 2 features interaction\n",
        "> - Shapley Values"
      ]
    },
    {
      "cell_type": "code",
      "metadata": {
        "id": "AJNt9gmxpl5c",
        "colab_type": "code",
        "colab": {}
      },
      "source": [
        "#Perm Impt: https://colab.research.google.com/drive/1z1R0m3XsaZMjukynx2Ub-531Sh32xPln#scrollTo=QxhmJFxvKDbM (u2s3m3) "
      ],
      "execution_count": 0,
      "outputs": []
    },
    {
      "cell_type": "code",
      "metadata": {
        "id": "B9KGDfS6pzxj",
        "colab_type": "code",
        "outputId": "70c4eb37-97dd-43e5-9111-694ae5c2e8ca",
        "colab": {
          "base_uri": "https://localhost:8080/",
          "height": 607
        }
      },
      "source": [
        "# 1) PERMUTATION IMPORTANCES\n",
        "#    a) just to peek at which features are important to our model, get feature importances\n",
        "rf = pipeline.named_steps['randomforestclassifier']\n",
        "importances = pd.Series(rf.feature_importances_, X_train.columns)\n",
        "\n",
        "# Plot feature importances\n",
        "%matplotlib inline\n",
        "import matplotlib.pyplot as plt\n",
        "\n",
        "n = 20\n",
        "plt.figure(figsize=(10,n/2))\n",
        "plt.title(f'Top {n} features')\n",
        "importances.sort_values()[-n:].plot.barh(color='grey');"
      ],
      "execution_count": 27,
      "outputs": [
        {
          "output_type": "display_data",
          "data": {
            "image/png": "[encoded data removed]",
            "text/plain": [
              "<Figure size 720x720 with 1 Axes>"
            ]
          },
          "metadata": {
            "tags": []
          }
        }
      ]
    },
    {
      "cell_type": "code",
      "metadata": {
        "id": "cphh6LVSqaLU",
        "colab_type": "code",
        "outputId": "4f9e95cb-0cd3-4252-dd7a-bf25ae676ca7",
        "colab": {
          "base_uri": "https://localhost:8080/",
          "height": 153
        }
      },
      "source": [
        "# BEFORE: Sequence of the feature to be permuted: from Features Importance above, chose Latitude adn Inspection type columns/features to Permute\n",
        "import numpy as np\n",
        "for feature in ['Latitude', 'Inspection Type']:\n",
        "\n",
        "# PERMUTE\n",
        "  X_train_permuted = X_train.copy() #copy whole df to submit all at once\n",
        "  X_train_permuted[feature] = np.random.permutation(X_train[feature])\n",
        "\n",
        "  X_test_permuted = X_test.copy()\n",
        "  X_test_permuted[feature] = np.random.permutation(X_test[feature])\n",
        "\n",
        "  score = pipeline.score(X_test, y_test)\n",
        "  score_permuted = pipeline.score(X_test_permuted, y_test) #Calc. accuracy on the permuted val dataset\n",
        "\n",
        "  print(f'Validation accuracy with {feature}: {score}')\n",
        "  print(f'Validation accuracy with {feature} permuted: {score_permuted}')\n",
        "  print(f'Permutation importance: {acc_score - score_permuted}\\n')"
      ],
      "execution_count": 28,
      "outputs": [
        {
          "output_type": "stream",
          "text": [
            "Validation accuracy with Latitude: 0.7466676939671778\n",
            "Validation accuracy with Latitude permuted: 0.7516757839587025\n",
            "Permutation importance: 0.0610481268236851\n",
            "\n",
            "Validation accuracy with Inspection Type: 0.7466676939671778\n",
            "Validation accuracy with Inspection Type permuted: 0.6775560520841359\n",
            "Permutation importance: 0.13516785869825165\n",
            "\n"
          ],
          "name": "stdout"
        }
      ]
    },
    {
      "cell_type": "code",
      "metadata": {
        "id": "xqaYo2FRs6s3",
        "colab_type": "code",
        "outputId": "5303b73f-3187-4c0e-c439-82dc36819cba",
        "colab": {
          "base_uri": "https://localhost:8080/",
          "height": 1000
        }
      },
      "source": [
        "#2) Shapley Values: SHAP Values (an acronym from SHapley Additive exPlanations) break down a prediction to show the impact of each feature.\n",
        "# from https://colab.research.google.com/drive/1r2VFMtBAt3sLVIQfsMWyQXt8hB9gziRA#scrollTo=Ep1aBVpVcrDj (FINAL VERSION 234 u2s3m4.ipynb)\n",
        "\n",
        "import category_encoders as ce\n",
        "from sklearn.impute import SimpleImputer\n",
        "from sklearn.pipeline import make_pipeline\n",
        "from xgboost import XGBClassifier\n",
        "\n",
        "processor = make_pipeline(\n",
        "    ce.OrdinalEncoder(), \n",
        "    SimpleImputer(strategy='median')\n",
        ")\n",
        "\n",
        "val = train[train['Inspection Date'].dt.year > 2017]\n",
        "X_val = val[features]\n",
        "y_val = val[target]\n",
        "\n",
        "X_train_processed = processor.fit_transform(X_train)\n",
        "X_val_processed = processor.transform(X_val)\n",
        "\n",
        "eval_set = [(X_train_processed, y_train), \n",
        "            (X_val_processed, y_val)]\n",
        "\n",
        "model = XGBClassifier(n_estimators=1000, n_jobs=-1)\n",
        "model.fit(X_train_processed, y_train, eval_set=eval_set, eval_metric='auc', \n",
        "          early_stopping_rounds=10)"
      ],
      "execution_count": 33,
      "outputs": [
        {
          "output_type": "stream",
          "text": [
            "[0]\tvalidation_0-auc:0.760194\tvalidation_1-auc:0.767082\n",
            "Multiple eval metrics have been passed: 'validation_1-auc' will be used for early stopping.\n",
            "\n",
            "Will train until validation_1-auc hasn't improved in 10 rounds.\n",
            "[1]\tvalidation_0-auc:0.760194\tvalidation_1-auc:0.767082\n",
            "[2]\tvalidation_0-auc:0.773123\tvalidation_1-auc:0.781638\n",
            "[3]\tvalidation_0-auc:0.773123\tvalidation_1-auc:0.781638\n",
            "[4]\tvalidation_0-auc:0.773123\tvalidation_1-auc:0.781638\n",
            "[5]\tvalidation_0-auc:0.773209\tvalidation_1-auc:0.781871\n",
            "[6]\tvalidation_0-auc:0.773209\tvalidation_1-auc:0.781871\n",
            "[7]\tvalidation_0-auc:0.780834\tvalidation_1-auc:0.790041\n",
            "[8]\tvalidation_0-auc:0.780834\tvalidation_1-auc:0.790041\n",
            "[9]\tvalidation_0-auc:0.780834\tvalidation_1-auc:0.790041\n",
            "[10]\tvalidation_0-auc:0.780834\tvalidation_1-auc:0.790041\n",
            "[11]\tvalidation_0-auc:0.799053\tvalidation_1-auc:0.803101\n",
            "[12]\tvalidation_0-auc:0.799053\tvalidation_1-auc:0.803101\n",
            "[13]\tvalidation_0-auc:0.807124\tvalidation_1-auc:0.813122\n",
            "[14]\tvalidation_0-auc:0.807124\tvalidation_1-auc:0.813122\n",
            "[15]\tvalidation_0-auc:0.808165\tvalidation_1-auc:0.813673\n",
            "[16]\tvalidation_0-auc:0.807818\tvalidation_1-auc:0.812828\n",
            "[17]\tvalidation_0-auc:0.810407\tvalidation_1-auc:0.815963\n",
            "[18]\tvalidation_0-auc:0.811788\tvalidation_1-auc:0.817588\n",
            "[19]\tvalidation_0-auc:0.812834\tvalidation_1-auc:0.817827\n",
            "[20]\tvalidation_0-auc:0.811796\tvalidation_1-auc:0.817101\n",
            "[21]\tvalidation_0-auc:0.813876\tvalidation_1-auc:0.818093\n",
            "[22]\tvalidation_0-auc:0.814176\tvalidation_1-auc:0.818293\n",
            "[23]\tvalidation_0-auc:0.812997\tvalidation_1-auc:0.817542\n",
            "[24]\tvalidation_0-auc:0.813367\tvalidation_1-auc:0.817514\n",
            "[25]\tvalidation_0-auc:0.814796\tvalidation_1-auc:0.818592\n",
            "[26]\tvalidation_0-auc:0.815387\tvalidation_1-auc:0.818592\n",
            "[27]\tvalidation_0-auc:0.816879\tvalidation_1-auc:0.82183\n",
            "[28]\tvalidation_0-auc:0.819187\tvalidation_1-auc:0.821906\n",
            "[29]\tvalidation_0-auc:0.819069\tvalidation_1-auc:0.822053\n",
            "[30]\tvalidation_0-auc:0.819261\tvalidation_1-auc:0.822245\n",
            "[31]\tvalidation_0-auc:0.81938\tvalidation_1-auc:0.82342\n",
            "[32]\tvalidation_0-auc:0.819173\tvalidation_1-auc:0.822318\n",
            "[33]\tvalidation_0-auc:0.819857\tvalidation_1-auc:0.822312\n",
            "[34]\tvalidation_0-auc:0.820991\tvalidation_1-auc:0.826257\n",
            "[35]\tvalidation_0-auc:0.821016\tvalidation_1-auc:0.826126\n",
            "[36]\tvalidation_0-auc:0.821008\tvalidation_1-auc:0.825478\n",
            "[37]\tvalidation_0-auc:0.821315\tvalidation_1-auc:0.825337\n",
            "[38]\tvalidation_0-auc:0.82137\tvalidation_1-auc:0.825339\n",
            "[39]\tvalidation_0-auc:0.821592\tvalidation_1-auc:0.825598\n",
            "[40]\tvalidation_0-auc:0.823953\tvalidation_1-auc:0.826883\n",
            "[41]\tvalidation_0-auc:0.824232\tvalidation_1-auc:0.826762\n",
            "[42]\tvalidation_0-auc:0.824101\tvalidation_1-auc:0.826741\n",
            "[43]\tvalidation_0-auc:0.82418\tvalidation_1-auc:0.826959\n",
            "[44]\tvalidation_0-auc:0.824724\tvalidation_1-auc:0.827794\n",
            "[45]\tvalidation_0-auc:0.825857\tvalidation_1-auc:0.831428\n",
            "[46]\tvalidation_0-auc:0.825649\tvalidation_1-auc:0.830205\n",
            "[47]\tvalidation_0-auc:0.825709\tvalidation_1-auc:0.830597\n",
            "[48]\tvalidation_0-auc:0.825482\tvalidation_1-auc:0.830202\n",
            "[49]\tvalidation_0-auc:0.825659\tvalidation_1-auc:0.831238\n",
            "[50]\tvalidation_0-auc:0.825766\tvalidation_1-auc:0.831092\n",
            "[51]\tvalidation_0-auc:0.825795\tvalidation_1-auc:0.83119\n",
            "[52]\tvalidation_0-auc:0.826209\tvalidation_1-auc:0.831584\n",
            "[53]\tvalidation_0-auc:0.826333\tvalidation_1-auc:0.832066\n",
            "[54]\tvalidation_0-auc:0.826969\tvalidation_1-auc:0.832503\n",
            "[55]\tvalidation_0-auc:0.827237\tvalidation_1-auc:0.832022\n",
            "[56]\tvalidation_0-auc:0.827394\tvalidation_1-auc:0.832456\n",
            "[57]\tvalidation_0-auc:0.827636\tvalidation_1-auc:0.832671\n",
            "[58]\tvalidation_0-auc:0.828323\tvalidation_1-auc:0.833207\n",
            "[59]\tvalidation_0-auc:0.828319\tvalidation_1-auc:0.833054\n",
            "[60]\tvalidation_0-auc:0.828421\tvalidation_1-auc:0.833281\n",
            "[61]\tvalidation_0-auc:0.828948\tvalidation_1-auc:0.834079\n",
            "[62]\tvalidation_0-auc:0.829003\tvalidation_1-auc:0.834083\n",
            "[63]\tvalidation_0-auc:0.829337\tvalidation_1-auc:0.834533\n",
            "[64]\tvalidation_0-auc:0.829378\tvalidation_1-auc:0.834507\n",
            "[65]\tvalidation_0-auc:0.829358\tvalidation_1-auc:0.834761\n",
            "[66]\tvalidation_0-auc:0.829341\tvalidation_1-auc:0.834803\n",
            "[67]\tvalidation_0-auc:0.830288\tvalidation_1-auc:0.835117\n",
            "[68]\tvalidation_0-auc:0.83047\tvalidation_1-auc:0.834723\n",
            "[69]\tvalidation_0-auc:0.830489\tvalidation_1-auc:0.834877\n",
            "[70]\tvalidation_0-auc:0.830832\tvalidation_1-auc:0.835552\n",
            "[71]\tvalidation_0-auc:0.830826\tvalidation_1-auc:0.835522\n",
            "[72]\tvalidation_0-auc:0.831347\tvalidation_1-auc:0.835945\n",
            "[73]\tvalidation_0-auc:0.831416\tvalidation_1-auc:0.835988\n",
            "[74]\tvalidation_0-auc:0.831529\tvalidation_1-auc:0.836144\n",
            "[75]\tvalidation_0-auc:0.831706\tvalidation_1-auc:0.835964\n",
            "[76]\tvalidation_0-auc:0.831795\tvalidation_1-auc:0.836362\n",
            "[77]\tvalidation_0-auc:0.831854\tvalidation_1-auc:0.836527\n",
            "[78]\tvalidation_0-auc:0.831857\tvalidation_1-auc:0.836414\n",
            "[79]\tvalidation_0-auc:0.83194\tvalidation_1-auc:0.836528\n",
            "[80]\tvalidation_0-auc:0.831909\tvalidation_1-auc:0.836495\n",
            "[81]\tvalidation_0-auc:0.832001\tvalidation_1-auc:0.836659\n",
            "[82]\tvalidation_0-auc:0.832294\tvalidation_1-auc:0.836775\n",
            "[83]\tvalidation_0-auc:0.832282\tvalidation_1-auc:0.836767\n",
            "[84]\tvalidation_0-auc:0.832669\tvalidation_1-auc:0.837159\n",
            "[85]\tvalidation_0-auc:0.832625\tvalidation_1-auc:0.837201\n",
            "[86]\tvalidation_0-auc:0.832642\tvalidation_1-auc:0.837049\n",
            "[87]\tvalidation_0-auc:0.832896\tvalidation_1-auc:0.837295\n",
            "[88]\tvalidation_0-auc:0.832986\tvalidation_1-auc:0.837338\n",
            "[89]\tvalidation_0-auc:0.83306\tvalidation_1-auc:0.83746\n",
            "[90]\tvalidation_0-auc:0.833237\tvalidation_1-auc:0.837787\n",
            "[91]\tvalidation_0-auc:0.833483\tvalidation_1-auc:0.8385\n",
            "[92]\tvalidation_0-auc:0.8335\tvalidation_1-auc:0.838511\n",
            "[93]\tvalidation_0-auc:0.833607\tvalidation_1-auc:0.8384\n",
            "[94]\tvalidation_0-auc:0.833643\tvalidation_1-auc:0.838595\n",
            "[95]\tvalidation_0-auc:0.834005\tvalidation_1-auc:0.839055\n",
            "[96]\tvalidation_0-auc:0.834198\tvalidation_1-auc:0.839203\n",
            "[97]\tvalidation_0-auc:0.834289\tvalidation_1-auc:0.839293\n",
            "[98]\tvalidation_0-auc:0.834469\tvalidation_1-auc:0.839468\n",
            "[99]\tvalidation_0-auc:0.834599\tvalidation_1-auc:0.839554\n",
            "[100]\tvalidation_0-auc:0.834666\tvalidation_1-auc:0.839481\n",
            "[101]\tvalidation_0-auc:0.834735\tvalidation_1-auc:0.839569\n",
            "[102]\tvalidation_0-auc:0.834826\tvalidation_1-auc:0.83958\n",
            "[103]\tvalidation_0-auc:0.834847\tvalidation_1-auc:0.839607\n",
            "[104]\tvalidation_0-auc:0.834963\tvalidation_1-auc:0.839581\n",
            "[105]\tvalidation_0-auc:0.835096\tvalidation_1-auc:0.839952\n",
            "[106]\tvalidation_0-auc:0.835304\tvalidation_1-auc:0.840202\n",
            "[107]\tvalidation_0-auc:0.83536\tvalidation_1-auc:0.840348\n",
            "[108]\tvalidation_0-auc:0.835396\tvalidation_1-auc:0.840543\n",
            "[109]\tvalidation_0-auc:0.835536\tvalidation_1-auc:0.840703\n",
            "[110]\tvalidation_0-auc:0.835691\tvalidation_1-auc:0.841171\n",
            "[111]\tvalidation_0-auc:0.835743\tvalidation_1-auc:0.841335\n",
            "[112]\tvalidation_0-auc:0.835749\tvalidation_1-auc:0.841261\n",
            "[113]\tvalidation_0-auc:0.835825\tvalidation_1-auc:0.841298\n",
            "[114]\tvalidation_0-auc:0.835827\tvalidation_1-auc:0.841147\n",
            "[115]\tvalidation_0-auc:0.835972\tvalidation_1-auc:0.841273\n",
            "[116]\tvalidation_0-auc:0.836044\tvalidation_1-auc:0.841249\n",
            "[117]\tvalidation_0-auc:0.836075\tvalidation_1-auc:0.841311\n",
            "[118]\tvalidation_0-auc:0.836081\tvalidation_1-auc:0.8411\n",
            "[119]\tvalidation_0-auc:0.836205\tvalidation_1-auc:0.841158\n",
            "[120]\tvalidation_0-auc:0.836284\tvalidation_1-auc:0.841226\n",
            "[121]\tvalidation_0-auc:0.836436\tvalidation_1-auc:0.841326\n",
            "Stopping. Best iteration:\n",
            "[111]\tvalidation_0-auc:0.835743\tvalidation_1-auc:0.841335\n",
            "\n"
          ],
          "name": "stdout"
        },
        {
          "output_type": "execute_result",
          "data": {
            "text/plain": [
              "XGBClassifier(base_score=0.5, booster='gbtree', colsample_bylevel=1,\n",
              "              colsample_bynode=1, colsample_bytree=1, gamma=0,\n",
              "              learning_rate=0.1, max_delta_step=0, max_depth=3,\n",
              "              min_child_weight=1, missing=None, n_estimators=1000, n_jobs=-1,\n",
              "              nthread=None, objective='binary:logistic', random_state=0,\n",
              "              reg_alpha=0, reg_lambda=1, scale_pos_weight=1, seed=None,\n",
              "              silent=None, subsample=1, verbosity=1)"
            ]
          },
          "metadata": {
            "tags": []
          },
          "execution_count": 33
        }
      ]
    },
    {
      "cell_type": "code",
      "metadata": {
        "id": "swaXp9lVFvYi",
        "colab_type": "code",
        "colab": {
          "base_uri": "https://localhost:8080/",
          "height": 51
        },
        "outputId": "29cc50b6-1e55-4268-b14f-401efa340beb"
      },
      "source": [
        "from sklearn.metrics import roc_auc_score\n",
        "X_test_processed = processor.transform(X_test)\n",
        "class_index = 1\n",
        "y_pred_proba = model.predict_proba(X_test_processed)[:, class_index]\n",
        "print(f'Test ROC AUC for class {class_index}:')\n",
        "print(roc_auc_score(y_test, y_pred_proba)) # Ranges from 0-1, higher is better"
      ],
      "execution_count": 34,
      "outputs": [
        {
          "output_type": "stream",
          "text": [
            "Test ROC AUC for class 1:\n",
            "0.8293915652428773\n"
          ],
          "name": "stdout"
        }
      ]
    },
    {
      "cell_type": "code",
      "metadata": {
        "id": "7hp__hRiwSzu",
        "colab_type": "code",
        "outputId": "fbe2a9ba-705b-4b31-e02d-211c54f99a33",
        "colab": {
          "base_uri": "https://localhost:8080/",
          "height": 249
        }
      },
      "source": [
        "import shap\n",
        "\n",
        "explainer = shap.TreeExplainer(model)\n",
        "row_processed = processor.transform(row)\n",
        "shap_values = explainer.shap_values(row_processed)\n",
        "\n",
        "shap.initjs()\n",
        "shap.force_plot(\n",
        "    base_value=explainer.expected_value, \n",
        "    shap_values=shap_values, \n",
        "    features=row, \n",
        "    link='logit' # For classification, this shows predicted probabilities\n",
        ")"
      ],
      "execution_count": 35,
      "outputs": [
        {
          "output_type": "stream",
          "text": [
            "Setting feature_perturbation = \"tree_path_dependent\" because no background data was given.\n"
          ],
          "name": "stderr"
        },
        {
          "output_type": "error",
          "ename": "NameError",
          "evalue": "ignored",
          "traceback": [
            "\u001b[0;31m---------------------------------------------------------------------------\u001b[0m",
            "\u001b[0;31mNameError\u001b[0m                                 Traceback (most recent call last)",
            "\u001b[0;32m<ipython-input-35-50c01dfcc608>\u001b[0m in \u001b[0;36m<module>\u001b[0;34m()\u001b[0m\n\u001b[1;32m      2\u001b[0m \u001b[0;34m\u001b[0m\u001b[0m\n\u001b[1;32m      3\u001b[0m \u001b[0mexplainer\u001b[0m \u001b[0;34m=\u001b[0m \u001b[0mshap\u001b[0m\u001b[0;34m.\u001b[0m\u001b[0mTreeExplainer\u001b[0m\u001b[0;34m(\u001b[0m\u001b[0mmodel\u001b[0m\u001b[0;34m)\u001b[0m\u001b[0;34m\u001b[0m\u001b[0;34m\u001b[0m\u001b[0m\n\u001b[0;32m----> 4\u001b[0;31m \u001b[0mrow_processed\u001b[0m \u001b[0;34m=\u001b[0m \u001b[0mprocessor\u001b[0m\u001b[0;34m.\u001b[0m\u001b[0mtransform\u001b[0m\u001b[0;34m(\u001b[0m\u001b[0mrow\u001b[0m\u001b[0;34m)\u001b[0m\u001b[0;34m\u001b[0m\u001b[0;34m\u001b[0m\u001b[0m\n\u001b[0m\u001b[1;32m      5\u001b[0m \u001b[0mshap_values\u001b[0m \u001b[0;34m=\u001b[0m \u001b[0mexplainer\u001b[0m\u001b[0;34m.\u001b[0m\u001b[0mshap_values\u001b[0m\u001b[0;34m(\u001b[0m\u001b[0mrow_processed\u001b[0m\u001b[0;34m)\u001b[0m\u001b[0;34m\u001b[0m\u001b[0;34m\u001b[0m\u001b[0m\n\u001b[1;32m      6\u001b[0m \u001b[0;34m\u001b[0m\u001b[0m\n",
            "\u001b[0;31mNameError\u001b[0m: name 'row' is not defined"
          ]
        }
      ]
    },
    {
      "cell_type": "code",
      "metadata": {
        "id": "YpGdqUlVv58H",
        "colab_type": "code",
        "colab": {}
      },
      "source": [
        ""
      ],
      "execution_count": 0,
      "outputs": []
    },
    {
      "cell_type": "code",
      "metadata": {
        "id": "why3TPWliA0g",
        "colab_type": "code",
        "colab": {}
      },
      "source": [
        "#********************  FROM 1ST TEST TAKING **************************"
      ],
      "execution_count": 0,
      "outputs": []
    },
    {
      "cell_type": "code",
      "metadata": {
        "id": "nzED-5mZwuM-",
        "colab_type": "code",
        "colab": {}
      },
      "source": [
        "# 2) CONFUSION MATRIX -NM"
      ],
      "execution_count": 0,
      "outputs": []
    },
    {
      "cell_type": "code",
      "metadata": {
        "id": "3QDU3onRxtdP",
        "colab_type": "code",
        "colab": {}
      },
      "source": [
        "#2) #Partial Dependence Plot, 1 feature interaction\n",
        "\n",
        "'''\n",
        "Later, when you save matplotlib images to include in blog posts or web apps,\n",
        "increase the dots per inch (double it), so the text isn't so fuzzy\n",
        "'''\n",
        "\n",
        "import matplotlib.pyplot as plt\n",
        "plt.rcParams['figure.dpi'] = 72"
      ],
      "execution_count": 0,
      "outputs": []
    },
    {
      "cell_type": "code",
      "metadata": {
        "id": "UF45bW4DyVKk",
        "colab_type": "code",
        "colab": {}
      },
      "source": [
        "from sklearn.metrics import r2_score\n",
        "from xgboost import XGBRegressor\n",
        "\n",
        "gb = make_pipeline(\n",
        "    ce.OrdinalEncoder(), \n",
        "    XGBRegressor(n_estimators=200, objective='reg:squarederror', n_jobs=-1)\n",
        ")\n",
        "\n",
        "gb.fit(X_train, y_train)\n",
        "y_pred = gb.predict(X_val)\n",
        "print('Gradient Boosting R^2', r2_score(y_val, y_pred))"
      ],
      "execution_count": 0,
      "outputs": []
    },
    {
      "cell_type": "code",
      "metadata": {
        "id": "LUIhrgc6xym0",
        "colab_type": "code",
        "colab": {}
      },
      "source": [
        "from pdpbox.pdp import pdp_isolate, pdp_plot\n",
        "\n",
        "feature = 'DBA'\n",
        "\n",
        "isolated = pdp_isolate(\n",
        "    model = gb,\n",
        "    dataset=X_val,\n",
        "    model_features=X_val.columns,\n",
        "    feature=feature\n",
        ")"
      ],
      "execution_count": 0,
      "outputs": []
    },
    {
      "cell_type": "code",
      "metadata": {
        "id": "g0dDreRUygXk",
        "colab_type": "code",
        "colab": {}
      },
      "source": [
        "pdp_plot(isolated, feature_name=feature);"
      ],
      "execution_count": 0,
      "outputs": []
    },
    {
      "cell_type": "code",
      "metadata": {
        "id": "HabgzdNryE5I",
        "colab_type": "code",
        "colab": {}
      },
      "source": [
        "pdp_plot(isolated, feature_name=feature);"
      ],
      "execution_count": 0,
      "outputs": []
    },
    {
      "cell_type": "code",
      "metadata": {
        "id": "87yw88Q9Ii5T",
        "colab_type": "code",
        "colab": {}
      },
      "source": [
        "from pdpbox.pdp import pdp_interact, pdp_interact_plot\n",
        "import category_encoders as ce\n",
        "import seaborn as sns\n",
        "from sklearn.ensemble import RandomForestClassifier\n",
        "\n",
        "target = 'Fail'\n",
        "features = df.columns.drop(['Fail'])\n",
        "\n",
        "X = train[features]\n",
        "y = train[target]\n",
        "\n",
        "# Use Ordinal Encoder, outside of a pipeline\n",
        "encoder = ce.OrdinalEncoder()\n",
        "X_encoded = encoder.fit_transform(X)\n",
        "\n",
        "model = RandomForestClassifier(n_estimators=100, random_state=42, n_jobs=-1)\n",
        "model.fit(X_encoded, y)"
      ],
      "execution_count": 0,
      "outputs": []
    },
    {
      "cell_type": "code",
      "metadata": {
        "id": "OSJoEfsWKLwF",
        "colab_type": "code",
        "colab": {}
      },
      "source": [
        "# Use Pdpbox\n",
        "%matplotlib inline\n",
        "import matplotlib.pyplot as plt\n",
        "from pdpbox import pdp\n",
        "feature = 'Violation'\n",
        "pdp_dist = pdp.pdp_isolate(model=model, dataset=X_encoded, model_features=features, feature=feature)\n",
        "pdp.pdp_plot(pdp_dist, feature);"
      ],
      "execution_count": 0,
      "outputs": []
    },
    {
      "cell_type": "code",
      "metadata": {
        "id": "W19AFf2dKk5z",
        "colab_type": "code",
        "colab": {}
      },
      "source": [
        "# Look at the encoder's mappings\n",
        "encoder.mapping"
      ],
      "execution_count": 0,
      "outputs": []
    },
    {
      "cell_type": "code",
      "metadata": {
        "id": "5QpveoTZKl5O",
        "colab_type": "code",
        "colab": {}
      },
      "source": [
        "pdp.pdp_plot(pdp_dist, feature)\n",
        "\n",
        "# Manually change the xticks labels\n",
        "plt.xticks([1, 2], ['Violations', 'Fail']);"
      ],
      "execution_count": 0,
      "outputs": []
    },
    {
      "cell_type": "code",
      "metadata": {
        "id": "FHZ6ZZJKK31T",
        "colab_type": "code",
        "colab": {}
      },
      "source": [
        "# Let's automate it\n",
        "\n",
        "feature = 'Violation'\n",
        "for item in encoder.mapping:\n",
        "    if item['col'] == feature:\n",
        "        feature_mapping = item['mapping']\n",
        "        \n",
        "feature_mapping = feature_mapping[feature_mapping.index.dropna()]\n",
        "category_names = feature_mapping.index.tolist()\n",
        "category_codes = feature_mapping.values.tolist()"
      ],
      "execution_count": 0,
      "outputs": []
    },
    {
      "cell_type": "code",
      "metadata": {
        "id": "hnXNgLO_LF4c",
        "colab_type": "code",
        "colab": {}
      },
      "source": [
        "pdp.pdp_plot(pdp_dist, feature)\n",
        "\n",
        "# Automatically change the xticks labels\n",
        "plt.xticks(category_codes, category_names);"
      ],
      "execution_count": 0,
      "outputs": []
    },
    {
      "cell_type": "code",
      "metadata": {
        "id": "vag71On9LKNZ",
        "colab_type": "code",
        "colab": {}
      },
      "source": [
        "pdp.pdp_plot(pdp_dist, feature)\n",
        "\n",
        "# Automatically change the xticks labels\n",
        "plt.xticks(category_codes, category_names);"
      ],
      "execution_count": 0,
      "outputs": []
    },
    {
      "cell_type": "code",
      "metadata": {
        "id": "L9QOeMGPLN0L",
        "colab_type": "code",
        "colab": {}
      },
      "source": [
        "pdp = interaction.pdp.pivot_table(\n",
        "    values='preds', \n",
        "    columns=features[0], # First feature on x axis\n",
        "    index=features[1]    # Next feature on y axis\n",
        ")[::-1]  # Reverse the index order so y axis is ascending\n",
        "\n",
        "pdp = pdp.rename(columns=dict(zip(category_codes, category_names)))\n",
        "plt.figure(figsize=(10,8))\n",
        "sns.heatmap(pdp, annot=True, fmt='.2f', cmap='viridis')\n",
        "plt.title('Partial Dependence of Inspection Failure, on Violation & Fails');"
      ],
      "execution_count": 0,
      "outputs": []
    },
    {
      "cell_type": "code",
      "metadata": {
        "id": "7Oa1ZrTKMlKa",
        "colab_type": "code",
        "colab": {}
      },
      "source": [
        "#Shapley\n",
        "# Assign to X, y\n",
        "features = ['Risk', 'Violations', 'Inspection Type']\n",
        "target = 'Fail'\n",
        "X_train = train[features]\n",
        "y_train = train[target]\n",
        "X_test = test[features]\n",
        "y_test = test[target]"
      ],
      "execution_count": 0,
      "outputs": []
    },
    {
      "cell_type": "code",
      "metadata": {
        "id": "5UTeI_ONMsZJ",
        "colab_type": "code",
        "colab": {}
      },
      "source": [
        "from scipy.stats import randint, uniform\n",
        "from sklearn.ensemble import RandomForestRegressor\n",
        "from sklearn.model_selection import RandomizedSearchCV\n",
        "\n",
        "param_distributions = { \n",
        "    'n_estimators': randint(50, 500), \n",
        "    'max_depth': [5, 10, 15, 20, None], \n",
        "    'max_features': uniform(0, 1), \n",
        "}\n",
        "\n",
        "search = RandomizedSearchCV(\n",
        "    RandomForestRegressor(random_state=42), #want CLassifier though?\n",
        "    param_distributions=param_distributions, \n",
        "    n_iter=5, \n",
        "    cv=2, \n",
        "    scoring='neg_mean_absolute_error', \n",
        "    verbose=10, \n",
        "    return_train_score=True, \n",
        "    n_jobs=-1, \n",
        "    random_state=42\n",
        ")\n",
        "\n",
        "search.fit(X_train, y_train);"
      ],
      "execution_count": 0,
      "outputs": []
    },
    {
      "cell_type": "code",
      "metadata": {
        "id": "e8QAfW3yNiW1",
        "colab_type": "code",
        "colab": {}
      },
      "source": [
        "print('Best hyperparameters', search.best_params_)\n",
        "print('Cross-validation MAE', -search.best_score_)\n",
        "model = search.best_estimator_"
      ],
      "execution_count": 0,
      "outputs": []
    }
  ]
}