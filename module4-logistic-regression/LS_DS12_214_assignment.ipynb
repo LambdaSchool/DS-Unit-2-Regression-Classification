{
  "nbformat": 4,
  "nbformat_minor": 0,
  "metadata": {
    "kernelspec": {
      "display_name": "Python 3",
      "language": "python",
      "name": "python3"
    },
    "language_info": {
      "codemirror_mode": {
        "name": "ipython",
        "version": 3
      },
      "file_extension": ".py",
      "mimetype": "text/x-python",
      "name": "python",
      "nbconvert_exporter": "python",
      "pygments_lexer": "ipython3",
      "version": "3.7.3"
    },
    "colab": {
      "name": "LS_DS12_214_assignment.ipynb",
      "provenance": [],
      "collapsed_sections": [],
      "include_colab_link": true
    }
  },
  "cells": [
    {
      "cell_type": "markdown",
      "metadata": {
        "id": "view-in-github",
        "colab_type": "text"
      },
      "source": [
        "<a href=\"https://colab.research.google.com/github/jdz014/DS-Unit-2-Linear-Models/blob/master/module4-logistic-regression/LS_DS12_214_assignment.ipynb\" target=\"_parent\"><img src=\"https://colab.research.google.com/assets/colab-badge.svg\" alt=\"Open In Colab\"/></a>"
      ]
    },
    {
      "cell_type": "markdown",
      "metadata": {
        "id": "cVIStHudM6Is",
        "colab_type": "text"
      },
      "source": [
        "Lambda School Data Science\n",
        "\n",
        "*Unit 2, Sprint 1, Module 4*\n",
        "\n",
        "---"
      ]
    },
    {
      "cell_type": "markdown",
      "metadata": {
        "colab_type": "text",
        "id": "7IXUfiQ2UKj6"
      },
      "source": [
        "# Logistic Regression\n",
        "\n",
        "\n",
        "## Assignment 🌯\n",
        "\n",
        "You'll use a [**dataset of 400+ burrito reviews**](https://srcole.github.io/100burritos/). How accurately can you predict whether a burrito is rated 'Great'?\n",
        "\n",
        "> We have developed a 10-dimensional system for rating the burritos in San Diego. ... Generate models for what makes a burrito great and investigate correlations in its dimensions.\n",
        "\n",
        "- [X] Do train/validate/test split. Train on reviews from 2016 & earlier. Validate on 2017. Test on 2018 & later.\n",
        "- [X] Begin with baselines for classification.\n",
        "- [X] Use scikit-learn for logistic regression.\n",
        "- [X] Get your model's validation accuracy. (Multiple times if you try multiple iterations.)\n",
        "- [X] Get your model's test accuracy. (One time, at the end.)\n",
        "- [X] Commit your notebook to your fork of the GitHub repo.\n",
        "\n",
        "\n",
        "## Stretch Goals\n",
        "\n",
        "- [ ] Add your own stretch goal(s) !\n",
        "- [ ] Make exploratory visualizations.\n",
        "- [X] Do one-hot encoding.\n",
        "- [ ] Do [feature scaling](https://scikit-learn.org/stable/modules/preprocessing.html).\n",
        "- [ ] Get and plot your coefficients.\n",
        "- [ ] Try [scikit-learn pipelines](https://scikit-learn.org/stable/modules/compose.html)."
      ]
    },
    {
      "cell_type": "code",
      "metadata": {
        "colab_type": "code",
        "id": "o9eSnDYhUGD7",
        "colab": {}
      },
      "source": [
        "%%capture\n",
        "import sys\n",
        "\n",
        "# If you're on Colab:\n",
        "if 'google.colab' in sys.modules:\n",
        "    DATA_PATH = 'https://raw.githubusercontent.com/LambdaSchool/DS-Unit-2-Linear-Models/master/data/'\n",
        "    !pip install category_encoders==2.*\n",
        "\n",
        "# If you're working locally:\n",
        "else:\n",
        "    DATA_PATH = '../data/'"
      ],
      "execution_count": 0,
      "outputs": []
    },
    {
      "cell_type": "code",
      "metadata": {
        "id": "lZa1bIB1M6I6",
        "colab_type": "code",
        "colab": {}
      },
      "source": [
        "# Load data downloaded from https://srcole.github.io/100burritos/\n",
        "import pandas as pd\n",
        "df = pd.read_csv(DATA_PATH+'burritos/burritos.csv')"
      ],
      "execution_count": 0,
      "outputs": []
    },
    {
      "cell_type": "code",
      "metadata": {
        "id": "OwJn16gtM6JA",
        "colab_type": "code",
        "colab": {}
      },
      "source": [
        "# Derive binary classification target:\n",
        "# We define a 'Great' burrito as having an\n",
        "# overall rating of 4 or higher, on a 5 point scale.\n",
        "# Drop unrated burritos.\n",
        "df = df.dropna(subset=['overall'])\n",
        "df['Great'] = df['overall'] >= 4"
      ],
      "execution_count": 0,
      "outputs": []
    },
    {
      "cell_type": "code",
      "metadata": {
        "id": "Iee41yqwM6JF",
        "colab_type": "code",
        "colab": {}
      },
      "source": [
        "# Clean/combine the Burrito categories\n",
        "df['Burrito'] = df['Burrito'].str.lower()\n",
        "\n",
        "california = df['Burrito'].str.contains('california')\n",
        "asada = df['Burrito'].str.contains('asada')\n",
        "surf = df['Burrito'].str.contains('surf')\n",
        "carnitas = df['Burrito'].str.contains('carnitas')\n",
        "\n",
        "df.loc[california, 'Burrito'] = 'California'\n",
        "df.loc[asada, 'Burrito'] = 'Asada'\n",
        "df.loc[surf, 'Burrito'] = 'Surf & Turf'\n",
        "df.loc[carnitas, 'Burrito'] = 'Carnitas'\n",
        "df.loc[~california & ~asada & ~surf & ~carnitas, 'Burrito'] = 'Other'"
      ],
      "execution_count": 0,
      "outputs": []
    },
    {
      "cell_type": "code",
      "metadata": {
        "id": "PCsV3DmDM6JK",
        "colab_type": "code",
        "colab": {}
      },
      "source": [
        "# Drop some high cardinality categoricals\n",
        "df = df.drop(columns=['Notes', 'Location', 'Reviewer', 'Address', 'URL', 'Neighborhood'])"
      ],
      "execution_count": 0,
      "outputs": []
    },
    {
      "cell_type": "code",
      "metadata": {
        "id": "nRxvesnOM6JQ",
        "colab_type": "code",
        "colab": {}
      },
      "source": [
        "# Drop some columns to prevent \"leakage\"\n",
        "df = df.drop(columns=['Rec', 'overall'])"
      ],
      "execution_count": 0,
      "outputs": []
    },
    {
      "cell_type": "markdown",
      "metadata": {
        "id": "K2K2YyxOOWQn",
        "colab_type": "text"
      },
      "source": [
        "Do train/validate/test split. Train on reviews from 2016 & earlier. Validate on 2017. Test on 2018 & later."
      ]
    },
    {
      "cell_type": "code",
      "metadata": {
        "id": "c_v8MwgIM6JZ",
        "colab_type": "code",
        "colab": {
          "base_uri": "https://localhost:8080/",
          "height": 241
        },
        "outputId": "91b85b09-d1b3-49d7-acf2-4a1727b88921"
      },
      "source": [
        "df.head()"
      ],
      "execution_count": 140,
      "outputs": [
        {
          "output_type": "execute_result",
          "data": {
            "text/html": [
              "<div>\n",
              "<style scoped>\n",
              "    .dataframe tbody tr th:only-of-type {\n",
              "        vertical-align: middle;\n",
              "    }\n",
              "\n",
              "    .dataframe tbody tr th {\n",
              "        vertical-align: top;\n",
              "    }\n",
              "\n",
              "    .dataframe thead th {\n",
              "        text-align: right;\n",
              "    }\n",
              "</style>\n",
              "<table border=\"1\" class=\"dataframe\">\n",
              "  <thead>\n",
              "    <tr style=\"text-align: right;\">\n",
              "      <th></th>\n",
              "      <th>Burrito</th>\n",
              "      <th>Date</th>\n",
              "      <th>Yelp</th>\n",
              "      <th>Google</th>\n",
              "      <th>Chips</th>\n",
              "      <th>Cost</th>\n",
              "      <th>Hunger</th>\n",
              "      <th>Mass (g)</th>\n",
              "      <th>Density (g/mL)</th>\n",
              "      <th>Length</th>\n",
              "      <th>Circum</th>\n",
              "      <th>Volume</th>\n",
              "      <th>Tortilla</th>\n",
              "      <th>Temp</th>\n",
              "      <th>Meat</th>\n",
              "      <th>Fillings</th>\n",
              "      <th>Meat:filling</th>\n",
              "      <th>Uniformity</th>\n",
              "      <th>Salsa</th>\n",
              "      <th>Synergy</th>\n",
              "      <th>Wrap</th>\n",
              "      <th>Unreliable</th>\n",
              "      <th>NonSD</th>\n",
              "      <th>Beef</th>\n",
              "      <th>Pico</th>\n",
              "      <th>Guac</th>\n",
              "      <th>Cheese</th>\n",
              "      <th>Fries</th>\n",
              "      <th>Sour cream</th>\n",
              "      <th>Pork</th>\n",
              "      <th>Chicken</th>\n",
              "      <th>Shrimp</th>\n",
              "      <th>Fish</th>\n",
              "      <th>Rice</th>\n",
              "      <th>Beans</th>\n",
              "      <th>Lettuce</th>\n",
              "      <th>Tomato</th>\n",
              "      <th>Bell peper</th>\n",
              "      <th>Carrots</th>\n",
              "      <th>Cabbage</th>\n",
              "      <th>Sauce</th>\n",
              "      <th>Salsa.1</th>\n",
              "      <th>Cilantro</th>\n",
              "      <th>Onion</th>\n",
              "      <th>Taquito</th>\n",
              "      <th>Pineapple</th>\n",
              "      <th>Ham</th>\n",
              "      <th>Chile relleno</th>\n",
              "      <th>Nopales</th>\n",
              "      <th>Lobster</th>\n",
              "      <th>Queso</th>\n",
              "      <th>Egg</th>\n",
              "      <th>Mushroom</th>\n",
              "      <th>Bacon</th>\n",
              "      <th>Sushi</th>\n",
              "      <th>Avocado</th>\n",
              "      <th>Corn</th>\n",
              "      <th>Zucchini</th>\n",
              "      <th>Great</th>\n",
              "    </tr>\n",
              "  </thead>\n",
              "  <tbody>\n",
              "    <tr>\n",
              "      <th>0</th>\n",
              "      <td>California</td>\n",
              "      <td>1/18/2016</td>\n",
              "      <td>3.5</td>\n",
              "      <td>4.2</td>\n",
              "      <td>NaN</td>\n",
              "      <td>6.49</td>\n",
              "      <td>3.0</td>\n",
              "      <td>NaN</td>\n",
              "      <td>NaN</td>\n",
              "      <td>NaN</td>\n",
              "      <td>NaN</td>\n",
              "      <td>NaN</td>\n",
              "      <td>3.0</td>\n",
              "      <td>5.0</td>\n",
              "      <td>3.0</td>\n",
              "      <td>3.5</td>\n",
              "      <td>4.0</td>\n",
              "      <td>4.0</td>\n",
              "      <td>4.0</td>\n",
              "      <td>4.0</td>\n",
              "      <td>4.0</td>\n",
              "      <td>NaN</td>\n",
              "      <td>NaN</td>\n",
              "      <td>x</td>\n",
              "      <td>x</td>\n",
              "      <td>x</td>\n",
              "      <td>x</td>\n",
              "      <td>x</td>\n",
              "      <td>NaN</td>\n",
              "      <td>NaN</td>\n",
              "      <td>NaN</td>\n",
              "      <td>NaN</td>\n",
              "      <td>NaN</td>\n",
              "      <td>NaN</td>\n",
              "      <td>NaN</td>\n",
              "      <td>NaN</td>\n",
              "      <td>NaN</td>\n",
              "      <td>NaN</td>\n",
              "      <td>NaN</td>\n",
              "      <td>NaN</td>\n",
              "      <td>NaN</td>\n",
              "      <td>NaN</td>\n",
              "      <td>NaN</td>\n",
              "      <td>NaN</td>\n",
              "      <td>NaN</td>\n",
              "      <td>NaN</td>\n",
              "      <td>NaN</td>\n",
              "      <td>NaN</td>\n",
              "      <td>NaN</td>\n",
              "      <td>NaN</td>\n",
              "      <td>NaN</td>\n",
              "      <td>NaN</td>\n",
              "      <td>NaN</td>\n",
              "      <td>NaN</td>\n",
              "      <td>NaN</td>\n",
              "      <td>NaN</td>\n",
              "      <td>NaN</td>\n",
              "      <td>NaN</td>\n",
              "      <td>False</td>\n",
              "    </tr>\n",
              "    <tr>\n",
              "      <th>1</th>\n",
              "      <td>California</td>\n",
              "      <td>1/24/2016</td>\n",
              "      <td>3.5</td>\n",
              "      <td>3.3</td>\n",
              "      <td>NaN</td>\n",
              "      <td>5.45</td>\n",
              "      <td>3.5</td>\n",
              "      <td>NaN</td>\n",
              "      <td>NaN</td>\n",
              "      <td>NaN</td>\n",
              "      <td>NaN</td>\n",
              "      <td>NaN</td>\n",
              "      <td>2.0</td>\n",
              "      <td>3.5</td>\n",
              "      <td>2.5</td>\n",
              "      <td>2.5</td>\n",
              "      <td>2.0</td>\n",
              "      <td>4.0</td>\n",
              "      <td>3.5</td>\n",
              "      <td>2.5</td>\n",
              "      <td>5.0</td>\n",
              "      <td>NaN</td>\n",
              "      <td>NaN</td>\n",
              "      <td>x</td>\n",
              "      <td>x</td>\n",
              "      <td>x</td>\n",
              "      <td>x</td>\n",
              "      <td>x</td>\n",
              "      <td>NaN</td>\n",
              "      <td>NaN</td>\n",
              "      <td>NaN</td>\n",
              "      <td>NaN</td>\n",
              "      <td>NaN</td>\n",
              "      <td>NaN</td>\n",
              "      <td>NaN</td>\n",
              "      <td>NaN</td>\n",
              "      <td>NaN</td>\n",
              "      <td>NaN</td>\n",
              "      <td>NaN</td>\n",
              "      <td>NaN</td>\n",
              "      <td>NaN</td>\n",
              "      <td>NaN</td>\n",
              "      <td>NaN</td>\n",
              "      <td>NaN</td>\n",
              "      <td>NaN</td>\n",
              "      <td>NaN</td>\n",
              "      <td>NaN</td>\n",
              "      <td>NaN</td>\n",
              "      <td>NaN</td>\n",
              "      <td>NaN</td>\n",
              "      <td>NaN</td>\n",
              "      <td>NaN</td>\n",
              "      <td>NaN</td>\n",
              "      <td>NaN</td>\n",
              "      <td>NaN</td>\n",
              "      <td>NaN</td>\n",
              "      <td>NaN</td>\n",
              "      <td>NaN</td>\n",
              "      <td>False</td>\n",
              "    </tr>\n",
              "    <tr>\n",
              "      <th>2</th>\n",
              "      <td>Carnitas</td>\n",
              "      <td>1/24/2016</td>\n",
              "      <td>NaN</td>\n",
              "      <td>NaN</td>\n",
              "      <td>NaN</td>\n",
              "      <td>4.85</td>\n",
              "      <td>1.5</td>\n",
              "      <td>NaN</td>\n",
              "      <td>NaN</td>\n",
              "      <td>NaN</td>\n",
              "      <td>NaN</td>\n",
              "      <td>NaN</td>\n",
              "      <td>3.0</td>\n",
              "      <td>2.0</td>\n",
              "      <td>2.5</td>\n",
              "      <td>3.0</td>\n",
              "      <td>4.5</td>\n",
              "      <td>4.0</td>\n",
              "      <td>3.0</td>\n",
              "      <td>3.0</td>\n",
              "      <td>5.0</td>\n",
              "      <td>NaN</td>\n",
              "      <td>NaN</td>\n",
              "      <td>NaN</td>\n",
              "      <td>x</td>\n",
              "      <td>x</td>\n",
              "      <td>NaN</td>\n",
              "      <td>NaN</td>\n",
              "      <td>NaN</td>\n",
              "      <td>x</td>\n",
              "      <td>NaN</td>\n",
              "      <td>NaN</td>\n",
              "      <td>NaN</td>\n",
              "      <td>NaN</td>\n",
              "      <td>NaN</td>\n",
              "      <td>NaN</td>\n",
              "      <td>NaN</td>\n",
              "      <td>NaN</td>\n",
              "      <td>NaN</td>\n",
              "      <td>NaN</td>\n",
              "      <td>NaN</td>\n",
              "      <td>NaN</td>\n",
              "      <td>NaN</td>\n",
              "      <td>NaN</td>\n",
              "      <td>NaN</td>\n",
              "      <td>NaN</td>\n",
              "      <td>NaN</td>\n",
              "      <td>NaN</td>\n",
              "      <td>NaN</td>\n",
              "      <td>NaN</td>\n",
              "      <td>NaN</td>\n",
              "      <td>NaN</td>\n",
              "      <td>NaN</td>\n",
              "      <td>NaN</td>\n",
              "      <td>NaN</td>\n",
              "      <td>NaN</td>\n",
              "      <td>NaN</td>\n",
              "      <td>NaN</td>\n",
              "      <td>False</td>\n",
              "    </tr>\n",
              "    <tr>\n",
              "      <th>3</th>\n",
              "      <td>Asada</td>\n",
              "      <td>1/24/2016</td>\n",
              "      <td>NaN</td>\n",
              "      <td>NaN</td>\n",
              "      <td>NaN</td>\n",
              "      <td>5.25</td>\n",
              "      <td>2.0</td>\n",
              "      <td>NaN</td>\n",
              "      <td>NaN</td>\n",
              "      <td>NaN</td>\n",
              "      <td>NaN</td>\n",
              "      <td>NaN</td>\n",
              "      <td>3.0</td>\n",
              "      <td>2.0</td>\n",
              "      <td>3.5</td>\n",
              "      <td>3.0</td>\n",
              "      <td>4.0</td>\n",
              "      <td>5.0</td>\n",
              "      <td>4.0</td>\n",
              "      <td>4.0</td>\n",
              "      <td>5.0</td>\n",
              "      <td>NaN</td>\n",
              "      <td>NaN</td>\n",
              "      <td>x</td>\n",
              "      <td>x</td>\n",
              "      <td>x</td>\n",
              "      <td>NaN</td>\n",
              "      <td>NaN</td>\n",
              "      <td>NaN</td>\n",
              "      <td>NaN</td>\n",
              "      <td>NaN</td>\n",
              "      <td>NaN</td>\n",
              "      <td>NaN</td>\n",
              "      <td>NaN</td>\n",
              "      <td>NaN</td>\n",
              "      <td>NaN</td>\n",
              "      <td>NaN</td>\n",
              "      <td>NaN</td>\n",
              "      <td>NaN</td>\n",
              "      <td>NaN</td>\n",
              "      <td>NaN</td>\n",
              "      <td>NaN</td>\n",
              "      <td>NaN</td>\n",
              "      <td>NaN</td>\n",
              "      <td>NaN</td>\n",
              "      <td>NaN</td>\n",
              "      <td>NaN</td>\n",
              "      <td>NaN</td>\n",
              "      <td>NaN</td>\n",
              "      <td>NaN</td>\n",
              "      <td>NaN</td>\n",
              "      <td>NaN</td>\n",
              "      <td>NaN</td>\n",
              "      <td>NaN</td>\n",
              "      <td>NaN</td>\n",
              "      <td>NaN</td>\n",
              "      <td>NaN</td>\n",
              "      <td>NaN</td>\n",
              "      <td>False</td>\n",
              "    </tr>\n",
              "    <tr>\n",
              "      <th>4</th>\n",
              "      <td>California</td>\n",
              "      <td>1/27/2016</td>\n",
              "      <td>4.0</td>\n",
              "      <td>3.8</td>\n",
              "      <td>x</td>\n",
              "      <td>6.59</td>\n",
              "      <td>4.0</td>\n",
              "      <td>NaN</td>\n",
              "      <td>NaN</td>\n",
              "      <td>NaN</td>\n",
              "      <td>NaN</td>\n",
              "      <td>NaN</td>\n",
              "      <td>4.0</td>\n",
              "      <td>5.0</td>\n",
              "      <td>4.0</td>\n",
              "      <td>3.5</td>\n",
              "      <td>4.5</td>\n",
              "      <td>5.0</td>\n",
              "      <td>2.5</td>\n",
              "      <td>4.5</td>\n",
              "      <td>4.0</td>\n",
              "      <td>NaN</td>\n",
              "      <td>NaN</td>\n",
              "      <td>x</td>\n",
              "      <td>x</td>\n",
              "      <td>NaN</td>\n",
              "      <td>x</td>\n",
              "      <td>x</td>\n",
              "      <td>NaN</td>\n",
              "      <td>NaN</td>\n",
              "      <td>NaN</td>\n",
              "      <td>NaN</td>\n",
              "      <td>NaN</td>\n",
              "      <td>NaN</td>\n",
              "      <td>NaN</td>\n",
              "      <td>NaN</td>\n",
              "      <td>NaN</td>\n",
              "      <td>NaN</td>\n",
              "      <td>NaN</td>\n",
              "      <td>NaN</td>\n",
              "      <td>NaN</td>\n",
              "      <td>NaN</td>\n",
              "      <td>NaN</td>\n",
              "      <td>NaN</td>\n",
              "      <td>NaN</td>\n",
              "      <td>NaN</td>\n",
              "      <td>NaN</td>\n",
              "      <td>NaN</td>\n",
              "      <td>NaN</td>\n",
              "      <td>NaN</td>\n",
              "      <td>NaN</td>\n",
              "      <td>NaN</td>\n",
              "      <td>NaN</td>\n",
              "      <td>NaN</td>\n",
              "      <td>NaN</td>\n",
              "      <td>NaN</td>\n",
              "      <td>NaN</td>\n",
              "      <td>NaN</td>\n",
              "      <td>True</td>\n",
              "    </tr>\n",
              "  </tbody>\n",
              "</table>\n",
              "</div>"
            ],
            "text/plain": [
              "      Burrito       Date  Yelp  Google Chips  ...  Sushi  Avocado  Corn  Zucchini  Great\n",
              "0  California  1/18/2016   3.5     4.2   NaN  ...    NaN      NaN   NaN       NaN  False\n",
              "1  California  1/24/2016   3.5     3.3   NaN  ...    NaN      NaN   NaN       NaN  False\n",
              "2    Carnitas  1/24/2016   NaN     NaN   NaN  ...    NaN      NaN   NaN       NaN  False\n",
              "3       Asada  1/24/2016   NaN     NaN   NaN  ...    NaN      NaN   NaN       NaN  False\n",
              "4  California  1/27/2016   4.0     3.8     x  ...    NaN      NaN   NaN       NaN   True\n",
              "\n",
              "[5 rows x 59 columns]"
            ]
          },
          "metadata": {
            "tags": []
          },
          "execution_count": 140
        }
      ]
    },
    {
      "cell_type": "code",
      "metadata": {
        "id": "EHFjRjqNO-Ji",
        "colab_type": "code",
        "colab": {
          "base_uri": "https://localhost:8080/",
          "height": 1000
        },
        "outputId": "f077335f-af04-4a2f-fb11-b79a25c70c2a"
      },
      "source": [
        "df.dtypes"
      ],
      "execution_count": 141,
      "outputs": [
        {
          "output_type": "execute_result",
          "data": {
            "text/plain": [
              "Burrito            object\n",
              "Date               object\n",
              "Yelp              float64\n",
              "Google            float64\n",
              "Chips              object\n",
              "Cost              float64\n",
              "Hunger            float64\n",
              "Mass (g)          float64\n",
              "Density (g/mL)    float64\n",
              "Length            float64\n",
              "Circum            float64\n",
              "Volume            float64\n",
              "Tortilla          float64\n",
              "Temp              float64\n",
              "Meat              float64\n",
              "Fillings          float64\n",
              "Meat:filling      float64\n",
              "Uniformity        float64\n",
              "Salsa             float64\n",
              "Synergy           float64\n",
              "Wrap              float64\n",
              "Unreliable         object\n",
              "NonSD              object\n",
              "Beef               object\n",
              "Pico               object\n",
              "Guac               object\n",
              "Cheese             object\n",
              "Fries              object\n",
              "Sour cream         object\n",
              "Pork               object\n",
              "Chicken            object\n",
              "Shrimp             object\n",
              "Fish               object\n",
              "Rice               object\n",
              "Beans              object\n",
              "Lettuce            object\n",
              "Tomato             object\n",
              "Bell peper         object\n",
              "Carrots            object\n",
              "Cabbage            object\n",
              "Sauce              object\n",
              "Salsa.1            object\n",
              "Cilantro           object\n",
              "Onion              object\n",
              "Taquito            object\n",
              "Pineapple          object\n",
              "Ham                object\n",
              "Chile relleno      object\n",
              "Nopales            object\n",
              "Lobster            object\n",
              "Queso             float64\n",
              "Egg                object\n",
              "Mushroom           object\n",
              "Bacon              object\n",
              "Sushi              object\n",
              "Avocado            object\n",
              "Corn               object\n",
              "Zucchini           object\n",
              "Great                bool\n",
              "dtype: object"
            ]
          },
          "metadata": {
            "tags": []
          },
          "execution_count": 141
        }
      ]
    },
    {
      "cell_type": "code",
      "metadata": {
        "id": "AAtefUnjPJPU",
        "colab_type": "code",
        "colab": {}
      },
      "source": [
        "# Changing 'Date' from object to datetime\n",
        "df['Date'] = pd.to_datetime(df['Date'])"
      ],
      "execution_count": 0,
      "outputs": []
    },
    {
      "cell_type": "code",
      "metadata": {
        "id": "cryumGSwPna_",
        "colab_type": "code",
        "colab": {}
      },
      "source": [
        "# Checking if change worked\n",
        "df.dtypes"
      ],
      "execution_count": 0,
      "outputs": []
    },
    {
      "cell_type": "code",
      "metadata": {
        "id": "WiDvwdjXQPNT",
        "colab_type": "code",
        "colab": {}
      },
      "source": [
        "# Create train data for 2016 & earlier\n",
        "train = df[df['Date'].dt.year <= 2016]\n",
        "\n",
        "# Create validation data for 2017\n",
        "val = df[df['Date'].dt.year == 2017]\n",
        "\n",
        "# Create test data for 2018 & later\n",
        "test = df[df['Date'].dt.year >= 2018]"
      ],
      "execution_count": 0,
      "outputs": []
    },
    {
      "cell_type": "markdown",
      "metadata": {
        "id": "ctBgkqdRXh-W",
        "colab_type": "text"
      },
      "source": [
        "Begin with baselines for classification."
      ]
    },
    {
      "cell_type": "code",
      "metadata": {
        "id": "xX6RhKA7Svx_",
        "colab_type": "code",
        "colab": {
          "base_uri": "https://localhost:8080/",
          "height": 68
        },
        "outputId": "1f0e5154-8f1d-4e09-8191-a0cfcf36fec0"
      },
      "source": [
        "# Determine majority class\n",
        "target = 'Great'\n",
        "y_train = train[target]\n",
        "\n",
        "y_train.value_counts(normalize=True)"
      ],
      "execution_count": 145,
      "outputs": [
        {
          "output_type": "execute_result",
          "data": {
            "text/plain": [
              "False    0.590604\n",
              "True     0.409396\n",
              "Name: Great, dtype: float64"
            ]
          },
          "metadata": {
            "tags": []
          },
          "execution_count": 145
        }
      ]
    },
    {
      "cell_type": "code",
      "metadata": {
        "id": "KoZn1-Q2sbxT",
        "colab_type": "code",
        "colab": {}
      },
      "source": [
        "majority_class = y_train.mode()[0]"
      ],
      "execution_count": 0,
      "outputs": []
    },
    {
      "cell_type": "code",
      "metadata": {
        "id": "LqVAG6nWp8ox",
        "colab_type": "code",
        "colab": {
          "base_uri": "https://localhost:8080/",
          "height": 34
        },
        "outputId": "fc192528-7582-473f-ad69-03c1ae591426"
      },
      "source": [
        "from sklearn.metrics import accuracy_score\n",
        "\n",
        "# Training accuracy of majority class baseline(base rate)\n",
        "y_pred = [majority_class] * len(y_train)\n",
        "\n",
        "accuracy_score(y_train, y_pred)"
      ],
      "execution_count": 147,
      "outputs": [
        {
          "output_type": "execute_result",
          "data": {
            "text/plain": [
              "0.5906040268456376"
            ]
          },
          "metadata": {
            "tags": []
          },
          "execution_count": 147
        }
      ]
    },
    {
      "cell_type": "code",
      "metadata": {
        "id": "6-8kUOnPuLi_",
        "colab_type": "code",
        "colab": {
          "base_uri": "https://localhost:8080/",
          "height": 34
        },
        "outputId": "fab88df3-c712-4d41-d69b-e3bd5709acd4"
      },
      "source": [
        "# Validation accuracy of majority class baseline \n",
        "y_val = val[target]\n",
        "y_pred = [majority_class] * len(y_val)\n",
        "\n",
        "accuracy_score(y_val, y_pred)"
      ],
      "execution_count": 148,
      "outputs": [
        {
          "output_type": "execute_result",
          "data": {
            "text/plain": [
              "0.5529411764705883"
            ]
          },
          "metadata": {
            "tags": []
          },
          "execution_count": 148
        }
      ]
    },
    {
      "cell_type": "markdown",
      "metadata": {
        "id": "4DS1fO1gwmg0",
        "colab_type": "text"
      },
      "source": [
        "Use scikit-learn for logistic regression."
      ]
    },
    {
      "cell_type": "code",
      "metadata": {
        "id": "HIXb4Drxdb_c",
        "colab_type": "code",
        "colab": {
          "base_uri": "https://localhost:8080/",
          "height": 1000
        },
        "outputId": "642ecad1-d7ce-40ed-fd31-8c1a9d1d3361"
      },
      "source": [
        "# Sorting non-numeric columns by unique\n",
        "train.describe(exclude='number').T.sort_values(by='unique')"
      ],
      "execution_count": 149,
      "outputs": [
        {
          "output_type": "execute_result",
          "data": {
            "text/html": [
              "<div>\n",
              "<style scoped>\n",
              "    .dataframe tbody tr th:only-of-type {\n",
              "        vertical-align: middle;\n",
              "    }\n",
              "\n",
              "    .dataframe tbody tr th {\n",
              "        vertical-align: top;\n",
              "    }\n",
              "\n",
              "    .dataframe thead th {\n",
              "        text-align: right;\n",
              "    }\n",
              "</style>\n",
              "<table border=\"1\" class=\"dataframe\">\n",
              "  <thead>\n",
              "    <tr style=\"text-align: right;\">\n",
              "      <th></th>\n",
              "      <th>count</th>\n",
              "      <th>unique</th>\n",
              "      <th>top</th>\n",
              "      <th>freq</th>\n",
              "      <th>first</th>\n",
              "      <th>last</th>\n",
              "    </tr>\n",
              "  </thead>\n",
              "  <tbody>\n",
              "    <tr>\n",
              "      <th>Chile relleno</th>\n",
              "      <td>4</td>\n",
              "      <td>1</td>\n",
              "      <td>x</td>\n",
              "      <td>4</td>\n",
              "      <td>NaT</td>\n",
              "      <td>NaT</td>\n",
              "    </tr>\n",
              "    <tr>\n",
              "      <th>Ham</th>\n",
              "      <td>1</td>\n",
              "      <td>1</td>\n",
              "      <td>x</td>\n",
              "      <td>1</td>\n",
              "      <td>NaT</td>\n",
              "      <td>NaT</td>\n",
              "    </tr>\n",
              "    <tr>\n",
              "      <th>Zucchini</th>\n",
              "      <td>1</td>\n",
              "      <td>1</td>\n",
              "      <td>x</td>\n",
              "      <td>1</td>\n",
              "      <td>NaT</td>\n",
              "      <td>NaT</td>\n",
              "    </tr>\n",
              "    <tr>\n",
              "      <th>Nopales</th>\n",
              "      <td>4</td>\n",
              "      <td>1</td>\n",
              "      <td>x</td>\n",
              "      <td>4</td>\n",
              "      <td>NaT</td>\n",
              "      <td>NaT</td>\n",
              "    </tr>\n",
              "    <tr>\n",
              "      <th>Lobster</th>\n",
              "      <td>1</td>\n",
              "      <td>1</td>\n",
              "      <td>x</td>\n",
              "      <td>1</td>\n",
              "      <td>NaT</td>\n",
              "      <td>NaT</td>\n",
              "    </tr>\n",
              "    <tr>\n",
              "      <th>Egg</th>\n",
              "      <td>4</td>\n",
              "      <td>1</td>\n",
              "      <td>x</td>\n",
              "      <td>4</td>\n",
              "      <td>NaT</td>\n",
              "      <td>NaT</td>\n",
              "    </tr>\n",
              "    <tr>\n",
              "      <th>Carrots</th>\n",
              "      <td>1</td>\n",
              "      <td>1</td>\n",
              "      <td>x</td>\n",
              "      <td>1</td>\n",
              "      <td>NaT</td>\n",
              "      <td>NaT</td>\n",
              "    </tr>\n",
              "    <tr>\n",
              "      <th>Bacon</th>\n",
              "      <td>3</td>\n",
              "      <td>1</td>\n",
              "      <td>x</td>\n",
              "      <td>3</td>\n",
              "      <td>NaT</td>\n",
              "      <td>NaT</td>\n",
              "    </tr>\n",
              "    <tr>\n",
              "      <th>Sushi</th>\n",
              "      <td>2</td>\n",
              "      <td>1</td>\n",
              "      <td>x</td>\n",
              "      <td>2</td>\n",
              "      <td>NaT</td>\n",
              "      <td>NaT</td>\n",
              "    </tr>\n",
              "    <tr>\n",
              "      <th>Unreliable</th>\n",
              "      <td>27</td>\n",
              "      <td>1</td>\n",
              "      <td>x</td>\n",
              "      <td>27</td>\n",
              "      <td>NaT</td>\n",
              "      <td>NaT</td>\n",
              "    </tr>\n",
              "    <tr>\n",
              "      <th>Avocado</th>\n",
              "      <td>13</td>\n",
              "      <td>1</td>\n",
              "      <td>x</td>\n",
              "      <td>13</td>\n",
              "      <td>NaT</td>\n",
              "      <td>NaT</td>\n",
              "    </tr>\n",
              "    <tr>\n",
              "      <th>Mushroom</th>\n",
              "      <td>3</td>\n",
              "      <td>1</td>\n",
              "      <td>x</td>\n",
              "      <td>3</td>\n",
              "      <td>NaT</td>\n",
              "      <td>NaT</td>\n",
              "    </tr>\n",
              "    <tr>\n",
              "      <th>Corn</th>\n",
              "      <td>2</td>\n",
              "      <td>2</td>\n",
              "      <td>X</td>\n",
              "      <td>1</td>\n",
              "      <td>NaT</td>\n",
              "      <td>NaT</td>\n",
              "    </tr>\n",
              "    <tr>\n",
              "      <th>Pineapple</th>\n",
              "      <td>7</td>\n",
              "      <td>2</td>\n",
              "      <td>x</td>\n",
              "      <td>5</td>\n",
              "      <td>NaT</td>\n",
              "      <td>NaT</td>\n",
              "    </tr>\n",
              "    <tr>\n",
              "      <th>Taquito</th>\n",
              "      <td>4</td>\n",
              "      <td>2</td>\n",
              "      <td>x</td>\n",
              "      <td>3</td>\n",
              "      <td>NaT</td>\n",
              "      <td>NaT</td>\n",
              "    </tr>\n",
              "    <tr>\n",
              "      <th>Onion</th>\n",
              "      <td>17</td>\n",
              "      <td>2</td>\n",
              "      <td>x</td>\n",
              "      <td>9</td>\n",
              "      <td>NaT</td>\n",
              "      <td>NaT</td>\n",
              "    </tr>\n",
              "    <tr>\n",
              "      <th>Cilantro</th>\n",
              "      <td>15</td>\n",
              "      <td>2</td>\n",
              "      <td>x</td>\n",
              "      <td>9</td>\n",
              "      <td>NaT</td>\n",
              "      <td>NaT</td>\n",
              "    </tr>\n",
              "    <tr>\n",
              "      <th>Salsa.1</th>\n",
              "      <td>6</td>\n",
              "      <td>2</td>\n",
              "      <td>x</td>\n",
              "      <td>5</td>\n",
              "      <td>NaT</td>\n",
              "      <td>NaT</td>\n",
              "    </tr>\n",
              "    <tr>\n",
              "      <th>Sauce</th>\n",
              "      <td>37</td>\n",
              "      <td>2</td>\n",
              "      <td>x</td>\n",
              "      <td>33</td>\n",
              "      <td>NaT</td>\n",
              "      <td>NaT</td>\n",
              "    </tr>\n",
              "    <tr>\n",
              "      <th>Cabbage</th>\n",
              "      <td>7</td>\n",
              "      <td>2</td>\n",
              "      <td>x</td>\n",
              "      <td>5</td>\n",
              "      <td>NaT</td>\n",
              "      <td>NaT</td>\n",
              "    </tr>\n",
              "    <tr>\n",
              "      <th>Bell peper</th>\n",
              "      <td>7</td>\n",
              "      <td>2</td>\n",
              "      <td>x</td>\n",
              "      <td>4</td>\n",
              "      <td>NaT</td>\n",
              "      <td>NaT</td>\n",
              "    </tr>\n",
              "    <tr>\n",
              "      <th>Great</th>\n",
              "      <td>298</td>\n",
              "      <td>2</td>\n",
              "      <td>False</td>\n",
              "      <td>176</td>\n",
              "      <td>NaT</td>\n",
              "      <td>NaT</td>\n",
              "    </tr>\n",
              "    <tr>\n",
              "      <th>Lettuce</th>\n",
              "      <td>11</td>\n",
              "      <td>2</td>\n",
              "      <td>x</td>\n",
              "      <td>9</td>\n",
              "      <td>NaT</td>\n",
              "      <td>NaT</td>\n",
              "    </tr>\n",
              "    <tr>\n",
              "      <th>Chips</th>\n",
              "      <td>22</td>\n",
              "      <td>2</td>\n",
              "      <td>x</td>\n",
              "      <td>19</td>\n",
              "      <td>NaT</td>\n",
              "      <td>NaT</td>\n",
              "    </tr>\n",
              "    <tr>\n",
              "      <th>NonSD</th>\n",
              "      <td>5</td>\n",
              "      <td>2</td>\n",
              "      <td>x</td>\n",
              "      <td>3</td>\n",
              "      <td>NaT</td>\n",
              "      <td>NaT</td>\n",
              "    </tr>\n",
              "    <tr>\n",
              "      <th>Beef</th>\n",
              "      <td>168</td>\n",
              "      <td>2</td>\n",
              "      <td>x</td>\n",
              "      <td>130</td>\n",
              "      <td>NaT</td>\n",
              "      <td>NaT</td>\n",
              "    </tr>\n",
              "    <tr>\n",
              "      <th>Pico</th>\n",
              "      <td>143</td>\n",
              "      <td>2</td>\n",
              "      <td>x</td>\n",
              "      <td>115</td>\n",
              "      <td>NaT</td>\n",
              "      <td>NaT</td>\n",
              "    </tr>\n",
              "    <tr>\n",
              "      <th>Guac</th>\n",
              "      <td>139</td>\n",
              "      <td>2</td>\n",
              "      <td>x</td>\n",
              "      <td>101</td>\n",
              "      <td>NaT</td>\n",
              "      <td>NaT</td>\n",
              "    </tr>\n",
              "    <tr>\n",
              "      <th>Cheese</th>\n",
              "      <td>149</td>\n",
              "      <td>2</td>\n",
              "      <td>x</td>\n",
              "      <td>121</td>\n",
              "      <td>NaT</td>\n",
              "      <td>NaT</td>\n",
              "    </tr>\n",
              "    <tr>\n",
              "      <th>Tomato</th>\n",
              "      <td>7</td>\n",
              "      <td>2</td>\n",
              "      <td>x</td>\n",
              "      <td>5</td>\n",
              "      <td>NaT</td>\n",
              "      <td>NaT</td>\n",
              "    </tr>\n",
              "    <tr>\n",
              "      <th>Fries</th>\n",
              "      <td>119</td>\n",
              "      <td>2</td>\n",
              "      <td>x</td>\n",
              "      <td>97</td>\n",
              "      <td>NaT</td>\n",
              "      <td>NaT</td>\n",
              "    </tr>\n",
              "    <tr>\n",
              "      <th>Pork</th>\n",
              "      <td>43</td>\n",
              "      <td>2</td>\n",
              "      <td>x</td>\n",
              "      <td>29</td>\n",
              "      <td>NaT</td>\n",
              "      <td>NaT</td>\n",
              "    </tr>\n",
              "    <tr>\n",
              "      <th>Chicken</th>\n",
              "      <td>20</td>\n",
              "      <td>2</td>\n",
              "      <td>x</td>\n",
              "      <td>19</td>\n",
              "      <td>NaT</td>\n",
              "      <td>NaT</td>\n",
              "    </tr>\n",
              "    <tr>\n",
              "      <th>Shrimp</th>\n",
              "      <td>20</td>\n",
              "      <td>2</td>\n",
              "      <td>x</td>\n",
              "      <td>17</td>\n",
              "      <td>NaT</td>\n",
              "      <td>NaT</td>\n",
              "    </tr>\n",
              "    <tr>\n",
              "      <th>Fish</th>\n",
              "      <td>5</td>\n",
              "      <td>2</td>\n",
              "      <td>x</td>\n",
              "      <td>3</td>\n",
              "      <td>NaT</td>\n",
              "      <td>NaT</td>\n",
              "    </tr>\n",
              "    <tr>\n",
              "      <th>Rice</th>\n",
              "      <td>33</td>\n",
              "      <td>2</td>\n",
              "      <td>x</td>\n",
              "      <td>24</td>\n",
              "      <td>NaT</td>\n",
              "      <td>NaT</td>\n",
              "    </tr>\n",
              "    <tr>\n",
              "      <th>Beans</th>\n",
              "      <td>32</td>\n",
              "      <td>2</td>\n",
              "      <td>x</td>\n",
              "      <td>24</td>\n",
              "      <td>NaT</td>\n",
              "      <td>NaT</td>\n",
              "    </tr>\n",
              "    <tr>\n",
              "      <th>Sour cream</th>\n",
              "      <td>85</td>\n",
              "      <td>2</td>\n",
              "      <td>x</td>\n",
              "      <td>63</td>\n",
              "      <td>NaT</td>\n",
              "      <td>NaT</td>\n",
              "    </tr>\n",
              "    <tr>\n",
              "      <th>Burrito</th>\n",
              "      <td>298</td>\n",
              "      <td>5</td>\n",
              "      <td>California</td>\n",
              "      <td>118</td>\n",
              "      <td>NaT</td>\n",
              "      <td>NaT</td>\n",
              "    </tr>\n",
              "    <tr>\n",
              "      <th>Date</th>\n",
              "      <td>298</td>\n",
              "      <td>110</td>\n",
              "      <td>2016-08-30 00:00:00</td>\n",
              "      <td>29</td>\n",
              "      <td>2011-05-16</td>\n",
              "      <td>2016-12-15</td>\n",
              "    </tr>\n",
              "  </tbody>\n",
              "</table>\n",
              "</div>"
            ],
            "text/plain": [
              "              count unique                  top freq      first       last\n",
              "Chile relleno     4      1                    x    4        NaT        NaT\n",
              "Ham               1      1                    x    1        NaT        NaT\n",
              "Zucchini          1      1                    x    1        NaT        NaT\n",
              "Nopales           4      1                    x    4        NaT        NaT\n",
              "Lobster           1      1                    x    1        NaT        NaT\n",
              "Egg               4      1                    x    4        NaT        NaT\n",
              "Carrots           1      1                    x    1        NaT        NaT\n",
              "Bacon             3      1                    x    3        NaT        NaT\n",
              "Sushi             2      1                    x    2        NaT        NaT\n",
              "Unreliable       27      1                    x   27        NaT        NaT\n",
              "Avocado          13      1                    x   13        NaT        NaT\n",
              "Mushroom          3      1                    x    3        NaT        NaT\n",
              "Corn              2      2                    X    1        NaT        NaT\n",
              "Pineapple         7      2                    x    5        NaT        NaT\n",
              "Taquito           4      2                    x    3        NaT        NaT\n",
              "Onion            17      2                    x    9        NaT        NaT\n",
              "Cilantro         15      2                    x    9        NaT        NaT\n",
              "Salsa.1           6      2                    x    5        NaT        NaT\n",
              "Sauce            37      2                    x   33        NaT        NaT\n",
              "Cabbage           7      2                    x    5        NaT        NaT\n",
              "Bell peper        7      2                    x    4        NaT        NaT\n",
              "Great           298      2                False  176        NaT        NaT\n",
              "Lettuce          11      2                    x    9        NaT        NaT\n",
              "Chips            22      2                    x   19        NaT        NaT\n",
              "NonSD             5      2                    x    3        NaT        NaT\n",
              "Beef            168      2                    x  130        NaT        NaT\n",
              "Pico            143      2                    x  115        NaT        NaT\n",
              "Guac            139      2                    x  101        NaT        NaT\n",
              "Cheese          149      2                    x  121        NaT        NaT\n",
              "Tomato            7      2                    x    5        NaT        NaT\n",
              "Fries           119      2                    x   97        NaT        NaT\n",
              "Pork             43      2                    x   29        NaT        NaT\n",
              "Chicken          20      2                    x   19        NaT        NaT\n",
              "Shrimp           20      2                    x   17        NaT        NaT\n",
              "Fish              5      2                    x    3        NaT        NaT\n",
              "Rice             33      2                    x   24        NaT        NaT\n",
              "Beans            32      2                    x   24        NaT        NaT\n",
              "Sour cream       85      2                    x   63        NaT        NaT\n",
              "Burrito         298      5           California  118        NaT        NaT\n",
              "Date            298    110  2016-08-30 00:00:00   29 2011-05-16 2016-12-15"
            ]
          },
          "metadata": {
            "tags": []
          },
          "execution_count": 149
        }
      ]
    },
    {
      "cell_type": "code",
      "metadata": {
        "id": "wtH-nZ4leHF9",
        "colab_type": "code",
        "colab": {
          "base_uri": "https://localhost:8080/",
          "height": 119
        },
        "outputId": "b7b0306e-4908-40f6-c381-650eb252de6c"
      },
      "source": [
        "# Checking contents of column\n",
        "train['Burrito'].value_counts()"
      ],
      "execution_count": 150,
      "outputs": [
        {
          "output_type": "execute_result",
          "data": {
            "text/plain": [
              "California     118\n",
              "Other          110\n",
              "Asada           35\n",
              "Surf & Turf     21\n",
              "Carnitas        14\n",
              "Name: Burrito, dtype: int64"
            ]
          },
          "metadata": {
            "tags": []
          },
          "execution_count": 150
        }
      ]
    },
    {
      "cell_type": "code",
      "metadata": {
        "id": "bKBTdjBshazP",
        "colab_type": "code",
        "colab": {}
      },
      "source": [
        "# Dropping categorical columns with high cardinality\n",
        "target = 'Great'\n",
        "high_cardinality = ['Date']\n",
        "features = train.columns.drop([target] + high_cardinality)"
      ],
      "execution_count": 0,
      "outputs": []
    },
    {
      "cell_type": "code",
      "metadata": {
        "id": "r7YgDCOwgCrG",
        "colab_type": "code",
        "colab": {}
      },
      "source": [
        "# Creating X_train/val/test and y_train/val/test with the useful features\n",
        "X_train = train[features]\n",
        "y_train = train[target]\n",
        "\n",
        "X_test = test[features]\n",
        "y_test = test[target]\n",
        "\n",
        "X_val = val[features]\n",
        "y_val = val[target]"
      ],
      "execution_count": 0,
      "outputs": []
    },
    {
      "cell_type": "code",
      "metadata": {
        "id": "IblNVBLJlal7",
        "colab_type": "code",
        "colab": {}
      },
      "source": [
        "# One-hot encoding\n",
        "import category_encoders as ce\n",
        "\n",
        "# Using fit_transform on X_train\n",
        "encoder = ce.OneHotEncoder(use_cat_names=True)\n",
        "X_train_encoded = encoder.fit_transform(X_train)\n",
        "\n",
        "# Using encoder.transform on X_val (no .fit)\n",
        "X_val_encoded = encoder.transform(X_val)\n",
        "\n",
        "# Using encoder.transform on X_test (no .fit)\n",
        "X_test_encoded = encoder.transform(X_test)"
      ],
      "execution_count": 0,
      "outputs": []
    },
    {
      "cell_type": "code",
      "metadata": {
        "id": "nLwEPDiTwnif",
        "colab_type": "code",
        "colab": {}
      },
      "source": [
        "# Impute missing values\n",
        "from sklearn.impute import SimpleImputer\n",
        "\n",
        "# Using fit_transform on X_train_encoded\n",
        "imputer = SimpleImputer()\n",
        "X_train_imputed = imputer.fit_transform(X_train_encoded)\n",
        "\n",
        "# Using imputer.transform on X_val_encoded (no .fit)\n",
        "X_val_imputed = imputer.transform(X_val_encoded)\n",
        "\n",
        "# Using imputer.transform on X_val_encoded (no .fit)\n",
        "X_test_imputed = imputer.transform(X_test_encoded)"
      ],
      "execution_count": 0,
      "outputs": []
    },
    {
      "cell_type": "code",
      "metadata": {
        "id": "0rouoy1G1yBf",
        "colab_type": "code",
        "colab": {}
      },
      "source": [
        "# Scaling\n",
        "from sklearn.preprocessing import StandardScaler\n",
        "\n",
        "scaler = StandardScaler()\n",
        "\n",
        "# Using fit.transform on X_val_imputed\n",
        "X_train_scaled = scaler.fit_transform(X_train_imputed)\n",
        "\n",
        "# Using scaler.transform on X_val_imputed (no .fit)\n",
        "X_val_scaled = scaler.transform(X_val_imputed)\n",
        "\n",
        "# Using scaler.transform on X_val_imputed (no .fit)\n",
        "X_test_scaled = scaler.transform(X_test_imputed)"
      ],
      "execution_count": 0,
      "outputs": []
    },
    {
      "cell_type": "code",
      "metadata": {
        "id": "eNV0wNyG9Dqr",
        "colab_type": "code",
        "colab": {
          "base_uri": "https://localhost:8080/",
          "height": 102
        },
        "outputId": "7a43ca8b-3bd9-4281-fb7f-0145f474e1c3"
      },
      "source": [
        "from sklearn.linear_model import LogisticRegression\n",
        "\n",
        "model = LogisticRegression()\n",
        "model.fit(X_train_scaled, y_train)\n",
        "model.fit(X_val_scaled, y_val)\n",
        "model.fit(X_test_scaled, y_test)"
      ],
      "execution_count": 179,
      "outputs": [
        {
          "output_type": "execute_result",
          "data": {
            "text/plain": [
              "LogisticRegression(C=1.0, class_weight=None, dual=False, fit_intercept=True,\n",
              "                   intercept_scaling=1, l1_ratio=None, max_iter=100,\n",
              "                   multi_class='auto', n_jobs=None, penalty='l2',\n",
              "                   random_state=None, solver='lbfgs', tol=0.0001, verbose=0,\n",
              "                   warm_start=False)"
            ]
          },
          "metadata": {
            "tags": []
          },
          "execution_count": 179
        }
      ]
    },
    {
      "cell_type": "markdown",
      "metadata": {
        "id": "kj4-vit13Qnd",
        "colab_type": "text"
      },
      "source": [
        "Get your model's validation accuracy. (Multiple times if you try multiple iterations.)"
      ]
    },
    {
      "cell_type": "code",
      "metadata": {
        "id": "wRdKUPch3Vj0",
        "colab_type": "code",
        "colab": {
          "base_uri": "https://localhost:8080/",
          "height": 51
        },
        "outputId": "07cf15f6-660f-48a4-c4eb-35ebc9a7d5c2"
      },
      "source": [
        "print('Validation Accuracy', model.score(X_train_scaled, y_train))\n",
        "print('Validation Accuracy', model.score(X_val_scaled, y_val))"
      ],
      "execution_count": 180,
      "outputs": [
        {
          "output_type": "stream",
          "text": [
            "Validation Accuracy 0.7785234899328859\n",
            "Validation Accuracy 0.6941176470588235\n"
          ],
          "name": "stdout"
        }
      ]
    },
    {
      "cell_type": "markdown",
      "metadata": {
        "id": "ZFGKUwtbBwER",
        "colab_type": "text"
      },
      "source": [
        "Get your model's test accuracy. (One time, at the end.)"
      ]
    },
    {
      "cell_type": "code",
      "metadata": {
        "id": "ZhbRndNYBzf3",
        "colab_type": "code",
        "colab": {
          "base_uri": "https://localhost:8080/",
          "height": 34
        },
        "outputId": "668c1c31-8737-48cb-cba1-99c1b43bf216"
      },
      "source": [
        "print('Test Accuracy', model.score(X_test_scaled, y_test))"
      ],
      "execution_count": 176,
      "outputs": [
        {
          "output_type": "stream",
          "text": [
            "Test Accuracy 1.0\n"
          ],
          "name": "stdout"
        }
      ]
    }
  ]
}