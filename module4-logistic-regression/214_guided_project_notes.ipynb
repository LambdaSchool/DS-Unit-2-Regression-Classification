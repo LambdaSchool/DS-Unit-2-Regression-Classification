{
  "nbformat": 4,
  "nbformat_minor": 0,
  "metadata": {
    "colab": {
      "name": "214_guided-project-notes.ipynb",
      "provenance": [],
      "collapsed_sections": []
    },
    "kernelspec": {
      "name": "python3",
      "display_name": "Python 3"
    }
  },
  "cells": [
    {
      "cell_type": "markdown",
      "metadata": {
        "id": "ff_NZhdHCvfc"
      },
      "source": [
        "BloomTech Data Science\n",
        "\n",
        "*Unit 2, Sprint 1, Module 4*\n",
        "\n",
        "---"
      ]
    },
    {
      "cell_type": "code",
      "metadata": {
        "id": "IorwKysWC9zl"
      },
      "source": [
        "%%capture\n",
        "import sys\n",
        "\n",
        "# If you're on Colab:\n",
        "if 'google.colab' in sys.modules:\n",
        "    DATA_PATH = 'https://raw.githubusercontent.com/LambdaSchool/DS-Unit-2-Linear-Models/master/data/'\n",
        "    !pip install category_encoders==2.*\n",
        "\n",
        "# If you're working locally:\n",
        "else:\n",
        "    DATA_PATH = '../data/'\n",
        "\n",
        "# Libraries for today's project\n",
        "from category_encoders import OneHotEncoder\n",
        "from sklearn.impute import SimpleImputer\n",
        "from sklearn.linear_model import LogisticRegression\n",
        "from sklearn.model_selection import train_test_split\n",
        "from sklearn.pipeline import make_pipeline\n",
        "from sklearn.preprocessing import StandardScaler\n",
        "import matplotlib.pyplot as plt\n",
        "import pandas as pd"
      ],
      "execution_count": 1,
      "outputs": []
    },
    {
      "cell_type": "markdown",
      "metadata": {
        "id": "u0tT4qPmCzUF"
      },
      "source": [
        "# Part 1: Sprint Challenge Practice\n",
        "\n",
        "- Can I import a CSV file into a DataFrame?\n",
        "- Can I create a scatter plot?\n",
        "- Can I split a DataFrame into a target vector and feature matrix?\n",
        "- Can I split a dataset into a training set and a test set?\n",
        "- Can I establish the baseline mean absolute error for a regression problem?\n",
        "- Can I combine transformers with a predictor using a pipeline?\n",
        "- Can I build a linear regresion model and a ridge regression model?\n",
        "- Can I evaluate a model using common metrics like mean absolute error, root mean squared error, and R^2?\n",
        "- If given a feature matrix, can I use my model to create a list of predictions?\n",
        "- Can I create a horizontal bar chart with the coefficients from a linear model?"
      ]
    },
    {
      "cell_type": "markdown",
      "metadata": {
        "id": "x-sAbpUqC3dt"
      },
      "source": [
        "# Part 2: Pipelines and Plotting\n",
        "\n",
        "Let's revise [our work from yesterday](https://tinyurl.com/yb9cz6n5)."
      ]
    },
    {
      "cell_type": "markdown",
      "metadata": {
        "id": "XD8xTT0yC-bq"
      },
      "source": [
        "# Part 3: Logistic Regression"
      ]
    },
    {
      "cell_type": "markdown",
      "metadata": {
        "id": "2Cz8n4xnWmok"
      },
      "source": [
        "# I. Wrangle Data"
      ]
    },
    {
      "cell_type": "code",
      "metadata": {
        "id": "BMkDazfUzP_v"
      },
      "source": [
        "def wrangle(filepath):\n",
        "  df = pd.read_csv(filepath, index_col=['PassengerId'])\n",
        "  df = df.drop(columns=['Name', 'Ticket', 'Cabin'])\n",
        "  df['Pclass'] = df['Pclass'].astype('object')\n",
        "  return df\n",
        "\n",
        "#THE FIRST SPLIT IS DONE ALREADY\n",
        "train_file = DATA_PATH+'titanic/train.csv'\n",
        "test_file = DATA_PATH+'titanic/test.csv'\n",
        "\n",
        "#MUST ALWAYS WRANGLE TRAIN AND TEST IDENTICALLY\n",
        "df = wrangle(train_file)\n",
        "X_test = wrangle(test_file) #THE SURVIVED COLUMN HAS BEEN REMOVED (PART OF KAGGLE COMPETITION)"
      ],
      "execution_count": 15,
      "outputs": []
    },
    {
      "cell_type": "code",
      "metadata": {
        "id": "LHnXr8RCV-lo",
        "outputId": "49bcbb57-f6a2-4657-b77a-f66047e0ae62",
        "colab": {
          "base_uri": "https://localhost:8080/"
        }
      },
      "source": [
        "print(list(df.columns)); print()\n",
        "print(list(X_test.columns)); print()\n",
        "\n",
        "df.isnull().sum()"
      ],
      "execution_count": 17,
      "outputs": [
        {
          "output_type": "stream",
          "name": "stdout",
          "text": [
            "['Survived', 'Pclass', 'Sex', 'Age', 'SibSp', 'Parch', 'Fare', 'Embarked']\n",
            "\n",
            "['Pclass', 'Sex', 'Age', 'SibSp', 'Parch', 'Fare', 'Embarked']\n",
            "\n"
          ]
        },
        {
          "output_type": "execute_result",
          "data": {
            "text/plain": [
              "Survived      0\n",
              "Pclass        0\n",
              "Sex           0\n",
              "Age         177\n",
              "SibSp         0\n",
              "Parch         0\n",
              "Fare          0\n",
              "Embarked      2\n",
              "dtype: int64"
            ]
          },
          "metadata": {},
          "execution_count": 17
        }
      ]
    },
    {
      "cell_type": "markdown",
      "metadata": {
        "id": "Vy-2aFoDXrar"
      },
      "source": [
        "## II. Split Data"
      ]
    },
    {
      "cell_type": "code",
      "metadata": {
        "id": "ARITmeldXfvP"
      },
      "source": [
        "target = 'Survived'\n",
        "y=df[target]\n",
        "X=df.drop(columns=target)"
      ],
      "execution_count": 18,
      "outputs": []
    },
    {
      "cell_type": "markdown",
      "metadata": {
        "id": "7xTafalS_8V1"
      },
      "source": [
        "Since there's no time series component, we should do a randomized train-validation split."
      ]
    },
    {
      "cell_type": "code",
      "metadata": {
        "id": "JbtV3_BuX2oL"
      },
      "source": [
        "X_train, X_val, y_train, y_val = train_test_split(X, y, test_size=0.2, random_state=42)"
      ],
      "execution_count": 20,
      "outputs": []
    },
    {
      "cell_type": "markdown",
      "metadata": {
        "id": "BQ0X5kSGZtge"
      },
      "source": [
        "## III. Establish our baseline\n",
        "\n",
        "- This is a **classification problem**, so we look at the **majority class** to calculate baseline **accuracy score**."
      ]
    },
    {
      "cell_type": "code",
      "metadata": {
        "id": "jZnTAwBCvVVA",
        "outputId": "8c368c1f-1261-4c47-f405-ec2ef4fff1b4",
        "colab": {
          "base_uri": "https://localhost:8080/"
        }
      },
      "source": [
        "print( pd.DataFrame(y_train.value_counts(normalize=True)*100) )\n",
        "baseline_accuracy = (y_train.value_counts(normalize=True)*100).max()"
      ],
      "execution_count": 35,
      "outputs": [
        {
          "output_type": "stream",
          "name": "stdout",
          "text": [
            "    Survived\n",
            "0  62.359551\n",
            "1  37.640449\n"
          ]
        }
      ]
    },
    {
      "cell_type": "markdown",
      "metadata": {
        "id": "rhN5A57katzk"
      },
      "source": [
        "## IV. Build Model\n",
        "\n",
        "- Why would regular linear regression not work here?"
      ]
    },
    {
      "cell_type": "code",
      "metadata": {
        "id": "PVvpbpAjMQN8",
        "outputId": "906306c4-7165-4e57-e7c5-f5b4e0a855e9",
        "colab": {
          "base_uri": "https://localhost:8080/",
          "height": 279
        }
      },
      "source": [
        "plt.scatter(X_train['Age'], y_train)\n",
        "plt.xlabel('Age')\n",
        "plt.ylabel('Survived')\n",
        "plt.show()"
      ],
      "execution_count": 36,
      "outputs": [
        {
          "output_type": "display_data",
          "data": {
            "image/png": "[encoded data removed]",
            "text/plain": [
              "<Figure size 432x288 with 1 Axes>"
            ]
          },
          "metadata": {
            "needs_background": "light"
          }
        }
      ]
    },
    {
      "cell_type": "markdown",
      "metadata": {
        "id": "TQJGl2ppb005"
      },
      "source": [
        "We fit the data to a sigmoid function with beta parameters\n",
        "\n",
        "This function returns a probability value and you need to determine the **decision bound**: the level at which something is categorized as 0 or 1, default to 0.5\n",
        "\n",
        "Logistic Regression can be used for more than 2 classifications by converting the target to multiple binary values "
      ]
    },
    {
      "cell_type": "markdown",
      "metadata": {
        "id": "vEbK3zKW80aN"
      },
      "source": [
        "What we need for our model pipeline:\n",
        "\n",
        "- `OneHotEncoder`\n",
        "- `SimpleImputer`: **Fills in null values**\n",
        "- `StandardScaler`: **Convert every feature to the same scale so that large numbers do not dominate**\n",
        "- `LogisticRegression`"
      ]
    },
    {
      "cell_type": "code",
      "metadata": {
        "id": "lWutdA_3eNFK"
      },
      "source": [
        "from sklearn.pipeline import make_pipeline"
      ],
      "execution_count": null,
      "outputs": []
    },
    {
      "cell_type": "code",
      "metadata": {
        "id": "HWCW8vH18z_s",
        "outputId": "918077a1-3415-45c9-a1d5-b968feedcc69",
        "colab": {
          "base_uri": "https://localhost:8080/"
        }
      },
      "source": [
        "model_log = make_pipeline(\n",
        "    OneHotEncoder(use_cat_names=True),\n",
        "    SimpleImputer(strategy='mean'),\n",
        "    StandardScaler(),\n",
        "    LogisticRegression()\n",
        ")\n",
        "model_log.fit(X_train, y_train)"
      ],
      "execution_count": 39,
      "outputs": [
        {
          "output_type": "execute_result",
          "data": {
            "text/plain": [
              "Pipeline(steps=[('onehotencoder',\n",
              "                 OneHotEncoder(cols=['Pclass', 'Sex', 'Embarked'],\n",
              "                               use_cat_names=True)),\n",
              "                ('simpleimputer', SimpleImputer()),\n",
              "                ('standardscaler', StandardScaler()),\n",
              "                ('logisticregression', LogisticRegression())])"
            ]
          },
          "metadata": {},
          "execution_count": 39
        }
      ]
    },
    {
      "cell_type": "markdown",
      "metadata": {
        "id": "ewFaW1p_etFX"
      },
      "source": [
        "## V. Check Metrics"
      ]
    },
    {
      "cell_type": "markdown",
      "metadata": {
        "id": "TPrkAmmYeXQj"
      },
      "source": [
        "**We can't use MAE or R2 Score**\n",
        "\n",
        "**We use an accuracy metric based on the percentage of correctly predicted**"
      ]
    },
    {
      "cell_type": "code",
      "metadata": {
        "id": "EhxohqPsesdf",
        "outputId": "9ff17e0b-99ee-470a-b5cf-239b3d06697c",
        "colab": {
          "base_uri": "https://localhost:8080/"
        }
      },
      "source": [
        "print(\"Training Accuracy:\", model_log.score(X_train, y_train))\n",
        "print(\"Validation Accuracy:\", model_log.score(X_val,y_val))"
      ],
      "execution_count": 41,
      "outputs": [
        {
          "output_type": "stream",
          "name": "stdout",
          "text": [
            "Training Accuracy: 0.8075842696629213\n",
            "Validation Accuracy: 0.7988826815642458\n"
          ]
        }
      ]
    },
    {
      "cell_type": "code",
      "metadata": {
        "id": "y64PC99k1INi"
      },
      "source": [
        "#PREDICTIONS\n",
        "y_pred = model_log.predict(X_test)\n",
        "\n",
        "#PROBABILITIES\n",
        "y_pred_prob = model_log.predict_proba(X_test)\n",
        "#Gives an Nested Array of [Probability of Classification 1, Probability of Classification 2]"
      ],
      "execution_count": 43,
      "outputs": []
    }
  ]
}