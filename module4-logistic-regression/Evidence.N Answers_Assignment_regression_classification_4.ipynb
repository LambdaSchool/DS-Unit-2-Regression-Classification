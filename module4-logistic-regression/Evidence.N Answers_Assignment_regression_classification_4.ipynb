{
  "nbformat": 4,
  "nbformat_minor": 0,
  "metadata": {
    "colab": {
      "name": "Answers Assignment_regression_classification_4.ipynb",
      "provenance": [],
      "collapsed_sections": [],
      "include_colab_link": true
    },
    "kernelspec": {
      "display_name": "Python 3",
      "language": "python",
      "name": "python3"
    },
    "language_info": {
      "codemirror_mode": {
        "name": "ipython",
        "version": 3
      },
      "file_extension": ".py",
      "mimetype": "text/x-python",
      "name": "python",
      "nbconvert_exporter": "python",
      "pygments_lexer": "ipython3",
      "version": "3.7.3"
    }
  },
  "cells": [
    {
      "cell_type": "markdown",
      "metadata": {
        "id": "view-in-github",
        "colab_type": "text"
      },
      "source": [
        "<a href=\"https://colab.research.google.com/github/EvidenceN/DS-Unit-2-Linear-Models/blob/master/module4-logistic-regression/Evidence.N%20Answers_Assignment_regression_classification_4.ipynb\" target=\"_parent\"><img src=\"https://colab.research.google.com/assets/colab-badge.svg\" alt=\"Open In Colab\"/></a>"
      ]
    },
    {
      "cell_type": "markdown",
      "metadata": {
        "id": "MZcemzbhhOQH",
        "colab_type": "text"
      },
      "source": [
        "Lambda School Data Science\n",
        "\n",
        "*Unit 2, Sprint 1, Module 4*\n",
        "\n",
        "---"
      ]
    },
    {
      "cell_type": "markdown",
      "metadata": {
        "colab_type": "text",
        "id": "7IXUfiQ2UKj6"
      },
      "source": [
        "# Logistic Regression\n",
        "\n",
        "\n",
        "## Assignment 🌯\n",
        "\n",
        "You'll use a [**dataset of 400+ burrito reviews**](https://srcole.github.io/100burritos/). How accurately can you predict whether a burrito is rated 'Great'?\n",
        "\n",
        "> We have developed a 10-dimensional system for rating the burritos in San Diego. ... Generate models for what makes a burrito great and investigate correlations in its dimensions.\n",
        "\n",
        "- [ ] Do train/validate/test split. Train on reviews from 2016 & earlier. Validate on 2017. Test on 2018 & later.\n",
        "- [ ] Begin with baselines for classification.\n",
        "- [ ] Use scikit-learn for logistic regression.\n",
        "- [ ] Get your model's validation accuracy. (Multiple times if you try multiple iterations.)\n",
        "- [ ] Get your model's test accuracy. (One time, at the end.)\n",
        "- [ ] Commit your notebook to your fork of the GitHub repo.\n",
        "- [ ] Watch Aaron's [video #1](https://www.youtube.com/watch?v=pREaWFli-5I) (12 minutes) & [video #2](https://www.youtube.com/watch?v=bDQgVt4hFgY) (9 minutes) to learn about the mathematics of Logistic Regression.\n",
        "\n",
        "\n",
        "## Stretch Goals\n",
        "\n",
        "- [ ] Add your own stretch goal(s) !\n",
        "- [ ] Make exploratory visualizations.\n",
        "- [ ] Do one-hot encoding.\n",
        "- [ ] Do [feature scaling](https://scikit-learn.org/stable/modules/preprocessing.html).\n",
        "- [ ] Get and plot your coefficients.\n",
        "- [ ] Try [scikit-learn pipelines](https://scikit-learn.org/stable/modules/compose.html)."
      ]
    },
    {
      "cell_type": "code",
      "metadata": {
        "colab_type": "code",
        "id": "o9eSnDYhUGD7",
        "colab": {}
      },
      "source": [
        "%%capture\n",
        "import sys\n",
        "\n",
        "# If you're on Colab:\n",
        "if 'google.colab' in sys.modules:\n",
        "    DATA_PATH = 'https://raw.githubusercontent.com/LambdaSchool/DS-Unit-2-Linear-Models/master/data/'\n",
        "    !pip install category_encoders==2.*\n",
        "\n",
        "# If you're working locally:\n",
        "else:\n",
        "    DATA_PATH = '../data/'"
      ],
      "execution_count": 0,
      "outputs": []
    },
    {
      "cell_type": "code",
      "metadata": {
        "id": "UWJpSolFhOQi",
        "colab_type": "code",
        "colab": {}
      },
      "source": [
        "# Load data downloaded from https://srcole.github.io/100burritos/\n",
        "import pandas as pd\n",
        "df = pd.read_csv(\"https://raw.githubusercontent.com/LambdaSchool/DS-Unit-2-Linear-Models/master/data/burritos/burritos.csv\")"
      ],
      "execution_count": 0,
      "outputs": []
    },
    {
      "cell_type": "code",
      "metadata": {
        "id": "P5TIiAM2nzWa",
        "colab_type": "code",
        "outputId": "5b04dd99-785a-4dcd-fa87-52bea0d459be",
        "colab": {
          "base_uri": "https://localhost:8080/",
          "height": 36
        }
      },
      "source": [
        "df.head()\n",
        "df.shape"
      ],
      "execution_count": 55,
      "outputs": [
        {
          "output_type": "execute_result",
          "data": {
            "text/plain": [
              "(423, 66)"
            ]
          },
          "metadata": {
            "tags": []
          },
          "execution_count": 55
        }
      ]
    },
    {
      "cell_type": "code",
      "metadata": {
        "id": "zxPJzx8vhOQt",
        "colab_type": "code",
        "colab": {}
      },
      "source": [
        "# Derive binary classification target:\n",
        "# We define a 'Great' burrito as having an\n",
        "# overall rating of 4 or higher, on a 5 point scale.\n",
        "# Drop unrated burritos.\n",
        "df = df.dropna(subset=['overall'])\n",
        "df['Great'] = df['overall'] >= 4"
      ],
      "execution_count": 0,
      "outputs": []
    },
    {
      "cell_type": "code",
      "metadata": {
        "id": "ScoZxMLCoP_o",
        "colab_type": "code",
        "colab": {}
      },
      "source": [
        "df.head()"
      ],
      "execution_count": 0,
      "outputs": []
    },
    {
      "cell_type": "code",
      "metadata": {
        "id": "i60GqGW2hOQ0",
        "colab_type": "code",
        "colab": {}
      },
      "source": [
        "# Clean/combine the Burrito categories\n",
        "df['Burrito'] = df['Burrito'].str.lower()\n",
        "\n",
        "california = df['Burrito'].str.contains('california')\n",
        "asada = df['Burrito'].str.contains('asada')\n",
        "surf = df['Burrito'].str.contains('surf')\n",
        "carnitas = df['Burrito'].str.contains('carnitas')\n",
        "\n",
        "df.loc[california, 'Burrito'] = 'California'\n",
        "df.loc[asada, 'Burrito'] = 'Asada'\n",
        "df.loc[surf, 'Burrito'] = 'Surf & Turf'\n",
        "df.loc[carnitas, 'Burrito'] = 'Carnitas'\n",
        "df.loc[~california & ~asada & ~surf & ~carnitas, 'Burrito'] = 'Other'"
      ],
      "execution_count": 0,
      "outputs": []
    },
    {
      "cell_type": "code",
      "metadata": {
        "id": "uzrsKNp9qmfj",
        "colab_type": "code",
        "colab": {}
      },
      "source": [
        "df.head()"
      ],
      "execution_count": 0,
      "outputs": []
    },
    {
      "cell_type": "code",
      "metadata": {
        "id": "H5W5VDKEhOQ8",
        "colab_type": "code",
        "colab": {}
      },
      "source": [
        "# Drop some high cardinality categoricals\n",
        "df = df.drop(columns=['Notes', 'Location', 'Reviewer', 'Address', 'URL', 'Neighborhood'])"
      ],
      "execution_count": 0,
      "outputs": []
    },
    {
      "cell_type": "code",
      "metadata": {
        "id": "Aaj1HMy_hORE",
        "colab_type": "code",
        "colab": {}
      },
      "source": [
        "# Drop some columns to prevent \"leakage\"\n",
        "df = df.drop(columns=['Rec', 'overall'])"
      ],
      "execution_count": 0,
      "outputs": []
    },
    {
      "cell_type": "code",
      "metadata": {
        "id": "Jjovoru2hORL",
        "colab_type": "code",
        "colab": {}
      },
      "source": [
        "df.head()"
      ],
      "execution_count": 0,
      "outputs": []
    },
    {
      "cell_type": "code",
      "metadata": {
        "id": "Hjhw_pR80qK9",
        "colab_type": "code",
        "colab": {}
      },
      "source": [
        "# change 'Great' into 0's and 1's because right now it says true and false\n",
        "# the operations we are performing below only works with numbers not str or bools\n",
        "\n",
        "#df['Great'] = df['Great'].replace({True: 1, False: 0})\n",
        "\n",
        "# just kidding, it works with bools too. "
      ],
      "execution_count": 0,
      "outputs": []
    },
    {
      "cell_type": "code",
      "metadata": {
        "id": "SZ2VUThq1a8R",
        "colab_type": "code",
        "colab": {}
      },
      "source": [
        "df.head()"
      ],
      "execution_count": 0,
      "outputs": []
    },
    {
      "cell_type": "code",
      "metadata": {
        "id": "5OK4nIk5uHwu",
        "colab_type": "code",
        "colab": {
          "base_uri": "https://localhost:8080/",
          "height": 54
        },
        "outputId": "44036d58-6e67-4972-b0e2-366c0ccb09fe"
      },
      "source": [
        "# Train on reviews from 2016 & earlier. Validate on 2017. Test on 2018 & later.\n",
        "df['Date'] = pd.to_datetime(df['Date'])\n",
        "train = df[df.Date.dt.year <= 2016]\n",
        "test = df[df.Date.dt.year >= 2018]\n",
        "val = df[df.Date.dt.year == 2017]\n",
        "val['Date'].dt.year.value_counts()"
      ],
      "execution_count": 65,
      "outputs": [
        {
          "output_type": "execute_result",
          "data": {
            "text/plain": [
              "2017    85\n",
              "Name: Date, dtype: int64"
            ]
          },
          "metadata": {
            "tags": []
          },
          "execution_count": 65
        }
      ]
    },
    {
      "cell_type": "code",
      "metadata": {
        "id": "Du_8and3xWjF",
        "colab_type": "code",
        "colab": {
          "base_uri": "https://localhost:8080/",
          "height": 110
        },
        "outputId": "3c1aca69-aa8d-44f3-9349-7f3cf8a95039"
      },
      "source": [
        "#  Begin with baselines for classification.\n",
        "# Baseline = majority class = mode\n",
        "\n",
        "target = 'Great'\n",
        "\n",
        "y_train = train[target]\n",
        "y_train_class = y_train.value_counts(normalize=True)\n",
        "print(f'Burrito rating:\\n{y_train_class}')\n",
        "# only 41% of the burritos has a rating of 4 or more\n",
        "# 59% of burritos has less than 4 rating. \n",
        "# training baseline = highest freqeuncy/mode from the data.\n",
        "\n",
        "majority_class = y_train.mode()[0]\n",
        "\n",
        "y_pred = [majority_class] * len(y_train)\n",
        "\n",
        "# how accurate is our prediction?\n",
        "from sklearn.metrics import accuracy_score\n",
        "\n",
        "accuracy = accuracy_score(y_train, y_pred)\n",
        "print(f\"accuracy: {accuracy}\")"
      ],
      "execution_count": 77,
      "outputs": [
        {
          "output_type": "stream",
          "text": [
            "Burrito rating:\n",
            "False    0.590604\n",
            "True     0.409396\n",
            "Name: Great, dtype: float64\n",
            "accuracy 0.5906040268456376\n"
          ],
          "name": "stdout"
        }
      ]
    },
    {
      "cell_type": "markdown",
      "metadata": {
        "id": "gY46SG7PHRWC",
        "colab_type": "text"
      },
      "source": [
        "The steps to logistic regression: \n",
        "Fit this sequence of transformers & estimator:\n",
        "\n",
        "- [category_encoders.one_hot.OneHotEncoder](https://contrib.scikit-learn.org/categorical-encoding/onehot.html)\n",
        "- [sklearn.impute.SimpleImputer](https://scikit-learn.org/stable/modules/generated/sklearn.impute.SimpleImputer.html)\n",
        "- [sklearn.preprocessing.StandardScaler](https://scikit-learn.org/stable/modules/generated/sklearn.preprocessing.StandardScaler.html)\n",
        "- [sklearn.linear_model.LogisticRegressionCV](https://scikit-learn.org/stable/modules/generated/sklearn.linear_model.LogisticRegressionCV.html)"
      ]
    },
    {
      "cell_type": "code",
      "metadata": {
        "id": "ADKpLC5bGosD",
        "colab_type": "code",
        "colab": {}
      },
      "source": [
        "import category_encoders as ce\n",
        "from sklearn.impute import SimpleImputer\n",
        "from sklearn.preprocessing import StandardScaler\n",
        "from sklearn.linear_model import LogisticRegressionCV\n",
        "from sklearn.metrics import accuracy_score"
      ],
      "execution_count": 0,
      "outputs": []
    },
    {
      "cell_type": "code",
      "metadata": {
        "id": "H9u0rACDIwRc",
        "colab_type": "code",
        "colab": {}
      },
      "source": [
        "# checking number of cardinality before encoding. \n",
        "train.select_dtypes(exclude='number').describe().T.sort_values(by='unique')"
      ],
      "execution_count": 0,
      "outputs": []
    },
    {
      "cell_type": "code",
      "metadata": {
        "id": "KXQjuBSKKQAp",
        "colab_type": "code",
        "colab": {}
      },
      "source": [
        "# defining training and validation x values and y values\n",
        "target = 'Great'\n",
        "features = train.columns.drop([target] + ['Date'])"
      ],
      "execution_count": 0,
      "outputs": []
    },
    {
      "cell_type": "code",
      "metadata": {
        "id": "3hO0SUwfL1YE",
        "colab_type": "code",
        "colab": {}
      },
      "source": [
        "x_train = train[features]\n",
        "x_val = val[features]\n",
        "y_train = train[target]\n",
        "y_val = val[target]"
      ],
      "execution_count": 0,
      "outputs": []
    },
    {
      "cell_type": "code",
      "metadata": {
        "id": "ySvdlogMIgay",
        "colab_type": "code",
        "colab": {
          "base_uri": "https://localhost:8080/",
          "height": 54
        },
        "outputId": "f391969b-28de-46a5-f530-510638ce688f"
      },
      "source": [
        "# encoding the categorical variables\n",
        "encoder = ce.OneHotEncoder(use_cat_names=True)\n",
        "x_train_encoded = encoder.fit_transform(x_train)\n",
        "x_val_encoded = encoder.transform(x_val)\n",
        "\n",
        "# inputing nan values\n",
        "imputer = SimpleImputer()\n",
        "x_train_imputed = imputer.fit_transform(x_train_encoded)\n",
        "x_val_imputed = imputer.transform(x_val_encoded)\n",
        "\n",
        "# standardizing the data\n",
        "scaler = StandardScaler()\n",
        "x_train_scaled = scaler.fit_transform(x_train_imputed)\n",
        "x_val_scaled = scaler.transform(x_val_imputed)\n",
        "\n",
        "# doing logistic regression \n",
        "# cv = cross validation. default in feature iterations of sklearn is 5\n",
        "# that is why cv=5 is specified. n_jobs = number of cores to use. \n",
        "# n_jobs = 1 means use 1 core, = -1 means use all cores. \n",
        "# random state = 42 guarantees that the same features will be used\n",
        "# everytime which basically guarantees reproducible result. \n",
        "# if randome state = none which is the default, np.random is used\n",
        "# everytime the function is called which means randome series everytime\n",
        "# and this removes reproducibilty of prior result. \n",
        "model = LogisticRegressionCV(cv=5, n_jobs=-1, random_state=42)\n",
        "model.fit(x_train_scaled, y_train)\n",
        "\n",
        "# checking the validation accuracy of the model. \n",
        "validation = model.score(x_val_scaled, y_val)\n",
        "print(f'Validation Score: {validation}')\n",
        "\n",
        "# accuracy score of validation data\n",
        "y_val_pred = model.predict(x_val_scaled)\n",
        "y_val_accuracy = accuracy_score(y_val, y_val_pred)\n",
        "\n",
        "print(f'Accuracy Score for validation: {y_val_accuracy}')\n",
        "\n",
        "# this score of 76% is better than 59% that we had earlier. \n",
        "# model.score and accurace score are the exact same thinig. \n",
        "# good to know. "
      ],
      "execution_count": 118,
      "outputs": [
        {
          "output_type": "stream",
          "text": [
            "Validation Score: 0.7647058823529411\n",
            "Accuracy Score for validation: 0.7647058823529411\n"
          ],
          "name": "stdout"
        }
      ]
    },
    {
      "cell_type": "code",
      "metadata": {
        "id": "2fWR_Q8vWHbH",
        "colab_type": "code",
        "colab": {
          "base_uri": "https://localhost:8080/",
          "height": 36
        },
        "outputId": "81bc969b-dea8-4de4-9859-b6ebcb5f20e0"
      },
      "source": [
        "# getting the coefficients and intercepts\n",
        "\n",
        "coef = model.coef_[0]\n",
        "intercept = model.intercept_"
      ],
      "execution_count": 112,
      "outputs": [
        {
          "output_type": "execute_result",
          "data": {
            "text/plain": [
              "array([-1.27035802])"
            ]
          },
          "metadata": {
            "tags": []
          },
          "execution_count": 112
        }
      ]
    },
    {
      "cell_type": "code",
      "metadata": {
        "id": "9ykUAs8TXakp",
        "colab_type": "code",
        "colab": {
          "base_uri": "https://localhost:8080/",
          "height": 54
        },
        "outputId": "069d30d3-31a5-40d7-fed0-0cbefe79ea33"
      },
      "source": [
        "# test validation accuracy\n",
        "y_test = test[target]\n",
        "x_test = test[features]\n",
        "x_test_encoded = encoder.transform(x_test)\n",
        "x_test_imputed = imputer.transform(x_test_encoded)\n",
        "x_test_scaled = scaler.transform(x_test_imputed)\n",
        "y_pred = model.predict(x_test_scaled)\n",
        "x_test_validation = model.score(x_test_scaled, y_test)\n",
        "print('Test Validation Accuracy:', x_test_validation)\n",
        "y_test_accuracy = accuracy_score(y_test, y_pred)\n",
        "print(f'Accuracy Score for Testing: {y_test_accuracy}')"
      ],
      "execution_count": 119,
      "outputs": [
        {
          "output_type": "stream",
          "text": [
            "Test Validation Accuracy: 0.7368421052631579\n",
            "Accuracy Score for Testing: 0.7368421052631579\n"
          ],
          "name": "stdout"
        }
      ]
    }
  ]
}