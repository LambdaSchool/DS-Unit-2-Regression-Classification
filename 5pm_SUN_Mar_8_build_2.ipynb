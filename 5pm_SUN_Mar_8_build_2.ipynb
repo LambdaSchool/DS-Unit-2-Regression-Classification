{
  "nbformat": 4,
  "nbformat_minor": 0,
  "metadata": {
    "colab": {
      "name": "5pm SUN Mar 8 build 2.ipynb",
      "provenance": [],
      "collapsed_sections": [],
      "authorship_tag": "ABX9TyOUARAsk8BXxnunNUHFz2JU",
      "include_colab_link": true
    },
    "kernelspec": {
      "name": "python3",
      "display_name": "Python 3"
    }
  },
  "cells": [
    {
      "cell_type": "markdown",
      "metadata": {
        "id": "view-in-github",
        "colab_type": "text"
      },
      "source": [
        "<a href=\"https://colab.research.google.com/github/LambdaTheda/DS-Unit-2-Linear-Models/blob/master/5pm_SUN_Mar_8_build_2.ipynb\" target=\"_parent\"><img src=\"https://colab.research.google.com/assets/colab-badge.svg\" alt=\"Open In Colab\"/></a>"
      ]
    },
    {
      "cell_type": "code",
      "metadata": {
        "id": "sugh27O6FWTw",
        "colab_type": "code",
        "colab": {}
      },
      "source": [
        "# read in dataset 1: pokemon Go character sightings\n",
        "\n",
        "import pandas as pd\n",
        "'''\n",
        "from google.colab import drive\n",
        "drive.mount('/content/drive')\n",
        "'''\n",
        "#print('mounted')\n",
        "\n",
        "#df = pd.read_csv('/content/drive/My Drive/predictemall/300k_csv/300k.csv')\n",
        "\n",
        "df = pd.read_csv('300k.csv')\n",
        "pd.set_option(\"display.max_rows\", 91835)\n",
        "pd.set_option(\"display.max_columns\", 300)\n",
        "#df\n",
        "df.head()"
      ],
      "execution_count": 0,
      "outputs": []
    },
    {
      "cell_type": "code",
      "metadata": {
        "id": "LUYfSx_CWOJt",
        "colab_type": "code",
        "colab": {}
      },
      "source": [
        "df.shape"
      ],
      "execution_count": 0,
      "outputs": []
    },
    {
      "cell_type": "code",
      "metadata": {
        "id": "fAcTWsznWQ4l",
        "colab_type": "code",
        "colab": {}
      },
      "source": [
        "df.sample(100)"
      ],
      "execution_count": 0,
      "outputs": []
    },
    {
      "cell_type": "code",
      "metadata": {
        "id": "UPpL0A0-O37g",
        "colab_type": "code",
        "colab": {}
      },
      "source": [
        "import pandas as pd\n",
        "\n",
        "# read in dataset 2: encoded names and corresponding id#s\n",
        "df_Names = pd.read_csv('pokemonNumbers.csv', header= None)\n",
        "pd.set_option(\"display.max_rows\", 91835)\n",
        "df_Names.columns=['pokemonId', 'pokemonName'] # change df_Names column names to align with the proper columns for merge.\n",
        "\n",
        "df_Names"
      ],
      "execution_count": 0,
      "outputs": []
    },
    {
      "cell_type": "code",
      "metadata": {
        "id": "l6cdXakqWo-1",
        "colab_type": "code",
        "colab": {}
      },
      "source": [
        "df_Names.head(20)"
      ],
      "execution_count": 0,
      "outputs": []
    },
    {
      "cell_type": "code",
      "metadata": {
        "id": "UKgzEw27Wb3c",
        "colab_type": "code",
        "colab": {}
      },
      "source": [
        "df_Names.shape"
      ],
      "execution_count": 0,
      "outputs": []
    },
    {
      "cell_type": "code",
      "metadata": {
        "id": "5D5tFb2ePIVQ",
        "colab_type": "code",
        "colab": {}
      },
      "source": [
        "#EXPLORATORY DATA ANALYSIS/DATA WRANGLING\n",
        "'''\n",
        "join(df2) does a left join by default (keeps all rows of df1), but \n",
        "df merge does an inner join by default (returns only matching rows of df1 and df2 ).Jun 18, 2016\n",
        "\n",
        "What is the difference between join and merge in Pandas? - Stack ...stackoverflow.com › questions › what-is-the-di\n",
        "--------\n",
        "“Merging” two datasets is the process of bringing two datasets together into one, and\n",
        " aligning the rows from each based on common attributes or columns.\n",
        " \n",
        " https://www.shanelynn.ie/merge-join-dataframes-python-pandas-index-1/\n",
        " '''\n",
        "\n",
        "'''\n",
        "# try df.join(other.set_index('key'), on='key')\n",
        "df3 = df.join(df_Names.set_index('pokemonId'), on='pokemonId')\n",
        "df3\n",
        "df3 =  pd.merge(df_Names, df, on = 'pokemonId')\n",
        "'''\n",
        "df3 = df.merge(df_Names, on='pokemonId') \n",
        "pd.set_option(\"display.max_rows\", 91835)\n",
        "# merge df and df_Names to make df3\n",
        "df3.head()\n"
      ],
      "execution_count": 0,
      "outputs": []
    },
    {
      "cell_type": "code",
      "metadata": {
        "id": "VdFx9Gfk3JkL",
        "colab_type": "code",
        "colab": {}
      },
      "source": [
        "df3.shape()"
      ],
      "execution_count": 0,
      "outputs": []
    },
    {
      "cell_type": "code",
      "metadata": {
        "id": "_Q1ap1Dgnn15",
        "colab_type": "code",
        "colab": {}
      },
      "source": [
        "# merge df and df_Names to make df3\n",
        "'''\n",
        "df3 =  pd.merge(df_Names, df, on = 'pokemonId')\n",
        "pd.set_option(\"display.max_rows\", 91835)\n",
        "df3\n",
        "'''\n"
      ],
      "execution_count": 0,
      "outputs": []
    },
    {
      "cell_type": "code",
      "metadata": {
        "id": "K97Vz9FDH4DE",
        "colab_type": "code",
        "colab": {}
      },
      "source": [
        "df3.sample(100)"
      ],
      "execution_count": 0,
      "outputs": []
    },
    {
      "cell_type": "markdown",
      "metadata": {
        "id": "z3h9pCFJCryg",
        "colab_type": "text"
      },
      "source": [
        "# **check if merge preserved pokemonId:pokemonName**"
      ]
    },
    {
      "cell_type": "code",
      "metadata": {
        "id": "JqcQo5K98nWC",
        "colab_type": "code",
        "colab": {}
      },
      "source": [
        "# ATTEMPT 1: locate row where latitude = 20.525745, longitude =\t-97.460829 to check if merge preserved pokemonId:pokemonName\n",
        "#df.iloc[lambda x: df3['latitude'] == 20.525745] - GET: NotImplementedError: iLocation based boolean indexing on an integer type is not available"
      ],
      "execution_count": 0,
      "outputs": []
    },
    {
      "cell_type": "code",
      "metadata": {
        "id": "stIqMZlu-8nu",
        "colab_type": "code",
        "colab": {}
      },
      "source": [
        "# ATTEMPT 2: locate row of before and after merge..\n",
        "#df.query('latitude = 20.525745 and longitude = -97.460829')"
      ],
      "execution_count": 0,
      "outputs": []
    },
    {
      "cell_type": "code",
      "metadata": {
        "id": "tVCKZUZmClaT",
        "colab_type": "code",
        "colab": {}
      },
      "source": [
        "# ATTEMPT 3: df.loc[df['column_name'] == some_value]\n",
        "#df.loc[df['latitude'] == 20.525745] and df.loc[df['longitude'] == -97.460829]\n",
        "\n",
        "'''\n",
        "To select rows whose column value equals a scalar, some_value, use ==:\n",
        "Combine multiple conditions with &:\n",
        "\n",
        "df.loc[(df['column_name'] >= A) & (df['column_name'] <= B)]\n",
        "'''\n",
        "#USE LOCATED ROW 295 TO COMPARE w/col vals in df3 \n",
        "df.loc[(df['latitude'] == 20.525745) & (df['longitude'] == -97.460829) & (df['pokemonId'] == 19)] "
      ],
      "execution_count": 0,
      "outputs": []
    },
    {
      "cell_type": "code",
      "metadata": {
        "id": "5hAspQJ6E7qi",
        "colab_type": "code",
        "colab": {}
      },
      "source": [
        "# try to locate and compare with analogous row in df3- found NO ROWS\n",
        "#df3.loc[(df3['latitude'] == 20.525745) & (df3['longitude'] == -97.460829) & (df3['pokemonName'] == 'Raticate')] - FOUND NO ROWS\n",
        "\n",
        "#RETURNS A ROW (later SEVERAL ROWS) BUT ROW INDEX OFF BY 1; \"Raticate\" is id# 20, but queried pokemonId was 19 in df_Names - MAY FIX LATER\n",
        "df3.loc[(df3['latitude'] == 20.525745) & (df3['longitude'] == -97.460829) & (df3['pokemonId'] == 19)]"
      ],
      "execution_count": 0,
      "outputs": []
    },
    {
      "cell_type": "code",
      "metadata": {
        "id": "0huqvInRDhKp",
        "colab_type": "code",
        "colab": {}
      },
      "source": [
        "#  ATTEMPT 4: \n",
        "df.loc[df['latitude'] == 20.525745]"
      ],
      "execution_count": 0,
      "outputs": []
    },
    {
      "cell_type": "code",
      "metadata": {
        "id": "txb6Es1HNxr3",
        "colab_type": "code",
        "colab": {}
      },
      "source": [
        "# MERGED DATAFRAME df3... ROW INDEX OFF BY 1; \"Raticate\" is id# 20 in df_Names - fix by dropping pokemonId as 300k.csv dataset creator advised\n",
        "\n",
        "#df.drop(['B', 'C'], axis=1)- SAMPLE\n",
        "#df.drop(['pokemonId'], axis=1) - DOESN'T WORK ?!#$\n",
        "\n",
        "#df.drop(columns=['B', 'C'])- SAMPLE\n",
        "df.drop(columns=['pokemonId'])\n",
        "df = df_Names.drop(columns=['pokemonId'])  #- NOT DROPPED EITHER; MAYBE IT'S A TUPLE?..\n",
        "\n",
        "#df_Names.dtypes()\n",
        "#df_Names.head(5)\n",
        "df.head()"
      ],
      "execution_count": 0,
      "outputs": []
    },
    {
      "cell_type": "code",
      "metadata": {
        "id": "OKggO5h4tg-X",
        "colab_type": "code",
        "colab": {}
      },
      "source": [
        "#try with (from https://colab.research.google.com/github/LambdaTheda/CheatSheets/blob/master/Data_Cleaning_and_Exploring_Cheat_Sheet.ipynb#scrollTo=yYUg0b4F255o  )\n",
        "'''\n",
        "combine two data frames\n",
        "df3 = df1.append(df2)\n",
        "'''"
      ],
      "execution_count": 0,
      "outputs": []
    },
    {
      "cell_type": "code",
      "metadata": {
        "id": "O9q2C237R_d8",
        "colab_type": "code",
        "colab": {}
      },
      "source": [
        "# STILL CAN'T DROP 'pokemonID' from ANY df!! \n",
        "'''\n",
        "df3.drop(columns=['pokemonId']) \n",
        "df3.head(5)\n",
        "'''"
      ],
      "execution_count": 0,
      "outputs": []
    },
    {
      "cell_type": "code",
      "metadata": {
        "id": "OzJ8I2dKtSmd",
        "colab_type": "code",
        "colab": {}
      },
      "source": [
        "# TRY with (from https://colab.research.google.com/github/LambdaTheda/CheatSheets/blob/master/Data_Cleaning_and_Exploring_Cheat_Sheet.ipynb#scrollTo=bcpPRe87F8OQ)\n",
        "'''\n",
        "drop a column or row\n",
        "df.drop('column1', axis='columns')\n",
        "'''"
      ],
      "execution_count": 0,
      "outputs": []
    },
    {
      "cell_type": "code",
      "metadata": {
        "id": "J8uB_gw8Y2Vc",
        "colab_type": "code",
        "colab": {}
      },
      "source": [
        "#Choosing'appearedDayOfWeek' as target\n",
        "df['appearedDayOfWeek'].nunique()"
      ],
      "execution_count": 0,
      "outputs": []
    },
    {
      "cell_type": "code",
      "metadata": {
        "id": "SwZam-oxbs9_",
        "colab_type": "code",
        "colab": {}
      },
      "source": [
        "df['appearedDayOfWeek'].value_counts()"
      ],
      "execution_count": 0,
      "outputs": []
    },
    {
      "cell_type": "code",
      "metadata": {
        "id": "xZAcL6WOZQkj",
        "colab_type": "code",
        "colab": {}
      },
      "source": [
        "#df3['appearedDayOfWeek'].nunique()"
      ],
      "execution_count": 0,
      "outputs": []
    },
    {
      "cell_type": "markdown",
      "metadata": {
        "id": "GJXS0knVOS0B",
        "colab_type": "text"
      },
      "source": [
        "# #if df['appearedDayOfWeek'] changes from 7 next time I reload file(s), I will CHOOSE the NEW TARGET TO PREDICT to be 'Continent' (nunique=11)!"
      ]
    },
    {
      "cell_type": "code",
      "metadata": {
        "id": "y_gaAZ1yZPYb",
        "colab_type": "code",
        "colab": {}
      },
      "source": [
        "# check df Nulls- returns 0 for all columns\n",
        "df.isnull().sum()"
      ],
      "execution_count": 0,
      "outputs": []
    },
    {
      "cell_type": "code",
      "metadata": {
        "id": "jslz4d9GWLYn",
        "colab_type": "code",
        "colab": {}
      },
      "source": [
        "# check df_Names Nulls- returns 0 for all columns\n",
        "df_Names.isnull().sum()"
      ],
      "execution_count": 0,
      "outputs": []
    },
    {
      "cell_type": "code",
      "metadata": {
        "id": "aTfEczWLVW_I",
        "colab_type": "code",
        "colab": {}
      },
      "source": [
        "# check df3 Nulls- returns 0 for all columns\n",
        "df3.isnull().sum()"
      ],
      "execution_count": 0,
      "outputs": []
    },
    {
      "cell_type": "code",
      "metadata": {
        "id": "bIMOJ8PCW10H",
        "colab_type": "code",
        "colab": {}
      },
      "source": [
        "# THIS TIME AROUND GETTING NO NULLS...\n",
        "#drop df cols with nulls\n",
        "#df.dropna() - not work right\n",
        "'''\n",
        "df.dropna(axis='columns') # also not work right\n",
        "df\n",
        "'''"
      ],
      "execution_count": 0,
      "outputs": []
    },
    {
      "cell_type": "code",
      "metadata": {
        "id": "EzmogW5KScRD",
        "colab_type": "code",
        "colab": {}
      },
      "source": [
        "#df.columns.to_list()"
      ],
      "execution_count": 0,
      "outputs": []
    },
    {
      "cell_type": "code",
      "metadata": {
        "id": "3nP5_4MCoD7x",
        "colab_type": "code",
        "colab": {}
      },
      "source": [
        "df['appearedDayOfWeek']"
      ],
      "execution_count": 0,
      "outputs": []
    },
    {
      "cell_type": "code",
      "metadata": {
        "id": "9GWbnyvBqlgW",
        "colab_type": "code",
        "colab": {}
      },
      "source": [
        "#For Correlation matrix: setting categories to type 'category' for faster operations\n",
        "#df['column1'] = df['column1'].astype('category')"
      ],
      "execution_count": 0,
      "outputs": []
    },
    {
      "cell_type": "code",
      "metadata": {
        "id": "f59jULiMcEcm",
        "colab_type": "code",
        "colab": {}
      },
      "source": [
        "#View correlation matrix- at the moment only interested in features positively correlated with 'appearedDayOfWeek\" \n",
        "df.corr()"
      ],
      "execution_count": 0,
      "outputs": []
    },
    {
      "cell_type": "code",
      "metadata": {
        "id": "RBlXNXBZooLe",
        "colab_type": "code",
        "colab": {}
      },
      "source": [
        "#Correlation heatmap\n",
        "corrmat = df.corr()\n",
        "f, ax = plt.subplots(figsize=(12, 9))\n",
        "sns.heatmap(corrmat, vmax=.8, square=True);"
      ],
      "execution_count": 0,
      "outputs": []
    },
    {
      "cell_type": "code",
      "metadata": {
        "id": "0qr2JGASdJym",
        "colab_type": "code",
        "colab": {}
      },
      "source": [
        "# THIS TIME AROUND GETTING NO NULLS...\n",
        "#trim df to reduce noise including nulls\n",
        "'''\n",
        "df_trimmed = df.drop(columns=['gymIn100m',\n",
        " 'gymIn250m',\n",
        " 'gymIn500m',\n",
        " 'gymIn1000m',\n",
        " 'gymIn2500m',\n",
        " 'gymIn5000m',\n",
        " 'cooc_114',\n",
        " 'cooc_115',\n",
        " 'cooc_116',\n",
        " 'cooc_117',\n",
        " 'cooc_118',\n",
        " 'cooc_119',\n",
        " 'cooc_120',\n",
        " 'cooc_121',\n",
        " 'cooc_122',\n",
        " 'cooc_123',\n",
        " 'cooc_124',\n",
        " 'cooc_125',\n",
        " 'cooc_126',\n",
        " 'cooc_127',\n",
        " 'cooc_128',\n",
        " 'cooc_129',\n",
        " 'cooc_130',\n",
        " 'cooc_131',\n",
        " 'cooc_132',\n",
        " 'cooc_133',\n",
        " 'cooc_134',\n",
        " 'cooc_135',\n",
        " 'cooc_136',\n",
        " 'cooc_137',\n",
        " 'cooc_138',\n",
        " 'cooc_139',\n",
        " 'cooc_140',\n",
        " 'cooc_141',\n",
        " 'cooc_142',\n",
        " 'cooc_143',\n",
        " 'cooc_144',\n",
        " 'cooc_145',\n",
        " 'cooc_146',\n",
        " 'cooc_147',\n",
        " 'cooc_148',\n",
        " 'cooc_149',\n",
        " 'cooc_150',\n",
        " 'cooc_151',\n",
        " ])\n",
        " '''"
      ],
      "execution_count": 0,
      "outputs": []
    },
    {
      "cell_type": "code",
      "metadata": {
        "id": "jMxKVn2res1e",
        "colab_type": "code",
        "colab": {}
      },
      "source": [
        "#trim df to reduce noise:\n",
        "''' 1st do\n",
        " 1) CORRELATION MATRIX & \n",
        " 2) HEATMAP to try to determine which columns we may drop that may not or\n",
        "   not significantly affect predicting TARGET = 'continent' \n",
        "'''\n"
      ],
      "execution_count": 0,
      "outputs": []
    },
    {
      "cell_type": "code",
      "metadata": {
        "id": "lBy5BFX-XEZu",
        "colab_type": "code",
        "colab": {}
      },
      "source": [
        "df3['continent'].nunique()"
      ],
      "execution_count": 0,
      "outputs": []
    },
    {
      "cell_type": "code",
      "metadata": {
        "id": "dekbUc4NXQc-",
        "colab_type": "code",
        "colab": {}
      },
      "source": [
        "df3['continent'].value_counts()"
      ],
      "execution_count": 0,
      "outputs": []
    },
    {
      "cell_type": "code",
      "metadata": {
        "id": "M2RNz_HnXnCS",
        "colab_type": "code",
        "colab": {}
      },
      "source": [
        "df['continent'].nunique()"
      ],
      "execution_count": 0,
      "outputs": []
    },
    {
      "cell_type": "code",
      "metadata": {
        "id": "NJC8tT3-cRqQ",
        "colab_type": "code",
        "colab": {}
      },
      "source": [
        "#df_trimmed.sort_by('pokemonId', ascending = True)"
      ],
      "execution_count": 0,
      "outputs": []
    },
    {
      "cell_type": "code",
      "metadata": {
        "id": "wPUDkS06pHZV",
        "colab_type": "code",
        "colab": {}
      },
      "source": [
        "#check data distribution to see if linear model is appropriate- IT IS NOT; THIS IS MULTI-CLASS CLASSIFICATiON PROBLEM\n",
        "#df_trimmed.plot.hist() "
      ],
      "execution_count": 0,
      "outputs": []
    },
    {
      "cell_type": "code",
      "metadata": {
        "id": "d8hHCaODZQRd",
        "colab_type": "code",
        "colab": {}
      },
      "source": [
        "#Get BASELINE- the first way to get the highest accuracy by assuming majority, [by] assum[ing] majority:\n",
        "\n",
        "pd.set_option('display.max_columns', 500)\n",
        "pd.set_option('display.max_row', 300000)\n",
        "'''\n",
        "average for regression should be the majority value in a sense; \n",
        "classification is assuming all values are the highest majority value- BASELINE IS PREDICTING MODE CLASS (largest # of observations\n",
        "'''\n",
        "\n",
        "df['appearedDayOfWeek'].value_counts()\n",
        "# our BASELINE IS SATURDAY, WITH 72201 appearances on that day"
      ],
      "execution_count": 0,
      "outputs": []
    },
    {
      "cell_type": "code",
      "metadata": {
        "id": "Il-kyMlVjUvj",
        "colab_type": "code",
        "colab": {}
      },
      "source": [
        "df['appearedDayOfWeek'].nunique()"
      ],
      "execution_count": 0,
      "outputs": []
    },
    {
      "cell_type": "code",
      "metadata": {
        "id": "vzKtGQnzT6Yr",
        "colab_type": "code",
        "colab": {}
      },
      "source": [
        "# Fit a Classification model\n",
        "# Try a shallow decision tree as a fast, first model\n",
        "\n",
        "#pip install --upgrade category_encoders\n",
        "# from sklearn.preprocessing import CategoricalEncoder\n",
        "#pip install category_encoders\n",
        "\n",
        "!pip install category_encoders==2.* \n",
        "\n",
        "import numpy as np\n",
        "import category_encoders as ce\n",
        "from sklearn.pipeline import make_pipeline\n",
        "from sklearn.impute import SimpleImputer\n",
        "from sklearn.tree import DecisionTreeClassifier\n",
        "from sklearn.ensemble import RandomForestClassifier\n",
        "from sklearn.metrics import roc_auc_score\n",
        "from sklearn.model_selection import train_test_split\n",
        "\n",
        "#encoder = ce.OrdinalEncoder(cols=[...])\n",
        "\n",
        "target = 'appearedDayOfWeek'\n",
        "features = ['appearedMonth', 'appearedYear', 'appearedDay', 'pokestopDistanceKm', 'weather', 'latitude', 'longitude']\n",
        "\n",
        "#train = df \n",
        "\n",
        "X_train, X_test, y_train, y_test = train_test_split(df[features], df[target])\n",
        "train, test = train_test_split(df)\n",
        "\n",
        "pipeline = make_pipeline(\n",
        "    ce.OrdinalEncoder(),\n",
        "    SimpleImputer(strategy='most_frequent'),\n",
        "    RandomForestClassifier()\n",
        ")\n"
      ],
      "execution_count": 0,
      "outputs": []
    },
    {
      "cell_type": "markdown",
      "metadata": {
        "id": "8r12pYVKsfCD",
        "colab_type": "text"
      },
      "source": [
        "# **Approaches to convert appearedDayofWeek string classes into Floats to calculate model Accuracy**"
      ]
    },
    {
      "cell_type": "code",
      "metadata": {
        "id": "trD2nGSHnbCn",
        "colab_type": "code",
        "colab": {}
      },
      "source": [
        "# function to Convert 'appearedDayOfWeek' string values into floats\n",
        "\n",
        "'''\n",
        "def convertDayToFloat():\n",
        "\n",
        "    week = list(df['appearedDayOfWeek'].replace('1.0', '2.0', '3.0','4.0','5.0','6.0','7.0'))\n",
        "\n",
        "    print(week)\n",
        "\n",
        "convertDayToFloat\n",
        "'''    "
      ],
      "execution_count": 0,
      "outputs": []
    },
    {
      "cell_type": "code",
      "metadata": {
        "id": "rlx1UjBH0CWj",
        "colab_type": "code",
        "colab": {}
      },
      "source": [
        "#dictionary to Convert 'appearedDayOfWeek' string values into floats\n",
        "\n",
        "dict = {'Sunday':'1.0', 'dummy_day':'2.0', 'Tuesday':'3.0','Wednesday':'4.0','Thursday':'5.0', 'Friday':'6.0', 'Saturday':'7.0' }"
      ],
      "execution_count": 0,
      "outputs": []
    },
    {
      "cell_type": "code",
      "metadata": {
        "id": "jpLl2Osmszpk",
        "colab_type": "code",
        "colab": {}
      },
      "source": [
        "#Label encoding: using https://towardsdatascience.com/categorical-encoding-using-label-encoding-and-one-hot-encoder-911ef77fb5bd\n",
        "\n",
        "'''\n",
        "import pandas as pd\n",
        "import numpy as np\n",
        "from sklearn.preprocessing import LabelEncoder\n",
        "# creating initial dataframe\n",
        "bridge_types = ('Arch','Beam','Truss','Cantilever','Tied Arch','Suspension','Cable')\n",
        "bridge_df = pd.DataFrame(bridge_types, columns=['Bridge_Types'])\n",
        "# creating instance of labelencoder\n",
        "labelencoder = LabelEncoder()\n",
        "# Assigning numerical values and storing in another column\n",
        "bridge_df['Bridge_Types_Cat'] = labelencoder.fit_transform(bridge_df['Bridge_Types'])\n",
        "bridge_df\n",
        "\n",
        "----\n",
        "Saturday     72201\n",
        "Friday       68037\n",
        "Wednesday    60115\n",
        "Thursday     54257\n",
        "Sunday       32056\n",
        "dummy_day     9001\n",
        "Tuesday        354\n",
        "'''\n",
        "\n",
        "import pandas as pd\n",
        "import numpy as np\n",
        "from sklearn.preprocessing import LabelEncoder\n",
        "# df = initial dataframe\n",
        "# creating initial dataframe\n",
        "daysOfWeek = ('Saturday','Friday','Wednesday','Thursday','Sunday','dummy_day','Tuesday')\n",
        "strToNum_df = pd.DataFrame(daysOfWeek, columns=['daysOfWeek'])\n",
        "\n",
        "# creating instance of label_encoder\n",
        "labelencoder = LabelEncoder()\n",
        "\n",
        "# Assigning numerical values and storing in another column\n",
        "df['labelEncDays2Nums'] = labelencoder.fit_transform(df['appearedDayOfWeek'])\n",
        "labelEncDays2Nums"
      ],
      "execution_count": 0,
      "outputs": []
    },
    {
      "cell_type": "code",
      "metadata": {
        "id": "_D1_nCBDvhvW",
        "colab_type": "code",
        "colab": {}
      },
      "source": [
        "#label encoding using https://colab.research.google.com/github/LambdaTheda/CheatSheets/blob/master/Data_Cleaning_and_Exploring_Cheat_Sheet.ipynb#scrollTo=-qgpc344EMzv\n",
        "\n",
        "df['column1'] = df['column1'].cat.codes"
      ],
      "execution_count": 0,
      "outputs": []
    },
    {
      "cell_type": "code",
      "metadata": {
        "id": "ETwfRWzQnNdh",
        "colab_type": "code",
        "colab": {}
      },
      "source": [
        "#fit model 1: Random Forest Classifier and score accuracy"
      ],
      "execution_count": 0,
      "outputs": []
    },
    {
      "cell_type": "code",
      "metadata": {
        "id": "VzB3nmXFnOzC",
        "colab_type": "code",
        "colab": {}
      },
      "source": [
        "\n",
        "pipeline.fit(X_train, y_train)\n",
        "acc_score = pipeline.score(test[features], test[target])\n",
        "#ra_score = roc_auc_score(test[target], pipeline.predict(test[features]))\n",
        "\n",
        "print(f'Test Accuracy: {pipeline.score(X_test, y_test)}')\n",
        "print(f'Test ROC AUC: {roc_auc_score(y_test, pipeline.predict(X_test))}\\n')\n",
        "\n",
        "'''\n",
        "print(f'Val Accuracy: {acc_score}')\n",
        "print(f'Val ROC AUC: {ra_score}')\n",
        "'''"
      ],
      "execution_count": 0,
      "outputs": []
    }
  ]
}