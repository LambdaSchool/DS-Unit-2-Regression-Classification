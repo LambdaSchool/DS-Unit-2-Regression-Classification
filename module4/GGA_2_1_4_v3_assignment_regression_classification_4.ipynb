{
  "nbformat": 4,
  "nbformat_minor": 0,
  "metadata": {
    "colab": {
      "name": "GGA 2.1.4 v3 assignment_regression_classification_4.ipynb",
      "provenance": [],
      "collapsed_sections": [],
      "include_colab_link": true
    },
    "kernelspec": {
      "display_name": "Python 3",
      "language": "python",
      "name": "python3"
    },
    "language_info": {
      "codemirror_mode": {
        "name": "ipython",
        "version": 3
      },
      "file_extension": ".py",
      "mimetype": "text/x-python",
      "name": "python",
      "nbconvert_exporter": "python",
      "pygments_lexer": "ipython3",
      "version": "3.7.3"
    }
  },
  "cells": [
    {
      "cell_type": "markdown",
      "metadata": {
        "id": "view-in-github",
        "colab_type": "text"
      },
      "source": [
        "<a href=\"https://colab.research.google.com/github/lineality/DS-Unit-2-Regression-Classification/blob/master/module4/GGA_2_1_4_v3_assignment_regression_classification_4.ipynb\" target=\"_parent\"><img src=\"https://colab.research.google.com/assets/colab-badge.svg\" alt=\"Open In Colab\"/></a>"
      ]
    },
    {
      "cell_type": "markdown",
      "metadata": {
        "colab_type": "text",
        "id": "7IXUfiQ2UKj6"
      },
      "source": [
        "Lambda School Data Science, Unit 2: Predictive Modeling\n",
        "Geoffrey Gordon Ashbrook Assignment\n",
        "2019.10.03\n",
        "DS8\n",
        "unit 2.1.4\n",
        "lecture by Sir Aaron Gallant\n",
        "\n",
        "\n",
        "# Regression & Classification, Module 4\n",
        "\n",
        "## Assignment\n",
        "\n",
        "- [ ] Watch Aaron Gallant's [video #1](https://www.youtube.com/watch?v=pREaWFli-5I) (12 minutes) & [video #2](https://www.youtube.com/watch?v=bDQgVt4hFgY) (9 minutes) to learn about the mathematics of Logistic Regression.\n",
        "\n",
        "\n",
        "- [ ] 1. Do a train/validate/test split with the Tanzania Waterpumps data.\n",
        "- [ ] 2. Do one-hot encoding. For example, in addition to `quantity`, you could try `basin`, `extraction_type_class`, and more. (But remember it may not work with high cardinality categoricals.)\n",
        "- [ ] 3. Use scikit-learn for logistic regression.\n",
        "- [ ] 4 .Get your validation accuracy score.\n",
        "- [ ] 5. Get and plot your coefficients.\n",
        "- [ ] 6. Submit your predictions to our Kaggle competition. (Go to our Kaggle InClass competition webpage. Use the blue **Submit Predictions** button to upload your CSV file. Or you can use the Kaggle API to submit your predictions.)\n",
        "\n",
        "\n",
        "- [ ] Commit your notebook to your fork of the GitHub repo.\n",
        "\n",
        "> [Do Not Copy-Paste.](https://docs.google.com/document/d/1ubOw9B3Hfip27hF2ZFnW3a3z9xAgrUDRReOEo-FHCVs/edit) You must type each of these exercises in, manually. If you copy and paste, you might as well not even do them. The point of these exercises is to train your hands, your brain, and your mind in how to read, write, and see code. If you copy-paste, you are cheating yourself out of the effectiveness of the lessons.\n",
        "\n",
        "\n",
        "## Stretch Goals\n",
        "\n",
        "### Doing\n",
        "- [ ] Add your own stretch goal(s) !\n",
        "- [ ] Clean the data. For ideas, refer to [The Quartz guide to bad data](https://github.com/Quartz/bad-data-guide),  a \"reference to problems seen in real-world data along with suggestions on how to resolve them.\" One of the issues is [\"Zeros replace missing values.\"](https://github.com/Quartz/bad-data-guide#zeros-replace-missing-values)\n",
        "- [ ] Make exploratory visualizations.\n",
        "- [ ] Do [feature scaling](https://scikit-learn.org/stable/modules/preprocessing.html).\n",
        "- [ ] Try [scikit-learn pipelines](https://scikit-learn.org/stable/modules/compose.html).\n",
        "\n",
        "\n",
        "#### Exploratory visualizations\n",
        "\n",
        "Visualize the relationships between feature(s) and target. I recommend you do this with your training set, after splitting your data. \n",
        "\n",
        "To visualize this dataset, you may want to create a new column to represent the target as a number, 0 or 1. For example:\n",
        "\n",
        "```python\n",
        "train['functional'] = (train['status_group']=='functional').astype(int)\n",
        "```\n",
        "\n",
        "\n",
        "\n",
        "You can try [Seaborn \"Categorical estimate\" plots](https://seaborn.pydata.org/tutorial/categorical.html) for features with reasonably few unique values. (With too many unique values, the plot is unreadable.)\n",
        "\n",
        "- Categorical features. (If there are too many unique values, you can replace less frequent values with \"OTHER.\")\n",
        "- Numeric features. (If there are too many unique values, you can [bin with pandas cut / qcut functions](https://pandas.pydata.org/pandas-docs/stable/getting_started/basics.html?highlight=qcut#discretization-and-quantiling).)\n",
        "\n",
        "You can try [Seaborn linear model plots](https://seaborn.pydata.org/tutorial/regression.html) with numeric features. For this problem, you may want to use the parameter `logistic=True`\n",
        "\n",
        "You do _not_ need to use Seaborn, but it's nice because it includes confidence intervals to visualize uncertainty.\n",
        "\n",
        "#### High-cardinality categoricals\n",
        "\n",
        "This code from the previous assignment demonstrates how to replace less frequent values with 'OTHER'\n",
        "\n",
        "```python\n",
        "# Reduce cardinality for NEIGHBORHOOD feature ...\n",
        "\n",
        "# Get a list of the top 10 neighborhoods\n",
        "top10 = train['NEIGHBORHOOD'].value_counts()[:10].index\n",
        "\n",
        "# At locations where the neighborhood is NOT in the top 10,\n",
        "# replace the neighborhood with 'OTHER'\n",
        "train.loc[~train['NEIGHBORHOOD'].isin(top10), 'NEIGHBORHOOD'] = 'OTHER'\n",
        "test.loc[~test['NEIGHBORHOOD'].isin(top10), 'NEIGHBORHOOD'] = 'OTHER'\n",
        "```\n",
        "\n",
        "#### Pipelines\n",
        "\n",
        "[Scikit-Learn User Guide](https://scikit-learn.org/stable/modules/compose.html) explains why pipelines are useful, and demonstrates how to use them:\n",
        "\n",
        "> Pipeline can be used to chain multiple estimators into one. This is useful as there is often a fixed sequence of steps in processing the data, for example feature selection, normalization and classification. Pipeline serves multiple purposes here:\n",
        "> - **Convenience and encapsulation.** You only have to call fit and predict once on your data to fit a whole sequence of estimators.\n",
        "> - **Joint parameter selection.** You can grid search over parameters of all estimators in the pipeline at once.\n",
        "> - **Safety.** Pipelines help avoid leaking statistics from your test data into the trained model in cross-validation, by ensuring that the same samples are used to train the transformers and predictors.\n",
        "\n",
        "### Reading\n",
        "- [ ] [Why is logistic regression considered a linear model?](https://www.quora.com/Why-is-logistic-regression-considered-a-linear-model)\n",
        "- [ ] [Training, Validation, and Testing Data Sets](https://end-to-end-machine-learning.teachable.com/blog/146320/training-validation-testing-data-sets)\n",
        "- [ ] [How (and why) to create a good validation set](https://www.fast.ai/2017/11/13/validation-sets/)\n",
        "- [ ] [Always start with a stupid model, no exceptions](https://blog.insightdatascience.com/always-start-with-a-stupid-model-no-exceptions-3a22314b9aaa)\n",
        "- [ ] [Statistical Modeling: The Two Cultures](https://projecteuclid.org/download/pdf_1/euclid.ss/1009213726)\n",
        "- [ ] [_An Introduction to Statistical Learning_](http://faculty.marshall.usc.edu/gareth-james/ISL/ISLR%20Seventh%20Printing.pdf), Chapters 1-3, for more math & theory, but in an accessible, readable way (without an excessive amount of formulas or academic pre-requisites).\n",
        "\n"
      ]
    },
    {
      "cell_type": "code",
      "metadata": {
        "id": "lk3FT8MF2E8_",
        "colab_type": "code",
        "colab": {}
      },
      "source": [
        ""
      ],
      "execution_count": 0,
      "outputs": []
    },
    {
      "cell_type": "code",
      "metadata": {
        "colab_type": "code",
        "id": "o9eSnDYhUGD7",
        "colab": {}
      },
      "source": [
        "import os, sys\n",
        "in_colab = 'google.colab' in sys.modules\n",
        "\n",
        "# If you're in Colab...\n",
        "if in_colab:\n",
        "    # Pull files from Github repo\n",
        "    os.chdir('/content')\n",
        "    !git init .\n",
        "    !git remote add origin https://github.com/LambdaSchool/DS-Unit-2-Regression-Classification.git\n",
        "    !git pull origin master\n",
        "    \n",
        "    # Install required python packages\n",
        "    !pip install -r requirements.txt\n",
        "    \n",
        "    # Change into directory for module\n",
        "    os.chdir('module4')"
      ],
      "execution_count": 0,
      "outputs": []
    },
    {
      "cell_type": "code",
      "metadata": {
        "colab_type": "code",
        "id": "ipBYS77PUwNR",
        "colab": {}
      },
      "source": [
        "# Ignore this Numpy warning when using Plotly Express:\n",
        "# FutureWarning: Method .ptp is deprecated and will be removed in a future version. Use numpy.ptp instead.\n",
        "import warnings\n",
        "warnings.filterwarnings(action='ignore', category=FutureWarning, module='numpy')"
      ],
      "execution_count": 0,
      "outputs": []
    },
    {
      "cell_type": "code",
      "metadata": {
        "id": "4vdK3jkXifBz",
        "colab_type": "code",
        "colab": {}
      },
      "source": [
        ""
      ],
      "execution_count": 0,
      "outputs": []
    },
    {
      "cell_type": "markdown",
      "metadata": {
        "id": "N9fTfLZ1ifYv",
        "colab_type": "text"
      },
      "source": [
        "https://raw.githubusercontent.com/LambdaSchool/DS-Unit-2-Regression-Classification/master/data/waterpumps/sample_submission.csv\n",
        "\n",
        "https://raw.githubusercontent.com/LambdaSchool/DS-Unit-2-Regression-Classification/master/data/waterpumps/test_features.csv\n",
        "\n",
        "https://raw.githubusercontent.com/LambdaSchool/DS-Unit-2-Regression-Classification/master/data/waterpumps/train_features.csv\n",
        "\n",
        "https://raw.githubusercontent.com/LambdaSchool/DS-Unit-2-Regression-Classification/master/data/waterpumps/train_labels.csv\n",
        "\n"
      ]
    },
    {
      "cell_type": "markdown",
      "metadata": {
        "id": "mRDGehgxjPxZ",
        "colab_type": "text"
      },
      "source": [
        ""
      ]
    },
    {
      "cell_type": "markdown",
      "metadata": {
        "id": "mOuUJZJRjPGN",
        "colab_type": "text"
      },
      "source": [
        ""
      ]
    },
    {
      "cell_type": "markdown",
      "metadata": {
        "id": "LB8ItBwkgMzS",
        "colab_type": "text"
      },
      "source": [
        "# GGA Code Beguine's Here!\n",
        "\n",
        "\n"
      ]
    },
    {
      "cell_type": "code",
      "metadata": {
        "colab_type": "code",
        "id": "QJBD4ruICm1m",
        "colab": {}
      },
      "source": [
        "import pandas as pd\n",
        "'''\n",
        "train_features = pd.read_csv('../data/tanzania/train_features.csv')\n",
        "train_labels = pd.read_csv('../data/tanzania/train_labels.csv')\n",
        "test_features = pd.read_csv('../data/tanzania/test_features.csv')\n",
        "sample_submission = pd.read_csv('../data/tanzania/sample_submission.csv')\n",
        "'''\n",
        "# Implimented Overide workaround: rerount to raw_URL\n",
        "train_features = pd.read_csv('https://raw.githubusercontent.com/LambdaSchool/DS-Unit-2-Regression-Classification/master/data/waterpumps/train_features.csv')\n",
        "train_labels = pd.read_csv('https://raw.githubusercontent.com/LambdaSchool/DS-Unit-2-Regression-Classification/master/data/waterpumps/train_labels.csv')\n",
        "test_features = pd.read_csv('https://raw.githubusercontent.com/LambdaSchool/DS-Unit-2-Regression-Classification/master/data/waterpumps/test_features.csv')\n",
        "sample_submission = pd.read_csv('https://raw.githubusercontent.com/LambdaSchool/DS-Unit-2-Regression-Classification/master/data/waterpumps/sample_submission.csv')\n",
        "\n",
        "#4 Way Split\n",
        "\n",
        "# the X data\n",
        "assert train_features.shape == (59400, 40)\n",
        "# the Y\n",
        "assert train_labels.shape == (59400, 2)\n",
        "# testing X?\n",
        "assert test_features.shape == (14358, 40)\n",
        "# testing Y?\n",
        "assert sample_submission.shape == (14358, 2)"
      ],
      "execution_count": 0,
      "outputs": []
    },
    {
      "cell_type": "markdown",
      "metadata": {
        "id": "PJVJG8NT2GC9",
        "colab_type": "text"
      },
      "source": [
        "#Goal 1: Split\n",
        "- [ ] 1. Do a train/validate/test split with the Tanzania Waterpumps data.\n",
        "\n"
      ]
    },
    {
      "cell_type": "code",
      "metadata": {
        "id": "sPkhrHwZjXIy",
        "colab_type": "code",
        "colab": {}
      },
      "source": [
        ""
      ],
      "execution_count": 0,
      "outputs": []
    },
    {
      "cell_type": "code",
      "metadata": {
        "id": "hOyY1OHPWlDm",
        "colab_type": "code",
        "colab": {}
      },
      "source": [
        "import pandas as pd\n",
        "#train = pd.read_csv('...')\n",
        "#test = pd.read_csv('...')"
      ],
      "execution_count": 0,
      "outputs": []
    },
    {
      "cell_type": "code",
      "metadata": {
        "id": "NmG2l43J7VzG",
        "colab_type": "code",
        "colab": {
          "base_uri": "https://localhost:8080/",
          "height": 35
        },
        "outputId": "032e7f6c-fd3a-4bbf-81eb-82911c91d446"
      },
      "source": [
        "\n",
        "\n",
        "from sklearn.model_selection import train_test_split\n",
        "\n",
        "my_train, my_val = train_test_split(train_features, random_state=42)\n",
        "my_train.shape, my_val.shape"
      ],
      "execution_count": 111,
      "outputs": [
        {
          "output_type": "execute_result",
          "data": {
            "text/plain": [
              "((44550, 40), (14850, 40))"
            ]
          },
          "metadata": {
            "tags": []
          },
          "execution_count": 111
        }
      ]
    },
    {
      "cell_type": "code",
      "metadata": {
        "id": "aiazE4hPlCla",
        "colab_type": "code",
        "colab": {}
      },
      "source": [
        ""
      ],
      "execution_count": 0,
      "outputs": []
    },
    {
      "cell_type": "markdown",
      "metadata": {
        "id": "VhI4LbJblDRq",
        "colab_type": "text"
      },
      "source": [
        "## The Data Exploration!"
      ]
    },
    {
      "cell_type": "code",
      "metadata": {
        "id": "Bz5l3EEhlHiq",
        "colab_type": "code",
        "colab": {
          "base_uri": "https://localhost:8080/",
          "height": 383
        },
        "outputId": "422b2e62-c57e-4959-f686-fa50bbb9ecf3"
      },
      "source": [
        "my_train.head()"
      ],
      "execution_count": 112,
      "outputs": [
        {
          "output_type": "execute_result",
          "data": {
            "text/html": [
              "<div>\n",
              "<style scoped>\n",
              "    .dataframe tbody tr th:only-of-type {\n",
              "        vertical-align: middle;\n",
              "    }\n",
              "\n",
              "    .dataframe tbody tr th {\n",
              "        vertical-align: top;\n",
              "    }\n",
              "\n",
              "    .dataframe thead th {\n",
              "        text-align: right;\n",
              "    }\n",
              "</style>\n",
              "<table border=\"1\" class=\"dataframe\">\n",
              "  <thead>\n",
              "    <tr style=\"text-align: right;\">\n",
              "      <th></th>\n",
              "      <th>id</th>\n",
              "      <th>amount_tsh</th>\n",
              "      <th>date_recorded</th>\n",
              "      <th>funder</th>\n",
              "      <th>gps_height</th>\n",
              "      <th>installer</th>\n",
              "      <th>longitude</th>\n",
              "      <th>latitude</th>\n",
              "      <th>wpt_name</th>\n",
              "      <th>num_private</th>\n",
              "      <th>basin</th>\n",
              "      <th>subvillage</th>\n",
              "      <th>region</th>\n",
              "      <th>region_code</th>\n",
              "      <th>district_code</th>\n",
              "      <th>lga</th>\n",
              "      <th>ward</th>\n",
              "      <th>population</th>\n",
              "      <th>public_meeting</th>\n",
              "      <th>recorded_by</th>\n",
              "      <th>scheme_management</th>\n",
              "      <th>scheme_name</th>\n",
              "      <th>permit</th>\n",
              "      <th>construction_year</th>\n",
              "      <th>extraction_type</th>\n",
              "      <th>extraction_type_group</th>\n",
              "      <th>extraction_type_class</th>\n",
              "      <th>management</th>\n",
              "      <th>management_group</th>\n",
              "      <th>payment</th>\n",
              "      <th>payment_type</th>\n",
              "      <th>water_quality</th>\n",
              "      <th>quality_group</th>\n",
              "      <th>quantity</th>\n",
              "      <th>quantity_group</th>\n",
              "      <th>source</th>\n",
              "      <th>source_type</th>\n",
              "      <th>source_class</th>\n",
              "      <th>waterpoint_type</th>\n",
              "      <th>waterpoint_type_group</th>\n",
              "    </tr>\n",
              "  </thead>\n",
              "  <tbody>\n",
              "    <tr>\n",
              "      <th>24947</th>\n",
              "      <td>33935</td>\n",
              "      <td>20.0</td>\n",
              "      <td>2011-03-08</td>\n",
              "      <td>Government Of Tanzania</td>\n",
              "      <td>330</td>\n",
              "      <td>Ce</td>\n",
              "      <td>38.123839</td>\n",
              "      <td>-6.087137e+00</td>\n",
              "      <td>Ccm</td>\n",
              "      <td>0</td>\n",
              "      <td>Wami / Ruvu</td>\n",
              "      <td>Kilangawageni</td>\n",
              "      <td>Pwani</td>\n",
              "      <td>6</td>\n",
              "      <td>1</td>\n",
              "      <td>Bagamoyo</td>\n",
              "      <td>Mbwewe</td>\n",
              "      <td>80</td>\n",
              "      <td>True</td>\n",
              "      <td>GeoData Consultants Ltd</td>\n",
              "      <td>VWC</td>\n",
              "      <td>Kwaruhombo wa</td>\n",
              "      <td>True</td>\n",
              "      <td>1972</td>\n",
              "      <td>ksb</td>\n",
              "      <td>submersible</td>\n",
              "      <td>submersible</td>\n",
              "      <td>vwc</td>\n",
              "      <td>user-group</td>\n",
              "      <td>pay per bucket</td>\n",
              "      <td>per bucket</td>\n",
              "      <td>salty</td>\n",
              "      <td>salty</td>\n",
              "      <td>insufficient</td>\n",
              "      <td>insufficient</td>\n",
              "      <td>machine dbh</td>\n",
              "      <td>borehole</td>\n",
              "      <td>groundwater</td>\n",
              "      <td>communal standpipe</td>\n",
              "      <td>communal standpipe</td>\n",
              "    </tr>\n",
              "    <tr>\n",
              "      <th>22630</th>\n",
              "      <td>49654</td>\n",
              "      <td>0.0</td>\n",
              "      <td>2013-02-16</td>\n",
              "      <td>Dwsp</td>\n",
              "      <td>0</td>\n",
              "      <td>DWE</td>\n",
              "      <td>0.000000</td>\n",
              "      <td>-2.000000e-08</td>\n",
              "      <td>Mwamahonza</td>\n",
              "      <td>0</td>\n",
              "      <td>Lake Victoria</td>\n",
              "      <td>Mwamahala</td>\n",
              "      <td>Mwanza</td>\n",
              "      <td>17</td>\n",
              "      <td>1</td>\n",
              "      <td>Magu</td>\n",
              "      <td>Nkungulu</td>\n",
              "      <td>0</td>\n",
              "      <td>NaN</td>\n",
              "      <td>GeoData Consultants Ltd</td>\n",
              "      <td>WUG</td>\n",
              "      <td>NaN</td>\n",
              "      <td>False</td>\n",
              "      <td>0</td>\n",
              "      <td>nira/tanira</td>\n",
              "      <td>nira/tanira</td>\n",
              "      <td>handpump</td>\n",
              "      <td>wug</td>\n",
              "      <td>user-group</td>\n",
              "      <td>unknown</td>\n",
              "      <td>unknown</td>\n",
              "      <td>soft</td>\n",
              "      <td>good</td>\n",
              "      <td>enough</td>\n",
              "      <td>enough</td>\n",
              "      <td>shallow well</td>\n",
              "      <td>shallow well</td>\n",
              "      <td>groundwater</td>\n",
              "      <td>hand pump</td>\n",
              "      <td>hand pump</td>\n",
              "    </tr>\n",
              "    <tr>\n",
              "      <th>13789</th>\n",
              "      <td>39287</td>\n",
              "      <td>0.0</td>\n",
              "      <td>2011-08-13</td>\n",
              "      <td>Dasip</td>\n",
              "      <td>0</td>\n",
              "      <td>DASIP</td>\n",
              "      <td>33.312321</td>\n",
              "      <td>-2.814100e+00</td>\n",
              "      <td>Chanongu</td>\n",
              "      <td>0</td>\n",
              "      <td>Lake Victoria</td>\n",
              "      <td>Chanongu</td>\n",
              "      <td>Mwanza</td>\n",
              "      <td>19</td>\n",
              "      <td>4</td>\n",
              "      <td>Kwimba</td>\n",
              "      <td>Wala</td>\n",
              "      <td>0</td>\n",
              "      <td>True</td>\n",
              "      <td>GeoData Consultants Ltd</td>\n",
              "      <td>VWC</td>\n",
              "      <td>NaN</td>\n",
              "      <td>True</td>\n",
              "      <td>0</td>\n",
              "      <td>india mark ii</td>\n",
              "      <td>india mark ii</td>\n",
              "      <td>handpump</td>\n",
              "      <td>vwc</td>\n",
              "      <td>user-group</td>\n",
              "      <td>never pay</td>\n",
              "      <td>never pay</td>\n",
              "      <td>soft</td>\n",
              "      <td>good</td>\n",
              "      <td>enough</td>\n",
              "      <td>enough</td>\n",
              "      <td>machine dbh</td>\n",
              "      <td>borehole</td>\n",
              "      <td>groundwater</td>\n",
              "      <td>hand pump</td>\n",
              "      <td>hand pump</td>\n",
              "    </tr>\n",
              "    <tr>\n",
              "      <th>15697</th>\n",
              "      <td>60510</td>\n",
              "      <td>0.0</td>\n",
              "      <td>2013-01-20</td>\n",
              "      <td>Government Of Tanzania</td>\n",
              "      <td>1542</td>\n",
              "      <td>GOVERNMENT</td>\n",
              "      <td>34.783049</td>\n",
              "      <td>-4.842093e+00</td>\n",
              "      <td>Zahanati</td>\n",
              "      <td>0</td>\n",
              "      <td>Internal</td>\n",
              "      <td>Mungumaji</td>\n",
              "      <td>Singida</td>\n",
              "      <td>13</td>\n",
              "      <td>4</td>\n",
              "      <td>Singida Urban</td>\n",
              "      <td>Mungumaji</td>\n",
              "      <td>23</td>\n",
              "      <td>True</td>\n",
              "      <td>GeoData Consultants Ltd</td>\n",
              "      <td>WUA</td>\n",
              "      <td>NaN</td>\n",
              "      <td>True</td>\n",
              "      <td>2010</td>\n",
              "      <td>gravity</td>\n",
              "      <td>gravity</td>\n",
              "      <td>gravity</td>\n",
              "      <td>wua</td>\n",
              "      <td>user-group</td>\n",
              "      <td>never pay</td>\n",
              "      <td>never pay</td>\n",
              "      <td>soft</td>\n",
              "      <td>good</td>\n",
              "      <td>seasonal</td>\n",
              "      <td>seasonal</td>\n",
              "      <td>rainwater harvesting</td>\n",
              "      <td>rainwater harvesting</td>\n",
              "      <td>surface</td>\n",
              "      <td>communal standpipe</td>\n",
              "      <td>communal standpipe</td>\n",
              "    </tr>\n",
              "    <tr>\n",
              "      <th>22613</th>\n",
              "      <td>24259</td>\n",
              "      <td>0.0</td>\n",
              "      <td>2013-09-03</td>\n",
              "      <td>World Bank</td>\n",
              "      <td>523</td>\n",
              "      <td>Government</td>\n",
              "      <td>34.660944</td>\n",
              "      <td>-1.070733e+01</td>\n",
              "      <td>Kwa Mzee Charles</td>\n",
              "      <td>0</td>\n",
              "      <td>Lake Nyasa</td>\n",
              "      <td>Tumba</td>\n",
              "      <td>Ruvuma</td>\n",
              "      <td>10</td>\n",
              "      <td>3</td>\n",
              "      <td>Mbinga</td>\n",
              "      <td>Mbaha</td>\n",
              "      <td>1</td>\n",
              "      <td>NaN</td>\n",
              "      <td>GeoData Consultants Ltd</td>\n",
              "      <td>VWC</td>\n",
              "      <td>Government</td>\n",
              "      <td>True</td>\n",
              "      <td>2013</td>\n",
              "      <td>gravity</td>\n",
              "      <td>gravity</td>\n",
              "      <td>gravity</td>\n",
              "      <td>vwc</td>\n",
              "      <td>user-group</td>\n",
              "      <td>unknown</td>\n",
              "      <td>unknown</td>\n",
              "      <td>soft</td>\n",
              "      <td>good</td>\n",
              "      <td>dry</td>\n",
              "      <td>dry</td>\n",
              "      <td>spring</td>\n",
              "      <td>spring</td>\n",
              "      <td>groundwater</td>\n",
              "      <td>communal standpipe</td>\n",
              "      <td>communal standpipe</td>\n",
              "    </tr>\n",
              "  </tbody>\n",
              "</table>\n",
              "</div>"
            ],
            "text/plain": [
              "          id  amount_tsh  ...     waterpoint_type waterpoint_type_group\n",
              "24947  33935        20.0  ...  communal standpipe    communal standpipe\n",
              "22630  49654         0.0  ...           hand pump             hand pump\n",
              "13789  39287         0.0  ...           hand pump             hand pump\n",
              "15697  60510         0.0  ...  communal standpipe    communal standpipe\n",
              "22613  24259         0.0  ...  communal standpipe    communal standpipe\n",
              "\n",
              "[5 rows x 40 columns]"
            ]
          },
          "metadata": {
            "tags": []
          },
          "execution_count": 112
        }
      ]
    },
    {
      "cell_type": "code",
      "metadata": {
        "id": "Bel8z2Yrl-aM",
        "colab_type": "code",
        "colab": {}
      },
      "source": [
        "my_train = my_train.drop(columns = 'funder')\n",
        "my_train = my_train.drop(columns = 'installer')\n",
        "my_train = my_train.drop(columns = 'subvillage')\n",
        "my_train = my_train.drop(columns = 'public_meeting')\n",
        "my_train = my_train.drop(columns = 'scheme_management')\n",
        "my_train = my_train.drop(columns = 'scheme_name')\n",
        "my_train = my_train.drop(columns = 'permit')\n",
        "\n"
      ],
      "execution_count": 0,
      "outputs": []
    },
    {
      "cell_type": "code",
      "metadata": {
        "id": "qcxiyT_brj-_",
        "colab_type": "code",
        "colab": {}
      },
      "source": [
        "# duct tape method of reducing cardinality\n",
        "my_train = my_train.drop(columns = 'date_recorded')\n",
        "my_train = my_train.drop(columns = 'wpt_name')\n",
        "my_train = my_train.drop(columns = 'lga')\n",
        "my_train = my_train.drop(columns = 'ward')\n"
      ],
      "execution_count": 0,
      "outputs": []
    },
    {
      "cell_type": "markdown",
      "metadata": {
        "id": "eN8TtRBNmGmh",
        "colab_type": "text"
      },
      "source": [
        "For other set"
      ]
    },
    {
      "cell_type": "code",
      "metadata": {
        "id": "85Ee2sz4-VDI",
        "colab_type": "code",
        "colab": {}
      },
      "source": [
        ""
      ],
      "execution_count": 0,
      "outputs": []
    },
    {
      "cell_type": "code",
      "metadata": {
        "colab_type": "code",
        "id": "D8ccdhSz-VLM",
        "colab": {}
      },
      "source": [
        "test_features = test_features.drop(columns = 'funder')\n",
        "test_features = test_features.drop(columns = 'installer')\n",
        "test_features = test_features.drop(columns = 'subvillage')\n",
        "test_features = test_features.drop(columns = 'public_meeting')\n",
        "test_features = test_features.drop(columns = 'scheme_management')\n",
        "test_features = test_features.drop(columns = 'scheme_name')\n",
        "test_features = test_features.drop(columns = 'permit')\n",
        "\n"
      ],
      "execution_count": 0,
      "outputs": []
    },
    {
      "cell_type": "code",
      "metadata": {
        "colab_type": "code",
        "id": "PIT6eQ1x-VLP",
        "colab": {}
      },
      "source": [
        "# duct tape method of reducing cardinality\n",
        "test_features = test_features.drop(columns = 'date_recorded')\n",
        "test_features = test_features.drop(columns = 'wpt_name')\n",
        "test_features = test_features.drop(columns = 'lga')\n",
        "test_features = test_features.drop(columns = 'ward')\n"
      ],
      "execution_count": 0,
      "outputs": []
    },
    {
      "cell_type": "code",
      "metadata": {
        "id": "hOCc30KN81CN",
        "colab_type": "code",
        "colab": {
          "base_uri": "https://localhost:8080/",
          "height": 35
        },
        "outputId": "061b742a-f0f4-4f0d-f63d-72536d500fc9"
      },
      "source": [
        "my_train.shape"
      ],
      "execution_count": 117,
      "outputs": [
        {
          "output_type": "execute_result",
          "data": {
            "text/plain": [
              "(44550, 29)"
            ]
          },
          "metadata": {
            "tags": []
          },
          "execution_count": 117
        }
      ]
    },
    {
      "cell_type": "code",
      "metadata": {
        "id": "7HcK0V6687te",
        "colab_type": "code",
        "colab": {
          "base_uri": "https://localhost:8080/",
          "height": 35
        },
        "outputId": "e0c01010-40bb-49f3-e95b-9d02022875e5"
      },
      "source": [
        "train_labels.shape"
      ],
      "execution_count": 118,
      "outputs": [
        {
          "output_type": "execute_result",
          "data": {
            "text/plain": [
              "(59400, 2)"
            ]
          },
          "metadata": {
            "tags": []
          },
          "execution_count": 118
        }
      ]
    },
    {
      "cell_type": "code",
      "metadata": {
        "id": "E0i3PMirlLrk",
        "colab_type": "code",
        "colab": {
          "base_uri": "https://localhost:8080/",
          "height": 550
        },
        "outputId": "733fc1e6-ed06-4a90-9a59-012a6898fdd8"
      },
      "source": [
        "my_train.isna().sum()"
      ],
      "execution_count": 119,
      "outputs": [
        {
          "output_type": "execute_result",
          "data": {
            "text/plain": [
              "id                       0\n",
              "amount_tsh               0\n",
              "gps_height               0\n",
              "longitude                0\n",
              "latitude                 0\n",
              "num_private              0\n",
              "basin                    0\n",
              "region                   0\n",
              "region_code              0\n",
              "district_code            0\n",
              "population               0\n",
              "recorded_by              0\n",
              "construction_year        0\n",
              "extraction_type          0\n",
              "extraction_type_group    0\n",
              "extraction_type_class    0\n",
              "management               0\n",
              "management_group         0\n",
              "payment                  0\n",
              "payment_type             0\n",
              "water_quality            0\n",
              "quality_group            0\n",
              "quantity                 0\n",
              "quantity_group           0\n",
              "source                   0\n",
              "source_type              0\n",
              "source_class             0\n",
              "waterpoint_type          0\n",
              "waterpoint_type_group    0\n",
              "dtype: int64"
            ]
          },
          "metadata": {
            "tags": []
          },
          "execution_count": 119
        }
      ]
    },
    {
      "cell_type": "code",
      "metadata": {
        "id": "o2a67z7R3Jz-",
        "colab_type": "code",
        "colab": {
          "base_uri": "https://localhost:8080/",
          "height": 550
        },
        "outputId": "9b6b131c-378d-4d32-f688-22eeb84d66a0"
      },
      "source": [
        "test_features.isna().sum()"
      ],
      "execution_count": 120,
      "outputs": [
        {
          "output_type": "execute_result",
          "data": {
            "text/plain": [
              "id                       0\n",
              "amount_tsh               0\n",
              "gps_height               0\n",
              "longitude                0\n",
              "latitude                 0\n",
              "num_private              0\n",
              "basin                    0\n",
              "region                   0\n",
              "region_code              0\n",
              "district_code            0\n",
              "population               0\n",
              "recorded_by              0\n",
              "construction_year        0\n",
              "extraction_type          0\n",
              "extraction_type_group    0\n",
              "extraction_type_class    0\n",
              "management               0\n",
              "management_group         0\n",
              "payment                  0\n",
              "payment_type             0\n",
              "water_quality            0\n",
              "quality_group            0\n",
              "quantity                 0\n",
              "quantity_group           0\n",
              "source                   0\n",
              "source_type              0\n",
              "source_class             0\n",
              "waterpoint_type          0\n",
              "waterpoint_type_group    0\n",
              "dtype: int64"
            ]
          },
          "metadata": {
            "tags": []
          },
          "execution_count": 120
        }
      ]
    },
    {
      "cell_type": "code",
      "metadata": {
        "id": "9uJlkI9llmRT",
        "colab_type": "code",
        "colab": {
          "base_uri": "https://localhost:8080/",
          "height": 218
        },
        "outputId": "8cedfd94-047e-406d-9fe0-72365c8151ed"
      },
      "source": [
        "my_train.describe(exclude='number') "
      ],
      "execution_count": 121,
      "outputs": [
        {
          "output_type": "execute_result",
          "data": {
            "text/html": [
              "<div>\n",
              "<style scoped>\n",
              "    .dataframe tbody tr th:only-of-type {\n",
              "        vertical-align: middle;\n",
              "    }\n",
              "\n",
              "    .dataframe tbody tr th {\n",
              "        vertical-align: top;\n",
              "    }\n",
              "\n",
              "    .dataframe thead th {\n",
              "        text-align: right;\n",
              "    }\n",
              "</style>\n",
              "<table border=\"1\" class=\"dataframe\">\n",
              "  <thead>\n",
              "    <tr style=\"text-align: right;\">\n",
              "      <th></th>\n",
              "      <th>basin</th>\n",
              "      <th>region</th>\n",
              "      <th>recorded_by</th>\n",
              "      <th>extraction_type</th>\n",
              "      <th>extraction_type_group</th>\n",
              "      <th>extraction_type_class</th>\n",
              "      <th>management</th>\n",
              "      <th>management_group</th>\n",
              "      <th>payment</th>\n",
              "      <th>payment_type</th>\n",
              "      <th>water_quality</th>\n",
              "      <th>quality_group</th>\n",
              "      <th>quantity</th>\n",
              "      <th>quantity_group</th>\n",
              "      <th>source</th>\n",
              "      <th>source_type</th>\n",
              "      <th>source_class</th>\n",
              "      <th>waterpoint_type</th>\n",
              "      <th>waterpoint_type_group</th>\n",
              "    </tr>\n",
              "  </thead>\n",
              "  <tbody>\n",
              "    <tr>\n",
              "      <th>count</th>\n",
              "      <td>44550</td>\n",
              "      <td>44550</td>\n",
              "      <td>44550</td>\n",
              "      <td>44550</td>\n",
              "      <td>44550</td>\n",
              "      <td>44550</td>\n",
              "      <td>44550</td>\n",
              "      <td>44550</td>\n",
              "      <td>44550</td>\n",
              "      <td>44550</td>\n",
              "      <td>44550</td>\n",
              "      <td>44550</td>\n",
              "      <td>44550</td>\n",
              "      <td>44550</td>\n",
              "      <td>44550</td>\n",
              "      <td>44550</td>\n",
              "      <td>44550</td>\n",
              "      <td>44550</td>\n",
              "      <td>44550</td>\n",
              "    </tr>\n",
              "    <tr>\n",
              "      <th>unique</th>\n",
              "      <td>9</td>\n",
              "      <td>21</td>\n",
              "      <td>1</td>\n",
              "      <td>18</td>\n",
              "      <td>13</td>\n",
              "      <td>7</td>\n",
              "      <td>12</td>\n",
              "      <td>5</td>\n",
              "      <td>7</td>\n",
              "      <td>7</td>\n",
              "      <td>8</td>\n",
              "      <td>6</td>\n",
              "      <td>5</td>\n",
              "      <td>5</td>\n",
              "      <td>10</td>\n",
              "      <td>7</td>\n",
              "      <td>3</td>\n",
              "      <td>7</td>\n",
              "      <td>6</td>\n",
              "    </tr>\n",
              "    <tr>\n",
              "      <th>top</th>\n",
              "      <td>Lake Victoria</td>\n",
              "      <td>Iringa</td>\n",
              "      <td>GeoData Consultants Ltd</td>\n",
              "      <td>gravity</td>\n",
              "      <td>gravity</td>\n",
              "      <td>gravity</td>\n",
              "      <td>vwc</td>\n",
              "      <td>user-group</td>\n",
              "      <td>never pay</td>\n",
              "      <td>never pay</td>\n",
              "      <td>soft</td>\n",
              "      <td>good</td>\n",
              "      <td>enough</td>\n",
              "      <td>enough</td>\n",
              "      <td>spring</td>\n",
              "      <td>spring</td>\n",
              "      <td>groundwater</td>\n",
              "      <td>communal standpipe</td>\n",
              "      <td>communal standpipe</td>\n",
              "    </tr>\n",
              "    <tr>\n",
              "      <th>freq</th>\n",
              "      <td>7663</td>\n",
              "      <td>3991</td>\n",
              "      <td>44550</td>\n",
              "      <td>19966</td>\n",
              "      <td>19966</td>\n",
              "      <td>19966</td>\n",
              "      <td>30414</td>\n",
              "      <td>39392</td>\n",
              "      <td>19062</td>\n",
              "      <td>19062</td>\n",
              "      <td>38064</td>\n",
              "      <td>38064</td>\n",
              "      <td>24885</td>\n",
              "      <td>24885</td>\n",
              "      <td>12686</td>\n",
              "      <td>12686</td>\n",
              "      <td>34358</td>\n",
              "      <td>21353</td>\n",
              "      <td>25884</td>\n",
              "    </tr>\n",
              "  </tbody>\n",
              "</table>\n",
              "</div>"
            ],
            "text/plain": [
              "                basin  region  ...     waterpoint_type waterpoint_type_group\n",
              "count           44550   44550  ...               44550                 44550\n",
              "unique              9      21  ...                   7                     6\n",
              "top     Lake Victoria  Iringa  ...  communal standpipe    communal standpipe\n",
              "freq             7663    3991  ...               21353                 25884\n",
              "\n",
              "[4 rows x 19 columns]"
            ]
          },
          "metadata": {
            "tags": []
          },
          "execution_count": 121
        }
      ]
    },
    {
      "cell_type": "markdown",
      "metadata": {
        "id": "bHKNRKIl2HVG",
        "colab_type": "text"
      },
      "source": [
        "#Goal 2: One Hot Encode\n",
        "- [ ] 2. Do one-hot encoding. For example, in addition to `quantity`, you could try `basin`, `extraction_type_class`, and more. (But remember it may not work with high cardinality categoricals.)\n"
      ]
    },
    {
      "cell_type": "markdown",
      "metadata": {
        "id": "JCt9B_a561RF",
        "colab_type": "text"
      },
      "source": [
        "##2.4 Do one-hot encoding\n"
      ]
    },
    {
      "cell_type": "code",
      "metadata": {
        "id": "uedbfR-Et31r",
        "colab_type": "code",
        "colab": {}
      },
      "source": [
        "train = my_train \n",
        "test = my_val"
      ],
      "execution_count": 0,
      "outputs": []
    },
    {
      "cell_type": "code",
      "metadata": {
        "id": "BDl5a5dMuFzy",
        "colab_type": "code",
        "colab": {}
      },
      "source": [
        "target = train_labels"
      ],
      "execution_count": 0,
      "outputs": []
    },
    {
      "cell_type": "code",
      "metadata": {
        "id": "P5NxWetrt2vU",
        "colab_type": "code",
        "colab": {}
      },
      "source": [
        "X_train = train[features]\n",
        "y_train = train_labels\n",
        "X_test = test[features]\n",
        "y_test = train_labels"
      ],
      "execution_count": 0,
      "outputs": []
    },
    {
      "cell_type": "code",
      "metadata": {
        "id": "9DasYnvVuVCH",
        "colab_type": "code",
        "colab": {}
      },
      "source": [
        "#X_train = train[features]\n",
        "#y_train = train[target]\n",
        "#X_test = test[features]\n",
        "#y_test = test[target]"
      ],
      "execution_count": 0,
      "outputs": []
    },
    {
      "cell_type": "code",
      "metadata": {
        "id": "mRt-LXFUKIek",
        "colab_type": "code",
        "colab": {}
      },
      "source": [
        "#target = train_labels\n",
        "#high_cardinality = my_train['date_recorded',\n",
        "#                    'wpt_name',\n",
        "#                    'lga',\n",
        "#                   'ward']\n",
        "\n",
        "\n",
        "\t\t\t\t\n",
        "#features = my_train.columns.drop(high_cardinality)\n",
        "\n",
        "#X_train = my_train[features]\n",
        "#y_train = my_train[target]\n",
        "#X_test = my_train[features]\n",
        "#y_test = my_val[target]"
      ],
      "execution_count": 0,
      "outputs": []
    },
    {
      "cell_type": "code",
      "metadata": {
        "id": "nhoYboyxJ2Wt",
        "colab_type": "code",
        "colab": {}
      },
      "source": [
        "import category_encoders as ce\n",
        "encoder = ce.OneHotEncoder(use_cat_names=True)\n",
        "X_train = encoder.fit_transform(X_train)\n",
        "X_test = encoder.transform(X_test)"
      ],
      "execution_count": 0,
      "outputs": []
    },
    {
      "cell_type": "code",
      "metadata": {
        "id": "vrf4HsAJQ5Sm",
        "colab_type": "code",
        "colab": {}
      },
      "source": [
        "#looking at data\n",
        "X_train.head(3)"
      ],
      "execution_count": 0,
      "outputs": []
    },
    {
      "cell_type": "markdown",
      "metadata": {
        "id": "li34CIeexl3V",
        "colab_type": "text"
      },
      "source": [
        "\n",
        "\n",
        "\n",
        "```\n",
        "# This is formatted as code\n",
        "```\n",
        "\n"
      ]
    },
    {
      "cell_type": "code",
      "metadata": {
        "id": "80d7BNaiwczd",
        "colab_type": "code",
        "colab": {}
      },
      "source": [
        "X_train.corr()"
      ],
      "execution_count": 0,
      "outputs": []
    },
    {
      "cell_type": "markdown",
      "metadata": {
        "id": "8pStokdF2I2V",
        "colab_type": "text"
      },
      "source": [
        "#Goal 3: Logistic Regression\n",
        "- [ ] 3. Use scikit-learn for logistic regression.\n"
      ]
    },
    {
      "cell_type": "markdown",
      "metadata": {
        "id": "DiqfoEx66vOF",
        "colab_type": "text"
      },
      "source": [
        "# Logistic Regresssion\n",
        "\n",
        "##1.2 Do train/test split, arrange data into X features matrix and y target vector\n",
        "+\n",
        "##1.3 Use scikit-learn to fit a logistic regression model\n",
        "(modified 5 step model...no source for this)\n",
        "+\n",
        "##1.4 Report classification metric: accuracy\n",
        "\n"
      ]
    },
    {
      "cell_type": "code",
      "metadata": {
        "id": "UB77pIm8FF3W",
        "colab_type": "code",
        "colab": {}
      },
      "source": [
        "# (step 1)\n",
        "# 1. Import the appropriate estimator class from Scikit-Learn\n",
        "from sklearn.linear_model import LogisticRegression"
      ],
      "execution_count": 0,
      "outputs": []
    },
    {
      "cell_type": "code",
      "metadata": {
        "id": "undC-ixYwb2M",
        "colab_type": "code",
        "colab": {}
      },
      "source": [
        ""
      ],
      "execution_count": 0,
      "outputs": []
    },
    {
      "cell_type": "markdown",
      "metadata": {
        "id": "hsATXDhZyF0U",
        "colab_type": "text"
      },
      "source": [
        "gps_height\n",
        "longitude\n",
        "basin_Internal"
      ]
    },
    {
      "cell_type": "code",
      "metadata": {
        "id": "95IIwWTC2vK8",
        "colab_type": "code",
        "colab": {}
      },
      "source": [
        "X_train.shape"
      ],
      "execution_count": 0,
      "outputs": []
    },
    {
      "cell_type": "code",
      "metadata": {
        "id": "uj6bJmIeHRCa",
        "colab_type": "code",
        "colab": {}
      },
      "source": [
        "# 3. Arrange X features matrix & y target vector\n",
        "# 3. Arrange X feature matrices (already did y target vectors)\n",
        "features = ['gps_height', 'longitude', 'basin_Internal']\n",
        "X_train = X_train[features]\n",
        "X_val = X_test[features]\n",
        "\n",
        "# Impute missing values\n",
        "from sklearn.impute import SimpleImputer\n",
        "imputer = SimpleImputer()\n",
        "X_train_imputed = imputer.fit_transform(X_train)\n",
        "X_val_imputed = imputer.transform(X_val)"
      ],
      "execution_count": 0,
      "outputs": []
    },
    {
      "cell_type": "code",
      "metadata": {
        "id": "J7GbJsCTz0MU",
        "colab_type": "code",
        "colab": {}
      },
      "source": [
        "LogisticRegression(solver='lbfgs', multi_class='auto')"
      ],
      "execution_count": 0,
      "outputs": []
    },
    {
      "cell_type": "code",
      "metadata": {
        "id": "3TGknCEU2d3P",
        "colab_type": "code",
        "colab": {}
      },
      "source": [
        "X_train_imputed.shape"
      ],
      "execution_count": 0,
      "outputs": []
    },
    {
      "cell_type": "code",
      "metadata": {
        "id": "QCapZxSU8TLK",
        "colab_type": "code",
        "colab": {}
      },
      "source": [
        "#(Step 2)\n",
        "# 2. Instantiate this class\n",
        "# model = LinearRegression()\n",
        "\n",
        "from sklearn.linear_model import LogisticRegression\n",
        "\n",
        "log_reg = LogisticRegression(solver='lbfgs')\n",
        "# 4. Fit the model\n",
        "#model.fit(X_train, y_train)\n",
        "log_reg.fit(X_train_imputed, train_labels)\n",
        "# 5. Apply the model\n",
        "print('Validation Accuracy', log_reg.score(X_val_imputed, y_val))\n"
      ],
      "execution_count": 0,
      "outputs": []
    },
    {
      "cell_type": "code",
      "metadata": {
        "id": "2cQHqAul8Uvl",
        "colab_type": "code",
        "colab": {}
      },
      "source": [
        "#code below here not clearly applicable...\n"
      ],
      "execution_count": 0,
      "outputs": []
    },
    {
      "cell_type": "code",
      "metadata": {
        "id": "nPsQeQR58peU",
        "colab_type": "code",
        "colab": {}
      },
      "source": [
        "X_train.head(5)"
      ],
      "execution_count": 0,
      "outputs": []
    },
    {
      "cell_type": "code",
      "metadata": {
        "id": "q6IX8C_b8prp",
        "colab_type": "code",
        "colab": {}
      },
      "source": [
        "y_train.head(5)"
      ],
      "execution_count": 0,
      "outputs": []
    },
    {
      "cell_type": "code",
      "metadata": {
        "id": "lYcrLBlw9G2T",
        "colab_type": "code",
        "colab": {}
      },
      "source": [
        "# interpolation\n",
        "# 5.1 Here we will try appling our model to new data\n",
        "bedroom_number = 2\n",
        "X_test = [[bedroom_number]]\n",
        "\n",
        "model.predict(X_test)"
      ],
      "execution_count": 0,
      "outputs": []
    },
    {
      "cell_type": "code",
      "metadata": {
        "id": "faK9eZys-4ws",
        "colab_type": "code",
        "colab": {}
      },
      "source": [
        "# extrapoloation\n",
        "# 5.2 Here we will try appling our model to new data\n",
        "bedroom_number = 20\n",
        "X_test = [[bedroom_number]]\n",
        "\n",
        "model.predict(X_test)\n"
      ],
      "execution_count": 0,
      "outputs": []
    },
    {
      "cell_type": "code",
      "metadata": {
        "id": "kHoxxqPrKSBe",
        "colab_type": "code",
        "colab": {}
      },
      "source": [
        "#y_pred = model.predict(X_test)\n",
        "print(f'Predicted price for a {X_test} bedroom place:\\n' + str(y_pred))"
      ],
      "execution_count": 0,
      "outputs": []
    },
    {
      "cell_type": "markdown",
      "metadata": {
        "id": "gGDgpUD46xQV",
        "colab_type": "text"
      },
      "source": [
        "## 1.4 Report classification metric: accuracy\n",
        "\n"
      ]
    },
    {
      "cell_type": "code",
      "metadata": {
        "id": "flZoRI007hvF",
        "colab_type": "code",
        "colab": {}
      },
      "source": [
        "#from sklearn.metrics import accuracy_score\n",
        "#accuracy_score(y_train, y_pred)"
      ],
      "execution_count": 0,
      "outputs": []
    },
    {
      "cell_type": "markdown",
      "metadata": {
        "id": "dkm4CCvF2J4V",
        "colab_type": "text"
      },
      "source": [
        "#Goal 4: validation accuracy score\n",
        "- [ ] 4 .Get your validation accuracy score.\n",
        "\n",
        "\n"
      ]
    },
    {
      "cell_type": "markdown",
      "metadata": {
        "id": "aPGfjDyUerBy",
        "colab_type": "text"
      },
      "source": [
        "# Goal: Coefficients\n",
        "- [ ] 5. Get and plot your coefficients.\n",
        "\n"
      ]
    },
    {
      "cell_type": "code",
      "metadata": {
        "id": "ziSkh3F8gDP0",
        "colab_type": "code",
        "colab": {}
      },
      "source": [
        ""
      ],
      "execution_count": 0,
      "outputs": []
    },
    {
      "cell_type": "code",
      "metadata": {
        "colab_type": "code",
        "id": "qU4GbrPns70Q",
        "colab": {}
      },
      "source": [
        "model.intercept_, model.coef_"
      ],
      "execution_count": 0,
      "outputs": []
    },
    {
      "cell_type": "code",
      "metadata": {
        "colab_type": "code",
        "id": "Fvp0T6rvs70T",
        "colab": {}
      },
      "source": [
        "beta0 = model.intercept_\n",
        "beta1, beta2 = model.coef_\n",
        "print(f'y = {beta0} + {beta1}x1 + {beta2}x2')"
      ],
      "execution_count": 0,
      "outputs": []
    },
    {
      "cell_type": "code",
      "metadata": {
        "colab_type": "code",
        "id": "Xv2dLUVUs70V",
        "colab": {}
      },
      "source": [
        "# This is easier to read\n",
        "print('Intercepts:', model.intercept_)\n",
        "coefficients = pd.Series(model.coef_, features)\n",
        "print(coefficients.to_string())"
      ],
      "execution_count": 0,
      "outputs": []
    },
    {
      "cell_type": "code",
      "metadata": {
        "id": "IcIskjshvryM",
        "colab_type": "code",
        "colab": {}
      },
      "source": [
        ""
      ],
      "execution_count": 0,
      "outputs": []
    },
    {
      "cell_type": "code",
      "metadata": {
        "id": "lq6SxHfPFq6H",
        "colab_type": "code",
        "colab": {}
      },
      "source": [
        "#Original Ryan Herr Template for simple linear regression\n",
        "#\n",
        "# 1. Import estimator class\n",
        "from sklearn.linear_model import LinearRegression\n",
        "\n",
        "# 2. Instantiate this class\n",
        "linear_reg = LinearRegression()\n",
        "\n",
        "# 3. Arrange X feature matrices (already did y target vectors)\n",
        "features = ['Pclass', 'Age', 'Fare']\n",
        "X_train = my_train[features]\n",
        "X_val = my_val[features]\n",
        "\n",
        "# Impute missing values\n",
        "from sklearn.impute import SimpleImputer\n",
        "imputer = SimpleImputer()\n",
        "X_train_imputed = imputer.fit_transform(X_train)\n",
        "X_val_imputed = imputer.transform(X_val)\n",
        "\n",
        "# 4. Fit the model\n",
        "linear_reg.fit(X_train_imputed, y_train)\n",
        "\n",
        "# 5. Apply the model to new data.\n",
        "# The predictions look like this ...\n",
        "linear_reg.predict(X_val_imputed)"
      ],
      "execution_count": 0,
      "outputs": []
    },
    {
      "cell_type": "markdown",
      "metadata": {
        "id": "XDIzJH0VesEx",
        "colab_type": "text"
      },
      "source": [
        ""
      ]
    }
  ]
}