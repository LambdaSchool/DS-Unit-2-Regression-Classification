{
  "nbformat": 4,
  "nbformat_minor": 0,
  "metadata": {
    "colab": {
      "name": "11pm Sun Mar 22 PT5 DS_Sprint_Challenge_5.ipynb",
      "provenance": [],
      "collapsed_sections": [],
      "include_colab_link": true
    },
    "kernelspec": {
      "display_name": "Python 3",
      "language": "python",
      "name": "python3"
    },
    "language_info": {
      "codemirror_mode": {
        "name": "ipython",
        "version": 3
      },
      "file_extension": ".py",
      "mimetype": "text/x-python",
      "name": "python",
      "nbconvert_exporter": "python",
      "pygments_lexer": "ipython3",
      "version": "3.7.3"
    }
  },
  "cells": [
    {
      "cell_type": "markdown",
      "metadata": {
        "id": "view-in-github",
        "colab_type": "text"
      },
      "source": [
        "<a href=\"https://colab.research.google.com/github/LambdaTheda/DS-Unit-2-Linear-Models/blob/master/11pm_Sun_Mar_22_PT5_DS_Sprint_Challenge_5.ipynb\" target=\"_parent\"><img src=\"https://colab.research.google.com/assets/colab-badge.svg\" alt=\"Open In Colab\"/></a>"
      ]
    },
    {
      "cell_type": "markdown",
      "metadata": {
        "colab_type": "text",
        "id": "VZf2akBaMjq8"
      },
      "source": [
        "_Lambda School Data Science, Unit 2_\n",
        " \n",
        "# Linear Models Sprint Challenge\n",
        "\n",
        "To demonstrate mastery on your Sprint Challenge, do all the required, numbered instructions in this notebook.\n",
        "\n",
        "To earn a score of \"3\", also do all the stretch goals.\n",
        "\n",
        "You are permitted and encouraged to do as much data exploration as you want."
      ]
    },
    {
      "cell_type": "markdown",
      "metadata": {
        "colab_type": "text",
        "id": "20OITf58NLQh"
      },
      "source": [
        "### Part 1, Classification\n",
        "- 1.1. Do train/test split. Arrange data into X features matrix and y target vector\n",
        "- 1.2. Use scikit-learn to fit a logistic regression model\n",
        "- 1.3. Report classification metric: accuracy\n",
        "\n",
        "### Part 2, Regression\n",
        "- 2.1. Begin with baselines for regression\n",
        "- 2.2. Do train/validate/test split\n",
        "- 2.3. Arrange data into X features matrix and y target vector\n",
        "- 2.4. Do one-hot encoding\n",
        "- 2.5. Use scikit-learn to fit a linear regression or ridge regression model\n",
        "- 2.6. Report validation MAE and $R^2$\n",
        "\n",
        "### Stretch Goals, Regression\n",
        "- Make at least 2 visualizations to explore relationships between features and target. You may use any visualization library\n",
        "- Try at least 3 feature combinations. You may select features manually, or automatically\n",
        "- Report validation MAE and $R^2$ for each feature combination you try\n",
        "- Report test MAE and $R^2$ for your final model\n",
        "- Print or plot the coefficients for the features in your model"
      ]
    },
    {
      "cell_type": "code",
      "metadata": {
        "colab_type": "code",
        "id": "BxoFSeX5OX5k",
        "outputId": "5aec1ebd-506a-4275-d5f7-ffff9f9b89f7",
        "colab": {
          "base_uri": "https://localhost:8080/",
          "height": 1000
        }
      },
      "source": [
        "# If you're in Colab...\n",
        "import sys\n",
        "if 'google.colab' in sys.modules:\n",
        "    !pip install category_encoders==2.*\n",
        "    !pip install pandas-profiling==2.*\n",
        "    !pip install plotly==4.*"
      ],
      "execution_count": 0,
      "outputs": [
        {
          "output_type": "stream",
          "text": [
            "Collecting category_encoders==2.*\n",
            "\u001b[?25l  Downloading https://files.pythonhosted.org/packages/a0/52/c54191ad3782de633ea3d6ee3bb2837bda0cf3bc97644bb6375cf14150a0/category_encoders-2.1.0-py2.py3-none-any.whl (100kB)\n",
            "\r\u001b[K     |███▎                            | 10kB 19.1MB/s eta 0:00:01\r\u001b[K     |██████▌                         | 20kB 3.3MB/s eta 0:00:01\r\u001b[K     |█████████▉                      | 30kB 4.8MB/s eta 0:00:01\r\u001b[K     |█████████████                   | 40kB 3.1MB/s eta 0:00:01\r\u001b[K     |████████████████▍               | 51kB 3.9MB/s eta 0:00:01\r\u001b[K     |███████████████████▋            | 61kB 4.6MB/s eta 0:00:01\r\u001b[K     |██████████████████████▉         | 71kB 5.3MB/s eta 0:00:01\r\u001b[K     |██████████████████████████▏     | 81kB 6.0MB/s eta 0:00:01\r\u001b[K     |█████████████████████████████▍  | 92kB 6.7MB/s eta 0:00:01\r\u001b[K     |████████████████████████████████| 102kB 3.9MB/s \n",
            "\u001b[?25hRequirement already satisfied: scikit-learn>=0.20.0 in /usr/local/lib/python3.6/dist-packages (from category_encoders==2.*) (0.22.2.post1)\n",
            "Requirement already satisfied: scipy>=0.19.0 in /usr/local/lib/python3.6/dist-packages (from category_encoders==2.*) (1.4.1)\n",
            "Requirement already satisfied: numpy>=1.11.3 in /usr/local/lib/python3.6/dist-packages (from category_encoders==2.*) (1.18.2)\n",
            "Requirement already satisfied: patsy>=0.4.1 in /usr/local/lib/python3.6/dist-packages (from category_encoders==2.*) (0.5.1)\n",
            "Requirement already satisfied: statsmodels>=0.6.1 in /usr/local/lib/python3.6/dist-packages (from category_encoders==2.*) (0.10.2)\n",
            "Requirement already satisfied: pandas>=0.21.1 in /usr/local/lib/python3.6/dist-packages (from category_encoders==2.*) (0.25.3)\n",
            "Requirement already satisfied: joblib>=0.11 in /usr/local/lib/python3.6/dist-packages (from scikit-learn>=0.20.0->category_encoders==2.*) (0.14.1)\n",
            "Requirement already satisfied: six in /usr/local/lib/python3.6/dist-packages (from patsy>=0.4.1->category_encoders==2.*) (1.12.0)\n",
            "Requirement already satisfied: python-dateutil>=2.6.1 in /usr/local/lib/python3.6/dist-packages (from pandas>=0.21.1->category_encoders==2.*) (2.8.1)\n",
            "Requirement already satisfied: pytz>=2017.2 in /usr/local/lib/python3.6/dist-packages (from pandas>=0.21.1->category_encoders==2.*) (2018.9)\n",
            "Installing collected packages: category-encoders\n",
            "Successfully installed category-encoders-2.1.0\n",
            "Collecting pandas-profiling==2.*\n",
            "\u001b[?25l  Downloading https://files.pythonhosted.org/packages/e8/b0/bd5e3aaf37302fbe581b6947dc5ec1cda02a0ffe50fc823123def73e4d7a/pandas-profiling-2.5.0.tar.gz (192kB)\n",
            "\u001b[K     |████████████████████████████████| 194kB 4.8MB/s \n",
            "\u001b[?25hRequirement already satisfied: numpy>=1.16.0 in /usr/local/lib/python3.6/dist-packages (from pandas-profiling==2.*) (1.18.2)\n",
            "Requirement already satisfied: scipy>=1.4.1 in /usr/local/lib/python3.6/dist-packages (from pandas-profiling==2.*) (1.4.1)\n",
            "Requirement already satisfied: pandas==0.25.3 in /usr/local/lib/python3.6/dist-packages (from pandas-profiling==2.*) (0.25.3)\n",
            "Requirement already satisfied: matplotlib>=3.0.3 in /usr/local/lib/python3.6/dist-packages (from pandas-profiling==2.*) (3.2.0)\n",
            "Collecting confuse==1.0.0\n",
            "  Downloading https://files.pythonhosted.org/packages/4c/6f/90e860cba937c174d8b3775729ccc6377eb91f52ad4eeb008e7252a3646d/confuse-1.0.0.tar.gz\n",
            "Requirement already satisfied: jinja2==2.11.1 in /usr/local/lib/python3.6/dist-packages (from pandas-profiling==2.*) (2.11.1)\n",
            "Collecting visions==0.2.2\n",
            "  Downloading https://files.pythonhosted.org/packages/07/4a/ab37f8bafda516b66c4f475b221a6c170097c0db203750a4aafb01023339/visions-0.2.2.tar.gz\n",
            "Collecting htmlmin==0.1.12\n",
            "  Downloading https://files.pythonhosted.org/packages/b3/e7/fcd59e12169de19f0131ff2812077f964c6b960e7c09804d30a7bf2ab461/htmlmin-0.1.12.tar.gz\n",
            "Requirement already satisfied: missingno==0.4.2 in /usr/local/lib/python3.6/dist-packages (from pandas-profiling==2.*) (0.4.2)\n",
            "Collecting phik==0.9.9\n",
            "\u001b[?25l  Downloading https://files.pythonhosted.org/packages/03/cf/b8cef2778104dc5d319f36dd836efaceb07a037cbf63f27c966b5a193ce9/phik-0.9.9-py3-none-any.whl (607kB)\n",
            "\u001b[K     |████████████████████████████████| 614kB 16.4MB/s \n",
            "\u001b[?25hRequirement already satisfied: astropy>=3.2.3 in /usr/local/lib/python3.6/dist-packages (from pandas-profiling==2.*) (4.0)\n",
            "Collecting tangled-up-in-unicode==0.0.3\n",
            "\u001b[?25l  Downloading https://files.pythonhosted.org/packages/43/fc/e3c970c5007b405827a4623e70fc4eb966ee49bc1edbd56c33e85e1c6534/tangled_up_in_unicode-0.0.3.tar.gz (1.5MB)\n",
            "\u001b[K     |████████████████████████████████| 1.5MB 22.4MB/s \n",
            "\u001b[?25hCollecting tqdm==4.42.0\n",
            "\u001b[?25l  Downloading https://files.pythonhosted.org/packages/cc/2e/4307206db63f05ed37e21d4c0d843d0fbcacd62479f8ce99ba0f2c0875e0/tqdm-4.42.0-py2.py3-none-any.whl (59kB)\n",
            "\u001b[K     |████████████████████████████████| 61kB 8.9MB/s \n",
            "\u001b[?25hRequirement already satisfied: kaggle==1.5.6 in /usr/local/lib/python3.6/dist-packages (from pandas-profiling==2.*) (1.5.6)\n",
            "Requirement already satisfied: ipywidgets==7.5.1 in /usr/local/lib/python3.6/dist-packages (from pandas-profiling==2.*) (7.5.1)\n",
            "Collecting requests==2.22.0\n",
            "\u001b[?25l  Downloading https://files.pythonhosted.org/packages/51/bd/23c926cd341ea6b7dd0b2a00aba99ae0f828be89d72b2190f27c11d4b7fb/requests-2.22.0-py2.py3-none-any.whl (57kB)\n",
            "\u001b[K     |████████████████████████████████| 61kB 9.5MB/s \n",
            "\u001b[?25hRequirement already satisfied: pytz>=2017.2 in /usr/local/lib/python3.6/dist-packages (from pandas==0.25.3->pandas-profiling==2.*) (2018.9)\n",
            "Requirement already satisfied: python-dateutil>=2.6.1 in /usr/local/lib/python3.6/dist-packages (from pandas==0.25.3->pandas-profiling==2.*) (2.8.1)\n",
            "Requirement already satisfied: kiwisolver>=1.0.1 in /usr/local/lib/python3.6/dist-packages (from matplotlib>=3.0.3->pandas-profiling==2.*) (1.1.0)\n",
            "Requirement already satisfied: cycler>=0.10 in /usr/local/lib/python3.6/dist-packages (from matplotlib>=3.0.3->pandas-profiling==2.*) (0.10.0)\n",
            "Requirement already satisfied: pyparsing!=2.0.4,!=2.1.2,!=2.1.6,>=2.0.1 in /usr/local/lib/python3.6/dist-packages (from matplotlib>=3.0.3->pandas-profiling==2.*) (2.4.6)\n",
            "Requirement already satisfied: pyyaml in /usr/local/lib/python3.6/dist-packages (from confuse==1.0.0->pandas-profiling==2.*) (3.13)\n",
            "Requirement already satisfied: MarkupSafe>=0.23 in /usr/local/lib/python3.6/dist-packages (from jinja2==2.11.1->pandas-profiling==2.*) (1.1.1)\n",
            "Requirement already satisfied: networkx in /usr/local/lib/python3.6/dist-packages (from visions==0.2.2->pandas-profiling==2.*) (2.4)\n",
            "Collecting attr\n",
            "  Downloading https://files.pythonhosted.org/packages/de/be/ddc7f84d4e087144472a38a373d3e319f51a6faf6e5fc1ae897173675f21/attr-0.3.1.tar.gz\n",
            "Requirement already satisfied: seaborn in /usr/local/lib/python3.6/dist-packages (from missingno==0.4.2->pandas-profiling==2.*) (0.10.0)\n",
            "Collecting pytest>=4.0.2\n",
            "\u001b[?25l  Downloading https://files.pythonhosted.org/packages/c7/e2/c19c667f42f72716a7d03e8dd4d6f63f47d39feadd44cc1ee7ca3089862c/pytest-5.4.1-py3-none-any.whl (246kB)\n",
            "\u001b[K     |████████████████████████████████| 256kB 45.3MB/s \n",
            "\u001b[?25hRequirement already satisfied: nbconvert>=5.3.1 in /usr/local/lib/python3.6/dist-packages (from phik==0.9.9->pandas-profiling==2.*) (5.6.1)\n",
            "Requirement already satisfied: numba>=0.38.1 in /usr/local/lib/python3.6/dist-packages (from phik==0.9.9->pandas-profiling==2.*) (0.47.0)\n",
            "Collecting pytest-pylint>=0.13.0\n",
            "  Downloading https://files.pythonhosted.org/packages/31/ef/e848f832a596a8a40b32d8aa169788b4df167c2d6a5960c01e83a30ebaa7/pytest_pylint-0.15.1-py3-none-any.whl\n",
            "Requirement already satisfied: jupyter-client>=5.2.3 in /usr/local/lib/python3.6/dist-packages (from phik==0.9.9->pandas-profiling==2.*) (5.3.4)\n",
            "Requirement already satisfied: joblib>=0.14.1 in /usr/local/lib/python3.6/dist-packages (from phik==0.9.9->pandas-profiling==2.*) (0.14.1)\n",
            "Requirement already satisfied: six>=1.10 in /usr/local/lib/python3.6/dist-packages (from kaggle==1.5.6->pandas-profiling==2.*) (1.12.0)\n",
            "Requirement already satisfied: python-slugify in /usr/local/lib/python3.6/dist-packages (from kaggle==1.5.6->pandas-profiling==2.*) (4.0.0)\n",
            "Requirement already satisfied: urllib3<1.25,>=1.21.1 in /usr/local/lib/python3.6/dist-packages (from kaggle==1.5.6->pandas-profiling==2.*) (1.24.3)\n",
            "Requirement already satisfied: certifi in /usr/local/lib/python3.6/dist-packages (from kaggle==1.5.6->pandas-profiling==2.*) (2019.11.28)\n",
            "Requirement already satisfied: ipython>=4.0.0; python_version >= \"3.3\" in /usr/local/lib/python3.6/dist-packages (from ipywidgets==7.5.1->pandas-profiling==2.*) (5.5.0)\n",
            "Requirement already satisfied: ipykernel>=4.5.1 in /usr/local/lib/python3.6/dist-packages (from ipywidgets==7.5.1->pandas-profiling==2.*) (4.6.1)\n",
            "Requirement already satisfied: nbformat>=4.2.0 in /usr/local/lib/python3.6/dist-packages (from ipywidgets==7.5.1->pandas-profiling==2.*) (5.0.4)\n",
            "Requirement already satisfied: widgetsnbextension~=3.5.0 in /usr/local/lib/python3.6/dist-packages (from ipywidgets==7.5.1->pandas-profiling==2.*) (3.5.1)\n",
            "Requirement already satisfied: traitlets>=4.3.1 in /usr/local/lib/python3.6/dist-packages (from ipywidgets==7.5.1->pandas-profiling==2.*) (4.3.3)\n",
            "Requirement already satisfied: idna<2.9,>=2.5 in /usr/local/lib/python3.6/dist-packages (from requests==2.22.0->pandas-profiling==2.*) (2.8)\n",
            "Requirement already satisfied: chardet<3.1.0,>=3.0.2 in /usr/local/lib/python3.6/dist-packages (from requests==2.22.0->pandas-profiling==2.*) (3.0.4)\n",
            "Requirement already satisfied: setuptools in /usr/local/lib/python3.6/dist-packages (from kiwisolver>=1.0.1->matplotlib>=3.0.3->pandas-profiling==2.*) (46.0.0)\n",
            "Requirement already satisfied: decorator>=4.3.0 in /usr/local/lib/python3.6/dist-packages (from networkx->visions==0.2.2->pandas-profiling==2.*) (4.4.2)\n",
            "Requirement already satisfied: py>=1.5.0 in /usr/local/lib/python3.6/dist-packages (from pytest>=4.0.2->phik==0.9.9->pandas-profiling==2.*) (1.8.1)\n",
            "Requirement already satisfied: packaging in /usr/local/lib/python3.6/dist-packages (from pytest>=4.0.2->phik==0.9.9->pandas-profiling==2.*) (20.3)\n",
            "Requirement already satisfied: wcwidth in /usr/local/lib/python3.6/dist-packages (from pytest>=4.0.2->phik==0.9.9->pandas-profiling==2.*) (0.1.8)\n",
            "Requirement already satisfied: importlib-metadata>=0.12; python_version < \"3.8\" in /usr/local/lib/python3.6/dist-packages (from pytest>=4.0.2->phik==0.9.9->pandas-profiling==2.*) (1.5.0)\n",
            "Requirement already satisfied: more-itertools>=4.0.0 in /usr/local/lib/python3.6/dist-packages (from pytest>=4.0.2->phik==0.9.9->pandas-profiling==2.*) (8.2.0)\n",
            "Requirement already satisfied: attrs>=17.4.0 in /usr/local/lib/python3.6/dist-packages (from pytest>=4.0.2->phik==0.9.9->pandas-profiling==2.*) (19.3.0)\n",
            "Collecting pluggy<1.0,>=0.12\n",
            "  Downloading https://files.pythonhosted.org/packages/a0/28/85c7aa31b80d150b772fbe4a229487bc6644da9ccb7e427dd8cc60cb8a62/pluggy-0.13.1-py2.py3-none-any.whl\n",
            "Requirement already satisfied: bleach in /usr/local/lib/python3.6/dist-packages (from nbconvert>=5.3.1->phik==0.9.9->pandas-profiling==2.*) (3.1.3)\n",
            "Requirement already satisfied: testpath in /usr/local/lib/python3.6/dist-packages (from nbconvert>=5.3.1->phik==0.9.9->pandas-profiling==2.*) (0.4.4)\n",
            "Requirement already satisfied: jupyter-core in /usr/local/lib/python3.6/dist-packages (from nbconvert>=5.3.1->phik==0.9.9->pandas-profiling==2.*) (4.6.3)\n",
            "Requirement already satisfied: entrypoints>=0.2.2 in /usr/local/lib/python3.6/dist-packages (from nbconvert>=5.3.1->phik==0.9.9->pandas-profiling==2.*) (0.3)\n",
            "Requirement already satisfied: defusedxml in /usr/local/lib/python3.6/dist-packages (from nbconvert>=5.3.1->phik==0.9.9->pandas-profiling==2.*) (0.6.0)\n",
            "Requirement already satisfied: pandocfilters>=1.4.1 in /usr/local/lib/python3.6/dist-packages (from nbconvert>=5.3.1->phik==0.9.9->pandas-profiling==2.*) (1.4.2)\n",
            "Requirement already satisfied: pygments in /usr/local/lib/python3.6/dist-packages (from nbconvert>=5.3.1->phik==0.9.9->pandas-profiling==2.*) (2.1.3)\n",
            "Requirement already satisfied: mistune<2,>=0.8.1 in /usr/local/lib/python3.6/dist-packages (from nbconvert>=5.3.1->phik==0.9.9->pandas-profiling==2.*) (0.8.4)\n",
            "Requirement already satisfied: llvmlite>=0.31.0dev0 in /usr/local/lib/python3.6/dist-packages (from numba>=0.38.1->phik==0.9.9->pandas-profiling==2.*) (0.31.0)\n",
            "Collecting pylint>=2.0.0\n",
            "\u001b[?25l  Downloading https://files.pythonhosted.org/packages/e9/59/43fc36c5ee316bb9aeb7cf5329cdbdca89e5749c34d5602753827c0aa2dc/pylint-2.4.4-py3-none-any.whl (302kB)\n",
            "\u001b[K     |████████████████████████████████| 307kB 51.6MB/s \n",
            "\u001b[?25hRequirement already satisfied: tornado>=4.1 in /usr/local/lib/python3.6/dist-packages (from jupyter-client>=5.2.3->phik==0.9.9->pandas-profiling==2.*) (4.5.3)\n",
            "Requirement already satisfied: pyzmq>=13 in /usr/local/lib/python3.6/dist-packages (from jupyter-client>=5.2.3->phik==0.9.9->pandas-profiling==2.*) (17.0.0)\n",
            "Requirement already satisfied: text-unidecode>=1.3 in /usr/local/lib/python3.6/dist-packages (from python-slugify->kaggle==1.5.6->pandas-profiling==2.*) (1.3)\n",
            "Requirement already satisfied: pickleshare in /usr/local/lib/python3.6/dist-packages (from ipython>=4.0.0; python_version >= \"3.3\"->ipywidgets==7.5.1->pandas-profiling==2.*) (0.7.5)\n",
            "Requirement already satisfied: prompt-toolkit<2.0.0,>=1.0.4 in /usr/local/lib/python3.6/dist-packages (from ipython>=4.0.0; python_version >= \"3.3\"->ipywidgets==7.5.1->pandas-profiling==2.*) (1.0.18)\n",
            "Requirement already satisfied: simplegeneric>0.8 in /usr/local/lib/python3.6/dist-packages (from ipython>=4.0.0; python_version >= \"3.3\"->ipywidgets==7.5.1->pandas-profiling==2.*) (0.8.1)\n",
            "Requirement already satisfied: pexpect; sys_platform != \"win32\" in /usr/local/lib/python3.6/dist-packages (from ipython>=4.0.0; python_version >= \"3.3\"->ipywidgets==7.5.1->pandas-profiling==2.*) (4.8.0)\n",
            "Requirement already satisfied: jsonschema!=2.5.0,>=2.4 in /usr/local/lib/python3.6/dist-packages (from nbformat>=4.2.0->ipywidgets==7.5.1->pandas-profiling==2.*) (2.6.0)\n",
            "Requirement already satisfied: ipython-genutils in /usr/local/lib/python3.6/dist-packages (from nbformat>=4.2.0->ipywidgets==7.5.1->pandas-profiling==2.*) (0.2.0)\n",
            "Requirement already satisfied: notebook>=4.4.1 in /usr/local/lib/python3.6/dist-packages (from widgetsnbextension~=3.5.0->ipywidgets==7.5.1->pandas-profiling==2.*) (5.2.2)\n",
            "Requirement already satisfied: zipp>=0.5 in /usr/local/lib/python3.6/dist-packages (from importlib-metadata>=0.12; python_version < \"3.8\"->pytest>=4.0.2->phik==0.9.9->pandas-profiling==2.*) (3.1.0)\n",
            "Requirement already satisfied: webencodings in /usr/local/lib/python3.6/dist-packages (from bleach->nbconvert>=5.3.1->phik==0.9.9->pandas-profiling==2.*) (0.5.1)\n",
            "Collecting astroid<2.4,>=2.3.0\n",
            "\u001b[?25l  Downloading https://files.pythonhosted.org/packages/ad/ae/86734823047962e7b8c8529186a1ac4a7ca19aaf1aa0c7713c022ef593fd/astroid-2.3.3-py3-none-any.whl (205kB)\n",
            "\u001b[K     |████████████████████████████████| 215kB 49.2MB/s \n",
            "\u001b[?25hCollecting isort<5,>=4.2.5\n",
            "\u001b[?25l  Downloading https://files.pythonhosted.org/packages/e5/b0/c121fd1fa3419ea9bfd55c7f9c4fedfec5143208d8c7ad3ce3db6c623c21/isort-4.3.21-py2.py3-none-any.whl (42kB)\n",
            "\u001b[K     |████████████████████████████████| 51kB 8.4MB/s \n",
            "\u001b[?25hCollecting mccabe<0.7,>=0.6\n",
            "  Downloading https://files.pythonhosted.org/packages/87/89/479dc97e18549e21354893e4ee4ef36db1d237534982482c3681ee6e7b57/mccabe-0.6.1-py2.py3-none-any.whl\n",
            "Requirement already satisfied: ptyprocess>=0.5 in /usr/local/lib/python3.6/dist-packages (from pexpect; sys_platform != \"win32\"->ipython>=4.0.0; python_version >= \"3.3\"->ipywidgets==7.5.1->pandas-profiling==2.*) (0.6.0)\n",
            "Requirement already satisfied: terminado>=0.3.3; sys_platform != \"win32\" in /usr/local/lib/python3.6/dist-packages (from notebook>=4.4.1->widgetsnbextension~=3.5.0->ipywidgets==7.5.1->pandas-profiling==2.*) (0.8.3)\n",
            "Collecting wrapt==1.11.*\n",
            "  Downloading https://files.pythonhosted.org/packages/23/84/323c2415280bc4fc880ac5050dddfb3c8062c2552b34c2e512eb4aa68f79/wrapt-1.11.2.tar.gz\n",
            "Collecting typed-ast<1.5,>=1.4.0; implementation_name == \"cpython\" and python_version < \"3.8\"\n",
            "\u001b[?25l  Downloading https://files.pythonhosted.org/packages/90/ed/5459080d95eb87a02fe860d447197be63b6e2b5e9ff73c2b0a85622994f4/typed_ast-1.4.1-cp36-cp36m-manylinux1_x86_64.whl (737kB)\n",
            "\u001b[K     |████████████████████████████████| 747kB 51.9MB/s \n",
            "\u001b[?25hCollecting lazy-object-proxy==1.4.*\n",
            "\u001b[?25l  Downloading https://files.pythonhosted.org/packages/0b/dd/b1e3407e9e6913cf178e506cd0dee818e58694d9a5cd1984e3f6a8b9a10f/lazy_object_proxy-1.4.3-cp36-cp36m-manylinux1_x86_64.whl (55kB)\n",
            "\u001b[K     |████████████████████████████████| 61kB 9.5MB/s \n",
            "\u001b[?25hBuilding wheels for collected packages: pandas-profiling, confuse, visions, htmlmin, tangled-up-in-unicode, attr, wrapt\n",
            "  Building wheel for pandas-profiling (setup.py) ... \u001b[?25l\u001b[?25hdone\n",
            "  Created wheel for pandas-profiling: filename=pandas_profiling-2.5.0-py2.py3-none-any.whl size=241329 sha256=2ef5765f00d0bc69a452c4683c733462dca4e4d8bc5aca2e43ab74b1578264d9\n",
            "  Stored in directory: /root/.cache/pip/wheels/9b/c9/f1/4a2f30c760e017f3e2f46be999c4597a93d126ef5ea38e276f\n",
            "  Building wheel for confuse (setup.py) ... \u001b[?25l\u001b[?25hdone\n",
            "  Created wheel for confuse: filename=confuse-1.0.0-cp36-none-any.whl size=17487 sha256=b8cb2a174ee50992ff16df655223a0dccfa996a81b18b027e5ef08c02a64a9f0\n",
            "  Stored in directory: /root/.cache/pip/wheels/b0/b2/96/2074eee7dbf7b7df69d004c9b6ac4e32dad04fb7666cf943bd\n",
            "  Building wheel for visions (setup.py) ... \u001b[?25l\u001b[?25hdone\n",
            "  Created wheel for visions: filename=visions-0.2.2-cp36-none-any.whl size=53058 sha256=6aece862640f971f4ef63f23c1cc51ebe7edcd347a7cd3be546709dd20b16897\n",
            "  Stored in directory: /root/.cache/pip/wheels/53/87/68/294a9e88d82e395b38571df18f7cb71e9ab51cedae77dd6f31\n",
            "  Building wheel for htmlmin (setup.py) ... \u001b[?25l\u001b[?25hdone\n",
            "  Created wheel for htmlmin: filename=htmlmin-0.1.12-cp36-none-any.whl size=27084 sha256=df2ed5071cb1784870772d243198262682113a73916cbad12dd7b4c87ef206e7\n",
            "  Stored in directory: /root/.cache/pip/wheels/43/07/ac/7c5a9d708d65247ac1f94066cf1db075540b85716c30255459\n",
            "  Building wheel for tangled-up-in-unicode (setup.py) ... \u001b[?25l\u001b[?25hdone\n",
            "  Created wheel for tangled-up-in-unicode: filename=tangled_up_in_unicode-0.0.3-cp36-none-any.whl size=1554154 sha256=b6124c47f20eca830a6952ddcd559f2625086b6060d1645feb6b4c971e4b8537\n",
            "  Stored in directory: /root/.cache/pip/wheels/c4/57/cc/5f58206efb00418d4dcae8d08a3cb40627778ea29622f664c6\n",
            "  Building wheel for attr (setup.py) ... \u001b[?25l\u001b[?25hdone\n",
            "  Created wheel for attr: filename=attr-0.3.1-cp36-none-any.whl size=2459 sha256=3d204646f42c2217177fe8871f37a0ec6388c0377d1b9a043055b1e55248f2a5\n",
            "  Stored in directory: /root/.cache/pip/wheels/f0/96/9b/1f8892a707d17095b5a6eab0275da9d39e68e03a26aee2e726\n",
            "  Building wheel for wrapt (setup.py) ... \u001b[?25l\u001b[?25hdone\n",
            "  Created wheel for wrapt: filename=wrapt-1.11.2-cp36-cp36m-linux_x86_64.whl size=67530 sha256=21bac36e80d1d80904781c21d913710f8d99b5b67812d4843ee1ea7ff93c882e\n",
            "  Stored in directory: /root/.cache/pip/wheels/d7/de/2e/efa132238792efb6459a96e85916ef8597fcb3d2ae51590dfd\n",
            "Successfully built pandas-profiling confuse visions htmlmin tangled-up-in-unicode attr wrapt\n",
            "\u001b[31mERROR: tensorflow-federated 0.12.0 has requirement tensorflow~=2.1.0, but you'll have tensorflow 1.15.0 which is incompatible.\u001b[0m\n",
            "\u001b[31mERROR: tensorflow-federated 0.12.0 has requirement tensorflow-addons~=0.7.0, but you'll have tensorflow-addons 0.8.3 which is incompatible.\u001b[0m\n",
            "\u001b[31mERROR: google-colab 1.0.0 has requirement requests~=2.21.0, but you'll have requests 2.22.0 which is incompatible.\u001b[0m\n",
            "\u001b[31mERROR: datascience 0.10.6 has requirement folium==0.2.1, but you'll have folium 0.8.3 which is incompatible.\u001b[0m\n",
            "Installing collected packages: confuse, tangled-up-in-unicode, attr, visions, htmlmin, pluggy, pytest, wrapt, typed-ast, lazy-object-proxy, astroid, isort, mccabe, pylint, pytest-pylint, phik, tqdm, requests, pandas-profiling\n",
            "  Found existing installation: pluggy 0.7.1\n",
            "    Uninstalling pluggy-0.7.1:\n",
            "      Successfully uninstalled pluggy-0.7.1\n",
            "  Found existing installation: pytest 3.6.4\n",
            "    Uninstalling pytest-3.6.4:\n",
            "      Successfully uninstalled pytest-3.6.4\n",
            "  Found existing installation: wrapt 1.12.1\n",
            "    Uninstalling wrapt-1.12.1:\n",
            "      Successfully uninstalled wrapt-1.12.1\n",
            "  Found existing installation: tqdm 4.38.0\n",
            "    Uninstalling tqdm-4.38.0:\n",
            "      Successfully uninstalled tqdm-4.38.0\n",
            "  Found existing installation: requests 2.21.0\n",
            "    Uninstalling requests-2.21.0:\n",
            "      Successfully uninstalled requests-2.21.0\n",
            "  Found existing installation: pandas-profiling 1.4.1\n",
            "    Uninstalling pandas-profiling-1.4.1:\n",
            "      Successfully uninstalled pandas-profiling-1.4.1\n",
            "Successfully installed astroid-2.3.3 attr-0.3.1 confuse-1.0.0 htmlmin-0.1.12 isort-4.3.21 lazy-object-proxy-1.4.3 mccabe-0.6.1 pandas-profiling-2.5.0 phik-0.9.9 pluggy-0.13.1 pylint-2.4.4 pytest-5.4.1 pytest-pylint-0.15.1 requests-2.22.0 tangled-up-in-unicode-0.0.3 tqdm-4.42.0 typed-ast-1.4.1 visions-0.2.2 wrapt-1.11.2\n"
          ],
          "name": "stdout"
        },
        {
          "output_type": "display_data",
          "data": {
            "application/vnd.colab-display-data+json": {
              "pip_warning": {
                "packages": [
                  "requests",
                  "tqdm"
                ]
              }
            }
          },
          "metadata": {
            "tags": []
          }
        },
        {
          "output_type": "stream",
          "text": [
            "Requirement already satisfied: plotly==4.* in /usr/local/lib/python3.6/dist-packages (4.4.1)\n",
            "Requirement already satisfied: six in /usr/local/lib/python3.6/dist-packages (from plotly==4.*) (1.12.0)\n",
            "Requirement already satisfied: retrying>=1.3.3 in /usr/local/lib/python3.6/dist-packages (from plotly==4.*) (1.3.3)\n"
          ],
          "name": "stdout"
        }
      ]
    },
    {
      "cell_type": "markdown",
      "metadata": {
        "colab_type": "text",
        "id": "Q7u1KtsnOi78"
      },
      "source": [
        "# Part 1, Classification: Predict Blood Donations 🚑\n",
        "Our dataset is from a mobile blood donation vehicle in Taiwan. The Blood Transfusion Service Center drives to different universities and collects blood as part of a blood drive.\n",
        "\n",
        "The goal is to predict whether the donor made a donation in March 2007, using information about each donor's history.\n",
        "\n",
        "Good data-driven systems for tracking and predicting donations and supply needs can improve the entire supply chain, making sure that more patients get the blood transfusions they need."
      ]
    },
    {
      "cell_type": "code",
      "metadata": {
        "colab_type": "code",
        "id": "gJzpgv-fO4rh",
        "colab": {}
      },
      "source": [
        "import pandas as pd\n",
        "\n",
        "donors = pd.read_csv('https://archive.ics.uci.edu/ml/machine-learning-databases/blood-transfusion/transfusion.data')\n",
        "assert donors.shape == (748,5)\n",
        "\n",
        "donors = donors.rename(columns={\n",
        "    'Recency (months)': 'months_since_last_donation', \n",
        "    'Frequency (times)': 'number_of_donations', \n",
        "    'Monetary (c.c. blood)': 'total_volume_donated', \n",
        "    'Time (months)': 'months_since_first_donation', \n",
        "    'whether he/she donated blood in March 2007': 'made_donation_in_march_2007'\n",
        "})"
      ],
      "execution_count": 0,
      "outputs": []
    },
    {
      "cell_type": "markdown",
      "metadata": {
        "colab_type": "text",
        "id": "oU4oE0LJMG7X"
      },
      "source": [
        "Notice that the majority class (did not donate blood in March 2007) occurs about 3/4 of the time. \n",
        "\n",
        "This is the accuracy score for the \"majority class baseline\" (the accuracy score we'd get by just guessing the majority class every time)."
      ]
    },
    {
      "cell_type": "code",
      "metadata": {
        "colab_type": "code",
        "id": "TgRp5slvLzJs",
        "outputId": "bdc6b6ca-d44a-44ce-9739-20223b661beb",
        "colab": {
          "base_uri": "https://localhost:8080/",
          "height": 68
        }
      },
      "source": [
        "# Accuracy score for the \"majority class baseline\"\n",
        "donors['made_donation_in_march_2007'].value_counts(normalize=True)"
      ],
      "execution_count": 0,
      "outputs": [
        {
          "output_type": "execute_result",
          "data": {
            "text/plain": [
              "0    0.762032\n",
              "1    0.237968\n",
              "Name: made_donation_in_march_2007, dtype: float64"
            ]
          },
          "metadata": {
            "tags": []
          },
          "execution_count": 3
        }
      ]
    },
    {
      "cell_type": "markdown",
      "metadata": {
        "colab_type": "text",
        "id": "P66Fpcq1PYZl"
      },
      "source": [
        "## 1.1. Do train/test split. Arrange data into X features matrix and y target vector\n",
        "\n",
        "Do these steps in either order.\n",
        "\n",
        "Use scikit-learn's train/test split function to split randomly. (You can include 75% of the data in the train set, and hold out 25% for the test set, which is the default.)"
      ]
    },
    {
      "cell_type": "code",
      "metadata": {
        "colab_type": "code",
        "id": "InhicZeZPX8L",
        "outputId": "3542ebba-fd7e-4de1-a7bc-07fd09a4ab31",
        "colab": {
          "base_uri": "https://localhost:8080/",
          "height": 901
        }
      },
      "source": [
        "from sklearn.model_selection import train_test_split\n",
        "\n",
        "X = donors.drop(columns = 'made_donation_in_march_2007') # features matrix; drop target column\n",
        "y = donors.made_donation_in_march_2007                   # target array\n",
        "\n",
        "X_train, X_test, y_train, y_test = train_test_split(X, y, random_state = 43)\n",
        "\n",
        "#(You can include 75% of the data in the train set, and hold out 25% for the test set, which is the default.)\n",
        "train_test_split(X, y, random_state = 43, train_size = 0.75)"
      ],
      "execution_count": 0,
      "outputs": [
        {
          "output_type": "execute_result",
          "data": {
            "text/plain": [
              "[     months_since_last_donation  ...  months_since_first_donation\n",
              " 699                          21  ...                           21\n",
              " 202                           6  ...                           11\n",
              " 636                           4  ...                           58\n",
              " 549                           4  ...                           32\n",
              " 550                           4  ...                           16\n",
              " ..                          ...  ...                          ...\n",
              " 16                            2  ...                           48\n",
              " 58                            2  ...                           81\n",
              " 277                           4  ...                           34\n",
              " 255                           2  ...                           35\n",
              " 320                          15  ...                           82\n",
              " \n",
              " [561 rows x 4 columns],\n",
              "      months_since_last_donation  ...  months_since_first_donation\n",
              " 349                          11  ...                           11\n",
              " 210                           4  ...                            4\n",
              " 11                            0  ...                            4\n",
              " 567                           4  ...                           55\n",
              " 143                           4  ...                           16\n",
              " ..                          ...  ...                          ...\n",
              " 1                             0  ...                           28\n",
              " 409                          16  ...                           16\n",
              " 389                          14  ...                           73\n",
              " 121                           4  ...                           26\n",
              " 694                          14  ...                           14\n",
              " \n",
              " [187 rows x 4 columns],\n",
              " 699    0\n",
              " 202    1\n",
              " 636    0\n",
              " 549    1\n",
              " 550    0\n",
              "       ..\n",
              " 16     1\n",
              " 58     0\n",
              " 277    0\n",
              " 255    0\n",
              " 320    0\n",
              " Name: made_donation_in_march_2007, Length: 561, dtype: int64,\n",
              " 349    0\n",
              " 210    0\n",
              " 11     0\n",
              " 567    0\n",
              " 143    0\n",
              "       ..\n",
              " 1      1\n",
              " 409    0\n",
              " 389    0\n",
              " 121    1\n",
              " 694    0\n",
              " Name: made_donation_in_march_2007, Length: 187, dtype: int64]"
            ]
          },
          "metadata": {
            "tags": []
          },
          "execution_count": 4
        }
      ]
    },
    {
      "cell_type": "markdown",
      "metadata": {
        "id": "7P8r4-XXZIkn",
        "colab_type": "text"
      },
      "source": [
        "### 1.1a) Exploratory Data Analysis"
      ]
    },
    {
      "cell_type": "code",
      "metadata": {
        "colab_type": "code",
        "id": "a2jf_deRRl64",
        "outputId": "da5ff6a3-516f-4613-b4b0-3a5c3786e676",
        "colab": {
          "base_uri": "https://localhost:8080/",
          "height": 224
        }
      },
      "source": [
        "donors.head()"
      ],
      "execution_count": 0,
      "outputs": [
        {
          "output_type": "execute_result",
          "data": {
            "text/html": [
              "<div>\n",
              "<style scoped>\n",
              "    .dataframe tbody tr th:only-of-type {\n",
              "        vertical-align: middle;\n",
              "    }\n",
              "\n",
              "    .dataframe tbody tr th {\n",
              "        vertical-align: top;\n",
              "    }\n",
              "\n",
              "    .dataframe thead th {\n",
              "        text-align: right;\n",
              "    }\n",
              "</style>\n",
              "<table border=\"1\" class=\"dataframe\">\n",
              "  <thead>\n",
              "    <tr style=\"text-align: right;\">\n",
              "      <th></th>\n",
              "      <th>months_since_last_donation</th>\n",
              "      <th>number_of_donations</th>\n",
              "      <th>total_volume_donated</th>\n",
              "      <th>months_since_first_donation</th>\n",
              "      <th>made_donation_in_march_2007</th>\n",
              "    </tr>\n",
              "  </thead>\n",
              "  <tbody>\n",
              "    <tr>\n",
              "      <th>0</th>\n",
              "      <td>2</td>\n",
              "      <td>50</td>\n",
              "      <td>12500</td>\n",
              "      <td>98</td>\n",
              "      <td>1</td>\n",
              "    </tr>\n",
              "    <tr>\n",
              "      <th>1</th>\n",
              "      <td>0</td>\n",
              "      <td>13</td>\n",
              "      <td>3250</td>\n",
              "      <td>28</td>\n",
              "      <td>1</td>\n",
              "    </tr>\n",
              "    <tr>\n",
              "      <th>2</th>\n",
              "      <td>1</td>\n",
              "      <td>16</td>\n",
              "      <td>4000</td>\n",
              "      <td>35</td>\n",
              "      <td>1</td>\n",
              "    </tr>\n",
              "    <tr>\n",
              "      <th>3</th>\n",
              "      <td>2</td>\n",
              "      <td>20</td>\n",
              "      <td>5000</td>\n",
              "      <td>45</td>\n",
              "      <td>1</td>\n",
              "    </tr>\n",
              "    <tr>\n",
              "      <th>4</th>\n",
              "      <td>1</td>\n",
              "      <td>24</td>\n",
              "      <td>6000</td>\n",
              "      <td>77</td>\n",
              "      <td>0</td>\n",
              "    </tr>\n",
              "  </tbody>\n",
              "</table>\n",
              "</div>"
            ],
            "text/plain": [
              "   months_since_last_donation  ...  made_donation_in_march_2007\n",
              "0                           2  ...                            1\n",
              "1                           0  ...                            1\n",
              "2                           1  ...                            1\n",
              "3                           2  ...                            1\n",
              "4                           1  ...                            0\n",
              "\n",
              "[5 rows x 5 columns]"
            ]
          },
          "metadata": {
            "tags": []
          },
          "execution_count": 5
        }
      ]
    },
    {
      "cell_type": "code",
      "metadata": {
        "id": "r9YAucLwY32U",
        "colab_type": "code",
        "outputId": "3e794d78-6696-48f7-e941-0012cf6c5d41",
        "colab": {
          "base_uri": "https://localhost:8080/",
          "height": 317
        }
      },
      "source": [
        "donors.describe()"
      ],
      "execution_count": 0,
      "outputs": [
        {
          "output_type": "execute_result",
          "data": {
            "text/html": [
              "<div>\n",
              "<style scoped>\n",
              "    .dataframe tbody tr th:only-of-type {\n",
              "        vertical-align: middle;\n",
              "    }\n",
              "\n",
              "    .dataframe tbody tr th {\n",
              "        vertical-align: top;\n",
              "    }\n",
              "\n",
              "    .dataframe thead th {\n",
              "        text-align: right;\n",
              "    }\n",
              "</style>\n",
              "<table border=\"1\" class=\"dataframe\">\n",
              "  <thead>\n",
              "    <tr style=\"text-align: right;\">\n",
              "      <th></th>\n",
              "      <th>months_since_last_donation</th>\n",
              "      <th>number_of_donations</th>\n",
              "      <th>total_volume_donated</th>\n",
              "      <th>months_since_first_donation</th>\n",
              "      <th>made_donation_in_march_2007</th>\n",
              "    </tr>\n",
              "  </thead>\n",
              "  <tbody>\n",
              "    <tr>\n",
              "      <th>count</th>\n",
              "      <td>748.000000</td>\n",
              "      <td>748.000000</td>\n",
              "      <td>748.000000</td>\n",
              "      <td>748.000000</td>\n",
              "      <td>748.000000</td>\n",
              "    </tr>\n",
              "    <tr>\n",
              "      <th>mean</th>\n",
              "      <td>9.506684</td>\n",
              "      <td>5.514706</td>\n",
              "      <td>1378.676471</td>\n",
              "      <td>34.282086</td>\n",
              "      <td>0.237968</td>\n",
              "    </tr>\n",
              "    <tr>\n",
              "      <th>std</th>\n",
              "      <td>8.095396</td>\n",
              "      <td>5.839307</td>\n",
              "      <td>1459.826781</td>\n",
              "      <td>24.376714</td>\n",
              "      <td>0.426124</td>\n",
              "    </tr>\n",
              "    <tr>\n",
              "      <th>min</th>\n",
              "      <td>0.000000</td>\n",
              "      <td>1.000000</td>\n",
              "      <td>250.000000</td>\n",
              "      <td>2.000000</td>\n",
              "      <td>0.000000</td>\n",
              "    </tr>\n",
              "    <tr>\n",
              "      <th>25%</th>\n",
              "      <td>2.750000</td>\n",
              "      <td>2.000000</td>\n",
              "      <td>500.000000</td>\n",
              "      <td>16.000000</td>\n",
              "      <td>0.000000</td>\n",
              "    </tr>\n",
              "    <tr>\n",
              "      <th>50%</th>\n",
              "      <td>7.000000</td>\n",
              "      <td>4.000000</td>\n",
              "      <td>1000.000000</td>\n",
              "      <td>28.000000</td>\n",
              "      <td>0.000000</td>\n",
              "    </tr>\n",
              "    <tr>\n",
              "      <th>75%</th>\n",
              "      <td>14.000000</td>\n",
              "      <td>7.000000</td>\n",
              "      <td>1750.000000</td>\n",
              "      <td>50.000000</td>\n",
              "      <td>0.000000</td>\n",
              "    </tr>\n",
              "    <tr>\n",
              "      <th>max</th>\n",
              "      <td>74.000000</td>\n",
              "      <td>50.000000</td>\n",
              "      <td>12500.000000</td>\n",
              "      <td>98.000000</td>\n",
              "      <td>1.000000</td>\n",
              "    </tr>\n",
              "  </tbody>\n",
              "</table>\n",
              "</div>"
            ],
            "text/plain": [
              "       months_since_last_donation  ...  made_donation_in_march_2007\n",
              "count                  748.000000  ...                   748.000000\n",
              "mean                     9.506684  ...                     0.237968\n",
              "std                      8.095396  ...                     0.426124\n",
              "min                      0.000000  ...                     0.000000\n",
              "25%                      2.750000  ...                     0.000000\n",
              "50%                      7.000000  ...                     0.000000\n",
              "75%                     14.000000  ...                     0.000000\n",
              "max                     74.000000  ...                     1.000000\n",
              "\n",
              "[8 rows x 5 columns]"
            ]
          },
          "metadata": {
            "tags": []
          },
          "execution_count": 6
        }
      ]
    },
    {
      "cell_type": "markdown",
      "metadata": {
        "colab_type": "text",
        "id": "ln9fqAghRmQT"
      },
      "source": [
        "## 1.2. Use scikit-learn to fit a logistic regression model\n",
        "\n",
        "You may use any number of features"
      ]
    },
    {
      "cell_type": "code",
      "metadata": {
        "id": "3obM5dtEZZRh",
        "colab_type": "code",
        "outputId": "ec8419ec-c75a-4355-fd32-5de19777f080",
        "colab": {
          "base_uri": "https://localhost:8080/",
          "height": 343
        }
      },
      "source": [
        "!pip install --upgrade category_encoders\n",
        "import category_encoders as ce\n",
        "\n",
        "from sklearn.linear_model import LogisticRegressionCV\n",
        "from sklearn.preprocessing import  StandardScaler\n",
        "from sklearn.impute import SimpleImputer\n",
        "\n",
        "target = 'made_donation_in_march_2007'\n",
        "features = donors.columns.drop([target])  # can just be donors.columns? Since dropped in 1.1?\n",
        "\n",
        "# Set validation X and y values\n",
        "X_val = X_test\n",
        "y_val = y_test\n",
        "\n",
        "print(X_train.shape, X_val.shape)\n",
        "#-----------------------\n",
        "\n",
        "# One Hot Encode categorical data into numerical for model\n",
        "encoder = ce.OneHotEncoder(use_cat_names=True)\n",
        "\n",
        "X_train_encoded = encoder.fit_transform(X_train)\n",
        "X_val_encoded = encoder.transform(X_val)\n",
        "\n",
        "print(X_train_encoded.shape, X_val_encoded.shape)\n",
        "#-----------------------\n",
        "\n",
        "# Impute missing values using mean\n",
        "imputer = SimpleImputer(strategy = 'mean')\n",
        "X_train_imputed = imputer.fit_transform(X_train_encoded)\n",
        "X_val_imputed = imputer.transform(X_val_encoded)\n",
        "#-----------------------\n",
        "\n",
        "# Standardize units\n",
        "scaler = StandardScaler() # instantiate\n",
        "X_train_scaled = scaler.fit_transform(X_train_imputed)\n",
        "X_val_scaled = scaler.transform(X_val_imputed)\n",
        "#-----------------------\n",
        "\n",
        "# Fit model\n",
        "model = LogisticRegressionCV(cv = 5, n_jobs = -1, random_state = 42)\n",
        "model.fit(X_train_scaled, y_train)\n",
        "\n"
      ],
      "execution_count": 0,
      "outputs": [
        {
          "output_type": "stream",
          "text": [
            "Requirement already up-to-date: category_encoders in /usr/local/lib/python3.6/dist-packages (2.1.0)\n",
            "Requirement already satisfied, skipping upgrade: statsmodels>=0.6.1 in /usr/local/lib/python3.6/dist-packages (from category_encoders) (0.10.2)\n",
            "Requirement already satisfied, skipping upgrade: scipy>=0.19.0 in /usr/local/lib/python3.6/dist-packages (from category_encoders) (1.4.1)\n",
            "Requirement already satisfied, skipping upgrade: scikit-learn>=0.20.0 in /usr/local/lib/python3.6/dist-packages (from category_encoders) (0.22.2.post1)\n",
            "Requirement already satisfied, skipping upgrade: patsy>=0.4.1 in /usr/local/lib/python3.6/dist-packages (from category_encoders) (0.5.1)\n",
            "Requirement already satisfied, skipping upgrade: pandas>=0.21.1 in /usr/local/lib/python3.6/dist-packages (from category_encoders) (0.25.3)\n",
            "Requirement already satisfied, skipping upgrade: numpy>=1.11.3 in /usr/local/lib/python3.6/dist-packages (from category_encoders) (1.18.2)\n",
            "Requirement already satisfied, skipping upgrade: joblib>=0.11 in /usr/local/lib/python3.6/dist-packages (from scikit-learn>=0.20.0->category_encoders) (0.14.1)\n",
            "Requirement already satisfied, skipping upgrade: six in /usr/local/lib/python3.6/dist-packages (from patsy>=0.4.1->category_encoders) (1.12.0)\n",
            "Requirement already satisfied, skipping upgrade: python-dateutil>=2.6.1 in /usr/local/lib/python3.6/dist-packages (from pandas>=0.21.1->category_encoders) (2.8.1)\n",
            "Requirement already satisfied, skipping upgrade: pytz>=2017.2 in /usr/local/lib/python3.6/dist-packages (from pandas>=0.21.1->category_encoders) (2018.9)\n",
            "(561, 4) (187, 4)\n",
            "(561, 4) (187, 4)\n"
          ],
          "name": "stdout"
        },
        {
          "output_type": "execute_result",
          "data": {
            "text/plain": [
              "LogisticRegressionCV(Cs=10, class_weight=None, cv=5, dual=False,\n",
              "                     fit_intercept=True, intercept_scaling=1.0, l1_ratios=None,\n",
              "                     max_iter=100, multi_class='auto', n_jobs=-1, penalty='l2',\n",
              "                     random_state=42, refit=True, scoring=None, solver='lbfgs',\n",
              "                     tol=0.0001, verbose=0)"
            ]
          },
          "metadata": {
            "tags": []
          },
          "execution_count": 7
        }
      ]
    },
    {
      "cell_type": "markdown",
      "metadata": {
        "colab_type": "text",
        "id": "Ah6EhiRVSusy"
      },
      "source": [
        "## 1.3. Report classification metric: accuracy\n",
        "\n",
        "What is your model's accuracy on the test set?\n",
        "\n",
        "Don't worry if your model doesn't beat the majority class baseline. That's okay!\n",
        "\n",
        "_\"The combination of some data and an aching desire for an answer does not ensure that a reasonable answer can be extracted from a given body of data.\"_ —[John Tukey](https://en.wikiquote.org/wiki/John_Tukey)\n",
        "\n",
        "(Also, if we used recall score instead of accuracy score, then your model would almost certainly beat the baseline. We'll discuss how to choose and interpret evaluation metrics throughout this unit.)\n"
      ]
    },
    {
      "cell_type": "code",
      "metadata": {
        "colab_type": "code",
        "id": "ZfJ2NFsASt9_",
        "outputId": "1861c359-ae09-4627-ed2e-5f8db078f37d",
        "colab": {
          "base_uri": "https://localhost:8080/",
          "height": 34
        }
      },
      "source": [
        "print('Validation Accuracy: ', model.score(X_val_scaled, y_val))"
      ],
      "execution_count": 0,
      "outputs": [
        {
          "output_type": "stream",
          "text": [
            "Validation Accuracy:  0.8021390374331551\n"
          ],
          "name": "stdout"
        }
      ]
    },
    {
      "cell_type": "markdown",
      "metadata": {
        "colab_type": "text",
        "id": "xDmZn3ApOM7t"
      },
      "source": [
        "# Part 2, Regression: Predict home prices in Ames, Iowa 🏠\n",
        "\n",
        "You'll use historical housing data. ***There's a data dictionary at the bottom of the notebook.*** \n",
        "\n",
        "Run this code cell to load the dataset:\n",
        "\n",
        "\n",
        "\n"
      ]
    },
    {
      "cell_type": "code",
      "metadata": {
        "colab_type": "code",
        "id": "7ptoRG1lu7H4",
        "colab": {}
      },
      "source": [
        "import pandas as pd\n",
        "URL = 'https://drive.google.com/uc?export=download&id=1522WlEW6HFss36roD_Cd9nybqSuiVcCK'\n",
        "homes = pd.read_csv(URL)\n",
        "assert homes.shape == (2904, 47)"
      ],
      "execution_count": 0,
      "outputs": []
    },
    {
      "cell_type": "markdown",
      "metadata": {
        "colab_type": "text",
        "id": "CowG-cgZ5ZrB"
      },
      "source": [
        "## 2.1. Begin with baselines\n",
        "\n",
        "What is the Mean Absolute Error and R^2 score for a mean baseline? (You can get these estimated scores using all your data, before splitting it.)"
      ]
    },
    {
      "cell_type": "markdown",
      "metadata": {
        "id": "sRPhL4F0mldh",
        "colab_type": "text"
      },
      "source": [
        "### 2.1a) Exploratory Data Analysis"
      ]
    },
    {
      "cell_type": "code",
      "metadata": {
        "colab_type": "code",
        "id": "TbahVr-j5ZLs",
        "outputId": "46cb90a8-f935-40d3-b86a-2b9cb2f86b3a",
        "colab": {
          "base_uri": "https://localhost:8080/",
          "height": 317
        }
      },
      "source": [
        "homes.describe()"
      ],
      "execution_count": 0,
      "outputs": [
        {
          "output_type": "execute_result",
          "data": {
            "text/html": [
              "<div>\n",
              "<style scoped>\n",
              "    .dataframe tbody tr th:only-of-type {\n",
              "        vertical-align: middle;\n",
              "    }\n",
              "\n",
              "    .dataframe tbody tr th {\n",
              "        vertical-align: top;\n",
              "    }\n",
              "\n",
              "    .dataframe thead th {\n",
              "        text-align: right;\n",
              "    }\n",
              "</style>\n",
              "<table border=\"1\" class=\"dataframe\">\n",
              "  <thead>\n",
              "    <tr style=\"text-align: right;\">\n",
              "      <th></th>\n",
              "      <th>1st_Flr_SF</th>\n",
              "      <th>Bedroom_AbvGr</th>\n",
              "      <th>Bsmt_Full_Bath</th>\n",
              "      <th>Bsmt_Half_Bath</th>\n",
              "      <th>Full_Bath</th>\n",
              "      <th>Gr_Liv_Area</th>\n",
              "      <th>Half_Bath</th>\n",
              "      <th>Kitchen_AbvGr</th>\n",
              "      <th>Lot_Area</th>\n",
              "      <th>MS_SubClass</th>\n",
              "      <th>Mo_Sold</th>\n",
              "      <th>Overall_Cond</th>\n",
              "      <th>Overall_Qual</th>\n",
              "      <th>SalePrice</th>\n",
              "      <th>TotRms_AbvGrd</th>\n",
              "      <th>Year_Built</th>\n",
              "      <th>Year_Remod/Add</th>\n",
              "      <th>Yr_Sold</th>\n",
              "    </tr>\n",
              "  </thead>\n",
              "  <tbody>\n",
              "    <tr>\n",
              "      <th>count</th>\n",
              "      <td>2904.000000</td>\n",
              "      <td>2904.000000</td>\n",
              "      <td>2904.000000</td>\n",
              "      <td>2904.000000</td>\n",
              "      <td>2904.000000</td>\n",
              "      <td>2904.000000</td>\n",
              "      <td>2904.000000</td>\n",
              "      <td>2904.000000</td>\n",
              "      <td>2904.000000</td>\n",
              "      <td>2904.000000</td>\n",
              "      <td>2904.000000</td>\n",
              "      <td>2904.000000</td>\n",
              "      <td>2904.000000</td>\n",
              "      <td>2904.000000</td>\n",
              "      <td>2904.000000</td>\n",
              "      <td>2904.000000</td>\n",
              "      <td>2904.000000</td>\n",
              "      <td>2904.000000</td>\n",
              "    </tr>\n",
              "    <tr>\n",
              "      <th>mean</th>\n",
              "      <td>1158.257231</td>\n",
              "      <td>2.854339</td>\n",
              "      <td>0.431474</td>\n",
              "      <td>0.061639</td>\n",
              "      <td>1.562328</td>\n",
              "      <td>1497.853650</td>\n",
              "      <td>0.376722</td>\n",
              "      <td>1.044421</td>\n",
              "      <td>10130.199725</td>\n",
              "      <td>57.474174</td>\n",
              "      <td>6.206956</td>\n",
              "      <td>5.567149</td>\n",
              "      <td>6.086777</td>\n",
              "      <td>180383.689738</td>\n",
              "      <td>6.441804</td>\n",
              "      <td>1971.109504</td>\n",
              "      <td>1984.112259</td>\n",
              "      <td>2007.792011</td>\n",
              "    </tr>\n",
              "    <tr>\n",
              "      <th>std</th>\n",
              "      <td>388.351648</td>\n",
              "      <td>0.827820</td>\n",
              "      <td>0.525073</td>\n",
              "      <td>0.246202</td>\n",
              "      <td>0.551427</td>\n",
              "      <td>504.591527</td>\n",
              "      <td>0.501416</td>\n",
              "      <td>0.214260</td>\n",
              "      <td>7869.928702</td>\n",
              "      <td>42.724950</td>\n",
              "      <td>2.712204</td>\n",
              "      <td>1.113736</td>\n",
              "      <td>1.410083</td>\n",
              "      <td>79802.823684</td>\n",
              "      <td>1.573130</td>\n",
              "      <td>30.227141</td>\n",
              "      <td>20.857813</td>\n",
              "      <td>1.318719</td>\n",
              "    </tr>\n",
              "    <tr>\n",
              "      <th>min</th>\n",
              "      <td>334.000000</td>\n",
              "      <td>0.000000</td>\n",
              "      <td>0.000000</td>\n",
              "      <td>0.000000</td>\n",
              "      <td>0.000000</td>\n",
              "      <td>334.000000</td>\n",
              "      <td>0.000000</td>\n",
              "      <td>0.000000</td>\n",
              "      <td>1300.000000</td>\n",
              "      <td>20.000000</td>\n",
              "      <td>1.000000</td>\n",
              "      <td>1.000000</td>\n",
              "      <td>1.000000</td>\n",
              "      <td>12789.000000</td>\n",
              "      <td>2.000000</td>\n",
              "      <td>1872.000000</td>\n",
              "      <td>1950.000000</td>\n",
              "      <td>2006.000000</td>\n",
              "    </tr>\n",
              "    <tr>\n",
              "      <th>25%</th>\n",
              "      <td>876.750000</td>\n",
              "      <td>2.000000</td>\n",
              "      <td>0.000000</td>\n",
              "      <td>0.000000</td>\n",
              "      <td>1.000000</td>\n",
              "      <td>1124.000000</td>\n",
              "      <td>0.000000</td>\n",
              "      <td>1.000000</td>\n",
              "      <td>7424.750000</td>\n",
              "      <td>20.000000</td>\n",
              "      <td>4.000000</td>\n",
              "      <td>5.000000</td>\n",
              "      <td>5.000000</td>\n",
              "      <td>129150.000000</td>\n",
              "      <td>5.000000</td>\n",
              "      <td>1953.000000</td>\n",
              "      <td>1965.000000</td>\n",
              "      <td>2007.000000</td>\n",
              "    </tr>\n",
              "    <tr>\n",
              "      <th>50%</th>\n",
              "      <td>1083.500000</td>\n",
              "      <td>3.000000</td>\n",
              "      <td>0.000000</td>\n",
              "      <td>0.000000</td>\n",
              "      <td>2.000000</td>\n",
              "      <td>1440.500000</td>\n",
              "      <td>0.000000</td>\n",
              "      <td>1.000000</td>\n",
              "      <td>9429.000000</td>\n",
              "      <td>50.000000</td>\n",
              "      <td>6.000000</td>\n",
              "      <td>5.000000</td>\n",
              "      <td>6.000000</td>\n",
              "      <td>160000.000000</td>\n",
              "      <td>6.000000</td>\n",
              "      <td>1973.000000</td>\n",
              "      <td>1993.000000</td>\n",
              "      <td>2008.000000</td>\n",
              "    </tr>\n",
              "    <tr>\n",
              "      <th>75%</th>\n",
              "      <td>1383.000000</td>\n",
              "      <td>3.000000</td>\n",
              "      <td>1.000000</td>\n",
              "      <td>0.000000</td>\n",
              "      <td>2.000000</td>\n",
              "      <td>1740.500000</td>\n",
              "      <td>1.000000</td>\n",
              "      <td>1.000000</td>\n",
              "      <td>11516.250000</td>\n",
              "      <td>70.000000</td>\n",
              "      <td>8.000000</td>\n",
              "      <td>6.000000</td>\n",
              "      <td>7.000000</td>\n",
              "      <td>213000.000000</td>\n",
              "      <td>7.000000</td>\n",
              "      <td>2000.000000</td>\n",
              "      <td>2004.000000</td>\n",
              "      <td>2009.000000</td>\n",
              "    </tr>\n",
              "    <tr>\n",
              "      <th>max</th>\n",
              "      <td>5095.000000</td>\n",
              "      <td>8.000000</td>\n",
              "      <td>3.000000</td>\n",
              "      <td>2.000000</td>\n",
              "      <td>4.000000</td>\n",
              "      <td>5642.000000</td>\n",
              "      <td>2.000000</td>\n",
              "      <td>3.000000</td>\n",
              "      <td>215245.000000</td>\n",
              "      <td>190.000000</td>\n",
              "      <td>12.000000</td>\n",
              "      <td>9.000000</td>\n",
              "      <td>10.000000</td>\n",
              "      <td>755000.000000</td>\n",
              "      <td>15.000000</td>\n",
              "      <td>2010.000000</td>\n",
              "      <td>2010.000000</td>\n",
              "      <td>2010.000000</td>\n",
              "    </tr>\n",
              "  </tbody>\n",
              "</table>\n",
              "</div>"
            ],
            "text/plain": [
              "        1st_Flr_SF  Bedroom_AbvGr  ...  Year_Remod/Add      Yr_Sold\n",
              "count  2904.000000    2904.000000  ...     2904.000000  2904.000000\n",
              "mean   1158.257231       2.854339  ...     1984.112259  2007.792011\n",
              "std     388.351648       0.827820  ...       20.857813     1.318719\n",
              "min     334.000000       0.000000  ...     1950.000000  2006.000000\n",
              "25%     876.750000       2.000000  ...     1965.000000  2007.000000\n",
              "50%    1083.500000       3.000000  ...     1993.000000  2008.000000\n",
              "75%    1383.000000       3.000000  ...     2004.000000  2009.000000\n",
              "max    5095.000000       8.000000  ...     2010.000000  2010.000000\n",
              "\n",
              "[8 rows x 18 columns]"
            ]
          },
          "metadata": {
            "tags": []
          },
          "execution_count": 10
        }
      ]
    },
    {
      "cell_type": "code",
      "metadata": {
        "id": "fUiB6TGDm533",
        "colab_type": "code",
        "outputId": "fff918a2-d538-4133-8534-1bddfca22d43",
        "colab": {
          "base_uri": "https://localhost:8080/",
          "height": 224
        }
      },
      "source": [
        "homes.head()"
      ],
      "execution_count": 0,
      "outputs": [
        {
          "output_type": "execute_result",
          "data": {
            "text/html": [
              "<div>\n",
              "<style scoped>\n",
              "    .dataframe tbody tr th:only-of-type {\n",
              "        vertical-align: middle;\n",
              "    }\n",
              "\n",
              "    .dataframe tbody tr th {\n",
              "        vertical-align: top;\n",
              "    }\n",
              "\n",
              "    .dataframe thead th {\n",
              "        text-align: right;\n",
              "    }\n",
              "</style>\n",
              "<table border=\"1\" class=\"dataframe\">\n",
              "  <thead>\n",
              "    <tr style=\"text-align: right;\">\n",
              "      <th></th>\n",
              "      <th>1st_Flr_SF</th>\n",
              "      <th>Bedroom_AbvGr</th>\n",
              "      <th>Bldg_Type</th>\n",
              "      <th>Bsmt_Full_Bath</th>\n",
              "      <th>Bsmt_Half_Bath</th>\n",
              "      <th>Central_Air</th>\n",
              "      <th>Condition_1</th>\n",
              "      <th>Condition_2</th>\n",
              "      <th>Electrical</th>\n",
              "      <th>Exter_Cond</th>\n",
              "      <th>Exter_Qual</th>\n",
              "      <th>Exterior_1st</th>\n",
              "      <th>Exterior_2nd</th>\n",
              "      <th>Foundation</th>\n",
              "      <th>Full_Bath</th>\n",
              "      <th>Functional</th>\n",
              "      <th>Gr_Liv_Area</th>\n",
              "      <th>Half_Bath</th>\n",
              "      <th>Heating</th>\n",
              "      <th>Heating_QC</th>\n",
              "      <th>House_Style</th>\n",
              "      <th>Kitchen_AbvGr</th>\n",
              "      <th>Kitchen_Qual</th>\n",
              "      <th>Land_Contour</th>\n",
              "      <th>Land_Slope</th>\n",
              "      <th>Lot_Area</th>\n",
              "      <th>Lot_Config</th>\n",
              "      <th>Lot_Shape</th>\n",
              "      <th>MS_SubClass</th>\n",
              "      <th>MS_Zoning</th>\n",
              "      <th>Mas_Vnr_Type</th>\n",
              "      <th>Mo_Sold</th>\n",
              "      <th>Neighborhood</th>\n",
              "      <th>Overall_Cond</th>\n",
              "      <th>Overall_Qual</th>\n",
              "      <th>Paved_Drive</th>\n",
              "      <th>Roof_Matl</th>\n",
              "      <th>Roof_Style</th>\n",
              "      <th>SalePrice</th>\n",
              "      <th>Sale_Condition</th>\n",
              "      <th>Sale_Type</th>\n",
              "      <th>Street</th>\n",
              "      <th>TotRms_AbvGrd</th>\n",
              "      <th>Utilities</th>\n",
              "      <th>Year_Built</th>\n",
              "      <th>Year_Remod/Add</th>\n",
              "      <th>Yr_Sold</th>\n",
              "    </tr>\n",
              "  </thead>\n",
              "  <tbody>\n",
              "    <tr>\n",
              "      <th>0</th>\n",
              "      <td>1656</td>\n",
              "      <td>3</td>\n",
              "      <td>1Fam</td>\n",
              "      <td>1.0</td>\n",
              "      <td>0.0</td>\n",
              "      <td>Y</td>\n",
              "      <td>Norm</td>\n",
              "      <td>Norm</td>\n",
              "      <td>SBrkr</td>\n",
              "      <td>TA</td>\n",
              "      <td>TA</td>\n",
              "      <td>BrkFace</td>\n",
              "      <td>Plywood</td>\n",
              "      <td>CBlock</td>\n",
              "      <td>1</td>\n",
              "      <td>Typ</td>\n",
              "      <td>1656</td>\n",
              "      <td>0</td>\n",
              "      <td>GasA</td>\n",
              "      <td>Fa</td>\n",
              "      <td>1Story</td>\n",
              "      <td>1</td>\n",
              "      <td>TA</td>\n",
              "      <td>Lvl</td>\n",
              "      <td>Gtl</td>\n",
              "      <td>31770</td>\n",
              "      <td>Corner</td>\n",
              "      <td>IR1</td>\n",
              "      <td>20</td>\n",
              "      <td>RL</td>\n",
              "      <td>Stone</td>\n",
              "      <td>5</td>\n",
              "      <td>NAmes</td>\n",
              "      <td>5</td>\n",
              "      <td>6</td>\n",
              "      <td>P</td>\n",
              "      <td>CompShg</td>\n",
              "      <td>Hip</td>\n",
              "      <td>215000</td>\n",
              "      <td>Normal</td>\n",
              "      <td>WD</td>\n",
              "      <td>Pave</td>\n",
              "      <td>7</td>\n",
              "      <td>AllPub</td>\n",
              "      <td>1960</td>\n",
              "      <td>1960</td>\n",
              "      <td>2010</td>\n",
              "    </tr>\n",
              "    <tr>\n",
              "      <th>1</th>\n",
              "      <td>896</td>\n",
              "      <td>2</td>\n",
              "      <td>1Fam</td>\n",
              "      <td>0.0</td>\n",
              "      <td>0.0</td>\n",
              "      <td>Y</td>\n",
              "      <td>Feedr</td>\n",
              "      <td>Norm</td>\n",
              "      <td>SBrkr</td>\n",
              "      <td>TA</td>\n",
              "      <td>TA</td>\n",
              "      <td>VinylSd</td>\n",
              "      <td>VinylSd</td>\n",
              "      <td>CBlock</td>\n",
              "      <td>1</td>\n",
              "      <td>Typ</td>\n",
              "      <td>896</td>\n",
              "      <td>0</td>\n",
              "      <td>GasA</td>\n",
              "      <td>TA</td>\n",
              "      <td>1Story</td>\n",
              "      <td>1</td>\n",
              "      <td>TA</td>\n",
              "      <td>Lvl</td>\n",
              "      <td>Gtl</td>\n",
              "      <td>11622</td>\n",
              "      <td>Inside</td>\n",
              "      <td>Reg</td>\n",
              "      <td>20</td>\n",
              "      <td>RH</td>\n",
              "      <td>None</td>\n",
              "      <td>6</td>\n",
              "      <td>NAmes</td>\n",
              "      <td>6</td>\n",
              "      <td>5</td>\n",
              "      <td>Y</td>\n",
              "      <td>CompShg</td>\n",
              "      <td>Gable</td>\n",
              "      <td>105000</td>\n",
              "      <td>Normal</td>\n",
              "      <td>WD</td>\n",
              "      <td>Pave</td>\n",
              "      <td>5</td>\n",
              "      <td>AllPub</td>\n",
              "      <td>1961</td>\n",
              "      <td>1961</td>\n",
              "      <td>2010</td>\n",
              "    </tr>\n",
              "    <tr>\n",
              "      <th>2</th>\n",
              "      <td>1329</td>\n",
              "      <td>3</td>\n",
              "      <td>1Fam</td>\n",
              "      <td>0.0</td>\n",
              "      <td>0.0</td>\n",
              "      <td>Y</td>\n",
              "      <td>Norm</td>\n",
              "      <td>Norm</td>\n",
              "      <td>SBrkr</td>\n",
              "      <td>TA</td>\n",
              "      <td>TA</td>\n",
              "      <td>Wd Sdng</td>\n",
              "      <td>Wd Sdng</td>\n",
              "      <td>CBlock</td>\n",
              "      <td>1</td>\n",
              "      <td>Typ</td>\n",
              "      <td>1329</td>\n",
              "      <td>1</td>\n",
              "      <td>GasA</td>\n",
              "      <td>TA</td>\n",
              "      <td>1Story</td>\n",
              "      <td>1</td>\n",
              "      <td>Gd</td>\n",
              "      <td>Lvl</td>\n",
              "      <td>Gtl</td>\n",
              "      <td>14267</td>\n",
              "      <td>Corner</td>\n",
              "      <td>IR1</td>\n",
              "      <td>20</td>\n",
              "      <td>RL</td>\n",
              "      <td>BrkFace</td>\n",
              "      <td>6</td>\n",
              "      <td>NAmes</td>\n",
              "      <td>6</td>\n",
              "      <td>6</td>\n",
              "      <td>Y</td>\n",
              "      <td>CompShg</td>\n",
              "      <td>Hip</td>\n",
              "      <td>172000</td>\n",
              "      <td>Normal</td>\n",
              "      <td>WD</td>\n",
              "      <td>Pave</td>\n",
              "      <td>6</td>\n",
              "      <td>AllPub</td>\n",
              "      <td>1958</td>\n",
              "      <td>1958</td>\n",
              "      <td>2010</td>\n",
              "    </tr>\n",
              "    <tr>\n",
              "      <th>3</th>\n",
              "      <td>2110</td>\n",
              "      <td>3</td>\n",
              "      <td>1Fam</td>\n",
              "      <td>1.0</td>\n",
              "      <td>0.0</td>\n",
              "      <td>Y</td>\n",
              "      <td>Norm</td>\n",
              "      <td>Norm</td>\n",
              "      <td>SBrkr</td>\n",
              "      <td>TA</td>\n",
              "      <td>Gd</td>\n",
              "      <td>BrkFace</td>\n",
              "      <td>BrkFace</td>\n",
              "      <td>CBlock</td>\n",
              "      <td>2</td>\n",
              "      <td>Typ</td>\n",
              "      <td>2110</td>\n",
              "      <td>1</td>\n",
              "      <td>GasA</td>\n",
              "      <td>Ex</td>\n",
              "      <td>1Story</td>\n",
              "      <td>1</td>\n",
              "      <td>Ex</td>\n",
              "      <td>Lvl</td>\n",
              "      <td>Gtl</td>\n",
              "      <td>11160</td>\n",
              "      <td>Corner</td>\n",
              "      <td>Reg</td>\n",
              "      <td>20</td>\n",
              "      <td>RL</td>\n",
              "      <td>None</td>\n",
              "      <td>4</td>\n",
              "      <td>NAmes</td>\n",
              "      <td>5</td>\n",
              "      <td>7</td>\n",
              "      <td>Y</td>\n",
              "      <td>CompShg</td>\n",
              "      <td>Hip</td>\n",
              "      <td>244000</td>\n",
              "      <td>Normal</td>\n",
              "      <td>WD</td>\n",
              "      <td>Pave</td>\n",
              "      <td>8</td>\n",
              "      <td>AllPub</td>\n",
              "      <td>1968</td>\n",
              "      <td>1968</td>\n",
              "      <td>2010</td>\n",
              "    </tr>\n",
              "    <tr>\n",
              "      <th>4</th>\n",
              "      <td>928</td>\n",
              "      <td>3</td>\n",
              "      <td>1Fam</td>\n",
              "      <td>0.0</td>\n",
              "      <td>0.0</td>\n",
              "      <td>Y</td>\n",
              "      <td>Norm</td>\n",
              "      <td>Norm</td>\n",
              "      <td>SBrkr</td>\n",
              "      <td>TA</td>\n",
              "      <td>TA</td>\n",
              "      <td>VinylSd</td>\n",
              "      <td>VinylSd</td>\n",
              "      <td>PConc</td>\n",
              "      <td>2</td>\n",
              "      <td>Typ</td>\n",
              "      <td>1629</td>\n",
              "      <td>1</td>\n",
              "      <td>GasA</td>\n",
              "      <td>Gd</td>\n",
              "      <td>2Story</td>\n",
              "      <td>1</td>\n",
              "      <td>TA</td>\n",
              "      <td>Lvl</td>\n",
              "      <td>Gtl</td>\n",
              "      <td>13830</td>\n",
              "      <td>Inside</td>\n",
              "      <td>IR1</td>\n",
              "      <td>60</td>\n",
              "      <td>RL</td>\n",
              "      <td>None</td>\n",
              "      <td>3</td>\n",
              "      <td>Gilbert</td>\n",
              "      <td>5</td>\n",
              "      <td>5</td>\n",
              "      <td>Y</td>\n",
              "      <td>CompShg</td>\n",
              "      <td>Gable</td>\n",
              "      <td>189900</td>\n",
              "      <td>Normal</td>\n",
              "      <td>WD</td>\n",
              "      <td>Pave</td>\n",
              "      <td>6</td>\n",
              "      <td>AllPub</td>\n",
              "      <td>1997</td>\n",
              "      <td>1998</td>\n",
              "      <td>2010</td>\n",
              "    </tr>\n",
              "  </tbody>\n",
              "</table>\n",
              "</div>"
            ],
            "text/plain": [
              "   1st_Flr_SF  Bedroom_AbvGr Bldg_Type  ...  Year_Built  Year_Remod/Add Yr_Sold\n",
              "0        1656              3      1Fam  ...        1960            1960    2010\n",
              "1         896              2      1Fam  ...        1961            1961    2010\n",
              "2        1329              3      1Fam  ...        1958            1958    2010\n",
              "3        2110              3      1Fam  ...        1968            1968    2010\n",
              "4         928              3      1Fam  ...        1997            1998    2010\n",
              "\n",
              "[5 rows x 47 columns]"
            ]
          },
          "metadata": {
            "tags": []
          },
          "execution_count": 11
        }
      ]
    },
    {
      "cell_type": "markdown",
      "metadata": {
        "id": "iq2_gQ7QnN2h",
        "colab_type": "text"
      },
      "source": [
        "### 2.1b) Common Regression baseline model: guessing the mean for every sample\n"
      ]
    },
    {
      "cell_type": "code",
      "metadata": {
        "id": "0wQCXjgvnUjB",
        "colab_type": "code",
        "outputId": "f6690195-1cb8-4d2d-a7a4-612e895328be",
        "colab": {
          "base_uri": "https://localhost:8080/",
          "height": 221
        }
      },
      "source": [
        "guess = homes['SalePrice'].mean()\n",
        "errors = guess - homes['SalePrice']\n",
        "errors"
      ],
      "execution_count": 0,
      "outputs": [
        {
          "output_type": "execute_result",
          "data": {
            "text/plain": [
              "0      -34616.310262\n",
              "1       75383.689738\n",
              "2        8383.689738\n",
              "3      -63616.310262\n",
              "4       -9516.310262\n",
              "            ...     \n",
              "2899    37883.689738\n",
              "2900    49383.689738\n",
              "2901    48383.689738\n",
              "2902    10383.689738\n",
              "2903    -7616.310262\n",
              "Name: SalePrice, Length: 2904, dtype: float64"
            ]
          },
          "metadata": {
            "tags": []
          },
          "execution_count": 12
        }
      ]
    },
    {
      "cell_type": "code",
      "metadata": {
        "id": "KghQ3PGrnqtZ",
        "colab_type": "code",
        "outputId": "6a436f2e-8821-487b-d47d-d0b44aec42b9",
        "colab": {
          "base_uri": "https://localhost:8080/",
          "height": 34
        }
      },
      "source": [
        "from sklearn.metrics import mean_absolute_error, r2_score\n",
        "\n",
        "# MAE\n",
        "mean_absolute_error = errors.abs().mean()\n",
        "mean_absolute_error"
      ],
      "execution_count": 0,
      "outputs": [
        {
          "output_type": "execute_result",
          "data": {
            "text/plain": [
              "58149.927741208136"
            ]
          },
          "metadata": {
            "tags": []
          },
          "execution_count": 13
        }
      ]
    },
    {
      "cell_type": "code",
      "metadata": {
        "id": "bvi6KAT2n3Rd",
        "colab_type": "code",
        "outputId": "33099cbf-11af-4c03-efe9-25bba3e1d5cd",
        "colab": {
          "base_uri": "https://localhost:8080/",
          "height": 34
        }
      },
      "source": [
        "# R^2 Score\n",
        "r2_score(homes['SalePrice'], errors)"
      ],
      "execution_count": 0,
      "outputs": [
        {
          "output_type": "execute_result",
          "data": {
            "text/plain": [
              "-8.111020133508356"
            ]
          },
          "metadata": {
            "tags": []
          },
          "execution_count": 14
        }
      ]
    },
    {
      "cell_type": "markdown",
      "metadata": {
        "colab_type": "text",
        "id": "yqeiq1wvyrTq"
      },
      "source": [
        "## 2.2. Do train/validate/test split\n",
        "\n",
        "Train on houses sold in the years 2006 - 2008. (1,920 rows)\n",
        "\n",
        "Validate on house sold in 2009. (644 rows)\n",
        "\n",
        "Test on houses sold in 2010. (340 rows)"
      ]
    },
    {
      "cell_type": "markdown",
      "metadata": {
        "id": "MbMG8-3hpAuc",
        "colab_type": "text"
      },
      "source": [
        "### 2.2a) Split Train dataset"
      ]
    },
    {
      "cell_type": "code",
      "metadata": {
        "colab_type": "code",
        "id": "WKFjWLI3w0P_",
        "outputId": "9d5085eb-0437-4448-e811-a7304d1cf667",
        "colab": {
          "base_uri": "https://localhost:8080/",
          "height": 131
        }
      },
      "source": [
        "# TRAIN on houses sold in the years 2006 - 2008. (1,920 rows)\n",
        "# Locate data between those dates, inclusive\n",
        "homes.loc['2006-01-01' : '2008-31-12']"
      ],
      "execution_count": 0,
      "outputs": [
        {
          "output_type": "execute_result",
          "data": {
            "text/html": [
              "<div>\n",
              "<style scoped>\n",
              "    .dataframe tbody tr th:only-of-type {\n",
              "        vertical-align: middle;\n",
              "    }\n",
              "\n",
              "    .dataframe tbody tr th {\n",
              "        vertical-align: top;\n",
              "    }\n",
              "\n",
              "    .dataframe thead th {\n",
              "        text-align: right;\n",
              "    }\n",
              "</style>\n",
              "<table border=\"1\" class=\"dataframe\">\n",
              "  <thead>\n",
              "    <tr style=\"text-align: right;\">\n",
              "      <th></th>\n",
              "      <th>1st_Flr_SF</th>\n",
              "      <th>Bedroom_AbvGr</th>\n",
              "      <th>Bldg_Type</th>\n",
              "      <th>Bsmt_Full_Bath</th>\n",
              "      <th>Bsmt_Half_Bath</th>\n",
              "      <th>Central_Air</th>\n",
              "      <th>Condition_1</th>\n",
              "      <th>Condition_2</th>\n",
              "      <th>Electrical</th>\n",
              "      <th>Exter_Cond</th>\n",
              "      <th>Exter_Qual</th>\n",
              "      <th>Exterior_1st</th>\n",
              "      <th>Exterior_2nd</th>\n",
              "      <th>Foundation</th>\n",
              "      <th>Full_Bath</th>\n",
              "      <th>Functional</th>\n",
              "      <th>Gr_Liv_Area</th>\n",
              "      <th>Half_Bath</th>\n",
              "      <th>Heating</th>\n",
              "      <th>Heating_QC</th>\n",
              "      <th>House_Style</th>\n",
              "      <th>Kitchen_AbvGr</th>\n",
              "      <th>Kitchen_Qual</th>\n",
              "      <th>Land_Contour</th>\n",
              "      <th>Land_Slope</th>\n",
              "      <th>Lot_Area</th>\n",
              "      <th>Lot_Config</th>\n",
              "      <th>Lot_Shape</th>\n",
              "      <th>MS_SubClass</th>\n",
              "      <th>MS_Zoning</th>\n",
              "      <th>Mas_Vnr_Type</th>\n",
              "      <th>Mo_Sold</th>\n",
              "      <th>Neighborhood</th>\n",
              "      <th>Overall_Cond</th>\n",
              "      <th>Overall_Qual</th>\n",
              "      <th>Paved_Drive</th>\n",
              "      <th>Roof_Matl</th>\n",
              "      <th>Roof_Style</th>\n",
              "      <th>SalePrice</th>\n",
              "      <th>Sale_Condition</th>\n",
              "      <th>Sale_Type</th>\n",
              "      <th>Street</th>\n",
              "      <th>TotRms_AbvGrd</th>\n",
              "      <th>Utilities</th>\n",
              "      <th>Year_Built</th>\n",
              "      <th>Year_Remod/Add</th>\n",
              "      <th>Yr_Sold</th>\n",
              "    </tr>\n",
              "  </thead>\n",
              "  <tbody>\n",
              "    <tr>\n",
              "      <th>2007</th>\n",
              "      <td>1664</td>\n",
              "      <td>5</td>\n",
              "      <td>1Fam</td>\n",
              "      <td>0.0</td>\n",
              "      <td>0.0</td>\n",
              "      <td>N</td>\n",
              "      <td>Artery</td>\n",
              "      <td>Norm</td>\n",
              "      <td>SBrkr</td>\n",
              "      <td>Gd</td>\n",
              "      <td>TA</td>\n",
              "      <td>Stucco</td>\n",
              "      <td>Stucco</td>\n",
              "      <td>BrkTil</td>\n",
              "      <td>2</td>\n",
              "      <td>Typ</td>\n",
              "      <td>2526</td>\n",
              "      <td>0</td>\n",
              "      <td>GasW</td>\n",
              "      <td>TA</td>\n",
              "      <td>1.5Fin</td>\n",
              "      <td>1</td>\n",
              "      <td>Gd</td>\n",
              "      <td>Lvl</td>\n",
              "      <td>Gtl</td>\n",
              "      <td>8520</td>\n",
              "      <td>Inside</td>\n",
              "      <td>Reg</td>\n",
              "      <td>50</td>\n",
              "      <td>RM</td>\n",
              "      <td>None</td>\n",
              "      <td>8</td>\n",
              "      <td>OldTown</td>\n",
              "      <td>7</td>\n",
              "      <td>6</td>\n",
              "      <td>Y</td>\n",
              "      <td>CompShg</td>\n",
              "      <td>Gable</td>\n",
              "      <td>136000</td>\n",
              "      <td>Family</td>\n",
              "      <td>CWD</td>\n",
              "      <td>Pave</td>\n",
              "      <td>10</td>\n",
              "      <td>AllPub</td>\n",
              "      <td>1916</td>\n",
              "      <td>1950</td>\n",
              "      <td>2007</td>\n",
              "    </tr>\n",
              "    <tr>\n",
              "      <th>2008</th>\n",
              "      <td>933</td>\n",
              "      <td>3</td>\n",
              "      <td>1Fam</td>\n",
              "      <td>0.0</td>\n",
              "      <td>0.0</td>\n",
              "      <td>N</td>\n",
              "      <td>Norm</td>\n",
              "      <td>Norm</td>\n",
              "      <td>FuseA</td>\n",
              "      <td>TA</td>\n",
              "      <td>TA</td>\n",
              "      <td>AsbShng</td>\n",
              "      <td>AsbShng</td>\n",
              "      <td>CBlock</td>\n",
              "      <td>2</td>\n",
              "      <td>Typ</td>\n",
              "      <td>1173</td>\n",
              "      <td>0</td>\n",
              "      <td>GasA</td>\n",
              "      <td>TA</td>\n",
              "      <td>1.5Fin</td>\n",
              "      <td>1</td>\n",
              "      <td>TA</td>\n",
              "      <td>Lvl</td>\n",
              "      <td>Gtl</td>\n",
              "      <td>5680</td>\n",
              "      <td>Inside</td>\n",
              "      <td>Reg</td>\n",
              "      <td>45</td>\n",
              "      <td>RM</td>\n",
              "      <td>None</td>\n",
              "      <td>9</td>\n",
              "      <td>OldTown</td>\n",
              "      <td>4</td>\n",
              "      <td>5</td>\n",
              "      <td>Y</td>\n",
              "      <td>CompShg</td>\n",
              "      <td>Gable</td>\n",
              "      <td>113000</td>\n",
              "      <td>AdjLand</td>\n",
              "      <td>WD</td>\n",
              "      <td>Pave</td>\n",
              "      <td>7</td>\n",
              "      <td>AllPub</td>\n",
              "      <td>1901</td>\n",
              "      <td>1950</td>\n",
              "      <td>2007</td>\n",
              "    </tr>\n",
              "  </tbody>\n",
              "</table>\n",
              "</div>"
            ],
            "text/plain": [
              "      1st_Flr_SF  Bedroom_AbvGr Bldg_Type  ...  Year_Built  Year_Remod/Add Yr_Sold\n",
              "2007        1664              5      1Fam  ...        1916            1950    2007\n",
              "2008         933              3      1Fam  ...        1901            1950    2007\n",
              "\n",
              "[2 rows x 47 columns]"
            ]
          },
          "metadata": {
            "tags": []
          },
          "execution_count": 15
        }
      ]
    },
    {
      "cell_type": "code",
      "metadata": {
        "id": "dRvdAcDyotC0",
        "colab_type": "code",
        "outputId": "c101ee2a-6a15-4579-8189-95ba51bbdcbd",
        "colab": {
          "base_uri": "https://localhost:8080/",
          "height": 34
        }
      },
      "source": [
        "# Filter train data\n",
        "train = homes[homes['Yr_Sold'].isin([2006, 2007, 2008])]\n",
        "train\n",
        "train.shape"
      ],
      "execution_count": 0,
      "outputs": [
        {
          "output_type": "execute_result",
          "data": {
            "text/plain": [
              "(1920, 47)"
            ]
          },
          "metadata": {
            "tags": []
          },
          "execution_count": 16
        }
      ]
    },
    {
      "cell_type": "markdown",
      "metadata": {
        "id": "KscyJuESpsln",
        "colab_type": "text"
      },
      "source": [
        "### 2.2b) Split Validate dataset"
      ]
    },
    {
      "cell_type": "code",
      "metadata": {
        "id": "_DgtwYqHp3jr",
        "colab_type": "code",
        "outputId": "cdf37ba6-1756-4953-ac91-dde51ab940fe",
        "colab": {
          "base_uri": "https://localhost:8080/",
          "height": 34
        }
      },
      "source": [
        "#VALIDATE on house sold in 2009. (644 rows)\n",
        "#Filter test data\n",
        "val = homes[homes['Yr_Sold'] == 2009]\n",
        "val\n",
        "val.shape"
      ],
      "execution_count": 0,
      "outputs": [
        {
          "output_type": "execute_result",
          "data": {
            "text/plain": [
              "(644, 47)"
            ]
          },
          "metadata": {
            "tags": []
          },
          "execution_count": 17
        }
      ]
    },
    {
      "cell_type": "markdown",
      "metadata": {
        "id": "i71GL8G6qIgJ",
        "colab_type": "text"
      },
      "source": [
        "### 2.2c) Split Test dataset"
      ]
    },
    {
      "cell_type": "code",
      "metadata": {
        "id": "r8N6fmfZqPRX",
        "colab_type": "code",
        "outputId": "eb4265e2-2300-4a27-e368-06e00d6addb4",
        "colab": {
          "base_uri": "https://localhost:8080/",
          "height": 34
        }
      },
      "source": [
        "#TEST on houses sold in 2010. (340 rows)\n",
        "#Filter and set aside test data\n",
        "test = homes[homes['Yr_Sold'] == 2010]\n",
        "test \n",
        "test.shape"
      ],
      "execution_count": 0,
      "outputs": [
        {
          "output_type": "execute_result",
          "data": {
            "text/plain": [
              "(340, 47)"
            ]
          },
          "metadata": {
            "tags": []
          },
          "execution_count": 18
        }
      ]
    },
    {
      "cell_type": "markdown",
      "metadata": {
        "colab_type": "text",
        "id": "hk1bYDJy6txq"
      },
      "source": [
        "## 2.3. Arrange data into X features matrix and y target vector\n",
        "\n",
        "Select at least one numeric feature and at least one categorical feature.\n",
        "\n",
        "Otherwise, you may choose whichever features and however many you want."
      ]
    },
    {
      "cell_type": "code",
      "metadata": {
        "colab_type": "code",
        "id": "JQf9iwzf_uWh",
        "outputId": "95619f7a-a1ae-42c5-b67a-adf8c524a7e7",
        "colab": {
          "base_uri": "https://localhost:8080/",
          "height": 34
        }
      },
      "source": [
        "#y target vector\n",
        "target = 'SalePrice'\n",
        "\n",
        "print(f'Our y target vector is the home\\'s {target}.')"
      ],
      "execution_count": 0,
      "outputs": [
        {
          "output_type": "stream",
          "text": [
            "Our y target vector is the home's SalePrice.\n"
          ],
          "name": "stdout"
        }
      ]
    },
    {
      "cell_type": "code",
      "metadata": {
        "id": "9K3UAp6KrC79",
        "colab_type": "code",
        "outputId": "25b73e98-fe44-4201-b55b-c9f0e313b751",
        "colab": {
          "base_uri": "https://localhost:8080/",
          "height": 833
        }
      },
      "source": [
        "# Explore datatypes in homes dataframe\n",
        "homes.dtypes"
      ],
      "execution_count": 0,
      "outputs": [
        {
          "output_type": "execute_result",
          "data": {
            "text/plain": [
              "1st_Flr_SF          int64\n",
              "Bedroom_AbvGr       int64\n",
              "Bldg_Type          object\n",
              "Bsmt_Full_Bath    float64\n",
              "Bsmt_Half_Bath    float64\n",
              "Central_Air        object\n",
              "Condition_1        object\n",
              "Condition_2        object\n",
              "Electrical         object\n",
              "Exter_Cond         object\n",
              "Exter_Qual         object\n",
              "Exterior_1st       object\n",
              "Exterior_2nd       object\n",
              "Foundation         object\n",
              "Full_Bath           int64\n",
              "Functional         object\n",
              "Gr_Liv_Area         int64\n",
              "Half_Bath           int64\n",
              "Heating            object\n",
              "Heating_QC         object\n",
              "House_Style        object\n",
              "Kitchen_AbvGr       int64\n",
              "Kitchen_Qual       object\n",
              "Land_Contour       object\n",
              "Land_Slope         object\n",
              "Lot_Area            int64\n",
              "Lot_Config         object\n",
              "Lot_Shape          object\n",
              "MS_SubClass         int64\n",
              "MS_Zoning          object\n",
              "Mas_Vnr_Type       object\n",
              "Mo_Sold             int64\n",
              "Neighborhood       object\n",
              "Overall_Cond        int64\n",
              "Overall_Qual        int64\n",
              "Paved_Drive        object\n",
              "Roof_Matl          object\n",
              "Roof_Style         object\n",
              "SalePrice           int64\n",
              "Sale_Condition     object\n",
              "Sale_Type          object\n",
              "Street             object\n",
              "TotRms_AbvGrd       int64\n",
              "Utilities          object\n",
              "Year_Built          int64\n",
              "Year_Remod/Add      int64\n",
              "Yr_Sold             int64\n",
              "dtype: object"
            ]
          },
          "metadata": {
            "tags": []
          },
          "execution_count": 20
        }
      ]
    },
    {
      "cell_type": "code",
      "metadata": {
        "id": "ffmZri5TrP-G",
        "colab_type": "code",
        "outputId": "6d599633-bf18-473e-b18c-75a9a1d27bd1",
        "colab": {
          "base_uri": "https://localhost:8080/",
          "height": 54
        }
      },
      "source": [
        "# Set X features matrix; select features columns to predict SalePrice with\n",
        "features = ['Bldg_Type', 'Overall_Cond']\n",
        "\n",
        "print(f' Our X features matrix consists of {len(features)} categorical and numerical features, aka columns, respectively:  {features}.')"
      ],
      "execution_count": 0,
      "outputs": [
        {
          "output_type": "stream",
          "text": [
            " Our X features matrix consists of 2 categorical and numerical features, aka columns, respectively:  ['Bldg_Type', 'Overall_Cond'].\n"
          ],
          "name": "stdout"
        }
      ]
    },
    {
      "cell_type": "code",
      "metadata": {
        "id": "znBGfgUCsTY0",
        "colab_type": "code",
        "outputId": "637f5642-4930-4938-d569-59af22671245",
        "colab": {
          "base_uri": "https://localhost:8080/",
          "height": 34
        }
      },
      "source": [
        "# Set Xs and ys; split into train/validate/test datasets\n",
        "X_train = train [features]\n",
        "y_test = train[target]\n",
        "\n",
        "X_test = test[features]\n",
        "y_test = test[target]\n",
        "\n",
        "X_val = val[features]\n",
        "y_val = val[target]\n",
        "\n",
        "print(f'X_train is {X_train.shape}')"
      ],
      "execution_count": 0,
      "outputs": [
        {
          "output_type": "stream",
          "text": [
            "X_train is (1920, 2)\n"
          ],
          "name": "stdout"
        }
      ]
    },
    {
      "cell_type": "code",
      "metadata": {
        "id": "gjfydISxtGeV",
        "colab_type": "code",
        "outputId": "66b6f175-80fe-4294-95e3-b567f87f8f1b",
        "colab": {
          "base_uri": "https://localhost:8080/",
          "height": 34
        }
      },
      "source": [
        "print(f'X_test is {X_test.shape} and y_test is {y_test.shape}')"
      ],
      "execution_count": 0,
      "outputs": [
        {
          "output_type": "stream",
          "text": [
            "X_test is (340, 2) and y_test is (340,)\n"
          ],
          "name": "stdout"
        }
      ]
    },
    {
      "cell_type": "markdown",
      "metadata": {
        "colab_type": "text",
        "id": "zDT-gSl_-Gwh"
      },
      "source": [
        "## 2.4. Do one-hot encoding\n",
        "\n",
        "Encode your categorical feature(s)."
      ]
    },
    {
      "cell_type": "code",
      "metadata": {
        "colab_type": "code",
        "id": "iqRywy6M7Jcr",
        "outputId": "056a64ef-10ef-45b8-9508-5a73bb04979f",
        "colab": {
          "base_uri": "https://localhost:8080/",
          "height": 34
        }
      },
      "source": [
        "import category_encoders as ce\n",
        "\n",
        "encoder = ce.OneHotEncoder(use_cat_names=True)\n",
        "\n",
        "X_train_encoded = encoder.fit_transform(X_train)\n",
        "X_val_encoded = encoder.transform(X_val)\n",
        "X_test_encoded = encoder.transform(X_test)\n",
        "\n",
        "print(X_train_encoded.shape, X_val_encoded.shape, X_test_encoded.shape)"
      ],
      "execution_count": 0,
      "outputs": [
        {
          "output_type": "stream",
          "text": [
            "(1920, 6) (644, 6) (340, 6)\n"
          ],
          "name": "stdout"
        }
      ]
    },
    {
      "cell_type": "code",
      "metadata": {
        "id": "lg580qPwujeR",
        "colab_type": "code",
        "colab": {}
      },
      "source": [
        "# Standardize\n",
        "scaler = StandardScaler() # instantiate\n",
        "X_train_scaled = scaler.fit_transform(X_train_imputed)\n",
        "X_val_scaled = scaler.transform(X_val_imputed)"
      ],
      "execution_count": 0,
      "outputs": []
    },
    {
      "cell_type": "code",
      "metadata": {
        "id": "ABLT6Xij-GGT",
        "colab_type": "code",
        "outputId": "be870287-7412-473c-ad9e-2a455d57c942",
        "colab": {
          "base_uri": "https://localhost:8080/",
          "height": 34
        }
      },
      "source": [
        "y_train.shape"
      ],
      "execution_count": 0,
      "outputs": [
        {
          "output_type": "execute_result",
          "data": {
            "text/plain": [
              "(561,)"
            ]
          },
          "metadata": {
            "tags": []
          },
          "execution_count": 43
        }
      ]
    },
    {
      "cell_type": "markdown",
      "metadata": {
        "colab_type": "text",
        "id": "2ZceruUx-Vs-"
      },
      "source": [
        "## 2.5. Use scikit-learn to fit a linear regression or ridge regression model\n",
        "Fit your model."
      ]
    },
    {
      "cell_type": "code",
      "metadata": {
        "colab_type": "code",
        "id": "Kvy4Z0xv7eJF",
        "colab": {}
      },
      "source": [
        "'''\n",
        "# ATTEMPT 1: Using LINEAR REGRESSION; Following the 5 step process \n",
        "\n",
        "import numpy as np\n",
        "\n",
        "# 1) Import the appropriate estimator class from Scikit-Learn library\n",
        "from sklearn.linear_model import LinearRegression\n",
        "\n",
        "# 2) Instantiate this class\n",
        "model = LinearRegression()\n",
        "\n",
        "\n",
        "# 3) Arrange X features Matrix & y target vector\n",
        "X = X_train_encoded\n",
        "y = y_train\n",
        "\n",
        "# \n",
        "X = np.asarray([X_train_encoded])\n",
        "y = np.asarray([y_train])\n",
        "\n",
        "\n",
        "# 4) Fit the model\n",
        "model.fit(X_train_encoded, y_train) #ValueError: Found input variables with inconsistent numbers of samples: [1920, 561]; because of transforming ?\n",
        "\n",
        "#5) Apply the model to new data\n",
        "X_test = X_test_encoded\n",
        "y_pred = model.predict(X_test)\n",
        "\n",
        "'''"
      ],
      "execution_count": 0,
      "outputs": []
    },
    {
      "cell_type": "code",
      "metadata": {
        "id": "UtWPdyOy34ee",
        "colab_type": "code",
        "colab": {}
      },
      "source": [
        "'''\n",
        "# ATTEMPT 2: Using LINEAR REGRESSION\n",
        "\n",
        "# 1) Import the appropriate estimator class from Scikit-Learn library\n",
        "from sklearn.linear_model import LinearRegression\n",
        "\n",
        "# 2) Instantiate this class \n",
        "model = LinearRegression()\n",
        "\n",
        "#2a) Reshape X to match y shape? from # from https://stackoverflow.com/questions/44181664/sklearn-valueerror-found-input-variables-with-inconsistent-numbers-of-samples\n",
        "model.fit(X.reshape(1920,561),y_train)  # ATTEMPT # 1 TO FIX using numpy arrays\n",
        "\n",
        "#2b) ATTEMPT # 2 TO FIX using numpy arrays https://datascience.stackexchange.com/questions/20199/train-test-split-error-found-input-variables-with-inconsistent-numbers-of-sam\n",
        "# and https://docs.scipy.org/doc/numpy/reference/arrays.indexing.html\n",
        "\n",
        "To fix this error:\n",
        "\n",
        "1. Remove the extra list from inside of np.array() when defining X or remove the extra dimension afterwards with the following command: X = X.reshape(X.shape[1:]). Now, the shape of X will be (6, 29).\n",
        "2. Transpose X by running X = X.transpose() to get equal number of samples in X and Y. Now, the shape of X will be (29, 6) and the shape of Y will be (29,).\n",
        "\n",
        "X = X.reshape(X.reshape(X.shape[1:561])) #shape of X should be (1920, 6)? from Encoding Section above\n",
        "\n",
        "X = X.transpose() # Now the shape of X should be (6, 1920), and y will be 561? (shape of y_train from above cell)\n",
        "\n",
        "# 3) Fit the model\n",
        "model.fit(X_train_encoded, y_train) \n",
        "# model.fit(X_train_encoded, y_train)\n",
        "'''"
      ],
      "execution_count": 0,
      "outputs": []
    },
    {
      "cell_type": "markdown",
      "metadata": {
        "colab_type": "text",
        "id": "E9reASgw-i8T"
      },
      "source": [
        "## 2.6. Report validation MAE and $R^2$\n",
        "\n",
        "What is your model's Mean Absolute Error and $R^2$ score on the validation set? (You are not graded on how high or low your validation scores are.)"
      ]
    },
    {
      "cell_type": "code",
      "metadata": {
        "colab_type": "code",
        "id": "q8GdnL4e7hyK",
        "colab": {}
      },
      "source": [
        ""
      ],
      "execution_count": 0,
      "outputs": []
    },
    {
      "cell_type": "markdown",
      "metadata": {
        "colab_type": "text",
        "id": "DidByDsrOa-o"
      },
      "source": [
        "# Stretch Goals, Regression\n",
        "- Make at least 2 visualizations to explore relationships between features and target. You may use any visualization library\n",
        "- Try at least 3 feature combinations. You may select features manually, or automatically\n",
        "- Report validation MAE and $R^2$ for each feature combination you try\n",
        "- Report test MAE and $R^2$ for your final model\n",
        "- Print or plot the coefficients for the features in your model"
      ]
    },
    {
      "cell_type": "code",
      "metadata": {
        "colab_type": "code",
        "id": "xOfSQIf3Y3OV",
        "colab": {}
      },
      "source": [
        ""
      ],
      "execution_count": 0,
      "outputs": []
    },
    {
      "cell_type": "markdown",
      "metadata": {
        "colab_type": "text",
        "id": "PdkjBN1Dy_-A"
      },
      "source": [
        "# Data Dictionary \n",
        "\n",
        "Here's a description of the data fields:\n",
        "\n",
        "```\n",
        "1st_Flr_SF: First Floor square feet\n",
        "\n",
        "Bedroom_AbvGr: Bedrooms above grade (does NOT include basement bedrooms)\n",
        "\n",
        "Bldg_Type: Type of dwelling\n",
        "\t\t\n",
        "       1Fam\tSingle-family Detached\t\n",
        "       2FmCon\tTwo-family Conversion; originally built as one-family dwelling\n",
        "       Duplx\tDuplex\n",
        "       TwnhsE\tTownhouse End Unit\n",
        "       TwnhsI\tTownhouse Inside Unit\n",
        "       \n",
        "Bsmt_Half_Bath: Basement half bathrooms\n",
        "\n",
        "Bsmt_Full_Bath: Basement full bathrooms\n",
        "\n",
        "Central_Air: Central air conditioning\n",
        "\n",
        "       N\tNo\n",
        "       Y\tYes\n",
        "\t\t\n",
        "Condition_1: Proximity to various conditions\n",
        "\t\n",
        "       Artery\tAdjacent to arterial street\n",
        "       Feedr\tAdjacent to feeder street\t\n",
        "       Norm\tNormal\t\n",
        "       RRNn\tWithin 200' of North-South Railroad\n",
        "       RRAn\tAdjacent to North-South Railroad\n",
        "       PosN\tNear positive off-site feature--park, greenbelt, etc.\n",
        "       PosA\tAdjacent to postive off-site feature\n",
        "       RRNe\tWithin 200' of East-West Railroad\n",
        "       RRAe\tAdjacent to East-West Railroad\n",
        "\t\n",
        "Condition_2: Proximity to various conditions (if more than one is present)\n",
        "\t\t\n",
        "       Artery\tAdjacent to arterial street\n",
        "       Feedr\tAdjacent to feeder street\t\n",
        "       Norm\tNormal\t\n",
        "       RRNn\tWithin 200' of North-South Railroad\n",
        "       RRAn\tAdjacent to North-South Railroad\n",
        "       PosN\tNear positive off-site feature--park, greenbelt, etc.\n",
        "       PosA\tAdjacent to postive off-site feature\n",
        "       RRNe\tWithin 200' of East-West Railroad\n",
        "       RRAe\tAdjacent to East-West Railroad\n",
        "       \n",
        " Electrical: Electrical system\n",
        "\n",
        "       SBrkr\tStandard Circuit Breakers & Romex\n",
        "       FuseA\tFuse Box over 60 AMP and all Romex wiring (Average)\t\n",
        "       FuseF\t60 AMP Fuse Box and mostly Romex wiring (Fair)\n",
        "       FuseP\t60 AMP Fuse Box and mostly knob & tube wiring (poor)\n",
        "       Mix\tMixed\n",
        "       \n",
        " Exter_Cond: Evaluates the present condition of the material on the exterior\n",
        "\t\t\n",
        "       Ex\tExcellent\n",
        "       Gd\tGood\n",
        "       TA\tAverage/Typical\n",
        "       Fa\tFair\n",
        "       Po\tPoor\n",
        " \n",
        " Exter_Qual: Evaluates the quality of the material on the exterior \n",
        "\t\t\n",
        "       Ex\tExcellent\n",
        "       Gd\tGood\n",
        "       TA\tAverage/Typical\n",
        "       Fa\tFair\n",
        "       Po\tPoor\n",
        "\t\t\n",
        "Exterior_1st: Exterior covering on house\n",
        "\n",
        "       AsbShng\tAsbestos Shingles\n",
        "       AsphShn\tAsphalt Shingles\n",
        "       BrkComm\tBrick Common\n",
        "       BrkFace\tBrick Face\n",
        "       CBlock\tCinder Block\n",
        "       CemntBd\tCement Board\n",
        "       HdBoard\tHard Board\n",
        "       ImStucc\tImitation Stucco\n",
        "       MetalSd\tMetal Siding\n",
        "       Other\tOther\n",
        "       Plywood\tPlywood\n",
        "       PreCast\tPreCast\t\n",
        "       Stone\tStone\n",
        "       Stucco\tStucco\n",
        "       VinylSd\tVinyl Siding\n",
        "       Wd Sdng\tWood Siding\n",
        "       WdShing\tWood Shingles\n",
        "\t\n",
        "Exterior_2nd: Exterior covering on house (if more than one material)\n",
        "\n",
        "       AsbShng\tAsbestos Shingles\n",
        "       AsphShn\tAsphalt Shingles\n",
        "       BrkComm\tBrick Common\n",
        "       BrkFace\tBrick Face\n",
        "       CBlock\tCinder Block\n",
        "       CemntBd\tCement Board\n",
        "       HdBoard\tHard Board\n",
        "       ImStucc\tImitation Stucco\n",
        "       MetalSd\tMetal Siding\n",
        "       Other\tOther\n",
        "       Plywood\tPlywood\n",
        "       PreCast\tPreCast\n",
        "       Stone\tStone\n",
        "       Stucco\tStucco\n",
        "       VinylSd\tVinyl Siding\n",
        "       Wd Sdng\tWood Siding\n",
        "       WdShing\tWood Shingles\n",
        "       \n",
        "Foundation: Type of foundation\n",
        "\t\t\n",
        "       BrkTil\tBrick & Tile\n",
        "       CBlock\tCinder Block\n",
        "       PConc\tPoured Contrete\t\n",
        "       Slab\tSlab\n",
        "       Stone\tStone\n",
        "       Wood\tWood\n",
        "\t\t\n",
        "Full_Bath: Full bathrooms above grade\n",
        "\n",
        "Functional: Home functionality (Assume typical unless deductions are warranted)\n",
        "\n",
        "       Typ\tTypical Functionality\n",
        "       Min1\tMinor Deductions 1\n",
        "       Min2\tMinor Deductions 2\n",
        "       Mod\tModerate Deductions\n",
        "       Maj1\tMajor Deductions 1\n",
        "       Maj2\tMajor Deductions 2\n",
        "       Sev\tSeverely Damaged\n",
        "       Sal\tSalvage only\n",
        "\t\t\n",
        "Gr_Liv_Area: Above grade (ground) living area square feet\n",
        "        \n",
        "Half_Bath: Half baths above grade\n",
        "\n",
        "Heating: Type of heating\n",
        "\t\t\n",
        "       Floor\tFloor Furnace\n",
        "       GasA\tGas forced warm air furnace\n",
        "       GasW\tGas hot water or steam heat\n",
        "       Grav\tGravity furnace\t\n",
        "       OthW\tHot water or steam heat other than gas\n",
        "       Wall\tWall furnace\n",
        "\t\t\n",
        "Heating_QC: Heating quality and condition\n",
        "\n",
        "       Ex\tExcellent\n",
        "       Gd\tGood\n",
        "       TA\tAverage/Typical\n",
        "       Fa\tFair\n",
        "       Po\tPoor\n",
        "\n",
        "House_Style: Style of dwelling\n",
        "\t\n",
        "       1Story\tOne story\n",
        "       1.5Fin\tOne and one-half story: 2nd level finished\n",
        "       1.5Unf\tOne and one-half story: 2nd level unfinished\n",
        "       2Story\tTwo story\n",
        "       2.5Fin\tTwo and one-half story: 2nd level finished\n",
        "       2.5Unf\tTwo and one-half story: 2nd level unfinished\n",
        "       SFoyer\tSplit Foyer\n",
        "       SLvl\tSplit Level\n",
        "\n",
        "Kitchen_AbvGr: Kitchens above grade\n",
        "\n",
        "Kitchen_Qual: Kitchen quality\n",
        "\n",
        "       Ex\tExcellent\n",
        "       Gd\tGood\n",
        "       TA\tTypical/Average\n",
        "       Fa\tFair\n",
        "       Po\tPoor\n",
        "\n",
        "LandContour: Flatness of the property\n",
        "\n",
        "       Lvl\tNear Flat/Level\t\n",
        "       Bnk\tBanked - Quick and significant rise from street grade to building\n",
        "       HLS\tHillside - Significant slope from side to side\n",
        "       Low\tDepression\n",
        "\t\t\n",
        "Land_Slope: Slope of property\n",
        "\t\t\n",
        "       Gtl\tGentle slope\n",
        "       Mod\tModerate Slope\t\n",
        "       Sev\tSevere Slope\n",
        "\n",
        "Lot_Area: Lot size in square feet\n",
        "\n",
        "Lot_Config: Lot configuration\n",
        "\n",
        "       Inside\tInside lot\n",
        "       Corner\tCorner lot\n",
        "       CulDSac\tCul-de-sac\n",
        "       FR2\tFrontage on 2 sides of property\n",
        "       FR3\tFrontage on 3 sides of property\n",
        "\n",
        "Lot_Shape: General shape of property\n",
        "\n",
        "       Reg\tRegular\t\n",
        "       IR1\tSlightly irregular\n",
        "       IR2\tModerately Irregular\n",
        "       IR3\tIrregular\n",
        "\n",
        "MS_SubClass: Identifies the type of dwelling involved in the sale.\t\n",
        "\n",
        "        20\t1-STORY 1946 & NEWER ALL STYLES\n",
        "        30\t1-STORY 1945 & OLDER\n",
        "        40\t1-STORY W/FINISHED ATTIC ALL AGES\n",
        "        45\t1-1/2 STORY - UNFINISHED ALL AGES\n",
        "        50\t1-1/2 STORY FINISHED ALL AGES\n",
        "        60\t2-STORY 1946 & NEWER\n",
        "        70\t2-STORY 1945 & OLDER\n",
        "        75\t2-1/2 STORY ALL AGES\n",
        "        80\tSPLIT OR MULTI-LEVEL\n",
        "        85\tSPLIT FOYER\n",
        "        90\tDUPLEX - ALL STYLES AND AGES\n",
        "       120\t1-STORY PUD (Planned Unit Development) - 1946 & NEWER\n",
        "       150\t1-1/2 STORY PUD - ALL AGES\n",
        "       160\t2-STORY PUD - 1946 & NEWER\n",
        "       180\tPUD - MULTILEVEL - INCL SPLIT LEV/FOYER\n",
        "       190\t2 FAMILY CONVERSION - ALL STYLES AND AGES\n",
        "\n",
        "MS_Zoning: Identifies the general zoning classification of the sale.\n",
        "\t\t\n",
        "       A\tAgriculture\n",
        "       C\tCommercial\n",
        "       FV\tFloating Village Residential\n",
        "       I\tIndustrial\n",
        "       RH\tResidential High Density\n",
        "       RL\tResidential Low Density\n",
        "       RP\tResidential Low Density Park \n",
        "       RM\tResidential Medium Density\n",
        "\n",
        "Mas_Vnr_Type: Masonry veneer type\n",
        "\n",
        "       BrkCmn\tBrick Common\n",
        "       BrkFace\tBrick Face\n",
        "       CBlock\tCinder Block\n",
        "       None\tNone\n",
        "       Stone\tStone\n",
        "\n",
        "Mo_Sold: Month Sold (MM)\n",
        "\n",
        "Neighborhood: Physical locations within Ames city limits\n",
        "\n",
        "       Blmngtn\tBloomington Heights\n",
        "       Blueste\tBluestem\n",
        "       BrDale\tBriardale\n",
        "       BrkSide\tBrookside\n",
        "       ClearCr\tClear Creek\n",
        "       CollgCr\tCollege Creek\n",
        "       Crawfor\tCrawford\n",
        "       Edwards\tEdwards\n",
        "       Gilbert\tGilbert\n",
        "       IDOTRR\tIowa DOT and Rail Road\n",
        "       MeadowV\tMeadow Village\n",
        "       Mitchel\tMitchell\n",
        "       Names\tNorth Ames\n",
        "       NoRidge\tNorthridge\n",
        "       NPkVill\tNorthpark Villa\n",
        "       NridgHt\tNorthridge Heights\n",
        "       NWAmes\tNorthwest Ames\n",
        "       OldTown\tOld Town\n",
        "       SWISU\tSouth & West of Iowa State University\n",
        "       Sawyer\tSawyer\n",
        "       SawyerW\tSawyer West\n",
        "       Somerst\tSomerset\n",
        "       StoneBr\tStone Brook\n",
        "       Timber\tTimberland\n",
        "       Veenker\tVeenker\n",
        "\t\t\t\n",
        "Overall_Cond: Rates the overall condition of the house\n",
        "\n",
        "       10\tVery Excellent\n",
        "       9\tExcellent\n",
        "       8\tVery Good\n",
        "       7\tGood\n",
        "       6\tAbove Average\t\n",
        "       5\tAverage\n",
        "       4\tBelow Average\t\n",
        "       3\tFair\n",
        "       2\tPoor\n",
        "       1\tVery Poor\n",
        "\n",
        "Overall_Qual: Rates the overall material and finish of the house\n",
        "\n",
        "       10\tVery Excellent\n",
        "       9\tExcellent\n",
        "       8\tVery Good\n",
        "       7\tGood\n",
        "       6\tAbove Average\n",
        "       5\tAverage\n",
        "       4\tBelow Average\n",
        "       3\tFair\n",
        "       2\tPoor\n",
        "       1\tVery Poor\n",
        "\n",
        "Paved_Drive: Paved driveway\n",
        "\n",
        "       Y\tPaved \n",
        "       P\tPartial Pavement\n",
        "       N\tDirt/Gravel\n",
        "\n",
        "Roof_Matl: Roof material\n",
        "\n",
        "       ClyTile\tClay or Tile\n",
        "       CompShg\tStandard (Composite) Shingle\n",
        "       Membran\tMembrane\n",
        "       Metal\tMetal\n",
        "       Roll\tRoll\n",
        "       Tar&Grv\tGravel & Tar\n",
        "       WdShake\tWood Shakes\n",
        "       WdShngl\tWood Shingles\n",
        "\n",
        "Roof_Style: Type of roof\n",
        "\n",
        "       Flat\tFlat\n",
        "       Gable\tGable\n",
        "       Gambrel\tGabrel (Barn)\n",
        "       Hip\tHip\n",
        "       Mansard\tMansard\n",
        "       Shed\tShed\n",
        "\n",
        "SalePrice: the sales price for each house\n",
        "\n",
        "Sale_Condition: Condition of sale\n",
        "\n",
        "       Normal\tNormal Sale\n",
        "       Abnorml\tAbnormal Sale -  trade, foreclosure, short sale\n",
        "       AdjLand\tAdjoining Land Purchase\n",
        "       Alloca\tAllocation - two linked properties with separate deeds, typically condo with a garage unit\t\n",
        "       Family\tSale between family members\n",
        "       Partial\tHome was not completed when last assessed (associated with New Homes)\n",
        "\n",
        "Sale_Type: Type of sale\n",
        "\t\t\n",
        "       WD \tWarranty Deed - Conventional\n",
        "       CWD\tWarranty Deed - Cash\n",
        "       VWD\tWarranty Deed - VA Loan\n",
        "       New\tHome just constructed and sold\n",
        "       COD\tCourt Officer Deed/Estate\n",
        "       Con\tContract 15% Down payment regular terms\n",
        "       ConLw\tContract Low Down payment and low interest\n",
        "       ConLI\tContract Low Interest\n",
        "       ConLD\tContract Low Down\n",
        "       Oth\tOther\n",
        "\t\n",
        "Street: Type of road access to property\n",
        "\n",
        "       Grvl\tGravel\t\n",
        "       Pave\tPaved\n",
        "       \t\n",
        "TotRms_AbvGrd: Total rooms above grade (does not include bathrooms)\n",
        "\n",
        "Utilities: Type of utilities available\n",
        "\t\t\n",
        "       AllPub\tAll public Utilities (E,G,W,& S)\t\n",
        "       NoSewr\tElectricity, Gas, and Water (Septic Tank)\n",
        "       NoSeWa\tElectricity and Gas Only\n",
        "       ELO\tElectricity only\t\n",
        "\t\n",
        "Year_Built: Original construction date\n",
        "\n",
        "Year_Remod/Add: Remodel date (same as construction date if no remodeling or additions)\n",
        "\t\t\t\t\t\t\n",
        "Yr_Sold: Year Sold (YYYY)\t\n",
        "\n",
        "```"
      ]
    }
  ]
}