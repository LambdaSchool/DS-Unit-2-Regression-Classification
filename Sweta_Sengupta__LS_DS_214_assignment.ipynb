{
  "nbformat": 4,
  "nbformat_minor": 0,
  "metadata": {
    "kernelspec": {
      "display_name": "Python 3",
      "language": "python",
      "name": "python3"
    },
    "language_info": {
      "codemirror_mode": {
        "name": "ipython",
        "version": 3
      },
      "file_extension": ".py",
      "mimetype": "text/x-python",
      "name": "python",
      "nbconvert_exporter": "python",
      "pygments_lexer": "ipython3",
      "version": "3.7.3"
    },
    "colab": {
      "name": "Sweta_Sengupta_ LS_DS_214_assignment.ipynb",
      "provenance": [],
      "include_colab_link": true
    }
  },
  "cells": [
    {
      "cell_type": "markdown",
      "metadata": {
        "id": "view-in-github",
        "colab_type": "text"
      },
      "source": [
        "<a href=\"https://colab.research.google.com/github/SwetaSengupta/DS-Unit-2-Linear-Models/blob/master/Sweta_Sengupta__LS_DS_214_assignment.ipynb\" target=\"_parent\"><img src=\"https://colab.research.google.com/assets/colab-badge.svg\" alt=\"Open In Colab\"/></a>"
      ]
    },
    {
      "cell_type": "markdown",
      "metadata": {
        "id": "9mlR1lEpgB5T",
        "colab_type": "text"
      },
      "source": [
        "Lambda School Data Science\n",
        "\n",
        "*Unit 2, Sprint 1, Module 4*\n",
        "\n",
        "---"
      ]
    },
    {
      "cell_type": "markdown",
      "metadata": {
        "colab_type": "text",
        "id": "7IXUfiQ2UKj6"
      },
      "source": [
        "# Logistic Regression\n",
        "\n",
        "\n",
        "## Assignment 🌯\n",
        "\n",
        "You'll use a [**dataset of 400+ burrito reviews**](https://srcole.github.io/100burritos/). How accurately can you predict whether a burrito is rated 'Great'?\n",
        "\n",
        "> We have developed a 10-dimensional system for rating the burritos in San Diego. ... Generate models for what makes a burrito great and investigate correlations in its dimensions.\n",
        "\n",
        "- [ ] Do train/validate/test split. Train on reviews from 2016 & earlier. Validate on 2017. Test on 2018 & later.\n",
        "- [ ] Begin with baselines for classification.\n",
        "- [ ] Use scikit-learn for logistic regression.\n",
        "- [ ] Get your model's validation accuracy. (Multiple times if you try multiple iterations.)\n",
        "- [ ] Get your model's test accuracy. (One time, at the end.)\n",
        "- [ ] Commit your notebook to your fork of the GitHub repo.\n",
        "\n",
        "\n",
        "## Stretch Goals\n",
        "\n",
        "- [ ] Add your own stretch goal(s) !\n",
        "- [ ] Make exploratory visualizations.\n",
        "- [ ] Do one-hot encoding.\n",
        "- [ ] Do [feature scaling](https://scikit-learn.org/stable/modules/preprocessing.html).\n",
        "- [ ] Get and plot your coefficients.\n",
        "- [ ] Try [scikit-learn pipelines](https://scikit-learn.org/stable/modules/compose.html)."
      ]
    },
    {
      "cell_type": "code",
      "metadata": {
        "colab_type": "code",
        "id": "o9eSnDYhUGD7",
        "colab": {}
      },
      "source": [
        "%%capture\n",
        "import sys\n",
        "\n",
        "# If you're on Colab:\n",
        "if 'google.colab' in sys.modules:\n",
        "    DATA_PATH = 'https://raw.githubusercontent.com/LambdaSchool/DS-Unit-2-Linear-Models/master/data/'\n",
        "    !pip install category_encoders==2.*\n",
        "\n",
        "# If you're working locally:\n",
        "else:\n",
        "    DATA_PATH = '../data/'"
      ],
      "execution_count": 0,
      "outputs": []
    },
    {
      "cell_type": "code",
      "metadata": {
        "id": "hbeaAqfDgB5h",
        "colab_type": "code",
        "colab": {}
      },
      "source": [
        "# Load data downloaded from https://srcole.github.io/100burritos/\n",
        "import pandas as pd\n",
        "df = pd.read_csv(DATA_PATH+'burritos/burritos.csv')"
      ],
      "execution_count": 0,
      "outputs": []
    },
    {
      "cell_type": "code",
      "metadata": {
        "id": "vfUGyMcagB5l",
        "colab_type": "code",
        "colab": {}
      },
      "source": [
        "# Derive binary classification target:\n",
        "# We define a 'Great' burrito as having an\n",
        "# overall rating of 4 or higher, on a 5 point scale.\n",
        "# Drop unrated burritos.\n",
        "df = df.dropna(subset=['overall'])\n",
        "df['Great'] = df['overall'] >= 4"
      ],
      "execution_count": 0,
      "outputs": []
    },
    {
      "cell_type": "code",
      "metadata": {
        "id": "iIS1trbwgB5p",
        "colab_type": "code",
        "colab": {}
      },
      "source": [
        "# Clean/combine the Burrito categories\n",
        "df['Burrito'] = df['Burrito'].str.lower()\n",
        "\n",
        "california = df['Burrito'].str.contains('california')\n",
        "asada = df['Burrito'].str.contains('asada')\n",
        "surf = df['Burrito'].str.contains('surf')\n",
        "carnitas = df['Burrito'].str.contains('carnitas')\n",
        "\n",
        "df.loc[california, 'Burrito'] = 'California'\n",
        "df.loc[asada, 'Burrito'] = 'Asada'\n",
        "df.loc[surf, 'Burrito'] = 'Surf & Turf'\n",
        "df.loc[carnitas, 'Burrito'] = 'Carnitas'\n",
        "df.loc[~california & ~asada & ~surf & ~carnitas, 'Burrito'] = 'Other'"
      ],
      "execution_count": 0,
      "outputs": []
    },
    {
      "cell_type": "code",
      "metadata": {
        "id": "O4fKRPwrgB5u",
        "colab_type": "code",
        "colab": {}
      },
      "source": [
        "# Drop some high cardinality categoricals\n",
        "df = df.drop(columns=['Notes', 'Location', 'Reviewer', 'Address', 'URL', 'Neighborhood'])"
      ],
      "execution_count": 0,
      "outputs": []
    },
    {
      "cell_type": "code",
      "metadata": {
        "id": "AUoHTO6mgB5x",
        "colab_type": "code",
        "colab": {}
      },
      "source": [
        "# Drop some columns to prevent \"leakage\"\n",
        "df = df.drop(columns=['Rec', 'overall'])"
      ],
      "execution_count": 0,
      "outputs": []
    },
    {
      "cell_type": "code",
      "metadata": {
        "id": "Etmr23zfgB54",
        "colab_type": "code",
        "colab": {
          "base_uri": "https://localhost:8080/",
          "height": 258
        },
        "outputId": "64fc468d-a316-4053-fff8-2ecf65e4a8c4"
      },
      "source": [
        "print(df.shape)\n",
        "df.head()"
      ],
      "execution_count": 27,
      "outputs": [
        {
          "output_type": "stream",
          "text": [
            "(421, 61)\n"
          ],
          "name": "stdout"
        },
        {
          "output_type": "execute_result",
          "data": {
            "text/html": [
              "<div>\n",
              "<style scoped>\n",
              "    .dataframe tbody tr th:only-of-type {\n",
              "        vertical-align: middle;\n",
              "    }\n",
              "\n",
              "    .dataframe tbody tr th {\n",
              "        vertical-align: top;\n",
              "    }\n",
              "\n",
              "    .dataframe thead th {\n",
              "        text-align: right;\n",
              "    }\n",
              "</style>\n",
              "<table border=\"1\" class=\"dataframe\">\n",
              "  <thead>\n",
              "    <tr style=\"text-align: right;\">\n",
              "      <th></th>\n",
              "      <th>Burrito</th>\n",
              "      <th>Date</th>\n",
              "      <th>Yelp</th>\n",
              "      <th>Google</th>\n",
              "      <th>Chips</th>\n",
              "      <th>Cost</th>\n",
              "      <th>Hunger</th>\n",
              "      <th>Mass (g)</th>\n",
              "      <th>Density (g/mL)</th>\n",
              "      <th>Length</th>\n",
              "      <th>Circum</th>\n",
              "      <th>Volume</th>\n",
              "      <th>Tortilla</th>\n",
              "      <th>Temp</th>\n",
              "      <th>Meat</th>\n",
              "      <th>Fillings</th>\n",
              "      <th>Meat:filling</th>\n",
              "      <th>Uniformity</th>\n",
              "      <th>Salsa</th>\n",
              "      <th>Synergy</th>\n",
              "      <th>Wrap</th>\n",
              "      <th>Unreliable</th>\n",
              "      <th>NonSD</th>\n",
              "      <th>Beef</th>\n",
              "      <th>Pico</th>\n",
              "      <th>Guac</th>\n",
              "      <th>Cheese</th>\n",
              "      <th>Fries</th>\n",
              "      <th>Sour cream</th>\n",
              "      <th>Pork</th>\n",
              "      <th>Chicken</th>\n",
              "      <th>Shrimp</th>\n",
              "      <th>Fish</th>\n",
              "      <th>Rice</th>\n",
              "      <th>Beans</th>\n",
              "      <th>Lettuce</th>\n",
              "      <th>Tomato</th>\n",
              "      <th>Bell peper</th>\n",
              "      <th>Carrots</th>\n",
              "      <th>Cabbage</th>\n",
              "      <th>Sauce</th>\n",
              "      <th>Salsa.1</th>\n",
              "      <th>Cilantro</th>\n",
              "      <th>Onion</th>\n",
              "      <th>Taquito</th>\n",
              "      <th>Pineapple</th>\n",
              "      <th>Ham</th>\n",
              "      <th>Chile relleno</th>\n",
              "      <th>Nopales</th>\n",
              "      <th>Lobster</th>\n",
              "      <th>Queso</th>\n",
              "      <th>Egg</th>\n",
              "      <th>Mushroom</th>\n",
              "      <th>Bacon</th>\n",
              "      <th>Sushi</th>\n",
              "      <th>Avocado</th>\n",
              "      <th>Corn</th>\n",
              "      <th>Zucchini</th>\n",
              "      <th>Great</th>\n",
              "      <th>year</th>\n",
              "      <th>month</th>\n",
              "    </tr>\n",
              "  </thead>\n",
              "  <tbody>\n",
              "    <tr>\n",
              "      <th>0</th>\n",
              "      <td>California</td>\n",
              "      <td>1/18/2016</td>\n",
              "      <td>3.5</td>\n",
              "      <td>4.2</td>\n",
              "      <td>NaN</td>\n",
              "      <td>6.49</td>\n",
              "      <td>3.0</td>\n",
              "      <td>NaN</td>\n",
              "      <td>NaN</td>\n",
              "      <td>NaN</td>\n",
              "      <td>NaN</td>\n",
              "      <td>NaN</td>\n",
              "      <td>3.0</td>\n",
              "      <td>5.0</td>\n",
              "      <td>3.0</td>\n",
              "      <td>3.5</td>\n",
              "      <td>4.0</td>\n",
              "      <td>4.0</td>\n",
              "      <td>4.0</td>\n",
              "      <td>4.0</td>\n",
              "      <td>4.0</td>\n",
              "      <td>NaN</td>\n",
              "      <td>NaN</td>\n",
              "      <td>x</td>\n",
              "      <td>x</td>\n",
              "      <td>x</td>\n",
              "      <td>x</td>\n",
              "      <td>x</td>\n",
              "      <td>NaN</td>\n",
              "      <td>NaN</td>\n",
              "      <td>NaN</td>\n",
              "      <td>NaN</td>\n",
              "      <td>NaN</td>\n",
              "      <td>NaN</td>\n",
              "      <td>NaN</td>\n",
              "      <td>NaN</td>\n",
              "      <td>NaN</td>\n",
              "      <td>NaN</td>\n",
              "      <td>NaN</td>\n",
              "      <td>NaN</td>\n",
              "      <td>NaN</td>\n",
              "      <td>NaN</td>\n",
              "      <td>NaN</td>\n",
              "      <td>NaN</td>\n",
              "      <td>NaN</td>\n",
              "      <td>NaN</td>\n",
              "      <td>NaN</td>\n",
              "      <td>NaN</td>\n",
              "      <td>NaN</td>\n",
              "      <td>NaN</td>\n",
              "      <td>NaN</td>\n",
              "      <td>NaN</td>\n",
              "      <td>NaN</td>\n",
              "      <td>NaN</td>\n",
              "      <td>NaN</td>\n",
              "      <td>NaN</td>\n",
              "      <td>NaN</td>\n",
              "      <td>NaN</td>\n",
              "      <td>False</td>\n",
              "      <td>2016</td>\n",
              "      <td>1</td>\n",
              "    </tr>\n",
              "    <tr>\n",
              "      <th>1</th>\n",
              "      <td>California</td>\n",
              "      <td>1/24/2016</td>\n",
              "      <td>3.5</td>\n",
              "      <td>3.3</td>\n",
              "      <td>NaN</td>\n",
              "      <td>5.45</td>\n",
              "      <td>3.5</td>\n",
              "      <td>NaN</td>\n",
              "      <td>NaN</td>\n",
              "      <td>NaN</td>\n",
              "      <td>NaN</td>\n",
              "      <td>NaN</td>\n",
              "      <td>2.0</td>\n",
              "      <td>3.5</td>\n",
              "      <td>2.5</td>\n",
              "      <td>2.5</td>\n",
              "      <td>2.0</td>\n",
              "      <td>4.0</td>\n",
              "      <td>3.5</td>\n",
              "      <td>2.5</td>\n",
              "      <td>5.0</td>\n",
              "      <td>NaN</td>\n",
              "      <td>NaN</td>\n",
              "      <td>x</td>\n",
              "      <td>x</td>\n",
              "      <td>x</td>\n",
              "      <td>x</td>\n",
              "      <td>x</td>\n",
              "      <td>NaN</td>\n",
              "      <td>NaN</td>\n",
              "      <td>NaN</td>\n",
              "      <td>NaN</td>\n",
              "      <td>NaN</td>\n",
              "      <td>NaN</td>\n",
              "      <td>NaN</td>\n",
              "      <td>NaN</td>\n",
              "      <td>NaN</td>\n",
              "      <td>NaN</td>\n",
              "      <td>NaN</td>\n",
              "      <td>NaN</td>\n",
              "      <td>NaN</td>\n",
              "      <td>NaN</td>\n",
              "      <td>NaN</td>\n",
              "      <td>NaN</td>\n",
              "      <td>NaN</td>\n",
              "      <td>NaN</td>\n",
              "      <td>NaN</td>\n",
              "      <td>NaN</td>\n",
              "      <td>NaN</td>\n",
              "      <td>NaN</td>\n",
              "      <td>NaN</td>\n",
              "      <td>NaN</td>\n",
              "      <td>NaN</td>\n",
              "      <td>NaN</td>\n",
              "      <td>NaN</td>\n",
              "      <td>NaN</td>\n",
              "      <td>NaN</td>\n",
              "      <td>NaN</td>\n",
              "      <td>False</td>\n",
              "      <td>2016</td>\n",
              "      <td>1</td>\n",
              "    </tr>\n",
              "    <tr>\n",
              "      <th>2</th>\n",
              "      <td>Carnitas</td>\n",
              "      <td>1/24/2016</td>\n",
              "      <td>NaN</td>\n",
              "      <td>NaN</td>\n",
              "      <td>NaN</td>\n",
              "      <td>4.85</td>\n",
              "      <td>1.5</td>\n",
              "      <td>NaN</td>\n",
              "      <td>NaN</td>\n",
              "      <td>NaN</td>\n",
              "      <td>NaN</td>\n",
              "      <td>NaN</td>\n",
              "      <td>3.0</td>\n",
              "      <td>2.0</td>\n",
              "      <td>2.5</td>\n",
              "      <td>3.0</td>\n",
              "      <td>4.5</td>\n",
              "      <td>4.0</td>\n",
              "      <td>3.0</td>\n",
              "      <td>3.0</td>\n",
              "      <td>5.0</td>\n",
              "      <td>NaN</td>\n",
              "      <td>NaN</td>\n",
              "      <td>NaN</td>\n",
              "      <td>x</td>\n",
              "      <td>x</td>\n",
              "      <td>NaN</td>\n",
              "      <td>NaN</td>\n",
              "      <td>NaN</td>\n",
              "      <td>x</td>\n",
              "      <td>NaN</td>\n",
              "      <td>NaN</td>\n",
              "      <td>NaN</td>\n",
              "      <td>NaN</td>\n",
              "      <td>NaN</td>\n",
              "      <td>NaN</td>\n",
              "      <td>NaN</td>\n",
              "      <td>NaN</td>\n",
              "      <td>NaN</td>\n",
              "      <td>NaN</td>\n",
              "      <td>NaN</td>\n",
              "      <td>NaN</td>\n",
              "      <td>NaN</td>\n",
              "      <td>NaN</td>\n",
              "      <td>NaN</td>\n",
              "      <td>NaN</td>\n",
              "      <td>NaN</td>\n",
              "      <td>NaN</td>\n",
              "      <td>NaN</td>\n",
              "      <td>NaN</td>\n",
              "      <td>NaN</td>\n",
              "      <td>NaN</td>\n",
              "      <td>NaN</td>\n",
              "      <td>NaN</td>\n",
              "      <td>NaN</td>\n",
              "      <td>NaN</td>\n",
              "      <td>NaN</td>\n",
              "      <td>NaN</td>\n",
              "      <td>False</td>\n",
              "      <td>2016</td>\n",
              "      <td>1</td>\n",
              "    </tr>\n",
              "    <tr>\n",
              "      <th>3</th>\n",
              "      <td>Asada</td>\n",
              "      <td>1/24/2016</td>\n",
              "      <td>NaN</td>\n",
              "      <td>NaN</td>\n",
              "      <td>NaN</td>\n",
              "      <td>5.25</td>\n",
              "      <td>2.0</td>\n",
              "      <td>NaN</td>\n",
              "      <td>NaN</td>\n",
              "      <td>NaN</td>\n",
              "      <td>NaN</td>\n",
              "      <td>NaN</td>\n",
              "      <td>3.0</td>\n",
              "      <td>2.0</td>\n",
              "      <td>3.5</td>\n",
              "      <td>3.0</td>\n",
              "      <td>4.0</td>\n",
              "      <td>5.0</td>\n",
              "      <td>4.0</td>\n",
              "      <td>4.0</td>\n",
              "      <td>5.0</td>\n",
              "      <td>NaN</td>\n",
              "      <td>NaN</td>\n",
              "      <td>x</td>\n",
              "      <td>x</td>\n",
              "      <td>x</td>\n",
              "      <td>NaN</td>\n",
              "      <td>NaN</td>\n",
              "      <td>NaN</td>\n",
              "      <td>NaN</td>\n",
              "      <td>NaN</td>\n",
              "      <td>NaN</td>\n",
              "      <td>NaN</td>\n",
              "      <td>NaN</td>\n",
              "      <td>NaN</td>\n",
              "      <td>NaN</td>\n",
              "      <td>NaN</td>\n",
              "      <td>NaN</td>\n",
              "      <td>NaN</td>\n",
              "      <td>NaN</td>\n",
              "      <td>NaN</td>\n",
              "      <td>NaN</td>\n",
              "      <td>NaN</td>\n",
              "      <td>NaN</td>\n",
              "      <td>NaN</td>\n",
              "      <td>NaN</td>\n",
              "      <td>NaN</td>\n",
              "      <td>NaN</td>\n",
              "      <td>NaN</td>\n",
              "      <td>NaN</td>\n",
              "      <td>NaN</td>\n",
              "      <td>NaN</td>\n",
              "      <td>NaN</td>\n",
              "      <td>NaN</td>\n",
              "      <td>NaN</td>\n",
              "      <td>NaN</td>\n",
              "      <td>NaN</td>\n",
              "      <td>NaN</td>\n",
              "      <td>False</td>\n",
              "      <td>2016</td>\n",
              "      <td>1</td>\n",
              "    </tr>\n",
              "    <tr>\n",
              "      <th>4</th>\n",
              "      <td>California</td>\n",
              "      <td>1/27/2016</td>\n",
              "      <td>4.0</td>\n",
              "      <td>3.8</td>\n",
              "      <td>x</td>\n",
              "      <td>6.59</td>\n",
              "      <td>4.0</td>\n",
              "      <td>NaN</td>\n",
              "      <td>NaN</td>\n",
              "      <td>NaN</td>\n",
              "      <td>NaN</td>\n",
              "      <td>NaN</td>\n",
              "      <td>4.0</td>\n",
              "      <td>5.0</td>\n",
              "      <td>4.0</td>\n",
              "      <td>3.5</td>\n",
              "      <td>4.5</td>\n",
              "      <td>5.0</td>\n",
              "      <td>2.5</td>\n",
              "      <td>4.5</td>\n",
              "      <td>4.0</td>\n",
              "      <td>NaN</td>\n",
              "      <td>NaN</td>\n",
              "      <td>x</td>\n",
              "      <td>x</td>\n",
              "      <td>NaN</td>\n",
              "      <td>x</td>\n",
              "      <td>x</td>\n",
              "      <td>NaN</td>\n",
              "      <td>NaN</td>\n",
              "      <td>NaN</td>\n",
              "      <td>NaN</td>\n",
              "      <td>NaN</td>\n",
              "      <td>NaN</td>\n",
              "      <td>NaN</td>\n",
              "      <td>NaN</td>\n",
              "      <td>NaN</td>\n",
              "      <td>NaN</td>\n",
              "      <td>NaN</td>\n",
              "      <td>NaN</td>\n",
              "      <td>NaN</td>\n",
              "      <td>NaN</td>\n",
              "      <td>NaN</td>\n",
              "      <td>NaN</td>\n",
              "      <td>NaN</td>\n",
              "      <td>NaN</td>\n",
              "      <td>NaN</td>\n",
              "      <td>NaN</td>\n",
              "      <td>NaN</td>\n",
              "      <td>NaN</td>\n",
              "      <td>NaN</td>\n",
              "      <td>NaN</td>\n",
              "      <td>NaN</td>\n",
              "      <td>NaN</td>\n",
              "      <td>NaN</td>\n",
              "      <td>NaN</td>\n",
              "      <td>NaN</td>\n",
              "      <td>NaN</td>\n",
              "      <td>True</td>\n",
              "      <td>2016</td>\n",
              "      <td>1</td>\n",
              "    </tr>\n",
              "  </tbody>\n",
              "</table>\n",
              "</div>"
            ],
            "text/plain": [
              "      Burrito       Date  Yelp  Google Chips  ...  Corn  Zucchini  Great  year  month\n",
              "0  California  1/18/2016   3.5     4.2   NaN  ...   NaN       NaN  False  2016      1\n",
              "1  California  1/24/2016   3.5     3.3   NaN  ...   NaN       NaN  False  2016      1\n",
              "2    Carnitas  1/24/2016   NaN     NaN   NaN  ...   NaN       NaN  False  2016      1\n",
              "3       Asada  1/24/2016   NaN     NaN   NaN  ...   NaN       NaN  False  2016      1\n",
              "4  California  1/27/2016   4.0     3.8     x  ...   NaN       NaN   True  2016      1\n",
              "\n",
              "[5 rows x 61 columns]"
            ]
          },
          "metadata": {
            "tags": []
          },
          "execution_count": 27
        }
      ]
    },
    {
      "cell_type": "code",
      "metadata": {
        "id": "qXjJKgSpiZLd",
        "colab_type": "code",
        "colab": {
          "base_uri": "https://localhost:8080/",
          "height": 153
        },
        "outputId": "50dfe95c-f237-4812-eed9-e92a68cb4064"
      },
      "source": [
        "df.year.value_counts()"
      ],
      "execution_count": 31,
      "outputs": [
        {
          "output_type": "execute_result",
          "data": {
            "text/plain": [
              "2016    296\n",
              "2017     85\n",
              "2018     27\n",
              "2019     10\n",
              "2026      1\n",
              "2015      1\n",
              "2011      1\n",
              "Name: year, dtype: int64"
            ]
          },
          "metadata": {
            "tags": []
          },
          "execution_count": 31
        }
      ]
    },
    {
      "cell_type": "markdown",
      "metadata": {
        "id": "ZAHwLvDWiaMo",
        "colab_type": "text"
      },
      "source": [
        "###Train/validate/test split. Train on reviews from 2016 & earlier. Validate on 2017. Test on 2018 & later."
      ]
    },
    {
      "cell_type": "code",
      "metadata": {
        "id": "LQXjWDNhl3ic",
        "colab_type": "code",
        "colab": {}
      },
      "source": [
        "df['year'] = pd.DatetimeIndex(df['Date']).year\n",
        "df['month'] = pd.DatetimeIndex(df['Date']).month"
      ],
      "execution_count": 0,
      "outputs": []
    },
    {
      "cell_type": "code",
      "metadata": {
        "id": "SJawj8ehl3RB",
        "colab_type": "code",
        "colab": {
          "base_uri": "https://localhost:8080/",
          "height": 34
        },
        "outputId": "6ced1c13-a733-4f03-ffaa-66762a9bbc5e"
      },
      "source": [
        "condition = df['year']<=2016\n",
        "train = df[condition]\n",
        "train.shape"
      ],
      "execution_count": 37,
      "outputs": [
        {
          "output_type": "execute_result",
          "data": {
            "text/plain": [
              "(298, 61)"
            ]
          },
          "metadata": {
            "tags": []
          },
          "execution_count": 37
        }
      ]
    },
    {
      "cell_type": "code",
      "metadata": {
        "id": "Gr0BVxpzl3LG",
        "colab_type": "code",
        "colab": {
          "base_uri": "https://localhost:8080/",
          "height": 34
        },
        "outputId": "94f87496-e0b1-498f-9525-e9227154c4d1"
      },
      "source": [
        "condition_1 = df['year']==2017\n",
        "val=df[condition_1]\n",
        "val.shape"
      ],
      "execution_count": 38,
      "outputs": [
        {
          "output_type": "execute_result",
          "data": {
            "text/plain": [
              "(85, 61)"
            ]
          },
          "metadata": {
            "tags": []
          },
          "execution_count": 38
        }
      ]
    },
    {
      "cell_type": "code",
      "metadata": {
        "id": "pX5xy7HzrDGy",
        "colab_type": "code",
        "colab": {
          "base_uri": "https://localhost:8080/",
          "height": 34
        },
        "outputId": "d191a8bd-8ff5-40af-ff04-b1d5f1516fc3"
      },
      "source": [
        "condition_2 = df['year']>=2018\n",
        "test = df[condition_2]\n",
        "test.shape"
      ],
      "execution_count": 39,
      "outputs": [
        {
          "output_type": "execute_result",
          "data": {
            "text/plain": [
              "(38, 61)"
            ]
          },
          "metadata": {
            "tags": []
          },
          "execution_count": 39
        }
      ]
    },
    {
      "cell_type": "markdown",
      "metadata": {
        "id": "tUC9YJ7Mry3Q",
        "colab_type": "text"
      },
      "source": [
        "###Baselines for classification"
      ]
    },
    {
      "cell_type": "code",
      "metadata": {
        "id": "3K8cHjVYr2Y7",
        "colab_type": "code",
        "colab": {
          "base_uri": "https://localhost:8080/",
          "height": 68
        },
        "outputId": "1afabe73-276b-4974-a450-d5c765ee5062"
      },
      "source": [
        "#Determine majority class\n",
        "target='Great'\n",
        "y_train = train[target]\n",
        "y_train.value_counts(normalize= True)"
      ],
      "execution_count": 40,
      "outputs": [
        {
          "output_type": "execute_result",
          "data": {
            "text/plain": [
              "False    0.590604\n",
              "True     0.409396\n",
              "Name: Great, dtype: float64"
            ]
          },
          "metadata": {
            "tags": []
          },
          "execution_count": 40
        }
      ]
    },
    {
      "cell_type": "code",
      "metadata": {
        "id": "pGMVivocsyS_",
        "colab_type": "code",
        "colab": {}
      },
      "source": [
        "# guessing the majority class for evry prediction\n",
        "majority_class = y_train.mode()[0]\n",
        "y_pred_train = [majority_class]*len(y_train)"
      ],
      "execution_count": 0,
      "outputs": []
    },
    {
      "cell_type": "code",
      "metadata": {
        "id": "tsp9YM1RtCnn",
        "colab_type": "code",
        "colab": {}
      },
      "source": [
        "# baseline accuracy if we guessed the majority class for every prediction"
      ],
      "execution_count": 0,
      "outputs": []
    },
    {
      "cell_type": "code",
      "metadata": {
        "id": "zjhbO5QhtCjm",
        "colab_type": "code",
        "colab": {
          "base_uri": "https://localhost:8080/",
          "height": 34
        },
        "outputId": "aa7fb09d-b826-40cf-9d8d-795e1080bd24"
      },
      "source": [
        "from sklearn.metrics import accuracy_score\n",
        "\n",
        "accuracy_score(y_train, y_pred_train)"
      ],
      "execution_count": 42,
      "outputs": [
        {
          "output_type": "execute_result",
          "data": {
            "text/plain": [
              "0.5906040268456376"
            ]
          },
          "metadata": {
            "tags": []
          },
          "execution_count": 42
        }
      ]
    },
    {
      "cell_type": "code",
      "metadata": {
        "id": "Nss9_nO7tCfd",
        "colab_type": "code",
        "colab": {
          "base_uri": "https://localhost:8080/",
          "height": 34
        },
        "outputId": "3cf38b06-48d4-48d4-d247-7692418fdf64"
      },
      "source": [
        "y_val = val[target]\n",
        "y_pred = [majority_class]*len(y_val)\n",
        "accuracy_score(y_val, y_pred)"
      ],
      "execution_count": 43,
      "outputs": [
        {
          "output_type": "execute_result",
          "data": {
            "text/plain": [
              "0.5529411764705883"
            ]
          },
          "metadata": {
            "tags": []
          },
          "execution_count": 43
        }
      ]
    },
    {
      "cell_type": "markdown",
      "metadata": {
        "id": "Jsf2sczHtVxS",
        "colab_type": "text"
      },
      "source": [
        "###Linear regression"
      ]
    },
    {
      "cell_type": "code",
      "metadata": {
        "id": "59fn0UsatVcN",
        "colab_type": "code",
        "colab": {
          "base_uri": "https://localhost:8080/",
          "height": 334
        },
        "outputId": "fbb046e9-b48a-4b3b-b7af-e6138e35515e"
      },
      "source": [
        "train .describe()"
      ],
      "execution_count": 44,
      "outputs": [
        {
          "output_type": "execute_result",
          "data": {
            "text/html": [
              "<div>\n",
              "<style scoped>\n",
              "    .dataframe tbody tr th:only-of-type {\n",
              "        vertical-align: middle;\n",
              "    }\n",
              "\n",
              "    .dataframe tbody tr th {\n",
              "        vertical-align: top;\n",
              "    }\n",
              "\n",
              "    .dataframe thead th {\n",
              "        text-align: right;\n",
              "    }\n",
              "</style>\n",
              "<table border=\"1\" class=\"dataframe\">\n",
              "  <thead>\n",
              "    <tr style=\"text-align: right;\">\n",
              "      <th></th>\n",
              "      <th>Yelp</th>\n",
              "      <th>Google</th>\n",
              "      <th>Cost</th>\n",
              "      <th>Hunger</th>\n",
              "      <th>Mass (g)</th>\n",
              "      <th>Density (g/mL)</th>\n",
              "      <th>Length</th>\n",
              "      <th>Circum</th>\n",
              "      <th>Volume</th>\n",
              "      <th>Tortilla</th>\n",
              "      <th>Temp</th>\n",
              "      <th>Meat</th>\n",
              "      <th>Fillings</th>\n",
              "      <th>Meat:filling</th>\n",
              "      <th>Uniformity</th>\n",
              "      <th>Salsa</th>\n",
              "      <th>Synergy</th>\n",
              "      <th>Wrap</th>\n",
              "      <th>Queso</th>\n",
              "      <th>year</th>\n",
              "      <th>month</th>\n",
              "    </tr>\n",
              "  </thead>\n",
              "  <tbody>\n",
              "    <tr>\n",
              "      <th>count</th>\n",
              "      <td>71.000000</td>\n",
              "      <td>71.000000</td>\n",
              "      <td>292.000000</td>\n",
              "      <td>297.000000</td>\n",
              "      <td>0.0</td>\n",
              "      <td>0.0</td>\n",
              "      <td>175.000000</td>\n",
              "      <td>174.000000</td>\n",
              "      <td>174.000000</td>\n",
              "      <td>298.000000</td>\n",
              "      <td>283.000000</td>\n",
              "      <td>288.000000</td>\n",
              "      <td>297.000000</td>\n",
              "      <td>292.000000</td>\n",
              "      <td>296.000000</td>\n",
              "      <td>278.000000</td>\n",
              "      <td>296.000000</td>\n",
              "      <td>296.000000</td>\n",
              "      <td>0.0</td>\n",
              "      <td>298.000000</td>\n",
              "      <td>298.000000</td>\n",
              "    </tr>\n",
              "    <tr>\n",
              "      <th>mean</th>\n",
              "      <td>3.897183</td>\n",
              "      <td>4.142254</td>\n",
              "      <td>6.896781</td>\n",
              "      <td>3.445286</td>\n",
              "      <td>NaN</td>\n",
              "      <td>NaN</td>\n",
              "      <td>19.829886</td>\n",
              "      <td>22.042241</td>\n",
              "      <td>0.770920</td>\n",
              "      <td>3.472315</td>\n",
              "      <td>3.706360</td>\n",
              "      <td>3.551215</td>\n",
              "      <td>3.519024</td>\n",
              "      <td>3.528870</td>\n",
              "      <td>3.395946</td>\n",
              "      <td>3.324640</td>\n",
              "      <td>3.540203</td>\n",
              "      <td>3.955068</td>\n",
              "      <td>NaN</td>\n",
              "      <td>2015.979866</td>\n",
              "      <td>6.436242</td>\n",
              "    </tr>\n",
              "    <tr>\n",
              "      <th>std</th>\n",
              "      <td>0.478680</td>\n",
              "      <td>0.371738</td>\n",
              "      <td>1.211412</td>\n",
              "      <td>0.852150</td>\n",
              "      <td>NaN</td>\n",
              "      <td>NaN</td>\n",
              "      <td>2.081275</td>\n",
              "      <td>1.685043</td>\n",
              "      <td>0.137833</td>\n",
              "      <td>0.797606</td>\n",
              "      <td>0.991897</td>\n",
              "      <td>0.869483</td>\n",
              "      <td>0.850348</td>\n",
              "      <td>1.040457</td>\n",
              "      <td>1.089044</td>\n",
              "      <td>0.971226</td>\n",
              "      <td>0.922426</td>\n",
              "      <td>1.167341</td>\n",
              "      <td>NaN</td>\n",
              "      <td>0.295187</td>\n",
              "      <td>2.892745</td>\n",
              "    </tr>\n",
              "    <tr>\n",
              "      <th>min</th>\n",
              "      <td>2.500000</td>\n",
              "      <td>2.900000</td>\n",
              "      <td>2.990000</td>\n",
              "      <td>0.500000</td>\n",
              "      <td>NaN</td>\n",
              "      <td>NaN</td>\n",
              "      <td>15.000000</td>\n",
              "      <td>17.000000</td>\n",
              "      <td>0.400000</td>\n",
              "      <td>1.400000</td>\n",
              "      <td>1.000000</td>\n",
              "      <td>1.000000</td>\n",
              "      <td>1.000000</td>\n",
              "      <td>0.500000</td>\n",
              "      <td>1.000000</td>\n",
              "      <td>0.000000</td>\n",
              "      <td>1.000000</td>\n",
              "      <td>0.000000</td>\n",
              "      <td>NaN</td>\n",
              "      <td>2011.000000</td>\n",
              "      <td>1.000000</td>\n",
              "    </tr>\n",
              "    <tr>\n",
              "      <th>25%</th>\n",
              "      <td>3.500000</td>\n",
              "      <td>4.000000</td>\n",
              "      <td>6.250000</td>\n",
              "      <td>3.000000</td>\n",
              "      <td>NaN</td>\n",
              "      <td>NaN</td>\n",
              "      <td>18.500000</td>\n",
              "      <td>21.000000</td>\n",
              "      <td>0.662500</td>\n",
              "      <td>3.000000</td>\n",
              "      <td>3.000000</td>\n",
              "      <td>3.000000</td>\n",
              "      <td>3.000000</td>\n",
              "      <td>3.000000</td>\n",
              "      <td>2.500000</td>\n",
              "      <td>2.500000</td>\n",
              "      <td>3.000000</td>\n",
              "      <td>3.500000</td>\n",
              "      <td>NaN</td>\n",
              "      <td>2016.000000</td>\n",
              "      <td>4.000000</td>\n",
              "    </tr>\n",
              "    <tr>\n",
              "      <th>50%</th>\n",
              "      <td>4.000000</td>\n",
              "      <td>4.200000</td>\n",
              "      <td>6.850000</td>\n",
              "      <td>3.500000</td>\n",
              "      <td>NaN</td>\n",
              "      <td>NaN</td>\n",
              "      <td>19.500000</td>\n",
              "      <td>22.000000</td>\n",
              "      <td>0.750000</td>\n",
              "      <td>3.500000</td>\n",
              "      <td>4.000000</td>\n",
              "      <td>3.500000</td>\n",
              "      <td>3.500000</td>\n",
              "      <td>4.000000</td>\n",
              "      <td>3.500000</td>\n",
              "      <td>3.500000</td>\n",
              "      <td>3.750000</td>\n",
              "      <td>4.000000</td>\n",
              "      <td>NaN</td>\n",
              "      <td>2016.000000</td>\n",
              "      <td>6.000000</td>\n",
              "    </tr>\n",
              "    <tr>\n",
              "      <th>75%</th>\n",
              "      <td>4.000000</td>\n",
              "      <td>4.400000</td>\n",
              "      <td>7.500000</td>\n",
              "      <td>4.000000</td>\n",
              "      <td>NaN</td>\n",
              "      <td>NaN</td>\n",
              "      <td>21.000000</td>\n",
              "      <td>23.000000</td>\n",
              "      <td>0.870000</td>\n",
              "      <td>4.000000</td>\n",
              "      <td>4.500000</td>\n",
              "      <td>4.000000</td>\n",
              "      <td>4.000000</td>\n",
              "      <td>4.000000</td>\n",
              "      <td>4.000000</td>\n",
              "      <td>4.000000</td>\n",
              "      <td>4.000000</td>\n",
              "      <td>5.000000</td>\n",
              "      <td>NaN</td>\n",
              "      <td>2016.000000</td>\n",
              "      <td>9.000000</td>\n",
              "    </tr>\n",
              "    <tr>\n",
              "      <th>max</th>\n",
              "      <td>4.500000</td>\n",
              "      <td>4.900000</td>\n",
              "      <td>11.950000</td>\n",
              "      <td>5.000000</td>\n",
              "      <td>NaN</td>\n",
              "      <td>NaN</td>\n",
              "      <td>26.000000</td>\n",
              "      <td>27.000000</td>\n",
              "      <td>1.240000</td>\n",
              "      <td>5.000000</td>\n",
              "      <td>5.000000</td>\n",
              "      <td>5.000000</td>\n",
              "      <td>5.000000</td>\n",
              "      <td>5.000000</td>\n",
              "      <td>5.000000</td>\n",
              "      <td>5.000000</td>\n",
              "      <td>5.000000</td>\n",
              "      <td>5.000000</td>\n",
              "      <td>NaN</td>\n",
              "      <td>2016.000000</td>\n",
              "      <td>12.000000</td>\n",
              "    </tr>\n",
              "  </tbody>\n",
              "</table>\n",
              "</div>"
            ],
            "text/plain": [
              "            Yelp     Google        Cost  ...  Queso         year       month\n",
              "count  71.000000  71.000000  292.000000  ...    0.0   298.000000  298.000000\n",
              "mean    3.897183   4.142254    6.896781  ...    NaN  2015.979866    6.436242\n",
              "std     0.478680   0.371738    1.211412  ...    NaN     0.295187    2.892745\n",
              "min     2.500000   2.900000    2.990000  ...    NaN  2011.000000    1.000000\n",
              "25%     3.500000   4.000000    6.250000  ...    NaN  2016.000000    4.000000\n",
              "50%     4.000000   4.200000    6.850000  ...    NaN  2016.000000    6.000000\n",
              "75%     4.000000   4.400000    7.500000  ...    NaN  2016.000000    9.000000\n",
              "max     4.500000   4.900000   11.950000  ...    NaN  2016.000000   12.000000\n",
              "\n",
              "[8 rows x 21 columns]"
            ]
          },
          "metadata": {
            "tags": []
          },
          "execution_count": 44
        }
      ]
    },
    {
      "cell_type": "code",
      "metadata": {
        "id": "664SgA0btVWD",
        "colab_type": "code",
        "colab": {
          "base_uri": "https://localhost:8080/",
          "height": 306
        },
        "outputId": "534969a9-ed22-49d9-902a-76a72005572f"
      },
      "source": [
        "# 1. Import estimator class\n",
        "from sklearn.linear_model import LinearRegression\n",
        "# 2. Instantiate this class\n",
        "linear_reg = LinearRegression()\n",
        "\n",
        "# 3. Arrange X feature matrices (already did y target vectors)\n",
        "features = ['Yelp', 'Cost', 'Hunger']\n",
        "X_train = train[features]\n",
        "X_val = val[features]\n",
        "\n",
        "# Impute missing values\n",
        "from sklearn.impute import SimpleImputer\n",
        "imputer = SimpleImputer()\n",
        "X_train_imputed = imputer.fit_transform(X_train)\n",
        "X_val_imputed = imputer.transform(X_val)\n",
        "\n",
        "# 4. Fit the model\n",
        "linear_reg.fit(X_train_imputed, y_train)\n",
        "\n",
        "# 5. Apply the model to new data.\n",
        "# The predictions look like this ...\n",
        "linear_reg.predict(X_val_imputed)"
      ],
      "execution_count": 45,
      "outputs": [
        {
          "output_type": "execute_result",
          "data": {
            "text/plain": [
              "array([0.39236891, 0.39236891, 0.54182826, 0.5163008 , 0.30486651,\n",
              "       0.36498635, 0.4267666 , 0.46608992, 0.58173853, 0.47182056,\n",
              "       0.33837985, 0.45119951, 0.41961156, 0.41157941, 0.45605964,\n",
              "       0.48543172, 0.53864263, 0.38286008, 0.42734032, 0.42734032,\n",
              "       0.42734032, 0.45886176, 0.38289314, 0.49335179, 0.4804595 ,\n",
              "       0.43597926, 0.33557734, 0.45032239, 0.43597926, 0.45032239,\n",
              "       0.48899887, 0.49190094, 0.40671927, 0.40671927, 0.54782263,\n",
              "       0.6545752 , 0.29495029, 0.33267565, 0.61525149, 0.3742542 ,\n",
              "       0.62761824, 0.57883685, 0.45605964, 0.45605964, 0.4253422 ,\n",
              "       0.4431343 , 0.65170657, 0.43878138, 0.4904501 , 0.42018528,\n",
              "       0.4640918 , 0.43108606, 0.51572707, 0.51572707, 0.48561641,\n",
              "       0.46463246, 0.37712283, 0.1767714 , 0.38204908, 0.33756885,\n",
              "       0.43425808, 0.54929482, 0.37513132, 0.4640918 , 0.53293222,\n",
              "       0.55072431, 0.45032239, 0.5163008 , 0.58659867, 0.25646441,\n",
              "       1.49737101, 0.46466552, 0.48268789, 0.3814423 , 0.43425808,\n",
              "       0.53148799, 0.22879832, 0.41961156, 0.50624407, 0.50624407,\n",
              "       0.41157941, 0.41157941, 0.69695775, 0.51572707, 0.60468755])"
            ]
          },
          "metadata": {
            "tags": []
          },
          "execution_count": 45
        }
      ]
    },
    {
      "cell_type": "code",
      "metadata": {
        "id": "VJmX-I0XtVTO",
        "colab_type": "code",
        "colab": {
          "base_uri": "https://localhost:8080/",
          "height": 34
        },
        "outputId": "ec55d7df-aa16-49b4-eb89-0b1c89530926"
      },
      "source": [
        "features"
      ],
      "execution_count": 46,
      "outputs": [
        {
          "output_type": "execute_result",
          "data": {
            "text/plain": [
              "['Yelp', 'Cost', 'Hunger']"
            ]
          },
          "metadata": {
            "tags": []
          },
          "execution_count": 46
        }
      ]
    },
    {
      "cell_type": "code",
      "metadata": {
        "id": "Ft0AnSJ2tVP2",
        "colab_type": "code",
        "colab": {
          "base_uri": "https://localhost:8080/",
          "height": 85
        },
        "outputId": "991b14c0-04c3-4b04-f2aa-ed7b35be2a29"
      },
      "source": [
        "# Get coefficients\n",
        "pd.Series(linear_reg.coef_, features)"
      ],
      "execution_count": 47,
      "outputs": [
        {
          "output_type": "execute_result",
          "data": {
            "text/plain": [
              "Yelp      0.180866\n",
              "Cost      0.057373\n",
              "Hunger    0.088960\n",
              "dtype: float64"
            ]
          },
          "metadata": {
            "tags": []
          },
          "execution_count": 47
        }
      ]
    },
    {
      "cell_type": "code",
      "metadata": {
        "id": "BOPjHCWfu4Ub",
        "colab_type": "code",
        "colab": {
          "base_uri": "https://localhost:8080/",
          "height": 34
        },
        "outputId": "23fa7a08-2077-41d6-bb82-21963332df6e"
      },
      "source": [
        "test_case = [[3.5, 7.00, 3]] \n",
        "linear_reg.predict(test_case)"
      ],
      "execution_count": 48,
      "outputs": [
        {
          "output_type": "execute_result",
          "data": {
            "text/plain": [
              "array([0.30386808])"
            ]
          },
          "metadata": {
            "tags": []
          },
          "execution_count": 48
        }
      ]
    },
    {
      "cell_type": "markdown",
      "metadata": {
        "id": "GQ2R9i2ovUcC",
        "colab_type": "text"
      },
      "source": [
        "###Logistic Regression"
      ]
    },
    {
      "cell_type": "code",
      "metadata": {
        "id": "jsSOkwx0vZ_u",
        "colab_type": "code",
        "colab": {
          "base_uri": "https://localhost:8080/",
          "height": 34
        },
        "outputId": "34ece4f2-2143-4a18-8f06-f43f2668bc48"
      },
      "source": [
        "from sklearn.linear_model import LogisticRegression\n",
        "\n",
        "log_reg = LogisticRegression()\n",
        "log_reg.fit(X_train_imputed, y_train)\n",
        "print('Validation Accuracy', log_reg.score(X_val_imputed, y_val))\n"
      ],
      "execution_count": 49,
      "outputs": [
        {
          "output_type": "stream",
          "text": [
            "Validation Accuracy 0.5294117647058824\n"
          ],
          "name": "stdout"
        }
      ]
    },
    {
      "cell_type": "code",
      "metadata": {
        "id": "5lZH1cYQvaF5",
        "colab_type": "code",
        "colab": {
          "base_uri": "https://localhost:8080/",
          "height": 187
        },
        "outputId": "54011e33-2ca9-4824-d928-d63a8ce50ffc"
      },
      "source": [
        "# The predictions look like this\n",
        "log_reg.predict(X_val_imputed)"
      ],
      "execution_count": 50,
      "outputs": [
        {
          "output_type": "execute_result",
          "data": {
            "text/plain": [
              "array([False, False,  True,  True, False, False, False, False,  True,\n",
              "       False, False, False, False, False, False, False,  True, False,\n",
              "       False, False, False, False, False, False, False, False, False,\n",
              "       False, False, False, False, False, False, False,  True,  True,\n",
              "       False, False,  True, False,  True,  True, False, False, False,\n",
              "       False,  True, False, False, False, False, False,  True,  True,\n",
              "       False, False, False, False, False, False, False,  True, False,\n",
              "       False,  True,  True, False,  True,  True, False,  True, False,\n",
              "       False, False, False,  True, False, False,  True,  True, False,\n",
              "       False,  True,  True,  True])"
            ]
          },
          "metadata": {
            "tags": []
          },
          "execution_count": 50
        }
      ]
    },
    {
      "cell_type": "code",
      "metadata": {
        "id": "lW8sSv4DvaDX",
        "colab_type": "code",
        "colab": {
          "base_uri": "https://localhost:8080/",
          "height": 34
        },
        "outputId": "379d2642-a459-4ae2-f6ed-9774fbea090c"
      },
      "source": [
        "log_reg.predict(test_case)"
      ],
      "execution_count": 51,
      "outputs": [
        {
          "output_type": "execute_result",
          "data": {
            "text/plain": [
              "array([False])"
            ]
          },
          "metadata": {
            "tags": []
          },
          "execution_count": 51
        }
      ]
    },
    {
      "cell_type": "code",
      "metadata": {
        "id": "Ef5Z_ZWTvvez",
        "colab_type": "code",
        "colab": {
          "base_uri": "https://localhost:8080/",
          "height": 34
        },
        "outputId": "86e34213-7473-4433-8cfd-de131d9a4ac7"
      },
      "source": [
        "log_reg.predict_proba(test_case)[0]"
      ],
      "execution_count": 52,
      "outputs": [
        {
          "output_type": "execute_result",
          "data": {
            "text/plain": [
              "array([0.68820486, 0.31179514])"
            ]
          },
          "metadata": {
            "tags": []
          },
          "execution_count": 52
        }
      ]
    },
    {
      "cell_type": "code",
      "metadata": {
        "id": "XqcBajPvv0_2",
        "colab_type": "code",
        "colab": {
          "base_uri": "https://localhost:8080/",
          "height": 34
        },
        "outputId": "0d4bf15a-b063-4ddf-de09-838a80b79880"
      },
      "source": [
        "# What's the math?\n",
        "log_reg.coef_"
      ],
      "execution_count": 53,
      "outputs": [
        {
          "output_type": "execute_result",
          "data": {
            "text/plain": [
              "array([[0.63709728, 0.25154941, 0.39556501]])"
            ]
          },
          "metadata": {
            "tags": []
          },
          "execution_count": 53
        }
      ]
    },
    {
      "cell_type": "code",
      "metadata": {
        "id": "pkohJFxXv4DL",
        "colab_type": "code",
        "colab": {
          "base_uri": "https://localhost:8080/",
          "height": 34
        },
        "outputId": "ff3ab5f3-942d-49a8-b6b7-76952f2dddda"
      },
      "source": [
        "log_reg.intercept_"
      ],
      "execution_count": 54,
      "outputs": [
        {
          "output_type": "execute_result",
          "data": {
            "text/plain": [
              "array([-5.96912155])"
            ]
          },
          "metadata": {
            "tags": []
          },
          "execution_count": 54
        }
      ]
    },
    {
      "cell_type": "markdown",
      "metadata": {
        "id": "mBqth18TwKT4",
        "colab_type": "text"
      },
      "source": [
        "###Validation accuracy."
      ]
    },
    {
      "cell_type": "code",
      "metadata": {
        "id": "ymJKw25bxCz5",
        "colab_type": "code",
        "colab": {
          "base_uri": "https://localhost:8080/",
          "height": 148
        },
        "outputId": "f622647a-5f80-4338-aa8d-a5524540b5de"
      },
      "source": [
        "train.head(2)"
      ],
      "execution_count": 55,
      "outputs": [
        {
          "output_type": "execute_result",
          "data": {
            "text/html": [
              "<div>\n",
              "<style scoped>\n",
              "    .dataframe tbody tr th:only-of-type {\n",
              "        vertical-align: middle;\n",
              "    }\n",
              "\n",
              "    .dataframe tbody tr th {\n",
              "        vertical-align: top;\n",
              "    }\n",
              "\n",
              "    .dataframe thead th {\n",
              "        text-align: right;\n",
              "    }\n",
              "</style>\n",
              "<table border=\"1\" class=\"dataframe\">\n",
              "  <thead>\n",
              "    <tr style=\"text-align: right;\">\n",
              "      <th></th>\n",
              "      <th>Burrito</th>\n",
              "      <th>Date</th>\n",
              "      <th>Yelp</th>\n",
              "      <th>Google</th>\n",
              "      <th>Chips</th>\n",
              "      <th>Cost</th>\n",
              "      <th>Hunger</th>\n",
              "      <th>Mass (g)</th>\n",
              "      <th>Density (g/mL)</th>\n",
              "      <th>Length</th>\n",
              "      <th>Circum</th>\n",
              "      <th>Volume</th>\n",
              "      <th>Tortilla</th>\n",
              "      <th>Temp</th>\n",
              "      <th>Meat</th>\n",
              "      <th>Fillings</th>\n",
              "      <th>Meat:filling</th>\n",
              "      <th>Uniformity</th>\n",
              "      <th>Salsa</th>\n",
              "      <th>Synergy</th>\n",
              "      <th>Wrap</th>\n",
              "      <th>Unreliable</th>\n",
              "      <th>NonSD</th>\n",
              "      <th>Beef</th>\n",
              "      <th>Pico</th>\n",
              "      <th>Guac</th>\n",
              "      <th>Cheese</th>\n",
              "      <th>Fries</th>\n",
              "      <th>Sour cream</th>\n",
              "      <th>Pork</th>\n",
              "      <th>Chicken</th>\n",
              "      <th>Shrimp</th>\n",
              "      <th>Fish</th>\n",
              "      <th>Rice</th>\n",
              "      <th>Beans</th>\n",
              "      <th>Lettuce</th>\n",
              "      <th>Tomato</th>\n",
              "      <th>Bell peper</th>\n",
              "      <th>Carrots</th>\n",
              "      <th>Cabbage</th>\n",
              "      <th>Sauce</th>\n",
              "      <th>Salsa.1</th>\n",
              "      <th>Cilantro</th>\n",
              "      <th>Onion</th>\n",
              "      <th>Taquito</th>\n",
              "      <th>Pineapple</th>\n",
              "      <th>Ham</th>\n",
              "      <th>Chile relleno</th>\n",
              "      <th>Nopales</th>\n",
              "      <th>Lobster</th>\n",
              "      <th>Queso</th>\n",
              "      <th>Egg</th>\n",
              "      <th>Mushroom</th>\n",
              "      <th>Bacon</th>\n",
              "      <th>Sushi</th>\n",
              "      <th>Avocado</th>\n",
              "      <th>Corn</th>\n",
              "      <th>Zucchini</th>\n",
              "      <th>Great</th>\n",
              "      <th>year</th>\n",
              "      <th>month</th>\n",
              "    </tr>\n",
              "  </thead>\n",
              "  <tbody>\n",
              "    <tr>\n",
              "      <th>0</th>\n",
              "      <td>California</td>\n",
              "      <td>1/18/2016</td>\n",
              "      <td>3.5</td>\n",
              "      <td>4.2</td>\n",
              "      <td>NaN</td>\n",
              "      <td>6.49</td>\n",
              "      <td>3.0</td>\n",
              "      <td>NaN</td>\n",
              "      <td>NaN</td>\n",
              "      <td>NaN</td>\n",
              "      <td>NaN</td>\n",
              "      <td>NaN</td>\n",
              "      <td>3.0</td>\n",
              "      <td>5.0</td>\n",
              "      <td>3.0</td>\n",
              "      <td>3.5</td>\n",
              "      <td>4.0</td>\n",
              "      <td>4.0</td>\n",
              "      <td>4.0</td>\n",
              "      <td>4.0</td>\n",
              "      <td>4.0</td>\n",
              "      <td>NaN</td>\n",
              "      <td>NaN</td>\n",
              "      <td>x</td>\n",
              "      <td>x</td>\n",
              "      <td>x</td>\n",
              "      <td>x</td>\n",
              "      <td>x</td>\n",
              "      <td>NaN</td>\n",
              "      <td>NaN</td>\n",
              "      <td>NaN</td>\n",
              "      <td>NaN</td>\n",
              "      <td>NaN</td>\n",
              "      <td>NaN</td>\n",
              "      <td>NaN</td>\n",
              "      <td>NaN</td>\n",
              "      <td>NaN</td>\n",
              "      <td>NaN</td>\n",
              "      <td>NaN</td>\n",
              "      <td>NaN</td>\n",
              "      <td>NaN</td>\n",
              "      <td>NaN</td>\n",
              "      <td>NaN</td>\n",
              "      <td>NaN</td>\n",
              "      <td>NaN</td>\n",
              "      <td>NaN</td>\n",
              "      <td>NaN</td>\n",
              "      <td>NaN</td>\n",
              "      <td>NaN</td>\n",
              "      <td>NaN</td>\n",
              "      <td>NaN</td>\n",
              "      <td>NaN</td>\n",
              "      <td>NaN</td>\n",
              "      <td>NaN</td>\n",
              "      <td>NaN</td>\n",
              "      <td>NaN</td>\n",
              "      <td>NaN</td>\n",
              "      <td>NaN</td>\n",
              "      <td>False</td>\n",
              "      <td>2016</td>\n",
              "      <td>1</td>\n",
              "    </tr>\n",
              "    <tr>\n",
              "      <th>1</th>\n",
              "      <td>California</td>\n",
              "      <td>1/24/2016</td>\n",
              "      <td>3.5</td>\n",
              "      <td>3.3</td>\n",
              "      <td>NaN</td>\n",
              "      <td>5.45</td>\n",
              "      <td>3.5</td>\n",
              "      <td>NaN</td>\n",
              "      <td>NaN</td>\n",
              "      <td>NaN</td>\n",
              "      <td>NaN</td>\n",
              "      <td>NaN</td>\n",
              "      <td>2.0</td>\n",
              "      <td>3.5</td>\n",
              "      <td>2.5</td>\n",
              "      <td>2.5</td>\n",
              "      <td>2.0</td>\n",
              "      <td>4.0</td>\n",
              "      <td>3.5</td>\n",
              "      <td>2.5</td>\n",
              "      <td>5.0</td>\n",
              "      <td>NaN</td>\n",
              "      <td>NaN</td>\n",
              "      <td>x</td>\n",
              "      <td>x</td>\n",
              "      <td>x</td>\n",
              "      <td>x</td>\n",
              "      <td>x</td>\n",
              "      <td>NaN</td>\n",
              "      <td>NaN</td>\n",
              "      <td>NaN</td>\n",
              "      <td>NaN</td>\n",
              "      <td>NaN</td>\n",
              "      <td>NaN</td>\n",
              "      <td>NaN</td>\n",
              "      <td>NaN</td>\n",
              "      <td>NaN</td>\n",
              "      <td>NaN</td>\n",
              "      <td>NaN</td>\n",
              "      <td>NaN</td>\n",
              "      <td>NaN</td>\n",
              "      <td>NaN</td>\n",
              "      <td>NaN</td>\n",
              "      <td>NaN</td>\n",
              "      <td>NaN</td>\n",
              "      <td>NaN</td>\n",
              "      <td>NaN</td>\n",
              "      <td>NaN</td>\n",
              "      <td>NaN</td>\n",
              "      <td>NaN</td>\n",
              "      <td>NaN</td>\n",
              "      <td>NaN</td>\n",
              "      <td>NaN</td>\n",
              "      <td>NaN</td>\n",
              "      <td>NaN</td>\n",
              "      <td>NaN</td>\n",
              "      <td>NaN</td>\n",
              "      <td>NaN</td>\n",
              "      <td>False</td>\n",
              "      <td>2016</td>\n",
              "      <td>1</td>\n",
              "    </tr>\n",
              "  </tbody>\n",
              "</table>\n",
              "</div>"
            ],
            "text/plain": [
              "      Burrito       Date  Yelp  Google Chips  ...  Corn  Zucchini  Great  year  month\n",
              "0  California  1/18/2016   3.5     4.2   NaN  ...   NaN       NaN  False  2016      1\n",
              "1  California  1/24/2016   3.5     3.3   NaN  ...   NaN       NaN  False  2016      1\n",
              "\n",
              "[2 rows x 61 columns]"
            ]
          },
          "metadata": {
            "tags": []
          },
          "execution_count": 55
        }
      ]
    },
    {
      "cell_type": "code",
      "metadata": {
        "id": "YG8EvT-wv3_n",
        "colab_type": "code",
        "colab": {}
      },
      "source": [
        "features = ['Burrito', 'Yelp','Google','Chips','Cost', 'Hunger','Tortilla','Temp', 'Meat', 'Fillings','Meat:filling','Uniformity','Salsa','Synergy','Wrap']\n",
        "target =\"Great\""
      ],
      "execution_count": 0,
      "outputs": []
    },
    {
      "cell_type": "code",
      "metadata": {
        "id": "xtyIJuKuv379",
        "colab_type": "code",
        "colab": {
          "base_uri": "https://localhost:8080/",
          "height": 34
        },
        "outputId": "97bfc5e7-4da7-49e0-ff90-9393a5add738"
      },
      "source": [
        "X_train = train[features]\n",
        "y_train = train[target]\n",
        "X_val = val[features]\n",
        "y_val = val[target]\n",
        "\n",
        "X_train.shape, X_val.shape"
      ],
      "execution_count": 57,
      "outputs": [
        {
          "output_type": "execute_result",
          "data": {
            "text/plain": [
              "((298, 15), (85, 15))"
            ]
          },
          "metadata": {
            "tags": []
          },
          "execution_count": 57
        }
      ]
    },
    {
      "cell_type": "code",
      "metadata": {
        "id": "oDyDYBHav34d",
        "colab_type": "code",
        "colab": {}
      },
      "source": [
        "import category_encoders as ce \n",
        "from sklearn.impute import SimpleImputer\n",
        "from sklearn.preprocessing import StandardScaler\n",
        "from sklearn.linear_model import LogisticRegressionCV"
      ],
      "execution_count": 0,
      "outputs": []
    },
    {
      "cell_type": "code",
      "metadata": {
        "id": "qWCyR936yXoZ",
        "colab_type": "code",
        "colab": {
          "base_uri": "https://localhost:8080/",
          "height": 34
        },
        "outputId": "796984ff-e956-4434-c2ed-b87b694991cc"
      },
      "source": [
        "# stretch goal-one hot encoding Burrito column\n",
        "encoder = ce.one_hot.OneHotEncoder(use_cat_names=True)\n",
        "X_train_enc = encoder.fit_transform(X_train)\n",
        "X_val_enc = encoder.transform(X_val)\n",
        "X_train_enc.shape, X_val_enc.shape"
      ],
      "execution_count": 59,
      "outputs": [
        {
          "output_type": "execute_result",
          "data": {
            "text/plain": [
              "((298, 21), (85, 21))"
            ]
          },
          "metadata": {
            "tags": []
          },
          "execution_count": 59
        }
      ]
    },
    {
      "cell_type": "code",
      "metadata": {
        "id": "Iz7bJwGyyb_1",
        "colab_type": "code",
        "colab": {
          "base_uri": "https://localhost:8080/",
          "height": 204
        },
        "outputId": "ee31ecee-c623-46c7-f9c3-00d072a2f9c2"
      },
      "source": [
        "X_val_enc.head()"
      ],
      "execution_count": 60,
      "outputs": [
        {
          "output_type": "execute_result",
          "data": {
            "text/html": [
              "<div>\n",
              "<style scoped>\n",
              "    .dataframe tbody tr th:only-of-type {\n",
              "        vertical-align: middle;\n",
              "    }\n",
              "\n",
              "    .dataframe tbody tr th {\n",
              "        vertical-align: top;\n",
              "    }\n",
              "\n",
              "    .dataframe thead th {\n",
              "        text-align: right;\n",
              "    }\n",
              "</style>\n",
              "<table border=\"1\" class=\"dataframe\">\n",
              "  <thead>\n",
              "    <tr style=\"text-align: right;\">\n",
              "      <th></th>\n",
              "      <th>Burrito_California</th>\n",
              "      <th>Burrito_Carnitas</th>\n",
              "      <th>Burrito_Asada</th>\n",
              "      <th>Burrito_Other</th>\n",
              "      <th>Burrito_Surf &amp; Turf</th>\n",
              "      <th>Yelp</th>\n",
              "      <th>Google</th>\n",
              "      <th>Chips_nan</th>\n",
              "      <th>Chips_x</th>\n",
              "      <th>Chips_X</th>\n",
              "      <th>Cost</th>\n",
              "      <th>Hunger</th>\n",
              "      <th>Tortilla</th>\n",
              "      <th>Temp</th>\n",
              "      <th>Meat</th>\n",
              "      <th>Fillings</th>\n",
              "      <th>Meat:filling</th>\n",
              "      <th>Uniformity</th>\n",
              "      <th>Salsa</th>\n",
              "      <th>Synergy</th>\n",
              "      <th>Wrap</th>\n",
              "    </tr>\n",
              "  </thead>\n",
              "  <tbody>\n",
              "    <tr>\n",
              "      <th>301</th>\n",
              "      <td>1</td>\n",
              "      <td>0</td>\n",
              "      <td>0</td>\n",
              "      <td>0</td>\n",
              "      <td>0</td>\n",
              "      <td>NaN</td>\n",
              "      <td>NaN</td>\n",
              "      <td>1</td>\n",
              "      <td>0</td>\n",
              "      <td>0</td>\n",
              "      <td>6.60</td>\n",
              "      <td>NaN</td>\n",
              "      <td>4.0</td>\n",
              "      <td>4.5</td>\n",
              "      <td>4.0</td>\n",
              "      <td>3.5</td>\n",
              "      <td>3.5</td>\n",
              "      <td>5.0</td>\n",
              "      <td>1.5</td>\n",
              "      <td>3.50</td>\n",
              "      <td>4.5</td>\n",
              "    </tr>\n",
              "    <tr>\n",
              "      <th>302</th>\n",
              "      <td>0</td>\n",
              "      <td>0</td>\n",
              "      <td>0</td>\n",
              "      <td>1</td>\n",
              "      <td>0</td>\n",
              "      <td>NaN</td>\n",
              "      <td>NaN</td>\n",
              "      <td>1</td>\n",
              "      <td>0</td>\n",
              "      <td>0</td>\n",
              "      <td>6.60</td>\n",
              "      <td>NaN</td>\n",
              "      <td>4.0</td>\n",
              "      <td>2.0</td>\n",
              "      <td>NaN</td>\n",
              "      <td>4.0</td>\n",
              "      <td>NaN</td>\n",
              "      <td>4.6</td>\n",
              "      <td>4.2</td>\n",
              "      <td>3.75</td>\n",
              "      <td>5.0</td>\n",
              "    </tr>\n",
              "    <tr>\n",
              "      <th>303</th>\n",
              "      <td>0</td>\n",
              "      <td>0</td>\n",
              "      <td>0</td>\n",
              "      <td>1</td>\n",
              "      <td>0</td>\n",
              "      <td>NaN</td>\n",
              "      <td>NaN</td>\n",
              "      <td>1</td>\n",
              "      <td>0</td>\n",
              "      <td>0</td>\n",
              "      <td>8.50</td>\n",
              "      <td>3.9</td>\n",
              "      <td>3.0</td>\n",
              "      <td>4.5</td>\n",
              "      <td>4.1</td>\n",
              "      <td>3.0</td>\n",
              "      <td>3.7</td>\n",
              "      <td>4.0</td>\n",
              "      <td>4.3</td>\n",
              "      <td>4.20</td>\n",
              "      <td>5.0</td>\n",
              "    </tr>\n",
              "    <tr>\n",
              "      <th>304</th>\n",
              "      <td>0</td>\n",
              "      <td>0</td>\n",
              "      <td>0</td>\n",
              "      <td>1</td>\n",
              "      <td>0</td>\n",
              "      <td>NaN</td>\n",
              "      <td>NaN</td>\n",
              "      <td>1</td>\n",
              "      <td>0</td>\n",
              "      <td>0</td>\n",
              "      <td>7.90</td>\n",
              "      <td>4.0</td>\n",
              "      <td>3.5</td>\n",
              "      <td>4.0</td>\n",
              "      <td>4.0</td>\n",
              "      <td>3.0</td>\n",
              "      <td>4.0</td>\n",
              "      <td>4.5</td>\n",
              "      <td>4.0</td>\n",
              "      <td>3.80</td>\n",
              "      <td>4.8</td>\n",
              "    </tr>\n",
              "    <tr>\n",
              "      <th>305</th>\n",
              "      <td>0</td>\n",
              "      <td>0</td>\n",
              "      <td>0</td>\n",
              "      <td>1</td>\n",
              "      <td>0</td>\n",
              "      <td>NaN</td>\n",
              "      <td>NaN</td>\n",
              "      <td>1</td>\n",
              "      <td>0</td>\n",
              "      <td>0</td>\n",
              "      <td>4.99</td>\n",
              "      <td>3.5</td>\n",
              "      <td>2.5</td>\n",
              "      <td>4.5</td>\n",
              "      <td>3.0</td>\n",
              "      <td>2.5</td>\n",
              "      <td>3.0</td>\n",
              "      <td>3.0</td>\n",
              "      <td>2.0</td>\n",
              "      <td>2.00</td>\n",
              "      <td>4.0</td>\n",
              "    </tr>\n",
              "  </tbody>\n",
              "</table>\n",
              "</div>"
            ],
            "text/plain": [
              "     Burrito_California  Burrito_Carnitas  Burrito_Asada  ...  Salsa  Synergy  Wrap\n",
              "301                   1                 0              0  ...    1.5     3.50   4.5\n",
              "302                   0                 0              0  ...    4.2     3.75   5.0\n",
              "303                   0                 0              0  ...    4.3     4.20   5.0\n",
              "304                   0                 0              0  ...    4.0     3.80   4.8\n",
              "305                   0                 0              0  ...    2.0     2.00   4.0\n",
              "\n",
              "[5 rows x 21 columns]"
            ]
          },
          "metadata": {
            "tags": []
          },
          "execution_count": 60
        }
      ]
    },
    {
      "cell_type": "code",
      "metadata": {
        "id": "yiPQ7TrCyky3",
        "colab_type": "code",
        "colab": {
          "base_uri": "https://localhost:8080/",
          "height": 34
        },
        "outputId": "e950aa3b-b258-44eb-cac8-c15d668a9133"
      },
      "source": [
        "#filling the missing values\n",
        "imputer = SimpleImputer(strategy='mean')\n",
        "X_train_imp = imputer.fit_transform(X_train_enc)\n",
        "X_val_imp = imputer.transform(X_val_enc)\n",
        "X_train_imp.shape, X_val_imp.shape"
      ],
      "execution_count": 61,
      "outputs": [
        {
          "output_type": "execute_result",
          "data": {
            "text/plain": [
              "((298, 21), (85, 21))"
            ]
          },
          "metadata": {
            "tags": []
          },
          "execution_count": 61
        }
      ]
    },
    {
      "cell_type": "code",
      "metadata": {
        "id": "S-3WeeMQykrK",
        "colab_type": "code",
        "colab": {}
      },
      "source": [
        "#Simple Imputer returns ndarray tharefore conveting back to df\n",
        "\n",
        "X_train_imp = pd.DataFrame(X_train_imp, columns=X_train_enc.columns)\n",
        "X_val_imp = pd.DataFrame(X_val_imp, columns = X_val_enc.columns)"
      ],
      "execution_count": 0,
      "outputs": []
    },
    {
      "cell_type": "code",
      "metadata": {
        "id": "PlAYvlIXykng",
        "colab_type": "code",
        "colab": {
          "base_uri": "https://localhost:8080/",
          "height": 436
        },
        "outputId": "01c9cbec-412e-458a-b9e6-8b3f513cf5dc"
      },
      "source": [
        "X_val_imp"
      ],
      "execution_count": 63,
      "outputs": [
        {
          "output_type": "execute_result",
          "data": {
            "text/html": [
              "<div>\n",
              "<style scoped>\n",
              "    .dataframe tbody tr th:only-of-type {\n",
              "        vertical-align: middle;\n",
              "    }\n",
              "\n",
              "    .dataframe tbody tr th {\n",
              "        vertical-align: top;\n",
              "    }\n",
              "\n",
              "    .dataframe thead th {\n",
              "        text-align: right;\n",
              "    }\n",
              "</style>\n",
              "<table border=\"1\" class=\"dataframe\">\n",
              "  <thead>\n",
              "    <tr style=\"text-align: right;\">\n",
              "      <th></th>\n",
              "      <th>Burrito_California</th>\n",
              "      <th>Burrito_Carnitas</th>\n",
              "      <th>Burrito_Asada</th>\n",
              "      <th>Burrito_Other</th>\n",
              "      <th>Burrito_Surf &amp; Turf</th>\n",
              "      <th>Yelp</th>\n",
              "      <th>Google</th>\n",
              "      <th>Chips_nan</th>\n",
              "      <th>Chips_x</th>\n",
              "      <th>Chips_X</th>\n",
              "      <th>Cost</th>\n",
              "      <th>Hunger</th>\n",
              "      <th>Tortilla</th>\n",
              "      <th>Temp</th>\n",
              "      <th>Meat</th>\n",
              "      <th>Fillings</th>\n",
              "      <th>Meat:filling</th>\n",
              "      <th>Uniformity</th>\n",
              "      <th>Salsa</th>\n",
              "      <th>Synergy</th>\n",
              "      <th>Wrap</th>\n",
              "    </tr>\n",
              "  </thead>\n",
              "  <tbody>\n",
              "    <tr>\n",
              "      <th>0</th>\n",
              "      <td>1.0</td>\n",
              "      <td>0.0</td>\n",
              "      <td>0.0</td>\n",
              "      <td>0.0</td>\n",
              "      <td>0.0</td>\n",
              "      <td>3.897183</td>\n",
              "      <td>4.142254</td>\n",
              "      <td>1.0</td>\n",
              "      <td>0.0</td>\n",
              "      <td>0.0</td>\n",
              "      <td>6.60</td>\n",
              "      <td>3.445286</td>\n",
              "      <td>4.0</td>\n",
              "      <td>4.5</td>\n",
              "      <td>4.000000</td>\n",
              "      <td>3.5</td>\n",
              "      <td>3.50000</td>\n",
              "      <td>5.0</td>\n",
              "      <td>1.5</td>\n",
              "      <td>3.50</td>\n",
              "      <td>4.5</td>\n",
              "    </tr>\n",
              "    <tr>\n",
              "      <th>1</th>\n",
              "      <td>0.0</td>\n",
              "      <td>0.0</td>\n",
              "      <td>0.0</td>\n",
              "      <td>1.0</td>\n",
              "      <td>0.0</td>\n",
              "      <td>3.897183</td>\n",
              "      <td>4.142254</td>\n",
              "      <td>1.0</td>\n",
              "      <td>0.0</td>\n",
              "      <td>0.0</td>\n",
              "      <td>6.60</td>\n",
              "      <td>3.445286</td>\n",
              "      <td>4.0</td>\n",
              "      <td>2.0</td>\n",
              "      <td>3.551215</td>\n",
              "      <td>4.0</td>\n",
              "      <td>3.52887</td>\n",
              "      <td>4.6</td>\n",
              "      <td>4.2</td>\n",
              "      <td>3.75</td>\n",
              "      <td>5.0</td>\n",
              "    </tr>\n",
              "    <tr>\n",
              "      <th>2</th>\n",
              "      <td>0.0</td>\n",
              "      <td>0.0</td>\n",
              "      <td>0.0</td>\n",
              "      <td>1.0</td>\n",
              "      <td>0.0</td>\n",
              "      <td>3.897183</td>\n",
              "      <td>4.142254</td>\n",
              "      <td>1.0</td>\n",
              "      <td>0.0</td>\n",
              "      <td>0.0</td>\n",
              "      <td>8.50</td>\n",
              "      <td>3.900000</td>\n",
              "      <td>3.0</td>\n",
              "      <td>4.5</td>\n",
              "      <td>4.100000</td>\n",
              "      <td>3.0</td>\n",
              "      <td>3.70000</td>\n",
              "      <td>4.0</td>\n",
              "      <td>4.3</td>\n",
              "      <td>4.20</td>\n",
              "      <td>5.0</td>\n",
              "    </tr>\n",
              "    <tr>\n",
              "      <th>3</th>\n",
              "      <td>0.0</td>\n",
              "      <td>0.0</td>\n",
              "      <td>0.0</td>\n",
              "      <td>1.0</td>\n",
              "      <td>0.0</td>\n",
              "      <td>3.897183</td>\n",
              "      <td>4.142254</td>\n",
              "      <td>1.0</td>\n",
              "      <td>0.0</td>\n",
              "      <td>0.0</td>\n",
              "      <td>7.90</td>\n",
              "      <td>4.000000</td>\n",
              "      <td>3.5</td>\n",
              "      <td>4.0</td>\n",
              "      <td>4.000000</td>\n",
              "      <td>3.0</td>\n",
              "      <td>4.00000</td>\n",
              "      <td>4.5</td>\n",
              "      <td>4.0</td>\n",
              "      <td>3.80</td>\n",
              "      <td>4.8</td>\n",
              "    </tr>\n",
              "    <tr>\n",
              "      <th>4</th>\n",
              "      <td>0.0</td>\n",
              "      <td>0.0</td>\n",
              "      <td>0.0</td>\n",
              "      <td>1.0</td>\n",
              "      <td>0.0</td>\n",
              "      <td>3.897183</td>\n",
              "      <td>4.142254</td>\n",
              "      <td>1.0</td>\n",
              "      <td>0.0</td>\n",
              "      <td>0.0</td>\n",
              "      <td>4.99</td>\n",
              "      <td>3.500000</td>\n",
              "      <td>2.5</td>\n",
              "      <td>4.5</td>\n",
              "      <td>3.000000</td>\n",
              "      <td>2.5</td>\n",
              "      <td>3.00000</td>\n",
              "      <td>3.0</td>\n",
              "      <td>2.0</td>\n",
              "      <td>2.00</td>\n",
              "      <td>4.0</td>\n",
              "    </tr>\n",
              "    <tr>\n",
              "      <th>...</th>\n",
              "      <td>...</td>\n",
              "      <td>...</td>\n",
              "      <td>...</td>\n",
              "      <td>...</td>\n",
              "      <td>...</td>\n",
              "      <td>...</td>\n",
              "      <td>...</td>\n",
              "      <td>...</td>\n",
              "      <td>...</td>\n",
              "      <td>...</td>\n",
              "      <td>...</td>\n",
              "      <td>...</td>\n",
              "      <td>...</td>\n",
              "      <td>...</td>\n",
              "      <td>...</td>\n",
              "      <td>...</td>\n",
              "      <td>...</td>\n",
              "      <td>...</td>\n",
              "      <td>...</td>\n",
              "      <td>...</td>\n",
              "      <td>...</td>\n",
              "    </tr>\n",
              "    <tr>\n",
              "      <th>80</th>\n",
              "      <td>1.0</td>\n",
              "      <td>0.0</td>\n",
              "      <td>0.0</td>\n",
              "      <td>0.0</td>\n",
              "      <td>0.0</td>\n",
              "      <td>3.897183</td>\n",
              "      <td>4.142254</td>\n",
              "      <td>1.0</td>\n",
              "      <td>0.0</td>\n",
              "      <td>0.0</td>\n",
              "      <td>6.85</td>\n",
              "      <td>3.500000</td>\n",
              "      <td>3.0</td>\n",
              "      <td>4.5</td>\n",
              "      <td>3.800000</td>\n",
              "      <td>3.8</td>\n",
              "      <td>4.00000</td>\n",
              "      <td>3.5</td>\n",
              "      <td>3.5</td>\n",
              "      <td>4.00</td>\n",
              "      <td>3.0</td>\n",
              "    </tr>\n",
              "    <tr>\n",
              "      <th>81</th>\n",
              "      <td>1.0</td>\n",
              "      <td>0.0</td>\n",
              "      <td>0.0</td>\n",
              "      <td>0.0</td>\n",
              "      <td>0.0</td>\n",
              "      <td>3.897183</td>\n",
              "      <td>4.142254</td>\n",
              "      <td>1.0</td>\n",
              "      <td>0.0</td>\n",
              "      <td>0.0</td>\n",
              "      <td>6.85</td>\n",
              "      <td>3.500000</td>\n",
              "      <td>3.0</td>\n",
              "      <td>4.5</td>\n",
              "      <td>4.000000</td>\n",
              "      <td>4.0</td>\n",
              "      <td>4.50000</td>\n",
              "      <td>3.0</td>\n",
              "      <td>4.0</td>\n",
              "      <td>4.00</td>\n",
              "      <td>3.5</td>\n",
              "    </tr>\n",
              "    <tr>\n",
              "      <th>82</th>\n",
              "      <td>0.0</td>\n",
              "      <td>0.0</td>\n",
              "      <td>0.0</td>\n",
              "      <td>1.0</td>\n",
              "      <td>0.0</td>\n",
              "      <td>4.000000</td>\n",
              "      <td>4.500000</td>\n",
              "      <td>0.0</td>\n",
              "      <td>0.0</td>\n",
              "      <td>0.0</td>\n",
              "      <td>11.50</td>\n",
              "      <td>3.500000</td>\n",
              "      <td>2.0</td>\n",
              "      <td>2.0</td>\n",
              "      <td>4.000000</td>\n",
              "      <td>3.5</td>\n",
              "      <td>3.00000</td>\n",
              "      <td>4.5</td>\n",
              "      <td>3.5</td>\n",
              "      <td>4.00</td>\n",
              "      <td>2.0</td>\n",
              "    </tr>\n",
              "    <tr>\n",
              "      <th>83</th>\n",
              "      <td>1.0</td>\n",
              "      <td>0.0</td>\n",
              "      <td>0.0</td>\n",
              "      <td>0.0</td>\n",
              "      <td>0.0</td>\n",
              "      <td>3.897183</td>\n",
              "      <td>4.142254</td>\n",
              "      <td>1.0</td>\n",
              "      <td>0.0</td>\n",
              "      <td>0.0</td>\n",
              "      <td>7.89</td>\n",
              "      <td>4.000000</td>\n",
              "      <td>4.0</td>\n",
              "      <td>3.0</td>\n",
              "      <td>4.000000</td>\n",
              "      <td>4.0</td>\n",
              "      <td>3.00000</td>\n",
              "      <td>4.0</td>\n",
              "      <td>3.5</td>\n",
              "      <td>4.30</td>\n",
              "      <td>4.5</td>\n",
              "    </tr>\n",
              "    <tr>\n",
              "      <th>84</th>\n",
              "      <td>1.0</td>\n",
              "      <td>0.0</td>\n",
              "      <td>0.0</td>\n",
              "      <td>0.0</td>\n",
              "      <td>0.0</td>\n",
              "      <td>3.897183</td>\n",
              "      <td>4.142254</td>\n",
              "      <td>1.0</td>\n",
              "      <td>0.0</td>\n",
              "      <td>0.0</td>\n",
              "      <td>7.89</td>\n",
              "      <td>5.000000</td>\n",
              "      <td>5.0</td>\n",
              "      <td>5.0</td>\n",
              "      <td>5.000000</td>\n",
              "      <td>5.0</td>\n",
              "      <td>4.00000</td>\n",
              "      <td>4.0</td>\n",
              "      <td>5.0</td>\n",
              "      <td>5.00</td>\n",
              "      <td>3.0</td>\n",
              "    </tr>\n",
              "  </tbody>\n",
              "</table>\n",
              "<p>85 rows × 21 columns</p>\n",
              "</div>"
            ],
            "text/plain": [
              "    Burrito_California  Burrito_Carnitas  Burrito_Asada  ...  Salsa  Synergy  Wrap\n",
              "0                  1.0               0.0            0.0  ...    1.5     3.50   4.5\n",
              "1                  0.0               0.0            0.0  ...    4.2     3.75   5.0\n",
              "2                  0.0               0.0            0.0  ...    4.3     4.20   5.0\n",
              "3                  0.0               0.0            0.0  ...    4.0     3.80   4.8\n",
              "4                  0.0               0.0            0.0  ...    2.0     2.00   4.0\n",
              "..                 ...               ...            ...  ...    ...      ...   ...\n",
              "80                 1.0               0.0            0.0  ...    3.5     4.00   3.0\n",
              "81                 1.0               0.0            0.0  ...    4.0     4.00   3.5\n",
              "82                 0.0               0.0            0.0  ...    3.5     4.00   2.0\n",
              "83                 1.0               0.0            0.0  ...    3.5     4.30   4.5\n",
              "84                 1.0               0.0            0.0  ...    5.0     5.00   3.0\n",
              "\n",
              "[85 rows x 21 columns]"
            ]
          },
          "metadata": {
            "tags": []
          },
          "execution_count": 63
        }
      ]
    },
    {
      "cell_type": "code",
      "metadata": {
        "id": "nA7HM_mZ2Wg3",
        "colab_type": "code",
        "colab": {}
      },
      "source": [
        "#  Stretch goals - Feature scaling using standard scaler"
      ],
      "execution_count": 0,
      "outputs": []
    },
    {
      "cell_type": "code",
      "metadata": {
        "id": "bPnCdtATykc1",
        "colab_type": "code",
        "colab": {}
      },
      "source": [
        "scaler = StandardScaler()\n",
        "X_train_sc = scaler.fit_transform(X_train_imp)\n",
        "X_val_sc = scaler.transform(X_val_imp)"
      ],
      "execution_count": 0,
      "outputs": []
    },
    {
      "cell_type": "code",
      "metadata": {
        "id": "D2WBx-R71WtL",
        "colab_type": "code",
        "colab": {}
      },
      "source": [
        "# Standard scaler retuns ndarray therefore converting to df\n",
        "\n",
        "X_train_sc = pd.DataFrame(X_train_sc, columns=X_train_enc.columns)\n",
        "X_val_sc = pd.DataFrame(X_val_sc, columns = X_val_enc.columns)"
      ],
      "execution_count": 0,
      "outputs": []
    },
    {
      "cell_type": "code",
      "metadata": {
        "id": "gARP9nxp1aMN",
        "colab_type": "code",
        "colab": {
          "base_uri": "https://localhost:8080/",
          "height": 241
        },
        "outputId": "f99a618e-1da1-41cd-c729-739c9b792cd1"
      },
      "source": [
        "X_train_sc.head()"
      ],
      "execution_count": 66,
      "outputs": [
        {
          "output_type": "execute_result",
          "data": {
            "text/html": [
              "<div>\n",
              "<style scoped>\n",
              "    .dataframe tbody tr th:only-of-type {\n",
              "        vertical-align: middle;\n",
              "    }\n",
              "\n",
              "    .dataframe tbody tr th {\n",
              "        vertical-align: top;\n",
              "    }\n",
              "\n",
              "    .dataframe thead th {\n",
              "        text-align: right;\n",
              "    }\n",
              "</style>\n",
              "<table border=\"1\" class=\"dataframe\">\n",
              "  <thead>\n",
              "    <tr style=\"text-align: right;\">\n",
              "      <th></th>\n",
              "      <th>Burrito_California</th>\n",
              "      <th>Burrito_Carnitas</th>\n",
              "      <th>Burrito_Asada</th>\n",
              "      <th>Burrito_Other</th>\n",
              "      <th>Burrito_Surf &amp; Turf</th>\n",
              "      <th>Yelp</th>\n",
              "      <th>Google</th>\n",
              "      <th>Chips_nan</th>\n",
              "      <th>Chips_x</th>\n",
              "      <th>Chips_X</th>\n",
              "      <th>Cost</th>\n",
              "      <th>Hunger</th>\n",
              "      <th>Tortilla</th>\n",
              "      <th>Temp</th>\n",
              "      <th>Meat</th>\n",
              "      <th>Fillings</th>\n",
              "      <th>Meat:filling</th>\n",
              "      <th>Uniformity</th>\n",
              "      <th>Salsa</th>\n",
              "      <th>Synergy</th>\n",
              "      <th>Wrap</th>\n",
              "    </tr>\n",
              "  </thead>\n",
              "  <tbody>\n",
              "    <tr>\n",
              "      <th>0</th>\n",
              "      <td>1.235080</td>\n",
              "      <td>-0.222027</td>\n",
              "      <td>-0.364801</td>\n",
              "      <td>-0.764922</td>\n",
              "      <td>-0.27534</td>\n",
              "      <td>-1.712002e+00</td>\n",
              "      <td>3.205145e-01</td>\n",
              "      <td>0.282330</td>\n",
              "      <td>-0.260960</td>\n",
              "      <td>-0.100844</td>\n",
              "      <td>-0.339805</td>\n",
              "      <td>-0.524307</td>\n",
              "      <td>-0.593162</td>\n",
              "      <td>1.340696</td>\n",
              "      <td>-0.645992</td>\n",
              "      <td>-0.022447</td>\n",
              "      <td>0.458224</td>\n",
              "      <td>0.557478</td>\n",
              "      <td>0.721245</td>\n",
              "      <td>0.500993</td>\n",
              "      <td>0.038686</td>\n",
              "    </tr>\n",
              "    <tr>\n",
              "      <th>1</th>\n",
              "      <td>1.235080</td>\n",
              "      <td>-0.222027</td>\n",
              "      <td>-0.364801</td>\n",
              "      <td>-0.764922</td>\n",
              "      <td>-0.27534</td>\n",
              "      <td>-1.712002e+00</td>\n",
              "      <td>-4.674821e+00</td>\n",
              "      <td>0.282330</td>\n",
              "      <td>-0.260960</td>\n",
              "      <td>-0.100844</td>\n",
              "      <td>-1.208571</td>\n",
              "      <td>0.064423</td>\n",
              "      <td>-1.849023</td>\n",
              "      <td>-0.213867</td>\n",
              "      <td>-1.231964</td>\n",
              "      <td>-1.202403</td>\n",
              "      <td>-1.486989</td>\n",
              "      <td>0.557478</td>\n",
              "      <td>0.187274</td>\n",
              "      <td>-1.133401</td>\n",
              "      <td>0.899679</td>\n",
              "    </tr>\n",
              "    <tr>\n",
              "      <th>2</th>\n",
              "      <td>-0.809664</td>\n",
              "      <td>4.503967</td>\n",
              "      <td>-0.364801</td>\n",
              "      <td>-0.764922</td>\n",
              "      <td>-0.27534</td>\n",
              "      <td>1.914185e-15</td>\n",
              "      <td>-4.929721e-15</td>\n",
              "      <td>0.282330</td>\n",
              "      <td>-0.260960</td>\n",
              "      <td>-0.100844</td>\n",
              "      <td>-1.709783</td>\n",
              "      <td>-2.290496</td>\n",
              "      <td>-0.593162</td>\n",
              "      <td>-1.768429</td>\n",
              "      <td>-1.231964</td>\n",
              "      <td>-0.612425</td>\n",
              "      <td>0.944528</td>\n",
              "      <td>0.557478</td>\n",
              "      <td>-0.346697</td>\n",
              "      <td>-0.588603</td>\n",
              "      <td>0.899679</td>\n",
              "    </tr>\n",
              "    <tr>\n",
              "      <th>3</th>\n",
              "      <td>-0.809664</td>\n",
              "      <td>-0.222027</td>\n",
              "      <td>2.741220</td>\n",
              "      <td>-0.764922</td>\n",
              "      <td>-0.27534</td>\n",
              "      <td>1.914185e-15</td>\n",
              "      <td>-4.929721e-15</td>\n",
              "      <td>0.282330</td>\n",
              "      <td>-0.260960</td>\n",
              "      <td>-0.100844</td>\n",
              "      <td>-1.375642</td>\n",
              "      <td>-1.701766</td>\n",
              "      <td>-0.593162</td>\n",
              "      <td>-1.768429</td>\n",
              "      <td>-0.060021</td>\n",
              "      <td>-0.612425</td>\n",
              "      <td>0.458224</td>\n",
              "      <td>1.480371</td>\n",
              "      <td>0.721245</td>\n",
              "      <td>0.500993</td>\n",
              "      <td>0.899679</td>\n",
              "    </tr>\n",
              "    <tr>\n",
              "      <th>4</th>\n",
              "      <td>1.235080</td>\n",
              "      <td>-0.222027</td>\n",
              "      <td>-0.364801</td>\n",
              "      <td>-0.764922</td>\n",
              "      <td>-0.27534</td>\n",
              "      <td>4.431779e-01</td>\n",
              "      <td>-1.899635e+00</td>\n",
              "      <td>-3.541956</td>\n",
              "      <td>3.831998</td>\n",
              "      <td>-0.100844</td>\n",
              "      <td>-0.256270</td>\n",
              "      <td>0.653153</td>\n",
              "      <td>0.662698</td>\n",
              "      <td>1.340696</td>\n",
              "      <td>0.525950</td>\n",
              "      <td>-0.022447</td>\n",
              "      <td>0.944528</td>\n",
              "      <td>1.480371</td>\n",
              "      <td>-0.880668</td>\n",
              "      <td>1.045791</td>\n",
              "      <td>0.038686</td>\n",
              "    </tr>\n",
              "  </tbody>\n",
              "</table>\n",
              "</div>"
            ],
            "text/plain": [
              "   Burrito_California  Burrito_Carnitas  ...   Synergy      Wrap\n",
              "0            1.235080         -0.222027  ...  0.500993  0.038686\n",
              "1            1.235080         -0.222027  ... -1.133401  0.899679\n",
              "2           -0.809664          4.503967  ... -0.588603  0.899679\n",
              "3           -0.809664         -0.222027  ...  0.500993  0.899679\n",
              "4            1.235080         -0.222027  ...  1.045791  0.038686\n",
              "\n",
              "[5 rows x 21 columns]"
            ]
          },
          "metadata": {
            "tags": []
          },
          "execution_count": 66
        }
      ]
    },
    {
      "cell_type": "markdown",
      "metadata": {
        "id": "d2nwgvos3klD",
        "colab_type": "text"
      },
      "source": [
        "##Logistic regression CV\n"
      ]
    },
    {
      "cell_type": "code",
      "metadata": {
        "id": "NXfu2Oew1e1b",
        "colab_type": "code",
        "colab": {
          "base_uri": "https://localhost:8080/",
          "height": 102
        },
        "outputId": "1db3d9e3-2c3b-4edd-96fd-248f7d36ab84"
      },
      "source": [
        "model = LogisticRegressionCV()\n",
        "model.fit(X_train_sc, y_train)"
      ],
      "execution_count": 99,
      "outputs": [
        {
          "output_type": "execute_result",
          "data": {
            "text/plain": [
              "LogisticRegressionCV(Cs=10, class_weight=None, cv=None, dual=False,\n",
              "                     fit_intercept=True, intercept_scaling=1.0, l1_ratios=None,\n",
              "                     max_iter=100, multi_class='auto', n_jobs=None,\n",
              "                     penalty='l2', random_state=None, refit=True, scoring=None,\n",
              "                     solver='lbfgs', tol=0.0001, verbose=0)"
            ]
          },
          "metadata": {
            "tags": []
          },
          "execution_count": 99
        }
      ]
    },
    {
      "cell_type": "code",
      "metadata": {
        "id": "fh4wx4ea1hzb",
        "colab_type": "code",
        "colab": {
          "base_uri": "https://localhost:8080/",
          "height": 34
        },
        "outputId": "40fdf72a-4c2b-4c3d-b1c1-56f42e7d2f09"
      },
      "source": [
        "print(f'Validation score: {model.score(X_val_sc, y_val)}')"
      ],
      "execution_count": 100,
      "outputs": [
        {
          "output_type": "stream",
          "text": [
            "Validation score: 0.8705882352941177\n"
          ],
          "name": "stdout"
        }
      ]
    },
    {
      "cell_type": "code",
      "metadata": {
        "id": "dom3fopHXDcH",
        "colab_type": "code",
        "colab": {
          "base_uri": "https://localhost:8080/",
          "height": 34
        },
        "outputId": "7edf632b-7a34-4c80-be74-328a89d11360"
      },
      "source": [
        "# testing with Cs=9\n",
        "model = LogisticRegressionCV(Cs=9)\n",
        "model.fit(X_train_sc, y_train)\n",
        "print(f'Validation score: {model.score(X_val_sc, y_val)}')"
      ],
      "execution_count": 102,
      "outputs": [
        {
          "output_type": "stream",
          "text": [
            "Validation score: 0.8823529411764706\n"
          ],
          "name": "stdout"
        }
      ]
    },
    {
      "cell_type": "markdown",
      "metadata": {
        "id": "gncjBOWk1t9D",
        "colab_type": "text"
      },
      "source": [
        "#Stretch Goals"
      ]
    },
    {
      "cell_type": "markdown",
      "metadata": {
        "id": "RMF684_y1vjL",
        "colab_type": "text"
      },
      "source": [
        "##1)Plot coefficients:"
      ]
    },
    {
      "cell_type": "code",
      "metadata": {
        "id": "s3ILfQOT1znJ",
        "colab_type": "code",
        "colab": {
          "base_uri": "https://localhost:8080/",
          "height": 391
        },
        "outputId": "c082a85e-bbec-43b9-dfb6-a181e495a261"
      },
      "source": [
        "coefs = pd.Series(model.coef_[0], X_train_sc.columns)\n",
        "coefs"
      ],
      "execution_count": 69,
      "outputs": [
        {
          "output_type": "execute_result",
          "data": {
            "text/plain": [
              "Burrito_California     0.137943\n",
              "Burrito_Carnitas       0.022991\n",
              "Burrito_Asada         -0.006121\n",
              "Burrito_Other         -0.084952\n",
              "Burrito_Surf & Turf   -0.114720\n",
              "Yelp                   0.096825\n",
              "Google                -0.003336\n",
              "Chips_nan              0.005029\n",
              "Chips_x               -0.007554\n",
              "Chips_X                0.005316\n",
              "Cost                   0.220811\n",
              "Hunger                 0.104332\n",
              "Tortilla               0.320757\n",
              "Temp                   0.271194\n",
              "Meat                   0.582954\n",
              "Fillings               0.567975\n",
              "Meat:filling           0.499896\n",
              "Uniformity             0.184430\n",
              "Salsa                  0.251758\n",
              "Synergy                0.667542\n",
              "Wrap                   0.072903\n",
              "dtype: float64"
            ]
          },
          "metadata": {
            "tags": []
          },
          "execution_count": 69
        }
      ]
    },
    {
      "cell_type": "code",
      "metadata": {
        "id": "BMZVqvIe2AuD",
        "colab_type": "code",
        "colab": {
          "base_uri": "https://localhost:8080/",
          "height": 282
        },
        "outputId": "3c021ca5-a6f1-455f-abe8-1ef4a0a87f5e"
      },
      "source": [
        "coefs.sort_values().plot.barh()"
      ],
      "execution_count": 70,
      "outputs": [
        {
          "output_type": "execute_result",
          "data": {
            "text/plain": [
              "<matplotlib.axes._subplots.AxesSubplot at 0x7f74e6f63898>"
            ]
          },
          "metadata": {
            "tags": []
          },
          "execution_count": 70
        },
        {
          "output_type": "display_data",
          "data": {
            "image/png": "[encoded data removed]",
            "text/plain": [
              "<Figure size 432x288 with 1 Axes>"
            ]
          },
          "metadata": {
            "tags": []
          }
        }
      ]
    },
    {
      "cell_type": "markdown",
      "metadata": {
        "id": "0Rh1kkcvQYCS",
        "colab_type": "text"
      },
      "source": [
        "###Test Accuracy"
      ]
    },
    {
      "cell_type": "code",
      "metadata": {
        "id": "FF14dc5aHSvA",
        "colab_type": "code",
        "colab": {
          "base_uri": "https://localhost:8080/",
          "height": 1000
        },
        "outputId": "9b8e7da0-61fa-4294-d7a0-a8ed019a1aa6"
      },
      "source": [
        "X_test = test[features]\n",
        "X_test_enc = encoder.transform(X_test)\n",
        "X_test_imp = imputer.transform(X_test_enc)\n",
        "X_test_scaled = scaler.transform(X_test_imp)\n",
        "X_test_scaled"
      ],
      "execution_count": 77,
      "outputs": [
        {
          "output_type": "execute_result",
          "data": {
            "text/plain": [
              "array([[ 1.23508045e+00, -2.22026518e-01, -3.64801107e-01,\n",
              "        -7.64922469e-01, -2.75340288e-01,  1.91418451e-15,\n",
              "        -4.92972144e-15,  2.82329851e-01, -2.60960454e-01,\n",
              "        -1.00843897e-01,  9.21576515e-01,  6.53153184e-01,\n",
              "         1.29062863e+00,  1.34069563e+00,  1.69789203e+00,\n",
              "         1.74748664e+00,  9.44527829e-01,  1.48037108e+00,\n",
              "        -3.46697110e-01,  1.59058956e+00,  8.99678662e-01],\n",
              "       [ 1.23508045e+00, -2.22026518e-01, -3.64801107e-01,\n",
              "        -7.64922469e-01, -2.75340288e-01,  1.91418451e-15,\n",
              "        -4.92972144e-15,  2.82329851e-01, -2.60960454e-01,\n",
              "        -1.00843897e-01,  2.95062401e-01,  6.53153184e-01,\n",
              "         6.62698293e-01,  1.34069563e+00,  5.25949777e-01,\n",
              "         1.74748664e+00,  1.43083126e+00, -3.65415944e-01,\n",
              "        -3.46697110e-01,  5.00993379e-01,  8.99678662e-01],\n",
              "       [-8.09663853e-01, -2.22026518e-01, -3.64801107e-01,\n",
              "         1.30732204e+00, -2.75340288e-01,  2.59835806e+00,\n",
              "        -1.89963467e+00,  2.82329851e-01, -2.60960454e-01,\n",
              "        -1.00843897e-01, -2.26111518e+00, -5.24306577e-01,\n",
              "        -5.93162383e-01,  1.34069563e+00, -1.81793472e+00,\n",
              "        -1.79238058e+00,  4.58224401e-01, -2.21120297e+00,\n",
              "         7.21245234e-01, -5.88602801e-01,  3.86864734e-02],\n",
              "       [ 1.23508045e+00, -2.22026518e-01, -3.64801107e-01,\n",
              "        -7.64922469e-01, -2.75340288e-01, -1.71200227e+00,\n",
              "         8.75551784e-01,  2.82329851e-01, -2.60960454e-01,\n",
              "        -1.00843897e-01,  8.62243625e-02,  1.83061294e+00,\n",
              "         1.91855897e+00,  1.34069563e+00,  1.69789203e+00,\n",
              "         1.74748664e+00,  1.43083126e+00,  1.48037108e+00,\n",
              "         7.21245234e-01,  1.59058956e+00,  8.99678662e-01],\n",
              "       [-8.09663853e-01, -2.22026518e-01, -3.64801107e-01,\n",
              "         1.30732204e+00, -2.75340288e-01,  1.91418451e-15,\n",
              "        -4.92972144e-15,  2.82329851e-01, -2.60960454e-01,\n",
              "        -1.00843897e-01,  1.33925259e+00,  6.53153184e-01,\n",
              "         6.62698293e-01,  3.04320697e-01, -6.45992473e-01,\n",
              "        -2.24469694e-02, -2.45959617e+00, -1.28830946e+00,\n",
              "        -3.46697110e-01, -5.88602801e-01, -2.54429009e+00],\n",
              "       [-8.09663853e-01, -2.22026518e-01,  2.74121975e+00,\n",
              "        -7.64922469e-01, -2.75340288e-01,  1.91418451e-15,\n",
              "        -4.92972144e-15,  2.82329851e-01, -2.60960454e-01,\n",
              "        -1.00843897e-01,  2.53294793e-01, -5.24306577e-01,\n",
              "         6.62698293e-01,  1.34069563e+00,  5.25949777e-01,\n",
              "        -6.12424838e-01, -5.14382455e-01, -3.65415944e-01,\n",
              "         7.21245234e-01, -5.88602801e-01,  3.86864734e-02],\n",
              "       [-8.09663853e-01,  4.50396651e+00, -3.64801107e-01,\n",
              "        -7.64922469e-01, -2.75340288e-01,  1.91418451e-15,\n",
              "        -4.92972144e-15,  2.82329851e-01, -2.60960454e-01,\n",
              "        -1.00843897e-01, -7.57481311e-01, -5.24306577e-01,\n",
              "         3.47679550e-02,  1.34069563e+00,  8.77532452e-01,\n",
              "        -2.24469694e-02,  1.43083126e+00,  5.57477567e-01,\n",
              "        -3.46697110e-01,  2.83074143e-01, -1.68329790e+00],\n",
              "       [-8.09663853e-01,  4.50396651e+00, -3.64801107e-01,\n",
              "        -7.64922469e-01, -2.75340288e-01,  1.91418451e-15,\n",
              "        -4.92972144e-15,  2.82329851e-01, -2.60960454e-01,\n",
              "        -1.00843897e-01, -7.57481311e-01,  6.44233034e-02,\n",
              "         6.62698293e-01,  8.22508165e-01,  1.69789203e+00,\n",
              "         1.15750877e+00,  1.43083126e+00,  5.57477567e-01,\n",
              "         7.21245234e-01,  1.04579147e+00,  3.86864734e-02],\n",
              "       [-8.09663853e-01,  4.50396651e+00, -3.64801107e-01,\n",
              "        -7.64922469e-01, -2.75340288e-01,  1.91418451e-15,\n",
              "        -4.92972144e-15,  2.82329851e-01, -2.60960454e-01,\n",
              "        -1.00843897e-01, -7.57481311e-01, -1.70176634e+00,\n",
              "        -1.84902306e+00, -2.13866771e-01,  1.11192090e+00,\n",
              "         5.67530899e-01,  4.58224401e-01, -1.28830946e+00,\n",
              "        -3.46697110e-01,  5.00993379e-01, -1.68329790e+00],\n",
              "       [ 1.23508045e+00, -2.22026518e-01, -3.64801107e-01,\n",
              "        -7.64922469e-01, -2.75340288e-01,  1.91418451e-15,\n",
              "        -4.92972144e-15,  2.82329851e-01, -2.60960454e-01,\n",
              "        -1.00843897e-01,  1.74857514e+00,  6.53153184e-01,\n",
              "         1.29062863e+00,  8.22508165e-01,  5.25949777e-01,\n",
              "         5.67530899e-01, -5.14382455e-01,  5.57477567e-01,\n",
              "         1.87274062e-01,  5.00993379e-01, -8.22305716e-01],\n",
              "       [ 1.23508045e+00, -2.22026518e-01, -3.64801107e-01,\n",
              "        -7.64922469e-01, -2.75340288e-01,  1.91418451e-15,\n",
              "        -4.92972144e-15,  2.82329851e-01, -2.60960454e-01,\n",
              "        -1.00843897e-01,  1.74857514e+00,  6.53153184e-01,\n",
              "         1.29062863e+00,  1.34069563e+00, -6.00213478e-02,\n",
              "         5.67530899e-01,  4.58224401e-01,  5.57477567e-01,\n",
              "         0.00000000e+00, -1.13340089e+00, -2.11379400e+00],\n",
              "       [-8.09663853e-01, -2.22026518e-01, -3.64801107e-01,\n",
              "         1.30732204e+00, -2.75340288e-01,  1.91418451e-15,\n",
              "        -4.92972144e-15,  2.82329851e-01, -2.60960454e-01,\n",
              "        -1.00843897e-01, -7.57481311e-01,  6.44233034e-02,\n",
              "         6.62698293e-01,  8.22508165e-01, -6.00213478e-02,\n",
              "        -6.12424838e-01,  9.44527829e-01, -3.65415944e-01,\n",
              "        -3.46697110e-01, -1.13340089e+00, -1.25280181e+00],\n",
              "       [-8.09663853e-01, -2.22026518e-01, -3.64801107e-01,\n",
              "         1.30732204e+00, -2.75340288e-01,  1.91418451e-15,\n",
              "        -4.92972144e-15,  2.82329851e-01, -2.60960454e-01,\n",
              "        -1.00843897e-01,  5.03900439e-01,  6.53153184e-01,\n",
              "         6.62698293e-01,  3.04320697e-01, -6.00213478e-02,\n",
              "         8.03522047e-01,  9.44527829e-01,  8.34345620e-01,\n",
              "        -3.46697110e-01,  5.00993379e-01,  4.69182568e-01],\n",
              "       [-8.09663853e-01,  4.50396651e+00, -3.64801107e-01,\n",
              "        -7.64922469e-01, -2.75340288e-01,  1.91418451e-15,\n",
              "        -4.92972144e-15,  2.82329851e-01, -2.60960454e-01,\n",
              "        -1.00843897e-01, -7.57481311e-01, -5.24306577e-01,\n",
              "        -1.84902306e+00,  1.34069563e+00,  1.11192090e+00,\n",
              "        -2.24469694e-02,  9.44527829e-01,  1.01892432e+00,\n",
              "        -8.80668281e-01, -4.38047113e-02, -2.11379400e+00],\n",
              "       [-8.09663853e-01,  4.50396651e+00, -3.64801107e-01,\n",
              "        -7.64922469e-01, -2.75340288e-01,  1.91418451e-15,\n",
              "        -4.92972144e-15,  2.82329851e-01, -2.60960454e-01,\n",
              "        -1.00843897e-01, -7.57481311e-01,  1.83061294e+00,\n",
              "         6.62698293e-01,  8.22508165e-01, -6.00213478e-02,\n",
              "         5.67530899e-01,  4.58224401e-01,  9.60308113e-02,\n",
              "         7.21245234e-01,  5.00993379e-01, -3.91809621e-01],\n",
              "       [ 1.23508045e+00, -2.22026518e-01, -3.64801107e-01,\n",
              "        -7.64922469e-01, -2.75340288e-01, -1.71200227e+00,\n",
              "        -1.89963467e+00, -3.54195632e+00, -2.60960454e-01,\n",
              "        -1.00843897e-01,  1.33925259e+00, -2.88814625e-01,\n",
              "         4.11526158e-01,  3.04320697e-01,  5.25949777e-01,\n",
              "         5.67530899e-01,  2.63703030e-01,  3.74146018e-03,\n",
              "         1.04162794e+00,  5.00993379e-01,  8.99678662e-01],\n",
              "       [-8.09663853e-01, -2.22026518e-01, -3.64801107e-01,\n",
              "        -7.64922469e-01,  3.63186952e+00,  1.91418451e-15,\n",
              "        -4.92972144e-15,  2.82329851e-01, -2.60960454e-01,\n",
              "        -1.00843897e-01,  2.17460474e+00, -5.24306577e-01,\n",
              "         3.47679550e-02, -7.32054239e-01,  2.91561327e-01,\n",
              "         5.67530899e-01,  2.63703030e-01,  1.01892432e+00,\n",
              "         1.25521641e+00,  5.00993379e-01,  8.99678662e-01],\n",
              "       [ 1.23508045e+00, -2.22026518e-01, -3.64801107e-01,\n",
              "        -7.64922469e-01, -2.75340288e-01,  1.91418451e-15,\n",
              "        -4.92972144e-15,  2.82329851e-01, -2.60960454e-01,\n",
              "        -1.00843897e-01,  1.33925259e+00, -2.88814625e-01,\n",
              "         3.47679550e-02, -2.80480411e+00, -6.45992473e-01,\n",
              "        -6.12424838e-01, -1.25339712e-01,  5.57477567e-01,\n",
              "         1.25521641e+00, -5.88602801e-01,  3.86864734e-02],\n",
              "       [ 1.23508045e+00, -2.22026518e-01, -3.64801107e-01,\n",
              "        -7.64922469e-01, -2.75340288e-01,  1.91418451e-15,\n",
              "        -4.92972144e-15,  2.82329851e-01, -2.60960454e-01,\n",
              "        -1.00843897e-01,  1.33925259e+00, -5.24306577e-01,\n",
              "        -5.93162383e-01, -1.25024171e+00, -6.00213478e-02,\n",
              "        -6.12424838e-01, -2.45959617e+00, -2.21120297e+00,\n",
              "         7.21245234e-01, -4.38047113e-02,  8.99678662e-01],\n",
              "       [ 1.23508045e+00, -2.22026518e-01, -3.64801107e-01,\n",
              "        -7.64922469e-01, -2.75340288e-01,  1.91418451e-15,\n",
              "        -4.92972144e-15,  2.82329851e-01, -2.60960454e-01,\n",
              "        -1.00843897e-01,  7.78708410e-02,  6.53153184e-01,\n",
              "         3.47679550e-02, -7.32054239e-01, -4.11604023e-01,\n",
              "        -3.76433691e-01, -3.19861083e-01,  5.57477567e-01,\n",
              "        -3.46697110e-01, -1.13340089e+00,  4.69182568e-01],\n",
              "       [-8.09663853e-01,  4.50396651e+00, -3.64801107e-01,\n",
              "        -7.64922469e-01, -2.75340288e-01,  1.91418451e-15,\n",
              "        -4.92972144e-15,  2.82329851e-01, -2.60960454e-01,\n",
              "        -1.00843897e-01, -7.57481311e-01,  6.44233034e-02,\n",
              "        -1.22109272e+00, -7.32054239e-01,  5.25949777e-01,\n",
              "        -2.24469694e-02, -1.00068588e+00, -8.26862700e-01,\n",
              "        -2.63144067e-02, -5.88602801e-01,  3.86864734e-02],\n",
              "       [-8.09663853e-01,  4.50396651e+00, -3.64801107e-01,\n",
              "        -7.64922469e-01, -2.75340288e-01,  1.91418451e-15,\n",
              "        -4.92972144e-15,  2.82329851e-01, -2.60960454e-01,\n",
              "        -1.00843897e-01, -7.57481311e-01,  6.44233034e-02,\n",
              "         6.62698293e-01,  3.04320697e-01,  1.11192090e+00,\n",
              "         5.67530899e-01,  9.44527829e-01,  1.48037108e+00,\n",
              "         7.21245234e-01,  5.00993379e-01,  0.00000000e+00],\n",
              "       [-8.09663853e-01, -2.22026518e-01, -3.64801107e-01,\n",
              "         1.30732204e+00, -2.75340288e-01,  1.91418451e-15,\n",
              "        -4.92972144e-15,  2.82329851e-01, -2.60960454e-01,\n",
              "        -1.00843897e-01,  2.58392730e+00,  1.83061294e+00,\n",
              "         6.62698293e-01,  3.04320697e-01, -6.45992473e-01,\n",
              "        -6.12424838e-01,  1.43083126e+00,  9.60308113e-02,\n",
              "         0.00000000e+00, -5.88602801e-01,  4.69182568e-01],\n",
              "       [-8.09663853e-01, -2.22026518e-01, -3.64801107e-01,\n",
              "         1.30732204e+00, -2.75340288e-01,  1.91418451e-15,\n",
              "        -4.92972144e-15,  2.82329851e-01, -2.60960454e-01,\n",
              "        -1.00843897e-01,  2.58392730e+00,  6.53153184e-01,\n",
              "         1.91855897e+00,  1.34069563e+00, -6.45992473e-01,\n",
              "        -6.12424838e-01,  4.58224401e-01,  5.57477567e-01,\n",
              "        -1.41463945e+00,  5.00993379e-01, -8.22305716e-01],\n",
              "       [-8.09663853e-01, -2.22026518e-01, -3.64801107e-01,\n",
              "         1.30732204e+00, -2.75340288e-01,  1.91418451e-15,\n",
              "        -4.92972144e-15,  2.82329851e-01, -2.60960454e-01,\n",
              "        -1.00843897e-01,  4.12011702e-01,  6.53153184e-01,\n",
              "         1.91855897e+00,  3.04320697e-01,  5.25949777e-01,\n",
              "        -6.12424838e-01,  4.58224401e-01,  1.48037108e+00,\n",
              "         7.21245234e-01,  5.00993379e-01,  8.99678662e-01],\n",
              "       [-8.09663853e-01, -2.22026518e-01, -3.64801107e-01,\n",
              "         1.30732204e+00, -2.75340288e-01,  1.91418451e-15,\n",
              "        -4.92972144e-15,  2.82329851e-01, -2.60960454e-01,\n",
              "        -1.00843897e-01,  4.12011702e-01,  1.24188306e+00,\n",
              "         3.47679550e-02,  8.22508165e-01,  5.25949777e-01,\n",
              "        -2.24469694e-02, -1.48698931e+00, -2.21120297e+00,\n",
              "         1.87274062e-01, -4.38047113e-02,  3.86864734e-02],\n",
              "       [-8.09663853e-01, -2.22026518e-01, -3.64801107e-01,\n",
              "         1.30732204e+00, -2.75340288e-01,  1.91418451e-15,\n",
              "        -4.92972144e-15,  2.82329851e-01, -2.60960454e-01,\n",
              "        -1.00843897e-01,  4.12011702e-01,  6.53153184e-01,\n",
              "        -5.93162383e-01,  1.34069563e+00, -5.20446908e-16,\n",
              "        -6.12424838e-01, -4.31924210e-16,  5.57477567e-01,\n",
              "         0.00000000e+00, -5.88602801e-01,  3.86864734e-02],\n",
              "       [ 1.23508045e+00, -2.22026518e-01, -3.64801107e-01,\n",
              "        -7.64922469e-01, -2.75340288e-01,  1.91418451e-15,\n",
              "        -4.92972144e-15,  2.82329851e-01, -2.60960454e-01,\n",
              "        -1.00843897e-01,  9.21576515e-01,  6.53153184e-01,\n",
              "         1.91855897e+00,  1.34069563e+00,  1.69789203e+00,\n",
              "         1.15750877e+00,  1.43083126e+00,  1.48037108e+00,\n",
              "         1.78918758e+00,  1.59058956e+00,  8.99678662e-01],\n",
              "       [ 1.23508045e+00, -2.22026518e-01, -3.64801107e-01,\n",
              "        -7.64922469e-01, -2.75340288e-01,  1.91418451e-15,\n",
              "        -4.92972144e-15,  2.82329851e-01, -2.60960454e-01,\n",
              "        -1.00843897e-01,  9.21576515e-01,  6.53153184e-01,\n",
              "         6.62698293e-01,  8.22508165e-01, -6.00213478e-02,\n",
              "         5.67530899e-01,  4.58224401e-01,  1.48037108e+00,\n",
              "         1.46880487e+00,  5.00993379e-01,  8.99678662e-01],\n",
              "       [-8.09663853e-01, -2.22026518e-01, -3.64801107e-01,\n",
              "         1.30732204e+00, -2.75340288e-01,  1.91418451e-15,\n",
              "        -4.92972144e-15,  2.82329851e-01, -2.60960454e-01,\n",
              "        -1.00843897e-01, -1.16680387e+00, -1.70176634e+00,\n",
              "         1.29062863e+00,  1.34069563e+00,  1.69789203e+00,\n",
              "        -2.24469694e-02,  4.58224401e-01,  1.01892432e+00,\n",
              "         7.21245234e-01,  1.48162994e+00,  4.69182568e-01],\n",
              "       [-8.09663853e-01, -2.22026518e-01,  2.74121975e+00,\n",
              "        -7.64922469e-01, -2.75340288e-01,  1.91418451e-15,\n",
              "        -4.92972144e-15,  2.82329851e-01, -2.60960454e-01,\n",
              "        -1.00843897e-01, -1.22613675e-01, -5.24306577e-01,\n",
              "        -5.93162383e-01,  3.04320697e-01,  5.25949777e-01,\n",
              "        -6.12424838e-01,  4.58224401e-01,  5.57477567e-01,\n",
              "        -3.46697110e-01, -5.88602801e-01,  8.99678662e-01],\n",
              "       [-8.09663853e-01, -2.22026518e-01, -3.64801107e-01,\n",
              "         1.30732204e+00, -2.75340288e-01,  1.91418451e-15,\n",
              "        -4.92972144e-15,  2.82329851e-01, -2.60960454e-01,\n",
              "        -1.00843897e-01, -7.49127789e-01, -5.24306577e-01,\n",
              "         6.62698293e-01,  3.04320697e-01,  1.11192090e+00,\n",
              "         5.67530899e-01, -5.14382455e-01, -3.65415944e-01,\n",
              "         1.25521641e+00,  5.00993379e-01,  4.69182568e-01],\n",
              "       [ 1.23508045e+00, -2.22026518e-01, -3.64801107e-01,\n",
              "        -7.64922469e-01, -2.75340288e-01,  1.91418451e-15,\n",
              "        -4.92972144e-15,  2.82329851e-01, -2.60960454e-01,\n",
              "        -1.00843897e-01,  8.38041299e-01, -1.70176634e+00,\n",
              "         1.29062863e+00, -7.32054239e-01,  5.25949777e-01,\n",
              "         1.15750877e+00, -1.00068588e+00,  9.60308113e-02,\n",
              "         7.21245234e-01,  1.59058956e+00,  8.99678662e-01],\n",
              "       [-8.09663853e-01, -2.22026518e-01, -3.64801107e-01,\n",
              "         1.30732204e+00, -2.75340288e-01,  1.91418451e-15,\n",
              "        -4.92972144e-15,  2.82329851e-01, -2.60960454e-01,\n",
              "        -1.00843897e-01, -7.49127789e-01, -2.87922610e+00,\n",
              "         1.91855897e+00,  3.04320697e-01, -6.00213478e-02,\n",
              "         1.04801122e-15,  4.58224401e-01,  5.57477567e-01,\n",
              "        -1.41463945e+00, -1.67819898e+00,  8.99678662e-01],\n",
              "       [-8.09663853e-01, -2.22026518e-01, -3.64801107e-01,\n",
              "         1.30732204e+00, -2.75340288e-01,  1.91418451e-15,\n",
              "        -4.92972144e-15,  2.82329851e-01, -2.60960454e-01,\n",
              "        -1.00843897e-01, -7.49127789e-01,  6.53153184e-01,\n",
              "         6.62698293e-01,  1.34069563e+00, -5.20446908e-16,\n",
              "        -2.24469694e-02,  4.58224401e-01,  5.57477567e-01,\n",
              "         1.78918758e+00,  5.00993379e-01, -8.22305716e-01],\n",
              "       [ 1.23508045e+00, -2.22026518e-01, -3.64801107e-01,\n",
              "        -7.64922469e-01, -2.75340288e-01,  1.91418451e-15,\n",
              "        -4.92972144e-15,  2.82329851e-01, -2.60960454e-01,\n",
              "        -1.00843897e-01,  8.38041299e-01, -5.24306577e-01,\n",
              "         6.62698293e-01,  3.04320697e-01,  5.25949777e-01,\n",
              "         2.13544178e-01, -5.14382455e-01, -1.28830946e+00,\n",
              "         1.87274062e-01,  5.00993379e-01,  4.69182568e-01],\n",
              "       [-8.09663853e-01, -2.22026518e-01, -3.64801107e-01,\n",
              "         1.30732204e+00, -2.75340288e-01,  1.91418451e-15,\n",
              "        -4.92972144e-15,  2.82329851e-01, -2.60960454e-01,\n",
              "        -1.00843897e-01,  8.38041299e-01, -5.24306577e-01,\n",
              "         1.91855897e+00, -1.76842918e+00,  1.69789203e+00,\n",
              "         1.74748664e+00,  1.43083126e+00, -1.28830946e+00,\n",
              "         1.78918758e+00,  1.59058956e+00, -1.68329790e+00],\n",
              "       [-8.09663853e-01, -2.22026518e-01, -3.64801107e-01,\n",
              "         1.30732204e+00, -2.75340288e-01,  1.91418451e-15,\n",
              "        -4.92972144e-15,  2.82329851e-01, -2.60960454e-01,\n",
              "        -1.00843897e-01, -1.16680387e+00,  6.44233034e-02,\n",
              "        -5.93162383e-01,  1.34069563e+00,  8.77532452e-01,\n",
              "         5.67530899e-01,  1.33357057e+00,  3.72898865e-01,\n",
              "        -3.46697110e-01,  1.04579147e+00,  3.86864734e-02]])"
            ]
          },
          "metadata": {
            "tags": []
          },
          "execution_count": 77
        }
      ]
    },
    {
      "cell_type": "code",
      "metadata": {
        "id": "EVCVwO4DQ7i2",
        "colab_type": "code",
        "colab": {}
      },
      "source": [
        "target = 'Great'\n",
        "y_test = test[target]"
      ],
      "execution_count": 0,
      "outputs": []
    },
    {
      "cell_type": "code",
      "metadata": {
        "id": "VT8Gyb1mQ7Zq",
        "colab_type": "code",
        "colab": {
          "base_uri": "https://localhost:8080/",
          "height": 102
        },
        "outputId": "bf2bd93f-e968-481d-ada1-dca9b7f0f7d0"
      },
      "source": [
        "model = LogisticRegressionCV()\n",
        "model.fit(X_test_scaled, y_test)"
      ],
      "execution_count": 110,
      "outputs": [
        {
          "output_type": "execute_result",
          "data": {
            "text/plain": [
              "LogisticRegressionCV(Cs=10, class_weight=None, cv=None, dual=False,\n",
              "                     fit_intercept=True, intercept_scaling=1.0, l1_ratios=None,\n",
              "                     max_iter=100, multi_class='auto', n_jobs=None,\n",
              "                     penalty='l2', random_state=None, refit=True, scoring=None,\n",
              "                     solver='lbfgs', tol=0.0001, verbose=0)"
            ]
          },
          "metadata": {
            "tags": []
          },
          "execution_count": 110
        }
      ]
    },
    {
      "cell_type": "code",
      "metadata": {
        "id": "UarwbZ0WQ7Q6",
        "colab_type": "code",
        "colab": {
          "base_uri": "https://localhost:8080/",
          "height": 34
        },
        "outputId": "7f14dbae-fa18-44a8-e239-531d615a0164"
      },
      "source": [
        "print(f'Test accuracy score: {model.score(X_test_scaled, y_test)}')"
      ],
      "execution_count": 112,
      "outputs": [
        {
          "output_type": "stream",
          "text": [
            "Test accuracy score: 0.8947368421052632\n"
          ],
          "name": "stdout"
        }
      ]
    },
    {
      "cell_type": "markdown",
      "metadata": {
        "id": "NwvnuE_aQ3Cz",
        "colab_type": "text"
      },
      "source": [
        "##Kaggle Submission"
      ]
    },
    {
      "cell_type": "code",
      "metadata": {
        "id": "xMfdNHdfHYrh",
        "colab_type": "code",
        "colab": {
          "base_uri": "https://localhost:8080/",
          "height": 102
        },
        "outputId": "37130ee4-27bb-4091-f951-3a5d6f091838"
      },
      "source": [
        "y_pred = model.predict(X_test_scaled)\n",
        "y_pred"
      ],
      "execution_count": 78,
      "outputs": [
        {
          "output_type": "execute_result",
          "data": {
            "text/plain": [
              "array([ True,  True, False,  True, False, False,  True,  True, False,\n",
              "        True,  True, False,  True, False,  True,  True,  True, False,\n",
              "       False, False, False,  True, False,  True,  True, False, False,\n",
              "        True,  True,  True, False,  True,  True, False,  True,  True,\n",
              "        True,  True])"
            ]
          },
          "metadata": {
            "tags": []
          },
          "execution_count": 78
        }
      ]
    },
    {
      "cell_type": "code",
      "metadata": {
        "id": "0caOxzmXIgSO",
        "colab_type": "code",
        "colab": {
          "base_uri": "https://localhost:8080/",
          "height": 1000
        },
        "outputId": "f31ac831-67e5-4a7a-818a-db68800c0dbd"
      },
      "source": [
        "submission = test[['Cost']].copy()\n",
        "submission"
      ],
      "execution_count": 81,
      "outputs": [
        {
          "output_type": "execute_result",
          "data": {
            "text/html": [
              "<div>\n",
              "<style scoped>\n",
              "    .dataframe tbody tr th:only-of-type {\n",
              "        vertical-align: middle;\n",
              "    }\n",
              "\n",
              "    .dataframe tbody tr th {\n",
              "        vertical-align: top;\n",
              "    }\n",
              "\n",
              "    .dataframe thead th {\n",
              "        text-align: right;\n",
              "    }\n",
              "</style>\n",
              "<table border=\"1\" class=\"dataframe\">\n",
              "  <thead>\n",
              "    <tr style=\"text-align: right;\">\n",
              "      <th></th>\n",
              "      <th>Cost</th>\n",
              "    </tr>\n",
              "  </thead>\n",
              "  <tbody>\n",
              "    <tr>\n",
              "      <th>77</th>\n",
              "      <td>8.00</td>\n",
              "    </tr>\n",
              "    <tr>\n",
              "      <th>386</th>\n",
              "      <td>7.25</td>\n",
              "    </tr>\n",
              "    <tr>\n",
              "      <th>387</th>\n",
              "      <td>4.19</td>\n",
              "    </tr>\n",
              "    <tr>\n",
              "      <th>388</th>\n",
              "      <td>7.00</td>\n",
              "    </tr>\n",
              "    <tr>\n",
              "      <th>389</th>\n",
              "      <td>8.50</td>\n",
              "    </tr>\n",
              "    <tr>\n",
              "      <th>390</th>\n",
              "      <td>7.20</td>\n",
              "    </tr>\n",
              "    <tr>\n",
              "      <th>391</th>\n",
              "      <td>5.99</td>\n",
              "    </tr>\n",
              "    <tr>\n",
              "      <th>392</th>\n",
              "      <td>5.99</td>\n",
              "    </tr>\n",
              "    <tr>\n",
              "      <th>393</th>\n",
              "      <td>5.99</td>\n",
              "    </tr>\n",
              "    <tr>\n",
              "      <th>394</th>\n",
              "      <td>8.99</td>\n",
              "    </tr>\n",
              "    <tr>\n",
              "      <th>395</th>\n",
              "      <td>8.99</td>\n",
              "    </tr>\n",
              "    <tr>\n",
              "      <th>396</th>\n",
              "      <td>5.99</td>\n",
              "    </tr>\n",
              "    <tr>\n",
              "      <th>397</th>\n",
              "      <td>7.50</td>\n",
              "    </tr>\n",
              "    <tr>\n",
              "      <th>398</th>\n",
              "      <td>5.99</td>\n",
              "    </tr>\n",
              "    <tr>\n",
              "      <th>399</th>\n",
              "      <td>5.99</td>\n",
              "    </tr>\n",
              "    <tr>\n",
              "      <th>400</th>\n",
              "      <td>8.50</td>\n",
              "    </tr>\n",
              "    <tr>\n",
              "      <th>401</th>\n",
              "      <td>9.50</td>\n",
              "    </tr>\n",
              "    <tr>\n",
              "      <th>402</th>\n",
              "      <td>8.50</td>\n",
              "    </tr>\n",
              "    <tr>\n",
              "      <th>403</th>\n",
              "      <td>8.50</td>\n",
              "    </tr>\n",
              "    <tr>\n",
              "      <th>404</th>\n",
              "      <td>6.99</td>\n",
              "    </tr>\n",
              "    <tr>\n",
              "      <th>405</th>\n",
              "      <td>5.99</td>\n",
              "    </tr>\n",
              "    <tr>\n",
              "      <th>406</th>\n",
              "      <td>5.99</td>\n",
              "    </tr>\n",
              "    <tr>\n",
              "      <th>407</th>\n",
              "      <td>9.99</td>\n",
              "    </tr>\n",
              "    <tr>\n",
              "      <th>408</th>\n",
              "      <td>9.99</td>\n",
              "    </tr>\n",
              "    <tr>\n",
              "      <th>409</th>\n",
              "      <td>7.39</td>\n",
              "    </tr>\n",
              "    <tr>\n",
              "      <th>410</th>\n",
              "      <td>7.39</td>\n",
              "    </tr>\n",
              "    <tr>\n",
              "      <th>411</th>\n",
              "      <td>7.39</td>\n",
              "    </tr>\n",
              "    <tr>\n",
              "      <th>412</th>\n",
              "      <td>8.00</td>\n",
              "    </tr>\n",
              "    <tr>\n",
              "      <th>413</th>\n",
              "      <td>8.00</td>\n",
              "    </tr>\n",
              "    <tr>\n",
              "      <th>414</th>\n",
              "      <td>5.50</td>\n",
              "    </tr>\n",
              "    <tr>\n",
              "      <th>415</th>\n",
              "      <td>6.75</td>\n",
              "    </tr>\n",
              "    <tr>\n",
              "      <th>416</th>\n",
              "      <td>6.00</td>\n",
              "    </tr>\n",
              "    <tr>\n",
              "      <th>417</th>\n",
              "      <td>7.90</td>\n",
              "    </tr>\n",
              "    <tr>\n",
              "      <th>418</th>\n",
              "      <td>6.00</td>\n",
              "    </tr>\n",
              "    <tr>\n",
              "      <th>419</th>\n",
              "      <td>6.00</td>\n",
              "    </tr>\n",
              "    <tr>\n",
              "      <th>420</th>\n",
              "      <td>7.90</td>\n",
              "    </tr>\n",
              "    <tr>\n",
              "      <th>421</th>\n",
              "      <td>7.90</td>\n",
              "    </tr>\n",
              "    <tr>\n",
              "      <th>422</th>\n",
              "      <td>5.50</td>\n",
              "    </tr>\n",
              "  </tbody>\n",
              "</table>\n",
              "</div>"
            ],
            "text/plain": [
              "     Cost\n",
              "77   8.00\n",
              "386  7.25\n",
              "387  4.19\n",
              "388  7.00\n",
              "389  8.50\n",
              "390  7.20\n",
              "391  5.99\n",
              "392  5.99\n",
              "393  5.99\n",
              "394  8.99\n",
              "395  8.99\n",
              "396  5.99\n",
              "397  7.50\n",
              "398  5.99\n",
              "399  5.99\n",
              "400  8.50\n",
              "401  9.50\n",
              "402  8.50\n",
              "403  8.50\n",
              "404  6.99\n",
              "405  5.99\n",
              "406  5.99\n",
              "407  9.99\n",
              "408  9.99\n",
              "409  7.39\n",
              "410  7.39\n",
              "411  7.39\n",
              "412  8.00\n",
              "413  8.00\n",
              "414  5.50\n",
              "415  6.75\n",
              "416  6.00\n",
              "417  7.90\n",
              "418  6.00\n",
              "419  6.00\n",
              "420  7.90\n",
              "421  7.90\n",
              "422  5.50"
            ]
          },
          "metadata": {
            "tags": []
          },
          "execution_count": 81
        }
      ]
    },
    {
      "cell_type": "code",
      "metadata": {
        "id": "ub7n9AvXHkpz",
        "colab_type": "code",
        "colab": {
          "base_uri": "https://localhost:8080/",
          "height": 1000
        },
        "outputId": "25fe7afa-9e91-46b5-8e43-c1eba33b015b"
      },
      "source": [
        "submission['Great'] = y_pred\n",
        "submission"
      ],
      "execution_count": 82,
      "outputs": [
        {
          "output_type": "execute_result",
          "data": {
            "text/html": [
              "<div>\n",
              "<style scoped>\n",
              "    .dataframe tbody tr th:only-of-type {\n",
              "        vertical-align: middle;\n",
              "    }\n",
              "\n",
              "    .dataframe tbody tr th {\n",
              "        vertical-align: top;\n",
              "    }\n",
              "\n",
              "    .dataframe thead th {\n",
              "        text-align: right;\n",
              "    }\n",
              "</style>\n",
              "<table border=\"1\" class=\"dataframe\">\n",
              "  <thead>\n",
              "    <tr style=\"text-align: right;\">\n",
              "      <th></th>\n",
              "      <th>Cost</th>\n",
              "      <th>Great</th>\n",
              "    </tr>\n",
              "  </thead>\n",
              "  <tbody>\n",
              "    <tr>\n",
              "      <th>77</th>\n",
              "      <td>8.00</td>\n",
              "      <td>True</td>\n",
              "    </tr>\n",
              "    <tr>\n",
              "      <th>386</th>\n",
              "      <td>7.25</td>\n",
              "      <td>True</td>\n",
              "    </tr>\n",
              "    <tr>\n",
              "      <th>387</th>\n",
              "      <td>4.19</td>\n",
              "      <td>False</td>\n",
              "    </tr>\n",
              "    <tr>\n",
              "      <th>388</th>\n",
              "      <td>7.00</td>\n",
              "      <td>True</td>\n",
              "    </tr>\n",
              "    <tr>\n",
              "      <th>389</th>\n",
              "      <td>8.50</td>\n",
              "      <td>False</td>\n",
              "    </tr>\n",
              "    <tr>\n",
              "      <th>390</th>\n",
              "      <td>7.20</td>\n",
              "      <td>False</td>\n",
              "    </tr>\n",
              "    <tr>\n",
              "      <th>391</th>\n",
              "      <td>5.99</td>\n",
              "      <td>True</td>\n",
              "    </tr>\n",
              "    <tr>\n",
              "      <th>392</th>\n",
              "      <td>5.99</td>\n",
              "      <td>True</td>\n",
              "    </tr>\n",
              "    <tr>\n",
              "      <th>393</th>\n",
              "      <td>5.99</td>\n",
              "      <td>False</td>\n",
              "    </tr>\n",
              "    <tr>\n",
              "      <th>394</th>\n",
              "      <td>8.99</td>\n",
              "      <td>True</td>\n",
              "    </tr>\n",
              "    <tr>\n",
              "      <th>395</th>\n",
              "      <td>8.99</td>\n",
              "      <td>True</td>\n",
              "    </tr>\n",
              "    <tr>\n",
              "      <th>396</th>\n",
              "      <td>5.99</td>\n",
              "      <td>False</td>\n",
              "    </tr>\n",
              "    <tr>\n",
              "      <th>397</th>\n",
              "      <td>7.50</td>\n",
              "      <td>True</td>\n",
              "    </tr>\n",
              "    <tr>\n",
              "      <th>398</th>\n",
              "      <td>5.99</td>\n",
              "      <td>False</td>\n",
              "    </tr>\n",
              "    <tr>\n",
              "      <th>399</th>\n",
              "      <td>5.99</td>\n",
              "      <td>True</td>\n",
              "    </tr>\n",
              "    <tr>\n",
              "      <th>400</th>\n",
              "      <td>8.50</td>\n",
              "      <td>True</td>\n",
              "    </tr>\n",
              "    <tr>\n",
              "      <th>401</th>\n",
              "      <td>9.50</td>\n",
              "      <td>True</td>\n",
              "    </tr>\n",
              "    <tr>\n",
              "      <th>402</th>\n",
              "      <td>8.50</td>\n",
              "      <td>False</td>\n",
              "    </tr>\n",
              "    <tr>\n",
              "      <th>403</th>\n",
              "      <td>8.50</td>\n",
              "      <td>False</td>\n",
              "    </tr>\n",
              "    <tr>\n",
              "      <th>404</th>\n",
              "      <td>6.99</td>\n",
              "      <td>False</td>\n",
              "    </tr>\n",
              "    <tr>\n",
              "      <th>405</th>\n",
              "      <td>5.99</td>\n",
              "      <td>False</td>\n",
              "    </tr>\n",
              "    <tr>\n",
              "      <th>406</th>\n",
              "      <td>5.99</td>\n",
              "      <td>True</td>\n",
              "    </tr>\n",
              "    <tr>\n",
              "      <th>407</th>\n",
              "      <td>9.99</td>\n",
              "      <td>False</td>\n",
              "    </tr>\n",
              "    <tr>\n",
              "      <th>408</th>\n",
              "      <td>9.99</td>\n",
              "      <td>True</td>\n",
              "    </tr>\n",
              "    <tr>\n",
              "      <th>409</th>\n",
              "      <td>7.39</td>\n",
              "      <td>True</td>\n",
              "    </tr>\n",
              "    <tr>\n",
              "      <th>410</th>\n",
              "      <td>7.39</td>\n",
              "      <td>False</td>\n",
              "    </tr>\n",
              "    <tr>\n",
              "      <th>411</th>\n",
              "      <td>7.39</td>\n",
              "      <td>False</td>\n",
              "    </tr>\n",
              "    <tr>\n",
              "      <th>412</th>\n",
              "      <td>8.00</td>\n",
              "      <td>True</td>\n",
              "    </tr>\n",
              "    <tr>\n",
              "      <th>413</th>\n",
              "      <td>8.00</td>\n",
              "      <td>True</td>\n",
              "    </tr>\n",
              "    <tr>\n",
              "      <th>414</th>\n",
              "      <td>5.50</td>\n",
              "      <td>True</td>\n",
              "    </tr>\n",
              "    <tr>\n",
              "      <th>415</th>\n",
              "      <td>6.75</td>\n",
              "      <td>False</td>\n",
              "    </tr>\n",
              "    <tr>\n",
              "      <th>416</th>\n",
              "      <td>6.00</td>\n",
              "      <td>True</td>\n",
              "    </tr>\n",
              "    <tr>\n",
              "      <th>417</th>\n",
              "      <td>7.90</td>\n",
              "      <td>True</td>\n",
              "    </tr>\n",
              "    <tr>\n",
              "      <th>418</th>\n",
              "      <td>6.00</td>\n",
              "      <td>False</td>\n",
              "    </tr>\n",
              "    <tr>\n",
              "      <th>419</th>\n",
              "      <td>6.00</td>\n",
              "      <td>True</td>\n",
              "    </tr>\n",
              "    <tr>\n",
              "      <th>420</th>\n",
              "      <td>7.90</td>\n",
              "      <td>True</td>\n",
              "    </tr>\n",
              "    <tr>\n",
              "      <th>421</th>\n",
              "      <td>7.90</td>\n",
              "      <td>True</td>\n",
              "    </tr>\n",
              "    <tr>\n",
              "      <th>422</th>\n",
              "      <td>5.50</td>\n",
              "      <td>True</td>\n",
              "    </tr>\n",
              "  </tbody>\n",
              "</table>\n",
              "</div>"
            ],
            "text/plain": [
              "     Cost  Great\n",
              "77   8.00   True\n",
              "386  7.25   True\n",
              "387  4.19  False\n",
              "388  7.00   True\n",
              "389  8.50  False\n",
              "390  7.20  False\n",
              "391  5.99   True\n",
              "392  5.99   True\n",
              "393  5.99  False\n",
              "394  8.99   True\n",
              "395  8.99   True\n",
              "396  5.99  False\n",
              "397  7.50   True\n",
              "398  5.99  False\n",
              "399  5.99   True\n",
              "400  8.50   True\n",
              "401  9.50   True\n",
              "402  8.50  False\n",
              "403  8.50  False\n",
              "404  6.99  False\n",
              "405  5.99  False\n",
              "406  5.99   True\n",
              "407  9.99  False\n",
              "408  9.99   True\n",
              "409  7.39   True\n",
              "410  7.39  False\n",
              "411  7.39  False\n",
              "412  8.00   True\n",
              "413  8.00   True\n",
              "414  5.50   True\n",
              "415  6.75  False\n",
              "416  6.00   True\n",
              "417  7.90   True\n",
              "418  6.00  False\n",
              "419  6.00   True\n",
              "420  7.90   True\n",
              "421  7.90   True\n",
              "422  5.50   True"
            ]
          },
          "metadata": {
            "tags": []
          },
          "execution_count": 82
        }
      ]
    },
    {
      "cell_type": "code",
      "metadata": {
        "id": "3xQO_EaQJFz7",
        "colab_type": "code",
        "colab": {}
      },
      "source": [
        ""
      ],
      "execution_count": 0,
      "outputs": []
    },
    {
      "cell_type": "code",
      "metadata": {
        "id": "47yfzEs1JFv6",
        "colab_type": "code",
        "colab": {}
      },
      "source": [
        "\n"
      ],
      "execution_count": 0,
      "outputs": []
    }
  ]
}