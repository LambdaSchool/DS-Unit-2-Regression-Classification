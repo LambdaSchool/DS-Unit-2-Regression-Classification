{
  "nbformat": 4,
  "nbformat_minor": 0,
  "metadata": {
    "colab": {
      "name": "Grill_assignment_regression_classification_3.ipynb",
      "version": "0.3.2",
      "provenance": [],
      "collapsed_sections": [],
      "include_colab_link": true
    },
    "kernelspec": {
      "name": "python3",
      "display_name": "Python 3"
    }
  },
  "cells": [
    {
      "cell_type": "markdown",
      "metadata": {
        "id": "view-in-github",
        "colab_type": "text"
      },
      "source": [
        "<a href=\"https://colab.research.google.com/github/serinamarie/DS-Unit-2-Regression-Classification/blob/master/Grill_assignment_regression_classification_3.ipynb\" target=\"_parent\"><img src=\"https://colab.research.google.com/assets/colab-badge.svg\" alt=\"Open In Colab\"/></a>"
      ]
    },
    {
      "cell_type": "markdown",
      "metadata": {
        "id": "7IXUfiQ2UKj6",
        "colab_type": "text"
      },
      "source": [
        "Lambda School Data Science, Unit 2: Predictive Modeling\n",
        "\n",
        "# Regression & Classification, Module 3 - UNFINISHED#\n",
        "\n",
        "## Assignment\n",
        "\n",
        "We're going back to our other **New York City** real estate dataset. Instead of predicting apartment rents, you'll predict property sales prices.\n",
        "\n",
        "But not just for condos in Tribeca...\n",
        "\n",
        "Instead, predict property sales prices for **One Family Dwellings** (`BUILDING_CLASS_CATEGORY` == `'01 ONE FAMILY DWELLINGS'`) using a subset of the data where the **sale price was more than \\\\$100 thousand and less than $2 million.** \n",
        "\n",
        "The [NYC Department of Finance](https://www1.nyc.gov/site/finance/taxes/property-rolling-sales-data.page) has a glossary of property sales terms and NYC Building Class Code Descriptions. The data comes from the [NYC OpenData](https://data.cityofnewyork.us/browse?q=NYC%20calendar%20sales) portal.\n",
        "\n",
        "\n",
        "- [ ] Do train/test split. Use data from January — March 2019 to train. Use data from April 2019 to test.\n",
        "- [ ] Do exploratory visualizations with Seaborn.\n",
        "- [ ] Do one-hot encoding of categorical features.\n",
        "- [ ] Do feature selection with `SelectKBest`.\n",
        "- [ ] Fit a linear regression model with multiple features.\n",
        "- [ ] Get mean absolute error for the test set.\n",
        "- [ ] As always, commit your notebook to your fork of the GitHub repo.\n",
        "\n",
        "\n",
        "## Stretch Goals\n",
        "- [ ] Add your own stretch goal(s) !\n",
        "- [ ] Do [feature scaling](https://scikit-learn.org/stable/modules/preprocessing.html).\n",
        "- [ ] Learn more about feature selection:\n",
        "    - [\"Permutation importance\"](https://www.kaggle.com/dansbecker/permutation-importance)\n",
        "    - [scikit-learn's User Guide for Feature Selection](https://scikit-learn.org/stable/modules/feature_selection.html)\n",
        "    - [mlxtend](http://rasbt.github.io/mlxtend/) library\n",
        "    - scikit-learn-contrib libraries: [boruta_py](https://github.com/scikit-learn-contrib/boruta_py) & [stability-selection](https://github.com/scikit-learn-contrib/stability-selection)\n",
        "    - [_Feature Engineering and Selection_](http://www.feat.engineering/) by Kuhn & Johnson.\n",
        "- [ ] Try [statsmodels](https://www.statsmodels.org/stable/index.html) if you’re interested in more inferential statistical approach to linear regression and feature selection, looking at p values and 95% confidence intervals for the coefficients.\n",
        "- [ ] Read [_An Introduction to Statistical Learning_](http://faculty.marshall.usc.edu/gareth-james/ISL/ISLR%20Seventh%20Printing.pdf), Chapters 1-3, for more math & theory, but in an accessible, readable way (without an excessive amount of formulas or academic pre-requisites).\n",
        "(That book is good regardless of whether your cultural worldview is inferential statistics or predictive machine learning)\n",
        "- [ ] Read Leo Breiman's paper, [\"Statistical Modeling: The Two Cultures\"](https://projecteuclid.org/download/pdf_1/euclid.ss/1009213726)\n",
        "- [ ] Try [scikit-learn pipelines](https://scikit-learn.org/stable/modules/compose.html):\n",
        "\n",
        "> Pipeline can be used to chain multiple estimators into one. This is useful as there is often a fixed sequence of steps in processing the data, for example feature selection, normalization and classification. Pipeline serves multiple purposes here:\n",
        "\n",
        "> - **Convenience and encapsulation.** You only have to call fit and predict once on your data to fit a whole sequence of estimators.\n",
        "> - **Joint parameter selection.** You can grid search over parameters of all estimators in the pipeline at once.\n",
        "> - **Safety.** Pipelines help avoid leaking statistics from your test data into the trained model in cross-validation, by ensuring that the same samples are used to train the transformers and predictors."
      ]
    },
    {
      "cell_type": "markdown",
      "metadata": {
        "id": "3rK5-h1oOL9-",
        "colab_type": "text"
      },
      "source": [
        "##Import and Clean Data (somewhat)##"
      ]
    },
    {
      "cell_type": "code",
      "metadata": {
        "id": "o9eSnDYhUGD7",
        "colab_type": "code",
        "colab": {
          "base_uri": "https://localhost:8080/",
          "height": 1000
        },
        "outputId": "245267c1-d7ec-42e6-f42e-6d1cbda56a55"
      },
      "source": [
        "# If you're in Colab...\n",
        "import os, sys\n",
        "in_colab = 'google.colab' in sys.modules\n",
        "\n",
        "if in_colab:\n",
        "    # Install required python packages:\n",
        "    # category_encoders, version >= 2.0\n",
        "    # pandas-profiling, version >= 2.0\n",
        "    # plotly, version >= 4.0\n",
        "    !pip install --upgrade category_encoders pandas-profiling plotly\n",
        "    \n",
        "    # Pull files from Github repo\n",
        "    os.chdir('/content')\n",
        "    !git init .\n",
        "    !git remote add origin https://github.com/LambdaSchool/DS-Unit-2-Regression-Classification.git\n",
        "    !git pull origin master\n",
        "    \n",
        "    # Change into directory for module\n",
        "    os.chdir('module3')"
      ],
      "execution_count": 184,
      "outputs": [
        {
          "output_type": "stream",
          "text": [
            "Requirement already up-to-date: category_encoders in /usr/local/lib/python3.6/dist-packages (2.0.0)\n",
            "Requirement already up-to-date: pandas-profiling in /usr/local/lib/python3.6/dist-packages (2.3.0)\n",
            "Requirement already up-to-date: plotly in /usr/local/lib/python3.6/dist-packages (4.1.1)\n",
            "Requirement already satisfied, skipping upgrade: scipy>=0.19.0 in /usr/local/lib/python3.6/dist-packages (from category_encoders) (1.3.1)\n",
            "Requirement already satisfied, skipping upgrade: pandas>=0.21.1 in /usr/local/lib/python3.6/dist-packages (from category_encoders) (0.24.2)\n",
            "Requirement already satisfied, skipping upgrade: patsy>=0.4.1 in /usr/local/lib/python3.6/dist-packages (from category_encoders) (0.5.1)\n",
            "Requirement already satisfied, skipping upgrade: numpy>=1.11.3 in /usr/local/lib/python3.6/dist-packages (from category_encoders) (1.16.5)\n",
            "Requirement already satisfied, skipping upgrade: statsmodels>=0.6.1 in /usr/local/lib/python3.6/dist-packages (from category_encoders) (0.10.1)\n",
            "Requirement already satisfied, skipping upgrade: scikit-learn>=0.20.0 in /usr/local/lib/python3.6/dist-packages (from category_encoders) (0.21.3)\n",
            "Requirement already satisfied, skipping upgrade: phik>=0.9.8 in /usr/local/lib/python3.6/dist-packages (from pandas-profiling) (0.9.8)\n",
            "Requirement already satisfied, skipping upgrade: jinja2>=2.8 in /usr/local/lib/python3.6/dist-packages (from pandas-profiling) (2.10.1)\n",
            "Requirement already satisfied, skipping upgrade: matplotlib>=1.4 in /usr/local/lib/python3.6/dist-packages (from pandas-profiling) (3.0.3)\n",
            "Requirement already satisfied, skipping upgrade: missingno>=0.4.2 in /usr/local/lib/python3.6/dist-packages (from pandas-profiling) (0.4.2)\n",
            "Requirement already satisfied, skipping upgrade: astropy in /usr/local/lib/python3.6/dist-packages (from pandas-profiling) (3.0.5)\n",
            "Requirement already satisfied, skipping upgrade: confuse>=1.0.0 in /usr/local/lib/python3.6/dist-packages (from pandas-profiling) (1.0.0)\n",
            "Requirement already satisfied, skipping upgrade: htmlmin>=0.1.12 in /usr/local/lib/python3.6/dist-packages (from pandas-profiling) (0.1.12)\n",
            "Requirement already satisfied, skipping upgrade: retrying>=1.3.3 in /usr/local/lib/python3.6/dist-packages (from plotly) (1.3.3)\n",
            "Requirement already satisfied, skipping upgrade: six in /usr/local/lib/python3.6/dist-packages (from plotly) (1.12.0)\n",
            "Requirement already satisfied, skipping upgrade: pytz>=2011k in /usr/local/lib/python3.6/dist-packages (from pandas>=0.21.1->category_encoders) (2018.9)\n",
            "Requirement already satisfied, skipping upgrade: python-dateutil>=2.5.0 in /usr/local/lib/python3.6/dist-packages (from pandas>=0.21.1->category_encoders) (2.5.3)\n",
            "Requirement already satisfied, skipping upgrade: joblib>=0.11 in /usr/local/lib/python3.6/dist-packages (from scikit-learn>=0.20.0->category_encoders) (0.13.2)\n",
            "Requirement already satisfied, skipping upgrade: numba>=0.38.1 in /usr/local/lib/python3.6/dist-packages (from phik>=0.9.8->pandas-profiling) (0.40.1)\n",
            "Requirement already satisfied, skipping upgrade: nbconvert>=5.3.1 in /usr/local/lib/python3.6/dist-packages (from phik>=0.9.8->pandas-profiling) (5.6.0)\n",
            "Requirement already satisfied, skipping upgrade: jupyter-client>=5.2.3 in /usr/local/lib/python3.6/dist-packages (from phik>=0.9.8->pandas-profiling) (5.3.1)\n",
            "Requirement already satisfied, skipping upgrade: pytest-pylint>=0.13.0 in /usr/local/lib/python3.6/dist-packages (from phik>=0.9.8->pandas-profiling) (0.14.1)\n",
            "Requirement already satisfied, skipping upgrade: pytest>=4.0.2 in /usr/local/lib/python3.6/dist-packages (from phik>=0.9.8->pandas-profiling) (5.1.2)\n",
            "Requirement already satisfied, skipping upgrade: MarkupSafe>=0.23 in /usr/local/lib/python3.6/dist-packages (from jinja2>=2.8->pandas-profiling) (1.1.1)\n",
            "Requirement already satisfied, skipping upgrade: cycler>=0.10 in /usr/local/lib/python3.6/dist-packages (from matplotlib>=1.4->pandas-profiling) (0.10.0)\n",
            "Requirement already satisfied, skipping upgrade: kiwisolver>=1.0.1 in /usr/local/lib/python3.6/dist-packages (from matplotlib>=1.4->pandas-profiling) (1.1.0)\n",
            "Requirement already satisfied, skipping upgrade: pyparsing!=2.0.4,!=2.1.2,!=2.1.6,>=2.0.1 in /usr/local/lib/python3.6/dist-packages (from matplotlib>=1.4->pandas-profiling) (2.4.2)\n",
            "Requirement already satisfied, skipping upgrade: seaborn in /usr/local/lib/python3.6/dist-packages (from missingno>=0.4.2->pandas-profiling) (0.9.0)\n",
            "Requirement already satisfied, skipping upgrade: pyyaml in /usr/local/lib/python3.6/dist-packages (from confuse>=1.0.0->pandas-profiling) (3.13)\n",
            "Requirement already satisfied, skipping upgrade: llvmlite>=0.25.0dev0 in /usr/local/lib/python3.6/dist-packages (from numba>=0.38.1->phik>=0.9.8->pandas-profiling) (0.29.0)\n",
            "Requirement already satisfied, skipping upgrade: defusedxml in /usr/local/lib/python3.6/dist-packages (from nbconvert>=5.3.1->phik>=0.9.8->pandas-profiling) (0.6.0)\n",
            "Requirement already satisfied, skipping upgrade: nbformat>=4.4 in /usr/local/lib/python3.6/dist-packages (from nbconvert>=5.3.1->phik>=0.9.8->pandas-profiling) (4.4.0)\n",
            "Requirement already satisfied, skipping upgrade: testpath in /usr/local/lib/python3.6/dist-packages (from nbconvert>=5.3.1->phik>=0.9.8->pandas-profiling) (0.4.2)\n",
            "Requirement already satisfied, skipping upgrade: bleach in /usr/local/lib/python3.6/dist-packages (from nbconvert>=5.3.1->phik>=0.9.8->pandas-profiling) (3.1.0)\n",
            "Requirement already satisfied, skipping upgrade: jupyter-core in /usr/local/lib/python3.6/dist-packages (from nbconvert>=5.3.1->phik>=0.9.8->pandas-profiling) (4.5.0)\n",
            "Requirement already satisfied, skipping upgrade: pygments in /usr/local/lib/python3.6/dist-packages (from nbconvert>=5.3.1->phik>=0.9.8->pandas-profiling) (2.1.3)\n",
            "Requirement already satisfied, skipping upgrade: entrypoints>=0.2.2 in /usr/local/lib/python3.6/dist-packages (from nbconvert>=5.3.1->phik>=0.9.8->pandas-profiling) (0.3)\n",
            "Requirement already satisfied, skipping upgrade: traitlets>=4.2 in /usr/local/lib/python3.6/dist-packages (from nbconvert>=5.3.1->phik>=0.9.8->pandas-profiling) (4.3.2)\n",
            "Requirement already satisfied, skipping upgrade: pandocfilters>=1.4.1 in /usr/local/lib/python3.6/dist-packages (from nbconvert>=5.3.1->phik>=0.9.8->pandas-profiling) (1.4.2)\n",
            "Requirement already satisfied, skipping upgrade: mistune<2,>=0.8.1 in /usr/local/lib/python3.6/dist-packages (from nbconvert>=5.3.1->phik>=0.9.8->pandas-profiling) (0.8.4)\n",
            "Requirement already satisfied, skipping upgrade: tornado>=4.1 in /usr/local/lib/python3.6/dist-packages (from jupyter-client>=5.2.3->phik>=0.9.8->pandas-profiling) (4.5.3)\n",
            "Requirement already satisfied, skipping upgrade: pyzmq>=13 in /usr/local/lib/python3.6/dist-packages (from jupyter-client>=5.2.3->phik>=0.9.8->pandas-profiling) (17.0.0)\n",
            "Requirement already satisfied, skipping upgrade: pylint>=1.4.5 in /usr/local/lib/python3.6/dist-packages (from pytest-pylint>=0.13.0->phik>=0.9.8->pandas-profiling) (2.3.1)\n",
            "Requirement already satisfied, skipping upgrade: py>=1.5.0 in /usr/local/lib/python3.6/dist-packages (from pytest>=4.0.2->phik>=0.9.8->pandas-profiling) (1.8.0)\n",
            "Requirement already satisfied, skipping upgrade: attrs>=17.4.0 in /usr/local/lib/python3.6/dist-packages (from pytest>=4.0.2->phik>=0.9.8->pandas-profiling) (19.1.0)\n",
            "Requirement already satisfied, skipping upgrade: packaging in /usr/local/lib/python3.6/dist-packages (from pytest>=4.0.2->phik>=0.9.8->pandas-profiling) (19.1)\n",
            "Requirement already satisfied, skipping upgrade: more-itertools>=4.0.0 in /usr/local/lib/python3.6/dist-packages (from pytest>=4.0.2->phik>=0.9.8->pandas-profiling) (7.2.0)\n",
            "Requirement already satisfied, skipping upgrade: wcwidth in /usr/local/lib/python3.6/dist-packages (from pytest>=4.0.2->phik>=0.9.8->pandas-profiling) (0.1.7)\n",
            "Requirement already satisfied, skipping upgrade: pluggy<1.0,>=0.12 in /usr/local/lib/python3.6/dist-packages (from pytest>=4.0.2->phik>=0.9.8->pandas-profiling) (0.13.0)\n",
            "Requirement already satisfied, skipping upgrade: atomicwrites>=1.0 in /usr/local/lib/python3.6/dist-packages (from pytest>=4.0.2->phik>=0.9.8->pandas-profiling) (1.3.0)\n",
            "Requirement already satisfied, skipping upgrade: importlib-metadata>=0.12; python_version < \"3.8\" in /usr/local/lib/python3.6/dist-packages (from pytest>=4.0.2->phik>=0.9.8->pandas-profiling) (0.20)\n",
            "Requirement already satisfied, skipping upgrade: setuptools in /usr/local/lib/python3.6/dist-packages (from kiwisolver>=1.0.1->matplotlib>=1.4->pandas-profiling) (41.2.0)\n",
            "Requirement already satisfied, skipping upgrade: jsonschema!=2.5.0,>=2.4 in /usr/local/lib/python3.6/dist-packages (from nbformat>=4.4->nbconvert>=5.3.1->phik>=0.9.8->pandas-profiling) (2.6.0)\n",
            "Requirement already satisfied, skipping upgrade: ipython-genutils in /usr/local/lib/python3.6/dist-packages (from nbformat>=4.4->nbconvert>=5.3.1->phik>=0.9.8->pandas-profiling) (0.2.0)\n",
            "Requirement already satisfied, skipping upgrade: webencodings in /usr/local/lib/python3.6/dist-packages (from bleach->nbconvert>=5.3.1->phik>=0.9.8->pandas-profiling) (0.5.1)\n",
            "Requirement already satisfied, skipping upgrade: decorator in /usr/local/lib/python3.6/dist-packages (from traitlets>=4.2->nbconvert>=5.3.1->phik>=0.9.8->pandas-profiling) (4.4.0)\n",
            "Requirement already satisfied, skipping upgrade: isort<5,>=4.2.5 in /usr/local/lib/python3.6/dist-packages (from pylint>=1.4.5->pytest-pylint>=0.13.0->phik>=0.9.8->pandas-profiling) (4.3.21)\n",
            "Requirement already satisfied, skipping upgrade: astroid<3,>=2.2.0 in /usr/local/lib/python3.6/dist-packages (from pylint>=1.4.5->pytest-pylint>=0.13.0->phik>=0.9.8->pandas-profiling) (2.2.5)\n",
            "Requirement already satisfied, skipping upgrade: mccabe<0.7,>=0.6 in /usr/local/lib/python3.6/dist-packages (from pylint>=1.4.5->pytest-pylint>=0.13.0->phik>=0.9.8->pandas-profiling) (0.6.1)\n",
            "Requirement already satisfied, skipping upgrade: zipp>=0.5 in /usr/local/lib/python3.6/dist-packages (from importlib-metadata>=0.12; python_version < \"3.8\"->pytest>=4.0.2->phik>=0.9.8->pandas-profiling) (0.6.0)\n",
            "Requirement already satisfied, skipping upgrade: wrapt in /usr/local/lib/python3.6/dist-packages (from astroid<3,>=2.2.0->pylint>=1.4.5->pytest-pylint>=0.13.0->phik>=0.9.8->pandas-profiling) (1.11.2)\n",
            "Requirement already satisfied, skipping upgrade: lazy-object-proxy in /usr/local/lib/python3.6/dist-packages (from astroid<3,>=2.2.0->pylint>=1.4.5->pytest-pylint>=0.13.0->phik>=0.9.8->pandas-profiling) (1.4.2)\n",
            "Requirement already satisfied, skipping upgrade: typed-ast>=1.3.0; implementation_name == \"cpython\" in /usr/local/lib/python3.6/dist-packages (from astroid<3,>=2.2.0->pylint>=1.4.5->pytest-pylint>=0.13.0->phik>=0.9.8->pandas-profiling) (1.4.0)\n",
            "Reinitialized existing Git repository in /content/.git/\n",
            "fatal: remote origin already exists.\n",
            "From https://github.com/LambdaSchool/DS-Unit-2-Regression-Classification\n",
            " * branch            master     -> FETCH_HEAD\n",
            "Already up to date.\n"
          ],
          "name": "stdout"
        }
      ]
    },
    {
      "cell_type": "code",
      "metadata": {
        "id": "ipBYS77PUwNR",
        "colab_type": "code",
        "colab": {}
      },
      "source": [
        "# Ignore this Numpy warning when using Plotly Express:\n",
        "# FutureWarning: Method .ptp is deprecated and will be removed in a future version. Use numpy.ptp instead.\n",
        "import warnings\n",
        "warnings.filterwarnings(action='ignore', category=FutureWarning, module='numpy')\n",
        "warnings.filterwarnings(action='ignore', category=FutureWarning, module='pandas')"
      ],
      "execution_count": 0,
      "outputs": []
    },
    {
      "cell_type": "code",
      "metadata": {
        "id": "QJBD4ruICm1m",
        "colab_type": "code",
        "colab": {}
      },
      "source": [
        "import pandas as pd\n",
        "import pandas_profiling\n",
        "import numpy as np\n",
        "\n",
        "# Read New York City property sales data\n",
        "data = pd.read_csv('../data/NYC_Citywide_Rolling_Calendar_Sales.csv')\n",
        "\n",
        "# Change column names: replace spaces with underscores\n",
        "data.columns = [col.replace(' ', '_') for col in data]\n",
        "data.columns = data.columns.str.lower()\n",
        "\n",
        "#Remove extreme outliers\n",
        "\n",
        "\n",
        "# SALE_PRICE was read as strings.\n",
        "# Remove symbols, convert to integer\n",
        "data['sale_price'] = (\n",
        "    data['sale_price']\n",
        "    .str.replace('$','')\n",
        "    .str.replace('-','')\n",
        "    .str.replace(',','')\n",
        "    .astype(int)\n",
        ")"
      ],
      "execution_count": 0,
      "outputs": []
    },
    {
      "cell_type": "code",
      "metadata": {
        "id": "15nbGMEiN3-C",
        "colab_type": "code",
        "colab": {
          "base_uri": "https://localhost:8080/",
          "height": 1000
        },
        "outputId": "4c6cf08e-9a0f-40c5-d19b-bcf143bdbd17"
      },
      "source": [
        "data[(data['borough'] == 1) & (data['building_class_category'] == '01 ONE FAMILY DWELLINGS')]"
      ],
      "execution_count": 187,
      "outputs": [
        {
          "output_type": "execute_result",
          "data": {
            "text/html": [
              "<div>\n",
              "<style scoped>\n",
              "    .dataframe tbody tr th:only-of-type {\n",
              "        vertical-align: middle;\n",
              "    }\n",
              "\n",
              "    .dataframe tbody tr th {\n",
              "        vertical-align: top;\n",
              "    }\n",
              "\n",
              "    .dataframe thead th {\n",
              "        text-align: right;\n",
              "    }\n",
              "</style>\n",
              "<table border=\"1\" class=\"dataframe\">\n",
              "  <thead>\n",
              "    <tr style=\"text-align: right;\">\n",
              "      <th></th>\n",
              "      <th>borough</th>\n",
              "      <th>neighborhood</th>\n",
              "      <th>building_class_category</th>\n",
              "      <th>tax_class_at_present</th>\n",
              "      <th>block</th>\n",
              "      <th>lot</th>\n",
              "      <th>ease-ment</th>\n",
              "      <th>building_class_at_present</th>\n",
              "      <th>address</th>\n",
              "      <th>apartment_number</th>\n",
              "      <th>zip_code</th>\n",
              "      <th>residential_units</th>\n",
              "      <th>commercial_units</th>\n",
              "      <th>total_units</th>\n",
              "      <th>land_square_feet</th>\n",
              "      <th>gross_square_feet</th>\n",
              "      <th>year_built</th>\n",
              "      <th>tax_class_at_time_of_sale</th>\n",
              "      <th>building_class_at_time_of_sale</th>\n",
              "      <th>sale_price</th>\n",
              "      <th>sale_date</th>\n",
              "    </tr>\n",
              "  </thead>\n",
              "  <tbody>\n",
              "    <tr>\n",
              "      <th>469</th>\n",
              "      <td>1</td>\n",
              "      <td>HARLEM-CENTRAL</td>\n",
              "      <td>01 ONE FAMILY DWELLINGS</td>\n",
              "      <td>1</td>\n",
              "      <td>1917</td>\n",
              "      <td>121</td>\n",
              "      <td>NaN</td>\n",
              "      <td>A9</td>\n",
              "      <td>123 W 132 STREET</td>\n",
              "      <td>NaN</td>\n",
              "      <td>10027.0</td>\n",
              "      <td>1.0</td>\n",
              "      <td>0.0</td>\n",
              "      <td>1.0</td>\n",
              "      <td>1,699</td>\n",
              "      <td>3400.0</td>\n",
              "      <td>1910.0</td>\n",
              "      <td>1</td>\n",
              "      <td>A9</td>\n",
              "      <td>2230000</td>\n",
              "      <td>01/04/2019</td>\n",
              "    </tr>\n",
              "    <tr>\n",
              "      <th>486</th>\n",
              "      <td>1</td>\n",
              "      <td>UPPER EAST SIDE (59-79)</td>\n",
              "      <td>01 ONE FAMILY DWELLINGS</td>\n",
              "      <td>1</td>\n",
              "      <td>1397</td>\n",
              "      <td>23</td>\n",
              "      <td>NaN</td>\n",
              "      <td>S1</td>\n",
              "      <td>143 EAST 62ND STREET</td>\n",
              "      <td>NaN</td>\n",
              "      <td>10065.0</td>\n",
              "      <td>1.0</td>\n",
              "      <td>1.0</td>\n",
              "      <td>2.0</td>\n",
              "      <td>1,170</td>\n",
              "      <td>3120.0</td>\n",
              "      <td>1910.0</td>\n",
              "      <td>1</td>\n",
              "      <td>S1</td>\n",
              "      <td>0</td>\n",
              "      <td>01/04/2019</td>\n",
              "    </tr>\n",
              "    <tr>\n",
              "      <th>2417</th>\n",
              "      <td>1</td>\n",
              "      <td>UPPER EAST SIDE (59-79)</td>\n",
              "      <td>01 ONE FAMILY DWELLINGS</td>\n",
              "      <td>1</td>\n",
              "      <td>1398</td>\n",
              "      <td>5</td>\n",
              "      <td>NaN</td>\n",
              "      <td>A4</td>\n",
              "      <td>101 EAST 63RD STREET</td>\n",
              "      <td>NaN</td>\n",
              "      <td>10065.0</td>\n",
              "      <td>1.0</td>\n",
              "      <td>0.0</td>\n",
              "      <td>1.0</td>\n",
              "      <td>2,510</td>\n",
              "      <td>7349.0</td>\n",
              "      <td>1970.0</td>\n",
              "      <td>1</td>\n",
              "      <td>A4</td>\n",
              "      <td>18000000</td>\n",
              "      <td>01/15/2019</td>\n",
              "    </tr>\n",
              "    <tr>\n",
              "      <th>2962</th>\n",
              "      <td>1</td>\n",
              "      <td>GREENWICH VILLAGE-WEST</td>\n",
              "      <td>01 ONE FAMILY DWELLINGS</td>\n",
              "      <td>1</td>\n",
              "      <td>625</td>\n",
              "      <td>14</td>\n",
              "      <td>NaN</td>\n",
              "      <td>A4</td>\n",
              "      <td>613 HUDSON STREET</td>\n",
              "      <td>NaN</td>\n",
              "      <td>10014.0</td>\n",
              "      <td>1.0</td>\n",
              "      <td>0.0</td>\n",
              "      <td>1.0</td>\n",
              "      <td>600</td>\n",
              "      <td>2080.0</td>\n",
              "      <td>1899.0</td>\n",
              "      <td>1</td>\n",
              "      <td>A4</td>\n",
              "      <td>5100000</td>\n",
              "      <td>01/17/2019</td>\n",
              "    </tr>\n",
              "    <tr>\n",
              "      <th>3612</th>\n",
              "      <td>1</td>\n",
              "      <td>GREENWICH VILLAGE-WEST</td>\n",
              "      <td>01 ONE FAMILY DWELLINGS</td>\n",
              "      <td>1</td>\n",
              "      <td>593</td>\n",
              "      <td>41</td>\n",
              "      <td>NaN</td>\n",
              "      <td>S1</td>\n",
              "      <td>22 CHRISTOPHER STREET</td>\n",
              "      <td>NaN</td>\n",
              "      <td>10014.0</td>\n",
              "      <td>1.0</td>\n",
              "      <td>1.0</td>\n",
              "      <td>2.0</td>\n",
              "      <td>1,235</td>\n",
              "      <td>2739.0</td>\n",
              "      <td>1910.0</td>\n",
              "      <td>1</td>\n",
              "      <td>S1</td>\n",
              "      <td>5500000</td>\n",
              "      <td>01/21/2019</td>\n",
              "    </tr>\n",
              "    <tr>\n",
              "      <th>3986</th>\n",
              "      <td>1</td>\n",
              "      <td>HARLEM-CENTRAL</td>\n",
              "      <td>01 ONE FAMILY DWELLINGS</td>\n",
              "      <td>1</td>\n",
              "      <td>1903</td>\n",
              "      <td>25</td>\n",
              "      <td>NaN</td>\n",
              "      <td>A4</td>\n",
              "      <td>109 WEST 118 STREET</td>\n",
              "      <td>NaN</td>\n",
              "      <td>10026.0</td>\n",
              "      <td>1.0</td>\n",
              "      <td>0.0</td>\n",
              "      <td>1.0</td>\n",
              "      <td>2,018</td>\n",
              "      <td>4480.0</td>\n",
              "      <td>1910.0</td>\n",
              "      <td>1</td>\n",
              "      <td>A4</td>\n",
              "      <td>0</td>\n",
              "      <td>01/23/2019</td>\n",
              "    </tr>\n",
              "    <tr>\n",
              "      <th>4001</th>\n",
              "      <td>1</td>\n",
              "      <td>MURRAY HILL</td>\n",
              "      <td>01 ONE FAMILY DWELLINGS</td>\n",
              "      <td>1</td>\n",
              "      <td>885</td>\n",
              "      <td>65</td>\n",
              "      <td>NaN</td>\n",
              "      <td>A4</td>\n",
              "      <td>155 LEXINGTON AVENUE</td>\n",
              "      <td>NaN</td>\n",
              "      <td>10016.0</td>\n",
              "      <td>1.0</td>\n",
              "      <td>0.0</td>\n",
              "      <td>1.0</td>\n",
              "      <td>1,500</td>\n",
              "      <td>4125.0</td>\n",
              "      <td>1910.0</td>\n",
              "      <td>1</td>\n",
              "      <td>A4</td>\n",
              "      <td>4400000</td>\n",
              "      <td>01/23/2019</td>\n",
              "    </tr>\n",
              "    <tr>\n",
              "      <th>5380</th>\n",
              "      <td>1</td>\n",
              "      <td>GREENWICH VILLAGE-WEST</td>\n",
              "      <td>01 ONE FAMILY DWELLINGS</td>\n",
              "      <td>1</td>\n",
              "      <td>626</td>\n",
              "      <td>44</td>\n",
              "      <td>NaN</td>\n",
              "      <td>S0</td>\n",
              "      <td>37 8TH AVENUE</td>\n",
              "      <td>NaN</td>\n",
              "      <td>10014.0</td>\n",
              "      <td>1.0</td>\n",
              "      <td>2.0</td>\n",
              "      <td>3.0</td>\n",
              "      <td>803</td>\n",
              "      <td>5803.0</td>\n",
              "      <td>1901.0</td>\n",
              "      <td>1</td>\n",
              "      <td>S0</td>\n",
              "      <td>4900000</td>\n",
              "      <td>01/29/2019</td>\n",
              "    </tr>\n",
              "    <tr>\n",
              "      <th>6098</th>\n",
              "      <td>1</td>\n",
              "      <td>UPPER EAST SIDE (59-79)</td>\n",
              "      <td>01 ONE FAMILY DWELLINGS</td>\n",
              "      <td>1</td>\n",
              "      <td>1426</td>\n",
              "      <td>140</td>\n",
              "      <td>NaN</td>\n",
              "      <td>A4</td>\n",
              "      <td>216 EAST 72ND STREET</td>\n",
              "      <td>NaN</td>\n",
              "      <td>10021.0</td>\n",
              "      <td>1.0</td>\n",
              "      <td>0.0</td>\n",
              "      <td>1.0</td>\n",
              "      <td>1,822</td>\n",
              "      <td>3457.0</td>\n",
              "      <td>1901.0</td>\n",
              "      <td>1</td>\n",
              "      <td>A4</td>\n",
              "      <td>8850000</td>\n",
              "      <td>01/31/2019</td>\n",
              "    </tr>\n",
              "    <tr>\n",
              "      <th>6480</th>\n",
              "      <td>1</td>\n",
              "      <td>GREENWICH VILLAGE-CENTRAL</td>\n",
              "      <td>01 ONE FAMILY DWELLINGS</td>\n",
              "      <td>1</td>\n",
              "      <td>576</td>\n",
              "      <td>64</td>\n",
              "      <td>NaN</td>\n",
              "      <td>A4</td>\n",
              "      <td>45 WEST 12TH STREET</td>\n",
              "      <td>NaN</td>\n",
              "      <td>10011.0</td>\n",
              "      <td>1.0</td>\n",
              "      <td>0.0</td>\n",
              "      <td>1.0</td>\n",
              "      <td>1,024</td>\n",
              "      <td>1656.0</td>\n",
              "      <td>1901.0</td>\n",
              "      <td>1</td>\n",
              "      <td>A4</td>\n",
              "      <td>6600000</td>\n",
              "      <td>02/01/2019</td>\n",
              "    </tr>\n",
              "    <tr>\n",
              "      <th>6491</th>\n",
              "      <td>1</td>\n",
              "      <td>MIDTOWN EAST</td>\n",
              "      <td>01 ONE FAMILY DWELLINGS</td>\n",
              "      <td>1</td>\n",
              "      <td>1351</td>\n",
              "      <td>10</td>\n",
              "      <td>NaN</td>\n",
              "      <td>S1</td>\n",
              "      <td>321-323 EAST 58TH STREET</td>\n",
              "      <td>NaN</td>\n",
              "      <td>10022.0</td>\n",
              "      <td>1.0</td>\n",
              "      <td>1.0</td>\n",
              "      <td>2.0</td>\n",
              "      <td>3,100</td>\n",
              "      <td>5268.0</td>\n",
              "      <td>1958.0</td>\n",
              "      <td>1</td>\n",
              "      <td>S1</td>\n",
              "      <td>0</td>\n",
              "      <td>02/01/2019</td>\n",
              "    </tr>\n",
              "    <tr>\n",
              "      <th>6505</th>\n",
              "      <td>1</td>\n",
              "      <td>UPPER EAST SIDE (59-79)</td>\n",
              "      <td>01 ONE FAMILY DWELLINGS</td>\n",
              "      <td>1</td>\n",
              "      <td>1416</td>\n",
              "      <td>121</td>\n",
              "      <td>NaN</td>\n",
              "      <td>A4</td>\n",
              "      <td>253 EAST 61ST STREET</td>\n",
              "      <td>NaN</td>\n",
              "      <td>10065.0</td>\n",
              "      <td>1.0</td>\n",
              "      <td>0.0</td>\n",
              "      <td>1.0</td>\n",
              "      <td>1,386</td>\n",
              "      <td>2370.0</td>\n",
              "      <td>1899.0</td>\n",
              "      <td>1</td>\n",
              "      <td>A4</td>\n",
              "      <td>4600000</td>\n",
              "      <td>02/01/2019</td>\n",
              "    </tr>\n",
              "    <tr>\n",
              "      <th>7011</th>\n",
              "      <td>1</td>\n",
              "      <td>EAST VILLAGE</td>\n",
              "      <td>01 ONE FAMILY DWELLINGS</td>\n",
              "      <td>1</td>\n",
              "      <td>429</td>\n",
              "      <td>19</td>\n",
              "      <td>NaN</td>\n",
              "      <td>S1</td>\n",
              "      <td>113 EAST 2ND STREET</td>\n",
              "      <td>NaN</td>\n",
              "      <td>10009.0</td>\n",
              "      <td>1.0</td>\n",
              "      <td>1.0</td>\n",
              "      <td>2.0</td>\n",
              "      <td>2,648</td>\n",
              "      <td>10000.0</td>\n",
              "      <td>1900.0</td>\n",
              "      <td>1</td>\n",
              "      <td>S1</td>\n",
              "      <td>7400000</td>\n",
              "      <td>02/05/2019</td>\n",
              "    </tr>\n",
              "    <tr>\n",
              "      <th>7019</th>\n",
              "      <td>1</td>\n",
              "      <td>GREENWICH VILLAGE-WEST</td>\n",
              "      <td>01 ONE FAMILY DWELLINGS</td>\n",
              "      <td>1</td>\n",
              "      <td>590</td>\n",
              "      <td>42</td>\n",
              "      <td>NaN</td>\n",
              "      <td>A5</td>\n",
              "      <td>23 CORNELIA STREET</td>\n",
              "      <td>NaN</td>\n",
              "      <td>10014.0</td>\n",
              "      <td>1.0</td>\n",
              "      <td>0.0</td>\n",
              "      <td>1.0</td>\n",
              "      <td>2,056</td>\n",
              "      <td>3357.0</td>\n",
              "      <td>1899.0</td>\n",
              "      <td>1</td>\n",
              "      <td>A5</td>\n",
              "      <td>11500000</td>\n",
              "      <td>02/05/2019</td>\n",
              "    </tr>\n",
              "    <tr>\n",
              "      <th>7482</th>\n",
              "      <td>1</td>\n",
              "      <td>MIDTOWN EAST</td>\n",
              "      <td>01 ONE FAMILY DWELLINGS</td>\n",
              "      <td>1</td>\n",
              "      <td>1343</td>\n",
              "      <td>48</td>\n",
              "      <td>NaN</td>\n",
              "      <td>S1</td>\n",
              "      <td>306 EAST 51ST STREET</td>\n",
              "      <td>NaN</td>\n",
              "      <td>10022.0</td>\n",
              "      <td>1.0</td>\n",
              "      <td>1.0</td>\n",
              "      <td>2.0</td>\n",
              "      <td>1,858</td>\n",
              "      <td>4140.0</td>\n",
              "      <td>1899.0</td>\n",
              "      <td>1</td>\n",
              "      <td>S1</td>\n",
              "      <td>4800000</td>\n",
              "      <td>02/07/2019</td>\n",
              "    </tr>\n",
              "    <tr>\n",
              "      <th>8108</th>\n",
              "      <td>1</td>\n",
              "      <td>UPPER EAST SIDE (79-96)</td>\n",
              "      <td>01 ONE FAMILY DWELLINGS</td>\n",
              "      <td>1</td>\n",
              "      <td>1523</td>\n",
              "      <td>69</td>\n",
              "      <td>NaN</td>\n",
              "      <td>A4</td>\n",
              "      <td>1217 PARK AVENUE</td>\n",
              "      <td>NaN</td>\n",
              "      <td>10128.0</td>\n",
              "      <td>1.0</td>\n",
              "      <td>0.0</td>\n",
              "      <td>1.0</td>\n",
              "      <td>1,426</td>\n",
              "      <td>4620.0</td>\n",
              "      <td>1899.0</td>\n",
              "      <td>1</td>\n",
              "      <td>A4</td>\n",
              "      <td>0</td>\n",
              "      <td>02/11/2019</td>\n",
              "    </tr>\n",
              "    <tr>\n",
              "      <th>9639</th>\n",
              "      <td>1</td>\n",
              "      <td>UPPER EAST SIDE (59-79)</td>\n",
              "      <td>01 ONE FAMILY DWELLINGS</td>\n",
              "      <td>1</td>\n",
              "      <td>1383</td>\n",
              "      <td>32</td>\n",
              "      <td>NaN</td>\n",
              "      <td>A4</td>\n",
              "      <td>49 EAST 68TH STREET</td>\n",
              "      <td>NaN</td>\n",
              "      <td>10065.0</td>\n",
              "      <td>1.0</td>\n",
              "      <td>0.0</td>\n",
              "      <td>1.0</td>\n",
              "      <td>2,510</td>\n",
              "      <td>8200.0</td>\n",
              "      <td>1910.0</td>\n",
              "      <td>1</td>\n",
              "      <td>A4</td>\n",
              "      <td>19000000</td>\n",
              "      <td>02/19/2019</td>\n",
              "    </tr>\n",
              "    <tr>\n",
              "      <th>9942</th>\n",
              "      <td>1</td>\n",
              "      <td>UPPER WEST SIDE (79-96)</td>\n",
              "      <td>01 ONE FAMILY DWELLINGS</td>\n",
              "      <td>1</td>\n",
              "      <td>1198</td>\n",
              "      <td>108</td>\n",
              "      <td>NaN</td>\n",
              "      <td>A4</td>\n",
              "      <td>45 WEST 84TH STREET</td>\n",
              "      <td>NaN</td>\n",
              "      <td>10024.0</td>\n",
              "      <td>1.0</td>\n",
              "      <td>0.0</td>\n",
              "      <td>1.0</td>\n",
              "      <td>1,839</td>\n",
              "      <td>5954.0</td>\n",
              "      <td>1900.0</td>\n",
              "      <td>1</td>\n",
              "      <td>A4</td>\n",
              "      <td>8750000</td>\n",
              "      <td>02/20/2019</td>\n",
              "    </tr>\n",
              "    <tr>\n",
              "      <th>10488</th>\n",
              "      <td>1</td>\n",
              "      <td>UPPER EAST SIDE (59-79)</td>\n",
              "      <td>01 ONE FAMILY DWELLINGS</td>\n",
              "      <td>1</td>\n",
              "      <td>1443</td>\n",
              "      <td>33</td>\n",
              "      <td>NaN</td>\n",
              "      <td>A4</td>\n",
              "      <td>358 EAST 69TH STREET</td>\n",
              "      <td>NaN</td>\n",
              "      <td>10021.0</td>\n",
              "      <td>1.0</td>\n",
              "      <td>0.0</td>\n",
              "      <td>1.0</td>\n",
              "      <td>1,289</td>\n",
              "      <td>3898.0</td>\n",
              "      <td>1899.0</td>\n",
              "      <td>1</td>\n",
              "      <td>A4</td>\n",
              "      <td>7550000</td>\n",
              "      <td>02/22/2019</td>\n",
              "    </tr>\n",
              "    <tr>\n",
              "      <th>11038</th>\n",
              "      <td>1</td>\n",
              "      <td>HARLEM-CENTRAL</td>\n",
              "      <td>01 ONE FAMILY DWELLINGS</td>\n",
              "      <td>1</td>\n",
              "      <td>2025</td>\n",
              "      <td>2</td>\n",
              "      <td>NaN</td>\n",
              "      <td>A5</td>\n",
              "      <td>265 WEST 139 STREET</td>\n",
              "      <td>NaN</td>\n",
              "      <td>10030.0</td>\n",
              "      <td>1.0</td>\n",
              "      <td>0.0</td>\n",
              "      <td>1.0</td>\n",
              "      <td>1,898</td>\n",
              "      <td>2964.0</td>\n",
              "      <td>1920.0</td>\n",
              "      <td>1</td>\n",
              "      <td>A5</td>\n",
              "      <td>0</td>\n",
              "      <td>02/26/2019</td>\n",
              "    </tr>\n",
              "    <tr>\n",
              "      <th>11054</th>\n",
              "      <td>1</td>\n",
              "      <td>SOHO</td>\n",
              "      <td>01 ONE FAMILY DWELLINGS</td>\n",
              "      <td>1</td>\n",
              "      <td>595</td>\n",
              "      <td>74</td>\n",
              "      <td>NaN</td>\n",
              "      <td>A7</td>\n",
              "      <td>512 GREENWICH STREET</td>\n",
              "      <td>NaN</td>\n",
              "      <td>10013.0</td>\n",
              "      <td>1.0</td>\n",
              "      <td>0.0</td>\n",
              "      <td>1.0</td>\n",
              "      <td>756</td>\n",
              "      <td>4378.0</td>\n",
              "      <td>1900.0</td>\n",
              "      <td>1</td>\n",
              "      <td>A7</td>\n",
              "      <td>0</td>\n",
              "      <td>02/26/2019</td>\n",
              "    </tr>\n",
              "    <tr>\n",
              "      <th>11610</th>\n",
              "      <td>1</td>\n",
              "      <td>CHELSEA</td>\n",
              "      <td>01 ONE FAMILY DWELLINGS</td>\n",
              "      <td>1</td>\n",
              "      <td>693</td>\n",
              "      <td>39</td>\n",
              "      <td>NaN</td>\n",
              "      <td>S1</td>\n",
              "      <td>504 WEST 22ND STREET</td>\n",
              "      <td>NaN</td>\n",
              "      <td>10011.0</td>\n",
              "      <td>1.0</td>\n",
              "      <td>1.0</td>\n",
              "      <td>2.0</td>\n",
              "      <td>1,102</td>\n",
              "      <td>5390.0</td>\n",
              "      <td>1910.0</td>\n",
              "      <td>1</td>\n",
              "      <td>S1</td>\n",
              "      <td>0</td>\n",
              "      <td>02/28/2019</td>\n",
              "    </tr>\n",
              "    <tr>\n",
              "      <th>11654</th>\n",
              "      <td>1</td>\n",
              "      <td>UPPER EAST SIDE (59-79)</td>\n",
              "      <td>01 ONE FAMILY DWELLINGS</td>\n",
              "      <td>1</td>\n",
              "      <td>1416</td>\n",
              "      <td>20</td>\n",
              "      <td>NaN</td>\n",
              "      <td>A4</td>\n",
              "      <td>249 EAST 61ST STREET</td>\n",
              "      <td>NaN</td>\n",
              "      <td>10065.0</td>\n",
              "      <td>1.0</td>\n",
              "      <td>0.0</td>\n",
              "      <td>1.0</td>\n",
              "      <td>1,690</td>\n",
              "      <td>3731.0</td>\n",
              "      <td>1899.0</td>\n",
              "      <td>1</td>\n",
              "      <td>A4</td>\n",
              "      <td>0</td>\n",
              "      <td>02/28/2019</td>\n",
              "    </tr>\n",
              "    <tr>\n",
              "      <th>11679</th>\n",
              "      <td>1</td>\n",
              "      <td>UPPER WEST SIDE (79-96)</td>\n",
              "      <td>01 ONE FAMILY DWELLINGS</td>\n",
              "      <td>1</td>\n",
              "      <td>1244</td>\n",
              "      <td>38</td>\n",
              "      <td>NaN</td>\n",
              "      <td>A4</td>\n",
              "      <td>313 WEST 80TH STREET</td>\n",
              "      <td>NaN</td>\n",
              "      <td>10024.0</td>\n",
              "      <td>1.0</td>\n",
              "      <td>0.0</td>\n",
              "      <td>1.0</td>\n",
              "      <td>1,635</td>\n",
              "      <td>3596.0</td>\n",
              "      <td>1899.0</td>\n",
              "      <td>1</td>\n",
              "      <td>A4</td>\n",
              "      <td>0</td>\n",
              "      <td>02/28/2019</td>\n",
              "    </tr>\n",
              "    <tr>\n",
              "      <th>12373</th>\n",
              "      <td>1</td>\n",
              "      <td>UPPER EAST SIDE (79-96)</td>\n",
              "      <td>01 ONE FAMILY DWELLINGS</td>\n",
              "      <td>1</td>\n",
              "      <td>1494</td>\n",
              "      <td>11</td>\n",
              "      <td>NaN</td>\n",
              "      <td>A4</td>\n",
              "      <td>11 EAST 82ND STREET</td>\n",
              "      <td>NaN</td>\n",
              "      <td>10028.0</td>\n",
              "      <td>1.0</td>\n",
              "      <td>0.0</td>\n",
              "      <td>1.0</td>\n",
              "      <td>2,554</td>\n",
              "      <td>7340.0</td>\n",
              "      <td>1899.0</td>\n",
              "      <td>1</td>\n",
              "      <td>A4</td>\n",
              "      <td>30139360</td>\n",
              "      <td>03/04/2019</td>\n",
              "    </tr>\n",
              "    <tr>\n",
              "      <th>12816</th>\n",
              "      <td>1</td>\n",
              "      <td>INWOOD</td>\n",
              "      <td>01 ONE FAMILY DWELLINGS</td>\n",
              "      <td>1</td>\n",
              "      <td>2215</td>\n",
              "      <td>369</td>\n",
              "      <td>NaN</td>\n",
              "      <td>A9</td>\n",
              "      <td>40 ADRIAN AVENUE</td>\n",
              "      <td>NaN</td>\n",
              "      <td>10463.0</td>\n",
              "      <td>1.0</td>\n",
              "      <td>0.0</td>\n",
              "      <td>1.0</td>\n",
              "      <td>938</td>\n",
              "      <td>1440.0</td>\n",
              "      <td>1925.0</td>\n",
              "      <td>1</td>\n",
              "      <td>A9</td>\n",
              "      <td>739000</td>\n",
              "      <td>03/06/2019</td>\n",
              "    </tr>\n",
              "    <tr>\n",
              "      <th>13095</th>\n",
              "      <td>1</td>\n",
              "      <td>SOUTHBRIDGE</td>\n",
              "      <td>01 ONE FAMILY DWELLINGS</td>\n",
              "      <td>1</td>\n",
              "      <td>97</td>\n",
              "      <td>144</td>\n",
              "      <td>NaN</td>\n",
              "      <td>A9</td>\n",
              "      <td>138 BEEKMAN STREET</td>\n",
              "      <td>NaN</td>\n",
              "      <td>10038.0</td>\n",
              "      <td>1.0</td>\n",
              "      <td>0.0</td>\n",
              "      <td>1.0</td>\n",
              "      <td>469</td>\n",
              "      <td>1880.0</td>\n",
              "      <td>1988.0</td>\n",
              "      <td>1</td>\n",
              "      <td>A9</td>\n",
              "      <td>3075000</td>\n",
              "      <td>03/07/2019</td>\n",
              "    </tr>\n",
              "    <tr>\n",
              "      <th>13378</th>\n",
              "      <td>1</td>\n",
              "      <td>UPPER EAST SIDE (59-79)</td>\n",
              "      <td>01 ONE FAMILY DWELLINGS</td>\n",
              "      <td>1</td>\n",
              "      <td>1416</td>\n",
              "      <td>29</td>\n",
              "      <td>NaN</td>\n",
              "      <td>A4</td>\n",
              "      <td>246 EAST 62ND STREET</td>\n",
              "      <td>NaN</td>\n",
              "      <td>10065.0</td>\n",
              "      <td>1.0</td>\n",
              "      <td>0.0</td>\n",
              "      <td>1.0</td>\n",
              "      <td>1,707</td>\n",
              "      <td>3368.0</td>\n",
              "      <td>1905.0</td>\n",
              "      <td>1</td>\n",
              "      <td>A4</td>\n",
              "      <td>6400000</td>\n",
              "      <td>03/08/2019</td>\n",
              "    </tr>\n",
              "    <tr>\n",
              "      <th>13623</th>\n",
              "      <td>1</td>\n",
              "      <td>GREENWICH VILLAGE-CENTRAL</td>\n",
              "      <td>01 ONE FAMILY DWELLINGS</td>\n",
              "      <td>1</td>\n",
              "      <td>551</td>\n",
              "      <td>115</td>\n",
              "      <td>NaN</td>\n",
              "      <td>A9</td>\n",
              "      <td>6 MAC DOUGAL ALLEY</td>\n",
              "      <td>NaN</td>\n",
              "      <td>10011.0</td>\n",
              "      <td>1.0</td>\n",
              "      <td>0.0</td>\n",
              "      <td>1.0</td>\n",
              "      <td>950</td>\n",
              "      <td>1284.0</td>\n",
              "      <td>1900.0</td>\n",
              "      <td>1</td>\n",
              "      <td>A9</td>\n",
              "      <td>0</td>\n",
              "      <td>03/09/2019</td>\n",
              "    </tr>\n",
              "    <tr>\n",
              "      <th>15184</th>\n",
              "      <td>1</td>\n",
              "      <td>MURRAY HILL</td>\n",
              "      <td>01 ONE FAMILY DWELLINGS</td>\n",
              "      <td>1</td>\n",
              "      <td>893</td>\n",
              "      <td>58</td>\n",
              "      <td>NaN</td>\n",
              "      <td>A4</td>\n",
              "      <td>150 EAST 38TH STREET</td>\n",
              "      <td>NaN</td>\n",
              "      <td>10016.0</td>\n",
              "      <td>1.0</td>\n",
              "      <td>0.0</td>\n",
              "      <td>1.0</td>\n",
              "      <td>1,975</td>\n",
              "      <td>3680.0</td>\n",
              "      <td>1901.0</td>\n",
              "      <td>1</td>\n",
              "      <td>A4</td>\n",
              "      <td>3468750</td>\n",
              "      <td>03/18/2019</td>\n",
              "    </tr>\n",
              "    <tr>\n",
              "      <th>16543</th>\n",
              "      <td>1</td>\n",
              "      <td>GREENWICH VILLAGE-WEST</td>\n",
              "      <td>01 ONE FAMILY DWELLINGS</td>\n",
              "      <td>1</td>\n",
              "      <td>586</td>\n",
              "      <td>55</td>\n",
              "      <td>NaN</td>\n",
              "      <td>S1</td>\n",
              "      <td>16 MORTON STREET</td>\n",
              "      <td>NaN</td>\n",
              "      <td>10014.0</td>\n",
              "      <td>1.0</td>\n",
              "      <td>1.0</td>\n",
              "      <td>2.0</td>\n",
              "      <td>2,250</td>\n",
              "      <td>5662.0</td>\n",
              "      <td>1905.0</td>\n",
              "      <td>1</td>\n",
              "      <td>S1</td>\n",
              "      <td>14150000</td>\n",
              "      <td>03/25/2019</td>\n",
              "    </tr>\n",
              "    <tr>\n",
              "      <th>16836</th>\n",
              "      <td>1</td>\n",
              "      <td>HARLEM-UPPER</td>\n",
              "      <td>01 ONE FAMILY DWELLINGS</td>\n",
              "      <td>1</td>\n",
              "      <td>2073</td>\n",
              "      <td>15</td>\n",
              "      <td>NaN</td>\n",
              "      <td>A4</td>\n",
              "      <td>533 WEST 141 STREET</td>\n",
              "      <td>NaN</td>\n",
              "      <td>10031.0</td>\n",
              "      <td>1.0</td>\n",
              "      <td>0.0</td>\n",
              "      <td>1.0</td>\n",
              "      <td>1,232</td>\n",
              "      <td>2475.0</td>\n",
              "      <td>1920.0</td>\n",
              "      <td>1</td>\n",
              "      <td>A4</td>\n",
              "      <td>2300000</td>\n",
              "      <td>03/26/2019</td>\n",
              "    </tr>\n",
              "    <tr>\n",
              "      <th>18182</th>\n",
              "      <td>1</td>\n",
              "      <td>HARLEM-EAST</td>\n",
              "      <td>01 ONE FAMILY DWELLINGS</td>\n",
              "      <td>1</td>\n",
              "      <td>1708</td>\n",
              "      <td>24</td>\n",
              "      <td>NaN</td>\n",
              "      <td>A9</td>\n",
              "      <td>271 PLEASANT AVENUE</td>\n",
              "      <td>NaN</td>\n",
              "      <td>10029.0</td>\n",
              "      <td>1.0</td>\n",
              "      <td>0.0</td>\n",
              "      <td>1.0</td>\n",
              "      <td>928</td>\n",
              "      <td>2501.0</td>\n",
              "      <td>1890.0</td>\n",
              "      <td>1</td>\n",
              "      <td>A9</td>\n",
              "      <td>1</td>\n",
              "      <td>04/01/2019</td>\n",
              "    </tr>\n",
              "    <tr>\n",
              "      <th>18905</th>\n",
              "      <td>1</td>\n",
              "      <td>GREENWICH VILLAGE-WEST</td>\n",
              "      <td>01 ONE FAMILY DWELLINGS</td>\n",
              "      <td>1</td>\n",
              "      <td>613</td>\n",
              "      <td>49</td>\n",
              "      <td>NaN</td>\n",
              "      <td>A4</td>\n",
              "      <td>208 WEST 11TH STREET</td>\n",
              "      <td>NaN</td>\n",
              "      <td>10014.0</td>\n",
              "      <td>1.0</td>\n",
              "      <td>0.0</td>\n",
              "      <td>1.0</td>\n",
              "      <td>1,062</td>\n",
              "      <td>3040.0</td>\n",
              "      <td>1910.0</td>\n",
              "      <td>1</td>\n",
              "      <td>A4</td>\n",
              "      <td>8900000</td>\n",
              "      <td>04/04/2019</td>\n",
              "    </tr>\n",
              "    <tr>\n",
              "      <th>19174</th>\n",
              "      <td>1</td>\n",
              "      <td>HARLEM-UPPER</td>\n",
              "      <td>01 ONE FAMILY DWELLINGS</td>\n",
              "      <td>1</td>\n",
              "      <td>2059</td>\n",
              "      <td>38</td>\n",
              "      <td>NaN</td>\n",
              "      <td>A4</td>\n",
              "      <td>463 WEST 144 STREET</td>\n",
              "      <td>NaN</td>\n",
              "      <td>10031.0</td>\n",
              "      <td>1.0</td>\n",
              "      <td>0.0</td>\n",
              "      <td>1.0</td>\n",
              "      <td>1,998</td>\n",
              "      <td>3934.0</td>\n",
              "      <td>1901.0</td>\n",
              "      <td>1</td>\n",
              "      <td>A4</td>\n",
              "      <td>0</td>\n",
              "      <td>04/05/2019</td>\n",
              "    </tr>\n",
              "    <tr>\n",
              "      <th>19193</th>\n",
              "      <td>1</td>\n",
              "      <td>SOHO</td>\n",
              "      <td>01 ONE FAMILY DWELLINGS</td>\n",
              "      <td>1</td>\n",
              "      <td>490</td>\n",
              "      <td>29</td>\n",
              "      <td>NaN</td>\n",
              "      <td>A7</td>\n",
              "      <td>30 SULLIVAN STREET</td>\n",
              "      <td>NaN</td>\n",
              "      <td>10012.0</td>\n",
              "      <td>1.0</td>\n",
              "      <td>0.0</td>\n",
              "      <td>1.0</td>\n",
              "      <td>1,937</td>\n",
              "      <td>4607.0</td>\n",
              "      <td>2015.0</td>\n",
              "      <td>1</td>\n",
              "      <td>A7</td>\n",
              "      <td>12296500</td>\n",
              "      <td>04/05/2019</td>\n",
              "    </tr>\n",
              "    <tr>\n",
              "      <th>19453</th>\n",
              "      <td>1</td>\n",
              "      <td>GREENWICH VILLAGE-WEST</td>\n",
              "      <td>01 ONE FAMILY DWELLINGS</td>\n",
              "      <td>1</td>\n",
              "      <td>620</td>\n",
              "      <td>64</td>\n",
              "      <td>NaN</td>\n",
              "      <td>A4</td>\n",
              "      <td>66 CHARLES STREET</td>\n",
              "      <td>NaN</td>\n",
              "      <td>10014.0</td>\n",
              "      <td>1.0</td>\n",
              "      <td>0.0</td>\n",
              "      <td>1.0</td>\n",
              "      <td>910</td>\n",
              "      <td>2880.0</td>\n",
              "      <td>1899.0</td>\n",
              "      <td>1</td>\n",
              "      <td>A4</td>\n",
              "      <td>9750000</td>\n",
              "      <td>04/08/2019</td>\n",
              "    </tr>\n",
              "    <tr>\n",
              "      <th>20215</th>\n",
              "      <td>1</td>\n",
              "      <td>CHELSEA</td>\n",
              "      <td>01 ONE FAMILY DWELLINGS</td>\n",
              "      <td>1</td>\n",
              "      <td>768</td>\n",
              "      <td>8</td>\n",
              "      <td>NaN</td>\n",
              "      <td>A4</td>\n",
              "      <td>253 WEST 18TH STREET</td>\n",
              "      <td>NaN</td>\n",
              "      <td>10011.0</td>\n",
              "      <td>1.0</td>\n",
              "      <td>0.0</td>\n",
              "      <td>1.0</td>\n",
              "      <td>1,521</td>\n",
              "      <td>6984.0</td>\n",
              "      <td>1901.0</td>\n",
              "      <td>1</td>\n",
              "      <td>A4</td>\n",
              "      <td>12709140</td>\n",
              "      <td>04/11/2019</td>\n",
              "    </tr>\n",
              "    <tr>\n",
              "      <th>20483</th>\n",
              "      <td>1</td>\n",
              "      <td>INWOOD</td>\n",
              "      <td>01 ONE FAMILY DWELLINGS</td>\n",
              "      <td>1</td>\n",
              "      <td>2215</td>\n",
              "      <td>389</td>\n",
              "      <td>NaN</td>\n",
              "      <td>A9</td>\n",
              "      <td>36 VAN CORLEAR PLACE</td>\n",
              "      <td>NaN</td>\n",
              "      <td>10463.0</td>\n",
              "      <td>1.0</td>\n",
              "      <td>0.0</td>\n",
              "      <td>1.0</td>\n",
              "      <td>1,254</td>\n",
              "      <td>1528.0</td>\n",
              "      <td>1925.0</td>\n",
              "      <td>1</td>\n",
              "      <td>A9</td>\n",
              "      <td>375000</td>\n",
              "      <td>04/12/2019</td>\n",
              "    </tr>\n",
              "    <tr>\n",
              "      <th>20784</th>\n",
              "      <td>1</td>\n",
              "      <td>UPPER EAST SIDE (79-96)</td>\n",
              "      <td>01 ONE FAMILY DWELLINGS</td>\n",
              "      <td>1</td>\n",
              "      <td>1492</td>\n",
              "      <td>125</td>\n",
              "      <td>NaN</td>\n",
              "      <td>A4</td>\n",
              "      <td>51 EAST 80TH STREET</td>\n",
              "      <td>NaN</td>\n",
              "      <td>10075.0</td>\n",
              "      <td>1.0</td>\n",
              "      <td>0.0</td>\n",
              "      <td>1.0</td>\n",
              "      <td>2,350</td>\n",
              "      <td>8876.0</td>\n",
              "      <td>1899.0</td>\n",
              "      <td>1</td>\n",
              "      <td>A4</td>\n",
              "      <td>21500000</td>\n",
              "      <td>04/15/2019</td>\n",
              "    </tr>\n",
              "    <tr>\n",
              "      <th>21013</th>\n",
              "      <td>1</td>\n",
              "      <td>HARLEM-CENTRAL</td>\n",
              "      <td>01 ONE FAMILY DWELLINGS</td>\n",
              "      <td>1</td>\n",
              "      <td>1921</td>\n",
              "      <td>24</td>\n",
              "      <td>NaN</td>\n",
              "      <td>A9</td>\n",
              "      <td>115 WEST 136 STREET</td>\n",
              "      <td>NaN</td>\n",
              "      <td>10030.0</td>\n",
              "      <td>1.0</td>\n",
              "      <td>0.0</td>\n",
              "      <td>1.0</td>\n",
              "      <td>1,665</td>\n",
              "      <td>3000.0</td>\n",
              "      <td>1910.0</td>\n",
              "      <td>1</td>\n",
              "      <td>A9</td>\n",
              "      <td>1800000</td>\n",
              "      <td>04/16/2019</td>\n",
              "    </tr>\n",
              "    <tr>\n",
              "      <th>21035</th>\n",
              "      <td>1</td>\n",
              "      <td>UPPER EAST SIDE (59-79)</td>\n",
              "      <td>01 ONE FAMILY DWELLINGS</td>\n",
              "      <td>1</td>\n",
              "      <td>1405</td>\n",
              "      <td>145</td>\n",
              "      <td>NaN</td>\n",
              "      <td>A4</td>\n",
              "      <td>160 EAST 71ST STREET</td>\n",
              "      <td>NaN</td>\n",
              "      <td>10021.0</td>\n",
              "      <td>1.0</td>\n",
              "      <td>0.0</td>\n",
              "      <td>1.0</td>\n",
              "      <td>1,632</td>\n",
              "      <td>4314.0</td>\n",
              "      <td>1910.0</td>\n",
              "      <td>1</td>\n",
              "      <td>A4</td>\n",
              "      <td>8200000</td>\n",
              "      <td>04/16/2019</td>\n",
              "    </tr>\n",
              "  </tbody>\n",
              "</table>\n",
              "</div>"
            ],
            "text/plain": [
              "       borough               neighborhood  ... sale_price   sale_date\n",
              "469          1             HARLEM-CENTRAL  ...    2230000  01/04/2019\n",
              "486          1    UPPER EAST SIDE (59-79)  ...          0  01/04/2019\n",
              "2417         1    UPPER EAST SIDE (59-79)  ...   18000000  01/15/2019\n",
              "2962         1     GREENWICH VILLAGE-WEST  ...    5100000  01/17/2019\n",
              "3612         1     GREENWICH VILLAGE-WEST  ...    5500000  01/21/2019\n",
              "3986         1             HARLEM-CENTRAL  ...          0  01/23/2019\n",
              "4001         1                MURRAY HILL  ...    4400000  01/23/2019\n",
              "5380         1     GREENWICH VILLAGE-WEST  ...    4900000  01/29/2019\n",
              "6098         1    UPPER EAST SIDE (59-79)  ...    8850000  01/31/2019\n",
              "6480         1  GREENWICH VILLAGE-CENTRAL  ...    6600000  02/01/2019\n",
              "6491         1               MIDTOWN EAST  ...          0  02/01/2019\n",
              "6505         1    UPPER EAST SIDE (59-79)  ...    4600000  02/01/2019\n",
              "7011         1               EAST VILLAGE  ...    7400000  02/05/2019\n",
              "7019         1     GREENWICH VILLAGE-WEST  ...   11500000  02/05/2019\n",
              "7482         1               MIDTOWN EAST  ...    4800000  02/07/2019\n",
              "8108         1    UPPER EAST SIDE (79-96)  ...          0  02/11/2019\n",
              "9639         1    UPPER EAST SIDE (59-79)  ...   19000000  02/19/2019\n",
              "9942         1    UPPER WEST SIDE (79-96)  ...    8750000  02/20/2019\n",
              "10488        1    UPPER EAST SIDE (59-79)  ...    7550000  02/22/2019\n",
              "11038        1             HARLEM-CENTRAL  ...          0  02/26/2019\n",
              "11054        1                       SOHO  ...          0  02/26/2019\n",
              "11610        1                    CHELSEA  ...          0  02/28/2019\n",
              "11654        1    UPPER EAST SIDE (59-79)  ...          0  02/28/2019\n",
              "11679        1    UPPER WEST SIDE (79-96)  ...          0  02/28/2019\n",
              "12373        1    UPPER EAST SIDE (79-96)  ...   30139360  03/04/2019\n",
              "12816        1                     INWOOD  ...     739000  03/06/2019\n",
              "13095        1                SOUTHBRIDGE  ...    3075000  03/07/2019\n",
              "13378        1    UPPER EAST SIDE (59-79)  ...    6400000  03/08/2019\n",
              "13623        1  GREENWICH VILLAGE-CENTRAL  ...          0  03/09/2019\n",
              "15184        1                MURRAY HILL  ...    3468750  03/18/2019\n",
              "16543        1     GREENWICH VILLAGE-WEST  ...   14150000  03/25/2019\n",
              "16836        1               HARLEM-UPPER  ...    2300000  03/26/2019\n",
              "18182        1                HARLEM-EAST  ...          1  04/01/2019\n",
              "18905        1     GREENWICH VILLAGE-WEST  ...    8900000  04/04/2019\n",
              "19174        1               HARLEM-UPPER  ...          0  04/05/2019\n",
              "19193        1                       SOHO  ...   12296500  04/05/2019\n",
              "19453        1     GREENWICH VILLAGE-WEST  ...    9750000  04/08/2019\n",
              "20215        1                    CHELSEA  ...   12709140  04/11/2019\n",
              "20483        1                     INWOOD  ...     375000  04/12/2019\n",
              "20784        1    UPPER EAST SIDE (79-96)  ...   21500000  04/15/2019\n",
              "21013        1             HARLEM-CENTRAL  ...    1800000  04/16/2019\n",
              "21035        1    UPPER EAST SIDE (59-79)  ...    8200000  04/16/2019\n",
              "\n",
              "[42 rows x 21 columns]"
            ]
          },
          "metadata": {
            "tags": []
          },
          "execution_count": 187
        }
      ]
    },
    {
      "cell_type": "code",
      "metadata": {
        "id": "CIcoMWi0IR13",
        "colab_type": "code",
        "colab": {}
      },
      "source": [
        "data['sale_date'] = pd.to_datetime(data['sale_date'], infer_datetime_format=True)"
      ],
      "execution_count": 0,
      "outputs": []
    },
    {
      "cell_type": "markdown",
      "metadata": {
        "id": "nhMtVCFwQ5WX",
        "colab_type": "text"
      },
      "source": [
        "##Subset Data##\n",
        "to one family dwellings where sale price is more than 100,000 & less than 2 million dollars"
      ]
    },
    {
      "cell_type": "code",
      "metadata": {
        "id": "K6vuYH1QJfIF",
        "colab_type": "code",
        "colab": {}
      },
      "source": [
        "df = data[(data['building_class_category'] == '01 ONE FAMILY DWELLINGS'\n",
        ") & (data['sale_price'] > 100000) & (data['sale_price'] < 2000000)]"
      ],
      "execution_count": 0,
      "outputs": []
    },
    {
      "cell_type": "markdown",
      "metadata": {
        "id": "9_sRKpyCOFOr",
        "colab_type": "text"
      },
      "source": [
        "##Split data into train & test##"
      ]
    },
    {
      "cell_type": "code",
      "metadata": {
        "id": "1qXAaS8pOI3m",
        "colab_type": "code",
        "colab": {
          "base_uri": "https://localhost:8080/",
          "height": 102
        },
        "outputId": "c219bfb8-8615-4737-84c2-752a1a5bd286"
      },
      "source": [
        "df['sale_date'].dt.month.value_counts()"
      ],
      "execution_count": 190,
      "outputs": [
        {
          "output_type": "execute_result",
          "data": {
            "text/plain": [
              "1    947\n",
              "3    799\n",
              "2    761\n",
              "4    644\n",
              "Name: sale_date, dtype: int64"
            ]
          },
          "metadata": {
            "tags": []
          },
          "execution_count": 190
        }
      ]
    },
    {
      "cell_type": "code",
      "metadata": {
        "id": "mzI2WeNBOsQu",
        "colab_type": "code",
        "colab": {}
      },
      "source": [
        "#Use Jan-Mar to train, April to test\n",
        "train = df[df['sale_date'].dt.month < 4]\n",
        "test = df[df['sale_date'].dt.month == 4]"
      ],
      "execution_count": 0,
      "outputs": []
    },
    {
      "cell_type": "code",
      "metadata": {
        "id": "YW3lnMo6RwDC",
        "colab_type": "code",
        "colab": {
          "base_uri": "https://localhost:8080/",
          "height": 34
        },
        "outputId": "4d0cb3e0-b758-41f6-a0ae-265a8b2c5197"
      },
      "source": [
        "train.shape, test.shape"
      ],
      "execution_count": 192,
      "outputs": [
        {
          "output_type": "execute_result",
          "data": {
            "text/plain": [
              "((2507, 21), (644, 21))"
            ]
          },
          "metadata": {
            "tags": []
          },
          "execution_count": 192
        }
      ]
    },
    {
      "cell_type": "markdown",
      "metadata": {
        "id": "tgBuGH65p3U5",
        "colab_type": "text"
      },
      "source": [
        "##Explore Data & Visualize##"
      ]
    },
    {
      "cell_type": "code",
      "metadata": {
        "id": "8rzmjxk0SFhM",
        "colab_type": "code",
        "colab": {
          "base_uri": "https://localhost:8080/",
          "height": 238
        },
        "outputId": "5556da74-bf0c-4906-fdc3-337dba36d709"
      },
      "source": [
        "corr_matrix = train.corr()\n",
        "corr_matrix['sale_price'].sort_values(ascending=False)"
      ],
      "execution_count": 193,
      "outputs": [
        {
          "output_type": "execute_result",
          "data": {
            "text/plain": [
              "sale_price                   1.000000\n",
              "gross_square_feet            0.454418\n",
              "zip_code                     0.205550\n",
              "total_units                  0.149575\n",
              "commercial_units             0.123074\n",
              "residential_units            0.087763\n",
              "year_built                  -0.037376\n",
              "lot                         -0.047241\n",
              "borough                     -0.065355\n",
              "block                       -0.147684\n",
              "ease-ment                         NaN\n",
              "tax_class_at_time_of_sale         NaN\n",
              "Name: sale_price, dtype: float64"
            ]
          },
          "metadata": {
            "tags": []
          },
          "execution_count": 193
        }
      ]
    },
    {
      "cell_type": "code",
      "metadata": {
        "id": "Cw0r5iV7bM-O",
        "colab_type": "code",
        "colab": {
          "base_uri": "https://localhost:8080/",
          "height": 617
        },
        "outputId": "4e052a89-f759-463c-b034-75746e136b9e"
      },
      "source": [
        "import plotly.express as px\n",
        "px.scatter(\n",
        "    train,\n",
        "    x = 'gross_square_feet',\n",
        "    y = 'sale_price',\n",
        "    color = 'borough'\n",
        ")"
      ],
      "execution_count": 194,
      "outputs": [
        {
          "output_type": "display_data",
          "data": {
            "text/html": [
              "<html>\n",
              "<head><meta charset=\"utf-8\" /></head>\n",
              "<body>\n",
              "    <div>\n",
              "            <script src=\"https://cdnjs.cloudflare.com/ajax/libs/mathjax/2.7.5/MathJax.js?config=TeX-AMS-MML_SVG\"></script><script type=\"text/javascript\">if (window.MathJax) {MathJax.Hub.Config({SVG: {font: \"STIX-Web\"}});}</script>\n",
              "                <script type=\"text/javascript\">window.PlotlyConfig = {MathJaxConfig: 'local'};</script>\n",
              "        <script src=\"https://cdn.plot.ly/plotly-latest.min.js\"></script>    \n",
              "            <div id=\"6a46a5b6-043f-429d-ab3a-6d5824c3a6e8\" class=\"plotly-graph-div\" style=\"height:600px; width:100%;\"></div>\n",
              "            <script type=\"text/javascript\">\n",
              "                \n",
              "                    window.PLOTLYENV=window.PLOTLYENV || {};\n",
              "                    \n",
              "                if (document.getElementById(\"6a46a5b6-043f-429d-ab3a-6d5824c3a6e8\")) {\n",
              "                    Plotly.newPlot(\n",
              "                        '6a46a5b6-043f-429d-ab3a-6d5824c3a6e8',\n",
              "                        [{\"hoverlabel\": {\"namelength\": 0}, \"hovertemplate\": \"gross_square_feet=%{x}<br>sale_price=%{y}<br>borough=%{marker.color}\", \"legendgroup\": \"\", \"marker\": {\"color\": [3, 4, 2, 3, 3, 3, 3, 4, 4, 4, 4, 4, 4, 4, 4, 4, 4, 4, 4, 5, 5, 5, 5, 3, 3, 3, 3, 3, 3, 3, 3, 3, 4, 4, 4, 4, 4, 4, 4, 4, 4, 4, 4, 4, 4, 4, 4, 4, 4, 4, 4, 4, 4, 4, 5, 5, 5, 5, 5, 5, 5, 5, 5, 2, 2, 2, 3, 3, 3, 3, 3, 4, 4, 4, 4, 4, 4, 4, 4, 4, 4, 4, 4, 4, 4, 4, 4, 4, 4, 5, 5, 5, 5, 5, 5, 5, 2, 2, 2, 2, 2, 3, 3, 3, 3, 4, 4, 4, 4, 4, 4, 4, 4, 4, 4, 4, 4, 5, 5, 5, 5, 5, 5, 5, 5, 5, 2, 2, 2, 2, 2, 3, 3, 3, 3, 3, 4, 4, 4, 4, 4, 4, 4, 4, 4, 4, 4, 4, 4, 4, 4, 5, 5, 5, 5, 5, 5, 5, 5, 5, 5, 2, 2, 2, 2, 2, 3, 3, 3, 3, 3, 3, 3, 4, 4, 4, 4, 4, 4, 4, 4, 4, 4, 4, 4, 4, 4, 4, 4, 4, 4, 4, 4, 4, 4, 4, 5, 5, 5, 5, 5, 2, 2, 2, 3, 3, 3, 3, 3, 3, 4, 4, 4, 4, 4, 4, 4, 4, 4, 4, 4, 4, 4, 4, 4, 4, 4, 4, 4, 4, 5, 5, 5, 5, 5, 5, 5, 5, 5, 5, 5, 5, 2, 2, 2, 2, 2, 2, 2, 2, 3, 3, 3, 3, 3, 3, 4, 4, 4, 4, 4, 4, 4, 4, 4, 4, 4, 4, 4, 4, 4, 4, 4, 4, 4, 5, 5, 5, 5, 5, 5, 5, 5, 5, 5, 5, 5, 5, 5, 5, 5, 2, 2, 3, 3, 3, 3, 3, 4, 4, 4, 4, 4, 4, 4, 4, 4, 4, 4, 4, 4, 5, 5, 5, 5, 5, 5, 5, 5, 5, 2, 2, 2, 2, 2, 2, 3, 3, 3, 3, 3, 3, 3, 3, 3, 4, 4, 4, 4, 4, 4, 4, 4, 4, 4, 4, 4, 4, 4, 4, 4, 4, 4, 4, 4, 4, 4, 4, 4, 4, 4, 4, 5, 5, 5, 5, 5, 5, 5, 5, 5, 5, 5, 5, 5, 5, 5, 2, 2, 2, 3, 3, 3, 3, 3, 3, 3, 3, 4, 4, 4, 4, 4, 4, 4, 4, 4, 4, 4, 4, 4, 4, 4, 4, 4, 4, 4, 4, 4, 4, 4, 5, 5, 5, 5, 5, 5, 5, 5, 5, 2, 3, 3, 3, 3, 3, 3, 3, 3, 3, 4, 4, 4, 4, 4, 4, 4, 4, 4, 4, 4, 4, 4, 4, 4, 4, 4, 4, 4, 4, 4, 4, 4, 4, 4, 4, 4, 5, 5, 5, 5, 5, 5, 5, 5, 5, 5, 5, 5, 5, 5, 5, 2, 2, 2, 2, 2, 3, 3, 3, 3, 3, 3, 3, 3, 4, 4, 4, 4, 4, 4, 4, 4, 4, 4, 4, 4, 4, 4, 4, 4, 4, 4, 4, 4, 4, 4, 4, 4, 4, 4, 4, 4, 5, 5, 5, 5, 5, 5, 5, 5, 5, 5, 3, 4, 4, 4, 2, 2, 2, 2, 3, 3, 3, 3, 3, 3, 3, 3, 3, 4, 4, 4, 4, 4, 4, 4, 4, 4, 4, 4, 4, 4, 4, 4, 4, 4, 5, 5, 5, 5, 5, 5, 5, 5, 5, 5, 5, 5, 5, 5, 5, 5, 5, 2, 2, 3, 3, 3, 3, 3, 3, 3, 3, 4, 4, 4, 4, 4, 4, 4, 4, 4, 4, 4, 4, 4, 4, 4, 4, 4, 4, 4, 4, 4, 5, 5, 5, 5, 5, 5, 5, 5, 5, 5, 5, 2, 2, 2, 2, 2, 2, 2, 2, 3, 3, 3, 3, 3, 4, 4, 4, 4, 4, 4, 4, 4, 4, 4, 4, 4, 4, 4, 4, 4, 4, 4, 4, 4, 4, 4, 4, 4, 5, 5, 5, 5, 5, 5, 5, 5, 5, 5, 5, 5, 5, 5, 5, 5, 5, 5, 5, 2, 2, 2, 2, 2, 2, 3, 3, 3, 3, 3, 3, 3, 3, 4, 4, 4, 4, 4, 4, 4, 4, 4, 4, 4, 4, 4, 4, 4, 4, 4, 4, 4, 4, 4, 4, 4, 4, 4, 4, 4, 4, 5, 5, 5, 5, 5, 5, 5, 5, 5, 5, 5, 2, 2, 2, 3, 3, 3, 3, 3, 4, 4, 4, 4, 4, 4, 4, 4, 4, 4, 4, 4, 4, 4, 4, 4, 4, 4, 4, 4, 5, 5, 5, 5, 5, 5, 5, 5, 5, 5, 5, 5, 5, 5, 2, 2, 2, 2, 2, 3, 3, 3, 3, 3, 3, 4, 4, 4, 4, 4, 4, 4, 4, 4, 4, 4, 4, 4, 4, 4, 4, 4, 4, 4, 4, 4, 4, 4, 4, 4, 4, 5, 5, 5, 5, 5, 5, 5, 5, 5, 5, 5, 2, 2, 2, 2, 2, 3, 3, 3, 3, 3, 3, 4, 4, 4, 4, 4, 4, 4, 4, 4, 4, 4, 4, 4, 4, 4, 4, 4, 4, 4, 4, 5, 5, 5, 5, 5, 5, 5, 5, 5, 5, 5, 5, 5, 5, 5, 5, 5, 5, 5, 5, 5, 5, 5, 2, 2, 2, 2, 2, 2, 2, 2, 2, 2, 2, 3, 3, 3, 3, 3, 3, 3, 3, 3, 3, 3, 3, 3, 4, 4, 4, 4, 4, 4, 4, 4, 4, 4, 4, 4, 4, 4, 4, 4, 4, 4, 4, 4, 4, 4, 4, 4, 4, 4, 4, 4, 4, 4, 4, 4, 4, 4, 4, 4, 4, 4, 4, 5, 5, 5, 5, 5, 5, 5, 5, 5, 5, 5, 5, 5, 5, 5, 2, 2, 2, 2, 2, 3, 3, 3, 3, 4, 4, 4, 4, 4, 4, 4, 4, 4, 4, 4, 4, 4, 4, 4, 4, 4, 4, 4, 4, 4, 4, 5, 5, 5, 5, 5, 5, 5, 5, 5, 5, 5, 5, 2, 2, 2, 2, 3, 3, 3, 3, 4, 4, 4, 4, 4, 4, 4, 4, 4, 4, 4, 4, 4, 4, 5, 5, 5, 5, 5, 5, 2, 3, 3, 3, 3, 3, 3, 3, 3, 3, 3, 4, 4, 4, 4, 4, 4, 4, 4, 4, 4, 4, 4, 4, 4, 4, 4, 5, 5, 5, 5, 5, 5, 2, 2, 2, 3, 3, 4, 4, 4, 4, 4, 4, 4, 4, 4, 4, 4, 4, 4, 5, 5, 5, 2, 2, 2, 2, 3, 3, 3, 3, 3, 3, 3, 3, 3, 4, 4, 4, 4, 4, 4, 4, 4, 4, 4, 4, 4, 4, 4, 5, 5, 5, 5, 5, 5, 5, 5, 5, 5, 5, 5, 5, 2, 2, 2, 2, 2, 3, 3, 3, 3, 3, 3, 3, 3, 3, 3, 3, 4, 4, 4, 4, 4, 4, 4, 4, 4, 4, 4, 4, 4, 4, 4, 4, 4, 4, 4, 4, 4, 4, 4, 5, 5, 5, 5, 5, 5, 5, 5, 5, 2, 2, 2, 3, 3, 3, 3, 4, 4, 4, 4, 4, 4, 4, 4, 4, 4, 4, 4, 4, 4, 4, 4, 5, 5, 5, 5, 5, 5, 2, 2, 2, 2, 3, 3, 3, 3, 3, 3, 3, 3, 4, 4, 4, 4, 4, 4, 4, 4, 4, 4, 4, 4, 4, 4, 4, 4, 4, 4, 4, 5, 5, 5, 5, 5, 5, 5, 5, 5, 5, 5, 5, 5, 5, 5, 2, 2, 2, 2, 3, 3, 3, 3, 4, 4, 4, 4, 4, 4, 4, 4, 4, 4, 4, 4, 4, 4, 4, 5, 5, 5, 5, 5, 5, 5, 5, 5, 5, 2, 2, 2, 2, 2, 3, 3, 3, 3, 3, 3, 3, 3, 3, 4, 4, 4, 4, 4, 4, 4, 4, 4, 4, 4, 4, 4, 4, 4, 5, 5, 5, 5, 5, 5, 5, 5, 5, 5, 5, 2, 2, 2, 2, 3, 3, 3, 3, 3, 3, 3, 3, 4, 4, 4, 4, 4, 4, 4, 4, 4, 4, 4, 4, 4, 4, 4, 4, 4, 4, 4, 4, 4, 4, 4, 4, 5, 5, 5, 5, 5, 5, 5, 5, 5, 5, 5, 5, 5, 5, 5, 5, 4, 4, 4, 4, 2, 2, 2, 2, 2, 2, 3, 3, 3, 3, 3, 3, 3, 3, 4, 4, 4, 4, 4, 4, 4, 4, 4, 4, 4, 4, 4, 4, 5, 5, 5, 5, 5, 5, 5, 5, 2, 2, 2, 3, 3, 3, 3, 3, 3, 3, 3, 4, 4, 4, 4, 4, 4, 4, 4, 4, 4, 4, 4, 4, 4, 4, 4, 5, 5, 5, 5, 5, 5, 5, 5, 5, 5, 5, 5, 5, 5, 5, 2, 2, 2, 2, 3, 3, 3, 3, 3, 4, 4, 4, 4, 4, 4, 4, 4, 4, 4, 4, 4, 4, 4, 5, 5, 5, 5, 5, 5, 5, 5, 5, 5, 5, 5, 5, 5, 5, 5, 5, 2, 2, 2, 2, 2, 2, 3, 3, 3, 3, 3, 3, 3, 4, 4, 4, 4, 4, 4, 4, 4, 4, 4, 4, 4, 4, 4, 4, 4, 4, 4, 4, 4, 4, 4, 4, 5, 5, 5, 5, 5, 5, 5, 5, 5, 5, 5, 5, 5, 5, 5, 2, 2, 3, 3, 3, 3, 3, 3, 3, 3, 3, 4, 4, 4, 4, 4, 4, 4, 4, 4, 4, 4, 4, 4, 4, 4, 4, 4, 4, 4, 5, 5, 5, 5, 5, 5, 5, 5, 5, 2, 2, 2, 2, 3, 3, 3, 3, 3, 3, 3, 4, 4, 4, 4, 4, 4, 4, 4, 4, 4, 4, 4, 4, 4, 4, 4, 4, 4, 4, 4, 4, 4, 4, 5, 5, 5, 5, 5, 2, 3, 3, 3, 3, 3, 3, 3, 3, 3, 3, 3, 4, 4, 4, 4, 4, 4, 4, 4, 4, 4, 4, 4, 4, 4, 4, 4, 4, 4, 4, 4, 4, 5, 5, 5, 5, 5, 5, 2, 2, 2, 3, 3, 3, 3, 3, 3, 4, 4, 4, 4, 4, 4, 4, 4, 4, 4, 4, 4, 4, 4, 4, 4, 4, 4, 4, 4, 4, 4, 4, 4, 4, 4, 4, 4, 4, 4, 4, 4, 4, 5, 5, 5, 5, 5, 5, 5, 5, 5, 5, 5, 5, 5, 5, 5, 5, 2, 2, 2, 2, 2, 2, 2, 2, 3, 3, 3, 3, 4, 4, 4, 4, 4, 4, 4, 4, 4, 4, 4, 4, 4, 4, 4, 4, 4, 4, 5, 5, 5, 5, 5, 5, 5, 5, 5, 5, 2, 2, 3, 3, 4, 4, 4, 4, 4, 4, 4, 4, 4, 4, 4, 4, 4, 4, 5, 5, 5, 5, 5, 5, 5, 5, 5, 5, 5, 2, 2, 3, 3, 3, 3, 3, 3, 4, 4, 4, 4, 4, 4, 4, 4, 5, 5, 5, 5, 5, 5, 5, 1, 2, 2, 2, 2, 3, 3, 4, 4, 4, 4, 4, 4, 4, 4, 4, 4, 4, 4, 4, 4, 5, 5, 5, 5, 5, 5, 5, 5, 5, 2, 2, 3, 3, 3, 3, 3, 3, 3, 4, 4, 4, 4, 4, 4, 4, 4, 4, 4, 4, 4, 4, 4, 4, 4, 5, 5, 5, 5, 5, 5, 5, 5, 5, 2, 2, 3, 3, 3, 3, 3, 3, 4, 4, 4, 4, 4, 4, 4, 4, 4, 4, 4, 4, 4, 4, 4, 4, 4, 4, 4, 4, 4, 4, 4, 4, 4, 5, 5, 5, 5, 5, 5, 5, 5, 5, 5, 5, 5, 4, 2, 2, 2, 2, 3, 3, 3, 3, 3, 3, 4, 4, 4, 4, 4, 4, 4, 4, 4, 4, 4, 4, 4, 4, 4, 4, 4, 4, 4, 4, 4, 5, 5, 5, 5, 5, 5, 5, 5, 5, 5, 5, 5, 5, 2, 2, 2, 2, 3, 3, 3, 3, 3, 4, 4, 4, 4, 4, 4, 4, 4, 4, 4, 4, 4, 4, 4, 4, 4, 4, 4, 4, 4, 4, 4, 4, 4, 5, 5, 5, 5, 5, 5, 5, 5, 2, 2, 2, 2, 2, 3, 3, 3, 4, 4, 4, 4, 4, 4, 4, 4, 4, 4, 4, 4, 5, 5, 5, 5, 5, 5, 2, 2, 2, 2, 2, 2, 3, 3, 3, 3, 3, 3, 3, 3, 3, 4, 4, 4, 4, 4, 4, 4, 4, 4, 4, 4, 4, 4, 4, 4, 5, 5, 5, 5, 5, 5, 5, 5, 5, 5, 5, 2, 3, 3, 3, 3, 3, 4, 4, 4, 4, 4, 4, 4, 4, 4, 4, 4, 4, 4, 4, 4, 4, 4, 4, 4, 4, 4, 4, 4, 4, 4, 4, 4, 4, 4, 5, 5, 5, 5, 5, 5, 5, 5, 5, 5, 3, 2, 2, 2, 3, 3, 4, 4, 4, 4, 4, 4, 4, 4, 4, 4, 4, 4, 4, 4, 4, 5, 5, 5, 5, 5, 5, 5, 5, 5, 2, 2, 2, 2, 3, 3, 3, 3, 4, 4, 4, 4, 4, 4, 4, 4, 4, 4, 4, 4, 4, 4, 4, 4, 4, 4, 4, 4, 5, 5, 5, 5, 5, 5, 5, 5, 5, 2, 3, 3, 3, 3, 4, 4, 4, 4, 4, 4, 4, 4, 4, 4, 4, 5, 5, 5, 5, 5, 5, 5, 5, 5, 5, 2, 2, 2, 3, 3, 4, 4, 4, 4, 4, 4, 4, 4, 4, 4, 4, 4, 4, 4, 4, 4, 4, 4, 4, 4, 4, 5, 5, 5, 5, 5, 2, 2, 2, 2, 2, 2, 2, 2, 2, 3, 3, 3, 4, 4, 4, 4, 4, 4, 4, 4, 4, 4, 4, 4, 4, 4, 4, 4, 4, 4, 4, 4, 4, 4, 4, 4, 4, 5, 5, 5, 5, 5, 5, 5, 5, 5, 2, 2, 2, 3, 3, 3, 3, 3, 4, 4, 4, 4, 4, 4, 4, 4, 4, 4, 4, 4, 4, 4, 4, 4, 4, 4, 4, 5, 5, 5, 5, 5, 5, 5, 5, 5, 5, 5, 5, 5, 2, 2, 3, 3, 3, 3, 3, 3, 3, 3, 3, 3, 3, 3, 3, 4, 4, 4, 4, 4, 4, 4, 4, 4, 4, 4, 4, 4, 4, 5, 5, 5, 5, 5, 5, 5, 5, 5, 5, 5, 5, 5, 5, 2, 2, 2, 2, 3, 3, 3, 3, 3, 4, 4, 4, 4, 4, 4, 4, 4, 4, 4, 4, 4, 4, 4, 5, 5, 5, 5, 5, 5, 5, 5, 5, 5, 2, 2, 2, 2, 2, 3, 3, 3, 3, 3, 3, 3, 3, 4, 4, 4, 4, 4, 4, 4, 4, 4, 4, 4, 4, 4, 4, 4, 4, 4, 4, 4, 4, 4, 4, 5, 5, 5, 5, 5, 5, 5, 5, 5, 5, 5, 5, 5, 5, 5, 5, 2, 2, 2, 2, 2, 2, 3, 3, 3, 3, 3, 3, 3, 3, 3, 3, 3, 3, 3, 3, 3, 4, 4, 4, 4, 4, 4, 4, 4, 4, 4, 4, 4, 4, 4, 4, 4, 4, 4, 4, 4, 4, 4, 4, 4, 4, 4, 4, 4, 4, 5, 5, 5, 5, 5, 5, 5, 5, 5, 5, 5, 5, 4], \"coloraxis\": \"coloraxis\", \"symbol\": \"circle\"}, \"mode\": \"markers\", \"name\": \"\", \"showlegend\": false, \"type\": \"scattergl\", \"x\": [1325.0, 2001.0, 2043.0, 2680.0, 1872.0, 1932.0, 1722.0, 1396.0, 1260.0, 1440.0, 1831.0, 1000.0, 1540.0, 1782.0, 3203.0, 1535.0, 1280.0, 1426.0, 900.0, 2278.0, 1392.0, 736.0, 1850.0, 1296.0, 1869.0, 1120.0, 3004.0, 1280.0, 1949.0, 1368.0, 2394.0, 1296.0, 1544.0, 1344.0, 2222.0, 1480.0, 1780.0, 2808.0, 1184.0, 1638.0, 1601.0, 1530.0, 1418.0, 3228.0, 2175.0, 1540.0, 1758.0, 880.0, 1120.0, 1377.0, 1216.0, 1487.0, 1008.0, 880.0, 2208.0, 2130.0, 1645.0, 2087.0, 1888.0, 1428.0, 1230.0, 3050.0, 1557.0, 1620.0, 1727.0, 1748.0, 2877.0, 1134.0, 784.0, 1036.0, 1316.0, 1086.0, 1080.0, 1592.0, 2268.0, 1422.0, 1080.0, 864.0, 1332.0, 1528.0, 1344.0, 540.0, 1258.0, 1440.0, 1280.0, 1190.0, 1380.0, 1190.0, 1280.0, 1440.0, 1399.0, 1455.0, 1384.0, 1060.0, 1252.0, 2160.0, 1152.0, 1620.0, 1782.0, 1485.0, 1400.0, 1982.0, 1134.0, 1500.0, 1072.0, 1024.0, 1008.0, 1248.0, 1428.0, 1031.0, 1653.0, 1913.0, 1104.0, 1648.0, 1234.0, 1000.0, 1688.0, 988.0, 900.0, 1888.0, 1888.0, 1600.0, 944.0, 2700.0, 2365.0, 1900.0, 1965.0, 1440.0, 1660.0, 992.0, 1620.0, 1440.0, 1812.0, 1360.0, 2063.0, 744.0, 1088.0, 0.0, 2360.0, 1860.0, 1023.0, 1683.0, 1214.0, 1844.0, 1428.0, 969.0, 1328.0, 1600.0, 1200.0, 2455.0, 2052.0, 1008.0, 1152.0, 1345.0, 1200.0, 2814.0, 1360.0, 1578.0, 2205.0, 1200.0, 1450.0, 1648.0, 1100.0, 1280.0, 1116.0, 1360.0, 880.0, 1991.0, 1452.0, 956.0, 1840.0, 1282.0, 1434.0, 1594.0, 0.0, 1650.0, 1610.0, 1612.0, 2050.0, 1464.0, 1300.0, 1454.0, 1836.0, 1560.0, 1224.0, 1999.0, 1184.0, 1312.0, 912.0, 840.0, 1330.0, 1980.0, 1314.0, 1800.0, 2406.0, 1248.0, 1480.0, 870.0, 1394.0, 1440.0, 2916.0, 1836.0, 2640.0, 2007.0, 1024.0, 1500.0, 1448.0, 1648.0, 1180.0, 1064.0, 864.0, 1632.0, 1296.0, 2596.0, 1432.0, 1444.0, 1378.0, 1324.0, 1170.0, 1176.0, 910.0, 1522.0, 1288.0, 1368.0, 1504.0, 1035.0, 1608.0, 1623.0, 1224.0, 1144.0, 912.0, 960.0, 1400.0, 1496.0, 600.0, 2008.0, 1640.0, 1520.0, 1975.0, 704.0, 1896.0, 1144.0, 1160.0, 2140.0, 2187.0, 1914.0, 1980.0, 1600.0, 1998.0, 1044.0, 1760.0, 1116.0, 828.0, 1134.0, 3000.0, 1370.0, 0.0, 0.0, 1125.0, 2112.0, 1789.0, 1374.0, 1318.0, 2000.0, 1330.0, 1105.0, 1586.0, 1116.0, 1776.0, 1426.0, 1962.0, 1808.0, 960.0, 940.0, 1050.0, 2416.0, 1304.0, 900.0, 1050.0, 1813.0, 1400.0, 1200.0, 1120.0, 1622.0, 2600.0, 2300.0, 2650.0, 1242.0, 1360.0, 1650.0, 1088.0, 1520.0, 1512.0, 2048.0, 2608.0, 1776.0, 1476.0, 1751.0, 1910.0, 1056.0, 1172.0, 1224.0, 2101.0, 1476.0, 1683.0, 1760.0, 1400.0, 976.0, 1110.0, 1778.0, 1568.0, 625.0, 1144.0, 1434.0, 1564.0, 1182.0, 1080.0, 1050.0, 2888.0, 1466.0, 1188.0, 1116.0, 1224.0, 1908.0, 0.0, 1186.0, 1030.0, 1280.0, 1248.0, 1118.0, 680.0, 676.0, 1635.0, 2831.0, 1036.0, 1038.0, 1680.0, 1660.0, 1438.0, 1152.0, 1125.0, 1831.0, 1831.0, 1995.0, 1040.0, 1726.0, 821.0, 1232.0, 1440.0, 1360.0, 930.0, 748.0, 861.0, 1248.0, 1304.0, 1088.0, 1240.0, 874.0, 1402.0, 1296.0, 1440.0, 1870.0, 1496.0, 1280.0, 1245.0, 375.0, 1600.0, 1672.0, 1232.0, 2184.0, 1160.0, 1776.0, 1112.0, 1616.0, 850.0, 912.0, 2550.0, 1732.0, 1216.0, 2210.0, 1036.0, 1296.0, 2328.0, 2040.0, 1274.0, 1452.0, 1312.0, 876.0, 1920.0, 1436.0, 1552.0, 0.0, 0.0, 0.0, 1358.0, 1152.0, 1300.0, 1632.0, 1540.0, 2264.0, 1520.0, 1332.0, 1312.0, 1206.0, 1620.0, 1557.0, 1890.0, 960.0, 1282.0, 1312.0, 560.0, 1552.0, 1408.0, 1664.0, 1890.0, 800.0, 2393.0, 1012.0, 1280.0, 1200.0, 1712.0, 1260.0, 2124.0, 1148.0, 2288.0, 1056.0, 1532.0, 2878.0, 1800.0, 1568.0, 3680.0, 1780.0, 1066.0, 1267.0, 1092.0, 1765.0, 1424.0, 1551.0, 2538.0, 1765.0, 1089.0, 1225.0, 1368.0, 1216.0, 992.0, 1356.0, 1170.0, 1245.0, 1248.0, 896.0, 900.0, 1076.0, 1360.0, 1200.0, 1424.0, 1580.0, 1536.0, 944.0, 1050.0, 2275.0, 1600.0, 1344.0, 3096.0, 944.0, 960.0, 2364.0, 4394.0, 1728.0, 1192.0, 2900.0, 1312.0, 1014.0, 960.0, 1944.0, 1729.0, 1944.0, 1400.0, 1820.0, 1494.0, 960.0, 3316.0, 1660.0, 918.0, 3000.0, 1198.0, 2472.0, 698.0, 2705.0, 1216.0, 2261.0, 990.0, 2200.0, 1205.0, 1976.0, 2096.0, 2248.0, 1444.0, 683.0, 1292.0, 1512.0, 1142.0, 1552.0, 1382.0, 1400.0, 1210.0, 885.0, 952.0, 1208.0, 1520.0, 960.0, 1428.0, 1812.0, 2158.0, 1638.0, 1539.0, 1920.0, 1440.0, 1450.0, 2660.0, 1600.0, 1104.0, 1440.0, 1100.0, 660.0, 1362.0, 1360.0, 1200.0, 960.0, 1575.0, 1424.0, 1820.0, 1560.0, 3200.0, 1320.0, 1800.0, 1344.0, 1240.0, 1330.0, 1008.0, 1408.0, 1120.0, 1020.0, 1050.0, 860.0, 1296.0, 1755.0, 1526.0, 1329.0, 1290.0, 1210.0, 720.0, 896.0, 1280.0, 1160.0, 1238.0, 1566.0, 1440.0, 910.0, 1020.0, 1110.0, 1440.0, 1044.0, 1232.0, 2242.0, 704.0, 1210.0, 1708.0, 1140.0, 1244.0, 1995.0, 1617.0, 2475.0, 1160.0, 2612.0, 1480.0, 2660.0, 1600.0, 784.0, 2500.0, 1170.0, 1460.0, 1104.0, 3836.0, 1036.0, 1090.0, 1520.0, 0.0, 1360.0, 1950.0, 1216.0, 2100.0, 1750.0, 1776.0, 1668.0, 2003.0, 1344.0, 1720.0, 1114.0, 1796.0, 1238.0, 800.0, 1480.0, 1632.0, 1508.0, 952.0, 1700.0, 2165.0, 1360.0, 2344.0, 2132.0, 1298.0, 1312.0, 1452.0, 1412.0, 1050.0, 1060.0, 2492.0, 1785.0, 1147.0, 1578.0, 1300.0, 1096.0, 1925.0, 1512.0, 1814.0, 1716.0, 1280.0, 864.0, 1959.0, 0.0, 2486.0, 1338.0, 1260.0, 1322.0, 1620.0, 2700.0, 2050.0, 1683.0, 1489.0, 1916.0, 1320.0, 1200.0, 1180.0, 1672.0, 1344.0, 1152.0, 1224.0, 1566.0, 660.0, 874.0, 1460.0, 1566.0, 1448.0, 1578.0, 872.0, 1792.0, 1332.0, 816.0, 1220.0, 1460.0, 1200.0, 488.0, 1242.0, 1530.0, 2500.0, 900.0, 660.0, 1250.0, 1040.0, 1280.0, 1368.0, 920.0, 1751.0, 1560.0, 2014.0, 1216.0, 0.0, 0.0, 1548.0, 1332.0, 1300.0, 904.0, 1726.0, 1764.0, 964.0, 1851.0, 1080.0, 1216.0, 1408.0, 1101.0, 1094.0, 1050.0, 1188.0, 1660.0, 1360.0, 1504.0, 1328.0, 924.0, 5184.0, 1700.0, 1724.0, 1392.0, 1620.0, 1305.0, 1933.0, 1536.0, 926.0, 1152.0, 820.0, 1568.0, 1630.0, 2360.0, 1265.0, 1116.0, 1160.0, 1150.0, 1192.0, 1350.0, 1020.0, 632.0, 2384.0, 1256.0, 1176.0, 1144.0, 1828.0, 761.0, 1794.0, 2160.0, 1116.0, 1116.0, 2292.0, 2310.0, 1342.0, 1758.0, 1434.0, 1488.0, 1321.0, 1472.0, 1088.0, 1160.0, 1650.0, 1568.0, 1680.0, 1650.0, 1050.0, 1560.0, 1456.0, 1288.0, 2212.0, 1828.0, 1760.0, 1168.0, 1568.0, 1180.0, 1300.0, 1400.0, 896.0, 1296.0, 1000.0, 1295.0, 960.0, 1352.0, 1056.0, 1480.0, 1600.0, 4455.0, 3372.0, 1188.0, 1646.0, 1792.0, 1224.0, 1224.0, 2464.0, 796.0, 1080.0, 1575.0, 1206.0, 1664.0, 1888.0, 924.0, 1084.0, 1111.0, 1000.0, 836.0, 1386.0, 1633.0, 1460.0, 3210.0, 1606.0, 1185.0, 1748.0, 1008.0, 1276.0, 4647.0, 990.0, 876.0, 648.0, 1024.0, 902.0, 1964.0, 1415.0, 1151.0, 1977.0, 2025.0, 825.0, 1252.0, 2000.0, 1100.0, 1622.0, 900.0, 1900.0, 2000.0, 1408.0, 1515.0, 1600.0, 1872.0, 1080.0, 1665.0, 1744.0, 1194.0, 1596.0, 720.0, 1024.0, 1770.0, 1288.0, 1388.0, 1242.0, 1202.0, 1472.0, 1506.0, 1044.0, 1636.0, 1300.0, 1350.0, 1255.0, 1585.0, 1224.0, 2120.0, 1520.0, 1280.0, 1056.0, 1026.0, 1600.0, 1200.0, 1296.0, 1324.0, 1552.0, 1690.0, 980.0, 1324.0, 1592.0, 2782.0, 1585.0, 1180.0, 1680.0, 1614.0, 1632.0, 1204.0, 1196.0, 1156.0, 1198.0, 1564.0, 2490.0, 1295.0, 1405.0, 960.0, 425.0, 904.0, 1040.0, 1254.0, 3468.0, 1683.0, 1776.0, 1718.0, 970.0, 576.0, 1380.0, 1920.0, 1328.0, 0.0, 1064.0, 1344.0, 1134.0, 1176.0, 2141.0, 1152.0, 1036.0, 2506.0, 1148.0, 1220.0, 1328.0, 792.0, 820.0, 1608.0, 1260.0, 1377.0, 996.0, 2037.0, 1202.0, 1150.0, 1224.0, 2540.0, 1469.0, 1216.0, 1031.0, 1980.0, 1500.0, 1296.0, 1182.0, 1808.0, 1204.0, 2196.0, 1296.0, 1280.0, 1691.0, 1160.0, 1212.0, 1100.0, 1624.0, 978.0, 1576.0, 1448.0, 1072.0, 1264.0, 942.0, 1468.0, 1296.0, 1720.0, 3184.0, 1516.0, 1476.0, 1344.0, 2484.0, 1339.0, 1350.0, 1848.0, 600.0, 1350.0, 2420.0, 1824.0, 1056.0, 1232.0, 744.0, 1080.0, 1696.0, 1636.0, 1457.0, 1690.0, 960.0, 1102.0, 1080.0, 1842.0, 1496.0, 1232.0, 2800.0, 1472.0, 0.0, 1624.0, 1300.0, 1679.0, 1368.0, 1326.0, 1232.0, 1280.0, 1500.0, 1795.0, 1327.0, 1330.0, 1216.0, 436.0, 1282.0, 1260.0, 1568.0, 1305.0, 1264.0, 1248.0, 784.0, 1148.0, 1536.0, 1232.0, 1806.0, 890.0, 1600.0, 1624.0, 1288.0, 1440.0, 1856.0, 1820.0, 1350.0, 1184.0, 1250.0, 2172.0, 1539.0, 1732.0, 1020.0, 1877.0, 1440.0, 1584.0, 1697.0, 1546.0, 1120.0, 1890.0, 1184.0, 2680.0, 2172.0, 1240.0, 1132.0, 1324.0, 1782.0, 1427.0, 896.0, 1344.0, 1408.0, 1440.0, 2132.0, 1014.0, 1280.0, 1230.0, 2244.0, 1320.0, 1904.0, 2929.0, 2128.0, 1120.0, 1544.0, 2868.0, 2384.0, 1264.0, 1408.0, 1826.0, 884.0, 2063.0, 1600.0, 1260.0, 1308.0, 1700.0, 924.0, 1814.0, 1650.0, 872.0, 1348.0, 1216.0, 2058.0, 1600.0, 1544.0, 2064.0, 1440.0, 540.0, 1793.0, 1064.0, 1344.0, 1585.0, 1224.0, 1512.0, 2090.0, 1845.0, 3800.0, 1360.0, 1320.0, 4215.0, 1610.0, 770.0, 2900.0, 4108.0, 1063.0, 2208.0, 800.0, 1080.0, 1200.0, 1440.0, 1196.0, 2069.0, 1782.0, 1594.0, 1496.0, 1605.0, 1320.0, 1960.0, 1440.0, 1536.0, 1428.0, 600.0, 1584.0, 2560.0, 1976.0, 1679.0, 1800.0, 1762.0, 1400.0, 1368.0, 1152.0, 1312.0, 1624.0, 2068.0, 1120.0, 1091.0, 1215.0, 1032.0, 1744.0, 960.0, 1440.0, 1680.0, 1000.0, 448.0, 1422.0, 1250.0, 1360.0, 1350.0, 1230.0, 1152.0, 2560.0, 1624.0, 1320.0, 1248.0, 1727.0, 1528.0, 2560.0, 1920.0, 1920.0, 1692.0, 1809.0, 1260.0, 1296.0, 1212.0, 1376.0, 1528.0, 1376.0, 585.0, 1248.0, 1360.0, 1808.0, 1504.0, 1536.0, 1100.0, 1144.0, 1680.0, 2025.0, 1550.0, 1392.0, 1330.0, 2100.0, 1320.0, 997.0, 1160.0, 1224.0, 1064.0, 900.0, 1296.0, 1089.0, 1525.0, 1831.0, 1281.0, 732.0, 3392.0, 600.0, 1552.0, 1519.0, 1200.0, 1044.0, 1520.0, 1468.0, 1584.0, 1840.0, 3360.0, 2511.0, 1992.0, 2464.0, 2120.0, 1094.0, 1224.0, 1485.0, 2567.0, 2134.0, 1141.0, 1208.0, 1344.0, 684.0, 1400.0, 1200.0, 1120.0, 1608.0, 1126.0, 1148.0, 3865.0, 2317.0, 1510.0, 944.0, 1260.0, 1580.0, 1534.0, 7500.0, 1494.0, 1813.0, 1320.0, 1020.0, 1328.0, 1288.0, 1575.0, 1154.0, 1583.0, 528.0, 866.0, 518.0, 1056.0, 1280.0, 1738.0, 1080.0, 938.0, 930.0, 1356.0, 1296.0, 1432.0, 1800.0, 4600.0, 1280.0, 1127.0, 779.0, 1256.0, 960.0, 1568.0, 1552.0, 1500.0, 960.0, 1484.0, 1000.0, 960.0, 1377.0, 1728.0, 1500.0, 1715.0, 1440.0, 900.0, 2022.0, 1020.0, 1775.0, 1246.0, 2002.0, 1554.0, 1776.0, 992.0, 1274.0, 2032.0, 2726.0, 1395.0, 1000.0, 1306.0, 2241.0, 2466.0, 1017.0, 1080.0, 1280.0, 1991.0, 780.0, 730.0, 1264.0, 1344.0, 1152.0, 1100.0, 4299.0, 1280.0, 2157.0, 1707.0, 1400.0, 1298.0, 1232.0, 1289.0, 1152.0, 1000.0, 1512.0, 1260.0, 1472.0, 1116.0, 0.0, 928.0, 1120.0, 1890.0, 1272.0, 1552.0, 1036.0, 3168.0, 996.0, 672.0, 2188.0, 949.0, 1325.0, 1400.0, 1760.0, 1800.0, 1656.0, 1312.0, 975.0, 845.0, 1440.0, 1648.0, 1416.0, 1475.0, 1140.0, 756.0, 1552.0, 1472.0, 1856.0, 1372.0, 1224.0, 1125.0, 1422.0, 1600.0, 1593.0, 2394.0, 1968.0, 1584.0, 1180.0, 2100.0, 1554.0, 1280.0, 1372.0, 1200.0, 1116.0, 1162.0, 2080.0, 1996.0, 3070.0, 1460.0, 0.0, 1600.0, 1296.0, 1456.0, 1552.0, 1260.0, 1696.0, 1518.0, 1725.0, 1104.0, 2392.0, 1144.0, 1335.0, 1350.0, 1307.0, 1175.0, 1528.0, 2058.0, 1320.0, 1140.0, 1598.0, 1200.0, 1354.0, 1378.0, 1160.0, 916.0, 1184.0, 928.0, 1248.0, 1214.0, 3661.0, 1200.0, 840.0, 1568.0, 1000.0, 1440.0, 1336.0, 1560.0, 630.0, 2274.0, 1280.0, 1078.0, 1920.0, 956.0, 1600.0, 1965.0, 1296.0, 1050.0, 720.0, 1408.0, 1488.0, 1416.0, 1960.0, 1120.0, 1092.0, 2460.0, 960.0, 1020.0, 1296.0, 1138.0, 1216.0, 1288.0, 1144.0, 1220.0, 946.0, 1080.0, 996.0, 1012.0, 1240.0, 1268.0, 1516.0, 1260.0, 1296.0, 1632.0, 1567.0, 1584.0, 1520.0, 2194.0, 1630.0, 960.0, 1600.0, 1361.0, 2688.0, 1266.0, 1520.0, 1420.0, 1170.0, 1280.0, 1729.0, 1920.0, 1152.0, 1548.0, 1764.0, 896.0, 1440.0, 1360.0, 1168.0, 900.0, 1020.0, 1608.0, 1264.0, 1820.0, 1332.0, 1320.0, 1274.0, 2280.0, 1076.0, 1320.0, 1470.0, 1248.0, 1709.0, 975.0, 1100.0, 1083.0, 2200.0, 1377.0, 1200.0, 960.0, 1140.0, 1480.0, 1920.0, 2355.0, 1492.0, 1192.0, 2320.0, 1472.0, 1586.0, 812.0, 946.0, 1284.0, 1456.0, 2020.0, 1367.0, 1450.0, 1296.0, 1440.0, 1224.0, 1416.0, 1376.0, 600.0, 1144.0, 1516.0, 1248.0, 1260.0, 2025.0, 1356.0, 1440.0, 1890.0, 2452.0, 1440.0, 1848.0, 1902.0, 1077.0, 1344.0, 1528.0, 1750.0, 1600.0, 1145.0, 1372.0, 996.0, 756.0, 1238.0, 1488.0, 1470.0, 1728.0, 1568.0, 1632.0, 858.0, 1120.0, 2001.0, 1056.0, 1424.0, 585.0, 1115.0, 0.0, 0.0, 2485.0, 1732.0, 1092.0, 1044.0, 1400.0, 1208.0, 1125.0, 2004.0, 1222.0, 1376.0, 1188.0, 2289.0, 833.0, 1152.0, 1116.0, 1464.0, 1264.0, 760.0, 1600.0, 1186.0, 1008.0, 1300.0, 1632.0, 1120.0, 1040.0, 2221.0, 2072.0, 1500.0, 1636.0, 1320.0, 1224.0, 1716.0, 1348.0, 1132.0, 2190.0, 1084.0, 931.0, 1464.0, 1520.0, 1344.0, 1200.0, 1120.0, 952.0, 799.0, 1536.0, 1325.0, 1086.0, 2548.0, 1326.0, 0.0, 3318.0, 1496.0, 1488.0, 1296.0, 1249.0, 1284.0, 2384.0, 2047.0, 1050.0, 978.0, 952.0, 1148.0, 896.0, 1152.0, 1128.0, 1144.0, 1190.0, 1470.0, 1215.0, 2416.0, 1396.0, 1084.0, 1112.0, 1381.0, 1280.0, 1152.0, 1638.0, 1690.0, 1260.0, 1676.0, 2786.0, 1408.0, 1584.0, 1000.0, 1916.0, 1650.0, 1296.0, 1304.0, 1224.0, 1749.0, 1772.0, 1088.0, 1728.0, 1392.0, 1148.0, 1274.0, 1350.0, 1084.0, 1712.0, 1392.0, 992.0, 854.0, 1552.0, 1524.0, 1399.0, 1700.0, 1338.0, 1328.0, 1354.0, 1200.0, 1500.0, 1536.0, 1124.0, 2412.0, 1450.0, 2000.0, 1056.0, 1260.0, 1192.0, 1998.0, 1203.0, 1360.0, 1944.0, 1463.0, 1248.0, 1424.0, 1024.0, 1380.0, 1095.0, 1130.0, 1040.0, 1296.0, 1325.0, 2536.0, 2275.0, 1080.0, 1080.0, 1136.0, 1368.0, 2072.0, 1536.0, 1436.0, 1248.0, 1054.0, 1020.0, 1432.0, 1200.0, 1248.0, 3078.0, 2262.0, 752.0, 2520.0, 1680.0, 1400.0, 1236.0, 1452.0, 1120.0, 1098.0, 1452.0, 1288.0, 1408.0, 1925.0, 2086.0, 1024.0, 1240.0, 1144.0, 816.0, 1246.0, 3027.0, 1683.0, 468.0, 1668.0, 1914.0, 1194.0, 1200.0, 1500.0, 1364.0, 1364.0, 1440.0, 1566.0, 1566.0, 2083.0, 2230.0, 1344.0, 1442.0, 1600.0, 850.0, 1350.0, 1188.0, 1860.0, 1672.0, 1344.0, 1591.0, 1235.0, 1480.0, 1320.0, 996.0, 1472.0, 976.0, 1404.0, 1240.0, 3040.0, 1440.0, 1460.0, 960.0, 728.0, 2236.0, 1108.0, 970.0, 1775.0, 1584.0, 1714.0, 2110.0, 2400.0, 1800.0, 0.0, 0.0, 1152.0, 1064.0, 1280.0, 2524.0, 1000.0, 2604.0, 0.0, 1248.0, 1500.0, 1715.0, 1990.0, 1409.0, 1182.0, 1888.0, 892.0, 1135.0, 1080.0, 1552.0, 842.0, 1297.0, 1369.0, 2132.0, 1282.0, 1804.0, 1170.0, 1595.0, 1420.0, 1564.0, 1200.0, 1198.0, 1058.0, 1500.0, 1724.0, 1742.0, 1300.0, 1320.0, 1577.0, 1296.0, 882.0, 1702.0, 1188.0, 1224.0, 2716.0, 1296.0, 1403.0, 960.0, 1638.0, 759.0, 850.0, 1125.0, 896.0, 2350.0, 1240.0, 1248.0, 1260.0, 912.0, 864.0, 2000.0, 1400.0, 1520.0, 1680.0, 4180.0, 1080.0, 1998.0, 2350.0, 2172.0, 1266.0, 1570.0, 2508.0, 1376.0, 640.0, 1064.0, 1408.0, 1720.0, 1050.0, 1008.0, 1188.0, 2006.0, 1410.0, 1240.0, 1855.0, 1568.0, 1496.0, 1350.0, 1812.0, 1440.0, 1433.0, 1126.0, 960.0, 1744.0, 1824.0, 1008.0, 1144.0, 900.0, 1375.0, 1480.0, 1440.0, 572.0, 1550.0, 1294.0, 1200.0, 1328.0, 2360.0, 1280.0, 1460.0, 1057.0, 3559.0, 1496.0, 2688.0, 1756.0, 2248.0, 1506.0, 1260.0, 1228.0, 1192.0, 1540.0, 2178.0, 1296.0, 1116.0, 988.0, 2280.0, 2099.0, 3240.0, 1376.0, 1152.0, 1664.0, 1296.0, 2044.0, 2289.0, 1304.0, 1480.0, 990.0, 1120.0, 1128.0, 912.0, 975.0, 975.0, 1428.0, 2186.0, 1508.0, 1368.0, 1096.0, 1440.0, 1152.0, 1084.0, 1230.0, 1970.0, 1800.0, 1372.0, 2047.0, 1750.0, 1323.0, 1344.0, 2176.0, 1320.0, 1512.0, 1308.0, 1240.0, 1080.0, 1600.0, 1260.0, 2651.0, 1530.0, 2104.0, 1388.0, 1185.0, 1800.0, 1008.0, 1410.0, 1184.0, 1125.0, 1176.0, 1992.0, 1120.0, 1894.0, 1440.0, 975.0, 1592.0, 1664.0, 448.0, 1234.0, 1360.0, 2495.0, 1008.0, 936.0, 1196.0, 1536.0, 1900.0, 1566.0, 900.0, 2339.0, 1600.0, 2720.0, 1240.0, 1404.0, 2442.0, 1400.0, 874.0, 800.0, 2400.0, 2937.0, 1132.0, 1896.0, 1408.0, 1056.0, 1050.0, 888.0, 1400.0, 2190.0, 1224.0, 1316.0, 1536.0, 1559.0, 1440.0, 1638.0, 1672.0, 1203.0, 1068.0, 896.0, 1440.0, 1147.0, 1236.0, 1320.0, 1020.0, 1060.0, 1645.0, 2352.0, 1400.0, 1300.0, 1112.0, 1200.0, 726.0, 576.0, 600.0, 1152.0, 1660.0, 1552.0, 1026.0, 1120.0, 780.0, 2018.0, 1560.0, 1300.0, 1148.0, 1120.0, 860.0, 896.0, 1110.0, 1624.0, 3366.0, 1997.0, 0.0, 1542.0, 1056.0, 1840.0, 1050.0, 1352.0, 1280.0, 1768.0, 1632.0, 1278.0, 1360.0, 1156.0, 1329.0, 1120.0, 2220.0, 1498.0, 1520.0, 1020.0, 1600.0, 992.0, 1384.0, 1354.0, 1392.0, 1214.0, 1923.0, 2064.0, 1622.0, 880.0, 1864.0, 1116.0, 1980.0, 2310.0, 1550.0, 0.0, 1620.0, 1200.0, 870.0, 1230.0, 1076.0, 1552.0, 1372.0, 1224.0, 2250.0, 1120.0, 2430.0, 1248.0, 1552.0, 978.0, 1230.0, 1056.0, 1000.0, 1066.0, 1104.0, 7200.0, 1490.0, 1418.0, 1180.0, 1160.0, 1400.0, 944.0, 1136.0, 1752.0, 2040.0, 2400.0, 858.0, 1352.0, 1400.0, 934.0, 1092.0, 1839.0, 900.0, 1868.0, 2568.0, 1592.0, 1501.0, 1504.0, 1772.0, 1472.0, 2200.0, 740.0, 1608.0, 1299.0, 2250.0, 1088.0, 1168.0, 3540.0, 7875.0, 1440.0, 960.0, 2692.0, 924.0, 1489.0, 960.0, 1200.0, 1276.0, 1658.0, 570.0, 1323.0, 991.0, 1584.0, 1536.0, 2241.0, 1407.0, 1122.0, 2296.0, 0.0, 0.0, 3773.0, 896.0, 1150.0, 2310.0, 1208.0, 1853.0, 1125.0, 1680.0, 1224.0, 1120.0, 1512.0, 1260.0, 1216.0, 1670.0, 1140.0, 796.0, 946.0, 1464.0, 867.0, 1576.0, 924.0, 1200.0, 1334.0, 1160.0, 1170.0, 960.0, 1470.0, 630.0, 1504.0, 1280.0, 1392.0, 1120.0, 1408.0, 5348.0, 946.0, 2358.0, 2295.0, 1377.0, 1120.0, 1312.0, 0.0, 0.0, 3520.0, 1424.0, 1464.0, 1196.0, 2002.0, 1240.0, 1145.0, 1080.0, 1400.0, 1160.0, 1868.0, 1672.0, 1038.0, 5178.0, 936.0, 1092.0, 2688.0, 1120.0, 1807.0, 996.0, 1156.0, 1570.0, 1488.0, 570.0, 1980.0, 1666.0, 1232.0, 1224.0, 2158.0, 732.0, 810.0, 1400.0, 1824.0, 1245.0, 1090.0, 1873.0, 1694.0, 1870.0, 1246.0, 2150.0, 1344.0, 1943.0, 1155.0, 2408.0, 1086.0, 1556.0, 928.0, 1169.0, 1168.0, 938.0, 1354.0, 1530.0, 696.0, 1406.0, 3080.0, 1248.0, 2339.0, 1242.0, 1658.0, 0.0, 1280.0, 1132.0, 1184.0, 868.0, 1795.0, 3070.0, 1292.0, 1061.0, 1576.0, 912.0, 1542.0, 1078.0, 1242.0, 946.0, 1412.0, 1552.0, 1470.0, 2238.0, 1848.0, 880.0, 2692.0, 1376.0, 1908.0, 1402.0, 2814.0, 1779.0, 1420.0, 1560.0, 1248.0, 1807.0, 1232.0, 1105.0, 2149.0, 2562.0, 784.0, 1296.0, 1260.0, 1864.0, 1728.0, 1302.0, 1794.0, 1296.0, 1305.0, 1125.0, 1056.0, 2226.0, 800.0, 1050.0, 945.0, 2268.0, 1585.0, 1264.0, 1208.0, 924.0, 1285.0, 1128.0, 1764.0, 1438.0, 1385.0, 740.0, 1328.0, 1960.0, 0.0, 1816.0, 1890.0, 2040.0, 1632.0, 1540.0, 1260.0, 1540.0, 2996.0, 1708.0, 2340.0, 1672.0, 1185.0, 2315.0, 1584.0, 1791.0, 1680.0, 1760.0, 1683.0, 1248.0, 1056.0, 1056.0, 1280.0, 1846.0, 1224.0, 1280.0, 1258.0, 1608.0, 910.0, 960.0, 760.0, 1874.0, 1304.0, 1440.0, 1144.0, 1425.0, 1538.0, 2000.0, 1273.0, 1224.0, 960.0, 1944.0, 1200.0, 1920.0, 1599.0, 1800.0, 3280.0, 1984.0, 1040.0, 1584.0, 2208.0, 1344.0, 1776.0, 1568.0, 1360.0, 2016.0, 600.0, 1216.0, 1190.0, 1683.0, 1040.0, 725.0, 2115.0, 1280.0, 1680.0, 1191.0, 1995.0, 1214.0, 1137.0, 4950.0, 2540.0, 1008.0, 1008.0, 1972.0, 1673.0, 768.0, 896.0, 1160.0, 1870.0, 2798.0, 1764.0, 1732.0, 702.0, 1251.0, 864.0, 1782.0, 1520.0, 1392.0, 1400.0, 2660.0, 1528.0, 2016.0, 2160.0, 1320.0, 1456.0, 1220.0, 2088.0, 0.0, 2100.0, 1092.0, 1480.0, 1995.0, 1520.0, 2744.0, 1876.0, 1368.0, 1480.0, 1568.0, 1920.0, 1580.0, 1858.0, 1131.0, 726.0, 1440.0, 2132.0, 576.0, 2476.0, 1168.0, 2128.0, 1368.0, 1200.0, 1536.0, 2160.0, 1546.0, 950.0, 1309.0, 1216.0, 492.0, 1316.0, 1218.0, 1882.0, 952.0, 1440.0, 1140.0, 1296.0, 1925.0, 2366.0, 1758.0, 1195.0, 1540.0, 2160.0, 1944.0, 1806.0, 966.0, 1152.0, 1056.0, 1206.0, 956.0, 1449.0, 1660.0, 1020.0, 1344.0, 637.0, 828.0, 850.0, 1208.0, 1160.0, 1446.0, 3208.0, 1448.0, 1440.0, 730.0, 2000.0, 1116.0, 1296.0, 1880.0, 1950.0, 1380.0, 1264.0, 1476.0, 1406.0, 1455.0, 2680.0, 1128.0, 1020.0, 1376.0, 1536.0, 1500.0, 4301.0, 710.0, 1760.0, 1248.0, 920.0, 1120.0, 1264.0, 1296.0, 1536.0, 1440.0, 1754.0, 1234.0, 3580.0, 1510.0, 1088.0, 920.0, 1304.0, 1800.0, 1280.0, 1144.0, 1830.0, 1645.0, 2620.0, 1360.0, 1756.0, 2501.0, 1200.0, 1204.0, 1176.0, 1024.0, 1534.0, 1925.0, 1320.0, 1152.0, 832.0, 3090.0, 1496.0, 1116.0, 1142.0, 1776.0, 1176.0, 1528.0, 1064.0, 1064.0, 1927.0, 1400.0, 1460.0, 1460.0, 1964.0, 1382.0, 1906.0, 1356.0, 896.0, 1405.0, 1620.0, 1776.0, 1704.0, 1020.0, 1826.0, 945.0, 1925.0, 3177.0, 1170.0, 1152.0, 1322.0, 2046.0, 1536.0, 1094.0, 1024.0, 896.0, 1248.0, 1658.0, 1140.0, 1200.0, 952.0, 1832.0, 1650.0, 1793.0, 1080.0, 1339.0, 1700.0, 1339.0, 1440.0, 1424.0, 864.0, 1092.0, 1528.0, 921.0, 2128.0, 1807.0, 621.0, 1163.0], \"xaxis\": \"x\", \"y\": [550000, 200000, 810000, 125000, 620000, 1150000, 836500, 955000, 820000, 980000, 430000, 700000, 448000, 670000, 1390000, 540000, 520000, 480000, 570000, 552000, 505000, 357500, 670000, 549000, 970000, 800000, 450000, 330000, 575000, 450000, 743000, 445000, 255000, 750000, 985000, 958000, 1440000, 200000, 930000, 990000, 810000, 670000, 1030000, 900000, 940000, 445000, 710000, 998000, 950000, 470000, 480000, 757504, 350000, 717359, 926608, 585500, 493000, 615000, 646589, 470000, 510000, 1705000, 643750, 465000, 320000, 730000, 300000, 494000, 670000, 525000, 640000, 870000, 780000, 350000, 1490000, 555000, 550000, 685000, 825000, 435000, 810000, 224094, 512275, 520000, 494500, 450000, 460000, 1290000, 890000, 530000, 445000, 452465, 560000, 440000, 625000, 588005, 420000, 416000, 570000, 335000, 108000, 1575000, 350000, 795000, 1100000, 670000, 760000, 645000, 650000, 492000, 590000, 830000, 330000, 590000, 646000, 446000, 550000, 640000, 445000, 646589, 639461, 520000, 125000, 349500, 700000, 355000, 355000, 200000, 499000, 265000, 300000, 980000, 1100000, 750000, 1163359, 710000, 915000, 350000, 1250000, 840000, 605000, 350000, 915000, 999999, 425000, 414987, 208000, 408000, 220000, 1872562, 830000, 410000, 395000, 555000, 443800, 743323, 539900, 763688, 889000, 572500, 632000, 465000, 340000, 400000, 395000, 470000, 510000, 821000, 529000, 650000, 859000, 790000, 1700000, 980000, 385000, 580000, 880888, 859000, 1153000, 788000, 990000, 825000, 515000, 840000, 600000, 1710660, 520000, 660000, 479000, 520000, 490000, 500000, 240000, 550000, 1218300, 500000, 540000, 500000, 580000, 515000, 1530000, 460000, 1750000, 380250, 990000, 405600, 820000, 210000, 499500, 415000, 300000, 850000, 885000, 1400000, 500000, 255000, 624000, 601000, 575000, 370000, 534560, 620000, 335000, 269500, 641000, 619000, 413950, 545000, 350000, 880000, 540000, 471500, 673330, 566368, 120000, 565000, 510569, 125000, 790000, 415000, 740000, 550000, 365000, 570000, 700000, 490000, 660000, 525000, 508402, 305000, 1400000, 430000, 357000, 450000, 1250000, 560000, 130000, 225000, 305000, 910000, 905000, 985000, 958000, 700000, 830000, 536000, 680000, 660000, 640000, 1280000, 630000, 529000, 390000, 425000, 680000, 850000, 531000, 250000, 539000, 775000, 599900, 475000, 475000, 600768, 749000, 781000, 675000, 599000, 499000, 490000, 630000, 460000, 490000, 780000, 1850000, 250000, 294000, 1500000, 965000, 487000, 380000, 650000, 730000, 112000, 499999, 680000, 342000, 742000, 515000, 450000, 790000, 740000, 875000, 735000, 560000, 599000, 390000, 508500, 860000, 590585, 457500, 320000, 510000, 390000, 328600, 440000, 820000, 912500, 465000, 650000, 439000, 210000, 950000, 1685000, 599000, 405235, 970000, 1465000, 455000, 605394, 640000, 790000, 770000, 950000, 420000, 570000, 900000, 489600, 773000, 420000, 361000, 198000, 278000, 450000, 430000, 503000, 527500, 366877, 385000, 346029, 373692, 988000, 495000, 450000, 485000, 230000, 444000, 350000, 311912, 559144, 550000, 695000, 575000, 589000, 475000, 250000, 1440000, 570000, 458800, 560000, 590000, 456300, 223000, 575000, 820000, 381550, 1025000, 699000, 1100000, 505000, 575000, 500000, 250000, 400000, 625000, 650000, 850000, 925000, 445000, 1295000, 700000, 763000, 615000, 114000, 630000, 665000, 515000, 517000, 850000, 600000, 700000, 597000, 352746, 900000, 875000, 570000, 455000, 499999, 375180, 410000, 515000, 780000, 1240000, 515000, 1200000, 385000, 818000, 1415000, 1165000, 1050000, 1600000, 1260000, 865000, 748000, 635000, 1675000, 985000, 885000, 790000, 679000, 280000, 800000, 670000, 641000, 450000, 390000, 485000, 463000, 467000, 446000, 610000, 579000, 490000, 451000, 770000, 990000, 440000, 360000, 600000, 607000, 585494, 533000, 860000, 415000, 685000, 580000, 1450000, 285075, 525000, 1120075, 360000, 265000, 245000, 475000, 512000, 510000, 334650, 990000, 900000, 335000, 1900000, 560000, 595000, 600000, 848000, 1250000, 800000, 1500000, 658000, 1578288, 1075000, 990000, 105000, 560038, 829000, 485000, 638000, 230000, 740000, 995000, 554500, 603500, 550000, 460000, 459500, 204800, 253000, 362900, 479000, 396000, 350000, 335000, 610000, 480000, 499000, 582500, 620000, 485000, 630000, 590000, 697000, 555000, 500000, 600000, 950000, 340000, 150000, 423000, 499000, 658820, 530000, 1150000, 1573500, 500000, 486000, 550000, 380000, 644000, 730000, 851000, 730000, 475000, 732000, 835000, 200000, 990000, 925000, 990000, 1200000, 560000, 525000, 489000, 160000, 380000, 385000, 740000, 1090000, 498000, 498900, 490000, 555000, 590000, 469900, 620000, 565000, 405000, 425000, 307000, 450000, 243360, 445000, 795000, 450000, 655498, 529791, 795000, 988000, 729000, 400000, 830000, 675000, 890000, 850000, 515000, 899888, 700000, 277000, 760000, 630000, 770000, 825000, 600000, 1015000, 715000, 371000, 365040, 500000, 975000, 781000, 396000, 275000, 400530, 580000, 112000, 1125000, 470000, 575210, 800000, 772500, 963538, 477000, 415000, 420810, 360500, 369000, 365000, 241000, 555000, 465000, 540750, 740000, 332000, 499000, 301665, 1500000, 683000, 560000, 499000, 1775000, 450000, 211650, 715000, 780000, 905000, 555000, 820000, 715000, 628900, 838000, 795000, 560000, 435000, 610000, 618000, 960000, 555000, 532000, 670000, 375000, 450000, 342000, 435000, 245500, 720000, 520000, 515000, 555000, 399888, 370023, 850000, 540000, 210000, 449000, 430000, 334620, 265000, 248132, 373600, 362000, 415000, 453124, 620000, 550000, 300000, 835000, 550000, 614000, 568600, 1060000, 479000, 181875, 490000, 991670, 1425000, 1570000, 800000, 777000, 690000, 800000, 650000, 660000, 950000, 747000, 785000, 700000, 712000, 710000, 730000, 990000, 1031285, 1120413, 515000, 485000, 565000, 545000, 400000, 325000, 440000, 495000, 656000, 590000, 250000, 475000, 760000, 500000, 410000, 492000, 525000, 485000, 240000, 745000, 247850, 445000, 384500, 822500, 375000, 525000, 760000, 450000, 540000, 980000, 1150000, 760000, 999000, 799000, 600000, 425000, 832500, 515000, 720000, 655000, 640000, 990000, 740000, 450000, 590000, 965000, 668900, 1180000, 390000, 255000, 499931, 705094, 266667, 539000, 568000, 475000, 525000, 248000, 678000, 385000, 450000, 755000, 440000, 430000, 1050000, 1452500, 573000, 575000, 440000, 425000, 575000, 670000, 500000, 230000, 688888, 835000, 740000, 290000, 535000, 340000, 175000, 639000, 845000, 700000, 740000, 915000, 1600000, 1050000, 630000, 640000, 730000, 525000, 1870000, 500000, 609000, 220000, 415000, 499999, 650000, 529000, 940000, 1552831, 1200000, 282000, 550000, 860000, 495000, 595676, 800000, 572000, 445000, 499000, 400000, 450000, 230000, 438000, 480000, 150000, 298100, 1100000, 175000, 530000, 500000, 650000, 615000, 935000, 830000, 550000, 640000, 610000, 836000, 784053, 915000, 750000, 685000, 300000, 640000, 785000, 518500, 490000, 228000, 600000, 470000, 630000, 540000, 622000, 360000, 322500, 480000, 645000, 755000, 489000, 470000, 620000, 623169, 705000, 420000, 719000, 350000, 575311, 174300, 544000, 618000, 450000, 480000, 145000, 430000, 565000, 475000, 406282, 327500, 560000, 565000, 325000, 160000, 515000, 920000, 335000, 158600, 600000, 985000, 470000, 522500, 1275000, 727000, 664000, 1085000, 610000, 520000, 699000, 825000, 950000, 382621, 512000, 436800, 770000, 550000, 679189, 915000, 769000, 200000, 547000, 224000, 610000, 650000, 625000, 450000, 1500000, 1080000, 607856, 1390000, 740000, 469625, 540000, 450000, 400000, 547500, 495000, 365000, 495000, 359970, 470000, 590000, 235000, 536500, 362500, 218000, 455000, 545000, 499800, 620000, 830000, 442900, 390000, 650000, 235000, 625000, 672000, 590000, 645000, 585000, 465000, 390000, 350000, 485000, 435000, 500000, 320000, 390000, 430000, 578000, 870000, 668500, 1330000, 345000, 415000, 394272, 850000, 366211, 720000, 900000, 425000, 775000, 327631, 660000, 675000, 720000, 530000, 380000, 850000, 775000, 580000, 475000, 340000, 435000, 428480, 815000, 605000, 465545, 468000, 279000, 590000, 618500, 521500, 435000, 480000, 790000, 575000, 459000, 475000, 485000, 460000, 428665, 500000, 1955000, 591000, 610000, 708000, 950000, 605000, 669000, 950000, 475000, 1500000, 745000, 855000, 340000, 795000, 380000, 465000, 410000, 587400, 600000, 655000, 350000, 375000, 380000, 245000, 608400, 231500, 1202000, 1925000, 1550000, 500000, 1400000, 659500, 833000, 750000, 860000, 525000, 825000, 800000, 720000, 575000, 656766, 650000, 720000, 530000, 470000, 370000, 495000, 227302, 490000, 336000, 626224, 620000, 250000, 634000, 600000, 600000, 345163, 510000, 445000, 700000, 700000, 1850000, 810000, 508605, 1175000, 499371, 615000, 1235000, 1200000, 457920, 505000, 443000, 302000, 1117500, 800000, 273600, 1100000, 496460, 141088, 529000, 470000, 1075000, 1950000, 690000, 1165000, 515510, 425000, 740000, 1075000, 990000, 850000, 519000, 620000, 330000, 810000, 780000, 500000, 130000, 555000, 365625, 380000, 463500, 280000, 695000, 499412, 651680, 700000, 400000, 307668, 590585, 569000, 570000, 229430, 550000, 383593, 825000, 524804, 430000, 518340, 590000, 380250, 464000, 1630000, 1630000, 1100000, 535000, 605000, 1400000, 855000, 760000, 562500, 667800, 1235000, 932500, 790000, 572000, 315000, 440000, 680000, 970000, 650000, 1460000, 715000, 800000, 500000, 1125000, 269302, 934350, 310000, 650000, 868000, 420000, 535000, 250000, 510000, 880000, 788000, 480000, 880000, 145000, 740000, 590000, 536750, 234234, 555000, 490000, 545000, 250000, 500000, 999500, 501930, 1445000, 863000, 600000, 920000, 870000, 1700000, 670000, 275000, 481000, 560000, 425000, 540000, 580000, 295000, 416000, 404250, 499000, 570000, 948578, 400000, 525000, 520000, 650000, 500000, 990000, 447000, 445000, 850000, 690000, 738231, 350000, 500000, 900000, 1200000, 253950, 427523, 274092, 780000, 650000, 995000, 519000, 810000, 671000, 849000, 865000, 499999, 1099200, 1625000, 900000, 525000, 450000, 180500, 1225000, 395000, 194000, 520000, 423000, 411684, 550000, 200000, 560038, 595000, 540000, 326000, 560000, 360000, 524349, 575000, 579000, 420000, 371848, 182500, 600000, 540000, 830000, 1325000, 890000, 1090000, 515000, 655000, 1150000, 975000, 812000, 779000, 530000, 815000, 380000, 420000, 175000, 424000, 582000, 865000, 1440000, 508000, 610950, 850000, 550000, 438000, 240000, 595000, 485000, 540000, 500000, 490000, 624000, 556000, 714800, 680000, 444000, 650000, 500000, 499000, 690000, 1655000, 1125000, 430000, 1215000, 645000, 629000, 885000, 600000, 630000, 994000, 266000, 630000, 880000, 440000, 175000, 520000, 531250, 768328, 620000, 635000, 216500, 400000, 575000, 363000, 554946, 596695, 457314, 592000, 550000, 369770, 515000, 479000, 589000, 890000, 575000, 240000, 495000, 440000, 499000, 645000, 910000, 1289120, 635000, 360000, 617000, 775000, 880000, 1420000, 695000, 157277, 750000, 970000, 480000, 500000, 900000, 620000, 777000, 563000, 650000, 487500, 377500, 560000, 224000, 237500, 450000, 362900, 465000, 361998, 480000, 560000, 625000, 490000, 900000, 760000, 463900, 399000, 340000, 485000, 770000, 750000, 249000, 150000, 940000, 414400, 605000, 495000, 401000, 578000, 650000, 429000, 360000, 474000, 930000, 690000, 390000, 1325000, 390000, 632000, 530000, 1095000, 930000, 725000, 730000, 525000, 545000, 490000, 890000, 290000, 845000, 476768, 345000, 160000, 528000, 526500, 470000, 520000, 499000, 610000, 640000, 450000, 743323, 275000, 600000, 630297, 1400000, 912500, 915000, 549000, 400000, 830000, 700000, 679000, 1290000, 1614600, 899000, 550000, 180000, 403000, 930000, 550000, 350000, 525000, 640000, 480000, 410000, 615000, 485000, 525000, 263133, 400000, 468400, 721939, 352500, 710000, 360000, 465000, 840000, 402600, 552910, 625000, 610000, 505000, 303000, 330000, 720000, 488000, 953000, 980000, 679000, 580000, 440000, 815000, 640000, 175000, 520000, 865000, 525000, 720000, 700000, 679000, 485000, 465000, 444000, 525000, 547000, 425000, 625000, 180000, 365000, 318000, 306000, 635045, 651680, 689100, 496888, 295000, 497000, 475000, 310000, 440000, 500000, 568960, 216489, 380000, 460000, 579000, 699000, 440000, 570000, 840000, 630000, 251155, 1130000, 825000, 872000, 1070000, 870000, 352500, 390000, 958317, 725000, 860000, 785000, 673000, 300000, 340000, 835000, 925000, 593000, 182000, 1340000, 515000, 400000, 505000, 635000, 252000, 320000, 525000, 675000, 404000, 695000, 607000, 275000, 515000, 850000, 697501, 550000, 614000, 409500, 360000, 276822, 385000, 336000, 762669, 390000, 410000, 600000, 617000, 630000, 210000, 612000, 605000, 398000, 1142500, 648000, 889000, 1150000, 900000, 820000, 1325000, 525000, 760000, 907000, 1048800, 585000, 600000, 565000, 606279, 565000, 657906, 175000, 300000, 525000, 540000, 499000, 499990, 721939, 536000, 1036000, 410000, 539000, 495000, 490000, 355000, 431000, 478000, 485000, 189270, 565000, 439931, 416981, 610000, 700000, 900000, 890000, 878000, 1158000, 693000, 940000, 933800, 620000, 725000, 545000, 160000, 888000, 720000, 940000, 883000, 570000, 510000, 301000, 450000, 260000, 939000, 480000, 647000, 595000, 350000, 113348, 610000, 563000, 273780, 470000, 780000, 1358500, 585000, 680000, 920000, 999000, 550000, 660000, 725000, 532000, 600000, 900000, 668000, 218000, 585000, 800000, 730000, 750000, 685000, 708400, 862000, 710000, 605000, 610000, 550000, 1250000, 950000, 562500, 525000, 430000, 537500, 523000, 480000, 552000, 919000, 1120075, 300000, 605000, 485000, 445000, 549000, 625000, 970000, 560000, 520000, 990000, 880000, 136000, 1210000, 280000, 620000, 610000, 336000, 550000, 1620000, 831000, 235000, 1140000, 999000, 800000, 346500, 1140000, 700000, 967000, 620000, 375000, 375000, 1020000, 920000, 475000, 705000, 510000, 350000, 335000, 500000, 800000, 639000, 220000, 325000, 800000, 201000, 460000, 419900, 535000, 225000, 400000, 400000, 900000, 464000, 510000, 299000, 460000, 870000, 380000, 520000, 584284, 515000, 555000, 571000, 580000, 687000, 436600, 333600, 410000, 540000, 660000, 1125000, 585000, 309000, 145000, 567000, 635000, 989000, 499500, 851000, 800000, 1450000, 600000, 575000, 668000, 350000, 400000, 550000, 319600, 1150000, 800000, 600000, 240000, 465000, 400000, 585000, 515000, 560038, 475000, 550000, 499000, 500000, 285000, 500000, 1270000, 415000, 666588, 770000, 645000, 640000, 400000, 525000, 1125000, 599000, 595000, 445000, 994517, 530000, 564796, 895000, 460000, 525000, 160673, 560000, 570000, 560000, 480000, 460000, 515000, 984000, 510000, 509600, 1220000, 1150000, 600000, 750000, 1700000, 860500, 459000, 560000, 540000, 510365, 590000, 494000, 200000, 560000, 470000, 500000, 585000, 451230, 490000, 270000, 329000, 739000, 324480, 350000, 320000, 353379, 645000, 600000, 425880, 800000, 930000, 875000, 715000, 875000, 740000, 485000, 710000, 499750, 1850000, 493000, 995000, 610000, 1425000, 615000, 733140, 672045, 670000, 355000, 422000, 150000, 467500, 495000, 580000, 912000, 500000, 210000, 595000, 1400000, 1668500, 600000, 700000, 730000, 414000, 1310000, 950000, 580000, 900000, 990000, 570000, 410000, 485000, 376000, 376000, 600000, 480000, 820000, 715000, 452998, 544719, 535000, 800000, 465000, 683000, 420000, 351000, 470000, 599000, 115000, 930000, 800000, 612000, 468468, 440000, 152000, 760000, 1084000, 450000, 500599, 750000, 985000, 845000, 890000, 510000, 471000, 510000, 275000, 545000, 715500, 795000, 385000, 400000, 899000, 900000, 400000, 595000, 215000, 450000, 380000, 609000, 410000, 250000, 800000, 473500, 535000, 692240, 495000, 870604, 650000, 250000, 450000, 485000, 638600, 630000, 250000, 450000, 250000, 1385000, 305000, 700000, 575000, 520000, 602000, 314500, 1122000, 750000, 650000, 500000, 791000, 905000, 928000, 600000, 595000, 250000, 390000, 321000, 700000, 375000, 392000, 938486, 270000, 306228, 650000, 444132, 440000, 499999, 490000, 270480, 325000, 475000, 168000, 500585, 740000, 430000, 575000, 580000, 350000, 635000, 877500, 495000, 510000, 560000, 585000, 565000, 635000, 850000, 1400000, 1100000, 455000, 975000, 586000, 330000, 835000, 820000, 725000, 1465000, 835000, 829000, 465000, 538000, 396000, 500000, 1600000, 585000, 500000, 268000, 270000, 440000, 540000, 375000, 665000, 505000, 480000, 621133, 280980, 197000, 532000, 418000, 330000, 500000, 450000, 435000, 525000, 250000, 575000, 700000, 650000, 605000, 700000, 865000, 665000, 500000, 995000, 362000, 375000, 360000, 525000, 470000, 370000, 560000, 125000, 667000, 635000, 495000, 489000, 350000, 490000, 222500, 393000, 495000, 150000, 805000, 525000, 799000, 620000, 1265000, 640000, 1175000, 365000, 455000, 1060000, 731300, 905000, 810000, 200000, 639000, 825000, 375000, 380250, 520000, 595000, 314820, 325500, 1650000, 1850000, 646588, 420000, 405600, 280000, 600000, 630000, 499990, 445000, 763688, 225000, 550000, 570000, 990000, 735000, 860000, 370800, 728000, 1200000, 610000, 432000, 1357000, 630000, 997000, 1070000, 701083, 900000, 650000, 690000, 740000, 369900, 460000, 600000, 365000, 936000, 795000, 565000, 430000, 333000, 465000, 580000, 361000, 475000, 515000, 435000, 360000, 610000, 580000, 284000, 555000, 525000, 560038, 480000, 520000, 1500000, 804718, 550000, 550000, 480000, 905000, 840000, 550000, 470000, 1695000, 995000, 300000, 755000, 675000, 395000, 382500, 468000, 450000, 605000, 750000, 450000, 280000, 575000, 281250, 720000, 738231, 510000, 610949, 344760, 540000, 395000, 290000, 295000, 950000, 550000, 275000, 320000, 1640000, 743561, 582000, 748000, 990000, 615000, 700000, 948500, 855000, 1050000, 525000, 821750, 625000, 469000, 525000, 1320000, 465000, 437750, 445000, 390000, 552000, 850000, 412000, 480000, 465000, 441000, 700000, 460000, 860421, 465500, 804416, 110000, 580000, 400000, 799000, 550000, 1049000, 1210950, 901000, 1200000, 580000, 280000, 950000, 625000, 430000, 270000, 285000, 639900, 250750, 770000, 560000, 610000, 692410, 265000, 545000, 615000, 750000, 679000, 275000, 197600, 400000, 595000, 232000, 750000, 928000, 1290000, 339690, 348156, 735000, 800000, 659000, 477387, 386000, 610000, 810000, 490000, 524700, 387000, 349700, 435000, 650000, 1100000, 905000, 560000, 377500, 224829, 531000, 155500, 328410, 499990, 433000, 210000, 825000, 541000, 213600, 450000, 319100, 602000, 575000, 710000, 590000, 880000, 989000, 730000, 910000, 830000, 999999, 850000, 640000, 370000, 457821, 650000, 280000, 586000, 498000, 525000, 550000, 910000, 885000, 490000, 540000, 451230, 525000, 475000, 361722, 720000, 568750, 542000, 806000, 330000, 550000, 395000, 490000, 457000, 350000, 655000, 690000, 1128508, 615000, 133500, 1450000, 800000, 500000, 905000, 935000, 900000, 800000, 780000, 818000, 950000, 470000, 450000, 306135, 580000, 465593, 251000, 265000, 530000, 490000, 657558, 557000, 510000, 380000, 1358000, 815000, 530000, 675000, 627000, 380000, 252400, 530000, 550000, 425000, 1562000, 400000, 300000, 640000, 857000, 530000, 555000, 510000, 675343, 820000, 1350000, 1150000, 1400000, 999000, 531260, 1491000, 640000, 715000, 300000, 905000, 880000, 788000, 805000, 226667, 1180000, 596900, 420000, 670000, 565000, 361092, 615000, 830000, 400000, 700000, 550000, 685000, 400000, 775000, 415000, 750000, 465000, 324480, 356310, 632500, 560000, 335000, 410000, 420000, 390000, 856900, 485000, 390500, 590000, 665000, 550000, 490000, 725000, 589000, 940000, 650000, 600000, 815000, 1168000, 500000, 473800, 400000, 700000, 680000, 462500, 450000, 535000, 455000, 228150, 272000, 180000, 340000, 285000, 350000, 525000, 1525000, 460000, 355000, 1150000, 890000, 310000, 645000, 925000, 850000, 1525000, 750000, 630000, 949000, 895000, 855000, 660000, 615000, 950000, 435000, 795000, 1650000, 280000, 999600, 460000, 418000, 490000, 401544, 465000, 702000, 380000, 620000, 835000, 1485000, 335000, 300000, 440000, 545000, 662000, 522000, 579000, 413000, 516000, 804124, 390390, 661863, 1170988, 461370, 520000, 300000, 404250, 400000, 510000, 326864, 460000, 282755, 1500000, 1375000, 474226, 680000, 620000, 250000, 880000, 677500, 715000, 1400000, 570000, 1100000, 1100000, 1675000, 1475000, 992500, 788000, 540000, 350000, 750000, 880000, 1150000, 690000, 700000, 710000, 760000, 1876000, 675000, 463146, 354500, 240000, 585000, 395000, 425000, 540000, 417000, 444558, 267000, 412600, 537500, 541709, 1053000, 760000, 540000, 570000, 130000, 465000, 535000, 520000, 515000, 475000, 500000, 330000, 690000, 610949, 520000, 104000], \"yaxis\": \"y\"}],\n",
              "                        {\"coloraxis\": {\"colorbar\": {\"title\": {\"text\": \"borough\"}}, \"colorscale\": [[0.0, \"#0d0887\"], [0.1111111111111111, \"#46039f\"], [0.2222222222222222, \"#7201a8\"], [0.3333333333333333, \"#9c179e\"], [0.4444444444444444, \"#bd3786\"], [0.5555555555555556, \"#d8576b\"], [0.6666666666666666, \"#ed7953\"], [0.7777777777777778, \"#fb9f3a\"], [0.8888888888888888, \"#fdca26\"], [1.0, \"#f0f921\"]]}, \"height\": 600, \"legend\": {\"tracegroupgap\": 0}, \"margin\": {\"t\": 60}, \"template\": {\"data\": {\"bar\": [{\"error_x\": {\"color\": \"#2a3f5f\"}, \"error_y\": {\"color\": \"#2a3f5f\"}, \"marker\": {\"line\": {\"color\": \"#E5ECF6\", \"width\": 0.5}}, \"type\": \"bar\"}], \"barpolar\": [{\"marker\": {\"line\": {\"color\": \"#E5ECF6\", \"width\": 0.5}}, \"type\": \"barpolar\"}], \"carpet\": [{\"aaxis\": {\"endlinecolor\": \"#2a3f5f\", \"gridcolor\": \"white\", \"linecolor\": \"white\", \"minorgridcolor\": \"white\", \"startlinecolor\": \"#2a3f5f\"}, \"baxis\": {\"endlinecolor\": \"#2a3f5f\", \"gridcolor\": \"white\", \"linecolor\": \"white\", \"minorgridcolor\": \"white\", \"startlinecolor\": \"#2a3f5f\"}, \"type\": \"carpet\"}], \"choropleth\": [{\"colorbar\": {\"outlinewidth\": 0, \"ticks\": \"\"}, \"type\": \"choropleth\"}], \"contour\": [{\"colorbar\": {\"outlinewidth\": 0, \"ticks\": \"\"}, \"colorscale\": [[0.0, \"#0d0887\"], [0.1111111111111111, \"#46039f\"], [0.2222222222222222, \"#7201a8\"], [0.3333333333333333, \"#9c179e\"], [0.4444444444444444, \"#bd3786\"], [0.5555555555555556, \"#d8576b\"], [0.6666666666666666, \"#ed7953\"], [0.7777777777777778, \"#fb9f3a\"], [0.8888888888888888, \"#fdca26\"], [1.0, \"#f0f921\"]], \"type\": \"contour\"}], \"contourcarpet\": [{\"colorbar\": {\"outlinewidth\": 0, \"ticks\": \"\"}, \"type\": \"contourcarpet\"}], \"heatmap\": [{\"colorbar\": {\"outlinewidth\": 0, \"ticks\": \"\"}, \"colorscale\": [[0.0, \"#0d0887\"], [0.1111111111111111, \"#46039f\"], [0.2222222222222222, \"#7201a8\"], [0.3333333333333333, \"#9c179e\"], [0.4444444444444444, \"#bd3786\"], [0.5555555555555556, \"#d8576b\"], [0.6666666666666666, \"#ed7953\"], [0.7777777777777778, \"#fb9f3a\"], [0.8888888888888888, \"#fdca26\"], [1.0, \"#f0f921\"]], \"type\": \"heatmap\"}], \"heatmapgl\": [{\"colorbar\": {\"outlinewidth\": 0, \"ticks\": \"\"}, \"colorscale\": [[0.0, \"#0d0887\"], [0.1111111111111111, \"#46039f\"], [0.2222222222222222, \"#7201a8\"], [0.3333333333333333, \"#9c179e\"], [0.4444444444444444, \"#bd3786\"], [0.5555555555555556, \"#d8576b\"], [0.6666666666666666, \"#ed7953\"], [0.7777777777777778, \"#fb9f3a\"], [0.8888888888888888, \"#fdca26\"], [1.0, \"#f0f921\"]], \"type\": \"heatmapgl\"}], \"histogram\": [{\"marker\": {\"colorbar\": {\"outlinewidth\": 0, \"ticks\": \"\"}}, \"type\": \"histogram\"}], \"histogram2d\": [{\"colorbar\": {\"outlinewidth\": 0, \"ticks\": \"\"}, \"colorscale\": [[0.0, \"#0d0887\"], [0.1111111111111111, \"#46039f\"], [0.2222222222222222, \"#7201a8\"], [0.3333333333333333, \"#9c179e\"], [0.4444444444444444, \"#bd3786\"], [0.5555555555555556, \"#d8576b\"], [0.6666666666666666, \"#ed7953\"], [0.7777777777777778, \"#fb9f3a\"], [0.8888888888888888, \"#fdca26\"], [1.0, \"#f0f921\"]], \"type\": \"histogram2d\"}], \"histogram2dcontour\": [{\"colorbar\": {\"outlinewidth\": 0, \"ticks\": \"\"}, \"colorscale\": [[0.0, \"#0d0887\"], [0.1111111111111111, \"#46039f\"], [0.2222222222222222, \"#7201a8\"], [0.3333333333333333, \"#9c179e\"], [0.4444444444444444, \"#bd3786\"], [0.5555555555555556, \"#d8576b\"], [0.6666666666666666, \"#ed7953\"], [0.7777777777777778, \"#fb9f3a\"], [0.8888888888888888, \"#fdca26\"], [1.0, \"#f0f921\"]], \"type\": \"histogram2dcontour\"}], \"mesh3d\": [{\"colorbar\": {\"outlinewidth\": 0, \"ticks\": \"\"}, \"type\": \"mesh3d\"}], \"parcoords\": [{\"line\": {\"colorbar\": {\"outlinewidth\": 0, \"ticks\": \"\"}}, \"type\": \"parcoords\"}], \"scatter\": [{\"marker\": {\"colorbar\": {\"outlinewidth\": 0, \"ticks\": \"\"}}, \"type\": \"scatter\"}], \"scatter3d\": [{\"line\": {\"colorbar\": {\"outlinewidth\": 0, \"ticks\": \"\"}}, \"marker\": {\"colorbar\": {\"outlinewidth\": 0, \"ticks\": \"\"}}, \"type\": \"scatter3d\"}], \"scattercarpet\": [{\"marker\": {\"colorbar\": {\"outlinewidth\": 0, \"ticks\": \"\"}}, \"type\": \"scattercarpet\"}], \"scattergeo\": [{\"marker\": {\"colorbar\": {\"outlinewidth\": 0, \"ticks\": \"\"}}, \"type\": \"scattergeo\"}], \"scattergl\": [{\"marker\": {\"colorbar\": {\"outlinewidth\": 0, \"ticks\": \"\"}}, \"type\": \"scattergl\"}], \"scattermapbox\": [{\"marker\": {\"colorbar\": {\"outlinewidth\": 0, \"ticks\": \"\"}}, \"type\": \"scattermapbox\"}], \"scatterpolar\": [{\"marker\": {\"colorbar\": {\"outlinewidth\": 0, \"ticks\": \"\"}}, \"type\": \"scatterpolar\"}], \"scatterpolargl\": [{\"marker\": {\"colorbar\": {\"outlinewidth\": 0, \"ticks\": \"\"}}, \"type\": \"scatterpolargl\"}], \"scatterternary\": [{\"marker\": {\"colorbar\": {\"outlinewidth\": 0, \"ticks\": \"\"}}, \"type\": \"scatterternary\"}], \"surface\": [{\"colorbar\": {\"outlinewidth\": 0, \"ticks\": \"\"}, \"colorscale\": [[0.0, \"#0d0887\"], [0.1111111111111111, \"#46039f\"], [0.2222222222222222, \"#7201a8\"], [0.3333333333333333, \"#9c179e\"], [0.4444444444444444, \"#bd3786\"], [0.5555555555555556, \"#d8576b\"], [0.6666666666666666, \"#ed7953\"], [0.7777777777777778, \"#fb9f3a\"], [0.8888888888888888, \"#fdca26\"], [1.0, \"#f0f921\"]], \"type\": \"surface\"}], \"table\": [{\"cells\": {\"fill\": {\"color\": \"#EBF0F8\"}, \"line\": {\"color\": \"white\"}}, \"header\": {\"fill\": {\"color\": \"#C8D4E3\"}, \"line\": {\"color\": \"white\"}}, \"type\": \"table\"}]}, \"layout\": {\"annotationdefaults\": {\"arrowcolor\": \"#2a3f5f\", \"arrowhead\": 0, \"arrowwidth\": 1}, \"colorscale\": {\"diverging\": [[0, \"#8e0152\"], [0.1, \"#c51b7d\"], [0.2, \"#de77ae\"], [0.3, \"#f1b6da\"], [0.4, \"#fde0ef\"], [0.5, \"#f7f7f7\"], [0.6, \"#e6f5d0\"], [0.7, \"#b8e186\"], [0.8, \"#7fbc41\"], [0.9, \"#4d9221\"], [1, \"#276419\"]], \"sequential\": [[0.0, \"#0d0887\"], [0.1111111111111111, \"#46039f\"], [0.2222222222222222, \"#7201a8\"], [0.3333333333333333, \"#9c179e\"], [0.4444444444444444, \"#bd3786\"], [0.5555555555555556, \"#d8576b\"], [0.6666666666666666, \"#ed7953\"], [0.7777777777777778, \"#fb9f3a\"], [0.8888888888888888, \"#fdca26\"], [1.0, \"#f0f921\"]], \"sequentialminus\": [[0.0, \"#0d0887\"], [0.1111111111111111, \"#46039f\"], [0.2222222222222222, \"#7201a8\"], [0.3333333333333333, \"#9c179e\"], [0.4444444444444444, \"#bd3786\"], [0.5555555555555556, \"#d8576b\"], [0.6666666666666666, \"#ed7953\"], [0.7777777777777778, \"#fb9f3a\"], [0.8888888888888888, \"#fdca26\"], [1.0, \"#f0f921\"]]}, \"colorway\": [\"#636efa\", \"#EF553B\", \"#00cc96\", \"#ab63fa\", \"#FFA15A\", \"#19d3f3\", \"#FF6692\", \"#B6E880\", \"#FF97FF\", \"#FECB52\"], \"font\": {\"color\": \"#2a3f5f\"}, \"geo\": {\"bgcolor\": \"white\", \"lakecolor\": \"white\", \"landcolor\": \"#E5ECF6\", \"showlakes\": true, \"showland\": true, \"subunitcolor\": \"white\"}, \"hoverlabel\": {\"align\": \"left\"}, \"hovermode\": \"closest\", \"mapbox\": {\"style\": \"light\"}, \"paper_bgcolor\": \"white\", \"plot_bgcolor\": \"#E5ECF6\", \"polar\": {\"angularaxis\": {\"gridcolor\": \"white\", \"linecolor\": \"white\", \"ticks\": \"\"}, \"bgcolor\": \"#E5ECF6\", \"radialaxis\": {\"gridcolor\": \"white\", \"linecolor\": \"white\", \"ticks\": \"\"}}, \"scene\": {\"xaxis\": {\"backgroundcolor\": \"#E5ECF6\", \"gridcolor\": \"white\", \"gridwidth\": 2, \"linecolor\": \"white\", \"showbackground\": true, \"ticks\": \"\", \"zerolinecolor\": \"white\"}, \"yaxis\": {\"backgroundcolor\": \"#E5ECF6\", \"gridcolor\": \"white\", \"gridwidth\": 2, \"linecolor\": \"white\", \"showbackground\": true, \"ticks\": \"\", \"zerolinecolor\": \"white\"}, \"zaxis\": {\"backgroundcolor\": \"#E5ECF6\", \"gridcolor\": \"white\", \"gridwidth\": 2, \"linecolor\": \"white\", \"showbackground\": true, \"ticks\": \"\", \"zerolinecolor\": \"white\"}}, \"shapedefaults\": {\"line\": {\"color\": \"#2a3f5f\"}}, \"ternary\": {\"aaxis\": {\"gridcolor\": \"white\", \"linecolor\": \"white\", \"ticks\": \"\"}, \"baxis\": {\"gridcolor\": \"white\", \"linecolor\": \"white\", \"ticks\": \"\"}, \"bgcolor\": \"#E5ECF6\", \"caxis\": {\"gridcolor\": \"white\", \"linecolor\": \"white\", \"ticks\": \"\"}}, \"title\": {\"x\": 0.05}, \"xaxis\": {\"automargin\": true, \"gridcolor\": \"white\", \"linecolor\": \"white\", \"ticks\": \"\", \"zerolinecolor\": \"white\", \"zerolinewidth\": 2}, \"yaxis\": {\"automargin\": true, \"gridcolor\": \"white\", \"linecolor\": \"white\", \"ticks\": \"\", \"zerolinecolor\": \"white\", \"zerolinewidth\": 2}}}, \"xaxis\": {\"anchor\": \"y\", \"domain\": [0.0, 0.98], \"title\": {\"text\": \"gross_square_feet\"}}, \"yaxis\": {\"anchor\": \"x\", \"domain\": [0.0, 1.0], \"title\": {\"text\": \"sale_price\"}}},\n",
              "                        {\"responsive\": true}\n",
              "                    ).then(function(){\n",
              "                            \n",
              "var gd = document.getElementById('6a46a5b6-043f-429d-ab3a-6d5824c3a6e8');\n",
              "var x = new MutationObserver(function (mutations, observer) {{\n",
              "        var display = window.getComputedStyle(gd).display;\n",
              "        if (!display || display === 'none') {{\n",
              "            console.log([gd, 'removed!']);\n",
              "            Plotly.purge(gd);\n",
              "            observer.disconnect();\n",
              "        }}\n",
              "}});\n",
              "\n",
              "// Listen for the removal of the full notebook cells\n",
              "var notebookContainer = gd.closest('#notebook-container');\n",
              "if (notebookContainer) {{\n",
              "    x.observe(notebookContainer, {childList: true});\n",
              "}}\n",
              "\n",
              "// Listen for the clearing of the current output cell\n",
              "var outputEl = gd.closest('.output');\n",
              "if (outputEl) {{\n",
              "    x.observe(outputEl, {childList: true});\n",
              "}}\n",
              "\n",
              "                        })\n",
              "                };\n",
              "                \n",
              "            </script>\n",
              "        </div>\n",
              "</body>\n",
              "</html>"
            ]
          },
          "metadata": {
            "tags": []
          }
        }
      ]
    },
    {
      "cell_type": "code",
      "metadata": {
        "id": "2S_GlOshbVgb",
        "colab_type": "code",
        "colab": {
          "base_uri": "https://localhost:8080/",
          "height": 1000
        },
        "outputId": "ae8b0b08-579d-4514-b230-99ad483d01b4"
      },
      "source": [
        "#Look for sale price patterns visually\n",
        "import seaborn as sns\n",
        "import matplotlib.pyplot as plt\n",
        "numeric = train.select_dtypes('number')\n",
        "for col in sorted(numeric.columns):\n",
        "    sns.lmplot(x=col, y='sale_price', data=train, scatter_kws= dict(alpha=0.05))"
      ],
      "execution_count": 195,
      "outputs": [
        {
          "output_type": "display_data",
          "data": {
            "image/png": "[encoded data removed]",
            "text/plain": [
              "<Figure size 360x360 with 1 Axes>"
            ]
          },
          "metadata": {
            "tags": []
          }
        },
        {
          "output_type": "display_data",
          "data": {
            "image/png": "[encoded data removed]",
            "text/plain": [
              "<Figure size 360x360 with 1 Axes>"
            ]
          },
          "metadata": {
            "tags": []
          }
        },
        {
          "output_type": "display_data",
          "data": {
            "image/png": "[encoded data removed]",
            "text/plain": [
              "<Figure size 360x360 with 1 Axes>"
            ]
          },
          "metadata": {
            "tags": []
          }
        },
        {
          "output_type": "display_data",
          "data": {
            "image/png": "[encoded data removed]",
            "text/plain": [
              "<Figure size 360x360 with 1 Axes>"
            ]
          },
          "metadata": {
            "tags": []
          }
        },
        {
          "output_type": "display_data",
          "data": {
            "image/png": "[encoded data removed]",
            "text/plain": [
              "<Figure size 360x360 with 1 Axes>"
            ]
          },
          "metadata": {
            "tags": []
          }
        },
        {
          "output_type": "display_data",
          "data": {
            "image/png": "[encoded data removed]",
            "text/plain": [
              "<Figure size 360x360 with 1 Axes>"
            ]
          },
          "metadata": {
            "tags": []
          }
        },
        {
          "output_type": "display_data",
          "data": {
            "image/png": "[encoded data removed]",
            "text/plain": [
              "<Figure size 360x360 with 1 Axes>"
            ]
          },
          "metadata": {
            "tags": []
          }
        },
        {
          "output_type": "display_data",
          "data": {
            "image/png": "[encoded data removed]",
            "text/plain": [
              "<Figure size 360x360 with 1 Axes>"
            ]
          },
          "metadata": {
            "tags": []
          }
        },
        {
          "output_type": "display_data",
          "data": {
            "image/png": "[encoded data removed]",
            "text/plain": [
              "<Figure size 360x360 with 1 Axes>"
            ]
          },
          "metadata": {
            "tags": []
          }
        },
        {
          "output_type": "display_data",
          "data": {
            "image/png": "[encoded data removed]",
            "text/plain": [
              "<Figure size 360x360 with 1 Axes>"
            ]
          },
          "metadata": {
            "tags": []
          }
        },
        {
          "output_type": "display_data",
          "data": {
            "image/png": "[encoded data removed]",
            "text/plain": [
              "<Figure size 360x360 with 1 Axes>"
            ]
          },
          "metadata": {
            "tags": []
          }
        },
        {
          "output_type": "display_data",
          "data": {
            "image/png": "[encoded data removed]",
            "text/plain": [
              "<Figure size 360x360 with 1 Axes>"
            ]
          },
          "metadata": {
            "tags": []
          }
        }
      ]
    },
    {
      "cell_type": "code",
      "metadata": {
        "id": "2lFOCWwSkCtw",
        "colab_type": "code",
        "colab": {}
      },
      "source": [
        "train_subset = train.select_dtypes('number').dropna(axis='columns')\n",
        "test_subset = test.select_dtypes('number').dropna(axis='columns')"
      ],
      "execution_count": 0,
      "outputs": []
    },
    {
      "cell_type": "code",
      "metadata": {
        "id": "f_as1ESM8dGq",
        "colab_type": "code",
        "colab": {}
      },
      "source": [
        "target = 'sale_price'\n",
        "features = train_subset.columns.drop([target, 'borough'])\n",
        "X_train = train_subset[features]\n",
        "y_train = train_subset[target]\n",
        "X_test = test_subset[features]\n",
        "y_test = test_subset[target]"
      ],
      "execution_count": 0,
      "outputs": []
    },
    {
      "cell_type": "code",
      "metadata": {
        "id": "YzsMHs2F9QAn",
        "colab_type": "code",
        "colab": {}
      },
      "source": [
        "#apply selectkbest method - select the best features\n",
        "#taking one feature (the univariate) and seeing how it compares to the target"
      ],
      "execution_count": 0,
      "outputs": []
    },
    {
      "cell_type": "code",
      "metadata": {
        "id": "t2N8FsXd98TK",
        "colab_type": "code",
        "colab": {}
      },
      "source": [
        "from sklearn.feature_selection import SelectKBest, f_regression\n",
        "#f_regression is a univariate regression test"
      ],
      "execution_count": 0,
      "outputs": []
    },
    {
      "cell_type": "code",
      "metadata": {
        "id": "3kmQ10-F9geS",
        "colab_type": "code",
        "colab": {
          "base_uri": "https://localhost:8080/",
          "height": 377
        },
        "outputId": "1df320b0-4b05-4862-8619-66a7aa4035a2"
      },
      "source": [
        "selector = SelectKBest(score_func=f_regression, k=4)\n",
        "\n",
        "#.fit_transform on train set\n",
        "#.transform on test set\n",
        "#feature selection is based on training data\n",
        "#then apply it to the test set to predict the y\n",
        "X_train_selected = selector.fit_transform(X_train, y_train)"
      ],
      "execution_count": 200,
      "outputs": [
        {
          "output_type": "stream",
          "text": [
            "/usr/local/lib/python3.6/dist-packages/sklearn/feature_selection/univariate_selection.py:299: RuntimeWarning:\n",
            "\n",
            "divide by zero encountered in true_divide\n",
            "\n",
            "/usr/local/lib/python3.6/dist-packages/sklearn/feature_selection/univariate_selection.py:304: RuntimeWarning:\n",
            "\n",
            "invalid value encountered in true_divide\n",
            "\n",
            "/usr/local/lib/python3.6/dist-packages/scipy/stats/_distn_infrastructure.py:901: RuntimeWarning:\n",
            "\n",
            "invalid value encountered in greater\n",
            "\n",
            "/usr/local/lib/python3.6/dist-packages/scipy/stats/_distn_infrastructure.py:901: RuntimeWarning:\n",
            "\n",
            "invalid value encountered in less\n",
            "\n",
            "/usr/local/lib/python3.6/dist-packages/scipy/stats/_distn_infrastructure.py:1892: RuntimeWarning:\n",
            "\n",
            "invalid value encountered in less_equal\n",
            "\n"
          ],
          "name": "stderr"
        }
      ]
    },
    {
      "cell_type": "code",
      "metadata": {
        "id": "6lrUQyWQ-dlN",
        "colab_type": "code",
        "colab": {}
      },
      "source": [
        "X_test_selected = selector.transform(X_test)\n",
        "\n",
        "\n",
        "#'transform' from many columns to selected number of columns (3)"
      ],
      "execution_count": 0,
      "outputs": []
    },
    {
      "cell_type": "code",
      "metadata": {
        "id": "Weu4JcfA_dlh",
        "colab_type": "code",
        "colab": {
          "base_uri": "https://localhost:8080/",
          "height": 34
        },
        "outputId": "8f238579-d05b-4965-c0e3-cbcb90693bc1"
      },
      "source": [
        "#Which features were selected? The selected are arrays now\n",
        "feature_names = X_train.columns\n",
        "selected_mask = selector.get_support()\n",
        "selected_features = feature_names[selected_mask]\n",
        "selected_features"
      ],
      "execution_count": 202,
      "outputs": [
        {
          "output_type": "execute_result",
          "data": {
            "text/plain": [
              "Index(['block', 'zip_code', 'total_units', 'gross_square_feet'], dtype='object')"
            ]
          },
          "metadata": {
            "tags": []
          },
          "execution_count": 202
        }
      ]
    },
    {
      "cell_type": "code",
      "metadata": {
        "id": "zxdI03gZBwQI",
        "colab_type": "code",
        "colab": {
          "base_uri": "https://localhost:8080/",
          "height": 1000
        },
        "outputId": "afda99f5-1bc1-4e30-9c74-b96d38bffdb3"
      },
      "source": [
        "from sklearn.linear_model import LinearRegression\n",
        "from sklearn.metrics import mean_absolute_error\n",
        "#See which combination of features works best\n",
        "\n",
        "for k in range(1,len(X_train.columns) + 1):\n",
        "    print(f'{k},features')\n",
        "    \n",
        "    selector = SelectKBest(score_func=f_regression, k=k)\n",
        "    X_train_selected = selector.fit_transform(X_train, y_train)\n",
        "    X_test_selected = selector.transform(X_test)\n",
        "    \n",
        "    model = LinearRegression()\n",
        "    model.fit(X_train_selected, y_train)\n",
        "    y_pred = model.predict(X_test_selected)\n",
        "    mae = mean_absolute_error(y_test, y_pred)\n",
        "    print(f'Test MAE: ${mae:,.0f}')"
      ],
      "execution_count": 203,
      "outputs": [
        {
          "output_type": "stream",
          "text": [
            "1,features\n",
            "Test MAE: $183,641\n",
            "2,features\n",
            "Test MAE: $184,003\n",
            "3,features\n",
            "Test MAE: $183,943\n",
            "4,features\n",
            "Test MAE: $167,050\n",
            "5,features\n",
            "Test MAE: $167,908\n",
            "6,features\n",
            "Test MAE: $167,908\n",
            "7,features\n",
            "Test MAE: $167,913\n",
            "8,features\n",
            "Test MAE: $167,705\n",
            "9,features\n",
            "Test MAE: $167,705\n"
          ],
          "name": "stdout"
        },
        {
          "output_type": "stream",
          "text": [
            "/usr/local/lib/python3.6/dist-packages/sklearn/feature_selection/univariate_selection.py:299: RuntimeWarning:\n",
            "\n",
            "divide by zero encountered in true_divide\n",
            "\n",
            "/usr/local/lib/python3.6/dist-packages/sklearn/feature_selection/univariate_selection.py:304: RuntimeWarning:\n",
            "\n",
            "invalid value encountered in true_divide\n",
            "\n",
            "/usr/local/lib/python3.6/dist-packages/scipy/stats/_distn_infrastructure.py:901: RuntimeWarning:\n",
            "\n",
            "invalid value encountered in greater\n",
            "\n",
            "/usr/local/lib/python3.6/dist-packages/scipy/stats/_distn_infrastructure.py:901: RuntimeWarning:\n",
            "\n",
            "invalid value encountered in less\n",
            "\n",
            "/usr/local/lib/python3.6/dist-packages/scipy/stats/_distn_infrastructure.py:1892: RuntimeWarning:\n",
            "\n",
            "invalid value encountered in less_equal\n",
            "\n",
            "/usr/local/lib/python3.6/dist-packages/sklearn/feature_selection/univariate_selection.py:299: RuntimeWarning:\n",
            "\n",
            "divide by zero encountered in true_divide\n",
            "\n",
            "/usr/local/lib/python3.6/dist-packages/sklearn/feature_selection/univariate_selection.py:304: RuntimeWarning:\n",
            "\n",
            "invalid value encountered in true_divide\n",
            "\n",
            "/usr/local/lib/python3.6/dist-packages/scipy/stats/_distn_infrastructure.py:901: RuntimeWarning:\n",
            "\n",
            "invalid value encountered in greater\n",
            "\n",
            "/usr/local/lib/python3.6/dist-packages/scipy/stats/_distn_infrastructure.py:901: RuntimeWarning:\n",
            "\n",
            "invalid value encountered in less\n",
            "\n",
            "/usr/local/lib/python3.6/dist-packages/scipy/stats/_distn_infrastructure.py:1892: RuntimeWarning:\n",
            "\n",
            "invalid value encountered in less_equal\n",
            "\n",
            "/usr/local/lib/python3.6/dist-packages/sklearn/feature_selection/univariate_selection.py:299: RuntimeWarning:\n",
            "\n",
            "divide by zero encountered in true_divide\n",
            "\n",
            "/usr/local/lib/python3.6/dist-packages/sklearn/feature_selection/univariate_selection.py:304: RuntimeWarning:\n",
            "\n",
            "invalid value encountered in true_divide\n",
            "\n",
            "/usr/local/lib/python3.6/dist-packages/scipy/stats/_distn_infrastructure.py:901: RuntimeWarning:\n",
            "\n",
            "invalid value encountered in greater\n",
            "\n",
            "/usr/local/lib/python3.6/dist-packages/scipy/stats/_distn_infrastructure.py:901: RuntimeWarning:\n",
            "\n",
            "invalid value encountered in less\n",
            "\n",
            "/usr/local/lib/python3.6/dist-packages/scipy/stats/_distn_infrastructure.py:1892: RuntimeWarning:\n",
            "\n",
            "invalid value encountered in less_equal\n",
            "\n",
            "/usr/local/lib/python3.6/dist-packages/sklearn/feature_selection/univariate_selection.py:299: RuntimeWarning:\n",
            "\n",
            "divide by zero encountered in true_divide\n",
            "\n",
            "/usr/local/lib/python3.6/dist-packages/sklearn/feature_selection/univariate_selection.py:304: RuntimeWarning:\n",
            "\n",
            "invalid value encountered in true_divide\n",
            "\n",
            "/usr/local/lib/python3.6/dist-packages/scipy/stats/_distn_infrastructure.py:901: RuntimeWarning:\n",
            "\n",
            "invalid value encountered in greater\n",
            "\n",
            "/usr/local/lib/python3.6/dist-packages/scipy/stats/_distn_infrastructure.py:901: RuntimeWarning:\n",
            "\n",
            "invalid value encountered in less\n",
            "\n",
            "/usr/local/lib/python3.6/dist-packages/scipy/stats/_distn_infrastructure.py:1892: RuntimeWarning:\n",
            "\n",
            "invalid value encountered in less_equal\n",
            "\n",
            "/usr/local/lib/python3.6/dist-packages/sklearn/feature_selection/univariate_selection.py:299: RuntimeWarning:\n",
            "\n",
            "divide by zero encountered in true_divide\n",
            "\n",
            "/usr/local/lib/python3.6/dist-packages/sklearn/feature_selection/univariate_selection.py:304: RuntimeWarning:\n",
            "\n",
            "invalid value encountered in true_divide\n",
            "\n",
            "/usr/local/lib/python3.6/dist-packages/scipy/stats/_distn_infrastructure.py:901: RuntimeWarning:\n",
            "\n",
            "invalid value encountered in greater\n",
            "\n",
            "/usr/local/lib/python3.6/dist-packages/scipy/stats/_distn_infrastructure.py:901: RuntimeWarning:\n",
            "\n",
            "invalid value encountered in less\n",
            "\n",
            "/usr/local/lib/python3.6/dist-packages/scipy/stats/_distn_infrastructure.py:1892: RuntimeWarning:\n",
            "\n",
            "invalid value encountered in less_equal\n",
            "\n",
            "/usr/local/lib/python3.6/dist-packages/sklearn/feature_selection/univariate_selection.py:299: RuntimeWarning:\n",
            "\n",
            "divide by zero encountered in true_divide\n",
            "\n",
            "/usr/local/lib/python3.6/dist-packages/sklearn/feature_selection/univariate_selection.py:304: RuntimeWarning:\n",
            "\n",
            "invalid value encountered in true_divide\n",
            "\n",
            "/usr/local/lib/python3.6/dist-packages/scipy/stats/_distn_infrastructure.py:901: RuntimeWarning:\n",
            "\n",
            "invalid value encountered in greater\n",
            "\n",
            "/usr/local/lib/python3.6/dist-packages/scipy/stats/_distn_infrastructure.py:901: RuntimeWarning:\n",
            "\n",
            "invalid value encountered in less\n",
            "\n",
            "/usr/local/lib/python3.6/dist-packages/scipy/stats/_distn_infrastructure.py:1892: RuntimeWarning:\n",
            "\n",
            "invalid value encountered in less_equal\n",
            "\n",
            "/usr/local/lib/python3.6/dist-packages/sklearn/feature_selection/univariate_selection.py:299: RuntimeWarning:\n",
            "\n",
            "divide by zero encountered in true_divide\n",
            "\n",
            "/usr/local/lib/python3.6/dist-packages/sklearn/feature_selection/univariate_selection.py:304: RuntimeWarning:\n",
            "\n",
            "invalid value encountered in true_divide\n",
            "\n",
            "/usr/local/lib/python3.6/dist-packages/scipy/stats/_distn_infrastructure.py:901: RuntimeWarning:\n",
            "\n",
            "invalid value encountered in greater\n",
            "\n",
            "/usr/local/lib/python3.6/dist-packages/scipy/stats/_distn_infrastructure.py:901: RuntimeWarning:\n",
            "\n",
            "invalid value encountered in less\n",
            "\n",
            "/usr/local/lib/python3.6/dist-packages/scipy/stats/_distn_infrastructure.py:1892: RuntimeWarning:\n",
            "\n",
            "invalid value encountered in less_equal\n",
            "\n",
            "/usr/local/lib/python3.6/dist-packages/sklearn/feature_selection/univariate_selection.py:299: RuntimeWarning:\n",
            "\n",
            "divide by zero encountered in true_divide\n",
            "\n",
            "/usr/local/lib/python3.6/dist-packages/sklearn/feature_selection/univariate_selection.py:304: RuntimeWarning:\n",
            "\n",
            "invalid value encountered in true_divide\n",
            "\n",
            "/usr/local/lib/python3.6/dist-packages/scipy/stats/_distn_infrastructure.py:901: RuntimeWarning:\n",
            "\n",
            "invalid value encountered in greater\n",
            "\n",
            "/usr/local/lib/python3.6/dist-packages/scipy/stats/_distn_infrastructure.py:901: RuntimeWarning:\n",
            "\n",
            "invalid value encountered in less\n",
            "\n",
            "/usr/local/lib/python3.6/dist-packages/scipy/stats/_distn_infrastructure.py:1892: RuntimeWarning:\n",
            "\n",
            "invalid value encountered in less_equal\n",
            "\n",
            "/usr/local/lib/python3.6/dist-packages/sklearn/feature_selection/univariate_selection.py:299: RuntimeWarning:\n",
            "\n",
            "divide by zero encountered in true_divide\n",
            "\n",
            "/usr/local/lib/python3.6/dist-packages/sklearn/feature_selection/univariate_selection.py:304: RuntimeWarning:\n",
            "\n",
            "invalid value encountered in true_divide\n",
            "\n",
            "/usr/local/lib/python3.6/dist-packages/scipy/stats/_distn_infrastructure.py:901: RuntimeWarning:\n",
            "\n",
            "invalid value encountered in greater\n",
            "\n",
            "/usr/local/lib/python3.6/dist-packages/scipy/stats/_distn_infrastructure.py:901: RuntimeWarning:\n",
            "\n",
            "invalid value encountered in less\n",
            "\n",
            "/usr/local/lib/python3.6/dist-packages/scipy/stats/_distn_infrastructure.py:1892: RuntimeWarning:\n",
            "\n",
            "invalid value encountered in less_equal\n",
            "\n"
          ],
          "name": "stderr"
        }
      ]
    },
    {
      "cell_type": "code",
      "metadata": {
        "id": "xzm_7S-QI65F",
        "colab_type": "code",
        "colab": {
          "base_uri": "https://localhost:8080/",
          "height": 173
        },
        "outputId": "229e3028-3496-4440-c479-38e20fc38193"
      },
      "source": [
        "train['borough'] = train['borough'].map({1:'Manhattan', 2:'Bronx', 3:'Brooklyn', 4:'Queens', 5:'Staten_Island'})"
      ],
      "execution_count": 205,
      "outputs": [
        {
          "output_type": "stream",
          "text": [
            "/usr/local/lib/python3.6/dist-packages/ipykernel_launcher.py:1: SettingWithCopyWarning:\n",
            "\n",
            "\n",
            "A value is trying to be set on a copy of a slice from a DataFrame.\n",
            "Try using .loc[row_indexer,col_indexer] = value instead\n",
            "\n",
            "See the caveats in the documentation: http://pandas.pydata.org/pandas-docs/stable/indexing.html#indexing-view-versus-copy\n",
            "\n"
          ],
          "name": "stderr"
        }
      ]
    },
    {
      "cell_type": "code",
      "metadata": {
        "id": "_R8hIM0K8xty",
        "colab_type": "code",
        "colab": {
          "base_uri": "https://localhost:8080/",
          "height": 173
        },
        "outputId": "8f698259-1b91-4931-c598-883e4fe51f58"
      },
      "source": [
        "test['borough'] = test['borough'].map({1:'Manhattan', 2:'Bronx', 3:'Brooklyn', 4:'Queens', 5:'Staten_Island'})"
      ],
      "execution_count": 206,
      "outputs": [
        {
          "output_type": "stream",
          "text": [
            "/usr/local/lib/python3.6/dist-packages/ipykernel_launcher.py:1: SettingWithCopyWarning:\n",
            "\n",
            "\n",
            "A value is trying to be set on a copy of a slice from a DataFrame.\n",
            "Try using .loc[row_indexer,col_indexer] = value instead\n",
            "\n",
            "See the caveats in the documentation: http://pandas.pydata.org/pandas-docs/stable/indexing.html#indexing-view-versus-copy\n",
            "\n"
          ],
          "name": "stderr"
        }
      ]
    },
    {
      "cell_type": "code",
      "metadata": {
        "id": "RCnYWFfTFWPn",
        "colab_type": "code",
        "colab": {
          "base_uri": "https://localhost:8080/",
          "height": 360
        },
        "outputId": "5bf0493d-460b-4472-d60e-9afd5743eefe"
      },
      "source": [
        "train.head()"
      ],
      "execution_count": 207,
      "outputs": [
        {
          "output_type": "execute_result",
          "data": {
            "text/html": [
              "<div>\n",
              "<style scoped>\n",
              "    .dataframe tbody tr th:only-of-type {\n",
              "        vertical-align: middle;\n",
              "    }\n",
              "\n",
              "    .dataframe tbody tr th {\n",
              "        vertical-align: top;\n",
              "    }\n",
              "\n",
              "    .dataframe thead th {\n",
              "        text-align: right;\n",
              "    }\n",
              "</style>\n",
              "<table border=\"1\" class=\"dataframe\">\n",
              "  <thead>\n",
              "    <tr style=\"text-align: right;\">\n",
              "      <th></th>\n",
              "      <th>borough</th>\n",
              "      <th>neighborhood</th>\n",
              "      <th>building_class_category</th>\n",
              "      <th>tax_class_at_present</th>\n",
              "      <th>block</th>\n",
              "      <th>lot</th>\n",
              "      <th>ease-ment</th>\n",
              "      <th>building_class_at_present</th>\n",
              "      <th>address</th>\n",
              "      <th>apartment_number</th>\n",
              "      <th>zip_code</th>\n",
              "      <th>residential_units</th>\n",
              "      <th>commercial_units</th>\n",
              "      <th>total_units</th>\n",
              "      <th>land_square_feet</th>\n",
              "      <th>gross_square_feet</th>\n",
              "      <th>year_built</th>\n",
              "      <th>tax_class_at_time_of_sale</th>\n",
              "      <th>building_class_at_time_of_sale</th>\n",
              "      <th>sale_price</th>\n",
              "      <th>sale_date</th>\n",
              "    </tr>\n",
              "  </thead>\n",
              "  <tbody>\n",
              "    <tr>\n",
              "      <th>44</th>\n",
              "      <td>Brooklyn</td>\n",
              "      <td>OCEAN PARKWAY-NORTH</td>\n",
              "      <td>01 ONE FAMILY DWELLINGS</td>\n",
              "      <td>1</td>\n",
              "      <td>5495</td>\n",
              "      <td>801</td>\n",
              "      <td>NaN</td>\n",
              "      <td>A9</td>\n",
              "      <td>4832 BAY PARKWAY</td>\n",
              "      <td>NaN</td>\n",
              "      <td>11230.0</td>\n",
              "      <td>1.0</td>\n",
              "      <td>0.0</td>\n",
              "      <td>1.0</td>\n",
              "      <td>6,800</td>\n",
              "      <td>1325.0</td>\n",
              "      <td>1930.0</td>\n",
              "      <td>1</td>\n",
              "      <td>A9</td>\n",
              "      <td>550000</td>\n",
              "      <td>2019-01-01</td>\n",
              "    </tr>\n",
              "    <tr>\n",
              "      <th>61</th>\n",
              "      <td>Queens</td>\n",
              "      <td>QUEENS VILLAGE</td>\n",
              "      <td>01 ONE FAMILY DWELLINGS</td>\n",
              "      <td>1</td>\n",
              "      <td>7918</td>\n",
              "      <td>72</td>\n",
              "      <td>NaN</td>\n",
              "      <td>A1</td>\n",
              "      <td>80-23 232ND STREET</td>\n",
              "      <td>NaN</td>\n",
              "      <td>11427.0</td>\n",
              "      <td>1.0</td>\n",
              "      <td>0.0</td>\n",
              "      <td>1.0</td>\n",
              "      <td>4,000</td>\n",
              "      <td>2001.0</td>\n",
              "      <td>1940.0</td>\n",
              "      <td>1</td>\n",
              "      <td>A1</td>\n",
              "      <td>200000</td>\n",
              "      <td>2019-01-01</td>\n",
              "    </tr>\n",
              "    <tr>\n",
              "      <th>78</th>\n",
              "      <td>Bronx</td>\n",
              "      <td>PELHAM PARKWAY SOUTH</td>\n",
              "      <td>01 ONE FAMILY DWELLINGS</td>\n",
              "      <td>1</td>\n",
              "      <td>4210</td>\n",
              "      <td>19</td>\n",
              "      <td>NaN</td>\n",
              "      <td>A1</td>\n",
              "      <td>1260 RHINELANDER AVE</td>\n",
              "      <td>NaN</td>\n",
              "      <td>10461.0</td>\n",
              "      <td>1.0</td>\n",
              "      <td>0.0</td>\n",
              "      <td>1.0</td>\n",
              "      <td>3,500</td>\n",
              "      <td>2043.0</td>\n",
              "      <td>1925.0</td>\n",
              "      <td>1</td>\n",
              "      <td>A1</td>\n",
              "      <td>810000</td>\n",
              "      <td>2019-01-02</td>\n",
              "    </tr>\n",
              "    <tr>\n",
              "      <th>108</th>\n",
              "      <td>Brooklyn</td>\n",
              "      <td>FLATBUSH-CENTRAL</td>\n",
              "      <td>01 ONE FAMILY DWELLINGS</td>\n",
              "      <td>1</td>\n",
              "      <td>5212</td>\n",
              "      <td>69</td>\n",
              "      <td>NaN</td>\n",
              "      <td>A1</td>\n",
              "      <td>469 E 25TH ST</td>\n",
              "      <td>NaN</td>\n",
              "      <td>11226.0</td>\n",
              "      <td>1.0</td>\n",
              "      <td>0.0</td>\n",
              "      <td>1.0</td>\n",
              "      <td>4,000</td>\n",
              "      <td>2680.0</td>\n",
              "      <td>1899.0</td>\n",
              "      <td>1</td>\n",
              "      <td>A1</td>\n",
              "      <td>125000</td>\n",
              "      <td>2019-01-02</td>\n",
              "    </tr>\n",
              "    <tr>\n",
              "      <th>111</th>\n",
              "      <td>Brooklyn</td>\n",
              "      <td>FLATBUSH-EAST</td>\n",
              "      <td>01 ONE FAMILY DWELLINGS</td>\n",
              "      <td>1</td>\n",
              "      <td>7930</td>\n",
              "      <td>121</td>\n",
              "      <td>NaN</td>\n",
              "      <td>A5</td>\n",
              "      <td>5521 WHITTY LANE</td>\n",
              "      <td>NaN</td>\n",
              "      <td>11203.0</td>\n",
              "      <td>1.0</td>\n",
              "      <td>0.0</td>\n",
              "      <td>1.0</td>\n",
              "      <td>1,710</td>\n",
              "      <td>1872.0</td>\n",
              "      <td>1940.0</td>\n",
              "      <td>1</td>\n",
              "      <td>A5</td>\n",
              "      <td>620000</td>\n",
              "      <td>2019-01-02</td>\n",
              "    </tr>\n",
              "  </tbody>\n",
              "</table>\n",
              "</div>"
            ],
            "text/plain": [
              "      borough          neighborhood  ... sale_price  sale_date\n",
              "44   Brooklyn   OCEAN PARKWAY-NORTH  ...     550000 2019-01-01\n",
              "61     Queens        QUEENS VILLAGE  ...     200000 2019-01-01\n",
              "78      Bronx  PELHAM PARKWAY SOUTH  ...     810000 2019-01-02\n",
              "108  Brooklyn      FLATBUSH-CENTRAL  ...     125000 2019-01-02\n",
              "111  Brooklyn         FLATBUSH-EAST  ...     620000 2019-01-02\n",
              "\n",
              "[5 rows x 21 columns]"
            ]
          },
          "metadata": {
            "tags": []
          },
          "execution_count": 207
        }
      ]
    },
    {
      "cell_type": "code",
      "metadata": {
        "id": "Zlpy9jKjI3Wx",
        "colab_type": "code",
        "colab": {}
      },
      "source": [
        "import category_encoders as ce\n",
        "from sklearn.preprocessing import OneHotEncoder\n",
        "encoder = ce.OneHotEncoder(use_cat_names=True)\n",
        "encoded = encoder.fit_transform(train['borough'])\n",
        "\n",
        "encoded2 = encoder.fit_transform(test['borough'])\n",
        "encoder2 = ce.OneHotEncoder(use_cat_names=True)\n",
        "encoded_building = encoder2.fit_transform(train['building_class_at_time_of_sale'])\n",
        "encoded_building2 = encoder2.fit_transform(train['building_class_at_time_of_sale'])"
      ],
      "execution_count": 0,
      "outputs": []
    },
    {
      "cell_type": "code",
      "metadata": {
        "id": "Czt7z2nabLVo",
        "colab_type": "code",
        "colab": {
          "base_uri": "https://localhost:8080/",
          "height": 224
        },
        "outputId": "97b0ffed-8981-4c15-a2ab-35badc0c4cdb"
      },
      "source": [
        "EB_test = encoded_building.join(train[['gross_square_feet','sale_price']])\n",
        "EB_train = encoded_building2.join(train[['gross_square_feet','sale_price']])\n",
        "EB_test.head()"
      ],
      "execution_count": 209,
      "outputs": [
        {
          "output_type": "execute_result",
          "data": {
            "text/html": [
              "<div>\n",
              "<style scoped>\n",
              "    .dataframe tbody tr th:only-of-type {\n",
              "        vertical-align: middle;\n",
              "    }\n",
              "\n",
              "    .dataframe tbody tr th {\n",
              "        vertical-align: top;\n",
              "    }\n",
              "\n",
              "    .dataframe thead th {\n",
              "        text-align: right;\n",
              "    }\n",
              "</style>\n",
              "<table border=\"1\" class=\"dataframe\">\n",
              "  <thead>\n",
              "    <tr style=\"text-align: right;\">\n",
              "      <th></th>\n",
              "      <th>building_class_at_time_of_sale_A9</th>\n",
              "      <th>building_class_at_time_of_sale_A1</th>\n",
              "      <th>building_class_at_time_of_sale_A5</th>\n",
              "      <th>building_class_at_time_of_sale_A0</th>\n",
              "      <th>building_class_at_time_of_sale_A2</th>\n",
              "      <th>building_class_at_time_of_sale_A3</th>\n",
              "      <th>building_class_at_time_of_sale_S1</th>\n",
              "      <th>building_class_at_time_of_sale_A4</th>\n",
              "      <th>building_class_at_time_of_sale_A6</th>\n",
              "      <th>building_class_at_time_of_sale_A8</th>\n",
              "      <th>building_class_at_time_of_sale_S0</th>\n",
              "      <th>gross_square_feet</th>\n",
              "      <th>sale_price</th>\n",
              "    </tr>\n",
              "  </thead>\n",
              "  <tbody>\n",
              "    <tr>\n",
              "      <th>44</th>\n",
              "      <td>1</td>\n",
              "      <td>0</td>\n",
              "      <td>0</td>\n",
              "      <td>0</td>\n",
              "      <td>0</td>\n",
              "      <td>0</td>\n",
              "      <td>0</td>\n",
              "      <td>0</td>\n",
              "      <td>0</td>\n",
              "      <td>0</td>\n",
              "      <td>0</td>\n",
              "      <td>1325.0</td>\n",
              "      <td>550000</td>\n",
              "    </tr>\n",
              "    <tr>\n",
              "      <th>61</th>\n",
              "      <td>0</td>\n",
              "      <td>1</td>\n",
              "      <td>0</td>\n",
              "      <td>0</td>\n",
              "      <td>0</td>\n",
              "      <td>0</td>\n",
              "      <td>0</td>\n",
              "      <td>0</td>\n",
              "      <td>0</td>\n",
              "      <td>0</td>\n",
              "      <td>0</td>\n",
              "      <td>2001.0</td>\n",
              "      <td>200000</td>\n",
              "    </tr>\n",
              "    <tr>\n",
              "      <th>78</th>\n",
              "      <td>0</td>\n",
              "      <td>1</td>\n",
              "      <td>0</td>\n",
              "      <td>0</td>\n",
              "      <td>0</td>\n",
              "      <td>0</td>\n",
              "      <td>0</td>\n",
              "      <td>0</td>\n",
              "      <td>0</td>\n",
              "      <td>0</td>\n",
              "      <td>0</td>\n",
              "      <td>2043.0</td>\n",
              "      <td>810000</td>\n",
              "    </tr>\n",
              "    <tr>\n",
              "      <th>108</th>\n",
              "      <td>0</td>\n",
              "      <td>1</td>\n",
              "      <td>0</td>\n",
              "      <td>0</td>\n",
              "      <td>0</td>\n",
              "      <td>0</td>\n",
              "      <td>0</td>\n",
              "      <td>0</td>\n",
              "      <td>0</td>\n",
              "      <td>0</td>\n",
              "      <td>0</td>\n",
              "      <td>2680.0</td>\n",
              "      <td>125000</td>\n",
              "    </tr>\n",
              "    <tr>\n",
              "      <th>111</th>\n",
              "      <td>0</td>\n",
              "      <td>0</td>\n",
              "      <td>1</td>\n",
              "      <td>0</td>\n",
              "      <td>0</td>\n",
              "      <td>0</td>\n",
              "      <td>0</td>\n",
              "      <td>0</td>\n",
              "      <td>0</td>\n",
              "      <td>0</td>\n",
              "      <td>0</td>\n",
              "      <td>1872.0</td>\n",
              "      <td>620000</td>\n",
              "    </tr>\n",
              "  </tbody>\n",
              "</table>\n",
              "</div>"
            ],
            "text/plain": [
              "     building_class_at_time_of_sale_A9  ...  sale_price\n",
              "44                                   1  ...      550000\n",
              "61                                   0  ...      200000\n",
              "78                                   0  ...      810000\n",
              "108                                  0  ...      125000\n",
              "111                                  0  ...      620000\n",
              "\n",
              "[5 rows x 13 columns]"
            ]
          },
          "metadata": {
            "tags": []
          },
          "execution_count": 209
        }
      ]
    },
    {
      "cell_type": "code",
      "metadata": {
        "id": "nSiYDooDX-EH",
        "colab_type": "code",
        "colab": {}
      },
      "source": [
        "encoded_test = encoded.join(train[['gross_square_feet','sale_price']])"
      ],
      "execution_count": 0,
      "outputs": []
    },
    {
      "cell_type": "code",
      "metadata": {
        "id": "164Wo4HC5vXt",
        "colab_type": "code",
        "colab": {}
      },
      "source": [
        "encoded_train = encoded.join(train[['sale_price','gross_square_feet']])"
      ],
      "execution_count": 0,
      "outputs": []
    },
    {
      "cell_type": "code",
      "metadata": {
        "id": "mdRQk4Jq6ngg",
        "colab_type": "code",
        "colab": {
          "base_uri": "https://localhost:8080/",
          "height": 100
        },
        "outputId": "12de5d79-e638-45aa-f5e6-f0ecea821fe0"
      },
      "source": [
        "encoded_test[encoded_test['borough_Manhattan'] == 1]"
      ],
      "execution_count": 212,
      "outputs": [
        {
          "output_type": "execute_result",
          "data": {
            "text/html": [
              "<div>\n",
              "<style scoped>\n",
              "    .dataframe tbody tr th:only-of-type {\n",
              "        vertical-align: middle;\n",
              "    }\n",
              "\n",
              "    .dataframe tbody tr th {\n",
              "        vertical-align: top;\n",
              "    }\n",
              "\n",
              "    .dataframe thead th {\n",
              "        text-align: right;\n",
              "    }\n",
              "</style>\n",
              "<table border=\"1\" class=\"dataframe\">\n",
              "  <thead>\n",
              "    <tr style=\"text-align: right;\">\n",
              "      <th></th>\n",
              "      <th>borough_Brooklyn</th>\n",
              "      <th>borough_Queens</th>\n",
              "      <th>borough_Bronx</th>\n",
              "      <th>borough_Staten_Island</th>\n",
              "      <th>borough_Manhattan</th>\n",
              "      <th>gross_square_feet</th>\n",
              "      <th>sale_price</th>\n",
              "    </tr>\n",
              "  </thead>\n",
              "  <tbody>\n",
              "    <tr>\n",
              "      <th>12816</th>\n",
              "      <td>0</td>\n",
              "      <td>0</td>\n",
              "      <td>0</td>\n",
              "      <td>0</td>\n",
              "      <td>1</td>\n",
              "      <td>1440.0</td>\n",
              "      <td>739000</td>\n",
              "    </tr>\n",
              "  </tbody>\n",
              "</table>\n",
              "</div>"
            ],
            "text/plain": [
              "       borough_Brooklyn  borough_Queens  ...  gross_square_feet  sale_price\n",
              "12816                 0               0  ...             1440.0      739000\n",
              "\n",
              "[1 rows x 7 columns]"
            ]
          },
          "metadata": {
            "tags": []
          },
          "execution_count": 212
        }
      ]
    },
    {
      "cell_type": "code",
      "metadata": {
        "id": "N89l3Tcx9iYA",
        "colab_type": "code",
        "colab": {}
      },
      "source": [
        "from sklearn.linear_model import LinearRegression\n",
        "model = LinearRegression()\n",
        "features = ['gross_square_feet', 'borough_Bronx','borough_Brooklyn','borough_Queens','borough_Staten_Island','borough_Manhattan']\n",
        "target = 'sale_price'\n",
        "X_train = encoded_train[features]\n",
        "y_train = encoded_train[target]\n",
        "X_test = encoded_test[features]\n",
        "y_test = encoded_test[target]\n",
        "\n",
        "model.fit(X_train, y_train)\n",
        "y_pred_test = model.predict(X_test)\n",
        "y_pred_train = model.predict(X_train)"
      ],
      "execution_count": 0,
      "outputs": []
    },
    {
      "cell_type": "code",
      "metadata": {
        "id": "XdBiD5sUbnkj",
        "colab_type": "code",
        "colab": {
          "base_uri": "https://localhost:8080/",
          "height": 34
        },
        "outputId": "d3a7e39c-9692-4ccf-ff9d-f5fad483cae3"
      },
      "source": [
        "mean_absolute_error(y_test, y_pred_test)"
      ],
      "execution_count": 232,
      "outputs": [
        {
          "output_type": "execute_result",
          "data": {
            "text/plain": [
              "178735.33928973528"
            ]
          },
          "metadata": {
            "tags": []
          },
          "execution_count": 232
        }
      ]
    },
    {
      "cell_type": "code",
      "metadata": {
        "id": "1YKtGfbBXLI9",
        "colab_type": "code",
        "colab": {
          "base_uri": "https://localhost:8080/",
          "height": 221
        },
        "outputId": "2eda03c3-c004-4059-ef70-3ae6b66dda34"
      },
      "source": [
        "EB_train.columns"
      ],
      "execution_count": 233,
      "outputs": [
        {
          "output_type": "execute_result",
          "data": {
            "text/plain": [
              "Index(['building_class_at_time_of_sale_A9',\n",
              "       'building_class_at_time_of_sale_A1',\n",
              "       'building_class_at_time_of_sale_A5',\n",
              "       'building_class_at_time_of_sale_A0',\n",
              "       'building_class_at_time_of_sale_A2',\n",
              "       'building_class_at_time_of_sale_A3',\n",
              "       'building_class_at_time_of_sale_S1',\n",
              "       'building_class_at_time_of_sale_A4',\n",
              "       'building_class_at_time_of_sale_A6',\n",
              "       'building_class_at_time_of_sale_A8',\n",
              "       'building_class_at_time_of_sale_S0', 'gross_square_feet', 'sale_price'],\n",
              "      dtype='object')"
            ]
          },
          "metadata": {
            "tags": []
          },
          "execution_count": 233
        }
      ]
    },
    {
      "cell_type": "code",
      "metadata": {
        "id": "maGoRCQo-mc_",
        "colab_type": "code",
        "colab": {
          "base_uri": "https://localhost:8080/",
          "height": 51
        },
        "outputId": "26d4eb8d-fa9e-4dd2-a97c-b5e526705605"
      },
      "source": [
        "model.coef_"
      ],
      "execution_count": 215,
      "outputs": [
        {
          "output_type": "execute_result",
          "data": {
            "text/plain": [
              "array([    225.61924   , -166294.25249462,  126350.57213299,\n",
              "         29118.71339303, -104624.50971367,  115449.47668226])"
            ]
          },
          "metadata": {
            "tags": []
          },
          "execution_count": 215
        }
      ]
    },
    {
      "cell_type": "code",
      "metadata": {
        "id": "V6ugNnE5_5CU",
        "colab_type": "code",
        "colab": {
          "base_uri": "https://localhost:8080/",
          "height": 34
        },
        "outputId": "11eb2b84-1480-4002-e8c4-5352f2da1d1b"
      },
      "source": [
        "model.intercept_"
      ],
      "execution_count": 216,
      "outputs": [
        {
          "output_type": "execute_result",
          "data": {
            "text/plain": [
              "298658.81771398603"
            ]
          },
          "metadata": {
            "tags": []
          },
          "execution_count": 216
        }
      ]
    },
    {
      "cell_type": "code",
      "metadata": {
        "id": "dHNAf5KSAPHl",
        "colab_type": "code",
        "colab": {}
      },
      "source": [
        "from sklearn.metrics import mean_absolute_error, mean_squared_error, r2_score"
      ],
      "execution_count": 0,
      "outputs": []
    },
    {
      "cell_type": "code",
      "metadata": {
        "id": "ETVmT-nMArT7",
        "colab_type": "code",
        "colab": {
          "base_uri": "https://localhost:8080/",
          "height": 34
        },
        "outputId": "3fb505d1-55c4-4415-d3c0-9a860ae05b70"
      },
      "source": [
        "mae_test = mean_absolute_error(y_test, y_pred_test)\n",
        "mae"
      ],
      "execution_count": 218,
      "outputs": [
        {
          "output_type": "execute_result",
          "data": {
            "text/plain": [
              "167704.58795917808"
            ]
          },
          "metadata": {
            "tags": []
          },
          "execution_count": 218
        }
      ]
    },
    {
      "cell_type": "code",
      "metadata": {
        "id": "0LOaGUGRBBxA",
        "colab_type": "code",
        "colab": {
          "base_uri": "https://localhost:8080/",
          "height": 34
        },
        "outputId": "27362ec8-33ea-4529-d02f-57a3ca86712a"
      },
      "source": [
        "mae_train = mean_absolute_error(y_train, y_pred_train)\n",
        "mae_train"
      ],
      "execution_count": 219,
      "outputs": [
        {
          "output_type": "execute_result",
          "data": {
            "text/plain": [
              "178735.33928973528"
            ]
          },
          "metadata": {
            "tags": []
          },
          "execution_count": 219
        }
      ]
    },
    {
      "cell_type": "code",
      "metadata": {
        "id": "HA9BbXX0BNxZ",
        "colab_type": "code",
        "colab": {
          "base_uri": "https://localhost:8080/",
          "height": 34
        },
        "outputId": "67e9450b-352e-4d92-ed5f-62f1cbcfa781"
      },
      "source": [
        "r2_test = r2_score(y_test, y_pred_test)\n",
        "r2_test"
      ],
      "execution_count": 220,
      "outputs": [
        {
          "output_type": "execute_result",
          "data": {
            "text/plain": [
              "0.3054091151595717"
            ]
          },
          "metadata": {
            "tags": []
          },
          "execution_count": 220
        }
      ]
    },
    {
      "cell_type": "code",
      "metadata": {
        "id": "th3qzMH1S5jd",
        "colab_type": "code",
        "colab": {
          "base_uri": "https://localhost:8080/",
          "height": 548
        },
        "outputId": "a99d9ca7-ecf8-45cc-bc3c-e193d578dbc0"
      },
      "source": [
        "from sklearn.preprocessing import StandardScaler\n",
        "target = 'sale_price'\n",
        "high_cardinality = ['address','block', 'land_square_feet', 'sale_date', 'building_class_at_time_of_sale', 'neighborhood', 'building_class_at_present']\n",
        "features = train.columns.drop([target] + high_cardinality)\n",
        "\n",
        "X_train = train[features]\n",
        "y_train = train[target]\n",
        "\n",
        "X_test = test[features]\n",
        "y_test = test[target]\n",
        "\n",
        "encoder = ce.OneHotEncoder(use_cat_names=True)\n",
        "X_train_encoded = encoder.fit_transform(X_train)\n",
        "X_test_encoded = encoder.transform(X_test)\n",
        "\n",
        "scaler = StandardScaler()\n",
        "X_train_scaled = scaler.fit_transform(X_train_encoded)\n",
        "X_test_scaled = scaler.transform(X_test_encoded)\n",
        "\n",
        "for k in range(1, len(X_train_encoded.columns)+1):\n",
        "    print(f'{k} features')\n",
        "\n",
        "    selector = SelectKBest(score_func=f_regression, k=k)\n",
        "    X_train_selected = selector.fit_transform(X_train_scaled, y_train)\n",
        "    X_test_selected = selector.transform(X_test_scaled)\n",
        "\n",
        "    model= LinearRegression()\n",
        "    model.fit(X_train_selected, y_train)\n",
        "\n",
        "    y_pred = model.predict(X_test_selected)\n",
        "    mae = mean_absolute_error(y_test, y_pred)\n",
        "    print(f'Test MAE: ${mae:,.02f} \\n')"
      ],
      "execution_count": 221,
      "outputs": [
        {
          "output_type": "stream",
          "text": [
            "1 features\n"
          ],
          "name": "stdout"
        },
        {
          "output_type": "stream",
          "text": [
            "/usr/local/lib/python3.6/dist-packages/sklearn/utils/extmath.py:747: RuntimeWarning:\n",
            "\n",
            "invalid value encountered in true_divide\n",
            "\n",
            "/usr/local/lib/python3.6/dist-packages/sklearn/utils/extmath.py:688: RuntimeWarning:\n",
            "\n",
            "Degrees of freedom <= 0 for slice.\n",
            "\n"
          ],
          "name": "stderr"
        },
        {
          "output_type": "error",
          "ename": "ValueError",
          "evalue": "ignored",
          "traceback": [
            "\u001b[0;31m---------------------------------------------------------------------------\u001b[0m",
            "\u001b[0;31mValueError\u001b[0m                                Traceback (most recent call last)",
            "\u001b[0;32m<ipython-input-221-a9eee7bc69d8>\u001b[0m in \u001b[0;36m<module>\u001b[0;34m()\u001b[0m\n\u001b[1;32m     22\u001b[0m \u001b[0;34m\u001b[0m\u001b[0m\n\u001b[1;32m     23\u001b[0m     \u001b[0mselector\u001b[0m \u001b[0;34m=\u001b[0m \u001b[0mSelectKBest\u001b[0m\u001b[0;34m(\u001b[0m\u001b[0mscore_func\u001b[0m\u001b[0;34m=\u001b[0m\u001b[0mf_regression\u001b[0m\u001b[0;34m,\u001b[0m \u001b[0mk\u001b[0m\u001b[0;34m=\u001b[0m\u001b[0mk\u001b[0m\u001b[0;34m)\u001b[0m\u001b[0;34m\u001b[0m\u001b[0;34m\u001b[0m\u001b[0m\n\u001b[0;32m---> 24\u001b[0;31m     \u001b[0mX_train_selected\u001b[0m \u001b[0;34m=\u001b[0m \u001b[0mselector\u001b[0m\u001b[0;34m.\u001b[0m\u001b[0mfit_transform\u001b[0m\u001b[0;34m(\u001b[0m\u001b[0mX_train_scaled\u001b[0m\u001b[0;34m,\u001b[0m \u001b[0my_train\u001b[0m\u001b[0;34m)\u001b[0m\u001b[0;34m\u001b[0m\u001b[0;34m\u001b[0m\u001b[0m\n\u001b[0m\u001b[1;32m     25\u001b[0m     \u001b[0mX_test_selected\u001b[0m \u001b[0;34m=\u001b[0m \u001b[0mselector\u001b[0m\u001b[0;34m.\u001b[0m\u001b[0mtransform\u001b[0m\u001b[0;34m(\u001b[0m\u001b[0mX_test_scaled\u001b[0m\u001b[0;34m)\u001b[0m\u001b[0;34m\u001b[0m\u001b[0;34m\u001b[0m\u001b[0m\n\u001b[1;32m     26\u001b[0m \u001b[0;34m\u001b[0m\u001b[0m\n",
            "\u001b[0;32m/usr/local/lib/python3.6/dist-packages/sklearn/base.py\u001b[0m in \u001b[0;36mfit_transform\u001b[0;34m(self, X, y, **fit_params)\u001b[0m\n\u001b[1;32m    554\u001b[0m         \u001b[0;32melse\u001b[0m\u001b[0;34m:\u001b[0m\u001b[0;34m\u001b[0m\u001b[0;34m\u001b[0m\u001b[0m\n\u001b[1;32m    555\u001b[0m             \u001b[0;31m# fit method of arity 2 (supervised transformation)\u001b[0m\u001b[0;34m\u001b[0m\u001b[0;34m\u001b[0m\u001b[0;34m\u001b[0m\u001b[0m\n\u001b[0;32m--> 556\u001b[0;31m             \u001b[0;32mreturn\u001b[0m \u001b[0mself\u001b[0m\u001b[0;34m.\u001b[0m\u001b[0mfit\u001b[0m\u001b[0;34m(\u001b[0m\u001b[0mX\u001b[0m\u001b[0;34m,\u001b[0m \u001b[0my\u001b[0m\u001b[0;34m,\u001b[0m \u001b[0;34m**\u001b[0m\u001b[0mfit_params\u001b[0m\u001b[0;34m)\u001b[0m\u001b[0;34m.\u001b[0m\u001b[0mtransform\u001b[0m\u001b[0;34m(\u001b[0m\u001b[0mX\u001b[0m\u001b[0;34m)\u001b[0m\u001b[0;34m\u001b[0m\u001b[0;34m\u001b[0m\u001b[0m\n\u001b[0m\u001b[1;32m    557\u001b[0m \u001b[0;34m\u001b[0m\u001b[0m\n\u001b[1;32m    558\u001b[0m \u001b[0;34m\u001b[0m\u001b[0m\n",
            "\u001b[0;32m/usr/local/lib/python3.6/dist-packages/sklearn/feature_selection/univariate_selection.py\u001b[0m in \u001b[0;36mfit\u001b[0;34m(self, X, y)\u001b[0m\n\u001b[1;32m    339\u001b[0m         \u001b[0mself\u001b[0m \u001b[0;34m:\u001b[0m \u001b[0mobject\u001b[0m\u001b[0;34m\u001b[0m\u001b[0;34m\u001b[0m\u001b[0m\n\u001b[1;32m    340\u001b[0m         \"\"\"\n\u001b[0;32m--> 341\u001b[0;31m         \u001b[0mX\u001b[0m\u001b[0;34m,\u001b[0m \u001b[0my\u001b[0m \u001b[0;34m=\u001b[0m \u001b[0mcheck_X_y\u001b[0m\u001b[0;34m(\u001b[0m\u001b[0mX\u001b[0m\u001b[0;34m,\u001b[0m \u001b[0my\u001b[0m\u001b[0;34m,\u001b[0m \u001b[0;34m[\u001b[0m\u001b[0;34m'csr'\u001b[0m\u001b[0;34m,\u001b[0m \u001b[0;34m'csc'\u001b[0m\u001b[0;34m]\u001b[0m\u001b[0;34m,\u001b[0m \u001b[0mmulti_output\u001b[0m\u001b[0;34m=\u001b[0m\u001b[0;32mTrue\u001b[0m\u001b[0;34m)\u001b[0m\u001b[0;34m\u001b[0m\u001b[0;34m\u001b[0m\u001b[0m\n\u001b[0m\u001b[1;32m    342\u001b[0m \u001b[0;34m\u001b[0m\u001b[0m\n\u001b[1;32m    343\u001b[0m         \u001b[0;32mif\u001b[0m \u001b[0;32mnot\u001b[0m \u001b[0mcallable\u001b[0m\u001b[0;34m(\u001b[0m\u001b[0mself\u001b[0m\u001b[0;34m.\u001b[0m\u001b[0mscore_func\u001b[0m\u001b[0;34m)\u001b[0m\u001b[0;34m:\u001b[0m\u001b[0;34m\u001b[0m\u001b[0;34m\u001b[0m\u001b[0m\n",
            "\u001b[0;32m/usr/local/lib/python3.6/dist-packages/sklearn/utils/validation.py\u001b[0m in \u001b[0;36mcheck_X_y\u001b[0;34m(X, y, accept_sparse, accept_large_sparse, dtype, order, copy, force_all_finite, ensure_2d, allow_nd, multi_output, ensure_min_samples, ensure_min_features, y_numeric, warn_on_dtype, estimator)\u001b[0m\n\u001b[1;32m    717\u001b[0m                     \u001b[0mensure_min_features\u001b[0m\u001b[0;34m=\u001b[0m\u001b[0mensure_min_features\u001b[0m\u001b[0;34m,\u001b[0m\u001b[0;34m\u001b[0m\u001b[0;34m\u001b[0m\u001b[0m\n\u001b[1;32m    718\u001b[0m                     \u001b[0mwarn_on_dtype\u001b[0m\u001b[0;34m=\u001b[0m\u001b[0mwarn_on_dtype\u001b[0m\u001b[0;34m,\u001b[0m\u001b[0;34m\u001b[0m\u001b[0;34m\u001b[0m\u001b[0m\n\u001b[0;32m--> 719\u001b[0;31m                     estimator=estimator)\n\u001b[0m\u001b[1;32m    720\u001b[0m     \u001b[0;32mif\u001b[0m \u001b[0mmulti_output\u001b[0m\u001b[0;34m:\u001b[0m\u001b[0;34m\u001b[0m\u001b[0;34m\u001b[0m\u001b[0m\n\u001b[1;32m    721\u001b[0m         y = check_array(y, 'csr', force_all_finite=True, ensure_2d=False,\n",
            "\u001b[0;32m/usr/local/lib/python3.6/dist-packages/sklearn/utils/validation.py\u001b[0m in \u001b[0;36mcheck_array\u001b[0;34m(array, accept_sparse, accept_large_sparse, dtype, order, copy, force_all_finite, ensure_2d, allow_nd, ensure_min_samples, ensure_min_features, warn_on_dtype, estimator)\u001b[0m\n\u001b[1;32m    540\u001b[0m         \u001b[0;32mif\u001b[0m \u001b[0mforce_all_finite\u001b[0m\u001b[0;34m:\u001b[0m\u001b[0;34m\u001b[0m\u001b[0;34m\u001b[0m\u001b[0m\n\u001b[1;32m    541\u001b[0m             _assert_all_finite(array,\n\u001b[0;32m--> 542\u001b[0;31m                                allow_nan=force_all_finite == 'allow-nan')\n\u001b[0m\u001b[1;32m    543\u001b[0m \u001b[0;34m\u001b[0m\u001b[0m\n\u001b[1;32m    544\u001b[0m     \u001b[0;32mif\u001b[0m \u001b[0mensure_min_samples\u001b[0m \u001b[0;34m>\u001b[0m \u001b[0;36m0\u001b[0m\u001b[0;34m:\u001b[0m\u001b[0;34m\u001b[0m\u001b[0;34m\u001b[0m\u001b[0m\n",
            "\u001b[0;32m/usr/local/lib/python3.6/dist-packages/sklearn/utils/validation.py\u001b[0m in \u001b[0;36m_assert_all_finite\u001b[0;34m(X, allow_nan)\u001b[0m\n\u001b[1;32m     54\u001b[0m                 not allow_nan and not np.isfinite(X).all()):\n\u001b[1;32m     55\u001b[0m             \u001b[0mtype_err\u001b[0m \u001b[0;34m=\u001b[0m \u001b[0;34m'infinity'\u001b[0m \u001b[0;32mif\u001b[0m \u001b[0mallow_nan\u001b[0m \u001b[0;32melse\u001b[0m \u001b[0;34m'NaN, infinity'\u001b[0m\u001b[0;34m\u001b[0m\u001b[0;34m\u001b[0m\u001b[0m\n\u001b[0;32m---> 56\u001b[0;31m             \u001b[0;32mraise\u001b[0m \u001b[0mValueError\u001b[0m\u001b[0;34m(\u001b[0m\u001b[0mmsg_err\u001b[0m\u001b[0;34m.\u001b[0m\u001b[0mformat\u001b[0m\u001b[0;34m(\u001b[0m\u001b[0mtype_err\u001b[0m\u001b[0;34m,\u001b[0m \u001b[0mX\u001b[0m\u001b[0;34m.\u001b[0m\u001b[0mdtype\u001b[0m\u001b[0;34m)\u001b[0m\u001b[0;34m)\u001b[0m\u001b[0;34m\u001b[0m\u001b[0;34m\u001b[0m\u001b[0m\n\u001b[0m\u001b[1;32m     57\u001b[0m     \u001b[0;31m# for object dtype data, we only check for NaNs (GH-13254)\u001b[0m\u001b[0;34m\u001b[0m\u001b[0;34m\u001b[0m\u001b[0;34m\u001b[0m\u001b[0m\n\u001b[1;32m     58\u001b[0m     \u001b[0;32melif\u001b[0m \u001b[0mX\u001b[0m\u001b[0;34m.\u001b[0m\u001b[0mdtype\u001b[0m \u001b[0;34m==\u001b[0m \u001b[0mnp\u001b[0m\u001b[0;34m.\u001b[0m\u001b[0mdtype\u001b[0m\u001b[0;34m(\u001b[0m\u001b[0;34m'object'\u001b[0m\u001b[0;34m)\u001b[0m \u001b[0;32mand\u001b[0m \u001b[0;32mnot\u001b[0m \u001b[0mallow_nan\u001b[0m\u001b[0;34m:\u001b[0m\u001b[0;34m\u001b[0m\u001b[0;34m\u001b[0m\u001b[0m\n",
            "\u001b[0;31mValueError\u001b[0m: Input contains NaN, infinity or a value too large for dtype('float64')."
          ]
        }
      ]
    },
    {
      "cell_type": "code",
      "metadata": {
        "colab_type": "code",
        "id": "axTLfv4DMiZ9",
        "colab": {}
      },
      "source": [
        "train_objs_num = len(train)\n",
        "dataset = pd.concat(objs=[train, test], axis=0)\n",
        "dums = pd.get_dummies(dataset['neighborhood'])\n",
        "train_dums = dums[:train_objs_num].join(dataset[:train_objs_num])\n",
        "test_dums = dums[train_objs_num:].join(dataset[train_objs_num:])"
      ],
      "execution_count": 0,
      "outputs": []
    },
    {
      "cell_type": "code",
      "metadata": {
        "id": "PALvFHygPAs_",
        "colab_type": "code",
        "colab": {}
      },
      "source": [
        "train_dums = train_dums.select_dtypes('number').drop(columns='ease-ment')\n",
        "test_dums = test_dums.select_dtypes('number').drop(columns='ease-ment')"
      ],
      "execution_count": 0,
      "outputs": []
    },
    {
      "cell_type": "code",
      "metadata": {
        "id": "exU7-fdjS_vg",
        "colab_type": "code",
        "colab": {}
      },
      "source": [
        "y_train.shape"
      ],
      "execution_count": 0,
      "outputs": []
    },
    {
      "cell_type": "code",
      "metadata": {
        "id": "IKR0opdjTlCg",
        "colab_type": "code",
        "colab": {}
      },
      "source": [
        "from sklearn.linear_model import LinearRegression\n",
        "model = LinearRegression()\n",
        "target = 'sale_price'\n",
        "\n",
        "encoded_train.head()\n"
      ],
      "execution_count": 0,
      "outputs": []
    },
    {
      "cell_type": "code",
      "metadata": {
        "id": "hu5IJRVfF9AK",
        "colab_type": "code",
        "colab": {}
      },
      "source": [
        "r2_score(y_test,y_pred_test)"
      ],
      "execution_count": 0,
      "outputs": []
    },
    {
      "cell_type": "code",
      "metadata": {
        "id": "A2kiGOLEhLZF",
        "colab_type": "code",
        "colab": {
          "base_uri": "https://localhost:8080/",
          "height": 224
        },
        "outputId": "4c09000d-b812-4ee7-f8ab-f343cc49c8b4"
      },
      "source": [
        "EB_train.head()"
      ],
      "execution_count": 225,
      "outputs": [
        {
          "output_type": "execute_result",
          "data": {
            "text/html": [
              "<div>\n",
              "<style scoped>\n",
              "    .dataframe tbody tr th:only-of-type {\n",
              "        vertical-align: middle;\n",
              "    }\n",
              "\n",
              "    .dataframe tbody tr th {\n",
              "        vertical-align: top;\n",
              "    }\n",
              "\n",
              "    .dataframe thead th {\n",
              "        text-align: right;\n",
              "    }\n",
              "</style>\n",
              "<table border=\"1\" class=\"dataframe\">\n",
              "  <thead>\n",
              "    <tr style=\"text-align: right;\">\n",
              "      <th></th>\n",
              "      <th>building_class_at_time_of_sale_A9</th>\n",
              "      <th>building_class_at_time_of_sale_A1</th>\n",
              "      <th>building_class_at_time_of_sale_A5</th>\n",
              "      <th>building_class_at_time_of_sale_A0</th>\n",
              "      <th>building_class_at_time_of_sale_A2</th>\n",
              "      <th>building_class_at_time_of_sale_A3</th>\n",
              "      <th>building_class_at_time_of_sale_S1</th>\n",
              "      <th>building_class_at_time_of_sale_A4</th>\n",
              "      <th>building_class_at_time_of_sale_A6</th>\n",
              "      <th>building_class_at_time_of_sale_A8</th>\n",
              "      <th>building_class_at_time_of_sale_S0</th>\n",
              "      <th>gross_square_feet</th>\n",
              "      <th>sale_price</th>\n",
              "    </tr>\n",
              "  </thead>\n",
              "  <tbody>\n",
              "    <tr>\n",
              "      <th>44</th>\n",
              "      <td>1</td>\n",
              "      <td>0</td>\n",
              "      <td>0</td>\n",
              "      <td>0</td>\n",
              "      <td>0</td>\n",
              "      <td>0</td>\n",
              "      <td>0</td>\n",
              "      <td>0</td>\n",
              "      <td>0</td>\n",
              "      <td>0</td>\n",
              "      <td>0</td>\n",
              "      <td>1325.0</td>\n",
              "      <td>550000</td>\n",
              "    </tr>\n",
              "    <tr>\n",
              "      <th>61</th>\n",
              "      <td>0</td>\n",
              "      <td>1</td>\n",
              "      <td>0</td>\n",
              "      <td>0</td>\n",
              "      <td>0</td>\n",
              "      <td>0</td>\n",
              "      <td>0</td>\n",
              "      <td>0</td>\n",
              "      <td>0</td>\n",
              "      <td>0</td>\n",
              "      <td>0</td>\n",
              "      <td>2001.0</td>\n",
              "      <td>200000</td>\n",
              "    </tr>\n",
              "    <tr>\n",
              "      <th>78</th>\n",
              "      <td>0</td>\n",
              "      <td>1</td>\n",
              "      <td>0</td>\n",
              "      <td>0</td>\n",
              "      <td>0</td>\n",
              "      <td>0</td>\n",
              "      <td>0</td>\n",
              "      <td>0</td>\n",
              "      <td>0</td>\n",
              "      <td>0</td>\n",
              "      <td>0</td>\n",
              "      <td>2043.0</td>\n",
              "      <td>810000</td>\n",
              "    </tr>\n",
              "    <tr>\n",
              "      <th>108</th>\n",
              "      <td>0</td>\n",
              "      <td>1</td>\n",
              "      <td>0</td>\n",
              "      <td>0</td>\n",
              "      <td>0</td>\n",
              "      <td>0</td>\n",
              "      <td>0</td>\n",
              "      <td>0</td>\n",
              "      <td>0</td>\n",
              "      <td>0</td>\n",
              "      <td>0</td>\n",
              "      <td>2680.0</td>\n",
              "      <td>125000</td>\n",
              "    </tr>\n",
              "    <tr>\n",
              "      <th>111</th>\n",
              "      <td>0</td>\n",
              "      <td>0</td>\n",
              "      <td>1</td>\n",
              "      <td>0</td>\n",
              "      <td>0</td>\n",
              "      <td>0</td>\n",
              "      <td>0</td>\n",
              "      <td>0</td>\n",
              "      <td>0</td>\n",
              "      <td>0</td>\n",
              "      <td>0</td>\n",
              "      <td>1872.0</td>\n",
              "      <td>620000</td>\n",
              "    </tr>\n",
              "  </tbody>\n",
              "</table>\n",
              "</div>"
            ],
            "text/plain": [
              "     building_class_at_time_of_sale_A9  ...  sale_price\n",
              "44                                   1  ...      550000\n",
              "61                                   0  ...      200000\n",
              "78                                   0  ...      810000\n",
              "108                                  0  ...      125000\n",
              "111                                  0  ...      620000\n",
              "\n",
              "[5 rows x 13 columns]"
            ]
          },
          "metadata": {
            "tags": []
          },
          "execution_count": 225
        }
      ]
    },
    {
      "cell_type": "code",
      "metadata": {
        "id": "W7SUWorDRgZ7",
        "colab_type": "code",
        "colab": {}
      },
      "source": [
        "from sklearn.linear_model import LinearRegression\n",
        "model = LinearRegression()\n",
        "target = 'sale_price'\n",
        "features = ['gross_square_feet', \n",
        "            'building_class_at_time_of_sale_A9',\n",
        "            'building_class_at_time_of_sale_A1', \n",
        "            'building_class_at_time_of_sale_A5',\n",
        "            'building_class_at_time_of_sale_A0',\n",
        "       'building_class_at_time_of_sale_A2',\n",
        "       'building_class_at_time_of_sale_A3',\n",
        "       'building_class_at_time_of_sale_S1',\n",
        "       'building_class_at_time_of_sale_A4',\n",
        "       'building_class_at_time_of_sale_A6',\n",
        "       'building_class_at_time_of_sale_A8',\n",
        "       'building_class_at_time_of_sale_S0',]\n",
        "X_train = EB_train[features]\n",
        "y_train = EB_train[target]\n",
        "X_test = EB_test[features]\n",
        "y_test = EB_test[target]\n",
        "\n",
        "model.fit(X_train, y_train)\n",
        "y_pred_test = model.predict(X_test)\n",
        "y_pred_train = model.predict(X_train)"
      ],
      "execution_count": 0,
      "outputs": []
    },
    {
      "cell_type": "code",
      "metadata": {
        "id": "jScCC3AGbvqw",
        "colab_type": "code",
        "colab": {
          "base_uri": "https://localhost:8080/",
          "height": 34
        },
        "outputId": "58ba0a48-0303-461a-c4e4-fc3174e90bea"
      },
      "source": [
        "r2_score(y_test,y_pred_test)"
      ],
      "execution_count": 236,
      "outputs": [
        {
          "output_type": "execute_result",
          "data": {
            "text/plain": [
              "0.23976185990624344"
            ]
          },
          "metadata": {
            "tags": []
          },
          "execution_count": 236
        }
      ]
    },
    {
      "cell_type": "code",
      "metadata": {
        "id": "9Be7gLI6cnW0",
        "colab_type": "code",
        "colab": {
          "base_uri": "https://localhost:8080/",
          "height": 34
        },
        "outputId": "4886fbe6-4249-458d-f617-323569f9d259"
      },
      "source": [
        "mean_absolute_error(y_test, y_pred_test)"
      ],
      "execution_count": 237,
      "outputs": [
        {
          "output_type": "execute_result",
          "data": {
            "text/plain": [
              "186932.4694877709"
            ]
          },
          "metadata": {
            "tags": []
          },
          "execution_count": 237
        }
      ]
    }
  ]
}