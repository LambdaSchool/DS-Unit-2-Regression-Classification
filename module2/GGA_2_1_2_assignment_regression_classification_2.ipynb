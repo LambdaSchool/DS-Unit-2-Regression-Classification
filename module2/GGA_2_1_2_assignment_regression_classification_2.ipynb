{
  "nbformat": 4,
  "nbformat_minor": 0,
  "metadata": {
    "colab": {
      "name": "GGA 2.1.2 assignment_regression_classification_2.ipynb",
      "provenance": [],
      "collapsed_sections": [],
      "include_colab_link": true
    },
    "kernelspec": {
      "display_name": "Python 3",
      "language": "python",
      "name": "python3"
    },
    "language_info": {
      "codemirror_mode": {
        "name": "ipython",
        "version": 3
      },
      "file_extension": ".py",
      "mimetype": "text/x-python",
      "name": "python",
      "nbconvert_exporter": "python",
      "pygments_lexer": "ipython3",
      "version": "3.7.3"
    }
  },
  "cells": [
    {
      "cell_type": "markdown",
      "metadata": {
        "id": "view-in-github",
        "colab_type": "text"
      },
      "source": [
        "<a href=\"https://colab.research.google.com/github/lineality/DS-Unit-2-Regression-Classification/blob/master/module2/GGA_2_1_2_assignment_regression_classification_2.ipynb\" target=\"_parent\"><img src=\"https://colab.research.google.com/assets/colab-badge.svg\" alt=\"Open In Colab\"/></a>"
      ]
    },
    {
      "cell_type": "markdown",
      "metadata": {
        "colab_type": "text",
        "id": "7IXUfiQ2UKj6"
      },
      "source": [
        "Lambda School Data Science, Unit 2: Predictive Modeling\n",
        "\n",
        "# Regression & Classification, Module 2\n",
        "\n",
        "## Assignment\n",
        "\n",
        "You'll continue to **predict how much it costs to rent an apartment in NYC,** using the dataset from renthop.com.\n",
        "\n",
        "- [ ] 1 Do train/test split. Use data from April & May 2016 to train. Use data from June 2016 to test.\n",
        "- [ ] 2 Engineer at least two new features. (See below for explanation & ideas.)\n",
        "- [ ] 3 Fit a linear regression model with at least two features.\n",
        "- [ ] 4 Get the model's coefficients and intercept.\n",
        "- [ ] 5 Get regression metrics RMSE, MAE, and $R^2$, for both the train and test data.\n",
        "- [ ] 6 What's the best test MAE you can get? Share your score and features used with your cohort on Slack!\n",
        "- [ ] 7 As always, commit your notebook to your fork of the GitHub repo.\n",
        "\n",
        "\n",
        "#### [Feature Engineering](https://en.wikipedia.org/wiki/Feature_engineering)\n",
        "\n",
        "> \"Some machine learning projects succeed and some fail. What makes the difference? Easily the most important factor is the features used.\" — Pedro Domingos, [\"A Few Useful Things to Know about Machine Learning\"](https://homes.cs.washington.edu/~pedrod/papers/cacm12.pdf)\n",
        "\n",
        "> \"Coming up with features is difficult, time-consuming, requires expert knowledge. 'Applied machine learning' is basically feature engineering.\" — Andrew Ng, [Machine Learning and AI via Brain simulations](https://forum.stanford.edu/events/2011/2011slides/plenary/2011plenaryNg.pdf) \n",
        "\n",
        "> Feature engineering is the process of using domain knowledge of the data to create features that make machine learning algorithms work. \n",
        "\n",
        "#### Feature Ideas\n",
        "- Does the apartment have a description?\n",
        "- How long is the description?\n",
        "- How many total perks does each apartment have?\n",
        "- Are cats _or_ dogs allowed?\n",
        "- Are cats _and_ dogs allowed?\n",
        "- Total number of rooms (beds + baths)\n",
        "- Ratio of beds to baths\n",
        "- What's the neighborhood, based on address or latitude & longitude?\n",
        "\n",
        "## Stretch Goals\n",
        "- [ ] If you want more math, skim [_An Introduction to Statistical Learning_](http://faculty.marshall.usc.edu/gareth-james/ISL/ISLR%20Seventh%20Printing.pdf),  Chapter 3.1, Simple Linear Regression, & Chapter 3.2, Multiple Linear Regression\n",
        "- [ ] If you want more introduction, watch [Brandon Foltz, Statistics 101: Simple Linear Regression](https://www.youtube.com/watch?v=ZkjP5RJLQF4)\n",
        "(20 minutes, over 1 million views)\n",
        "- [ ] Add your own stretch goal(s) !"
      ]
    },
    {
      "cell_type": "code",
      "metadata": {
        "id": "DzhBCmJcBPEC",
        "colab_type": "code",
        "colab": {}
      },
      "source": [
        "#Import Libraries\n",
        "%matplotlib inline\n",
        "import matplotlib.pyplot as plt\n",
        "from matplotlib import style\n",
        "import numpy as np\n",
        "import pandas as pd\n",
        "import requests\n",
        "import seaborn as sns\n",
        "import sklearn\n",
        "import scipy.stats as stats\n",
        "from scipy.stats import ttest_ind, ttest_ind_from_stats, ttest_rel, t, ttest_1samp\n",
        "from matplotlib import style"
      ],
      "execution_count": 0,
      "outputs": []
    },
    {
      "cell_type": "markdown",
      "metadata": {
        "id": "motBJhviz3k6",
        "colab_type": "text"
      },
      "source": [
        "## The next few cells are pre-loading code, compliments of the chef. Enjoy. We'll be back for your drink orders below."
      ]
    },
    {
      "cell_type": "code",
      "metadata": {
        "colab_type": "code",
        "id": "o9eSnDYhUGD7",
        "colab": {}
      },
      "source": [
        "import os, sys\n",
        "in_colab = 'google.colab' in sys.modules\n",
        "\n",
        "# If you're in Colab...\n",
        "if in_colab:\n",
        "    # Pull files from Github repo\n",
        "    os.chdir('/content')\n",
        "    !git init .\n",
        "    !git remote add origin https://github.com/LambdaSchool/DS-Unit-2-Regression-Classification.git\n",
        "    !git pull origin master\n",
        "    \n",
        "    # Install required python packages\n",
        "    !pip install -r requirements.txt\n",
        "    \n",
        "    # Change into directory for module\n",
        "    os.chdir('module2')"
      ],
      "execution_count": 0,
      "outputs": []
    },
    {
      "cell_type": "code",
      "metadata": {
        "colab_type": "code",
        "id": "ipBYS77PUwNR",
        "colab": {}
      },
      "source": [
        "# Ignore this Numpy warning when using Plotly Express:\n",
        "# FutureWarning: Method .ptp is deprecated and will be removed in a future version. Use numpy.ptp instead.\n",
        "import warnings\n",
        "warnings.filterwarnings(action='ignore', category=FutureWarning, module='numpy')"
      ],
      "execution_count": 0,
      "outputs": []
    },
    {
      "cell_type": "code",
      "metadata": {
        "colab_type": "code",
        "id": "cvrw-T3bZOuW",
        "colab": {}
      },
      "source": [
        "import numpy as np\n",
        "import pandas as pd\n",
        "\n",
        "# Read New York City apartment rental listing data\n",
        "df = pd.read_csv('../data/apartments/renthop-nyc.csv')\n",
        "assert df.shape == (49352, 34)\n",
        "\n",
        "# Remove the most extreme 1% prices,\n",
        "# the most extreme .1% latitudes, &\n",
        "# the most extreme .1% longitudes\n",
        "df = df[(df['price'] >= np.percentile(df['price'], 0.5)) & \n",
        "        (df['price'] <= np.percentile(df['price'], 99.5)) & \n",
        "        (df['latitude'] >= np.percentile(df['latitude'], 0.05)) & \n",
        "        (df['latitude'] < np.percentile(df['latitude'], 99.95)) &\n",
        "        (df['longitude'] >= np.percentile(df['longitude'], 0.05)) & \n",
        "        (df['longitude'] <= np.percentile(df['longitude'], 99.95))]"
      ],
      "execution_count": 0,
      "outputs": []
    },
    {
      "cell_type": "markdown",
      "metadata": {
        "id": "4ULrQbjrzysa",
        "colab_type": "text"
      },
      "source": [
        "# GGA Code Beings Here"
      ]
    },
    {
      "cell_type": "markdown",
      "metadata": {
        "id": "lIjsBIVg2JiS",
        "colab_type": "text"
      },
      "source": [
        "# The Plan...\n",
        "\n",
        "After selecting Y and making our new engineered x1 x2 features:\n",
        "\n",
        "For our train/test split, we will use the data from April & May 2016 to train and data from June 2016 to test.\n",
        "\n",
        "Then run various tests (above) and see how the model is performing.\n",
        "\n",
        "# Select Y = price"
      ]
    },
    {
      "cell_type": "markdown",
      "metadata": {
        "id": "rUxx-HrY0IkC",
        "colab_type": "text"
      },
      "source": [
        ""
      ]
    },
    {
      "cell_type": "code",
      "metadata": {
        "id": "ecq8mKYm0_fZ",
        "colab_type": "code",
        "colab": {}
      },
      "source": [
        "#there are NaN in 3 columns...note.\n",
        "df.isna().sum()"
      ],
      "execution_count": 0,
      "outputs": []
    },
    {
      "cell_type": "code",
      "metadata": {
        "id": "lPrLnuop8vdi",
        "colab_type": "code",
        "colab": {
          "base_uri": "https://localhost:8080/",
          "height": 34
        },
        "outputId": "1b629172-3d05-4ac1-c81b-2b501f47e96d"
      },
      "source": [
        "df.shape"
      ],
      "execution_count": 24,
      "outputs": [
        {
          "output_type": "execute_result",
          "data": {
            "text/plain": [
              "(48817, 34)"
            ]
          },
          "metadata": {
            "tags": []
          },
          "execution_count": 24
        }
      ]
    },
    {
      "cell_type": "code",
      "metadata": {
        "id": "scZV7KV209ar",
        "colab_type": "code",
        "colab": {
          "base_uri": "https://localhost:8080/",
          "height": 244
        },
        "outputId": "a49f8254-2080-4c55-8003-088f2a856ed8"
      },
      "source": [
        "df.head(2)"
      ],
      "execution_count": 25,
      "outputs": [
        {
          "output_type": "execute_result",
          "data": {
            "text/html": [
              "<div>\n",
              "<style scoped>\n",
              "    .dataframe tbody tr th:only-of-type {\n",
              "        vertical-align: middle;\n",
              "    }\n",
              "\n",
              "    .dataframe tbody tr th {\n",
              "        vertical-align: top;\n",
              "    }\n",
              "\n",
              "    .dataframe thead th {\n",
              "        text-align: right;\n",
              "    }\n",
              "</style>\n",
              "<table border=\"1\" class=\"dataframe\">\n",
              "  <thead>\n",
              "    <tr style=\"text-align: right;\">\n",
              "      <th></th>\n",
              "      <th>bathrooms</th>\n",
              "      <th>bedrooms</th>\n",
              "      <th>created</th>\n",
              "      <th>description</th>\n",
              "      <th>display_address</th>\n",
              "      <th>latitude</th>\n",
              "      <th>longitude</th>\n",
              "      <th>price</th>\n",
              "      <th>street_address</th>\n",
              "      <th>interest_level</th>\n",
              "      <th>elevator</th>\n",
              "      <th>cats_allowed</th>\n",
              "      <th>hardwood_floors</th>\n",
              "      <th>dogs_allowed</th>\n",
              "      <th>doorman</th>\n",
              "      <th>dishwasher</th>\n",
              "      <th>no_fee</th>\n",
              "      <th>laundry_in_building</th>\n",
              "      <th>fitness_center</th>\n",
              "      <th>pre-war</th>\n",
              "      <th>laundry_in_unit</th>\n",
              "      <th>roof_deck</th>\n",
              "      <th>outdoor_space</th>\n",
              "      <th>dining_room</th>\n",
              "      <th>high_speed_internet</th>\n",
              "      <th>balcony</th>\n",
              "      <th>swimming_pool</th>\n",
              "      <th>new_construction</th>\n",
              "      <th>terrace</th>\n",
              "      <th>exclusive</th>\n",
              "      <th>loft</th>\n",
              "      <th>garden_patio</th>\n",
              "      <th>wheelchair_access</th>\n",
              "      <th>common_outdoor_space</th>\n",
              "    </tr>\n",
              "  </thead>\n",
              "  <tbody>\n",
              "    <tr>\n",
              "      <th>0</th>\n",
              "      <td>1.5</td>\n",
              "      <td>3</td>\n",
              "      <td>2016-06-24 07:54:24</td>\n",
              "      <td>A Brand New 3 Bedroom 1.5 bath ApartmentEnjoy ...</td>\n",
              "      <td>Metropolitan Avenue</td>\n",
              "      <td>40.7145</td>\n",
              "      <td>-73.9425</td>\n",
              "      <td>3000</td>\n",
              "      <td>792 Metropolitan Avenue</td>\n",
              "      <td>medium</td>\n",
              "      <td>0</td>\n",
              "      <td>0</td>\n",
              "      <td>0</td>\n",
              "      <td>0</td>\n",
              "      <td>0</td>\n",
              "      <td>0</td>\n",
              "      <td>0</td>\n",
              "      <td>0</td>\n",
              "      <td>0</td>\n",
              "      <td>0</td>\n",
              "      <td>0</td>\n",
              "      <td>0</td>\n",
              "      <td>0</td>\n",
              "      <td>0</td>\n",
              "      <td>0</td>\n",
              "      <td>0</td>\n",
              "      <td>0</td>\n",
              "      <td>0</td>\n",
              "      <td>0</td>\n",
              "      <td>0</td>\n",
              "      <td>0</td>\n",
              "      <td>0</td>\n",
              "      <td>0</td>\n",
              "      <td>0</td>\n",
              "    </tr>\n",
              "    <tr>\n",
              "      <th>1</th>\n",
              "      <td>1.0</td>\n",
              "      <td>2</td>\n",
              "      <td>2016-06-12 12:19:27</td>\n",
              "      <td></td>\n",
              "      <td>Columbus Avenue</td>\n",
              "      <td>40.7947</td>\n",
              "      <td>-73.9667</td>\n",
              "      <td>5465</td>\n",
              "      <td>808 Columbus Avenue</td>\n",
              "      <td>low</td>\n",
              "      <td>1</td>\n",
              "      <td>1</td>\n",
              "      <td>0</td>\n",
              "      <td>1</td>\n",
              "      <td>1</td>\n",
              "      <td>0</td>\n",
              "      <td>0</td>\n",
              "      <td>0</td>\n",
              "      <td>1</td>\n",
              "      <td>0</td>\n",
              "      <td>0</td>\n",
              "      <td>0</td>\n",
              "      <td>0</td>\n",
              "      <td>0</td>\n",
              "      <td>0</td>\n",
              "      <td>0</td>\n",
              "      <td>0</td>\n",
              "      <td>0</td>\n",
              "      <td>0</td>\n",
              "      <td>0</td>\n",
              "      <td>0</td>\n",
              "      <td>0</td>\n",
              "      <td>0</td>\n",
              "      <td>0</td>\n",
              "    </tr>\n",
              "  </tbody>\n",
              "</table>\n",
              "</div>"
            ],
            "text/plain": [
              "   bathrooms  bedrooms  ... wheelchair_access common_outdoor_space\n",
              "0        1.5         3  ...                 0                    0\n",
              "1        1.0         2  ...                 0                    0\n",
              "\n",
              "[2 rows x 34 columns]"
            ]
          },
          "metadata": {
            "tags": []
          },
          "execution_count": 25
        }
      ]
    },
    {
      "cell_type": "markdown",
      "metadata": {
        "id": "4E40AzrHJty0",
        "colab_type": "text"
      },
      "source": [
        "## Feature engineering:\n",
        "\n",
        "Here we will be making two new features by combining or comparing existing features. But wait there's...actually there isn't any more than that here.\n"
      ]
    },
    {
      "cell_type": "code",
      "metadata": {
        "id": "AZhFpyIIKPaj",
        "colab_type": "code",
        "colab": {}
      },
      "source": [
        "df[\"new_rooms\"] =  df[\"bathrooms\"] + df[\"bedrooms\"]"
      ],
      "execution_count": 0,
      "outputs": []
    },
    {
      "cell_type": "code",
      "metadata": {
        "id": "h6ZdIMkeMzJL",
        "colab_type": "code",
        "colab": {}
      },
      "source": [
        "df[\"luxuries\"] =  df[\"hardwood_floors\"] + df[\"doorman\"] + df[\"fitness_center\"] + df[\"swimming_pool\"]"
      ],
      "execution_count": 0,
      "outputs": []
    },
    {
      "cell_type": "markdown",
      "metadata": {
        "id": "fEAMA7pVJt9Z",
        "colab_type": "text"
      },
      "source": [
        "## Time Based Split:"
      ]
    },
    {
      "cell_type": "markdown",
      "metadata": {
        "id": "01ok-yBgH8h6",
        "colab_type": "text"
      },
      "source": [
        "### note, I got stuck for a long time because I wasn't putting the date in quotes...I need to ask about how to take a break e.g. when brownbag goes straight through lunch. Cannot think straight after 11 hours of no breaks."
      ]
    },
    {
      "cell_type": "code",
      "metadata": {
        "id": "e_HFwV4NG_gL",
        "colab_type": "code",
        "colab": {}
      },
      "source": [
        "df[\"created\"] = pd.to_datetime(df[\"created\"], infer_datetime_format=True)"
      ],
      "execution_count": 0,
      "outputs": []
    },
    {
      "cell_type": "code",
      "metadata": {
        "id": "WIFO3dODHOV0",
        "colab_type": "code",
        "colab": {}
      },
      "source": [
        "train = df[df['created'] < '2016-06-01 00:00:00']\n",
        "test = df[df['created'] >= '2016-06-01 00:00:00']"
      ],
      "execution_count": 0,
      "outputs": []
    },
    {
      "cell_type": "markdown",
      "metadata": {
        "id": "YL_9JytkNfT5",
        "colab_type": "text"
      },
      "source": [
        "Let's examine our new test and train sets...it appears to be roughly a 1:3 split"
      ]
    },
    {
      "cell_type": "code",
      "metadata": {
        "id": "rg_N-ECrNebz",
        "colab_type": "code",
        "colab": {
          "base_uri": "https://localhost:8080/",
          "height": 34
        },
        "outputId": "31cae4d1-a873-4d4f-98e0-20135ae17ff9"
      },
      "source": [
        "len(train), len(test)"
      ],
      "execution_count": 30,
      "outputs": [
        {
          "output_type": "execute_result",
          "data": {
            "text/plain": [
              "(31844, 16973)"
            ]
          },
          "metadata": {
            "tags": []
          },
          "execution_count": 30
        }
      ]
    },
    {
      "cell_type": "markdown",
      "metadata": {
        "id": "UJxEm66-N-sT",
        "colab_type": "text"
      },
      "source": [
        "#Baseline\n",
        "\n",
        "Let us look at the baseline of our test and train sets - Y vs. mean of Y\n",
        "\n",
        "They are rather similar in temperment. "
      ]
    },
    {
      "cell_type": "code",
      "metadata": {
        "id": "fByNDS0hOJCw",
        "colab_type": "code",
        "colab": {
          "base_uri": "https://localhost:8080/",
          "height": 34
        },
        "outputId": "e9d97a66-3856-430f-b5fd-40accddd325f"
      },
      "source": [
        "train_mean = train['price'].mean()\n",
        "train_mean"
      ],
      "execution_count": 69,
      "outputs": [
        {
          "output_type": "execute_result",
          "data": {
            "text/plain": [
              "3575.604007034292"
            ]
          },
          "metadata": {
            "tags": []
          },
          "execution_count": 69
        }
      ]
    },
    {
      "cell_type": "code",
      "metadata": {
        "id": "Z2FAzJpROOYI",
        "colab_type": "code",
        "colab": {
          "base_uri": "https://localhost:8080/",
          "height": 34
        },
        "outputId": "d293ea96-6d2e-48bb-e1de-be697a206f71"
      },
      "source": [
        "test_mean = test['price'].mean()\n",
        "test_mean"
      ],
      "execution_count": 70,
      "outputs": [
        {
          "output_type": "execute_result",
          "data": {
            "text/plain": [
              "3587.0546750721733"
            ]
          },
          "metadata": {
            "tags": []
          },
          "execution_count": 70
        }
      ]
    },
    {
      "cell_type": "markdown",
      "metadata": {
        "id": "dkWd2iyiOvEM",
        "colab_type": "text"
      },
      "source": [
        "#Mean Absolute Error\n",
        "## What is the MAE of our baseline assumption?"
      ]
    },
    {
      "cell_type": "code",
      "metadata": {
        "id": "lCRq3mEbORRS",
        "colab_type": "code",
        "colab": {
          "base_uri": "https://localhost:8080/",
          "height": 67
        },
        "outputId": "c4ee4dc5-5943-4fda-a2e9-4cc7b9e9e9f6"
      },
      "source": [
        "from sklearn.metrics import mean_absolute_error\n",
        "\n",
        "# Arrange y target vectors\n",
        "target = 'price'\n",
        "y_train = train[target]\n",
        "y_test = test[target]\n",
        "\n",
        "# Get mean baseline\n",
        "print('Mean Baseline (using 0 features)')\n",
        "guess = y_train.mean()\n",
        "\n",
        "# Train Error\n",
        "y_pred = [guess] * len(y_train)\n",
        "mae = mean_absolute_error(y_train, y_pred)\n",
        "#MSE = \n",
        "print(f'Train Error (April & May 2016): {mae:.2f} USD $')\n",
        "\n",
        "# Test Error\n",
        "y_pred = [guess] * len(y_test)\n",
        "mae = mean_absolute_error(y_test, y_pred)\n",
        "#MSE = \n",
        "\n",
        "print(f'Test Error (from June 2016): {mae:.2f} USD $')"
      ],
      "execution_count": 68,
      "outputs": [
        {
          "output_type": "stream",
          "text": [
            "Mean Baseline (using 0 features)\n",
            "Train Error (April & May 2016): 1201.88 USD $\n",
            "Test Error (from June 2016): 1197.71 USD $\n"
          ],
          "name": "stdout"
        }
      ]
    },
    {
      "cell_type": "markdown",
      "metadata": {
        "id": "Q41w-w8IPjON",
        "colab_type": "text"
      },
      "source": [
        ""
      ]
    },
    {
      "cell_type": "code",
      "metadata": {
        "id": "YTlnNaH0uhHS",
        "colab_type": "code",
        "colab": {}
      },
      "source": [
        "from sklearn.metrics import mean_squared_error \n",
        "\n",
        "mean_squared_error(y_test,guess) "
      ],
      "execution_count": 0,
      "outputs": []
    },
    {
      "cell_type": "markdown",
      "metadata": {
        "id": "jli2ucZ5SMhq",
        "colab_type": "text"
      },
      "source": [
        ""
      ]
    },
    {
      "cell_type": "markdown",
      "metadata": {
        "id": "8hkJVHmkSYnA",
        "colab_type": "text"
      },
      "source": [
        "## Visual exploration using a 3D graph...\n",
        "\n",
        "Note...this causes colab problems so not runing it for now"
      ]
    },
    {
      "cell_type": "code",
      "metadata": {
        "id": "2SMq3oegYF9S",
        "colab_type": "code",
        "colab": {
          "base_uri": "https://localhost:8080/",
          "height": 54
        },
        "outputId": "a7619a95-0ae9-4e4b-fe9c-246c79d3f5c9"
      },
      "source": [
        "\"\"\"\n",
        "#this one actually runs even though the text-til\n",
        "import pandas as pd\n",
        "import plotly.express as px\n",
        "\n",
        "px.scatter_3d(\n",
        "    train,\n",
        "    x='new_rooms', \n",
        "    y='luxuries', \n",
        "    z='price', \n",
        "    text='price', \n",
        "    title='price'\n",
        ")\n",
        "\"\"\""
      ],
      "execution_count": 16,
      "outputs": [
        {
          "output_type": "execute_result",
          "data": {
            "text/plain": [
              "\"\\n#this one actually runs even though the text-til\\nimport pandas as pd\\nimport plotly.express as px\\n\\npx.scatter_3d(\\n    train,\\n    x='new_rooms', \\n    y='luxuries', \\n    z='price', \\n    text='price', \\n    title='price'\\n)\\n\""
            ]
          },
          "metadata": {
            "tags": []
          },
          "execution_count": 16
        }
      ]
    },
    {
      "cell_type": "code",
      "metadata": {
        "id": "OGSsepmsST9I",
        "colab_type": "code",
        "colab": {
          "base_uri": "https://localhost:8080/",
          "height": 54
        },
        "outputId": "4229805e-4c87-42d4-829a-2ab9f7632aba"
      },
      "source": [
        "\"\"\"\n",
        "import pandas as pd\n",
        "import plotly.express as px\n",
        "\n",
        "px.scatter_3d(\n",
        "    train,\n",
        "    x='new_rooms', \n",
        "    y='luxuries', \n",
        "    z='price', \n",
        "    text='created', \n",
        "    title='display_address'\n",
        ")\n",
        "\"\"\""
      ],
      "execution_count": 17,
      "outputs": [
        {
          "output_type": "execute_result",
          "data": {
            "text/plain": [
              "\"\\nimport pandas as pd\\nimport plotly.express as px\\n\\npx.scatter_3d(\\n    train,\\n    x='new_rooms', \\n    y='luxuries', \\n    z='price', \\n    text='created', \\n    title='display_address'\\n)\\n\""
            ]
          },
          "metadata": {
            "tags": []
          },
          "execution_count": 17
        }
      ]
    },
    {
      "cell_type": "code",
      "metadata": {
        "id": "89rh2rpQXbv5",
        "colab_type": "code",
        "colab": {}
      },
      "source": [
        ""
      ],
      "execution_count": 0,
      "outputs": []
    },
    {
      "cell_type": "markdown",
      "metadata": {
        "id": "OME6lWs9Xk6h",
        "colab_type": "text"
      },
      "source": [
        "# 2 Feature Multiple Linear Regression\n",
        "##And MAE"
      ]
    },
    {
      "cell_type": "code",
      "metadata": {
        "id": "j8zbiciNSVFQ",
        "colab_type": "code",
        "colab": {}
      },
      "source": [
        ""
      ],
      "execution_count": 0,
      "outputs": []
    },
    {
      "cell_type": "markdown",
      "metadata": {
        "colab_type": "text",
        "id": "MNoTuf9v7l6A"
      },
      "source": [
        "Using scikit-learn to fit a multiple regression with two new engineered shiny off the press fresh features."
      ]
    },
    {
      "cell_type": "code",
      "metadata": {
        "colab_type": "code",
        "id": "_Mijdiua5ag8",
        "colab": {
          "base_uri": "https://localhost:8080/",
          "height": 67
        },
        "outputId": "7020f82f-ab99-49f5-abc4-f9f8fadc4ba7"
      },
      "source": [
        "from sklearn.linear_model import LinearRegression\n",
        "\n",
        "# TODO: Complete this cell\n",
        "\n",
        "# Re-arrange X features matrices\n",
        "features = ['new_rooms', \n",
        "            'luxuries']\n",
        "print(f'Linear Regression, dependent on: {features}')\n",
        "X_train = train[features]\n",
        "X_test = test[features]\n",
        "\n",
        "# Fitting the model\n",
        "model = LinearRegression()\n",
        "model.fit(X_train, y_train)\n",
        "y_train_pred = model.predict(X_train)\n",
        "train_mae = mean_absolute_error(y_train, y_train_pred)\n",
        "print('The Training-Set Mean Average Error is:', train_mae)\n",
        "\n",
        "# Apply the model to new data\n",
        "test_mae = mean_absolute_error(y_test, model.predict(X_test))\n",
        "print('The Test-Set Mean Average Error is:', test_mae)\n"
      ],
      "execution_count": 76,
      "outputs": [
        {
          "output_type": "stream",
          "text": [
            "Linear Regression, dependent on: ['new_rooms', 'luxuries']\n",
            "The Training-Set Mean Average Error is: 849.2777927783169\n",
            "The Test-Set Mean Average Error is: 863.2246406118427\n"
          ],
          "name": "stdout"
        }
      ]
    },
    {
      "cell_type": "code",
      "metadata": {
        "id": "x3sK43dKizDv",
        "colab_type": "code",
        "colab": {}
      },
      "source": [
        ""
      ],
      "execution_count": 0,
      "outputs": []
    },
    {
      "cell_type": "markdown",
      "metadata": {
        "colab_type": "text",
        "id": "FxAeSPhWs70N"
      },
      "source": [
        "## Beta, Coeficients, Intercept "
      ]
    },
    {
      "cell_type": "code",
      "metadata": {
        "colab_type": "code",
        "outputId": "5117ec63-5301-4bc6-9753-f3140b35b988",
        "id": "qU4GbrPns70Q",
        "colab": {
          "base_uri": "https://localhost:8080/",
          "height": 34
        }
      },
      "source": [
        "model.intercept_, model.coef_"
      ],
      "execution_count": 54,
      "outputs": [
        {
          "output_type": "execute_result",
          "data": {
            "text/plain": [
              "(1019.6977061533298, array([785.43623215, 331.96723609]))"
            ]
          },
          "metadata": {
            "tags": []
          },
          "execution_count": 54
        }
      ]
    },
    {
      "cell_type": "code",
      "metadata": {
        "colab_type": "code",
        "outputId": "f77fc130-ce8c-4c1b-e70d-90dbd99ec7ea",
        "id": "Fvp0T6rvs70T",
        "colab": {
          "base_uri": "https://localhost:8080/",
          "height": 34
        }
      },
      "source": [
        "beta0 = model.intercept_\n",
        "beta1, beta2 = model.coef_\n",
        "print(f'y = {beta0} + {beta1}x1 + {beta2}x2')"
      ],
      "execution_count": 55,
      "outputs": [
        {
          "output_type": "stream",
          "text": [
            "y = 1019.6977061533298 + 785.4362321539645x1 + 331.9672360861988x2\n"
          ],
          "name": "stdout"
        }
      ]
    },
    {
      "cell_type": "code",
      "metadata": {
        "colab_type": "code",
        "outputId": "06d511bb-2674-45ab-c76e-d964e924a147",
        "id": "Xv2dLUVUs70V",
        "colab": {
          "base_uri": "https://localhost:8080/",
          "height": 67
        }
      },
      "source": [
        "# This is easier to read\n",
        "print('Intercepts:', model.intercept_)\n",
        "coefficients = pd.Series(model.coef_, features)\n",
        "print(coefficients.to_string())"
      ],
      "execution_count": 72,
      "outputs": [
        {
          "output_type": "stream",
          "text": [
            "Intercepts: 1019.6977061533298\n",
            "new_rooms    785.436232\n",
            "luxuries     331.967236\n"
          ],
          "name": "stdout"
        }
      ]
    },
    {
      "cell_type": "code",
      "metadata": {
        "id": "jfbdBwoHyzfk",
        "colab_type": "code",
        "colab": {}
      },
      "source": [
        ""
      ],
      "execution_count": 0,
      "outputs": []
    },
    {
      "cell_type": "markdown",
      "metadata": {
        "id": "frhf1gtCyuQY",
        "colab_type": "text"
      },
      "source": [
        ""
      ]
    },
    {
      "cell_type": "markdown",
      "metadata": {
        "id": "BKBQ2blhlgCQ",
        "colab_type": "text"
      },
      "source": [
        "mean_squared_error(Y_true,Y_pred) \n",
        "\n",
        "\n",
        "for both the train and test data.\n",
        "RMSE\n",
        "MAE\n",
        "R2 \n",
        "\n"
      ]
    },
    {
      "cell_type": "code",
      "metadata": {
        "id": "SVhJdjo0tWno",
        "colab_type": "code",
        "colab": {}
      },
      "source": [
        ""
      ],
      "execution_count": 0,
      "outputs": []
    },
    {
      "cell_type": "code",
      "metadata": {
        "id": "6s8Iyf4Ilg_X",
        "colab_type": "code",
        "colab": {}
      },
      "source": [
        "#mean_squared_error(df['price'],y_pred) "
      ],
      "execution_count": 0,
      "outputs": []
    },
    {
      "cell_type": "code",
      "metadata": {
        "id": "lq5H8oEFi0BV",
        "colab_type": "code",
        "colab": {}
      },
      "source": [
        "from matplotlib.patches import Rectangle\n",
        "import matplotlib.pyplot as plt\n",
        "import numpy as np\n",
        "from sklearn.metrics import mean_absolute_error, mean_squared_error, r2_score"
      ],
      "execution_count": 0,
      "outputs": []
    },
    {
      "cell_type": "code",
      "metadata": {
        "id": "W1FPkSSNi0S9",
        "colab_type": "code",
        "colab": {}
      },
      "source": [
        "# Plot data\n",
        "    fig = plt.figure(figsize=(7,7))\n",
        "    ax = plt.axes()\n",
        "    df.plot.scatter(feature, target, ax=ax)\n",
        "    \n",
        "    # Make predictions\n",
        "    x = df[feature]\n",
        "    y = df[target]\n",
        "    y_pred = m*x + b\n",
        "    \n",
        "        # Plot predictions\n",
        "    ax.plot(x, y_pred)\n",
        "    \n",
        "    '''\n",
        "    # Plot squared errors\n",
        "    xmin, xmax = ax.get_xlim()\n",
        "    ymin, ymax = ax.get_ylim()\n",
        "    scale = (xmax-xmin)/(ymax-ymin)\n",
        "    for x, y1, y2 in zip(x, y, y_pred):\n",
        "        bottom_left = (x, min(y1, y2))\n",
        "        height = abs(y1 - y2)\n",
        "        width = height * scale\n",
        "        ax.add_patch(Rectangle(xy=bottom_left, width=width, height=height, alpha=0.1))\n",
        "    '''\n",
        "\n"
      ],
      "execution_count": 0,
      "outputs": []
    },
    {
      "cell_type": "code",
      "metadata": {
        "id": "iT5iOjx0zxXq",
        "colab_type": "code",
        "colab": {}
      },
      "source": [
        "    # Make predictions\n",
        "    x = df[feature]\n",
        "    y = df[target]\n",
        "    y_pred = m*x + b"
      ],
      "execution_count": 0,
      "outputs": []
    },
    {
      "cell_type": "code",
      "metadata": {
        "id": "_YivE_AwmdO4",
        "colab_type": "code",
        "colab": {}
      },
      "source": [
        "\n",
        "   \n",
        "    # Print regression metrics\n",
        "    mse = mean_squared_error(y, y_pred)\n",
        "    rmse = np.sqrt(mse)\n",
        "    mae = mean_absolute_error(y, y_pred)\n",
        "    r2 = r2_score(y, y_pred)\n",
        "    print('Mean Squared Error:', mse)\n",
        "    print('Root Mean Squared Error:', rmse)\n",
        "    print('Mean Absolute Error:', mae)\n",
        "    print('R^2:', r2)"
      ],
      "execution_count": 0,
      "outputs": []
    },
    {
      "cell_type": "markdown",
      "metadata": {
        "id": "1MTgnJCcr_b_",
        "colab_type": "text"
      },
      "source": [
        ""
      ]
    },
    {
      "cell_type": "markdown",
      "metadata": {
        "id": "b9cFFHoi156E",
        "colab_type": "text"
      },
      "source": [
        "#RMSE"
      ]
    },
    {
      "cell_type": "code",
      "metadata": {
        "id": "_DF-j0Wcr_z5",
        "colab_type": "code",
        "colab": {
          "base_uri": "https://localhost:8080/",
          "height": 34
        },
        "outputId": "69480942-5f55-468f-b19d-145b306f39ac"
      },
      "source": [
        "train_rmse = np.sqrt(mean_squared_error(y_train, model.predict(X_train)))\n",
        "train_rmse"
      ],
      "execution_count": 78,
      "outputs": [
        {
          "output_type": "execute_result",
          "data": {
            "text/plain": [
              "1284.9188631947177"
            ]
          },
          "metadata": {
            "tags": []
          },
          "execution_count": 78
        }
      ]
    },
    {
      "cell_type": "code",
      "metadata": {
        "id": "jZCGQOAN0uS7",
        "colab_type": "code",
        "colab": {
          "base_uri": "https://localhost:8080/",
          "height": 34
        },
        "outputId": "75ef091c-3fa1-4e83-9bf1-b49905d21d89"
      },
      "source": [
        "test_rmse = np.sqrt(mean_squared_error(y_test, model.predict(X_test)))\n",
        "test_rmse"
      ],
      "execution_count": 81,
      "outputs": [
        {
          "output_type": "execute_result",
          "data": {
            "text/plain": [
              "1283.1787005784092"
            ]
          },
          "metadata": {
            "tags": []
          },
          "execution_count": 81
        }
      ]
    },
    {
      "cell_type": "markdown",
      "metadata": {
        "id": "Oxwl1gLg2AST",
        "colab_type": "text"
      },
      "source": [
        "#MSE"
      ]
    },
    {
      "cell_type": "code",
      "metadata": {
        "id": "eFzucxYk1Bd7",
        "colab_type": "code",
        "colab": {
          "base_uri": "https://localhost:8080/",
          "height": 34
        },
        "outputId": "69897e31-0879-4b72-f35b-ea42272db093"
      },
      "source": [
        "test_MSE = mean_squared_error(y_test, model.predict(X_test))\n",
        "test_MSE"
      ],
      "execution_count": 82,
      "outputs": [
        {
          "output_type": "execute_result",
          "data": {
            "text/plain": [
              "1646547.5776180949"
            ]
          },
          "metadata": {
            "tags": []
          },
          "execution_count": 82
        }
      ]
    },
    {
      "cell_type": "code",
      "metadata": {
        "id": "ixQuMBDW1CDp",
        "colab_type": "code",
        "colab": {
          "base_uri": "https://localhost:8080/",
          "height": 34
        },
        "outputId": "34cc6a33-43af-4702-e79b-ff460d29b812"
      },
      "source": [
        "train_MSE = mean_squared_error(y_train, model.predict(X_train))\n",
        "train_MSE"
      ],
      "execution_count": 84,
      "outputs": [
        {
          "output_type": "execute_result",
          "data": {
            "text/plain": [
              "1651016.4849936059"
            ]
          },
          "metadata": {
            "tags": []
          },
          "execution_count": 84
        }
      ]
    },
    {
      "cell_type": "code",
      "metadata": {
        "id": "wTAFAyPp1KDx",
        "colab_type": "code",
        "colab": {}
      },
      "source": [
        ""
      ],
      "execution_count": 0,
      "outputs": []
    },
    {
      "cell_type": "markdown",
      "metadata": {
        "id": "AllWINYU2uy0",
        "colab_type": "text"
      },
      "source": [
        "R**2"
      ]
    },
    {
      "cell_type": "code",
      "metadata": {
        "id": "D7JwN29c2vCi",
        "colab_type": "code",
        "colab": {
          "base_uri": "https://localhost:8080/",
          "height": 34
        },
        "outputId": "21a86a71-2253-4ae3-b929-a59d29ad8124"
      },
      "source": [
        "from sklearn.metrics import r2_score\n",
        "\n",
        "r2_test = r2_score(y_test,y_pred)\n",
        "r2_test\n"
      ],
      "execution_count": 93,
      "outputs": [
        {
          "output_type": "execute_result",
          "data": {
            "text/plain": [
              "-4.218690517676649e-05"
            ]
          },
          "metadata": {
            "tags": []
          },
          "execution_count": 93
        }
      ]
    },
    {
      "cell_type": "code",
      "metadata": {
        "id": "VrvTTc-P3WPs",
        "colab_type": "code",
        "colab": {
          "base_uri": "https://localhost:8080/",
          "height": 34
        },
        "outputId": "b6f79f04-afdb-4d49-c76a-f78245e9453f"
      },
      "source": [
        "from sklearn.metrics import r2_score\n",
        "\n",
        "r2_train = r2_score(y_train,model.predict(X_train))\n",
        "r2_train"
      ],
      "execution_count": 91,
      "outputs": [
        {
          "output_type": "execute_result",
          "data": {
            "text/plain": [
              "0.46827649569159724"
            ]
          },
          "metadata": {
            "tags": []
          },
          "execution_count": 91
        }
      ]
    },
    {
      "cell_type": "code",
      "metadata": {
        "id": "s9mU78a14oHi",
        "colab_type": "code",
        "colab": {}
      },
      "source": [
        ""
      ],
      "execution_count": 0,
      "outputs": []
    },
    {
      "cell_type": "markdown",
      "metadata": {
        "id": "jw6QZ3ghiyRF",
        "colab_type": "text"
      },
      "source": [
        ""
      ]
    }
  ]
}