{
  "nbformat": 4,
  "nbformat_minor": 0,
  "metadata": {
    "colab": {
      "name": "module 2 assignment.ipynb",
      "provenance": [],
      "collapsed_sections": [],
      "include_colab_link": true
    },
    "kernelspec": {
      "display_name": "Python 3",
      "language": "python",
      "name": "python3"
    },
    "language_info": {
      "codemirror_mode": {
        "name": "ipython",
        "version": 3
      },
      "file_extension": ".py",
      "mimetype": "text/x-python",
      "name": "python",
      "nbconvert_exporter": "python",
      "pygments_lexer": "ipython3",
      "version": "3.7.3"
    }
  },
  "cells": [
    {
      "cell_type": "markdown",
      "metadata": {
        "id": "view-in-github",
        "colab_type": "text"
      },
      "source": [
        "<a href=\"https://colab.research.google.com/github/mefrem/DS-Unit-2-Regression-Classification/blob/master/module_2_assignment.ipynb\" target=\"_parent\"><img src=\"https://colab.research.google.com/assets/colab-badge.svg\" alt=\"Open In Colab\"/></a>"
      ]
    },
    {
      "cell_type": "markdown",
      "metadata": {
        "colab_type": "text",
        "id": "7IXUfiQ2UKj6"
      },
      "source": [
        "Lambda School Data Science, Unit 2: Predictive Modeling\n",
        "\n",
        "# Regression & Classification, Module 2\n",
        "\n",
        "## Assignment\n",
        "\n",
        "You'll continue to **predict how much it costs to rent an apartment in NYC,** using the dataset from renthop.com.\n",
        "\n",
        "- [ ] Do train/test split. Use data from April & May 2016 to train. Use data from June 2016 to test.\n",
        "- [ ] Engineer at least two new features. (See below for explanation & ideas.)\n",
        "- [ ] Fit a linear regression model with at least two features.\n",
        "- [ ] Get the model's coefficients and intercept.\n",
        "- [ ] Get regression metrics RMSE, MAE, and $R^2$, for both the train and test data.\n",
        "- [ ] What's the best test MAE you can get? Share your score and features used with your cohort on Slack!\n",
        "- [ ] As always, commit your notebook to your fork of the GitHub repo.\n",
        "\n",
        "\n",
        "#### [Feature Engineering](https://en.wikipedia.org/wiki/Feature_engineering)\n",
        "\n",
        "> \"Some machine learning projects succeed and some fail. What makes the difference? Easily the most important factor is the features used.\" — Pedro Domingos, [\"A Few Useful Things to Know about Machine Learning\"](https://homes.cs.washington.edu/~pedrod/papers/cacm12.pdf)\n",
        "\n",
        "> \"Coming up with features is difficult, time-consuming, requires expert knowledge. 'Applied machine learning' is basically feature engineering.\" — Andrew Ng, [Machine Learning and AI via Brain simulations](https://forum.stanford.edu/events/2011/2011slides/plenary/2011plenaryNg.pdf) \n",
        "\n",
        "> Feature engineering is the process of using domain knowledge of the data to create features that make machine learning algorithms work. \n",
        "\n",
        "#### Feature Ideas\n",
        "- Does the apartment have a description?\n",
        "- How long is the description?\n",
        "- How many total perks does each apartment have?\n",
        "- Are cats _or_ dogs allowed?\n",
        "- Are cats _and_ dogs allowed?\n",
        "- Total number of rooms (beds + baths)\n",
        "- Ratio of beds to baths\n",
        "- What's the neighborhood, based on address or latitude & longitude?\n",
        "\n",
        "## Stretch Goals\n",
        "- [ ] If you want more math, skim [_An Introduction to Statistical Learning_](http://faculty.marshall.usc.edu/gareth-james/ISL/ISLR%20Seventh%20Printing.pdf),  Chapter 3.1, Simple Linear Regression, & Chapter 3.2, Multiple Linear Regression\n",
        "- [ ] If you want more introduction, watch [Brandon Foltz, Statistics 101: Simple Linear Regression](https://www.youtube.com/watch?v=ZkjP5RJLQF4)\n",
        "(20 minutes, over 1 million views)\n",
        "- [ ] Add your own stretch goal(s) !"
      ]
    },
    {
      "cell_type": "code",
      "metadata": {
        "colab_type": "code",
        "id": "o9eSnDYhUGD7",
        "colab": {}
      },
      "source": [
        "import os, sys\n",
        "in_colab = 'google.colab' in sys.modules\n",
        "\n",
        "# If you're in Colab...\n",
        "if in_colab:\n",
        "    # Pull files from Github repo\n",
        "    os.chdir('/content')\n",
        "    !git init .\n",
        "    !git remote add origin https://github.com/LambdaSchool/DS-Unit-2-Regression-Classification.git\n",
        "    !git pull origin master\n",
        "    \n",
        "    # Install required python packages\n",
        "    !pip install -r requirements.txt\n",
        "    \n",
        "    # Change into directory for module\n",
        "    os.chdir('module2')"
      ],
      "execution_count": 0,
      "outputs": []
    },
    {
      "cell_type": "code",
      "metadata": {
        "colab_type": "code",
        "id": "ipBYS77PUwNR",
        "colab": {}
      },
      "source": [
        "# Ignore this Numpy warning when using Plotly Express:\n",
        "# FutureWarning: Method .ptp is deprecated and will be removed in a future version. Use numpy.ptp instead.\n",
        "import warnings\n",
        "warnings.filterwarnings(action='ignore', category=FutureWarning, module='numpy')"
      ],
      "execution_count": 0,
      "outputs": []
    },
    {
      "cell_type": "code",
      "metadata": {
        "colab_type": "code",
        "id": "cvrw-T3bZOuW",
        "colab": {}
      },
      "source": [
        "import numpy as np\n",
        "import pandas as pd\n",
        "\n",
        "# Read New York City apartment rental listing data\n",
        "df = pd.read_csv('../data/apartments/renthop-nyc.csv')\n",
        "assert df.shape == (49352, 34)\n",
        "\n",
        "# Remove the most extreme 1% prices,\n",
        "# the most extreme .1% latitudes, &\n",
        "# the most extreme .1% longitudes\n",
        "df = df[(df['price'] >= np.percentile(df['price'], 0.5)) & \n",
        "        (df['price'] <= np.percentile(df['price'], 99.5)) & \n",
        "        (df['latitude'] >= np.percentile(df['latitude'], 0.05)) & \n",
        "        (df['latitude'] < np.percentile(df['latitude'], 99.95)) &\n",
        "        (df['longitude'] >= np.percentile(df['longitude'], 0.05)) & \n",
        "        (df['longitude'] <= np.percentile(df['longitude'], 99.95))]"
      ],
      "execution_count": 0,
      "outputs": []
    },
    {
      "cell_type": "code",
      "metadata": {
        "id": "BA9ZFBrWF2me",
        "colab_type": "code",
        "colab": {}
      },
      "source": [
        "# Looking at data features. It seems like a number of one-hot encoded features, and some categorical\n",
        "# in addition to string descriptions\n",
        "# df.describe(exclude='number')\n",
        "# df.describe()"
      ],
      "execution_count": 0,
      "outputs": []
    },
    {
      "cell_type": "markdown",
      "metadata": {
        "id": "6Yux7FTbIiQ8",
        "colab_type": "text"
      },
      "source": [
        "Gonna create two categories based on GPS coordinates, indicating \"is it in Chelsea?\" and \"is it in Tribeca?\". I'll find the central long,lat coordinates at the center of both neighborhoods and take a roughly kilometer square area around that point, indicated by a difference of one-half a hundredth place (.5 * .01) margin around both the long and lat coordinates of that central coordinate.\n",
        "\n",
        "\n",
        "Tribeca coordinates\n",
        "40.7163° N, 74.0086° W\n",
        "\n",
        "Chelsea coordinates\n",
        "40.7465° N, 74.0014° W\n"
      ]
    },
    {
      "cell_type": "code",
      "metadata": {
        "id": "L6tUPHhNGMEr",
        "colab_type": "code",
        "outputId": "66703ce6-b763-405e-b847-bb4788ad252f",
        "colab": {
          "base_uri": "https://localhost:8080/",
          "height": 33
        }
      },
      "source": [
        "# Creating features 'chelsea' and 'tribeca'\n",
        "\n",
        "# coordinates from google\n",
        "chelsea_coordinates = [40.7163,-74.0086]\n",
        "tribeca_coordinates = [40.7465,-74.0014]\n",
        "\n",
        "# Rough square-kilometer zone around central Chelsea GPS coordinates\n",
        "chelsea_w = (df['latitude'] < (chelsea_coordinates[0] + .005))\n",
        "chelsea_e = (df['latitude'] > (chelsea_coordinates[0] - .005))\n",
        "chelsea_n = (df['longitude'] < (chelsea_coordinates[1] + .005))\n",
        "chelsea_s = (df['longitude'] > (chelsea_coordinates[1] - .005))\n",
        "\n",
        "mask_chelsea = chelsea_w & chelsea_e & chelsea_n & chelsea_s\n",
        "\n",
        "# Creating empty column, then filling\n",
        "df['chelsea'] = 0\n",
        "df.loc[(mask_chelsea), 'chelsea'] = 1\n",
        "\n",
        "len(df.loc[(mask_chelsea)])"
      ],
      "execution_count": 0,
      "outputs": [
        {
          "output_type": "execute_result",
          "data": {
            "text/plain": [
              "495"
            ]
          },
          "metadata": {
            "tags": []
          },
          "execution_count": 88
        }
      ]
    },
    {
      "cell_type": "code",
      "metadata": {
        "id": "kM42NC6MQYYx",
        "colab_type": "code",
        "outputId": "aba2d886-edfc-44c9-9d35-ccd64180cb4c",
        "colab": {
          "base_uri": "https://localhost:8080/",
          "height": 83
        }
      },
      "source": [
        "# Rough square-kilometer zone around central Tribeca GPS coordinates\n",
        "tribeca_w = (df['latitude'] < (tribeca_coordinates[0] + .005))\n",
        "tribeca_e = (df['latitude'] > (tribeca_coordinates[0] - .005))\n",
        "tribeca_n = (df['longitude'] < (tribeca_coordinates[1] + .005))\n",
        "tribeca_s = (df['longitude'] > (tribeca_coordinates[1] - .005))\n",
        "\n",
        "mask_tribeca = tribeca_w & tribeca_e & tribeca_n & tribeca_s\n",
        "\n",
        "# Creating empty column, then filling\n",
        "df['tribeca'] = 0\n",
        "df.loc[(mask_tribeca), 'tribeca'] = 1\n",
        "\n",
        "# Confirming that no listing is in both neighborhoods\n",
        "df.loc[(mask_tribeca) & (mask_chelsea)] # returns empty dataframe"
      ],
      "execution_count": 0,
      "outputs": [
        {
          "output_type": "execute_result",
          "data": {
            "text/html": [
              "<div>\n",
              "<style scoped>\n",
              "    .dataframe tbody tr th:only-of-type {\n",
              "        vertical-align: middle;\n",
              "    }\n",
              "\n",
              "    .dataframe tbody tr th {\n",
              "        vertical-align: top;\n",
              "    }\n",
              "\n",
              "    .dataframe thead th {\n",
              "        text-align: right;\n",
              "    }\n",
              "</style>\n",
              "<table border=\"1\" class=\"dataframe\">\n",
              "  <thead>\n",
              "    <tr style=\"text-align: right;\">\n",
              "      <th></th>\n",
              "      <th>bathrooms</th>\n",
              "      <th>bedrooms</th>\n",
              "      <th>created</th>\n",
              "      <th>description</th>\n",
              "      <th>display_address</th>\n",
              "      <th>latitude</th>\n",
              "      <th>longitude</th>\n",
              "      <th>price</th>\n",
              "      <th>street_address</th>\n",
              "      <th>interest_level</th>\n",
              "      <th>elevator</th>\n",
              "      <th>cats_allowed</th>\n",
              "      <th>hardwood_floors</th>\n",
              "      <th>dogs_allowed</th>\n",
              "      <th>doorman</th>\n",
              "      <th>dishwasher</th>\n",
              "      <th>no_fee</th>\n",
              "      <th>laundry_in_building</th>\n",
              "      <th>fitness_center</th>\n",
              "      <th>pre-war</th>\n",
              "      <th>laundry_in_unit</th>\n",
              "      <th>roof_deck</th>\n",
              "      <th>outdoor_space</th>\n",
              "      <th>dining_room</th>\n",
              "      <th>high_speed_internet</th>\n",
              "      <th>balcony</th>\n",
              "      <th>swimming_pool</th>\n",
              "      <th>new_construction</th>\n",
              "      <th>terrace</th>\n",
              "      <th>exclusive</th>\n",
              "      <th>loft</th>\n",
              "      <th>garden_patio</th>\n",
              "      <th>wheelchair_access</th>\n",
              "      <th>common_outdoor_space</th>\n",
              "      <th>chelsea</th>\n",
              "      <th>tribeca</th>\n",
              "    </tr>\n",
              "  </thead>\n",
              "  <tbody>\n",
              "  </tbody>\n",
              "</table>\n",
              "</div>"
            ],
            "text/plain": [
              "Empty DataFrame\n",
              "Columns: [bathrooms, bedrooms, created, description, display_address, latitude, longitude, price, street_address, interest_level, elevator, cats_allowed, hardwood_floors, dogs_allowed, doorman, dishwasher, no_fee, laundry_in_building, fitness_center, pre-war, laundry_in_unit, roof_deck, outdoor_space, dining_room, high_speed_internet, balcony, swimming_pool, new_construction, terrace, exclusive, loft, garden_patio, wheelchair_access, common_outdoor_space, chelsea, tribeca]\n",
              "Index: []"
            ]
          },
          "metadata": {
            "tags": []
          },
          "execution_count": 38
        }
      ]
    },
    {
      "cell_type": "code",
      "metadata": {
        "id": "kBId1IEzRlD3",
        "colab_type": "code",
        "colab": {}
      },
      "source": [
        "# I want to make \"interest level\" a dummy variable\n",
        "dummy_interestlevel = pd.get_dummies(df['interest_level'])\n",
        "df = pd.concat([df, dummy_interestlevel], axis=1)"
      ],
      "execution_count": 0,
      "outputs": []
    },
    {
      "cell_type": "code",
      "metadata": {
        "id": "bDGdynWBFRLc",
        "colab_type": "code",
        "outputId": "ab5e8575-dce9-4386-88e7-1f7bf51cb870",
        "colab": {
          "base_uri": "https://localhost:8080/",
          "height": 177
        }
      },
      "source": [
        "train = df[df['created'].str.contains('2016-04|2016-05')]\n",
        "test = df[df['created'].str.contains('2016-06')]\n",
        "train.head(1)"
      ],
      "execution_count": 0,
      "outputs": [
        {
          "output_type": "execute_result",
          "data": {
            "text/html": [
              "<div>\n",
              "<style scoped>\n",
              "    .dataframe tbody tr th:only-of-type {\n",
              "        vertical-align: middle;\n",
              "    }\n",
              "\n",
              "    .dataframe tbody tr th {\n",
              "        vertical-align: top;\n",
              "    }\n",
              "\n",
              "    .dataframe thead th {\n",
              "        text-align: right;\n",
              "    }\n",
              "</style>\n",
              "<table border=\"1\" class=\"dataframe\">\n",
              "  <thead>\n",
              "    <tr style=\"text-align: right;\">\n",
              "      <th></th>\n",
              "      <th>bathrooms</th>\n",
              "      <th>bedrooms</th>\n",
              "      <th>created</th>\n",
              "      <th>description</th>\n",
              "      <th>display_address</th>\n",
              "      <th>latitude</th>\n",
              "      <th>longitude</th>\n",
              "      <th>price</th>\n",
              "      <th>street_address</th>\n",
              "      <th>interest_level</th>\n",
              "      <th>elevator</th>\n",
              "      <th>cats_allowed</th>\n",
              "      <th>hardwood_floors</th>\n",
              "      <th>dogs_allowed</th>\n",
              "      <th>doorman</th>\n",
              "      <th>dishwasher</th>\n",
              "      <th>no_fee</th>\n",
              "      <th>laundry_in_building</th>\n",
              "      <th>fitness_center</th>\n",
              "      <th>pre-war</th>\n",
              "      <th>laundry_in_unit</th>\n",
              "      <th>roof_deck</th>\n",
              "      <th>outdoor_space</th>\n",
              "      <th>dining_room</th>\n",
              "      <th>high_speed_internet</th>\n",
              "      <th>balcony</th>\n",
              "      <th>swimming_pool</th>\n",
              "      <th>new_construction</th>\n",
              "      <th>terrace</th>\n",
              "      <th>exclusive</th>\n",
              "      <th>loft</th>\n",
              "      <th>garden_patio</th>\n",
              "      <th>wheelchair_access</th>\n",
              "      <th>common_outdoor_space</th>\n",
              "      <th>chelsea</th>\n",
              "      <th>tribeca</th>\n",
              "      <th>high</th>\n",
              "      <th>low</th>\n",
              "      <th>medium</th>\n",
              "    </tr>\n",
              "  </thead>\n",
              "  <tbody>\n",
              "    <tr>\n",
              "      <th>2</th>\n",
              "      <td>1.0</td>\n",
              "      <td>1</td>\n",
              "      <td>2016-04-17 03:26:41</td>\n",
              "      <td>Top Top West Village location, beautiful Pre-w...</td>\n",
              "      <td>W 13 Street</td>\n",
              "      <td>40.7388</td>\n",
              "      <td>-74.0018</td>\n",
              "      <td>2850</td>\n",
              "      <td>241 W 13 Street</td>\n",
              "      <td>high</td>\n",
              "      <td>0</td>\n",
              "      <td>0</td>\n",
              "      <td>1</td>\n",
              "      <td>0</td>\n",
              "      <td>0</td>\n",
              "      <td>1</td>\n",
              "      <td>0</td>\n",
              "      <td>1</td>\n",
              "      <td>0</td>\n",
              "      <td>0</td>\n",
              "      <td>0</td>\n",
              "      <td>0</td>\n",
              "      <td>0</td>\n",
              "      <td>0</td>\n",
              "      <td>0</td>\n",
              "      <td>0</td>\n",
              "      <td>0</td>\n",
              "      <td>0</td>\n",
              "      <td>0</td>\n",
              "      <td>0</td>\n",
              "      <td>0</td>\n",
              "      <td>0</td>\n",
              "      <td>0</td>\n",
              "      <td>0</td>\n",
              "      <td>0</td>\n",
              "      <td>0</td>\n",
              "      <td>1</td>\n",
              "      <td>0</td>\n",
              "      <td>0</td>\n",
              "    </tr>\n",
              "  </tbody>\n",
              "</table>\n",
              "</div>"
            ],
            "text/plain": [
              "   bathrooms  bedrooms              created  ... high low  medium\n",
              "2        1.0         1  2016-04-17 03:26:41  ...    1   0       0\n",
              "\n",
              "[1 rows x 39 columns]"
            ]
          },
          "metadata": {
            "tags": []
          },
          "execution_count": 45
        }
      ]
    },
    {
      "cell_type": "code",
      "metadata": {
        "id": "XHhVPBUqTlzg",
        "colab_type": "code",
        "outputId": "7fa31894-8c0f-4d2c-fb90-29730a206da2",
        "colab": {
          "base_uri": "https://localhost:8080/",
          "height": 66
        }
      },
      "source": [
        "# Let's model, regressing bedrooms and Tribeca on price\n",
        "model_2vars = LinearRegression()\n",
        "target = 'price'\n",
        "features = ['bedrooms','tribeca']\n",
        "model_2vars.fit(train[features],train[target])\n",
        "y_pred = model_2vars.predict(test[features])\n",
        "\n",
        "# Let's measure our error!\n",
        "from sklearn.metrics import mean_absolute_error\n",
        "mae = mean_absolute_error(test['price'],y_pred)\n",
        "print(f\"Our model's error: ${mae:,.0f}\")\n",
        "\n",
        "print(f'In this model, Tribeca-ness accounts for ${round(model_2vars.coef_[1],2)} more a month in rent')\n",
        "print(f'and the y-intercept is ',model_2vars.intercept_)"
      ],
      "execution_count": 0,
      "outputs": [
        {
          "output_type": "stream",
          "text": [
            "Our model's error: $985\n",
            "In this model, Tribeca-ness accounts for $600.29 more a month in rent\n",
            "and the y-intercept is  2260.013902648964\n"
          ],
          "name": "stdout"
        }
      ]
    },
    {
      "cell_type": "code",
      "metadata": {
        "id": "P1FXyiEOdf-M",
        "colab_type": "code",
        "outputId": "c3ff0885-00fc-4951-d49c-73600fa54476",
        "colab": {
          "base_uri": "https://localhost:8080/",
          "height": 33
        }
      },
      "source": [
        "from sklearn.metrics import r2_score\n",
        "r2_score(test['price'],y_pred) \n",
        "# Not the best"
      ],
      "execution_count": 0,
      "outputs": [
        {
          "output_type": "execute_result",
          "data": {
            "text/plain": [
              "0.2876697844720504"
            ]
          },
          "metadata": {
            "tags": []
          },
          "execution_count": 94
        }
      ]
    },
    {
      "cell_type": "code",
      "metadata": {
        "id": "GFDk6wGiViwZ",
        "colab_type": "code",
        "colab": {}
      },
      "source": [
        "import plotly.express as px\n",
        "px.scatter_3d(\n",
        "    train,\n",
        "    x='bedrooms', \n",
        "    y='tribeca', \n",
        "    z='price', \n",
        "    text='price', \n",
        "    title='Shizz')"
      ],
      "execution_count": 0,
      "outputs": []
    },
    {
      "cell_type": "code",
      "metadata": {
        "id": "85VzQMjWRGgu",
        "colab_type": "code",
        "colab": {}
      },
      "source": [
        "# Let's model all the features!\n",
        "\n",
        "from sklearn.linear_model import LinearRegression\n",
        "\n",
        "model = LinearRegression()\n",
        "\n",
        "target = 'price'\n",
        "features = ['bathrooms',\n",
        "            'bedrooms',\n",
        "            'latitude',\n",
        "            'longitude',\n",
        "            'elevator',\n",
        "            'cats_allowed',\n",
        "            'hardwood_floors',\n",
        "            'dogs_allowed',\n",
        "            'doorman',\n",
        "            'dishwasher',\n",
        "            'no_fee',\n",
        "            'laundry_in_building',\n",
        "            'fitness_center',\n",
        "            'pre-war',\n",
        "            'laundry_in_unit',\n",
        "            'roof_deck',\n",
        "            'outdoor_space',\n",
        "            'dining_room',\n",
        "            'high_speed_internet',\n",
        "            'balcony',\n",
        "            'swimming_pool',\n",
        "            'new_construction',\n",
        "            'terrace',\n",
        "            'exclusive',\n",
        "            'loft',\n",
        "            'garden_patio',\n",
        "            'wheelchair_access',\n",
        "            'common_outdoor_space',\n",
        "            'chelsea',\n",
        "            'tribeca',\n",
        "            'high',\n",
        "            'low',\n",
        "            'medium']\n",
        "\n",
        "# Fitting\n",
        "model.fit(train[features],train[target])\n",
        "\n",
        "# Using test data\n",
        "y_pred = model.predict(test[features])"
      ],
      "execution_count": 0,
      "outputs": []
    },
    {
      "cell_type": "code",
      "metadata": {
        "id": "R3GfA_9-TeYu",
        "colab_type": "code",
        "outputId": "75053f61-d305-4cb8-e054-e654d80ad754",
        "colab": {
          "base_uri": "https://localhost:8080/",
          "height": 33
        }
      },
      "source": [
        "# Let's measure our error!\n",
        "from sklearn.metrics import mean_absolute_error\n",
        "mae = mean_absolute_error(test['price'],y_pred)\n",
        "print(f\"Our model's error: ${mae:,.0f}\")"
      ],
      "execution_count": 0,
      "outputs": [
        {
          "output_type": "stream",
          "text": [
            "Our model's error: $674\n"
          ],
          "name": "stdout"
        }
      ]
    },
    {
      "cell_type": "code",
      "metadata": {
        "id": "HSlz4KceTwRQ",
        "colab_type": "code",
        "outputId": "d4be029e-0a0a-4500-d323-ee141584ad6a",
        "colab": {
          "base_uri": "https://localhost:8080/",
          "height": 33
        }
      },
      "source": [
        "from sklearn.metrics import r2_score\n",
        "r2_score(test['price'],y_pred) \n",
        "# Better!"
      ],
      "execution_count": 0,
      "outputs": [
        {
          "output_type": "execute_result",
          "data": {
            "text/plain": [
              "0.6495894017749219"
            ]
          },
          "metadata": {
            "tags": []
          },
          "execution_count": 97
        }
      ]
    }
  ]
}
