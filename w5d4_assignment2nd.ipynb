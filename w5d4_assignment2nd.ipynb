{
  "nbformat": 4,
  "nbformat_minor": 0,
  "metadata": {
    "colab": {
      "name": "w5d4_assignment2nd.ipynb",
      "version": "0.3.2",
      "provenance": [],
      "include_colab_link": true
    },
    "kernelspec": {
      "name": "python3",
      "display_name": "Python 3"
    }
  },
  "cells": [
    {
      "cell_type": "markdown",
      "metadata": {
        "id": "view-in-github",
        "colab_type": "text"
      },
      "source": [
        "<a href=\"https://colab.research.google.com/github/Zebfred/DS-Unit-2-Regression-Classification/blob/master/w5d4_assignment2nd.ipynb\" target=\"_parent\"><img src=\"https://colab.research.google.com/assets/colab-badge.svg\" alt=\"Open In Colab\"/></a>"
      ]
    },
    {
      "cell_type": "markdown",
      "metadata": {
        "id": "ZJ5D5PwljFPe",
        "colab_type": "text"
      },
      "source": [
        "#Instructions "
      ]
    },
    {
      "cell_type": "markdown",
      "metadata": {
        "id": "iJpHZpRrgfh7",
        "colab_type": "text"
      },
      "source": [
        "<pre>\n",
        "\n",
        "Assignment\n",
        "Do train/validate/test split with the Tanzania Waterpumps data.\n",
        "\n",
        " Do one-hot encoding. (Remember it may not work with high cardinality categoricals.)\n",
        " \n",
        " Use scikit-learn for logistic regression.\n",
        " \n",
        " Get your validation accuracy score.\n",
        " \n",
        " \n",
        " \n",
        " Get and plot your coefficients.\n",
        " \n",
        " \n",
        " Submit your predictions to our Kaggle competition. \n",
        " \n",
        "</pre>"
      ]
    },
    {
      "cell_type": "markdown",
      "metadata": {
        "id": "8NMJth-2jLj0",
        "colab_type": "text"
      },
      "source": [
        "#Answer"
      ]
    },
    {
      "cell_type": "markdown",
      "metadata": {
        "id": "2rlz440jq2lc",
        "colab_type": "text"
      },
      "source": [
        "### set up"
      ]
    },
    {
      "cell_type": "code",
      "metadata": {
        "id": "uWChxu1ugFKQ",
        "colab_type": "code",
        "colab": {}
      },
      "source": [
        "# If you're in Colab...\n",
        "import os, sys\n",
        "in_colab = 'google.colab' in sys.modules\n",
        "\n",
        "if in_colab:\n",
        "    # Install required python packages:\n",
        "    # category_encoders, version >= 2.0\n",
        "    # pandas-profiling, version >= 2.0\n",
        "    # plotly, version >= 4.0\n",
        "    !pip install --upgrade category_encoders pandas-profiling plotly\n",
        "    \n",
        "    # Pull files from Github repo\n",
        "    os.chdir('/content')\n",
        "    !git init .\n",
        "    !git remote add origin https://github.com/LambdaSchool/DS-Unit-2-Regression-Classification.git\n",
        "    !git pull origin master\n",
        "    \n",
        "    # Change into directory for module\n",
        "    os.chdir('module4')"
      ],
      "execution_count": 0,
      "outputs": []
    },
    {
      "cell_type": "code",
      "metadata": {
        "id": "BY9MoD3wjdiV",
        "colab_type": "code",
        "colab": {}
      },
      "source": [
        "# Ignore this Numpy warning when using Plotly Express:\n",
        "# FutureWarning: Method .ptp is deprecated and will be removed in a future version. Use numpy.ptp instead.\n",
        "import warnings\n",
        "warnings.filterwarnings(action='ignore', category=FutureWarning, module='numpy')"
      ],
      "execution_count": 0,
      "outputs": []
    },
    {
      "cell_type": "code",
      "metadata": {
        "id": "z1TH1b0nj_Rl",
        "colab_type": "code",
        "colab": {}
      },
      "source": [
        "import pandas as pd\n",
        "\n",
        "train_features = pd.read_csv('../data/tanzania/train_features.csv')\n",
        "train_labels = pd.read_csv('../data/tanzania/train_labels.csv')\n",
        "test_features = pd.read_csv('../data/tanzania/test_features.csv')\n",
        "sample_submission = pd.read_csv('../data/tanzania/sample_submission.csv')\n",
        "\n",
        "assert train_features.shape == (59400, 40)\n",
        "assert train_labels.shape == (59400, 2)\n",
        "assert test_features.shape == (14358, 40)\n",
        "assert sample_submission.shape == (14358, 2)"
      ],
      "execution_count": 0,
      "outputs": []
    },
    {
      "cell_type": "code",
      "metadata": {
        "id": "Q17LNpLkkkDs",
        "colab_type": "code",
        "colab": {}
      },
      "source": [
        "import pandas_profiling\n"
      ],
      "execution_count": 0,
      "outputs": []
    },
    {
      "cell_type": "code",
      "metadata": {
        "id": "ab5-C4uokC14",
        "colab_type": "code",
        "colab": {}
      },
      "source": [
        "#train_features.profile_report()"
      ],
      "execution_count": 0,
      "outputs": []
    },
    {
      "cell_type": "markdown",
      "metadata": {
        "id": "70DWTOwtrFTQ",
        "colab_type": "text"
      },
      "source": [
        "###Start: Base model and accuracy score"
      ]
    },
    {
      "cell_type": "code",
      "metadata": {
        "id": "VeQtQSZkktSB",
        "colab_type": "code",
        "colab": {}
      },
      "source": [
        "train_features.head()"
      ],
      "execution_count": 0,
      "outputs": []
    },
    {
      "cell_type": "code",
      "metadata": {
        "id": "-4sgseIGkyaK",
        "colab_type": "code",
        "colab": {}
      },
      "source": [
        "y_train = train_labels['status_group']\n",
        "y_train.value_counts(normalize=True)"
      ],
      "execution_count": 0,
      "outputs": []
    },
    {
      "cell_type": "code",
      "metadata": {
        "id": "Sa8iKagHlG5I",
        "colab_type": "code",
        "colab": {}
      },
      "source": [
        "majority_class = y_train.mode()[0]\n",
        "y_pred = [majority_class]* len(y_train)\n",
        "print(len(y_pred))"
      ],
      "execution_count": 0,
      "outputs": []
    },
    {
      "cell_type": "code",
      "metadata": {
        "id": "4fQTCtSJlK3p",
        "colab_type": "code",
        "colab": {}
      },
      "source": [
        ""
      ],
      "execution_count": 0,
      "outputs": []
    },
    {
      "cell_type": "code",
      "metadata": {
        "id": "OtIJOVIj70K3",
        "colab_type": "code",
        "outputId": "53a4c17f-056c-4e02-b561-15279d5b6dce",
        "colab": {
          "base_uri": "https://localhost:8080/",
          "height": 34
        }
      },
      "source": [
        "from sklearn.metrics import accuracy_score\n",
        "accuracy_score(y_train, y_pred)"
      ],
      "execution_count": 0,
      "outputs": [
        {
          "output_type": "execute_result",
          "data": {
            "text/plain": [
              "0.543080808080808"
            ]
          },
          "metadata": {
            "tags": []
          },
          "execution_count": 10
        }
      ]
    },
    {
      "cell_type": "code",
      "metadata": {
        "id": "fxCydflsm2Bm",
        "colab_type": "code",
        "colab": {}
      },
      "source": [
        ""
      ],
      "execution_count": 0,
      "outputs": []
    },
    {
      "cell_type": "code",
      "metadata": {
        "colab_type": "code",
        "id": "DGPcE529nGsu",
        "colab": {}
      },
      "source": [
        ""
      ],
      "execution_count": 0,
      "outputs": []
    },
    {
      "cell_type": "code",
      "metadata": {
        "id": "JCDsnTN78P0B",
        "colab_type": "code",
        "colab": {}
      },
      "source": [
        "from sklearn.model_selection import train_test_split\n",
        "\n",
        "X= train_features\n",
        "y= train_labels['status_group']\n",
        "\n",
        "X_train, X_val, y_train, y_val = train_test_split(\n",
        "    X, y, train_size=0.80, test_size=.20\n",
        "    , random_state=42\n",
        ")\n",
        "\n",
        "X_train.shape, X_val.shape, y_train.shape, y_val.shape"
      ],
      "execution_count": 0,
      "outputs": []
    },
    {
      "cell_type": "code",
      "metadata": {
        "id": "9FF0GUHhnRVT",
        "colab_type": "code",
        "colab": {}
      },
      "source": [
        "#stratified sampling proportions in train & ShPE\n",
        "y_train.value_counts(normalize=True)"
      ],
      "execution_count": 0,
      "outputs": []
    },
    {
      "cell_type": "code",
      "metadata": {
        "id": "aiUG4D2jnSyY",
        "colab_type": "code",
        "colab": {}
      },
      "source": [
        "y_val.value_counts(normalize=True)"
      ],
      "execution_count": 0,
      "outputs": []
    },
    {
      "cell_type": "code",
      "metadata": {
        "id": "4sa9vuFZnYeG",
        "colab_type": "code",
        "colab": {}
      },
      "source": [
        "X_train_numeric = X.select_dtypes('number')\n",
        "X_val_numberic = X_val.select_dtypes('number')"
      ],
      "execution_count": 0,
      "outputs": []
    },
    {
      "cell_type": "code",
      "metadata": {
        "id": "0lV_CBOQnakJ",
        "colab_type": "code",
        "colab": {}
      },
      "source": [
        "#null features\n",
        "X_train_numeric.isnull().sum()\n"
      ],
      "execution_count": 0,
      "outputs": []
    },
    {
      "cell_type": "code",
      "metadata": {
        "id": "d1LRJe-0njXM",
        "colab_type": "code",
        "colab": {}
      },
      "source": [
        "import sklearn; sklearn.__version__"
      ],
      "execution_count": 0,
      "outputs": []
    },
    {
      "cell_type": "markdown",
      "metadata": {
        "id": "tPx_sCZfsBs5",
        "colab_type": "text"
      },
      "source": [
        "###Logistical regression"
      ]
    },
    {
      "cell_type": "code",
      "metadata": {
        "id": "AlwgENmwnk2V",
        "colab_type": "code",
        "colab": {}
      },
      "source": [
        "from sklearn.linear_model import LogisticRegression\n",
        "model = LogisticRegression(max_iter=5000, n_jobs=-1)\n",
        "model.fit(X_train_numeric, y)"
      ],
      "execution_count": 0,
      "outputs": []
    },
    {
      "cell_type": "code",
      "metadata": {
        "id": "eqfNnzEYnoP7",
        "colab_type": "code",
        "colab": {}
      },
      "source": [
        "X_val_numberic.head()"
      ],
      "execution_count": 0,
      "outputs": []
    },
    {
      "cell_type": "code",
      "metadata": {
        "id": "AgDTnv9jnwNj",
        "colab_type": "code",
        "colab": {}
      },
      "source": [
        "#evaluate\n",
        "\n",
        "y_pred = model.predict(X_val_numberic)\n",
        "accuracy_score(y_val, y_pred)\n"
      ],
      "execution_count": 0,
      "outputs": []
    },
    {
      "cell_type": "code",
      "metadata": {
        "id": "yPmWmOE_nxUp",
        "colab_type": "code",
        "colab": {}
      },
      "source": [
        "model.score(X_val_numberic, y_val)"
      ],
      "execution_count": 0,
      "outputs": []
    },
    {
      "cell_type": "code",
      "metadata": {
        "id": "35YBAoTOn2qv",
        "colab_type": "code",
        "colab": {}
      },
      "source": [
        "y_pred"
      ],
      "execution_count": 0,
      "outputs": []
    },
    {
      "cell_type": "code",
      "metadata": {
        "id": "QllmT4R9oAJU",
        "colab_type": "code",
        "colab": {}
      },
      "source": [
        "pd.Series(y_pred).value_counts(normalize=True)"
      ],
      "execution_count": 0,
      "outputs": []
    },
    {
      "cell_type": "markdown",
      "metadata": {
        "id": "y_JqtitirmmR",
        "colab_type": "text"
      },
      "source": [
        "###One hot Encoding"
      ]
    },
    {
      "cell_type": "code",
      "metadata": {
        "id": "NQ2fmZsBoEa3",
        "colab_type": "code",
        "colab": {}
      },
      "source": [
        "#one hot encoding\n",
        "X_train.describe(exclude='number').T.sort_values(by='unique')"
      ],
      "execution_count": 0,
      "outputs": []
    },
    {
      "cell_type": "code",
      "metadata": {
        "id": "wwLWJHUcozuz",
        "colab_type": "code",
        "colab": {}
      },
      "source": [
        "#explore quanity feature\n",
        "X_train['quanity'].value_counts(drop=False)\n",
        "\n",
        "#combine x and y for data exploring\n",
        "train = X_train.copy(\n",
        ")\n",
        "train['status_group'] = y_train\n",
        "\n",
        "#groupby\n",
        "\n",
        "train.groupby('quantity')['status_group'].value_counts(normalize=True)"
      ],
      "execution_count": 0,
      "outputs": []
    },
    {
      "cell_type": "code",
      "metadata": {
        "id": "MhZEvOvmt4RZ",
        "colab_type": "code",
        "colab": {}
      },
      "source": [
        "%matplotlib inline\n",
        "import matplotlib.pyplot as plt\n",
        "import seaborn as sample_submission\n",
        "#error: sns.catplot(x='quantity', y='status_group', data=train, kind='bar')\n",
        "\n",
        "train['functional'] = (train['status_group'] =='functional').astype(int)\n",
        "\n",
        "sns.catplot(x='quantity'), y='functional', data=train, kind='bar');"
      ],
      "execution_count": 0,
      "outputs": []
    },
    {
      "cell_type": "markdown",
      "metadata": {
        "id": "M5rgB-8Rr6Ea",
        "colab_type": "text"
      },
      "source": [
        "###coefficents"
      ]
    },
    {
      "cell_type": "code",
      "metadata": {
        "id": "u_jgXelPo_8d",
        "colab_type": "code",
        "colab": {}
      },
      "source": [
        "functional_coefficients = pd.Series(\n",
        "    model.coef_[0],\n",
        "    X_train_encoded.columns\n",
        ")\n",
        "\n",
        "plt.figure(figsize=(10, 10))\n",
        "functional_coefficients.sort_values().plot.barh();"
      ],
      "execution_count": 0,
      "outputs": []
    },
    {
      "cell_type": "code",
      "metadata": {
        "id": "EKBoKJ2WpAd6",
        "colab_type": "code",
        "colab": {}
      },
      "source": [
        "X_testsubset = test_features[features]\n",
        "X_test_encoded = encoder.transform(X_test_subset)\n",
        "X_test_scaled = scaler.transform(X_test_encoded)\n",
        "assert all(X_test_\\.columns == X_train_encoded.columns)"
      ],
      "execution_count": 0,
      "outputs": []
    },
    {
      "cell_type": "markdown",
      "metadata": {
        "id": "5JMQzzjzuWnE",
        "colab_type": "text"
      },
      "source": [
        "###Kaggle submissions"
      ]
    },
    {
      "cell_type": "code",
      "metadata": {
        "id": "5TAjWFiKpgji",
        "colab_type": "code",
        "colab": {}
      },
      "source": [
        "y_pred = model.predict(X_test_scaled)\n",
        "submission = sample_submission.copy()\n",
        "submission['status_goup'] = y_pred\n",
        "submission.to_csv('submission-01.csv', index=False)"
      ],
      "execution_count": 0,
      "outputs": []
    },
    {
      "cell_type": "code",
      "metadata": {
        "id": "tCwSfa22piDT",
        "colab_type": "code",
        "colab": {}
      },
      "source": [
        "!head submission-01.csv"
      ],
      "execution_count": 0,
      "outputs": []
    },
    {
      "cell_type": "code",
      "metadata": {
        "id": "EEEBqd-7pn0b",
        "colab_type": "code",
        "colab": {}
      },
      "source": [
        "if in_colab:\n",
        "    from google.colab import files\n",
        "    # Just try again if you get this error:\n",
        "    # TypeError: Failed to fetch\n",
        "    # https://github.com/googlecolab/colabtools/issues/337\n",
        "    files.download('submission-01.csv')"
      ],
      "execution_count": 0,
      "outputs": []
    }
  ]
}