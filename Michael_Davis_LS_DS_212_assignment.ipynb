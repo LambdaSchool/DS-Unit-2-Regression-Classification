{
  "nbformat": 4,
  "nbformat_minor": 0,
  "metadata": {
    "kernelspec": {
      "display_name": "Python 3",
      "language": "python",
      "name": "python3"
    },
    "language_info": {
      "codemirror_mode": {
        "name": "ipython",
        "version": 3
      },
      "file_extension": ".py",
      "mimetype": "text/x-python",
      "name": "python",
      "nbconvert_exporter": "python",
      "pygments_lexer": "ipython3",
      "version": "3.7.3"
    },
    "colab": {
      "name": "Michael_Davis_LS_DS_212_assignment.ipynb",
      "provenance": [],
      "collapsed_sections": [],
      "include_colab_link": true
    }
  },
  "cells": [
    {
      "cell_type": "markdown",
      "metadata": {
        "id": "view-in-github",
        "colab_type": "text"
      },
      "source": [
        "<a href=\"https://colab.research.google.com/github/VS-Coder/DS-Unit-2-Linear-Models/blob/master/Michael_Davis_LS_DS_212_assignment.ipynb\" target=\"_parent\"><img src=\"https://colab.research.google.com/assets/colab-badge.svg\" alt=\"Open In Colab\"/></a>"
      ]
    },
    {
      "cell_type": "markdown",
      "metadata": {
        "id": "oH2ch9rdOB_Z",
        "colab_type": "text"
      },
      "source": [
        "Lambda School Data Science\n",
        "\n",
        "*Unit 2, Sprint 1, Module 2*\n",
        "\n",
        "---"
      ]
    },
    {
      "cell_type": "markdown",
      "metadata": {
        "colab_type": "text",
        "id": "7IXUfiQ2UKj6"
      },
      "source": [
        "# Regression 2\n",
        "\n",
        "## Assignment\n",
        "\n",
        "You'll continue to **predict how much it costs to rent an apartment in NYC,** using the dataset from renthop.com.\n",
        "\n",
        "- [ ] Do train/test split. Use data from April & May 2016 to train. Use data from June 2016 to test.\n",
        "- [ ] Engineer at least two new features. (See below for explanation & ideas.)\n",
        "- [ ] Fit a linear regression model with at least two features.\n",
        "- [ ] Get the model's coefficients and intercept.\n",
        "- [ ] Get regression metrics RMSE, MAE, and $R^2$, for both the train and test data.\n",
        "- [ ] What's the best test MAE you can get? Share your score and features used with your cohort on Slack!\n",
        "- [ ] As always, commit your notebook to your fork of the GitHub repo.\n",
        "\n",
        "\n",
        "#### [Feature Engineering](https://en.wikipedia.org/wiki/Feature_engineering)\n",
        "\n",
        "> \"Some machine learning projects succeed and some fail. What makes the difference? Easily the most important factor is the features used.\" — Pedro Domingos, [\"A Few Useful Things to Know about Machine Learning\"](https://homes.cs.washington.edu/~pedrod/papers/cacm12.pdf)\n",
        "\n",
        "> \"Coming up with features is difficult, time-consuming, requires expert knowledge. 'Applied machine learning' is basically feature engineering.\" — Andrew Ng, [Machine Learning and AI via Brain simulations](https://forum.stanford.edu/events/2011/2011slides/plenary/2011plenaryNg.pdf) \n",
        "\n",
        "> Feature engineering is the process of using domain knowledge of the data to create features that make machine learning algorithms work. \n",
        "\n",
        "#### Feature Ideas\n",
        "- Does the apartment have a description?\n",
        "- How long is the description?\n",
        "- How many total perks does each apartment have?\n",
        "- Are cats _or_ dogs allowed?\n",
        "- Are cats _and_ dogs allowed?\n",
        "- Total number of rooms (beds + baths)\n",
        "- Ratio of beds to baths\n",
        "- What's the neighborhood, based on address or latitude & longitude?\n",
        "\n",
        "## Stretch Goals\n",
        "- [ ] If you want more math, skim [_An Introduction to Statistical Learning_](http://faculty.marshall.usc.edu/gareth-james/ISL/ISLR%20Seventh%20Printing.pdf),  Chapter 3.1, Simple Linear Regression, & Chapter 3.2, Multiple Linear Regression\n",
        "- [ ] If you want more introduction, watch [Brandon Foltz, Statistics 101: Simple Linear Regression](https://www.youtube.com/watch?v=ZkjP5RJLQF4)\n",
        "(20 minutes, over 1 million views)\n",
        "- [ ] Add your own stretch goal(s) !"
      ]
    },
    {
      "cell_type": "code",
      "metadata": {
        "colab_type": "code",
        "id": "o9eSnDYhUGD7",
        "colab": {}
      },
      "source": [
        "%%capture\n",
        "import sys\n",
        "\n",
        "# If you're on Colab:\n",
        "if 'google.colab' in sys.modules:\n",
        "    DATA_PATH = 'https://raw.githubusercontent.com/LambdaSchool/DS-Unit-2-Applied-Modeling/master/data/'\n",
        "    !pip install category_encoders==2.*\n",
        "\n",
        "# If you're working locally:\n",
        "else:\n",
        "    DATA_PATH = '../data/'\n",
        "    \n",
        "# Ignore this Numpy warning when using Plotly Express:\n",
        "# FutureWarning: Method .ptp is deprecated and will be removed in a future version. Use numpy.ptp instead.\n",
        "import warnings\n",
        "warnings.filterwarnings(action='ignore', category=FutureWarning, module='numpy')"
      ],
      "execution_count": 1,
      "outputs": []
    },
    {
      "cell_type": "code",
      "metadata": {
        "colab_type": "code",
        "id": "cvrw-T3bZOuW",
        "colab": {}
      },
      "source": [
        "import numpy as np\n",
        "import pandas as pd\n",
        "\n",
        "# Read New York City apartment rental listing data\n",
        "df = pd.read_csv(DATA_PATH+'apartments/renthop-nyc.csv')\n",
        "assert df.shape == (49352, 34)\n",
        "\n",
        "# Remove the most extreme 1% prices,\n",
        "# the most extreme .1% latitudes, &\n",
        "# the most extreme .1% longitudes\n",
        "df = df[(df['price'] >= np.percentile(df['price'], 0.5)) & \n",
        "        (df['price'] <= np.percentile(df['price'], 99.5)) & \n",
        "        (df['latitude'] >= np.percentile(df['latitude'], 0.05)) & \n",
        "        (df['latitude'] < np.percentile(df['latitude'], 99.95)) &\n",
        "        (df['longitude'] >= np.percentile(df['longitude'], 0.05)) & \n",
        "        (df['longitude'] <= np.percentile(df['longitude'], 99.95))]"
      ],
      "execution_count": 2,
      "outputs": []
    },
    {
      "cell_type": "code",
      "metadata": {
        "id": "1VRH2XAeQMOe",
        "colab_type": "code",
        "colab": {}
      },
      "source": [
        "# Converting the string datetime values into a DateTime value.\n",
        "df['created'] = pd.to_datetime(df['created'], infer_datetime_format= True)"
      ],
      "execution_count": 4,
      "outputs": []
    },
    {
      "cell_type": "code",
      "metadata": {
        "id": "SHeGcerZgJ2V",
        "colab_type": "code",
        "colab": {}
      },
      "source": [
        "# Mapping the interest_level to numeric values from string values to use as a feature.\n",
        "# df['interest_level'] = df['interest_level'].map({'low': 1, 'medium': 2, 'high': 3})"
      ],
      "execution_count": 5,
      "outputs": []
    },
    {
      "cell_type": "code",
      "metadata": {
        "id": "5hVNqnmnOUkl",
        "colab_type": "code",
        "colab": {}
      },
      "source": [
        "# April and May 2016 data. Train data.\n",
        "train = df[(df['created'] >= '2016-04-01') & (df['created'] < '2016-06-01')]"
      ],
      "execution_count": 6,
      "outputs": []
    },
    {
      "cell_type": "code",
      "metadata": {
        "id": "xe2E7F2oOUnw",
        "colab_type": "code",
        "colab": {}
      },
      "source": [
        "# June Data. Test data.\n",
        "test = df[(df['created'] >= '2016-06-01')]"
      ],
      "execution_count": 7,
      "outputs": []
    },
    {
      "cell_type": "code",
      "metadata": {
        "id": "WsuhSP9SOU2U",
        "colab_type": "code",
        "colab": {}
      },
      "source": [
        "# Creating the features and the target variables.\n",
        "# The features are bathrooms, bedrooms, and the location information.\n",
        "# The target variable is the price.\n",
        "feats = ['bathrooms', 'bedrooms', 'latitude', 'longitude']\n",
        "targ = ['price']"
      ],
      "execution_count": 53,
      "outputs": []
    },
    {
      "cell_type": "code",
      "metadata": {
        "id": "-beaAZxnXUZC",
        "colab_type": "code",
        "colab": {}
      },
      "source": [
        "# More imports.\n",
        "import plotly.express as px \n",
        "from sklearn.linear_model import LinearRegression\n",
        "from sklearn.metrics import mean_absolute_error, r2_score, mean_squared_error"
      ],
      "execution_count": 63,
      "outputs": []
    },
    {
      "cell_type": "code",
      "metadata": {
        "id": "SS5M4fDodSvx",
        "colab_type": "code",
        "colab": {}
      },
      "source": [
        "# Instantiating the LinearRegression class.\n",
        "model = LinearRegression()"
      ],
      "execution_count": 10,
      "outputs": []
    },
    {
      "cell_type": "code",
      "metadata": {
        "id": "0nSD99YlfaY0",
        "colab_type": "code",
        "colab": {}
      },
      "source": [
        "# Subsetting the dataframe for the training values that will \n",
        "# be used for making the preditions.\n",
        "x_train = train[feats]\n",
        "y_train = train[targ]\n",
        "\n",
        "x_test = test[feats]\n",
        "y_test = test[targ]"
      ],
      "execution_count": 54,
      "outputs": []
    },
    {
      "cell_type": "code",
      "metadata": {
        "id": "lcrjoLcAdSyt",
        "colab_type": "code",
        "colab": {
          "base_uri": "https://localhost:8080/",
          "height": 34
        },
        "outputId": "5ff9102c-d835-4768-e56d-b2208de7313c"
      },
      "source": [
        "model.fit(x_train, y_train)"
      ],
      "execution_count": 55,
      "outputs": [
        {
          "output_type": "execute_result",
          "data": {
            "text/plain": [
              "LinearRegression(copy_X=True, fit_intercept=True, n_jobs=None, normalize=False)"
            ]
          },
          "metadata": {
            "tags": []
          },
          "execution_count": 55
        }
      ]
    },
    {
      "cell_type": "code",
      "metadata": {
        "id": "GBs1Ig8ydTAX",
        "colab_type": "code",
        "colab": {}
      },
      "source": [
        "# Defining the function to be used for caluculations of the estimate and\n",
        "# coefficient from the data model.\n",
        "def pred(x_tst, y_true):\n",
        "  ''' Function pred(x_tst, y_true)\n",
        "          Predicts the rent value based on the test data passed into the Linear Regression\n",
        "          model.\n",
        "\n",
        "  Returns y_pred - array\n",
        "            The prediction of the rent value.\n",
        "          coeff - array\n",
        "            The coefficient value based on the test data.\n",
        "          mod_int - array\n",
        "            The model intercept value based on the training data passed into\n",
        "            the Linear Regression model.\n",
        "          r2_scr - float\n",
        "            The R^2 score for the test data, and the prediction.'''\n",
        "\n",
        "  # y_pred is the prediction being made based on the test data passed into\n",
        "  # the function.\n",
        "  y_pred = model.predict(x_tst)\n",
        "  # coeff is the coefficient value based on the model that is being used in this function.\n",
        "  coeff = model.coef_\n",
        "  # mod_int is the model intercept value.\n",
        "  mod_int = model.intercept_\n",
        "  # R^2 score\n",
        "  r2_scr = r2_score(y_true, y_pred)\n",
        "  # The returned values are the estimate and coefficient.\n",
        "  return y_pred, coeff, mod_int, r2_scr"
      ],
      "execution_count": 62,
      "outputs": []
    },
    {
      "cell_type": "code",
      "metadata": {
        "id": "6yiekv2XdTE6",
        "colab_type": "code",
        "colab": {
          "base_uri": "https://localhost:8080/",
          "height": 204
        },
        "outputId": "fe424c18-4fa0-43a7-94ae-3f9ea01ef601"
      },
      "source": [
        "# Calling the function and passing the x_test and y_test dataframes.\n",
        "pred_vals = pred(x_test, y_test)\n",
        "pred_vals"
      ],
      "execution_count": 60,
      "outputs": [
        {
          "output_type": "execute_result",
          "data": {
            "text/plain": [
              "(array([[4236.10857798],\n",
              "        [3350.89266327],\n",
              "        [2573.32292805],\n",
              "        ...,\n",
              "        [3278.834954  ],\n",
              "        [3414.80459907],\n",
              "        [3454.62232743]]),\n",
              " array([[  2002.79660997,    428.45152883,   1863.91519176,\n",
              "         -16328.42647587]]),\n",
              " array([-1283306.49069029]),\n",
              " 0.5882903576478155)"
            ]
          },
          "metadata": {
            "tags": []
          },
          "execution_count": 60
        }
      ]
    },
    {
      "cell_type": "code",
      "metadata": {
        "id": "q8fpAML7io03",
        "colab_type": "code",
        "colab": {
          "base_uri": "https://localhost:8080/",
          "height": 34
        },
        "outputId": "a11ff2a4-fb2e-45ee-987f-b89f18703d77"
      },
      "source": [
        "# Verifying that the prediction data and test data are the same shape.\n",
        "print(pred_vals[0].shape, y_test.shape)"
      ],
      "execution_count": 61,
      "outputs": [
        {
          "output_type": "stream",
          "text": [
            "(16973, 1) (16973, 1)\n"
          ],
          "name": "stdout"
        }
      ]
    },
    {
      "cell_type": "code",
      "metadata": {
        "id": "pPWKGSogmrVV",
        "colab_type": "code",
        "colab": {
          "base_uri": "https://localhost:8080/",
          "height": 34
        },
        "outputId": "d8a4c993-d719-4f9b-9c0f-867050cf85ca"
      },
      "source": [
        "# Calulating the mean absolute error value\n",
        "mae = mean_absolute_error(y_test, pred_vals[0])\n",
        "mae"
      ],
      "execution_count": 58,
      "outputs": [
        {
          "output_type": "execute_result",
          "data": {
            "text/plain": [
              "744.975265812059"
            ]
          },
          "metadata": {
            "tags": []
          },
          "execution_count": 58
        }
      ]
    },
    {
      "cell_type": "code",
      "metadata": {
        "id": "HPJWBl_Cnhq1",
        "colab_type": "code",
        "colab": {
          "base_uri": "https://localhost:8080/",
          "height": 34
        },
        "outputId": "32006e87-afbc-4212-f17a-afc1274ce941"
      },
      "source": [
        "# Calulating the Root Mean Squared Error value.\n",
        "rmse = mean_squared_error(y_test, pred_vals[0], squared= False)\n",
        "rmse"
      ],
      "execution_count": 65,
      "outputs": [
        {
          "output_type": "execute_result",
          "data": {
            "text/plain": [
              "1131.1950868928673"
            ]
          },
          "metadata": {
            "tags": []
          },
          "execution_count": 65
        }
      ]
    }
  ]
}