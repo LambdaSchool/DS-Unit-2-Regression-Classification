{
  "nbformat": 4,
  "nbformat_minor": 0,
  "metadata": {
    "kernelspec": {
      "display_name": "Python 3",
      "language": "python",
      "name": "python3"
    },
    "language_info": {
      "codemirror_mode": {
        "name": "ipython",
        "version": 3
      },
      "file_extension": ".py",
      "mimetype": "text/x-python",
      "name": "python",
      "nbconvert_exporter": "python",
      "pygments_lexer": "ipython3",
      "version": "3.7.3"
    },
    "colab": {
      "name": "Mudesir_LS_DS17_212_assignment.ipynb",
      "provenance": [],
      "include_colab_link": true
    }
  },
  "cells": [
    {
      "cell_type": "markdown",
      "metadata": {
        "id": "view-in-github",
        "colab_type": "text"
      },
      "source": [
        "<a href=\"https://colab.research.google.com/github/mudesir/DS-Unit-2-Linear-Models/blob/master/Mudesir_LS_DS17_212_assignment.ipynb\" target=\"_parent\"><img src=\"https://colab.research.google.com/assets/colab-badge.svg\" alt=\"Open In Colab\"/></a>"
      ]
    },
    {
      "cell_type": "markdown",
      "metadata": {
        "id": "H1fj-w4rOwH1",
        "colab_type": "text"
      },
      "source": [
        "Lambda School Data Science\n",
        "\n",
        "*Unit 2, Sprint 1, Module 2*\n",
        "\n",
        "---"
      ]
    },
    {
      "cell_type": "markdown",
      "metadata": {
        "colab_type": "text",
        "id": "7IXUfiQ2UKj6"
      },
      "source": [
        "# Regression 2\n",
        "\n",
        "## Assignment\n",
        "\n",
        "You'll continue to **predict how much it costs to rent an apartment in NYC,** using the dataset from renthop.com.\n",
        "\n",
        "- [ ] Do train/test split. Use data from April & May 2016 to train. Use data from June 2016 to test.\n",
        "- [ ] Engineer at least two new features. (See below for explanation & ideas.)\n",
        "- [ ] Fit a linear regression model with at least two features.\n",
        "- [ ] Get the model's coefficients and intercept.\n",
        "- [ ] Get regression metrics RMSE, MAE, and $R^2$, for both the train and test data.\n",
        "- [ ] What's the best test MAE you can get? Share your score and features used with your cohort on Slack!\n",
        "- [ ] As always, commit your notebook to your fork of the GitHub repo.\n",
        "\n",
        "\n",
        "#### [Feature Engineering](https://en.wikipedia.org/wiki/Feature_engineering)\n",
        "\n",
        "> \"Some machine learning projects succeed and some fail. What makes the difference? Easily the most important factor is the features used.\" — Pedro Domingos, [\"A Few Useful Things to Know about Machine Learning\"](https://homes.cs.washington.edu/~pedrod/papers/cacm12.pdf)\n",
        "\n",
        "> \"Coming up with features is difficult, time-consuming, requires expert knowledge. 'Applied machine learning' is basically feature engineering.\" — Andrew Ng, [Machine Learning and AI via Brain simulations](https://forum.stanford.edu/events/2011/2011slides/plenary/2011plenaryNg.pdf) \n",
        "\n",
        "> Feature engineering is the process of using domain knowledge of the data to create features that make machine learning algorithms work. \n",
        "\n",
        "#### Feature Ideas\n",
        "- Does the apartment have a description?\n",
        "- How long is the description?\n",
        "- How many total perks does each apartment have?\n",
        "- Are cats _or_ dogs allowed?\n",
        "- Are cats _and_ dogs allowed?\n",
        "- Total number of rooms (beds + baths)\n",
        "- Ratio of beds to baths\n",
        "- What's the neighborhood, based on address or latitude & longitude?\n",
        "\n",
        "## Stretch Goals\n",
        "- [ ] If you want more math, skim [_An Introduction to Statistical Learning_](http://faculty.marshall.usc.edu/gareth-james/ISL/ISLR%20Seventh%20Printing.pdf),  Chapter 3.1, Simple Linear Regression, & Chapter 3.2, Multiple Linear Regression\n",
        "- [ ] If you want more introduction, watch [Brandon Foltz, Statistics 101: Simple Linear Regression](https://www.youtube.com/watch?v=ZkjP5RJLQF4)\n",
        "(20 minutes, over 1 million views)\n",
        "- [ ] Add your own stretch goal(s) !"
      ]
    },
    {
      "cell_type": "code",
      "metadata": {
        "colab_type": "code",
        "id": "o9eSnDYhUGD7",
        "colab": {}
      },
      "source": [
        "%%capture\n",
        "import sys\n",
        "\n",
        "# If you're on Colab:\n",
        "if 'google.colab' in sys.modules:\n",
        "    DATA_PATH = 'https://raw.githubusercontent.com/LambdaSchool/DS-Unit-2-Applied-Modeling/master/data/'\n",
        "    !pip install category_encoders==2.*\n",
        "\n",
        "# If you're working locally:\n",
        "else:\n",
        "    DATA_PATH = '../data/'\n",
        "    \n",
        "# Ignore this Numpy warning when using Plotly Express:\n",
        "# FutureWarning: Method .ptp is deprecated and will be removed in a future version. Use numpy.ptp instead.\n",
        "import warnings\n",
        "warnings.filterwarnings(action='ignore', category=FutureWarning, module='numpy')"
      ],
      "execution_count": 77,
      "outputs": []
    },
    {
      "cell_type": "code",
      "metadata": {
        "colab_type": "code",
        "id": "cvrw-T3bZOuW",
        "colab": {}
      },
      "source": [
        "import numpy as np\n",
        "import pandas as pd\n",
        "\n",
        "# Read New York City apartment rental listing data\n",
        "df = pd.read_csv(DATA_PATH+'apartments/renthop-nyc.csv')\n",
        "assert df.shape == (49352, 34)\n",
        "\n",
        "# Remove the most extreme 1% prices,\n",
        "# the most extreme .1% latitudes, &\n",
        "# the most extreme .1% longitudes\n",
        "df = df[(df['price'] >= np.percentile(df['price'], 0.5)) & \n",
        "        (df['price'] <= np.percentile(df['price'], 99.5)) & \n",
        "        (df['latitude'] >= np.percentile(df['latitude'], 0.05)) & \n",
        "        (df['latitude'] < np.percentile(df['latitude'], 99.95)) &\n",
        "        (df['longitude'] >= np.percentile(df['longitude'], 0.05)) & \n",
        "        (df['longitude'] <= np.percentile(df['longitude'], 99.95))]"
      ],
      "execution_count": 78,
      "outputs": []
    },
    {
      "cell_type": "code",
      "metadata": {
        "id": "xTauxn_6G_Q4",
        "colab_type": "code",
        "colab": {
          "base_uri": "https://localhost:8080/",
          "height": 534
        },
        "outputId": "89aa3dac-c533-4972-9bc8-1baaa77ca17e"
      },
      "source": [
        "print(df.shape)\n",
        "df.head()"
      ],
      "execution_count": 3,
      "outputs": [
        {
          "output_type": "stream",
          "text": [
            "(48817, 34)\n"
          ],
          "name": "stdout"
        },
        {
          "output_type": "execute_result",
          "data": {
            "text/html": [
              "<div>\n",
              "<style scoped>\n",
              "    .dataframe tbody tr th:only-of-type {\n",
              "        vertical-align: middle;\n",
              "    }\n",
              "\n",
              "    .dataframe tbody tr th {\n",
              "        vertical-align: top;\n",
              "    }\n",
              "\n",
              "    .dataframe thead th {\n",
              "        text-align: right;\n",
              "    }\n",
              "</style>\n",
              "<table border=\"1\" class=\"dataframe\">\n",
              "  <thead>\n",
              "    <tr style=\"text-align: right;\">\n",
              "      <th></th>\n",
              "      <th>bathrooms</th>\n",
              "      <th>bedrooms</th>\n",
              "      <th>created</th>\n",
              "      <th>description</th>\n",
              "      <th>display_address</th>\n",
              "      <th>latitude</th>\n",
              "      <th>longitude</th>\n",
              "      <th>price</th>\n",
              "      <th>street_address</th>\n",
              "      <th>interest_level</th>\n",
              "      <th>elevator</th>\n",
              "      <th>cats_allowed</th>\n",
              "      <th>hardwood_floors</th>\n",
              "      <th>dogs_allowed</th>\n",
              "      <th>doorman</th>\n",
              "      <th>dishwasher</th>\n",
              "      <th>no_fee</th>\n",
              "      <th>laundry_in_building</th>\n",
              "      <th>fitness_center</th>\n",
              "      <th>pre-war</th>\n",
              "      <th>laundry_in_unit</th>\n",
              "      <th>roof_deck</th>\n",
              "      <th>outdoor_space</th>\n",
              "      <th>dining_room</th>\n",
              "      <th>high_speed_internet</th>\n",
              "      <th>balcony</th>\n",
              "      <th>swimming_pool</th>\n",
              "      <th>new_construction</th>\n",
              "      <th>terrace</th>\n",
              "      <th>exclusive</th>\n",
              "      <th>loft</th>\n",
              "      <th>garden_patio</th>\n",
              "      <th>wheelchair_access</th>\n",
              "      <th>common_outdoor_space</th>\n",
              "    </tr>\n",
              "  </thead>\n",
              "  <tbody>\n",
              "    <tr>\n",
              "      <th>0</th>\n",
              "      <td>1.5</td>\n",
              "      <td>3</td>\n",
              "      <td>2016-06-24 07:54:24</td>\n",
              "      <td>A Brand New 3 Bedroom 1.5 bath ApartmentEnjoy ...</td>\n",
              "      <td>Metropolitan Avenue</td>\n",
              "      <td>40.7145</td>\n",
              "      <td>-73.9425</td>\n",
              "      <td>3000</td>\n",
              "      <td>792 Metropolitan Avenue</td>\n",
              "      <td>medium</td>\n",
              "      <td>0</td>\n",
              "      <td>0</td>\n",
              "      <td>0</td>\n",
              "      <td>0</td>\n",
              "      <td>0</td>\n",
              "      <td>0</td>\n",
              "      <td>0</td>\n",
              "      <td>0</td>\n",
              "      <td>0</td>\n",
              "      <td>0</td>\n",
              "      <td>0</td>\n",
              "      <td>0</td>\n",
              "      <td>0</td>\n",
              "      <td>0</td>\n",
              "      <td>0</td>\n",
              "      <td>0</td>\n",
              "      <td>0</td>\n",
              "      <td>0</td>\n",
              "      <td>0</td>\n",
              "      <td>0</td>\n",
              "      <td>0</td>\n",
              "      <td>0</td>\n",
              "      <td>0</td>\n",
              "      <td>0</td>\n",
              "    </tr>\n",
              "    <tr>\n",
              "      <th>1</th>\n",
              "      <td>1.0</td>\n",
              "      <td>2</td>\n",
              "      <td>2016-06-12 12:19:27</td>\n",
              "      <td></td>\n",
              "      <td>Columbus Avenue</td>\n",
              "      <td>40.7947</td>\n",
              "      <td>-73.9667</td>\n",
              "      <td>5465</td>\n",
              "      <td>808 Columbus Avenue</td>\n",
              "      <td>low</td>\n",
              "      <td>1</td>\n",
              "      <td>1</td>\n",
              "      <td>0</td>\n",
              "      <td>1</td>\n",
              "      <td>1</td>\n",
              "      <td>0</td>\n",
              "      <td>0</td>\n",
              "      <td>0</td>\n",
              "      <td>1</td>\n",
              "      <td>0</td>\n",
              "      <td>0</td>\n",
              "      <td>0</td>\n",
              "      <td>0</td>\n",
              "      <td>0</td>\n",
              "      <td>0</td>\n",
              "      <td>0</td>\n",
              "      <td>0</td>\n",
              "      <td>0</td>\n",
              "      <td>0</td>\n",
              "      <td>0</td>\n",
              "      <td>0</td>\n",
              "      <td>0</td>\n",
              "      <td>0</td>\n",
              "      <td>0</td>\n",
              "    </tr>\n",
              "    <tr>\n",
              "      <th>2</th>\n",
              "      <td>1.0</td>\n",
              "      <td>1</td>\n",
              "      <td>2016-04-17 03:26:41</td>\n",
              "      <td>Top Top West Village location, beautiful Pre-w...</td>\n",
              "      <td>W 13 Street</td>\n",
              "      <td>40.7388</td>\n",
              "      <td>-74.0018</td>\n",
              "      <td>2850</td>\n",
              "      <td>241 W 13 Street</td>\n",
              "      <td>high</td>\n",
              "      <td>0</td>\n",
              "      <td>0</td>\n",
              "      <td>1</td>\n",
              "      <td>0</td>\n",
              "      <td>0</td>\n",
              "      <td>1</td>\n",
              "      <td>0</td>\n",
              "      <td>1</td>\n",
              "      <td>0</td>\n",
              "      <td>0</td>\n",
              "      <td>0</td>\n",
              "      <td>0</td>\n",
              "      <td>0</td>\n",
              "      <td>0</td>\n",
              "      <td>0</td>\n",
              "      <td>0</td>\n",
              "      <td>0</td>\n",
              "      <td>0</td>\n",
              "      <td>0</td>\n",
              "      <td>0</td>\n",
              "      <td>0</td>\n",
              "      <td>0</td>\n",
              "      <td>0</td>\n",
              "      <td>0</td>\n",
              "    </tr>\n",
              "    <tr>\n",
              "      <th>3</th>\n",
              "      <td>1.0</td>\n",
              "      <td>1</td>\n",
              "      <td>2016-04-18 02:22:02</td>\n",
              "      <td>Building Amenities - Garage - Garden - fitness...</td>\n",
              "      <td>East 49th Street</td>\n",
              "      <td>40.7539</td>\n",
              "      <td>-73.9677</td>\n",
              "      <td>3275</td>\n",
              "      <td>333 East 49th Street</td>\n",
              "      <td>low</td>\n",
              "      <td>0</td>\n",
              "      <td>0</td>\n",
              "      <td>1</td>\n",
              "      <td>0</td>\n",
              "      <td>0</td>\n",
              "      <td>0</td>\n",
              "      <td>1</td>\n",
              "      <td>0</td>\n",
              "      <td>0</td>\n",
              "      <td>0</td>\n",
              "      <td>0</td>\n",
              "      <td>0</td>\n",
              "      <td>0</td>\n",
              "      <td>0</td>\n",
              "      <td>0</td>\n",
              "      <td>0</td>\n",
              "      <td>0</td>\n",
              "      <td>0</td>\n",
              "      <td>0</td>\n",
              "      <td>0</td>\n",
              "      <td>0</td>\n",
              "      <td>0</td>\n",
              "      <td>0</td>\n",
              "      <td>0</td>\n",
              "    </tr>\n",
              "    <tr>\n",
              "      <th>4</th>\n",
              "      <td>1.0</td>\n",
              "      <td>4</td>\n",
              "      <td>2016-04-28 01:32:41</td>\n",
              "      <td>Beautifully renovated 3 bedroom flex 4 bedroom...</td>\n",
              "      <td>West 143rd Street</td>\n",
              "      <td>40.8241</td>\n",
              "      <td>-73.9493</td>\n",
              "      <td>3350</td>\n",
              "      <td>500 West 143rd Street</td>\n",
              "      <td>low</td>\n",
              "      <td>0</td>\n",
              "      <td>0</td>\n",
              "      <td>0</td>\n",
              "      <td>0</td>\n",
              "      <td>0</td>\n",
              "      <td>0</td>\n",
              "      <td>0</td>\n",
              "      <td>0</td>\n",
              "      <td>0</td>\n",
              "      <td>1</td>\n",
              "      <td>0</td>\n",
              "      <td>0</td>\n",
              "      <td>0</td>\n",
              "      <td>0</td>\n",
              "      <td>0</td>\n",
              "      <td>0</td>\n",
              "      <td>0</td>\n",
              "      <td>0</td>\n",
              "      <td>0</td>\n",
              "      <td>0</td>\n",
              "      <td>0</td>\n",
              "      <td>0</td>\n",
              "      <td>0</td>\n",
              "      <td>0</td>\n",
              "    </tr>\n",
              "  </tbody>\n",
              "</table>\n",
              "</div>"
            ],
            "text/plain": [
              "   bathrooms  bedrooms  ... wheelchair_access common_outdoor_space\n",
              "0        1.5         3  ...                 0                    0\n",
              "1        1.0         2  ...                 0                    0\n",
              "2        1.0         1  ...                 0                    0\n",
              "3        1.0         1  ...                 0                    0\n",
              "4        1.0         4  ...                 0                    0\n",
              "\n",
              "[5 rows x 34 columns]"
            ]
          },
          "metadata": {
            "tags": []
          },
          "execution_count": 3
        }
      ]
    },
    {
      "cell_type": "code",
      "metadata": {
        "id": "r0GBReU0ruZr",
        "colab_type": "code",
        "colab": {
          "base_uri": "https://localhost:8080/",
          "height": 728
        },
        "outputId": "b35b8fd5-c546-42e5-8dbf-d012102a4dbe"
      },
      "source": [
        "df.info()"
      ],
      "execution_count": 4,
      "outputs": [
        {
          "output_type": "stream",
          "text": [
            "<class 'pandas.core.frame.DataFrame'>\n",
            "Int64Index: 48817 entries, 0 to 49351\n",
            "Data columns (total 34 columns):\n",
            " #   Column                Non-Null Count  Dtype  \n",
            "---  ------                --------------  -----  \n",
            " 0   bathrooms             48817 non-null  float64\n",
            " 1   bedrooms              48817 non-null  int64  \n",
            " 2   created               48817 non-null  object \n",
            " 3   description           47392 non-null  object \n",
            " 4   display_address       48684 non-null  object \n",
            " 5   latitude              48817 non-null  float64\n",
            " 6   longitude             48817 non-null  float64\n",
            " 7   price                 48817 non-null  int64  \n",
            " 8   street_address        48807 non-null  object \n",
            " 9   interest_level        48817 non-null  object \n",
            " 10  elevator              48817 non-null  int64  \n",
            " 11  cats_allowed          48817 non-null  int64  \n",
            " 12  hardwood_floors       48817 non-null  int64  \n",
            " 13  dogs_allowed          48817 non-null  int64  \n",
            " 14  doorman               48817 non-null  int64  \n",
            " 15  dishwasher            48817 non-null  int64  \n",
            " 16  no_fee                48817 non-null  int64  \n",
            " 17  laundry_in_building   48817 non-null  int64  \n",
            " 18  fitness_center        48817 non-null  int64  \n",
            " 19  pre-war               48817 non-null  int64  \n",
            " 20  laundry_in_unit       48817 non-null  int64  \n",
            " 21  roof_deck             48817 non-null  int64  \n",
            " 22  outdoor_space         48817 non-null  int64  \n",
            " 23  dining_room           48817 non-null  int64  \n",
            " 24  high_speed_internet   48817 non-null  int64  \n",
            " 25  balcony               48817 non-null  int64  \n",
            " 26  swimming_pool         48817 non-null  int64  \n",
            " 27  new_construction      48817 non-null  int64  \n",
            " 28  terrace               48817 non-null  int64  \n",
            " 29  exclusive             48817 non-null  int64  \n",
            " 30  loft                  48817 non-null  int64  \n",
            " 31  garden_patio          48817 non-null  int64  \n",
            " 32  wheelchair_access     48817 non-null  int64  \n",
            " 33  common_outdoor_space  48817 non-null  int64  \n",
            "dtypes: float64(3), int64(26), object(5)\n",
            "memory usage: 13.0+ MB\n"
          ],
          "name": "stdout"
        }
      ]
    },
    {
      "cell_type": "code",
      "metadata": {
        "id": "NEtdphjr9FlP",
        "colab_type": "code",
        "colab": {
          "base_uri": "https://localhost:8080/",
          "height": 225
        },
        "outputId": "a00497e8-4022-403d-d93c-f93a7a78ed4b"
      },
      "source": [
        "df['created']"
      ],
      "execution_count": 9,
      "outputs": [
        {
          "output_type": "execute_result",
          "data": {
            "text/plain": [
              "0        2016-06-24 07:54:24\n",
              "1        2016-06-12 12:19:27\n",
              "2        2016-04-17 03:26:41\n",
              "3        2016-04-18 02:22:02\n",
              "4        2016-04-28 01:32:41\n",
              "                ...         \n",
              "49347    2016-06-02 05:41:05\n",
              "49348    2016-04-04 18:22:34\n",
              "49349    2016-04-16 02:13:40\n",
              "49350    2016-04-08 02:13:33\n",
              "49351    2016-04-12 02:48:07\n",
              "Name: created, Length: 48817, dtype: object"
            ]
          },
          "metadata": {
            "tags": []
          },
          "execution_count": 9
        }
      ]
    },
    {
      "cell_type": "code",
      "metadata": {
        "id": "rdBettN28TI8",
        "colab_type": "code",
        "colab": {}
      },
      "source": [
        "df['created'] = pd.to_datetime(df['created'], format='%Y-%m-%d %H:%M:%S')"
      ],
      "execution_count": 13,
      "outputs": []
    },
    {
      "cell_type": "code",
      "metadata": {
        "id": "Cle29D1CHqhE",
        "colab_type": "code",
        "colab": {
          "base_uri": "https://localhost:8080/",
          "height": 35
        },
        "outputId": "e70150f4-21b7-4499-e8cb-898e5bae77d8"
      },
      "source": [
        "# choose the target and the feature variabl, that is y and X\n",
        "y = df['price']\n",
        "y.shape\n"
      ],
      "execution_count": 14,
      "outputs": [
        {
          "output_type": "execute_result",
          "data": {
            "text/plain": [
              "(48817,)"
            ]
          },
          "metadata": {
            "tags": []
          },
          "execution_count": 14
        }
      ]
    },
    {
      "cell_type": "code",
      "metadata": {
        "id": "ItxLm7nB28Bz",
        "colab_type": "code",
        "colab": {
          "base_uri": "https://localhost:8080/",
          "height": 35
        },
        "outputId": "4050c6d3-2854-45df-c10a-456ee8d9b4b3"
      },
      "source": [
        "X = df.drop('price', axis=1)\n",
        "df.shape"
      ],
      "execution_count": 15,
      "outputs": [
        {
          "output_type": "execute_result",
          "data": {
            "text/plain": [
              "(48817, 34)"
            ]
          },
          "metadata": {
            "tags": []
          },
          "execution_count": 15
        }
      ]
    },
    {
      "cell_type": "code",
      "metadata": {
        "id": "3Z6bPmfI3Nvg",
        "colab_type": "code",
        "colab": {
          "base_uri": "https://localhost:8080/",
          "height": 517
        },
        "outputId": "b21a93d5-cad8-4ea1-e1ac-964f77077329"
      },
      "source": [
        "# Split the dataframe into train and test according to the given condition \n",
        "X_train = X[((X['created']>='2016-04-01 00:00:00') & (X['created']<'2016-06-01 00:00:00'))]\n",
        "X_train.head()"
      ],
      "execution_count": 18,
      "outputs": [
        {
          "output_type": "execute_result",
          "data": {
            "text/html": [
              "<div>\n",
              "<style scoped>\n",
              "    .dataframe tbody tr th:only-of-type {\n",
              "        vertical-align: middle;\n",
              "    }\n",
              "\n",
              "    .dataframe tbody tr th {\n",
              "        vertical-align: top;\n",
              "    }\n",
              "\n",
              "    .dataframe thead th {\n",
              "        text-align: right;\n",
              "    }\n",
              "</style>\n",
              "<table border=\"1\" class=\"dataframe\">\n",
              "  <thead>\n",
              "    <tr style=\"text-align: right;\">\n",
              "      <th></th>\n",
              "      <th>bathrooms</th>\n",
              "      <th>bedrooms</th>\n",
              "      <th>created</th>\n",
              "      <th>description</th>\n",
              "      <th>display_address</th>\n",
              "      <th>latitude</th>\n",
              "      <th>longitude</th>\n",
              "      <th>street_address</th>\n",
              "      <th>interest_level</th>\n",
              "      <th>elevator</th>\n",
              "      <th>cats_allowed</th>\n",
              "      <th>hardwood_floors</th>\n",
              "      <th>dogs_allowed</th>\n",
              "      <th>doorman</th>\n",
              "      <th>dishwasher</th>\n",
              "      <th>no_fee</th>\n",
              "      <th>laundry_in_building</th>\n",
              "      <th>fitness_center</th>\n",
              "      <th>pre-war</th>\n",
              "      <th>laundry_in_unit</th>\n",
              "      <th>roof_deck</th>\n",
              "      <th>outdoor_space</th>\n",
              "      <th>dining_room</th>\n",
              "      <th>high_speed_internet</th>\n",
              "      <th>balcony</th>\n",
              "      <th>swimming_pool</th>\n",
              "      <th>new_construction</th>\n",
              "      <th>terrace</th>\n",
              "      <th>exclusive</th>\n",
              "      <th>loft</th>\n",
              "      <th>garden_patio</th>\n",
              "      <th>wheelchair_access</th>\n",
              "      <th>common_outdoor_space</th>\n",
              "    </tr>\n",
              "  </thead>\n",
              "  <tbody>\n",
              "    <tr>\n",
              "      <th>2</th>\n",
              "      <td>1.0</td>\n",
              "      <td>1</td>\n",
              "      <td>2016-04-17 03:26:41</td>\n",
              "      <td>Top Top West Village location, beautiful Pre-w...</td>\n",
              "      <td>W 13 Street</td>\n",
              "      <td>40.7388</td>\n",
              "      <td>-74.0018</td>\n",
              "      <td>241 W 13 Street</td>\n",
              "      <td>high</td>\n",
              "      <td>0</td>\n",
              "      <td>0</td>\n",
              "      <td>1</td>\n",
              "      <td>0</td>\n",
              "      <td>0</td>\n",
              "      <td>1</td>\n",
              "      <td>0</td>\n",
              "      <td>1</td>\n",
              "      <td>0</td>\n",
              "      <td>0</td>\n",
              "      <td>0</td>\n",
              "      <td>0</td>\n",
              "      <td>0</td>\n",
              "      <td>0</td>\n",
              "      <td>0</td>\n",
              "      <td>0</td>\n",
              "      <td>0</td>\n",
              "      <td>0</td>\n",
              "      <td>0</td>\n",
              "      <td>0</td>\n",
              "      <td>0</td>\n",
              "      <td>0</td>\n",
              "      <td>0</td>\n",
              "      <td>0</td>\n",
              "    </tr>\n",
              "    <tr>\n",
              "      <th>3</th>\n",
              "      <td>1.0</td>\n",
              "      <td>1</td>\n",
              "      <td>2016-04-18 02:22:02</td>\n",
              "      <td>Building Amenities - Garage - Garden - fitness...</td>\n",
              "      <td>East 49th Street</td>\n",
              "      <td>40.7539</td>\n",
              "      <td>-73.9677</td>\n",
              "      <td>333 East 49th Street</td>\n",
              "      <td>low</td>\n",
              "      <td>0</td>\n",
              "      <td>0</td>\n",
              "      <td>1</td>\n",
              "      <td>0</td>\n",
              "      <td>0</td>\n",
              "      <td>0</td>\n",
              "      <td>1</td>\n",
              "      <td>0</td>\n",
              "      <td>0</td>\n",
              "      <td>0</td>\n",
              "      <td>0</td>\n",
              "      <td>0</td>\n",
              "      <td>0</td>\n",
              "      <td>0</td>\n",
              "      <td>0</td>\n",
              "      <td>0</td>\n",
              "      <td>0</td>\n",
              "      <td>0</td>\n",
              "      <td>0</td>\n",
              "      <td>0</td>\n",
              "      <td>0</td>\n",
              "      <td>0</td>\n",
              "      <td>0</td>\n",
              "      <td>0</td>\n",
              "    </tr>\n",
              "    <tr>\n",
              "      <th>4</th>\n",
              "      <td>1.0</td>\n",
              "      <td>4</td>\n",
              "      <td>2016-04-28 01:32:41</td>\n",
              "      <td>Beautifully renovated 3 bedroom flex 4 bedroom...</td>\n",
              "      <td>West 143rd Street</td>\n",
              "      <td>40.8241</td>\n",
              "      <td>-73.9493</td>\n",
              "      <td>500 West 143rd Street</td>\n",
              "      <td>low</td>\n",
              "      <td>0</td>\n",
              "      <td>0</td>\n",
              "      <td>0</td>\n",
              "      <td>0</td>\n",
              "      <td>0</td>\n",
              "      <td>0</td>\n",
              "      <td>0</td>\n",
              "      <td>0</td>\n",
              "      <td>0</td>\n",
              "      <td>1</td>\n",
              "      <td>0</td>\n",
              "      <td>0</td>\n",
              "      <td>0</td>\n",
              "      <td>0</td>\n",
              "      <td>0</td>\n",
              "      <td>0</td>\n",
              "      <td>0</td>\n",
              "      <td>0</td>\n",
              "      <td>0</td>\n",
              "      <td>0</td>\n",
              "      <td>0</td>\n",
              "      <td>0</td>\n",
              "      <td>0</td>\n",
              "      <td>0</td>\n",
              "    </tr>\n",
              "    <tr>\n",
              "      <th>5</th>\n",
              "      <td>2.0</td>\n",
              "      <td>4</td>\n",
              "      <td>2016-04-19 04:24:47</td>\n",
              "      <td></td>\n",
              "      <td>West 18th Street</td>\n",
              "      <td>40.7429</td>\n",
              "      <td>-74.0028</td>\n",
              "      <td>350 West 18th Street</td>\n",
              "      <td>medium</td>\n",
              "      <td>0</td>\n",
              "      <td>0</td>\n",
              "      <td>0</td>\n",
              "      <td>0</td>\n",
              "      <td>0</td>\n",
              "      <td>0</td>\n",
              "      <td>0</td>\n",
              "      <td>0</td>\n",
              "      <td>0</td>\n",
              "      <td>0</td>\n",
              "      <td>0</td>\n",
              "      <td>0</td>\n",
              "      <td>0</td>\n",
              "      <td>0</td>\n",
              "      <td>0</td>\n",
              "      <td>0</td>\n",
              "      <td>0</td>\n",
              "      <td>0</td>\n",
              "      <td>0</td>\n",
              "      <td>0</td>\n",
              "      <td>0</td>\n",
              "      <td>0</td>\n",
              "      <td>0</td>\n",
              "      <td>0</td>\n",
              "    </tr>\n",
              "    <tr>\n",
              "      <th>6</th>\n",
              "      <td>1.0</td>\n",
              "      <td>2</td>\n",
              "      <td>2016-04-27 03:19:56</td>\n",
              "      <td>Stunning unit with a great location and lots o...</td>\n",
              "      <td>West 107th Street</td>\n",
              "      <td>40.8012</td>\n",
              "      <td>-73.9660</td>\n",
              "      <td>210 West 107th Street</td>\n",
              "      <td>low</td>\n",
              "      <td>0</td>\n",
              "      <td>1</td>\n",
              "      <td>0</td>\n",
              "      <td>1</td>\n",
              "      <td>0</td>\n",
              "      <td>0</td>\n",
              "      <td>1</td>\n",
              "      <td>0</td>\n",
              "      <td>0</td>\n",
              "      <td>0</td>\n",
              "      <td>0</td>\n",
              "      <td>0</td>\n",
              "      <td>0</td>\n",
              "      <td>0</td>\n",
              "      <td>0</td>\n",
              "      <td>0</td>\n",
              "      <td>0</td>\n",
              "      <td>0</td>\n",
              "      <td>0</td>\n",
              "      <td>0</td>\n",
              "      <td>0</td>\n",
              "      <td>0</td>\n",
              "      <td>0</td>\n",
              "      <td>0</td>\n",
              "    </tr>\n",
              "  </tbody>\n",
              "</table>\n",
              "</div>"
            ],
            "text/plain": [
              "   bathrooms  bedrooms  ... wheelchair_access common_outdoor_space\n",
              "2        1.0         1  ...                 0                    0\n",
              "3        1.0         1  ...                 0                    0\n",
              "4        1.0         4  ...                 0                    0\n",
              "5        2.0         4  ...                 0                    0\n",
              "6        1.0         2  ...                 0                    0\n",
              "\n",
              "[5 rows x 33 columns]"
            ]
          },
          "metadata": {
            "tags": []
          },
          "execution_count": 18
        }
      ]
    },
    {
      "cell_type": "code",
      "metadata": {
        "id": "3GPzj2vgClL6",
        "colab_type": "code",
        "colab": {
          "base_uri": "https://localhost:8080/",
          "height": 517
        },
        "outputId": "7e7b4adc-b6a4-4194-da47-ece9de3400a4"
      },
      "source": [
        "\n",
        "X_test = X[((X['created']>='2016-06-01 00:00:00') & (X['created']<'2016-07-01 00:00:00'))]\n",
        "X_test.head()"
      ],
      "execution_count": 19,
      "outputs": [
        {
          "output_type": "execute_result",
          "data": {
            "text/html": [
              "<div>\n",
              "<style scoped>\n",
              "    .dataframe tbody tr th:only-of-type {\n",
              "        vertical-align: middle;\n",
              "    }\n",
              "\n",
              "    .dataframe tbody tr th {\n",
              "        vertical-align: top;\n",
              "    }\n",
              "\n",
              "    .dataframe thead th {\n",
              "        text-align: right;\n",
              "    }\n",
              "</style>\n",
              "<table border=\"1\" class=\"dataframe\">\n",
              "  <thead>\n",
              "    <tr style=\"text-align: right;\">\n",
              "      <th></th>\n",
              "      <th>bathrooms</th>\n",
              "      <th>bedrooms</th>\n",
              "      <th>created</th>\n",
              "      <th>description</th>\n",
              "      <th>display_address</th>\n",
              "      <th>latitude</th>\n",
              "      <th>longitude</th>\n",
              "      <th>street_address</th>\n",
              "      <th>interest_level</th>\n",
              "      <th>elevator</th>\n",
              "      <th>cats_allowed</th>\n",
              "      <th>hardwood_floors</th>\n",
              "      <th>dogs_allowed</th>\n",
              "      <th>doorman</th>\n",
              "      <th>dishwasher</th>\n",
              "      <th>no_fee</th>\n",
              "      <th>laundry_in_building</th>\n",
              "      <th>fitness_center</th>\n",
              "      <th>pre-war</th>\n",
              "      <th>laundry_in_unit</th>\n",
              "      <th>roof_deck</th>\n",
              "      <th>outdoor_space</th>\n",
              "      <th>dining_room</th>\n",
              "      <th>high_speed_internet</th>\n",
              "      <th>balcony</th>\n",
              "      <th>swimming_pool</th>\n",
              "      <th>new_construction</th>\n",
              "      <th>terrace</th>\n",
              "      <th>exclusive</th>\n",
              "      <th>loft</th>\n",
              "      <th>garden_patio</th>\n",
              "      <th>wheelchair_access</th>\n",
              "      <th>common_outdoor_space</th>\n",
              "    </tr>\n",
              "  </thead>\n",
              "  <tbody>\n",
              "    <tr>\n",
              "      <th>0</th>\n",
              "      <td>1.5</td>\n",
              "      <td>3</td>\n",
              "      <td>2016-06-24 07:54:24</td>\n",
              "      <td>A Brand New 3 Bedroom 1.5 bath ApartmentEnjoy ...</td>\n",
              "      <td>Metropolitan Avenue</td>\n",
              "      <td>40.7145</td>\n",
              "      <td>-73.9425</td>\n",
              "      <td>792 Metropolitan Avenue</td>\n",
              "      <td>medium</td>\n",
              "      <td>0</td>\n",
              "      <td>0</td>\n",
              "      <td>0</td>\n",
              "      <td>0</td>\n",
              "      <td>0</td>\n",
              "      <td>0</td>\n",
              "      <td>0</td>\n",
              "      <td>0</td>\n",
              "      <td>0</td>\n",
              "      <td>0</td>\n",
              "      <td>0</td>\n",
              "      <td>0</td>\n",
              "      <td>0</td>\n",
              "      <td>0</td>\n",
              "      <td>0</td>\n",
              "      <td>0</td>\n",
              "      <td>0</td>\n",
              "      <td>0</td>\n",
              "      <td>0</td>\n",
              "      <td>0</td>\n",
              "      <td>0</td>\n",
              "      <td>0</td>\n",
              "      <td>0</td>\n",
              "      <td>0</td>\n",
              "    </tr>\n",
              "    <tr>\n",
              "      <th>1</th>\n",
              "      <td>1.0</td>\n",
              "      <td>2</td>\n",
              "      <td>2016-06-12 12:19:27</td>\n",
              "      <td></td>\n",
              "      <td>Columbus Avenue</td>\n",
              "      <td>40.7947</td>\n",
              "      <td>-73.9667</td>\n",
              "      <td>808 Columbus Avenue</td>\n",
              "      <td>low</td>\n",
              "      <td>1</td>\n",
              "      <td>1</td>\n",
              "      <td>0</td>\n",
              "      <td>1</td>\n",
              "      <td>1</td>\n",
              "      <td>0</td>\n",
              "      <td>0</td>\n",
              "      <td>0</td>\n",
              "      <td>1</td>\n",
              "      <td>0</td>\n",
              "      <td>0</td>\n",
              "      <td>0</td>\n",
              "      <td>0</td>\n",
              "      <td>0</td>\n",
              "      <td>0</td>\n",
              "      <td>0</td>\n",
              "      <td>0</td>\n",
              "      <td>0</td>\n",
              "      <td>0</td>\n",
              "      <td>0</td>\n",
              "      <td>0</td>\n",
              "      <td>0</td>\n",
              "      <td>0</td>\n",
              "      <td>0</td>\n",
              "    </tr>\n",
              "    <tr>\n",
              "      <th>11</th>\n",
              "      <td>1.0</td>\n",
              "      <td>1</td>\n",
              "      <td>2016-06-03 03:21:22</td>\n",
              "      <td>Check out this one bedroom apartment in a grea...</td>\n",
              "      <td>W. 173rd Street</td>\n",
              "      <td>40.8448</td>\n",
              "      <td>-73.9396</td>\n",
              "      <td>644 W. 173rd Street</td>\n",
              "      <td>low</td>\n",
              "      <td>0</td>\n",
              "      <td>0</td>\n",
              "      <td>0</td>\n",
              "      <td>0</td>\n",
              "      <td>0</td>\n",
              "      <td>0</td>\n",
              "      <td>0</td>\n",
              "      <td>0</td>\n",
              "      <td>0</td>\n",
              "      <td>0</td>\n",
              "      <td>0</td>\n",
              "      <td>0</td>\n",
              "      <td>0</td>\n",
              "      <td>0</td>\n",
              "      <td>0</td>\n",
              "      <td>0</td>\n",
              "      <td>0</td>\n",
              "      <td>0</td>\n",
              "      <td>0</td>\n",
              "      <td>0</td>\n",
              "      <td>0</td>\n",
              "      <td>0</td>\n",
              "      <td>0</td>\n",
              "      <td>0</td>\n",
              "    </tr>\n",
              "    <tr>\n",
              "      <th>14</th>\n",
              "      <td>1.0</td>\n",
              "      <td>1</td>\n",
              "      <td>2016-06-01 03:11:01</td>\n",
              "      <td>Spacious 1-Bedroom to fit King-sized bed comfo...</td>\n",
              "      <td>East 56th St..</td>\n",
              "      <td>40.7584</td>\n",
              "      <td>-73.9648</td>\n",
              "      <td>315 East 56th St..</td>\n",
              "      <td>low</td>\n",
              "      <td>1</td>\n",
              "      <td>0</td>\n",
              "      <td>1</td>\n",
              "      <td>0</td>\n",
              "      <td>0</td>\n",
              "      <td>1</td>\n",
              "      <td>0</td>\n",
              "      <td>0</td>\n",
              "      <td>0</td>\n",
              "      <td>0</td>\n",
              "      <td>0</td>\n",
              "      <td>0</td>\n",
              "      <td>0</td>\n",
              "      <td>0</td>\n",
              "      <td>0</td>\n",
              "      <td>0</td>\n",
              "      <td>0</td>\n",
              "      <td>0</td>\n",
              "      <td>0</td>\n",
              "      <td>0</td>\n",
              "      <td>0</td>\n",
              "      <td>0</td>\n",
              "      <td>0</td>\n",
              "      <td>0</td>\n",
              "    </tr>\n",
              "    <tr>\n",
              "      <th>24</th>\n",
              "      <td>2.0</td>\n",
              "      <td>4</td>\n",
              "      <td>2016-06-07 04:39:56</td>\n",
              "      <td>SPRAWLING 2 BEDROOM FOUND! ENJOY THE LUXURY OF...</td>\n",
              "      <td>W 18 St.</td>\n",
              "      <td>40.7391</td>\n",
              "      <td>-73.9936</td>\n",
              "      <td>30 W 18 St.</td>\n",
              "      <td>medium</td>\n",
              "      <td>1</td>\n",
              "      <td>1</td>\n",
              "      <td>1</td>\n",
              "      <td>1</td>\n",
              "      <td>1</td>\n",
              "      <td>1</td>\n",
              "      <td>0</td>\n",
              "      <td>0</td>\n",
              "      <td>1</td>\n",
              "      <td>0</td>\n",
              "      <td>0</td>\n",
              "      <td>0</td>\n",
              "      <td>1</td>\n",
              "      <td>0</td>\n",
              "      <td>1</td>\n",
              "      <td>1</td>\n",
              "      <td>0</td>\n",
              "      <td>0</td>\n",
              "      <td>1</td>\n",
              "      <td>0</td>\n",
              "      <td>0</td>\n",
              "      <td>0</td>\n",
              "      <td>0</td>\n",
              "      <td>0</td>\n",
              "    </tr>\n",
              "  </tbody>\n",
              "</table>\n",
              "</div>"
            ],
            "text/plain": [
              "    bathrooms  bedrooms  ... wheelchair_access common_outdoor_space\n",
              "0         1.5         3  ...                 0                    0\n",
              "1         1.0         2  ...                 0                    0\n",
              "11        1.0         1  ...                 0                    0\n",
              "14        1.0         1  ...                 0                    0\n",
              "24        2.0         4  ...                 0                    0\n",
              "\n",
              "[5 rows x 33 columns]"
            ]
          },
          "metadata": {
            "tags": []
          },
          "execution_count": 19
        }
      ]
    },
    {
      "cell_type": "code",
      "metadata": {
        "id": "s0To6jaqDKcb",
        "colab_type": "code",
        "colab": {
          "base_uri": "https://localhost:8080/",
          "height": 52
        },
        "outputId": "c5271440-0662-403d-8810-9e6ef6a368e7"
      },
      "source": [
        "# finding y_train and y_test\n",
        "y_test = y[y.index.isin(X_test.index)]\n",
        "print('y-test', y_test.shape)\n",
        "y_train = y[y.index.isin(X_train.index)]\n",
        "print('y-train', y_train.shape)\n"
      ],
      "execution_count": 25,
      "outputs": [
        {
          "output_type": "stream",
          "text": [
            "y-test (16973,)\n",
            "y-train (31844,)\n"
          ],
          "name": "stdout"
        }
      ]
    },
    {
      "cell_type": "code",
      "metadata": {
        "id": "Lgmy-UjcFFdh",
        "colab_type": "code",
        "colab": {
          "base_uri": "https://localhost:8080/",
          "height": 35
        },
        "outputId": "4f162591-3866-4441-a957-38485b73fa53"
      },
      "source": [
        "# Begin with basline 0 feature\n",
        "guess = y_train.mean()\n",
        "guess"
      ],
      "execution_count": 26,
      "outputs": [
        {
          "output_type": "execute_result",
          "data": {
            "text/plain": [
              "3575.604007034292"
            ]
          },
          "metadata": {
            "tags": []
          },
          "execution_count": 26
        }
      ]
    },
    {
      "cell_type": "code",
      "metadata": {
        "id": "BY5YENxEF5gf",
        "colab_type": "code",
        "colab": {}
      },
      "source": [
        "# Train Error\n",
        "from sklearn.metrics import mean_absolute_error\n",
        "\n",
        "y_pred = [y_train.mean()] * len(y_train)"
      ],
      "execution_count": 27,
      "outputs": []
    },
    {
      "cell_type": "code",
      "metadata": {
        "id": "QUrPxaN1GREk",
        "colab_type": "code",
        "colab": {
          "base_uri": "https://localhost:8080/",
          "height": 35
        },
        "outputId": "9ab09d00-8b27-477a-f1e4-a89389391530"
      },
      "source": [
        "# calculate the mean absolute error\n",
        "mae = mean_absolute_error(y_train, y_pred)\n",
        "print(f'Train Error (April-May, 2016 rent appartment price): {mae:.2f} dollars')"
      ],
      "execution_count": 29,
      "outputs": [
        {
          "output_type": "stream",
          "text": [
            "Train Error (April-May, 2016 rent appartment price): 1201.88 dollars\n"
          ],
          "name": "stdout"
        }
      ]
    },
    {
      "cell_type": "code",
      "metadata": {
        "id": "KXLqtIgcHL9e",
        "colab_type": "code",
        "colab": {
          "base_uri": "https://localhost:8080/",
          "height": 35
        },
        "outputId": "3c6dd3bb-3f34-487c-f9f3-329bb20e46ec"
      },
      "source": [
        "# Test Error\n",
        "y_pred = [y_train.mean()] * len(y_test)\n",
        "mae = mean_absolute_error(y_test, y_pred)\n",
        "print(f'Train Error (April-May, 2016 rent appartment price): {mae:.2f} dollars')"
      ],
      "execution_count": 30,
      "outputs": [
        {
          "output_type": "stream",
          "text": [
            "Train Error (April-May, 2016 rent appartment price): 1197.71 dollars\n"
          ],
          "name": "stdout"
        }
      ]
    },
    {
      "cell_type": "code",
      "metadata": {
        "id": "jjH3L-O6ISu4",
        "colab_type": "code",
        "colab": {
          "base_uri": "https://localhost:8080/",
          "height": 542
        },
        "outputId": "c650c7b4-934f-4102-8122-c5b6db8b73da"
      },
      "source": [
        "import pandas as pd\n",
        "import plotly.express as px\n",
        "\n",
        "fig = px.scatter(X_train, x='bedrooms', y=y_train, title='NYC Apartment Rent, April-June, 2016') \n",
        "fig.show()   \n"
      ],
      "execution_count": 89,
      "outputs": [
        {
          "output_type": "display_data",
          "data": {
            "text/html": [
              "<html>\n",
              "<head><meta charset=\"utf-8\" /></head>\n",
              "<body>\n",
              "    <div>\n",
              "            <script src=\"https://cdnjs.cloudflare.com/ajax/libs/mathjax/2.7.5/MathJax.js?config=TeX-AMS-MML_SVG\"></script><script type=\"text/javascript\">if (window.MathJax) {MathJax.Hub.Config({SVG: {font: \"STIX-Web\"}});}</script>\n",
              "                <script type=\"text/javascript\">window.PlotlyConfig = {MathJaxConfig: 'local'};</script>\n",
              "        <script src=\"https://cdn.plot.ly/plotly-latest.min.js\"></script>    \n",
              "            <div id=\"9208cf95-9766-48ea-9544-282ad4f5dd0f\" class=\"plotly-graph-div\" style=\"height:525px; width:100%;\"></div>\n",
              "            <script type=\"text/javascript\">\n",
              "                \n",
              "                    window.PLOTLYENV=window.PLOTLYENV || {};\n",
              "                    \n",
              "                if (document.getElementById(\"9208cf95-9766-48ea-9544-282ad4f5dd0f\")) {\n",
              "                    Plotly.newPlot(\n",
              "                        '9208cf95-9766-48ea-9544-282ad4f5dd0f',\n",
              "                        [{\"hoverlabel\": {\"namelength\": 0}, \"hovertemplate\": \"bedrooms=%{x}<br>y=%{y}\", \"legendgroup\": \"\", \"marker\": {\"color\": \"#636efa\", \"symbol\": \"circle\"}, \"mode\": \"markers\", \"name\": \"\", \"showlegend\": false, \"type\": \"scattergl\", \"x\": [1, 1, 4, 4, 2, 1, 1, 4, 0, 2, 2, 0, 2, 1, 4, 1, 3, 2, 1, 1, 4, 1, 1, 2, 0, 2, 1, 2, 1, 0, 2, 3, 4, 0, 0, 1, 1, 0, 2, 2, 1, 1, 0, 1, 0, 2, 2, 0, 3, 2, 1, 0, 2, 1, 1, 1, 1, 2, 2, 1, 2, 3, 1, 2, 2, 2, 2, 0, 1, 1, 1, 2, 4, 2, 0, 2, 0, 1, 3, 3, 2, 2, 2, 3, 3, 1, 2, 2, 1, 1, 1, 2, 0, 1, 1, 1, 2, 2, 2, 2, 2, 1, 2, 1, 2, 1, 4, 1, 4, 0, 2, 1, 0, 3, 2, 0, 3, 3, 0, 1, 1, 2, 2, 0, 3, 1, 1, 0, 0, 1, 2, 1, 1, 3, 1, 1, 1, 3, 2, 3, 3, 2, 4, 0, 0, 1, 2, 3, 2, 1, 1, 1, 2, 3, 1, 2, 2, 3, 0, 1, 1, 2, 1, 1, 1, 1, 2, 1, 2, 3, 3, 1, 1, 2, 1, 2, 3, 2, 1, 1, 1, 2, 3, 2, 3, 2, 4, 1, 1, 3, 3, 3, 1, 0, 2, 2, 0, 1, 0, 2, 0, 3, 2, 1, 1, 1, 1, 3, 2, 2, 1, 2, 1, 2, 1, 0, 2, 1, 0, 1, 2, 3, 4, 1, 2, 2, 3, 1, 1, 1, 1, 0, 2, 2, 0, 0, 0, 0, 2, 2, 1, 2, 0, 0, 1, 2, 0, 4, 1, 2, 2, 2, 0, 0, 2, 1, 2, 1, 1, 2, 1, 1, 1, 0, 1, 3, 1, 2, 2, 3, 0, 0, 2, 0, 1, 1, 0, 1, 0, 2, 1, 2, 3, 1, 0, 1, 3, 0, 0, 1, 0, 2, 2, 1, 0, 2, 2, 1, 1, 0, 0, 2, 2, 0, 1, 1, 2, 2, 2, 1, 2, 1, 4, 1, 2, 2, 1, 1, 2, 2, 1, 1, 1, 0, 3, 0, 2, 2, 2, 0, 2, 2, 0, 3, 2, 2, 3, 2, 0, 0, 3, 4, 1, 1, 3, 0, 1, 1, 1, 2, 2, 2, 2, 1, 1, 3, 1, 2, 2, 1, 1, 0, 3, 3, 0, 0, 1, 2, 0, 4, 2, 3, 1, 1, 2, 2, 2, 4, 0, 3, 3, 3, 1, 2, 1, 0, 5, 2, 4, 3, 2, 3, 1, 1, 2, 2, 1, 3, 2, 2, 2, 2, 3, 4, 2, 2, 3, 3, 2, 0, 1, 0, 2, 2, 2, 2, 1, 1, 0, 2, 2, 5, 2, 0, 1, 2, 1, 2, 3, 4, 1, 1, 3, 2, 0, 0, 3, 3, 2, 0, 0, 2, 3, 2, 3, 3, 1, 1, 3, 1, 0, 3, 2, 2, 1, 3, 3, 1, 0, 2, 3, 2, 4, 0, 3, 0, 2, 4, 3, 3, 3, 2, 2, 0, 2, 1, 0, 1, 4, 2, 4, 1, 2, 2, 1, 2, 3, 2, 3, 0, 0, 4, 2, 1, 0, 3, 2, 1, 1, 1, 3, 0, 1, 2, 1, 1, 2, 1, 1, 1, 1, 3, 2, 1, 2, 2, 1, 0, 1, 4, 0, 2, 3, 2, 1, 3, 1, 3, 1, 2, 2, 1, 0, 2, 3, 0, 1, 1, 2, 1, 0, 2, 0, 1, 2, 2, 2, 0, 1, 1, 4, 2, 2, 1, 1, 2, 2, 1, 0, 0, 3, 2, 4, 0, 0, 1, 1, 2, 1, 0, 3, 2, 1, 1, 1, 2, 1, 1, 0, 2, 0, 1, 2, 2, 2, 0, 0, 0, 0, 2, 1, 2, 2, 3, 2, 1, 0, 1, 2, 0, 3, 1, 0, 4, 0, 1, 2, 0, 1, 1, 2, 0, 2, 3, 3, 3, 2, 0, 2, 3, 0, 1, 1, 1, 1, 1, 2, 1, 0, 1, 2, 1, 2, 2, 0, 2, 2, 0, 2, 1, 2, 1, 2, 2, 2, 0, 1, 2, 4, 2, 2, 3, 3, 1, 2, 3, 2, 2, 0, 1, 3, 2, 1, 1, 1, 1, 1, 2, 2, 1, 2, 1, 1, 0, 1, 2, 2, 1, 1, 0, 4, 2, 3, 0, 2, 2, 0, 1, 1, 2, 4, 1, 0, 1, 1, 1, 2, 2, 0, 3, 2, 1, 3, 3, 2, 2, 0, 0, 2, 1, 1, 0, 4, 1, 2, 2, 2, 3, 3, 3, 2, 3, 2, 1, 3, 1, 3, 0, 2, 2, 1, 3, 1, 4, 3, 2, 1, 0, 3, 1, 2, 1, 0, 3, 1, 2, 2, 2, 2, 0, 4, 3, 0, 1, 2, 1, 1, 1, 2, 1, 2, 0, 2, 1, 2, 0, 2, 1, 1, 2, 1, 0, 1, 2, 2, 0, 1, 1, 2, 2, 0, 0, 1, 2, 3, 2, 0, 0, 2, 2, 2, 2, 2, 1, 4, 1, 0, 0, 2, 2, 2, 0, 0, 3, 0, 3, 1, 2, 1, 1, 1, 0, 1, 1, 1, 0, 2, 0, 0, 0, 5, 3, 2, 2, 3, 1, 2, 1, 1, 3, 1, 1, 5, 1, 2, 0, 1, 1, 2, 1, 3, 1, 4, 0, 3, 0, 2, 0, 1, 2, 1, 1, 2, 2, 1, 0, 3, 0, 2, 3, 3, 1, 1, 0, 0, 1, 0, 3, 0, 2, 2, 2, 1, 4, 2, 2, 2, 1, 0, 3, 0, 2, 2, 0, 1, 1, 2, 2, 3, 2, 1, 0, 1, 3, 1, 0, 0, 0, 1, 0, 2, 1, 2, 1, 2, 1, 2, 3, 2, 1, 1, 0, 0, 1, 3, 1, 2, 1, 3, 0, 0, 3, 3, 3, 1, 0, 3, 0, 0, 1, 2, 1, 0, 2, 3, 1, 1, 2, 2, 2, 3, 0, 1, 0, 3, 1, 3, 1, 1, 1, 3, 2, 1, 3, 2, 1, 1, 0, 3, 1, 1, 1, 3, 0, 2, 1, 2, 1, 3, 4, 3, 3, 2, 2, 1, 2, 1, 2, 2, 1, 1, 2, 2, 5, 1, 2, 3, 2, 2, 2, 2, 3, 1, 4, 2, 2, 2, 1, 1, 1, 3, 2, 2, 1, 2, 2, 1, 1, 1, 3, 2, 1, 2, 1, 1, 1, 1, 0, 2, 4, 1, 1, 2, 2, 2, 1, 5, 1, 1, 1, 1, 2, 0, 3, 2, 2, 1, 1, 1, 2, 4, 3, 1, 0, 2, 1, 2, 1, 3, 0, 2, 2, 2, 1, 4, 0, 3, 3, 1, 1, 3, 2, 0, 0, 0, 0, 2, 0, 1, 1, 2, 1, 1, 2, 0, 0, 4, 0, 1, 2, 2, 3, 0, 0, 0, 3, 0, 2, 2, 1, 0, 1, 1, 2, 1, 2, 2, 1, 1, 0, 3, 1, 1, 1, 2, 3, 1, 0, 2, 4, 0, 1, 1, 0, 2, 1, 3, 2, 1, 1, 2, 3, 0, 2, 1, 1, 3, 0, 3, 0, 5, 1, 1, 0, 1, 1, 1, 0, 2, 1, 1, 3, 2, 1, 1, 0, 2, 1, 2, 0, 0, 1, 1, 3, 0, 1, 3, 3, 0, 0, 0, 2, 2, 0, 1, 0, 0, 2, 1, 1, 1, 1, 0, 1, 1, 2, 0, 2, 1, 1, 2, 0, 1, 1, 2, 1, 1, 4, 4, 2, 0, 2, 0, 0, 1, 2, 2, 1, 2, 1, 3, 2, 0, 2, 0, 0, 3, 1, 1, 1, 1, 2, 2, 2, 2, 2, 1, 0, 1, 1, 2, 2, 1, 2, 3, 3, 0, 0, 1, 0, 1, 0, 0, 0, 1, 2, 0, 1, 2, 1, 1, 0, 0, 2, 1, 0, 2, 3, 3, 4, 2, 2, 1, 1, 2, 1, 4, 1, 1, 1, 1, 1, 2, 2, 2, 3, 2, 0, 3, 2, 0, 3, 3, 2, 1, 1, 1, 3, 5, 0, 2, 2, 0, 1, 0, 1, 2, 3, 0, 0, 3, 3, 0, 1, 0, 1, 2, 2, 2, 3, 1, 1, 0, 1, 2, 2, 1, 1, 2, 3, 0, 1, 3, 2, 0, 1, 0, 1, 1, 2, 4, 2, 1, 0, 1, 0, 6, 0, 1, 0, 0, 4, 3, 0, 2, 3, 0, 2, 2, 2, 3, 3, 1, 2, 2, 0, 2, 0, 3, 2, 2, 2, 1, 3, 2, 3, 1, 1, 0, 0, 3, 1, 2, 1, 0, 0, 5, 0, 2, 2, 3, 4, 2, 3, 0, 0, 0, 2, 1, 2, 1, 1, 1, 2, 1, 2, 1, 2, 2, 1, 1, 2, 3, 1, 0, 1, 4, 3, 0, 0, 2, 4, 0, 1, 2, 3, 3, 1, 1, 1, 0, 1, 4, 3, 2, 1, 1, 2, 0, 1, 1, 1, 0, 1, 1, 1, 1, 1, 2, 0, 1, 0, 2, 0, 1, 0, 3, 1, 1, 2, 2, 1, 3, 2, 2, 1, 2, 1, 3, 2, 1, 3, 2, 1, 2, 1, 2, 0, 2, 2, 0, 1, 1, 1, 2, 3, 2, 1, 0, 0, 2, 1, 2, 1, 0, 3, 4, 1, 1, 1, 3, 0, 0, 2, 3, 4, 1, 2, 3, 1, 1, 1, 1, 4, 2, 0, 2, 0, 2, 2, 3, 2, 4, 1, 2, 2, 1, 1, 2, 0, 1, 1, 2, 1, 1, 2, 2, 0, 1, 2, 1, 1, 2, 2, 0, 2, 0, 1, 1, 2, 2, 2, 1, 3, 1, 2, 2, 3, 1, 1, 0, 1, 3, 0, 1, 2, 2, 2, 2, 2, 1, 1, 2, 0, 1, 1, 1, 2, 0, 1, 1, 2, 0, 2, 1, 1, 0, 0, 1, 2, 2, 3, 1, 1, 1, 1, 2, 1, 3, 2, 4, 3, 0, 2, 2, 0, 0, 1, 1, 3, 3, 2, 2, 3, 2, 0, 1, 2, 3, 0, 2, 3, 2, 3, 1, 2, 1, 2, 4, 1, 1, 0, 2, 2, 1, 2, 2, 0, 1, 0, 3, 2, 2, 2, 1, 0, 2, 0, 2, 3, 1, 2, 3, 2, 2, 3, 0, 0, 2, 3, 0, 1, 2, 1, 3, 1, 1, 3, 0, 0, 1, 2, 0, 0, 3, 0, 0, 0, 3, 3, 1, 0, 1, 2, 3, 3, 1, 2, 1, 2, 1, 2, 3, 1, 3, 1, 0, 3, 2, 2, 2, 2, 2, 1, 1, 1, 1, 1, 1, 0, 3, 0, 0, 2, 3, 2, 2, 0, 0, 0, 2, 3, 1, 1, 2, 2, 2, 2, 2, 0, 0, 1, 1, 2, 1, 2, 2, 1, 2, 3, 1, 2, 1, 0, 1, 1, 2, 0, 1, 6, 0, 2, 2, 1, 1, 2, 1, 2, 1, 1, 1, 1, 1, 1, 1, 1, 3, 0, 0, 1, 2, 3, 2, 2, 2, 0, 1, 1, 0, 4, 0, 1, 1, 2, 0, 1, 1, 2, 1, 0, 2, 2, 1, 2, 0, 2, 1, 0, 2, 2, 1, 0, 1, 3, 0, 2, 0, 1, 1, 2, 0, 3, 1, 3, 1, 1, 0, 1, 1, 0, 1, 1, 2, 2, 4, 1, 2, 4, 1, 2, 0, 1, 2, 1, 1, 1, 1, 0, 2, 1, 0, 1, 0, 1, 1, 1, 2, 2, 1, 3, 2, 2, 1, 1, 2, 4, 0, 0, 2, 1, 1, 2, 2, 1, 2, 3, 1, 0, 0, 1, 2, 2, 2, 1, 0, 2, 1, 0, 1, 7, 0, 1, 1, 0, 2, 3, 0, 2, 1, 2, 2, 0, 1, 1, 2, 0, 3, 0, 0, 1, 2, 2, 0, 2, 2, 2, 1, 1, 2, 3, 3, 1, 2, 1, 2, 1, 1, 3, 1, 1, 3, 2, 2, 1, 2, 1, 0, 2, 3, 3, 4, 2, 3, 1, 2, 1, 1, 1, 2, 3, 3, 1, 0, 1, 1, 1, 0, 1, 1, 2, 2, 1, 1, 2, 0, 1, 1, 2, 2, 0, 0, 1, 1, 4, 1, 1, 2, 0, 2, 3, 3, 0, 2, 1, 0, 0, 2, 0, 2, 2, 0, 0, 3, 0, 0, 2, 2, 1, 2, 3, 1, 1, 2, 3, 3, 3, 2, 1, 1, 1, 1, 1, 2, 2, 1, 1, 0, 1, 1, 1, 2, 0, 1, 2, 3, 2, 1, 2, 2, 1, 1, 1, 2, 1, 1, 1, 1, 3, 0, 2, 2, 1, 2, 1, 3, 2, 2, 1, 1, 2, 2, 1, 2, 2, 2, 1, 2, 1, 3, 3, 4, 0, 2, 2, 0, 2, 2, 1, 1, 2, 1, 3, 1, 2, 0, 3, 0, 2, 2, 1, 4, 3, 0, 1, 0, 4, 1, 2, 1, 4, 3, 2, 0, 2, 0, 1, 2, 1, 1, 0, 2, 1, 0, 0, 2, 3, 1, 1, 2, 0, 1, 3, 1, 2, 0, 1, 3, 3, 2, 1, 2, 1, 1, 3, 3, 3, 1, 2, 3, 4, 1, 0, 0, 3, 3, 0, 1, 4, 1, 2, 1, 1, 1, 0, 1, 1, 2, 1, 1, 0, 1, 2, 0, 1, 1, 2, 2, 1, 2, 1, 2, 2, 0, 0, 3, 1, 0, 1, 0, 1, 1, 0, 1, 2, 1, 3, 2, 0, 4, 3, 1, 3, 1, 2, 2, 0, 4, 0, 1, 1, 1, 1, 1, 2, 4, 3, 1, 2, 1, 1, 0, 2, 2, 1, 1, 2, 1, 3, 0, 3, 2, 2, 1, 0, 1, 1, 3, 1, 1, 2, 1, 0, 2, 2, 2, 3, 2, 2, 2, 3, 0, 0, 1, 2, 2, 1, 2, 2, 2, 1, 2, 0, 2, 1, 1, 1, 4, 0, 2, 4, 0, 0, 2, 2, 5, 0, 1, 0, 2, 0, 1, 2, 2, 0, 3, 3, 0, 3, 3, 3, 1, 0, 1, 2, 0, 0, 0, 1, 3, 3, 1, 0, 1, 1, 2, 3, 1, 0, 2, 1, 3, 4, 1, 1, 0, 2, 2, 2, 2, 3, 1, 0, 3, 1, 1, 1, 0, 0, 5, 2, 2, 0, 3, 0, 2, 4, 3, 0, 3, 4, 1, 0, 1, 0, 0, 2, 0, 2, 2, 2, 2, 1, 1, 0, 0, 2, 0, 4, 0, 2, 2, 1, 2, 2, 1, 2, 2, 0, 1, 5, 2, 2, 2, 2, 2, 4, 2, 3, 1, 1, 2, 1, 1, 4, 1, 3, 0, 3, 2, 1, 2, 1, 2, 2, 1, 2, 2, 3, 3, 1, 1, 3, 0, 0, 1, 1, 0, 3, 0, 0, 3, 1, 0, 3, 1, 3, 1, 1, 2, 2, 0, 2, 2, 2, 1, 2, 3, 2, 1, 2, 3, 2, 1, 2, 2, 1, 2, 1, 2, 1, 0, 1, 2, 1, 1, 0, 0, 0, 1, 0, 3, 1, 1, 2, 3, 2, 1, 1, 1, 2, 1, 1, 1, 2, 2, 1, 2, 4, 5, 3, 1, 3, 4, 0, 3, 3, 1, 0, 2, 4, 0, 2, 3, 3, 2, 0, 1, 1, 2, 0, 1, 2, 3, 0, 3, 1, 1, 2, 1, 4, 2, 0, 3, 3, 2, 0, 2, 2, 1, 0, 3, 2, 2, 2, 2, 2, 0, 2, 2, 2, 1, 1, 2, 4, 2, 1, 3, 3, 1, 2, 1, 0, 2, 1, 2, 1, 2, 0, 2, 2, 4, 1, 1, 0, 3, 1, 1, 1, 1, 2, 2, 1, 2, 0, 2, 3, 3, 2, 0, 2, 2, 0, 2, 0, 2, 1, 0, 1, 2, 2, 4, 3, 0, 1, 2, 3, 4, 2, 2, 0, 2, 2, 3, 0, 3, 1, 2, 0, 1, 2, 0, 0, 2, 0, 2, 2, 2, 1, 2, 2, 3, 1, 1, 1, 2, 1, 1, 2, 1, 2, 1, 1, 3, 1, 1, 1, 1, 3, 1, 2, 1, 0, 1, 3, 0, 1, 2, 0, 2, 2, 2, 0, 1, 1, 1, 2, 3, 0, 1, 2, 1, 0, 0, 1, 0, 2, 1, 0, 2, 2, 2, 2, 1, 0, 4, 2, 2, 3, 1, 2, 1, 2, 1, 3, 4, 3, 2, 0, 3, 1, 1, 1, 1, 0, 1, 1, 2, 1, 2, 0, 3, 1, 2, 0, 1, 1, 1, 1, 3, 1, 2, 3, 2, 1, 2, 2, 1, 0, 1, 2, 1, 2, 1, 0, 1, 1, 2, 2, 2, 0, 1, 0, 1, 2, 2, 0, 1, 3, 2, 2, 2, 3, 2, 2, 2, 2, 1, 1, 1, 2, 1, 2, 2, 4, 1, 2, 4, 1, 3, 3, 3, 2, 2, 2, 3, 1, 2, 2, 0, 2, 2, 0, 3, 0, 3, 1, 1, 0, 1, 2, 0, 2, 1, 1, 1, 1, 2, 4, 1, 1, 4, 3, 3, 2, 0, 2, 1, 1, 3, 2, 2, 3, 2, 0, 0, 1, 1, 3, 2, 2, 1, 3, 2, 3, 1, 0, 1, 1, 1, 1, 1, 0, 1, 2, 3, 2, 1, 0, 0, 0, 0, 1, 0, 2, 1, 2, 2, 0, 2, 4, 2, 3, 1, 0, 0, 0, 2, 1, 2, 1, 2, 0, 0, 3, 2, 3, 0, 1, 1, 0, 0, 2, 1, 3, 1, 2, 3, 0, 2, 2, 3, 1, 0, 1, 1, 3, 1, 2, 1, 1, 3, 4, 2, 2, 0, 1, 1, 3, 1, 1, 4, 4, 3, 2, 1, 2, 3, 3, 2, 0, 4, 1, 2, 1, 0, 1, 1, 1, 1, 3, 1, 1, 0, 2, 1, 1, 0, 2, 2, 2, 3, 0, 0, 3, 2, 1, 4, 2, 2, 1, 1, 0, 1, 0, 1, 3, 1, 3, 1, 3, 1, 2, 0, 2, 2, 1, 0, 1, 0, 1, 2, 2, 3, 2, 2, 0, 0, 2, 2, 2, 2, 3, 2, 1, 0, 3, 1, 1, 0, 4, 2, 0, 1, 2, 2, 2, 2, 2, 2, 4, 4, 1, 2, 2, 2, 0, 1, 2, 1, 0, 2, 1, 2, 1, 2, 1, 0, 1, 3, 1, 2, 1, 1, 1, 1, 3, 0, 1, 2, 1, 1, 3, 0, 1, 1, 2, 3, 2, 2, 0, 0, 1, 3, 3, 0, 1, 3, 1, 3, 0, 3, 3, 3, 2, 0, 1, 3, 3, 1, 0, 3, 2, 2, 1, 1, 1, 1, 0, 1, 0, 2, 2, 0, 1, 1, 1, 0, 2, 1, 2, 2, 0, 1, 2, 1, 2, 0, 3, 2, 2, 0, 2, 1, 0, 1, 1, 4, 2, 0, 1, 2, 2, 2, 1, 2, 1, 1, 2, 2, 2, 2, 0, 0, 2, 0, 1, 2, 1, 0, 0, 1, 0, 1, 1, 2, 2, 3, 4, 0, 0, 2, 1, 1, 0, 1, 1, 2, 3, 2, 3, 1, 5, 3, 1, 1, 0, 1, 1, 1, 2, 0, 2, 0, 0, 1, 1, 2, 2, 3, 1, 1, 0, 1, 5, 3, 1, 1, 3, 1, 0, 1, 2, 1, 2, 0, 0, 3, 2, 0, 0, 2, 3, 0, 2, 2, 1, 0, 2, 2, 2, 0, 0, 0, 0, 2, 1, 2, 1, 2, 2, 1, 1, 2, 1, 2, 0, 3, 2, 1, 0, 2, 3, 1, 0, 3, 2, 4, 2, 0, 1, 1, 3, 1, 2, 1, 2, 1, 2, 2, 1, 3, 2, 3, 1, 1, 3, 0, 2, 0, 2, 4, 0, 1, 1, 1, 2, 0, 2, 0, 1, 2, 1, 0, 2, 2, 0, 1, 2, 1, 1, 2, 3, 2, 0, 2, 1, 1, 1, 3, 1, 3, 0, 2, 1, 1, 1, 2, 1, 0, 2, 0, 0, 1, 3, 1, 1, 2, 0, 1, 1, 3, 3, 3, 0, 1, 2, 3, 0, 1, 3, 3, 3, 0, 3, 0, 2, 1, 1, 0, 2, 2, 2, 2, 3, 2, 1, 2, 3, 1, 1, 1, 1, 2, 2, 2, 1, 3, 2, 1, 1, 1, 0, 2, 0, 0, 3, 3, 2, 2, 2, 4, 1, 3, 2, 1, 2, 1, 2, 2, 0, 1, 2, 0, 1, 1, 1, 2, 0, 2, 1, 0, 0, 2, 1, 0, 1, 1, 2, 3, 3, 2, 3, 1, 1, 2, 1, 0, 1, 2, 2, 4, 1, 1, 0, 1, 2, 3, 3, 3, 1, 2, 1, 2, 1, 0, 0, 2, 2, 2, 0, 1, 3, 1, 2, 1, 1, 2, 1, 2, 1, 2, 1, 0, 3, 4, 0, 2, 1, 1, 1, 1, 1, 1, 2, 1, 2, 1, 3, 2, 4, 1, 6, 2, 0, 1, 2, 2, 3, 2, 0, 3, 2, 3, 2, 0, 3, 3, 3, 0, 2, 2, 1, 0, 1, 1, 3, 3, 2, 1, 2, 1, 1, 2, 0, 2, 1, 1, 0, 0, 3, 0, 1, 2, 0, 0, 1, 1, 0, 0, 0, 0, 4, 2, 1, 0, 3, 2, 1, 1, 0, 1, 2, 2, 1, 0, 5, 1, 2, 1, 2, 1, 2, 2, 1, 2, 4, 2, 3, 2, 2, 2, 1, 1, 3, 4, 3, 2, 1, 0, 2, 2, 1, 2, 3, 2, 3, 1, 3, 2, 3, 0, 2, 2, 1, 4, 4, 1, 2, 3, 3, 3, 2, 1, 3, 2, 1, 3, 1, 1, 1, 2, 3, 3, 1, 2, 3, 3, 2, 0, 0, 1, 2, 2, 1, 2, 0, 1, 1, 2, 2, 3, 1, 1, 3, 0, 3, 2, 1, 2, 1, 2, 0, 2, 0, 0, 2, 2, 5, 1, 1, 1, 3, 1, 3, 1, 1, 3, 2, 1, 0, 2, 2, 3, 2, 1, 2, 2, 1, 2, 0, 3, 0, 0, 0, 2, 0, 3, 2, 1, 1, 0, 3, 3, 2, 1, 0, 1, 2, 0, 2, 1, 3, 1, 0, 2, 0, 2, 1, 1, 1, 3, 0, 3, 4, 2, 1, 1, 1, 2, 2, 1, 2, 1, 3, 1, 0, 1, 3, 3, 2, 2, 1, 3, 2, 1, 0, 2, 2, 2, 3, 2, 0, 2, 3, 2, 0, 0, 3, 2, 0, 2, 1, 2, 0, 0, 0, 1, 0, 4, 1, 0, 2, 0, 2, 2, 1, 2, 2, 1, 0, 2, 2, 2, 3, 3, 1, 2, 1, 2, 2, 3, 1, 1, 3, 4, 1, 3, 1, 3, 1, 3, 2, 2, 2, 0, 1, 4, 2, 0, 0, 1, 2, 1, 2, 1, 1, 1, 2, 1, 0, 0, 2, 1, 2, 3, 1, 0, 1, 1, 0, 1, 0, 0, 2, 0, 2, 3, 0, 2, 1, 4, 2, 1, 1, 1, 0, 3, 2, 3, 0, 2, 1, 1, 1, 1, 1, 1, 1, 2, 2, 1, 0, 3, 1, 0, 2, 1, 2, 0, 0, 0, 2, 2, 2, 3, 1, 3, 3, 3, 2, 2, 1, 2, 0, 2, 4, 2, 1, 1, 2, 1, 2, 2, 1, 2, 3, 1, 0, 1, 2, 3, 4, 3, 0, 2, 1, 1, 1, 1, 0, 2, 2, 1, 0, 3, 2, 1, 0, 0, 1, 1, 0, 1, 2, 1, 2, 2, 2, 2, 3, 0, 2, 1, 0, 3, 1, 2, 1, 2, 3, 0, 2, 1, 1, 3, 1, 0, 1, 2, 1, 0, 0, 2, 1, 2, 2, 2, 2, 0, 1, 2, 0, 1, 1, 0, 2, 3, 1, 3, 1, 1, 0, 2, 0, 3, 4, 0, 2, 1, 3, 1, 1, 3, 2, 2, 0, 2, 1, 1, 3, 0, 2, 3, 1, 1, 2, 1, 1, 3, 1, 0, 2, 2, 1, 2, 3, 1, 2, 3, 0, 1, 1, 1, 1, 0, 0, 1, 2, 1, 3, 0, 1, 1, 0, 3, 0, 1, 0, 0, 0, 1, 1, 1, 1, 0, 1, 2, 0, 3, 1, 0, 1, 2, 1, 2, 2, 0, 4, 2, 0, 2, 0, 0, 0, 0, 3, 2, 1, 2, 1, 1, 0, 2, 1, 0, 3, 1, 0, 3, 1, 3, 2, 2, 3, 2, 2, 2, 1, 0, 3, 2, 4, 2, 0, 0, 3, 0, 2, 1, 3, 1, 3, 0, 1, 2, 1, 2, 2, 0, 3, 1, 2, 1, 0, 2, 2, 1, 2, 1, 0, 1, 3, 2, 1, 2, 1, 2, 1, 2, 0, 2, 1, 1, 3, 0, 0, 0, 1, 3, 1, 2, 2, 0, 0, 1, 3, 1, 2, 2, 2, 2, 2, 0, 2, 0, 2, 2, 1, 1, 2, 4, 1, 3, 2, 2, 0, 2, 2, 1, 3, 0, 2, 1, 2, 0, 1, 0, 2, 0, 1, 1, 1, 1, 1, 0, 1, 2, 2, 2, 1, 1, 2, 4, 1, 2, 2, 1, 1, 3, 2, 1, 0, 0, 3, 1, 1, 0, 2, 2, 1, 2, 1, 2, 3, 1, 3, 2, 0, 1, 2, 2, 0, 0, 0, 1, 2, 1, 1, 3, 3, 1, 2, 2, 2, 2, 3, 1, 1, 3, 1, 1, 1, 3, 2, 2, 0, 1, 2, 1, 1, 1, 1, 1, 1, 2, 1, 0, 1, 3, 2, 2, 2, 4, 1, 0, 2, 3, 3, 1, 0, 2, 4, 0, 2, 4, 1, 3, 2, 2, 0, 1, 3, 2, 2, 3, 4, 2, 4, 4, 2, 3, 2, 3, 1, 1, 5, 2, 1, 1, 2, 2, 2, 1, 2, 2, 3, 1, 2, 3, 2, 0, 3, 3, 3, 1, 0, 0, 3, 0, 1, 0, 2, 2, 0, 3, 2, 1, 1, 2, 1, 2, 3, 2, 2, 1, 1, 1, 2, 2, 1, 3, 1, 1, 2, 4, 2, 2, 1, 2, 2, 0, 0, 3, 2, 3, 0, 3, 3, 2, 3, 3, 5, 0, 2, 4, 1, 2, 1, 3, 0, 1, 1, 3, 2, 2, 2, 1, 1, 1, 2, 2, 0, 3, 2, 0, 1, 2, 1, 2, 1, 1, 2, 2, 0, 1, 1, 4, 2, 0, 0, 0, 0, 0, 2, 1, 0, 2, 0, 3, 1, 1, 2, 0, 3, 2, 2, 1, 1, 1, 2, 1, 1, 2, 0, 0, 1, 2, 0, 4, 3, 0, 0, 3, 1, 1, 0, 3, 3, 0, 2, 2, 1, 1, 0, 0, 3, 1, 2, 1, 0, 0, 0, 3, 2, 3, 2, 1, 1, 1, 2, 0, 2, 1, 1, 2, 1, 3, 2, 2, 1, 2, 2, 0, 2, 1, 1, 1, 3, 2, 0, 0, 2, 0, 1, 2, 2, 0, 0, 1, 1, 2, 1, 1, 0, 1, 2, 1, 2, 3, 5, 1, 1, 2, 0, 3, 3, 2, 2, 1, 2, 1, 2, 0, 2, 4, 1, 3, 2, 3, 1, 1, 3, 1, 2, 0, 2, 3, 3, 2, 0, 0, 2, 1, 0, 0, 3, 2, 1, 1, 2, 2, 0, 0, 1, 4, 1, 2, 2, 3, 2, 2, 3, 3, 1, 2, 4, 2, 0, 3, 0, 3, 2, 1, 2, 1, 2, 2, 1, 3, 3, 3, 2, 2, 3, 0, 1, 2, 2, 2, 1, 1, 2, 2, 1, 1, 1, 0, 1, 1, 2, 1, 1, 2, 2, 0, 1, 3, 5, 0, 0, 1, 1, 3, 0, 0, 2, 2, 1, 1, 2, 2, 1, 1, 3, 1, 3, 2, 2, 0, 2, 3, 0, 1, 1, 2, 2, 0, 1, 2, 3, 0, 1, 1, 3, 0, 1, 0, 1, 3, 0, 1, 1, 0, 1, 2, 3, 3, 2, 3, 2, 2, 4, 2, 3, 0, 3, 2, 0, 1, 0, 0, 1, 3, 1, 2, 0, 0, 2, 4, 0, 0, 4, 1, 3, 1, 3, 1, 0, 0, 1, 2, 2, 0, 2, 2, 2, 1, 3, 4, 1, 3, 2, 3, 2, 1, 2, 3, 2, 2, 3, 2, 3, 2, 3, 1, 1, 0, 2, 1, 0, 2, 2, 1, 1, 2, 0, 3, 2, 2, 3, 2, 1, 2, 2, 2, 2, 1, 2, 1, 0, 1, 1, 1, 1, 1, 0, 2, 2, 0, 1, 1, 2, 1, 0, 0, 2, 0, 3, 2, 2, 1, 2, 2, 0, 2, 0, 1, 1, 3, 2, 1, 2, 3, 1, 3, 2, 0, 2, 4, 1, 1, 1, 1, 3, 1, 2, 3, 2, 1, 1, 1, 3, 0, 0, 1, 0, 3, 2, 3, 3, 1, 2, 0, 1, 2, 1, 1, 1, 2, 2, 2, 2, 2, 2, 0, 1, 0, 0, 2, 1, 1, 1, 1, 3, 2, 3, 1, 3, 1, 0, 0, 1, 2, 0, 2, 4, 0, 2, 3, 3, 2, 2, 0, 4, 1, 3, 0, 2, 2, 0, 1, 1, 3, 2, 0, 1, 1, 0, 0, 0, 4, 0, 1, 3, 0, 2, 2, 1, 1, 0, 1, 2, 1, 2, 2, 3, 1, 3, 3, 1, 1, 1, 2, 1, 0, 0, 3, 3, 2, 2, 3, 3, 2, 1, 0, 1, 1, 3, 2, 1, 1, 1, 3, 2, 0, 0, 0, 0, 0, 0, 2, 0, 2, 4, 1, 1, 3, 3, 2, 3, 0, 1, 1, 0, 0, 0, 1, 1, 3, 0, 0, 1, 3, 3, 2, 3, 0, 3, 3, 0, 1, 0, 0, 1, 3, 1, 0, 2, 2, 0, 1, 1, 1, 0, 0, 1, 0, 2, 2, 1, 0, 2, 2, 1, 1, 0, 3, 1, 1, 2, 1, 3, 2, 1, 3, 1, 1, 2, 0, 1, 1, 0, 1, 1, 3, 0, 0, 3, 0, 2, 2, 2, 2, 2, 2, 1, 1, 0, 0, 1, 2, 2, 1, 1, 4, 1, 2, 1, 2, 0, 3, 1, 0, 1, 2, 3, 1, 0, 1, 1, 4, 1, 2, 1, 2, 1, 1, 1, 2, 2, 1, 1, 1, 3, 1, 2, 0, 2, 1, 1, 1, 1, 2, 0, 0, 1, 1, 1, 0, 1, 2, 1, 2, 2, 2, 0, 3, 3, 2, 3, 2, 1, 2, 3, 0, 1, 2, 1, 0, 1, 3, 4, 2, 2, 1, 3, 3, 0, 3, 1, 3, 0, 3, 0, 2, 4, 1, 2, 1, 1, 2, 3, 1, 1, 3, 2, 3, 3, 1, 2, 2, 1, 1, 3, 3, 2, 2, 0, 2, 3, 0, 2, 1, 1, 2, 0, 2, 2, 2, 1, 2, 1, 2, 1, 2, 0, 1, 3, 2, 3, 1, 1, 1, 0, 1, 1, 0, 2, 0, 0, 0, 3, 1, 2, 1, 0, 0, 2, 0, 0, 1, 3, 4, 1, 0, 0, 1, 4, 2, 3, 0, 1, 1, 0, 2, 0, 0, 0, 0, 5, 0, 0, 1, 2, 0, 0, 2, 0, 2, 4, 0, 1, 4, 2, 2, 4, 2, 0, 1, 2, 0, 3, 3, 0, 1, 2, 2, 3, 3, 2, 3, 0, 1, 1, 2, 0, 2, 3, 1, 2, 3, 1, 2, 5, 0, 1, 2, 2, 2, 1, 1, 3, 3, 2, 0, 1, 1, 2, 3, 1, 0, 3, 1, 1, 2, 0, 3, 0, 0, 1, 2, 1, 1, 1, 3, 2, 1, 1, 1, 3, 1, 5, 2, 1, 0, 2, 2, 0, 3, 3, 2, 2, 5, 3, 1, 1, 0, 0, 1, 1, 2, 1, 1, 1, 3, 1, 3, 2, 2, 3, 1, 1, 1, 2, 0, 1, 2, 1, 1, 1, 1, 0, 1, 4, 0, 0, 2, 1, 2, 0, 0, 0, 2, 0, 0, 3, 1, 4, 4, 4, 3, 0, 2, 0, 1, 1, 1, 1, 3, 2, 2, 0, 3, 2, 1, 2, 1, 1, 1, 1, 1, 2, 2, 2, 2, 2, 2, 2, 0, 3, 1, 2, 1, 1, 1, 2, 0, 3, 2, 0, 2, 3, 1, 0, 1, 1, 0, 1, 1, 3, 1, 3, 1, 2, 0, 3, 1, 3, 0, 0, 2, 1, 1, 0, 0, 3, 1, 3, 0, 0, 3, 1, 1, 0, 0, 3, 0, 2, 3, 0, 1, 2, 1, 3, 2, 2, 1, 2, 2, 4, 2, 1, 2, 0, 0, 2, 3, 1, 1, 1, 1, 0, 1, 2, 2, 3, 1, 1, 2, 2, 0, 1, 2, 4, 2, 1, 3, 3, 1, 1, 1, 3, 1, 3, 1, 1, 1, 0, 1, 2, 1, 1, 0, 2, 0, 2, 2, 3, 0, 2, 0, 1, 2, 0, 2, 3, 3, 2, 2, 1, 0, 2, 2, 2, 2, 2, 2, 2, 1, 1, 0, 2, 0, 1, 1, 0, 0, 3, 1, 2, 1, 1, 1, 1, 4, 0, 3, 4, 1, 3, 0, 3, 0, 1, 2, 1, 0, 1, 1, 2, 1, 2, 1, 2, 1, 1, 0, 1, 2, 1, 2, 1, 2, 3, 0, 3, 1, 3, 2, 1, 1, 2, 2, 1, 2, 3, 0, 1, 2, 3, 2, 2, 1, 0, 1, 0, 1, 1, 4, 1, 1, 3, 1, 3, 1, 0, 3, 0, 3, 0, 2, 2, 0, 2, 0, 0, 1, 0, 0, 0, 1, 2, 3, 1, 2, 2, 0, 2, 0, 2, 0, 0, 2, 3, 2, 0, 2, 1, 3, 1, 2, 1, 2, 4, 1, 2, 2, 1, 2, 4, 1, 1, 3, 0, 2, 2, 1, 3, 1, 1, 1, 0, 0, 0, 0, 0, 3, 3, 1, 1, 3, 1, 3, 2, 3, 2, 3, 1, 1, 3, 2, 0, 3, 2, 0, 2, 2, 3, 3, 1, 3, 0, 0, 2, 2, 2, 0, 1, 0, 3, 2, 1, 2, 3, 0, 0, 1, 1, 2, 3, 2, 3, 2, 1, 2, 0, 1, 1, 1, 0, 3, 1, 1, 2, 1, 4, 3, 1, 0, 2, 1, 1, 2, 2, 3, 3, 1, 2, 0, 0, 2, 0, 2, 1, 1, 2, 2, 1, 1, 0, 2, 2, 2, 1, 2, 2, 0, 2, 2, 0, 2, 2, 1, 3, 1, 1, 0, 0, 2, 2, 2, 2, 1, 1, 1, 0, 0, 2, 1, 1, 3, 0, 3, 0, 0, 3, 3, 1, 2, 2, 1, 1, 0, 0, 0, 2, 2, 1, 2, 3, 2, 3, 0, 4, 2, 1, 1, 1, 2, 0, 0, 0, 2, 2, 0, 1, 2, 1, 0, 1, 1, 3, 0, 0, 0, 0, 1, 1, 1, 2, 1, 0, 2, 3, 1, 3, 0, 2, 1, 3, 2, 1, 2, 1, 4, 1, 1, 1, 1, 1, 2, 0, 1, 0, 1, 1, 0, 2, 5, 0, 1, 3, 1, 1, 0, 2, 2, 1, 1, 3, 1, 5, 1, 1, 2, 1, 1, 4, 1, 1, 0, 1, 2, 2, 2, 3, 2, 0, 3, 2, 0, 0, 2, 0, 1, 0, 1, 0, 2, 0, 2, 1, 1, 4, 0, 2, 2, 0, 2, 3, 2, 2, 1, 3, 3, 4, 1, 2, 2, 2, 3, 3, 2, 1, 0, 1, 0, 1, 2, 1, 3, 1, 3, 1, 2, 3, 2, 4, 0, 1, 1, 1, 1, 3, 0, 1, 0, 4, 1, 3, 2, 0, 4, 3, 1, 1, 1, 1, 2, 3, 2, 2, 3, 2, 3, 0, 1, 1, 0, 1, 2, 0, 2, 1, 2, 2, 2, 3, 0, 0, 0, 2, 2, 2, 0, 1, 4, 1, 4, 3, 2, 2, 0, 2, 3, 1, 3, 1, 0, 1, 1, 0, 3, 1, 1, 1, 0, 1, 1, 2, 1, 2, 1, 2, 1, 1, 1, 1, 4, 3, 3, 2, 1, 4, 2, 0, 1, 0, 2, 1, 1, 1, 1, 2, 2, 2, 3, 4, 3, 0, 3, 1, 0, 2, 1, 0, 1, 1, 3, 1, 0, 2, 0, 3, 0, 2, 1, 1, 0, 3, 2, 2, 2, 1, 4, 0, 0, 2, 2, 2, 2, 2, 2, 2, 1, 0, 3, 3, 0, 1, 0, 1, 2, 1, 3, 0, 1, 2, 1, 0, 0, 2, 2, 1, 3, 3, 0, 3, 0, 1, 0, 1, 0, 1, 0, 1, 3, 2, 3, 1, 2, 4, 3, 1, 0, 2, 2, 3, 3, 0, 2, 1, 1, 2, 1, 1, 3, 2, 0, 1, 2, 3, 1, 0, 0, 2, 1, 0, 1, 2, 2, 0, 3, 2, 1, 2, 1, 0, 2, 2, 2, 1, 1, 2, 0, 2, 2, 2, 0, 2, 2, 2, 0, 1, 1, 0, 0, 1, 3, 1, 1, 3, 4, 3, 2, 0, 0, 0, 2, 4, 1, 1, 1, 1, 3, 0, 1, 3, 2, 0, 3, 1, 1, 1, 1, 0, 1, 4, 2, 0, 0, 0, 3, 1, 3, 0, 3, 0, 1, 2, 2, 2, 3, 3, 1, 3, 1, 1, 1, 0, 3, 3, 1, 0, 2, 2, 1, 2, 1, 2, 2, 0, 1, 1, 2, 0, 2, 3, 1, 2, 3, 3, 2, 0, 1, 0, 1, 3, 0, 0, 1, 0, 1, 0, 2, 2, 0, 0, 2, 2, 1, 1, 0, 2, 1, 1, 1, 2, 0, 1, 3, 2, 2, 4, 1, 2, 2, 3, 0, 0, 0, 0, 2, 0, 4, 2, 1, 2, 1, 2, 2, 1, 4, 2, 1, 2, 1, 2, 4, 3, 2, 2, 2, 0, 2, 3, 3, 0, 2, 1, 1, 1, 3, 1, 3, 2, 2, 3, 1, 1, 0, 2, 4, 4, 3, 1, 3, 3, 5, 2, 0, 3, 3, 2, 2, 1, 3, 1, 0, 1, 1, 1, 1, 1, 0, 3, 2, 0, 2, 0, 3, 3, 1, 2, 3, 1, 1, 2, 1, 2, 1, 2, 4, 0, 2, 3, 2, 0, 1, 0, 4, 3, 2, 2, 1, 1, 0, 2, 2, 0, 0, 3, 1, 4, 0, 1, 2, 3, 0, 2, 1, 2, 3, 3, 1, 3, 1, 3, 2, 1, 3, 2, 2, 2, 2, 3, 1, 2, 2, 4, 1, 1, 1, 2, 0, 2, 2, 2, 0, 3, 0, 1, 2, 1, 1, 0, 0, 1, 1, 1, 2, 0, 0, 3, 3, 1, 1, 2, 3, 2, 2, 1, 2, 0, 2, 0, 1, 0, 3, 3, 2, 1, 4, 2, 2, 2, 4, 2, 1, 2, 2, 2, 1, 0, 1, 1, 2, 2, 2, 2, 2, 1, 2, 0, 2, 3, 1, 1, 1, 1, 2, 1, 3, 1, 0, 0, 4, 0, 1, 3, 1, 4, 0, 1, 1, 0, 1, 1, 1, 3, 1, 3, 0, 2, 0, 1, 2, 2, 0, 4, 1, 0, 2, 1, 2, 1, 1, 3, 2, 0, 1, 2, 2, 1, 1, 2, 0, 1, 1, 2, 2, 0, 1, 2, 3, 3, 4, 2, 3, 3, 1, 4, 2, 2, 0, 1, 1, 2, 1, 1, 2, 3, 1, 2, 1, 0, 4, 2, 2, 1, 2, 1, 1, 5, 2, 0, 2, 1, 0, 2, 2, 2, 1, 1, 3, 0, 2, 2, 3, 3, 2, 2, 2, 2, 0, 1, 1, 1, 2, 2, 2, 1, 0, 3, 3, 2, 1, 2, 1, 2, 1, 1, 1, 0, 0, 1, 3, 3, 1, 1, 2, 0, 4, 1, 1, 0, 1, 2, 2, 2, 0, 2, 1, 0, 1, 0, 0, 2, 1, 3, 0, 2, 4, 2, 3, 0, 1, 1, 2, 3, 2, 1, 0, 3, 2, 2, 3, 1, 1, 3, 2, 0, 2, 1, 1, 0, 2, 3, 0, 2, 4, 2, 3, 2, 3, 1, 1, 1, 1, 1, 1, 3, 2, 3, 1, 2, 3, 2, 1, 1, 1, 2, 2, 3, 3, 0, 1, 1, 0, 1, 1, 0, 2, 3, 2, 3, 1, 1, 3, 1, 2, 2, 2, 1, 1, 1, 1, 2, 1, 1, 1, 0, 3, 1, 4, 0, 1, 0, 1, 2, 1, 2, 2, 3, 1, 2, 0, 0, 0, 2, 3, 3, 3, 1, 0, 1, 1, 2, 2, 0, 2, 4, 0, 4, 3, 1, 1, 1, 1, 1, 3, 2, 1, 3, 1, 1, 0, 1, 2, 1, 0, 0, 3, 0, 1, 1, 1, 0, 3, 1, 3, 2, 1, 0, 2, 0, 0, 1, 1, 2, 1, 1, 2, 2, 0, 1, 3, 1, 1, 1, 1, 3, 2, 0, 0, 1, 1, 3, 1, 2, 0, 3, 1, 1, 2, 1, 1, 2, 1, 1, 0, 1, 3, 2, 1, 3, 0, 2, 0, 0, 2, 1, 0, 2, 3, 1, 3, 1, 2, 1, 1, 1, 0, 2, 2, 0, 1, 2, 1, 1, 0, 3, 0, 1, 3, 0, 0, 3, 0, 2, 0, 2, 2, 2, 2, 3, 0, 3, 3, 2, 2, 0, 0, 1, 1, 0, 0, 0, 2, 2, 2, 1, 1, 0, 3, 0, 0, 2, 0, 1, 1, 3, 0, 1, 1, 3, 3, 3, 2, 1, 1, 1, 1, 0, 4, 2, 1, 1, 2, 2, 1, 3, 1, 2, 2, 0, 2, 2, 1, 5, 3, 0, 3, 0, 4, 1, 3, 3, 2, 1, 2, 1, 2, 2, 2, 0, 2, 1, 1, 1, 3, 2, 3, 1, 2, 1, 3, 0, 2, 1, 1, 1, 2, 0, 0, 1, 2, 1, 1, 1, 2, 2, 3, 1, 3, 4, 2, 2, 3, 1, 0, 0, 1, 0, 1, 0, 0, 3, 4, 0, 3, 0, 2, 1, 2, 2, 0, 0, 3, 3, 3, 0, 1, 0, 3, 4, 0, 3, 2, 4, 2, 1, 0, 0, 4, 2, 2, 0, 1, 4, 3, 1, 2, 2, 0, 0, 0, 1, 2, 3, 2, 0, 2, 1, 1, 0, 1, 0, 0, 2, 1, 3, 1, 0, 1, 1, 2, 1, 0, 1, 2, 0, 1, 0, 2, 0, 1, 3, 1, 1, 1, 0, 1, 0, 2, 1, 2, 3, 2, 3, 1, 2, 1, 0, 1, 2, 2, 2, 1, 1, 2, 2, 2, 1, 1, 2, 3, 2, 0, 2, 1, 0, 2, 3, 1, 1, 0, 1, 3, 1, 2, 2, 3, 2, 0, 3, 2, 3, 2, 2, 3, 2, 0, 1, 0, 1, 1, 0, 0, 3, 2, 1, 3, 1, 2, 0, 0, 0, 1, 3, 1, 2, 1, 2, 2, 1, 2, 2, 1, 2, 3, 0, 0, 3, 0, 1, 2, 3, 0, 2, 0, 3, 3, 0, 1, 0, 1, 0, 1, 1, 2, 4, 3, 3, 2, 1, 2, 2, 2, 1, 0, 0, 3, 2, 1, 1, 2, 2, 2, 3, 2, 1, 1, 0, 0, 1, 0, 0, 0, 1, 2, 2, 0, 3, 3, 3, 2, 0, 2, 3, 1, 0, 2, 1, 1, 0, 2, 3, 1, 0, 4, 0, 1, 2, 2, 2, 2, 1, 0, 2, 0, 1, 2, 1, 2, 1, 1, 0, 3, 3, 3, 1, 1, 2, 1, 0, 0, 2, 0, 2, 1, 0, 2, 3, 0, 3, 1, 2, 1, 3, 1, 0, 3, 2, 0, 0, 0, 2, 0, 3, 1, 1, 3, 1, 1, 3, 4, 1, 4, 1, 2, 0, 4, 4, 1, 0, 1, 3, 2, 3, 0, 1, 0, 1, 0, 2, 4, 1, 4, 2, 2, 3, 2, 2, 2, 2, 2, 1, 0, 2, 3, 2, 0, 1, 0, 2, 0, 2, 2, 0, 3, 1, 1, 0, 1, 3, 3, 2, 2, 0, 3, 1, 3, 3, 1, 2, 1, 1, 2, 2, 1, 2, 0, 0, 1, 0, 2, 1, 2, 3, 2, 3, 2, 2, 1, 1, 0, 1, 3, 0, 2, 1, 3, 3, 1, 0, 0, 1, 2, 0, 2, 2, 2, 1, 3, 2, 1, 0, 1, 1, 1, 4, 3, 2, 2, 2, 3, 0, 2, 0, 5, 2, 0, 3, 1, 1, 3, 2, 2, 0, 3, 2, 3, 0, 2, 0, 2, 2, 1, 3, 0, 2, 1, 2, 3, 3, 2, 2, 2, 1, 0, 0, 1, 3, 1, 3, 2, 1, 3, 0, 0, 1, 4, 2, 0, 1, 1, 0, 1, 1, 3, 0, 2, 3, 1, 3, 2, 4, 2, 1, 4, 1, 2, 1, 0, 1, 4, 2, 1, 0, 2, 2, 2, 1, 0, 2, 1, 0, 3, 0, 3, 1, 3, 1, 2, 4, 1, 0, 1, 3, 1, 1, 2, 2, 2, 1, 2, 2, 2, 1, 1, 0, 2, 1, 1, 3, 0, 1, 1, 2, 1, 3, 1, 1, 0, 1, 1, 2, 0, 2, 2, 2, 1, 2, 0, 0, 1, 1, 1, 0, 2, 3, 0, 2, 2, 2, 2, 1, 0, 1, 2, 0, 1, 1, 1, 4, 0, 1, 0, 1, 1, 2, 1, 1, 1, 1, 2, 4, 0, 0, 2, 0, 3, 2, 2, 1, 1, 0, 0, 0, 1, 2, 1, 1, 3, 2, 2, 1, 1, 0, 2, 1, 3, 1, 1, 1, 0, 1, 3, 1, 3, 2, 1, 4, 1, 1, 1, 1, 2, 1, 0, 1, 2, 1, 2, 0, 5, 4, 2, 2, 1, 1, 2, 2, 0, 3, 5, 2, 1, 2, 3, 3, 2, 3, 2, 2, 1, 1, 3, 0, 2, 2, 2, 1, 2, 1, 3, 3, 2, 0, 3, 5, 0, 3, 2, 2, 1, 0, 1, 2, 1, 1, 0, 2, 1, 1, 4, 0, 2, 1, 3, 6, 1, 1, 1, 1, 1, 3, 2, 1, 1, 1, 0, 0, 1, 0, 2, 1, 2, 3, 2, 2, 1, 0, 3, 2, 2, 0, 3, 1, 2, 1, 3, 0, 1, 1, 0, 1, 2, 2, 1, 1, 2, 1, 3, 2, 1, 1, 0, 5, 0, 4, 2, 0, 0, 2, 1, 1, 1, 0, 0, 2, 1, 3, 2, 2, 1, 2, 1, 2, 1, 3, 2, 1, 1, 1, 3, 0, 3, 1, 0, 3, 4, 2, 1, 1, 2, 2, 1, 1, 2, 3, 1, 0, 2, 2, 2, 3, 0, 1, 1, 1, 2, 1, 1, 2, 3, 2, 4, 1, 1, 1, 2, 2, 3, 1, 1, 2, 1, 1, 2, 1, 1, 3, 3, 0, 1, 2, 1, 1, 1, 1, 1, 2, 1, 2, 4, 3, 2, 1, 1, 1, 2, 2, 4, 2, 2, 2, 2, 1, 1, 1, 3, 1, 3, 1, 0, 0, 1, 1, 1, 2, 4, 2, 0, 1, 0, 3, 0, 3, 1, 3, 1, 3, 2, 2, 4, 0, 2, 1, 2, 0, 2, 1, 1, 0, 3, 2, 1, 4, 2, 0, 0, 1, 3, 0, 4, 1, 0, 2, 2, 1, 0, 1, 1, 2, 1, 2, 4, 1, 1, 1, 1, 0, 0, 1, 0, 3, 2, 2, 1, 2, 2, 0, 0, 3, 2, 1, 2, 1, 2, 2, 2, 1, 3, 2, 2, 2, 1, 3, 0, 0, 2, 1, 1, 2, 1, 0, 1, 3, 0, 3, 2, 2, 1, 2, 1, 1, 3, 1, 2, 1, 4, 0, 1, 2, 3, 3, 2, 3, 2, 3, 0, 2, 0, 1, 2, 2, 1, 1, 0, 0, 1, 0, 1, 0, 1, 1, 0, 2, 0, 0, 0, 1, 0, 1, 1, 2, 2, 0, 1, 0, 2, 2, 0, 2, 1, 3, 1, 3, 2, 1, 4, 3, 0, 1, 4, 2, 1, 3, 1, 2, 2, 3, 3, 0, 1, 1, 3, 2, 2, 2, 1, 1, 1, 3, 0, 3, 2, 2, 1, 1, 3, 2, 0, 0, 1, 0, 1, 2, 0, 1, 1, 1, 1, 1, 1, 2, 1, 0, 3, 1, 2, 1, 0, 2, 2, 2, 1, 2, 1, 4, 2, 3, 0, 3, 1, 1, 2, 1, 1, 2, 0, 1, 2, 2, 3, 3, 4, 2, 1, 3, 2, 4, 2, 2, 2, 1, 4, 1, 0, 0, 0, 3, 1, 2, 1, 1, 0, 2, 0, 1, 0, 1, 1, 1, 3, 1, 1, 0, 1, 1, 3, 0, 2, 0, 0, 2, 2, 3, 0, 2, 0, 1, 3, 0, 1, 2, 1, 0, 1, 3, 0, 2, 2, 1, 0, 2, 1, 2, 1, 2, 1, 1, 2, 3, 2, 0, 3, 1, 1, 1, 0, 0, 1, 0, 2, 0, 1, 0, 1, 0, 2, 2, 1, 3, 1, 1, 0, 2, 3, 0, 2, 0, 2, 3, 1, 1, 2, 1, 0, 4, 0, 0, 0, 2, 2, 1, 2, 0, 1, 1, 1, 1, 0, 1, 0, 2, 1, 2, 0, 1, 1, 0, 2, 2, 0, 0, 0, 1, 3, 4, 3, 0, 1, 0, 2, 3, 1, 2, 2, 1, 3, 4, 2, 1, 1, 2, 1, 1, 1, 4, 1, 2, 4, 1, 1, 1, 2, 0, 2, 0, 2, 2, 1, 2, 0, 2, 0, 1, 0, 1, 1, 2, 1, 4, 2, 1, 1, 0, 2, 2, 1, 1, 2, 2, 0, 0, 3, 0, 1, 4, 0, 0, 2, 4, 3, 0, 0, 0, 0, 1, 1, 3, 1, 3, 1, 1, 1, 1, 0, 2, 0, 2, 1, 3, 2, 2, 2, 3, 2, 1, 2, 2, 0, 2, 1, 1, 1, 0, 1, 1, 1, 0, 1, 0, 1, 3, 4, 1, 2, 2, 3, 2, 1, 0, 2, 1, 0, 0, 1, 0, 0, 1, 0, 3, 0, 0, 2, 0, 1, 4, 3, 1, 2, 2, 2, 2, 1, 1, 1, 0, 0, 0, 4, 2, 2, 0, 0, 0, 1, 3, 0, 2, 1, 0, 0, 2, 1, 2, 2, 0, 2, 1, 2, 1, 0, 2, 1, 2, 0, 0, 1, 3, 0, 3, 2, 1, 1, 2, 1, 1, 3, 3, 1, 1, 2, 1, 1, 1, 1, 2, 2, 1, 2, 1, 1, 1, 1, 2, 0, 1, 3, 0, 3, 1, 2, 2, 1, 2, 2, 2, 1, 2, 2, 1, 1, 3, 0, 1, 0, 0, 2, 0, 1, 1, 1, 2, 2, 0, 4, 1, 1, 1, 2, 1, 2, 2, 0, 0, 2, 1, 3, 2, 0, 0, 3, 2, 0, 1, 1, 2, 2, 2, 1, 3, 1, 0, 0, 2, 2, 2, 2, 1, 1, 1, 1, 2, 3, 1, 2, 0, 4, 1, 1, 2, 1, 0, 2, 0, 2, 1, 2, 0, 1, 2, 1, 2, 1, 2, 1, 0, 0, 3, 2, 0, 4, 1, 2, 3, 3, 2, 2, 1, 0, 1, 2, 1, 2, 4, 2, 1, 1, 1, 2, 1, 1, 1, 1, 3, 0, 1, 1, 3, 2, 0, 2, 0, 2, 1, 1, 1, 2, 1, 1, 0, 3, 1, 1, 1, 0, 2, 0, 0, 1, 0, 0, 2, 2, 2, 1, 3, 1, 3, 0, 1, 2, 2, 1, 4, 3, 3, 1, 0, 3, 3, 2, 0, 2, 1, 1, 1, 1, 2, 2, 0, 2, 1, 1, 3, 1, 1, 2, 2, 2, 0, 1, 0, 1, 1, 4, 2, 1, 1, 1, 3, 3, 2, 1, 1, 1, 1, 2, 1, 3, 0, 3, 1, 0, 0, 3, 2, 2, 3, 2, 2, 0, 1, 3, 1, 1, 2, 2, 1, 0, 1, 2, 0, 2, 2, 4, 1, 1, 0, 5, 2, 0, 1, 2, 3, 4, 0, 1, 1, 0, 1, 0, 3, 1, 4, 2, 1, 2, 1, 2, 2, 3, 0, 0, 3, 3, 2, 2, 0, 2, 1, 1, 3, 3, 4, 1, 0, 1, 1, 2, 1, 1, 1, 0, 1, 1, 0, 1, 2, 0, 3, 1, 4, 2, 2, 0, 2, 0, 1, 2, 3, 1, 0, 4, 2, 2, 1, 2, 3, 2, 2, 2, 0, 0, 1, 1, 1, 2, 2, 1, 1, 1, 1, 1, 2, 3, 2, 2, 5, 0, 3, 1, 0, 1, 3, 0, 3, 3, 2, 3, 1, 2, 1, 1, 2, 1, 3, 3, 1, 1, 1, 2, 3, 1, 2, 1, 0, 1, 0, 3, 0, 0, 2, 0, 1, 1, 2, 4, 1, 3, 1, 2, 3, 1, 4, 1, 1, 1, 0, 2, 1, 1, 0, 0, 3, 1, 2, 1, 3, 2, 1, 3, 0, 3, 2, 1, 1, 2, 0, 2, 3, 3, 1, 1, 2, 2, 2, 3, 2, 2, 1, 1, 1, 4, 1, 3, 1, 2, 2, 2, 1, 2, 2, 2, 2, 4, 2, 0, 0, 2, 0, 1, 0, 4, 3, 3, 1, 1, 2, 1, 1, 1, 4, 1, 1, 1, 0, 1, 2, 2, 1, 2, 2, 3, 1, 1, 0, 2, 1, 0, 0, 1, 2, 2, 0, 1, 1, 1, 3, 4, 0, 0, 1, 1, 2, 2, 1, 0, 2, 2, 2, 2, 3, 3, 0, 1, 2, 1, 0, 1, 1, 3, 1, 0, 3, 2, 2, 2, 1, 0, 3, 1, 2, 2, 2, 2, 1, 0, 1, 1, 2, 3, 2, 2, 1, 3, 4, 1, 1, 2, 1, 4, 2, 2, 2, 1, 1, 1, 2, 0, 2, 2, 2, 2, 1, 1, 4, 0, 0, 1, 2, 0, 2, 0, 1, 4, 2, 3, 1, 0, 1, 3, 2, 2, 2, 1, 1, 1, 0, 2, 1, 1, 1, 2, 2, 1, 2, 3, 0, 1, 1, 4, 3, 3, 3, 3, 3, 1, 0, 3, 1, 2, 2, 2, 3, 2, 2, 1, 3, 0, 3, 2, 2, 2, 2, 1, 3, 0, 1, 5, 3, 3, 1, 1, 0, 1, 2, 0, 3, 0, 1, 0, 1, 4, 1, 2, 2, 1, 1, 1, 0, 1, 3, 0, 3, 2, 1, 1, 3, 0, 0, 0, 3, 3, 1, 0, 2, 0, 0, 1, 0, 1, 1, 1, 2, 1, 2, 2, 3, 0, 1, 0, 1, 1, 2, 0, 2, 3, 0, 3, 2, 0, 0, 3, 2, 2, 2, 0, 1, 0, 0, 0, 0, 1, 1, 1, 0, 1, 2, 2, 0, 3, 0, 1, 1, 2, 1, 1, 0, 0, 2, 1, 0, 2, 0, 1, 2, 1, 0, 1, 0, 1, 2, 0, 2, 2, 2, 4, 1, 3, 0, 0, 3, 2, 1, 1, 0, 1, 0, 2, 2, 0, 2, 3, 0, 3, 0, 0, 1, 4, 1, 2, 0, 1, 1, 0, 0, 2, 1, 3, 1, 2, 0, 0, 1, 3, 2, 1, 2, 0, 0, 3, 3, 3, 3, 0, 1, 1, 1, 1, 0, 2, 3, 0, 1, 3, 0, 1, 3, 1, 0, 1, 2, 0, 3, 2, 0, 2, 2, 1, 0, 1, 0, 1, 2, 1, 5, 1, 1, 2, 0, 1, 2, 1, 1, 1, 1, 1, 2, 3, 3, 2, 0, 2, 2, 2, 1, 1, 0, 3, 1, 0, 1, 2, 1, 3, 0, 1, 1, 3, 3, 0, 4, 1, 0, 2, 2, 1, 3, 1, 0, 2, 2, 1, 2, 2, 1, 1, 3, 3, 2, 0, 0, 1, 0, 2, 2, 0, 3, 2, 0, 1, 2, 3, 4, 0, 3, 1, 1, 1, 2, 2, 1, 3, 0, 2, 2, 2, 1, 1, 2, 1, 1, 1, 1, 0, 1, 2, 1, 1, 2, 2, 1, 4, 2, 0, 2, 0, 0, 1, 2, 1, 2, 2, 0, 2, 0, 2, 2, 0, 0, 2, 1, 1, 0, 1, 2, 1, 2, 0, 0, 3, 3, 1, 2, 0, 0, 0, 0, 2, 3, 1, 3, 1, 1, 2, 0, 2, 3, 1, 3, 1, 2, 1, 2, 2, 1, 3, 1, 1, 3, 0, 2, 2, 0, 1, 2, 2, 1, 0, 3, 1, 2, 2, 2, 1, 3, 1, 0, 1, 2, 2, 1, 0, 1, 4, 3, 0, 1, 2, 2, 2, 0, 0, 1, 1, 1, 2, 1, 0, 2, 3, 3, 2, 3, 2, 4, 2, 0, 5, 0, 2, 2, 1, 1, 1, 4, 1, 1, 0, 1, 2, 1, 2, 0, 1, 0, 2, 4, 1, 0, 1, 0, 1, 2, 2, 2, 2, 3, 1, 1, 1, 0, 1, 0, 1, 1, 1, 2, 2, 4, 1, 2, 1, 1, 0, 0, 1, 2, 2, 3, 1, 2, 1, 0, 0, 1, 1, 2, 1, 0, 0, 0, 0, 1, 1, 3, 0, 1, 2, 2, 0, 2, 2, 2, 4, 1, 1, 0, 3, 1, 5, 4, 0, 1, 1, 1, 2, 2, 5, 1, 1, 2, 3, 3, 0, 0, 1, 2, 2, 0, 2, 1, 1, 1, 2, 1, 1, 0, 0, 1, 2, 0, 2, 1, 2, 1, 3, 1, 0, 1, 2, 1, 2, 2, 0, 2, 2, 1, 0, 2, 1, 1, 2, 3, 2, 1, 1, 2, 3, 2, 2, 2, 1, 3, 1, 3, 1, 0, 0, 1, 1, 0, 3, 4, 2, 0, 1, 1, 3, 1, 2, 3, 2, 1, 2, 1, 1, 1, 3, 0, 0, 2, 2, 1, 2, 1, 3, 1, 2, 3, 1, 2, 0, 1, 4, 1, 3, 1, 1, 2, 1, 3, 2, 2, 3, 2, 2, 0, 2, 2, 0, 0, 1, 1, 1, 3, 2, 2, 2, 1, 2, 1, 3, 2, 1, 1, 3, 1, 2, 0, 1, 1, 1, 0, 3, 2, 2, 1, 2, 1, 1, 4, 0, 0, 2, 1, 2, 0, 2, 0, 3, 2, 0, 1, 0, 2, 2, 0, 4, 2, 3, 2, 2, 3, 1, 1, 3, 0, 3, 0, 1, 2, 1, 4, 1, 2, 1, 1, 1, 3, 1, 0, 1, 1, 1, 1, 2, 3, 0, 1, 2, 1, 3, 5, 2, 0, 0, 2, 2, 3, 2, 3, 2, 3, 1, 2, 1, 0, 2, 0, 2, 1, 1, 0, 0, 0, 3, 3, 2, 1, 1, 0, 1, 3, 5, 1, 1, 3, 0, 2, 2, 3, 3, 1, 0, 0, 2, 1, 3, 0, 1, 0, 3, 2, 2, 0, 1, 2, 1, 2, 1, 2, 2, 0, 1, 2, 1, 1, 3, 1, 3, 0, 1, 1, 2, 2, 1, 0, 2, 1, 2, 0, 1, 2, 3, 2, 1, 1, 0, 3, 2, 1, 2, 3, 4, 1, 2, 2, 0, 0, 2, 2, 1, 1, 2, 1, 2, 3, 3, 3, 2, 0, 2, 1, 0, 3, 1, 1, 1, 2, 2, 3, 0, 1, 1, 1, 0, 4, 3, 4, 2, 2, 0, 2, 3, 0, 2, 2, 0, 2, 2, 2, 2, 3, 0, 3, 2, 3, 3, 1, 1, 2, 1, 2, 0, 2, 1, 1, 1, 1, 2, 3, 4, 0, 3, 1, 3, 5, 4, 3, 1, 1, 2, 2, 2, 2, 2, 3, 1, 2, 3, 0, 1, 0, 2, 1, 2, 1, 3, 3, 1, 0, 1, 1, 1, 2, 2, 1, 0, 3, 3, 3, 0, 2, 5, 3, 3, 1, 4, 2, 0, 3, 3, 2, 1, 2, 2, 1, 0, 2, 1, 1, 1, 0, 3, 1, 1, 1, 3, 1, 1, 1, 1, 3, 2, 0, 2, 0, 1, 0, 2, 1, 3, 1, 2, 2, 1, 3, 3, 0, 0, 2, 0, 1, 4, 1, 2, 2, 0, 1, 2, 1, 1, 1, 1, 2, 1, 2, 4, 0, 3, 0, 2, 2, 0, 3, 3, 2, 1, 2, 1, 1, 1, 1, 3, 2, 2, 0, 0, 1, 4, 2, 3, 3, 1, 1, 2, 2, 0, 3, 0, 1, 1, 0, 0, 1, 3, 1, 4, 3, 4, 2, 4, 0, 2, 1, 4, 1, 1, 0, 2, 2, 0, 3, 1, 1, 2, 0, 2, 0, 3, 0, 2, 3, 3, 2, 2, 0, 1, 1, 0, 2, 1, 3, 0, 3, 0, 3, 2, 1, 1, 4, 1, 1, 0, 1, 0, 0, 3, 1, 2, 1, 2, 0, 1, 4, 1, 2, 0, 1, 1, 1, 2, 1, 2, 1, 1, 1, 1, 3, 2, 1, 2, 1, 1, 1, 1, 2, 0, 2, 0, 2, 1, 1, 2, 3, 0, 0, 3, 0, 1, 4, 4, 2, 2, 0, 1, 1, 2, 1, 0, 1, 1, 0, 0, 1, 0, 3, 2, 4, 2, 2, 1, 0, 0, 2, 2, 2, 4, 0, 2, 2, 3, 1, 1, 1, 1, 2, 0, 3, 0, 2, 0, 0, 1, 1, 3, 0, 2, 1, 1, 3, 3, 2, 1, 2, 1, 0, 0, 3, 2, 0, 1, 2, 2, 2, 2, 2, 1, 3, 2, 0, 1, 2, 0, 1, 3, 2, 2, 1, 3, 2, 2, 2, 1, 2, 0, 1, 4, 2, 1, 1, 3, 0, 0, 0, 1, 0, 2, 1, 1, 0, 3, 1, 2, 2, 1, 2, 3, 1, 2, 1, 1, 1, 0, 3, 2, 2, 1, 0, 1, 0, 2, 2, 4, 3, 0, 5, 1, 3, 3, 3, 2, 2, 0, 0, 0, 1, 0, 2, 2, 0, 3, 2, 2, 1, 3, 2, 0, 1, 2, 0, 2, 2, 0, 1, 1, 1, 1, 1, 1, 2, 2, 0, 3, 3, 2, 3, 1, 1, 2, 1, 0, 3, 1, 1, 1, 1, 2, 1, 2, 0, 2, 3, 2, 1, 0, 2, 1, 0, 2, 3, 1, 0, 1, 3, 2, 1, 2, 1, 0, 1, 1, 1, 3, 2, 0, 2, 1, 1, 0, 1, 2, 1, 4, 2, 2, 2, 2, 2, 2, 0, 0, 2, 3, 2, 1, 3, 1, 1, 0, 3, 0, 3, 3, 0, 1, 0, 1, 1, 1, 1, 2, 2, 0, 2, 0, 1, 2, 2, 3, 1, 3, 0, 1, 2, 2, 2, 1, 0, 0, 3, 1, 3, 2, 1, 3, 2, 2, 1, 1, 0, 2, 2, 1, 2, 1, 3, 3, 1, 2, 3, 1, 3, 3, 2, 0, 1, 0, 0, 0, 4, 0, 2, 0, 2, 1, 0, 2, 1, 2, 1, 2, 4, 1, 2, 3, 2, 5, 2, 3, 0, 1, 2, 2, 0, 0, 2, 2, 2, 3, 1, 1, 0, 4, 3, 1, 2, 1, 1, 1, 4, 2, 2, 0, 1, 0, 2, 1, 1, 2, 2, 2, 3, 3, 1, 2, 3, 0, 1, 1, 1, 1, 1, 1, 0, 1, 0, 2, 1, 3, 0, 1, 1, 3, 1, 0, 0, 2, 1, 1, 1, 2, 0, 2, 1, 3, 2, 2, 3, 1, 2, 0, 4, 0, 0, 0, 1, 2, 3, 1, 1, 1, 2, 2, 1, 0, 2, 1, 3, 0, 1, 2, 2, 3, 0, 4, 1, 2, 3, 0, 0, 2, 0, 2, 0, 0, 1, 1, 2, 2, 1, 1, 1, 2, 2, 1, 2, 3, 2, 0, 1, 1, 1, 2, 0, 3, 3, 2, 3, 2, 1, 2, 0, 3, 2, 1, 2, 2, 2, 3, 4, 3, 3, 0, 3, 2, 3, 3, 0, 1, 1, 1, 3, 3, 1, 2, 2, 1, 3, 5, 0, 2, 2, 2, 2, 3, 1, 2, 1, 1, 3, 1, 1, 1, 1, 2, 0, 3, 3, 1, 0, 2, 3, 3, 2, 2, 3, 2, 0, 3, 1, 0, 2, 1, 0, 3, 2, 2, 2, 2, 1, 2, 2, 1, 1, 1, 2, 4, 4, 1, 2, 2, 1, 1, 0, 1, 2, 1, 2, 1, 2, 3, 2, 4, 1, 1, 0, 1, 3, 1, 1, 2, 0, 1, 1, 1, 1, 2, 2, 1, 1, 2, 0, 3, 2, 0, 0, 1, 2, 1, 1, 2, 3, 2, 0, 3, 1, 1, 0, 1, 0, 2, 2, 1, 3, 2, 2, 2, 2, 4, 1, 0, 3, 0, 1, 1, 0, 0, 0, 2, 2, 1, 2, 2, 2, 1, 3, 1, 2, 1, 3, 4, 3, 3, 1, 2, 2, 3, 3, 1, 1, 4, 3, 2, 3, 1, 1, 2, 2, 3, 2, 1, 1, 1, 4, 3, 1, 3, 3, 2, 3, 2, 0, 0, 3, 0, 1, 0, 1, 2, 2, 1, 1, 0, 2, 0, 2, 1, 1, 1, 2, 1, 4, 1, 1, 0, 1, 2, 3, 2, 1, 1, 2, 2, 0, 2, 0, 0, 2, 3, 3, 4, 1, 2, 0, 2, 3, 2, 1, 0, 1, 3, 3, 1, 1, 2, 1, 3, 4, 0, 0, 1, 1, 1, 2, 0, 2, 0, 3, 2, 4, 2, 1, 2, 1, 1, 2, 0, 1, 4, 2, 0, 1, 3, 2, 1, 2, 0, 2, 2, 2, 1, 0, 1, 1, 3, 1, 0, 2, 2, 2, 2, 0, 2, 2, 1, 1, 0, 2, 2, 0, 2, 1, 1, 2, 1, 2, 3, 0, 2, 2, 0, 2, 1, 0, 0, 5, 0, 0, 2, 0, 2, 1, 0, 2, 2, 1, 0, 0, 1, 3, 3, 2, 2, 1, 2, 3, 1, 3, 1, 1, 0, 3, 0, 2, 2, 0, 3, 1, 2, 1, 1, 2, 2, 2, 3, 0, 1, 1, 2, 0, 1, 3, 1, 3, 0, 0, 3, 1, 1, 2, 2, 2, 0, 3, 1, 1, 1, 3, 1, 3, 4, 1, 1, 2, 3, 4, 0, 2, 2, 0, 1, 0, 0, 2, 1, 1, 1, 2, 1, 3, 1, 1, 2, 1, 1, 2, 1, 1, 1, 1, 2, 4, 5, 2, 2, 2, 1, 4, 2, 0, 2, 2, 2, 0, 1, 1, 2, 0, 2, 3, 2, 1, 2, 0, 0, 1, 1, 1, 2, 2, 1, 0, 4, 3, 0, 1, 1, 1, 2, 1, 2, 1, 2, 2, 1, 3, 1, 1, 1, 1, 3, 1, 1, 2, 1, 1, 1, 1, 2, 0, 2, 1, 1, 3, 0, 2, 2, 3, 1, 2, 1, 0, 3, 1, 2, 0, 2, 2, 2, 0, 2, 0, 2, 4, 1, 2, 0, 1, 1, 3, 1, 2, 2, 0, 2, 3, 0, 2, 0, 1, 2, 1, 0, 2, 2, 3, 1, 1, 1, 1, 2, 3, 1, 1, 1, 1, 2, 1, 3, 2, 1, 1, 2, 3, 1, 3, 4, 1, 2, 1, 4, 4, 3, 1, 1, 1, 1, 1, 1, 2, 0, 2, 1, 1, 0, 1, 2, 2, 0, 1, 1, 1, 1, 2, 2, 1, 1, 2, 0, 2, 1, 3, 3, 0, 1, 3, 1, 3, 2, 2, 0, 0, 0, 1, 0, 3, 2, 1, 2, 4, 0, 4, 1, 2, 4, 1, 1, 1, 1, 5, 5, 2, 4, 3, 2, 3, 2, 0, 2, 1, 3, 1, 1, 4, 1, 3, 1, 2, 1, 1, 2, 0, 1, 2, 1, 2, 3, 1, 3, 2, 0, 3, 1, 0, 2, 1, 3, 1, 2, 3, 3, 1, 1, 2, 1, 4, 1, 3, 2, 3, 1, 1, 0, 1, 0, 2, 0, 0, 1, 3, 0, 1, 0, 1, 2, 4, 4, 0, 2, 0, 3, 1, 0, 2, 3, 1, 3, 0, 1, 2, 3, 1, 1, 3, 2, 0, 1, 0, 3, 2, 2, 1, 1, 1, 0, 3, 2, 1, 3, 2, 4, 0, 0, 1, 0, 2, 0, 3, 2, 3, 0, 3, 2, 0, 1, 2, 1, 0, 1, 0, 2, 4, 0, 3, 3, 4, 1, 1, 0, 0, 1, 3, 3, 0, 1, 2, 1, 1, 1, 1, 1, 2, 0, 1, 0, 1, 2, 1, 2, 3, 3, 1, 0, 4, 0, 3, 0, 3, 3, 0, 1, 1, 1, 1, 2, 3, 1, 2, 1, 3, 3, 0, 2, 0, 1, 1, 1, 1, 2, 0, 1, 1, 1, 1, 3, 0, 1, 0, 1, 0, 2, 0, 1, 2, 2, 1, 2, 1, 0, 2, 0, 4, 1, 1, 2, 2, 3, 1, 2, 1, 2, 4, 0, 2, 3, 3, 0, 2, 0, 2, 1, 0, 2, 1, 0, 1, 3, 1, 0, 2, 0, 2, 3, 1, 3, 1, 1, 2, 2, 2, 1, 0, 4, 2, 3, 3, 1, 0, 2, 3, 2, 2, 1, 3, 4, 1, 1, 3, 2, 3, 1, 0, 0, 1, 0, 1, 3, 3, 0, 0, 1, 2, 2, 2, 2, 2, 2, 0, 2, 0, 2, 3, 1, 1, 0, 1, 1, 2, 1, 2, 3, 3, 1, 1, 3, 5, 1, 1, 0, 4, 1, 1, 1, 1, 2, 1, 3, 0, 0, 1, 1, 3, 1, 3, 2, 1, 2, 4, 2, 2, 2, 2, 1, 1, 2, 1, 1, 1, 2, 0, 1, 3, 1, 2, 1, 2, 2, 0, 3, 1, 3, 2, 3, 1, 2, 1, 2, 2, 1, 4, 1, 0, 2, 2, 2, 1, 0, 0, 0, 2, 3, 0, 1, 3, 1, 0, 0, 2, 0, 3, 2, 1, 0, 3, 1, 2, 2, 1, 1, 1, 1, 2, 1, 3, 1, 2, 1, 2, 2, 1, 3, 2, 0, 0, 1, 1, 0, 0, 2, 2, 3, 0, 3, 1, 1, 2, 1, 0, 0, 0, 0, 1, 1, 2, 4, 2, 3, 0, 4, 3, 1, 2, 1, 2, 2, 2, 3, 2, 1, 3, 1, 2, 1, 3, 3, 1, 2, 1, 3, 3, 2, 3, 1, 1, 0, 2, 0, 1, 5, 1, 4, 0, 1, 1, 0, 3, 0, 3, 1, 2, 3, 1, 1, 2, 1, 2, 0, 2, 0, 2, 2, 1, 2, 2, 0, 2, 2, 2, 1, 2, 2, 1, 1, 1, 4, 0, 0, 0, 1, 1, 1, 0, 2, 2, 2, 2, 0, 1, 2, 2, 1, 3, 1, 1, 1, 1, 1, 3, 3, 3, 0, 2, 2, 1, 1, 2, 4, 2, 2, 0, 0, 2, 1, 0, 2, 1, 3, 3, 1, 0, 3, 0, 3, 0, 3, 2, 0, 2, 3, 1, 4, 1, 0, 0, 1, 1, 2, 2, 1, 3, 1, 2, 0, 1, 0, 5, 1, 4, 1, 4, 1, 3, 3, 1, 0, 0, 2, 0, 2, 2, 0, 3, 3, 0, 0, 1, 1, 1, 1, 3, 2, 1, 0, 3, 2, 3, 1, 1, 1, 1, 1, 1, 1, 1, 0, 2, 0, 0, 2, 1, 1, 2, 2, 2, 2, 1, 1, 1, 2, 2, 0, 0, 2, 1, 1, 0, 1, 3, 2, 4, 2, 2, 2, 0, 1, 2, 1, 4, 2, 2, 2, 3, 2, 2, 3, 3, 1, 2, 1, 2, 0, 0, 2, 4, 2, 1, 2, 1, 2, 4, 4, 1, 1, 2, 1, 0, 2, 3, 2, 3, 4, 1, 2, 1, 1, 2, 1, 4, 3, 1, 0, 2, 2, 1, 4, 2, 3, 3, 0, 3, 1, 0, 1, 0, 2, 3, 0, 0, 1, 1, 1, 0, 3, 1, 2, 2, 1, 0, 3, 2, 1, 4, 2, 1, 1, 1, 2, 1, 3, 4, 2, 4, 0, 1, 1, 1, 1, 1, 4, 2, 2, 0, 2, 1, 0, 1, 0, 0, 1, 0, 0, 2, 3, 2, 3, 1, 2, 1, 2, 1, 1, 2, 1, 2, 2, 0, 3, 2, 2, 2, 0, 1, 2, 3, 3, 1, 0, 3, 2, 3, 0, 2, 3, 5, 2, 3, 1, 2, 1, 1, 1, 0, 1, 1, 0, 1, 0, 4, 1, 2, 0, 1, 4, 2, 3, 1, 2, 1, 3, 4, 2, 0, 1, 1, 1, 4, 3, 1, 1, 1, 1, 3, 3, 1, 1, 1, 2, 1, 3, 1, 3, 3, 0, 2, 2, 0, 4, 1, 1, 1, 0, 3, 1, 0, 0, 2, 2, 0, 0, 1, 1, 2, 3, 1, 1, 3, 1, 2, 1, 0, 3, 0, 4, 3, 1, 1, 0, 0, 1, 2, 1, 1, 1, 1, 2, 1, 3, 3, 3, 2, 1, 0, 0, 0, 2, 1, 2, 2, 1, 5, 4, 1, 2, 0, 1, 0, 3, 0, 1, 0, 2, 1, 2, 3, 0, 2, 2, 1, 2, 0, 4, 1, 1, 1, 0, 0, 2, 2, 1, 0, 2, 2, 2, 0, 1, 3, 0, 2, 1, 4, 1, 0, 2, 3, 0, 1, 1, 1, 2, 0, 2, 0, 1, 0, 1, 1, 1, 3, 2, 1, 0, 2, 3, 4, 0, 3, 2, 0, 3, 1, 0, 0, 0, 1, 2, 4, 3, 2, 0, 1, 0, 1, 1, 3, 1, 1, 0, 1, 3, 1, 1, 3, 0, 1, 1, 4, 3, 3, 3, 1, 1, 1, 2, 2, 1, 2, 2, 1, 1, 2, 1, 4, 2, 2, 1, 2, 0, 1, 1, 4, 1, 0, 0, 2, 0, 3, 0, 3, 1, 1, 0, 1, 0, 1, 2, 0, 1, 2, 1, 1, 3, 2, 2, 2, 3, 2, 3, 2, 0, 1, 3, 3, 3, 1, 2, 1, 2, 1, 1, 3, 0, 0, 3, 2, 0, 0, 1, 4, 2, 1, 2, 2, 1, 2, 2, 2, 2, 4, 2, 0, 0, 0, 1, 1, 3, 1, 0, 2, 3, 1, 3, 1, 3, 1, 0, 1, 1, 1, 1, 1, 1, 2, 0, 3, 2, 1, 1, 1, 1, 1, 0, 2, 1, 2, 1, 2, 1, 1, 1, 3, 5, 2, 2, 4, 1, 1, 4, 2, 2, 1, 3, 2, 2, 0, 2, 0, 2, 2, 2, 3, 2, 0, 0, 2, 2, 2, 1, 3, 2, 2, 3, 3, 0, 4, 0, 1, 1, 3, 1, 1, 1, 2, 0, 0, 1, 1, 2, 4, 2, 2, 1, 1, 1, 1, 2, 1, 3, 2, 0, 0, 4, 2, 1, 0, 0, 2, 2, 1, 1, 1, 3, 1, 1, 1, 0, 2, 2, 1, 2, 4, 1, 2, 1, 1, 2, 0, 1, 0, 0, 1, 1, 3, 1, 2, 3, 1, 5, 1, 0, 0, 0, 1, 2, 3, 2, 3, 3, 1, 2, 2, 0, 2, 3, 2, 1, 2, 1, 2, 3, 1, 0, 1, 2, 3, 1, 2, 3, 3, 2, 2, 4, 4, 1, 2, 4, 1, 0, 1, 1, 2, 0, 0, 3, 2, 0, 3, 1, 2, 3, 2, 0, 2, 2, 3, 0, 2, 2, 2, 1, 4, 1, 2, 3, 1, 3, 1, 0, 1, 1, 2, 3, 4, 1, 0, 1, 3, 4, 2, 0, 1, 1, 3, 1, 2, 1, 2, 1, 1, 1, 1, 0, 0, 2, 1, 3, 1, 1, 1, 3, 2, 1, 2, 2, 0, 2, 1, 1, 0, 0, 0, 2, 1, 0, 0, 1, 1, 3, 2, 2, 1, 0, 2, 1, 2, 3, 1, 2, 1, 2, 1, 2, 2, 3, 0, 0, 1, 3, 0, 2, 1, 0, 2, 3, 1, 2, 3, 2, 1, 0, 2, 2, 0, 2, 0, 2, 2, 1, 3, 1, 1, 2, 2, 1, 1, 1, 4, 0, 2, 3, 1, 4, 2, 1, 1, 1, 2, 0, 0, 2, 0, 2, 0, 1, 1, 2, 3, 1, 0, 1, 2, 4, 2, 4, 2, 1, 4, 2, 0, 2, 2, 1, 2, 1, 2, 3, 1, 1, 0, 2, 0, 1, 3, 0, 4, 1, 3, 1, 2, 2, 1, 0, 0, 1, 1, 2, 2, 0, 0, 0, 2, 1, 2, 1, 0, 1, 1, 0, 1, 1, 1, 5, 1, 2, 2, 1, 3, 2, 0, 0, 2, 2, 0, 2, 3, 2, 2, 4, 2, 1, 1, 3, 1, 3, 1, 0, 0, 4, 2, 0, 0, 4, 0, 0, 1, 1, 2, 3, 1, 4, 2, 1, 1, 0, 3, 2, 2, 1, 3, 0, 1, 3, 3, 2, 3, 2, 0, 4, 1, 2, 0, 0, 2, 1, 2, 1, 1, 2, 2, 1, 3, 1, 1, 3, 0, 1, 6, 0, 1, 2, 2, 1, 0, 0, 1, 2, 3, 2, 1, 1, 4, 1, 1, 0, 2, 3, 2, 0, 2, 3, 2, 2, 0, 2, 3, 1, 3, 1, 0, 2, 0, 3, 1, 2, 1, 2, 0, 3, 2, 2, 2, 0, 0, 2, 0, 3, 2, 3, 1, 1, 2, 2, 0, 2, 0, 2, 3, 0, 3, 3, 2, 3, 2, 1, 3, 3, 3, 2, 3, 1, 0, 3, 3, 3, 1, 3, 1, 1, 2, 2, 1, 0, 3, 2, 0, 1, 0, 0, 1, 0, 2, 0, 1, 4, 2, 0, 3, 2, 2, 0, 1, 1, 2, 1, 2, 0, 0, 1, 3, 3, 2, 2, 2, 1, 2, 3, 4, 1, 1, 3, 2, 2, 1, 2, 4, 2, 1, 1, 0, 0, 1, 3, 0, 3, 1, 2, 5, 1, 1, 3, 2, 0, 1, 2, 2, 3, 1, 2, 2, 2, 2, 2, 1, 2, 2, 2, 2, 1, 2, 2, 1, 1, 1, 2, 2, 0, 2, 2, 0, 2, 1, 3, 4, 0, 5, 1, 3, 0, 2, 2, 3, 0, 4, 0, 2, 4, 1, 2, 1, 0, 2, 2, 3, 4, 1, 3, 0, 4, 2, 1, 0, 1, 1, 3, 3, 0, 2, 2, 1, 0, 1, 2, 3, 1, 1, 2, 0, 2, 2, 1, 2, 2, 0, 0, 1, 2, 0, 5, 1, 0, 4, 3, 2, 3, 1, 2, 2, 3, 0, 1, 0, 1, 3, 1, 1, 3, 2, 0, 1, 3, 2, 4, 1, 1, 1, 1, 0, 3, 2, 1, 2, 3, 3, 1, 1, 0, 4, 2, 1, 2, 2, 1, 0, 2, 3, 2, 3, 1, 1, 2, 2, 2, 3, 1, 3, 0, 1, 0, 0, 2, 3, 2, 3, 2, 0, 0, 1, 3, 3, 0, 1, 2, 3, 3, 2, 3, 2, 1, 1, 1, 2, 3, 0, 1, 0, 1, 3, 0, 1, 1, 2, 1, 3, 0, 2, 2, 1, 3, 0, 1, 2, 1, 0, 1, 2, 0, 0, 1, 0, 2, 1, 0, 0, 2, 2, 1, 2, 1, 1, 0, 1, 2, 0, 3, 1, 2, 2, 0, 1, 2, 1, 1, 1, 0, 1, 2, 0, 1, 1, 0, 3, 2, 2, 3, 3, 1, 2, 2, 4, 2, 2, 2, 2, 2, 0, 1, 2, 1, 3, 3, 0, 1, 2, 1, 1, 2, 1, 1, 2, 0, 0, 2, 2, 0, 1, 1, 2, 0, 2, 2, 4, 3, 0, 0, 1, 2, 0, 0, 3, 1, 2, 1, 3, 0, 1, 2, 1, 0, 4, 1, 1, 2, 2, 0, 1, 0, 2, 0, 4, 2, 1, 2, 1, 2, 2, 1, 1, 1, 1, 2, 1, 1, 1, 1, 2, 1, 1, 1, 1, 0, 3, 1, 0, 1, 2, 1, 1, 0, 1, 1, 0, 1, 1, 2, 0, 1, 3, 2, 1, 2, 2, 1, 1, 1, 2, 2, 0, 1, 1, 3, 2, 1, 3, 3, 3, 0, 3, 0, 3, 0, 0, 1, 3, 3, 2, 1, 2, 3, 2, 1, 0, 2, 0, 1, 1, 0, 1, 1, 1, 2, 3, 4, 0, 1, 1, 3, 0, 2, 2, 4, 2, 1, 1, 1, 0, 1, 1, 2, 3, 1, 1, 0, 0, 3, 1, 1, 1, 1, 0, 1, 2, 2, 1, 2, 2, 1, 0, 3, 1, 1, 1, 1, 1, 1, 2, 0, 1, 1, 0, 2, 4, 3, 0, 2, 1, 0, 3, 2, 2, 2, 3, 2, 1, 0, 3, 1, 4, 1, 1, 0, 1, 2, 3, 0, 1, 1, 1, 2, 2, 0, 1, 3, 0, 1, 0, 3, 2, 1, 1, 2, 3, 3, 2, 5, 1, 1, 1, 2, 0, 1, 2, 0, 1, 2, 1, 2, 0, 2, 0, 2, 2, 2, 3, 1, 0, 3, 0, 3, 3, 0, 3, 1, 2, 2, 0, 2, 0, 2, 1, 2, 1, 1, 0, 1, 3, 2, 2, 3, 1, 0, 1, 2, 2, 4, 0, 3, 2, 2, 2, 3, 3, 0, 1, 1, 1, 2, 3, 2, 1, 0, 1, 2, 1, 2, 0, 0, 1, 0, 3, 0, 1, 0, 0, 0, 1, 3, 2, 1, 2, 0, 1, 4, 0, 4, 1, 0, 3, 2, 2, 4, 1, 2, 2, 2, 1, 1, 2, 3, 0, 1, 0, 1, 3, 2, 0, 1, 1, 1, 0, 3, 1, 0, 2, 0, 1, 0, 0, 0, 3, 2, 1, 0, 3, 2, 1, 3, 3, 2, 4, 3, 2, 0, 2, 1, 1, 1, 0, 3, 3, 0, 1, 2, 2, 3, 1, 2, 3, 2, 3, 1, 2, 2, 0, 0, 1, 1, 2, 2, 1, 1, 1, 2, 0, 3, 2, 0, 3, 1, 1, 2, 2, 2, 2, 2, 1, 2, 1, 4, 2, 1, 3, 1, 0, 4, 3, 2, 1, 2, 4, 2, 4, 1, 1, 2, 2, 2, 2, 0, 0, 2, 0, 0, 0, 1, 1, 2, 0, 2, 3, 3, 0, 1, 0, 0, 3, 3, 1, 2, 0, 1, 1, 2, 0, 0, 1, 1, 1, 2, 0, 0, 1, 1, 1, 0, 3, 1, 0, 2, 1, 0, 2, 2, 2, 2, 1, 3, 3, 0, 0, 1, 1, 1, 1, 1, 2, 2, 3, 1, 3, 2, 0, 2, 1, 2, 3, 0, 2, 2, 2, 2, 0, 2, 1, 0, 4, 0, 3, 3, 0, 3, 1, 3, 0, 1, 2, 3, 0, 0, 0, 0, 2, 2, 1, 2, 3, 2, 2, 1, 3, 2, 1, 0, 0, 1, 1, 1, 0, 4, 2, 3, 3, 1, 1, 2, 1, 1, 3, 5, 0, 1, 2, 1, 2, 2, 1, 0, 2, 2, 0, 3, 1, 1, 1, 0, 1, 1, 1, 2, 1, 1, 3, 3, 2, 1, 3, 3, 3, 0, 3, 2, 2, 1, 3, 2, 0, 2, 4, 3, 0, 1, 3, 3, 2, 2, 3, 3, 1, 0, 2, 3, 3, 2, 0, 3, 2, 2, 0, 1, 2, 1, 1, 3, 2, 1, 2, 0, 1, 1, 2, 2, 0, 0, 1, 2, 2, 2, 1, 0, 0, 0, 2, 1, 1, 0, 3, 3, 3, 1, 2, 2, 2, 0, 0, 3, 1, 0, 1, 2, 2, 2, 2, 1, 1, 1, 0, 1, 1, 4, 4, 4, 2, 1, 1, 1, 2, 3, 1, 1, 0, 3, 1, 2, 3, 2, 2, 3, 0, 1, 3, 2, 1, 1, 2, 2, 1, 0, 2, 1, 3, 2, 1, 0, 2, 1, 2, 1, 3, 1, 1, 0, 2, 1, 1, 2, 0, 2, 3, 0, 2, 1, 2, 2, 3, 1, 2, 3, 0, 2, 2, 2, 1, 3, 0, 0, 3, 3, 1, 0, 3, 1, 0, 1, 1, 4, 2, 1, 1, 1, 1, 4, 0, 0, 2, 2, 2, 0, 2, 1, 2, 3, 0, 3, 3, 1, 2, 3, 1, 1, 3, 1, 1, 1, 4, 1, 0, 0, 3, 1, 2, 2, 0, 2, 1, 0, 3, 1, 2, 1, 0, 3, 0, 1, 0, 2, 3, 3, 2, 3, 1, 1, 1, 2, 2, 1, 2, 3, 2, 0, 2, 3, 2, 1, 1, 2, 2, 0, 1, 2, 1, 1, 1, 1, 3, 1, 1, 0, 2, 1, 2, 0, 1, 0, 1, 0, 1, 1, 1, 3, 1, 0, 0, 0, 1, 1, 0, 2, 1, 1, 2, 2, 1, 1, 2, 0, 2, 2, 1, 0, 0, 1, 4, 0, 1, 2, 2, 2, 2, 0, 1, 1, 1, 2, 2, 2, 2, 1, 3, 1, 0, 2, 1, 1, 2, 1, 3, 0, 0, 2, 0, 1, 0, 0, 3, 0, 1, 1, 2, 2, 0, 0, 2, 2, 1, 2, 3, 4, 0, 0, 0, 2, 1, 4, 2, 2, 1, 1, 3, 1, 2, 3, 4, 2, 3, 1, 1, 2, 3, 1, 1, 3, 1, 2, 1, 3, 3, 2, 1, 0, 5, 3, 1, 0, 2, 3, 2, 1, 0, 3, 0, 3, 0, 2, 1, 1, 3, 0, 1, 3, 2, 3, 0, 1, 2, 1, 2, 2, 2, 2, 1, 2, 3, 2, 2, 2, 1, 2, 2, 2, 1, 1, 0, 2, 1, 2, 1, 1, 3, 3, 2, 1, 1, 1, 2, 2, 3, 0, 3, 0, 3, 1, 0, 0, 0, 2, 2, 1, 2, 2, 2, 1, 2, 3, 4, 1, 3, 3, 0, 3, 1, 1, 2, 2, 2, 3, 3, 0, 0, 1, 2, 1, 2, 1, 0, 1, 0, 3, 1, 1, 1, 2, 3, 2, 2, 1, 4, 1, 2, 2, 1, 1, 1, 1, 1, 2, 1, 3, 1, 2, 1, 4, 0, 1, 0, 2, 1, 1, 2, 2, 1, 2, 3, 2, 3, 1, 1, 2, 3, 0, 2, 1, 0, 0, 4, 2, 1, 1, 2, 1, 1, 1, 3, 3, 3, 2, 2, 2, 2, 2, 2, 1, 1, 0, 0, 0, 2, 2, 0, 1, 3, 2, 1, 1, 2, 1, 1, 3, 2, 0, 2, 2, 2, 2, 3, 3, 0, 1, 2, 0, 5, 1, 2, 2, 3, 1, 2, 1, 0, 3, 3, 0, 2, 1, 1, 1, 1, 3, 3, 1, 1, 1, 1, 2, 2, 1, 2, 1, 3, 3, 4, 1, 0, 2, 2, 0, 0, 1, 4, 0, 1, 1, 2, 2, 2, 0, 3, 1, 2, 2, 3, 2, 0, 0, 1, 2, 1, 2, 1, 0, 1, 0, 1, 2, 0, 3, 3, 1, 1, 1, 1, 4, 1, 2, 2, 1, 2, 3, 4, 0, 1, 2, 1, 2, 1, 1, 0, 3, 1, 1, 1, 2, 2, 2, 2, 0, 3, 0, 4, 1, 1, 2, 0, 4, 2, 2, 2, 4, 1, 0, 2, 1, 2, 2, 2, 2, 2, 2, 1, 0, 2, 1, 1, 6, 4, 2, 2, 1, 3, 2, 2, 2, 3, 3, 4, 1, 3, 2, 2, 3, 3, 2, 0, 2, 2, 4, 3, 2, 1, 2, 3, 2, 1, 1, 2, 3, 1, 3, 4, 2, 2, 1, 2, 1, 2, 1, 2, 3, 1, 2, 1, 2, 1, 2, 3, 3, 1, 2, 2, 3, 1, 2, 2, 1, 0, 2, 0, 2, 3, 0, 1, 2, 0, 0, 1, 2, 2, 2, 1, 3, 2, 1, 1, 3, 1, 2, 4, 3, 1, 2, 2, 3, 2, 2, 1, 3, 0, 0, 2, 2, 2, 2, 0, 1, 2, 3, 0, 0, 3, 3, 2, 1, 1, 3, 0, 1, 1, 1, 3, 0, 3, 3, 3, 3, 1, 1, 4, 1, 2, 2, 2, 2, 0, 4, 2, 1, 0, 1, 0, 0, 0, 1, 2, 1, 1, 1, 2, 3, 2, 0, 3, 2, 0, 1, 2, 1, 3, 2, 2, 2, 2, 2, 2, 2, 1, 2, 1, 2, 1, 1, 1, 2, 0, 0, 3, 0, 0, 1, 2, 3, 2, 1, 2, 0, 2, 0, 1, 3, 1, 1, 1, 1, 1, 3, 2, 3, 1, 1, 1, 1, 0, 0, 5, 1, 1, 1, 3, 1, 2, 0, 3, 2, 1, 1, 0, 4, 1, 3, 1, 1, 1, 2, 0, 1, 2, 1, 2, 0, 0, 2, 3, 2, 1, 3, 2, 1, 1, 1, 2, 4, 0, 1, 1, 2, 2, 3, 2, 1, 2, 1, 3, 2, 1, 1, 1, 1, 1, 2, 0, 1, 3, 2, 2, 0, 2, 0, 2, 0, 0, 2, 1, 0, 1, 1, 0, 3, 1, 1, 1, 1, 2, 3, 0, 1, 1, 2, 0, 1, 1, 6, 1, 2, 3, 1, 2, 2, 2, 2, 3, 1, 2, 1, 0, 3, 1, 0, 3, 1, 1, 1, 2, 2, 1, 2, 3, 3, 2, 0, 3, 1, 2, 1, 1, 1, 1, 2, 0, 1, 1, 1, 3, 0, 1, 1, 1, 1, 3, 0, 0, 0, 4, 0, 1, 1, 2, 2, 3, 1, 1, 1, 3, 1, 2, 3, 2, 3, 1, 2, 3, 3, 4, 1, 2, 2, 2, 2, 3, 4, 1, 1, 2, 1, 2, 2, 3, 0, 3, 1, 1, 0, 1, 1, 1, 3, 1, 2, 3, 1, 2, 1, 1, 1, 0, 2, 3, 0, 0, 0, 3, 2, 1, 1, 2, 2, 1, 1, 1, 4, 0, 2, 2, 1, 3, 2, 2, 2, 2, 2, 0, 1, 0, 2, 1, 0, 0, 2, 3, 2, 3, 0, 1, 2, 3, 1, 0, 3, 1, 2, 3, 2, 2, 3, 0, 1, 2, 2, 2, 1, 1, 0, 0, 2, 0, 2, 2, 3, 1, 1, 1, 2, 2, 0, 2, 2, 2, 0, 1, 0, 1, 2, 5, 1, 2, 3, 1, 2, 2, 2, 4, 1, 1, 3, 1, 1, 2, 1, 1, 1, 4, 3, 1, 0, 1, 3, 2, 3, 1, 4, 0, 0, 2, 1, 1, 0, 1, 2, 1, 2, 0, 1, 2, 0, 0, 1, 2, 2, 1, 3, 3, 1, 2, 1, 0, 1, 1, 1, 1, 1, 3, 2, 0, 2, 1, 2, 1, 0, 1, 1, 1, 3, 2, 6, 0, 3, 1, 0, 1, 1, 0, 1, 1, 1, 3, 1, 3, 1, 3, 0, 1, 2, 2, 2, 0, 1, 2, 3, 3, 0, 0, 1, 1, 1, 2, 2, 2, 3, 2, 2, 2, 1, 3, 0, 1, 1, 1, 3, 2, 2, 4, 5, 2, 3, 3, 1, 0, 3, 0, 2, 2, 3, 2, 1, 0, 3, 1, 4, 0, 3, 2, 3, 3, 1, 1, 4, 1, 1, 2, 0, 2, 1, 2, 2, 0, 0, 1, 0, 2, 1, 0, 4, 0, 1, 0, 1, 1, 3, 3, 2, 1, 3, 0, 1, 0, 2, 1, 3, 0, 1, 0, 1, 2, 0, 1, 4, 2, 1, 2, 0, 2, 4, 2, 2, 2, 1, 1, 2, 1, 2, 1, 2, 1, 1, 1, 1, 3, 1, 1, 4, 2, 3, 1, 1, 0, 2, 2, 3, 2, 2, 1, 2, 1, 3, 0, 0, 2, 3, 1, 1, 2, 0, 1, 1, 2, 1, 3, 1, 2, 3, 1, 3, 0, 1, 2, 2, 1, 0, 1, 4, 1, 0, 3, 2, 2, 1, 1, 2, 4, 1, 1, 1, 1, 2, 1, 2, 0, 1, 3, 1, 0, 3, 1, 2, 1, 5, 1, 1, 2, 0, 0, 1, 4, 2, 1, 3, 4, 1, 1, 0, 1, 0, 1, 1, 0, 1, 1, 2, 0, 1, 3, 2, 0, 2, 0, 2, 2, 0, 3, 0, 2, 3, 0, 3, 0, 1, 0, 1, 2, 2, 4, 1, 0, 2, 0, 1, 0, 2, 3, 1, 3, 2, 3, 2, 2, 1, 1, 2, 2, 1, 1, 2, 2, 3, 3, 4, 0, 1, 1, 1, 1, 3, 4, 1, 1, 2, 1, 3, 0, 2, 1, 0, 1, 1, 2, 0, 3, 2, 1, 2, 1, 2, 1, 0, 2, 3, 0, 2, 3, 1, 2, 4, 1, 1, 1, 0, 2, 3, 1, 2, 1, 1, 0, 2, 2, 3, 2, 1, 1, 3, 1, 3, 1, 3, 0, 2, 3, 0, 2, 1, 1, 2, 1, 1, 1, 2, 2, 3, 1, 0, 2, 2, 0, 2, 2, 0, 2, 0, 2, 0, 3, 1, 2, 2, 1, 3, 0, 2, 1, 2, 2, 0, 1, 2, 1, 0, 2, 1, 1, 3, 0, 4, 0, 1, 3, 3, 0, 2, 1, 1, 2, 2, 1, 0, 1, 3, 2, 3, 4, 4, 3, 0, 2, 2, 0, 2, 1, 0, 0, 0, 4, 2, 2, 3, 3, 0, 2, 1, 1, 1, 2, 0, 4, 2, 1, 1, 1, 0, 0, 4, 2, 3, 2, 2, 1, 0, 2, 0, 1, 0, 3, 1, 1, 3, 2, 2, 0, 3, 2, 3, 3, 0, 1, 2, 1, 2, 3, 1, 2, 3, 0, 0, 2, 3, 0, 3, 2, 1, 0, 2, 2, 2, 0, 2, 0, 0, 2, 3, 0, 1, 1, 2, 0, 4, 2, 0, 2, 0, 1, 4, 4, 1, 2, 2, 1, 2, 3, 1, 2, 3, 4, 4, 3, 0, 4, 3, 4, 3, 2, 4, 1, 2, 2, 1, 0, 2, 3, 4, 1, 0, 0, 3, 3, 4, 0, 1, 0, 0, 3, 3, 2, 1, 3, 3, 3, 3, 1, 2, 1, 2, 0, 2, 1, 2, 1, 3, 1, 3, 1, 0, 4, 2, 2, 1, 2, 1, 2, 3, 2, 1, 3, 2, 2, 0, 1, 1, 2, 3, 1, 3, 1, 3, 3, 1, 1, 1, 2, 2, 2, 3, 2, 1, 1, 1, 0, 2, 1, 2, 3, 3, 1, 1, 0, 1, 3, 2, 1, 2, 2, 1, 1, 1, 0, 1, 0, 1, 2, 0, 2, 1, 0, 2, 3, 3, 3, 0, 3, 2, 0, 3, 1, 0, 1, 2, 1, 1, 0, 2, 0, 1, 3, 1, 1, 1, 4, 0, 3, 1, 3, 3, 3, 1, 2, 0, 1, 2, 1, 3, 3, 2, 1, 0, 0, 3, 2, 2, 0, 1, 0, 3, 2, 3, 5, 3, 1, 4, 2, 1, 0, 3, 4, 2, 1, 3, 2, 3, 1, 1, 4, 1, 1, 3, 3, 1, 2, 0, 2, 0, 2, 2, 2, 0, 0, 1, 1, 3, 1, 1, 3, 0, 0, 2, 0, 1, 2, 0, 4, 2, 1, 2, 1, 2, 3, 2, 0, 2, 1, 0, 3, 0, 3, 0, 5, 1, 3, 0, 3, 0, 2, 0, 3, 0, 3, 0, 3, 2, 1, 0, 3, 0, 1, 1, 1, 1, 1, 1, 1, 0, 0, 2, 3, 2, 1, 4, 1, 3, 3, 2, 2, 0, 1, 3, 0, 0, 1, 1, 0, 3, 1, 2, 1, 1, 2, 2, 2, 1, 0, 2, 3, 1, 0, 1, 0, 3, 4, 1, 2, 0, 2, 2, 2, 1, 2, 3, 2, 2, 1, 1, 2, 2, 1, 3, 4, 1, 1, 2, 0, 0, 1, 2, 3, 3, 1, 2, 3, 4, 2, 1, 2, 1, 2, 2, 3, 0, 0, 2, 4, 2, 2, 1, 1, 2, 3, 0, 2, 2, 2, 2, 1, 0, 0, 2, 3, 1, 2, 2, 5, 2, 1, 1, 0, 4, 3, 2, 2, 0, 1, 2, 0, 0, 2, 2, 1, 0, 0, 1, 4, 1, 0, 2, 0, 0, 2, 1, 2, 1, 2, 0, 2, 2, 4, 1, 2, 1, 3, 0, 1, 1, 2, 0, 2, 1, 2, 0, 2, 2, 4, 3, 3, 0, 1, 1, 2, 2, 2, 0, 2, 0, 2, 0, 3, 1, 2, 2, 2, 0, 1, 0, 3, 2, 2, 0, 0, 0, 3, 0, 2, 0, 0, 1, 2, 1, 0, 2, 2, 1, 1, 2, 3, 1, 0, 1, 2, 1, 1, 3, 2, 1, 3, 3, 1, 1, 3, 4, 2, 2, 0, 2, 2, 1, 2, 1, 1, 0, 1, 1, 2, 0, 3, 1, 3, 2, 1, 0, 2, 1, 1, 2, 4, 2, 3, 4, 0, 2, 0, 1, 2, 4, 1, 1, 2, 4, 1, 2, 0, 2, 3, 1, 2, 0, 1, 1, 1, 2, 1, 1, 3, 1, 5, 3, 2, 1, 1, 0, 1, 3, 2, 0, 1, 1, 1, 2, 1, 1, 1, 3, 3, 2, 0, 3, 2, 2, 0, 2, 1, 1, 1, 1, 3, 1, 2, 1, 0, 0, 3, 2, 2, 2, 1, 2, 0, 2, 3, 1, 2, 2, 2, 3, 3, 3, 1, 0, 0, 0, 2, 2, 1, 2, 1, 2, 2, 1, 0, 2, 4, 2, 2, 1, 1, 0, 1, 1, 1, 1, 0, 1, 2, 2, 3, 0, 3, 2, 2, 0, 1, 0, 2, 1, 2, 0, 2, 2, 3, 0, 1, 1, 5, 1, 2, 1, 0, 2, 1, 2, 1, 3, 3, 1, 2, 1, 4, 1, 3, 3, 1, 1, 4, 3, 1, 2, 1, 3, 1, 0, 1, 2, 2, 0, 0, 0, 4, 1, 0, 2, 4, 2, 1, 2, 2, 1, 2, 1, 0, 2, 0, 3, 2, 0, 2, 2, 0, 1, 2, 2, 2, 3, 4, 2, 2, 1, 2, 0, 2, 1, 1, 3, 2, 2, 2, 0, 0, 3, 3, 2, 2, 3, 3, 0, 3, 1, 0, 0, 0, 2, 0, 1, 3, 2, 1, 1, 1, 3, 3, 1, 1, 3, 2, 2, 2, 1, 2, 1, 3, 1, 1, 0, 0, 1, 1, 3, 3, 1, 2, 0, 2, 4, 2, 3, 2, 1, 2, 2, 0, 2, 0, 2, 2, 0, 2, 1, 2, 1, 2, 1, 2, 2, 1, 0, 2, 1, 0, 1, 3, 0, 1, 3, 2, 2, 2, 1, 1, 4, 1, 2, 0, 0, 3, 1, 0, 1, 2, 6, 3, 1, 1, 1, 3, 1, 0, 1, 1, 2, 2, 2, 1, 3, 3, 0, 2, 1, 2, 0, 0, 1, 3, 3, 1, 2, 2, 4, 3, 0, 1, 3, 1, 2, 2, 4, 2, 0, 0, 1, 0, 1, 0, 3, 1, 1, 4, 2, 2, 0, 2, 0, 2, 0, 1, 0, 0, 1, 2, 2, 2, 3, 0, 3, 1, 3, 1, 1, 3, 3, 0, 1, 2, 2, 3, 0, 1, 0, 0, 0, 1, 2, 0, 1, 1, 2, 0, 3, 2, 1, 0, 2, 0, 1, 1, 2, 1, 2, 2, 3, 2, 1, 3, 1, 1, 3, 0, 2, 3, 1, 0, 1, 3, 1, 1, 1, 0, 1, 2, 1, 1, 1, 2, 3, 2, 1, 3, 2, 2, 1, 2, 2, 3, 0, 2, 1, 0, 0, 2, 3, 1, 3, 3, 2, 3, 2, 3, 0, 1, 2, 3, 1, 2, 3, 1, 2, 2, 2, 3, 2, 1, 2, 3, 3, 1, 1, 3, 4, 0, 0, 1, 2, 2, 3, 0, 0, 0, 1, 1, 2, 2, 2, 1, 1, 1, 1, 3, 1, 1, 1, 4, 3, 1, 3, 0, 1, 1, 0, 2, 3, 2, 3, 2, 3, 2, 2, 2, 0, 0, 2, 2, 2, 1, 1, 0, 2, 2, 1, 3, 1, 0, 2, 1, 2, 1, 1, 4, 2, 3, 2, 1, 1, 1, 2, 1, 2, 2, 1, 1, 3, 2, 0, 0, 2, 1, 2, 0, 0, 1, 0, 0, 1, 1, 0, 2, 1, 1, 1, 4, 4, 4, 2, 0, 3, 1, 0, 1, 3, 0, 0, 2, 1, 1, 3, 2, 3, 1, 3, 2, 2, 3, 1, 2, 1, 1, 4, 1, 3, 1, 4, 1, 3, 1, 2, 3, 2, 5, 0, 2, 2, 2, 0, 1, 1, 4, 0, 1, 1, 0, 0, 2, 2, 2, 3, 1, 0, 3, 2, 1, 3, 2, 0, 4, 1, 2, 2, 0, 2, 2, 2, 0, 2, 0, 3, 1, 2, 3, 2, 1, 1, 3, 2, 1, 1, 1, 3, 1, 3, 0, 1, 3, 1, 0, 4, 2, 3, 4, 0, 2, 1, 2, 0, 3, 0, 2, 3, 4, 0, 2, 0, 0, 1, 1, 2, 2, 1, 1, 4, 3, 2, 1, 2, 1, 2, 0, 1, 1, 1, 4, 2, 0, 3, 2, 1, 2, 1, 0, 2, 0, 3, 2, 3, 0, 0, 0, 0, 2, 2, 2, 3, 2, 4, 1, 0, 3, 2, 1, 2, 1, 3, 2, 0, 2, 2, 0, 1, 4, 1, 4, 3, 1, 2, 3, 2, 2, 0, 1, 1, 1, 1, 3, 2, 0, 4, 2, 3, 1, 2, 1, 1, 3, 2, 1, 1, 2, 4, 1, 0, 3, 2, 3, 1, 3, 2, 1, 1, 0, 1, 0, 0, 2, 0, 1, 0, 3, 3, 3, 0, 2, 0, 2, 1, 2, 1, 2, 2, 1, 3, 3, 3, 2, 2, 1, 1, 1, 3, 3, 1, 3, 2, 1, 4, 0, 0, 1, 0, 1, 1, 2, 2, 0, 0, 1, 2, 3, 0, 2, 0, 0, 0, 1, 0, 1, 2, 1, 1, 0, 2, 0, 0, 2, 2, 1, 1, 1, 3, 3, 2, 3, 0, 4, 3, 0, 1, 2, 2, 3, 1, 1, 1, 0, 0, 3, 0, 2, 1, 0, 1, 2, 2, 1, 2, 1, 2, 3, 0, 2, 2, 3, 2, 1, 1, 2, 1, 0, 2, 1, 4, 3, 1, 2, 1, 1, 0, 4, 3, 0, 1, 0, 1, 3, 2, 2, 2, 0, 2, 2, 1, 0, 3, 1, 2, 1, 1, 2, 0, 1, 3, 1, 1, 2, 1, 2, 1, 1, 0, 3, 2, 2, 1, 0, 2, 2, 3, 0, 1, 1, 3, 1, 0, 2, 0, 2, 4, 3, 4, 1, 3, 1, 1, 0, 0, 2, 1, 3, 0, 2, 1, 0, 0, 3, 0, 3, 0, 0, 1, 2, 3, 2, 2, 0, 1, 1, 1, 1, 3, 2, 1, 0, 1, 2, 3, 2, 1, 2, 2, 1, 2, 2, 1, 2, 2, 2, 2, 3, 1, 0, 2, 3, 3, 0, 0, 1, 2, 1, 3, 0, 2, 2, 3, 1, 0, 2, 3, 4, 2, 0, 3, 3, 2, 2, 4, 2, 2, 3, 4, 0, 1, 1, 1, 1, 4, 4, 2, 0, 3, 2, 1, 3, 0, 2, 4, 2, 1, 0, 1, 0, 0, 2, 3, 1, 2, 0, 0, 3, 3, 0, 3, 2, 1, 0, 2, 0, 0, 4, 1, 1, 4, 1, 1, 1, 0, 1, 2, 2, 2, 0, 2, 0, 0, 2, 3, 2, 2, 2, 2, 3, 1, 2, 3, 2, 3, 0, 4, 2, 2, 1, 1, 1, 0, 1, 2, 2, 4, 4, 0, 1, 1, 4, 2, 3, 2, 3, 2, 1, 2, 3, 3, 0, 0, 1, 1, 2, 1, 0, 0, 1, 2, 1, 2, 2, 2, 1, 0, 1, 2, 0, 1, 4, 1, 2, 2, 0, 1, 3, 2, 2, 2, 3, 0, 1, 3, 2, 1, 0, 1, 2, 2, 2, 2, 1, 1, 2, 2, 0, 0, 1, 1, 1, 1, 0, 0, 2, 1, 2, 2, 1, 2, 2, 2, 1, 2, 1, 2, 3, 3, 1, 1, 2, 1, 2, 2, 3, 2, 2, 3, 4, 4, 2, 0, 1, 0, 3, 1, 1, 1, 2, 1, 2, 0, 2, 1, 1, 3, 2, 1, 2, 0, 0, 2, 3, 3, 2, 0, 1, 0, 1, 1, 2, 1, 2, 0, 1, 0, 1, 2, 2, 2, 3, 1, 0, 2, 3, 4, 3, 0, 2, 1, 2, 0, 2, 1, 1, 2, 3, 2, 1, 2, 1, 4, 2, 5, 3, 1, 2, 0, 1, 1, 2, 1, 1, 0, 1, 2, 0, 2, 2, 1, 3, 1, 0, 1, 4, 1, 1, 3, 1, 3, 1, 3, 1, 0, 1, 0, 0, 1, 1, 1, 0, 0, 3, 1, 2, 0, 1, 1, 3, 1, 1, 2, 0, 3, 0, 1, 0, 0, 0, 1, 2, 2, 2, 1, 3, 0, 2, 2, 2, 1, 2, 3, 1, 1, 0, 2, 2, 2, 1, 1, 1, 1, 2, 1, 3, 0, 1, 1, 2, 2, 2, 0, 0, 1, 3, 0, 0, 2, 4, 0, 1, 0, 1, 1, 1, 2, 1, 1, 2, 0, 0, 1, 1, 2, 0, 1, 0, 1, 1, 1, 3, 1, 2, 1, 3, 1, 3, 0, 1, 1, 2, 1, 1, 1, 2, 1, 4, 3, 3, 1, 0, 3, 2, 1, 0, 2, 2, 1, 1, 2, 2, 1, 1, 2, 0, 3, 2, 0, 2, 2, 3, 4, 0, 2, 2, 2, 3, 3, 0, 3, 0, 2, 0, 2, 1, 0, 3, 3, 4, 0, 1, 1, 2, 2, 2, 1, 1, 2, 2, 1, 0, 0, 0, 3, 1, 1, 5, 2, 0, 1, 2, 4, 0, 1, 1, 4, 1, 1, 2, 2, 1, 0, 1, 3, 1, 0, 2, 2, 0, 3, 1, 1, 1, 1, 0, 0, 0, 1, 2, 1, 3, 2, 3, 1, 3, 3, 2, 1, 2, 1, 1, 2, 2, 2, 2, 1, 2, 2, 2, 2, 1, 0, 1, 1, 1, 0, 2, 1, 1, 2, 1, 1, 2, 1, 2, 1, 1, 1, 1, 1, 2, 0, 1, 2, 1, 3, 3, 3, 0, 1, 0, 0, 2, 1, 0, 2, 2, 1, 4, 2, 0, 1, 1, 0, 3, 2, 2, 1, 1, 1, 0, 2, 0, 0, 2, 1, 0, 3, 3, 1, 1, 0, 2, 2, 1, 2, 2, 1, 1, 1, 3, 0, 2, 2, 2, 3, 0, 0, 0, 2, 1, 0, 1, 1, 2, 0, 0, 3, 1, 2, 0, 0, 1, 2, 2, 1, 1, 3, 3, 3, 2, 2, 1, 2, 0, 1, 2, 0, 5, 2, 0, 3, 1, 2, 1, 3, 1, 3, 1, 0, 1, 2, 1, 4, 0, 2, 3, 2, 2, 0, 2, 4, 1, 5, 1, 2, 0, 3, 1, 1, 1, 3, 0, 1, 1, 0, 2, 1, 2, 4, 2, 3, 1, 1, 0, 0, 2, 2, 2, 0, 3, 3, 2, 2, 1, 2, 0, 0, 0, 2, 0, 0, 0, 2, 1, 4, 3, 2, 1, 2, 1, 2, 0, 3, 2, 3, 2, 1, 1, 0, 2, 3, 2, 2, 1, 1, 1, 1, 0, 2, 1, 1, 3, 3, 1, 2, 0, 1, 3, 3, 2, 1, 3, 0, 2, 2, 1, 2, 1, 1, 3, 0, 1, 1, 0, 1, 1, 3, 0, 2, 2, 0, 1, 4, 2, 1, 0, 0, 2, 3, 2, 1, 3, 0, 2, 2, 3, 1, 1, 3, 1, 1, 1, 2, 1, 3, 2, 1, 1, 0, 0, 0, 3, 1, 2, 0, 2, 1, 5, 3, 2, 3, 1, 2, 3, 3, 3, 0, 0, 2, 1, 1, 2, 1, 4, 1, 2, 2, 1, 3, 1, 1, 0, 3, 1, 0, 2, 2, 2, 3, 2, 2, 2, 2, 1, 1, 1, 3, 3, 1, 4, 3, 1, 2, 1, 1, 2, 0, 2, 2, 0, 1, 1, 0, 1, 2, 1, 0, 3, 0, 0, 3, 0, 2, 1, 2, 1, 2, 1, 2, 4, 0, 1, 0, 2, 1, 4, 2, 1, 0, 3, 1, 2, 1, 0, 3, 1, 2, 1, 0, 3, 0, 3, 1, 0, 1, 0, 1, 1, 2, 4, 1, 2, 2, 2, 4, 2, 0, 2, 0, 2, 2, 1, 1, 1, 1, 2, 0, 3, 2, 1, 1, 1, 2, 1, 2, 1, 2, 2, 1, 0, 4, 0, 1, 0, 2, 1, 1, 2, 0, 2, 0, 0, 1, 0, 0, 2, 1, 2, 0, 1, 0, 1, 2, 1, 2, 0, 2, 0, 0, 0, 1, 1, 0, 0, 0, 1, 1, 1, 2, 2, 2, 3, 1, 1, 3, 4, 0, 1, 2, 0, 3, 2, 2, 2, 1, 1, 1, 2, 3, 2, 2, 1, 1, 1, 2, 0, 2, 2, 2, 1, 3, 1, 1, 1, 0, 1, 2, 0, 1, 2, 0, 3, 0, 1, 2, 0, 0, 2, 2, 2, 0, 0, 0, 1, 4, 2, 2, 1, 1, 1, 2, 3, 2, 1, 1, 3, 0, 1, 2, 1, 0, 0, 2, 2, 2, 3, 2, 2, 3, 1, 2, 2, 3, 4, 3, 1, 1, 2, 1, 2, 1, 1, 1, 2, 1, 3, 2, 1, 2, 1, 1, 2, 1, 2, 1, 1, 0, 0, 0, 2, 3, 1, 3, 2, 1, 0, 0, 2, 3, 4, 1, 1, 1, 0, 2, 2, 2, 0, 1, 2, 1, 0, 0, 2, 2, 2, 3, 2, 1, 1, 1, 1, 0, 1, 2, 0, 2, 2, 4, 2, 1, 0, 1, 3, 1, 1, 2, 2, 1, 3, 2, 0, 1, 0, 1, 0, 4, 0, 1, 1, 2, 0, 3, 2, 1, 1, 1, 1, 1, 0, 1, 1, 1, 1, 4, 2, 0, 3, 0, 2, 2, 2, 1, 2, 0, 1, 3, 1, 1, 0, 2, 0, 2, 1, 1, 0, 1, 1, 1, 2, 2, 2, 2, 1, 4, 1, 2, 1, 0, 3, 1, 1, 3, 4, 3, 2, 1, 3, 2, 0, 1, 0, 1, 4, 2, 3, 1, 4, 2, 3, 0, 1, 3, 1, 3, 1, 1, 2, 0, 1, 1, 0, 0, 1, 1, 2, 1, 3, 2, 0, 3, 1, 3, 4, 3, 2, 2, 4, 3, 1, 0, 3, 3, 1, 0, 0, 3, 2, 1, 1, 2, 2, 3, 3, 0, 1, 1, 3, 2, 2, 0, 1, 2, 1, 2, 2, 1, 4, 2, 0, 2, 1, 2, 2, 1, 2, 1, 3, 0, 1, 2, 2, 0, 2, 2, 2, 1, 4, 1, 2, 0, 1, 1, 2, 3, 3, 0, 3, 1, 2, 2, 1, 2, 0, 1, 3, 0, 1, 1, 3, 1, 2, 2, 1, 1, 1, 2, 2, 2, 0, 0, 2, 2, 2, 0, 0, 4, 3, 0, 1, 0, 2, 2, 2, 1, 2, 2, 0, 2, 3, 1, 2, 1, 2, 3, 0, 0, 3, 3, 1, 1, 2, 2, 3, 0, 2, 3, 2, 0, 2, 2, 1, 0, 2, 3, 0, 1, 2, 1, 2, 2, 0, 2, 0, 4, 4, 1, 3, 0, 1, 3, 3, 1, 2, 2, 1, 1, 1, 1, 1, 1, 3, 0, 2, 3, 1, 0, 4, 1, 3, 3, 0, 2, 0, 1, 0, 0, 3, 2, 4, 2, 0, 2, 2, 0, 1, 0, 2, 1, 4, 4, 2, 0, 2, 1, 0, 0, 1, 0, 2, 1, 1, 1, 1, 1, 3, 1, 1, 3, 4, 0, 0, 0, 1, 1, 3, 0, 3, 3, 4, 2, 1, 2, 2, 1, 2, 1, 2, 2, 0, 1, 2, 0, 2, 0, 3, 2, 2, 2, 0, 4, 2, 1, 1, 4, 0, 3, 2, 1, 2, 1, 1, 1, 1, 1, 5, 1, 1, 1, 2, 2, 0, 1, 2, 2, 1, 3, 1, 1, 1, 1, 2, 3, 2, 2, 1, 2, 3, 1, 2, 1, 1, 2, 3, 1, 0, 0, 2, 2, 1, 4, 2, 2, 4, 2, 3, 0, 3, 0, 0, 3, 2, 1, 1, 1, 2, 2, 1, 4, 1, 1, 0, 2, 3, 1, 2, 0, 1, 1, 0, 2, 2, 1, 3, 2, 1, 1, 0, 1, 2, 2, 1, 1, 2, 1, 0, 0, 0, 0, 1, 1, 1, 1, 2, 1, 1, 3, 3, 2, 2, 1, 0, 0, 2, 1, 1, 0, 2, 0, 1, 2, 1, 2, 1, 2, 1, 1, 2, 0, 0, 0, 3, 0, 1, 1, 1, 0, 3, 4, 1, 4, 0, 2, 5, 2, 3, 4, 2, 1, 2, 1, 2, 3, 2, 1, 0, 1, 3, 4, 2, 0, 2, 0, 1, 2, 1, 2, 2, 2, 2, 2, 1, 0, 1, 0, 0, 1, 2, 1, 3, 2, 4, 2, 0, 0, 3, 1, 1, 0, 0, 1, 1, 2, 2, 4, 2, 2, 4, 3, 0, 3, 1, 2, 1, 4, 1, 1, 1, 2, 0, 2, 3, 0, 3, 0, 3, 3, 2, 2, 0, 3, 2, 4, 1, 2, 1, 4, 1, 1, 2, 2, 1, 2, 2, 3, 2, 2, 2, 1, 1, 2, 1, 2, 2, 2, 3, 2, 1, 1, 1, 2, 4, 3, 1, 1, 1, 3, 0, 1, 1, 3, 1, 2, 2, 0, 1, 1, 1, 2, 0, 3, 0, 2, 1, 3, 1, 1, 0, 2, 2, 0, 3, 1, 1, 3, 2, 2, 1, 1, 0, 1, 2, 3, 0, 3, 1, 0, 3, 1, 2, 1, 0, 2, 4, 2, 0, 0, 1, 1, 2, 2, 2, 3, 2, 3, 1, 2, 2, 2, 4, 2, 1, 2, 2, 2, 1, 1, 4, 0, 1, 0, 0, 0, 3, 0, 1, 0, 2, 3, 3, 0, 1, 0, 1, 2, 2, 2, 1, 2, 2, 2, 1, 2, 1, 1, 2, 1, 0, 0, 1, 1, 2, 1, 4, 1, 2, 2, 2, 2, 0, 1, 1, 1, 0, 2, 1, 2, 1, 3, 1, 1, 3, 3, 0, 3, 2, 0, 0, 2, 2, 1, 0, 2, 1, 0, 2, 2, 4, 1, 1, 2, 2, 3, 2, 1, 0, 1, 2, 1, 1, 0, 0, 0, 2, 2, 1, 2, 0, 2, 0, 4, 0, 1, 2, 2, 1, 4, 2, 1, 2, 1, 3, 0, 0, 1, 0, 3, 2, 1, 1, 2, 1, 1, 3, 1, 1, 2, 1, 0, 3, 0, 1, 0, 3, 3, 0, 1, 2, 0, 0, 4, 2, 2, 3, 0, 3, 2, 3, 1, 2, 2, 1, 3, 1, 3, 2, 2, 2, 1, 1, 0, 2, 2, 0, 1, 2, 1, 2, 1, 1, 1, 1, 1, 3, 0, 1, 2, 1, 2, 3, 2, 1, 4, 3, 0, 1, 0, 2, 1, 1, 1, 2, 2, 3, 1, 2, 0, 1, 1, 2, 2, 2, 3, 2, 3, 1, 0, 2, 0, 3, 2, 1, 0, 2, 1, 1, 3, 2, 1, 2, 2, 2, 1, 3, 3, 0, 0, 2, 0, 1, 2, 3, 3, 6, 2, 1, 1, 0, 4, 1, 0, 1, 4, 2, 0, 1, 0, 1, 0, 2, 1, 3, 2, 1, 1, 1, 2, 1, 4, 5, 4, 3, 1, 2, 0, 0, 2, 2, 1, 2, 2, 2, 2, 2, 2, 1, 4, 3, 2, 2, 1, 2, 3, 2, 1, 1, 0, 2, 1, 1, 3, 0, 0, 4, 2, 3, 2, 1, 0, 1, 2, 0, 4, 2, 0, 1, 1, 0, 1, 0, 2, 2, 0, 0, 1, 2, 2, 0, 2, 1, 1, 1, 2, 2, 1, 0, 4, 0, 2, 4, 1, 2, 1, 1, 3, 1, 2, 0, 0, 0, 1, 3, 2, 0, 2, 2, 2, 3, 2, 1, 1, 0, 2, 1, 0, 4, 0, 2, 0, 1, 1, 0, 1, 1, 1, 2, 2, 1, 1, 3, 3, 2, 4, 1, 1, 1, 0, 0, 0, 1, 1, 2, 3, 0, 3, 1, 1, 3, 3, 1, 0, 3, 2, 2, 3, 3, 3, 2, 2, 1, 1, 1, 0, 1, 1, 3, 0, 2, 2, 1, 1, 0, 2, 0, 3, 1, 1, 2, 2, 2, 1, 3, 3, 1, 0, 1, 6, 1, 1, 3, 1, 2, 0, 2, 2, 3, 3, 2, 2, 2, 2, 0, 1, 3, 3, 1, 0, 3, 0, 1, 1, 4, 0, 2, 1, 2, 0, 1, 4, 0, 2, 1, 1, 3, 1, 1, 2, 0, 2, 1, 2, 0, 2, 3, 2, 1, 0, 2, 3, 3, 0, 1, 3, 2, 3, 3, 4, 3, 1, 1, 1, 1, 2, 1, 1, 1, 1, 2, 1, 2, 3, 1, 1, 2, 5, 2, 1, 2, 1, 1, 1, 4, 1, 1, 1, 2, 1, 1, 1, 2, 1, 2, 2, 0, 2, 0, 1, 1, 3, 1, 2, 2, 3, 3, 2, 1, 2, 1, 3, 2, 5, 2, 1, 1, 1, 1, 0, 1, 2, 0, 0, 2, 4, 2, 3, 3, 3, 2, 1, 2, 2, 1, 2, 4, 4, 0, 1, 1, 3, 1, 1, 3, 1, 2, 3, 3, 1, 1, 0, 2, 1, 2, 0, 1, 1, 2, 1, 0, 1, 4, 1, 3, 0, 3, 0, 2, 3, 1, 1, 1, 2, 2, 2, 0, 3, 1, 0, 0, 3, 1, 2, 2, 2, 3, 1, 1, 2, 2, 2, 2, 2, 0, 0, 0, 1, 1, 1, 0, 1, 0, 3, 3, 2, 3, 1, 0, 2, 3, 3, 1, 1, 1, 2, 2, 0, 1, 1, 2, 0, 3, 2, 1, 2, 1, 1, 3, 2, 1, 1, 3, 0, 3, 0, 1, 1, 1, 1, 4, 3, 3, 0, 1, 1, 3, 3, 1, 3, 3, 0, 0, 1, 1, 0, 1, 3, 3, 0, 4, 2, 0, 1, 1, 2, 3, 2, 1, 0, 1, 1, 1, 2, 1, 4, 2, 1, 1, 0, 2, 0, 2, 1, 1, 1, 2, 1, 1, 2, 2, 3, 3, 1, 2, 3, 1, 0, 2, 1, 2, 2, 3, 3, 0, 1, 2, 0, 0, 3, 1, 1, 1, 2, 2, 1, 2, 2, 1, 2, 0, 2, 1, 4, 0, 1, 2, 0, 3, 0, 2, 0, 1, 3, 0, 1, 0, 2, 2, 0, 0, 2, 2, 2, 2, 1, 0, 2, 3, 1, 3, 2, 4, 0, 2, 2, 1, 0, 0, 1, 1, 1, 3, 1, 1, 3, 2, 0, 1, 1, 3, 1, 0, 2, 2, 1, 2, 2, 3, 1, 2, 0, 1, 3, 0, 2, 1, 3, 0, 0, 2, 3, 2, 2, 0, 2, 2, 1, 1, 1, 2, 1, 2, 0, 2, 1, 1, 3, 1, 2, 1, 3, 3, 1, 1, 1, 3, 1, 0, 4, 2, 2, 2, 2, 1, 3, 2, 1, 2, 2, 1, 4, 1, 2, 1, 1, 1, 2, 2, 0, 1, 0, 0, 0, 0, 1, 3, 2, 1, 2, 4, 2, 3, 0, 1, 1, 3, 4, 1, 0, 3, 2, 1, 2, 2, 1, 3, 1, 2, 2, 3, 2, 3, 4, 0, 0, 1, 2, 2, 2, 0, 3, 1, 2, 1, 3, 1, 0, 0, 2, 0, 3, 1, 2, 2, 1, 2, 1, 2, 2, 4, 0, 0, 3, 0, 2, 1, 2, 2, 0, 1, 0, 0, 2, 3, 0, 0, 1, 1, 3, 1, 4, 1, 1, 2, 2, 1, 1, 1, 2, 3, 3, 1, 0, 0, 1, 0, 1, 1, 1, 2, 0, 2, 0, 2, 2, 3, 1, 1, 0, 4, 2, 0, 0, 3, 2, 2, 2, 0, 2, 1, 3, 3, 2, 1, 1, 0, 3, 0, 0, 2, 5, 1, 0, 2, 0, 0, 4, 2, 2, 1, 0, 1, 0, 1, 0, 2, 3, 2, 2, 0, 1, 0, 0, 1, 2, 2, 3, 0, 2, 0, 1, 1, 1, 2, 0, 0, 0, 1, 0, 0, 3, 2, 3, 3, 3, 2, 2, 2, 2, 0, 1, 2, 2, 1, 3, 2, 3, 5, 1, 2, 2, 3, 0, 3, 1, 3, 0, 2, 2, 0, 1, 2, 2, 2, 2, 3, 3, 2, 5, 0, 4, 1, 0, 2, 1, 4, 0, 2, 1, 0, 1, 2, 1, 1, 1, 1, 2, 4, 0, 1, 0, 1, 2, 0, 1, 2, 1, 1, 2, 4, 3, 1, 2, 2, 2, 2, 3, 4, 1, 3, 3, 4, 0, 0, 0, 0, 0, 1, 0, 0, 2, 4, 0, 3, 3, 2, 1, 2, 2, 2, 2, 2, 0, 2, 2, 1, 1, 0, 3, 2, 2, 2, 1, 3, 2, 0, 0, 3, 0, 1, 2, 0, 0, 0, 1, 1, 0, 3, 1, 0, 4, 1, 1, 2, 1, 1, 2, 2, 3, 2, 2, 4, 1, 0, 3, 3, 1, 2, 2, 1, 1, 1, 1, 2, 2, 2, 1, 1, 3, 2, 1, 0, 2, 3, 1, 1, 3, 2, 1, 0, 0, 2, 2, 3, 5, 0, 2, 3, 2, 2, 1, 3, 0, 2, 1, 1, 2, 1, 1, 3, 1, 3, 1, 3, 1, 1, 1, 3, 4, 2, 0, 2, 2, 1, 0, 3, 1, 1, 1, 0, 0, 3, 0, 4, 2, 0, 1, 1, 0, 2, 1, 0, 1, 3, 2, 2, 0, 0, 1, 1, 1, 1, 1, 3, 1, 4, 1, 1, 2, 0, 0, 1, 0, 1, 1, 1, 0, 1, 0, 2, 2, 0, 1, 0, 1, 2, 2, 0, 0, 1, 4, 1, 2, 1, 2, 2, 2, 3, 0, 0, 2, 4, 1, 2, 2, 2, 1, 0, 2, 0, 4, 2, 0, 1, 2, 2, 0, 0, 0, 2, 3, 1, 1, 1, 0, 3, 1, 1, 0, 2, 1, 1, 1, 2, 1, 2, 1, 0, 0, 0, 1, 2, 3, 1, 1, 3, 4, 1, 4, 0, 1, 1, 2, 3, 0, 2, 2, 2, 5, 1, 0, 0, 2, 2, 2, 2, 1, 3, 1, 2, 1, 1, 2, 1, 3, 2, 0, 2, 0, 0, 0, 2, 0, 3, 0, 2, 2, 2, 2, 0, 1, 0, 2, 1, 1, 0, 2, 2, 3, 1, 1, 0, 2, 0, 2, 2, 2, 0, 1, 1, 1, 0, 2, 1, 0, 4, 2, 2, 1, 2, 1, 1, 1, 1, 0, 1, 2, 2, 2, 1, 2, 3, 0, 1, 3, 2, 3, 2, 1, 3, 2, 2, 3, 0, 2, 2, 3, 0, 2, 2, 1, 1, 2, 0, 0, 2, 2, 2, 2, 1, 1, 2, 3, 1, 3, 1, 1, 2, 5, 1, 3, 1, 2, 1, 1, 0, 2, 1, 3, 0, 4, 3, 0, 0, 1, 0, 0, 0, 3, 2, 0, 3, 1, 2, 0, 2, 3, 0, 3, 0, 3, 1, 0, 0, 0, 3, 2, 1, 2, 2, 2, 1, 3, 4, 0, 3, 3, 1, 2, 1, 2, 0, 4, 1, 1, 2, 2, 1, 3, 1, 5, 1, 0, 3, 2, 3, 1, 3, 1, 3, 0, 1, 3, 3, 2, 5, 0, 0, 1, 3, 1, 2, 1, 0, 1, 3, 0, 1, 1, 1, 2, 3, 1, 2, 4, 1, 2, 1, 1, 3, 2, 2, 2, 1, 2, 1, 3, 0, 1, 1, 2, 1, 2, 1, 3, 1, 3, 1, 3, 3, 2, 1, 1, 2, 1, 2, 2, 1, 2, 1, 2, 2, 1, 1, 0, 1, 0, 2, 4, 0, 2, 1, 1, 3, 3, 2, 2, 1, 1, 0, 0, 1, 2, 1, 1, 0, 1, 1, 3, 2, 0, 1, 2, 3, 0, 0, 1, 0, 2, 3, 2, 0, 2, 1, 2, 0, 1, 3, 1, 1, 0, 2, 2, 2, 2, 2, 1, 0, 2, 1, 2, 0, 3, 2, 1, 1, 2, 2, 2, 1, 3, 4, 1, 2, 3, 2, 2, 0, 1, 3, 3, 2, 2, 1, 3, 2, 3, 1, 1, 1, 2, 0, 3, 3, 1, 3, 2, 0, 2, 2, 1, 3, 1, 0, 1, 0, 3, 1, 3, 2, 1, 3, 3, 3, 1, 1, 2, 0, 4, 0, 2, 1, 2, 0, 1, 1, 1, 1, 3, 0, 1, 3, 1, 3, 1, 3, 0, 1, 4, 4, 0, 2, 1, 1, 3, 1, 3, 1, 2, 1, 2, 4, 1, 1, 6, 4, 0, 2, 2, 2, 3, 1, 3, 1, 4, 0, 1, 0, 1, 0, 0, 1, 2, 1, 0, 3, 2, 3, 1, 1, 2, 1, 1, 0, 1, 0, 0, 1, 1, 2, 2, 1, 3, 2, 1, 3, 2, 1, 0, 3, 2, 2, 1, 3, 1, 2, 2, 2, 0, 2, 3, 2, 1, 2, 0, 0, 1, 1, 3, 2, 3, 1, 0, 0, 1, 2, 3, 2, 4, 0, 3, 2, 1, 1, 1, 1, 0, 1, 2, 2, 2, 1, 2, 4, 2, 2, 0, 3, 1, 1, 1, 2, 2, 1, 3, 0, 1, 2, 1, 1, 1, 2, 4, 1, 2, 2, 1, 0, 0, 1, 1, 1, 2, 2, 1, 2, 2, 2, 0, 1, 2, 1, 0, 0, 0, 1, 3, 2, 3, 3, 3, 2, 1, 2, 2, 3, 2, 2, 1, 2, 1, 1, 4, 1, 3, 2, 1, 4, 2, 1, 1, 1, 1, 1, 1, 3, 0, 1, 3, 1, 2, 1, 0, 3, 1, 2, 2, 0, 0, 1, 1, 2, 2, 0, 2, 0, 3, 3, 1, 0, 3, 2, 2, 2, 0, 0, 1, 1, 3, 2, 1, 2, 0, 3, 1, 3, 2, 3, 2, 1, 1, 1, 1, 0, 0, 0, 0, 2, 0, 2, 3, 1, 2, 2, 2, 3, 4, 0, 2, 0, 1, 1, 1, 1, 1, 0, 1, 1, 0, 2, 2, 3, 1, 2, 0, 2, 0, 2, 2, 1, 0, 0, 2, 2, 2, 0, 3, 1, 2, 2, 2, 0, 2, 2, 0, 6, 4, 2, 1, 5, 2, 0, 2, 6, 1, 2, 1, 0, 0, 2, 1, 2, 0, 2, 0, 1, 2, 1, 2, 2, 2, 2, 3, 0, 1, 2, 2, 0, 2, 0, 0, 1, 0, 1, 1, 1, 1, 0, 2, 4, 0, 3, 1, 2, 3, 0, 2, 3, 1, 1, 2, 0, 2, 2, 3, 3, 0, 2, 2, 1, 0, 1, 0, 2, 1, 0, 2, 2, 1, 0, 3, 3, 2, 2, 0, 3, 2, 2, 1, 1, 2, 1, 1, 1, 1, 1, 3, 2, 1, 2, 1, 1, 2, 3, 2, 3, 2, 1, 0, 2, 4, 2, 1, 0, 1, 2, 2, 1, 0, 3, 0, 2, 0, 1, 0, 2, 3, 2, 2, 2, 2, 1, 1, 1, 1, 2, 3, 1, 0, 2, 0, 3, 2, 1, 2, 0, 1, 0, 1, 3, 2, 3, 2, 2, 3, 0, 1, 1, 3, 0, 2, 3, 2, 2, 0, 3, 3, 1, 3, 0, 4, 0, 4, 1, 1, 1, 2, 1, 1, 0, 2, 1, 2, 1, 1, 2, 2, 0, 3, 2, 4, 2, 0, 0, 0, 3, 1, 1, 1, 2, 2, 0, 1, 1, 2, 2, 2, 1, 2, 3, 0, 1, 3, 2, 2, 1, 0, 1, 0, 1, 2, 0, 0, 3, 3, 1, 1, 2, 1, 1, 2, 2, 0, 2, 3, 0, 2, 2, 0, 1, 2, 1, 2, 3, 2, 2, 3, 2, 2, 3, 3, 2, 0, 2, 2, 0, 0, 1, 1, 2, 2, 0, 3, 4, 5, 1, 1, 1, 4, 2, 1, 1, 0, 2, 2, 2, 2, 2, 3, 0, 3, 2, 0, 2, 3, 0, 1, 0, 1, 2, 1, 4, 2, 1, 1, 2, 3, 2, 1, 1, 1, 1, 0, 3, 1, 3, 0, 1, 1, 3, 3, 3, 2, 2, 1, 2, 0, 2, 1, 2, 2, 3, 0, 1, 1, 2, 3, 0, 1, 3, 3, 0, 2, 3, 2, 1, 2, 1, 0, 1, 0, 3, 0, 3, 2, 3, 1, 0, 2, 2, 0, 1, 2, 0, 1, 3, 0, 2, 2, 2, 2, 1, 3, 1, 1, 2, 3, 3, 1, 0, 1, 2, 2, 0, 1, 1, 0, 2, 1, 0, 1, 3, 2, 0, 2, 1, 4, 3, 0, 0, 1, 2, 1, 2, 0, 2, 0, 2, 1, 2, 1, 2, 3, 1, 1, 2, 0, 1, 2, 2, 1, 0, 2, 4, 0, 2, 1, 2, 2, 2, 3, 1, 2, 2, 2, 3, 2, 4, 0, 1, 4, 1, 3, 1, 0, 0, 4, 2, 0, 1, 2, 1, 2, 1, 2, 1, 2, 3, 3, 1, 3, 2, 3, 2, 4, 2, 2, 0, 1, 0, 0, 2, 2, 1, 1, 2, 0, 1, 0, 1, 1, 4, 0, 2, 3, 0, 0, 1, 2, 0, 2, 2, 1, 1, 2, 3, 3, 1, 2, 0, 3, 2, 0, 1, 2, 1, 1, 1, 0, 2, 2, 1, 3, 3, 0, 1, 4, 2, 1, 1, 1, 2, 3, 1, 2, 2, 1, 1, 2, 4, 1, 1, 3, 3, 0, 2, 1, 2, 2, 0, 1, 1, 0, 3, 0, 4, 2, 2, 3, 3, 1, 0, 2, 1, 2, 0, 1, 2, 2, 2, 3, 2, 1, 2, 1, 1, 3, 2, 2, 2, 0, 1, 2, 0, 2, 3, 0, 2, 2, 0, 1, 1, 1, 1, 3, 0, 1, 1, 0, 0, 3, 0, 2, 0, 1, 0, 2, 1, 2, 2, 1, 1, 4, 0, 1, 2, 0, 3, 4, 2, 0, 1, 1, 2, 2, 1, 2, 1, 2, 1, 0, 1, 1, 0, 0, 1, 1, 3, 3, 0, 2, 2, 1, 2, 1, 3, 4, 1, 1, 2, 2, 1, 0, 1, 2, 2, 0, 2, 1, 2, 2, 1, 0, 0, 1, 3, 1, 0, 2, 0, 0, 2, 1, 1, 3, 1, 1, 3, 0, 1, 2, 0, 2, 1, 0, 1, 2, 2, 3, 2, 1, 1, 1, 1, 2, 4, 2, 1, 2, 2, 3, 0, 2, 0, 2, 0, 2, 1, 1, 1, 1, 3, 2, 1, 0, 3, 0, 2, 3, 2, 3, 1, 3, 2, 1, 0, 0, 2, 0, 1, 0, 2, 2, 2, 2, 0, 2, 0, 0, 2, 2, 1, 1, 1, 1, 1, 1, 0, 0, 0, 2, 1, 1, 0, 4, 2, 0, 0, 0, 1, 2, 0, 2, 1, 2, 1, 0, 0, 1, 2, 1, 0, 2, 0, 1, 0, 2, 0, 3, 1, 1, 2, 2, 1, 2, 4, 2, 1, 3, 1, 1, 1, 0, 1, 1, 4, 3, 2, 0, 2, 1, 1, 0, 1, 1, 2, 2, 1, 0, 2, 1, 2, 1, 2, 1, 0, 1, 0, 1, 0, 2, 2, 2, 4, 2, 3, 3, 3, 1, 1, 0, 1, 0, 2, 2, 4, 3, 3, 0, 2, 3, 1, 0, 0, 2, 2, 2, 1, 2, 0, 1, 2, 3, 3, 3, 2, 2, 1, 2, 0, 0, 1, 2, 2, 0, 2, 2, 1, 3, 2, 1, 2, 4, 1, 2, 1, 1, 2, 1, 2, 1, 1, 1, 3, 1, 0, 0, 2, 0, 3, 1, 2, 1, 1, 2, 0, 1, 2, 3, 0, 2, 0, 3, 3, 0, 3, 3, 3, 2, 0, 0, 1, 2, 2, 3, 2, 3, 2, 1, 1, 2, 2, 1, 1, 4, 2, 0, 2, 0, 0, 2, 2, 3, 2, 0, 2, 1, 1, 1, 1, 1, 3, 1, 1, 1, 0, 2, 3, 2, 2, 2, 2, 2, 0, 1, 1, 3, 2, 1, 1, 3, 1, 2, 1, 1, 1, 2, 0, 1, 0, 4, 0, 3, 2, 1, 2, 2, 3, 0, 1, 3, 1, 2, 2, 1, 2, 0, 1, 1, 0, 3, 2, 3, 1, 1, 1, 0, 1, 2, 2, 2, 0, 3, 3, 2, 0, 1, 1, 1, 1, 1, 0, 1, 0, 1, 1, 2, 3, 3, 0, 3, 4, 2, 2, 2, 2, 2, 2, 4, 1, 0, 0, 3, 2, 0, 0, 2, 1, 2, 0, 3, 1, 1, 0, 2, 1, 2, 2, 3, 0, 2, 1, 0, 3, 2, 4, 1, 2, 1, 1, 1, 4, 3, 3, 2, 3, 2, 0, 1, 2, 2, 1, 4, 2, 3, 3, 2, 2, 0, 4, 2, 2, 1, 2, 0, 1, 1, 1, 4, 0, 2, 1, 4, 0, 0, 2, 2, 1, 1, 3, 0, 2, 0, 2, 3, 3, 1, 0, 4, 1, 1, 0, 2, 3, 1, 1, 2, 1, 1, 3, 1, 3, 2, 2, 1, 2, 2, 4, 3, 1, 1, 1, 0, 1, 1, 0, 3, 0, 2, 2, 3, 0, 1, 0, 3, 0, 0, 4, 4, 1, 1, 2, 1, 1, 0, 2, 1, 1, 2, 6, 1, 3, 1, 3, 3, 1, 1, 2, 4, 1, 2, 3, 1, 2, 1, 0, 1, 1, 1, 1, 0, 1, 1, 1, 3, 2, 2, 1, 0, 1, 2, 2, 1, 0, 1, 2, 2, 2, 0, 3, 3, 3, 1, 1, 1, 2, 1, 1, 1, 2, 2, 1, 2, 0, 4, 4, 2, 1, 1, 0, 1, 0, 2, 2, 1, 2, 2, 1, 1, 1, 2, 3, 0, 1, 2, 3, 1, 3, 1, 0, 2, 1, 1, 3, 2, 0, 2, 1, 3, 1, 2, 1, 1, 2, 2, 1, 2, 1, 3, 1, 0, 1, 1, 2, 2, 1, 3, 1, 1, 1, 1, 2, 2, 1, 2, 2, 2, 2, 3, 3, 3, 2, 0, 1, 0, 2, 1, 3, 1, 1, 0, 2, 2, 3, 3, 0, 1, 0, 2, 1, 0, 2, 1, 3, 1, 2, 2, 0, 2, 0, 0, 1, 1, 1, 0, 1, 1, 0, 0, 1, 1, 2, 3, 2, 2, 0, 0, 1, 2, 1, 2, 2, 1, 0, 2, 2, 2, 3, 3, 2, 0, 2, 3, 0, 3, 0, 3, 0, 2, 2, 3, 2, 3, 1, 0, 2, 1, 1, 3, 3, 0, 1, 1, 1, 2, 2, 1, 3, 0, 1, 0, 1, 0, 1, 1, 2, 3, 2, 4, 2, 0, 0, 3, 2, 1, 2, 0, 2, 3, 2, 2, 0, 1, 2, 0, 2, 0, 2, 2, 1, 1, 1, 0, 1, 2, 3, 2, 2, 0, 2, 0, 1, 1, 0, 0, 1, 3, 1, 1, 3, 0, 1, 2, 0, 1, 2, 0, 3, 2, 1, 0, 1, 2, 2, 2, 1, 4, 2, 1, 2, 2, 1, 0, 1, 2, 2, 1, 3, 0, 2, 2, 1, 1, 3, 2, 2, 3, 1, 2, 2, 3, 2, 0, 1, 0, 4, 2, 1, 1, 1, 1, 1, 0, 2, 0, 1, 1, 0, 3, 2, 3, 2, 2, 0, 3, 3, 3, 1, 0, 2, 2, 4, 1, 2, 3, 1, 1, 0, 2, 2, 1, 4, 5, 3, 1, 0, 3, 1, 2, 1, 2, 3, 2, 0, 1, 1, 3, 3, 0, 2, 0, 2, 0, 0, 2, 1, 2, 5, 3, 3, 0, 1, 2, 0, 3, 4, 0, 4, 1, 0, 2, 1, 2, 4, 1, 1, 1, 1, 3, 2, 0, 2, 3, 2, 2, 1, 2, 0, 2, 2, 3, 1, 1, 2, 3, 2, 2, 0, 1, 1, 2, 2, 2, 4, 0, 2, 3, 3, 4, 1, 2, 4, 2, 2, 3, 1, 4, 2, 0, 1, 0, 1, 2, 1, 0, 1, 2, 2, 1, 0, 1, 1, 1, 3, 1, 1, 1, 2, 0, 1, 2, 1, 1, 1, 2, 6, 2, 1, 2, 1, 0, 2, 3, 2, 1, 4, 3, 3, 0, 1, 1, 2, 1, 2, 2, 2, 1, 0, 2, 1, 1, 0, 1, 2, 2, 1, 3, 3, 0, 0, 1, 4, 2, 1, 0, 1, 1, 4, 3, 0, 2, 0, 0, 2, 0, 1, 2, 1, 1, 3, 2, 1, 1, 0, 2, 1, 2, 1, 1, 2, 2, 4, 2, 2, 2, 0, 1, 0, 1, 4, 0, 1, 2, 1, 2, 2, 3, 2, 1, 0, 2, 0, 1, 2, 3, 0, 2, 3, 3, 0, 1, 2, 0, 2, 2, 1, 1, 3, 0, 2, 1, 2, 2, 1, 1, 1, 1, 3, 0, 2, 2, 2, 3, 2, 2, 1, 2, 1, 0, 3, 4, 0, 0, 4, 3, 3, 1, 4, 0, 1, 2, 1, 1, 1, 3, 2, 1, 1, 2, 1, 3, 2, 0, 2, 0, 0, 1, 1, 3, 2, 2, 0, 4, 2, 1, 0, 2, 0, 3, 2, 2, 2, 0, 2, 1, 3, 2, 0, 2, 2, 2, 2, 1, 2, 2, 0, 2, 0, 1, 0, 2, 2, 2, 2, 2, 1, 1, 1, 1, 0, 2, 2, 0, 2, 0, 2, 1, 2, 2, 5, 2, 0, 2, 2, 1, 1, 1, 2, 2, 1, 3, 2, 3, 2, 2, 0, 2, 1, 3, 3, 1, 1, 2, 1, 2, 2, 1, 1, 2, 4, 0, 1, 2, 3, 1, 3, 2, 2, 2, 0, 1, 2, 2, 0, 3, 3, 0, 3, 1, 1, 1, 0, 0, 2, 1, 2, 1, 2, 1, 2, 2, 1, 2, 0, 1, 4, 4, 0, 2, 2, 2, 3, 3, 1, 3, 2, 3, 2, 0, 0, 0, 1, 0, 2, 3, 1, 1, 0, 1, 3, 0, 3, 2, 0, 2, 1, 2, 1, 0, 3, 1, 0, 0, 2, 0, 1, 1, 1, 3, 3, 1, 1, 1, 1, 2, 0, 2, 1, 2, 0, 1, 2, 1, 1, 2, 2, 0, 0, 0, 3, 2, 1, 2, 3, 2, 3, 2, 2, 2, 2, 2, 3, 2, 1, 2, 1, 0, 2, 2, 1, 0, 1, 2, 1, 1, 2, 2, 3, 0, 2, 2, 1, 2, 1, 1, 2, 1, 0, 0, 1, 1, 1, 5, 0, 2, 1, 1, 0, 2, 0, 1, 1, 2, 1, 0, 0, 2, 3, 1, 1, 2, 2, 1, 3, 2, 0, 1, 0, 1, 2, 0, 2, 1, 2, 1, 0, 2, 0, 0, 3, 2, 1, 2, 1, 2, 1, 2, 2, 2, 1, 1, 3, 1, 3, 1, 0, 3, 3, 2, 2, 3, 2, 1, 4, 1, 1, 2, 2, 2, 4, 2, 3, 4, 1, 2, 3, 0, 4, 2, 1, 2, 2, 2, 2, 0, 1, 0, 3, 2, 1, 2, 1, 3, 0, 0, 1, 1, 2, 1, 1, 0, 0, 1, 3, 1, 1, 2, 2, 3, 2, 1, 3, 1, 2, 2, 3, 2, 2, 2, 3, 2, 2, 1, 2, 2, 0, 1, 1, 1, 3, 1, 2, 3, 2, 2, 3, 4, 1, 3, 1, 2, 1, 0, 2, 1, 0, 0, 2, 1, 2, 2, 1, 2, 2, 1, 2, 3, 1, 1, 2, 2, 0, 2, 1, 1, 0, 2, 4, 0, 1, 3, 2, 1, 2, 1, 0, 2, 0, 0, 3, 2, 2, 1, 4, 0, 0, 4, 3, 3, 0, 0, 0, 0, 1, 0, 2, 2, 1, 1, 1, 3, 0, 4, 0, 0, 0, 4, 1, 2, 1, 2, 1, 2, 1, 1, 1, 4, 1, 1, 0, 1, 3, 0, 2, 1, 3, 1, 3, 3, 0, 3, 2, 4, 2, 1, 2, 1, 1, 3, 1, 0, 1, 1, 0, 2, 2, 2, 4, 2, 2, 3, 0, 2, 1, 2, 2, 0, 1, 0, 2, 1, 1, 2, 0, 1, 2, 3, 0, 2, 2, 1, 4, 2, 2, 2, 3, 0, 2, 2, 1, 1, 0, 1, 3, 3, 3, 0, 4, 2, 2, 0, 1, 1, 3, 2, 1, 1, 0, 1, 1, 4, 2, 1, 2, 2, 0, 1, 2, 3, 1, 2, 2, 2, 2, 1, 0, 2, 0, 0, 0, 2, 0, 0, 1, 0, 1, 3, 0, 1, 0, 2, 1, 2, 3, 2, 1, 2, 1, 0, 2, 2, 1, 3, 0, 0, 2, 3, 3, 3, 0, 1, 2, 2, 0, 3, 4, 1, 3, 1, 1, 0, 1, 2, 1, 2, 1, 2, 1, 0, 3, 1, 4, 0, 2, 0, 1, 0, 2, 1, 2, 1, 2, 4, 0, 2, 2, 1, 4, 1, 0, 2, 5, 2, 1, 1, 0, 1, 0, 3, 3, 3, 1, 0, 1, 1, 0, 1, 2, 4, 1, 2, 2, 1, 1, 2, 2, 0, 0, 1, 0, 1, 0, 0, 3, 3, 1, 2, 0, 2, 1, 1, 2, 2, 0, 4, 1, 1, 2, 0, 0, 2, 1, 1, 1, 2, 3, 0, 4, 0, 2, 0, 3, 1, 2, 3, 0, 2, 4, 1, 1, 0, 2, 2, 1, 0, 0, 2, 1, 3, 1, 0, 1, 3, 3, 2, 0, 0, 0, 0, 3, 2, 1, 2, 0, 1, 2, 1, 0, 0, 2, 3, 0, 1, 0, 3, 2, 2, 3, 2, 0, 3, 1, 1, 2, 2, 1, 0, 1, 0, 2, 1, 3, 1, 3, 3, 0, 3, 1, 1, 2, 3, 0, 0, 3, 1, 2, 1, 2, 1, 3, 1, 2, 0, 2, 2, 0, 2, 2, 2, 1, 1, 1, 3, 1, 2, 1, 3, 1, 1, 3, 3, 2, 2, 1, 0, 0, 1, 0, 0, 1, 0, 3, 4, 2, 2, 1, 1, 1, 1, 2, 0, 0, 1, 2, 2, 3, 1, 2, 2, 2, 1, 1, 1, 2, 1, 1, 0, 3, 1, 3, 1, 2, 3, 1, 2, 3, 1, 2, 0, 0, 1, 2, 1, 1, 3, 3, 3, 0, 1, 2, 2, 0, 3, 1, 1, 2, 1, 5, 2, 2, 1, 2, 1, 1, 3, 1, 3, 2, 2, 1, 0, 1, 0, 2, 2, 2, 1, 2, 2, 2, 3, 1, 2, 3, 2, 1, 3, 3, 0, 4, 1, 2, 0, 2, 3, 4, 0, 2, 4, 3, 0, 2, 3, 2, 0, 0, 1, 1, 1, 1, 1, 2, 0, 1, 3, 2, 1, 1, 2, 1, 0, 3, 4, 1, 0, 3, 3, 2, 1, 1, 3, 2, 0, 2, 1, 2, 1, 1, 1, 1, 1, 1, 1, 0, 0, 2, 0, 3, 1, 2, 1, 2, 2, 0, 0, 0, 1, 0, 0, 3, 1, 0, 2, 4, 0, 1, 1, 1, 1, 1, 3, 1, 0, 0, 0, 2, 2, 3, 0, 1, 1, 0, 0, 1, 3, 2, 1, 0, 1, 0, 0, 0, 3, 1, 1, 2, 3, 0, 2, 1, 2, 2, 2, 1, 0, 4, 3, 1, 1, 1, 2, 3, 0, 3, 0, 2, 1, 0, 1, 0, 3, 0, 1, 2, 2, 2, 1, 1, 5, 0, 1, 0, 1, 2, 4, 2, 4, 1, 2, 3, 0, 3, 2, 2, 5, 2, 3, 2, 0, 2, 2, 5, 0, 2, 2, 2, 3, 1, 0, 0, 0, 3, 2, 0, 1, 1, 1, 1, 2, 1, 2, 3, 3, 0, 1, 1, 0, 1, 0, 0, 0, 3, 2, 1, 3, 0, 2, 4, 1, 4, 4, 0, 2, 2, 2, 2, 0, 2, 0, 3, 1, 0, 4, 0, 1, 1, 0, 3, 0, 1, 3, 3, 3, 0, 3, 1, 3, 0, 2, 0, 0, 3, 0, 2, 2, 0, 3, 3, 2, 0, 0, 3, 1, 3, 2, 3, 2, 2, 1, 2, 2, 1, 4, 1, 2, 2, 1, 0, 2, 1, 2, 2, 0, 2, 0, 0, 0, 0, 3, 1, 1, 0, 3, 1, 1, 0, 2, 1, 1, 1, 1, 0, 2, 1, 2, 0, 3, 2, 0, 1, 1, 4, 2, 4, 1, 0, 3, 1, 2, 1, 3, 0, 4, 4, 1, 2, 1, 2, 1, 3, 2, 1, 2, 0, 3, 1, 1, 2, 3, 2, 0, 1, 0, 2, 2, 3, 0, 3, 1, 4, 3, 0, 4, 1, 2, 3, 1, 1, 1, 3, 2, 2, 0, 2, 1, 0, 2, 1, 3, 2, 2, 2, 1, 3, 2, 3, 2, 1, 3, 3, 3, 2, 2, 2, 2, 1, 3, 1, 1, 1, 2, 2, 4, 2, 1, 1, 2, 3, 0, 1, 0, 2, 0, 2, 2, 3, 2, 2, 1, 2, 2, 1, 0, 2, 1, 2, 2, 1, 1, 1, 0, 2, 1, 1, 2, 3, 3, 0, 2, 2, 1, 1, 3, 0, 0, 3, 1, 2, 2, 0, 0, 1, 3, 2, 0, 2, 2, 2, 1, 2, 1, 2, 3, 2, 0, 1, 2, 0, 0, 1, 2, 2, 2, 0, 2, 1, 2, 0, 2, 1, 2, 1, 0, 4, 0, 0, 1, 0, 1, 3, 1, 0, 3, 1, 1, 2, 0, 1, 0, 0, 3, 2, 2, 3, 1, 0, 1, 2, 2, 1, 3, 0, 2, 0, 0, 0, 1, 2, 2, 4, 2, 0, 1, 2, 2, 2, 3, 1, 1, 0, 3, 3, 1, 2, 1, 2, 3, 0, 2, 0, 2, 3, 0, 0, 2, 0, 2, 3, 1, 4, 3, 0, 1, 1, 4, 1, 4, 2, 2, 2, 2, 3, 2, 3, 1, 1, 2, 1, 1, 3, 1, 1, 0, 1, 1, 3, 2, 2, 0, 2, 3, 0, 0, 1, 1, 2, 3, 3, 3, 3, 2, 2, 1, 2, 1, 0, 0, 2, 4, 3, 1, 3, 0, 1, 2, 1, 2, 1, 1, 0, 1, 2, 2, 4, 2, 1, 3, 1, 1, 2, 2, 2, 1, 3, 0, 1, 2, 1, 2, 0, 1, 3, 1, 0, 2, 3, 3, 3, 1, 0, 1, 1, 0, 1, 0, 2, 0, 0, 0, 2, 1, 3, 1, 0, 0, 0, 2, 1, 2, 3, 3, 2, 1, 1, 2, 2, 1, 2, 1, 0, 2, 1, 0, 2, 0, 0, 3, 2, 2, 1, 1, 2, 2, 4, 1, 2, 3, 2, 2, 2, 3, 2, 1, 1, 1, 1, 1, 0, 0, 3, 0, 2, 1, 3, 0, 1, 1, 1, 2, 4, 0, 0, 2, 1, 0, 2, 3, 3, 0, 2, 2, 3, 3, 1, 1, 1, 2, 0, 1, 1, 3, 3, 4, 1, 3, 1, 2, 2, 2, 1, 1, 1, 2, 4, 1, 2, 0, 2, 2, 1, 3, 2, 0, 2, 3, 2, 0, 2, 1, 2, 2, 1, 4, 1, 2, 1, 1, 2, 0, 2, 0, 4, 0, 1, 3, 2, 1, 1, 1, 3, 1, 0, 1, 1, 1, 0, 0, 1, 2, 4, 2, 0, 2, 2, 2, 0, 1, 4, 0, 1, 1, 1, 0, 2, 2, 1, 2, 1, 1, 1, 0, 2, 2, 3, 1, 0, 1, 1, 2, 2, 1, 0, 2, 3, 3, 1, 1, 2, 3, 4, 1, 3, 2, 1, 1, 2, 1, 2, 0, 2, 2, 1, 1, 2, 2, 1, 3, 3, 1, 0, 3, 0, 1, 3, 3, 2, 3, 0, 1, 2, 1, 1, 1, 2, 3, 3, 1, 1, 2, 3, 0, 2, 1, 1, 1, 2, 0, 0, 1, 0, 3, 2, 2, 2, 0, 2, 2, 1, 0, 0, 6, 2, 1, 3, 3, 1, 4, 2, 0, 2, 1, 1, 1, 1, 1, 0, 0, 2, 1, 0, 0, 3, 1, 2, 1, 0, 1, 2, 0, 3, 1, 2, 1, 1, 4, 2, 3, 0, 0, 1, 0, 0, 2, 1, 3, 0, 1, 1, 3, 2, 1, 3, 1, 0, 1, 1, 2, 0, 2, 3, 2, 2, 1, 1, 1, 0, 0, 2, 2, 3, 2, 1, 1, 0, 1, 2, 0, 1, 3, 2, 2, 4, 2, 3, 1, 2, 2, 1, 0, 1, 2, 2, 1, 3, 1, 1, 2, 3, 3, 0, 3, 0, 0, 2, 1, 1, 0, 3, 2, 1, 3, 2, 2, 0, 4, 1, 2, 3, 1, 2, 4, 1, 0, 1, 2, 1, 2, 2, 1, 1, 2, 0, 2, 2, 3, 0, 1, 0, 3, 1, 2, 0, 2, 3, 2, 3, 3, 4, 0, 2, 2, 2, 3, 1, 3, 2, 2, 2, 1, 3, 1, 3, 3, 3, 0, 1, 1, 0, 2, 0, 1, 3, 1, 2, 3, 3, 0, 0, 6, 1, 3, 0, 1, 2, 1, 1, 1, 0, 1, 1, 2, 4, 4, 0, 0, 1, 1, 1, 2, 1, 0, 0, 1, 0, 1, 1, 4, 1, 2, 2, 2, 0, 0, 1, 4, 2, 1, 0, 2, 0, 2, 2, 2, 2, 3, 1, 1, 2, 1, 2, 3, 1, 1, 2, 1, 5, 2, 1, 1, 0, 1, 2, 4, 1, 0, 2, 2, 2, 1, 0, 0, 1, 3, 4, 0, 2, 2, 1, 1, 1, 1, 2, 2, 1, 1, 0, 1, 1, 1, 3, 1, 3, 2, 2, 0, 0, 1, 1, 0, 2, 1, 3, 2, 1, 3, 2, 0, 3, 0, 2, 1, 1, 1, 1, 2, 1, 1, 1, 3, 2, 3, 2, 4, 0, 0, 1, 1, 3, 1, 2, 0, 1, 1, 2, 5, 1, 2, 4, 0, 1, 0, 0, 2, 0, 4, 1, 3, 1, 0, 2, 2, 2, 0, 2, 3, 2, 2, 4, 2, 2, 3, 2, 2, 2, 1, 1, 3, 3, 2, 2, 1, 1, 1, 1, 1, 1, 1, 4, 3, 2, 0, 3, 1, 2, 1, 1, 2, 3, 2, 2, 2, 4, 2, 2, 2, 3, 2, 3, 4, 1, 1, 1, 2, 4, 3, 3, 3, 1, 3, 2, 2, 2, 0, 2, 0, 0, 3, 2, 3, 3, 2, 2, 0, 1, 2, 2, 2, 0, 3, 1, 4, 2, 2, 2, 1, 4, 1, 1, 0, 2, 1, 1, 0, 0, 2, 0, 0, 3, 1, 0, 0, 3, 1, 0, 1, 2, 0, 1, 2, 2, 2, 0, 2, 2, 2, 2, 2, 2, 2, 0, 0, 3, 0, 1, 0, 3, 3, 2, 3, 1, 5, 0, 1, 1, 1, 0, 2, 3, 2, 1, 3, 1, 0, 3, 1, 2, 1, 0, 1, 2, 2, 0, 1, 1, 0, 4, 2, 1, 2, 2, 1, 2, 1, 2, 2, 1, 1, 2, 2, 0, 0, 2, 0, 1, 2, 2, 5, 1, 3, 2, 1, 3, 3, 1, 0, 0, 2, 0, 4, 0, 2, 2, 0, 1, 3, 1, 2, 3, 2, 2, 2, 0, 2, 2, 2, 1, 1, 2, 2, 1, 3, 4, 2, 1, 0, 2, 3, 2, 0, 1, 1, 2, 0, 2, 3, 3, 2, 1, 1, 0, 1, 1, 0, 0, 2, 1, 0, 1, 2, 2, 0, 3, 2, 0, 2, 1, 0, 2, 2, 3, 1, 1, 1, 3, 2, 0, 0, 2, 4, 2, 2, 3, 2, 3, 1, 3, 1, 0, 4, 2, 0, 2, 2, 1, 2, 3, 3, 1, 0, 2, 0, 2, 0, 2, 1, 1, 2, 0, 3, 0, 3, 0, 0, 0, 2, 3, 1, 2, 2, 3, 0, 2, 1, 1, 0, 1, 2, 1, 2, 2, 1, 1, 1, 0, 3, 4, 0, 1, 0, 0, 1, 2, 3, 4, 2, 2, 1, 2, 0, 1, 4, 1, 0, 2, 2, 4, 2, 2, 2, 1, 2, 3, 1, 1, 2, 0, 1, 1, 1, 0, 1, 1, 0, 0, 2, 2, 0, 3, 0, 0, 2, 2, 0, 1, 2, 2, 3, 0, 2, 2, 1, 1, 2, 0, 2, 2, 2, 1, 0, 3, 3, 2, 3, 3, 3, 4, 2, 2, 2, 1, 2, 2, 2, 3, 1, 1, 2, 1, 1, 2, 1, 1, 2, 0, 1, 0, 0, 1, 2, 2, 1, 0, 1, 0, 2, 0, 0, 0, 2, 0, 3, 1, 1, 2, 2, 0, 3, 2, 0, 0, 2, 4, 3, 1, 2, 2, 2, 2, 1, 1, 1, 1, 2, 1, 1, 3, 2, 1, 2, 1, 1, 0, 3, 2, 3, 1, 1, 2, 2, 1, 1, 0, 2, 2, 0, 1, 4, 1, 2, 4, 1, 4, 0, 1, 3, 1, 1, 3, 1, 3, 1, 2, 2, 0, 2, 0, 1, 2, 0, 1, 1, 3, 2, 3, 1, 2, 1, 2, 0, 0, 4, 2, 1, 1, 0, 4, 1, 0, 2, 2, 0, 1, 0, 2, 2, 0, 2, 2, 4, 0, 2, 2, 1, 0, 1, 2, 2, 2, 3, 0, 0, 0, 1, 1, 1, 3, 2, 4, 2, 3, 1, 2, 1, 3, 0, 2, 1, 2, 4, 0, 3, 3, 2, 3, 2, 0, 4, 2, 0, 0, 2, 1, 2, 1, 2, 2, 0, 2, 3, 1, 3, 0, 1, 1, 1, 0, 2, 2, 2, 0, 1, 3, 2, 4, 0, 2, 1, 3, 3, 1, 2, 2, 3, 1, 0, 2, 1, 3, 6, 1, 0, 2, 0, 1, 2, 1, 3, 0, 1, 2, 2, 4, 1, 2, 1, 4, 2, 2, 2, 2, 1, 3, 1, 1, 0, 1, 1, 2, 2, 3, 1, 2, 3, 2, 3, 3, 1, 2, 2, 1, 3, 1, 1, 2, 1, 0, 0, 1, 2, 2, 2, 1, 2, 1, 2, 1, 1, 2, 2, 3, 1, 1, 2, 1, 3, 1, 1, 2, 1, 0, 2, 2, 4, 2, 2, 2, 2, 4, 0, 2, 2, 3, 1, 0, 0, 1, 2, 2, 1, 0, 1, 2, 0, 1, 1, 0, 0, 1, 0, 0, 1, 2, 0, 1, 3, 3, 1, 3, 4, 0, 2, 0, 2, 3, 2, 4, 0, 3, 0, 1, 1, 2, 3, 0, 2, 2, 2, 3, 1, 0, 2, 2, 1, 0, 2, 2, 0, 2, 2, 2, 2, 1, 1, 1, 2, 3, 2, 2, 1, 0, 0, 0, 1, 0, 1, 1, 4, 2, 3, 1, 3, 1, 1, 1, 2, 0, 1, 0, 0, 1, 3, 2, 3, 0, 2, 2, 1, 1, 1, 2, 1, 2, 0, 2, 2, 2, 3, 2, 0, 2, 1, 0, 1, 2, 2, 2, 0, 1, 3, 2, 0, 4, 3, 3, 0, 2, 1, 1, 2, 0, 0, 1, 2, 4, 2, 1, 0, 2, 1, 2, 1, 3, 0, 2, 3, 3, 3, 0, 2, 3, 1, 2, 0, 1, 1, 0, 2, 2, 1, 1, 1, 4, 2, 3, 4, 2, 3, 1, 1, 1, 2, 2, 1, 4, 2, 0, 2, 3, 2, 0, 0, 1, 3, 0, 1, 3, 2, 0, 1, 1, 1, 1, 4, 3, 2, 2, 1, 1, 1, 1, 2, 1, 2, 2, 2, 0, 1, 2, 2, 1, 2, 2, 2, 1, 0, 1, 1, 2, 1, 3, 2, 2, 2, 1, 2, 1, 1, 2, 2, 4, 0, 1, 2, 1, 1, 0, 0, 2, 1, 2, 1, 1, 3, 3, 2, 2, 0, 0, 1, 2, 2, 2, 2, 0, 2, 1, 2, 1, 5, 2, 1, 3, 1, 2, 1, 0, 2, 0, 0, 0, 4, 1, 3, 0, 0, 1, 1, 2, 2, 3, 1, 4, 1, 1, 0, 2, 2, 3, 0, 2, 2, 3, 1, 0, 1, 2, 2, 2, 2, 1, 3, 2, 2, 2, 3, 3, 2, 1, 1, 1, 0, 1, 2, 1, 0, 3, 1, 0, 1, 2, 1, 2, 2, 3, 3, 4, 0, 0, 1, 2, 3, 2, 2, 1, 1, 2, 2, 2, 4, 0, 0, 2, 2, 2, 1, 2, 2, 3, 1, 1, 0, 1, 2, 1, 3, 0, 3, 1, 1, 0, 1, 1, 3, 3, 4, 1, 1, 1, 1, 1, 2, 2, 2, 2, 1, 1, 1, 2, 2, 3, 2, 0, 0, 3, 2, 3, 1, 1, 1, 3, 1, 2, 2, 2, 0, 2, 0, 2, 1, 0, 3, 1, 2, 0, 0, 1, 0, 1, 0, 2, 2, 0, 0, 2, 1, 2, 1, 1, 2, 2, 0, 0, 1, 1, 1, 1, 1, 2, 0, 2, 1, 2, 1, 2, 0, 3, 1, 2, 0, 3, 1, 4, 0, 0, 1, 3, 0, 2, 2, 0, 0, 1, 0, 0, 1, 1, 0, 0, 1, 1, 0, 1, 1, 2, 1, 2, 3, 0, 1, 2, 3, 3, 0, 1, 4, 3, 2, 2, 1, 1, 1, 2, 3, 3, 2, 1, 3, 1, 3, 1, 0, 2, 1, 2, 1, 0, 3, 2, 0, 2, 4, 1, 2, 0, 1, 2, 4, 2, 2, 1, 1, 2, 3, 2, 2, 0, 2, 1, 1, 1, 1, 3, 0, 4, 2, 1, 2, 2, 3, 2, 3, 1, 3, 2, 0, 0, 2, 1, 1, 1, 3, 3, 0, 1, 1, 0, 3, 3, 0, 1, 3, 1, 1, 0, 3, 0, 1, 5, 1, 0, 3, 0, 1, 3, 0, 2, 0, 0, 2, 0, 0, 0, 2, 3, 0, 2, 3, 1, 3, 2, 1, 1, 3, 4, 0, 3, 2, 3, 3, 2, 2, 4, 0, 1, 2, 2, 1, 5, 2, 1, 1, 1, 2, 1, 2, 4, 0, 1, 1, 1, 1, 1, 1, 1, 0, 0, 1, 2, 3, 1, 1, 1, 1, 1, 1, 0, 3, 2, 3, 2, 1, 3, 4, 0, 4, 1, 0, 1, 2, 3, 1, 0, 0, 1, 3, 3, 2, 2, 2, 2, 1, 3, 1, 0, 2, 0, 3, 2, 0, 2, 3, 1, 0, 2, 2, 1, 0, 2, 3, 1, 2, 0, 4, 1, 2, 2, 3, 0, 2, 3, 1, 1, 1, 0, 2, 1, 3, 3, 1, 2, 1, 1, 2, 1, 2, 0, 3, 1, 1, 3, 2, 1, 1, 3, 4, 1, 1, 0, 2, 3, 3, 1, 2, 1, 3, 0, 1, 3, 2, 1, 2, 2, 1, 2, 2, 2, 4, 3, 1, 3, 3, 1, 1, 3, 1, 3, 2, 1, 2, 1, 3, 2, 0, 2, 1, 1, 2, 1, 2, 1, 2, 1, 2, 2, 2, 2, 3, 0, 3, 0, 3, 1, 1, 2, 2, 1, 0, 0, 1, 3, 1, 1, 2, 0, 4, 3, 0, 2, 1, 0, 2, 4, 4, 0, 3, 0, 1, 1, 0, 1, 2, 0, 3, 2, 2, 0, 1, 2, 4, 4, 3, 3, 3, 0, 1, 2, 2, 1, 1, 1, 3, 1, 3, 1, 1, 4, 1, 1, 3, 0, 1, 2, 2, 2, 0, 0, 1, 2, 2, 1, 1, 1, 1, 1, 0, 3, 3, 1, 3, 2, 2, 0, 1, 2, 0, 1, 2, 2, 1, 2, 1, 0, 0, 0, 4, 0, 3, 1, 0, 1, 1, 3, 1, 0, 2, 2, 1, 2, 2, 0, 4, 2, 2, 0, 2, 2, 2, 1, 2, 1, 2, 2, 3, 2, 2, 2, 1, 1, 1, 1, 1, 1, 1, 2, 1, 2, 0, 0, 2, 2, 4, 2, 1, 2, 0, 2, 1, 1, 0, 1, 2, 3, 2, 2, 0, 2, 2, 1, 3, 1, 0, 2, 0, 2, 2, 0, 4, 1, 2, 2, 0, 1, 3, 2, 1, 3, 1, 4, 2, 1, 2, 4, 2, 2, 0, 1, 1, 3, 3, 3, 2, 1, 0, 2, 1, 1, 3, 4, 2, 1, 3, 1, 4, 1, 3, 1, 2, 1, 1, 2, 2, 3, 0, 2, 2, 2, 1, 2, 2, 2, 3, 1, 1, 2, 0, 2, 3, 2, 3, 2, 0, 1, 4, 3, 2, 3, 2, 0, 4, 2, 2, 2, 1, 2, 1, 2, 1, 1, 1, 1, 0, 3, 0, 2, 3, 2, 2, 1, 1, 3, 1, 1, 3, 3, 2, 2, 1, 1, 0, 1, 2, 2, 2, 1, 1, 1, 0, 1, 4, 1, 1, 3, 1, 4, 3, 4, 3, 3, 2, 1, 0, 1, 1, 1, 1, 1, 0, 1, 0, 1, 1, 0, 2, 4, 1, 3, 2, 2, 1, 2, 0, 2, 0, 3, 2, 0, 1, 0, 2, 1, 2, 2, 2, 1, 0, 1, 2, 1, 0, 0, 0, 2, 0, 2, 2, 3, 0, 1, 2, 2, 3, 2, 2, 3, 2, 2, 1, 1, 1, 0, 0, 2, 2, 1, 0, 1, 0, 1, 0, 1, 1, 2, 2, 2, 2, 0, 0, 2, 0, 3, 4, 2, 0, 2, 1, 0, 1, 0, 1, 3, 1, 1, 1, 1, 1, 0, 1, 2, 2, 1, 1, 3, 0, 2, 1, 2, 3, 2, 2, 1, 1, 0, 2, 1, 2, 3, 2, 0, 0, 2, 1, 2, 1, 2, 4, 0, 2, 2, 2, 1, 2, 1, 1, 2, 2, 2, 3, 1, 2, 2, 0, 1, 3, 0, 2, 2, 2, 2, 2, 2, 0, 4, 4, 0, 1, 1, 2, 2, 0, 0, 1, 1, 0, 1, 2, 1, 2, 2, 1, 3, 3, 0, 2, 3, 0, 1, 3, 0, 1, 0, 1, 2, 1, 1, 1, 1, 2, 3, 1, 2, 0, 1, 2, 1, 2, 2, 2, 0, 2, 2, 1, 2, 0, 1, 3, 4, 0, 2, 2, 1, 0, 2, 1, 4, 0, 0, 0, 1, 3, 0, 2, 2, 3, 0, 1, 1, 2, 1, 1, 1, 1, 2, 1, 3, 2, 1, 3, 1, 4, 2, 0, 1, 1, 0, 0, 3, 3, 3, 1, 1, 1, 3, 1, 1, 3, 2, 1, 1, 0, 1, 3, 0, 3, 3, 1, 2, 1, 0, 2, 3, 3, 1, 1, 1, 2, 3, 1, 0, 0, 0, 0, 1, 3, 1, 2, 2, 2, 3, 3, 1, 1, 2, 2, 1, 0, 0, 2, 1, 0, 1, 0, 3, 1, 1, 4, 2, 0, 3, 1, 1, 1, 4, 0, 3, 2, 2, 3, 1, 2, 0, 0, 2, 2, 1, 0, 1, 4, 1, 2, 0, 1, 3, 0, 0, 1, 0, 2, 0, 2, 2, 3, 2, 1, 1, 1, 2, 2, 1, 1, 2, 0, 3, 1, 3, 2, 2, 1, 0, 1, 3, 4, 4, 1, 5, 3, 0, 0, 2, 3, 2, 2, 0, 1, 2, 1, 1, 0, 1, 1, 1, 3, 3, 0, 1, 3, 2, 2, 2, 1, 1, 2, 1, 5, 3, 2, 1, 0, 3, 0, 1, 1, 0, 3, 2, 3, 1, 3, 1, 3, 0, 1, 0, 1, 4, 2, 2, 0, 0, 2, 1, 1, 2, 3, 2, 2, 0, 0, 3, 2, 3, 1, 2, 2, 1, 3, 0, 1, 1, 2, 1, 0, 3, 1, 3, 2, 1, 0, 2, 2, 1, 1, 3, 4, 1, 2, 1, 1, 2, 1, 2, 0, 2, 1, 0, 2, 0, 0, 0, 3, 1, 0, 2, 0, 0, 2, 1, 0, 3, 2, 0, 3, 1, 0, 2, 1, 3, 0, 1, 2, 1, 1, 1, 2, 1, 1, 2, 1, 4, 1, 1, 0, 0, 2, 1, 2, 1, 2, 3, 2, 0, 1, 2, 4, 3, 3, 3, 3, 2, 1, 3, 1, 2, 2, 2, 2, 2, 3, 1, 3, 3, 1, 0, 1, 0, 1, 0, 0, 2, 2, 2, 4, 1, 1, 1, 1, 1, 2, 0, 1, 1, 2, 3, 3, 0, 0, 3, 1, 0, 3, 3, 4, 2, 2, 1, 2, 2, 2, 3, 2, 2, 2, 1, 0, 2, 0, 3, 3, 1, 0, 0, 0, 2, 0, 3, 1, 2, 2, 1, 3, 2, 0, 1, 1, 2, 1, 3, 1, 0, 0, 2, 1, 1, 1, 2, 2, 1, 1, 3, 0, 1, 3, 2, 1, 3, 2, 1, 3, 0, 2, 2, 3, 2, 0, 1, 1, 1, 1, 0, 2, 3, 0, 3, 0, 1, 0, 1, 3, 3, 2, 1, 3, 2, 2, 1, 0, 3, 3, 1, 1, 2, 3, 2, 1, 1, 1, 2, 0, 2, 1, 2, 3, 4, 0, 3, 3, 0, 0, 2, 0, 1, 1, 1, 0, 3, 1, 1, 4, 1, 2, 2, 1, 3, 1, 2, 2, 2, 2, 3, 2, 0, 1, 1, 0, 3, 2, 3, 2, 3, 0, 3, 1, 2, 3, 0, 2, 2, 3, 2, 1, 1, 3, 2, 2, 1, 1, 3, 0, 3, 2, 1, 1, 4, 2, 2, 0, 0, 5, 1, 3, 2, 1, 1, 1, 2, 2, 3, 4, 1, 4, 2, 1, 2, 1, 3, 2, 3, 3, 0, 0, 4, 1, 0, 3, 0, 0, 2, 0, 0, 1, 2, 2, 1, 1, 2, 3, 2, 1, 2, 0, 0, 3, 2, 1, 2, 2, 2, 2, 2, 1, 1, 2, 2, 2, 2, 1, 2, 2, 1, 3, 1, 0, 1, 1, 3, 3, 1, 6, 0, 1, 2, 2, 2, 2, 2, 0, 3, 3, 2, 1, 1, 1, 1, 2, 1, 2, 2, 3, 3, 2, 2, 0, 1, 2, 3, 1, 3, 1, 1, 1, 1, 0, 2, 2, 3, 1, 2, 2, 1, 0, 2, 2, 1, 3, 3, 2, 1, 1, 2, 1, 1, 0, 4, 2, 1, 2, 2, 2, 3, 1, 2, 4, 2, 0, 2, 0, 0, 0, 0, 1, 3, 1, 3, 0, 2, 0, 2, 4, 2, 2, 0, 0, 2, 1, 1, 2, 1, 2, 1, 2, 2, 3, 2, 2, 4, 2, 0, 4, 3, 1, 0, 2, 2, 3, 2, 2, 3, 3, 0, 1, 4, 1, 2, 1, 1, 1, 1, 3, 4, 1, 2, 1, 0, 1, 3, 1, 1, 0, 1, 3, 0, 3, 2, 2, 0, 3, 2, 2, 1, 1, 1, 1, 0, 1, 0, 0, 1, 1, 1, 1, 1, 1, 2, 2, 1, 4, 2, 1, 3, 2, 2, 0, 1, 2, 4, 2, 2, 1, 1, 2, 3, 0, 0, 4, 2, 3, 2, 1, 0, 0, 1, 1, 0, 2, 2, 3, 1, 0, 1, 1, 2, 0, 2, 1, 1, 2, 1, 3, 1, 1, 1, 1, 4, 3, 0, 2, 2, 1, 2, 4, 3, 2, 1, 0, 1, 0, 2, 2, 2, 2, 1, 0, 2, 2, 1, 0, 1, 0, 1, 0, 2, 2, 2, 2, 2, 3, 2, 1, 0, 1, 1, 2, 2, 3, 3, 2, 1, 5, 1, 2, 2, 2, 1, 1, 2, 4, 2, 0, 3, 3, 1, 0, 1, 2, 2, 2, 1, 3, 0, 2, 0, 1, 2, 0, 0, 0, 3, 1, 0, 2, 3, 3, 2, 0, 0, 3, 1, 1, 3, 2, 4, 0, 2, 3, 1, 0, 1, 1, 1, 3, 2, 3, 1, 2, 2, 2, 1, 4, 3, 3, 0, 3, 4, 2, 2, 1, 1, 4, 1, 3, 3, 2, 0, 3, 1, 1, 2, 1, 4, 1, 1, 0, 1, 3, 2, 0, 4, 2, 0, 3, 1, 2, 0, 2, 1, 1, 2, 2, 1, 1, 0, 1, 3, 2, 1, 0, 1, 1, 1, 1, 1, 2, 3, 2, 2, 0, 1, 3, 5, 0, 0, 0, 2, 3, 1, 2, 2, 1, 1, 1, 2, 2, 3, 1, 1, 0, 1, 1, 2, 1, 3, 1, 1, 2, 0, 3, 1, 1, 1, 0, 4, 2, 3, 1, 3, 3, 1, 1, 1, 2, 0, 2, 0, 1, 0, 2, 1, 2, 2, 1, 1, 2, 0, 1, 1, 0, 0, 3, 2, 2, 4, 3, 1, 3, 4, 1, 0, 1, 0, 2, 0, 1, 3, 2, 2, 0, 2, 2, 2, 3, 2, 4, 1, 1, 0, 0, 1, 0, 1, 0, 1, 1, 0, 0, 0, 1, 0, 1, 0, 1, 1, 2, 3, 4, 0, 2, 2, 0, 4, 0, 2, 0, 2, 1, 3, 4, 0, 1, 2, 3, 2, 2, 2, 2, 1, 0, 0, 1, 1, 3, 0, 4, 1, 2, 0, 1, 1, 1, 0, 1, 2, 2, 2, 2, 2, 3, 3, 1, 2, 2, 2, 2, 2, 3, 0, 1, 5, 4, 0, 1, 1, 0, 3, 2, 3, 1, 3, 2, 0, 2, 1, 0, 4, 0, 2, 1, 3, 1, 2, 2, 0, 1, 2, 1, 0, 4, 2, 2, 3, 1, 1, 1, 0, 0, 0, 2, 3, 2, 2, 0, 1, 3, 1, 3, 0, 2, 2, 2, 2, 2, 0, 4, 1, 2, 1, 2, 4, 0, 1, 0, 0, 2, 2, 2, 1, 0, 3, 3, 2, 1, 1, 2, 0, 1, 2, 1, 3, 1, 2, 2, 1, 0, 3, 2, 2, 2, 3, 3, 0, 2, 2, 2, 1, 2, 1, 2, 3, 3, 3, 2, 5, 1, 0, 1, 1, 1, 2, 2, 2, 2, 1, 1, 2, 1, 1, 2, 0, 3, 1, 0, 0, 2, 4, 1, 3, 0, 0, 1, 3, 0, 2, 2, 3, 1, 1, 2, 0, 0, 0, 3, 1, 2, 2, 2, 2, 1, 2, 2, 2, 2, 1, 1, 1, 2, 2, 3, 0, 2, 2, 1, 0, 2, 3, 0, 2, 2, 3, 3, 3, 2, 1, 3, 2, 1, 0, 2, 2, 2, 1, 0, 1, 3, 1, 2, 1, 1, 2, 3, 1, 1, 2, 2, 2, 1, 1, 2, 1, 1, 3, 1, 1, 1, 2, 1, 2, 1, 2, 1, 2, 1, 1, 3, 2, 0, 0, 2, 2, 4, 1, 2, 1, 2, 0, 0, 2, 3, 2, 2, 2, 2, 1, 2, 4, 2, 1, 2, 1, 2, 2, 1, 2, 1, 2, 0, 1, 3, 1, 2, 3, 0, 1, 2, 0, 3, 0, 0, 1, 1, 1, 3, 4, 1, 0, 1, 0, 0, 2, 2, 3, 1, 1, 3, 2, 1, 1, 2, 1, 0, 1, 2, 0, 0, 2, 1, 2, 2, 0, 2, 0, 0, 2, 4, 1, 1, 2, 1, 2, 0, 3, 1, 1, 0, 2, 2, 0, 2, 1, 1, 2, 3, 2, 1, 2, 2, 1, 3, 1, 3, 2, 1, 0, 3, 1, 1, 0, 1, 2, 1, 2, 0, 0, 0, 2, 1, 2, 0, 1, 1, 2, 1, 0, 3, 0, 2, 2, 1, 0, 2, 1, 1, 2, 1, 1, 3, 0, 3, 3, 3, 0, 4, 1, 2, 2, 4, 2, 0, 2, 1, 4, 1, 1, 2, 2, 1, 2, 1, 0, 2, 0, 4, 2, 3, 3, 2, 2, 1, 2, 1, 1, 1, 1, 0, 2, 0, 1, 1, 2, 1, 3, 3, 1, 1, 3, 0, 2, 0, 0, 2, 3, 0, 1, 2, 1, 2, 2, 0, 0, 1, 2, 1, 0, 2, 2, 2, 1, 1, 2, 1, 2, 2, 3, 1, 0, 2, 3, 3, 3, 1, 0, 1, 1, 2, 3, 2, 2, 1, 1, 2, 1, 0, 0, 0, 2, 3, 0, 2, 3, 0, 2, 4, 1, 4, 0, 3, 1, 2, 1, 3, 1, 2, 3, 2, 2, 1, 5, 0, 4, 2, 3, 2, 2, 0, 3, 2, 1, 0, 2, 3, 2, 4, 1, 0, 3, 3, 2, 3, 2, 0, 2, 1, 0, 2, 2, 1, 2, 2, 2, 1, 2, 1, 3, 2, 0, 2, 2, 2, 2, 2, 3, 2, 1, 3, 1, 3, 3, 2, 2, 1, 4, 2, 2, 2, 1, 3, 0, 1, 1, 3, 1, 2, 1, 2, 3, 2, 2, 0, 1, 1, 2, 1, 1, 1, 0, 1, 2, 2, 2, 1, 1, 2, 2, 3, 3, 2, 1, 0, 0, 0, 2, 0, 2, 2, 3, 2, 2, 2, 3, 1, 1, 3, 3, 0, 3, 2, 1, 3, 1, 2, 2, 1, 0, 0, 3, 1, 2, 0, 1, 2, 4, 0, 0, 1, 2, 1, 2, 2, 2, 1, 1, 3, 1, 0, 1, 1, 1, 1, 1, 0, 3, 1, 0, 2, 0, 0, 1, 1, 2, 0, 1, 3, 2, 3, 2, 3, 1, 4, 0, 3, 0, 1, 1, 3, 2, 5, 0, 2, 0, 4, 1, 1, 0, 4, 2, 2, 2, 1, 2, 2, 1, 1, 2, 2, 0, 2, 3, 0, 0, 1, 3, 3, 3, 1, 0, 2, 1, 1, 1, 0, 1, 1, 2, 1, 0, 3, 3, 1, 0, 1, 0, 1, 3, 1, 2, 1, 2, 0, 1, 4, 1, 1, 1, 2, 2, 1, 2, 0, 2, 3, 1, 3, 4, 2, 2, 0, 3, 1, 2, 2, 3, 3, 1, 3, 3, 2, 2, 3, 1, 0, 1, 0, 1, 2, 3, 2, 2, 2, 3, 4, 1, 3, 2, 0, 1, 3, 0, 0, 0, 3, 0, 2, 2, 2, 2, 1, 4, 1, 4, 2, 3, 1, 1, 0, 0, 0, 2, 3, 2, 0, 1, 1, 2, 2, 0, 3, 3, 1, 1, 2, 1, 0, 3, 1, 0, 0, 4, 0, 1, 0, 0, 2, 1, 0, 3, 2, 2, 0, 1, 0, 2, 3, 1, 1, 3, 1, 3, 1, 0, 2, 3, 0, 0, 0, 3, 1, 1, 1, 2, 2, 1, 2, 1, 0, 1, 0, 2, 1, 1, 2, 2, 0, 2, 1, 2, 1, 2, 1, 1, 0, 2, 0, 2, 4, 3, 2, 3, 3, 0, 3, 2, 2, 2, 2, 2, 0, 0, 0, 2, 1, 0, 3, 0, 2, 2, 1, 2, 0, 1, 3, 2, 3, 2, 3, 3, 3, 1, 2, 2, 0, 1, 0, 3, 1, 3, 1, 1, 0, 2, 2, 4, 1, 3, 2, 2, 3, 0, 2, 0, 1, 1, 1, 0, 3, 2, 1, 1, 2, 2, 2, 4, 3, 2, 2, 2, 2, 2, 1, 1, 0, 3, 2, 4, 1, 2, 0, 1, 1, 2, 0, 3, 1, 0, 1, 1, 2, 2, 1, 0, 0, 0, 3, 2, 1, 2, 1, 1, 3, 3, 2, 2, 2, 2, 1, 2, 3, 2, 1, 4, 0, 1, 1, 2, 4, 1, 3, 1, 2, 3, 1, 2, 3, 2, 3, 1, 1, 3, 2, 2, 1, 1, 3, 2, 4, 0, 2, 2, 1, 0, 0, 3, 2, 1, 0, 3, 0, 0, 1, 2, 0, 2, 1, 2, 2, 1, 2, 3, 0, 1, 3, 4, 0, 3, 1, 2, 3, 2, 1, 2, 3, 2, 2, 0, 0, 5, 2, 0, 1, 1, 1, 2, 3, 0, 2, 3, 3, 1, 1, 2, 2, 2, 2, 1, 2, 0, 0, 3, 1, 2, 0, 1, 2, 2, 3, 2, 0, 1, 1, 0, 2, 2, 3, 0, 0, 1, 0, 1, 0, 1, 2, 0, 2, 2, 3, 1, 2, 3, 1, 1, 1, 1, 2, 2, 1, 2, 0, 1, 2, 0, 3, 0, 0, 2, 0, 1, 1, 2, 1, 0, 1, 2, 1, 2, 3, 1, 1, 1, 2, 3, 1, 3, 1, 1, 1, 1, 2, 1, 1, 1, 1, 2, 1, 1, 1, 2, 2, 1, 0, 1, 2, 2, 3, 0, 2, 0, 3, 2, 1, 2, 1, 2, 3, 2, 1, 3, 0, 2, 0, 2, 2, 2, 0, 0, 3, 2, 2, 3, 2, 3, 3, 0, 3, 1, 2, 1, 1, 0, 1, 0, 1, 1, 3, 1, 1, 1, 2, 2, 3, 1, 3, 0, 4, 2, 1, 1, 1, 2, 1, 1, 2, 0, 1, 1, 2, 1, 1, 2, 0, 2, 1, 1, 2, 3, 3, 1, 3, 2, 1, 2, 1, 3, 3, 0, 0, 1, 0, 2, 1, 2, 2, 2, 1, 1, 2, 1, 4, 0, 1, 1, 1, 0, 3, 2, 1, 2, 1, 2, 3, 1, 1, 0, 1, 1, 3, 0, 4, 2, 1, 0, 2, 2, 1, 1, 0, 1, 2, 2, 0, 2, 1, 2, 0, 1, 1, 1, 1, 2, 0, 2, 1, 1, 2, 2, 1, 0, 3, 0, 2, 1, 4, 2, 0, 0, 2, 1, 0, 0, 1, 0, 5, 0, 1, 2, 1, 2, 0, 1, 2, 2, 2, 1, 4, 1, 2, 2, 4, 2, 2, 1, 2, 1, 1, 3, 4, 1, 1, 1, 3, 1, 0, 0, 1, 2, 2, 2, 1, 3, 0, 2, 0, 4, 4, 1, 1, 4, 2, 0, 3, 2, 3, 0, 4, 3, 2, 0, 0, 0, 0, 3, 2, 1, 0, 0, 1, 3, 2, 2, 2, 2, 1, 4, 2, 0, 2, 1, 1, 2, 1, 0, 3, 0, 1, 2, 2, 0, 3, 1, 2, 2, 1, 1, 1, 2, 2, 2, 1, 4, 0, 3, 3, 1, 1, 0, 2, 1, 3, 1, 1, 2, 1, 2, 1, 2, 2, 3, 1, 2, 2, 0, 2, 0, 1, 0, 1, 1, 3, 2, 2, 0, 3, 2, 2, 1, 1, 1, 2, 2, 0, 3, 1, 1, 0, 0, 2, 1, 0, 2, 1, 3, 1, 1, 3, 1, 1, 3, 3, 1, 2, 0, 2, 2, 0, 2, 2, 5, 1, 2, 1, 2, 3, 2, 2, 2, 3, 1, 2, 2, 0, 1, 3, 2, 2, 2, 1, 2, 4, 3, 2, 2, 1, 3, 0, 2, 2, 3, 1, 1, 0, 1, 0, 2, 2, 1, 0, 1, 3, 0, 0, 2, 3, 1, 2, 0, 2, 2, 2, 1, 2, 1, 0, 4, 0, 1, 1, 0, 2, 1, 0, 1, 0, 2, 3, 2, 4, 2, 0, 0, 0, 0, 2, 1, 1, 3, 0, 1, 0, 1, 0, 0, 3, 0, 0, 3, 1, 0, 3, 0, 3, 2, 1, 2, 2, 2, 0, 1, 1, 2, 2, 0, 1, 1, 3, 0, 1, 1, 1, 0, 1, 0, 0, 1, 0, 1, 0, 0, 0, 0, 0, 2, 1, 0, 2, 2, 2, 2, 1, 2, 3, 2, 1, 2, 2, 3, 2, 0, 1, 2, 2, 2, 0, 1, 2, 0, 1, 1, 0, 0, 1, 0, 1, 2, 3, 2, 2, 1, 1, 2, 2, 1, 0, 1, 1, 5, 3, 1, 1, 2, 2, 3, 0, 1, 2, 2, 0, 0, 2, 0, 2, 2, 0, 4, 2, 2, 2, 2, 1, 0, 2, 0, 1, 2, 2, 0, 3, 0, 0, 1, 2, 3, 1, 1, 0, 2, 1, 2, 2, 2, 0, 1, 2, 1, 2, 3, 1, 2, 4, 0, 1, 1, 2, 1, 2, 1, 3, 2, 0, 2, 0, 0, 0, 1, 2, 0, 2, 2, 1, 3, 3, 3, 3, 1, 0, 0, 1, 1, 2, 2, 2, 3, 1, 2, 4, 1, 2, 1, 2, 0, 2, 0, 4, 2, 1, 2, 0, 3, 3, 0, 4, 3, 0, 2, 0, 3, 3, 1, 2, 0, 0, 1, 1, 1, 1, 2, 0, 1, 2, 1, 0, 0, 1, 3, 3, 0, 1, 1, 1, 1, 1, 1, 0, 2, 2, 3, 1, 3, 1, 2, 3, 1, 1, 2, 2, 2, 3, 0, 1, 2, 2, 1, 1, 1, 2, 0, 1, 0, 1, 2, 0, 1, 0, 2, 1, 3, 1, 1, 1, 1, 0, 1, 5, 2, 1, 1, 2, 1, 2, 1, 2, 3, 1, 1, 0, 0, 3, 1, 1, 1, 0, 1, 0, 2, 1, 2, 1, 1, 1, 0, 1, 0, 2, 3, 2, 1, 0, 3, 2, 1, 1, 3, 3, 1, 2, 2, 1, 2, 1, 3, 1, 2, 3, 0, 4, 1, 1, 3, 2, 1, 4, 3, 3, 2, 3, 1, 1, 1, 0, 5, 1, 1, 1, 3, 0, 3, 2, 2, 2, 2, 1, 2, 2, 0, 3, 1, 1, 0, 0, 4, 2, 3, 1, 1, 3, 1, 0, 0, 2, 1, 1, 1, 1, 2, 1, 0, 3, 0, 0, 2, 2, 2, 2, 3, 2, 2, 2, 1, 1, 2, 0, 2, 2, 0, 1, 2, 1, 1, 4, 3, 0, 4, 1, 2, 1, 0, 0, 0, 0, 2, 3, 1, 2, 1, 3, 2, 2, 1, 1, 0, 0, 1, 2, 1, 2, 1, 2, 1, 1, 1, 3, 0, 2, 1, 0, 1, 3, 3, 0, 2, 2, 1, 1, 3, 1, 2, 1, 0, 1, 2, 2, 3, 2, 0, 2, 2, 3, 2, 1, 1, 1, 3, 0, 2, 2, 2, 2, 1, 3, 0, 1, 4, 4, 0, 2, 1, 2, 0, 1, 1, 3, 3, 2, 0, 2, 0, 2, 0, 4, 1, 2, 2, 2, 0, 1, 2, 1, 1, 1, 1, 3, 2, 0, 2, 0, 2, 2, 0, 1, 0, 1, 0, 3, 3, 2, 3, 3, 3, 1, 1, 0, 0, 0, 0, 2, 2, 3, 3, 0, 0, 0, 3, 2, 4, 2, 2, 2, 0, 2, 1, 4, 2, 0, 1, 3, 4, 4, 1, 0, 1, 0, 1, 2, 0, 1, 0, 3, 0, 1, 0, 2, 0, 2, 2, 1, 1, 2, 1, 1, 1, 1, 4, 3, 2, 1, 2, 1, 0, 0, 5, 2, 0, 1, 2, 4, 1, 1, 0, 1, 0, 1, 1, 1, 3, 0, 1, 0, 4, 2, 0, 3, 0, 3, 2, 1, 0, 2, 0, 2, 2, 1, 3, 2, 4, 1, 1, 2, 3, 2, 2, 2, 2, 1, 1, 3, 1, 0, 2, 0, 0, 3, 0, 2, 2, 1, 2, 3, 2, 1, 0, 0, 2, 3, 1, 2, 1, 2, 2, 0, 0, 2, 2, 3, 0, 1, 4, 2, 2, 4, 0, 3, 0, 3, 1, 2, 3, 2, 2, 1, 1, 3, 1, 3, 2, 1, 1, 1, 0, 0, 1, 3, 2, 3, 1, 1, 1, 3, 0, 0, 2, 1, 1, 1, 1, 1, 2, 1, 2, 4, 2, 3, 0, 1, 1, 2, 3, 0, 2, 2, 2, 1, 0, 1, 1, 2, 0, 3, 1, 2, 0, 3, 3, 3, 1, 0, 1, 0, 2, 2, 2, 2, 2, 1, 2, 3, 0, 0, 2, 1, 6, 2, 2, 1, 1, 0, 1, 2, 1, 3, 1, 0, 3, 1, 1, 0, 3, 0, 2, 1, 0, 1, 1, 1, 2, 0, 3, 2, 2, 4, 0, 1, 3, 4, 0, 1, 1, 1, 2, 3, 2, 2, 0, 2, 1, 4, 3, 3, 3, 1, 0, 1, 1, 2, 1, 2, 2, 0, 2, 2, 3, 1, 2, 0, 0, 3, 1, 3, 4, 2, 1, 4, 2, 2, 3, 2, 2, 3, 2, 3, 3, 0, 4, 2, 1, 1, 1, 1, 2, 3, 0, 0, 0, 2, 3, 1, 0, 2, 1, 1, 2, 2, 1, 2, 1, 0, 5, 1, 1, 2, 2, 1, 1, 4, 0, 4, 1, 2, 2, 1, 3, 0, 1, 1, 1, 2, 3, 0, 1, 1, 2, 0, 0, 2, 2, 0, 1, 0, 2, 1, 0, 0, 1, 2, 3, 3, 0, 3, 0, 1, 2, 2, 0, 3, 1, 1, 0, 2, 2, 4, 1, 0, 1, 1, 3, 0, 0, 2, 2, 0, 4, 0, 0, 1, 2, 1, 4, 1, 3, 0, 2, 3, 2, 1, 2, 1, 2, 1, 0, 3, 2, 0, 0, 0, 0, 2, 1, 2, 2, 3, 2, 2, 2, 1, 2, 1, 1, 3, 1, 3, 2, 1, 1, 3, 1, 1, 2, 0, 1, 1, 2, 0, 2, 4, 2, 1, 0, 1, 2, 2, 3, 1, 0, 1, 0, 3, 1, 2, 0, 3, 2, 2, 2, 1, 1, 1, 3, 1, 1, 0, 1, 2, 4, 3, 3, 0, 3, 0, 4, 4, 3, 1, 1, 2, 2, 1, 0, 1, 1, 0, 1, 1, 2, 2, 2, 2, 0, 2, 2, 3, 3, 0, 2, 3, 3, 1, 3, 3, 2, 0, 2, 1, 2, 1, 1, 2, 1, 4, 1, 2, 2, 0, 2, 1, 3, 1, 1, 1, 2, 3, 2, 2, 0, 1, 3, 0, 1, 3, 1, 4, 1, 1, 1, 2, 1, 1, 0, 2, 1, 1, 0, 1, 1, 3, 2, 2, 0, 2, 1, 0, 1, 0, 3, 2, 0, 1, 1, 0, 1, 1, 1, 3, 0, 2, 2, 2, 1, 3, 2, 2, 0, 3, 1, 2, 0, 0, 0, 1, 3, 2, 0, 2, 1, 2, 2, 0, 2, 1, 0, 1, 1, 2, 3, 3, 1, 0, 0, 1, 1, 1, 1, 0, 1, 1, 1, 1, 3, 4, 0, 2, 3, 0, 0, 1, 2, 1, 2, 2, 1, 2, 0, 1, 0, 2, 1, 0, 1, 1, 0, 2, 1, 0, 2, 2, 1, 2, 1, 2, 2, 4, 4, 3, 3, 1, 1, 2, 1, 3, 0, 4, 3, 1, 4, 1, 2, 2, 0, 2, 0, 1, 3, 2, 2, 2, 1, 2, 2, 2, 3, 3, 0, 3, 2, 2, 1, 1, 2, 2, 0, 2, 0, 3, 0, 2, 0, 0, 0, 0, 2, 1, 0, 3, 2, 2, 0, 1, 0, 1, 0, 1, 2, 1, 1, 1, 1, 1, 1, 2, 0, 1, 0, 1, 3, 0, 1, 0, 1, 0, 3, 0, 1, 1, 1, 3, 1, 2, 3, 2, 2, 3, 0, 0, 3, 3, 0, 0, 3, 1, 3, 3, 2, 4, 0, 2, 2, 2, 1, 3, 1, 1, 1, 2, 3, 2, 3, 2, 1, 4, 2, 1, 3, 2, 2, 1, 0, 2, 1, 3, 2, 3, 1, 0, 0, 1, 2, 0, 1, 4, 0, 0, 2, 0, 2, 0, 0, 1, 1, 3, 3, 0, 0, 1, 1, 2, 2, 3, 2, 3, 3, 2, 0, 1, 1, 2, 1, 2, 1, 2, 0, 1, 3, 1, 4, 1, 1, 3, 1, 2, 0, 0, 3, 3, 1, 1, 2, 0, 3, 2, 2, 1, 0, 1, 2, 1, 2, 1, 0, 0, 2, 2, 1, 1, 0, 3, 3, 1, 2, 2, 0, 0, 3, 1, 2, 2, 3, 1, 1, 1, 1, 2, 2, 1, 2, 1, 2, 3, 1, 1, 1, 1, 2, 2, 3, 2, 1, 0, 2, 0, 0, 1, 1, 2, 1, 1, 1, 3, 1, 2, 1, 3, 2, 1, 1, 0, 0, 0, 3, 2, 0, 1, 1, 2, 0, 2, 3, 0, 3, 2, 1, 1, 1, 1, 0, 2, 2, 2, 1, 1, 0, 3, 2, 1, 1, 1, 1, 1, 1, 2, 2, 0, 3, 3, 2, 2, 0, 0, 4, 3, 1, 0, 2, 2, 1, 0, 1, 2, 2, 2, 1, 1, 0, 1, 1, 1, 2, 3, 0, 0, 2, 3, 1, 2, 1, 1, 3, 3, 2, 2, 3, 2, 1, 1, 2, 3, 2, 0, 2, 0, 4, 2, 1, 2, 1, 1, 1, 1, 1, 1, 2, 2, 2, 1, 4, 2, 2, 3, 3, 1, 3, 3, 3, 0, 1, 3, 4, 1, 0, 2, 0, 3, 0, 2, 2, 0, 2, 1, 2, 1, 2, 2, 2, 2, 3, 1, 1, 1, 0, 4, 2, 3, 1, 1, 2, 3, 0, 2, 0, 1, 0, 0, 1, 2, 1, 3, 2, 0, 1, 2, 3, 2, 2, 2, 1, 1, 2, 1, 1, 2, 1, 1, 2, 2, 2, 1, 3, 1, 2, 0, 1, 2, 2, 2, 0, 1, 2, 3, 1, 2, 2, 2, 0, 2, 2, 3, 3, 0, 0, 0, 3, 2, 3, 1, 1, 0, 3, 2, 3, 2, 1, 1, 2, 2, 1, 2, 1, 1, 1, 0, 1, 2, 2, 2, 2, 1, 2, 0, 3, 2, 2, 1, 0, 0, 1, 0, 1, 1, 0, 2, 3, 3, 3, 1, 2, 2, 0, 1, 0, 0, 0, 3, 0, 3, 1, 2, 1, 0, 1, 2, 0, 2, 1, 3, 2, 0, 3, 3, 2, 1, 2, 2, 3, 1, 4, 0, 4, 2, 1, 3, 1, 0, 3, 1, 5, 1, 1, 2, 1, 2, 2, 2, 1, 1, 0, 3, 2, 0, 3, 2, 1, 2, 3, 2, 4, 2, 2, 0, 1, 1, 4, 1, 2, 2, 0, 1, 1, 2, 0, 2, 2, 2, 1, 2, 2, 3, 1, 2, 4, 1, 1, 0, 0, 0, 1, 2, 2, 2, 2, 1, 0, 1, 3, 2, 2, 0, 2, 0, 2, 3, 0, 3, 2, 1, 2, 2, 2, 2, 1, 1, 0, 3, 1, 2, 0, 1, 0, 0, 4, 3, 3, 1, 0, 2, 0, 0, 0, 3, 1, 1, 3, 1, 2, 3, 1, 1, 1, 2, 2, 2, 0, 3, 0, 1, 3, 1, 1, 1, 1, 1, 2, 3, 1, 1, 0, 1, 1, 2, 2, 0, 2, 1, 0, 0, 0, 1, 3, 3, 3, 1, 2, 1, 3, 0, 2, 1, 2, 2, 0, 2, 2, 0, 3, 0, 2, 1, 1, 3, 2, 0, 1, 3, 1, 1, 4, 1, 4, 2, 3, 3, 2, 3, 1, 3, 0, 1, 1, 0, 0, 2, 0, 3, 4, 1, 1, 1, 4, 3, 1, 1, 2, 2, 1, 1, 3, 0, 1, 3, 1, 1, 2, 2, 3, 1, 2, 1, 0, 0, 1, 3, 3, 2, 2, 2, 1, 3, 0, 1, 0, 1, 0, 1, 0, 2, 2, 0, 2, 1, 2, 1, 2, 4, 1, 2, 0, 1, 3, 3, 0, 1, 1, 1, 1, 1, 2, 1, 2, 2, 1, 2, 1, 1, 1, 0, 2, 1, 1, 2, 1, 2, 1, 1, 3, 2, 1, 1, 0, 0, 1, 3, 2, 3, 3, 1, 2, 2, 2, 3, 1, 0, 1, 2, 1, 3, 2, 0, 0, 4, 1, 0, 0, 0, 2, 1, 2, 1, 0, 3, 0, 3, 2, 1, 0, 1, 1, 0, 2, 2, 2, 0, 1, 2, 0, 1, 0, 0, 4, 3, 4, 0, 1, 1, 2, 1, 3, 0, 1, 1, 1, 0, 3, 1, 1, 3, 2, 0, 3, 2, 4, 0, 3, 3, 2, 1, 1, 1, 2, 1, 0, 2, 2, 1, 0, 1, 1, 3, 3, 0, 1, 1, 3, 0, 2, 1, 2, 2, 1, 1, 1, 1, 1, 2, 2, 0, 1, 1, 1, 1, 0, 3, 2, 4, 3, 2, 0, 1, 2, 3, 3, 1, 0, 1, 2, 2, 1, 2, 0, 0, 1, 3, 0, 0, 2, 1, 1, 0, 1, 2, 4, 2, 2, 0, 3, 2, 3, 5, 0, 0, 3, 0, 1, 0, 1, 3, 2, 4, 3, 3, 2, 0, 0, 1, 1, 1, 1, 1, 3, 2, 2, 2, 4, 2, 2, 3, 2, 1, 2, 2, 2, 0, 0, 3, 0, 3, 2, 1, 2, 2, 2, 0, 2, 1, 2, 1, 2, 2, 3, 2, 2, 0, 1, 1, 2, 3, 3, 1, 0, 0, 0, 1, 2, 0, 0, 1, 2, 1, 0, 0, 2, 2, 3, 1, 0, 0, 2, 1, 3, 1, 3, 2, 1, 2, 0, 0, 1, 1, 1, 1, 2, 1, 2, 2, 0, 1, 2, 1, 0, 2, 0, 0, 2, 2, 1, 1, 1, 1, 2, 2, 5, 1, 2, 3, 3, 0, 1, 1, 1, 4, 4, 1, 1, 0, 0, 1, 3, 0, 2, 1, 4, 4, 2, 2, 0, 1, 0, 0, 0, 1, 2, 3, 2, 2, 1, 0, 2, 1, 2, 1, 1, 0, 0, 3, 3, 0, 2, 2, 2, 0, 1, 3, 2, 0, 0, 2, 1, 0, 1, 2, 2, 1, 2, 6, 1, 2, 4, 0, 1, 1, 3, 2, 3, 2, 1, 1, 4, 1, 2, 3, 1, 1, 0, 2, 2, 0, 3, 2, 0, 0, 1, 3, 2, 1, 2, 2, 2, 0, 1, 1, 1, 0, 2, 2, 3, 5, 1, 1, 2, 1, 2, 1, 2, 2, 2, 1, 0, 1, 3, 3, 2, 0, 3, 3, 2, 1, 0, 1, 2, 2, 0, 3, 2, 0, 0, 2, 2, 2, 3, 3, 2, 1, 2, 2, 2, 1, 1, 1, 1, 4, 4, 2, 3, 1, 1, 2, 1, 1, 0, 2, 0, 1, 0, 2, 1, 1, 2, 3, 1, 1, 2, 3, 1, 2, 2, 0, 0, 2, 1, 2, 2, 1, 0, 2, 2, 2, 3, 1, 1, 4, 0, 2, 1, 1, 2, 1, 1, 3, 2, 3, 1, 3, 3, 1, 0, 1, 1, 3, 1, 1, 3, 1, 3, 3, 0, 0, 0, 2, 3, 2, 1, 1, 3, 1, 2, 2, 2, 3, 2, 0, 2, 4, 3, 1, 2, 3, 2, 0, 2, 1, 0, 3, 2, 1, 4, 4, 2, 0, 1, 2, 2, 1, 2, 2, 3, 1, 0, 3, 1, 1, 1, 0, 2, 2, 1, 1, 2, 0, 1, 2, 0, 2, 0, 3, 3, 2, 1, 2, 3, 1, 0, 0, 2, 1, 3, 0, 1, 0, 3, 1, 1, 0, 0, 4, 3, 1, 2, 2, 2, 1, 0, 2, 3, 1, 1, 0, 3, 1, 0, 3, 1, 2, 2, 2, 2, 1, 1, 0, 2, 1, 3, 3, 2, 1, 2, 3, 1, 0, 1, 0, 3, 3, 3, 2, 1, 2, 1, 1, 1, 1, 1, 1, 1, 3, 2, 3, 1, 3, 2, 1, 4, 2, 3, 1, 2, 2, 2, 1, 1, 4, 2, 2, 2, 0, 2, 1, 1, 1, 1, 4, 2, 1, 3, 3, 1, 0, 0, 1, 2, 1, 2, 0, 3, 1, 0, 2, 3, 0, 4, 0, 2, 3, 4, 3, 1, 2, 0, 3, 1, 0, 0, 1, 1, 2, 1, 1, 3, 0, 2, 2, 1, 2, 1, 1, 2, 1, 3, 0, 1, 1, 1, 3, 4, 3, 1, 3, 1, 1, 0, 2, 3, 5, 1, 3, 0, 3, 0, 2, 0, 2, 2, 2, 2, 1, 0, 2, 0, 1, 3, 3, 2, 0, 1, 2, 3, 3, 3, 2, 2, 2, 2, 3, 3, 1, 1, 2, 1, 2, 2, 2, 2, 1, 1, 2, 2, 4, 1, 2, 3, 2, 3, 3, 4, 0, 2, 2, 2, 2, 1, 0, 3, 3, 2, 1, 0, 0, 1, 1, 1, 2, 3, 0, 2, 0, 2, 3, 0, 1, 1, 1, 1, 1, 3, 1, 0, 2, 1, 2, 3, 4, 3, 2, 2, 1, 0, 0, 1, 1, 3, 2, 1, 2, 1, 1, 2, 0, 3, 3, 1, 2, 3, 3, 1, 1, 0, 1, 0, 4, 1, 0, 1, 2, 2, 1, 2, 3, 4, 1, 1, 2, 1, 0, 1, 0, 0, 1, 0, 1, 3, 1, 3, 2, 1, 0, 2, 2, 1, 1, 4, 2, 1, 2, 0, 2, 1, 1, 1, 2, 0, 4, 3, 1, 2, 1, 2, 1, 2, 3, 1, 1, 0, 1, 0, 0, 2, 4, 1, 2, 1, 1, 3, 2, 2, 2, 1, 3, 1, 1, 2, 2, 2, 0, 3, 3, 0, 2, 1, 2, 2, 0, 2, 0, 0, 0, 3, 2, 2, 5, 1, 3, 2, 3, 1, 1, 0, 2, 2, 2, 3, 2, 3, 1, 1, 1, 2, 3, 3, 1, 1, 3, 3, 4, 3, 1, 2, 1, 2, 3, 2, 3, 1, 1, 1, 0, 1, 2, 1, 2, 1, 1, 4, 1, 3, 1, 1, 0, 2, 2, 2, 0, 3, 1, 0, 2, 0, 3, 2, 2, 0, 2, 2, 0, 1, 1, 1, 2, 3, 1, 0, 0, 2, 1, 1, 1, 2, 1, 1, 2, 2, 4, 3, 5, 0, 2, 3, 2, 2, 3, 1, 3, 3, 0, 4, 1, 0, 2, 1, 0, 1, 2, 1, 2, 0, 0, 1, 2, 1, 4, 2, 3, 2, 2, 1, 2, 0, 1, 0, 1, 2, 1, 0, 1, 1, 2, 1, 2, 1, 0, 2, 2, 1, 0, 1, 1, 3, 3, 1, 1, 2, 1, 1, 2, 1, 1, 2, 1, 1, 2, 1, 0, 0, 0, 1, 2, 1, 2, 0, 2, 3, 1, 2, 2, 0, 3, 3, 3, 1, 1, 0, 3, 0, 3, 1, 2, 0, 1, 2, 4, 3, 2, 2, 2, 3, 0, 2, 3, 2, 2, 2, 2, 3, 3, 0, 0, 1, 0, 0, 3, 1, 0, 2, 1, 3, 1, 0, 3, 3, 0, 3, 2, 2, 1, 2, 2, 3, 0, 3, 2, 3, 2, 0, 2, 1, 2, 1, 2, 1, 0, 0, 4, 2, 3, 3, 1, 2, 2, 3, 3, 1, 3, 0, 4, 0, 1, 2, 0, 0, 2, 3, 1, 2, 2, 0, 2, 1, 3, 0, 4, 4, 2, 1, 1, 0, 0, 0, 2, 0, 3, 3, 2, 0, 3, 1, 0, 0, 1, 2, 2, 2, 1, 2, 2, 0, 2, 3, 4, 2, 2, 3, 2, 0, 2, 2, 2, 3, 2, 1, 2, 3, 0, 1, 2, 1, 0, 0, 3, 2, 1, 4, 2, 0, 0, 2, 2, 2, 2, 3, 2, 0, 3, 2, 0, 2, 1, 1, 1, 2, 1, 1, 0, 1, 1, 3, 2, 2, 1, 1, 0, 2, 2, 1, 1, 2, 1, 0, 1, 2, 1, 3, 0, 3, 3, 1, 0, 1, 1, 1, 1, 1, 1, 1, 0, 2], \"xaxis\": \"x\", \"y\": [2850, 3275, 3350, 7995, 3600, 5645, 1725, 5800, 1950, 3000, 6895, 2350, 3650, 1695, 5000, 3973, 4395, 2999, 2595, 3695, 7500, 2295, 3164, 5600, 2750, 3500, 5165, 4400, 1650, 1980, 6500, 3733, 15000, 2400, 1850, 2500, 2045, 2650, 3745, 5595, 1750, 1650, 3500, 3300, 2790, 2100, 3200, 2700, 4500, 1900, 3200, 2290, 3895, 2200, 3200, 4455, 3697, 5700, 3400, 2550, 3200, 6320, 2945, 4600, 7800, 7000, 3250, 1400, 3195, 1495, 3850, 3095, 13500, 1700, 1850, 2050, 1950, 2750, 4900, 6500, 2300, 2350, 3900, 4000, 3850, 3995, 2000, 4823, 2700, 2695, 1800, 3295, 1725, 2250, 2300, 3400, 3050, 6500, 3250, 5020, 3200, 2199, 1695, 2150, 6475, 2750, 5300, 2195, 5900, 2500, 2750, 3200, 2400, 2000, 3300, 3090, 4895, 2000, 2700, 2400, 2795, 2475, 5495, 2900, 3462, 8400, 3150, 2600, 3995, 3600, 5400, 2983, 2400, 13500, 2700, 2200, 3346, 6000, 2195, 4500, 2395, 5200, 5800, 1975, 2750, 3750, 4890, 4595, 2800, 1800, 3195, 2675, 5450, 5000, 1675, 6200, 2500, 4750, 3035, 3100, 3195, 3450, 1895, 2600, 3175, 2600, 3025, 3790, 4600, 4450, 3200, 2769, 3800, 2595, 3775, 1895, 4700, 3495, 2800, 3050, 2975, 3150, 15500, 3300, 8200, 3276, 5800, 4030, 3129, 4400, 2950, 4899, 3195, 2300, 3500, 3250, 2500, 2450, 2400, 2800, 2600, 5100, 3600, 1800, 2300, 2295, 3138, 3750, 3097, 2495, 3400, 6500, 2830, 3400, 1475, 1795, 2900, 3250, 3125, 2695, 3000, 4725, 5800, 3795, 3695, 3100, 6150, 2550, 2700, 3570, 2995, 2500, 5795, 3460, 2000, 2595, 1950, 2350, 2999, 2500, 3160, 2000, 2650, 3138, 3850, 2750, 1750, 3200, 3500, 3000, 5095, 3850, 2280, 1850, 3450, 3250, 2900, 3350, 1995, 1900, 3850, 2495, 4475, 1895, 2487, 5100, 3640, 2100, 3505, 2700, 2775, 2350, 2250, 2441, 4250, 2188, 1825, 2650, 2190, 3600, 4650, 2500, 2525, 4500, 2100, 2350, 14000, 1400, 1850, 3095, 6650, 3295, 7930, 2999, 2100, 4800, 3000, 2800, 2599, 1850, 2575, 4083, 3600, 2900, 1925, 3115, 7000, 2600, 4000, 2500, 3400, 4295, 3700, 2500, 3800, 3950, 2600, 2300, 2400, 3100, 2030, 3940, 1500, 2350, 4300, 3381, 5495, 3495, 7000, 2000, 13000, 3500, 2100, 15000, 3300, 2400, 2500, 3500, 2600, 2800, 3500, 4500, 4150, 3495, 7500, 2650, 3312, 4395, 3800, 5000, 3200, 1695, 3025, 1575, 2425, 7000, 2750, 4975, 5400, 5985, 1395, 1995, 4900, 2975, 2275, 2525, 2850, 3750, 2250, 6100, 2950, 4800, 4468, 1500, 1900, 2595, 2500, 6500, 4145, 11077, 4308, 3450, 6500, 3495, 3200, 2700, 6000, 3095, 4820, 3625, 3995, 2859, 2400, 2500, 2856, 3200, 2500, 7000, 3398, 3000, 3000, 5450, 6000, 6250, 3000, 3600, 4995, 4500, 3500, 3485, 3950, 3395, 2625, 6800, 2500, 5500, 3370, 3670, 1900, 3175, 3000, 9400, 2395, 2400, 2995, 2400, 3690, 2575, 5000, 5970, 3200, 2600, 3300, 2250, 1875, 3695, 9600, 4617, 4464, 3330, 3350, 5295, 3900, 5595, 5100, 3880, 2950, 2400, 4150, 2700, 2250, 4995, 1695, 3050, 3200, 3650, 4437, 3400, 2550, 1975, 5070, 3200, 3395, 2150, 3095, 1825, 5800, 5825, 2995, 5395, 5200, 3000, 2100, 2775, 2100, 3755, 2200, 3075, 4900, 3400, 4900, 1995, 2195, 4200, 2700, 1900, 6000, 3500, 11500, 1775, 1999, 5400, 1850, 2300, 2600, 2000, 5350, 3800, 1850, 1695, 3495, 2895, 3500, 3000, 3630, 5100, 3695, 2795, 4445, 2550, 3175, 4935, 2900, 4395, 2850, 2295, 3200, 1900, 1950, 5800, 2300, 4400, 4600, 3995, 1500, 4400, 2100, 5970, 3290, 3500, 3050, 2595, 2350, 2700, 6500, 2595, 2900, 3595, 4500, 3995, 1849, 3000, 2500, 3400, 3450, 4700, 3495, 2449, 2650, 3680, 5250, 3000, 3550, 1995, 3100, 2700, 4195, 2700, 2395, 3075, 2000, 3100, 6200, 2650, 2450, 4300, 2149, 3450, 3595, 2100, 3695, 4395, 2250, 1500, 1700, 3195, 3175, 3375, 2446, 2300, 2300, 3800, 3150, 4250, 3200, 3100, 2250, 2775, 2500, 2700, 2689, 2400, 4300, 13995, 3199, 2250, 2700, 4175, 4034, 3350, 2700, 2850, 1775, 4695, 2500, 1700, 4300, 1750, 6445, 2900, 8257, 2024, 2950, 4495, 5300, 4950, 2895, 3150, 7460, 6023, 1495, 2895, 2095, 3875, 5395, 2695, 3950, 3450, 2700, 2800, 3250, 3450, 2995, 4795, 2358, 4895, 8500, 2650, 2350, 2895, 3200, 2200, 3500, 5365, 3000, 2500, 3457, 2950, 5875, 4675, 2795, 7100, 5200, 2100, 4225, 5425, 3495, 3000, 1850, 4095, 6645, 2933, 2995, 3325, 3050, 3600, 3200, 2750, 4885, 2600, 4095, 6500, 2895, 2045, 2980, 3000, 5500, 3295, 2800, 2199, 6000, 2350, 3500, 2100, 11950, 4225, 1995, 2000, 4500, 3395, 3500, 2400, 2695, 2695, 3950, 3100, 2000, 3200, 2750, 4795, 5000, 3500, 2600, 4900, 3450, 3500, 2000, 1650, 1850, 3250, 2650, 2100, 4100, 2523, 4595, 6450, 1695, 5600, 2500, 2900, 2200, 3100, 2750, 3450, 3800, 2950, 13490, 3500, 2865, 2000, 2970, 4900, 2800, 6000, 3600, 2556, 2750, 2600, 6275, 2200, 3650, 2800, 3500, 4300, 2995, 3300, 2750, 2950, 2595, 3270, 5500, 2400, 2575, 6150, 2885, 1650, 2500, 2500, 11250, 4700, 2990, 2595, 4000, 2350, 5000, 2900, 3195, 2599, 6750, 3195, 3600, 2675, 1725, 3175, 2650, 1975, 1500, 2650, 4595, 6395, 2200, 2550, 2800, 5775, 4795, 2800, 2500, 3230, 4975, 2195, 9750, 3535, 2100, 2100, 4000, 2150, 1575, 2350, 2800, 3000, 5500, 3092, 2000, 2850, 2550, 5678, 3895, 3775, 2150, 1950, 4500, 2300, 1879, 3495, 3438, 2200, 4500, 2885, 3095, 2250, 6300, 5600, 2800, 2280, 4095, 2608, 7695, 3395, 3214, 3600, 3695, 3050, 7769, 2795, 3395, 2599, 5695, 2895, 3850, 2000, 3000, 3945, 5649, 2490, 8000, 3300, 3350, 2765, 2895, 3895, 1675, 2850, 3050, 2795, 2750, 2825, 3370, 2095, 5345, 2875, 10000, 6200, 3500, 2125, 2175, 3850, 1950, 4775, 2970, 5500, 3695, 5800, 3100, 3895, 5095, 3595, 3500, 4225, 1500, 4800, 2050, 2625, 2675, 1995, 3250, 4095, 4200, 2933, 2400, 4233, 2795, 2500, 2200, 2625, 3275, 1850, 2450, 3350, 2050, 1995, 4537, 2400, 2095, 3695, 3508, 2350, 5495, 2400, 3725, 1600, 3775, 2150, 2300, 4300, 2950, 2200, 2100, 3195, 2250, 1525, 2359, 4850, 5800, 3300, 2875, 1800, 2750, 1550, 2295, 2000, 5000, 2495, 2100, 3200, 3150, 2525, 2700, 3145, 4250, 3400, 10995, 2495, 2250, 2350, 4030, 3307, 3800, 3100, 7475, 2875, 2700, 4200, 2500, 4800, 3370, 1600, 3220, 1850, 3450, 3300, 2795, 1850, 6495, 1400, 3095, 1750, 1850, 2725, 4400, 5495, 5000, 4500, 3195, 3675, 3295, 7500, 3120, 3600, 3300, 3695, 3500, 3318, 3000, 4000, 3300, 5550, 2700, 4400, 3230, 2795, 2050, 3632, 3150, 4395, 3400, 4200, 3000, 3500, 3250, 3585, 3795, 3250, 1800, 2495, 4395, 4400, 2049, 2800, 2795, 3000, 4000, 1800, 10500, 2800, 2699, 4050, 2995, 3200, 3100, 5750, 4100, 5450, 3300, 3250, 3995, 3530, 10000, 2525, 3600, 5000, 1675, 6100, 1500, 4700, 2600, 2900, 2291, 2645, 1900, 7000, 3500, 4300, 2900, 2550, 4800, 2995, 2995, 3395, 4200, 3195, 3400, 2250, 1995, 2000, 5999, 1895, 4400, 6500, 4000, 1550, 4995, 3300, 2113, 2500, 2500, 2600, 1800, 2750, 5575, 2000, 3900, 1725, 3100, 2154, 1700, 1850, 3800, 2595, 3138, 4000, 3750, 5438, 2775, 2200, 2100, 3733, 2250, 4200, 3295, 3795, 2795, 3687, 2600, 3100, 2650, 1850, 3055, 4554, 3950, 1950, 2400, 3395, 4595, 3500, 3450, 2700, 1650, 2550, 3095, 5000, 3185, 3125, 3850, 1875, 2700, 3342, 4600, 1895, 2550, 3340, 3595, 2950, 2555, 2400, 3585, 1900, 13500, 2700, 4895, 3611, 9000, 2700, 3400, 2550, 3000, 3295, 2650, 1825, 2999, 3150, 3725, 5295, 2350, 1525, 3835, 1950, 3295, 3495, 3600, 1950, 2500, 3200, 2200, 4225, 2400, 3845, 3000, 4595, 2650, 3100, 2200, 4800, 2595, 2590, 2600, 2500, 2025, 6450, 2500, 2965, 2800, 3495, 2695, 2600, 4595, 3600, 1975, 3250, 2690, 3300, 3300, 1500, 3700, 3600, 3400, 2250, 3450, 5000, 5100, 3900, 1900, 6500, 2600, 2550, 2400, 3000, 3500, 2801, 2450, 3482, 4459, 2815, 2350, 5300, 2000, 3275, 4950, 2500, 3395, 2950, 2595, 2850, 3400, 3500, 1800, 4700, 3000, 2100, 2395, 2695, 5500, 3995, 1875, 5200, 5200, 5600, 1550, 3125, 3392, 2900, 1900, 2590, 2095, 3200, 3323, 3965, 2550, 3750, 2000, 3186, 3600, 2175, 1775, 3750, 3000, 1950, 3100, 4595, 11500, 6195, 2650, 2000, 2800, 2200, 3195, 3850, 5500, 1850, 3200, 3350, 1893, 5805, 5500, 3600, 2900, 4795, 3100, 2251, 4445, 2950, 1950, 3750, 6000, 2495, 5580, 2000, 3200, 3000, 9000, 2395, 3495, 2500, 1700, 2400, 2675, 3650, 4025, 1846, 2000, 2595, 8540, 1900, 1975, 4700, 1925, 2795, 2995, 2750, 3395, 4795, 3450, 3500, 1700, 3850, 3100, 6738, 3695, 2395, 11000, 4000, 2000, 1800, 4495, 3435, 2800, 2595, 1800, 2400, 1895, 3500, 5750, 2795, 3350, 2600, 2800, 2100, 10000, 2650, 4000, 2700, 1675, 5945, 4200, 1800, 4295, 5900, 2650, 7485, 4000, 3250, 5500, 5200, 1650, 4600, 3050, 2561, 2800, 2550, 4500, 5995, 3500, 2760, 3138, 3957, 3000, 6500, 2895, 2650, 1850, 2950, 5700, 2050, 2625, 8550, 2550, 1850, 9000, 2695, 2500, 3000, 4325, 5500, 3295, 3995, 2775, 2150, 1950, 2650, 2400, 1750, 2570, 4000, 2500, 2850, 2850, 7500, 2900, 6995, 2850, 2950, 3350, 5895, 4000, 2795, 2200, 2450, 6200, 10250, 2700, 3000, 4000, 6495, 2265, 1900, 3495, 2475, 4950, 1455, 3295, 2795, 2530, 3500, 6461, 2250, 5795, 3000, 3471, 3200, 1950, 3460, 2895, 2700, 2045, 2200, 1995, 2550, 2995, 2600, 5500, 3350, 2100, 3150, 2950, 2950, 1500, 3295, 4590, 3580, 4495, 3250, 2725, 2950, 3995, 3500, 3700, 2495, 2650, 3400, 3850, 4650, 2995, 5000, 1650, 4150, 2575, 3200, 6000, 9391, 2480, 2480, 1825, 5000, 2550, 2200, 2850, 4500, 4470, 1900, 2650, 2500, 5000, 3395, 3650, 2500, 2710, 3100, 6200, 3800, 2950, 2550, 4200, 2400, 2300, 7595, 3997, 6700, 2400, 2900, 5500, 2725, 2600, 1650, 4030, 3595, 3008, 2700, 3750, 1900, 3300, 8500, 3850, 3250, 6195, 3025, 2995, 6445, 3595, 2400, 3495, 2500, 2600, 2600, 4360, 1625, 2450, 7000, 2700, 2585, 3095, 3925, 2700, 3414, 2600, 2600, 1850, 4200, 3110, 2613, 2395, 4900, 2450, 7150, 2700, 2000, 2600, 3300, 2395, 4800, 2400, 2500, 3000, 2600, 4754, 2200, 2000, 2900, 4800, 1900, 1800, 6995, 2275, 2599, 2250, 2100, 2300, 2800, 2700, 3100, 3185, 3530, 2200, 3194, 2350, 2250, 3100, 2799, 1575, 2800, 2800, 2300, 6475, 4600, 5625, 1999, 1425, 2400, 3450, 1900, 2700, 2295, 8000, 4595, 2000, 2600, 2100, 1800, 2850, 2500, 2600, 6575, 2500, 3295, 7850, 10400, 2495, 2700, 1900, 4000, 4900, 2095, 2750, 4300, 5695, 3389, 3999, 2400, 2450, 3000, 3350, 2600, 4450, 3025, 3150, 2700, 5500, 7272, 3500, 2100, 3475, 2490, 4500, 12000, 3300, 3480, 3600, 2000, 2995, 2195, 2745, 4600, 3000, 2299, 2395, 3733, 2850, 4750, 3250, 2280, 3777, 3650, 1995, 3000, 3500, 1775, 2495, 3923, 2500, 2749, 2395, 1500, 2195, 3450, 2000, 2200, 4275, 2668, 2095, 1950, 2895, 6095, 2300, 3195, 2599, 5700, 6150, 3500, 1500, 1900, 4595, 3600, 1500, 2950, 2799, 3299, 6095, 4200, 2650, 6250, 3495, 3300, 3692, 2399, 3000, 1780, 2295, 2300, 3950, 3425, 4950, 1895, 7290, 2700, 3610, 3600, 3900, 5595, 2950, 2095, 2899, 2400, 3795, 4895, 3162, 2395, 7500, 3300, 3800, 3000, 4000, 3600, 1500, 2850, 3300, 6980, 2775, 2200, 3995, 2689, 2700, 5495, 2600, 5000, 3520, 2500, 1995, 5250, 3295, 2900, 4150, 9000, 1550, 2600, 3495, 2595, 2394, 5990, 2490, 2200, 3100, 2775, 2729, 3595, 3250, 2500, 3260, 3100, 5400, 2300, 2850, 4695, 4200, 4495, 3900, 3000, 2100, 2765, 3650, 3595, 2400, 6200, 2295, 2380, 3595, 4149, 2550, 2050, 2795, 3000, 5123, 2750, 2399, 3600, 3550, 4460, 2400, 2000, 2400, 3675, 1999, 12500, 3295, 1960, 1875, 5000, 1850, 3400, 3430, 1955, 2600, 2895, 2750, 2700, 5000, 6250, 3095, 3495, 2400, 3850, 3490, 2250, 2400, 4100, 4595, 3475, 3675, 3400, 3200, 5700, 2465, 2825, 2650, 3595, 4600, 2995, 3850, 1950, 2700, 2195, 6495, 2895, 2150, 2350, 2820, 2150, 2400, 2995, 3200, 5695, 2725, 5958, 3895, 2700, 3630, 10000, 3000, 7200, 1975, 1825, 3163, 4100, 3095, 2890, 2395, 4400, 4000, 4700, 3700, 2500, 2676, 2000, 4295, 2800, 3625, 2800, 2695, 2600, 4329, 3166, 2200, 6923, 1895, 4650, 3795, 1700, 2280, 2500, 3900, 1604, 3125, 5250, 3600, 2680, 2150, 1725, 2960, 2800, 5350, 2250, 3200, 1625, 3500, 4500, 1900, 2900, 3300, 1833, 3450, 3150, 7350, 4695, 3150, 3495, 2850, 2800, 6900, 2995, 4295, 3795, 2550, 2650, 3250, 4395, 5995, 1800, 3100, 2800, 2500, 3000, 4650, 5200, 6200, 6868, 11500, 3195, 2500, 3200, 2390, 3150, 3850, 3700, 3995, 2600, 2525, 3995, 4450, 4305, 2695, 3050, 4700, 3200, 3125, 1495, 6825, 4159, 3115, 3500, 1795, 6000, 2600, 1950, 2500, 3395, 6245, 3890, 2765, 3595, 3000, 2300, 3275, 4250, 5300, 1925, 3250, 4695, 2375, 2620, 3400, 2655, 2800, 2200, 2500, 2250, 6295, 2400, 1750, 4400, 7695, 4300, 2700, 1850, 4400, 2000, 2300, 8985, 5750, 4100, 2695, 3650, 2704, 1850, 3099, 2595, 4650, 2150, 3775, 3779, 2675, 3300, 3460, 3050, 3670, 1975, 3825, 3650, 2600, 2895, 2250, 2995, 3530, 2500, 2450, 1550, 4800, 2500, 4450, 2290, 1895, 4000, 2650, 4193, 2842, 3000, 1866, 4500, 5495, 5785, 2288, 3100, 2695, 3400, 3700, 3500, 6295, 6000, 3600, 5250, 2450, 1925, 3900, 4500, 8000, 1500, 2700, 2400, 1725, 6200, 2875, 3200, 2900, 6865, 3270, 4700, 3200, 3507, 2500, 5194, 2675, 4200, 3200, 1750, 13500, 3750, 2375, 2300, 2450, 4200, 2500, 3699, 2125, 3400, 11000, 3150, 2095, 2800, 2700, 4335, 2871, 3490, 2500, 1900, 3450, 3375, 2765, 2700, 3400, 9995, 2650, 1996, 3200, 2249, 2395, 5695, 1750, 2595, 2650, 4850, 3900, 2850, 2300, 3607, 3400, 4900, 2890, 2195, 11550, 6500, 2900, 2200, 4800, 6200, 3650, 2395, 2595, 5675, 13900, 4000, 3500, 5400, 4500, 4337, 2100, 5500, 2495, 2800, 3483, 2750, 4300, 3195, 4950, 2750, 4595, 4770, 2099, 1500, 2495, 3400, 3400, 3100, 5770, 3795, 2450, 2100, 3050, 2695, 4921, 2800, 3150, 3399, 2600, 4650, 3050, 2450, 3300, 2900, 2875, 3830, 3000, 3450, 5950, 2950, 3550, 5000, 2400, 4495, 4500, 5325, 5400, 2300, 3700, 1695, 4212, 3895, 2295, 2760, 5900, 4800, 4595, 5600, 4500, 3175, 2200, 2600, 6307, 3171, 4350, 4175, 3650, 5095, 1895, 4500, 7000, 6182, 5895, 2195, 2850, 2350, 5866, 4495, 2895, 6200, 2295, 1795, 2780, 3200, 3000, 5250, 2700, 3190, 2400, 2250, 1650, 2900, 1875, 4500, 2850, 4595, 3200, 6545, 3750, 2600, 3090, 2125, 3700, 2650, 2700, 1550, 5300, 2700, 5595, 4000, 1950, 3095, 3290, 3350, 4000, 2750, 2933, 1400, 2250, 2700, 3727, 2700, 8295, 3250, 2900, 3600, 3300, 3100, 5200, 4000, 2970, 2625, 2400, 2150, 2500, 2563, 2300, 3395, 2400, 2995, 3565, 2550, 2500, 2995, 2500, 14000, 2350, 2650, 3295, 4450, 5250, 4000, 3495, 2550, 2350, 3675, 6500, 3750, 3330, 4795, 3280, 3100, 3068, 2575, 2676, 4970, 1950, 2750, 6000, 9500, 7000, 1850, 3450, 3450, 3500, 4600, 7200, 2400, 3500, 5750, 1995, 3300, 1750, 2550, 2516, 10770, 2595, 1775, 1950, 5133, 3500, 3795, 4500, 2200, 1950, 3500, 2350, 6295, 2395, 3900, 4850, 3475, 2000, 3450, 3195, 5200, 3400, 3095, 3200, 14500, 2750, 6930, 4595, 5499, 2895, 6195, 3850, 3500, 3400, 1995, 6800, 2885, 1450, 8495, 1750, 6000, 4900, 4000, 2775, 2695, 1800, 2850, 4244, 5200, 1725, 3695, 3275, 4395, 5595, 3972, 3395, 3495, 3158, 3325, 4995, 1800, 2550, 4013, 1895, 3350, 5000, 6165, 2725, 3995, 2600, 4495, 2895, 2800, 2300, 3195, 2292, 3425, 2595, 2450, 2495, 3500, 3700, 2700, 3900, 4265, 6500, 2650, 1450, 2150, 3195, 3375, 6750, 3700, 3200, 3800, 3000, 2500, 2500, 2495, 5500, 2100, 3365, 2960, 3695, 3157, 8000, 3650, 1700, 2400, 3400, 2625, 5500, 3395, 1550, 3150, 6500, 3395, 4485, 2000, 3795, 3495, 1550, 3700, 5500, 5600, 5960, 2400, 3900, 2800, 2750, 3000, 3200, 2450, 4200, 5900, 2685, 6835, 9000, 9955, 5590, 2800, 4350, 2100, 3200, 1925, 2850, 2200, 5500, 3200, 12000, 3860, 2550, 2695, 2500, 9000, 3599, 1799, 4000, 5295, 4350, 3000, 5150, 4150, 3500, 2500, 2995, 3200, 3600, 3495, 5130, 2850, 1850, 11000, 3050, 6195, 2150, 2600, 3600, 4695, 4295, 1950, 7500, 4895, 3875, 4750, 2100, 2500, 3692, 1900, 3600, 1500, 3600, 2900, 3396, 3295, 6850, 2250, 2450, 2650, 2100, 3300, 4000, 3500, 3500, 2000, 10000, 2425, 5500, 1850, 4400, 3800, 4480, 6000, 1550, 4200, 3175, 2300, 2525, 2025, 3600, 2995, 2700, 2100, 5160, 7100, 4900, 4000, 2300, 3495, 3150, 6250, 6990, 2600, 6561, 2895, 3995, 5750, 4000, 3625, 5000, 2750, 2650, 2495, 3100, 4615, 2200, 2500, 4000, 2500, 3095, 5250, 2850, 3139, 5830, 3600, 3575, 5370, 2400, 3000, 3495, 3400, 3750, 2500, 1850, 3150, 3850, 2150, 4308, 2595, 2065, 3400, 1750, 5800, 1900, 3900, 2700, 2800, 4387, 4275, 2825, 3095, 4500, 1495, 2900, 4495, 2875, 3290, 5200, 3500, 3250, 2400, 2200, 2650, 3445, 2975, 2125, 2925, 2730, 2495, 2775, 3880, 1875, 3415, 1850, 4300, 3300, 4595, 2600, 1800, 6900, 3130, 5450, 10000, 2500, 2500, 3000, 7895, 4250, 3900, 7895, 6295, 2800, 2680, 4350, 2300, 3000, 3400, 2789, 3995, 1850, 1850, 3600, 2395, 2800, 2625, 6995, 2100, 3450, 2700, 10500, 1875, 1900, 2100, 4650, 2500, 4000, 2200, 2750, 3250, 2850, 4310, 2575, 2490, 3745, 1995, 5728, 2195, 2750, 2500, 3150, 2950, 3400, 2900, 7500, 2395, 5500, 3175, 3200, 2100, 3200, 2250, 2350, 3500, 3116, 4095, 2600, 8250, 3300, 2475, 3200, 6600, 4000, 4295, 2850, 4350, 2300, 3188, 3200, 6050, 3138, 2600, 10000, 3250, 6490, 5895, 4950, 3600, 5353, 1699, 4500, 3295, 3000, 2495, 2490, 2931, 6495, 3300, 3689, 1900, 4295, 3600, 3400, 3678, 3500, 3895, 2295, 3195, 2295, 3095, 1735, 3200, 1950, 6700, 3500, 1975, 5700, 3950, 4300, 2550, 2150, 3300, 2925, 1650, 5000, 4250, 3400, 6250, 2000, 1775, 2400, 3050, 6995, 5495, 4400, 6000, 3650, 5995, 5025, 4975, 2650, 2250, 2675, 3500, 2000, 3050, 1950, 2025, 3050, 6000, 6200, 4650, 3200, 1800, 1650, 1850, 2700, 2995, 2450, 3000, 2195, 3050, 3100, 1825, 3895, 8200, 3650, 4000, 2500, 2725, 2515, 2500, 2852, 3628, 3265, 2600, 3000, 1850, 2650, 2949, 2500, 2200, 2450, 5695, 3500, 4620, 2255, 2500, 1500, 4500, 2000, 3950, 4195, 2195, 3500, 3495, 2900, 2900, 2550, 2500, 2566, 5200, 2895, 4200, 2000, 2800, 3250, 5500, 3500, 3479, 1895, 2095, 2600, 3495, 3000, 4000, 6600, 3750, 4700, 3100, 3660, 2100, 4200, 3900, 4950, 4295, 6800, 2800, 2700, 2182, 3040, 3625, 2895, 3343, 3650, 5000, 3900, 2825, 2095, 2295, 1700, 3400, 2295, 3300, 5100, 6412, 6150, 3090, 2375, 3500, 3495, 5210, 5000, 3200, 2795, 1575, 1500, 2300, 2850, 2450, 2800, 2500, 2695, 2250, 3400, 4000, 3750, 5925, 3175, 3490, 3800, 3900, 1895, 3221, 2300, 1850, 2700, 3795, 10750, 1800, 2800, 2500, 1750, 2100, 3050, 3795, 6599, 3600, 4198, 2500, 2295, 5995, 3795, 3437, 2550, 7490, 5500, 2880, 2050, 2995, 3199, 3323, 3795, 4200, 4200, 5900, 4000, 2325, 4471, 1850, 3800, 2075, 3569, 2800, 2495, 2375, 2400, 3425, 4500, 3600, 3250, 3200, 2650, 4700, 2500, 3000, 1900, 2600, 2895, 4444, 2000, 5000, 3435, 3475, 3050, 4180, 2725, 2750, 2050, 3995, 2850, 4935, 2400, 2700, 2950, 2150, 2415, 5250, 2400, 4800, 3100, 2995, 3900, 2050, 5175, 2400, 3150, 3350, 4900, 2700, 2225, 3495, 2000, 5257, 2595, 1650, 4500, 4395, 2450, 3350, 2450, 3600, 3300, 2900, 4695, 1950, 2251, 1975, 2555, 1850, 2390, 6400, 2100, 6492, 3650, 2975, 8000, 2259, 3025, 4695, 3100, 6275, 4800, 4350, 2700, 2200, 2200, 14500, 2699, 1850, 2769, 3400, 5000, 1800, 2400, 5750, 3250, 3895, 4205, 1600, 2995, 3660, 2150, 5795, 3450, 3600, 1900, 2700, 3000, 4200, 1850, 3795, 3000, 3385, 2775, 2500, 2725, 3095, 2700, 2800, 3150, 3325, 10570, 5000, 1750, 2225, 2200, 1995, 2490, 2100, 2900, 3150, 1850, 3435, 3298, 3995, 2690, 10000, 4500, 3050, 3190, 1995, 3050, 4900, 2200, 5107, 1925, 3795, 2300, 1700, 2050, 1850, 2800, 2200, 3250, 2995, 1900, 2425, 2000, 13000, 15000, 2300, 2550, 6420, 2500, 2600, 5000, 2475, 1725, 3350, 2500, 2400, 15000, 3178, 2650, 1875, 2985, 2450, 1875, 3400, 11750, 2150, 2575, 2745, 3250, 2750, 1550, 1995, 2300, 2358, 11500, 2400, 1995, 3688, 2350, 3000, 1850, 1375, 2800, 3350, 5900, 2700, 4650, 4135, 2399, 2538, 3590, 2750, 1950, 2195, 7900, 3200, 5895, 3895, 2900, 1990, 3400, 5150, 2920, 3200, 3695, 4000, 2450, 4295, 2450, 3250, 3200, 3300, 2200, 2695, 3500, 4500, 2250, 3200, 2095, 2995, 5400, 2310, 3300, 3000, 3845, 7695, 2650, 7250, 2200, 2100, 3395, 2850, 1650, 3800, 3000, 2150, 2800, 2750, 3900, 3800, 2395, 4595, 1850, 2543, 4800, 3300, 3535, 3190, 3600, 3600, 3200, 1950, 5350, 2595, 2930, 3550, 3000, 3200, 3366, 3000, 3125, 2350, 7295, 4400, 2800, 2395, 3800, 2790, 3500, 2700, 12200, 10000, 6500, 2595, 1845, 5500, 12000, 2000, 5000, 4400, 3715, 3995, 3450, 3200, 1575, 2750, 3095, 3595, 1800, 3300, 4100, 4500, 7500, 4650, 3395, 6450, 3590, 5195, 3700, 3550, 3195, 2600, 2600, 3300, 3600, 3855, 5000, 5995, 4404, 2595, 2580, 2195, 5500, 3791, 2553, 5600, 2950, 2700, 2700, 2750, 6000, 1725, 3750, 2200, 2600, 10295, 3000, 2500, 3000, 1975, 2525, 6000, 6510, 1550, 2895, 4500, 2998, 1595, 5445, 3050, 2064, 2395, 3350, 2650, 2650, 2600, 3017, 3020, 3200, 9000, 3250, 2975, 3160, 4000, 3300, 2650, 2450, 3845, 2200, 3125, 10000, 2500, 3500, 4250, 1820, 6600, 4700, 2950, 4124, 2950, 5200, 3200, 3400, 3800, 3850, 1900, 2600, 5695, 2871, 2750, 2350, 4482, 1525, 2200, 3400, 1800, 3000, 2250, 4250, 1975, 2150, 5350, 2400, 4600, 3595, 2995, 2400, 3225, 2750, 2300, 2760, 4995, 4300, 5495, 2400, 4000, 3395, 4600, 2857, 7995, 3800, 8000, 3100, 2100, 3100, 2350, 3295, 12500, 3800, 2800, 4600, 3400, 4595, 2100, 2795, 2695, 4395, 4995, 2300, 1800, 3110, 2475, 1893, 2700, 2700, 3996, 11000, 3000, 3575, 9750, 3150, 1850, 8500, 1945, 4100, 3600, 5100, 3095, 2495, 2700, 3025, 3100, 2450, 3150, 1725, 3785, 3400, 2500, 1800, 2625, 4495, 5000, 4725, 2100, 2500, 5495, 2450, 2200, 4395, 2400, 3400, 3200, 3995, 2900, 2800, 8354, 3500, 2200, 2800, 5600, 3050, 2495, 1800, 3705, 1850, 6500, 7500, 2800, 6422, 3300, 2200, 6512, 3450, 5290, 5000, 10199, 3200, 3895, 1625, 6995, 2650, 1725, 3195, 3400, 2200, 2400, 2300, 3300, 4150, 2475, 2250, 1995, 3100, 4095, 3150, 5890, 3750, 3895, 4630, 5995, 3850, 3350, 3499, 5400, 9500, 2950, 5295, 4115, 2995, 2050, 4495, 5500, 4995, 1700, 4825, 3138, 4475, 4350, 2774, 3018, 1995, 5650, 5317, 2500, 1695, 1675, 3595, 3800, 9000, 2200, 2700, 3250, 1525, 2700, 2750, 13995, 4120, 2400, 2995, 3800, 14500, 4395, 3100, 2245, 2100, 6639, 3300, 9300, 2500, 4200, 2795, 7000, 2650, 5600, 2700, 2500, 5450, 1500, 3995, 2525, 3200, 5430, 2495, 2900, 1675, 4800, 6495, 2700, 3300, 1825, 4600, 1850, 2650, 2295, 5250, 1990, 6700, 4000, 3745, 3050, 2400, 3000, 4090, 4000, 2475, 2345, 3550, 2295, 2450, 3508, 1850, 13745, 2980, 1900, 2800, 1775, 3500, 3282, 3290, 2599, 3572, 2295, 4000, 3695, 3100, 5500, 3695, 4395, 2995, 4300, 3385, 4200, 3100, 9500, 3450, 1800, 2500, 2625, 4500, 7355, 6000, 1700, 4300, 2500, 3985, 1950, 3450, 3295, 2800, 3200, 3550, 2425, 1800, 3500, 1850, 1550, 3040, 2900, 3995, 1825, 3250, 3300, 2200, 1795, 1900, 2550, 3425, 2995, 4200, 2100, 1800, 3550, 1975, 3400, 2998, 2825, 7150, 2250, 3200, 3150, 2500, 4109, 8800, 6275, 5000, 3500, 2800, 3500, 3600, 3200, 8350, 3100, 2595, 15000, 5000, 2450, 5600, 3550, 5219, 2500, 5679, 2846, 4450, 3995, 2300, 4468, 5000, 1999, 2800, 1550, 2900, 4500, 2150, 2800, 2750, 2000, 3300, 2200, 3000, 2850, 2673, 3300, 3345, 2800, 4850, 4300, 10000, 2700, 2500, 2775, 2500, 2600, 3370, 5200, 2650, 5995, 2200, 2700, 3000, 2075, 5900, 3745, 2095, 5395, 2995, 2400, 2100, 8000, 4173, 2590, 4600, 2795, 2900, 2495, 3295, 1900, 2375, 2954, 4000, 4980, 1700, 2200, 2400, 3695, 2950, 3220, 1850, 1895, 1875, 2525, 1850, 3000, 2375, 3100, 4700, 1995, 4800, 4700, 4100, 3950, 3695, 2620, 3600, 2625, 2500, 8000, 4295, 2900, 2499, 2100, 1600, 1850, 8500, 4130, 7000, 4000, 2325, 2300, 3475, 1875, 4762, 6200, 6000, 2200, 3400, 3050, 4060, 3375, 3295, 3100, 2700, 3150, 2200, 1995, 4950, 2250, 3659, 2200, 2676, 2500, 4304, 1750, 1575, 2050, 3795, 2900, 6574, 4200, 2850, 4495, 1825, 4515, 2200, 2000, 5958, 2400, 2595, 1850, 5500, 5100, 2595, 3695, 3295, 2450, 5450, 2100, 2299, 1550, 3000, 2600, 2495, 1990, 1700, 2689, 3400, 3550, 2150, 2300, 1650, 2775, 5110, 2300, 2100, 4550, 2450, 3695, 2350, 3495, 7000, 3600, 4022, 2100, 3745, 2695, 10000, 6795, 2100, 3850, 2500, 5500, 2325, 1550, 6500, 3050, 6800, 2495, 2745, 1800, 3160, 8000, 2000, 3400, 7250, 3408, 3975, 2195, 2400, 3795, 4695, 2600, 2200, 1795, 2950, 2300, 2950, 6000, 3225, 3000, 3000, 1800, 1950, 1800, 2700, 3591, 2550, 4095, 3775, 3640, 1899, 5300, 3725, 2900, 2350, 2350, 4895, 2450, 2250, 1650, 2000, 2550, 3600, 2075, 2549, 3226, 1625, 2800, 3438, 1999, 4999, 2895, 2250, 2050, 3300, 3570, 3700, 3695, 2100, 5100, 7100, 2820, 2775, 1550, 3100, 2821, 2100, 2500, 2150, 2150, 4450, 2300, 3200, 2275, 3300, 1700, 1756, 5000, 2000, 2300, 5595, 2600, 10500, 1950, 4000, 5200, 3050, 4100, 3000, 3485, 1775, 4250, 5000, 3700, 2475, 1400, 2500, 4500, 1750, 9500, 3200, 5149, 1650, 11000, 2695, 4250, 2900, 1995, 3110, 2499, 2500, 4975, 2995, 2900, 2895, 1955, 3250, 3000, 2100, 3000, 3450, 2600, 2600, 3700, 8275, 2325, 3295, 2950, 2708, 1650, 3200, 2300, 5995, 2900, 2700, 4880, 4450, 11875, 2325, 2995, 4075, 3200, 3250, 2780, 2495, 2485, 1975, 2950, 4025, 3100, 3200, 3600, 3350, 1850, 4892, 3150, 2645, 4985, 3200, 2295, 3495, 4400, 11000, 4695, 3400, 4600, 3400, 2100, 2995, 4470, 3978, 4295, 2395, 3475, 2895, 4800, 5295, 2400, 2575, 3250, 3450, 2100, 3595, 3995, 2250, 2100, 2150, 2395, 3350, 2600, 2895, 2795, 2595, 3200, 5795, 2150, 3495, 7200, 3145, 2700, 3700, 2000, 3200, 1755, 1795, 3483, 1965, 3830, 3495, 5560, 3195, 2395, 3195, 3850, 3095, 3130, 3800, 5175, 3300, 2075, 3250, 4695, 2760, 2600, 3000, 2325, 2000, 3100, 3200, 2500, 4595, 9600, 2095, 2499, 2400, 3800, 2850, 11550, 5720, 3907, 4600, 3900, 1800, 2900, 4895, 2995, 2300, 2195, 1395, 3147, 2800, 3350, 2890, 3641, 1600, 2395, 3200, 2650, 2350, 2750, 4995, 4250, 2595, 13995, 5995, 2400, 3515, 2590, 2400, 3850, 3539, 2700, 3400, 7100, 2300, 3050, 3895, 4395, 5300, 6250, 2750, 3125, 3295, 5400, 3600, 2950, 3000, 1995, 6490, 7400, 6200, 3255, 7995, 1800, 3950, 2800, 4900, 7980, 3700, 3700, 3500, 6495, 4395, 3100, 2250, 6850, 4450, 5000, 3625, 2750, 3500, 9870, 1695, 2995, 3800, 3250, 3000, 2095, 3600, 4700, 1900, 4625, 2550, 3075, 2495, 2050, 3900, 3450, 3500, 2300, 4075, 3395, 2900, 4500, 1950, 3200, 3195, 2000, 2100, 3100, 3995, 2050, 7250, 3815, 3110, 2800, 14000, 3000, 3600, 2000, 4600, 7000, 2150, 2395, 4600, 3660, 3184, 2200, 4308, 4175, 5408, 2975, 2925, 10000, 2250, 3495, 4800, 3550, 4995, 3950, 5799, 2625, 3295, 4600, 6400, 5895, 9995, 5665, 2850, 3350, 1875, 5500, 3250, 1980, 2500, 5000, 2550, 2600, 3595, 2200, 12250, 2950, 2875, 2800, 6450, 7900, 2050, 3200, 7995, 2400, 2850, 3450, 2500, 2900, 1850, 2980, 6450, 2700, 3000, 2800, 3689, 2400, 2960, 2945, 2330, 5295, 9165, 4925, 3900, 3400, 2160, 4395, 2595, 3665, 3300, 1750, 2595, 3450, 3100, 1500, 3700, 5100, 2550, 2500, 2475, 3295, 3200, 1625, 4800, 12000, 2850, 2600, 3400, 4200, 2600, 1825, 3000, 4000, 2500, 5595, 3395, 2050, 1995, 1700, 3100, 5800, 2350, 3400, 3850, 3715, 1495, 4445, 5297, 2645, 2295, 2460, 5250, 3805, 4450, 4000, 5700, 4060, 3100, 3100, 2695, 5200, 3300, 2451, 3295, 5995, 3850, 2674, 1950, 3200, 2290, 2300, 6595, 6700, 1895, 5500, 3595, 3500, 2400, 3400, 2395, 2100, 2450, 1395, 1950, 1650, 6900, 6000, 3199, 3995, 3695, 2200, 5895, 5000, 3200, 1695, 3775, 2280, 2350, 6475, 1950, 6645, 3695, 3295, 4995, 2500, 5958, 4258, 2400, 2176, 2723, 8000, 1750, 2050, 4500, 4400, 3200, 2553, 2775, 2495, 2600, 2700, 2595, 4695, 2400, 5425, 2995, 5600, 6200, 2550, 2350, 2550, 4995, 2795, 1885, 2300, 2990, 3591, 3600, 5600, 4550, 3926, 2825, 3995, 3200, 1975, 3996, 2675, 9000, 3525, 2300, 3100, 4000, 2850, 2000, 4700, 4500, 2500, 3000, 3295, 5048, 4600, 2675, 1500, 2595, 2500, 2265, 1800, 1825, 5965, 3200, 3000, 2900, 4950, 2700, 2350, 2695, 3450, 2760, 2900, 3295, 3600, 3124, 3495, 2700, 12500, 2495, 3050, 1799, 5350, 4600, 2765, 2650, 3400, 2900, 3595, 2350, 6400, 3895, 2300, 2750, 11000, 6350, 3495, 1995, 5750, 3617, 5250, 3995, 2000, 4700, 3200, 2400, 3200, 2100, 3495, 3299, 2150, 2350, 2450, 3650, 6000, 2132, 3400, 2175, 2750, 5600, 2450, 3100, 1800, 3100, 2000, 5675, 5400, 3500, 4770, 3678, 2500, 5110, 7000, 3700, 3632, 2700, 5000, 3300, 2925, 2970, 1925, 2150, 2350, 7500, 3995, 4400, 2250, 3700, 3695, 6376, 2900, 2500, 4850, 1895, 2250, 2860, 4440, 2500, 8795, 2600, 4195, 3100, 3715, 2500, 2350, 3200, 7350, 2125, 7195, 6750, 2395, 2385, 3100, 4600, 2700, 2725, 3200, 3295, 4295, 3995, 5300, 4695, 14500, 2595, 2600, 1700, 1950, 2600, 2650, 3350, 2150, 3399, 4500, 1725, 2595, 4950, 2600, 3250, 3495, 3095, 3941, 3350, 4554, 2721, 2230, 3100, 6000, 2675, 3700, 2600, 1999, 2950, 2400, 3250, 3400, 2175, 2090, 6561, 2975, 2450, 3100, 3500, 5300, 2695, 2975, 1700, 3112, 3375, 3700, 3095, 1800, 3795, 2890, 4109, 2900, 3120, 2000, 2800, 3250, 13005, 3300, 2600, 3200, 4475, 3400, 3200, 3500, 2095, 5195, 5000, 2000, 2350, 2750, 3275, 4900, 3925, 2390, 4200, 3050, 2100, 3230, 2300, 2500, 2500, 3000, 2295, 2695, 3400, 2400, 4300, 4100, 3100, 2075, 1850, 2200, 3350, 3195, 4850, 2300, 2230, 3200, 8250, 2000, 3100, 3415, 2585, 2595, 2650, 2795, 3075, 3445, 2500, 2175, 2700, 4500, 3350, 4395, 1940, 4000, 2800, 2375, 2500, 3800, 6195, 2650, 8600, 6900, 3275, 2890, 2250, 6295, 3795, 4760, 1900, 6795, 1950, 4200, 2375, 3225, 3195, 2390, 3480, 3395, 3950, 2995, 4295, 1500, 3297, 2600, 1795, 3000, 4695, 2100, 1700, 5800, 3000, 3200, 4985, 3000, 6595, 2300, 3650, 6200, 2700, 6195, 3000, 6500, 2800, 6500, 3850, 3400, 1675, 2700, 3200, 2900, 1850, 3300, 5300, 4400, 5000, 2450, 3700, 1700, 1900, 4200, 2550, 2200, 3875, 2200, 4550, 2500, 2650, 2450, 10750, 3000, 2335, 3022, 2850, 3100, 3425, 3800, 4850, 2650, 3700, 5500, 2700, 3900, 5500, 4200, 3300, 7995, 1600, 2495, 2675, 2400, 2150, 2100, 2450, 2275, 4295, 2400, 1500, 2050, 4225, 7287, 3500, 5000, 2495, 2200, 3600, 2050, 2800, 2500, 2475, 2725, 3250, 2250, 3030, 3849, 7750, 3180, 2800, 3495, 1650, 2955, 2750, 4000, 2490, 4095, 2700, 3985, 1875, 2975, 5058, 2000, 3550, 2676, 2550, 3338, 2550, 3000, 1950, 2750, 2795, 2100, 3000, 3535, 1850, 4325, 2300, 3845, 2050, 2595, 3695, 2679, 3795, 2100, 3295, 2800, 2800, 3795, 3100, 3200, 4300, 7500, 2950, 4150, 2500, 2200, 2695, 2295, 3495, 4525, 4377, 2600, 5400, 2700, 4900, 2100, 3800, 2676, 2525, 3200, 2000, 3705, 3395, 5150, 3800, 1850, 3688, 2300, 7500, 3175, 5900, 3095, 4200, 3495, 4935, 2550, 2995, 2595, 4000, 3295, 1650, 3990, 2800, 1925, 2900, 3700, 2600, 3100, 3495, 2579, 3695, 3350, 2300, 1600, 6295, 1550, 2500, 2992, 3300, 2600, 3300, 5395, 4495, 3300, 5400, 4500, 1850, 4950, 5550, 3050, 3795, 5800, 2300, 3600, 4192, 2450, 3375, 7495, 4700, 2600, 3300, 2635, 2750, 6200, 5600, 2725, 2750, 2250, 2750, 2300, 5495, 3050, 3300, 4950, 3323, 3695, 3995, 4033, 2850, 9995, 3200, 3995, 3250, 2200, 3750, 3900, 3100, 2450, 3200, 4000, 3600, 4200, 4500, 2600, 2850, 1800, 6995, 2800, 3250, 4125, 5150, 2200, 3254, 2681, 3595, 3400, 4448, 1400, 6399, 3200, 3300, 2400, 6595, 2591, 2975, 3700, 1900, 2795, 3450, 3625, 3375, 2270, 1795, 3195, 2300, 2500, 2300, 2065, 1850, 3100, 2695, 3050, 2550, 2495, 2195, 2475, 2225, 3000, 3120, 3775, 5000, 2995, 2950, 2300, 2500, 5900, 2600, 3600, 1850, 3845, 4000, 2600, 2350, 2400, 3095, 2674, 1895, 8100, 2295, 2500, 2050, 5450, 1850, 2675, 2200, 2750, 3395, 6450, 12500, 4350, 3200, 3202, 5000, 7900, 1800, 2050, 2650, 5150, 2470, 5488, 3595, 2500, 3709, 3595, 2800, 3300, 2875, 7000, 5000, 3500, 1500, 2750, 4500, 2800, 1795, 4500, 1700, 2525, 3795, 3595, 2990, 9000, 3500, 1575, 3500, 2595, 6895, 2150, 3100, 1995, 4550, 2400, 2100, 2950, 3599, 5650, 5200, 2400, 1750, 3795, 3350, 2958, 3375, 2595, 3100, 2300, 2695, 2900, 3230, 3895, 4300, 3195, 4995, 2900, 3670, 3000, 4600, 4500, 2750, 8224, 3000, 2595, 2789, 3000, 2600, 1995, 5695, 5000, 3295, 5000, 4750, 12995, 3790, 1800, 2750, 2600, 3100, 2968, 4700, 2900, 3879, 2195, 5200, 2350, 3500, 5800, 7950, 11750, 3900, 3005, 2950, 4200, 3279, 4000, 3125, 4750, 3595, 2350, 3400, 1595, 1995, 3700, 3695, 1850, 5900, 3925, 3000, 2200, 1700, 2500, 12000, 2000, 1550, 5000, 3600, 8000, 5600, 5900, 9500, 2640, 2300, 2650, 3475, 1895, 1500, 4850, 3995, 2300, 2965, 3400, 4100, 2000, 2095, 7500, 3323, 4100, 2950, 5164, 2475, 7800, 4800, 4295, 4975, 2950, 3650, 4595, 3695, 4200, 3510, 4500, 2175, 2695, 2795, 9000, 2995, 7000, 2295, 2550, 2950, 4675, 4000, 2075, 3600, 2700, 2200, 2250, 3709, 6992, 2100, 2800, 3703, 3495, 2825, 12500, 3495, 3800, 3650, 2721, 2150, 4450, 3815, 2550, 2200, 3550, 3350, 5600, 1700, 3440, 5095, 1750, 1700, 2200, 3150, 2250, 2300, 2750, 5571, 1900, 2750, 2895, 3690, 4595, 3400, 2100, 3125, 5300, 4950, 6200, 3600, 3400, 3500, 3435, 2695, 2350, 3395, 1950, 3300, 2800, 3500, 2390, 1795, 3600, 2880, 6675, 3000, 2650, 2800, 4000, 1700, 4602, 3475, 4600, 7350, 3100, 5100, 5995, 3525, 3995, 3725, 3100, 3195, 4295, 1875, 1900, 3125, 2775, 3375, 4750, 3352, 3250, 1395, 3200, 2550, 4350, 3300, 4695, 1875, 1900, 3800, 2350, 3600, 2350, 3100, 2725, 2566, 4095, 2875, 1900, 2250, 6643, 3450, 2800, 3700, 3490, 2389, 3490, 4000, 4250, 2600, 3000, 2757, 3675, 4250, 2000, 1950, 8995, 2350, 3100, 3400, 2500, 3500, 2750, 3400, 3095, 4850, 5977, 2011, 8000, 2450, 5495, 2290, 3150, 4600, 2300, 2400, 2195, 12000, 3400, 2895, 4475, 2689, 2950, 4220, 1750, 2900, 1400, 5169, 3595, 1900, 2395, 2475, 3950, 3591, 3900, 2600, 5400, 2500, 2000, 3495, 6400, 4895, 4855, 3391, 1900, 2050, 2900, 3695, 3782, 3350, 4000, 2250, 1995, 2050, 2450, 1900, 2350, 10000, 3380, 3475, 2995, 2500, 4000, 2200, 2775, 5565, 2895, 3782, 2500, 3750, 2550, 2000, 5895, 1995, 2538, 3100, 2500, 1750, 4295, 7500, 6295, 10000, 2150, 5993, 3323, 2050, 2695, 2300, 6950, 2350, 2600, 5758, 2695, 4000, 2375, 3150, 2295, 4750, 2900, 2500, 2000, 3700, 7495, 3850, 2400, 2875, 2550, 3715, 3695, 3639, 2700, 5500, 2650, 5750, 2400, 3495, 8200, 2750, 2200, 1650, 2375, 2525, 3150, 2600, 2600, 3655, 4495, 3695, 2595, 3350, 3000, 4200, 1900, 4900, 2150, 5350, 2400, 2250, 15000, 2995, 1950, 2600, 1475, 2750, 2700, 2300, 3995, 3999, 2045, 3595, 2200, 2925, 3200, 2915, 3193, 2495, 1645, 2635, 5150, 2950, 1995, 3799, 4250, 2295, 1710, 3800, 2795, 3895, 2650, 3500, 3100, 3100, 2295, 4890, 1570, 2900, 2689, 2800, 3700, 10500, 2600, 2795, 3625, 2850, 4900, 7500, 2350, 1825, 5430, 2250, 3000, 3230, 2299, 4200, 6995, 3570, 3275, 1700, 3763, 5200, 3125, 2800, 3100, 2500, 4175, 3495, 2000, 3495, 3050, 4495, 2795, 3995, 3277, 6000, 3700, 2200, 3495, 2575, 2200, 3163, 5600, 4334, 4000, 3550, 2595, 2000, 2525, 3400, 3147, 2445, 3300, 1900, 3795, 3400, 1625, 2425, 4992, 5345, 3695, 2500, 1700, 3750, 1875, 2895, 4900, 7000, 3100, 2790, 4100, 3495, 2395, 2550, 1495, 3095, 4800, 2900, 4295, 3300, 10500, 5700, 3300, 2225, 3700, 1900, 3479, 5000, 1975, 3250, 1885, 2450, 2446, 5770, 3995, 1927, 3495, 2450, 3180, 2492, 2700, 3195, 4200, 2350, 2600, 2450, 2150, 3391, 2450, 2000, 3100, 4250, 3145, 2500, 4495, 3500, 2954, 2450, 3000, 2200, 6600, 4395, 3400, 4200, 3350, 5795, 2275, 3350, 2030, 3167, 3295, 3550, 3300, 3400, 2500, 3800, 2100, 3250, 5700, 6450, 13995, 2295, 3995, 4450, 2900, 2995, 2700, 6000, 3125, 3286, 2200, 3500, 10000, 3650, 4000, 3350, 3875, 2750, 5500, 4375, 3625, 2375, 4100, 3495, 1850, 7495, 7900, 2110, 3250, 3500, 4595, 2113, 2745, 5400, 3795, 2175, 1850, 2850, 2300, 4995, 2300, 2000, 2399, 3679, 6200, 2695, 3200, 2950, 3600, 7100, 6000, 3200, 3695, 2250, 8795, 4600, 5400, 2199, 3400, 3300, 3750, 2895, 6200, 3100, 2195, 2265, 4180, 1500, 3497, 4800, 2300, 3900, 2100, 10500, 2100, 3200, 2900, 3050, 3395, 1795, 3550, 2700, 2950, 2500, 3150, 3350, 2395, 2300, 15000, 2695, 2900, 2160, 1650, 5795, 8650, 2395, 2895, 2075, 3290, 3500, 5195, 2025, 3295, 2700, 2600, 5850, 2265, 3295, 4295, 2400, 1800, 2800, 2200, 2200, 3695, 6495, 2195, 5000, 2700, 2300, 1525, 3125, 3150, 2600, 1900, 2300, 3600, 6000, 3000, 6000, 3800, 4050, 2595, 2000, 3000, 3800, 3000, 6000, 2000, 2405, 2500, 3495, 2400, 2899, 4000, 2565, 3495, 2200, 3438, 4195, 1900, 3699, 2600, 3495, 3250, 2250, 2650, 2875, 2800, 5649, 5600, 6725, 5395, 2800, 5000, 6450, 2884, 4195, 2940, 5750, 3000, 1700, 3700, 2350, 4800, 1895, 4390, 4500, 6600, 4250, 1995, 4500, 3700, 2675, 8895, 2500, 1650, 3300, 4120, 3941, 1695, 2325, 2500, 1750, 2895, 2050, 3898, 3795, 2475, 1750, 5700, 6350, 2250, 3200, 2795, 12500, 1790, 2500, 6000, 2300, 3150, 3164, 4400, 2900, 5100, 2900, 1925, 5000, 2100, 2795, 4995, 2000, 4895, 5500, 2895, 8450, 2500, 2500, 3350, 3850, 1875, 3083, 1800, 2900, 4900, 4495, 2350, 2300, 5500, 1950, 2200, 2100, 2595, 2800, 7500, 1450, 2750, 3999, 3450, 5500, 2260, 3650, 4750, 2750, 3595, 2700, 3499, 2250, 2750, 4495, 2155, 3150, 3720, 3800, 4395, 5425, 6795, 4695, 3400, 3095, 4450, 4100, 4900, 1650, 1750, 2595, 2490, 1850, 3025, 3641, 5000, 4065, 2500, 3550, 2900, 3022, 4250, 3890, 2900, 3299, 3875, 3100, 4250, 3743, 6200, 2700, 3100, 4300, 4545, 2995, 3050, 2200, 3000, 3175, 3100, 3250, 6995, 3475, 3000, 2800, 3100, 2500, 5895, 5800, 3580, 7200, 2680, 1800, 2390, 5695, 3695, 3595, 2895, 2750, 3495, 5200, 2400, 2950, 5000, 2400, 2550, 2900, 3100, 3150, 2650, 2550, 2395, 2985, 5150, 2750, 1850, 2675, 2730, 5895, 2145, 4750, 1900, 4495, 2970, 2979, 4500, 3200, 3800, 3649, 2100, 3895, 4650, 1975, 4212, 2850, 1900, 12000, 3250, 3100, 2350, 3295, 3800, 4175, 2600, 1550, 2700, 4100, 2630, 3200, 3650, 3600, 2500, 1375, 3625, 3935, 7000, 4000, 4995, 3050, 2050, 2945, 1825, 2400, 15000, 1995, 2100, 2721, 2299, 2350, 1550, 3700, 6395, 2100, 2925, 3995, 3775, 3075, 1550, 2600, 2600, 2350, 2000, 2300, 3450, 2875, 1900, 3950, 3650, 3195, 5995, 3150, 7350, 2495, 6095, 3872, 2865, 2800, 1850, 2500, 1660, 5800, 6500, 2400, 3100, 1745, 5175, 5581, 3300, 11100, 6495, 3800, 3200, 4031, 2960, 5900, 4250, 3000, 3100, 3100, 2149, 3575, 2350, 3695, 4000, 1775, 3650, 2350, 2125, 3450, 3100, 4750, 3050, 6000, 8000, 1975, 2050, 2495, 1650, 5000, 5500, 5900, 2750, 13995, 4270, 8274, 3112, 2325, 4000, 4500, 4805, 3300, 2000, 8700, 2499, 2100, 3000, 3195, 3775, 4925, 4178, 2365, 4200, 3880, 2200, 1900, 2100, 7900, 4595, 3375, 4395, 3150, 2150, 2150, 3950, 3925, 2900, 2200, 3202, 6100, 1850, 4695, 8300, 2550, 2584, 2050, 2085, 6100, 4995, 3200, 2500, 2400, 1975, 1995, 5200, 2650, 2500, 2295, 4800, 2150, 4510, 4800, 3795, 4500, 4600, 1700, 3395, 4995, 3200, 3529, 6865, 2700, 4500, 1700, 2100, 3600, 2850, 4975, 2100, 3300, 4500, 3140, 2650, 1850, 3295, 3700, 5500, 4475, 2400, 2400, 4395, 2900, 4800, 4190, 2800, 2500, 4785, 1550, 3759, 4525, 3200, 4250, 1400, 2600, 3995, 2950, 3660, 3195, 2632, 2400, 7575, 2385, 2500, 2045, 2760, 5500, 2495, 3330, 2550, 2995, 2062, 3200, 2495, 3500, 2525, 4699, 5200, 3400, 3020, 4895, 6080, 3000, 2750, 3025, 5500, 2200, 5550, 3350, 3995, 3695, 2150, 2950, 3190, 1950, 4399, 2750, 4695, 2999, 1850, 2299, 2025, 2990, 3850, 2595, 1450, 2125, 2000, 7285, 1595, 4800, 3600, 2395, 2725, 5595, 2200, 2800, 3675, 3500, 5995, 2300, 3765, 3095, 1775, 2695, 3500, 5175, 5695, 3000, 2500, 2695, 3100, 2400, 2700, 1650, 4250, 2350, 5300, 2195, 1500, 1895, 3990, 4250, 2520, 5390, 3025, 4300, 2500, 3163, 4000, 6426, 3400, 2300, 1900, 1875, 2595, 3500, 4195, 4100, 1575, 3999, 2800, 4999, 4795, 5750, 5195, 2200, 3900, 5395, 4900, 3495, 2950, 3730, 3900, 3285, 3199, 4450, 3595, 4295, 5830, 2995, 4895, 3195, 1750, 12455, 2875, 2900, 2900, 3853, 2584, 3300, 8254, 4800, 1650, 1995, 2300, 2390, 6175, 5499, 10250, 2700, 1625, 4950, 2000, 2950, 1750, 12400, 4600, 4250, 3300, 3675, 4550, 2650, 2400, 4500, 2960, 2899, 4280, 3600, 2900, 2095, 4400, 15000, 2695, 2550, 3050, 2500, 1900, 2800, 2600, 3950, 2400, 2550, 2400, 2750, 5200, 2850, 2451, 3000, 3540, 14000, 3119, 2650, 3000, 1400, 2295, 6500, 4870, 2850, 5955, 3100, 2000, 6395, 3596, 2350, 2850, 2700, 6495, 2680, 7100, 6350, 2995, 3700, 1950, 5795, 1950, 2850, 3800, 3100, 1995, 2710, 4250, 5850, 3025, 10295, 4925, 1800, 2800, 4000, 2500, 1995, 1400, 3500, 2500, 3950, 3600, 2300, 5455, 6400, 3100, 2500, 2200, 5000, 1975, 2579, 3500, 2125, 3895, 2500, 12295, 3100, 2800, 4925, 3200, 3650, 3500, 3800, 3395, 2760, 3000, 3350, 5172, 12199, 2525, 3850, 3330, 2450, 3500, 2295, 2045, 3000, 2400, 3000, 3300, 2295, 4100, 4400, 3300, 3950, 3250, 3250, 2500, 2253, 2523, 3990, 4299, 2350, 3425, 4247, 1710, 4895, 4250, 4700, 3030, 3495, 1800, 4000, 2600, 3495, 2800, 2800, 10000, 1550, 3750, 2150, 2300, 2700, 3600, 4500, 6350, 4000, 3395, 5825, 3995, 3900, 4195, 3041, 2000, 3400, 7000, 2625, 12000, 6300, 4550, 3395, 1850, 2725, 2195, 14000, 3125, 4100, 7125, 2750, 4000, 2050, 2995, 3295, 3995, 1999, 2350, 5500, 1900, 3595, 3112, 1724, 2500, 6695, 3800, 5150, 4300, 1550, 2100, 1900, 1850, 3000, 2500, 3425, 3295, 2625, 3100, 3800, 3400, 2530, 3500, 8000, 4050, 3100, 2100, 2699, 4000, 5045, 2495, 2695, 1950, 2599, 3000, 3846, 2623, 2650, 4000, 1995, 3100, 3600, 2400, 3400, 2480, 1400, 6558, 2150, 1400, 3600, 5995, 4075, 3750, 2495, 7800, 1950, 2975, 3399, 3900, 1950, 2099, 3095, 2400, 5995, 2225, 2950, 3900, 3268, 3845, 1875, 4500, 4195, 1700, 2895, 6100, 3800, 4326, 2500, 4800, 3250, 4500, 3400, 2425, 1900, 8125, 3011, 3800, 1850, 3695, 5600, 3500, 3495, 2800, 3200, 5995, 3300, 2199, 5780, 2500, 2765, 4750, 1550, 2500, 2900, 2000, 5475, 2300, 4149, 2958, 3650, 2475, 5095, 2600, 2350, 3400, 2100, 3350, 2850, 14000, 2395, 3239, 4950, 2950, 4695, 3260, 3600, 3295, 3500, 2675, 2400, 2995, 6000, 4300, 3200, 3239, 2595, 3000, 5270, 2975, 2800, 4160, 1850, 2045, 2450, 6195, 1866, 8400, 5717, 2800, 8000, 1725, 4999, 2395, 2895, 2625, 3700, 3499, 2600, 4450, 5850, 3250, 2250, 2500, 3100, 3595, 2700, 2850, 2450, 2895, 3595, 2958, 3400, 3550, 5000, 1725, 4200, 2150, 2500, 1875, 2748, 2475, 2125, 4200, 2830, 2350, 1650, 2900, 3260, 4471, 4400, 3495, 4100, 5500, 5500, 4095, 6500, 3250, 2400, 2400, 2750, 3150, 2450, 2550, 2575, 5000, 3750, 2900, 2995, 2431, 3795, 3300, 2700, 3100, 3450, 2750, 1800, 4500, 10000, 2740, 2585, 2300, 7250, 6100, 2395, 3595, 3450, 7600, 4995, 1650, 2260, 2350, 5500, 3795, 5350, 2400, 2943, 6200, 5995, 2925, 3150, 3595, 1400, 3850, 2695, 1800, 3100, 3200, 3000, 2800, 3000, 2450, 2400, 2400, 2640, 2450, 2550, 3028, 4650, 1800, 2595, 3200, 3095, 3800, 6800, 2675, 2925, 3495, 3150, 2300, 3762, 2395, 3103, 2500, 3030, 5782, 2395, 2800, 2995, 2495, 5000, 2150, 5695, 4333, 3900, 3400, 2850, 5195, 3500, 4500, 2300, 2200, 3275, 3445, 2100, 3000, 3250, 3325, 2199, 2625, 4200, 4225, 2350, 6195, 3400, 2800, 2425, 2595, 2395, 2800, 2600, 2350, 3595, 2600, 2700, 5000, 3300, 5395, 7495, 2895, 2795, 2250, 1950, 5000, 4695, 3995, 3950, 2400, 6150, 5990, 2900, 2450, 1950, 1450, 4800, 2100, 1500, 6200, 3650, 2300, 3600, 2950, 2700, 2695, 1700, 2700, 4000, 11000, 3100, 2950, 2745, 3400, 3097, 3050, 9080, 3550, 2300, 4500, 4390, 2100, 2200, 3999, 1900, 3795, 9000, 6495, 2650, 4995, 3375, 5257, 3450, 2700, 4120, 1750, 4425, 2200, 2800, 3790, 3800, 6295, 3625, 4425, 4514, 1925, 2400, 2099, 3605, 2500, 1850, 1500, 2500, 5711, 2525, 3550, 3600, 1900, 6000, 3400, 2995, 4853, 4295, 2500, 1800, 4190, 2100, 2625, 2500, 1700, 3800, 4950, 2395, 3500, 4700, 3599, 2595, 2000, 3795, 5600, 4600, 2100, 2500, 2750, 3500, 1790, 2950, 4195, 3625, 2150, 6750, 1925, 2360, 2200, 3000, 2400, 3095, 3000, 3495, 2499, 2475, 3046, 9500, 3150, 1850, 2995, 3260, 2100, 5090, 3750, 5355, 2300, 5095, 3160, 2789, 2300, 1895, 1795, 2350, 3350, 2500, 2386, 4000, 2950, 2250, 3941, 3600, 3050, 3175, 5000, 3200, 1850, 4000, 2850, 2500, 3790, 1950, 2395, 2375, 3850, 2650, 1900, 3495, 2050, 2950, 4500, 5500, 2150, 5900, 2800, 2600, 3371, 5595, 3995, 3949, 2300, 3700, 6995, 2500, 11500, 3150, 3495, 2395, 2950, 2400, 2550, 5067, 2050, 12660, 2195, 6182, 4950, 6350, 3800, 4500, 3600, 2995, 2150, 2600, 3100, 5000, 3050, 2450, 3600, 2590, 2000, 1950, 3000, 5350, 2050, 5050, 2383, 2600, 2175, 3595, 3995, 2700, 2275, 6205, 1800, 4495, 2650, 5395, 3500, 2800, 4000, 1955, 2500, 4450, 4300, 3495, 4650, 2000, 1825, 2260, 2261, 3400, 4000, 3163, 4595, 11000, 2300, 2999, 3525, 2595, 1900, 1650, 3565, 6500, 2025, 2200, 4500, 6295, 4300, 4650, 1625, 1800, 3650, 2650, 3580, 3450, 3190, 2200, 2396, 2950, 3200, 7295, 2100, 1700, 2000, 2750, 6357, 4000, 3400, 1895, 4846, 4950, 2550, 3800, 1850, 6000, 5500, 1825, 13500, 3795, 2450, 3975, 3195, 3900, 2895, 4500, 4800, 3995, 2600, 4195, 3250, 3000, 3200, 3134, 7895, 2472, 7670, 2300, 1775, 3785, 4000, 2900, 1950, 3395, 2025, 1695, 2350, 3495, 5295, 3200, 2307, 2150, 4395, 5500, 2340, 2100, 3100, 8200, 3625, 1975, 2500, 3525, 2600, 3325, 4695, 1950, 4360, 2600, 2850, 2700, 4160, 3090, 7800, 3900, 2500, 4955, 2600, 3300, 3750, 2547, 4000, 6000, 2600, 2700, 2200, 3200, 2998, 3900, 4000, 2600, 3450, 5625, 2700, 3900, 2300, 3400, 2800, 5295, 2695, 7350, 5500, 3725, 2770, 1995, 4125, 2450, 3000, 4000, 5595, 3695, 2325, 2850, 4900, 7900, 1750, 2800, 2650, 3595, 2600, 1850, 3780, 2100, 2599, 3600, 2600, 3495, 4600, 1900, 2700, 2195, 3395, 2750, 3000, 2150, 3200, 3350, 7000, 5460, 3600, 1875, 1800, 2155, 2995, 3520, 2350, 2495, 5500, 2095, 1900, 5600, 2750, 1625, 1895, 2000, 2750, 4670, 2700, 1895, 4150, 3700, 3200, 2500, 2850, 2430, 2275, 2195, 3835, 2275, 3595, 2900, 3450, 6395, 5500, 2200, 1650, 4750, 1875, 4000, 4240, 4695, 3600, 2500, 1900, 2450, 2200, 3699, 3500, 3600, 3240, 5000, 6500, 3500, 2800, 2650, 2650, 5895, 3745, 3900, 2395, 3450, 2400, 3100, 2525, 6295, 2695, 9500, 5500, 5730, 7000, 2800, 3800, 3650, 2350, 2750, 2100, 2350, 3650, 3700, 2795, 4495, 2450, 4400, 3650, 3625, 3100, 2728, 2895, 2500, 2500, 2375, 3225, 9000, 11950, 3195, 3300, 4300, 4640, 3323, 12600, 3995, 2500, 4595, 1850, 4200, 1800, 5675, 3250, 2500, 2800, 2350, 2599, 3700, 5000, 3550, 2795, 4400, 5500, 2700, 3970, 3000, 3800, 3375, 2600, 2789, 2200, 2625, 3365, 2600, 8500, 2895, 3635, 5750, 1550, 3400, 3245, 4300, 9635, 2795, 4175, 2975, 2600, 1900, 11600, 2775, 2450, 3195, 2300, 2187, 2395, 2275, 2650, 2600, 2700, 4200, 5000, 3200, 2395, 4519, 3250, 3425, 3095, 2700, 1895, 4700, 2300, 2795, 4285, 3550, 2595, 1984, 2550, 2710, 3150, 1850, 1900, 3250, 3850, 3700, 2700, 3500, 3550, 2995, 3995, 2200, 15000, 2350, 6495, 3499, 2400, 2600, 2895, 2795, 2150, 1900, 2500, 2895, 4875, 3595, 5600, 3050, 3495, 2000, 3250, 2925, 2250, 1950, 8795, 2050, 2975, 3235, 3800, 4000, 2600, 4295, 2500, 2695, 10570, 7600, 4300, 2995, 3795, 3850, 3000, 3350, 4500, 3200, 5245, 3450, 2200, 3490, 3495, 4200, 5500, 2295, 1700, 1500, 4395, 2690, 2695, 1975, 3200, 3700, 5446, 6295, 3250, 2495, 2695, 3450, 5675, 6695, 3300, 3915, 5695, 2100, 2300, 5500, 2850, 2500, 5150, 3300, 1750, 2100, 3400, 1500, 2175, 3599, 4500, 3200, 2500, 1595, 3100, 6495, 2950, 4985, 2900, 3400, 2395, 3200, 4290, 6750, 3895, 2849, 3290, 2800, 3535, 2950, 2325, 5500, 3650, 12875, 4600, 2450, 2600, 2895, 2800, 1995, 2695, 4100, 5100, 3325, 3146, 2250, 6300, 2900, 5300, 2795, 4595, 2595, 4700, 4095, 2700, 5400, 2595, 1950, 2700, 3295, 1800, 1795, 3200, 3650, 2250, 4300, 6000, 3425, 10000, 2083, 1660, 2500, 2457, 3900, 1795, 5795, 4350, 2300, 2900, 3983, 2675, 1850, 3095, 1575, 6743, 2835, 4100, 6295, 2689, 3550, 2675, 1550, 3270, 1995, 4300, 2480, 3100, 3200, 1700, 3225, 3495, 4147, 2650, 1875, 4495, 4365, 2300, 7995, 3495, 3200, 3100, 2000, 3000, 5295, 4100, 6475, 5200, 3925, 5300, 3595, 1600, 5700, 2200, 2650, 1595, 2725, 2300, 3800, 5895, 2300, 3199, 2795, 2150, 5000, 2525, 4361, 1995, 4395, 2990, 3000, 3250, 4200, 1895, 3300, 3100, 2200, 4975, 3495, 8000, 3100, 2700, 2000, 3695, 2495, 2995, 3100, 2700, 4095, 3995, 2595, 2750, 2200, 2845, 2870, 2500, 4027, 3795, 2075, 3949, 2500, 3650, 1650, 3995, 2700, 4410, 2300, 3195, 6450, 3130, 2650, 2400, 2899, 1695, 2000, 2700, 1700, 5490, 4995, 4950, 6000, 5700, 4700, 3050, 2400, 1700, 6000, 8250, 1700, 4600, 4050, 5100, 5200, 4850, 14000, 2695, 2350, 4665, 4395, 4875, 6500, 4295, 1900, 1795, 2900, 5950, 2250, 7250, 5800, 2100, 3500, 2500, 3795, 3400, 2925, 2500, 1979, 2095, 1925, 3450, 2550, 4530, 2800, 1900, 4140, 2200, 2600, 3850, 3150, 3700, 3200, 2899, 3388, 2595, 2695, 5850, 3995, 2950, 2400, 3200, 4072, 6400, 2940, 5150, 2400, 2950, 2800, 2450, 4060, 3800, 2150, 4900, 2495, 1700, 3258, 7000, 3850, 6200, 4800, 1550, 1750, 5500, 4500, 4500, 3185, 3600, 2295, 2800, 3975, 3190, 1995, 2395, 2750, 3100, 2800, 3900, 3773, 2000, 6000, 2980, 2500, 2600, 2950, 3677, 2690, 1600, 3575, 3275, 2895, 1950, 4850, 3850, 4500, 2800, 2550, 2500, 1900, 2000, 4050, 3625, 2450, 3950, 2725, 4796, 3600, 2100, 2775, 4600, 1995, 2700, 3450, 4800, 1965, 2000, 11950, 1650, 2940, 2995, 4495, 3750, 3200, 2595, 2975, 3995, 3095, 5295, 3200, 2395, 4600, 3675, 9095, 3695, 3400, 1400, 2825, 2995, 3400, 2595, 6000, 2000, 3200, 2520, 3600, 2100, 2450, 3795, 3475, 2350, 2500, 2695, 5610, 2650, 3000, 2950, 3150, 2650, 3770, 3125, 3900, 3275, 2540, 6500, 2895, 2450, 2400, 1950, 3550, 1975, 2255, 2595, 2253, 4700, 2300, 2900, 2395, 3495, 3790, 2575, 2895, 3890, 1700, 3709, 1800, 2550, 1795, 2125, 3000, 1600, 1925, 3995, 5183, 2800, 6400, 2600, 2350, 1875, 5550, 3650, 2050, 2575, 3400, 4650, 13500, 3650, 2200, 3738, 2700, 3483, 2425, 3000, 3605, 5400, 2764, 3300, 5000, 2500, 2450, 3100, 3100, 2650, 2825, 2295, 1695, 2850, 2295, 3600, 3675, 5745, 2064, 3495, 12000, 3625, 4530, 3495, 2395, 13000, 3995, 3200, 2950, 3595, 3495, 5500, 2795, 4800, 2700, 2900, 3125, 1650, 4495, 2500, 1400, 7900, 2600, 2625, 7250, 7495, 4900, 1735, 2250, 1960, 2575, 1775, 3475, 4400, 3960, 3700, 3675, 2450, 2095, 4125, 2700, 2500, 2700, 2975, 5300, 4600, 6950, 4995, 2875, 4206, 2399, 2599, 1995, 2350, 2650, 4400, 3150, 3295, 3508, 2400, 2400, 3325, 2700, 3150, 4500, 1950, 1850, 2995, 7000, 2000, 6000, 3795, 2695, 3995, 2750, 2600, 2500, 4030, 2450, 3400, 3995, 2525, 1850, 2600, 1875, 3599, 2600, 3000, 4000, 2700, 3644, 5600, 5295, 2250, 2790, 3484, 3700, 2250, 1850, 3000, 3700, 1550, 2600, 2600, 3400, 2000, 3103, 3250, 1925, 2700, 3700, 3850, 3426, 2900, 4395, 2500, 2200, 2995, 3163, 2650, 1999, 2100, 4403, 2695, 10000, 1900, 2702, 2979, 2295, 3250, 2125, 2300, 2500, 2999, 2275, 6800, 6000, 3095, 3595, 2450, 2750, 4431, 5000, 4000, 2150, 4300, 6312, 2500, 3090, 2475, 2350, 2500, 2250, 1800, 5350, 4125, 2950, 4300, 3800, 3000, 2318, 2795, 3100, 1400, 2550, 1800, 5000, 7500, 2700, 5000, 7254, 2900, 2200, 3895, 3600, 3250, 1800, 5495, 2395, 1800, 3580, 3022, 4500, 2400, 3100, 2425, 3400, 1525, 2775, 2400, 3150, 2400, 2350, 2500, 3100, 4000, 7500, 4870, 2000, 2075, 3325, 1795, 1995, 3495, 2501, 2875, 4650, 4700, 3100, 2500, 3675, 4700, 13995, 3075, 3600, 2700, 3250, 1850, 3135, 3250, 3045, 3495, 3000, 3500, 2595, 2900, 3200, 3350, 4395, 2795, 3629, 2500, 7475, 2300, 3295, 7000, 1900, 1700, 2450, 3250, 3995, 5250, 3295, 2700, 3300, 3250, 3095, 3600, 2600, 2950, 3300, 1875, 3645, 2800, 5450, 2195, 7195, 3000, 4000, 6000, 5995, 3750, 3100, 2065, 2990, 3400, 2500, 2000, 4990, 5800, 3400, 2300, 2995, 4455, 9000, 2950, 3500, 2600, 2030, 4000, 1725, 2700, 10000, 3069, 2795, 2650, 4750, 3100, 3200, 4300, 2500, 2950, 5500, 3295, 3100, 2550, 4595, 3795, 1900, 2700, 2495, 6475, 1575, 2450, 2100, 2400, 1750, 6062, 2995, 3700, 2000, 4950, 1675, 3167, 1825, 5150, 3050, 2995, 2350, 2595, 5995, 4800, 4000, 2500, 3167, 5200, 4695, 2100, 6635, 3621, 2695, 3200, 2599, 7050, 3150, 2550, 6165, 1495, 2550, 4700, 3795, 4134, 1975, 3528, 4200, 1850, 4295, 3300, 2700, 1800, 5000, 3195, 3250, 3495, 1600, 4295, 4500, 4400, 2750, 2000, 3000, 2150, 2490, 2900, 3508, 2025, 4125, 2895, 2100, 2675, 6095, 4062, 8065, 4105, 2885, 3000, 2250, 1995, 3300, 2300, 1495, 3497, 2800, 1700, 2375, 2900, 6528, 2300, 3300, 6450, 8000, 3265, 3725, 2395, 7754, 2600, 1750, 4000, 3400, 2947, 6230, 2300, 2750, 3575, 2050, 3495, 1950, 4200, 3075, 4500, 5950, 2975, 2850, 2395, 5500, 2590, 6900, 2562, 3950, 3800, 5500, 2250, 2995, 2250, 2980, 2150, 3199, 4300, 4475, 6000, 3475, 2100, 3695, 2800, 2895, 3200, 2800, 4300, 2625, 2300, 3275, 2975, 2000, 3490, 2446, 4000, 3425, 6200, 2595, 2450, 2700, 3500, 3500, 2200, 4399, 5495, 3100, 1825, 7895, 2799, 3295, 2250, 5700, 4000, 2850, 3000, 3775, 2935, 2595, 5000, 3290, 3000, 8650, 1800, 4050, 2795, 1395, 2650, 2400, 4900, 3800, 2575, 5170, 4000, 2100, 9500, 1500, 1500, 3525, 2900, 1795, 3995, 5495, 3500, 3499, 5000, 2800, 2895, 3695, 2600, 2050, 3850, 6995, 4309, 1475, 3150, 2800, 4500, 2350, 3695, 2995, 2725, 3195, 1995, 4495, 2395, 4800, 3200, 2495, 2450, 2810, 3650, 5790, 2700, 4595, 2155, 4350, 3000, 2350, 5800, 3800, 3000, 3295, 2265, 1850, 2495, 3100, 1800, 2492, 5100, 3100, 3000, 3595, 5000, 2200, 3174, 3999, 3345, 4795, 3200, 3395, 3500, 2100, 2300, 3003, 4795, 3990, 2050, 2500, 3295, 3450, 5198, 4301, 3995, 2950, 3725, 4850, 2900, 7500, 2700, 3200, 3300, 4700, 3350, 3200, 2895, 3575, 3000, 4500, 2450, 3675, 3795, 1850, 2600, 2000, 3085, 3790, 1700, 5400, 4895, 5000, 3495, 4062, 3500, 2895, 3695, 1950, 5795, 3500, 2939, 4293, 2275, 2700, 4885, 3000, 3330, 3595, 2995, 5995, 2367, 5960, 3050, 4150, 2700, 2900, 2295, 3277, 2750, 3100, 1900, 2900, 4500, 2890, 4500, 6600, 3250, 2395, 2095, 2700, 2965, 5395, 1775, 2250, 2595, 3100, 2650, 3108, 5198, 6095, 2990, 3790, 4175, 3100, 2400, 4000, 2750, 3550, 3200, 1850, 10500, 5500, 3495, 3000, 1625, 1760, 3350, 2200, 1700, 2100, 2799, 3425, 2800, 2395, 2695, 3880, 2195, 4350, 3325, 3195, 3755, 3600, 7995, 2250, 6750, 3500, 3400, 6000, 3733, 8895, 14125, 2599, 3495, 2700, 4100, 1550, 4300, 2050, 4900, 3500, 2905, 2600, 3400, 2575, 3200, 2250, 5725, 2500, 3800, 2700, 1667, 7385, 3790, 2995, 2750, 2500, 3450, 4850, 2850, 3399, 5500, 2650, 1770, 4888, 1950, 5123, 4295, 5700, 2950, 4000, 2800, 3400, 3650, 2850, 2430, 2250, 3400, 6495, 5312, 4495, 6295, 4795, 2400, 2550, 3150, 3400, 2625, 2650, 2800, 3185, 5100, 2350, 3200, 2600, 7995, 2284, 10000, 2100, 3050, 1900, 6200, 3400, 5958, 3195, 4400, 9499, 7000, 6500, 3125, 4295, 1875, 3050, 3595, 2200, 5600, 10000, 3175, 2000, 2795, 4695, 2450, 6295, 3400, 2950, 1995, 2100, 1600, 4200, 5650, 2547, 5550, 2595, 1600, 2800, 6150, 1995, 2350, 1601, 5100, 4295, 1800, 2250, 3200, 2675, 1850, 3550, 2675, 2600, 3475, 2395, 1899, 3387, 2200, 3000, 4500, 2800, 4410, 3645, 2200, 2500, 5075, 2550, 4250, 4475, 2700, 5800, 5295, 3345, 1895, 4350, 5750, 2750, 3000, 1895, 3600, 2200, 1950, 2988, 1875, 1600, 2750, 2575, 1850, 3751, 5400, 3000, 2200, 2995, 2765, 3095, 4500, 4500, 1450, 2475, 2100, 2776, 3100, 2950, 1850, 2495, 3110, 2325, 3695, 3395, 2995, 3000, 2200, 2950, 5354, 2875, 4200, 2775, 2595, 4695, 1800, 4050, 3080, 2695, 4250, 4400, 2900, 4695, 2550, 1850, 1595, 3795, 3990, 2970, 3850, 6200, 2500, 3875, 1495, 1890, 4875, 6750, 5000, 2200, 2785, 3950, 2895, 3400, 1825, 6300, 1995, 3000, 3800, 3295, 1500, 1450, 2600, 6600, 2495, 3495, 2500, 2100, 2795, 3941, 2400, 2800, 3090, 1695, 1700, 2900, 2400, 2700, 3455, 3593, 5600, 2200, 1400, 4300, 2725, 2650, 7000, 3600, 2100, 2350, 3100, 2200, 4000, 2850, 2975, 5395, 3695, 3900, 2100, 2495, 1895, 2764, 2700, 2100, 10000, 2500, 1450, 2000, 2025, 2950, 5695, 2825, 3300, 3300, 3990, 2599, 2000, 5200, 4595, 4140, 2400, 3295, 4200, 2950, 5925, 4275, 1750, 3750, 2100, 2550, 1700, 3350, 2900, 5950, 1750, 4100, 2690, 2925, 5183, 2450, 6250, 3500, 2750, 4000, 1900, 2400, 3850, 3359, 2825, 2850, 3450, 3200, 3000, 7000, 2495, 2800, 3500, 4500, 2900, 2100, 3295, 3595, 2495, 3600, 1900, 1900, 4095, 1675, 2200, 1500, 1795, 3970, 5500, 2100, 4000, 4325, 2795, 1650, 3300, 2600, 2965, 4750, 2780, 8250, 2100, 3150, 2895, 2629, 2000, 2149, 3200, 1675, 2500, 2355, 2225, 4968, 3450, 1900, 3200, 4140, 3312, 6000, 2600, 4800, 3175, 2250, 2900, 3995, 3193, 3395, 3300, 3000, 2450, 5800, 1895, 6000, 4695, 2400, 4600, 3600, 2337, 3933, 2675, 2250, 5080, 2995, 3250, 3170, 1550, 4800, 3300, 3250, 4595, 1900, 2400, 2050, 2400, 3095, 15000, 5255, 6250, 2925, 2175, 5995, 2200, 4000, 4650, 2695, 4295, 3400, 3800, 3395, 3199, 1999, 6900, 2400, 3500, 1650, 2600, 4550, 3595, 1900, 1775, 4250, 4850, 4233, 3500, 2375, 13500, 2895, 7200, 4125, 3200, 4732, 2999, 2295, 2395, 2500, 3400, 3150, 4175, 2925, 3780, 5600, 6000, 2300, 3200, 4800, 3000, 2995, 3450, 2050, 2325, 2695, 2150, 4200, 3075, 1550, 1900, 4650, 3800, 2885, 4000, 4799, 5980, 2995, 1850, 8000, 1900, 2189, 4095, 2750, 2500, 3495, 4575, 2599, 3500, 2283, 1500, 3000, 2325, 3000, 2525, 3500, 1965, 4200, 6100, 2150, 3905, 2900, 3050, 3500, 2595, 3399, 3000, 2195, 5595, 1795, 3695, 3700, 1796, 4100, 1600, 3708, 4450, 3340, 3258, 3200, 2995, 4500, 6397, 3350, 4565, 2395, 3350, 1950, 1995, 3499, 3598, 3600, 3995, 2750, 2350, 1600, 3100, 2895, 4195, 3750, 2150, 2095, 1900, 1950, 3750, 4495, 2975, 2550, 2495, 3690, 3100, 1900, 6800, 3450, 2990, 3750, 3195, 2000, 2435, 5500, 3000, 6500, 4650, 2500, 2900, 2300, 3290, 2600, 5500, 10000, 2395, 2700, 2995, 5500, 4600, 2150, 3395, 3475, 4750, 3300, 2380, 6495, 3123, 3250, 2795, 3600, 3700, 3500, 1695, 2995, 3200, 5170, 2195, 3000, 2600, 3200, 3100, 12995, 2395, 2900, 3450, 2800, 4572, 3100, 3600, 2100, 4250, 3200, 3795, 1875, 3875, 3300, 3995, 1750, 4475, 4700, 2400, 3150, 3400, 2025, 2995, 2600, 2200, 1400, 4595, 2150, 4000, 4250, 2375, 1999, 2295, 2800, 1995, 7995, 3300, 3600, 1875, 3450, 3300, 3950, 1900, 8115, 4858, 2000, 2575, 2300, 3000, 2900, 2065, 13500, 2200, 1900, 2997, 2950, 3100, 5000, 2350, 4000, 4285, 2195, 5100, 2450, 3600, 2500, 2875, 6295, 4190, 7000, 3095, 2800, 2600, 2000, 4550, 6595, 2600, 4300, 2850, 5500, 2500, 1500, 1600, 3150, 3000, 2995, 4350, 3175, 3300, 3100, 2700, 4995, 2800, 3070, 2000, 2795, 3400, 3345, 2600, 4600, 3438, 2695, 2800, 2849, 2800, 3399, 3700, 9000, 7895, 3695, 1695, 3000, 3950, 4750, 3100, 2595, 11340, 4925, 2595, 3100, 2775, 2950, 3100, 4700, 6695, 2100, 2500, 2200, 3795, 4950, 1950, 3550, 2800, 4500, 5169, 3164, 8750, 2900, 3500, 4200, 2400, 4725, 1430, 2895, 4250, 2595, 6200, 3695, 4333, 4495, 2600, 3195, 2800, 3600, 2500, 3261, 2695, 1900, 2500, 3050, 2975, 2600, 4350, 3200, 2450, 2800, 5300, 1900, 2300, 2200, 3100, 2145, 4500, 4000, 4000, 4312, 2750, 2175, 2495, 2735, 1500, 6000, 2300, 4750, 2600, 2379, 2891, 2200, 2590, 8500, 4950, 1850, 2595, 3525, 2100, 5410, 4095, 5300, 2395, 2175, 3295, 3550, 3850, 5500, 3600, 3450, 2700, 2875, 2287, 3475, 4170, 6995, 2225, 2725, 2600, 9500, 4795, 2695, 2700, 2723, 3000, 3650, 5400, 3500, 9350, 4695, 1725, 3580, 4600, 1750, 3600, 5800, 2690, 4600, 3000, 1995, 1750, 3100, 3995, 3795, 1850, 4795, 1500, 3800, 1950, 3100, 2795, 5000, 4295, 3600, 2750, 2175, 2800, 2395, 1850, 4195, 4280, 3100, 3095, 1900, 2525, 2200, 2025, 3400, 3345, 2650, 4875, 2850, 2850, 3400, 3625, 3950, 3800, 3200, 1950, 5633, 1425, 2850, 3185, 2200, 3800, 2600, 4500, 4900, 5000, 1895, 2750, 3900, 2650, 1500, 6400, 8395, 6200, 3145, 3000, 2200, 4395, 5300, 1400, 2000, 3450, 1835, 3200, 5060, 2800, 2950, 4995, 2435, 8800, 4500, 3941, 2475, 3754, 2000, 4100, 3950, 4475, 3000, 3250, 3482, 3200, 2599, 1750, 2995, 3900, 6800, 1875, 3200, 5500, 4500, 6500, 5999, 5400, 2500, 2200, 2750, 6850, 3500, 4800, 3100, 5589, 2195, 2950, 4000, 1825, 2400, 1550, 4200, 3000, 8150, 3200, 4200, 6095, 3000, 2995, 2995, 3400, 3755, 2195, 4260, 4505, 2450, 4000, 3200, 3250, 2425, 6295, 9750, 5095, 4750, 5000, 4695, 2350, 2525, 4100, 5363, 5648, 3620, 1850, 3295, 2700, 2190, 3400, 2895, 1645, 1930, 2100, 4125, 4095, 3250, 3150, 8500, 2900, 3100, 2750, 3795, 5495, 2795, 5350, 5195, 2300, 3075, 2450, 2000, 2300, 12400, 1700, 2900, 3400, 2195, 2700, 6652, 2850, 3354, 4400, 2640, 2050, 6495, 2500, 3400, 4000, 2265, 4500, 2595, 3795, 2400, 2750, 3695, 3700, 2900, 2700, 8995, 3185, 6500, 2600, 3595, 3390, 3075, 3000, 5550, 2825, 3200, 4800, 2050, 2895, 1975, 2395, 4400, 2200, 3200, 1750, 2500, 3700, 3300, 3550, 11230, 4695, 4350, 2695, 1900, 3095, 2200, 2000, 5000, 3900, 3600, 2500, 2300, 1950, 9000, 2300, 6600, 3785, 6000, 3300, 5500, 2100, 3129, 3800, 4300, 3200, 2790, 2500, 4600, 5725, 2400, 5295, 2590, 3889, 4600, 1936, 7750, 2295, 4700, 1950, 3195, 4450, 6000, 3600, 3250, 2695, 3800, 2629, 2050, 1900, 2550, 5250, 1950, 4400, 2850, 4900, 1800, 3300, 3895, 6350, 2700, 3300, 3250, 4000, 2400, 3395, 3800, 1700, 3800, 2895, 10100, 5350, 2500, 3695, 1800, 2495, 2000, 3125, 2600, 2750, 4100, 5000, 2750, 2950, 3500, 3189, 1895, 2150, 3700, 2850, 2000, 2100, 3500, 3125, 4395, 3155, 2250, 4095, 2050, 3295, 2700, 3375, 2595, 3150, 1850, 2695, 4100, 3125, 4150, 6500, 5600, 2800, 2910, 2700, 6250, 3400, 5495, 2800, 1565, 2736, 4000, 2825, 2740, 2995, 2625, 2800, 1950, 6400, 4195, 3900, 4000, 3015, 3150, 3720, 3400, 3695, 5795, 1600, 3157, 2810, 3725, 3000, 2100, 3850, 4399, 3550, 2500, 6095, 1900, 2195, 2250, 3289, 3700, 3595, 5400, 1850, 4200, 4000, 3807, 4290, 6300, 2490, 2764, 1800, 3500, 2275, 2849, 3900, 2650, 2225, 3395, 3400, 3600, 2995, 2700, 3000, 3499, 4295, 2400, 2350, 2800, 2750, 2275, 2500, 5000, 2950, 9000, 4195, 4950, 2405, 2525, 2950, 1695, 7000, 1795, 2550, 7500, 3000, 3375, 3695, 6150, 1825, 3000, 2500, 3310, 2900, 3500, 3350, 1800, 2390, 5000, 3195, 5500, 2650, 2575, 3250, 4450, 3781, 2275, 1800, 2395, 2200, 2200, 13000, 6295, 2100, 2695, 2325, 1950, 3222, 3686, 2850, 5500, 5500, 2487, 6350, 3750, 3500, 5500, 6420, 3400, 4649, 2195, 2178, 2500, 1600, 2700, 9300, 5100, 2000, 2399, 5400, 6250, 1600, 3595, 2950, 2695, 2300, 2995, 2095, 5495, 6150, 1875, 3100, 1825, 2950, 3250, 2495, 4377, 3000, 2995, 1450, 4600, 3400, 4750, 3000, 2900, 3800, 4700, 2850, 2400, 4600, 3500, 3900, 1500, 2000, 5395, 5845, 2200, 2000, 5000, 4065, 4947, 4450, 1900, 7700, 4300, 2421, 3250, 4950, 3750, 3820, 2800, 5500, 3995, 6190, 3395, 3400, 2440, 3290, 3600, 5355, 9995, 4895, 2195, 2800, 4945, 4500, 2700, 3805, 3450, 2995, 3800, 2400, 3100, 5450, 6500, 5490, 2450, 2595, 3000, 2350, 13500, 4515, 2000, 2400, 2450, 2950, 1500, 6995, 3395, 3950, 3400, 4495, 3700, 2800, 2782, 2495, 2700, 2895, 3500, 3850, 2250, 2700, 2700, 2299, 2800, 2500, 15000, 2800, 2650, 2300, 1775, 2200, 4000, 3250, 3885, 2599, 2450, 4895, 1840, 4500, 2945, 2800, 5500, 5500, 9000, 2900, 2960, 2200, 2500, 5400, 2450, 3025, 5000, 3200, 3850, 2850, 1750, 12000, 2050, 4925, 2000, 3758, 3350, 5295, 2625, 4200, 2900, 5000, 2225, 3300, 2250, 3400, 2590, 2800, 4195, 2100, 3795, 4200, 3500, 4900, 3795, 4236, 3100, 3750, 5000, 3500, 5800, 1800, 3000, 3850, 2400, 2795, 3200, 5000, 3450, 8000, 13500, 1600, 2100, 2450, 9990, 5400, 2795, 1700, 2600, 3195, 3465, 11100, 2650, 2700, 2450, 1625, 2530, 5600, 3295, 3500, 2300, 3500, 3200, 2850, 4000, 3250, 3800, 9400, 3745, 3695, 2275, 3295, 2395, 2900, 3250, 2990, 2250, 2300, 4700, 3300, 3304, 1900, 3400, 1825, 4150, 2500, 2689, 1500, 3250, 3595, 1850, 3250, 3300, 2300, 3400, 2590, 3395, 4390, 3795, 4700, 2648, 3900, 2600, 4800, 1595, 2340, 3095, 2695, 2675, 4900, 2200, 3495, 2395, 3795, 4500, 5595, 2650, 3225, 1700, 7500, 2500, 2500, 3200, 3100, 10500, 2450, 6000, 1890, 5433, 11000, 1795, 2500, 3300, 1575, 5750, 2620, 3500, 1900, 2400, 3000, 2849, 3000, 1900, 3495, 1800, 2875, 2675, 4500, 6195, 4650, 2625, 3000, 2650, 2750, 4195, 1875, 5290, 5525, 2900, 2975, 5720, 2800, 2850, 1825, 6495, 3790, 4205, 4000, 3450, 2850, 9625, 7800, 4375, 5195, 2525, 3150, 2200, 4000, 3900, 1950, 1950, 2650, 2500, 5400, 8000, 2300, 3495, 1900, 1550, 2900, 10800, 2900, 2995, 3499, 4095, 3200, 3700, 2325, 2640, 2500, 2900, 11000, 4450, 2100, 3000, 2800, 7395, 2150, 4790, 3600, 2875, 2417, 2695, 4650, 6095, 2900, 3700, 4200, 2550, 1900, 6000, 3995, 3025, 5000, 2699, 3600, 2900, 2950, 3500, 3740, 3200, 2800, 2525, 3050, 2700, 2800, 2795, 6395, 9000, 5200, 3600, 2500, 3500, 4200, 2195, 1580, 2850, 3596, 1900, 3650, 2895, 3550, 4995, 8000, 3695, 6400, 1795, 2292, 3395, 5650, 4500, 3350, 4700, 2295, 1550, 2910, 3200, 3975, 2100, 5753, 4450, 3450, 6000, 1825, 3400, 5300, 2450, 2599, 4500, 3795, 2300, 2500, 4300, 3700, 1850, 1700, 4500, 3350, 3695, 2500, 4095, 2175, 3000, 2975, 1495, 4700, 3600, 5000, 2995, 2990, 6400, 3800, 2200, 6652, 2100, 3625, 2486, 1900, 2200, 2550, 2984, 2500, 3434, 2850, 7000, 2600, 2695, 5200, 2500, 3000, 2125, 2500, 6200, 3961, 4450, 2850, 5000, 4300, 2750, 5495, 3200, 2050, 2750, 10000, 6450, 3785, 5200, 3100, 3250, 3500, 4200, 7200, 2500, 1700, 2200, 4500, 3100, 3119, 6375, 6995, 2700, 4200, 2250, 6795, 3000, 5000, 2100, 2595, 2450, 4350, 2925, 2500, 3200, 5670, 2500, 2400, 4800, 3500, 2350, 4900, 2500, 2000, 2450, 3200, 3895, 2895, 2575, 3095, 2350, 2500, 1900, 2800, 3900, 5379, 4000, 2200, 4100, 2560, 2695, 3100, 11250, 3725, 5750, 2900, 5648, 3000, 4950, 4900, 3000, 3100, 2700, 2195, 4500, 4850, 4300, 1950, 3550, 3794, 6995, 3750, 2050, 3775, 3000, 3000, 5805, 4500, 2200, 3195, 2725, 8000, 5800, 3600, 4095, 2400, 2295, 3119, 2050, 3995, 2600, 2400, 6295, 5595, 1895, 4000, 7300, 2200, 3950, 4350, 2495, 4350, 2500, 1725, 1800, 1700, 2400, 2550, 12875, 3400, 2200, 2995, 5495, 2370, 4308, 1975, 3550, 2700, 3425, 1900, 1975, 3000, 2957, 3150, 5500, 2550, 4350, 4000, 2782, 5800, 3605, 1695, 4922, 4750, 2450, 2000, 3395, 2450, 2525, 11995, 2395, 1500, 6755, 2950, 3200, 2400, 2750, 2900, 3895, 1850, 3850, 2195, 4850, 4995, 4650, 1975, 2795, 3250, 4095, 12500, 3834, 5695, 2650, 1995, 2450, 4400, 1495, 5120, 4600, 2300, 1833, 2695, 4100, 2550, 2495, 4967, 2400, 1850, 3925, 2395, 4190, 2050, 1850, 2600, 2700, 3200, 2295, 2700, 1795, 2200, 4565, 1400, 3900, 4057, 2950, 5100, 3275, 2995, 3875, 3200, 2995, 3000, 2900, 5195, 5500, 2800, 1700, 2400, 4800, 5450, 1550, 2795, 4295, 2790, 3195, 2175, 2600, 3875, 3500, 2650, 2525, 3600, 2895, 4190, 2695, 2700, 2100, 2095, 2250, 13500, 2050, 1850, 2695, 3199, 1695, 10000, 7500, 3000, 3300, 4195, 4150, 5800, 5210, 2350, 4395, 3525, 3700, 1995, 3550, 3850, 2950, 2925, 9695, 2500, 3895, 1950, 2995, 1725, 2550, 2200, 4700, 2195, 3049, 3250, 4134, 3500, 5395, 4700, 3200, 3700, 2595, 3200, 3450, 3500, 3350, 1600, 3050, 3300, 3295, 6195, 2400, 2500, 2990, 1900, 2800, 3000, 2400, 2985, 3000, 3560, 2600, 2450, 1999, 1813, 3994, 2400, 2195, 3975, 2075, 3075, 3900, 5000, 4500, 6000, 3100, 2375, 4595, 3000, 3100, 1990, 2000, 6000, 3225, 2700, 2500, 3000, 8000, 5000, 3150, 4057, 1775, 2750, 3850, 6600, 1700, 3300, 5250, 2403, 3300, 2750, 2895, 2400, 1825, 3495, 2700, 2895, 3950, 4095, 2000, 5995, 3200, 2895, 3150, 4708, 3100, 5200, 3995, 3600, 2775, 2395, 3299, 3095, 5200, 3700, 2750, 2500, 2650, 12000, 2600, 4750, 11100, 3295, 3900, 3895, 6250, 5500, 5200, 4825, 2500, 3375, 2209, 5850, 2300, 2990, 2650, 3460, 2549, 1750, 3762, 1400, 3400, 3200, 1995, 1550, 1750, 2000, 2350, 4500, 2295, 2175, 1950, 2849, 2495, 3190, 3195, 11000, 2850, 2500, 4125, 6000, 2450, 2700, 3200, 3760, 2750, 1650, 1975, 4995, 1975, 4250, 3650, 2250, 2050, 4900, 2750, 7000, 2100, 9800, 3500, 2400, 4095, 2650, 2295, 6995, 6500, 1875, 5890, 5250, 3075, 8000, 4340, 2400, 2450, 3650, 4800, 3250, 1700, 7450, 2650, 3695, 3650, 3300, 1650, 2750, 3495, 2295, 3395, 2600, 4850, 3236, 2900, 1850, 11750, 3206, 2995, 5920, 1950, 3172, 3960, 3500, 2900, 2400, 2500, 3875, 10750, 2695, 2900, 7200, 3690, 4695, 4180, 2475, 3200, 5500, 3950, 6150, 2690, 5600, 2250, 3600, 1700, 8000, 3595, 3795, 2500, 2345, 2649, 2900, 3050, 10000, 3700, 2200, 1550, 1650, 2700, 3550, 4550, 3800, 3800, 5350, 4495, 2900, 2400, 2900, 5595, 3295, 2500, 12000, 3550, 2775, 4185, 2150, 3695, 2800, 3395, 2950, 2700, 3700, 2845, 2750, 3500, 2595, 15000, 2450, 3750, 2900, 2100, 5250, 3150, 3300, 5000, 3950, 3995, 10000, 2600, 4000, 3195, 2630, 2995, 3500, 4010, 3200, 3025, 2500, 3475, 6000, 2850, 3000, 14735, 5600, 3595, 1600, 2100, 2350, 3675, 5450, 4250, 1795, 3100, 2800, 2300, 4775, 3895, 4200, 1955, 3450, 1500, 3000, 2350, 2695, 4550, 2750, 2100, 5500, 4550, 3770, 2125, 8000, 2910, 3900, 1750, 3850, 3290, 2200, 2595, 1995, 2075, 1795, 4035, 5600, 2600, 2400, 4250, 4050, 2750, 2400, 3990, 3000, 3200, 4200, 2095, 3198, 3550, 2950, 3150, 2500, 2700, 4095, 5200, 1800, 2750, 2965, 1600, 2925, 3400, 2945, 3450, 3950, 3990, 2775, 3300, 2100, 2100, 8925, 3795, 8495, 2395, 2325, 4141, 3200, 5444, 2500, 4995, 2650, 4495, 6300, 3127, 3850, 2900, 4200, 2150, 4700, 2500, 4300, 2875, 2300, 2000, 2275, 2600, 1955, 3250, 3695, 3350, 2999, 2780, 2400, 4766, 3995, 6100, 2795, 3295, 5093, 4750, 2800, 3947, 1550, 5800, 3375, 10000, 4725, 2075, 1800, 3550, 3450, 1950, 5300, 2995, 5395, 3500, 1800, 2850, 4195, 3223, 8500, 3786, 2400, 2395, 2000, 2300, 3755, 4000, 5295, 2195, 2450, 2850, 4600, 4795, 3400, 5995, 2300, 5500, 2399, 4000, 2825, 4085, 2000, 2945, 3995, 3850, 4169, 1895, 3300, 3475, 3100, 3200, 3750, 2498, 2750, 5395, 8250, 2000, 2450, 3695, 6400, 4200, 3850, 4450, 2050, 2999, 3150, 8000, 2750, 2100, 1550, 3475, 11000, 3800, 4400, 2490, 1800, 3400, 5000, 3000, 2525, 3000, 3200, 3300, 3745, 2000, 2450, 2750, 1750, 3399, 1900, 2300, 5995, 2895, 3475, 2195, 9500, 3722, 2425, 4500, 3200, 5400, 4200, 5000, 3300, 2875, 2900, 8095, 3350, 3700, 6100, 4095, 2495, 4395, 2800, 3200, 6130, 2400, 3990, 1700, 9500, 5400, 3000, 2250, 4595, 2700, 2400, 2095, 2850, 2350, 3600, 3000, 2650, 1950, 7500, 2750, 4850, 2950, 3950, 4495, 2975, 2345, 3350, 3450, 11000, 2500, 2850, 1850, 3150, 2900, 3500, 2895, 3500, 2775, 2300, 4250, 2400, 1400, 2450, 4825, 2850, 5700, 2500, 5000, 2200, 1795, 4750, 1800, 2625, 2900, 2500, 2490, 4295, 1950, 2650, 6350, 5965, 2400, 3525, 5500, 2095, 3495, 3800, 3300, 3995, 5400, 3600, 5000, 5995, 3322, 2500, 2500, 3695, 4000, 2200, 6300, 2650, 3350, 3895, 12500, 4420, 3200, 14000, 2050, 2900, 2350, 1700, 3300, 4050, 13500, 3995, 5730, 2850, 3425, 2000, 2175, 3689, 1900, 2650, 1800, 2510, 2950, 2400, 3550, 5867, 2950, 3295, 2650, 3250, 3955, 5095, 10500, 3600, 2400, 3862, 3395, 6500, 3199, 3595, 3595, 2295, 4190, 4495, 4130, 2350, 3099, 3195, 1795, 3013, 1550, 2695, 2325, 2100, 3000, 3695, 3100, 4300, 2300, 2200, 2490, 3625, 1900, 5100, 2400, 2795, 1400, 2295, 2500, 3450, 2995, 3961, 2225, 3000, 5100, 3595, 2995, 2350, 5350, 8000, 4485, 2400, 1800, 3545, 4995, 2250, 4350, 1750, 5967, 4895, 2025, 1825, 9000, 2895, 2350, 9000, 4650, 2895, 3350, 6195, 9495, 3450, 6200, 1395, 2050, 2450, 4595, 1850, 3400, 4195, 2700, 3600, 4690, 3450, 1795, 3500, 2575, 3600, 3995, 6995, 2775, 2999, 2495, 4100, 2550, 3100, 2395, 1825, 4500, 1795, 1820, 3600, 2400, 6495, 4500, 2750, 1650, 1875, 3490, 2595, 2450, 6515, 5751, 4450, 2630, 3750, 3200, 2100, 1900, 3400, 3855, 3950, 3475, 3400, 3620, 3195, 2265, 3600, 1850, 1995, 4250, 2295, 3850, 2400, 3790, 3200, 2995, 2900, 3200, 2600, 3795, 5000, 1950, 2300, 3650, 5650, 2395, 1650, 2200, 6150, 3550, 10000, 3700, 2650, 7500, 1525, 3300, 4950, 2500, 6495, 3875, 1625, 4995, 6495, 3600, 2595, 6000, 4500, 1879, 4054, 3314, 3995, 2550, 2650, 2295, 8000, 2800, 3800, 3950, 3395, 5200, 3500, 5750, 2000, 2500, 4000, 3100, 2600, 2350, 2800, 2100, 5950, 6800, 1725, 2625, 3500, 3400, 5495, 4250, 4200, 5495, 3095, 2488, 4300, 3175, 2300, 3200, 2985, 3800, 4900, 1685, 5495, 2750, 2700, 2450, 2900, 2650, 4500, 2100, 3000, 3360, 4095, 2550, 2749, 5200, 2775, 4600, 8295, 2723, 2400, 3200, 2376, 2800, 6800, 3695, 2750, 4495, 2933, 2499, 2650, 4495, 4000, 3370, 6200, 1450, 2631, 2100, 2450, 1850, 3150, 6300, 2400, 1795, 2815, 1850, 3800, 3400, 6010, 1750, 2550, 3895, 2425, 2575, 1850, 3167, 3100, 4200, 2450, 2595, 2250, 3400, 3195, 2300, 4200, 3775, 4770, 1650, 2200, 3500, 2650, 3650, 3295, 2250, 3425, 2995, 5999, 4500, 2600, 2095, 5200, 7000, 4670, 2450, 4595, 3300, 9300, 2850, 10600, 2275, 1850, 2595, 3575, 5695, 2200, 2200, 3795, 1950, 2900, 1995, 15000, 2000, 2690, 2850, 2850, 3250, 1799, 6100, 5499, 3500, 3995, 15000, 6990, 6493, 1750, 2199, 3595, 3950, 3600, 3600, 1900, 3050, 4295, 2050, 5745, 7500, 3100, 1700, 3600, 2995, 2325, 6000, 3600, 11235, 2700, 2275, 3495, 2100, 1995, 5998, 3650, 2850, 3495, 3850, 3595, 4995, 2450, 2695, 4895, 3598, 2095, 1995, 5100, 2800, 6457, 3780, 3650, 2075, 6000, 3466, 4800, 4030, 1800, 4995, 2695, 6495, 10000, 3200, 3650, 2000, 2400, 2490, 4750, 1395, 2300, 2500, 2900, 5395, 5700, 4150, 4800, 6250, 2800, 2450, 2675, 1900, 3190, 3049, 3700, 13000, 5100, 5000, 9166, 6175, 3195, 2300, 2475, 2900, 1800, 2950, 2275, 3350, 1695, 3695, 2000, 4795, 2450, 3200, 4575, 2745, 4080, 3895, 2995, 5650, 3495, 4000, 3700, 3520, 3500, 3000, 2000, 3050, 2550, 3200, 3050, 3350, 1975, 3625, 4000, 2525, 4500, 3500, 8000, 2295, 2700, 3800, 7250, 3995, 2400, 2650, 1475, 4295, 2500, 6875, 2250, 1625, 2900, 3000, 4045, 2900, 5900, 3400, 2400, 1900, 3100, 5695, 3300, 2300, 2700, 2850, 3400, 4100, 1795, 2200, 2795, 3100, 3850, 4750, 6420, 5299, 3395, 2099, 3825, 3030, 4095, 3700, 12500, 1850, 3200, 1895, 3095, 4595, 3100, 2725, 2500, 2849, 7100, 3200, 8000, 5750, 3400, 12500, 6175, 3275, 2500, 3495, 3200, 3395, 4795, 5749, 2350, 6325, 2400, 1700, 5700, 2850, 3300, 2800, 2100, 2850, 3200, 3200, 5800, 2150, 1850, 1850, 2900, 1810, 3450, 3375, 3860, 1500, 1800, 3227, 3947, 2000, 3500, 2350, 2750, 3295, 3250, 3500, 2100, 5089, 3670, 3171, 3550, 6500, 3250, 10000, 3295, 2195, 2861, 5300, 3450, 2800, 2750, 4600, 2337, 3400, 3195, 2150, 6652, 2475, 2400, 4950, 5150, 2475, 1795, 1800, 3895, 3000, 2100, 2900, 6400, 3450, 3600, 4025, 3400, 3200, 5500, 1800, 2700, 2499, 2750, 3925, 5625, 2850, 3195, 2199, 2500, 5350, 2631, 4295, 2295, 12495, 2450, 2265, 2350, 3300, 2850, 2400, 2425, 2100, 2900, 2350, 8900, 4495, 2900, 2995, 2650, 1850, 3230, 2425, 2200, 4495, 4850, 3420, 3500, 2600, 3195, 3400, 15500, 7000, 3950, 2250, 5000, 2770, 3150, 6100, 3300, 4000, 2625, 4000, 2400, 2600, 2500, 3300, 3195, 3250, 3000, 2690, 3695, 3200, 1850, 2150, 8795, 7000, 3450, 2690, 6150, 4000, 2950, 4850, 3700, 1875, 6000, 3575, 3200, 3440, 7675, 2950, 3000, 2850, 3700, 2100, 2400, 2699, 3895, 4895, 4995, 2150, 5000, 4360, 2875, 3064, 3855, 4925, 4000, 2700, 3750, 3495, 2825, 3895, 7500, 3300, 2675, 2395, 2600, 2495, 2150, 2595, 3725, 6200, 3875, 4600, 3150, 1990, 6700, 4995, 3560, 3400, 5000, 3747, 3995, 2350, 2150, 2250, 2850, 2600, 2300, 2690, 3195, 4675, 4300, 2495, 5200, 4595, 2575, 10000, 6100, 3700, 2535, 1600, 1775, 3500, 3290, 3000, 5500, 3625, 2350, 4100, 3000, 2500, 3095, 5000, 3300, 2490, 5770, 2250, 3200, 4195, 3495, 2450, 3800, 5000, 2055, 2000, 5400, 7500, 5500, 3995, 6240, 15000, 4500, 3600, 3100, 5800, 4395, 2400, 1450, 2950, 7895, 2575, 2025, 2695, 3199, 2455, 3500, 1400, 3550, 2050, 3194, 2995, 8850, 3295, 2599, 3107, 3999, 5495, 4200, 2895, 5500, 2450, 4500, 6350, 4033, 5538, 4600, 2695, 1750, 2650, 6535, 3700, 6000, 1500, 2550, 2450, 5175, 6200, 5800, 2275, 1850, 2200, 5695, 2959, 2150, 2900, 2500, 2300, 2195, 2050, 3290, 2200, 2290, 5775, 2100, 4600, 2295, 2700, 3775, 2400, 1895, 2800, 2700, 5130, 1850, 8500, 2700, 3495, 2250, 2595, 1875, 3799, 2250, 2800, 2400, 3230, 2599, 5757, 2999, 2595, 6875, 1650, 4800, 4150, 3499, 2750, 3450, 3194, 2200, 8000, 2125, 5390, 5213, 3850, 2495, 2750, 3650, 6000, 2150, 4295, 3298, 2600, 3900, 2950, 2900, 2600, 3300, 7155, 3000, 1975, 7800, 3400, 2000, 4212, 2850, 3000, 2300, 2700, 3250, 2500, 3695, 3300, 3600, 3600, 3375, 1600, 6495, 1875, 3200, 3800, 3199, 6250, 3200, 4395, 3900, 2750, 3600, 1775, 1800, 3200, 1595, 3300, 2100, 1850, 3450, 3635, 5200, 2679, 2450, 2895, 3375, 5733, 3600, 4195, 4275, 2650, 3100, 3750, 2450, 3350, 2850, 3250, 3650, 1650, 3195, 5200, 2885, 2450, 2690, 1950, 2200, 3550, 3877, 2100, 5067, 2495, 2800, 2750, 3150, 4960, 4550, 2600, 3695, 1760, 5495, 7292, 4200, 2375, 2125, 2250, 4625, 2300, 3000, 2450, 1500, 1725, 2400, 1995, 1626, 1685, 2750, 8000, 4140, 2850, 3800, 2675, 8500, 3350, 3395, 2000, 5275, 3750, 2100, 2750, 4295, 3700, 5300, 3695, 2800, 3250, 3235, 2550, 3675, 2095, 3350, 2099, 2842, 6500, 3495, 2450, 3750, 15000, 2000, 2895, 2700, 3600, 3300, 3800, 2550, 7000, 5695, 2395, 4050, 2915, 5700, 3000, 3800, 3695, 2700, 2726, 2400, 14995, 8995, 4034, 3300, 2400, 2775, 8000, 3895, 3300, 2000, 2795, 3775, 3195, 2260, 3300, 3650, 6795, 7500, 1427, 5495, 2195, 4500, 3998, 2300, 3290, 7500, 3630, 3000, 3400, 2550, 5295, 2200, 1850, 2690, 4108, 4595, 7350, 2295, 3400, 6400, 3855, 2800, 2849, 3400, 7895, 6250, 1825, 2575, 4500, 2995, 5700, 3050, 3400, 9000, 3725, 4595, 2445, 2625, 4600, 2575, 5495, 2900, 3300, 3600, 2300, 2300, 4995, 3395, 3900, 3230, 1800, 2775, 3450, 2695, 6300, 2799, 4900, 6400, 3595, 7360, 4100, 2995, 3999, 2928, 3400, 4995, 1795, 7929, 3100, 3150, 3500, 2495, 3150, 2600, 2325, 6900, 2595, 3900, 2550, 1599, 4000, 4400, 6000, 2500, 3400, 2100, 2500, 2950, 2950, 2350, 2625, 12600, 3800, 2895, 3295, 3175, 2200, 2550, 2400, 2800, 1900, 3500, 6600, 2375, 2589, 6500, 2950, 1860, 2000, 3700, 2250, 2950, 2050, 6269, 3215, 3326, 4541, 2650, 2300, 4350, 3600, 3395, 3000, 2900, 2995, 4300, 3800, 3700, 2750, 2975, 6100, 2075, 3300, 6250, 3595, 2450, 3295, 1895, 1850, 2750, 4995, 2900, 5295, 1995, 3250, 6500, 2195, 2400, 3700, 4000, 2299, 3625, 3450, 4350, 2700, 1400, 2795, 1575, 3950, 3100, 3450, 2975, 3250, 3250, 1900, 5500, 1900, 3300, 3799, 3725, 2800, 3800, 2150, 2150, 2500, 3600, 5625, 2400, 2475, 2950, 5600, 4300, 2400, 6250, 2950, 5595, 2825, 2995, 4850, 4625, 2400, 6000, 2190, 3200, 3750, 2629, 4947, 2595, 2475, 3100, 3595, 4595, 4500, 3375, 4400, 3495, 6500, 3200, 4615, 2450, 2689, 2950, 6490, 5000, 2450, 3200, 2100, 1450, 1400, 2875, 2400, 6295, 2000, 4450, 2795, 1789, 3200, 2350, 2095, 3253, 5000, 2500, 2700, 5640, 2800, 2700, 9000, 3700, 1850, 3600, 4400, 6000, 4300, 3395, 1895, 3695, 3600, 1950, 1975, 1650, 1500, 3700, 2970, 3000, 3650, 2820, 2700, 3260, 3900, 6370, 4500, 3376, 3495, 2175, 2395, 2450, 3941, 4225, 2200, 4500, 4900, 4875, 2600, 2620, 3495, 7800, 3450, 3700, 6785, 4600, 4499, 1685, 4900, 5000, 3489, 4200, 3750, 2150, 2400, 3625, 2889, 5000, 3695, 4400, 2450, 3525, 1875, 1900, 2200, 4795, 3600, 3171, 3250, 2650, 2450, 2150, 7950, 4400, 2450, 2695, 3250, 8195, 4295, 2500, 5700, 3200, 2027, 2725, 3785, 2100, 4150, 2350, 3995, 2050, 3100, 6000, 2500, 1625, 1725, 4600, 2195, 3500, 2525, 3318, 2200, 3630, 4495, 2200, 1725, 4300, 3790, 2195, 4150, 4850, 1875, 2325, 3705, 2575, 3295, 3591, 1875, 3000, 3050, 5560, 2995, 3150, 3800, 2205, 2625, 2650, 3995, 1450, 4695, 3495, 2900, 3795, 3095, 2595, 1875, 2750, 3880, 3450, 2075, 3695, 3595, 2395, 2095, 2350, 3095, 3000, 3600, 2646, 2000, 10680, 3100, 3579, 7290, 4695, 2050, 4350, 1700, 2995, 3195, 2200, 2000, 1950, 1450, 3900, 5000, 1400, 4000, 5943, 2725, 5795, 2895, 3850, 1950, 2995, 2988, 2550, 2895, 2950, 1695, 2725, 2500, 2900, 2250, 3300, 2600, 15000, 6300, 2000, 2473, 3635, 2900, 2295, 1900, 14525, 3795, 3650, 5300, 2500, 2695, 3470, 1700, 3280, 2295, 4575, 2950, 3800, 2250, 2100, 1695, 2950, 1907, 1900, 1600, 6300, 2850, 3196, 1900, 3200, 1900, 2292, 2950, 1850, 2600, 3200, 6370, 2275, 3790, 2995, 2400, 3000, 2350, 3400, 2695, 2600, 2350, 4900, 1695, 2200, 2150, 2750, 2045, 2295, 2450, 3175, 1395, 2575, 3000, 2335, 3400, 2490, 2500, 3000, 3350, 4700, 3150, 5795, 3695, 4329, 2825, 4500, 3600, 2675, 2800, 2200, 12000, 2999, 2100, 6250, 4525, 8100, 5350, 6580, 2699, 5000, 2095, 2895, 3850, 5000, 3995, 3500, 4295, 2250, 2500, 3600, 3205, 2350, 5400, 1800, 2300, 2500, 2000, 3600, 3600, 3800, 2275, 4250, 5500, 3605, 6500, 2850, 4700, 1900, 3550, 2625, 8850, 3250, 1500, 4000, 3625, 2200, 2750, 3200, 4995, 6580, 2150, 3877, 2900, 2350, 5630, 4850, 2900, 2850, 2475, 1795, 2100, 3495, 4195, 4525, 5200, 2000, 3295, 2450, 7900, 3295, 3400, 3800, 1850, 3295, 3700, 6295, 2895, 3597, 2695, 2495, 2000, 7899, 3800, 1800, 2400, 3100, 2300, 10045, 3400, 3000, 3100, 7495, 4195, 3595, 2363, 3000, 1950, 5350, 3800, 2495, 1975, 3795, 3887, 6295, 1800, 3295, 3750, 2500, 2895, 2995, 1375, 3495, 4750, 2450, 3305, 2700, 4800, 3895, 1625, 3750, 3600, 5200, 4595, 3200, 11000, 1695, 5895, 4200, 3595, 2250, 2954, 1900, 2697, 2575, 3795, 1700, 5440, 2275, 3600, 1850, 3685, 3250, 3075, 6295, 2690, 2550, 5995, 2350, 4065, 3600, 2050, 8000, 9095, 3400, 3400, 2400, 3600, 2850, 3295, 2250, 7500, 3150, 3695, 2100, 2995, 4295, 5515, 2215, 4200, 3750, 2400, 1695, 5400, 2400, 6000, 2495, 4600, 6025, 2500, 3595, 2900, 10000, 1450, 3750, 2290, 2600, 3595, 4840, 5000, 3067, 2650, 2295, 7500, 4500, 3695, 2500, 2800, 2100, 1550, 2895, 2825, 2825, 2500, 2500, 2325, 3100, 3682, 2962, 2895, 4680, 1600, 3900, 6400, 2200, 3995, 2125, 1900, 2000, 2050, 6990, 6400, 1450, 2500, 2200, 3350, 2500, 2695, 4300, 4995, 5350, 2795, 2475, 2350, 3795, 2975, 1550, 2895, 2978, 5990, 1450, 4050, 3295, 1975, 1883, 4195, 2599, 2850, 3990, 1995, 3595, 2599, 3775, 2375, 4800, 3950, 2750, 3790, 9595, 4150, 5000, 5295, 3400, 2775, 2525, 3995, 2550, 3600, 1995, 3500, 3000, 1500, 1450, 3150, 2595, 3600, 3400, 2750, 2500, 3800, 10750, 2600, 4400, 5500, 2050, 2550, 7000, 2595, 3795, 2600, 2100, 3939, 1700, 6000, 2450, 4200, 3580, 2495, 5000, 2075, 3400, 3700, 3250, 2167, 13000, 2925, 2069, 5195, 2100, 6850, 2800, 1875, 4200, 3500, 2500, 3495, 2300, 3200, 5166, 5570, 12000, 9000, 6350, 2350, 2250, 3600, 2295, 2250, 5500, 2600, 2500, 2900, 3050, 2500, 2595, 2650, 2100, 5025, 1450, 3800, 2350, 4800, 2500, 2400, 2400, 2850, 5500, 5850, 1950, 5500, 2850, 1650, 3100, 4200, 2000, 2600, 4000, 3325, 3425, 3275, 3295, 3545, 2795, 3650, 3000, 2000, 15000, 2595, 2250, 2895, 2325, 2500, 2850, 4300, 3200, 3330, 1950, 3687, 4500, 3550, 1789, 5595, 3795, 3800, 1500, 2025, 6500, 4925, 4550, 2395, 4395, 3400, 2390, 3800, 3200, 3145, 5000, 1975, 5000, 3750, 8000, 2350, 2100, 2700, 2900, 2350, 5000, 2085, 3400, 4600, 2500, 4100, 2745, 4995, 2895, 1800, 6000, 2800, 2095, 1925, 3195, 2720, 3075, 4860, 6900, 3489, 3700, 1950, 1925, 2700, 5995, 2750, 1990, 2595, 1725, 5200, 2100, 3700, 2500, 5415, 3000, 4450, 6200, 3695, 2600, 2700, 6400, 3100, 4840, 6800, 2550, 2900, 2200, 2500, 4500, 2895, 3360, 1550, 4400, 3990, 2291, 2700, 1675, 3250, 2985, 2200, 2700, 2000, 1995, 2462, 2300, 1795, 4670, 4000, 2750, 3700, 5905, 3520, 4200, 2650, 4350, 3395, 8500, 3090, 3250, 4695, 1975, 3687, 5400, 4795, 2500, 1995, 5700, 3295, 6955, 3700, 4700, 2299, 2250, 2850, 3425, 9999, 3200, 3294, 2200, 4200, 2300, 3600, 2575, 3320, 2740, 4250, 2800, 6600, 4350, 3300, 1875, 2765, 2350, 3450, 6000, 3890, 4120, 2425, 2500, 2550, 3500, 4500, 3260, 2450, 3195, 2500, 2595, 2400, 1750, 2000, 3900, 4395, 12000, 1950, 2590, 4500, 3400, 2800, 2769, 4000, 4495, 2100, 2850, 4100, 3400, 1750, 2550, 4690, 2050, 4800, 2200, 3500, 3350, 5800, 6200, 6300, 2995, 2100, 4500, 3450, 4000, 5286, 2700, 4095, 2350, 3970, 3675, 3950, 2500, 3200, 4495, 3300, 2250, 3695, 9000, 5000, 2850, 4495, 3350, 3000, 2150, 2850, 3000, 3150, 5200, 3438, 3500, 1875, 4395, 4450, 3300, 1625, 4700, 3500, 2000, 1450, 2850, 4697, 3450, 5475, 2525, 4395, 7000, 3400, 3100, 3465, 4595, 3700, 3600, 1550, 2550, 12000, 2175, 4395, 3200, 2750, 2200, 5100, 2475, 2000, 4895, 4500, 3425, 2450, 4595, 2895, 1900, 2075, 6500, 6200, 4150, 2600, 2395, 2195, 2750, 8000, 1825, 2625, 2685, 2995, 2200, 2895, 4300, 4850, 3245, 3300, 3545, 7845, 11000, 2150, 2100, 5175, 5000, 2050, 4950, 3965, 4525, 2845, 6495, 2595, 2025, 1800, 2800, 2523, 2300, 7250, 3870, 2000, 2195, 3950, 5395, 2000, 2895, 2899, 3700, 6195, 1600, 3305, 3675, 3950, 2850, 2700, 4490, 13325, 3500, 5550, 2895, 2991, 4895, 2095, 7350, 5395, 3775, 2321, 3000, 5700, 2650, 2795, 3300, 1900, 2800, 3096, 2590, 2650, 2350, 3950, 3350, 3200, 4676, 1700, 2295, 2750, 7300, 3230, 3415, 2950, 3825, 2200, 2325, 3995, 2550, 4475, 2825, 4000, 6400, 2300, 2039, 1890, 1550, 3000, 2975, 4995, 3300, 2195, 3595, 3350, 2200, 3479, 5995, 2825, 3295, 4995, 2850, 2495, 2842, 4975, 2100, 1425, 2800, 2825, 3450, 2650, 3200, 2200, 1875, 2050, 2800, 3600, 2965, 2425, 6475, 2600, 12750, 2850, 1775, 3500, 3695, 3386, 2040, 3795, 2850, 3200, 3000, 3090, 2150, 2425, 2495, 2950, 5350, 1925, 2630, 2275, 3000, 8075, 1700, 3350, 5600, 3300, 3500, 3450, 3600, 5790, 2500, 1850, 2630, 3000, 2350, 3100, 4695, 2950, 1800, 3200, 4495, 3750, 6500, 2995, 5200, 4025, 5295, 3119, 3100, 2895, 2700, 3192, 2495, 5100, 1900, 4527, 2700, 13500, 2895, 2750, 2250, 2050, 10000, 3795, 2935, 2150, 2980, 9500, 3400, 2750, 1825, 3350, 2970, 2275, 2225, 7300, 1750, 2500, 3877, 2925, 3675, 3800, 2295, 4600, 1685, 2600, 2810, 5550, 3875, 3200, 5100, 3395, 3500, 3350, 4595, 1950, 5500, 6224, 1770, 3200, 1675, 2175, 3375, 2800, 1950, 2700, 2250, 3600, 3000, 1800, 3980, 11000, 4395, 1995, 1700, 3350, 3800, 2650, 6138, 3155, 4250, 3150, 4000, 1750, 2949, 2200, 2850, 8080, 3400, 3500, 3325, 2850, 7060, 2575, 3895, 2900, 3499, 2650, 3795, 4000, 1850, 6642, 2600, 3395, 3790, 3830, 6000, 2900, 4150, 2700, 1695, 5175, 3600, 2050, 3700, 2000, 2450, 2050, 2200, 5800, 1695, 3140, 2395, 2495, 4750, 1900, 4595, 1800, 5000, 2400, 2700, 3350, 1825, 1802, 3250, 2300, 1700, 2995, 2600, 6750, 3995, 3300, 4050, 12000, 2650, 1800, 2650, 6000, 2900, 4095, 5787, 4700, 3400, 3300, 4100, 2525, 5000, 3475, 3240, 3200, 4995, 2200, 5133, 3295, 1910, 2700, 4915, 8795, 2850, 3400, 1900, 2350, 2300, 5795, 3200, 11250, 5495, 2850, 3200, 2400, 4500, 9000, 2650, 2500, 1500, 2195, 2400, 2600, 3325, 4500, 2200, 2195, 6000, 4095, 1500, 3195, 4295, 3300, 3400, 2300, 3864, 2850, 3300, 5246, 6912, 3290, 2975, 3700, 2750, 5000, 3415, 2775, 4995, 4667, 3200, 2495, 4200, 2300, 3400, 5250, 1775, 2750, 4000, 3610, 6797, 2650, 3900, 3095, 1725, 4995, 4750, 1475, 3200, 2275, 4915, 3200, 3000, 3140, 2295, 3005, 4850, 4000, 5500, 2300, 2900, 3595, 3900, 3850, 2500, 2575, 8850, 1825, 4095, 2750, 2848, 3295, 8000, 2075, 5000, 2700, 4900, 2800, 4600, 8475, 2100, 2225, 2200, 1945, 2400, 3695, 4700, 2300, 3400, 1500, 2800, 5895, 2149, 3300, 5395, 2775, 2750, 3300, 2300, 14000, 1400, 4500, 1750, 3020, 3000, 4880, 5000, 2795, 2625, 4000, 3750, 3900, 2995, 2550, 2400, 2950, 3400, 3295, 3750, 4440, 5400, 2750, 3495, 2850, 2500, 2725, 4695, 2850, 2995, 4570, 1695, 7450, 2695, 2800, 4360, 6000, 2195, 2450, 3200, 1450, 4225, 5100, 4515, 3500, 3700, 4599, 4720, 5000, 5500, 2845, 3950, 8495, 5670, 2750, 4200, 3400, 8000, 3800, 2300, 3075, 2750, 3995, 5000, 3575, 3200, 3000, 2000, 5000, 2500, 1850, 2870, 3400, 4750, 5350, 6417, 5485, 2750, 4400, 2850, 2450, 3110, 3500, 13500, 3595, 4250, 3500, 10000, 5700, 5850, 1875, 5550, 3600, 3195, 2400, 9385, 3995, 3995, 3450, 3450, 3795, 4351, 2695, 5809, 4650, 3425, 7000, 2495, 8500, 3450, 3000, 2600, 3100, 3395, 2650, 2150, 13000, 5500, 2950, 3500, 4195, 3688, 1925, 3495, 4895, 3200, 4892, 4010, 2995, 2995, 4791, 5200, 3100, 3965, 3200, 5400, 5195, 2950, 3100, 2900, 5225, 3800, 4600, 2900, 4395, 2000, 2300, 3700, 3200, 3399, 3900, 2960, 3300, 3250, 8495, 2900, 2300, 4200, 4495, 4500, 2450, 3250, 2500, 2475, 3400, 3800, 3450, 6000, 1995, 4900, 2895, 4782, 5100, 2600, 3300, 2950, 2695, 2900, 3400, 2800, 1900, 1800, 6000, 3295, 3360, 2125, 2895, 2700, 1995, 2095, 3500, 3450, 1800, 3350, 4550, 2550, 2350, 4500, 2450, 5467, 3100, 2695, 2600, 3550, 2549, 4295, 9495, 3668, 2650, 8395, 3995, 2750, 2145, 4995, 4700, 4050, 3395, 2700, 5500, 3000, 2295, 2625, 1875, 4595, 2698, 2100, 2750, 3200, 2400, 4720, 3670, 3750, 2400, 2575, 2200, 3300, 3700, 2265, 3985, 3795, 2595, 3710, 3200, 3750, 5895, 3184, 2595, 2900, 1550, 2400, 3200, 6500, 3046, 3490, 5336, 3995, 2050, 2700, 2175, 15000, 3600, 2900, 3795, 1750, 6000, 3499, 10000, 2750, 3650, 2000, 4900, 3095, 5350, 4975, 2900, 3495, 2775, 3495, 2849, 3000, 4156, 3050, 2100, 2100, 2580, 2050, 2100, 3500, 8495, 1500, 2400, 2095, 2549, 3400, 4600, 3295, 3050, 6000, 2600, 7250, 3750, 2170, 1900, 2850, 2775, 3795, 6495, 3250, 3100, 4285, 3700, 6475, 3310, 2750, 2200, 4195, 3525, 1875, 3225, 3925, 2200, 3150, 2395, 2450, 7195, 1990, 2100, 1550, 2700, 2350, 3200, 1895, 2800, 3095, 3849, 2487, 2920, 3565, 12500, 5190, 4650, 2700, 2200, 2700, 3200, 2650, 3200, 3500, 2095, 3400, 2500, 2100, 4995, 4250, 1800, 4350, 3795, 4140, 2300, 1975, 3400, 4150, 3850, 4095, 2500, 3395, 1750, 4758, 2790, 2975, 2995, 2325, 3450, 3499, 5450, 2165, 1625, 2500, 2995, 3926, 2450, 3250, 3715, 3450, 2895, 3500, 3295, 2700, 2350, 4950, 2590, 3870, 2915, 3775, 6475, 5100, 1550, 2300, 2350, 4436, 1700, 3200, 7150, 2900, 4030, 4450, 3120, 3600, 2700, 5456, 3355, 2750, 4500, 5280, 3395, 3995, 3450, 2875, 3100, 4200, 4000, 2700, 4595, 6275, 2695, 5100, 3500, 1850, 1775, 3250, 3900, 1700, 15000, 2500, 4440, 6000, 3725, 2775, 3180, 3600, 1550, 2350, 3750, 2550, 2500, 2378, 2495, 4550, 3400, 2395, 2500, 3200, 3300, 2200, 5500, 2100, 5000, 2150, 2950, 2100, 2800, 2600, 5650, 3000, 3550, 2500, 3850, 2625, 2987, 1950, 4195, 3600, 2350, 2000, 2990, 4252, 3800, 6100, 2705, 2025, 3450, 3500, 3800, 2800, 14700, 2500, 4700, 4800, 2250, 6000, 3700, 2300, 4058, 3200, 3399, 3600, 6275, 3000, 2600, 3095, 2300, 2000, 3350, 3250, 4700, 2500, 1375, 3300, 2595, 4350, 2190, 2595, 5925, 7000, 2895, 2950, 3887, 2195, 2450, 7995, 3050, 1750, 6300, 2900, 2950, 5324, 3200, 7500, 4675, 2475, 3400, 3030, 3495, 4300, 1450, 3150, 2800, 7300, 4595, 1800, 2900, 3750, 5136, 4500, 4500, 5150, 5350, 3000, 2500, 2000, 2600, 5600, 1500, 3000, 5595, 3495, 4500, 1925, 3320, 6490, 2645, 2565, 2895, 4900, 3625, 3900, 6195, 4950, 1695, 2295, 3100, 3095, 1700, 1550, 3500, 2895, 2850, 7958, 4095, 3650, 3450, 3295, 4250, 2800, 1850, 3300, 3437, 2100, 5200, 3500, 7995, 2580, 2100, 4000, 1825, 3500, 2000, 1900, 2715, 3485, 2395, 3750, 3140, 12500, 2300, 5300, 2300, 4091, 3350, 2650, 3300, 2775, 3195, 6800, 7295, 3300, 1600, 2379, 2750, 3250, 4200, 2800, 2250, 3493, 2950, 3733, 4195, 4650, 2350, 2895, 2890, 4495, 1550, 3900, 5295, 5495, 3095, 5500, 12450, 3350, 4050, 4450, 2400, 2500, 3750, 1950, 3000, 3280, 5000, 2800, 2000, 2700, 4100, 2995, 1900, 3200, 2850, 5500, 4500, 3700, 2650, 4100, 4999, 3400, 2258, 3300, 2295, 2295, 3000, 3900, 3100, 2670, 2900, 2933, 2890, 2295, 2800, 1890, 5500, 2500, 4600, 2300, 2800, 3450, 4595, 5090, 3800, 4295, 4000, 2492, 2595, 1900, 3800, 3400, 6195, 2100, 3200, 2825, 3175, 5240, 3375, 3800, 3200, 4750, 2495, 3195, 2625, 7350, 3500, 3600, 3000, 2600, 2800, 2500, 2200, 2850, 3830, 2650, 3450, 3000, 3550, 3250, 3000, 2700, 2975, 4000, 3200, 1900, 5200, 2750, 2100, 2800, 2200, 3670, 5850, 3450, 3625, 3300, 2400, 1700, 4193, 2500, 2075, 2595, 5200, 2925, 2595, 2500, 3450, 2900, 5995, 4050, 2600, 2500, 4175, 4500, 5000, 1750, 3600, 3195, 2000, 1525, 3300, 3846, 2400, 2195, 10000, 2900, 3685, 3600, 3150, 3150, 1850, 2295, 3150, 3395, 3150, 1550, 2325, 4295, 3350, 4250, 3400, 2295, 2689, 5600, 3150, 2600, 4995, 3495, 6100, 2700, 4800, 2650, 2300, 3200, 2695, 2395, 5350, 6250, 4500, 2295, 4200, 5000, 4850, 3200, 2600, 1995, 2870, 2675, 2295, 2450, 1700, 1400, 3200, 2250, 3345, 6695, 2995, 2600, 3300, 2500, 3200, 3400, 2775, 5000, 2495, 1800, 5195, 2825, 4200, 1750, 2700, 3295, 1650, 2400, 2800, 7200, 4000, 1750, 9000, 2650, 3119, 2850, 2700, 4895, 2695, 3500, 4234, 6095, 2100, 3375, 2495, 3200, 2500, 2030, 5195, 2845, 4595, 2100, 5495, 3500, 5350, 1984, 3095, 1650, 3000, 2745, 4500, 3700, 1800, 4480, 3795, 4200, 3300, 2890, 7500, 3150, 2595, 2395, 3000, 3800, 2100, 7675, 2017, 3950, 4750, 3500, 4050, 3500, 2095, 3700, 4695, 1450, 3850, 4495, 2250, 1950, 7195, 3200, 2450, 5000, 1650, 3000, 11670, 3595, 2650, 4525, 3610, 2600, 2100, 4817, 2500, 2400, 3300, 2850, 4531, 3750, 5384, 4695, 4100, 2725, 3258, 4250, 2500, 1900, 2300, 2995, 3862, 3375, 3800, 3495, 2995, 5571, 5997, 3000, 2600, 7500, 3695, 2850, 3300, 6500, 2700, 3600, 2550, 3100, 1763, 3750, 2500, 2000, 2400, 3400, 5590, 2870, 4395, 3100, 3570, 2995, 1900, 2815, 5630, 2730, 2450, 1850, 1700, 1803, 4600, 2195, 8995, 1695, 2350, 6000, 10000, 1825, 4600, 2400, 1550, 3550, 2000, 4850, 2200, 2523, 5350, 4950, 6695, 4800, 5800, 4900, 2450, 5595, 3800, 2295, 2950, 2300, 2575, 2250, 2550, 5900, 5495, 4400, 5995, 3400, 2000, 3000, 4000, 3450, 3400, 6850, 2725, 6395, 3150, 3550, 4350, 1700, 2715, 2600, 2795, 4295, 5000, 3200, 2000, 2995, 3200, 6200, 2150, 2650, 2395, 3400, 2400, 2875, 5109, 3250, 3495, 2550, 5800, 3490, 3750, 4795, 2725, 2600, 4242, 2900, 2700, 2200, 2150, 4955, 5925, 2895, 2200, 2295, 4495, 2384, 4975, 2450, 3288, 2395, 8400, 2150, 3479, 2699, 2700, 1925, 2200, 3100, 4500, 2550, 3105, 2000, 3126, 2690, 6000, 11500, 2570, 1900, 2150, 3150, 5354, 5200, 1925, 2700, 3600, 2975, 12500, 3900, 2075, 3295, 6500, 5650, 2200, 5700, 3395, 5595, 3000, 2300, 2550, 6600, 5000, 2700, 3589, 5100, 2750, 2495, 4499, 2700, 5250, 2900, 2600, 2125, 3500, 3800, 6795, 2595, 1400, 2425, 3025, 4150, 2400, 1750, 1649, 7000, 2950, 6995, 4300, 5700, 3350, 4095, 3850, 2300, 3695, 3400, 4200, 3700, 4000, 3100, 11500, 3395, 2500, 6795, 1995, 4300, 4500, 3200, 3250, 4600, 4000, 6645, 2700, 5900, 3300, 3375, 2895, 2600, 3250, 3000, 5495, 3200, 2800, 4150, 2995, 5000, 1400, 1940, 3450, 2900, 3171, 6000, 2300, 2000, 5375, 3295, 1550, 1920, 2300, 2275, 4950, 2795, 3850, 4040, 2400, 1850, 4295, 4700, 4130, 3653, 3000, 3995, 2195, 3300, 1400, 2900, 3600, 2695, 2690, 6325, 3095, 5194, 3450, 1750, 2995, 2895, 5895, 4900, 2750, 12600, 3450, 1825, 3750, 3795, 2100, 5250, 3200, 3895, 3970, 1650, 3000, 2475, 1550, 12900, 4200, 1800, 2950, 12500, 2400, 2900, 3995, 3625, 4700, 5495, 2795, 5000, 2806, 3461, 2200, 4237, 4285, 4750, 2900, 1559, 3855, 1710, 4200, 9215, 2750, 2195, 1600, 2150, 15000, 5795, 4600, 6500, 4800, 3675, 3000, 5500, 3100, 4020, 6895, 6000, 4000, 2700, 6580, 4225, 5799, 1800, 3850, 5650, 2350, 2975, 4995, 5800, 1856, 3000, 2212, 3800, 2500, 3800, 6295, 5133, 2975, 2475, 3650, 3534, 7995, 2495, 2825, 4800, 1900, 1895, 2350, 2300, 1700, 4700, 1675, 6000, 5872, 3495, 5072, 5295, 3750, 4750, 1995, 2450, 2750, 2450, 2550, 4950, 2390, 3600, 2200, 6500, 2600, 3200, 2000, 2900, 1825, 2800, 2720, 3995, 4555, 6500, 2600, 2499, 4950, 3395, 2595, 6500, 2775, 2700, 1600, 2500, 2950, 2900, 2150, 2495, 2900, 2200, 5000, 4950, 3300, 3195, 5990, 3950, 8000, 3700, 2998, 3795, 2100, 3095, 7800, 2600, 2500, 2700, 1850, 2390, 8000, 2525, 8000, 3975, 2995, 2200, 2600, 7000, 3195, 2025, 2600, 2200, 2850, 1400, 6295, 1895, 3195, 3395, 6105, 3350, 2850, 8500, 2800, 3650, 4795, 3600, 4295, 4200, 2900, 3200, 1525, 5495, 3150, 5700, 3300, 6200, 4300, 3554, 6450, 2750, 1580, 2895, 1950, 3595, 2975, 3695, 3375, 4300, 12500, 7585, 2895, 2995, 5400, 2000, 7700, 4580, 2595, 1750, 1600, 6400, 4000, 1795, 2795, 2750, 2500, 4895, 2200, 4200, 2700, 5465, 3700, 3000, 1825, 1500, 2295, 4600, 3400, 2900, 2300, 7750, 4300, 4000, 2975, 1813, 6200, 4950, 2595, 5570, 2025, 3190, 3100, 1500, 2450, 5000, 2995, 3200, 1825, 1910, 2195, 3200, 3800, 2795, 3350, 2279, 3300, 3450, 3800, 2600, 3495, 4200, 3350, 5170, 5375, 5500, 2895, 3389, 2150, 6000, 2200, 3578, 1650, 3300, 1895, 2995, 3200, 2595, 1750, 3495, 3700, 6250, 3700, 4000, 2600, 3500, 1856, 3323, 3000, 5250, 3825, 3500, 1895, 3100, 2300, 9000, 2950, 3300, 3000, 2500, 1975, 4300, 1600, 5834, 2600, 3995, 2695, 3725, 1795, 3650, 1950, 2850, 2584, 2330, 2690, 3500, 2075, 2200, 3100, 2995, 4150, 5105, 3400, 4900, 2590, 3995, 2600, 7883, 3650, 2700, 5500, 2850, 2350, 4400, 4395, 3495, 2875, 6150, 5700, 4700, 5055, 1550, 3300, 3795, 3800, 3200, 3500, 3950, 1850, 4405, 4500, 2450, 2295, 1975, 3495, 3900, 3300, 2390, 2450, 4995, 1550, 3150, 2700, 5650, 3200, 4070, 4300, 2500, 4056, 1825, 3800, 3600, 6295, 2595, 2100, 2850, 5600, 3295, 3950, 3325, 8300, 2700, 2250, 10000, 1700, 4000, 3000, 1850, 3200, 2775, 5995, 3600, 3745, 13000, 3200, 3350, 3650, 2500, 2300, 2500, 3600, 3300, 3295, 2000, 2300, 2150, 2000, 2195, 3401, 4855, 4750, 2999, 3163, 2295, 4860, 4395, 5653, 2300, 1900, 2650, 2600, 2395, 1455, 4125, 2295, 3400, 2250, 2525, 2095, 12325, 2395, 3450, 2300, 1730, 3370, 2275, 3500, 4000, 3176, 2600, 2200, 3500, 6481, 3995, 2795, 5500, 1900, 2550, 2539, 4280, 3500, 4300, 4600, 2225, 1900, 3000, 2195, 3245, 5500, 6300, 2850, 5125, 4334, 3346, 2300, 2550, 2150, 3508, 4990, 2100, 3195, 2825, 3600, 4500, 2850, 4595, 2500, 3495, 2250, 4050, 2695, 2100, 2550, 2300, 2000, 2500, 2950, 2700, 2350, 5000, 3925, 11000, 2300, 3200, 1900, 2450, 1995, 4100, 4500, 4895, 3700, 3995, 2599, 3800, 3692, 3249, 3150, 5000, 4000, 2500, 5950, 5525, 3300, 3300, 4000, 3950, 4490, 4495, 1895, 3895, 4200, 3200, 2195, 2490, 2950, 4500, 3995, 2975, 2995, 2600, 1900, 2095, 2250, 2295, 1850, 5375, 5499, 2400, 2050, 2000, 3695, 4695, 1900, 2850, 1900, 2295, 1950, 3495, 3400, 3595, 3900, 15000, 3250, 5281, 2695, 6795, 2895, 2600, 2275, 3295, 3795, 3200, 6500, 4529, 2300, 2395, 6995, 5800, 3570, 3400, 4800, 3725, 2165, 2950, 1800, 2500, 1965, 3227, 2299, 2650, 2275, 6000, 4600, 3250, 2800, 1550, 2275, 7500, 3750, 2850, 5660, 3499, 4225, 1938, 2700, 3498, 3200, 4995, 2895, 1750, 2550, 2775, 3500, 1840, 8500, 3200, 5350, 4095, 3078, 3600, 4800, 2400, 5400, 4025, 2445, 5250, 6295, 2750, 3300, 2625, 5749, 2400, 2850, 1937, 3000, 4947, 1650, 2250, 2150, 2450, 2995, 4095, 1975, 6000, 3495, 2825, 3300, 9500, 1800, 3215, 3800, 3391, 3995, 3000, 2595, 3200, 4800, 3790, 9950, 2350, 2200, 4495, 2350, 2400, 1700, 2975, 6000, 6250, 3395, 4475, 2500, 2750, 2025, 1795, 2100, 3515, 3650, 3800, 6000, 2395, 5495, 4225, 2500, 2400, 2450, 2800, 1565, 2350, 3995, 5500, 4300, 2590, 7000, 3250, 12000, 6195, 1950, 4295, 5695, 3795, 5193, 2000, 14000, 1850, 1825, 2375, 5050, 2500, 3150, 1750, 4650, 1775, 2300, 5770, 2750, 3900, 2700, 5695, 2475, 4200, 3225, 3243, 2675, 2650, 3850, 2200, 5194, 3450, 2100, 1650, 9750, 2150, 7200, 4200, 3465, 3800, 8395, 2775, 2825, 10350, 3025, 3250, 2195, 3700, 1685, 2350, 1450, 3500, 7000, 2350, 4000, 1695, 3438, 2600, 3350, 4100, 3395, 3325, 3500, 1685, 4195, 2300, 3400, 2750, 5600, 4250, 2700, 3277, 1855, 4450, 3400, 3110, 3600, 2875, 3100, 3600, 3600, 2075, 3150, 6000, 2795, 3750, 3780, 1800, 2695, 2700, 2100, 2350, 2800, 4100, 5100, 3872, 1550, 4250, 3095, 2500, 1650, 2291, 3450, 4450, 3525, 2700, 3524, 3125, 2450, 1950, 2475, 2150, 7500, 2200, 3300, 5100, 7000, 5495, 2900, 3625, 1975, 4595, 3500, 5900, 3150, 2975, 2400, 3500, 3850, 4400, 2600, 2490, 2000, 5000, 4750, 5000, 2250, 2650, 6850, 2450, 3000, 2750, 3554, 5400, 3925, 2000, 2750, 2275, 2375, 3400, 3400, 3150, 4995, 3775, 2750, 1925, 3750, 2800, 2400, 3000, 3995, 4800, 2950, 2600, 10000, 1950, 2695, 2395, 2710, 6195, 2975, 2400, 5350, 6000, 4000, 2900, 2450, 2750, 2700, 2395, 3295, 1990, 3200, 1650, 3300, 3450, 3200, 3500, 2595, 4280, 3300, 2100, 2595, 3900, 6700, 3795, 1750, 5400, 3200, 6500, 2795, 2485, 2350, 2400, 3550, 2100, 2325, 2595, 3595, 3595, 4766, 3050, 2900, 2300, 2850, 2200, 3995, 3095, 1650, 2450, 2000, 1550, 6700, 2675, 2600, 2800, 2300, 2200, 2900, 6550, 6800, 6500, 2100, 2900, 3625, 2695, 3100, 2800, 3695, 3395, 2450, 2800, 4600, 2650, 2500, 6000, 4600, 3795, 5000, 4000, 2199, 5200, 5250, 3498, 3495, 4295, 6250, 3860, 4200, 3450, 7000, 1600, 2396, 3000, 3100, 3795, 3850, 9400, 1800, 2625, 2100, 2350, 2400, 2895, 2000, 6799, 1695, 2350, 4095, 3090, 2620, 6200, 4500, 2995, 3650, 2500, 1795, 4200, 2650, 1925, 14500, 3450, 3065, 6495, 4560, 3395, 2895, 2775, 2600, 3795, 4800, 2500, 3200, 1925, 3725, 4750, 3250, 5000, 3300, 2495, 2550, 3804, 2990, 4140, 3846, 2350, 3995, 2650, 3650, 2400, 3640, 4750, 3625, 1710, 3195, 3300, 3995, 4500, 3300, 2495, 2500, 3200, 2795, 2400, 4150, 6495, 3995, 7000, 2400, 3800, 2950, 3095, 1755, 3450, 3200, 5010, 3200, 3200, 7200, 2700, 3025, 2975, 3550, 3850, 2200, 2400, 4680, 3595, 3400, 5500, 3700, 3100, 14000, 3350, 3600, 5195, 2495, 1950, 2350, 2495, 4100, 1850, 4195, 2075, 2500, 2395, 2000, 3000, 3200, 4440, 4200, 3200, 5200, 2679, 2900, 3900, 2650, 2500, 3800, 2700, 4900, 2450, 2750, 2895, 3099, 1750, 1850, 3895, 2295, 6400, 3900, 2200, 2800, 3450, 3000, 1750, 2770, 2195, 3000, 3240, 4299, 4100, 2150, 1400, 6420, 3595, 6200, 2900, 3295, 2950, 3450, 5200, 5950, 2500, 3900, 5895, 6500, 2095, 3450, 5695, 5250, 8540, 3507, 6250, 2700, 1700, 2800, 2595, 2400, 2325, 1500, 3500, 2790, 2075, 1975, 2500, 3600, 6000, 1850, 4390, 1875, 3495, 1750, 4225, 3250, 5194, 3350, 4350, 8000, 6395, 2995, 2800, 3415, 3000, 2995, 3495, 5500, 4600, 3250, 7000, 3500, 2960, 3300, 3295, 2500, 4195, 2225, 2875, 3350, 4600, 6575, 3900, 1800, 1500, 3440, 8500, 2470, 3995, 2275, 1795, 2677, 2700, 1475, 5500, 2725, 2400, 4600, 2300, 5194, 2400, 2000, 3550, 3200, 2595, 3400, 1700, 4950, 5175, 5800, 11200, 2375, 10175, 7250, 2600, 4077, 3415, 2980, 3436, 2200, 3299, 1700, 2095, 2795, 3780, 3992, 6100, 1905, 2700, 4400, 3000, 5395, 2495, 3750, 3300, 4395, 2900, 3969, 4900, 3990, 5000, 3600, 1895, 2650, 2700, 3500, 3000, 2100, 2250, 4695, 4500, 3000, 4500, 3937, 3860, 2500, 14000, 6900, 2350, 3000, 2550, 3150, 4995, 3600, 2450, 3798, 2600, 4300, 2075, 3300, 2450, 4892, 3590, 3300, 3200, 2400, 2990, 2250, 2500, 5595, 3937, 2000, 3550, 2995, 3050, 4000, 2750, 2185, 6275, 5584, 7450, 1750, 2395, 3700, 5395, 2650, 2850, 4195, 2395, 6500, 2750, 2000, 2400, 2400, 4200, 5500, 4950, 5500, 3675, 15000, 2495, 2700, 2600, 2350, 2388, 2550, 3650, 2375, 2950, 2800, 3090, 2200, 8165, 1575, 4450, 2625, 1925, 2950, 3200, 5000, 5570, 2585, 3395, 3395, 4000, 2200, 2675, 4500, 7297, 1795, 2900, 2150, 5850, 4200, 3200, 3646, 3395, 7350, 2300, 3700, 4395, 2650, 2300, 3200, 7450, 2900, 7000, 2725, 2595, 2595, 3425, 2400, 2300, 2150, 1700, 3550, 2075, 5495, 2350, 3100, 5000, 4500, 2725, 5500, 9100, 4795, 5600, 3995, 1750, 4350, 4725, 2000, 2430, 5100, 3270, 4995, 3295, 5350, 2200, 5000, 3300, 3100, 3850, 9950, 7995, 3450, 3295, 3400, 8200, 2799, 1750, 1895, 2400, 2800, 2275, 3100, 2095, 3620, 2358, 2495, 3300, 4492, 4260, 1800, 3150, 2150, 3750, 7350, 2850, 4500, 7650, 2325, 2900, 4766, 2795, 2600, 9977, 2900, 2595, 7900, 3995, 3550, 2650, 1825, 2350, 3300, 4895, 3795, 3440, 6450, 2250, 1375, 4160, 5600, 4495, 3995, 2050, 2250, 2500, 2600, 3300, 6340, 3050, 4056, 1900, 5670, 2500, 2295, 3575, 3800, 4095, 1895, 3400, 4075, 3100, 12000, 3595, 2300, 2949, 3495, 5000, 3500, 3000, 1900, 2500, 4000, 2875, 5200, 5115, 3795, 2100, 2050, 2900, 3495, 6725, 3500, 3350, 1400, 3820, 5465, 2350, 2348, 4425, 2150, 3625, 2000, 2590, 3350, 2700, 2995, 5600, 4900, 3500, 3995, 2250, 2378, 10000, 2900, 4100, 2950, 5500, 2250, 2700, 5000, 5455, 4155, 1950, 5200, 2900, 6540, 4350, 2925, 2800, 2631, 5500, 3350, 2575, 2800, 2950, 3200, 2300, 1600, 3375, 2421, 1695, 2750, 7620, 2760, 4412, 2900, 1900, 4600, 3100, 5231, 3000, 6695, 4650, 4700, 2495, 2595, 2100, 5000, 5695, 1900, 5495, 3600, 1625, 3000, 5600, 11500, 4400, 2260, 4075, 2580, 4595, 2250, 4000, 3435, 2900, 2600, 3500, 2150, 3850, 3050, 3100, 7250, 3437, 1800, 5170, 2100, 2250, 3000, 5600, 4000, 5650, 2000, 3695, 1975, 3200, 2890, 3150, 1900, 5957, 2121, 3275, 2710, 2949, 3000, 8100, 2885, 5150, 4095, 2500, 2000, 7000, 3400, 4500, 2450, 2600, 6900, 3300, 1975, 2400, 3400, 3400, 2670, 4290, 3088, 3200, 3600, 2500, 4000, 2600, 6500, 3425, 3000, 3250, 2450, 4095, 2195, 2595, 2400, 1879, 1975, 3314, 2950, 2550, 2750, 2815, 5650, 5900, 4950, 3150, 3337, 2995, 2425, 10500, 5495, 1695, 3000, 4200, 6795, 4500, 1800, 2700, 1895, 2490, 3700, 3600, 3450, 2600, 2200, 4000, 3500, 3895, 2300, 2795, 3250, 5395, 5125, 3050, 2150, 2950, 12500, 2500, 3400, 3000, 2856, 2100, 2595, 2995, 2100, 2975, 3600, 3400, 3013, 2100, 2295, 13995, 3500, 1900, 4500, 5995, 1695, 1695, 1558, 2475, 9500, 1900, 2995, 1600, 3500, 2100, 3000, 4195, 2870, 3800, 2975, 1750, 3300, 3500, 2450, 2825, 1900, 4950, 5400, 2773, 2880, 3000, 2620, 1450, 3000, 2200, 2400, 3550, 3175, 2495, 3800, 2813, 3095, 2400, 2650, 2400, 5000, 2400, 2800, 2750, 2650, 2200, 2200, 5495, 2195, 5500, 5200, 2500, 3995, 5995, 2100, 5795, 3200, 2500, 2800, 3925, 2769, 7000, 2225, 5500, 5000, 3645, 2995, 2600, 2933, 5800, 2100, 2450, 2700, 2700, 2400, 5215, 1899, 2275, 2895, 5700, 3100, 3090, 4250, 2695, 1800, 4161, 2750, 3800, 6895, 1575, 3350, 4000, 8600, 3550, 2995, 2350, 2500, 1995, 8000, 2600, 2995, 3430, 2600, 3700, 3625, 4700, 3550, 2900, 3695, 2950, 3490, 3490, 2350, 2350, 1900, 3800, 3350, 2490, 2800, 2095, 6000, 4130, 2700, 11800, 3800, 2450, 3075, 5695, 6495, 1450, 3650, 3020, 5700, 2600, 4095, 3139, 3895, 3695, 2700, 1600, 3100, 3000, 2950, 4952, 2900, 1550, 3000, 3500, 4300, 3425, 2950, 1950, 2575, 2450, 2400, 5195, 1650, 9226, 2900, 4400, 3695, 10750, 15000, 3450, 2695, 5075, 2350, 5550, 5542, 5400, 3000, 6060, 4400, 3300, 1750, 2950, 4095, 2400, 2700, 2600, 3778, 2660, 2500, 3195, 1950, 2400, 3195, 4850, 2075, 3205, 2100, 2800, 2650, 2450, 2870, 3995, 2400, 5295, 2300, 2950, 1900, 3700, 3960, 5400, 11000, 2350, 4400, 1695, 3000, 5995, 3450, 2700, 4300, 2550, 4400, 5250, 1800, 2200, 3500, 3845, 2300, 3900, 1850, 3200, 2895, 3800, 2900, 1795, 2000, 1500, 2095, 2350, 5500, 1775, 4000, 4995, 4495, 2650, 2300, 2595, 3150, 4475, 4357, 2850, 2875, 3380, 6025, 2500, 2550, 2795, 3400, 12500, 2850, 15000, 2200, 2487, 2650, 3465, 2195, 1720, 3800, 3675, 2650, 2150, 4325, 3750, 3400, 2700, 2400, 2400, 2750, 2500, 2550, 3595, 5200, 3750, 2700, 7800, 2500, 3500, 3400, 2650, 2695, 3200, 1700, 5000, 3100, 2600, 4750, 3300, 2050, 3200, 4800, 2650, 6200, 2175, 2595, 1550, 4795, 3400, 4700, 1900, 7800, 4000, 5425, 3250, 1695, 3500, 6100, 2200, 12500, 5000, 3100, 2850, 5200, 3200, 2200, 3495, 4400, 2300, 2850, 2500, 2550, 2500, 2125, 3695, 5995, 3495, 4495, 1850, 1975, 2395, 2800, 2300, 4395, 2600, 3545, 2895, 5995, 1850, 2799, 3300, 3500, 2700, 3500, 2450, 4200, 2390, 2350, 2450, 4290, 2100, 3600, 8769, 4295, 2050, 5890, 2695, 2695, 2700, 5200, 3595, 5895, 3775, 1895, 1475, 3450, 3500, 3295, 3400, 2550, 2415, 2350, 4095, 4450, 2200, 3200, 3550, 4850, 5400, 4850, 2650, 3300, 2400, 4250, 7500, 4095, 7000, 2200, 7499, 2200, 5500, 3200, 1395, 2650, 2700, 2520, 7250, 1650, 5895, 3230, 3295, 3750, 4450, 4500, 1850, 3345, 1995, 2990, 2195, 7800, 2850, 3745, 2600, 2200, 3100, 6395, 4350, 4270, 4700, 1500, 7200, 3660, 4490, 3600, 3800, 4195, 3870, 1883, 1375, 3000, 3545, 3630, 2400, 2125, 3775, 2039, 2690, 2825, 4200, 3965, 3395, 2615, 2300, 4070, 6500, 7200, 4200, 2600, 2450, 3800, 4900, 7000, 3800, 3000, 1990, 5990, 2795, 2200, 2475, 4950, 7050, 4000, 3200, 1800, 4300, 2275, 3375, 1650, 2000, 4360, 2700, 1950, 3350, 2950, 2750, 2875, 3400, 7950, 3550, 2575, 2800, 3300, 2450, 5495, 10000, 6000, 3000, 2750, 3850, 1700, 4500, 2940, 1850, 2397, 1900, 6335, 3500, 2100, 4530, 2675, 5350, 5250, 2600, 1895, 2500, 2800, 2690, 3990, 2730, 2000, 2350, 2895, 2495, 1795, 2499, 2300, 3800, 1775, 3595, 1430, 5200, 3095, 5895, 2800, 2250, 2625, 6000, 2825, 3350, 3800, 3016, 4895, 4795, 2395, 2600, 1550, 2100, 2700, 6195, 3345, 2050, 3450, 2275, 3105, 2200, 13750, 3700, 4895, 2800, 4095, 1950, 5650, 2750, 2495, 3200, 2740, 8340, 2275, 2048, 2300, 1489, 4775, 3250, 2995, 6200, 2800, 2350, 1800, 3000, 2995, 2625, 5200, 2100, 6725, 3685, 2500, 2500, 5800, 2900, 1489, 1650, 3700, 3356, 3000, 4700, 1849, 2291, 2000, 2650, 2400, 2500, 2000, 2345, 3345, 2875, 1825, 1850, 2450, 2500, 2400, 2799, 3250, 4354, 5795, 1500, 2050, 1895, 2500, 1760, 2500, 2625, 3850, 1550, 2995, 3400, 4500, 3595, 8000, 6500, 4240, 2800, 6550, 10000, 2000, 5535, 3185, 3255, 12750, 5988, 6000, 3295, 2300, 3725, 2900, 2550, 5295, 3450, 3950, 2200, 3100, 3465, 4250, 3795, 4225, 3851, 3800, 2650, 4900, 4710, 4095, 2950, 4365, 5350, 2100, 2195, 3489, 3495, 2350, 7183, 2795, 2150, 3395, 2039, 2720, 2100, 2722, 5395, 1900, 3250, 1875, 3100, 2900, 2395, 3475, 4500, 3743, 2650, 3000, 4700, 3800, 1750, 4000, 2500, 2913, 2100, 6800, 3700, 1625, 2190, 3400, 4000, 3100, 5995, 3495, 2990, 4095, 2795, 3700, 6772, 3650, 7929, 4600, 4000, 4195, 5124, 3550, 3850, 4480, 4295, 6725, 4675, 3095, 5395, 3550, 3300, 3295, 1850, 3600, 3600, 2600, 6299, 4947, 3450, 2600, 2800, 2350, 5500, 3300, 3100, 6100, 2350, 2950, 1825, 2625, 5650, 3850, 4950, 3000, 2750, 3190, 1650, 2650, 6955, 3000, 2395, 1850, 2200, 3500, 1775, 1700, 3800, 3000, 6000, 3895, 2600, 2900, 1675, 2400, 3200, 1450, 4262, 3895, 2595, 3195, 2850, 3895, 3700, 2875, 2350, 1855, 4000, 3700, 4500, 4395, 3600, 2495, 4825, 3200, 2650, 2495, 2400, 2300, 2050, 3700, 2725, 3475, 2850, 4995, 2725, 3950, 3100, 5495, 2695, 2800, 3795, 3550, 1950, 3295, 3200, 1900, 4400, 3150, 3100, 1710, 3250, 2595, 3550, 3690, 4495, 2950, 2295, 3304, 3855, 3900, 3250, 2580, 2450, 2600, 2400, 3200, 1950, 3630, 2350, 2850, 4250, 2650, 6110, 4395, 2690, 4670, 2995, 4108, 4420, 2500, 2390, 2250, 3495, 4495, 3795, 2880, 8000, 4495, 6750, 2850, 2950, 5495, 1900, 4450, 2325, 3425, 7430, 2800, 8375, 3950, 6495, 3500, 4200, 2200, 3700, 5200, 3500, 4750, 2400, 3995, 13750, 1999, 2749, 2699, 2625, 1850, 3250, 2500, 1850, 3395, 8000, 2300, 1950, 4675, 1900, 2600, 7100, 5600, 3295, 2000, 8118, 2850, 2790, 2295, 3500, 2300, 3495, 2625, 3400, 2000, 2695, 3750, 3250, 5895, 8495, 4500, 2500, 2400, 3870, 2125, 4590, 3190, 3345, 2400, 1995, 3895, 3000, 1850, 4550, 3100, 3500, 2650, 2995, 7000, 3395, 5500, 3195, 2300, 5850, 2000, 5800, 2720, 3900, 2000, 2100, 2895, 3750, 4100, 3495, 2300, 8000, 2400, 2000, 7000, 2950, 4595, 5495, 2400, 4900, 1900, 4000, 2995, 3000, 1495, 3450, 2200, 2638, 3500, 4200, 2447, 1999, 4130, 2100, 2895, 3490, 3496, 2475, 3133, 1750, 4250, 3760, 3775, 2450, 2850, 2675, 2600, 3450, 2995, 2700, 7500, 7500, 2240, 2595, 2700, 3795, 2450, 3900, 2500, 3400, 3367, 2100, 3495, 4900, 2050, 2900, 3325, 4400, 5095, 2598, 1685, 4495, 5100, 3995, 3495, 5700, 2800, 5100, 2300, 7200, 13995, 5500, 2367, 3254, 3300, 4450, 2125, 2900, 5290, 1950, 3500, 4300, 3675, 6000, 1695, 2250, 3695, 1650, 7200, 3595, 4100, 5800, 2400, 2295, 9750, 3650, 4650, 8000, 5500, 2750, 3885, 2300, 2050, 4645, 3790, 14942, 1775, 3300, 3600, 1995, 1375, 5500, 3461, 4995, 8000, 1500, 3200, 1925, 2150, 2450, 2400, 5000, 3899, 6200, 1995, 2600, 2595, 3570, 2025, 1850, 2615, 3095, 2100, 4900, 5899, 3495, 2700, 3400, 1895, 1400, 2300, 3300, 2650, 2500, 2695, 2250, 2100, 3688, 2400, 2399, 2600, 1695, 10000, 5890, 2475, 2700, 2500, 5500, 3550, 12000, 1900, 3395, 4550, 6500, 3208, 2795, 4018, 4050, 4295, 2495, 4075, 3095, 3267, 2000, 3369, 2795, 2099, 3695, 1695, 6295, 2860, 2100, 11500, 3095, 6000, 2450, 1550, 1550, 6495, 2250, 2950, 4057, 3195, 2995, 1650, 2954, 1550, 2500, 4200, 11000, 2989, 5900, 3925, 2150, 3295, 2750, 3200, 2600, 3295, 3615, 3000, 2700, 3699, 3295, 1900, 2150, 4800, 4195, 1850, 2950, 3195, 4790, 3800, 3300, 3615, 2500, 3400, 2000, 2495, 2320, 1950, 4000, 4850, 2795, 6200, 2295, 4161, 6000, 8995, 4300, 2495, 5395, 2600, 2950, 5799, 3850, 3600, 5595, 3000, 3375, 3400, 3995, 6200, 1595, 4615, 1875, 3600, 5000, 2700, 3850, 2200, 2650, 2950, 2400, 4450, 3200, 3895, 5800, 2700, 3500, 3010, 2900, 6400, 2650, 4875, 1375, 3150, 3400, 3050, 2995, 2395, 2405, 2850, 5995, 3375, 3200, 2800, 4600, 2295, 1475, 4200, 3300, 2595, 3300, 3300, 2350, 2500, 2875, 3965, 3950, 3813, 2000, 1895, 2030, 2750, 4350, 6235, 4315, 3400, 3950, 2950, 14000, 2175, 2300, 2200, 4500, 2750, 3112, 5225, 3200, 3895, 2500, 15000, 1700, 6500, 2300, 3460, 8109, 3295, 6350, 5000, 4100, 2500, 4095, 3895, 6000, 3900, 4750, 2625, 2500, 2500, 4500, 5650, 1900, 1590, 3100, 2550, 2400, 3550, 1900, 2550, 2800, 8895, 3350, 2595, 4595, 2795, 2000, 2395, 3300, 2350, 5870, 3495, 14500, 6399, 4300, 3100, 1675, 2295, 5995, 4300, 4000, 1875, 3000, 3895, 3495, 3025, 4395, 12000, 3695, 3400, 4690, 3400, 1685, 2800, 3700, 2500, 3975, 8850, 3670, 3495, 1900, 2000, 1995, 6000, 3400, 2150, 6200, 2295, 8495, 8195, 4000, 2900, 2025, 4895, 1700, 4200, 1893, 6635, 3670, 8700, 2300, 5735, 3100, 3300, 1600, 3550, 4200, 4995, 3300, 3550, 3995, 2250, 2599, 5495, 4875, 2850, 1900, 4800, 5350, 3700, 3000, 3150, 2538, 3400, 8300, 2400, 2350, 2850, 3692, 11000, 2400, 3250, 3795, 4800, 3750, 1900, 2250, 2475, 2900, 2295, 3150, 2550, 3030, 4495, 4900, 2895, 3795, 5474, 2195, 5985, 2150, 4400, 3554, 1950, 3595, 2595, 3200, 4300, 3180, 3150, 3195, 3450, 2650, 3475, 4200, 3700, 2300, 5250, 2875, 2875, 4545, 4330, 3790, 2100, 2525, 3150, 7000, 7050, 1800, 1895, 3000, 6270, 2895, 1650, 1950, 5967, 2500, 5000, 1900, 3790, 2095, 3000, 3342, 3250, 3300, 3500, 2850, 2400, 2750, 3500, 1900, 2150, 2500, 2500, 2450, 2300, 6000, 2395, 3250, 2750, 1750, 2850, 4700, 3800, 2660, 1650, 5150, 2525, 3425, 4095, 2895, 3600, 2800, 2460, 1650, 4850, 3780, 2700, 2400, 3674, 1875, 2525, 2899, 2650, 5800, 2700, 3675, 3500, 8795, 2750, 3050, 4200, 3100, 3695, 3834, 3010, 3250, 2650, 6650, 3500, 3495, 2000, 2850, 2850, 7975, 3461, 5250, 4800, 2000, 2625, 2400, 3200, 2688, 2150, 2790, 2695, 3000, 2575, 4800, 7100, 2507, 3500, 4695, 3650, 13000, 6250, 6185, 2975, 3160, 3119, 3300, 3710, 3450, 2450, 2500, 2300, 3400, 1700, 2300, 2295, 2775, 5988, 3165, 5795, 3800, 2350, 3650, 4700, 4200, 5800, 3110, 2755, 3000, 3995, 2775, 2890, 3250, 3300, 2500, 5500, 3197, 2495, 3800, 2650, 2500, 3395, 5700, 3300, 4000, 4750, 3050, 2100, 2500, 2000, 2950, 2099, 4600, 4450, 2720, 2500, 3150, 2500, 3225, 5010, 4500, 3850, 6250, 2500, 5895, 2695, 4100, 2695, 7095, 2990, 2600, 2950, 2400, 4000, 4600, 3200, 2595, 2975, 3000, 2775, 3050, 3025, 3850, 5700, 9000, 3595, 2850, 4000, 2650, 2300, 3650, 1995, 4800, 2400, 3500, 4095, 3000, 5800, 3625, 2405, 2950, 11000, 5400, 3300, 3100, 3750, 5425, 2400, 3970, 3400, 4395, 3400, 13500, 3650, 3000, 2062, 2850, 2350, 2500, 3490, 3675, 2900, 2000, 2950, 2025, 1550, 5000, 2250, 3200, 2995, 2550, 2800, 8795, 3450, 2759, 4500, 3490, 2100, 2700, 2595, 5850, 3015, 4295, 2295, 1995, 1580, 1800, 1895, 2990, 5400, 5500, 3250, 8000, 3000, 2895, 3095, 2950, 7000, 3000, 2260, 2100, 8500, 1850, 1750, 5750, 2450, 3775, 1450, 7395, 3995, 6575, 2000, 4600, 2350, 3800, 3400, 2495, 6100, 15000, 3700, 3435, 2500, 2950, 3300, 2400, 5250, 2650, 2709, 3250, 4200, 3375, 1999, 2580, 3600, 1700, 3895, 3450, 4400, 1800, 3995, 4995, 5550, 3570, 2275, 3599, 2850, 3295, 3650, 1900, 4200, 1925, 2250, 5200, 3800, 4300, 1850, 2695, 1850, 3000, 3150, 2100, 3350, 2450, 2250, 2900, 2790, 2650, 2350, 2995, 8795, 4000, 1700, 3023, 3254, 3050, 3995, 1950, 3695, 2750, 3400, 3195, 3500, 3295, 3470, 2200, 4900, 2100, 2150, 4970, 3200, 3200, 2500, 2300, 2933, 3350, 2550, 1975, 2300, 1900, 3395, 3700, 3625, 2550, 3295, 5483, 6195, 5967, 3600, 3900, 2050, 3175, 3000, 4300, 2495, 7995, 2700, 5755, 3200, 2195, 2995, 1725, 2600, 3195, 3200, 1800, 4150, 2400, 2300, 5295, 4250, 1950, 5500, 3950, 2600, 3825, 2000, 2571, 3970, 2900, 4697, 2150, 14500, 2350, 5695, 2300, 2700, 4500, 5200, 3390, 2895, 3700, 6900, 4400, 10000, 6295, 5000, 3200, 1850, 2252, 1700, 3100, 2500, 2295, 2775, 4000, 2180, 6800, 8500, 3895, 3950, 2000, 3400, 2895, 4650, 3395, 3100, 2499, 1800, 2850, 2750, 2950, 4795, 1950, 1995, 2600, 9175, 2500, 2900, 3900, 3200, 3450, 2025, 2400, 3475, 4900, 4500, 2800, 3700, 6200, 4529, 2795, 3650, 4495, 3695, 3470, 2250, 4600, 2750, 2150, 3744, 6400, 2100, 5000, 2300, 2595, 2800, 2900, 5590, 2875, 2625, 2650, 2450, 5355, 3400, 2695, 3125, 2740, 4695, 3200, 3200, 2200, 2475, 6000, 3300, 3400, 2200, 2800, 2475, 4370, 3300, 3295, 5300, 4300, 4200, 3400, 6200, 4325, 3221, 2395, 4395, 3095, 6050, 3300, 1900, 2300, 2350, 3100, 3495, 2979, 4200, 2700, 2800, 4915, 6300, 2795, 1800, 3595, 2460, 2400, 2045, 5630, 3920, 3195, 1965, 3171, 2950, 3750, 3900, 3300, 5350, 4550, 1900, 2895, 5895, 2500, 4295, 2619, 5995, 2100, 4295, 2550, 4400, 3700, 8450, 3730, 4890, 2800, 4500, 5106, 6000, 3050, 2400, 2600, 3400, 2365, 2895, 2750, 5200, 2450, 2000, 4000, 6900, 3300, 3733, 2900, 3600, 5718, 2550, 4500, 3300, 4000, 3000, 6285, 4100, 2650, 3995, 4095, 2650, 4200, 2700, 5200, 3745, 9450, 5725, 4700, 1600, 2958, 1925, 5162, 3030, 3250, 2600, 2150, 1650, 2995, 3695, 2050, 4091, 5995, 3277, 2500, 1975, 9500, 1695, 2400, 5000, 2600, 4295, 1795, 4000, 3500, 11600, 2645, 14705, 2850, 3127, 1825, 4050, 2725, 3150, 3450, 2950, 7995, 3795, 2100, 3125, 1695, 5995, 3600, 3625, 1750, 2000, 2195, 4850, 2650, 1700, 4650, 2325, 3295, 6500, 5100, 6635, 2800, 2750, 1600, 2295, 3850, 2725, 5895, 4500, 2495, 3275, 3550, 3120, 2700, 2900, 4500, 2500, 3167, 3500, 2650, 1900, 2700, 2000, 6895, 4400, 2125, 1700, 3500, 4000, 3000, 2250, 4119, 3300, 2750, 3700, 6400, 5000, 4892, 2285, 2149, 1850, 5750, 4000, 4400, 13500, 4495, 2025, 2500, 1995, 2795, 2538, 3100, 4850, 4200, 1993, 6495, 1925, 2500, 4500, 4150, 3195, 3900, 3695, 2769, 1595, 2095, 2625, 3325, 4385, 1995, 5650, 3600, 5025, 2000, 2600, 4950, 2250, 2000, 3200, 3678, 2850, 1850, 4400, 2649, 2500, 1950, 5895, 2975, 5000, 4357, 6500, 2200, 4095, 2600, 2650, 2995, 2962, 6200, 4000, 2700, 2700, 2350, 3650, 1900, 4500, 2800, 4350, 1850, 3699, 7329, 2275, 1550, 3990, 1900, 3600, 1725, 3212, 4050, 2500, 2575, 4588, 2375, 3370, 3250, 1690, 3600, 2200, 2700, 3000, 2305, 3625, 2655, 5300, 5882, 2900, 1900, 2300, 3300, 5203, 7525, 3410, 1995, 5446, 4200, 2999, 2016, 3250, 5750, 1995, 3495, 2950, 5350, 2290, 1650, 3724, 4100, 2750, 3640, 3050, 3550, 15000, 3250, 2270, 2900, 5085, 4400, 2975, 2100, 2700, 4795, 5400, 2950, 4000, 5900, 2700, 5100, 2000, 2895, 4100, 2761, 3600, 3850, 5400, 1900, 1597, 4450, 5100, 11000, 8000, 2877, 6795, 2000, 2870, 2595, 2325, 3495, 2595, 3450, 1550, 1900, 2100, 3595, 5600, 3200, 3525, 2900, 5600, 4500, 2200, 2350, 3239, 2800, 2600, 2600, 6100, 1900, 6000, 3000, 3750, 2400, 3990, 3900, 2550, 3200, 3500, 2600, 4695, 1550, 6370, 3995, 3900, 2695, 8800, 2375, 1850, 4095, 4000, 1875, 2250, 2995, 2625, 4500, 3495, 3700, 2895, 7895, 2750, 6500, 2450, 2750, 3050, 3995, 6200, 3795, 2650, 10000, 2500, 2350, 1900, 1995, 2450, 3700, 3700, 2800, 3200, 5000, 6400, 5070, 5250, 3000, 2500, 3350, 3200, 4395, 5595, 2300, 5200, 3695, 5550, 3578, 2750, 2800, 2800, 2350, 3438, 2420, 4895, 4500, 3375, 4695, 2595, 3095, 1878, 6000, 3480, 2975, 2356, 2900, 6500, 2650, 2017, 2849, 3050, 3400, 2500, 3300, 2775, 2675, 6275, 7250, 1900, 2200, 3346, 4650, 6185, 1400, 8000, 2925, 2950, 4995, 3600, 2500, 3200, 3249, 2667, 3200, 6000, 2550, 2500, 1825, 2300, 2100, 3115, 2975, 1750, 9000, 2400, 2950, 2550, 4917, 3295, 4550, 3430, 2550, 2825, 8200, 2275, 4450, 2250, 6000, 5200, 3100, 3595, 1900, 1875, 2895, 3975, 8000, 2700, 4637, 1900, 2850, 5500, 2550, 2695, 3600, 5000, 2000, 1750, 4600, 2199, 1850, 3400, 5250, 7350, 2500, 2475, 2295, 2600, 4500, 2325, 2625, 5495, 3595, 3950, 2625, 2875, 2400, 1500, 4000, 3150, 2250, 5200, 2000, 2995, 2000, 2195, 2850, 2700, 4000, 2095, 2700, 3850, 3400, 2000, 1675, 2100, 4950, 10200, 11000, 5500, 6500, 3250, 2750, 3750, 2100, 2875, 3200, 5568, 2800, 5100, 2950, 5495, 9500, 3000, 2995, 3831, 5000, 2000, 4600, 2849, 4200, 2630, 3965, 2300, 2291, 3250, 3800, 2525, 11000, 2250, 2995, 11000, 3000, 9500, 2575, 6700, 2395, 2100, 2995, 2000, 6050, 2500, 2250, 2600, 1960, 4000, 2475, 2700, 4050, 2695, 3200, 5162, 5000, 2850, 2500, 2575, 2300, 3300, 3160, 3495, 3020, 1799, 4100, 6920, 6000, 3436, 3100, 3500, 2325, 3195, 2300, 3300, 8650, 2800, 4100, 5295, 4800, 2200, 2910, 1725, 2650, 3295, 2500, 1950, 2850, 2850, 6700, 2450, 4200, 4285, 9300, 6500, 4800, 3550, 3400, 4995, 2900, 2500, 3300, 2900, 2200, 1750, 2300, 3700, 2795, 3500, 4650, 2850, 9000, 5092, 2350, 3650, 4595, 2100, 3600, 2700, 2100, 1795, 2050, 2849, 3000, 2525, 1900, 2650, 2525, 3810, 1950, 4675, 6300, 1995, 4523, 2980, 2295, 3500, 3450, 7000, 5999, 3515, 2500, 6295, 4200, 2800, 2800, 6962, 2500, 2600, 2400, 3000, 1850, 5500, 4095, 3000, 4600, 5895, 2995, 1900, 2325, 1800, 6420, 3500, 2175, 5985, 3150, 4395, 2675, 2095, 5000, 6195, 4900, 5295, 1763, 2600, 3450, 4600, 2995, 4795, 4995, 3095, 3900, 2500, 1750, 3994, 3200, 4195, 4295, 4095, 4800, 4695, 11750, 2715, 2500, 1550, 4000, 3450, 2800, 1800, 1985, 4400, 3200, 2200, 11250, 3750, 1600, 1950, 1995, 2200, 4395, 1900, 3800, 1800, 2000, 3804, 2150, 2750, 1900, 4600, 2700, 2995, 3995, 2700, 1595, 2100, 1900, 2950, 2195, 3600, 3450, 3600, 4707, 1995, 5000, 2675, 2300, 3200, 2195, 2400, 1995, 1375, 1850, 2800, 3000, 2100, 2100, 2571, 3300, 4500, 2295, 3037, 2700, 3250, 3495, 3700, 3646, 2935, 3000, 5200, 2650, 6195, 1900, 5095, 2800, 2395, 13500, 5550, 2910, 4150, 5500, 3047, 3650, 3100, 4250, 2550, 1875, 4495, 2795, 8200, 3300, 2700, 1900, 3100, 4300, 1650, 2800, 2870, 5300, 4125, 2995, 4300, 3595, 2325, 7390, 2600, 3708, 2395, 3450, 2195, 2500, 3395, 2145, 3375, 2500, 3504, 2700, 2850, 2400, 2650, 2495, 2650, 1803, 3095, 5000, 6520, 2275, 7000, 2100, 2100, 2850, 2895, 4059, 2300, 3375, 3100, 4600, 9170, 5100, 3195, 2300, 3400, 1850, 2495, 2500, 7000, 6000, 2200, 7650, 2550, 2400, 2050, 1995, 4600, 4895, 2500, 3400, 1795, 3395, 1775, 6500, 1495, 10000, 2785, 3490, 2625, 4000, 4195, 2500, 3295, 3000, 4000, 2200, 2400, 3250, 2995, 8000, 2500, 4300, 2100, 2725, 1700, 2550, 2735, 3200, 3325, 2450, 3300, 2799, 3800, 1500, 3200, 2895, 2700, 4950, 4595, 2199, 3570, 4400, 2100, 2799, 2350, 1850, 2950, 4875, 2995, 4164, 3750, 3500, 3100, 3700, 2374, 1699, 5100, 14000, 2950, 4999, 3300, 3349, 3650, 5295, 8995, 4200, 3450, 4000, 5100, 2300, 2750, 4550, 3475, 3425, 4000, 1850, 2970, 6000, 6000, 3375, 3250, 4846, 4395, 7000, 4500, 4795, 5550, 2675, 2150, 2950, 9166, 2900, 3995, 3250, 2350, 3395, 3500, 1995, 3295, 2400, 15000, 2395, 6200, 3725, 1800, 1450, 3400, 2500, 2000, 1825, 3700, 4095, 2595, 12640, 5000, 3500, 1875, 2200, 4500, 2300, 4200, 2700, 6500, 2950, 2425, 2495, 2000, 3200, 3300, 4031, 3800, 2475, 5500, 2395, 4000, 3250, 2600, 5955, 2500, 2325, 4495, 3695, 3850, 3462, 5900, 4430, 2700, 2850, 3000, 4140, 4650, 2450, 6500, 3889, 2200, 6200, 3200, 5500, 2050, 6295, 3050, 9500, 2000, 2900, 3400, 5200, 3900, 6500, 2495, 1799, 3100, 2300, 1650, 3250, 1995, 1400, 3540, 12500, 2400, 3695, 1550, 3100, 4695, 2500, 3100, 11950, 4100, 3438, 3700, 2800, 2789, 5100, 2250, 3600, 2675, 2700, 3200, 3797, 5800, 2000, 1775, 3500, 3995, 2650, 3750, 1450, 5000, 3100, 4900, 3600, 3350, 10000, 4095, 1995, 3231, 2990, 2800, 1775, 1695, 2875, 4950, 2395, 3600, 4995, 1900, 3900, 3300, 3950, 3162, 7500, 6895, 2500, 2800, 4295, 4000, 3650, 5550, 2050, 4075, 3610, 3200, 1800, 2550, 2150, 3050, 4230, 2400, 3095, 2095, 2250, 4490, 3850, 1685, 3025, 3100, 5500, 3157, 3350, 4950, 2700, 3995, 15000, 2500, 2695, 3000, 2500, 6811, 3800, 2495, 4400, 3400, 3500, 2800, 3900, 2300, 3395, 2695, 4750, 3395, 2700, 2700, 2300, 2450, 2195, 4500, 2400, 4095, 3800, 3100, 2700, 3395, 3995, 6450, 5800, 3800, 3795, 5500, 3942, 3450, 2195, 3500, 2450, 2550, 7200, 2100, 1650, 3700, 2600, 3700, 3950, 3725, 1850, 7150, 2039, 4295, 15000, 2050, 4995, 2550, 2995, 3099, 1695, 3550, 4595, 3200, 2400, 2200, 3350, 3850, 2200, 3900, 3500, 1850, 4200, 1792, 4600, 2350, 2600, 4670, 3250, 6350, 2112, 3150, 2600, 7350, 2200, 3595, 2700, 2100, 2600, 5000, 2700, 2700, 4000, 3300, 5925, 1990, 5900, 2025, 2400, 6100, 6495, 1500, 2200, 2200, 2200, 3150, 1995, 4928, 5450, 2100, 3000, 2700, 3300, 2995, 2915, 9000, 5000, 2995, 4500, 3400, 1975, 8500, 1450, 6879, 2900, 3695, 2400, 2450, 3300, 5995, 3415, 2099, 2495, 2395, 4500, 2670, 14995, 4100, 4500, 3000, 1895, 5141, 2660, 2690, 2500, 4800, 2650, 2600, 1950, 2499, 3950, 3400, 2200, 5945, 5882, 2600, 2250, 2450, 1750, 2600, 4300, 2400, 3143, 2650, 4495, 3765, 3400, 2950, 3295, 1763, 2995, 3900, 2595, 2995, 3595, 2675, 2195, 1800, 2900, 6500, 2200, 5959, 3000, 1500, 1800, 2500, 2550, 5600, 1900, 6995, 2295, 8000, 2600, 1475, 3695, 1900, 5000, 2000, 2950, 3795, 2800, 1900, 2050, 3050, 5675, 4095, 2695, 3155, 12995, 2050, 2100, 3195, 1700, 3200, 2250, 4000, 2195, 3095, 3350, 1499, 3200, 3925, 5000, 5800, 2350, 4845, 3300, 2900, 2400, 2500, 4100, 3295, 4495, 3500, 1995, 2575, 3150, 7000, 3500, 3595, 3375, 2200, 2700, 2095, 2850, 2195, 3495, 3950, 3175, 2900, 5700, 4400, 3500, 3195, 2400, 3395, 4370, 6500, 4000, 3100, 2650, 2300, 3250, 6200, 3300, 4950, 2850, 13845, 4800, 3490, 4695, 2150, 3850, 4350, 3750, 3750, 4795, 1999, 2495, 4500, 4900, 3350, 3375, 2400, 3700, 1675, 3200, 4900, 2995, 2900, 2900, 2900, 5750, 1950, 2595, 3950, 2475, 6250, 3400, 3400, 2710, 6180, 1695, 3692, 2890, 2814, 1470, 3300, 3195, 4000, 3549, 4795, 2850, 2050, 4330, 1500, 4600, 2800, 6525, 3850, 1700, 3300, 1900, 2850, 2800, 2200, 3300, 2450, 2950, 2650, 5975, 5100, 4395, 3450, 2500, 2550, 4280, 5400, 2653, 3950, 2625, 4500, 3400, 3895, 2900, 3095, 2720, 3000, 1975, 3031, 3600, 4605, 8000, 2895, 2100, 2500, 3200, 3290, 3395, 8429, 4235, 2595, 3450, 2625, 2995, 3050, 2595, 6200, 3322, 4000, 5025, 3579, 2295, 3900, 2150, 1500, 7500, 5750, 4825, 2624, 15500, 3395, 2300, 3000, 8495, 1900, 2750, 2400, 2450, 2500, 3495, 2350, 2400, 2350, 4995, 2200, 3708, 2875, 2995, 6190, 3200, 8750, 2795, 4470, 2785, 2970, 6495, 4750, 1900, 2300, 2025, 3475, 3950, 2200, 2100, 3810, 2500, 2500, 2400, 2215, 5950, 1950, 5200, 3295, 2993, 3600, 2350, 4250, 6900, 2500, 2750, 3495, 2150, 3595, 3500, 5895, 3800, 2525, 2595, 5252, 1850, 2695, 3999, 2250, 6040, 3140, 3150, 3300, 4995, 3500, 2625, 6600, 4500, 3680, 5500, 2400, 3600, 6795, 4100, 3222, 3565, 3600, 2150, 3395, 2600, 2100, 2525, 7750, 4000, 3050, 3400, 3650, 3725, 3050, 11500, 3688, 4595, 3400, 1800, 3000, 3600, 3695, 3500, 1595, 2450, 3100, 3450, 5500, 2996, 3950, 5600, 2825, 2800, 2980, 4200, 2250, 2825, 12000, 4900, 5395, 3500, 1795, 2500, 3295, 2598, 3050, 4995, 3988, 1850, 3000, 3200, 2725, 4600, 5895, 2100, 5000, 2575, 3510, 2499, 2850, 4695, 3200, 4200, 5050, 1900, 5975, 2575, 3425, 3175, 5000, 2470, 3049, 2800, 2700, 5495, 2495, 4600, 3150, 2500, 5200, 1950, 1503, 2500, 4995, 3995, 3000, 2600, 8290, 1800, 2495, 3700, 5200, 5750, 3195, 2590, 3200, 3600, 5000, 1525, 4749, 3400, 5400, 2800, 2800, 2250, 3456, 4325, 2200, 3900, 5450, 2650, 4195, 2200, 2750, 2600, 2800, 1895, 6295, 2450, 3250, 4900, 2995, 3400, 6995, 5395, 2650, 2595, 1600, 2295, 1450, 3095, 2650, 3395, 2000, 12995, 3900, 2050, 1530, 3285, 3495, 2495, 3590, 3100, 2825, 1700, 4950, 2550, 1820, 3250, 2595, 2995, 4825, 3690, 4095, 10000, 2450, 5195, 3200, 3950, 3400, 4385, 2000, 8050, 1900, 2521, 1795, 2700, 2820, 2050, 3495, 2595, 3500, 1600, 5495, 6250, 9166, 2150, 3150, 2450, 6000, 5500, 3046, 2600, 2495, 2795, 3200, 3995, 1795, 3800, 5600, 2200, 4500, 2300, 2625, 4967, 4195, 1725, 2660, 2785, 2400, 2850, 4430, 5300, 6695, 2595, 2765, 3100, 4300, 2985, 3100, 4695, 3800, 2950, 3100, 5500, 2320, 6595, 2500, 5250, 3000, 3550, 7295, 2400, 3000, 3495, 1450, 2500, 2100, 2000, 1700, 3500, 3595, 3950, 1895, 2650, 3150, 5595, 3445, 2900, 5050, 10000, 5295, 2000, 3500, 3300, 2300, 2400, 4100, 3750, 2400, 2950, 2250, 4495, 2695, 5795, 6000, 3650, 3400, 2200, 3550, 2700, 2432, 2675, 4275, 2500, 3350, 4400, 1750, 4750, 4942, 3300, 3000, 2795, 4295, 7125, 3850, 5837, 7650, 4180, 2870, 2500, 2725, 2250, 4795, 2125, 4200, 2400, 1675, 2000, 2677, 2450, 3332, 8795, 1750, 3100, 2400, 6825, 5500, 3600, 1950, 2785, 2949, 4800, 4007, 3500, 2050, 4000, 1900, 6460, 2650, 2100, 2300, 3300, 3795, 2250, 1950, 2995, 2900, 1850, 7000, 2995, 3650, 2250, 2575, 6700, 2700, 3450, 3775, 3100, 2800, 4500, 4999, 2400, 2375, 3250, 3100, 4699, 5600, 6500, 2695, 3350, 7200, 3790, 5400, 2700, 2915, 1575, 3895, 2800, 2935, 3095, 3200, 3000, 9600, 3495, 3923, 2400, 3138, 13500, 3995, 2800, 4950, 3695, 4595, 4900, 6495, 4750, 5995, 3965, 3800, 2625, 2450, 3600, 3795, 1395, 1750, 3600, 2650, 1925, 3125, 3300, 2600, 6000, 2600, 4700, 2750, 2195, 2250, 2700, 4500, 1895, 3625, 3825, 4500, 3020, 2195, 2800, 3650, 4000, 2475, 2295, 11395, 7765, 2650, 2954, 3100, 6870, 1995, 2275, 1525, 3750, 5650, 3640, 3700, 2995, 2195, 2595, 5800, 3050, 4300, 3180, 4100, 2925, 4695, 2899, 3400, 6195, 2875, 1850, 3400, 7000, 4600, 1650, 4595, 5200, 1900, 3795, 3250, 2775, 5995, 2154, 2849, 1825, 2150, 4000, 2600, 3200, 5995, 1900, 3900, 5275, 5625, 1825, 3600, 2589, 3400, 3330, 2275, 2195, 2495, 2950, 4500, 1900, 3998, 2275, 2800, 2650, 5500, 2750, 5141, 2795, 2500, 3350, 3400, 2500, 3000, 4250, 2300, 3400, 2550, 1940, 2800, 2390, 3000, 2550, 4995, 3550, 2700, 3450, 1800, 1400, 2600, 2175, 4100, 2465, 2750, 2800, 3250, 3790, 3300, 2200, 1850, 4180, 5000, 2650, 3250, 3100, 3300, 3600, 6000, 2500, 2300, 3600, 4130, 2300, 6300, 2900, 4395, 4295, 3295, 1925, 2650, 2885, 4010, 3700, 2275, 2595, 3725, 8500, 3795, 2650, 7395, 3000, 3281, 7440, 2695, 2275, 6295, 1650, 2750, 4300, 2700, 3500, 2300, 1800, 2550, 4475, 2000, 8500, 3465, 1850, 3000, 2640, 2975, 2380, 2050, 3100, 1995, 2750, 3450, 2611, 1750, 5995, 1700, 5000, 5907, 2950, 1625, 2500, 2350, 5095, 2925, 1800, 2500, 1699, 2495, 2450, 4200, 3683, 5200, 4000, 2795, 4196, 2050, 2950, 4995, 6000, 3750, 3600, 3295, 1825, 5100, 2100, 3200, 1825, 2800, 2000, 7300, 2500, 3700, 2990, 1995, 5895, 3850, 1875, 2500, 3870, 2599, 3450, 4975, 3150, 4695, 5150, 4895, 2600, 2690, 1950, 2400, 2300, 2700, 3495, 2250, 5295, 2750, 3595, 3100, 1763, 2700, 1895, 2870, 2650, 3200, 3190, 3200, 2395, 3850, 4300, 3200, 2575, 2650, 2095, 1850, 3295, 3250, 2100, 15000, 7000, 1975, 2750, 1750, 1645, 4900, 2590, 5000, 3250, 3600, 3050, 2550, 2500, 3450, 4895, 2195, 2150, 3850, 5500, 2720, 2625, 3750, 2050, 4246, 4015, 3200, 3050, 4250, 3100, 3500, 3699, 6000, 2095, 4000, 2295, 2800, 2995, 1975, 3895, 2100, 6775, 4595, 3498, 1795, 1775, 2000, 2895, 2650, 2400, 2336, 5250, 3250, 3450, 1850, 3095, 2500, 2900, 3939, 3190, 2495, 1700, 2800, 3470, 2800, 1375, 3000, 2000, 3500, 4180, 4795, 2895, 4895, 3734, 3795, 3400, 2855, 2200, 2890, 3500, 5400, 6200, 3650, 11500, 2500, 2900, 3573, 2400, 2450, 2350, 2499, 3200, 8995, 4895, 3700, 2400, 2850, 4995, 4450, 3529, 4600, 2450, 4380, 3150, 4000, 2025, 6125, 1550, 7100, 4925, 2000, 7700, 3050, 3400, 4295, 5400, 6200, 2900, 6000, 2600, 2500, 3950, 2850, 4312, 2000, 7108, 3300, 3345, 4000, 4100, 1450, 2300, 2200, 2475, 1700, 3000, 4000, 3595, 2040, 3950, 2850, 1995, 1375, 2837, 4695, 2150, 2875, 2000, 4400, 9995, 3680, 4550, 4395, 5250, 2195, 2850, 2390, 2200, 3095, 3348, 5495, 7000, 6995, 1900, 2435, 4095, 2600, 2900, 3950, 3100, 5999, 3100, 2750, 4500, 2700, 2900, 3350, 2500, 5100, 4500, 2550, 7610, 2800, 4910, 6695, 3800, 4000, 6895, 3550, 2195, 2765, 2325, 3450, 5500, 3150, 4500, 7000, 1950, 3850, 2600, 2100, 3318, 4000, 2850, 2700, 3575, 7198, 4395, 3200, 3200, 1695, 2800, 5500, 2000, 4745, 2700, 3600, 2450, 5895, 3995, 3100, 4975, 3950, 4695, 2500, 4095, 3795, 1800, 3450, 3660, 2050, 4000, 2095, 2695, 2654, 2400, 5295, 3995, 5195, 2700, 3495, 2599, 2875, 4000, 3400, 6195, 4350, 2900, 4300, 4500, 6500, 2000, 2600, 5000, 3450, 3800, 2950, 2295, 1550, 2615, 2500, 2549, 3795, 3999, 3500, 1485, 8700, 2700, 4057, 3400, 3395, 2500, 3295, 3200, 5000, 2100, 1795, 1900, 3800, 4530, 1950, 2800, 3125, 1850, 7250, 2249, 3875, 3000, 2995, 2695, 3050, 3695, 2700, 3200, 3625, 2295, 3600, 3500, 1950, 5000, 2200, 14000, 3650, 3200, 2795, 3890, 3337, 5700, 12500, 2200, 6600, 6000, 2700, 1925, 1850, 5226, 5800, 1450, 5995, 3650, 12600, 3400, 3247, 4825, 3350, 6795, 2895, 3325, 2500, 3415, 3150, 4295, 2700, 2544, 4595, 2250, 5695, 2500, 3499, 3250, 2550, 2600, 3000, 2841, 3295, 8000, 2550, 3300, 2850, 2695, 5695, 2400, 2895, 1495, 5000, 1450, 3300, 2695, 4795, 2500, 3090, 2200, 2875, 3500, 3700, 5600, 3675, 6300, 4500, 10000, 1700, 3600, 3095, 3000, 3800, 2725, 3200, 2500, 3350, 3600, 2300, 2175, 3995, 2200, 2395, 7100, 4995, 1500, 1975, 1825, 2995, 2400, 1975, 5000, 6125, 2800, 2800, 5195, 3995, 1650, 2175, 3450, 2795, 3400, 2975, 8000, 2450, 4550, 3900, 4995, 5995, 2095, 2800, 2300, 6000, 1400, 3600, 5000, 3550, 2995, 1650, 1850, 4500, 5745, 2250, 2650, 2095, 4095, 4900, 4480, 4595, 2250, 3500, 1900, 1500, 2000, 2675, 5678, 2910, 2775, 2250, 2950, 4300, 3895, 1450, 8999, 6795, 3800, 3300, 3049, 4200, 4500, 1750, 3550, 2295, 5500, 6999, 4395, 3500, 2450, 7800, 5600, 6000, 2125, 3095, 2540, 3950, 2300, 11000, 3700, 1550, 3100, 3200, 3500, 2800, 2500, 4500, 4900, 2450, 3795, 6700, 8000, 2800, 11000, 3200, 2400, 4450, 3500, 1850, 12000, 4500, 2250, 4600, 2795, 5700, 2850, 5400, 2195, 3000, 5090, 2490, 2958, 2400, 4300, 5100, 2700, 2800, 2500, 2450, 3500, 2750, 2650, 3116, 4000, 2195, 1875, 2250, 2950, 4800, 2275, 4695, 2595, 1900, 5515, 3500, 2800, 3600, 2625, 2295, 5200, 2700, 11950, 4500, 5800, 2195, 4173, 3600, 3000, 1925, 5000, 11076, 2400, 3150, 3050, 2998, 5850, 3795, 5195, 5550, 4000, 2825, 4900, 2990, 1450, 5000, 2600, 2500, 4600, 2400, 3600, 2299, 3475, 2395, 2700, 2600, 1475, 2500, 1850, 2350, 1700, 3400, 2650, 2400, 2700, 2700, 1950, 3450, 3250, 1695, 2400, 3650, 3500, 2000, 4450, 1850, 3200, 2200, 4670, 4475, 2450, 7000, 1575, 4695, 2125, 4200, 4400, 4300, 3250, 10000, 4100, 2700, 3456, 2700, 2199, 2745, 4150, 2870, 3550, 2695, 2095, 3650, 2500, 3500, 7000, 2450, 2325, 1750, 2995, 1813, 2300, 2750, 2650, 3800, 3300, 5350, 2825, 1900, 3375, 8300, 6500, 3000, 2700, 2600, 1900, 5200, 3999, 1850, 1995, 2825, 2600, 1899, 3090, 3195, 3100, 3550, 2490, 4300, 3575, 2965, 2850, 5600, 3460, 3800, 8900, 2200, 2300, 2300, 1799, 2550, 2325, 3175, 3295, 3500, 4375, 3295, 2925, 1850, 2100, 3195, 2000, 6350, 5872, 2039, 3300, 2950, 2150, 2895, 3400, 4845, 3200, 5000, 5241, 6500, 4500, 4500, 3200, 2600, 3475, 3300, 3300, 6075, 3495, 1600, 2750, 2700, 3826, 2600, 3225, 1800, 4500, 2995, 3437, 2999, 2700, 3300, 3400, 5000, 2545, 1550, 3625, 1975, 5000, 2600, 3595, 2750, 1900, 3200, 2650, 2350, 3450, 2890, 3300, 3750, 2600, 4300, 5628, 4500, 3200, 2150, 1965, 4700, 3500, 5960, 5000, 2275, 3800, 2695, 6200, 2050, 4100, 4150, 3650, 3750, 2225, 5815, 2850, 1550, 5000, 6500, 4400, 5250, 1945, 12995, 5700, 1995, 3375, 4200, 5200, 3450, 1995, 3650, 3725, 2935, 2500, 2590, 2500, 2925, 2495, 2475, 2703, 3100, 2475, 4195, 7900, 2800, 3391, 2875, 2900, 3600, 3150, 7500, 5999, 3375, 6200, 4995, 3477, 6295, 2425, 2150, 8500, 1600, 2200, 2495, 4695, 15000, 2500, 3100, 1900, 2950, 3100, 5000, 4150, 5695, 3065, 2995, 3450, 5000, 3190, 2400, 3095, 2300, 3395, 2900, 2375, 5250, 3910, 3300, 3500, 3395, 5900, 2700, 3400, 5100, 3700, 6995, 2595, 3295, 6500, 5500, 3550, 3900, 4400, 3995, 3395, 2400, 4995, 1550, 2350, 8000, 2500, 2410, 1650, 3000, 2200, 2500, 1795, 3200, 2700, 4720, 5745, 3100, 3295, 2050, 3887, 1850, 2492, 3450, 1550, 1795, 4250, 3550, 7000, 3195, 2150, 3195, 2500, 1500, 3280, 6400, 3199, 1995, 6000, 3695, 5300, 2650, 2300, 3150, 3400, 1695, 3150, 6115, 3675, 3795, 2594, 3399, 4100, 1900, 2650, 2498, 2650, 3000, 3850, 3500, 4495, 3425, 2600, 2000, 6200, 7000, 3750, 2800, 2450, 2400, 3300, 2100, 2725, 3923, 1525, 3345, 3200, 1450, 2865, 3200, 2525, 2955, 4600, 2400, 2512, 5450, 2600, 3500, 2675, 2695, 2640, 1800, 3450, 3150, 4200, 2250, 3800, 3995, 2400, 5000, 2300, 3200, 3700, 1950, 2650, 3650, 2550, 5700, 2995, 4000, 6295, 3450, 2395, 3200, 2550, 3300, 1750, 4995, 2695, 3590, 4000, 4500, 2400, 3350, 1999, 2689, 5749, 4095, 2750, 1700, 4190, 2750, 1800, 1995, 2450, 3700, 5650, 3800, 1750, 4140, 4153, 2395, 3450, 3400, 2400, 4000, 5550, 2490, 3995, 3400, 3695, 2190, 3495, 8500, 2925, 2695, 6400, 3900, 2400, 2795, 6000, 1795, 2400, 3200, 5250, 3300, 2700, 6000, 3399, 2917, 1700, 1650, 2100, 3500, 3500, 2200, 5000, 1595, 2500, 2995, 2800, 4000, 2950, 3900, 1900, 6520, 3345, 4220, 2455, 2950, 2395, 3300, 1650, 3100, 3500, 1797, 4350, 2625, 4475, 3500, 2249, 2990, 3400, 5020, 2995, 2350, 4050, 3387, 2575, 2595, 2890, 2650, 2690, 3450, 5400, 3295, 2900, 15000, 3650, 3390, 2095, 3369, 2540, 3591, 4125, 2825, 3000, 3125, 2800, 3895, 5790, 4095, 6300, 2600, 2600, 3200, 3000, 4495, 1550, 2800, 3000, 2450, 2850, 1999, 4995, 2500, 2295, 3300, 2650, 3450, 2550, 5000, 2800, 4500, 2395, 1820, 3450, 5650, 2595, 3495, 3450, 2900, 5800, 2500, 2725, 3810, 3400, 2600, 4500, 3400, 3875, 3500, 2375, 2100, 3000, 3095, 1795, 4772, 4900, 2150, 11076, 3441, 3750, 2675, 2825, 2500, 2100, 4200, 2500, 4197, 3595, 2875, 2950, 1900, 3795, 2400, 3530, 2490, 5800, 3395, 2350, 10000, 2995, 4400, 4500, 8100, 3990, 2200, 3695, 5900, 3700, 2475, 1800, 2450, 3675, 1750, 3634, 3700, 3495, 3995, 2500, 2195, 3700, 2900, 4400, 3170, 2250, 2871, 4000, 3700, 2550, 2095, 5500, 2575, 2195, 3150, 2550, 2958, 2690, 3550, 2800, 2500, 2500, 3100, 3200, 3610, 2495, 3490, 2000, 3985, 2895, 4600, 3275, 3500, 3899, 1700, 5500, 3000, 1900, 2400, 3850, 2600, 5995, 3000, 4600, 3250, 5958, 1850, 10000, 3300, 3795, 2800, 3300, 2400, 4500, 4600, 2495, 4200, 2050, 1375, 2900, 5395, 2250, 3250, 2395, 3225, 3495, 3995, 5495, 3600, 4100, 2500, 3000, 4295, 4000, 3550, 1500, 2225, 4100, 3250, 2300, 2200, 3800, 1495, 2425, 9000, 2039, 5545, 2300, 2500, 2250, 2400, 3100, 2499, 2100, 3400, 3795, 2100, 2700, 6700, 4450, 3290, 4395, 8500, 3200, 3695, 15000, 4760, 3100, 3250, 1450, 3400, 4350, 3350, 6005, 2650, 2350, 8000, 2450, 2993, 1450, 3350, 4995, 3550, 2500, 6000, 2995, 4892, 3850, 2750, 4000, 2095, 2600, 2800, 3450, 2850, 4800, 2800, 1998, 4640, 4842, 2750, 2850, 2600, 2100, 3485, 6400, 3850, 3180, 6000, 2945, 2500, 9600, 3400, 2550, 5750, 4000, 3200, 9200, 2400, 8895, 3895, 2500, 2495, 3850, 3600, 2612, 1925, 3695, 1895, 4495, 4670, 2975, 6500, 3200, 5400, 3425, 2600, 2750, 2445, 3300, 4095, 4395, 2575, 3395, 2395, 4680, 1500, 2675, 3400, 3950, 14750, 3450, 2700, 10950, 3400, 3490, 2700, 2900, 3595, 6000, 2295, 11000, 3025, 3300, 1700, 3200, 2300, 1960, 2395, 1950, 4130, 5050, 4200, 13000, 4975, 1850, 5700, 15000, 6495, 3580, 2900, 3950, 3208, 3150, 1500, 14500, 2900, 1875, 2850, 2520, 2600, 7480, 3500, 3950, 3575, 3400, 4100, 7350, 5375, 3100, 2900, 5595, 3490, 3000, 1800, 3450, 4422, 1750, 3400, 7165, 2850, 2850, 5195, 3420, 4135, 3700, 4200, 2200, 5850, 2425, 3100, 4500, 2600, 2600, 1750, 6295, 1495, 2500, 6200, 3495, 5570, 1895, 2600, 2990, 2095, 1903, 2550, 3200, 3528, 2800, 3793, 3000, 3200, 3200, 5000, 2625, 3351, 2550, 3700, 3425, 2400, 2550, 5420, 2195, 2400, 3040, 1625, 1975, 4800, 3745, 2895, 1850, 2700, 5995, 2600, 2295, 3495, 3000, 2995, 12500, 4295, 2538, 5325, 3300, 4500, 3598, 2900, 3225, 3020, 4845, 4495, 2900, 2520, 2650, 2895, 2400, 2200, 3800, 2900, 7700, 5000, 3199, 3840, 2325, 6400, 4500, 2450, 3500, 3300, 3050, 2200, 3900, 3900, 1825, 6860, 1466, 3450, 8500, 2750, 1890, 1850, 4995, 3695, 5000, 2100, 4850, 8300, 5000, 2695, 3771, 2995, 4430, 3290, 2050, 4000, 2000, 3800, 3950, 3225, 5990, 3275, 3300, 2315, 4985, 3350, 4000, 3440, 4950, 3250, 2700, 1875, 1975, 5950, 2795, 1850, 5000, 6500, 2450, 2750, 2695, 4400, 3300, 3200, 3200, 3200, 5000, 4000, 2795, 2200, 2495, 2750, 2595, 4250, 1995, 2450, 2900, 5000, 2498, 7205, 2650, 2465, 2100, 2600, 2675, 3695, 3300, 1700, 3495, 7350, 3495, 3275, 7000, 3300, 2475, 11750, 2950, 1750, 3800, 4945, 3300, 3700, 2825, 3119, 4015, 3900, 3200, 2950, 4500, 3200, 4900, 4095, 3895, 3500, 3700, 3199, 3000, 4995, 3995, 3990, 3000, 1900, 3300, 4195, 5415, 1795, 3270, 2175, 2690, 2373, 4200, 2950, 2750, 5500, 3500, 14000, 2375, 4500, 5200, 4600, 5000, 4900, 2450, 3550, 7990, 3295, 2500, 4185, 2400, 2750, 1895, 12500, 4495, 5000, 2750, 2680, 2100, 2800, 2025, 2800, 3600, 5500, 2895, 4500, 1850, 1695, 3400, 3500, 3100, 1525, 3900, 3500, 2625, 3000, 1950, 1775, 3300, 2550, 2750, 3025, 1495, 3400, 1855, 2550, 1500, 2100, 2190, 5750, 2350, 1950, 3500, 2400, 2150, 4892, 3050, 3125, 6830, 3995, 5495, 2350, 3895, 2400, 2400, 2500, 4000, 2250, 4900, 3800, 2950, 4650, 5000, 3570, 2150, 2250, 2000, 2650, 1700, 1875, 2295, 3400, 2700, 4700, 4450, 2900, 2600, 11000, 5200, 7440, 7450, 1965, 2375, 2200, 2850, 1900, 3200, 3200, 1846, 1500, 4600, 2985, 2300, 3041, 3000, 5729, 3050, 2595, 2375, 4100, 4500, 5800, 3900, 4400, 2000, 7000, 4000, 3800, 3650, 3300, 2200, 2700, 3700, 1825, 3700, 2725, 4550, 2995, 3900, 3750, 4000, 4050, 3200, 3200, 3100, 4400, 2915, 2750, 5000, 2100, 2600, 2850, 2400, 3500, 4110, 5100, 2950, 1795, 2900, 3175, 1975, 3100, 5425, 3650, 2000, 3500, 5665, 5995, 3450, 3801, 2900, 6400, 3795, 2325, 6895, 3250, 3995, 4800, 1875, 3550, 2500, 1500, 2595, 2395, 3119, 1950, 3000, 4425, 5870, 2600, 2200, 2690, 3100, 1700, 5600, 1895, 1900, 2175, 3100, 3700, 5200, 2900, 5995, 3800, 3049, 3400, 6400, 2500, 2295, 2550, 2050, 2400, 8000, 1875, 3695, 1600, 2595, 2500, 2500, 5695, 2850, 4600, 3350, 2750, 1975, 2800, 4885, 2700, 1495, 2895, 5895, 4995, 2900, 2545, 1795, 3200, 1945, 5000, 4050, 3000, 1995, 2295, 14500, 1812, 2995, 2483, 3923, 2350, 3990, 3025, 2300, 3600, 3350, 2350, 3675, 1950, 3060, 2700, 6195, 3595, 3150, 4850, 5037, 5850, 9000, 5000, 3675, 2650, 4000, 5100, 2900, 2750, 2700, 2200, 6850, 3300, 3692, 2000, 3500, 5300, 6000, 2675, 2650, 6300, 4700, 2400, 3095, 2700, 3200, 2915, 1650, 2200, 3495, 2850, 2954, 2100, 3100, 2600, 3646, 4495, 4200, 3000, 5000, 2000, 3995, 1895, 4000, 2850, 2400, 2895, 3700, 4285, 2600, 3700, 2700, 3600, 3395, 3305, 2995, 3550, 6399, 2200, 3750, 4050, 2265, 2300, 2795, 2500, 2825, 3875, 2950, 1800, 4500, 2549, 2900, 5125, 2030, 3800, 2500, 1795, 1825, 3195, 2625, 3500, 3800, 1800, 1675, 2100, 8495, 2600, 3995, 2400, 1950, 2795, 3295, 4700, 1550, 2000, 2584, 2400, 3495, 2600, 5400, 3030, 2200, 3545, 1950, 2500, 2295, 6000, 3790, 1725, 2200, 2000, 2150, 1800, 3750, 2950, 3200, 3150, 2900, 3687, 2300, 6400, 3595, 5010, 4200, 2300, 1450, 2500, 5770, 5500, 4300, 3050, 1500, 5700, 6200, 3595, 3300, 3000, 4500, 4095, 1875, 2500, 3200, 5950, 2100, 2095, 2600, 2625, 4650, 4600, 4195, 9425, 2300, 3300, 2700, 1925, 3495, 7000, 3780, 6450, 2600, 4100, 3000, 2550, 4600, 4300, 3090, 6500, 2550, 2450, 3700, 2095, 2600, 3199, 12000, 2350, 1850, 3600, 3600, 6000, 3500, 2550, 2100, 2870, 3400, 4400, 2475, 2200, 3600, 3100, 5250, 1900, 2500, 4947, 2600, 10000, 2590, 4595, 2599, 1750, 3970, 2100, 2238, 3575, 3200, 4100, 3500, 4900, 2500, 2495, 6000, 3350, 5500, 6000, 1775, 5000, 3625, 3700, 4795, 2903, 3095, 3000, 4308, 4600, 1950, 5000, 1850, 2795, 1750, 2895, 12295, 3000, 4169, 5200, 5000, 3450, 2870, 4500, 3825, 3750, 3392, 3150, 2600, 2724, 5900, 3227, 5950, 3500, 1775, 3550, 3870, 9000, 2625, 2100, 4400, 2650, 4800, 2800, 4800, 3250, 2700, 2100, 3295, 3700, 2850, 14000, 2850, 4390, 7800, 3250, 2291, 3350, 3495, 15500, 1650, 2575, 4000, 2450, 2300, 2695, 2375, 4350, 3595, 3800, 2450, 3700, 2195, 3495, 3650, 2928, 3257, 1700, 2595, 4744, 2780, 3600, 2950, 4400, 1875, 4000, 7100, 2575, 2650, 2375, 6395, 4995, 5400, 4100, 1815, 7800, 3975, 1750, 2400, 3950, 2495, 5350, 6495, 1878, 2300, 1625, 3400, 2725, 6150, 1900, 2600, 4395, 3585, 6580, 2550, 2150, 3295, 3995, 3790, 1875, 3650, 1975, 1800, 5400, 3900, 2900, 3961, 5100, 6895, 4500, 3700, 6000, 1850, 3299, 5250, 5000, 2595, 2600, 3000, 2740, 3325, 2360, 2500, 2849, 2350, 2376, 5475, 4900, 3350, 1800, 3300, 2700, 5495, 2925, 1995, 5095, 5800, 5905, 15000, 5200, 2150, 11000, 2195, 3000, 6000, 14500, 3700, 2650, 4300, 5000, 4900, 7000, 3200, 2500, 3119, 3990, 4115, 2132, 2500, 2595, 5107, 2500, 3200, 4095, 8500, 3550, 2100, 3950, 2700, 5500, 2975, 2740, 4865, 2275, 6490, 3400, 2485, 4095, 2625, 2300, 3350, 3159, 3695, 3600, 5595, 3500, 2245, 3300, 3200, 1900, 1425, 4050, 1400, 2250, 3000, 4500, 4800, 7000, 2500, 2375, 3495, 4900, 3049, 2500, 3500, 3500, 3450, 5695, 2495, 3650, 5790, 4950, 3200, 2900, 1895, 3595, 2275, 1900, 3500, 2595, 3275, 5300, 2195, 3700, 1775, 6058, 1400, 2595, 2050, 8500, 3495, 2450, 2150, 3595, 2575, 2195, 3170, 4391, 2800, 2850, 2295, 3700, 2895, 2500, 4450, 2400, 2200, 2550, 2900, 2895, 3600, 5200, 4495, 1900, 1695, 1695, 3000, 2200, 3400, 4800, 3015, 2400, 2795, 2400, 3200, 5985, 1550, 3500, 3000, 3625, 2550, 2300, 3450, 3600, 4000, 6200, 3695, 3200, 2249, 2499, 4495, 3480, 4250, 1730, 5955, 5450, 2395, 2450, 3350, 4000, 5000, 2000, 2870, 3150, 1875, 2775, 6700, 3100, 4000, 4200, 1400, 4995, 2895, 6495, 2600, 4300, 5495, 2200, 2699, 2850, 3900, 1900, 4850, 3950, 4500, 2895, 3275, 6800, 4950, 3575, 4720, 2600, 4499, 3590, 3395, 1800, 5695, 1750, 4600, 4450, 1575, 1925, 2800, 2625, 3350, 5180, 4553, 4400, 3200, 4700, 3200, 2095, 3650, 3495, 2275, 2100, 2295, 3900, 6000, 4258, 4600, 1725, 3600, 3450, 3808, 2400, 2995, 2800, 2690, 2865, 3600, 4650, 6300, 2850, 2200, 5500, 1795, 1950, 4650, 2900, 4500, 2700, 5400, 1545, 3500, 1750, 2050, 5975, 2675, 2200, 4595, 2100, 2995, 5550, 4400, 4500, 2400, 3625, 2700, 2300, 1550, 3075, 4500, 4195, 2150, 3375, 2695, 2795, 3590, 2850, 5000, 2250, 2750, 1950, 1650, 2495, 1995, 4215, 3995, 6785, 9495, 2100, 3070, 3200, 4195, 2800, 6200, 2350, 2910, 2800, 2400, 2150, 1900, 2995, 1850, 3700, 3300, 3600, 3500, 2750, 2895, 4200, 6900, 5295, 2965, 4325, 7000, 5000, 2200, 4600, 8950, 3650, 2400, 2775, 2350, 3300, 2695, 2080, 4095, 2300, 4000, 5450, 2895, 2250, 3600, 2900, 2750, 6895, 5600, 2825, 2195, 3200, 3395, 2495, 3800, 4600, 5300, 2500, 3150, 2950, 7795, 5000, 2000, 2100, 2350, 8800, 2300, 2795, 4108, 11000, 4800, 6495, 2800, 10500, 3500, 2650, 4150, 3200, 2150, 2150, 5500, 2200, 4800, 2000, 2300, 2550, 2108, 3400, 2175, 6652, 3195, 2950, 4150, 3300, 3500, 2490, 3700, 1725, 5665, 3500, 2500, 10500, 1550, 2095, 3600, 2745, 3450, 2950, 3600, 2795, 4600, 2197, 2900, 4250, 7700, 1975, 2765, 4650, 4200, 3450, 3095, 2200, 3000, 2750, 2950, 4075, 2900, 3550, 5000, 3500, 2500, 8195, 3195, 5653, 2500, 5700, 12000, 2500, 1850, 2999, 3795, 2100, 3650, 5200, 3395, 2495, 1900, 2400, 2195, 2450, 3400, 2995, 6400, 3795, 1893, 4095, 4180, 3500, 3450, 3021, 2700, 4800, 4000, 7250, 3900, 6050, 1595, 5100, 4300, 2200, 4065, 3450, 4500, 2100, 5570, 2115, 3850, 2440, 3400, 2995, 3795, 1700, 3100, 5350, 3195, 3700, 2600, 4650, 2200, 6000, 3850, 1950, 4995, 2750, 6700, 6000, 2420, 1700, 1700, 1650, 3950, 2875, 1775, 4900, 2450, 2750, 2000, 3950, 2300, 3350, 2800, 2995, 1850, 2390, 7900, 2275, 2350, 1450, 2200, 8541, 5250, 3175, 4000, 3265, 2600, 2695, 3175, 1500, 2675, 6000, 8000, 3995, 4590, 4500, 2500, 6000, 6400, 2600, 4599, 1850, 1800, 3855, 3395, 2450, 2695, 2825, 4388, 3600, 2950, 1980, 4400, 4855, 5295, 1550, 2450, 3400, 2745, 2450, 4450, 3595, 6380, 2490, 3200, 13500, 4000, 13500, 2490, 2375, 3450, 2200, 2095, 4905, 2300, 4950, 2375, 4975, 3860, 4725, 1950, 1595, 4000, 2795, 1900, 3846, 2995, 3229, 2907, 3750, 4595, 5990, 2250, 2200, 2649, 3895, 2575, 3195, 2050, 5465, 4995, 2700, 1800, 3600, 1404, 3500, 3400, 2450, 2895, 5450, 3000, 6311, 5500, 2900, 3500, 2050, 2900, 3800, 4130, 3850, 2632, 3100, 4200, 1650, 10000, 3155, 3670, 3850, 6200, 4590, 3000, 3900, 2400, 2300, 5100, 3195, 2750, 2525, 3100, 5592, 6025, 4295, 3995, 2750, 1850, 4900, 2195, 3500, 4500, 2400, 2300, 3750, 4000, 1375, 2250, 3100, 2800, 3495, 3950, 2750, 3700, 2695, 2499, 2000, 3700, 5538, 2500, 2425, 1850, 3600, 3295, 2950, 2200, 4500, 5237, 2700, 3750, 4500, 5650, 2390, 3500, 3995, 3095, 15000, 2400, 4995, 4995, 2775, 1800, 1850, 3500, 1500, 4595, 5000, 6800, 2495, 3825, 3395, 2095, 3450, 1550, 3600, 5195, 1500, 4595, 3975, 4700, 1895, 2300, 7250, 2150, 4400, 1695, 3100, 3400, 3275, 4925, 3688, 2700, 3070, 1450, 7200, 7800, 8450, 2000, 2400, 3150, 2100, 3500, 3200, 4295, 2295, 2075, 2850, 2650, 3750, 3500, 7800, 3200, 2400, 6450, 4495, 2100, 2500, 3950, 7000, 2800, 3675, 1795, 3450, 3100, 3400, 3000, 2400, 3450, 11000, 3200, 2790, 4095, 2500, 6595, 4300, 1760, 3350, 2820, 4500, 9000, 4988, 1700, 3100, 3773, 2500, 2999, 15000, 4625, 2095, 3900, 6295, 3000, 2700, 2960, 2850, 3500, 4000, 5900, 2200, 2650, 1950, 3695, 2650, 4689, 3550, 3350, 3450, 2195, 2999, 3605, 1600, 5795, 2748, 4400, 2300, 3700, 1900, 5280, 1950, 2595, 2890, 2150, 2495, 2795, 3950, 3300, 3445, 2925, 6195, 3300, 2200, 6150, 2150, 2825, 1800, 1650, 2200, 2150, 2500, 2495, 3225, 3295, 3850, 2450, 10000, 2100, 5600, 2795, 1975, 2600, 4049, 4595, 3795, 5500, 2150, 3000, 2050, 4500, 9995, 4350, 3100, 4300, 4000, 1795, 1895, 2575, 1695, 2500, 6250, 2195, 10700, 2950, 2895, 4995, 3000, 3800, 2350, 4450, 4350, 3300, 3485, 5800, 3500, 7150, 2450, 2200, 1695, 3400, 2195, 3200, 5800, 7250, 2500, 5882, 2150, 3500, 2100, 2850, 2789, 2757, 3600, 5995, 3095, 3795, 2825, 3800, 2300, 3695, 3175, 2700, 3940, 2400, 2650, 3195, 2945, 3395, 4708, 3440, 3200, 8500, 3600, 6115, 3985, 1695, 4095, 1795, 3200, 5675, 3195, 7173, 4600, 3875, 3850, 7350, 2350, 3350, 3295, 3200, 2950, 3885, 5695, 3600, 4895, 2750, 4000, 5680, 2450, 3100, 3400, 4495, 4600, 1900, 4500, 1700, 2425, 3150, 2000, 3950, 3242, 3695, 2700, 3295, 2625, 3095, 1931, 2750, 2300, 1900, 3025, 2205, 1775, 5500, 3200, 3000, 2400, 5350, 2050, 1895, 2795, 3500, 2450, 2200, 5725, 3400, 3900, 1700, 2600, 3450, 3495, 3550, 3644, 3800, 2300, 2450, 2200, 3600, 3450, 3800, 1875, 5200, 5175, 2299, 3300, 1850, 6500, 2400, 2800, 2400, 2895, 2300, 5195, 12000, 5872, 2750, 5200, 2700, 2625, 5460, 3910, 3500, 3700, 2279, 3195, 4395, 3825, 2495, 4000, 4350, 1395, 6000, 2500, 1875, 3025, 6795, 2590, 3895, 2575, 3200, 2650, 2000, 2700, 3850, 4050, 2150, 2470, 4150, 3025, 2539, 2195, 2550, 12500, 2750, 5254, 3995, 4250, 4900, 3300, 2395, 2800, 2275, 4350, 3650, 3250, 2300, 3395, 2550, 2890, 1895, 4100, 3150, 3000, 5195, 3000, 3200, 3235, 1825, 3300, 2395, 10825, 3747, 2982, 2950, 4250, 2287, 6195, 5000, 5695, 2600, 2900, 4000, 3750, 1750, 2400, 4795, 1775, 3550, 1700, 9000, 5500, 5095, 4695, 2700, 2695, 2250, 2895, 2100, 2800, 2500, 3895, 3950, 3950, 2050, 3850, 2995, 1950, 4900, 8025, 1625, 4900, 2795, 2650, 2100, 2050, 4750, 2600, 2050, 4000, 5000, 1850, 1895, 3100, 2550, 13929, 3200, 2850, 3995, 2995, 4600, 2250, 4500, 1625, 2900, 8000, 3295, 2595, 3250, 2490, 2325, 3450, 4100, 4295, 4600, 3650, 3400, 2300, 5200, 2600, 3295, 3800, 4500, 2100, 1550, 6500, 2450, 4000, 2900, 2100, 2652, 3170, 5650, 4500, 3650, 3295, 4000, 2775, 4015, 1990, 2300, 2000, 3000, 1775, 2750, 4795, 3000, 2650, 2895, 3495, 2500, 6495, 3695, 2550, 2350, 1950, 1900, 4495, 3000, 15000, 9000, 3700, 3800, 2350, 1800, 1795, 3295, 9000, 1600, 2295, 3400, 3550, 5250, 2600, 3049, 2595, 2100, 3300, 4800, 2600, 1800, 3400, 1795, 1850, 1625, 3095, 2100, 3800, 2250, 2500, 2295, 3200, 2200, 2645, 3200, 2400, 2200, 1900, 3206, 2625, 2850, 2950, 3200, 2800, 2375, 2750, 7840, 1760, 2400, 2700, 1750, 1800, 2400, 8000, 4150, 1999, 5500, 4400, 6000, 4900, 5350, 5650, 3400, 3100, 2450, 2800, 3350, 2700, 3175, 1450, 4999, 2750, 3600, 3450, 2175, 3295, 3000, 2600, 2975, 2500, 2700, 4095, 1565, 1875, 2600, 5495, 2800, 3100, 1900, 2590, 1400, 3195, 1850, 3200, 2625, 2500, 2695, 5100, 1600, 2175, 2475, 3495, 2193, 4700, 3100, 2295, 2900, 3300, 6650, 5000, 4600, 3300, 5995, 3600, 5895, 2649, 2600, 2695, 1650, 1750, 2950, 3650, 5800, 1860, 1850, 3350, 4400, 3500, 2300, 5175, 3450, 5995, 2700, 2950, 2499, 3000, 2895, 1700, 1825, 2865, 3695, 3000, 4782, 3995, 2095, 3495, 5960, 2100, 10825, 1825, 3885, 6000, 2050, 3150, 4750, 1895, 6195, 2975, 3250, 3200, 2750, 3650, 1700, 2825, 3200, 2650, 2850, 2149, 7295, 3275, 5995, 5950, 4095, 3950, 2370, 3195, 2400, 6250, 3450, 2395, 3495, 2450, 4600, 2500, 1525, 2700, 1825, 2750, 4795, 2420, 3689, 2500, 2100, 4000, 3150, 4500, 2100, 1850, 2350, 3630, 1775, 2850, 3995, 4400, 3925, 3600, 2420, 2600, 2795, 2640, 2695, 4595, 4995, 2350, 7800, 6000, 3675, 2200, 4850, 3200, 4000, 2500, 5800, 5635, 2000, 2400, 2590, 3300, 5000, 3634, 3650, 3355, 3650, 5900, 3875, 1900, 1662, 2400, 2395, 2350, 1800, 4800, 2400, 1850, 8000, 5100, 2500, 4546, 2200, 2575, 3325, 3750, 1995, 2962, 3600, 2850, 1810, 3775, 3900, 3300, 5800, 1875, 8500, 2950, 13250, 4295, 5200, 3950, 6762, 2025, 1800, 1450, 2800, 3100, 5150, 6000, 3350, 2700, 3100, 1825, 4495, 2150, 2975, 3099, 2775, 4400, 3200, 2900, 5795, 2295, 5250, 2250, 5995, 4600, 2495, 3395, 4800, 2895, 2497, 2150, 2150, 2700, 3160, 2095, 11750, 2595, 5000, 3400, 3200, 5100, 2900, 4500, 5700, 2300, 2900, 2000, 3750, 5000, 4500, 1400, 4800, 3199, 2500, 3650, 3295, 3700, 2000, 3795, 2295, 2400, 4000, 3795, 2500, 3500, 3500, 2275, 4700, 3295, 2100, 3900, 4125, 2400, 1850, 1495, 3295, 3395, 3495, 2200, 3600, 6400, 4800, 5895, 4400, 6937, 12500, 2000, 3450, 1900, 1800, 2500, 2595, 2000, 2900, 3375, 4595, 3400, 2750, 2550, 3995, 2587, 2050, 4050, 2600, 2395, 3395, 1975, 2890, 1450, 1900, 2050, 2100, 3625, 3100, 3195, 4950, 6000, 2500, 1925, 2650, 4400, 2100, 6645, 4495, 1750, 4000, 2695, 3050, 2350, 4143, 3693, 2500, 9000, 3200, 1750, 5395, 2750, 2900, 9495, 4200, 3250, 2800, 6166, 6500, 2100, 3200, 2700, 2925, 2250, 3300, 2800, 3800, 4985, 4500, 4800, 1850, 3200, 2890, 3200, 1900, 3295, 2100, 1800, 2100, 6495, 4795, 5000, 2900, 4500, 3500, 2700, 3200, 2750, 2085, 4000, 2595, 2350, 2695, 7495, 2798, 10000, 2475, 1550, 3085, 1500, 3600, 1750, 4095, 3200, 3200, 3200, 5000, 2100, 4000, 12000, 3400, 2240, 3595, 2400, 2200, 3300, 4495, 2500, 8995, 2875, 1850, 2500, 4500, 2700, 7800, 4400, 5695, 2525, 2295, 2900, 1850, 2100, 2300, 3725, 2350, 3950, 4600, 2000, 4700, 3550, 3450, 2500, 3600, 4295, 3950, 3200, 4650, 5000, 4200, 5395, 1995, 4500, 3695, 4000, 3100, 2300, 3400, 3150, 2000, 5495, 3650, 2575, 2675, 3850, 6250, 2975, 4500, 6500, 2350, 4500, 3300, 3540, 2850, 2750, 5395, 2500, 6695, 1950, 2400, 5100, 3750, 2700, 3100, 2930, 2900, 5067, 2550, 3000, 3850, 4750, 2350, 3350, 4600, 2350, 2465, 6000, 3700, 4850, 4050, 3350, 2650, 4500, 2800, 13995, 3200, 5595, 4395, 2400, 3700, 3995, 5495, 3450, 2000, 6425, 4500, 7300, 3750, 2000, 2450, 2700, 6000, 2795, 7000, 3150, 4400, 3295, 2400, 2995, 2300, 4550, 5195, 14250, 6750, 2900, 2400, 3395, 4875, 2800, 2500, 2295, 3600, 3705, 2700, 1425, 4048, 4000, 2700, 3250, 3499, 3855, 2695, 4095, 2100, 2700, 1675, 2250, 3000, 4000, 2600, 5395, 3918, 8200, 1875, 2650, 6000, 2825, 3150, 1850, 1995, 3550, 2500, 2490, 1925, 6350, 2500, 4800, 1925, 2680, 2100, 2200, 3550, 2500, 3900, 3300, 3000, 2736, 3425, 2367, 3200, 2900, 4400, 2200, 2750, 3395, 5200, 2800, 2495, 4000, 1700, 8000, 2400, 4600, 2300, 2900, 10750, 3695, 2995, 4750, 4275, 3270, 3420, 3795, 1750, 2650, 2450, 6050, 3270, 2345, 6000, 2450, 3195, 5350, 3850, 3195, 3150, 3400, 2550, 2999, 5485, 2770, 1895, 3190, 3200, 3995, 3795, 7300, 1650, 4790, 3495, 3900, 2900, 4870, 2550, 2545, 4475, 3000, 2995, 1905, 1950, 1850, 5200, 2700, 4000, 2600, 4950, 2300, 2910, 2704, 2400, 5600, 3347, 2400, 2695, 1750, 3100, 3350, 4250, 4800, 5595, 3095, 3200, 2000, 3700, 1950, 3495, 2500, 2300, 4050, 2800, 3600, 2550, 2800, 6275, 6500, 2700, 2195, 11500, 2590, 8995, 4000, 2700, 3000, 5000, 3836, 4900, 2995, 3400, 2795, 3650, 1975, 6495, 4000, 2300, 4332, 4675, 5700, 2450, 3425, 3640, 2100, 2400, 3195, 3200, 2850, 3720, 2260, 2800, 2575, 4200, 2900, 2675, 2850, 3550, 1650, 1660, 3350, 2549, 2600, 4095, 2250, 3000, 2300, 3195, 2155, 4200, 3592, 2250, 2400, 4500, 5000, 3895, 3650, 2600, 2145, 5890, 3325, 2595, 3500, 5400, 1995, 3130, 5500, 2650, 2275, 2900, 2625, 2825, 2950, 2350, 2475, 1735, 2300, 2700, 2390, 3195, 2599, 6650, 1725, 3112, 4000, 3675, 3300, 5170, 5495, 5400, 1875, 4250, 3300, 5000, 1600, 6300, 2500, 2295, 3200, 4650, 2150, 4550, 2900, 3700, 5290, 2275, 2600, 2400, 2095, 2550, 3350, 4795, 4700, 2500, 5400, 3300, 3150, 4200, 3695, 5700, 2990, 2695, 3850, 3300, 4250, 2350, 8290, 2650, 2250, 2700, 4150, 7615, 4500, 2695, 6490, 3195, 2800, 2250, 3100, 3500, 1900, 12000, 4250, 2250, 7300, 2650, 5000, 3350, 4385, 3335, 5295, 4400, 2200, 2300, 6495, 2900, 3800, 3995, 6000, 3495, 1999, 4930, 2150, 1925, 3125, 2475, 1800, 6000, 5994, 1950, 3000, 2025, 4950, 1800, 2950, 8304, 3807, 1650, 1750, 1875, 1800, 5100, 2750, 4000, 2925, 2488, 3295, 2400, 2995, 3000, 1750, 3000, 1850, 3500, 4150, 1500, 4527, 1700, 2679, 4295, 6995, 5750, 1400, 3600, 2950, 5500, 3595, 6500, 4995, 7695, 2425, 2890, 2795, 3250, 3500, 4000, 3195, 2375, 2795, 2700, 4895, 2450, 3300, 6195, 4199, 3475, 2209, 3414, 3800, 2399, 2000, 2890, 2100, 2650, 3295, 8000, 4495, 3475, 3395, 2700, 1896, 5150, 2125, 2000, 2950, 1600, 2950, 3450, 2575, 4600, 6000, 2500, 4999, 1900, 2600, 1500, 3400, 5094, 3100, 2300, 2354, 3100, 4150, 3434, 5475, 4195, 4146, 5200, 2395, 2960, 1750, 2400, 3125, 3125, 3200, 4108, 1795, 2950, 2475, 3495, 3258, 4825, 3300, 2350, 1675, 3995, 3700, 2700, 2995, 2400, 7495, 3392, 6000, 8500, 3700, 1750, 3300, 5000, 2050, 2075, 2500, 2250, 2800, 1650, 2700, 4500, 1600, 5340, 3650, 1450, 6000, 3600, 2995, 2350, 4795, 3350, 1900, 6095, 4295, 2800, 4200, 4600, 3600, 2600, 2600, 2075, 5495, 5800, 3665, 1950, 2350, 2395, 4500, 2500, 2995, 3500, 5500, 8400, 12500, 2650, 2000, 3200, 2725, 3685, 7600, 1995, 3145, 3895, 4800, 3000, 2750, 6200, 2445, 4700, 2000, 3965, 3200, 3490, 6000, 3000, 1675, 4800, 2050, 2550, 4195, 2000, 14000, 1950, 3450, 2150, 4290, 6918, 3000, 3900, 2250, 1900, 3195, 2150, 4575, 1800, 4150, 3000, 2250, 2000, 2765, 2290, 3495, 6450, 4750, 5395, 4246, 1500, 5000, 3890, 3000, 4500, 1475, 1495, 5500, 5200, 5000, 3205, 4800, 2025, 3000, 3395, 3855, 2691, 1900, 2695, 5500, 2990, 3100, 1950, 2175, 15500, 5800, 6000, 7000, 3100, 2750, 3625, 2390, 3500, 3300, 3095, 1950, 4395, 4700, 1799, 2500, 2650, 2300, 5200, 3100, 4995, 5500, 2495, 2300, 4600, 3100, 5565, 2900, 2500, 3450, 1700, 5125, 3508, 3250, 3900, 3296, 1990, 2550, 6800, 4492, 2900, 3000, 8895, 2600, 2495, 2700, 4200, 2225, 2800, 2100, 5000, 3800, 2800, 3977, 2500, 2950, 1850, 7995, 2700, 4500, 2760, 2250, 3000, 2850, 6138, 3250, 2225, 4550, 3600, 2100, 12000, 2500, 1995, 4975, 4350, 3400, 3600, 4500, 4950, 3800, 2675, 3300, 3273, 3300, 2925, 4500, 3200, 3475, 2595, 1395, 1750, 2100, 3500, 3200, 2700, 2495, 4391, 2750, 3150, 2375, 2700, 5365, 2595, 7500, 3450, 3995, 4200, 2350, 2900, 2095, 2400, 2625, 3500, 3992, 4362, 5300, 2400, 2800, 3475, 5950, 2200, 4700, 2200, 3090, 4395, 1975, 2499, 4900, 2525, 5950, 2400, 3450, 3600, 2675, 2950, 5000, 3500, 2100, 6000, 2050, 5250, 7150, 3650, 4700, 3100, 3100, 3495, 2250, 3650, 1595, 2000, 5495, 4900, 6100, 3350, 2600, 2395, 3100, 2450, 4250, 5995, 1700, 2599, 3400, 2900, 3695, 1800, 2800, 3250, 3750, 3200, 4405, 7000, 4695, 3000, 2200, 3800, 3400, 2100, 3595, 5100, 4950, 3289, 5700, 1995, 2200, 4500, 3011, 2933, 6100, 2850, 4700, 13750, 2760, 2400, 5500, 4380, 9190, 5300, 2200, 2925, 7458, 2800, 3400, 13000, 3810, 4034, 1600, 1850, 3650, 1600, 3800, 1750, 2300, 5000, 1800, 3300, 10000, 3450, 3500, 2200, 2350, 2600, 2895, 1750, 6995, 3800, 2950, 4095, 3595, 2875, 2195, 2000, 4000, 3100, 3658, 3550, 3550, 3150, 2300, 3375, 4800, 2495, 2700, 5895, 3190, 5400, 4100, 6314, 3200, 3499, 3600, 2675, 2000, 3700, 4500, 3662, 3000, 1800, 2650, 4300, 2300, 2825, 3295, 1800, 2400, 6461, 1850, 4700, 4500, 2300, 2850, 2600, 1825, 2950, 2400, 5438, 7054, 1950, 4295, 2300, 2997, 1550, 3600, 3692, 3250, 3500, 3795, 3200, 3495, 3200, 2900, 2200, 2090, 2450, 2090, 4150, 3300, 9850, 2200, 1995, 4800, 7500, 5300, 2999, 6800, 5000, 3500, 3600, 1650, 1500, 2095, 2650, 1875, 2700, 3450, 4108, 2488, 2400, 3100, 2695, 2100, 2800, 1525, 2895, 1885, 3200, 5475, 2405, 2250, 2400, 3125, 4595, 5700, 2000, 1850, 2000, 2400, 1650, 2400, 3460, 3150, 7000, 2100, 2775, 3225, 2150, 3950, 1450, 3900, 2450, 3000, 2597, 2200, 5700, 2195, 3795, 2492, 3100, 3250, 2695, 4514, 3700, 1996, 2300, 3200, 3500, 3795, 10000, 3400, 2675, 2770, 2595, 2350, 5000, 1750, 2100, 7350, 2625, 2600, 3800, 3300, 4050, 3100, 2451, 3100, 3595, 7500, 3050, 12500, 2695, 3450, 4200, 1790, 3725, 4900, 3778, 3295, 2990, 3950, 3625, 2969, 3490, 2250, 5000, 5400, 2150, 1875, 3675, 2700, 4490, 2395, 1950, 2595, 2850, 2100, 3750, 2960, 2723, 6500, 3295, 3500, 4640, 4570, 3650, 2050, 6800, 2300, 2300, 2200, 2950, 3300, 2390, 2100, 4000, 6855, 1750, 3485, 2350, 4000, 2000, 3350, 2400, 3250, 2250, 3000, 4095, 5200, 5650, 3025, 2000, 3200, 2950, 3133, 2400, 2100, 2690, 8995, 10050, 2695, 2990, 3600, 2695, 1950, 5422, 3400, 6000, 1925, 2500, 2100, 2895, 5450, 2995, 3100, 3693, 15000, 2700, 2950, 2875, 3450, 2699, 3075, 4795, 3995, 3195, 2895, 5150, 7100, 3800, 4150, 3900, 6000, 6512, 1700, 4600, 1675, 2300, 2395, 5999, 5300, 3700, 2500, 2795, 3050, 4350, 4995, 3800, 5285, 3850, 2679, 1500, 2500, 2500, 2600, 1690, 4595, 4950, 3800, 3000, 1550, 3225, 2775, 4800, 5800, 1990, 2750, 2050, 4204, 6450, 3450, 1900, 2225, 2350, 2700, 3550, 3703, 3200, 4200, 2495, 3300, 5200, 4295, 3000, 2325, 2850, 5110, 2390, 2000, 1575, 2730, 1850, 2450, 5735, 2450, 2475, 2850, 2795, 2450, 3100, 2150, 4900, 2400, 3990, 2100, 6500, 2350, 3495, 1800, 4500, 4350, 3670, 4885, 2300, 1925, 2225, 5000, 2900, 1500, 3200, 6995, 2208, 3700, 2700, 1700, 5446, 2400, 1675, 5499, 2492, 5890, 2790, 4195, 3900, 4950, 6075, 2750, 3050, 3900, 3000, 4500, 2240, 2150, 3200, 1800, 5200, 2750, 5000, 2995, 2900, 4230, 2450, 3100, 3260, 5995, 5700, 2675, 11000, 4995, 2600, 2450, 2250, 4900, 3050, 3000, 1750, 3877, 3900, 3095, 2595, 3099, 2989, 2584, 4000, 2150, 3957, 3465, 7500, 2900, 3200, 4700, 3100, 3150, 3675, 4100, 2597, 6000, 2000, 1550, 1400, 3872, 2925, 3250, 4395, 1600, 2100, 3500, 5200, 12000, 1875, 6495, 1995, 3795, 1925, 2250, 2100, 3400, 3300, 4700, 5900, 2795, 2425, 2200, 3125, 2500, 4900, 3650, 6300, 3050, 3000, 1900, 12500, 3895, 3850, 4995, 3200, 3000, 2950, 4395, 2700, 2500, 1800, 2400, 3050, 1900, 4500, 1400, 5400, 3000, 2895, 2300, 3695, 2995, 1850, 3000, 5500, 4000, 3850, 3275, 3935, 4214, 4910, 2954, 3200, 2650, 5800, 2400, 2775, 3200, 3220, 2475, 2300, 3970, 3500, 2250, 3400, 3775, 2600, 6877, 3345, 3500, 3795, 3395, 1850, 2999, 2475, 3001, 2300, 3650, 4000, 3230, 1750, 3200, 3500, 2900, 2850, 3295, 2750, 3695, 4800, 2250, 7495, 2500, 2150, 3450, 2095, 3895, 2600, 4885, 2978, 3495, 3300, 4050, 1800, 3540, 4200, 5795, 5900, 2800, 4282, 4500, 4995, 3595, 4675, 3400, 3395, 2700, 3700, 3200, 2995, 6500, 2675, 4249, 4200, 2500, 2900, 3350, 2100, 4700, 1900, 2775, 5100, 3750, 1640, 6000, 4495, 3390, 1700, 3425, 2650, 4250, 2230, 2995, 2450, 3000, 4250, 5700, 2200, 1850, 3600, 3385, 2395, 1995, 5637, 7495, 2500, 2295, 2500, 4795, 9500, 3475, 4500, 2400, 2195, 7635, 2199, 2740, 4350, 2675, 3400, 11900, 3695, 2475, 2800, 3250, 2195, 3195, 8000, 4175, 3200, 3300, 3525, 4000, 7295, 2295, 2600, 3100, 2750, 2200, 10400, 5300, 2525, 2580, 1900, 3250, 5985, 2950, 3695, 3595, 2895, 3692, 4000, 5200, 3100, 5050, 4362, 4395, 10995, 3120, 1800, 3850, 2450, 2800, 3478, 3575, 2950, 3000, 3250, 4000, 3945, 2760, 2099, 3900, 3200, 2550, 2950, 2450, 4295, 1500, 3500, 4600, 4300, 3200, 3100, 2795, 1895, 2100, 4600, 2350, 5959, 3950, 2300, 2550, 6785, 4000, 3000, 4895, 4000, 2500, 3750, 2500, 3200, 3495, 4135, 5395, 5000, 2600, 4550, 4000, 2785, 2700, 4300, 1700, 2350, 1850, 3000, 2100, 1899, 3114, 3000, 7127, 2700, 3400, 1850, 2450, 3150, 3150, 3550, 3300, 2150, 3700, 3595, 2650, 2600, 2500, 1900, 1950, 3050, 3200, 2199, 3395, 4500, 2908, 2100, 2500, 2650, 5650, 2475, 3400, 6295, 3200, 3400, 2215, 1475, 4000, 4915, 3200, 3050, 3000, 4350, 1795, 3900, 3550, 2995, 4350, 7445, 3800, 1595, 2855, 2478, 4750, 4725, 4900, 3100, 4495, 1395, 2600, 3100, 3000, 3800, 3350, 1500, 5890, 4495, 3595, 3650, 3000, 3000, 1900, 11500, 2975, 2375, 2450, 4700, 2895, 2650, 3595, 4550, 2795, 4350, 2710, 3500, 2895, 2700, 3590, 3000, 2450, 2595, 5004, 2900, 2895, 4800, 3000, 3300, 4500, 5800, 3375, 3700, 5345, 3400, 3595, 4840, 2350, 4015, 1850, 4015, 1900, 3000, 1550, 3225, 3295, 3700, 4600, 4050, 2550, 3500, 1650, 6375, 6400, 1990, 8995, 2854, 2975, 2800, 2599, 4175, 3600, 2395, 2825, 4500, 3800, 3500, 2700, 4000, 1750, 7985, 7425, 1450, 2300, 3400, 4200, 2650, 4350, 3600, 1595, 2895, 2995, 3990, 4560, 7170, 3550, 3471, 2595, 3500, 2225, 4400, 1900, 2400, 3100, 3600, 1850, 2999, 1950, 7500, 3295, 2350, 4900, 5295, 4250, 2350, 1550, 3300, 1550, 2704, 3570, 6100, 3450, 2595, 3095, 5845, 5650, 5200, 2625, 6500, 3790, 3600, 2320, 4500, 2200, 1950, 2200, 3323, 3495, 6500, 2300, 5000, 1450, 3350, 2400, 3400, 5995, 4710, 3500, 2870, 2400, 3600, 1600, 3006, 3000, 4500, 2200, 3250, 3800, 5100, 4800, 5169, 3750, 6100, 7939, 2595, 3295, 11750, 4095, 3155, 3100, 6500, 4295, 3450, 2890, 4500, 3460, 2850, 4150, 2800, 1940, 7500, 4095, 2495, 4000, 2495, 6000, 7000, 5995, 2600, 4050, 2960, 1900, 2800, 2150, 3690, 2525, 2350, 3795, 2150, 3666, 8000, 5250, 2550, 4200, 7100, 2500, 2760, 4100, 2995, 4250, 1700, 3400, 1950, 3000, 4975, 2700, 3400, 3650, 2200, 3230, 4790, 4675, 4450, 5565, 9500, 3240, 3495, 4384, 2950, 2265, 2250, 2800, 5450, 4100, 4000, 2675, 3917, 4495, 2750, 1825, 2676, 7900, 3650, 12500, 3500, 3485, 1850, 2425, 1999, 2800, 3420, 3700, 2800, 13300, 2350, 1999, 3400, 2525, 2700, 2800, 2802, 3231, 2800, 4079, 2795, 6295, 3500, 3500, 2200, 1700, 4000, 5219, 1650, 3905, 5200, 3375, 3725, 7400, 4500, 6955, 5900, 3495, 2495, 2775, 3398, 4772, 2750, 2595, 3495, 2650, 4900, 5125, 3375, 2075, 1550, 2700, 2195, 2987, 3200, 7000, 3100, 4295, 3800, 15000, 2400, 4550, 2295, 4200, 5200, 3350, 3391, 6000, 3150, 4095, 3795, 5400, 3500, 3100, 5295, 6700, 4150, 1950, 3600, 6000, 3000, 2050, 6090, 4475, 3595, 2500, 2500, 3100, 3350, 2600, 4615, 3400, 2575, 4050, 2375, 3295, 2850, 2525, 2250, 1950, 5300, 3000, 1950, 4991, 5400, 6300, 6195, 2100, 2095, 6200, 1850, 3275, 3800, 4800, 7195, 2350, 4199, 3550, 4650, 2720, 2200, 3750, 3732, 4750, 4495, 4400, 4500, 3570, 3295, 4600, 4895, 5000, 3650, 5000, 2675, 6600, 4495, 3695, 3450, 2050, 3091, 6200, 6530, 3025, 3850, 3199, 3600, 4895, 3544, 3600, 6500, 5000, 7600, 1450, 6750, 1850, 2495, 4300, 1925, 2538, 7995, 3300, 2350, 2447, 2650, 3500, 2250, 4995, 2150, 4099, 2299, 4999, 3700, 5020, 2498, 2649, 2025, 3100, 2595, 3150, 3285, 2000, 4495, 3930, 3500, 2000, 4595, 3495, 3100, 2780, 3350, 6350, 6200, 2065, 1900, 2825, 4350, 9500, 2695, 3100, 8250, 3700, 2650, 3295, 6500, 2000, 5295, 3250, 1820, 1950, 2925, 3395, 3500, 2095, 5800, 9095, 4175, 3195, 1775, 2695, 3589, 2350, 2800, 2595, 6650, 4280, 3300, 3125, 5100, 3500, 3095, 3200, 2150, 2350, 3390, 3000, 2400, 3295, 2000, 4250, 2199, 2975, 3391, 2100, 1725, 3100, 2300, 2150, 3117, 2300, 2095, 10750, 2450, 2995, 5000, 5100, 3100, 4500, 2800, 3688, 2950, 2799, 2100, 3500, 3775, 2100, 4000, 3500, 3900, 3660, 4900, 3740, 3000, 4400, 6600, 4795, 3300, 2800, 1900, 2350, 1850, 3160, 2012, 2895, 2300, 3382, 2495, 2520, 2650, 3475, 3125, 4600, 2150, 3500, 2649, 4200, 4580, 6000, 1950, 2550, 2600, 2400, 4300, 2584, 3300, 3240, 3075, 2600, 2495, 12000, 1675, 3495, 1650, 3700, 5500, 3000, 4500, 3300, 4785, 1750, 2676, 3725, 2500, 1850, 1850, 3495, 3050, 4265, 2870, 4825, 2545, 3520, 2700, 3250, 1800, 4195, 4325, 3450, 2850, 4025, 6600, 2695, 4750, 5550, 2410, 3395, 7350, 5590, 2200, 1850, 8254, 5700, 3670, 2383, 1950, 2800, 3750, 3050, 2200, 4415, 2700, 3950, 1895, 4195, 2600, 2900, 3395, 2200, 3995, 3095, 4100, 1895, 3000, 6400, 3350, 2500, 4870, 3650, 2950, 5500, 3600, 4650, 5495, 2575, 2012, 3700, 3425, 2350, 2025, 2695, 3749, 2100, 4325, 1850, 3535, 4000, 2600, 4700, 2550, 6450, 3250, 4995, 5500, 1795, 2550, 3323, 1600, 3695, 4000, 2400, 4100, 2500, 2900, 2300, 1895, 4795, 2750, 2400, 4450, 2612, 4500, 2895, 5900, 3295, 2750, 2200, 3295, 2500, 1995, 2650, 5115, 2595, 4495, 3300, 2300, 2400, 2500, 2350, 3375, 5225, 8795, 4000, 2595, 2595, 2795, 2695, 1625, 7000, 2995, 4750, 6500, 4890, 11230, 3150, 9000, 2395, 1750, 3675, 2300, 2650, 3600, 3100, 3200, 3050, 2100, 3600, 2492, 3299, 3100, 3895, 2395, 5595, 4045, 2200, 2595, 1900, 3695, 4795, 3350, 2100, 2500, 3100, 1900, 2000, 8000, 3200, 3750, 3605, 3650, 3600, 1650, 1750, 2195, 4470, 3450, 3000, 5170, 2350, 2245, 2050, 3100, 3300, 2995, 3550, 3000, 3250, 2195, 2250, 4100, 4500, 2525, 2475, 1995, 3495, 2400, 2700, 2750, 1875, 2995, 3500, 4395, 2150, 3733, 4700, 2500, 4200, 5300, 1800, 2900, 5395, 2295, 3495, 5000, 2500, 1835, 2900, 2525, 3550, 5250, 2300, 3500, 5400, 2800, 1675, 2995, 2750, 2795, 4150, 2250, 2890, 3325, 4250, 7000, 4200, 2895, 2770, 4034, 2895, 4900, 4500, 2700, 2995, 2799, 2350, 2200, 4800, 3323, 1900, 2600, 3375, 2950, 5200, 4100, 1900, 2350, 4000, 2900, 1875, 9000, 6250, 4300, 3350, 3199, 4400, 3300, 2350, 6995, 4165, 1800, 2550, 2600, 4595, 3250, 3295, 2795, 3162, 3950, 3000, 3200, 3400, 1800, 2800, 6495, 2500, 1775, 2500, 2829, 2800, 2100, 3160, 3300, 3750, 4050, 4595, 4750, 2100, 1550, 2800, 2400, 2732, 3350, 5611, 3782, 2500, 3300, 6200, 3250, 3195, 2800, 3995, 1800, 2000, 1695, 3450, 2695, 2961, 4950, 2395, 2650, 2995, 3770, 6695, 3625, 3030, 5700, 5800, 3500, 3801, 2600, 3400, 2700, 4900, 4695, 2975, 2725, 2650, 4800, 2995, 2825, 7000, 2245, 3300, 2950, 2600, 2950, 3750, 3795, 4095, 2495, 6625, 1700, 3785, 2700, 2400, 1700, 3795, 4075, 4155, 2200, 2875, 3950, 2600, 2400, 2300, 2400, 1695, 4195, 4267, 2200, 2275, 2850, 2100, 6600, 3150, 2250, 2600, 2200, 5895, 1900, 2000, 1950, 4995, 2595, 2795, 2499, 2995, 3995, 4300, 2095, 4150, 2775, 4395, 2450, 5500, 2350, 2850, 4800, 5500, 3000, 3600, 3100, 2695, 3599, 4675, 2095, 2400, 1800, 3959, 3100, 3466, 2150, 2900, 1495, 4100, 4600, 4065, 3995, 4190, 2600, 3250, 5800, 1400, 3700, 2750, 2980, 3695, 3100, 3385, 3175, 2585, 5600, 4000, 3300, 2299, 2850, 2600, 3795, 2390, 3625, 2000, 2300, 1595, 4150, 2750, 2650, 2900, 3200, 4995, 3195, 2050, 2850, 2750, 3451, 3650, 1650, 7300, 2850, 4790, 1995, 1800, 3650, 2895, 2100, 8850, 5395, 3200, 2575, 2350, 4250, 12995, 3254, 1950, 2000, 3250, 3450, 4995, 3600, 2195, 2400, 2100, 3745, 8500, 4050, 3295, 1750, 2590, 2950, 2700, 1733, 2650, 4900, 10200, 5000, 3650, 2395, 4995, 2295, 6500, 1400, 4100, 3095, 6295, 2850, 3400, 4900, 3400, 4800, 2295, 8109, 2846, 6595, 4895, 3625, 4925, 2800, 3125, 3395, 3100, 4507, 2300, 1973, 6500, 3000, 6000, 3495, 1795, 6300, 3678, 5664, 4900, 1850, 2400, 4000, 2675, 1625, 2295, 5750, 1895, 3258, 2516, 2450, 3950, 3050, 5995, 4295, 5750, 2200, 2875, 3495, 3479, 3300, 2650, 5000, 2200, 2100, 4000, 2300, 5300, 2400, 3995, 2900, 3150, 4600, 3000, 3150, 2475, 3425, 4800, 2495, 3295, 2900, 4300, 3190, 4650, 3000, 2100, 4475, 3800, 5775, 2625, 3295, 2975, 3600, 2500, 2850, 4100, 2600, 1700, 2800, 5600, 3295, 3230, 2295, 3600, 2400, 4895, 3600, 2895, 2450, 1950, 2150, 2450, 3695, 2295, 2895, 2995, 3750, 3215, 2850, 3500, 4523, 2100, 3000, 3700, 7695, 1625, 3900, 2250, 2300, 5000, 2495, 3000, 4215, 3295, 3800, 1850, 5995, 2695, 3000, 3011, 2650, 4360, 6695, 2650, 2290, 3595, 2750, 3300, 1575, 3500, 4800, 1825, 3150, 4895, 2900, 4295, 4950, 3595, 2350, 2390, 2955, 2500, 6700, 2825, 3380, 2200, 2500, 2900, 3525, 2500, 5795, 2400, 2800, 6500, 9800, 5300, 3150, 5800, 2785, 5850, 2960, 5000, 3100, 1600, 3500, 4495, 3500, 9000, 2400, 2947, 2400, 6795, 3375, 2651, 2782, 6495, 2975, 4034, 5395, 2750, 3350, 3995, 2595, 3200, 4700, 7000, 1575, 2700, 5300, 1975, 3200, 1700, 5500, 3800, 4450, 3200, 3350, 6561, 2200, 3095, 3180, 1700, 1995, 2395, 6000, 3300, 3810, 7250, 5400, 3950, 2150, 3325, 2900, 2300, 4500, 3695, 4495, 4240, 3300, 2894, 3281, 3100, 5795, 4000, 2595, 5195, 8500, 1650, 3400, 1930, 4600, 6200, 2730, 11000, 3100, 2875, 4956, 2500, 3495, 2775, 4525, 2700, 4900, 7500, 1700, 7895, 4495, 4195, 4000, 4495, 1500, 3995, 2895, 2850, 2050, 3525, 3650, 3300, 2568, 3575, 4000, 12500, 2450, 4900, 2400, 2100, 2940, 6075, 3215, 2600, 2700, 6095, 2700, 7100, 2900, 3400, 3000, 2200, 6200, 3595, 6200, 2900, 5000, 2000, 2995, 2100, 2400, 1850, 6425, 4250, 3665, 2450, 2350, 2250, 2700, 2350, 2800, 4300, 3300, 2700, 1800, 2260, 3795, 2725, 5200, 2850, 2150, 1750, 3350, 2800, 3445, 2300, 2000, 4100, 1850, 2150, 13000, 3295, 3300, 2300, 2600, 2300, 1850, 3950, 2700, 1600, 2700, 3983, 12500, 2395, 1650, 2850, 3593, 3002, 1550, 3095, 4595, 2325, 2250, 3355, 4495, 2000, 3900, 4495, 2100, 2299, 2850, 2095, 5995, 7250, 3250, 6595, 3100, 2400, 5395, 3800, 1750, 3499, 5600, 1950, 4295, 3300, 1650, 2200, 2995, 6500, 4595, 4500, 3000, 4495, 2850, 4700, 3795, 3199, 3200, 2850, 3600, 2400, 2875, 1450, 2300, 1975, 3100, 3000, 2700, 2450, 3500, 2700, 2900, 2150, 4320, 4300, 3300, 5100, 5125, 2695, 5400, 4500, 1750, 2375, 2750, 2646, 4000, 2500, 3950, 4310, 4200, 1750, 3350, 2650, 2900, 3895, 6495, 3425, 3650, 1995, 5900, 3200, 2565, 3100, 2100, 2300, 2750, 2350, 2650, 4899, 2997, 2800, 2150, 2900, 4695, 8375, 6200, 6150, 6100, 2000, 3895, 3550, 3785, 2300, 4000, 2529, 3000, 4870, 7000, 3200, 3761, 2446, 3325, 3710, 1900, 2650, 3900, 2550, 2000, 2695, 3400, 3692, 3950, 2895, 2550, 3350, 3595, 4583, 2464, 2550, 7374, 2995, 3295, 4200, 5502, 3800, 4310, 7150, 3785, 3425, 4695, 3800, 3008, 3095, 6800, 1950, 3095, 3100, 2300, 3385, 3695, 4510, 3595, 3150, 4895, 3800, 4295, 5000, 2000, 3200, 3395, 2150, 4950, 3150, 5570, 2495, 3525, 10000, 4500, 6800, 2425, 3200, 3095, 3381, 1700, 1400, 3100, 3125, 3895, 1750, 5300, 2550, 3426, 3200, 2400, 2660, 2300, 3450, 3295, 2275, 3600, 4195, 4900, 2900, 4150, 4700, 5075, 2200, 2400, 2500, 3095, 4000, 5400, 2800, 4250, 5175, 3850, 8564, 2209, 2300, 6000, 4300, 1955, 2995, 4745, 3600, 4430, 4900, 3100, 4905, 2800, 4375, 1650, 3595, 2600, 5500, 2800, 4800, 3500, 2875, 2450, 2150, 3643, 1890, 2895, 2499, 2595, 3208, 3150, 7995, 6995, 2300, 2100, 2000, 2250, 7375, 11425, 5350, 2350, 2795, 2250, 2350, 2650, 1750, 3990, 3150, 2490, 6395, 3600, 4777, 3004, 1775, 5094, 3200, 2950, 2650, 3800, 6195, 3000, 3425, 7995, 2400, 2700, 3500, 2200, 4570, 2650, 2584, 5775, 2600, 3450, 2650, 2900, 1984, 2500, 3050, 4300, 3295, 2900, 4595, 4325, 2350, 3200, 1995, 5000, 2150, 4950, 2200, 3785, 2295, 2750, 9000, 2300, 3280, 1950, 3500, 2000, 1850, 3923, 2800, 6500, 2200, 3350, 2250, 3050, 1800, 2900, 10000, 1850, 5000, 3050, 5800, 2865, 2745, 3100, 3000, 14500, 4750, 2895, 3600, 4400, 2075, 3258, 3535, 3350, 5475, 2000, 2095, 2495, 3300, 3495, 3650, 4200, 6795, 12000, 4850, 2600, 3550, 4100, 4525, 1875, 2963, 2075, 2895, 3651, 3438, 2500, 3700, 2125, 3298, 4850, 2245, 2995, 2400, 3195, 4695, 2700, 4870, 4050, 3200, 3000, 4200, 3995, 4775, 2650, 2625, 3282, 4550, 4985, 3100, 2850, 2450, 4200, 2100, 3400, 3000, 2750, 2790, 3941, 2550, 3000, 6400, 3250, 2800, 6100, 1700, 6300, 3750, 2800, 1700, 4000, 1500, 2500, 1875, 3300, 3100, 4695, 1695, 4500, 7995, 3600, 5000, 2450, 3388, 3399, 3500, 1895, 4308, 3570, 4500, 2795, 3450, 4578, 4800, 3495, 2950, 2395, 5000, 2195, 15000, 1550, 7500, 1750, 5500, 1695, 7520, 4250, 2550, 1695, 2100, 3200, 4885, 2100, 2000, 3795, 2450, 8995, 1650, 2700, 1500, 3200, 2350, 3100, 2977, 2595, 6700, 3495, 3000, 2800, 3529, 2765, 1950, 2441, 2400, 2795, 4850, 2150, 2550, 2680, 3795, 2690, 2250, 2700, 1995, 1850, 7990, 1895, 2900, 2750, 4495, 3275, 2025, 2795, 2300, 2350, 7375, 2600, 7495, 3550, 3600, 2300, 5000, 3500, 2895, 5500, 1750, 3600, 3300, 2700, 6373, 1800, 2550, 3850, 3700, 2900, 2495, 2095, 3500, 4400, 4625, 2795, 1500, 9000, 2000, 3095, 2439, 4550, 5490, 2000, 2775, 6500, 4200, 2095, 6000, 3400, 3435, 1895, 8300, 3350, 5000, 2600, 2600, 1995, 1500, 3200, 2999, 2600, 2449, 2300, 2895, 3990, 2775, 3049, 8000, 2856, 1950, 8000, 4695, 3225, 3200, 2500, 1850, 4200, 2980, 1625, 9250, 1875, 2850, 3100, 3200, 1800, 3700, 1500, 2000, 4459, 2900, 3184, 3490, 3000, 3795, 4700, 3695, 8000, 2500, 3800, 2200, 3200, 2699, 2250, 3595, 3172, 5300, 3400, 1700, 3100, 4600, 3800, 3550, 3595, 3295, 3300, 2075, 2650, 3500, 2650, 2751, 5450, 3315, 2250, 2450, 4095, 5500, 4350, 3895, 2700, 5495, 2700, 3325, 4999, 5175, 2775, 1850, 3000, 1625, 5100, 3600, 2325, 2800, 2000, 5900, 2650, 2600, 3395, 3950, 3300, 2990, 2750, 5000, 2400, 3795, 4500, 3600, 2875, 3195, 3695, 3320, 6722, 2995, 3690, 2600, 6000, 2495, 2600, 1400, 2566, 5700, 3125, 3300, 3495, 4500, 2600, 3300, 3100, 2295, 2700, 5495, 7277, 2300, 2000, 5700, 2900, 5695, 2300, 3129, 3995, 3095, 8200, 3650, 1900, 2900, 5195, 3295, 2960, 1950, 3300, 2585, 2600, 6660, 1950, 2195, 5000, 6500, 1450, 1875, 2799, 3995, 3000, 4899, 2550, 2950, 8500, 2695, 2595, 3195, 1650, 2500, 5900, 1950, 6925, 3100, 1950, 9570, 2700, 3300, 3295, 2550, 3194, 5000, 3000, 6000, 4800, 2390, 2650, 2700, 2100, 3150, 2400, 3895, 3700, 1850, 3000, 2625, 2300, 2200, 2499, 3700, 2659, 2795, 3925, 3090, 2650, 6700, 2300, 3965, 2695, 2750, 7205, 3695, 3100, 2250, 3195, 1750, 3895, 3400, 2100, 1950, 3100, 3650, 2209, 4300, 1995, 2850, 1600, 2795, 2250, 1900, 3500, 2495, 6000, 1700, 1875, 2175, 2500, 2550, 2800, 2150, 1400, 2475, 2775, 3895, 1895, 2700, 11950, 5695, 3095, 2723, 2150, 4600, 4875, 2000, 2500, 3750, 3460, 2600, 4695, 2660, 2100, 3200, 3590, 3829, 1975, 2840, 3100, 1725, 3125, 2300, 7695, 2595, 6050, 3300, 2810, 3450, 4700, 3199, 1800, 1735, 4095, 2150, 12000, 11000, 2900, 2075, 2400, 3500, 10500, 1995, 3750, 3206, 2450, 3170, 2195, 4777, 1890, 3500, 3600, 2150, 4995, 6707, 3346, 3400, 3775, 3495, 2650, 2500, 3195, 2200, 3100, 3995, 2850, 15000, 2757, 2911, 2000, 4795, 7125, 2450, 2650, 3690, 3600, 2795, 3050, 2400, 3200, 2895, 3475, 2800, 2395, 3150, 4495, 2395, 3650, 6000, 2150, 3495, 2375, 3100, 2895, 2305, 4050, 4950, 9200, 1925, 2750, 1755, 2595, 3955, 2750, 2800, 3000, 7150, 6195, 2595, 4692, 5250, 4495, 13995, 2775, 1750, 2450, 1650, 4015, 4650, 2895, 1900, 4795, 2875, 2400, 3810, 3095, 3200, 2150, 3000, 2200, 2965, 1850, 4400, 2000, 3030, 3300, 3700, 3400, 4000, 2050, 4015, 4700, 1875, 3450, 2485, 2820, 4650, 2550, 3200, 1700, 2347, 2700, 3480, 2600, 1700, 2500, 3023, 3695, 3095, 3343, 2900, 3715, 5330, 3100, 4690, 2300, 3390, 3295, 3195, 3200, 3300, 3399, 2750, 3700, 2700, 5495, 3300, 2500, 3240, 2900, 13000, 2675, 2995, 2695, 2000, 4000, 2900, 2150, 2825, 3400, 4900, 2995, 2200, 2995, 1500, 2450, 2450, 2375, 3195, 4200, 2050, 2700, 2395, 11950, 2689, 3900, 3579, 3450, 3415, 4200, 2975, 2895, 6000, 10000, 4100, 4495, 4900, 3355, 3700, 4100, 3650, 9100, 3230, 2500, 2710, 2300, 6500, 3200, 1500, 2795, 2400, 2677, 2800, 1800, 4690, 2700, 2899, 2950, 2750, 2600, 4500, 4795, 3300, 5500, 2500, 2550, 1990, 3500, 3175, 3898, 2195, 4123, 2995, 2900, 4900, 3100, 3695, 2000, 1500, 6900, 2400, 2950, 3765, 1735, 5400, 3478, 2700, 4410, 3550, 2900, 5900, 3900, 12000, 2700, 3950, 3700, 2400, 2650, 3028, 7400, 4740, 2750, 4000, 15046, 2450, 3695, 2200, 2550, 2499, 4300, 3100, 1700, 4195, 2800, 5488, 2875, 2200, 1375, 2475, 3750, 2400, 3600, 4600, 1700, 2600, 2600, 2717, 2500, 4495, 2500, 2550, 4100, 3000, 2800, 4825, 2825, 7195, 2050, 2495, 2625, 3100, 3495, 3850, 6200, 2900, 2300, 5250, 2000, 1500, 3650, 1875, 2300, 3600, 5550, 2100, 7416, 2895, 2490, 3810, 5900, 1850, 6150, 2030, 2125, 2950, 2500, 1725, 2650, 2650, 4600, 3495, 3350, 3400, 2690, 4600, 2700, 4975, 3800, 2895, 1950, 2354, 4950, 3100, 3350, 5995, 2500, 5700, 1700, 2945, 4225, 2100, 1813, 3600, 2450, 2500, 3525, 2700, 6500, 2450, 2800, 2650, 4650, 3750, 2800, 2100, 5169, 2500, 2550, 2295, 3325, 3450, 5295, 5450, 2425, 14125, 3500, 2300, 4500, 2200, 2395, 2500, 3200, 2730, 7500, 2650, 3100, 3476, 3400, 4490, 2900, 1650, 4750, 9500, 2495, 1995, 2550, 5295, 1795, 1725, 2300, 3400, 7500, 4095, 2500, 2750, 1695, 4499, 2450, 4000, 3475, 3000, 2200, 3300, 3000, 2499, 6250, 2950, 2895, 3350, 2495, 3185, 3460, 1995, 2500, 2100, 1950, 8000, 2995, 2800, 2295, 4000, 2750, 6250, 3695, 5100, 2325, 7250, 5600, 5295, 2200, 2350, 2500, 3150, 2200, 2900, 3700, 4500, 3600, 3710, 2275, 2490, 3600, 2000, 3695, 5170, 2690, 2695, 2850, 3675, 2118, 5000, 2875, 1802, 1950, 5000, 6995, 7000, 3380, 2800, 2679, 2400, 2995, 8795, 1800, 2709, 1739, 2450, 2495, 3400, 2600, 3695, 2295, 3150, 3600, 2932, 3050, 2275, 2049, 3200, 2725, 1425, 4575, 3230, 4695, 2300, 2345, 3500, 2895, 1875, 9300, 3200, 2800, 3200, 2928, 9500, 1550, 2150, 2265, 2653, 1875, 4300, 3450, 2350, 2500, 2050, 4795, 2795, 6000, 5995, 1900, 5600, 2750, 2700, 1900, 2030, 2950, 3849, 2785, 2900, 2725, 2750, 6500, 4000, 3857, 2000, 5700, 3277, 3800, 3495, 6500, 3925, 3500, 2475, 3550, 3995, 3675, 2300, 3695, 2750, 2515, 4190, 2900, 3400, 3200, 3595, 4695, 3260, 2900, 2500, 2430, 3685, 3095, 5995, 3675, 8000, 2000, 4250, 2765, 1975, 1750, 3200, 3650, 2900, 2100, 2300, 6750, 2200, 3900, 5995, 2300, 2975, 2100, 11500, 2050, 4250, 2975, 3000, 2100, 3250, 3425, 4250, 1995, 3970, 2100, 1550, 2295, 1700, 2995, 2690, 1995, 2850, 3595, 4375, 3595, 2600, 2695, 2750, 2490, 3100, 3295, 3190, 1902, 3100, 2100, 1849, 2450, 3000, 2000, 8000, 2850, 4800, 2645, 3947, 3490, 2700, 4500, 3150, 3000, 1825, 4995, 2900, 2390, 2955, 2650, 1950, 2350, 7000, 2875, 7000, 2300, 5195, 4500, 2700, 3400, 1575, 4495, 2300, 3499, 3800, 3103, 3400, 2900, 2650, 3320, 5750, 2025, 2150, 6395, 3550, 8000, 2995, 3600, 2350, 3100, 3800, 2050, 3733, 2795, 3000, 3790, 2875, 4495, 3970, 2750, 2700, 4130, 3395, 3507, 1795, 1750, 2350, 1600, 2300, 5745, 1725, 2745, 1800, 3200, 5400, 2500, 6500, 2299, 3795, 2550, 3480, 3620, 2999, 4495, 3300, 9000, 3395, 2250, 3790, 1795, 2995, 4340, 2950, 4000, 3225, 3004, 4915, 2065, 4650, 2549, 3521, 2700, 1650, 3895, 2000, 15000, 2500, 4968, 3711, 1900, 3995, 3000, 5000, 2995, 3560, 2495, 5000, 3200, 3200, 5700, 3950, 2650, 5500, 2500, 5595, 2695, 2495, 6000, 3850, 2950, 4425, 7000, 2600, 4599, 5995, 2195, 1825, 2150, 5995, 3100, 2495, 2499, 3350, 3785, 2600, 3500, 2895, 3200, 7195, 4100, 1695, 6000, 1995, 3800, 2500, 4499, 1450, 4054, 4200, 2440, 3400, 3050, 2600, 6200, 3129, 2450, 2450, 2995, 4350, 2695, 5795, 5995, 1900, 2825, 3438, 3000, 2538, 2400, 4200, 3395, 2195, 6000, 3107, 2825, 3000, 1750, 2099, 3450, 8795, 4290, 5400, 2300, 4000, 2277, 1950, 3000, 4557, 2691, 3795, 4700, 3850, 2500, 2300, 3200, 5790, 1890, 1750, 3000, 2200, 4000, 2500, 2075, 2300, 3500, 2625, 6800, 2350, 1495, 2830, 3500, 1995, 5500, 3800, 3450, 2100, 2900, 6195, 6050, 2900, 3150, 3687, 3350, 2925, 2350, 2400, 2760, 2450, 2350, 2500, 2300, 5000, 3595, 5637, 3000, 4695, 3500, 3195, 2800, 1900, 3700, 2650, 3750, 6600, 3779, 3595, 5485, 2900, 2200, 4995, 3000, 2375, 5695, 2113, 4850, 2650, 4695, 1400, 3895, 6600, 4250, 2100, 2100, 4500, 2490, 4000, 2970, 2795, 1775, 2995, 1850, 2800, 5250, 3795, 1895, 3649, 3450, 2895, 2750, 2350, 2150, 1850, 4950, 3350, 2700, 1750, 3500, 3625, 4800, 2600, 7900, 2500, 11500, 2600, 3675, 4900, 3695, 2200, 4250, 3600, 4300, 2495, 2100, 3200, 1575, 2500, 2895, 2375, 2495, 4400, 3050, 2795, 2549, 4190, 2995, 4995, 5150, 1795, 3125, 3850, 4295, 2700, 4600, 4100, 3300, 2900, 4100, 2525, 2600, 4422, 2820, 3300, 3750, 4600, 1375, 2700, 3895, 2095, 4595, 1875, 4675, 3000, 2150, 3495, 4200, 13875, 3800, 6000, 2675, 3200, 3650, 2490, 1975, 6200, 3605, 8000, 2695, 3240, 3000, 3795, 3495, 3525, 2750, 3750, 1500, 3895, 2450, 2495, 3750, 2475, 2235, 4300, 1925, 2550, 3350, 1650, 3250, 2300, 2750, 2895, 2525, 2599, 3995, 2700, 2395, 1800, 2600, 2150, 2795, 4795, 6500, 2960, 2400, 4090, 3200, 4450, 1950, 6495, 1800, 3600, 2450, 2100, 2050, 2450, 4500, 3199, 3550, 3400, 1800, 4475, 3000, 2500, 2800, 3300, 2650, 1500, 2695, 2000, 4170, 3900, 3600, 1850, 2600, 1495, 2200, 3400, 4280, 2100, 2595, 7529, 2610, 3520, 3500, 6461, 2160, 3499, 3500, 2150, 2695, 2677, 3300, 3895, 2450, 3200, 2725, 2400, 2600, 3800, 1950, 4250, 3050, 2100, 3200, 3100, 1575, 1575, 2400, 1800, 5200, 2595, 2400, 2100, 4900, 2475, 3200, 7500, 5000, 6000, 5850, 2200, 3300, 3250, 2550, 6375, 2100, 3785, 2700, 3400, 5000, 2800, 1975, 3500, 1850, 3500, 2100, 2700, 5400, 4195, 2995, 4825, 3349, 7000, 8950, 3650, 2950, 4950, 2195, 2200, 2000, 5600, 1900, 2599, 1850, 2850, 1750, 3350, 2544, 5600, 2295, 2950, 2200, 2750, 2195, 2500, 3195, 2700, 1660, 5700, 4845, 6500, 2358, 4850, 2795, 3595, 2550, 3500, 10500, 2600, 2725, 2300, 2495, 3300, 3146, 2600, 2700, 2350, 1950, 4450, 2800, 2495, 2500, 15000, 1800, 2400, 3200, 2884, 3600, 3490, 4000, 3950, 2995, 9000, 2475, 4950, 3500, 3795, 2600, 4000, 4500, 3900, 2175, 1895, 5495, 3845, 5067, 4995, 2000, 4950, 2400, 3300, 3000, 5250, 5110, 2950, 1675, 3805, 2695, 5000, 4200, 2100, 3600, 2700, 4675, 6200, 3600, 3600, 6000, 3295, 2704, 2700, 2500, 3495, 3395, 10600, 3200, 3100, 2150, 1975, 2550, 3490, 4095, 1900, 3750, 5720, 2400, 2375, 3200, 1875, 2300, 3270, 2995, 3450, 2925, 3650, 3800, 2380, 2100, 3515, 1875, 1900, 2895, 2795, 3500, 6095, 3966, 5995, 2065, 1745, 3700, 2995, 4300, 2775, 1700, 5000, 2600, 4000, 4950, 2775, 3969, 3225, 1900, 2875, 2970, 3960, 2150, 2300, 8500, 5700, 5000, 3550, 3300, 1950, 4700, 2499, 2605, 1550, 2500, 4350, 2700, 4000, 3570, 3075, 3100, 2000, 2500, 3250, 3590, 2500, 4795, 4595, 8000, 2000, 3295, 1938, 2300, 2261, 6800, 5500, 5000, 4490, 2900, 4895, 3600, 3700, 1950, 2500, 3250, 1800, 3500, 2100, 4300, 5429, 4200, 3800, 4580, 3495, 2400, 2965, 4295, 1950, 2500, 2659, 3476, 1450, 1875, 3400, 3350, 3495, 1995, 3995, 2150, 4308, 2850, 2500, 2695, 4875, 6078, 3000, 1899, 2600, 2700, 2550, 2795, 1900, 2400, 5125, 3100, 3500, 1400, 3295, 3200, 1875, 4550, 3400, 3326, 2950, 2149, 2350, 2550, 3250, 1900, 3500, 3070, 1550, 2700, 11750, 2000, 2400, 2999, 2800, 2925, 2295, 4895, 5475, 2850, 1995, 3750, 4095, 6250, 5095, 2550, 2700, 6095, 4495, 2300, 2100, 2295, 2850, 3150, 1800, 2699, 2950, 3250, 3000, 2695, 3295, 2500, 2400, 2300, 1850, 3790, 5000, 2650, 3400, 6350, 2500, 3000, 3995, 3855, 3300, 3900, 4500, 1850, 2100, 3800, 2000, 3295, 2400, 3164, 2100, 3100, 2850, 3000, 2175, 5529, 2750, 3937, 6000, 2900, 2700, 2000, 4295, 1575, 3130, 3000, 2950, 2890, 2500, 6995, 2200, 2850, 6900, 2795, 2350, 5109, 4900, 4700, 2600, 3200, 5895, 5500, 4295, 2650, 3300, 2849, 6000, 1850, 2410, 3900, 2200, 3195, 3690, 3200, 4300, 3500, 2000, 3500, 1900, 5094, 3500, 3700, 5295, 2600, 5295, 3900, 2108, 3650, 4600, 4650, 3800, 2495, 3276, 2500, 2900, 3500, 2500, 5595, 3800, 4950, 3700, 1800, 1825, 2700, 6495, 4150, 7350, 2650, 2400, 2100, 2695, 1675, 3095, 3208, 4500, 2300, 4000, 2500, 2295, 3150, 2390, 5400, 2950, 4982, 1825, 3300, 2900, 5750, 3295, 1775, 2495, 4410, 2695, 2995, 2000, 3295, 3450, 1750, 3400, 3200, 4995, 3750, 2860, 1550, 2395, 3800, 2990, 6000, 3000, 1525, 2100, 3350, 3550, 2200, 3295, 3975, 3204, 2195, 2250, 3950, 3500, 3650, 3495, 1987, 2400, 3225, 2950, 7799, 2695, 3200, 1795, 3700, 3700, 4600, 2600, 5700, 3850, 1900, 2300, 3145, 2850, 3740, 4150, 1499, 2600, 4150, 3000, 5550, 4500, 2000, 3695, 2675, 3095, 2300, 2200, 2045, 2495, 1759, 8800, 3300, 3000, 4500, 2700, 2850, 3200, 1750, 3695, 3000, 4200, 2850, 2982, 2600, 2950, 3150, 4595, 1795, 3650, 11800, 3250, 5400, 2290, 15000, 1800, 2195, 15000, 3250, 3995, 3500, 2337, 7794, 5215, 2300, 4250, 2695, 4295, 3289, 2950, 3400, 3244, 1825, 2399, 5765, 2500, 4995, 3200, 1600, 3680, 3000, 4695, 7445, 3050, 3450, 2800, 2750, 3895, 5000, 1950, 6700, 3000, 2075, 3220, 3790, 2795, 2700, 2950, 3745, 2995, 1950, 5399, 3200, 6995, 2100, 3500, 3790, 4500, 3800, 2725, 1495, 2150, 2800, 7031, 2995, 7894, 2795, 2150, 2400, 4425, 13080, 2050, 3295, 2525, 3495, 2300, 2995, 4995, 3240, 4500, 3395, 3850, 3200, 4700, 3000, 6900, 3231, 3650, 1900, 3700, 2850, 2850, 1895, 1600, 3163, 1900, 6995, 4750, 12000, 1550, 2900, 3298, 2000, 1675, 1755, 3800, 3650, 3000, 6500, 2500, 4300, 2195, 6350, 1575, 5100, 2900, 5000, 3000, 1700, 4445, 2275, 2375, 2300, 4500, 3600, 4995, 3800, 3401, 4885, 4595, 1500, 2600, 1775, 2495, 2450, 2100, 3295, 2200, 3200, 2900, 2700, 1605, 1800, 2995, 3250, 4500, 6300, 4065, 6500, 3250, 2900, 3995, 3000, 3465, 1950, 3395, 2970, 2195, 2600, 2150, 4024, 2600, 3318, 4000, 3400, 10700, 3000, 2675, 2800, 3300, 2495, 4100, 6484, 2549, 5750, 3800, 4800, 2950, 3000, 3300, 3290, 4395, 2550, 2299, 2500, 2500, 2676, 2600, 2600, 4500, 3675, 3708, 2245, 3600, 11500, 4475, 2475, 2800, 2750, 3400, 2900, 3400, 2899, 2600, 2600, 4795, 2395, 6900, 5503, 3100, 6000, 2940, 1850, 2595, 2850, 2145, 2645, 4295, 13995, 5450, 3500, 2800, 2650, 4500, 1695, 3200, 2485, 3695, 2150, 4600, 1675, 3330, 2995, 3100, 2395, 2295, 4000, 1750, 1900, 5350, 3125, 4250, 1900, 3500, 3695, 2100, 3138, 3250, 3450, 2799, 3965, 2200, 1775, 4275, 4900, 3000, 3100, 4340, 3200, 2800, 3250, 2500, 7425, 4250, 2195, 4785, 2500, 6000, 2350, 3150, 5800, 3500, 2500, 2995, 3375, 2325, 2500, 11200, 2350, 8000, 5495, 2295, 3300, 2100, 4499, 3200, 3700, 2475, 3300, 3495, 2650, 3900, 4750, 2700, 1775, 6200, 2300, 2650, 1995, 1895, 2995, 2500, 2800, 2350, 3200, 11500, 2550, 5295, 3550, 2850, 2595, 3230, 2700, 3125, 8897, 5395, 3300, 3000, 2250, 3500, 1800, 3595, 2500, 1849, 6295, 4850, 4300, 2400, 2400, 3800, 3784, 2600, 4750, 2600, 3875, 3650, 2700, 5250, 5350, 2500, 3800, 4125, 4450, 2400, 4090, 4000, 3500, 2100, 4904, 5200, 2795, 2450, 4120, 3290, 3200, 2200, 2500, 2350, 3450, 2495, 2050, 3875, 3895, 6314, 10095, 2300, 2900, 4200, 13500, 3550, 3391, 2695, 3075, 3000, 3050, 2895, 2760, 2500, 1750, 2525, 3095, 2050, 2200, 1950, 2495, 2900, 2875, 4800, 2980, 4695, 5100, 5000, 2775, 2700, 2950, 2859, 5895, 3490, 2300, 1500, 4800, 4196, 3662, 3200, 1800, 1800, 2350, 2600, 1850, 2275, 3000, 2550, 2495, 2586, 3400, 4495, 6800, 2175, 3175, 2350, 4295, 3950, 5250, 8254, 2550, 3300, 4450, 1950, 2550, 2650, 2800, 5000, 2875, 6295, 2500, 5000, 5990, 1950, 2962, 3550, 3100, 2995, 2000, 3500, 4900, 1850, 4495, 3300, 6200, 4630, 4900, 3800, 7200, 2155, 1980, 1500, 3200, 2200, 2500, 5200, 2255, 3950, 2995, 4095, 5705, 1899, 1838, 2500, 3900, 2525, 3695, 2800, 5895, 3700, 3900, 7500, 5993, 1875, 3500, 3590, 2950, 3850, 4400, 1650, 2675, 3221, 1900, 2980, 3250, 2895, 2600, 3080, 5000, 1500, 1795, 2400, 3495, 3300, 5000, 1950, 7000, 2200, 6500, 3695, 6500, 1599, 3000, 4000, 2550, 2950, 2618, 2600, 3223, 5860, 2550, 4695, 3050, 2200, 3500, 2750, 2782, 2750, 3300, 2500, 1500, 3166, 2350, 3625, 3900, 2100, 2000, 1800, 3660, 1575, 2492, 2625, 11995, 3500, 3050, 3995, 4600, 4000, 2800, 1950, 2750, 6400, 5456, 3595, 3475, 2895, 1800, 2195, 5300, 2800, 5570, 2295, 7695, 4700, 3675, 5495, 1850, 2375, 1650, 3250, 1550, 3450, 2900, 4000, 1800, 2300, 5200, 2400, 4200, 3400, 3150, 2995, 5000, 2291, 2595, 4000, 2895, 3450, 5395, 5460, 6400, 2950, 3280, 4795, 3100, 2450, 2695, 3575, 3138, 2500, 1750, 2295, 3650, 3075, 6171, 8495, 2495, 2495, 5300, 2500, 2095, 2590, 4700, 3000, 4350, 3384, 2600, 2525, 6450, 2800, 5500, 3200, 3695, 2495, 2695, 3400, 3100, 2700, 8900, 3200, 1700, 1895, 3092, 3300, 2790, 2600, 3100, 3700, 3602, 2850, 3709, 3475, 2100, 2850, 4250, 1800, 6495, 6500, 3050, 3095, 1900, 2800, 3795, 2300, 2465, 3200, 2875, 2475, 2050, 2550, 3895, 4200, 2900, 3150, 14995, 4510, 2695, 4450, 2200, 1850, 3000, 3300, 2108, 6200, 3740, 4170, 2350, 3000, 3300, 4921, 4295, 4120, 2300, 4225, 4525, 3500, 7900, 3779, 2250, 4500, 1600, 7795, 14000, 3650, 4370, 3500, 2450, 7000, 2400, 2800, 2250, 3125, 2250, 2195, 2790, 2999, 5000, 3650, 5495, 4750, 2358, 1500, 4995, 4900, 4134, 3395, 3700, 2500, 2124, 4000, 2682, 3400, 2200, 3064, 2000, 4350, 2840, 3400, 5100, 2500, 2700, 4950, 1595, 3099, 2300, 2800, 3495, 2995, 3495, 4500, 2999, 3900, 2850, 5200, 4795, 3800, 2200, 2700, 2350, 5800, 3475, 2895, 5095, 3350, 4595, 3900, 1550, 2625, 2100, 2340, 4795, 9195, 3950, 2095, 3495, 2725, 2800, 5450, 1900, 11000, 2900, 2399, 4195, 5890, 3300, 4030, 2600, 5495, 2000, 2675, 3200, 1450, 2175, 2475, 3200, 2500, 4650, 6000, 5955, 1950, 4100, 4695, 3000, 4095, 3795, 5100, 2000, 2500, 2495, 4246, 2100, 1950, 3915, 1850, 3000, 2300, 2900, 2500, 2350, 1763, 2395, 1950, 3400, 6475, 4800, 3500, 4000, 1600, 1650, 2375, 5600, 1995, 3020, 2350, 3100, 2600, 4995, 2500, 2150, 2400, 10750, 3650, 4925, 2875, 2800, 4200, 5000, 2850, 2700, 2250, 3695, 3350, 2200, 3100, 6495, 2149, 2495, 1750, 4790, 3595, 2360, 4200, 3695, 3400, 2800, 3100, 3700, 2700, 2888, 1650, 3400, 3650, 3700, 2396, 3795, 3300, 3100, 3700, 2750, 2350, 2295, 1700, 4600, 5200, 5650, 4800, 3282, 3395, 3698, 3650, 2700, 4895, 2500, 2825, 2750, 3300, 3500, 5995, 2599, 2699, 1500, 2908, 2800, 2800, 2000, 3000, 2100, 3600, 4492, 1995, 4095, 4999, 4614, 3600, 3995, 1925, 3365, 2250, 2100, 4000, 3460, 6800, 4525, 3600, 2800, 3700, 2900, 1400, 2446, 2895, 3300, 1695, 3700, 2895, 4000, 1900, 2500, 3100, 5995, 1875, 5595, 2350, 2995, 6500, 7958, 2950, 4795, 4195, 2580, 3695, 3250, 2195, 2200, 2100, 2425, 2500, 6240, 3850, 10570, 2500, 3254, 4300, 3200, 2500, 3500, 2075, 4600, 4165, 7850, 2500, 2750, 2700, 4500, 2700, 7995, 3200, 3140, 4487, 3185, 3340, 3800, 4384, 5000, 6000, 2495, 4600, 3000, 10040, 2700, 5800, 3500, 3020, 2695, 5600, 3200, 3300, 2195, 3695, 2400, 2800, 2200, 3500, 3300, 2100, 1600, 6495, 4200, 14395, 2400, 2600, 4199, 2995, 3495, 4395, 2800, 2750, 3050, 13500, 4000, 1695, 5916, 2200, 3445, 3350, 2800, 1900, 1775, 6000, 4440, 3400, 5200, 3800, 3900, 4950, 5495, 2700, 4595, 4925, 7245, 3800, 2200, 2095, 5295, 5500, 3133, 2795, 3100, 2200, 3800, 3200, 2900, 5100, 6500, 3600, 6100, 1750, 4695, 2990, 2850, 2375, 5450, 2295, 3600, 2650, 3941, 3300, 2550, 3055, 3810, 3350, 3000, 15000, 4500, 2950, 2280, 2975, 2400, 2950, 3300, 4560, 4295, 5500, 2850, 3200, 2800, 3850, 3100, 2300, 3600, 4950, 4133, 2678, 3995, 3800, 4310, 2795, 2000, 2895, 1975, 5995, 1600, 3200, 3550, 3200, 3230, 3495, 3650, 4000, 11955, 3100, 2475, 4395, 2995, 2795, 2492, 2090, 2780, 3400, 2300, 2995, 2900, 3600, 4600, 2480, 2700, 1975, 3900, 1999, 1799, 2300, 12000, 3495, 3695, 5500, 2100, 3300, 2000, 2495, 2550, 3499, 2600, 8000, 4225, 2995, 3000, 2325, 3000, 3750, 3095, 6600, 1700, 4130, 2200, 4000, 1400, 2025, 3300, 3000, 3400, 4895, 2895, 4650, 2700, 9500, 4200, 3675, 3252, 3000, 2550, 2895, 3400, 1999, 7000, 2150, 5700, 5400, 2500, 2400, 3200, 3300, 2095, 2875, 2995, 3001, 2195, 2500, 3400, 2700, 7350, 3200, 3350, 4900, 3300, 4500, 2300, 2650, 2650, 7100, 3400, 1995, 4800, 2250, 4750, 4100, 3500, 2500, 3490, 4425, 1800, 2500, 2500, 5600, 2550, 5300, 4295, 3359, 3180, 3500, 5200, 6090, 2150, 4695, 2900, 4495, 2750, 2000, 2400, 5000, 3550, 3350, 2950, 3090, 8495, 4825, 2150, 2500, 3950, 2350, 6555, 2995, 10500, 2700, 4510, 4975, 1850, 2950, 2700, 4300, 2100, 2850, 2250, 6500, 2990, 2500, 2750, 3195, 2400, 3995, 2975, 3100, 2500, 3000, 3050, 3900, 2000, 2700, 3350, 3200, 2566, 3025, 4800, 5250, 4354, 7794, 2650, 2475, 3800, 2950, 3400, 2795, 2383, 4600, 3100, 2240, 2850, 3292, 2200, 2750, 2300, 1795, 2140, 3840, 3800, 3895, 3115, 1750, 2100, 4695, 2450, 3495, 5695, 6150, 3300, 3595, 2800, 5795, 2500, 1900, 2300, 2350, 4400, 3600, 2550, 2600, 2538, 2995, 2750, 2900, 3725, 3500, 7000, 14250, 2500, 2925, 4022, 3625, 4900, 5500, 3195, 2400, 4350, 1800, 2995, 2995, 3700, 3900, 3500, 2000, 2750, 5500, 2375, 2696, 1550, 2695, 4425, 4295, 3450, 5035, 3500, 2495, 4100, 4700, 2775, 3895, 2300, 4995, 4332, 4000, 3095, 2450, 3195, 3695, 2695, 2950, 2850, 2995, 2098, 2200, 1800, 6200, 3941, 2720, 4195, 2740, 2500, 2239, 4250, 4500, 2795, 2696, 3495, 4670, 3500, 4950, 2650, 2500, 2700, 2295, 2570, 4500, 1695, 2284, 3295, 2150, 6272, 3535, 2195, 3695, 5000, 3346, 3600, 3995, 4495, 2350, 3050, 3250, 6375, 3150, 4495, 3692, 5000, 1800, 2400, 4395, 3795, 4800, 4495, 3100, 1775, 2350, 1500, 13700, 2960, 10000, 6100, 4750, 2100, 9500, 5250, 3850, 2250, 10250, 2250, 5200, 2075, 4895, 3200, 2400, 1900, 2175, 3999, 2150, 2475, 3400, 6800, 3000, 3550, 4995, 1875, 2595, 6100, 2600, 2600, 4295, 3200, 2600, 1800, 3295, 1755, 3507, 2200, 3300, 2050, 4200, 2500, 2050, 2475, 2250, 3300, 2195, 3450, 2500, 3500, 3995, 2300, 3100, 5100, 5400, 15000, 3250, 5000, 2975, 1550, 12500, 4875, 2200, 3700, 3000, 1575, 2650, 3900, 2300, 3641, 2950, 3350, 2400, 2825, 4535, 3370, 3250, 5795, 4900, 2075, 2300, 3126, 3200, 3100, 5000, 4500, 3695, 2300, 6275, 3500, 2250, 3400, 3625, 3527, 2275, 2100, 1500, 1875, 2900, 3100, 2954, 3800, 3625, 10650, 3126, 3325, 2100, 3500, 11950, 2980, 2850, 2885, 2950, 2650, 3475, 5815, 2050, 4600, 2000, 9200, 4550, 1900, 2500, 2500, 2675, 3645, 2179, 4500, 3950, 2595, 3350, 2200], \"yaxis\": \"y\"}],\n",
              "                        {\"legend\": {\"tracegroupgap\": 0}, \"template\": {\"data\": {\"bar\": [{\"error_x\": {\"color\": \"#2a3f5f\"}, \"error_y\": {\"color\": \"#2a3f5f\"}, \"marker\": {\"line\": {\"color\": \"#E5ECF6\", \"width\": 0.5}}, \"type\": \"bar\"}], \"barpolar\": [{\"marker\": {\"line\": {\"color\": \"#E5ECF6\", \"width\": 0.5}}, \"type\": \"barpolar\"}], \"carpet\": [{\"aaxis\": {\"endlinecolor\": \"#2a3f5f\", \"gridcolor\": \"white\", \"linecolor\": \"white\", \"minorgridcolor\": \"white\", \"startlinecolor\": \"#2a3f5f\"}, \"baxis\": {\"endlinecolor\": \"#2a3f5f\", \"gridcolor\": \"white\", \"linecolor\": \"white\", \"minorgridcolor\": \"white\", \"startlinecolor\": \"#2a3f5f\"}, \"type\": \"carpet\"}], \"choropleth\": [{\"colorbar\": {\"outlinewidth\": 0, \"ticks\": \"\"}, \"type\": \"choropleth\"}], \"contour\": [{\"colorbar\": {\"outlinewidth\": 0, \"ticks\": \"\"}, \"colorscale\": [[0.0, \"#0d0887\"], [0.1111111111111111, \"#46039f\"], [0.2222222222222222, \"#7201a8\"], [0.3333333333333333, \"#9c179e\"], [0.4444444444444444, \"#bd3786\"], [0.5555555555555556, \"#d8576b\"], [0.6666666666666666, \"#ed7953\"], [0.7777777777777778, \"#fb9f3a\"], [0.8888888888888888, \"#fdca26\"], [1.0, \"#f0f921\"]], \"type\": \"contour\"}], \"contourcarpet\": [{\"colorbar\": {\"outlinewidth\": 0, \"ticks\": \"\"}, \"type\": \"contourcarpet\"}], \"heatmap\": [{\"colorbar\": {\"outlinewidth\": 0, \"ticks\": \"\"}, \"colorscale\": [[0.0, \"#0d0887\"], [0.1111111111111111, \"#46039f\"], [0.2222222222222222, \"#7201a8\"], [0.3333333333333333, \"#9c179e\"], [0.4444444444444444, \"#bd3786\"], [0.5555555555555556, \"#d8576b\"], [0.6666666666666666, \"#ed7953\"], [0.7777777777777778, \"#fb9f3a\"], [0.8888888888888888, \"#fdca26\"], [1.0, \"#f0f921\"]], \"type\": \"heatmap\"}], \"heatmapgl\": [{\"colorbar\": {\"outlinewidth\": 0, \"ticks\": \"\"}, \"colorscale\": [[0.0, \"#0d0887\"], [0.1111111111111111, \"#46039f\"], [0.2222222222222222, \"#7201a8\"], [0.3333333333333333, \"#9c179e\"], [0.4444444444444444, \"#bd3786\"], [0.5555555555555556, \"#d8576b\"], [0.6666666666666666, \"#ed7953\"], [0.7777777777777778, \"#fb9f3a\"], [0.8888888888888888, \"#fdca26\"], [1.0, \"#f0f921\"]], \"type\": \"heatmapgl\"}], \"histogram\": [{\"marker\": {\"colorbar\": {\"outlinewidth\": 0, \"ticks\": \"\"}}, \"type\": \"histogram\"}], \"histogram2d\": [{\"colorbar\": {\"outlinewidth\": 0, \"ticks\": \"\"}, \"colorscale\": [[0.0, \"#0d0887\"], [0.1111111111111111, \"#46039f\"], [0.2222222222222222, \"#7201a8\"], [0.3333333333333333, \"#9c179e\"], [0.4444444444444444, \"#bd3786\"], [0.5555555555555556, \"#d8576b\"], [0.6666666666666666, \"#ed7953\"], [0.7777777777777778, \"#fb9f3a\"], [0.8888888888888888, \"#fdca26\"], [1.0, \"#f0f921\"]], \"type\": \"histogram2d\"}], \"histogram2dcontour\": [{\"colorbar\": {\"outlinewidth\": 0, \"ticks\": \"\"}, \"colorscale\": [[0.0, \"#0d0887\"], [0.1111111111111111, \"#46039f\"], [0.2222222222222222, \"#7201a8\"], [0.3333333333333333, \"#9c179e\"], [0.4444444444444444, \"#bd3786\"], [0.5555555555555556, \"#d8576b\"], [0.6666666666666666, \"#ed7953\"], [0.7777777777777778, \"#fb9f3a\"], [0.8888888888888888, \"#fdca26\"], [1.0, \"#f0f921\"]], \"type\": \"histogram2dcontour\"}], \"mesh3d\": [{\"colorbar\": {\"outlinewidth\": 0, \"ticks\": \"\"}, \"type\": \"mesh3d\"}], \"parcoords\": [{\"line\": {\"colorbar\": {\"outlinewidth\": 0, \"ticks\": \"\"}}, \"type\": \"parcoords\"}], \"pie\": [{\"automargin\": true, \"type\": \"pie\"}], \"scatter\": [{\"marker\": {\"colorbar\": {\"outlinewidth\": 0, \"ticks\": \"\"}}, \"type\": \"scatter\"}], \"scatter3d\": [{\"line\": {\"colorbar\": {\"outlinewidth\": 0, \"ticks\": \"\"}}, \"marker\": {\"colorbar\": {\"outlinewidth\": 0, \"ticks\": \"\"}}, \"type\": \"scatter3d\"}], \"scattercarpet\": [{\"marker\": {\"colorbar\": {\"outlinewidth\": 0, \"ticks\": \"\"}}, \"type\": \"scattercarpet\"}], \"scattergeo\": [{\"marker\": {\"colorbar\": {\"outlinewidth\": 0, \"ticks\": \"\"}}, \"type\": \"scattergeo\"}], \"scattergl\": [{\"marker\": {\"colorbar\": {\"outlinewidth\": 0, \"ticks\": \"\"}}, \"type\": \"scattergl\"}], \"scattermapbox\": [{\"marker\": {\"colorbar\": {\"outlinewidth\": 0, \"ticks\": \"\"}}, \"type\": \"scattermapbox\"}], \"scatterpolar\": [{\"marker\": {\"colorbar\": {\"outlinewidth\": 0, \"ticks\": \"\"}}, \"type\": \"scatterpolar\"}], \"scatterpolargl\": [{\"marker\": {\"colorbar\": {\"outlinewidth\": 0, \"ticks\": \"\"}}, \"type\": \"scatterpolargl\"}], \"scatterternary\": [{\"marker\": {\"colorbar\": {\"outlinewidth\": 0, \"ticks\": \"\"}}, \"type\": \"scatterternary\"}], \"surface\": [{\"colorbar\": {\"outlinewidth\": 0, \"ticks\": \"\"}, \"colorscale\": [[0.0, \"#0d0887\"], [0.1111111111111111, \"#46039f\"], [0.2222222222222222, \"#7201a8\"], [0.3333333333333333, \"#9c179e\"], [0.4444444444444444, \"#bd3786\"], [0.5555555555555556, \"#d8576b\"], [0.6666666666666666, \"#ed7953\"], [0.7777777777777778, \"#fb9f3a\"], [0.8888888888888888, \"#fdca26\"], [1.0, \"#f0f921\"]], \"type\": \"surface\"}], \"table\": [{\"cells\": {\"fill\": {\"color\": \"#EBF0F8\"}, \"line\": {\"color\": \"white\"}}, \"header\": {\"fill\": {\"color\": \"#C8D4E3\"}, \"line\": {\"color\": \"white\"}}, \"type\": \"table\"}]}, \"layout\": {\"annotationdefaults\": {\"arrowcolor\": \"#2a3f5f\", \"arrowhead\": 0, \"arrowwidth\": 1}, \"coloraxis\": {\"colorbar\": {\"outlinewidth\": 0, \"ticks\": \"\"}}, \"colorscale\": {\"diverging\": [[0, \"#8e0152\"], [0.1, \"#c51b7d\"], [0.2, \"#de77ae\"], [0.3, \"#f1b6da\"], [0.4, \"#fde0ef\"], [0.5, \"#f7f7f7\"], [0.6, \"#e6f5d0\"], [0.7, \"#b8e186\"], [0.8, \"#7fbc41\"], [0.9, \"#4d9221\"], [1, \"#276419\"]], \"sequential\": [[0.0, \"#0d0887\"], [0.1111111111111111, \"#46039f\"], [0.2222222222222222, \"#7201a8\"], [0.3333333333333333, \"#9c179e\"], [0.4444444444444444, \"#bd3786\"], [0.5555555555555556, \"#d8576b\"], [0.6666666666666666, \"#ed7953\"], [0.7777777777777778, \"#fb9f3a\"], [0.8888888888888888, \"#fdca26\"], [1.0, \"#f0f921\"]], \"sequentialminus\": [[0.0, \"#0d0887\"], [0.1111111111111111, \"#46039f\"], [0.2222222222222222, \"#7201a8\"], [0.3333333333333333, \"#9c179e\"], [0.4444444444444444, \"#bd3786\"], [0.5555555555555556, \"#d8576b\"], [0.6666666666666666, \"#ed7953\"], [0.7777777777777778, \"#fb9f3a\"], [0.8888888888888888, \"#fdca26\"], [1.0, \"#f0f921\"]]}, \"colorway\": [\"#636efa\", \"#EF553B\", \"#00cc96\", \"#ab63fa\", \"#FFA15A\", \"#19d3f3\", \"#FF6692\", \"#B6E880\", \"#FF97FF\", \"#FECB52\"], \"font\": {\"color\": \"#2a3f5f\"}, \"geo\": {\"bgcolor\": \"white\", \"lakecolor\": \"white\", \"landcolor\": \"#E5ECF6\", \"showlakes\": true, \"showland\": true, \"subunitcolor\": \"white\"}, \"hoverlabel\": {\"align\": \"left\"}, \"hovermode\": \"closest\", \"mapbox\": {\"style\": \"light\"}, \"paper_bgcolor\": \"white\", \"plot_bgcolor\": \"#E5ECF6\", \"polar\": {\"angularaxis\": {\"gridcolor\": \"white\", \"linecolor\": \"white\", \"ticks\": \"\"}, \"bgcolor\": \"#E5ECF6\", \"radialaxis\": {\"gridcolor\": \"white\", \"linecolor\": \"white\", \"ticks\": \"\"}}, \"scene\": {\"xaxis\": {\"backgroundcolor\": \"#E5ECF6\", \"gridcolor\": \"white\", \"gridwidth\": 2, \"linecolor\": \"white\", \"showbackground\": true, \"ticks\": \"\", \"zerolinecolor\": \"white\"}, \"yaxis\": {\"backgroundcolor\": \"#E5ECF6\", \"gridcolor\": \"white\", \"gridwidth\": 2, \"linecolor\": \"white\", \"showbackground\": true, \"ticks\": \"\", \"zerolinecolor\": \"white\"}, \"zaxis\": {\"backgroundcolor\": \"#E5ECF6\", \"gridcolor\": \"white\", \"gridwidth\": 2, \"linecolor\": \"white\", \"showbackground\": true, \"ticks\": \"\", \"zerolinecolor\": \"white\"}}, \"shapedefaults\": {\"line\": {\"color\": \"#2a3f5f\"}}, \"ternary\": {\"aaxis\": {\"gridcolor\": \"white\", \"linecolor\": \"white\", \"ticks\": \"\"}, \"baxis\": {\"gridcolor\": \"white\", \"linecolor\": \"white\", \"ticks\": \"\"}, \"bgcolor\": \"#E5ECF6\", \"caxis\": {\"gridcolor\": \"white\", \"linecolor\": \"white\", \"ticks\": \"\"}}, \"title\": {\"x\": 0.05}, \"xaxis\": {\"automargin\": true, \"gridcolor\": \"white\", \"linecolor\": \"white\", \"ticks\": \"\", \"title\": {\"standoff\": 15}, \"zerolinecolor\": \"white\", \"zerolinewidth\": 2}, \"yaxis\": {\"automargin\": true, \"gridcolor\": \"white\", \"linecolor\": \"white\", \"ticks\": \"\", \"title\": {\"standoff\": 15}, \"zerolinecolor\": \"white\", \"zerolinewidth\": 2}}}, \"title\": {\"text\": \"NYC Apartment Rent, April-June, 2016\"}, \"xaxis\": {\"anchor\": \"y\", \"domain\": [0.0, 1.0], \"title\": {\"text\": \"bedrooms\"}}, \"yaxis\": {\"anchor\": \"x\", \"domain\": [0.0, 1.0], \"title\": {\"text\": \"y\"}}},\n",
              "                        {\"responsive\": true}\n",
              "                    ).then(function(){\n",
              "                            \n",
              "var gd = document.getElementById('9208cf95-9766-48ea-9544-282ad4f5dd0f');\n",
              "var x = new MutationObserver(function (mutations, observer) {{\n",
              "        var display = window.getComputedStyle(gd).display;\n",
              "        if (!display || display === 'none') {{\n",
              "            console.log([gd, 'removed!']);\n",
              "            Plotly.purge(gd);\n",
              "            observer.disconnect();\n",
              "        }}\n",
              "}});\n",
              "\n",
              "// Listen for the removal of the full notebook cells\n",
              "var notebookContainer = gd.closest('#notebook-container');\n",
              "if (notebookContainer) {{\n",
              "    x.observe(notebookContainer, {childList: true});\n",
              "}}\n",
              "\n",
              "// Listen for the clearing of the current output cell\n",
              "var outputEl = gd.closest('.output');\n",
              "if (outputEl) {{\n",
              "    x.observe(outputEl, {childList: true});\n",
              "}}\n",
              "\n",
              "                        })\n",
              "                };\n",
              "                \n",
              "            </script>\n",
              "        </div>\n",
              "</body>\n",
              "</html>"
            ]
          },
          "metadata": {
            "tags": []
          }
        }
      ]
    },
    {
      "cell_type": "code",
      "metadata": {
        "id": "MY0zaQAgOLfF",
        "colab_type": "code",
        "colab": {}
      },
      "source": [
        "# 1. Import the appropriate estimator class from Scikit-Learn\n",
        "from sklearn.linear_model import LinearRegression"
      ],
      "execution_count": 45,
      "outputs": []
    },
    {
      "cell_type": "code",
      "metadata": {
        "id": "X_rfLBwvOkBV",
        "colab_type": "code",
        "colab": {}
      },
      "source": [
        "# 2. Instantiate this class\n",
        "model = LinearRegression()"
      ],
      "execution_count": 46,
      "outputs": []
    },
    {
      "cell_type": "code",
      "metadata": {
        "id": "p9k6hYATO2hL",
        "colab_type": "code",
        "colab": {}
      },
      "source": [
        "# split the X and y already done above"
      ],
      "execution_count": null,
      "outputs": []
    },
    {
      "cell_type": "code",
      "metadata": {
        "id": "kEiWxQsZOlgk",
        "colab_type": "code",
        "colab": {
          "base_uri": "https://localhost:8080/",
          "height": 35
        },
        "outputId": "230848a1-f469-4bd7-ba7e-566c8cad5a68"
      },
      "source": [
        "# 4. Fit the model\n",
        "model.fit(X_train[['bedrooms']], y_train)\n",
        "y_pred = model.predict(X_train[['bedrooms']])\n",
        "mae = mean_absolute_error(y_train, y_pred)\n",
        "print(f'Train Error: {mae:.2f} dollars')"
      ],
      "execution_count": 47,
      "outputs": [
        {
          "output_type": "stream",
          "text": [
            "Train Error: 969.88 dollars\n"
          ],
          "name": "stdout"
        }
      ]
    },
    {
      "cell_type": "code",
      "metadata": {
        "id": "r4_mOdtkPYMh",
        "colab_type": "code",
        "colab": {
          "base_uri": "https://localhost:8080/",
          "height": 35
        },
        "outputId": "79a17d44-7860-4314-ebba-af551d44c1a1"
      },
      "source": [
        "# 5. Apply the model to new data\n",
        "y_pred = model.predict(X_test[['bedrooms']])\n",
        "mae = mean_absolute_error(y_test, y_pred)\n",
        "print(f'Test Error: {mae:.2f} dollars')"
      ],
      "execution_count": 48,
      "outputs": [
        {
          "output_type": "stream",
          "text": [
            "Test Error: 988.73 dollars\n"
          ],
          "name": "stdout"
        }
      ]
    },
    {
      "cell_type": "markdown",
      "metadata": {
        "id": "b5eYux2zUoYZ",
        "colab_type": "text"
      },
      "source": [
        "Compare to the baslines or 0 feature to 1 feature, the mean absolute error of diference about 250 dollars"
      ]
    },
    {
      "cell_type": "code",
      "metadata": {
        "id": "YarC8GdFUmAQ",
        "colab_type": "code",
        "colab": {}
      },
      "source": [
        "# predicting using more than 1 features\n",
        "y1 = df['price']\n",
        "X1 = df[['bedrooms', 'bathrooms']]"
      ],
      "execution_count": 79,
      "outputs": []
    },
    {
      "cell_type": "code",
      "metadata": {
        "id": "dczZWLcOkKn5",
        "colab_type": "code",
        "colab": {
          "base_uri": "https://localhost:8080/",
          "height": 517
        },
        "outputId": "eaa38c61-df3e-4b22-d878-5c41f600212b"
      },
      "source": [
        "# Split the dataframe into train and test according to the given condition \n",
        "X1_train = X[((X['created']>='2016-04-01 00:00:00') & (X['created']<'2016-06-01 00:00:00'))]\n",
        "X1_train.head()"
      ],
      "execution_count": 80,
      "outputs": [
        {
          "output_type": "execute_result",
          "data": {
            "text/html": [
              "<div>\n",
              "<style scoped>\n",
              "    .dataframe tbody tr th:only-of-type {\n",
              "        vertical-align: middle;\n",
              "    }\n",
              "\n",
              "    .dataframe tbody tr th {\n",
              "        vertical-align: top;\n",
              "    }\n",
              "\n",
              "    .dataframe thead th {\n",
              "        text-align: right;\n",
              "    }\n",
              "</style>\n",
              "<table border=\"1\" class=\"dataframe\">\n",
              "  <thead>\n",
              "    <tr style=\"text-align: right;\">\n",
              "      <th></th>\n",
              "      <th>bathrooms</th>\n",
              "      <th>bedrooms</th>\n",
              "      <th>created</th>\n",
              "      <th>description</th>\n",
              "      <th>display_address</th>\n",
              "      <th>latitude</th>\n",
              "      <th>longitude</th>\n",
              "      <th>street_address</th>\n",
              "      <th>interest_level</th>\n",
              "      <th>elevator</th>\n",
              "      <th>cats_allowed</th>\n",
              "      <th>hardwood_floors</th>\n",
              "      <th>dogs_allowed</th>\n",
              "      <th>doorman</th>\n",
              "      <th>dishwasher</th>\n",
              "      <th>no_fee</th>\n",
              "      <th>laundry_in_building</th>\n",
              "      <th>fitness_center</th>\n",
              "      <th>pre-war</th>\n",
              "      <th>laundry_in_unit</th>\n",
              "      <th>roof_deck</th>\n",
              "      <th>outdoor_space</th>\n",
              "      <th>dining_room</th>\n",
              "      <th>high_speed_internet</th>\n",
              "      <th>balcony</th>\n",
              "      <th>swimming_pool</th>\n",
              "      <th>new_construction</th>\n",
              "      <th>terrace</th>\n",
              "      <th>exclusive</th>\n",
              "      <th>loft</th>\n",
              "      <th>garden_patio</th>\n",
              "      <th>wheelchair_access</th>\n",
              "      <th>common_outdoor_space</th>\n",
              "    </tr>\n",
              "  </thead>\n",
              "  <tbody>\n",
              "    <tr>\n",
              "      <th>2</th>\n",
              "      <td>1.0</td>\n",
              "      <td>1</td>\n",
              "      <td>2016-04-17 03:26:41</td>\n",
              "      <td>Top Top West Village location, beautiful Pre-w...</td>\n",
              "      <td>W 13 Street</td>\n",
              "      <td>40.7388</td>\n",
              "      <td>-74.0018</td>\n",
              "      <td>241 W 13 Street</td>\n",
              "      <td>high</td>\n",
              "      <td>0</td>\n",
              "      <td>0</td>\n",
              "      <td>1</td>\n",
              "      <td>0</td>\n",
              "      <td>0</td>\n",
              "      <td>1</td>\n",
              "      <td>0</td>\n",
              "      <td>1</td>\n",
              "      <td>0</td>\n",
              "      <td>0</td>\n",
              "      <td>0</td>\n",
              "      <td>0</td>\n",
              "      <td>0</td>\n",
              "      <td>0</td>\n",
              "      <td>0</td>\n",
              "      <td>0</td>\n",
              "      <td>0</td>\n",
              "      <td>0</td>\n",
              "      <td>0</td>\n",
              "      <td>0</td>\n",
              "      <td>0</td>\n",
              "      <td>0</td>\n",
              "      <td>0</td>\n",
              "      <td>0</td>\n",
              "    </tr>\n",
              "    <tr>\n",
              "      <th>3</th>\n",
              "      <td>1.0</td>\n",
              "      <td>1</td>\n",
              "      <td>2016-04-18 02:22:02</td>\n",
              "      <td>Building Amenities - Garage - Garden - fitness...</td>\n",
              "      <td>East 49th Street</td>\n",
              "      <td>40.7539</td>\n",
              "      <td>-73.9677</td>\n",
              "      <td>333 East 49th Street</td>\n",
              "      <td>low</td>\n",
              "      <td>0</td>\n",
              "      <td>0</td>\n",
              "      <td>1</td>\n",
              "      <td>0</td>\n",
              "      <td>0</td>\n",
              "      <td>0</td>\n",
              "      <td>1</td>\n",
              "      <td>0</td>\n",
              "      <td>0</td>\n",
              "      <td>0</td>\n",
              "      <td>0</td>\n",
              "      <td>0</td>\n",
              "      <td>0</td>\n",
              "      <td>0</td>\n",
              "      <td>0</td>\n",
              "      <td>0</td>\n",
              "      <td>0</td>\n",
              "      <td>0</td>\n",
              "      <td>0</td>\n",
              "      <td>0</td>\n",
              "      <td>0</td>\n",
              "      <td>0</td>\n",
              "      <td>0</td>\n",
              "      <td>0</td>\n",
              "    </tr>\n",
              "    <tr>\n",
              "      <th>4</th>\n",
              "      <td>1.0</td>\n",
              "      <td>4</td>\n",
              "      <td>2016-04-28 01:32:41</td>\n",
              "      <td>Beautifully renovated 3 bedroom flex 4 bedroom...</td>\n",
              "      <td>West 143rd Street</td>\n",
              "      <td>40.8241</td>\n",
              "      <td>-73.9493</td>\n",
              "      <td>500 West 143rd Street</td>\n",
              "      <td>low</td>\n",
              "      <td>0</td>\n",
              "      <td>0</td>\n",
              "      <td>0</td>\n",
              "      <td>0</td>\n",
              "      <td>0</td>\n",
              "      <td>0</td>\n",
              "      <td>0</td>\n",
              "      <td>0</td>\n",
              "      <td>0</td>\n",
              "      <td>1</td>\n",
              "      <td>0</td>\n",
              "      <td>0</td>\n",
              "      <td>0</td>\n",
              "      <td>0</td>\n",
              "      <td>0</td>\n",
              "      <td>0</td>\n",
              "      <td>0</td>\n",
              "      <td>0</td>\n",
              "      <td>0</td>\n",
              "      <td>0</td>\n",
              "      <td>0</td>\n",
              "      <td>0</td>\n",
              "      <td>0</td>\n",
              "      <td>0</td>\n",
              "    </tr>\n",
              "    <tr>\n",
              "      <th>5</th>\n",
              "      <td>2.0</td>\n",
              "      <td>4</td>\n",
              "      <td>2016-04-19 04:24:47</td>\n",
              "      <td></td>\n",
              "      <td>West 18th Street</td>\n",
              "      <td>40.7429</td>\n",
              "      <td>-74.0028</td>\n",
              "      <td>350 West 18th Street</td>\n",
              "      <td>medium</td>\n",
              "      <td>0</td>\n",
              "      <td>0</td>\n",
              "      <td>0</td>\n",
              "      <td>0</td>\n",
              "      <td>0</td>\n",
              "      <td>0</td>\n",
              "      <td>0</td>\n",
              "      <td>0</td>\n",
              "      <td>0</td>\n",
              "      <td>0</td>\n",
              "      <td>0</td>\n",
              "      <td>0</td>\n",
              "      <td>0</td>\n",
              "      <td>0</td>\n",
              "      <td>0</td>\n",
              "      <td>0</td>\n",
              "      <td>0</td>\n",
              "      <td>0</td>\n",
              "      <td>0</td>\n",
              "      <td>0</td>\n",
              "      <td>0</td>\n",
              "      <td>0</td>\n",
              "      <td>0</td>\n",
              "      <td>0</td>\n",
              "    </tr>\n",
              "    <tr>\n",
              "      <th>6</th>\n",
              "      <td>1.0</td>\n",
              "      <td>2</td>\n",
              "      <td>2016-04-27 03:19:56</td>\n",
              "      <td>Stunning unit with a great location and lots o...</td>\n",
              "      <td>West 107th Street</td>\n",
              "      <td>40.8012</td>\n",
              "      <td>-73.9660</td>\n",
              "      <td>210 West 107th Street</td>\n",
              "      <td>low</td>\n",
              "      <td>0</td>\n",
              "      <td>1</td>\n",
              "      <td>0</td>\n",
              "      <td>1</td>\n",
              "      <td>0</td>\n",
              "      <td>0</td>\n",
              "      <td>1</td>\n",
              "      <td>0</td>\n",
              "      <td>0</td>\n",
              "      <td>0</td>\n",
              "      <td>0</td>\n",
              "      <td>0</td>\n",
              "      <td>0</td>\n",
              "      <td>0</td>\n",
              "      <td>0</td>\n",
              "      <td>0</td>\n",
              "      <td>0</td>\n",
              "      <td>0</td>\n",
              "      <td>0</td>\n",
              "      <td>0</td>\n",
              "      <td>0</td>\n",
              "      <td>0</td>\n",
              "      <td>0</td>\n",
              "      <td>0</td>\n",
              "    </tr>\n",
              "  </tbody>\n",
              "</table>\n",
              "</div>"
            ],
            "text/plain": [
              "   bathrooms  bedrooms  ... wheelchair_access common_outdoor_space\n",
              "2        1.0         1  ...                 0                    0\n",
              "3        1.0         1  ...                 0                    0\n",
              "4        1.0         4  ...                 0                    0\n",
              "5        2.0         4  ...                 0                    0\n",
              "6        1.0         2  ...                 0                    0\n",
              "\n",
              "[5 rows x 33 columns]"
            ]
          },
          "metadata": {
            "tags": []
          },
          "execution_count": 80
        }
      ]
    },
    {
      "cell_type": "code",
      "metadata": {
        "id": "w-CCnSTNmJlt",
        "colab_type": "code",
        "colab": {
          "base_uri": "https://localhost:8080/",
          "height": 517
        },
        "outputId": "291c1b07-c589-4299-fc4e-3d5094b6a3d2"
      },
      "source": [
        "X1_test = X[((X['created']>='2016-06-01 00:00:00') & (X['created']<'2016-07-01 00:00:00'))]\n",
        "X1_test.head()"
      ],
      "execution_count": 58,
      "outputs": [
        {
          "output_type": "execute_result",
          "data": {
            "text/html": [
              "<div>\n",
              "<style scoped>\n",
              "    .dataframe tbody tr th:only-of-type {\n",
              "        vertical-align: middle;\n",
              "    }\n",
              "\n",
              "    .dataframe tbody tr th {\n",
              "        vertical-align: top;\n",
              "    }\n",
              "\n",
              "    .dataframe thead th {\n",
              "        text-align: right;\n",
              "    }\n",
              "</style>\n",
              "<table border=\"1\" class=\"dataframe\">\n",
              "  <thead>\n",
              "    <tr style=\"text-align: right;\">\n",
              "      <th></th>\n",
              "      <th>bathrooms</th>\n",
              "      <th>bedrooms</th>\n",
              "      <th>created</th>\n",
              "      <th>description</th>\n",
              "      <th>display_address</th>\n",
              "      <th>latitude</th>\n",
              "      <th>longitude</th>\n",
              "      <th>street_address</th>\n",
              "      <th>interest_level</th>\n",
              "      <th>elevator</th>\n",
              "      <th>cats_allowed</th>\n",
              "      <th>hardwood_floors</th>\n",
              "      <th>dogs_allowed</th>\n",
              "      <th>doorman</th>\n",
              "      <th>dishwasher</th>\n",
              "      <th>no_fee</th>\n",
              "      <th>laundry_in_building</th>\n",
              "      <th>fitness_center</th>\n",
              "      <th>pre-war</th>\n",
              "      <th>laundry_in_unit</th>\n",
              "      <th>roof_deck</th>\n",
              "      <th>outdoor_space</th>\n",
              "      <th>dining_room</th>\n",
              "      <th>high_speed_internet</th>\n",
              "      <th>balcony</th>\n",
              "      <th>swimming_pool</th>\n",
              "      <th>new_construction</th>\n",
              "      <th>terrace</th>\n",
              "      <th>exclusive</th>\n",
              "      <th>loft</th>\n",
              "      <th>garden_patio</th>\n",
              "      <th>wheelchair_access</th>\n",
              "      <th>common_outdoor_space</th>\n",
              "    </tr>\n",
              "  </thead>\n",
              "  <tbody>\n",
              "    <tr>\n",
              "      <th>0</th>\n",
              "      <td>1.5</td>\n",
              "      <td>3</td>\n",
              "      <td>2016-06-24 07:54:24</td>\n",
              "      <td>A Brand New 3 Bedroom 1.5 bath ApartmentEnjoy ...</td>\n",
              "      <td>Metropolitan Avenue</td>\n",
              "      <td>40.7145</td>\n",
              "      <td>-73.9425</td>\n",
              "      <td>792 Metropolitan Avenue</td>\n",
              "      <td>medium</td>\n",
              "      <td>0</td>\n",
              "      <td>0</td>\n",
              "      <td>0</td>\n",
              "      <td>0</td>\n",
              "      <td>0</td>\n",
              "      <td>0</td>\n",
              "      <td>0</td>\n",
              "      <td>0</td>\n",
              "      <td>0</td>\n",
              "      <td>0</td>\n",
              "      <td>0</td>\n",
              "      <td>0</td>\n",
              "      <td>0</td>\n",
              "      <td>0</td>\n",
              "      <td>0</td>\n",
              "      <td>0</td>\n",
              "      <td>0</td>\n",
              "      <td>0</td>\n",
              "      <td>0</td>\n",
              "      <td>0</td>\n",
              "      <td>0</td>\n",
              "      <td>0</td>\n",
              "      <td>0</td>\n",
              "      <td>0</td>\n",
              "    </tr>\n",
              "    <tr>\n",
              "      <th>1</th>\n",
              "      <td>1.0</td>\n",
              "      <td>2</td>\n",
              "      <td>2016-06-12 12:19:27</td>\n",
              "      <td></td>\n",
              "      <td>Columbus Avenue</td>\n",
              "      <td>40.7947</td>\n",
              "      <td>-73.9667</td>\n",
              "      <td>808 Columbus Avenue</td>\n",
              "      <td>low</td>\n",
              "      <td>1</td>\n",
              "      <td>1</td>\n",
              "      <td>0</td>\n",
              "      <td>1</td>\n",
              "      <td>1</td>\n",
              "      <td>0</td>\n",
              "      <td>0</td>\n",
              "      <td>0</td>\n",
              "      <td>1</td>\n",
              "      <td>0</td>\n",
              "      <td>0</td>\n",
              "      <td>0</td>\n",
              "      <td>0</td>\n",
              "      <td>0</td>\n",
              "      <td>0</td>\n",
              "      <td>0</td>\n",
              "      <td>0</td>\n",
              "      <td>0</td>\n",
              "      <td>0</td>\n",
              "      <td>0</td>\n",
              "      <td>0</td>\n",
              "      <td>0</td>\n",
              "      <td>0</td>\n",
              "      <td>0</td>\n",
              "    </tr>\n",
              "    <tr>\n",
              "      <th>11</th>\n",
              "      <td>1.0</td>\n",
              "      <td>1</td>\n",
              "      <td>2016-06-03 03:21:22</td>\n",
              "      <td>Check out this one bedroom apartment in a grea...</td>\n",
              "      <td>W. 173rd Street</td>\n",
              "      <td>40.8448</td>\n",
              "      <td>-73.9396</td>\n",
              "      <td>644 W. 173rd Street</td>\n",
              "      <td>low</td>\n",
              "      <td>0</td>\n",
              "      <td>0</td>\n",
              "      <td>0</td>\n",
              "      <td>0</td>\n",
              "      <td>0</td>\n",
              "      <td>0</td>\n",
              "      <td>0</td>\n",
              "      <td>0</td>\n",
              "      <td>0</td>\n",
              "      <td>0</td>\n",
              "      <td>0</td>\n",
              "      <td>0</td>\n",
              "      <td>0</td>\n",
              "      <td>0</td>\n",
              "      <td>0</td>\n",
              "      <td>0</td>\n",
              "      <td>0</td>\n",
              "      <td>0</td>\n",
              "      <td>0</td>\n",
              "      <td>0</td>\n",
              "      <td>0</td>\n",
              "      <td>0</td>\n",
              "      <td>0</td>\n",
              "      <td>0</td>\n",
              "    </tr>\n",
              "    <tr>\n",
              "      <th>14</th>\n",
              "      <td>1.0</td>\n",
              "      <td>1</td>\n",
              "      <td>2016-06-01 03:11:01</td>\n",
              "      <td>Spacious 1-Bedroom to fit King-sized bed comfo...</td>\n",
              "      <td>East 56th St..</td>\n",
              "      <td>40.7584</td>\n",
              "      <td>-73.9648</td>\n",
              "      <td>315 East 56th St..</td>\n",
              "      <td>low</td>\n",
              "      <td>1</td>\n",
              "      <td>0</td>\n",
              "      <td>1</td>\n",
              "      <td>0</td>\n",
              "      <td>0</td>\n",
              "      <td>1</td>\n",
              "      <td>0</td>\n",
              "      <td>0</td>\n",
              "      <td>0</td>\n",
              "      <td>0</td>\n",
              "      <td>0</td>\n",
              "      <td>0</td>\n",
              "      <td>0</td>\n",
              "      <td>0</td>\n",
              "      <td>0</td>\n",
              "      <td>0</td>\n",
              "      <td>0</td>\n",
              "      <td>0</td>\n",
              "      <td>0</td>\n",
              "      <td>0</td>\n",
              "      <td>0</td>\n",
              "      <td>0</td>\n",
              "      <td>0</td>\n",
              "      <td>0</td>\n",
              "    </tr>\n",
              "    <tr>\n",
              "      <th>24</th>\n",
              "      <td>2.0</td>\n",
              "      <td>4</td>\n",
              "      <td>2016-06-07 04:39:56</td>\n",
              "      <td>SPRAWLING 2 BEDROOM FOUND! ENJOY THE LUXURY OF...</td>\n",
              "      <td>W 18 St.</td>\n",
              "      <td>40.7391</td>\n",
              "      <td>-73.9936</td>\n",
              "      <td>30 W 18 St.</td>\n",
              "      <td>medium</td>\n",
              "      <td>1</td>\n",
              "      <td>1</td>\n",
              "      <td>1</td>\n",
              "      <td>1</td>\n",
              "      <td>1</td>\n",
              "      <td>1</td>\n",
              "      <td>0</td>\n",
              "      <td>0</td>\n",
              "      <td>1</td>\n",
              "      <td>0</td>\n",
              "      <td>0</td>\n",
              "      <td>0</td>\n",
              "      <td>1</td>\n",
              "      <td>0</td>\n",
              "      <td>1</td>\n",
              "      <td>1</td>\n",
              "      <td>0</td>\n",
              "      <td>0</td>\n",
              "      <td>1</td>\n",
              "      <td>0</td>\n",
              "      <td>0</td>\n",
              "      <td>0</td>\n",
              "      <td>0</td>\n",
              "      <td>0</td>\n",
              "    </tr>\n",
              "  </tbody>\n",
              "</table>\n",
              "</div>"
            ],
            "text/plain": [
              "    bathrooms  bedrooms  ... wheelchair_access common_outdoor_space\n",
              "0         1.5         3  ...                 0                    0\n",
              "1         1.0         2  ...                 0                    0\n",
              "11        1.0         1  ...                 0                    0\n",
              "14        1.0         1  ...                 0                    0\n",
              "24        2.0         4  ...                 0                    0\n",
              "\n",
              "[5 rows x 33 columns]"
            ]
          },
          "metadata": {
            "tags": []
          },
          "execution_count": 58
        }
      ]
    },
    {
      "cell_type": "code",
      "metadata": {
        "id": "7oHbPJLJ_yZk",
        "colab_type": "code",
        "colab": {
          "base_uri": "https://localhost:8080/",
          "height": 202
        },
        "outputId": "afc8cd43-5536-401b-b0e2-3282e8442e52"
      },
      "source": [
        "X2_train = X1_train[['bedrooms', 'bathrooms']]\n",
        "X2_train.head()"
      ],
      "execution_count": 84,
      "outputs": [
        {
          "output_type": "execute_result",
          "data": {
            "text/html": [
              "<div>\n",
              "<style scoped>\n",
              "    .dataframe tbody tr th:only-of-type {\n",
              "        vertical-align: middle;\n",
              "    }\n",
              "\n",
              "    .dataframe tbody tr th {\n",
              "        vertical-align: top;\n",
              "    }\n",
              "\n",
              "    .dataframe thead th {\n",
              "        text-align: right;\n",
              "    }\n",
              "</style>\n",
              "<table border=\"1\" class=\"dataframe\">\n",
              "  <thead>\n",
              "    <tr style=\"text-align: right;\">\n",
              "      <th></th>\n",
              "      <th>bedrooms</th>\n",
              "      <th>bathrooms</th>\n",
              "    </tr>\n",
              "  </thead>\n",
              "  <tbody>\n",
              "    <tr>\n",
              "      <th>2</th>\n",
              "      <td>1</td>\n",
              "      <td>1.0</td>\n",
              "    </tr>\n",
              "    <tr>\n",
              "      <th>3</th>\n",
              "      <td>1</td>\n",
              "      <td>1.0</td>\n",
              "    </tr>\n",
              "    <tr>\n",
              "      <th>4</th>\n",
              "      <td>4</td>\n",
              "      <td>1.0</td>\n",
              "    </tr>\n",
              "    <tr>\n",
              "      <th>5</th>\n",
              "      <td>4</td>\n",
              "      <td>2.0</td>\n",
              "    </tr>\n",
              "    <tr>\n",
              "      <th>6</th>\n",
              "      <td>2</td>\n",
              "      <td>1.0</td>\n",
              "    </tr>\n",
              "  </tbody>\n",
              "</table>\n",
              "</div>"
            ],
            "text/plain": [
              "   bedrooms  bathrooms\n",
              "2         1        1.0\n",
              "3         1        1.0\n",
              "4         4        1.0\n",
              "5         4        2.0\n",
              "6         2        1.0"
            ]
          },
          "metadata": {
            "tags": []
          },
          "execution_count": 84
        }
      ]
    },
    {
      "cell_type": "code",
      "metadata": {
        "id": "YOt4UNK6A3Nu",
        "colab_type": "code",
        "colab": {
          "base_uri": "https://localhost:8080/",
          "height": 202
        },
        "outputId": "1672194b-7958-41e3-d2ca-25c8a277032f"
      },
      "source": [
        "X2_test = X1_test[['bedrooms', 'bathrooms']]\n",
        "X2_test.head()"
      ],
      "execution_count": 85,
      "outputs": [
        {
          "output_type": "execute_result",
          "data": {
            "text/html": [
              "<div>\n",
              "<style scoped>\n",
              "    .dataframe tbody tr th:only-of-type {\n",
              "        vertical-align: middle;\n",
              "    }\n",
              "\n",
              "    .dataframe tbody tr th {\n",
              "        vertical-align: top;\n",
              "    }\n",
              "\n",
              "    .dataframe thead th {\n",
              "        text-align: right;\n",
              "    }\n",
              "</style>\n",
              "<table border=\"1\" class=\"dataframe\">\n",
              "  <thead>\n",
              "    <tr style=\"text-align: right;\">\n",
              "      <th></th>\n",
              "      <th>bedrooms</th>\n",
              "      <th>bathrooms</th>\n",
              "    </tr>\n",
              "  </thead>\n",
              "  <tbody>\n",
              "    <tr>\n",
              "      <th>0</th>\n",
              "      <td>3</td>\n",
              "      <td>1.5</td>\n",
              "    </tr>\n",
              "    <tr>\n",
              "      <th>1</th>\n",
              "      <td>2</td>\n",
              "      <td>1.0</td>\n",
              "    </tr>\n",
              "    <tr>\n",
              "      <th>11</th>\n",
              "      <td>1</td>\n",
              "      <td>1.0</td>\n",
              "    </tr>\n",
              "    <tr>\n",
              "      <th>14</th>\n",
              "      <td>1</td>\n",
              "      <td>1.0</td>\n",
              "    </tr>\n",
              "    <tr>\n",
              "      <th>24</th>\n",
              "      <td>4</td>\n",
              "      <td>2.0</td>\n",
              "    </tr>\n",
              "  </tbody>\n",
              "</table>\n",
              "</div>"
            ],
            "text/plain": [
              "    bedrooms  bathrooms\n",
              "0          3        1.5\n",
              "1          2        1.0\n",
              "11         1        1.0\n",
              "14         1        1.0\n",
              "24         4        2.0"
            ]
          },
          "metadata": {
            "tags": []
          },
          "execution_count": 85
        }
      ]
    },
    {
      "cell_type": "code",
      "metadata": {
        "id": "KUMNbyIxn2zR",
        "colab_type": "code",
        "colab": {
          "base_uri": "https://localhost:8080/",
          "height": 52
        },
        "outputId": "d09f4e11-b168-48ee-8b51-ca3e9d92d2bf"
      },
      "source": [
        "# finding y_train and y_test\n",
        "y1_test = y1[y1.index.isin(X2_test.index)]\n",
        "print('y1-test', y1_test.shape)\n",
        "y1_train = y1[y1.index.isin(X2_train.index)]\n",
        "print('y1-train', y1_train.shape)"
      ],
      "execution_count": 90,
      "outputs": [
        {
          "output_type": "stream",
          "text": [
            "y1-test (16973,)\n",
            "y1-train (31844,)\n"
          ],
          "name": "stdout"
        }
      ]
    },
    {
      "cell_type": "code",
      "metadata": {
        "id": "qza5mdCYmd_o",
        "colab_type": "code",
        "colab": {}
      },
      "source": [
        ""
      ],
      "execution_count": null,
      "outputs": []
    },
    {
      "cell_type": "code",
      "metadata": {
        "id": "02HJeTC-QKA1",
        "colab_type": "code",
        "colab": {
          "base_uri": "https://localhost:8080/",
          "height": 248
        },
        "outputId": "23a5d7bc-53ae-44eb-fdd7-5c533bddb41b"
      },
      "source": [
        "import numpy as np\n",
        "\n",
        "import matplotlib.pyplot as plt\n",
        "import statsmodels.formula.api as smf\n",
        "\n",
        "x = X_train\n",
        "Y = y_train\n",
        "df2 = pd.DataFrame(X, columns=['bedrooms','bathrooms'])\n",
        "df2['price'] = pd.Series(Y)\n",
        "\n",
        "model2 = smf.ols(formula='price ~bedrooms+bathrooms', data=df2)\n",
        "results_formula = model2.fit()\n",
        "results_formula.params\n",
        "x_surf, y_surf = np.meshgrid(np.linspace(df2.bedrooms.min(), df2.bedrooms.max(), 100),\n",
        "                             np.linspace(df2.bathrooms.min(), df2.bathrooms.max(), 100))\n",
        "onlyX = pd.DataFrame({'bedrooms': x_surf.ravel(), 'bathrooms': y_surf.ravel()})\n",
        "fittedY = results_formula.predict(exog = onlyX)\n",
        "fittedY = np.array(fittedY)\n",
        "\n",
        "fig = plt.figure()\n",
        "ax = fig.add_subplot(111,projection= '3d')\n",
        "ax.scatter(df2['bedrooms'], df2['bathrooms'], c='red', marker='o', alpha=0.5)\n",
        "ax.plot_surface(x_surf, y_surf, fittedY.reshape(x_surf.shape), color='orange', alpha=0.3)\n",
        "ax.set_xlabel('Bedrooms')\n",
        "ax.set_ylabel('Bathrooms')\n",
        "ax.set_zlabel('Price')\n",
        "plt.show()"
      ],
      "execution_count": 96,
      "outputs": [
        {
          "output_type": "display_data",
          "data": {
            "image/png": "[encoded data removed]",
            "text/plain": [
              "<Figure size 432x288 with 1 Axes>"
            ]
          },
          "metadata": {
            "tags": [],
            "needs_background": "light"
          }
        }
      ]
    },
    {
      "cell_type": "code",
      "metadata": {
        "id": "vRWEJJ6EorRD",
        "colab_type": "code",
        "colab": {
          "base_uri": "https://localhost:8080/",
          "height": 173
        },
        "outputId": "97937d05-d745-4b80-bf38-cbea7062a254"
      },
      "source": [
        "y1_train.describe()"
      ],
      "execution_count": 71,
      "outputs": [
        {
          "output_type": "execute_result",
          "data": {
            "text/plain": [
              "count    31844.000000\n",
              "mean      3575.604007\n",
              "std       1762.136694\n",
              "min       1375.000000\n",
              "25%       2500.000000\n",
              "50%       3150.000000\n",
              "75%       4095.000000\n",
              "max      15500.000000\n",
              "Name: price, dtype: float64"
            ]
          },
          "metadata": {
            "tags": []
          },
          "execution_count": 71
        }
      ]
    },
    {
      "cell_type": "code",
      "metadata": {
        "id": "knWRuQn1nFhF",
        "colab_type": "code",
        "colab": {
          "base_uri": "https://localhost:8080/",
          "height": 35
        },
        "outputId": "72f99741-966c-4b90-d077-119593d8464f"
      },
      "source": [
        "from sklearn import linear_model\n",
        "model1 = linear_model.LinearRegression()\n",
        "model1.fit(X2_train, y1_train)"
      ],
      "execution_count": 86,
      "outputs": [
        {
          "output_type": "execute_result",
          "data": {
            "text/plain": [
              "LinearRegression(copy_X=True, fit_intercept=True, n_jobs=None, normalize=False)"
            ]
          },
          "metadata": {
            "tags": []
          },
          "execution_count": 86
        }
      ]
    },
    {
      "cell_type": "code",
      "metadata": {
        "id": "FuUL8_-t-ktX",
        "colab_type": "code",
        "colab": {
          "base_uri": "https://localhost:8080/",
          "height": 35
        },
        "outputId": "aa6da6b8-9b60-4d13-f532-8c5cf9ecdc25"
      },
      "source": [
        "y1_pred = model1.predict(X2_train)\n",
        "mae = mean_absolute_error(y1_train, y1_pred)\n",
        "print(f'Train Error: {mae:.2f} dollars')"
      ],
      "execution_count": 93,
      "outputs": [
        {
          "output_type": "stream",
          "text": [
            "Train Error: 818.53 dollars\n"
          ],
          "name": "stdout"
        }
      ]
    },
    {
      "cell_type": "code",
      "metadata": {
        "id": "NqGzb0opLjs2",
        "colab_type": "code",
        "colab": {
          "base_uri": "https://localhost:8080/",
          "height": 35
        },
        "outputId": "4cb35da4-5e14-439f-d30a-d2bf0795fca8"
      },
      "source": [
        "y1_pred = model1.predict(X2_test)\n",
        "mae = mean_absolute_error(y1_test, y1_pred)\n",
        "print(f'Test Error: {mae:.2f} dollars')"
      ],
      "execution_count": 95,
      "outputs": [
        {
          "output_type": "stream",
          "text": [
            "Test Error: 825.90 dollars\n"
          ],
          "name": "stdout"
        }
      ]
    },
    {
      "cell_type": "markdown",
      "metadata": {
        "id": "_iW53tIsQJmZ",
        "colab_type": "text"
      },
      "source": [
        "Get and interpret coefficients\n",
        "What’s the equation for the plane of best fit?\n",
        "\n",
        "$y = \\beta_0 + \\beta_1x_1 + \\beta_2x_2$"
      ]
    },
    {
      "cell_type": "code",
      "metadata": {
        "id": "-HaNmdkYPgqe",
        "colab_type": "code",
        "colab": {
          "base_uri": "https://localhost:8080/",
          "height": 35
        },
        "outputId": "78471001-be54-43d2-f34e-8d6c324950d1"
      },
      "source": [
        "model1.intercept_, model1.coef_\n"
      ],
      "execution_count": 99,
      "outputs": [
        {
          "output_type": "execute_result",
          "data": {
            "text/plain": [
              "(485.71869002322273, array([ 389.3248959 , 2072.61011639]))"
            ]
          },
          "metadata": {
            "tags": []
          },
          "execution_count": 99
        }
      ]
    },
    {
      "cell_type": "code",
      "metadata": {
        "id": "L801jv0YQzNs",
        "colab_type": "code",
        "colab": {
          "base_uri": "https://localhost:8080/",
          "height": 35
        },
        "outputId": "9b45be08-538c-46f1-ef2d-a45e55452ed9"
      },
      "source": [
        "beta0 = model1.intercept_.round(2)\n",
        "beta1, beta2 = model1.coef_.round(2)\n",
        "print(f'y = {beta0} + {beta1}x1 + {beta2}x2')"
      ],
      "execution_count": 102,
      "outputs": [
        {
          "output_type": "stream",
          "text": [
            "y = 485.72 + 389.32x1 + 2072.61x2\n"
          ],
          "name": "stdout"
        }
      ]
    },
    {
      "cell_type": "code",
      "metadata": {
        "id": "07tyAbUNRGWy",
        "colab_type": "code",
        "colab": {
          "base_uri": "https://localhost:8080/",
          "height": 35
        },
        "outputId": "34580313-cae6-4ec8-fb77-e701b4ee1c4f"
      },
      "source": [
        "# Both of the coefficients are positive What does this mean? that it increase by the coefficient amount for each unit increase\n",
        "# What does the model predict if different bedrooms and bathrooms\n",
        "model1.predict([[1,1]])"
      ],
      "execution_count": 104,
      "outputs": [
        {
          "output_type": "execute_result",
          "data": {
            "text/plain": [
              "array([2947.65370231])"
            ]
          },
          "metadata": {
            "tags": []
          },
          "execution_count": 104
        }
      ]
    },
    {
      "cell_type": "code",
      "metadata": {
        "id": "Z_0jZwdGSa-W",
        "colab_type": "code",
        "colab": {
          "base_uri": "https://localhost:8080/",
          "height": 35
        },
        "outputId": "a67d7028-4cb3-4110-af3e-60e7eec3d390"
      },
      "source": [
        "# 2 bedrooms and 1 bathroom\n",
        "model1.predict([[2,1]])"
      ],
      "execution_count": 105,
      "outputs": [
        {
          "output_type": "execute_result",
          "data": {
            "text/plain": [
              "array([3336.97859821])"
            ]
          },
          "metadata": {
            "tags": []
          },
          "execution_count": 105
        }
      ]
    },
    {
      "cell_type": "code",
      "metadata": {
        "id": "_XHuDNfKSqD_",
        "colab_type": "code",
        "colab": {
          "base_uri": "https://localhost:8080/",
          "height": 35
        },
        "outputId": "4c0c877a-94e5-411a-c341-5a228948b995"
      },
      "source": [
        "# 2 bedrooms and 2 bathroom\n",
        "model1.predict([[2,2]])"
      ],
      "execution_count": 106,
      "outputs": [
        {
          "output_type": "execute_result",
          "data": {
            "text/plain": [
              "array([5409.5887146])"
            ]
          },
          "metadata": {
            "tags": []
          },
          "execution_count": 106
        }
      ]
    }
  ]
}