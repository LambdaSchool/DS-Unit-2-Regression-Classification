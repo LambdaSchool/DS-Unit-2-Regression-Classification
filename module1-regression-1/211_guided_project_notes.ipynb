{
 "cells": [
  {
   "cell_type": "markdown",
   "metadata": {
    "id": "CPzo2e6aFrjx"
   },
   "source": [
    "# BloomTech Data Science - Unit 2 Sprint 1 Module 1"
   ]
  },
  {
   "cell_type": "code",
   "execution_count": 1,
   "metadata": {
    "id": "XdKtS6Gi5jul"
   },
   "outputs": [],
   "source": [
    "import pandas as pd\n",
    "import matplotlib.pyplot as plt\n",
    "import numpy as np\n",
    "from sklearn.metrics import mean_absolute_error"
   ]
  },
  {
   "cell_type": "code",
   "execution_count": 2,
   "metadata": {
    "id": "IdfHKcFbyARg"
   },
   "outputs": [],
   "source": [
    "import sys\n",
    "\n",
    "if 'google.colab' in sys.modules:\n",
    "  #if you are on Colab\n",
    "  DATA_PATH = 'https://raw.githubusercontent.com/LambdaSchool/DS-Unit-2-Linear-Models/master/data/'"
   ]
  },
  {
   "cell_type": "markdown",
   "metadata": {
    "id": "2EVx8r5HLa6f"
   },
   "source": [
    "# I. Wrangle Data"
   ]
  },
  {
   "cell_type": "code",
   "execution_count": 4,
   "metadata": {
    "id": "syxaPzCWqfTY"
   },
   "outputs": [],
   "source": [
    "#ORIGINAL DATA READING\n",
    "df = wrangle(DATA_PATH + 'condos/tribeca.csv')"
   ]
  },
  {
   "cell_type": "code",
   "execution_count": 13,
   "metadata": {
    "colab": {
     "base_uri": "https://localhost:8080/"
    },
    "id": "cHxCTID6ybJ0",
    "outputId": "891efc55-4fa4-4180-9dc7-879688110cbd"
   },
   "outputs": [
    {
     "name": "stdout",
     "output_type": "stream",
     "text": [
      "['NEIGHBORHOOD', 'BUILDING_CLASS_CATEGORY', 'ADDRESS', 'APARTMENT_NUMBER', 'ZIP_CODE', 'GROSS_SQUARE_FEET', 'YEAR_BUILT', 'SALE_PRICE', 'SALE_DATE']\n",
      "\n",
      "(90, 9)\n",
      "\n",
      "           ZIP_CODE  GROSS_SQUARE_FEET   YEAR_BUILT    SALE_PRICE\n",
      "count     90.000000          90.000000    90.000000  9.000000e+01\n",
      "mean    9651.711111        1766.355556  1584.777778  3.928736e+06\n",
      "std     2096.997111        1018.749203   797.571930  3.621996e+06\n",
      "min        0.000000         432.000000     0.000000  4.247700e+05\n",
      "25%    10007.000000         873.500000  1905.250000  1.156552e+06\n",
      "50%    10013.000000        1625.500000  1987.000000  2.750000e+06\n",
      "75%    10280.000000        2308.250000  2006.000000  5.087500e+06\n",
      "max    10282.000000        4986.000000  2016.000000  1.500000e+07\n",
      "\n",
      "       NEIGHBORHOOD  ...   SALE_DATE\n",
      "count            90  ...          90\n",
      "unique            1  ...          52\n",
      "top         TRIBECA  ...  2019-02-01\n",
      "freq             90  ...           4\n",
      "\n",
      "[4 rows x 5 columns]\n",
      "\n",
      "<class 'pandas.core.frame.DataFrame'>\n",
      "RangeIndex: 90 entries, 0 to 89\n",
      "Data columns (total 9 columns):\n",
      " #   Column                   Non-Null Count  Dtype  \n",
      "---  ------                   --------------  -----  \n",
      " 0   NEIGHBORHOOD             90 non-null     object \n",
      " 1   BUILDING_CLASS_CATEGORY  90 non-null     object \n",
      " 2   ADDRESS                  90 non-null     object \n",
      " 3   APARTMENT_NUMBER         90 non-null     object \n",
      " 4   ZIP_CODE                 90 non-null     float64\n",
      " 5   GROSS_SQUARE_FEET        90 non-null     float64\n",
      " 6   YEAR_BUILT               90 non-null     float64\n",
      " 7   SALE_PRICE               90 non-null     int64  \n",
      " 8   SALE_DATE                90 non-null     object \n",
      "dtypes: float64(3), int64(1), object(5)\n",
      "memory usage: 6.5+ KB\n",
      "None\n",
      "\n"
     ]
    }
   ],
   "source": [
    "print(list(df.columns)); print()\n",
    "print(df.shape); print()\n",
    "print(df.describe()); print()\n",
    "print(df.describe(exclude='number')); print()\n",
    "print(df.info()); print()"
   ]
  },
  {
   "cell_type": "code",
   "execution_count": 18,
   "metadata": {
    "colab": {
     "base_uri": "https://localhost:8080/"
    },
    "id": "o3d96NMT0boJ",
    "outputId": "9e54a3ee-617d-4137-99fc-3914f0141bcc"
   },
   "outputs": [
    {
     "name": "stdout",
     "output_type": "stream",
     "text": [
      "   NEIGHBORHOOD          BUILDING_CLASS_CATEGORY  ... SALE_PRICE   SALE_DATE\n",
      "1       TRIBECA  13 CONDOS - ELEVATOR APARTMENTS  ...    2650000  2019-01-07\n",
      "4       TRIBECA  13 CONDOS - ELEVATOR APARTMENTS  ...    1380000  2019-01-11\n",
      "13      TRIBECA  13 CONDOS - ELEVATOR APARTMENTS  ...    4900000  2019-01-18\n",
      "35      TRIBECA  13 CONDOS - ELEVATOR APARTMENTS  ...    1360000  2019-02-08\n",
      "45      TRIBECA  13 CONDOS - ELEVATOR APARTMENTS  ...    1651544  2019-02-27\n",
      "48      TRIBECA  13 CONDOS - ELEVATOR APARTMENTS  ...     858000  2019-02-28\n",
      "49      TRIBECA  13 CONDOS - ELEVATOR APARTMENTS  ...     685000  2019-03-04\n",
      "59      TRIBECA  13 CONDOS - ELEVATOR APARTMENTS  ...     424770  2019-03-15\n",
      "62      TRIBECA  13 CONDOS - ELEVATOR APARTMENTS  ...     520000  2019-03-25\n",
      "64      TRIBECA  13 CONDOS - ELEVATOR APARTMENTS  ...    4500000  2019-03-25\n",
      "66      TRIBECA  13 CONDOS - ELEVATOR APARTMENTS  ...    1320000  2019-04-02\n",
      "72      TRIBECA  13 CONDOS - ELEVATOR APARTMENTS  ...    3850000  2019-04-08\n",
      "73      TRIBECA  13 CONDOS - ELEVATOR APARTMENTS  ...    3400000  2019-04-10\n",
      "74      TRIBECA  13 CONDOS - ELEVATOR APARTMENTS  ...     710000  2019-04-11\n",
      "77      TRIBECA  13 CONDOS - ELEVATOR APARTMENTS  ...     895000  2019-04-12\n",
      "83      TRIBECA  13 CONDOS - ELEVATOR APARTMENTS  ...     750000  2019-04-23\n",
      "84      TRIBECA  13 CONDOS - ELEVATOR APARTMENTS  ...    1150403  2019-04-24\n",
      "89      TRIBECA  13 CONDOS - ELEVATOR APARTMENTS  ...     975000  2019-04-30\n",
      "\n",
      "[18 rows x 9 columns]\n"
     ]
    }
   ],
   "source": [
    "no_build_date = df[ df.loc[:]['YEAR_BUILT']==0 ]\n",
    "print(no_build_date)"
   ]
  },
  {
   "cell_type": "code",
   "execution_count": 19,
   "metadata": {
    "colab": {
     "base_uri": "https://localhost:8080/"
    },
    "id": "JVyVxKGU2ls2",
    "outputId": "78caa366-756a-43a4-b918-498c36313514"
   },
   "outputs": [
    {
     "data": {
      "text/plain": [
       "NEIGHBORHOOD  BUILDING_CLASS_CATEGORY          ADDRESS                   APARTMENT_NUMBER  ZIP_CODE  GROSS_SQUARE_FEET  YEAR_BUILT  SALE_PRICE  SALE_DATE \n",
       "TRIBECA       13 CONDOS - ELEVATOR APARTMENTS  92 LAIGHT STREET, 4A      4A                10013.0   2221.0             2004.0      4600000     2019-04-22    1\n",
       "                                               140 WEST STREET, 12F      12F               10007.0   2028.0             1930.0      3550000     2019-04-01    1\n",
       "                                               166 DUANE STREET, 4C      4C                10013.0   2311.0             0.0         3400000     2019-04-10    1\n",
       "                                               181 HUDSON STREET, 6D     6D                10013.0   1840.0             1909.0      2800000     2019-01-03    1\n",
       "                                               195 HUDSON STREET, 2C     2C                10013.0   2436.0             0.0         4900000     2019-01-18    1\n",
       "                                                                                                                                                             ..\n",
       "                                               300 RECTOR PLACE, 8R      8R                10280.0   565.0              0.0         520000      2019-03-25    1\n",
       "                                               303 GREENWICH STREET, 5F  5F                10013.0   634.0              0.0         858000      2019-02-28    1\n",
       "                                               311 GREENWICH ST, 8B      8B                10013.0   695.0              0.0         975000      2019-04-30    1\n",
       "                                               311 GREENWICH STREET, 4G  4G                10013.0   638.0              0.0         895000      2019-04-12    1\n",
       "                                               1 RIVER TERRACE, 6N       6N                0.0       1580.0             2006.0      2700000     2019-04-11    1\n",
       "Length: 90, dtype: int64"
      ]
     },
     "execution_count": 19,
     "metadata": {},
     "output_type": "execute_result"
    }
   ],
   "source": [
    "df.value_counts()"
   ]
  },
  {
   "cell_type": "markdown",
   "metadata": {
    "id": "HqxEjpke3frU"
   },
   "source": [
    "**High Cardinality** refers to columns which have many unique values\n",
    "\n",
    "It is sometimes useful to split these into multiple columns if they contain a lot of information (e.g. address ---> street name would reduce cardinality)\n",
    "\n",
    "For now, we will just drop them\n",
    "\n",
    "Some variables can have the same value but mean completely different things e.g. the same appartment number in one building could be the penthouse of another\n",
    "\n",
    "These have deceptively high cardinality"
   ]
  },
  {
   "cell_type": "code",
   "execution_count": 30,
   "metadata": {
    "id": "7rRu0rLS1qbl"
   },
   "outputs": [],
   "source": [
    "#DATA WRANGLING\n",
    "def wrangle(url):\n",
    "  df = pd.read_csv(url,\n",
    "                    parse_dates=['SALE_DATE'], #Convert to Datetime objects as you read the data in\n",
    "                    index_col='SALE_DATE') #Dates are usually the best way to split data, make them the index\n",
    "  #na_values=[0.0] #This instructs pandas to read in 0s as null values, becareful using it! some columns may want zeroes\n",
    "\n",
    "  df = df.drop(columns=['BUILDING_CLASS_CATEGORY', 'NEIGHBORHOOD']) # ONLY 1 VALUE\n",
    "  df = df.drop(columns=['ADDRESS', 'APARTMENT_NUMBER']) # HIGH CARDINALITY\n",
    "  \n",
    "  df['YEAR_BUILT'] = df['YEAR_BUILT'].replace(0.0,np.NaN) #CORRECTLY IDENTIFY NULL VALUES\n",
    "  df['ZIP_CODE'] = df['ZIP_CODE'].replace(0.0,np.NaN) #CORRECTLY IDENTIFY NULL VALUES\n",
    "  df['GROSS_SQUARE_FEET'] = df['GROSS_SQUARE_FEET'].replace(0.0,np.NaN) #CORRECTLY IDENTIFY NULL VALUES\n",
    "  df['SALE_PRICE'] = df['SALE_PRICE'].replace(0.0,np.NaN) #CORRECTLY IDENTIFY NULL VALUES\n",
    "  return df\n",
    "\n",
    "df = wrangle(DATA_PATH + 'condos/tribeca.csv')"
   ]
  },
  {
   "cell_type": "code",
   "execution_count": 31,
   "metadata": {
    "colab": {
     "base_uri": "https://localhost:8080/"
    },
    "id": "RCQut7ce7HuG",
    "outputId": "0e74ebc8-d3de-4b00-c8ae-b68cf64daada"
   },
   "outputs": [
    {
     "name": "stdout",
     "output_type": "stream",
     "text": [
      "ZIP_CODE              4\n",
      "GROSS_SQUARE_FEET     0\n",
      "YEAR_BUILT           18\n",
      "SALE_PRICE            0\n",
      "dtype: int64\n"
     ]
    }
   ],
   "source": [
    "print(df.isnull().sum())"
   ]
  },
  {
   "cell_type": "code",
   "execution_count": 32,
   "metadata": {
    "colab": {
     "base_uri": "https://localhost:8080/",
     "height": 238
    },
    "id": "mACSfP147eJq",
    "outputId": "c2b93f29-b3b4-4aab-b887-be05f967810c"
   },
   "outputs": [
    {
     "data": {
      "text/html": [
       "<div>\n",
       "<style scoped>\n",
       "    .dataframe tbody tr th:only-of-type {\n",
       "        vertical-align: middle;\n",
       "    }\n",
       "\n",
       "    .dataframe tbody tr th {\n",
       "        vertical-align: top;\n",
       "    }\n",
       "\n",
       "    .dataframe thead th {\n",
       "        text-align: right;\n",
       "    }\n",
       "</style>\n",
       "<table border=\"1\" class=\"dataframe\">\n",
       "  <thead>\n",
       "    <tr style=\"text-align: right;\">\n",
       "      <th></th>\n",
       "      <th>ZIP_CODE</th>\n",
       "      <th>GROSS_SQUARE_FEET</th>\n",
       "      <th>YEAR_BUILT</th>\n",
       "      <th>SALE_PRICE</th>\n",
       "    </tr>\n",
       "    <tr>\n",
       "      <th>SALE_DATE</th>\n",
       "      <th></th>\n",
       "      <th></th>\n",
       "      <th></th>\n",
       "      <th></th>\n",
       "    </tr>\n",
       "  </thead>\n",
       "  <tbody>\n",
       "    <tr>\n",
       "      <th>2019-01-03</th>\n",
       "      <td>10013.0</td>\n",
       "      <td>1840.0</td>\n",
       "      <td>1909.0</td>\n",
       "      <td>2800000</td>\n",
       "    </tr>\n",
       "    <tr>\n",
       "      <th>2019-01-07</th>\n",
       "      <td>10004.0</td>\n",
       "      <td>1759.0</td>\n",
       "      <td>NaN</td>\n",
       "      <td>2650000</td>\n",
       "    </tr>\n",
       "    <tr>\n",
       "      <th>2019-01-09</th>\n",
       "      <td>10004.0</td>\n",
       "      <td>1190.0</td>\n",
       "      <td>2005.0</td>\n",
       "      <td>1005000</td>\n",
       "    </tr>\n",
       "    <tr>\n",
       "      <th>2019-01-10</th>\n",
       "      <td>NaN</td>\n",
       "      <td>1088.0</td>\n",
       "      <td>2006.0</td>\n",
       "      <td>1678000</td>\n",
       "    </tr>\n",
       "    <tr>\n",
       "      <th>2019-01-11</th>\n",
       "      <td>10280.0</td>\n",
       "      <td>873.0</td>\n",
       "      <td>NaN</td>\n",
       "      <td>1380000</td>\n",
       "    </tr>\n",
       "  </tbody>\n",
       "</table>\n",
       "</div>"
      ],
      "text/plain": [
       "            ZIP_CODE  GROSS_SQUARE_FEET  YEAR_BUILT  SALE_PRICE\n",
       "SALE_DATE                                                      \n",
       "2019-01-03   10013.0             1840.0      1909.0     2800000\n",
       "2019-01-07   10004.0             1759.0         NaN     2650000\n",
       "2019-01-09   10004.0             1190.0      2005.0     1005000\n",
       "2019-01-10       NaN             1088.0      2006.0     1678000\n",
       "2019-01-11   10280.0              873.0         NaN     1380000"
      ]
     },
     "execution_count": 32,
     "metadata": {},
     "output_type": "execute_result"
    }
   ],
   "source": [
    "df.head()"
   ]
  },
  {
   "cell_type": "markdown",
   "metadata": {
    "id": "GgRcyfQMXhzJ"
   },
   "source": [
    "# II. Split Data\n",
    "\n",
    "Split our dataset into a **feature matrix `X`** and a **target vector `y`**."
   ]
  },
  {
   "cell_type": "code",
   "execution_count": 33,
   "metadata": {
    "id": "wTYqSJ8chRGa"
   },
   "outputs": [],
   "source": [
    "X = df[['GROSS_SQUARE_FEET']] #DOUBLE SQUARE BRACKETS MAKES IT A 2D DATAFRAME INSTEAD OF A SERIES\n",
    "y = df['SALE_PRICE'] #TARGET is just a 1D series"
   ]
  },
  {
   "cell_type": "code",
   "execution_count": 34,
   "metadata": {
    "colab": {
     "base_uri": "https://localhost:8080/"
    },
    "id": "-hVwI-LB8ZF7",
    "outputId": "3bfd9448-556e-400b-ed3f-1f22beea4009"
   },
   "outputs": [
    {
     "name": "stdout",
     "output_type": "stream",
     "text": [
      "Shape X: (90, 1)\n",
      "Shape y: (90,)\n"
     ]
    }
   ],
   "source": [
    "print('Shape X:', X.shape)\n",
    "print('Shape y:', y.shape)"
   ]
  },
  {
   "cell_type": "markdown",
   "metadata": {
    "id": "CuwsiXRlYsjG"
   },
   "source": [
    "# III. Establish Baseline\n",
    "\n",
    "If you had a *naïve model* that could only predict one value, how well would you model perform?"
   ]
  },
  {
   "cell_type": "code",
   "execution_count": 35,
   "metadata": {
    "colab": {
     "base_uri": "https://localhost:8080/"
    },
    "id": "1Ek2mN04hTmT",
    "outputId": "d4e0e186-1b0a-40de-bfbb-b39b4299cc14"
   },
   "outputs": [
    {
     "name": "stdout",
     "output_type": "stream",
     "text": [
      "Baseline: 3928736.3666666667\n"
     ]
    }
   ],
   "source": [
    "baseline = y.mean() #Linear CONSTANT function, same prediction for every value, equivalent to slope = 0\n",
    "print('Baseline:', baseline)"
   ]
  },
  {
   "cell_type": "code",
   "execution_count": 44,
   "metadata": {
    "id": "NiWjkzmiBU3I"
   },
   "outputs": [],
   "source": [
    "y_pred = [baseline] * len(y) # LIST of repeating elements"
   ]
  },
  {
   "cell_type": "code",
   "execution_count": 46,
   "metadata": {
    "colab": {
     "base_uri": "https://localhost:8080/",
     "height": 276
    },
    "id": "wsjGfvCN917J",
    "outputId": "fb6480e5-38ec-4b69-d681-e3d4ab74d46c"
   },
   "outputs": [
    {
     "data": {
      "image/png": "[encoded data removed]",
      "text/plain": [
       "<Figure size 432x288 with 1 Axes>"
      ]
     },
     "metadata": {
      "needs_background": "light"
     },
     "output_type": "display_data"
    }
   ],
   "source": [
    "plt.scatter(X,y);"
   ]
  },
  {
   "cell_type": "markdown",
   "metadata": {
    "id": "tc5RkpT3-7wR"
   },
   "source": [
    "## MEAN ABSOLUTE ERROR"
   ]
  },
  {
   "cell_type": "markdown",
   "metadata": {
    "id": "LPR3RrM2-_uE"
   },
   "source": [
    "This will be the error metric we will use to determine whether or not our model is better than our baseline\n",
    "\n",
    "$MAE = \\sum \\frac{|y-\\hat{y}|}{n}$"
   ]
  },
  {
   "cell_type": "code",
   "execution_count": 48,
   "metadata": {
    "colab": {
     "base_uri": "https://localhost:8080/"
    },
    "id": "3Rv_XQonB-G9",
    "outputId": "12f44423-dd28-403b-8945-c2b4c263cf96"
   },
   "outputs": [
    {
     "name": "stdout",
     "output_type": "stream",
     "text": [
      "Baseline MAE: 2783380.1977777784\n"
     ]
    }
   ],
   "source": [
    "baseline_mae = mean_absolute_error(y,y_pred)\n",
    "print('Baseline MAE:', baseline_mae)"
   ]
  },
  {
   "cell_type": "markdown",
   "metadata": {
    "id": "3bFjzSkUdl21"
   },
   "source": [
    "# IV. Build Model"
   ]
  },
  {
   "cell_type": "code",
   "execution_count": 50,
   "metadata": {
    "colab": {
     "base_uri": "https://localhost:8080/"
    },
    "id": "teYsy_7fhWiG",
    "outputId": "53210314-6494-4266-c0dd-2c0b69069ba0"
   },
   "outputs": [
    {
     "data": {
      "text/plain": [
       "LinearRegression()"
      ]
     },
     "execution_count": 50,
     "metadata": {},
     "output_type": "execute_result"
    }
   ],
   "source": [
    "#Import predictor class\n",
    "from sklearn.linear_model import LinearRegression\n",
    "\n",
    "#Instantiate the predictor\n",
    "# Create a scafolding for the model\n",
    "model_lr = LinearRegression()\n",
    "\n",
    "#Fit the Model\n",
    "model_lr.fit(X,y)"
   ]
  },
  {
   "cell_type": "code",
   "execution_count": 51,
   "metadata": {
    "id": "994axGQ5C7-1"
   },
   "outputs": [],
   "source": [
    "#Make Predictions (only needs feature matrix)\n",
    "y_pred_lr = model_lr.predict(X)"
   ]
  },
  {
   "cell_type": "markdown",
   "metadata": {
    "id": "Lo3CypnUfIwc"
   },
   "source": [
    "# V. Check Metrics"
   ]
  },
  {
   "cell_type": "code",
   "execution_count": 52,
   "metadata": {
    "colab": {
     "base_uri": "https://localhost:8080/"
    },
    "id": "l1WsFoaUJ_Vx",
    "outputId": "230b29c6-4873-486c-c2d8-de7109d11909"
   },
   "outputs": [
    {
     "name": "stdout",
     "output_type": "stream",
     "text": [
      "Lienar Regression MAE: 1176817.9930150746\n"
     ]
    }
   ],
   "source": [
    "lr_mae = mean_absolute_error(y,y_pred_lr)\n",
    "print('Lienar Regression MAE:', lr_mae)"
   ]
  },
  {
   "cell_type": "markdown",
   "metadata": {
    "id": "jGYUL1mufdS-"
   },
   "source": [
    "# VI. Communicate Results\n",
    "\n",
    "Plot model"
   ]
  },
  {
   "cell_type": "code",
   "execution_count": 59,
   "metadata": {
    "colab": {
     "base_uri": "https://localhost:8080/",
     "height": 290
    },
    "id": "y6RUbvFdB3jl",
    "outputId": "bdd1a2fa-09c5-460b-fb48-d26211903a59"
   },
   "outputs": [
    {
     "data": {
      "image/png": "[encoded data removed]",
      "text/plain": [
       "<Figure size 432x288 with 1 Axes>"
      ]
     },
     "metadata": {
      "needs_background": "light"
     },
     "output_type": "display_data"
    }
   ],
   "source": [
    "plt.scatter(X,y);\n",
    "plt.xlabel('Gross Square Feet')\n",
    "plt.ylabel('Price')\n",
    "plt.plot(X,y_pred, label='Baseline', color='grey');\n",
    "plt.plot(X,y_pred_lr, label='Linear Regression', color='orange');"
   ]
  },
  {
   "cell_type": "markdown",
   "metadata": {
    "id": "qsDBGc49K7Uh"
   },
   "source": [
    "What are our beta coefficients?"
   ]
  },
  {
   "cell_type": "code",
   "execution_count": 61,
   "metadata": {
    "colab": {
     "base_uri": "https://localhost:8080/"
    },
    "id": "rgoaqGY_KjnH",
    "outputId": "2479ce45-3022-4882-fb6c-681eee701428"
   },
   "outputs": [
    {
     "name": "stdout",
     "output_type": "stream",
     "text": [
      "-1505364.0408585514\n"
     ]
    }
   ],
   "source": [
    "intercept = model_lr.intercept_\n",
    "print(intercept)"
   ]
  },
  {
   "cell_type": "code",
   "execution_count": 63,
   "metadata": {
    "colab": {
     "base_uri": "https://localhost:8080/"
    },
    "id": "6a-GOP4BLMOB",
    "outputId": "a2a516fe-3a0c-49c9-fb04-f82f9d07c841"
   },
   "outputs": [
    {
     "name": "stdout",
     "output_type": "stream",
     "text": [
      "3076.4476554190023\n"
     ]
    }
   ],
   "source": [
    "slope = model_lr.coef_[0]\n",
    "print(slope)"
   ]
  },
  {
   "cell_type": "code",
   "execution_count": 69,
   "metadata": {
    "colab": {
     "base_uri": "https://localhost:8080/"
    },
    "id": "O-a5HW2TE0_7",
    "outputId": "514607f9-7f15-4e0a-85cb-3af51772f8a8"
   },
   "outputs": [
    {
     "name": "stdout",
     "output_type": "stream",
     "text": [
      "PRICE = -1505364.0408585514 + 3076.4476554190023 * GROSS_SQUARE_FEET\n"
     ]
    }
   ],
   "source": [
    "print(f'PRICE = {intercept} + {slope} * GROSS_SQUARE_FEET')"
   ]
  }
 ],
 "metadata": {
  "colab": {
   "name": "211_guided-project-notes.ipynb",
   "provenance": []
  },
  "kernelspec": {
   "display_name": "Python 3 (ipykernel)",
   "language": "python",
   "name": "python3"
  },
  "language_info": {
   "codemirror_mode": {
    "name": "ipython",
    "version": 3
   },
   "file_extension": ".py",
   "mimetype": "text/x-python",
   "name": "python",
   "nbconvert_exporter": "python",
   "pygments_lexer": "ipython3",
   "version": "3.7.12"
  }
 },
 "nbformat": 4,
 "nbformat_minor": 1
}
