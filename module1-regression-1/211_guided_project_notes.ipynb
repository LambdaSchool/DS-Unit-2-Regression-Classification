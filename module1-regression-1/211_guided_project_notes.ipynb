{
  "nbformat": 4,
  "nbformat_minor": 0,
  "metadata": {
    "colab": {
      "name": "211_guided-project-notes.ipynb",
      "provenance": []
    },
    "kernelspec": {
      "name": "python3",
      "display_name": "Python 3"
    }
  },
  "cells": [
    {
      "cell_type": "markdown",
      "metadata": {
        "id": "CPzo2e6aFrjx"
      },
      "source": [
        "# BloomTech Data Science - Unit 2 Sprint 1 Module 1"
      ]
    },
    {
      "cell_type": "code",
      "metadata": {
        "id": "XdKtS6Gi5jul"
      },
      "source": [
        "import pandas as pd\n",
        "import matplotlib.pyplot as plt\n",
        "import numpy as np\n",
        "from sklearn.metrics import mean_absolute_error"
      ],
      "execution_count": 1,
      "outputs": []
    },
    {
      "cell_type": "code",
      "metadata": {
        "id": "IdfHKcFbyARg"
      },
      "source": [
        "import sys\n",
        "\n",
        "if 'google.colab' in sys.modules:\n",
        "  #if you are on Colab\n",
        "  DATA_PATH = 'https://raw.githubusercontent.com/LambdaSchool/DS-Unit-2-Linear-Models/master/data/'"
      ],
      "execution_count": 2,
      "outputs": []
    },
    {
      "cell_type": "markdown",
      "metadata": {
        "id": "2EVx8r5HLa6f"
      },
      "source": [
        "# I. Wrangle Data"
      ]
    },
    {
      "cell_type": "code",
      "metadata": {
        "id": "syxaPzCWqfTY"
      },
      "source": [
        "#ORIGINAL DATA READING\n",
        "df = wrangle(DATA_PATH + 'condos/tribeca.csv')"
      ],
      "execution_count": 4,
      "outputs": []
    },
    {
      "cell_type": "code",
      "metadata": {
        "id": "cHxCTID6ybJ0",
        "outputId": "891efc55-4fa4-4180-9dc7-879688110cbd",
        "colab": {
          "base_uri": "https://localhost:8080/"
        }
      },
      "source": [
        "print(list(df.columns)); print()\n",
        "print(df.shape); print()\n",
        "print(df.describe()); print()\n",
        "print(df.describe(exclude='number')); print()\n",
        "print(df.info()); print()"
      ],
      "execution_count": 13,
      "outputs": [
        {
          "output_type": "stream",
          "name": "stdout",
          "text": [
            "['NEIGHBORHOOD', 'BUILDING_CLASS_CATEGORY', 'ADDRESS', 'APARTMENT_NUMBER', 'ZIP_CODE', 'GROSS_SQUARE_FEET', 'YEAR_BUILT', 'SALE_PRICE', 'SALE_DATE']\n",
            "\n",
            "(90, 9)\n",
            "\n",
            "           ZIP_CODE  GROSS_SQUARE_FEET   YEAR_BUILT    SALE_PRICE\n",
            "count     90.000000          90.000000    90.000000  9.000000e+01\n",
            "mean    9651.711111        1766.355556  1584.777778  3.928736e+06\n",
            "std     2096.997111        1018.749203   797.571930  3.621996e+06\n",
            "min        0.000000         432.000000     0.000000  4.247700e+05\n",
            "25%    10007.000000         873.500000  1905.250000  1.156552e+06\n",
            "50%    10013.000000        1625.500000  1987.000000  2.750000e+06\n",
            "75%    10280.000000        2308.250000  2006.000000  5.087500e+06\n",
            "max    10282.000000        4986.000000  2016.000000  1.500000e+07\n",
            "\n",
            "       NEIGHBORHOOD  ...   SALE_DATE\n",
            "count            90  ...          90\n",
            "unique            1  ...          52\n",
            "top         TRIBECA  ...  2019-02-01\n",
            "freq             90  ...           4\n",
            "\n",
            "[4 rows x 5 columns]\n",
            "\n",
            "<class 'pandas.core.frame.DataFrame'>\n",
            "RangeIndex: 90 entries, 0 to 89\n",
            "Data columns (total 9 columns):\n",
            " #   Column                   Non-Null Count  Dtype  \n",
            "---  ------                   --------------  -----  \n",
            " 0   NEIGHBORHOOD             90 non-null     object \n",
            " 1   BUILDING_CLASS_CATEGORY  90 non-null     object \n",
            " 2   ADDRESS                  90 non-null     object \n",
            " 3   APARTMENT_NUMBER         90 non-null     object \n",
            " 4   ZIP_CODE                 90 non-null     float64\n",
            " 5   GROSS_SQUARE_FEET        90 non-null     float64\n",
            " 6   YEAR_BUILT               90 non-null     float64\n",
            " 7   SALE_PRICE               90 non-null     int64  \n",
            " 8   SALE_DATE                90 non-null     object \n",
            "dtypes: float64(3), int64(1), object(5)\n",
            "memory usage: 6.5+ KB\n",
            "None\n",
            "\n"
          ]
        }
      ]
    },
    {
      "cell_type": "code",
      "metadata": {
        "id": "o3d96NMT0boJ",
        "outputId": "9e54a3ee-617d-4137-99fc-3914f0141bcc",
        "colab": {
          "base_uri": "https://localhost:8080/"
        }
      },
      "source": [
        "no_build_date = df[ df.loc[:]['YEAR_BUILT']==0 ]\n",
        "print(no_build_date)"
      ],
      "execution_count": 18,
      "outputs": [
        {
          "output_type": "stream",
          "name": "stdout",
          "text": [
            "   NEIGHBORHOOD          BUILDING_CLASS_CATEGORY  ... SALE_PRICE   SALE_DATE\n",
            "1       TRIBECA  13 CONDOS - ELEVATOR APARTMENTS  ...    2650000  2019-01-07\n",
            "4       TRIBECA  13 CONDOS - ELEVATOR APARTMENTS  ...    1380000  2019-01-11\n",
            "13      TRIBECA  13 CONDOS - ELEVATOR APARTMENTS  ...    4900000  2019-01-18\n",
            "35      TRIBECA  13 CONDOS - ELEVATOR APARTMENTS  ...    1360000  2019-02-08\n",
            "45      TRIBECA  13 CONDOS - ELEVATOR APARTMENTS  ...    1651544  2019-02-27\n",
            "48      TRIBECA  13 CONDOS - ELEVATOR APARTMENTS  ...     858000  2019-02-28\n",
            "49      TRIBECA  13 CONDOS - ELEVATOR APARTMENTS  ...     685000  2019-03-04\n",
            "59      TRIBECA  13 CONDOS - ELEVATOR APARTMENTS  ...     424770  2019-03-15\n",
            "62      TRIBECA  13 CONDOS - ELEVATOR APARTMENTS  ...     520000  2019-03-25\n",
            "64      TRIBECA  13 CONDOS - ELEVATOR APARTMENTS  ...    4500000  2019-03-25\n",
            "66      TRIBECA  13 CONDOS - ELEVATOR APARTMENTS  ...    1320000  2019-04-02\n",
            "72      TRIBECA  13 CONDOS - ELEVATOR APARTMENTS  ...    3850000  2019-04-08\n",
            "73      TRIBECA  13 CONDOS - ELEVATOR APARTMENTS  ...    3400000  2019-04-10\n",
            "74      TRIBECA  13 CONDOS - ELEVATOR APARTMENTS  ...     710000  2019-04-11\n",
            "77      TRIBECA  13 CONDOS - ELEVATOR APARTMENTS  ...     895000  2019-04-12\n",
            "83      TRIBECA  13 CONDOS - ELEVATOR APARTMENTS  ...     750000  2019-04-23\n",
            "84      TRIBECA  13 CONDOS - ELEVATOR APARTMENTS  ...    1150403  2019-04-24\n",
            "89      TRIBECA  13 CONDOS - ELEVATOR APARTMENTS  ...     975000  2019-04-30\n",
            "\n",
            "[18 rows x 9 columns]\n"
          ]
        }
      ]
    },
    {
      "cell_type": "code",
      "metadata": {
        "id": "JVyVxKGU2ls2",
        "outputId": "78caa366-756a-43a4-b918-498c36313514",
        "colab": {
          "base_uri": "https://localhost:8080/"
        }
      },
      "source": [
        "df.value_counts()"
      ],
      "execution_count": 19,
      "outputs": [
        {
          "output_type": "execute_result",
          "data": {
            "text/plain": [
              "NEIGHBORHOOD  BUILDING_CLASS_CATEGORY          ADDRESS                   APARTMENT_NUMBER  ZIP_CODE  GROSS_SQUARE_FEET  YEAR_BUILT  SALE_PRICE  SALE_DATE \n",
              "TRIBECA       13 CONDOS - ELEVATOR APARTMENTS  92 LAIGHT STREET, 4A      4A                10013.0   2221.0             2004.0      4600000     2019-04-22    1\n",
              "                                               140 WEST STREET, 12F      12F               10007.0   2028.0             1930.0      3550000     2019-04-01    1\n",
              "                                               166 DUANE STREET, 4C      4C                10013.0   2311.0             0.0         3400000     2019-04-10    1\n",
              "                                               181 HUDSON STREET, 6D     6D                10013.0   1840.0             1909.0      2800000     2019-01-03    1\n",
              "                                               195 HUDSON STREET, 2C     2C                10013.0   2436.0             0.0         4900000     2019-01-18    1\n",
              "                                                                                                                                                             ..\n",
              "                                               300 RECTOR PLACE, 8R      8R                10280.0   565.0              0.0         520000      2019-03-25    1\n",
              "                                               303 GREENWICH STREET, 5F  5F                10013.0   634.0              0.0         858000      2019-02-28    1\n",
              "                                               311 GREENWICH ST, 8B      8B                10013.0   695.0              0.0         975000      2019-04-30    1\n",
              "                                               311 GREENWICH STREET, 4G  4G                10013.0   638.0              0.0         895000      2019-04-12    1\n",
              "                                               1 RIVER TERRACE, 6N       6N                0.0       1580.0             2006.0      2700000     2019-04-11    1\n",
              "Length: 90, dtype: int64"
            ]
          },
          "metadata": {},
          "execution_count": 19
        }
      ]
    },
    {
      "cell_type": "markdown",
      "metadata": {
        "id": "HqxEjpke3frU"
      },
      "source": [
        "**High Cardinality** refers to columns which have many unique values\n",
        "\n",
        "It is sometimes useful to split these into multiple columns if they contain a lot of information (e.g. address ---> street name would reduce cardinality)\n",
        "\n",
        "For now, we will just drop them\n",
        "\n",
        "Some variables can have the same value but mean completely different things e.g. the same appartment number in one building could be the penthouse of another\n",
        "\n",
        "These have deceptively high cardinality"
      ]
    },
    {
      "cell_type": "code",
      "metadata": {
        "id": "7rRu0rLS1qbl"
      },
      "source": [
        "#DATA WRANGLING\n",
        "def wrangle(url):\n",
        "  df = pd.read_csv(url,\n",
        "                    parse_dates=['SALE_DATE'], #Convert to Datetime objects as you read the data in\n",
        "                    index_col='SALE_DATE') #Dates are usually the best way to split data, make them the index\n",
        "  #na_values=[0.0] #This instructs pandas to read in 0s as null values, becareful using it! some columns may want zeroes\n",
        "\n",
        "  df = df.drop(columns=['BUILDING_CLASS_CATEGORY', 'NEIGHBORHOOD']) # ONLY 1 VALUE\n",
        "  df = df.drop(columns=['ADDRESS', 'APARTMENT_NUMBER']) # HIGH CARDINALITY\n",
        "  df['YEAR_BUILT'] = df['YEAR_BUILT'].replace(0.0,np.NaN) #CORRECTLY IDENTIFY NULL VALUES\n",
        "  return df\n",
        "\n",
        "df = wrangle(DATA_PATH + 'condos/tribeca.csv')"
      ],
      "execution_count": 20,
      "outputs": []
    },
    {
      "cell_type": "code",
      "metadata": {
        "id": "RCQut7ce7HuG",
        "outputId": "8f6ee190-b39f-4de0-f8c6-7013ab6a01be",
        "colab": {
          "base_uri": "https://localhost:8080/"
        }
      },
      "source": [
        "print(df.isnull().sum())"
      ],
      "execution_count": 25,
      "outputs": [
        {
          "output_type": "stream",
          "name": "stdout",
          "text": [
            "ZIP_CODE              0\n",
            "GROSS_SQUARE_FEET     0\n",
            "YEAR_BUILT           18\n",
            "SALE_PRICE            0\n",
            "dtype: int64\n"
          ]
        }
      ]
    },
    {
      "cell_type": "markdown",
      "metadata": {
        "id": "GgRcyfQMXhzJ"
      },
      "source": [
        "# II. Split Data\n",
        "\n",
        "Split our dataset into a **feature matrix `X`** and a **target vector `y`**."
      ]
    },
    {
      "cell_type": "code",
      "metadata": {
        "id": "wTYqSJ8chRGa"
      },
      "source": [
        ""
      ],
      "execution_count": null,
      "outputs": []
    },
    {
      "cell_type": "markdown",
      "metadata": {
        "id": "CuwsiXRlYsjG"
      },
      "source": [
        "# III. Establish Baseline\n",
        "\n",
        "If you had a *naïve model* that could only predict one value, how well would you model perform?"
      ]
    },
    {
      "cell_type": "code",
      "metadata": {
        "id": "1Ek2mN04hTmT"
      },
      "source": [
        ""
      ],
      "execution_count": null,
      "outputs": []
    },
    {
      "cell_type": "code",
      "metadata": {
        "id": "NiWjkzmiBU3I"
      },
      "source": [
        ""
      ],
      "execution_count": null,
      "outputs": []
    },
    {
      "cell_type": "markdown",
      "metadata": {
        "id": "3bFjzSkUdl21"
      },
      "source": [
        "# IV. Build Model"
      ]
    },
    {
      "cell_type": "code",
      "metadata": {
        "id": "teYsy_7fhWiG"
      },
      "source": [
        ""
      ],
      "execution_count": null,
      "outputs": []
    },
    {
      "cell_type": "markdown",
      "metadata": {
        "id": "Lo3CypnUfIwc"
      },
      "source": [
        "# V. Check Metrics"
      ]
    },
    {
      "cell_type": "code",
      "metadata": {
        "id": "l1WsFoaUJ_Vx"
      },
      "source": [
        ""
      ],
      "execution_count": null,
      "outputs": []
    },
    {
      "cell_type": "markdown",
      "metadata": {
        "id": "jGYUL1mufdS-"
      },
      "source": [
        "# VI. Communicate Results\n",
        "\n",
        "Plot model"
      ]
    },
    {
      "cell_type": "code",
      "metadata": {
        "id": "y6RUbvFdB3jl"
      },
      "source": [
        ""
      ],
      "execution_count": null,
      "outputs": []
    },
    {
      "cell_type": "markdown",
      "metadata": {
        "id": "qsDBGc49K7Uh"
      },
      "source": [
        "What are our beta coefficients?"
      ]
    },
    {
      "cell_type": "code",
      "metadata": {
        "id": "rgoaqGY_KjnH"
      },
      "source": [
        ""
      ],
      "execution_count": null,
      "outputs": []
    },
    {
      "cell_type": "code",
      "metadata": {
        "id": "6a-GOP4BLMOB"
      },
      "source": [
        ""
      ],
      "execution_count": null,
      "outputs": []
    }
  ]
}