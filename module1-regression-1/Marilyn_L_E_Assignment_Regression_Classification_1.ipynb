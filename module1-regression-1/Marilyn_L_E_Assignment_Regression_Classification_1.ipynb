{
  "nbformat": 4,
  "nbformat_minor": 0,
  "metadata": {
    "colab": {
      "name": "Marilyn_L_E_Assignment_Regression_Classification_1.ipynb",
      "provenance": [],
      "collapsed_sections": [],
      "include_colab_link": true
    },
    "kernelspec": {
      "display_name": "Python 3",
      "language": "python",
      "name": "python3"
    },
    "language_info": {
      "codemirror_mode": {
        "name": "ipython",
        "version": 3
      },
      "file_extension": ".py",
      "mimetype": "text/x-python",
      "name": "python",
      "nbconvert_exporter": "python",
      "pygments_lexer": "ipython3",
      "version": "3.7.3"
    }
  },
  "cells": [
    {
      "cell_type": "markdown",
      "metadata": {
        "id": "view-in-github",
        "colab_type": "text"
      },
      "source": [
        "<a href=\"https://colab.research.google.com/github/marilynle/DS-Unit-2-Linear-Models/blob/master/module1-regression-1/Marilyn_L_E_Assignment_Regression_Classification_1.ipynb\" target=\"_parent\"><img src=\"https://colab.research.google.com/assets/colab-badge.svg\" alt=\"Open In Colab\"/></a>"
      ]
    },
    {
      "cell_type": "markdown",
      "metadata": {
        "id": "Ss4UsxVYo7cA",
        "colab_type": "text"
      },
      "source": [
        "Lambda School Data Science\n",
        "\n",
        "*Unit 2, Sprint 1, Module 1*\n",
        "\n",
        "---"
      ]
    },
    {
      "cell_type": "markdown",
      "metadata": {
        "colab_type": "text",
        "id": "7IXUfiQ2UKj6"
      },
      "source": [
        "# Regression 1\n",
        "\n",
        "## Assignment\n",
        "\n",
        "You'll use another **New York City** real estate dataset. \n",
        "\n",
        "But now you'll **predict how much it costs to rent an apartment**, instead of how much it costs to buy a condo.\n",
        "\n",
        "The data comes from renthop.com, an apartment listing website.\n",
        "\n",
        "- [ ] Look at the data. Choose a feature, and plot its relationship with the target.\n",
        "- [ ] Use scikit-learn for linear regression with one feature. You can follow the [5-step process from Jake VanderPlas](https://jakevdp.github.io/PythonDataScienceHandbook/05.02-introducing-scikit-learn.html#Basics-of-the-API).\n",
        "- [ ] Define a function to make new predictions and explain the model coefficient.\n",
        "- [ ] Organize and comment your code.\n",
        "\n",
        "> [Do Not Copy-Paste.](https://docs.google.com/document/d/1ubOw9B3Hfip27hF2ZFnW3a3z9xAgrUDRReOEo-FHCVs/edit) You must type each of these exercises in, manually. If you copy and paste, you might as well not even do them. The point of these exercises is to train your hands, your brain, and your mind in how to read, write, and see code. If you copy-paste, you are cheating yourself out of the effectiveness of the lessons.\n",
        "\n",
        "## Stretch Goals\n",
        "- [ ] Do linear regression with two or more features.\n",
        "- [ ] Read [The Discovery of Statistical Regression](https://priceonomics.com/the-discovery-of-statistical-regression/)\n",
        "- [ ] Read [_An Introduction to Statistical Learning_](http://faculty.marshall.usc.edu/gareth-james/ISL/ISLR%20Seventh%20Printing.pdf), Chapter 2.1: What Is Statistical Learning?"
      ]
    },
    {
      "cell_type": "code",
      "metadata": {
        "colab_type": "code",
        "id": "o9eSnDYhUGD7",
        "colab": {}
      },
      "source": [
        "import sys\n",
        "\n",
        "# If you're on Colab:\n",
        "if 'google.colab' in sys.modules:\n",
        "    DATA_PATH = 'https://raw.githubusercontent.com/LambdaSchool/DS-Unit-2-Applied-Modeling/master/data/'\n",
        "\n",
        "# If you're working locally:\n",
        "else:\n",
        "    DATA_PATH = '../data/'\n",
        "    \n",
        "# Ignore this Numpy warning when using Plotly Express:\n",
        "# FutureWarning: Method .ptp is deprecated and will be removed in a future version. Use numpy.ptp instead.\n",
        "import warnings\n",
        "warnings.filterwarnings(action='ignore', category=FutureWarning, module='numpy')"
      ],
      "execution_count": 0,
      "outputs": []
    },
    {
      "cell_type": "code",
      "metadata": {
        "colab_type": "code",
        "id": "4S2wXSrFV_g4",
        "colab": {}
      },
      "source": [
        "# Read New York City apartment rental listing data\n",
        "import pandas as pd\n",
        "df = pd.read_csv(DATA_PATH+'apartments/renthop-nyc.csv')\n",
        "assert df.shape == (49352, 34)"
      ],
      "execution_count": 0,
      "outputs": []
    },
    {
      "cell_type": "code",
      "metadata": {
        "id": "AdJ-Q8vjo7cM",
        "colab_type": "code",
        "colab": {}
      },
      "source": [
        "# Remove outliers: \n",
        "# the most extreme 1% prices,\n",
        "# the most extreme .1% latitudes, &\n",
        "# the most extreme .1% longitudes\n",
        "df = df[(df['price'] >= 1375) & (df['price'] <= 15500) & \n",
        "        (df['latitude'] >=40.57) & (df['latitude'] < 40.99) &\n",
        "        (df['longitude'] >= -74.1) & (df['longitude'] <= -73.38)]"
      ],
      "execution_count": 0,
      "outputs": []
    },
    {
      "cell_type": "code",
      "metadata": {
        "id": "QQR0XBZTKHlV",
        "colab_type": "code",
        "colab": {
          "base_uri": "https://localhost:8080/",
          "height": 170
        },
        "outputId": "d08290fb-0081-4aff-d41c-d4b3fe64a10b"
      },
      "source": [
        "import pandas as pd\n",
        "df = pd.read_csv(DATA_PATH+'condos/tribeca.csv')\n",
        "pd.options.display.float_format = '{:,.0f}'.format\n",
        "df['SALE_PRICE'].describe()"
      ],
      "execution_count": 4,
      "outputs": [
        {
          "output_type": "execute_result",
          "data": {
            "text/plain": [
              "count           90\n",
              "mean     3,928,736\n",
              "std      3,621,996\n",
              "min        424,770\n",
              "25%      1,156,552\n",
              "50%      2,750,000\n",
              "75%      5,087,500\n",
              "max     15,000,000\n",
              "Name: SALE_PRICE, dtype: float64"
            ]
          },
          "metadata": {
            "tags": []
          },
          "execution_count": 4
        }
      ]
    },
    {
      "cell_type": "code",
      "metadata": {
        "id": "W8vS2UFhMfMH",
        "colab_type": "code",
        "colab": {
          "base_uri": "https://localhost:8080/",
          "height": 289
        },
        "outputId": "40e2c3d8-5796-44d8-b16d-8b70da0491e2"
      },
      "source": [
        "df.head()\n"
      ],
      "execution_count": 5,
      "outputs": [
        {
          "output_type": "execute_result",
          "data": {
            "text/html": [
              "<div>\n",
              "<style scoped>\n",
              "    .dataframe tbody tr th:only-of-type {\n",
              "        vertical-align: middle;\n",
              "    }\n",
              "\n",
              "    .dataframe tbody tr th {\n",
              "        vertical-align: top;\n",
              "    }\n",
              "\n",
              "    .dataframe thead th {\n",
              "        text-align: right;\n",
              "    }\n",
              "</style>\n",
              "<table border=\"1\" class=\"dataframe\">\n",
              "  <thead>\n",
              "    <tr style=\"text-align: right;\">\n",
              "      <th></th>\n",
              "      <th>NEIGHBORHOOD</th>\n",
              "      <th>BUILDING_CLASS_CATEGORY</th>\n",
              "      <th>ADDRESS</th>\n",
              "      <th>APARTMENT_NUMBER</th>\n",
              "      <th>ZIP_CODE</th>\n",
              "      <th>GROSS_SQUARE_FEET</th>\n",
              "      <th>YEAR_BUILT</th>\n",
              "      <th>SALE_PRICE</th>\n",
              "      <th>SALE_DATE</th>\n",
              "    </tr>\n",
              "  </thead>\n",
              "  <tbody>\n",
              "    <tr>\n",
              "      <th>0</th>\n",
              "      <td>TRIBECA</td>\n",
              "      <td>13 CONDOS - ELEVATOR APARTMENTS</td>\n",
              "      <td>181 HUDSON STREET, 6D</td>\n",
              "      <td>6D</td>\n",
              "      <td>10,013</td>\n",
              "      <td>1,840</td>\n",
              "      <td>1,909</td>\n",
              "      <td>2800000</td>\n",
              "      <td>2019-01-03</td>\n",
              "    </tr>\n",
              "    <tr>\n",
              "      <th>1</th>\n",
              "      <td>TRIBECA</td>\n",
              "      <td>13 CONDOS - ELEVATOR APARTMENTS</td>\n",
              "      <td>10 LITTLE WEST STREET, 19A</td>\n",
              "      <td>19A</td>\n",
              "      <td>10,004</td>\n",
              "      <td>1,759</td>\n",
              "      <td>0</td>\n",
              "      <td>2650000</td>\n",
              "      <td>2019-01-07</td>\n",
              "    </tr>\n",
              "    <tr>\n",
              "      <th>2</th>\n",
              "      <td>TRIBECA</td>\n",
              "      <td>13 CONDOS - ELEVATOR APARTMENTS</td>\n",
              "      <td>30 LITTLE WEST STREET, 7G</td>\n",
              "      <td>7G</td>\n",
              "      <td>10,004</td>\n",
              "      <td>1,190</td>\n",
              "      <td>2,005</td>\n",
              "      <td>1005000</td>\n",
              "      <td>2019-01-09</td>\n",
              "    </tr>\n",
              "    <tr>\n",
              "      <th>3</th>\n",
              "      <td>TRIBECA</td>\n",
              "      <td>13 CONDOS - ELEVATOR APARTMENTS</td>\n",
              "      <td>2 RIVER TERRACE, 4C</td>\n",
              "      <td>4C</td>\n",
              "      <td>0</td>\n",
              "      <td>1,088</td>\n",
              "      <td>2,006</td>\n",
              "      <td>1678000</td>\n",
              "      <td>2019-01-10</td>\n",
              "    </tr>\n",
              "    <tr>\n",
              "      <th>4</th>\n",
              "      <td>TRIBECA</td>\n",
              "      <td>13 CONDOS - ELEVATOR APARTMENTS</td>\n",
              "      <td>380 RECTOR PLACE, 10A</td>\n",
              "      <td>10A</td>\n",
              "      <td>10,280</td>\n",
              "      <td>873</td>\n",
              "      <td>0</td>\n",
              "      <td>1380000</td>\n",
              "      <td>2019-01-11</td>\n",
              "    </tr>\n",
              "  </tbody>\n",
              "</table>\n",
              "</div>"
            ],
            "text/plain": [
              "  NEIGHBORHOOD          BUILDING_CLASS_CATEGORY  ... SALE_PRICE   SALE_DATE\n",
              "0      TRIBECA  13 CONDOS - ELEVATOR APARTMENTS  ...    2800000  2019-01-03\n",
              "1      TRIBECA  13 CONDOS - ELEVATOR APARTMENTS  ...    2650000  2019-01-07\n",
              "2      TRIBECA  13 CONDOS - ELEVATOR APARTMENTS  ...    1005000  2019-01-09\n",
              "3      TRIBECA  13 CONDOS - ELEVATOR APARTMENTS  ...    1678000  2019-01-10\n",
              "4      TRIBECA  13 CONDOS - ELEVATOR APARTMENTS  ...    1380000  2019-01-11\n",
              "\n",
              "[5 rows x 9 columns]"
            ]
          },
          "metadata": {
            "tags": []
          },
          "execution_count": 5
        }
      ]
    },
    {
      "cell_type": "code",
      "metadata": {
        "id": "-Ng9Nqk7NH_n",
        "colab_type": "code",
        "colab": {
          "base_uri": "https://localhost:8080/",
          "height": 187
        },
        "outputId": "805542e7-de02-4a72-ebd5-c43f717c9735"
      },
      "source": [
        "# Checking for null values\n",
        "df.isnull().sum()\n"
      ],
      "execution_count": 6,
      "outputs": [
        {
          "output_type": "execute_result",
          "data": {
            "text/plain": [
              "NEIGHBORHOOD               0\n",
              "BUILDING_CLASS_CATEGORY    0\n",
              "ADDRESS                    0\n",
              "APARTMENT_NUMBER           0\n",
              "ZIP_CODE                   0\n",
              "GROSS_SQUARE_FEET          0\n",
              "YEAR_BUILT                 0\n",
              "SALE_PRICE                 0\n",
              "SALE_DATE                  0\n",
              "dtype: int64"
            ]
          },
          "metadata": {
            "tags": []
          },
          "execution_count": 6
        }
      ]
    },
    {
      "cell_type": "code",
      "metadata": {
        "id": "8sg1kmfJNIEG",
        "colab_type": "code",
        "colab": {
          "base_uri": "https://localhost:8080/",
          "height": 34
        },
        "outputId": "f38f8c1d-ffe2-4839-bc44-2c216884ccfb"
      },
      "source": [
        "df.shape\n"
      ],
      "execution_count": 7,
      "outputs": [
        {
          "output_type": "execute_result",
          "data": {
            "text/plain": [
              "(90, 9)"
            ]
          },
          "metadata": {
            "tags": []
          },
          "execution_count": 7
        }
      ]
    },
    {
      "cell_type": "code",
      "metadata": {
        "id": "9wiOTGH8TrsO",
        "colab_type": "code",
        "colab": {
          "base_uri": "https://localhost:8080/",
          "height": 488
        },
        "outputId": "ee69f75c-ac2e-4fa8-d336-5cba820107da"
      },
      "source": [
        "# Look at the data. Choose a feature, and plot its relationship with the target.\n",
        "\n",
        "import seaborn as sns\n",
        "import matplotlib.pyplot as plt\n",
        "\n",
        "# Observing the correlation matrix\n",
        "fig, ax = plt.subplots(figsize=(10,7))\n",
        "sns.heatmap(df.corr(), annot=True)\n"
      ],
      "execution_count": 8,
      "outputs": [
        {
          "output_type": "execute_result",
          "data": {
            "text/plain": [
              "<matplotlib.axes._subplots.AxesSubplot at 0x7f7a645fcfd0>"
            ]
          },
          "metadata": {
            "tags": []
          },
          "execution_count": 8
        },
        {
          "output_type": "display_data",
          "data": {
            "image/png": "[encoded data removed]",
            "text/plain": [
              "<Figure size 720x504 with 2 Axes>"
            ]
          },
          "metadata": {
            "tags": []
          }
        }
      ]
    },
    {
      "cell_type": "code",
      "metadata": {
        "id": "Q8M2OB0AXMIk",
        "colab_type": "code",
        "colab": {
          "base_uri": "https://localhost:8080/",
          "height": 617
        },
        "outputId": "20955d67-2316-42f0-bf20-8f992d6c996c"
      },
      "source": [
        "import plotly.express as px\n",
        "px.scatter(df, x='YEAR_BUILT', y='SALE_PRICE')"
      ],
      "execution_count": 9,
      "outputs": [
        {
          "output_type": "display_data",
          "data": {
            "text/html": [
              "<html>\n",
              "<head><meta charset=\"utf-8\" /></head>\n",
              "<body>\n",
              "    <div>\n",
              "            <script src=\"https://cdnjs.cloudflare.com/ajax/libs/mathjax/2.7.5/MathJax.js?config=TeX-AMS-MML_SVG\"></script><script type=\"text/javascript\">if (window.MathJax) {MathJax.Hub.Config({SVG: {font: \"STIX-Web\"}});}</script>\n",
              "                <script type=\"text/javascript\">window.PlotlyConfig = {MathJaxConfig: 'local'};</script>\n",
              "        <script src=\"https://cdn.plot.ly/plotly-latest.min.js\"></script>    \n",
              "            <div id=\"b5bfbb96-0b56-41b0-9096-98a189c08b12\" class=\"plotly-graph-div\" style=\"height:600px; width:100%;\"></div>\n",
              "            <script type=\"text/javascript\">\n",
              "                \n",
              "                    window.PLOTLYENV=window.PLOTLYENV || {};\n",
              "                    \n",
              "                if (document.getElementById(\"b5bfbb96-0b56-41b0-9096-98a189c08b12\")) {\n",
              "                    Plotly.newPlot(\n",
              "                        'b5bfbb96-0b56-41b0-9096-98a189c08b12',\n",
              "                        [{\"hoverlabel\": {\"namelength\": 0}, \"hovertemplate\": \"YEAR_BUILT=%{x}<br>SALE_PRICE=%{y}\", \"legendgroup\": \"\", \"marker\": {\"color\": \"#636efa\", \"symbol\": \"circle\"}, \"mode\": \"markers\", \"name\": \"\", \"showlegend\": false, \"type\": \"scatter\", \"x\": [1909.0, 0.0, 2005.0, 2006.0, 0.0, 2016.0, 1986.0, 2006.0, 2016.0, 1905.0, 1930.0, 2004.0, 1915.0, 0.0, 2006.0, 1987.0, 1930.0, 2016.0, 1987.0, 2016.0, 2016.0, 2016.0, 2010.0, 1987.0, 1915.0, 2005.0, 2000.0, 1985.0, 1905.0, 2006.0, 2016.0, 2004.0, 2016.0, 1900.0, 1906.0, 0.0, 2006.0, 1987.0, 2005.0, 2005.0, 1913.0, 1915.0, 1930.0, 2016.0, 1905.0, 0.0, 2000.0, 1930.0, 0.0, 0.0, 1986.0, 2000.0, 1986.0, 2016.0, 2016.0, 1987.0, 2000.0, 1987.0, 2006.0, 0.0, 1986.0, 1987.0, 0.0, 2016.0, 0.0, 1930.0, 0.0, 1990.0, 2016.0, 1985.0, 1987.0, 1987.0, 0.0, 0.0, 0.0, 2006.0, 1915.0, 0.0, 2006.0, 2000.0, 2016.0, 1985.0, 2004.0, 0.0, 0.0, 1905.0, 2006.0, 1990.0, 1990.0, 0.0], \"xaxis\": \"x\", \"y\": [2800000, 2650000, 1005000, 1678000, 1380000, 6924100, 501000, 2400000, 9316988, 10200000, 4100000, 7200000, 13240000, 4900000, 3870000, 640000, 4750000, 11648526, 1090000, 4400000, 8909688, 12376829, 8000000, 999500, 5350000, 1250000, 1770000, 905000, 6053000, 3250000, 5150000, 12750000, 9164250, 6761138, 4050000, 1360000, 2495000, 1175000, 2250000, 1350000, 3145000, 1658000, 3836438, 6720000, 15000000, 1651544, 3300000, 5270000, 858000, 685000, 490000, 1754000, 475000, 7722000, 12142631, 3700000, 4800000, 630000, 2050000, 424770, 496860, 1275000, 520000, 3920263, 4500000, 3550000, 1320000, 1404586, 12200000, 785000, 1175000, 982500, 3850000, 3400000, 710000, 2700000, 4100000, 895000, 3635000, 4800000, 12040000, 1550000, 4600000, 750000, 1150403, 5761259, 2600000, 605000, 960000, 975000], \"yaxis\": \"y\"}],\n",
              "                        {\"height\": 600, \"legend\": {\"tracegroupgap\": 0}, \"margin\": {\"t\": 60}, \"template\": {\"data\": {\"bar\": [{\"error_x\": {\"color\": \"#2a3f5f\"}, \"error_y\": {\"color\": \"#2a3f5f\"}, \"marker\": {\"line\": {\"color\": \"#E5ECF6\", \"width\": 0.5}}, \"type\": \"bar\"}], \"barpolar\": [{\"marker\": {\"line\": {\"color\": \"#E5ECF6\", \"width\": 0.5}}, \"type\": \"barpolar\"}], \"carpet\": [{\"aaxis\": {\"endlinecolor\": \"#2a3f5f\", \"gridcolor\": \"white\", \"linecolor\": \"white\", \"minorgridcolor\": \"white\", \"startlinecolor\": \"#2a3f5f\"}, \"baxis\": {\"endlinecolor\": \"#2a3f5f\", \"gridcolor\": \"white\", \"linecolor\": \"white\", \"minorgridcolor\": \"white\", \"startlinecolor\": \"#2a3f5f\"}, \"type\": \"carpet\"}], \"choropleth\": [{\"colorbar\": {\"outlinewidth\": 0, \"ticks\": \"\"}, \"type\": \"choropleth\"}], \"contour\": [{\"colorbar\": {\"outlinewidth\": 0, \"ticks\": \"\"}, \"colorscale\": [[0.0, \"#0d0887\"], [0.1111111111111111, \"#46039f\"], [0.2222222222222222, \"#7201a8\"], [0.3333333333333333, \"#9c179e\"], [0.4444444444444444, \"#bd3786\"], [0.5555555555555556, \"#d8576b\"], [0.6666666666666666, \"#ed7953\"], [0.7777777777777778, \"#fb9f3a\"], [0.8888888888888888, \"#fdca26\"], [1.0, \"#f0f921\"]], \"type\": \"contour\"}], \"contourcarpet\": [{\"colorbar\": {\"outlinewidth\": 0, \"ticks\": \"\"}, \"type\": \"contourcarpet\"}], \"heatmap\": [{\"colorbar\": {\"outlinewidth\": 0, \"ticks\": \"\"}, \"colorscale\": [[0.0, \"#0d0887\"], [0.1111111111111111, \"#46039f\"], [0.2222222222222222, \"#7201a8\"], [0.3333333333333333, \"#9c179e\"], [0.4444444444444444, \"#bd3786\"], [0.5555555555555556, \"#d8576b\"], [0.6666666666666666, \"#ed7953\"], [0.7777777777777778, \"#fb9f3a\"], [0.8888888888888888, \"#fdca26\"], [1.0, \"#f0f921\"]], \"type\": \"heatmap\"}], \"heatmapgl\": [{\"colorbar\": {\"outlinewidth\": 0, \"ticks\": \"\"}, \"colorscale\": [[0.0, \"#0d0887\"], [0.1111111111111111, \"#46039f\"], [0.2222222222222222, \"#7201a8\"], [0.3333333333333333, \"#9c179e\"], [0.4444444444444444, \"#bd3786\"], [0.5555555555555556, \"#d8576b\"], [0.6666666666666666, \"#ed7953\"], [0.7777777777777778, \"#fb9f3a\"], [0.8888888888888888, \"#fdca26\"], [1.0, \"#f0f921\"]], \"type\": \"heatmapgl\"}], \"histogram\": [{\"marker\": {\"colorbar\": {\"outlinewidth\": 0, \"ticks\": \"\"}}, \"type\": \"histogram\"}], \"histogram2d\": [{\"colorbar\": {\"outlinewidth\": 0, \"ticks\": \"\"}, \"colorscale\": [[0.0, \"#0d0887\"], [0.1111111111111111, \"#46039f\"], [0.2222222222222222, \"#7201a8\"], [0.3333333333333333, \"#9c179e\"], [0.4444444444444444, \"#bd3786\"], [0.5555555555555556, \"#d8576b\"], [0.6666666666666666, \"#ed7953\"], [0.7777777777777778, \"#fb9f3a\"], [0.8888888888888888, \"#fdca26\"], [1.0, \"#f0f921\"]], \"type\": \"histogram2d\"}], \"histogram2dcontour\": [{\"colorbar\": {\"outlinewidth\": 0, \"ticks\": \"\"}, \"colorscale\": [[0.0, \"#0d0887\"], [0.1111111111111111, \"#46039f\"], [0.2222222222222222, \"#7201a8\"], [0.3333333333333333, \"#9c179e\"], [0.4444444444444444, \"#bd3786\"], [0.5555555555555556, \"#d8576b\"], [0.6666666666666666, \"#ed7953\"], [0.7777777777777778, \"#fb9f3a\"], [0.8888888888888888, \"#fdca26\"], [1.0, \"#f0f921\"]], \"type\": \"histogram2dcontour\"}], \"mesh3d\": [{\"colorbar\": {\"outlinewidth\": 0, \"ticks\": \"\"}, \"type\": \"mesh3d\"}], \"parcoords\": [{\"line\": {\"colorbar\": {\"outlinewidth\": 0, \"ticks\": \"\"}}, \"type\": \"parcoords\"}], \"scatter\": [{\"marker\": {\"colorbar\": {\"outlinewidth\": 0, \"ticks\": \"\"}}, \"type\": \"scatter\"}], \"scatter3d\": [{\"line\": {\"colorbar\": {\"outlinewidth\": 0, \"ticks\": \"\"}}, \"marker\": {\"colorbar\": {\"outlinewidth\": 0, \"ticks\": \"\"}}, \"type\": \"scatter3d\"}], \"scattercarpet\": [{\"marker\": {\"colorbar\": {\"outlinewidth\": 0, \"ticks\": \"\"}}, \"type\": \"scattercarpet\"}], \"scattergeo\": [{\"marker\": {\"colorbar\": {\"outlinewidth\": 0, \"ticks\": \"\"}}, \"type\": \"scattergeo\"}], \"scattergl\": [{\"marker\": {\"colorbar\": {\"outlinewidth\": 0, \"ticks\": \"\"}}, \"type\": \"scattergl\"}], \"scattermapbox\": [{\"marker\": {\"colorbar\": {\"outlinewidth\": 0, \"ticks\": \"\"}}, \"type\": \"scattermapbox\"}], \"scatterpolar\": [{\"marker\": {\"colorbar\": {\"outlinewidth\": 0, \"ticks\": \"\"}}, \"type\": \"scatterpolar\"}], \"scatterpolargl\": [{\"marker\": {\"colorbar\": {\"outlinewidth\": 0, \"ticks\": \"\"}}, \"type\": \"scatterpolargl\"}], \"scatterternary\": [{\"marker\": {\"colorbar\": {\"outlinewidth\": 0, \"ticks\": \"\"}}, \"type\": \"scatterternary\"}], \"surface\": [{\"colorbar\": {\"outlinewidth\": 0, \"ticks\": \"\"}, \"colorscale\": [[0.0, \"#0d0887\"], [0.1111111111111111, \"#46039f\"], [0.2222222222222222, \"#7201a8\"], [0.3333333333333333, \"#9c179e\"], [0.4444444444444444, \"#bd3786\"], [0.5555555555555556, \"#d8576b\"], [0.6666666666666666, \"#ed7953\"], [0.7777777777777778, \"#fb9f3a\"], [0.8888888888888888, \"#fdca26\"], [1.0, \"#f0f921\"]], \"type\": \"surface\"}], \"table\": [{\"cells\": {\"fill\": {\"color\": \"#EBF0F8\"}, \"line\": {\"color\": \"white\"}}, \"header\": {\"fill\": {\"color\": \"#C8D4E3\"}, \"line\": {\"color\": \"white\"}}, \"type\": \"table\"}]}, \"layout\": {\"annotationdefaults\": {\"arrowcolor\": \"#2a3f5f\", \"arrowhead\": 0, \"arrowwidth\": 1}, \"colorscale\": {\"diverging\": [[0, \"#8e0152\"], [0.1, \"#c51b7d\"], [0.2, \"#de77ae\"], [0.3, \"#f1b6da\"], [0.4, \"#fde0ef\"], [0.5, \"#f7f7f7\"], [0.6, \"#e6f5d0\"], [0.7, \"#b8e186\"], [0.8, \"#7fbc41\"], [0.9, \"#4d9221\"], [1, \"#276419\"]], \"sequential\": [[0.0, \"#0d0887\"], [0.1111111111111111, \"#46039f\"], [0.2222222222222222, \"#7201a8\"], [0.3333333333333333, \"#9c179e\"], [0.4444444444444444, \"#bd3786\"], [0.5555555555555556, \"#d8576b\"], [0.6666666666666666, \"#ed7953\"], [0.7777777777777778, \"#fb9f3a\"], [0.8888888888888888, \"#fdca26\"], [1.0, \"#f0f921\"]], \"sequentialminus\": [[0.0, \"#0d0887\"], [0.1111111111111111, \"#46039f\"], [0.2222222222222222, \"#7201a8\"], [0.3333333333333333, \"#9c179e\"], [0.4444444444444444, \"#bd3786\"], [0.5555555555555556, \"#d8576b\"], [0.6666666666666666, \"#ed7953\"], [0.7777777777777778, \"#fb9f3a\"], [0.8888888888888888, \"#fdca26\"], [1.0, \"#f0f921\"]]}, \"colorway\": [\"#636efa\", \"#EF553B\", \"#00cc96\", \"#ab63fa\", \"#FFA15A\", \"#19d3f3\", \"#FF6692\", \"#B6E880\", \"#FF97FF\", \"#FECB52\"], \"font\": {\"color\": \"#2a3f5f\"}, \"geo\": {\"bgcolor\": \"white\", \"lakecolor\": \"white\", \"landcolor\": \"#E5ECF6\", \"showlakes\": true, \"showland\": true, \"subunitcolor\": \"white\"}, \"hoverlabel\": {\"align\": \"left\"}, \"hovermode\": \"closest\", \"mapbox\": {\"style\": \"light\"}, \"paper_bgcolor\": \"white\", \"plot_bgcolor\": \"#E5ECF6\", \"polar\": {\"angularaxis\": {\"gridcolor\": \"white\", \"linecolor\": \"white\", \"ticks\": \"\"}, \"bgcolor\": \"#E5ECF6\", \"radialaxis\": {\"gridcolor\": \"white\", \"linecolor\": \"white\", \"ticks\": \"\"}}, \"scene\": {\"xaxis\": {\"backgroundcolor\": \"#E5ECF6\", \"gridcolor\": \"white\", \"gridwidth\": 2, \"linecolor\": \"white\", \"showbackground\": true, \"ticks\": \"\", \"zerolinecolor\": \"white\"}, \"yaxis\": {\"backgroundcolor\": \"#E5ECF6\", \"gridcolor\": \"white\", \"gridwidth\": 2, \"linecolor\": \"white\", \"showbackground\": true, \"ticks\": \"\", \"zerolinecolor\": \"white\"}, \"zaxis\": {\"backgroundcolor\": \"#E5ECF6\", \"gridcolor\": \"white\", \"gridwidth\": 2, \"linecolor\": \"white\", \"showbackground\": true, \"ticks\": \"\", \"zerolinecolor\": \"white\"}}, \"shapedefaults\": {\"line\": {\"color\": \"#2a3f5f\"}}, \"ternary\": {\"aaxis\": {\"gridcolor\": \"white\", \"linecolor\": \"white\", \"ticks\": \"\"}, \"baxis\": {\"gridcolor\": \"white\", \"linecolor\": \"white\", \"ticks\": \"\"}, \"bgcolor\": \"#E5ECF6\", \"caxis\": {\"gridcolor\": \"white\", \"linecolor\": \"white\", \"ticks\": \"\"}}, \"title\": {\"x\": 0.05}, \"xaxis\": {\"automargin\": true, \"gridcolor\": \"white\", \"linecolor\": \"white\", \"ticks\": \"\", \"zerolinecolor\": \"white\", \"zerolinewidth\": 2}, \"yaxis\": {\"automargin\": true, \"gridcolor\": \"white\", \"linecolor\": \"white\", \"ticks\": \"\", \"zerolinecolor\": \"white\", \"zerolinewidth\": 2}}}, \"xaxis\": {\"anchor\": \"y\", \"domain\": [0.0, 0.98], \"title\": {\"text\": \"YEAR_BUILT\"}}, \"yaxis\": {\"anchor\": \"x\", \"domain\": [0.0, 1.0], \"title\": {\"text\": \"SALE_PRICE\"}}},\n",
              "                        {\"responsive\": true}\n",
              "                    ).then(function(){\n",
              "                            \n",
              "var gd = document.getElementById('b5bfbb96-0b56-41b0-9096-98a189c08b12');\n",
              "var x = new MutationObserver(function (mutations, observer) {{\n",
              "        var display = window.getComputedStyle(gd).display;\n",
              "        if (!display || display === 'none') {{\n",
              "            console.log([gd, 'removed!']);\n",
              "            Plotly.purge(gd);\n",
              "            observer.disconnect();\n",
              "        }}\n",
              "}});\n",
              "\n",
              "// Listen for the removal of the full notebook cells\n",
              "var notebookContainer = gd.closest('#notebook-container');\n",
              "if (notebookContainer) {{\n",
              "    x.observe(notebookContainer, {childList: true});\n",
              "}}\n",
              "\n",
              "// Listen for the clearing of the current output cell\n",
              "var outputEl = gd.closest('.output');\n",
              "if (outputEl) {{\n",
              "    x.observe(outputEl, {childList: true});\n",
              "}}\n",
              "\n",
              "                        })\n",
              "                };\n",
              "                \n",
              "            </script>\n",
              "        </div>\n",
              "</body>\n",
              "</html>"
            ]
          },
          "metadata": {
            "tags": []
          }
        }
      ]
    },
    {
      "cell_type": "code",
      "metadata": {
        "id": "BvzjfL22TrzR",
        "colab_type": "code",
        "colab": {}
      },
      "source": [
        "# Use scikit-learn for linear regression with one feature. You can follow the 5-step process from Jake VanderPlas."
      ],
      "execution_count": 0,
      "outputs": []
    },
    {
      "cell_type": "code",
      "metadata": {
        "id": "kTwbroKEMfP_",
        "colab_type": "code",
        "colab": {}
      },
      "source": [
        "# 1. Import the appropriate estimator class from Scikit-Learn\n",
        "from sklearn.linear_model import LinearRegression\n"
      ],
      "execution_count": 0,
      "outputs": []
    },
    {
      "cell_type": "code",
      "metadata": {
        "id": "MyhEZXjrSqJz",
        "colab_type": "code",
        "colab": {}
      },
      "source": [
        "# 2. Instantiate this class\n",
        "model = LinearRegression()"
      ],
      "execution_count": 0,
      "outputs": []
    },
    {
      "cell_type": "code",
      "metadata": {
        "id": "xl5Po04dPmyz",
        "colab_type": "code",
        "colab": {}
      },
      "source": [
        "# 3. Arrange X features matrix & y target vector\n",
        "features = ['YEAR_BUILT']\n",
        "target = 'SALE_PRICE'\n",
        "X_train = df[features]\n",
        "y_train = df[target]\n"
      ],
      "execution_count": 0,
      "outputs": []
    },
    {
      "cell_type": "code",
      "metadata": {
        "id": "H319Q6DzSdo5",
        "colab_type": "code",
        "colab": {
          "base_uri": "https://localhost:8080/",
          "height": 34
        },
        "outputId": "1798a4fb-7553-4732-e352-29d17ae97fd5"
      },
      "source": [
        "# 4. Fit the model\n",
        "model.fit(X_train, y_train)"
      ],
      "execution_count": 14,
      "outputs": [
        {
          "output_type": "execute_result",
          "data": {
            "text/plain": [
              "LinearRegression(copy_X=True, fit_intercept=True, n_jobs=None, normalize=False)"
            ]
          },
          "metadata": {
            "tags": []
          },
          "execution_count": 14
        }
      ]
    },
    {
      "cell_type": "code",
      "metadata": {
        "id": "zzbNmwm5S-No",
        "colab_type": "code",
        "colab": {
          "base_uri": "https://localhost:8080/",
          "height": 34
        },
        "outputId": "65b0edec-039c-49f3-f399-ad2d58220363"
      },
      "source": [
        "# 5. Apply the model to new data\n",
        "square_feet = 1497\n",
        "X_test = [[square_feet]]\n",
        "y_pred = model.predict(X_test)\n",
        "y_pred"
      ],
      "execution_count": 15,
      "outputs": [
        {
          "output_type": "execute_result",
          "data": {
            "text/plain": [
              "array([3810529.16058511])"
            ]
          },
          "metadata": {
            "tags": []
          },
          "execution_count": 15
        }
      ]
    },
    {
      "cell_type": "code",
      "metadata": {
        "id": "toYA-U46U9mj",
        "colab_type": "code",
        "colab": {
          "base_uri": "https://localhost:8080/",
          "height": 34
        },
        "outputId": "5171bed4-f5af-4106-c9e1-8af17d4693a6"
      },
      "source": [
        "# Defining a function to make new predictions and explain the model coefficient.\n",
        "def predict(x):\n",
        "  m = model.coef_[0]\n",
        "  b = model.intercept_\n",
        "  y = (m*x)+b\n",
        "  return y, m, b\n",
        "\n",
        "predict(1)"
      ],
      "execution_count": 16,
      "outputs": [
        {
          "output_type": "execute_result",
          "data": {
            "text/plain": [
              "(1795919.2584558083, 1346.6643730810808, 1794572.594082727)"
            ]
          },
          "metadata": {
            "tags": []
          },
          "execution_count": 16
        }
      ]
    },
    {
      "cell_type": "code",
      "metadata": {
        "id": "BwVeBRtoU9y6",
        "colab_type": "code",
        "colab": {
          "base_uri": "https://localhost:8080/",
          "height": 34
        },
        "outputId": "fc9f401e-5ed6-4349-ff64-de1ad960ed5f"
      },
      "source": [
        "# Stretch Goals\n",
        "# Do linear regression with two or more features.\n",
        "\n",
        "model2 = LinearRegression()\n",
        "features2 = ['YEAR_BUILT', 'GROSS_SQUARE_FEET']\n",
        "target2 = 'SALE_PRICE'\n",
        "X_train2 = df[features2]\n",
        "y_train2 = df[target2]\n",
        "\n",
        "model.fit(X_train2, y_train2)\n"
      ],
      "execution_count": 17,
      "outputs": [
        {
          "output_type": "execute_result",
          "data": {
            "text/plain": [
              "LinearRegression(copy_X=True, fit_intercept=True, n_jobs=None, normalize=False)"
            ]
          },
          "metadata": {
            "tags": []
          },
          "execution_count": 17
        }
      ]
    }
  ]
}