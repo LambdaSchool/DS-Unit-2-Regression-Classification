{
 "cells": [
  {
   "cell_type": "markdown",
   "metadata": {
    "colab_type": "text",
    "id": "view-in-github"
   },
   "source": [
    "<a href=\"https://colab.research.google.com/github/mpHarm88/DS-Unit-2-Regression-Classification/blob/master/module3/Mikio_Harman_assignment_regression_classification_3.ipynb\" target=\"_parent\"><img src=\"https://colab.research.google.com/assets/colab-badge.svg\" alt=\"Open In Colab\"/></a>"
   ]
  },
  {
   "cell_type": "markdown",
   "metadata": {
    "colab_type": "text",
    "id": "7IXUfiQ2UKj6"
   },
   "source": [
    "Lambda School Data Science, Unit 2: Predictive Modeling\n",
    "\n",
    "# Regression & Classification, Module 3\n",
    "\n",
    "## Assignment\n",
    "\n",
    "We're going back to our other **New York City** real estate dataset. Instead of predicting apartment rents, you'll predict property sales prices.\n",
    "\n",
    "But not just for condos in Tribeca...\n",
    "\n",
    "Instead, predict property sales prices for **One Family Dwellings** (`BUILDING_CLASS_CATEGORY` == `'01 ONE FAMILY DWELLINGS'`). \n",
    "\n",
    "Use a subset of the data where the **sale price was more than \\\\$100 thousand and less than $2 million.** \n",
    "\n",
    "The [NYC Department of Finance](https://www1.nyc.gov/site/finance/taxes/property-rolling-sales-data.page) has a glossary of property sales terms and NYC Building Class Code Descriptions. The data comes from the [NYC OpenData](https://data.cityofnewyork.us/browse?q=NYC%20calendar%20sales) portal.\n",
    "\n",
    "- [ ] Do train/test split. Use data from January — March 2019 to train. Use data from April 2019 to test.\n",
    "- [ ] Do one-hot encoding of categorical features.\n",
    "- [ ] Do feature selection with `SelectKBest`.\n",
    "- [ ] Do [feature scaling](https://scikit-learn.org/stable/modules/preprocessing.html).\n",
    "- [ ] Fit a ridge regression model with multiple features.\n",
    "- [ ] Get mean absolute error for the test set.\n",
    "- [ ] As always, commit your notebook to your fork of the GitHub repo.\n",
    "\n",
    "\n",
    "## Stretch Goals\n",
    "- [ ] Add your own stretch goal(s) !\n",
    "- [ ] Instead of `RidgeRegression`, try `LinearRegression`. Depending on how many features you select, your errors will probably blow up! 💥\n",
    "- [ ] Instead of `RidgeRegression`, try [`RidgeCV`](https://scikit-learn.org/stable/modules/generated/sklearn.linear_model.RidgeCV.html).\n",
    "- [ ] Learn more about feature selection:\n",
    "    - [\"Permutation importance\"](https://www.kaggle.com/dansbecker/permutation-importance)\n",
    "    - [scikit-learn's User Guide for Feature Selection](https://scikit-learn.org/stable/modules/feature_selection.html)\n",
    "    - [mlxtend](http://rasbt.github.io/mlxtend/) library\n",
    "    - scikit-learn-contrib libraries: [boruta_py](https://github.com/scikit-learn-contrib/boruta_py) & [stability-selection](https://github.com/scikit-learn-contrib/stability-selection)\n",
    "    - [_Feature Engineering and Selection_](http://www.feat.engineering/) by Kuhn & Johnson.\n",
    "- [ ] Try [statsmodels](https://www.statsmodels.org/stable/index.html) if you’re interested in more inferential statistical approach to linear regression and feature selection, looking at p values and 95% confidence intervals for the coefficients.\n",
    "- [ ] Read [_An Introduction to Statistical Learning_](http://faculty.marshall.usc.edu/gareth-james/ISL/ISLR%20Seventh%20Printing.pdf), Chapters 1-3, for more math & theory, but in an accessible, readable way.\n",
    "- [ ] Try [scikit-learn pipelines](https://scikit-learn.org/stable/modules/compose.html)."
   ]
  },
  {
   "cell_type": "code",
   "execution_count": null,
   "metadata": {
    "colab": {},
    "colab_type": "code",
    "id": "o9eSnDYhUGD7"
   },
   "outputs": [],
   "source": [
    "import os, sys\n",
    "in_colab = 'google.colab' in sys.modules\n",
    "\n",
    "# If you're in Colab...\n",
    "if in_colab:\n",
    "    # Pull files from Github repo\n",
    "    os.chdir('/content')\n",
    "    !git init .\n",
    "    !git remote add origin https://github.com/LambdaSchool/DS-Unit-2-Regression-Classification.git\n",
    "    !git pull origin master\n",
    "    \n",
    "    # Install required python packages\n",
    "    !pip install -r requirements.txt\n",
    "    \n",
    "    # Change into directory for module\n",
    "    os.chdir('module3')"
   ]
  },
  {
   "cell_type": "code",
   "execution_count": 1,
   "metadata": {
    "colab": {},
    "colab_type": "code",
    "id": "ipBYS77PUwNR"
   },
   "outputs": [],
   "source": [
    "# Ignore this Numpy warning when using Plotly Express:\n",
    "# FutureWarning: Method .ptp is deprecated and will be removed in a future version. Use numpy.ptp instead.\n",
    "import warnings\n",
    "warnings.filterwarnings(action='ignore', category=FutureWarning, module='numpy')"
   ]
  },
  {
   "cell_type": "code",
   "execution_count": 3,
   "metadata": {
    "colab": {},
    "colab_type": "code",
    "id": "QJBD4ruICm1m"
   },
   "outputs": [],
   "source": [
    "import pandas as pd\n",
    "\n",
    "# Read New York City property sales data\n",
    "df = pd.read_csv('../data/condos/NYC_Citywide_Rolling_Calendar_Sales.csv')\n",
    "\n",
    "# Change column names: replace spaces with underscores\n",
    "df.columns = [col.replace(' ', '_') for col in df]\n",
    "\n",
    "# SALE_PRICE was read as strings.\n",
    "# Remove symbols, convert to integer\n",
    "df['SALE_PRICE'] = (\n",
    "    df['SALE_PRICE']\n",
    "    .str.replace('$','')\n",
    "    .str.replace('-','')\n",
    "    .str.replace(',','')\n",
    "    .astype(int)\n",
    ")"
   ]
  },
  {
   "cell_type": "code",
   "execution_count": 4,
   "metadata": {
    "colab": {},
    "colab_type": "code",
    "id": "xwovGo-PBzkJ"
   },
   "outputs": [],
   "source": [
    "# BOROUGH is a numeric column, but arguably should be a categorical feature,\n",
    "# so convert it from a number to a string\n",
    "df['BOROUGH'] = df['BOROUGH'].astype(str)"
   ]
  },
  {
   "cell_type": "code",
   "execution_count": 5,
   "metadata": {
    "colab": {
     "base_uri": "https://localhost:8080/",
     "height": 188
    },
    "colab_type": "code",
    "id": "hfpAt0hEBzkP",
    "outputId": "61520084-a9eb-44dd-8ce7-1c880e9214bf"
   },
   "outputs": [
    {
     "data": {
      "text/html": [
       "<div>\n",
       "<style scoped>\n",
       "    .dataframe tbody tr th:only-of-type {\n",
       "        vertical-align: middle;\n",
       "    }\n",
       "\n",
       "    .dataframe tbody tr th {\n",
       "        vertical-align: top;\n",
       "    }\n",
       "\n",
       "    .dataframe thead th {\n",
       "        text-align: right;\n",
       "    }\n",
       "</style>\n",
       "<table border=\"1\" class=\"dataframe\">\n",
       "  <thead>\n",
       "    <tr style=\"text-align: right;\">\n",
       "      <th></th>\n",
       "      <th>BOROUGH</th>\n",
       "      <th>NEIGHBORHOOD</th>\n",
       "      <th>BUILDING_CLASS_CATEGORY</th>\n",
       "      <th>TAX_CLASS_AT_PRESENT</th>\n",
       "      <th>BLOCK</th>\n",
       "      <th>LOT</th>\n",
       "      <th>EASE-MENT</th>\n",
       "      <th>BUILDING_CLASS_AT_PRESENT</th>\n",
       "      <th>ADDRESS</th>\n",
       "      <th>APARTMENT_NUMBER</th>\n",
       "      <th>...</th>\n",
       "      <th>RESIDENTIAL_UNITS</th>\n",
       "      <th>COMMERCIAL_UNITS</th>\n",
       "      <th>TOTAL_UNITS</th>\n",
       "      <th>LAND_SQUARE_FEET</th>\n",
       "      <th>GROSS_SQUARE_FEET</th>\n",
       "      <th>YEAR_BUILT</th>\n",
       "      <th>TAX_CLASS_AT_TIME_OF_SALE</th>\n",
       "      <th>BUILDING_CLASS_AT_TIME_OF_SALE</th>\n",
       "      <th>SALE_PRICE</th>\n",
       "      <th>SALE_DATE</th>\n",
       "    </tr>\n",
       "  </thead>\n",
       "  <tbody>\n",
       "    <tr>\n",
       "      <td>0</td>\n",
       "      <td>1</td>\n",
       "      <td>OTHER</td>\n",
       "      <td>13 CONDOS - ELEVATOR APARTMENTS</td>\n",
       "      <td>2</td>\n",
       "      <td>716</td>\n",
       "      <td>1246</td>\n",
       "      <td>NaN</td>\n",
       "      <td>R4</td>\n",
       "      <td>447 WEST 18TH STREET, PH12A</td>\n",
       "      <td>PH12A</td>\n",
       "      <td>...</td>\n",
       "      <td>1.0</td>\n",
       "      <td>0.0</td>\n",
       "      <td>1.0</td>\n",
       "      <td>10,733</td>\n",
       "      <td>1979.0</td>\n",
       "      <td>2007.0</td>\n",
       "      <td>2</td>\n",
       "      <td>R4</td>\n",
       "      <td>0</td>\n",
       "      <td>01/01/2019</td>\n",
       "    </tr>\n",
       "  </tbody>\n",
       "</table>\n",
       "<p>1 rows × 21 columns</p>\n",
       "</div>"
      ],
      "text/plain": [
       "  BOROUGH NEIGHBORHOOD          BUILDING_CLASS_CATEGORY TAX_CLASS_AT_PRESENT  \\\n",
       "0       1        OTHER  13 CONDOS - ELEVATOR APARTMENTS                    2   \n",
       "\n",
       "   BLOCK   LOT  EASE-MENT BUILDING_CLASS_AT_PRESENT  \\\n",
       "0    716  1246        NaN                        R4   \n",
       "\n",
       "                       ADDRESS APARTMENT_NUMBER  ...  RESIDENTIAL_UNITS  \\\n",
       "0  447 WEST 18TH STREET, PH12A            PH12A  ...                1.0   \n",
       "\n",
       "   COMMERCIAL_UNITS  TOTAL_UNITS  LAND_SQUARE_FEET GROSS_SQUARE_FEET  \\\n",
       "0               0.0          1.0            10,733            1979.0   \n",
       "\n",
       "   YEAR_BUILT  TAX_CLASS_AT_TIME_OF_SALE  BUILDING_CLASS_AT_TIME_OF_SALE  \\\n",
       "0      2007.0                          2                              R4   \n",
       "\n",
       "  SALE_PRICE   SALE_DATE  \n",
       "0          0  01/01/2019  \n",
       "\n",
       "[1 rows x 21 columns]"
      ]
     },
     "execution_count": 5,
     "metadata": {},
     "output_type": "execute_result"
    }
   ],
   "source": [
    "# Reduce cardinality for NEIGHBORHOOD feature\n",
    "\n",
    "# Get a list of the top 10 neighborhoods\n",
    "top10 = df['NEIGHBORHOOD'].value_counts()[:10].index\n",
    "\n",
    "# At locations where the neighborhood is NOT in the top 10, \n",
    "# replace the neighborhood with 'OTHER'\n",
    "df.loc[~df['NEIGHBORHOOD'].isin(top10), 'NEIGHBORHOOD'] = 'OTHER'\n",
    "\n",
    "df.head(1)"
   ]
  },
  {
   "cell_type": "code",
   "execution_count": null,
   "metadata": {
    "colab": {},
    "colab_type": "code",
    "id": "RRuH4-y2tv5K"
   },
   "outputs": [],
   "source": []
  },
  {
   "cell_type": "markdown",
   "metadata": {
    "colab_type": "text",
    "id": "_YX7C6DEECy7"
   },
   "source": [
    "####Changing to Pandas Date Time"
   ]
  },
  {
   "cell_type": "code",
   "execution_count": 7,
   "metadata": {
    "colab": {
     "base_uri": "https://localhost:8080/",
     "height": 34
    },
    "colab_type": "code",
    "id": "lRnKrHzKBzkV",
    "outputId": "20d113d7-5822-4136-f8ee-739f59a14cd2"
   },
   "outputs": [
    {
     "data": {
      "text/plain": [
       "dtype('<M8[ns]')"
      ]
     },
     "execution_count": 7,
     "metadata": {},
     "output_type": "execute_result"
    }
   ],
   "source": [
    "df.head()\n",
    "df['SALE_DATE'].dtype\n",
    "df[\"SALE_DATE\"] = pd.to_datetime(df['SALE_DATE'])\n",
    "df['SALE_DATE'].dtypes"
   ]
  },
  {
   "cell_type": "code",
   "execution_count": null,
   "metadata": {
    "colab": {},
    "colab_type": "code",
    "id": "zidOld8pJ2Wu"
   },
   "outputs": [],
   "source": [
    "#Changing Land Square Feet to a numeric\n",
    "\n",
    "# print(df['LAND_SQUARE_FEET'].dtypes)\n",
    "# df['LAND_SQUARE_FEET'] = df['LAND_SQUARE_FEET'].dropna()\n",
    "# print(df['LAND_SQUARE_FEET'].value_counts().sum())\n",
    "# df['LAND_SQUARE_FEET'] = (\n",
    "#     df['LAND_SQUARE_FEET']\n",
    "#     .str.replace(',' , '')\n",
    "#     # .str.replace('########', 0)\n",
    "#     # .astype(float)\n",
    "# )\n",
    "# print(df['LAND_SQUARE_FEET'].dtypes)\n",
    "# df[\"LAND_SQUARE_FEET\"].describe(exclude='number')"
   ]
  },
  {
   "cell_type": "markdown",
   "metadata": {
    "colab_type": "text",
    "id": "_0iGQPE7GH5g"
   },
   "source": []
  },
  {
   "cell_type": "code",
   "execution_count": 8,
   "metadata": {
    "colab": {
     "base_uri": "https://localhost:8080/",
     "height": 86
    },
    "colab_type": "code",
    "id": "b0kBzy4XELGk",
    "outputId": "1d159298-2ea8-44f3-a719-7fef8c2d09a2"
   },
   "outputs": [
    {
     "data": {
      "text/plain": [
       "1    6464\n",
       "3    6105\n",
       "2    5598\n",
       "Name: SALE_DATE, dtype: int64"
      ]
     },
     "execution_count": 8,
     "metadata": {
      "tags": []
     },
     "output_type": "execute_result"
    }
   ],
   "source": [
    "#Train set Jan-Mar\n",
    "cutoff = pd.to_datetime('2019-04-01')\n",
    "train = df[df['SALE_DATE'] < cutoff]\n",
    "train['SALE_DATE'].dt.month.value_counts()"
   ]
  },
  {
   "cell_type": "code",
   "execution_count": 9,
   "metadata": {
    "colab": {
     "base_uri": "https://localhost:8080/",
     "height": 52
    },
    "colab_type": "code",
    "id": "1oBh7ea5GJGJ",
    "outputId": "d58f7c70-6705-4c1b-afb9-d7d9576da4b9"
   },
   "outputs": [
    {
     "data": {
      "text/plain": [
       "4    4873\n",
       "Name: SALE_DATE, dtype: int64"
      ]
     },
     "execution_count": 9,
     "metadata": {
      "tags": []
     },
     "output_type": "execute_result"
    }
   ],
   "source": [
    "#Test set April 2019\n",
    "test = df[df['SALE_DATE'].dt.month == 4]\n",
    "test['SALE_DATE'].dt.month.value_counts()"
   ]
  },
  {
   "cell_type": "code",
   "execution_count": null,
   "metadata": {
    "colab": {},
    "colab_type": "code",
    "id": "0T2m60WdTgxM"
   },
   "outputs": [],
   "source": []
  },
  {
   "cell_type": "markdown",
   "metadata": {
    "colab_type": "text",
    "id": "nhfuoM3tISEG"
   },
   "source": [
    "####One Hot Encoding"
   ]
  },
  {
   "cell_type": "code",
   "execution_count": 12,
   "metadata": {
    "colab": {
     "base_uri": "https://localhost:8080/",
     "height": 434
    },
    "colab_type": "code",
    "id": "RJBLA0nBJZfb",
    "outputId": "9b918ce7-8414-4576-a86f-e9a2895f74c5"
   },
   "outputs": [
    {
     "name": "stdout",
     "output_type": "stream",
     "text": [
      "Train Shape (18167, 21)\n",
      "Test Shape (4873, 21)\n"
     ]
    },
    {
     "data": {
      "text/plain": [
       "BOROUGH                               0\n",
       "NEIGHBORHOOD                          0\n",
       "BUILDING_CLASS_CATEGORY               0\n",
       "TAX_CLASS_AT_PRESENT                  0\n",
       "BLOCK                                 0\n",
       "LOT                                   0\n",
       "EASE-MENT                         18167\n",
       "BUILDING_CLASS_AT_PRESENT             0\n",
       "ADDRESS                               0\n",
       "APARTMENT_NUMBER                  14195\n",
       "ZIP_CODE                              0\n",
       "RESIDENTIAL_UNITS                     0\n",
       "COMMERCIAL_UNITS                      0\n",
       "TOTAL_UNITS                           0\n",
       "LAND_SQUARE_FEET                     28\n",
       "GROSS_SQUARE_FEET                     0\n",
       "YEAR_BUILT                            5\n",
       "TAX_CLASS_AT_TIME_OF_SALE             0\n",
       "BUILDING_CLASS_AT_TIME_OF_SALE        0\n",
       "SALE_PRICE                            0\n",
       "SALE_DATE                             0\n",
       "dtype: int64"
      ]
     },
     "execution_count": 12,
     "metadata": {
      "tags": []
     },
     "output_type": "execute_result"
    }
   ],
   "source": [
    "print('Train Shape', train.shape)\n",
    "print('Test Shape', test.shape)\n",
    "train.isnull().sum()"
   ]
  },
  {
   "cell_type": "code",
   "execution_count": null,
   "metadata": {
    "colab": {},
    "colab_type": "code",
    "id": "FNvP6sRJVNjj"
   },
   "outputs": [],
   "source": [
    "test = test.drop(labels=['EASE-MENT', 'APARTMENT_NUMBER', 'LAND_SQUARE_FEET'], axis=1)"
   ]
  },
  {
   "cell_type": "code",
   "execution_count": null,
   "metadata": {
    "colab": {},
    "colab_type": "code",
    "id": "gK2u3SvrWnBh"
   },
   "outputs": [],
   "source": [
    "train = train.drop(labels=['EASE-MENT', 'APARTMENT_NUMBER', 'LAND_SQUARE_FEET'], axis=1)"
   ]
  },
  {
   "cell_type": "code",
   "execution_count": 22,
   "metadata": {
    "colab": {
     "base_uri": "https://localhost:8080/",
     "height": 677
    },
    "colab_type": "code",
    "id": "FmzJAsv7WrtV",
    "outputId": "77bad621-c963-459f-f9b3-18e2f98ab906"
   },
   "outputs": [
    {
     "name": "stdout",
     "output_type": "stream",
     "text": [
      "BOROUGH                           0\n",
      "NEIGHBORHOOD                      0\n",
      "BUILDING_CLASS_CATEGORY           0\n",
      "TAX_CLASS_AT_PRESENT              0\n",
      "BLOCK                             0\n",
      "LOT                               0\n",
      "BUILDING_CLASS_AT_PRESENT         0\n",
      "ADDRESS                           0\n",
      "ZIP_CODE                          0\n",
      "RESIDENTIAL_UNITS                 0\n",
      "COMMERCIAL_UNITS                  0\n",
      "TOTAL_UNITS                       0\n",
      "GROSS_SQUARE_FEET                 0\n",
      "YEAR_BUILT                        0\n",
      "TAX_CLASS_AT_TIME_OF_SALE         0\n",
      "BUILDING_CLASS_AT_TIME_OF_SALE    0\n",
      "SALE_PRICE                        0\n",
      "SALE_DATE                         0\n",
      "dtype: int64\n",
      "BOROUGH                           0\n",
      "NEIGHBORHOOD                      0\n",
      "BUILDING_CLASS_CATEGORY           0\n",
      "TAX_CLASS_AT_PRESENT              0\n",
      "BLOCK                             0\n",
      "LOT                               0\n",
      "BUILDING_CLASS_AT_PRESENT         0\n",
      "ADDRESS                           0\n",
      "ZIP_CODE                          0\n",
      "RESIDENTIAL_UNITS                 0\n",
      "COMMERCIAL_UNITS                  0\n",
      "TOTAL_UNITS                       0\n",
      "GROSS_SQUARE_FEET                 0\n",
      "YEAR_BUILT                        0\n",
      "TAX_CLASS_AT_TIME_OF_SALE         0\n",
      "BUILDING_CLASS_AT_TIME_OF_SALE    0\n",
      "SALE_PRICE                        0\n",
      "SALE_DATE                         0\n",
      "dtype: int64\n"
     ]
    }
   ],
   "source": [
    "#No Nulls\n",
    "train = train.dropna()\n",
    "test = test.dropna()\n",
    "print(train.isnull().sum())\n",
    "print(test.isnull().sum())"
   ]
  },
  {
   "cell_type": "code",
   "execution_count": 70,
   "metadata": {
    "colab": {
     "base_uri": "https://localhost:8080/",
     "height": 348
    },
    "colab_type": "code",
    "id": "KTCHlgMpndrr",
    "outputId": "de5efe32-bbc5-4f72-e1e5-9f423a90c912"
   },
   "outputs": [
    {
     "data": {
      "text/html": [
       "<div>\n",
       "<style scoped>\n",
       "    .dataframe tbody tr th:only-of-type {\n",
       "        vertical-align: middle;\n",
       "    }\n",
       "\n",
       "    .dataframe tbody tr th {\n",
       "        vertical-align: top;\n",
       "    }\n",
       "\n",
       "    .dataframe thead th {\n",
       "        text-align: right;\n",
       "    }\n",
       "</style>\n",
       "<table border=\"1\" class=\"dataframe\">\n",
       "  <thead>\n",
       "    <tr style=\"text-align: right;\">\n",
       "      <th></th>\n",
       "      <th>BOROUGH</th>\n",
       "      <th>NEIGHBORHOOD</th>\n",
       "      <th>BUILDING_CLASS_CATEGORY</th>\n",
       "      <th>TAX_CLASS_AT_PRESENT</th>\n",
       "      <th>BLOCK</th>\n",
       "      <th>LOT</th>\n",
       "      <th>BUILDING_CLASS_AT_PRESENT</th>\n",
       "      <th>ADDRESS</th>\n",
       "      <th>ZIP_CODE</th>\n",
       "      <th>RESIDENTIAL_UNITS</th>\n",
       "      <th>COMMERCIAL_UNITS</th>\n",
       "      <th>TOTAL_UNITS</th>\n",
       "      <th>GROSS_SQUARE_FEET</th>\n",
       "      <th>YEAR_BUILT</th>\n",
       "      <th>TAX_CLASS_AT_TIME_OF_SALE</th>\n",
       "      <th>BUILDING_CLASS_AT_TIME_OF_SALE</th>\n",
       "      <th>SALE_PRICE</th>\n",
       "      <th>SALE_DATE</th>\n",
       "    </tr>\n",
       "  </thead>\n",
       "  <tbody>\n",
       "    <tr>\n",
       "      <th>18235</th>\n",
       "      <td>2</td>\n",
       "      <td>OTHER</td>\n",
       "      <td>01 ONE FAMILY DWELLINGS</td>\n",
       "      <td>1</td>\n",
       "      <td>5913</td>\n",
       "      <td>878</td>\n",
       "      <td>A1</td>\n",
       "      <td>4616 INDEPENDENCE AVENUE</td>\n",
       "      <td>10471.0</td>\n",
       "      <td>1.0</td>\n",
       "      <td>0.0</td>\n",
       "      <td>1.0</td>\n",
       "      <td>2272.0</td>\n",
       "      <td>1930.0</td>\n",
       "      <td>1</td>\n",
       "      <td>A1</td>\n",
       "      <td>895000</td>\n",
       "      <td>2019-04-01</td>\n",
       "    </tr>\n",
       "    <tr>\n",
       "      <th>18239</th>\n",
       "      <td>2</td>\n",
       "      <td>OTHER</td>\n",
       "      <td>01 ONE FAMILY DWELLINGS</td>\n",
       "      <td>1</td>\n",
       "      <td>5488</td>\n",
       "      <td>48</td>\n",
       "      <td>A2</td>\n",
       "      <td>558 ELLSWORTH AVENUE</td>\n",
       "      <td>10465.0</td>\n",
       "      <td>1.0</td>\n",
       "      <td>0.0</td>\n",
       "      <td>1.0</td>\n",
       "      <td>720.0</td>\n",
       "      <td>1935.0</td>\n",
       "      <td>1</td>\n",
       "      <td>A2</td>\n",
       "      <td>253500</td>\n",
       "      <td>2019-04-01</td>\n",
       "    </tr>\n",
       "    <tr>\n",
       "      <th>18244</th>\n",
       "      <td>3</td>\n",
       "      <td>OTHER</td>\n",
       "      <td>01 ONE FAMILY DWELLINGS</td>\n",
       "      <td>1</td>\n",
       "      <td>5936</td>\n",
       "      <td>31</td>\n",
       "      <td>A1</td>\n",
       "      <td>16 BAY RIDGE PARKWAY</td>\n",
       "      <td>11209.0</td>\n",
       "      <td>1.0</td>\n",
       "      <td>0.0</td>\n",
       "      <td>1.0</td>\n",
       "      <td>2210.0</td>\n",
       "      <td>1925.0</td>\n",
       "      <td>1</td>\n",
       "      <td>A1</td>\n",
       "      <td>1300000</td>\n",
       "      <td>2019-04-01</td>\n",
       "    </tr>\n",
       "    <tr>\n",
       "      <th>18280</th>\n",
       "      <td>3</td>\n",
       "      <td>OTHER</td>\n",
       "      <td>01 ONE FAMILY DWELLINGS</td>\n",
       "      <td>1</td>\n",
       "      <td>7813</td>\n",
       "      <td>24</td>\n",
       "      <td>A5</td>\n",
       "      <td>1247 EAST 40TH STREET</td>\n",
       "      <td>11210.0</td>\n",
       "      <td>1.0</td>\n",
       "      <td>0.0</td>\n",
       "      <td>1.0</td>\n",
       "      <td>1520.0</td>\n",
       "      <td>1915.0</td>\n",
       "      <td>1</td>\n",
       "      <td>A5</td>\n",
       "      <td>789000</td>\n",
       "      <td>2019-04-01</td>\n",
       "    </tr>\n",
       "    <tr>\n",
       "      <th>18285</th>\n",
       "      <td>3</td>\n",
       "      <td>OTHER</td>\n",
       "      <td>01 ONE FAMILY DWELLINGS</td>\n",
       "      <td>1</td>\n",
       "      <td>8831</td>\n",
       "      <td>160</td>\n",
       "      <td>A9</td>\n",
       "      <td>2314 PLUMB 2ND STREET</td>\n",
       "      <td>11229.0</td>\n",
       "      <td>1.0</td>\n",
       "      <td>0.0</td>\n",
       "      <td>1.0</td>\n",
       "      <td>840.0</td>\n",
       "      <td>1925.0</td>\n",
       "      <td>1</td>\n",
       "      <td>A9</td>\n",
       "      <td>525000</td>\n",
       "      <td>2019-04-01</td>\n",
       "    </tr>\n",
       "  </tbody>\n",
       "</table>\n",
       "</div>"
      ],
      "text/plain": [
       "      BOROUGH NEIGHBORHOOD  ... SALE_PRICE  SALE_DATE\n",
       "18235       2        OTHER  ...     895000 2019-04-01\n",
       "18239       2        OTHER  ...     253500 2019-04-01\n",
       "18244       3        OTHER  ...    1300000 2019-04-01\n",
       "18280       3        OTHER  ...     789000 2019-04-01\n",
       "18285       3        OTHER  ...     525000 2019-04-01\n",
       "\n",
       "[5 rows x 18 columns]"
      ]
     },
     "execution_count": 70,
     "metadata": {
      "tags": []
     },
     "output_type": "execute_result"
    }
   ],
   "source": [
    "test = test.loc[test['BUILDING_CLASS_CATEGORY']=='01 ONE FAMILY DWELLINGS',:]\n",
    "train = train.loc[train['BUILDING_CLASS_CATEGORY']=='01 ONE FAMILY DWELLINGS',:]\n",
    "train = train[(train['SALE_PRICE'] >= 100000) & (train['SALE_PRICE'] <= 2000000)]\n",
    "test = test[(test['SALE_PRICE'] >= 100000) & (test['SALE_PRICE'] <= 2000000)]\n",
    "test.head()"
   ]
  },
  {
   "cell_type": "code",
   "execution_count": 71,
   "metadata": {
    "colab": {
     "base_uri": "https://localhost:8080/",
     "height": 300
    },
    "colab_type": "code",
    "id": "ATsdxTdRHo2X",
    "outputId": "0201a48d-221c-4903-da3a-07ecc410503e"
   },
   "outputs": [
    {
     "data": {
      "text/html": [
       "<div>\n",
       "<style scoped>\n",
       "    .dataframe tbody tr th:only-of-type {\n",
       "        vertical-align: middle;\n",
       "    }\n",
       "\n",
       "    .dataframe tbody tr th {\n",
       "        vertical-align: top;\n",
       "    }\n",
       "\n",
       "    .dataframe thead th {\n",
       "        text-align: right;\n",
       "    }\n",
       "</style>\n",
       "<table border=\"1\" class=\"dataframe\">\n",
       "  <thead>\n",
       "    <tr style=\"text-align: right;\">\n",
       "      <th></th>\n",
       "      <th>count</th>\n",
       "      <th>unique</th>\n",
       "      <th>top</th>\n",
       "      <th>freq</th>\n",
       "      <th>first</th>\n",
       "      <th>last</th>\n",
       "    </tr>\n",
       "  </thead>\n",
       "  <tbody>\n",
       "    <tr>\n",
       "      <th>BUILDING_CLASS_CATEGORY</th>\n",
       "      <td>2517</td>\n",
       "      <td>1</td>\n",
       "      <td>01 ONE FAMILY DWELLINGS</td>\n",
       "      <td>2517</td>\n",
       "      <td>NaN</td>\n",
       "      <td>NaN</td>\n",
       "    </tr>\n",
       "    <tr>\n",
       "      <th>TAX_CLASS_AT_PRESENT</th>\n",
       "      <td>2517</td>\n",
       "      <td>2</td>\n",
       "      <td>1</td>\n",
       "      <td>2486</td>\n",
       "      <td>NaN</td>\n",
       "      <td>NaN</td>\n",
       "    </tr>\n",
       "    <tr>\n",
       "      <th>BOROUGH</th>\n",
       "      <td>2517</td>\n",
       "      <td>5</td>\n",
       "      <td>4</td>\n",
       "      <td>1209</td>\n",
       "      <td>NaN</td>\n",
       "      <td>NaN</td>\n",
       "    </tr>\n",
       "    <tr>\n",
       "      <th>NEIGHBORHOOD</th>\n",
       "      <td>2517</td>\n",
       "      <td>6</td>\n",
       "      <td>OTHER</td>\n",
       "      <td>2390</td>\n",
       "      <td>NaN</td>\n",
       "      <td>NaN</td>\n",
       "    </tr>\n",
       "    <tr>\n",
       "      <th>BUILDING_CLASS_AT_TIME_OF_SALE</th>\n",
       "      <td>2517</td>\n",
       "      <td>11</td>\n",
       "      <td>A1</td>\n",
       "      <td>921</td>\n",
       "      <td>NaN</td>\n",
       "      <td>NaN</td>\n",
       "    </tr>\n",
       "    <tr>\n",
       "      <th>BUILDING_CLASS_AT_PRESENT</th>\n",
       "      <td>2517</td>\n",
       "      <td>13</td>\n",
       "      <td>A1</td>\n",
       "      <td>921</td>\n",
       "      <td>NaN</td>\n",
       "      <td>NaN</td>\n",
       "    </tr>\n",
       "    <tr>\n",
       "      <th>SALE_DATE</th>\n",
       "      <td>2517</td>\n",
       "      <td>68</td>\n",
       "      <td>2019-01-31 00:00:00</td>\n",
       "      <td>78</td>\n",
       "      <td>2019-01-01 00:00:00</td>\n",
       "      <td>2019-03-30 00:00:00</td>\n",
       "    </tr>\n",
       "    <tr>\n",
       "      <th>ADDRESS</th>\n",
       "      <td>2517</td>\n",
       "      <td>2507</td>\n",
       "      <td>118-20 202ND STREET</td>\n",
       "      <td>2</td>\n",
       "      <td>NaN</td>\n",
       "      <td>NaN</td>\n",
       "    </tr>\n",
       "  </tbody>\n",
       "</table>\n",
       "</div>"
      ],
      "text/plain": [
       "                               count  ...                 last\n",
       "BUILDING_CLASS_CATEGORY         2517  ...                  NaN\n",
       "TAX_CLASS_AT_PRESENT            2517  ...                  NaN\n",
       "BOROUGH                         2517  ...                  NaN\n",
       "NEIGHBORHOOD                    2517  ...                  NaN\n",
       "BUILDING_CLASS_AT_TIME_OF_SALE  2517  ...                  NaN\n",
       "BUILDING_CLASS_AT_PRESENT       2517  ...                  NaN\n",
       "SALE_DATE                       2517  ...  2019-03-30 00:00:00\n",
       "ADDRESS                         2517  ...                  NaN\n",
       "\n",
       "[8 rows x 6 columns]"
      ]
     },
     "execution_count": 71,
     "metadata": {
      "tags": []
     },
     "output_type": "execute_result"
    }
   ],
   "source": [
    "train.select_dtypes(exclude='number').describe().T.sort_values(by='unique')"
   ]
  },
  {
   "cell_type": "code",
   "execution_count": null,
   "metadata": {
    "colab": {},
    "colab_type": "code",
    "id": "q1mBfrogOfSG"
   },
   "outputs": [],
   "source": [
    "target = 'SALE_PRICE'\n",
    "high_cardinality = ['ADDRESS', 'SALE_DATE']\n",
    "features = train.columns.drop([target] + high_cardinality)\n",
    "\n",
    "X_train = train[features]\n",
    "y_train = train[target]\n",
    "X_test = test[features]\n",
    "y_test = test[target]"
   ]
  },
  {
   "cell_type": "code",
   "execution_count": 73,
   "metadata": {
    "colab": {
     "base_uri": "https://localhost:8080/",
     "height": 226
    },
    "colab_type": "code",
    "id": "0psPHkwXPfKd",
    "outputId": "c617c64b-84a3-4d88-c744-1e240f1437f6"
   },
   "outputs": [
    {
     "data": {
      "text/html": [
       "<div>\n",
       "<style scoped>\n",
       "    .dataframe tbody tr th:only-of-type {\n",
       "        vertical-align: middle;\n",
       "    }\n",
       "\n",
       "    .dataframe tbody tr th {\n",
       "        vertical-align: top;\n",
       "    }\n",
       "\n",
       "    .dataframe thead th {\n",
       "        text-align: right;\n",
       "    }\n",
       "</style>\n",
       "<table border=\"1\" class=\"dataframe\">\n",
       "  <thead>\n",
       "    <tr style=\"text-align: right;\">\n",
       "      <th></th>\n",
       "      <th>BOROUGH</th>\n",
       "      <th>NEIGHBORHOOD</th>\n",
       "      <th>BUILDING_CLASS_CATEGORY</th>\n",
       "      <th>TAX_CLASS_AT_PRESENT</th>\n",
       "      <th>BLOCK</th>\n",
       "      <th>LOT</th>\n",
       "      <th>BUILDING_CLASS_AT_PRESENT</th>\n",
       "      <th>ZIP_CODE</th>\n",
       "      <th>RESIDENTIAL_UNITS</th>\n",
       "      <th>COMMERCIAL_UNITS</th>\n",
       "      <th>TOTAL_UNITS</th>\n",
       "      <th>GROSS_SQUARE_FEET</th>\n",
       "      <th>YEAR_BUILT</th>\n",
       "      <th>TAX_CLASS_AT_TIME_OF_SALE</th>\n",
       "      <th>BUILDING_CLASS_AT_TIME_OF_SALE</th>\n",
       "    </tr>\n",
       "  </thead>\n",
       "  <tbody>\n",
       "    <tr>\n",
       "      <th>44</th>\n",
       "      <td>3</td>\n",
       "      <td>OTHER</td>\n",
       "      <td>01 ONE FAMILY DWELLINGS</td>\n",
       "      <td>1</td>\n",
       "      <td>5495</td>\n",
       "      <td>801</td>\n",
       "      <td>A9</td>\n",
       "      <td>11230.0</td>\n",
       "      <td>1.0</td>\n",
       "      <td>0.0</td>\n",
       "      <td>1.0</td>\n",
       "      <td>1325.0</td>\n",
       "      <td>1930.0</td>\n",
       "      <td>1</td>\n",
       "      <td>A9</td>\n",
       "    </tr>\n",
       "    <tr>\n",
       "      <th>61</th>\n",
       "      <td>4</td>\n",
       "      <td>OTHER</td>\n",
       "      <td>01 ONE FAMILY DWELLINGS</td>\n",
       "      <td>1</td>\n",
       "      <td>7918</td>\n",
       "      <td>72</td>\n",
       "      <td>A1</td>\n",
       "      <td>11427.0</td>\n",
       "      <td>1.0</td>\n",
       "      <td>0.0</td>\n",
       "      <td>1.0</td>\n",
       "      <td>2001.0</td>\n",
       "      <td>1940.0</td>\n",
       "      <td>1</td>\n",
       "      <td>A1</td>\n",
       "    </tr>\n",
       "    <tr>\n",
       "      <th>78</th>\n",
       "      <td>2</td>\n",
       "      <td>OTHER</td>\n",
       "      <td>01 ONE FAMILY DWELLINGS</td>\n",
       "      <td>1</td>\n",
       "      <td>4210</td>\n",
       "      <td>19</td>\n",
       "      <td>A1</td>\n",
       "      <td>10461.0</td>\n",
       "      <td>1.0</td>\n",
       "      <td>0.0</td>\n",
       "      <td>1.0</td>\n",
       "      <td>2043.0</td>\n",
       "      <td>1925.0</td>\n",
       "      <td>1</td>\n",
       "      <td>A1</td>\n",
       "    </tr>\n",
       "    <tr>\n",
       "      <th>108</th>\n",
       "      <td>3</td>\n",
       "      <td>OTHER</td>\n",
       "      <td>01 ONE FAMILY DWELLINGS</td>\n",
       "      <td>1</td>\n",
       "      <td>5212</td>\n",
       "      <td>69</td>\n",
       "      <td>A1</td>\n",
       "      <td>11226.0</td>\n",
       "      <td>1.0</td>\n",
       "      <td>0.0</td>\n",
       "      <td>1.0</td>\n",
       "      <td>2680.0</td>\n",
       "      <td>1899.0</td>\n",
       "      <td>1</td>\n",
       "      <td>A1</td>\n",
       "    </tr>\n",
       "    <tr>\n",
       "      <th>111</th>\n",
       "      <td>3</td>\n",
       "      <td>OTHER</td>\n",
       "      <td>01 ONE FAMILY DWELLINGS</td>\n",
       "      <td>1</td>\n",
       "      <td>7930</td>\n",
       "      <td>121</td>\n",
       "      <td>A5</td>\n",
       "      <td>11203.0</td>\n",
       "      <td>1.0</td>\n",
       "      <td>0.0</td>\n",
       "      <td>1.0</td>\n",
       "      <td>1872.0</td>\n",
       "      <td>1940.0</td>\n",
       "      <td>1</td>\n",
       "      <td>A5</td>\n",
       "    </tr>\n",
       "  </tbody>\n",
       "</table>\n",
       "</div>"
      ],
      "text/plain": [
       "    BOROUGH  ... BUILDING_CLASS_AT_TIME_OF_SALE\n",
       "44        3  ...                             A9\n",
       "61        4  ...                             A1\n",
       "78        2  ...                             A1\n",
       "108       3  ...                             A1\n",
       "111       3  ...                             A5\n",
       "\n",
       "[5 rows x 15 columns]"
      ]
     },
     "execution_count": 73,
     "metadata": {
      "tags": []
     },
     "output_type": "execute_result"
    }
   ],
   "source": [
    "X_train.head()"
   ]
  },
  {
   "cell_type": "code",
   "execution_count": null,
   "metadata": {
    "colab": {},
    "colab_type": "code",
    "id": "SmXGG-1xP2kK"
   },
   "outputs": [],
   "source": [
    "import category_encoders as ce\n",
    "encoder = ce.OneHotEncoder(use_cat_names=True)\n",
    "X_train = encoder.fit_transform(X_train)\n",
    "X_test = encoder.transform(X_test)"
   ]
  },
  {
   "cell_type": "code",
   "execution_count": 75,
   "metadata": {
    "colab": {
     "base_uri": "https://localhost:8080/",
     "height": 135
    },
    "colab_type": "code",
    "id": "5nHcNfK3Qbj2",
    "outputId": "7250bbb6-fc19-4928-838d-d642eb59c1a3"
   },
   "outputs": [
    {
     "name": "stdout",
     "output_type": "stream",
     "text": [
      "(2517, 47)\n"
     ]
    },
    {
     "data": {
      "text/html": [
       "<div>\n",
       "<style scoped>\n",
       "    .dataframe tbody tr th:only-of-type {\n",
       "        vertical-align: middle;\n",
       "    }\n",
       "\n",
       "    .dataframe tbody tr th {\n",
       "        vertical-align: top;\n",
       "    }\n",
       "\n",
       "    .dataframe thead th {\n",
       "        text-align: right;\n",
       "    }\n",
       "</style>\n",
       "<table border=\"1\" class=\"dataframe\">\n",
       "  <thead>\n",
       "    <tr style=\"text-align: right;\">\n",
       "      <th></th>\n",
       "      <th>BOROUGH_3</th>\n",
       "      <th>BOROUGH_4</th>\n",
       "      <th>BOROUGH_2</th>\n",
       "      <th>BOROUGH_5</th>\n",
       "      <th>BOROUGH_1</th>\n",
       "      <th>NEIGHBORHOOD_OTHER</th>\n",
       "      <th>NEIGHBORHOOD_FLUSHING-NORTH</th>\n",
       "      <th>NEIGHBORHOOD_BEDFORD STUYVESANT</th>\n",
       "      <th>NEIGHBORHOOD_FOREST HILLS</th>\n",
       "      <th>NEIGHBORHOOD_BOROUGH PARK</th>\n",
       "      <th>NEIGHBORHOOD_ASTORIA</th>\n",
       "      <th>BUILDING_CLASS_CATEGORY_01 ONE FAMILY DWELLINGS</th>\n",
       "      <th>TAX_CLASS_AT_PRESENT_1</th>\n",
       "      <th>TAX_CLASS_AT_PRESENT_1D</th>\n",
       "      <th>BLOCK</th>\n",
       "      <th>LOT</th>\n",
       "      <th>BUILDING_CLASS_AT_PRESENT_A9</th>\n",
       "      <th>BUILDING_CLASS_AT_PRESENT_A1</th>\n",
       "      <th>BUILDING_CLASS_AT_PRESENT_A5</th>\n",
       "      <th>BUILDING_CLASS_AT_PRESENT_A0</th>\n",
       "      <th>BUILDING_CLASS_AT_PRESENT_A2</th>\n",
       "      <th>BUILDING_CLASS_AT_PRESENT_A3</th>\n",
       "      <th>BUILDING_CLASS_AT_PRESENT_S1</th>\n",
       "      <th>BUILDING_CLASS_AT_PRESENT_A4</th>\n",
       "      <th>BUILDING_CLASS_AT_PRESENT_A6</th>\n",
       "      <th>BUILDING_CLASS_AT_PRESENT_A8</th>\n",
       "      <th>BUILDING_CLASS_AT_PRESENT_B2</th>\n",
       "      <th>BUILDING_CLASS_AT_PRESENT_S0</th>\n",
       "      <th>BUILDING_CLASS_AT_PRESENT_B3</th>\n",
       "      <th>ZIP_CODE</th>\n",
       "      <th>RESIDENTIAL_UNITS</th>\n",
       "      <th>COMMERCIAL_UNITS</th>\n",
       "      <th>TOTAL_UNITS</th>\n",
       "      <th>GROSS_SQUARE_FEET</th>\n",
       "      <th>YEAR_BUILT</th>\n",
       "      <th>TAX_CLASS_AT_TIME_OF_SALE</th>\n",
       "      <th>BUILDING_CLASS_AT_TIME_OF_SALE_A9</th>\n",
       "      <th>BUILDING_CLASS_AT_TIME_OF_SALE_A1</th>\n",
       "      <th>BUILDING_CLASS_AT_TIME_OF_SALE_A5</th>\n",
       "      <th>BUILDING_CLASS_AT_TIME_OF_SALE_A0</th>\n",
       "      <th>BUILDING_CLASS_AT_TIME_OF_SALE_A2</th>\n",
       "      <th>BUILDING_CLASS_AT_TIME_OF_SALE_A3</th>\n",
       "      <th>BUILDING_CLASS_AT_TIME_OF_SALE_S1</th>\n",
       "      <th>BUILDING_CLASS_AT_TIME_OF_SALE_A4</th>\n",
       "      <th>BUILDING_CLASS_AT_TIME_OF_SALE_A6</th>\n",
       "      <th>BUILDING_CLASS_AT_TIME_OF_SALE_A8</th>\n",
       "      <th>BUILDING_CLASS_AT_TIME_OF_SALE_S0</th>\n",
       "    </tr>\n",
       "  </thead>\n",
       "  <tbody>\n",
       "    <tr>\n",
       "      <th>44</th>\n",
       "      <td>1</td>\n",
       "      <td>0</td>\n",
       "      <td>0</td>\n",
       "      <td>0</td>\n",
       "      <td>0</td>\n",
       "      <td>1</td>\n",
       "      <td>0</td>\n",
       "      <td>0</td>\n",
       "      <td>0</td>\n",
       "      <td>0</td>\n",
       "      <td>0</td>\n",
       "      <td>1</td>\n",
       "      <td>1</td>\n",
       "      <td>0</td>\n",
       "      <td>5495</td>\n",
       "      <td>801</td>\n",
       "      <td>1</td>\n",
       "      <td>0</td>\n",
       "      <td>0</td>\n",
       "      <td>0</td>\n",
       "      <td>0</td>\n",
       "      <td>0</td>\n",
       "      <td>0</td>\n",
       "      <td>0</td>\n",
       "      <td>0</td>\n",
       "      <td>0</td>\n",
       "      <td>0</td>\n",
       "      <td>0</td>\n",
       "      <td>0</td>\n",
       "      <td>11230.0</td>\n",
       "      <td>1.0</td>\n",
       "      <td>0.0</td>\n",
       "      <td>1.0</td>\n",
       "      <td>1325.0</td>\n",
       "      <td>1930.0</td>\n",
       "      <td>1</td>\n",
       "      <td>1</td>\n",
       "      <td>0</td>\n",
       "      <td>0</td>\n",
       "      <td>0</td>\n",
       "      <td>0</td>\n",
       "      <td>0</td>\n",
       "      <td>0</td>\n",
       "      <td>0</td>\n",
       "      <td>0</td>\n",
       "      <td>0</td>\n",
       "      <td>0</td>\n",
       "    </tr>\n",
       "  </tbody>\n",
       "</table>\n",
       "</div>"
      ],
      "text/plain": [
       "    BOROUGH_3  ...  BUILDING_CLASS_AT_TIME_OF_SALE_S0\n",
       "44          1  ...                                  0\n",
       "\n",
       "[1 rows x 47 columns]"
      ]
     },
     "execution_count": 75,
     "metadata": {
      "tags": []
     },
     "output_type": "execute_result"
    }
   ],
   "source": [
    "print(X_train.shape)\n",
    "X_train.head(1)"
   ]
  },
  {
   "cell_type": "code",
   "execution_count": null,
   "metadata": {
    "colab": {},
    "colab_type": "code",
    "id": "xjro_E3ER59d"
   },
   "outputs": [],
   "source": [
    "X_train.isnull().sum()"
   ]
  },
  {
   "cell_type": "markdown",
   "metadata": {
    "colab_type": "text",
    "id": "yKt1N-piQuxn"
   },
   "source": [
    "###Feature Selction with Select K Best"
   ]
  },
  {
   "cell_type": "code",
   "execution_count": 77,
   "metadata": {
    "colab": {
     "base_uri": "https://localhost:8080/",
     "height": 228
    },
    "colab_type": "code",
    "id": "4SddpdGNQqc9",
    "outputId": "75a539b2-fe05-47fe-c480-f2323e869334"
   },
   "outputs": [
    {
     "name": "stderr",
     "output_type": "stream",
     "text": [
      "/usr/local/lib/python3.6/dist-packages/sklearn/feature_selection/univariate_selection.py:299: RuntimeWarning: divide by zero encountered in true_divide\n",
      "  corr /= X_norms\n",
      "/usr/local/lib/python3.6/dist-packages/sklearn/feature_selection/univariate_selection.py:304: RuntimeWarning: invalid value encountered in true_divide\n",
      "  F = corr ** 2 / (1 - corr ** 2) * degrees_of_freedom\n",
      "/usr/local/lib/python3.6/dist-packages/scipy/stats/_distn_infrastructure.py:901: RuntimeWarning: invalid value encountered in greater\n",
      "  return (a < x) & (x < b)\n",
      "/usr/local/lib/python3.6/dist-packages/scipy/stats/_distn_infrastructure.py:901: RuntimeWarning: invalid value encountered in less\n",
      "  return (a < x) & (x < b)\n",
      "/usr/local/lib/python3.6/dist-packages/scipy/stats/_distn_infrastructure.py:1892: RuntimeWarning: invalid value encountered in less_equal\n",
      "  cond2 = cond0 & (x <= _a)\n"
     ]
    },
    {
     "data": {
      "text/plain": [
       "((2517, 15), (647, 15))"
      ]
     },
     "execution_count": 77,
     "metadata": {
      "tags": []
     },
     "output_type": "execute_result"
    }
   ],
   "source": [
    "from sklearn.feature_selection import f_regression, SelectKBest\n",
    "\n",
    "selector = SelectKBest(score_func=f_regression, k=15)\n",
    "\n",
    "X_train_selected = selector.fit_transform(X_train, y_train)\n",
    "X_test_selected = selector.transform(X_test)\n",
    "X_train_selected.shape, X_test_selected.shape\n"
   ]
  },
  {
   "cell_type": "code",
   "execution_count": 78,
   "metadata": {
    "colab": {
     "base_uri": "https://localhost:8080/",
     "height": 34
    },
    "colab_type": "code",
    "id": "g879-qAkhAOk",
    "outputId": "cb30bc13-1a96-4e44-80ae-c36bb4a8bd2b"
   },
   "outputs": [
    {
     "data": {
      "text/plain": [
       "164720.39181292724"
      ]
     },
     "execution_count": 78,
     "metadata": {
      "tags": []
     },
     "output_type": "execute_result"
    }
   ],
   "source": [
    "from sklearn.linear_model import LinearRegression\n",
    "from sklearn.metrics import mean_absolute_error\n",
    "\n",
    "model = LinearRegression()\n",
    "model.fit(X_train_selected, y_train)\n",
    "y_pred = model.predict(X_test_selected)\n",
    "\n",
    "mae = mean_absolute_error(y_test, y_pred)\n",
    "\n",
    "mae"
   ]
  },
  {
   "cell_type": "code",
   "execution_count": null,
   "metadata": {
    "colab": {},
    "colab_type": "code",
    "id": "EMWD01jdjbBi"
   },
   "outputs": [],
   "source": [
    "for k in range(1, len(X_train.columns)+1):\n",
    "    \n",
    "    print(f'{k} features')\n",
    "    \n",
    "    selector = SelectKBest(score_func=f_regression, k=k)\n",
    "    X_train_selected = selector.fit_transform(X_train, y_train)\n",
    "    X_test_selected = selector.transform(X_test)\n",
    "    \n",
    "    model = LinearRegression()\n",
    "    model.fit(X_train_selected, y_train)\n",
    "    y_pred = model.predict(X_test_selected)\n",
    "    \n",
    "    mae = mean_absolute_error(y_test, y_pred)\n",
    "    print(f'Test MAE: ${mae:,.0f} \\n')"
   ]
  },
  {
   "cell_type": "markdown",
   "metadata": {
    "colab_type": "text",
    "id": "trxrUyOTah3I"
   },
   "source": [
    "###Ridge Regression"
   ]
  },
  {
   "cell_type": "code",
   "execution_count": null,
   "metadata": {
    "colab": {},
    "colab_type": "code",
    "id": "_P-xYGfovTyr"
   },
   "outputs": [],
   "source": [
    "test = test.drop(['SALE_PRICE'], axis=1)\n"
   ]
  },
  {
   "cell_type": "code",
   "execution_count": 87,
   "metadata": {
    "colab": {
     "base_uri": "https://localhost:8080/",
     "height": 34
    },
    "colab_type": "code",
    "id": "AMDzvWfaahjS",
    "outputId": "7553e945-81c0-41c7-b7c7-5c567379b862"
   },
   "outputs": [
    {
     "data": {
      "text/plain": [
       "162100.7801332885"
      ]
     },
     "execution_count": 87,
     "metadata": {
      "tags": []
     },
     "output_type": "execute_result"
    }
   ],
   "source": [
    "from sklearn.linear_model import Ridge\n",
    "\n",
    "ridge_reg = Ridge(alpha=1).fit(X_train,y_train)\n",
    "mean_absolute_error(y_test, ridge_reg.predict(X_test))"
   ]
  },
  {
   "cell_type": "code",
   "execution_count": null,
   "metadata": {
    "colab": {},
    "colab_type": "code",
    "id": "v2rwjiVQq3v4"
   },
   "outputs": [],
   "source": []
  }
 ],
 "metadata": {
  "colab": {
   "collapsed_sections": [],
   "include_colab_link": true,
   "name": "Mikio Harman assignment_regression_classification_3.ipynb",
   "provenance": []
  },
  "kernelspec": {
   "display_name": "Python 3",
   "language": "python",
   "name": "python3"
  },
  "language_info": {
   "codemirror_mode": {
    "name": "ipython",
    "version": 3
   },
   "file_extension": ".py",
   "mimetype": "text/x-python",
   "name": "python",
   "nbconvert_exporter": "python",
   "pygments_lexer": "ipython3",
   "version": "3.7.3"
  }
 },
 "nbformat": 4,
 "nbformat_minor": 4
}
